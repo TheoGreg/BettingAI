{
 "cells": [
  {
   "cell_type": "markdown",
   "metadata": {},
   "source": [
    "# Imports"
   ]
  },
  {
   "cell_type": "code",
   "execution_count": 7,
   "metadata": {},
   "outputs": [],
   "source": [
    "import pandas as pd\n",
    "import seaborn as sns\n",
    "import sklearn as sk\n",
    "import datetime as dt\n",
    "import numpy as np\n",
    "\n",
    "# To ignore annoying warning\n",
    "import warnings\n",
    "def ignore_warn(*args, **kwargs):\n",
    "    pass\n",
    "warnings.warn = ignore_warn\n",
    "warnings.filterwarnings(\"ignore\", category=DeprecationWarning)"
   ]
  },
  {
   "cell_type": "markdown",
   "metadata": {},
   "source": [
    "# Data Processing"
   ]
  },
  {
   "cell_type": "markdown",
   "metadata": {},
   "source": [
    "## Selection of features"
   ]
  },
  {
   "cell_type": "code",
   "execution_count": 8,
   "metadata": {},
   "outputs": [],
   "source": [
    "#Selection of existing relevant features per game : events that happened during each game\n",
    "relevant_features = ['Date','HomeTeam','AwayTeam','IWH','IWD','IWA','FTR','FTHG','FTAG','HTHG','HTAG','HS','AS',\n",
    "                     'HST','AST','HF','AF','HY','AY','HR','AR','HC','AC']"
   ]
  },
  {
   "cell_type": "markdown",
   "metadata": {},
   "source": [
    "## Function for data processing of each season : creation of relevant features"
   ]
  },
  {
   "cell_type": "code",
   "execution_count": 9,
   "metadata": {},
   "outputs": [],
   "source": [
    "def create_stat_dico(season: str, league: str) -> pd.DataFrame:\n",
    "    \n",
    "    \"\"\"Compute statistics for a given season all the relevant statistics by going through each game\n",
    "    \n",
    "    Output a Dataframe of each game and each team statistics before the game\n",
    "    \n",
    "    Arguments : name of the season as a string, name of the league as a string\n",
    "    \"\"\"\n",
    "    \n",
    "    #stat_seasons is a 3-layer nested dico :\n",
    "    # stats_season ---> dico of all clubs\n",
    "    # club ---> dico of all week results\n",
    "    # week ---> all stats for that week\n",
    "    # stat ---> value for that specific game\n",
    "     \n",
    "    stats_season = {}\n",
    "    file_name = '../Football_Data/Entire_Data_' + league + '.xlsx'\n",
    "    xls_file = pd.ExcelFile(file_name)\n",
    "    table = xls_file.parse(season)[relevant_features].dropna(axis=0)\n",
    "    \n",
    "    ###Features that describe team before the game\n",
    "    table['week'] = 0\n",
    "    \n",
    "    ###For Home Team (HT)\n",
    "    table['HT_average_points'] = 0.0\n",
    "    table['HT_average_goal_scored_half_1'] = 0.0\n",
    "    table['HT_average_goal_conceeded_half_1'] = 0.0\n",
    "    table['HT_average_goal_scored_half_2'] = 0.0\n",
    "    table['HT_average_goal_conceeded_half_2'] = 0.0\n",
    "    table['HT_average_yellow'] = 0.0\n",
    "    table['HT_average_red'] = 0.0\n",
    "    table['HT_average_shots_per_goal'] = 0.0\n",
    "    table['HT_on_target_precision'] = 0.0\n",
    "    table['HT_average_shots_conceeded'] = 0.0\n",
    "    table['HT_average_fouls_committed'] = 0.0\n",
    "    table['HT_average_fouls_conceeded'] = 0.0\n",
    "    \n",
    "    ###For Away Team (AT)\n",
    "    table['AT_average_points'] = 0.0\n",
    "    table['AT_average_goal_scored_half_1'] = 0.0\n",
    "    table['AT_average_goal_conceeded_half_1'] = 0.0\n",
    "    table['AT_average_goal_scored_half_2'] = 0.0\n",
    "    table['AT_average_goal_conceeded_half_2'] = 0.0\n",
    "    table['AT_average_yellow'] = 0.0\n",
    "    table['AT_average_red'] = 0.0\n",
    "    table['AT_average_shots_per_goal'] = 0.0\n",
    "    table['AT_on_target_precision'] = 0.0\n",
    "    table['AT_average_shots_conceeded'] = 0.0\n",
    "    table['AT_average_fouls_committed'] = 0.0\n",
    "    table['AT_average_fouls_conceeded'] = 0.0\n",
    "    \n",
    "    #Number of weeks available\n",
    "    nb_weeks = int(len(table)/10)\n",
    "    \n",
    "    if season == '2019-2020':\n",
    "        nb_weeks = int(len(table)/10) - 1\n",
    "    \n",
    "    #Getting unique list of club names for this season\n",
    "    clubs = list(set(list(table['HomeTeam'])))\n",
    "\n",
    "    #Creation of the dictionary of stats for each club       \n",
    "    for c in clubs:\n",
    "        \n",
    "        #First layer of dict\n",
    "        stats_season[c] = {}\n",
    "        \n",
    "        #Selection of the games where the club is involved\n",
    "        isHome = table['HomeTeam'] == c\n",
    "        isAway = table['AwayTeam'] == c\n",
    "        selected = table.loc[isHome | isAway]\n",
    "        stats_season[c]['games_index'] = list(selected.index)\n",
    "        \n",
    "        \n",
    "        #Initialisation of week 0 for additive params\n",
    "        stats_season[c][0] = {}\n",
    "        stats_season[c][0]['league_points'] = 0.0\n",
    "        stats_season[c][0]['goals_scored'] = 0.0\n",
    "        stats_season[c][0]['goals_scored_half'] = 0.0\n",
    "        stats_season[c][0]['goals_conceeded'] = 0.0\n",
    "        stats_season[c][0]['goals_conceeded_half'] = 0.0\n",
    "        stats_season[c][0]['yellow'] = 0.0\n",
    "        stats_season[c][0]['red'] = 0.0\n",
    "        stats_season[c][0]['fouls_conceeded'] = 0.0\n",
    "        stats_season[c][0]['fouls_committed'] = 0.0\n",
    "        stats_season[c][0]['shots'] = 0.0\n",
    "        stats_season[c][0]['shots_on_target'] = 0.0\n",
    "        stats_season[c][0]['shots_conceeded'] = 0.0\n",
    "        \n",
    "        #Going through all the weeks of the season\n",
    "        for k in range(1,len(selected)):\n",
    "            \n",
    "            #Second layer of dict\n",
    "            stats_season[c][k] = {}\n",
    "            \n",
    "            #Third layer of dict\n",
    "            if selected['AwayTeam'][selected.index[k-1]] == c :\n",
    "                stats_season[c][k]['is_Home'] = False\n",
    "            else :\n",
    "                stats_season[c][k]['is_Home'] = True\n",
    "            \n",
    "            #Modifying the dataframe to add the statistics before game (based on previous weeks) use as features for ML\n",
    "            if stats_season[c][k]['is_Home']:\n",
    "                table.at[selected.index[k-1],'week'] = k\n",
    "                table.at[selected.index[k-1],'HT_average_points'] = stats_season[c][k-1]['league_points'] / max(k-1.0,1.0)\n",
    "                table.at[selected.index[k-1],'HT_average_goal_scored_half_2'] = (stats_season[c][k-1]['goals_scored'] - stats_season[c][k-1]['goals_scored_half'])/ max(k-1.0,1.0)\n",
    "                table.at[selected.index[k-1],'HT_average_goal_conceeded_half_2'] = (stats_season[c][k-1]['goals_conceeded'] - stats_season[c][k-1]['goals_conceeded_half'])/ max(k-1.0,1.0)\n",
    "                table.at[selected.index[k-1],'HT_average_goal_scored_half_1'] = stats_season[c][k-1]['goals_scored_half'] / max(k-1.0,1.0)\n",
    "                table.at[selected.index[k-1],'HT_average_goal_conceeded_half_1'] =  stats_season[c][k-1]['goals_conceeded_half'] / max(k-1.0,1.0)\n",
    "                table.at[selected.index[k-1],'HT_average_shots_per_goal'] = sum([stats_season[c][j]['shots'] for j in range(k)]) / max(1.0,sum([stats_season[c][i]['goals_scored'] for i in range(k)]))\n",
    "                table.at[selected.index[k-1],'HT_on_target_precision'] = sum([stats_season[c][j]['shots_on_target'] for j in range(k)]) / max(1.0,sum([stats_season[c][i]['shots'] for i in range(k)]))\n",
    "                table.at[selected.index[k-1],'HT_average_shots_conceeded']= stats_season[c][k-1]['shots_conceeded'] / max(k-1.0,1.0)\n",
    "                table.at[selected.index[k-1],'HT_average_yellow'] = stats_season[c][k-1]['yellow'] / max(k-1.0,1.0)\n",
    "                table.at[selected.index[k-1],'HT_average_red'] = stats_season[c][k-1]['red'] / max(k-1.0,1.0)\n",
    "                table.at[selected.index[k-1],'HT_average_fouls_committed'] = stats_season[c][k-1]['fouls_committed'] / max(k-1.0,1.0)\n",
    "                table.at[selected.index[k-1],'HT_average_fouls_conceeded'] = stats_season[c][k-1]['fouls_conceeded'] / max(k-1.0,1.0)\n",
    "            else :\n",
    "                table.at[selected.index[k-1],'AT_average_points'] = stats_season[c][k-1]['league_points'] / max(k-1.0,1.0)\n",
    "                table.at[selected.index[k-1],'AT_average_goal_scored_half_2'] = (stats_season[c][k-1]['goals_scored'] - stats_season[c][k-1]['goals_scored_half'])/ max(k-1.0,1.0)\n",
    "                table.at[selected.index[k-1],'AT_average_goal_conceeded_half_2'] = (stats_season[c][k-1]['goals_conceeded'] - stats_season[c][k-1]['goals_conceeded_half'])/ max(k-1.0,1.0)\n",
    "                table.at[selected.index[k-1],'AT_average_goal_scored_half_1'] = stats_season[c][k-1]['goals_scored_half'] / max(k-1.0,1.0)\n",
    "                table.at[selected.index[k-1],'AT_average_goal_conceeded_half_1'] =  stats_season[c][k-1]['goals_conceeded_half'] / max(k-1.0,1.0)\n",
    "                table.at[selected.index[k-1],'AT_average_shots_per_goal'] = sum([stats_season[c][j]['shots'] for j in range(k)]) / max(1.0,sum([stats_season[c][i]['goals_scored'] for i in range(k)]))\n",
    "                table.at[selected.index[k-1],'AT_on_target_precision'] = sum([stats_season[c][j]['shots_on_target'] for j in range(k)]) / max(1.0,sum([stats_season[c][i]['shots'] for i in range(k)]))\n",
    "                table.at[selected.index[k-1],'AT_average_shots_conceeded']= stats_season[c][k-1]['shots_conceeded'] / max(k-1.0,1.0)\n",
    "                table.at[selected.index[k-1],'AT_average_yellow'] = stats_season[c][k-1]['yellow'] / max(k-1.0,1.0)\n",
    "                table.at[selected.index[k-1],'AT_average_red'] = stats_season[c][k-1]['red'] / max(k-1.0,1.0)\n",
    "                table.at[selected.index[k-1],'AT_average_fouls_committed'] = stats_season[c][k-1]['fouls_committed'] / max(k-1.0,1.0)\n",
    "                table.at[selected.index[k-1],'AT_average_fouls_conceeded'] = stats_season[c][k-1]['fouls_conceeded'] / max(k-1.0,1.0)\n",
    "                \n",
    "            #Gathering the statistics of the game for the club for next games\n",
    "            #League points\n",
    "            if selected['FTR'][selected.index[k-1]] == \"D\" :\n",
    "                stats_season[c][k]['league_points'] = stats_season[c][k-1]['league_points'] + 1.0\n",
    "            elif selected['FTR'][selected.index[k-1]] == \"A\" and selected['AwayTeam'][selected.index[k-1]] == c:\n",
    "                stats_season[c][k]['league_points'] = stats_season[c][k-1]['league_points'] + 3.0\n",
    "            elif selected['FTR'][selected.index[k-1]] == \"H\" and selected['HomeTeam'][selected.index[k-1]] == c:\n",
    "                stats_season[c][k]['league_points'] = stats_season[c][k-1]['league_points'] + 3.0\n",
    "            else:\n",
    "                stats_season[c][k]['league_points'] = stats_season[c][k-1]['league_points']\n",
    "            \n",
    "            #Goals and shots\n",
    "            if stats_season[c][k]['is_Home']:\n",
    "                stats_season[c][k]['goals_scored'] = stats_season[c][k-1]['goals_scored'] + selected['FTHG'][selected.index[k-1]]\n",
    "                stats_season[c][k]['goals_scored_half'] = stats_season[c][k-1]['goals_scored_half'] + selected['HTHG'][selected.index[k-1]]\n",
    "                stats_season[c][k]['goals_conceeded'] = stats_season[c][k-1]['goals_conceeded'] + selected['FTAG'][selected.index[k-1]]\n",
    "                stats_season[c][k]['goals_conceeded_half'] = stats_season[c][k-1]['goals_conceeded_half'] + selected['HTAG'][selected.index[k-1]]\n",
    "                stats_season[c][k]['shots'] = stats_season[c][k-1]['shots'] + selected['HS'][selected.index[k-1]]\n",
    "                stats_season[c][k]['shots_on_target'] = stats_season[c][k-1]['shots_on_target'] + selected['HST'][selected.index[k-1]]\n",
    "                stats_season[c][k]['shots_conceeded'] = stats_season[c][k-1]['shots_conceeded'] + selected['AS'][selected.index[k-1]]\n",
    "            else :\n",
    "                stats_season[c][k]['goals_scored'] = stats_season[c][k-1]['goals_scored'] + selected['FTAG'][selected.index[k-1]]\n",
    "                stats_season[c][k]['goals_scored_half'] = stats_season[c][k-1]['goals_scored_half'] + selected['HTAG'][selected.index[k-1]]\n",
    "                stats_season[c][k]['goals_conceeded'] = stats_season[c][k-1]['goals_conceeded'] + selected['FTHG'][selected.index[k-1]]\n",
    "                stats_season[c][k]['goals_conceeded_half'] = stats_season[c][k-1]['goals_conceeded_half'] + selected['HTHG'][selected.index[k-1]]\n",
    "                stats_season[c][k]['shots'] = stats_season[c][k-1]['shots'] + selected['AS'][selected.index[k-1]]\n",
    "                stats_season[c][k]['shots_on_target'] = stats_season[c][k-1]['shots_on_target'] + selected['AST'][selected.index[k-1]]\n",
    "                stats_season[c][k]['shots_conceeded'] = stats_season[c][k-1]['shots_conceeded'] + selected['HS'][selected.index[k-1]]\n",
    "            \n",
    "            #Fouls and cards\n",
    "            if stats_season[c][k]['is_Home']:\n",
    "                stats_season[c][k]['yellow'] = stats_season[c][k-1]['yellow'] + selected['HY'][selected.index[k-1]]\n",
    "                stats_season[c][k]['red'] = stats_season[c][k-1]['red'] + selected['HR'][selected.index[k-1]]\n",
    "                stats_season[c][k]['fouls_conceeded'] = stats_season[c][k-1]['fouls_conceeded'] + selected['AF'][selected.index[k-1]]\n",
    "                stats_season[c][k]['fouls_committed'] = stats_season[c][k-1]['fouls_committed'] + selected['HF'][selected.index[k-1]]\n",
    "            else:\n",
    "                stats_season[c][k]['yellow'] = stats_season[c][k-1]['yellow'] + selected['AY'][selected.index[k-1]]\n",
    "                stats_season[c][k]['red'] = stats_season[c][k-1]['red'] + selected['AR'][selected.index[k-1]]\n",
    "                stats_season[c][k]['fouls_conceeded'] = stats_season[c][k-1]['fouls_conceeded'] + selected['HF'][selected.index[k-1]]\n",
    "                stats_season[c][k]['fouls_committed'] = stats_season[c][k-1]['fouls_committed'] + selected['AF'][selected.index[k-1]]\n",
    "  \n",
    "    return(table)"
   ]
  },
  {
   "cell_type": "markdown",
   "metadata": {},
   "source": [
    "## Processing selected data"
   ]
  },
  {
   "cell_type": "code",
   "execution_count": 10,
   "metadata": {},
   "outputs": [
    {
     "name": "stdout",
     "output_type": "stream",
     "text": [
      "Processing PL 2012-2013\n",
      "Processing PL 2013-2014\n",
      "Processing PL 2014-2015\n",
      "Processing PL 2015-2016\n",
      "Processing PL 2016-2017\n",
      "Processing PL 2017-2018\n",
      "Processing PL 2018-2019\n",
      "Processing PL 2019-2020\n"
     ]
    }
   ],
   "source": [
    "#List of all features created after processing\n",
    "processed_features = ['week', 'HT_average_points', 'HT_average_goal_scored_half_1',\n",
    "           'HT_average_goal_conceeded_half_1', 'HT_average_goal_scored_half_2',\n",
    "           'HT_average_goal_conceeded_half_2', 'HT_average_yellow', 'HT_average_red',\n",
    "           'HT_average_shots_per_goal', 'HT_on_target_precision',\n",
    "           'HT_average_shots_conceeded', 'HT_average_fouls_committed',\n",
    "           'HT_average_fouls_conceeded', \n",
    "           'AT_average_points', 'AT_average_goal_scored_half_1',\n",
    "           'AT_average_goal_conceeded_half_1', 'AT_average_goal_scored_half_2',\n",
    "           'AT_average_goal_conceeded_half_2', 'AT_average_yellow', 'AT_average_red',\n",
    "           'AT_average_shots_per_goal', 'AT_on_target_precision',\n",
    "           'AT_average_shots_conceeded', 'AT_average_fouls_committed',\n",
    "           'AT_average_fouls_conceeded', 'FTR','IWH','IWD','IWA']\n",
    "\n",
    "#Leagues selected\n",
    "chosen_leagues = ['PL'] # 'Ligue1','LaLiga','SerieA','Bundesliga'\n",
    "\n",
    "#Seasons selected\n",
    "start_year = 2012\n",
    "end_year = 2020\n",
    "\n",
    "data_seasons = {}\n",
    "\n",
    "for i in range(start_year,end_year):\n",
    "    \n",
    "    season = str(i) + '-' + str(i + 1)\n",
    "    \n",
    "    data_seasons[season] = {}\n",
    "    \n",
    "    for league in chosen_leagues:\n",
    "        \n",
    "        print(\"Processing \" + league + ' ' + str(i) + '-' + str(i+1))\n",
    "\n",
    "        table = create_stat_dico(season, league)\n",
    "\n",
    "        full_table_add = table[processed_features]\n",
    " \n",
    "        data_seasons[season][league] = full_table_add\n"
   ]
  },
  {
   "cell_type": "markdown",
   "metadata": {},
   "source": [
    "## Visualize data final format"
   ]
  },
  {
   "cell_type": "code",
   "execution_count": 11,
   "metadata": {},
   "outputs": [
    {
     "data": {
      "text/html": [
       "<div>\n",
       "<style scoped>\n",
       "    .dataframe tbody tr th:only-of-type {\n",
       "        vertical-align: middle;\n",
       "    }\n",
       "\n",
       "    .dataframe tbody tr th {\n",
       "        vertical-align: top;\n",
       "    }\n",
       "\n",
       "    .dataframe thead th {\n",
       "        text-align: right;\n",
       "    }\n",
       "</style>\n",
       "<table border=\"1\" class=\"dataframe\">\n",
       "  <thead>\n",
       "    <tr style=\"text-align: right;\">\n",
       "      <th></th>\n",
       "      <th>week</th>\n",
       "      <th>HT_average_points</th>\n",
       "      <th>HT_average_goal_scored_half_1</th>\n",
       "      <th>HT_average_goal_conceeded_half_1</th>\n",
       "      <th>HT_average_goal_scored_half_2</th>\n",
       "      <th>HT_average_goal_conceeded_half_2</th>\n",
       "      <th>HT_average_yellow</th>\n",
       "      <th>HT_average_red</th>\n",
       "      <th>HT_average_shots_per_goal</th>\n",
       "      <th>HT_on_target_precision</th>\n",
       "      <th>...</th>\n",
       "      <th>AT_average_red</th>\n",
       "      <th>AT_average_shots_per_goal</th>\n",
       "      <th>AT_on_target_precision</th>\n",
       "      <th>AT_average_shots_conceeded</th>\n",
       "      <th>AT_average_fouls_committed</th>\n",
       "      <th>AT_average_fouls_conceeded</th>\n",
       "      <th>FTR</th>\n",
       "      <th>IWH</th>\n",
       "      <th>IWD</th>\n",
       "      <th>IWA</th>\n",
       "    </tr>\n",
       "  </thead>\n",
       "  <tbody>\n",
       "    <tr>\n",
       "      <th>0</th>\n",
       "      <td>1</td>\n",
       "      <td>0.0</td>\n",
       "      <td>0.0</td>\n",
       "      <td>0.0</td>\n",
       "      <td>0.0</td>\n",
       "      <td>0.0</td>\n",
       "      <td>0.0</td>\n",
       "      <td>0.0</td>\n",
       "      <td>0.0</td>\n",
       "      <td>0.0</td>\n",
       "      <td>...</td>\n",
       "      <td>0.0</td>\n",
       "      <td>0.0</td>\n",
       "      <td>0.0</td>\n",
       "      <td>0.0</td>\n",
       "      <td>0.0</td>\n",
       "      <td>0.0</td>\n",
       "      <td>H</td>\n",
       "      <td>1.15</td>\n",
       "      <td>8.00</td>\n",
       "      <td>18.00</td>\n",
       "    </tr>\n",
       "    <tr>\n",
       "      <th>1</th>\n",
       "      <td>1</td>\n",
       "      <td>0.0</td>\n",
       "      <td>0.0</td>\n",
       "      <td>0.0</td>\n",
       "      <td>0.0</td>\n",
       "      <td>0.0</td>\n",
       "      <td>0.0</td>\n",
       "      <td>0.0</td>\n",
       "      <td>0.0</td>\n",
       "      <td>0.0</td>\n",
       "      <td>...</td>\n",
       "      <td>0.0</td>\n",
       "      <td>0.0</td>\n",
       "      <td>0.0</td>\n",
       "      <td>0.0</td>\n",
       "      <td>0.0</td>\n",
       "      <td>0.0</td>\n",
       "      <td>A</td>\n",
       "      <td>11.00</td>\n",
       "      <td>6.10</td>\n",
       "      <td>1.25</td>\n",
       "    </tr>\n",
       "    <tr>\n",
       "      <th>2</th>\n",
       "      <td>1</td>\n",
       "      <td>0.0</td>\n",
       "      <td>0.0</td>\n",
       "      <td>0.0</td>\n",
       "      <td>0.0</td>\n",
       "      <td>0.0</td>\n",
       "      <td>0.0</td>\n",
       "      <td>0.0</td>\n",
       "      <td>0.0</td>\n",
       "      <td>0.0</td>\n",
       "      <td>...</td>\n",
       "      <td>0.0</td>\n",
       "      <td>0.0</td>\n",
       "      <td>0.0</td>\n",
       "      <td>0.0</td>\n",
       "      <td>0.0</td>\n",
       "      <td>0.0</td>\n",
       "      <td>D</td>\n",
       "      <td>1.97</td>\n",
       "      <td>3.55</td>\n",
       "      <td>3.80</td>\n",
       "    </tr>\n",
       "    <tr>\n",
       "      <th>3</th>\n",
       "      <td>1</td>\n",
       "      <td>0.0</td>\n",
       "      <td>0.0</td>\n",
       "      <td>0.0</td>\n",
       "      <td>0.0</td>\n",
       "      <td>0.0</td>\n",
       "      <td>0.0</td>\n",
       "      <td>0.0</td>\n",
       "      <td>0.0</td>\n",
       "      <td>0.0</td>\n",
       "      <td>...</td>\n",
       "      <td>0.0</td>\n",
       "      <td>0.0</td>\n",
       "      <td>0.0</td>\n",
       "      <td>0.0</td>\n",
       "      <td>0.0</td>\n",
       "      <td>0.0</td>\n",
       "      <td>H</td>\n",
       "      <td>2.65</td>\n",
       "      <td>3.20</td>\n",
       "      <td>2.75</td>\n",
       "    </tr>\n",
       "    <tr>\n",
       "      <th>4</th>\n",
       "      <td>1</td>\n",
       "      <td>0.0</td>\n",
       "      <td>0.0</td>\n",
       "      <td>0.0</td>\n",
       "      <td>0.0</td>\n",
       "      <td>0.0</td>\n",
       "      <td>0.0</td>\n",
       "      <td>0.0</td>\n",
       "      <td>0.0</td>\n",
       "      <td>0.0</td>\n",
       "      <td>...</td>\n",
       "      <td>0.0</td>\n",
       "      <td>0.0</td>\n",
       "      <td>0.0</td>\n",
       "      <td>0.0</td>\n",
       "      <td>0.0</td>\n",
       "      <td>0.0</td>\n",
       "      <td>D</td>\n",
       "      <td>3.10</td>\n",
       "      <td>3.20</td>\n",
       "      <td>2.40</td>\n",
       "    </tr>\n",
       "    <tr>\n",
       "      <th>...</th>\n",
       "      <td>...</td>\n",
       "      <td>...</td>\n",
       "      <td>...</td>\n",
       "      <td>...</td>\n",
       "      <td>...</td>\n",
       "      <td>...</td>\n",
       "      <td>...</td>\n",
       "      <td>...</td>\n",
       "      <td>...</td>\n",
       "      <td>...</td>\n",
       "      <td>...</td>\n",
       "      <td>...</td>\n",
       "      <td>...</td>\n",
       "      <td>...</td>\n",
       "      <td>...</td>\n",
       "      <td>...</td>\n",
       "      <td>...</td>\n",
       "      <td>...</td>\n",
       "      <td>...</td>\n",
       "      <td>...</td>\n",
       "      <td>...</td>\n",
       "    </tr>\n",
       "    <tr>\n",
       "      <th>255</th>\n",
       "      <td>0</td>\n",
       "      <td>0.0</td>\n",
       "      <td>0.0</td>\n",
       "      <td>0.0</td>\n",
       "      <td>0.0</td>\n",
       "      <td>0.0</td>\n",
       "      <td>0.0</td>\n",
       "      <td>0.0</td>\n",
       "      <td>0.0</td>\n",
       "      <td>0.0</td>\n",
       "      <td>...</td>\n",
       "      <td>0.0</td>\n",
       "      <td>0.0</td>\n",
       "      <td>0.0</td>\n",
       "      <td>0.0</td>\n",
       "      <td>0.0</td>\n",
       "      <td>0.0</td>\n",
       "      <td>A</td>\n",
       "      <td>9.60</td>\n",
       "      <td>5.50</td>\n",
       "      <td>1.30</td>\n",
       "    </tr>\n",
       "    <tr>\n",
       "      <th>256</th>\n",
       "      <td>0</td>\n",
       "      <td>0.0</td>\n",
       "      <td>0.0</td>\n",
       "      <td>0.0</td>\n",
       "      <td>0.0</td>\n",
       "      <td>0.0</td>\n",
       "      <td>0.0</td>\n",
       "      <td>0.0</td>\n",
       "      <td>0.0</td>\n",
       "      <td>0.0</td>\n",
       "      <td>...</td>\n",
       "      <td>0.0</td>\n",
       "      <td>0.0</td>\n",
       "      <td>0.0</td>\n",
       "      <td>0.0</td>\n",
       "      <td>0.0</td>\n",
       "      <td>0.0</td>\n",
       "      <td>A</td>\n",
       "      <td>3.95</td>\n",
       "      <td>3.80</td>\n",
       "      <td>1.87</td>\n",
       "    </tr>\n",
       "    <tr>\n",
       "      <th>257</th>\n",
       "      <td>0</td>\n",
       "      <td>0.0</td>\n",
       "      <td>0.0</td>\n",
       "      <td>0.0</td>\n",
       "      <td>0.0</td>\n",
       "      <td>0.0</td>\n",
       "      <td>0.0</td>\n",
       "      <td>0.0</td>\n",
       "      <td>0.0</td>\n",
       "      <td>0.0</td>\n",
       "      <td>...</td>\n",
       "      <td>0.0</td>\n",
       "      <td>0.0</td>\n",
       "      <td>0.0</td>\n",
       "      <td>0.0</td>\n",
       "      <td>0.0</td>\n",
       "      <td>0.0</td>\n",
       "      <td>H</td>\n",
       "      <td>1.45</td>\n",
       "      <td>4.50</td>\n",
       "      <td>7.00</td>\n",
       "    </tr>\n",
       "    <tr>\n",
       "      <th>258</th>\n",
       "      <td>0</td>\n",
       "      <td>0.0</td>\n",
       "      <td>0.0</td>\n",
       "      <td>0.0</td>\n",
       "      <td>0.0</td>\n",
       "      <td>0.0</td>\n",
       "      <td>0.0</td>\n",
       "      <td>0.0</td>\n",
       "      <td>0.0</td>\n",
       "      <td>0.0</td>\n",
       "      <td>...</td>\n",
       "      <td>0.0</td>\n",
       "      <td>0.0</td>\n",
       "      <td>0.0</td>\n",
       "      <td>0.0</td>\n",
       "      <td>0.0</td>\n",
       "      <td>0.0</td>\n",
       "      <td>A</td>\n",
       "      <td>1.85</td>\n",
       "      <td>3.60</td>\n",
       "      <td>4.30</td>\n",
       "    </tr>\n",
       "    <tr>\n",
       "      <th>259</th>\n",
       "      <td>0</td>\n",
       "      <td>0.0</td>\n",
       "      <td>0.0</td>\n",
       "      <td>0.0</td>\n",
       "      <td>0.0</td>\n",
       "      <td>0.0</td>\n",
       "      <td>0.0</td>\n",
       "      <td>0.0</td>\n",
       "      <td>0.0</td>\n",
       "      <td>0.0</td>\n",
       "      <td>...</td>\n",
       "      <td>0.0</td>\n",
       "      <td>0.0</td>\n",
       "      <td>0.0</td>\n",
       "      <td>0.0</td>\n",
       "      <td>0.0</td>\n",
       "      <td>0.0</td>\n",
       "      <td>H</td>\n",
       "      <td>1.13</td>\n",
       "      <td>9.10</td>\n",
       "      <td>17.00</td>\n",
       "    </tr>\n",
       "  </tbody>\n",
       "</table>\n",
       "<p>260 rows × 29 columns</p>\n",
       "</div>"
      ],
      "text/plain": [
       "     week  HT_average_points  HT_average_goal_scored_half_1  \\\n",
       "0       1                0.0                            0.0   \n",
       "1       1                0.0                            0.0   \n",
       "2       1                0.0                            0.0   \n",
       "3       1                0.0                            0.0   \n",
       "4       1                0.0                            0.0   \n",
       "..    ...                ...                            ...   \n",
       "255     0                0.0                            0.0   \n",
       "256     0                0.0                            0.0   \n",
       "257     0                0.0                            0.0   \n",
       "258     0                0.0                            0.0   \n",
       "259     0                0.0                            0.0   \n",
       "\n",
       "     HT_average_goal_conceeded_half_1  HT_average_goal_scored_half_2  \\\n",
       "0                                 0.0                            0.0   \n",
       "1                                 0.0                            0.0   \n",
       "2                                 0.0                            0.0   \n",
       "3                                 0.0                            0.0   \n",
       "4                                 0.0                            0.0   \n",
       "..                                ...                            ...   \n",
       "255                               0.0                            0.0   \n",
       "256                               0.0                            0.0   \n",
       "257                               0.0                            0.0   \n",
       "258                               0.0                            0.0   \n",
       "259                               0.0                            0.0   \n",
       "\n",
       "     HT_average_goal_conceeded_half_2  HT_average_yellow  HT_average_red  \\\n",
       "0                                 0.0                0.0             0.0   \n",
       "1                                 0.0                0.0             0.0   \n",
       "2                                 0.0                0.0             0.0   \n",
       "3                                 0.0                0.0             0.0   \n",
       "4                                 0.0                0.0             0.0   \n",
       "..                                ...                ...             ...   \n",
       "255                               0.0                0.0             0.0   \n",
       "256                               0.0                0.0             0.0   \n",
       "257                               0.0                0.0             0.0   \n",
       "258                               0.0                0.0             0.0   \n",
       "259                               0.0                0.0             0.0   \n",
       "\n",
       "     HT_average_shots_per_goal  HT_on_target_precision  ...  AT_average_red  \\\n",
       "0                          0.0                     0.0  ...             0.0   \n",
       "1                          0.0                     0.0  ...             0.0   \n",
       "2                          0.0                     0.0  ...             0.0   \n",
       "3                          0.0                     0.0  ...             0.0   \n",
       "4                          0.0                     0.0  ...             0.0   \n",
       "..                         ...                     ...  ...             ...   \n",
       "255                        0.0                     0.0  ...             0.0   \n",
       "256                        0.0                     0.0  ...             0.0   \n",
       "257                        0.0                     0.0  ...             0.0   \n",
       "258                        0.0                     0.0  ...             0.0   \n",
       "259                        0.0                     0.0  ...             0.0   \n",
       "\n",
       "     AT_average_shots_per_goal  AT_on_target_precision  \\\n",
       "0                          0.0                     0.0   \n",
       "1                          0.0                     0.0   \n",
       "2                          0.0                     0.0   \n",
       "3                          0.0                     0.0   \n",
       "4                          0.0                     0.0   \n",
       "..                         ...                     ...   \n",
       "255                        0.0                     0.0   \n",
       "256                        0.0                     0.0   \n",
       "257                        0.0                     0.0   \n",
       "258                        0.0                     0.0   \n",
       "259                        0.0                     0.0   \n",
       "\n",
       "     AT_average_shots_conceeded  AT_average_fouls_committed  \\\n",
       "0                           0.0                         0.0   \n",
       "1                           0.0                         0.0   \n",
       "2                           0.0                         0.0   \n",
       "3                           0.0                         0.0   \n",
       "4                           0.0                         0.0   \n",
       "..                          ...                         ...   \n",
       "255                         0.0                         0.0   \n",
       "256                         0.0                         0.0   \n",
       "257                         0.0                         0.0   \n",
       "258                         0.0                         0.0   \n",
       "259                         0.0                         0.0   \n",
       "\n",
       "     AT_average_fouls_conceeded  FTR    IWH   IWD    IWA  \n",
       "0                           0.0    H   1.15  8.00  18.00  \n",
       "1                           0.0    A  11.00  6.10   1.25  \n",
       "2                           0.0    D   1.97  3.55   3.80  \n",
       "3                           0.0    H   2.65  3.20   2.75  \n",
       "4                           0.0    D   3.10  3.20   2.40  \n",
       "..                          ...  ...    ...   ...    ...  \n",
       "255                         0.0    A   9.60  5.50   1.30  \n",
       "256                         0.0    A   3.95  3.80   1.87  \n",
       "257                         0.0    H   1.45  4.50   7.00  \n",
       "258                         0.0    A   1.85  3.60   4.30  \n",
       "259                         0.0    H   1.13  9.10  17.00  \n",
       "\n",
       "[260 rows x 29 columns]"
      ]
     },
     "execution_count": 11,
     "metadata": {},
     "output_type": "execute_result"
    }
   ],
   "source": [
    "#Visualize the format of dataframe\n",
    "full_table_add"
   ]
  },
  {
   "cell_type": "markdown",
   "metadata": {},
   "source": [
    "# Defining train and test datasets"
   ]
  },
  {
   "cell_type": "markdown",
   "metadata": {},
   "source": [
    "## Training dataset"
   ]
  },
  {
   "cell_type": "code",
   "execution_count": 12,
   "metadata": {},
   "outputs": [
    {
     "name": "stdout",
     "output_type": "stream",
     "text": [
      "The model will train on : ['PL']\n",
      "The model will train on 848 matches from 2012-2013 to 2016-2017 !\n"
     ]
    }
   ],
   "source": [
    "#Selection of seasons used to train\n",
    "train_start_year = 2012\n",
    "train_end_year = 2017\n",
    "\n",
    "train_chosen_leagues = ['PL'] #'Ligue1','LaLiga','SerieA','Bundesliga'\n",
    "\n",
    "train_df = pd.DataFrame(columns = processed_features)\n",
    "\n",
    "for i in range(train_start_year,train_end_year):\n",
    "    \n",
    "    season = str(i) + '-' + str(i + 1)\n",
    "    \n",
    "    for league in train_chosen_leagues:\n",
    "        \n",
    "        table = data_seasons[season][league]\n",
    "        \n",
    "        two_concat = [train_df, table]\n",
    "        \n",
    "        train_df = pd.concat(two_concat)\n",
    "       \n",
    "\n",
    "#Starting week of training\n",
    "start_week_train = 20\n",
    "valid = train_df['week'] > start_week_train\n",
    "train_df = train_df[valid]\n",
    "        \n",
    "print(\"The model will train on : \" + str(train_chosen_leagues))\n",
    "        \n",
    "print(\"The model will train on \" + str(len(train_df)) + \" matches from \" + str(train_start_year) + '-' + str(train_start_year+1) + \" to \" + str(train_end_year-1) + '-' + str(train_end_year) + \" !\")\n",
    "\n",
    "#Choice of the features\n",
    "features = ['HT_average_goal_scored_half_1',\n",
    "           'HT_average_goal_conceeded_half_1', 'HT_average_goal_scored_half_2',\n",
    "           'HT_average_goal_conceeded_half_2',\n",
    "           'HT_average_shots_per_goal', 'HT_on_target_precision',\n",
    "           'HT_average_shots_conceeded',\n",
    "           'AT_average_goal_scored_half_1',\n",
    "           'AT_average_goal_conceeded_half_1', 'AT_average_goal_scored_half_2',\n",
    "           'AT_average_goal_conceeded_half_2',\n",
    "           'AT_average_shots_per_goal', 'AT_on_target_precision',\n",
    "           'AT_average_shots_conceeded']\n",
    "\n",
    "n_features = len(features)\n",
    "\n",
    "train_x = train_df[features]\n",
    "\n",
    "train_y = train_df['FTR']\n"
   ]
  },
  {
   "cell_type": "markdown",
   "metadata": {},
   "source": [
    "## Testing dataset"
   ]
  },
  {
   "cell_type": "code",
   "execution_count": 13,
   "metadata": {},
   "outputs": [
    {
     "name": "stdout",
     "output_type": "stream",
     "text": [
      "The model will test on : ['PL']\n",
      "The model will test on 389 matches from 2017-2018 to 2019-2020 !\n"
     ]
    }
   ],
   "source": [
    "#Selection of seasons used to test\n",
    "test_start_year = train_end_year\n",
    "test_end_year = 2020\n",
    "\n",
    "test_df = pd.DataFrame(columns = processed_features)\n",
    "\n",
    "test_chosen_leagues = ['PL'] # 'Ligue1','LaLiga','SerieA','Bundesliga'\n",
    "\n",
    "for i in range(test_start_year, test_end_year):\n",
    "    \n",
    "    season = str(i) + '-' + str(i + 1)\n",
    "    \n",
    "    for league in test_chosen_leagues:\n",
    "        \n",
    "        table = data_seasons[season][league]\n",
    "        \n",
    "        two_concat = [test_df, table]\n",
    "        \n",
    "        test_df = pd.concat(two_concat)\n",
    "\n",
    "#Starting week of training\n",
    "start_week_test = 20\n",
    "valid = test_df['week'] > start_week_test\n",
    "test_df = test_df[valid]\n",
    "\n",
    "#Choice of the features (we first delete the odds)\n",
    "test_x = test_df[features]\n",
    "\n",
    "#Labels for training\n",
    "test_y = test_df['FTR']\n",
    "\n",
    "\n",
    "print(\"The model will test on : \" + str(test_chosen_leagues))\n",
    "      \n",
    "print(\"The model will test on \" + str(len(test_df)) + \" matches from \" + str(test_start_year) + '-' + str(test_start_year+1) + \" to \" + str(test_end_year-1) + '-' + str(test_end_year) + \" !\")\n",
    "\n"
   ]
  },
  {
   "cell_type": "markdown",
   "metadata": {},
   "source": [
    "# Let's apply classical ML algorithms"
   ]
  },
  {
   "cell_type": "markdown",
   "metadata": {},
   "source": [
    "## Importing models"
   ]
  },
  {
   "cell_type": "code",
   "execution_count": 16,
   "metadata": {},
   "outputs": [],
   "source": [
    "#Dealing with format and metrics\n",
    "from sklearn.model_selection import GridSearchCV, train_test_split\n",
    "from sklearn.metrics import accuracy_score, confusion_matrix\n",
    "\n",
    "#Regression model\n",
    "from sklearn.linear_model import LogisticRegression\n",
    "from sklearn.gaussian_process import GaussianProcessClassifier\n",
    "from sklearn.gaussian_process.kernels import RBF\n",
    "\n",
    "#Classical classifiers\n",
    "from sklearn import svm\n",
    "from sklearn.tree import DecisionTreeClassifier\n",
    "\n",
    "#Ensemblist models\n",
    "from sklearn.ensemble import AdaBoostClassifier\n",
    "from sklearn.ensemble import RandomForestClassifier\n",
    "\n",
    "#Neural Networks\n",
    "from sklearn.neural_network import MLPClassifier"
   ]
  },
  {
   "cell_type": "markdown",
   "metadata": {},
   "source": [
    "## Training and testing : getting probabilities for test data"
   ]
  },
  {
   "cell_type": "markdown",
   "metadata": {},
   "source": [
    "### GridSearch on Random Forest"
   ]
  },
  {
   "cell_type": "code",
   "execution_count": 17,
   "metadata": {},
   "outputs": [
    {
     "name": "stdout",
     "output_type": "stream",
     "text": [
      "Training RF ...\n",
      "Fitting 5 folds for each of 8 candidates, totalling 40 fits\n",
      "[Parallel(n_jobs=1)]: Using backend SequentialBackend with 1 concurrent workers.\n",
      "[CV] max_depth=25, min_samples_split=5, n_estimators=100 .............\n",
      "[CV]  max_depth=25, min_samples_split=5, n_estimators=100, score=0.424, total=   0.2s\n",
      "[Parallel(n_jobs=1)]: Done   1 out of   1 | elapsed:    0.2s remaining:    0.0s\n",
      "[CV] max_depth=25, min_samples_split=5, n_estimators=100 .............\n",
      "[CV]  max_depth=25, min_samples_split=5, n_estimators=100, score=0.547, total=   0.2s\n",
      "[Parallel(n_jobs=1)]: Done   2 out of   2 | elapsed:    0.4s remaining:    0.0s\n",
      "[CV] max_depth=25, min_samples_split=5, n_estimators=100 .............\n",
      "[CV]  max_depth=25, min_samples_split=5, n_estimators=100, score=0.506, total=   0.2s\n",
      "[Parallel(n_jobs=1)]: Done   3 out of   3 | elapsed:    0.6s remaining:    0.0s\n",
      "[CV] max_depth=25, min_samples_split=5, n_estimators=100 .............\n",
      "[CV]  max_depth=25, min_samples_split=5, n_estimators=100, score=0.491, total=   0.2s\n",
      "[Parallel(n_jobs=1)]: Done   4 out of   4 | elapsed:    0.8s remaining:    0.0s\n",
      "[CV] max_depth=25, min_samples_split=5, n_estimators=100 .............\n",
      "[CV]  max_depth=25, min_samples_split=5, n_estimators=100, score=0.527, total=   0.2s\n",
      "[Parallel(n_jobs=1)]: Done   5 out of   5 | elapsed:    0.9s remaining:    0.0s\n",
      "[CV] max_depth=25, min_samples_split=5, n_estimators=200 .............\n",
      "[CV]  max_depth=25, min_samples_split=5, n_estimators=200, score=0.429, total=   0.4s\n",
      "[Parallel(n_jobs=1)]: Done   6 out of   6 | elapsed:    1.3s remaining:    0.0s\n",
      "[CV] max_depth=25, min_samples_split=5, n_estimators=200 .............\n",
      "[CV]  max_depth=25, min_samples_split=5, n_estimators=200, score=0.541, total=   0.4s\n",
      "[Parallel(n_jobs=1)]: Done   7 out of   7 | elapsed:    1.7s remaining:    0.0s\n",
      "[CV] max_depth=25, min_samples_split=5, n_estimators=200 .............\n",
      "[CV]  max_depth=25, min_samples_split=5, n_estimators=200, score=0.518, total=   0.4s\n",
      "[Parallel(n_jobs=1)]: Done   8 out of   8 | elapsed:    2.0s remaining:    0.0s\n",
      "[CV] max_depth=25, min_samples_split=5, n_estimators=200 .............\n",
      "[CV]  max_depth=25, min_samples_split=5, n_estimators=200, score=0.485, total=   0.4s\n",
      "[Parallel(n_jobs=1)]: Done   9 out of   9 | elapsed:    2.4s remaining:    0.0s\n",
      "[CV] max_depth=25, min_samples_split=5, n_estimators=200 .............\n",
      "[CV]  max_depth=25, min_samples_split=5, n_estimators=200, score=0.527, total=   0.4s\n",
      "[Parallel(n_jobs=1)]: Done  10 out of  10 | elapsed:    2.8s remaining:    0.0s\n",
      "[CV] max_depth=25, min_samples_split=10, n_estimators=100 ............\n",
      "[CV]  max_depth=25, min_samples_split=10, n_estimators=100, score=0.394, total=   0.2s\n",
      "[Parallel(n_jobs=1)]: Done  11 out of  11 | elapsed:    2.9s remaining:    0.0s\n",
      "[CV] max_depth=25, min_samples_split=10, n_estimators=100 ............\n",
      "[CV]  max_depth=25, min_samples_split=10, n_estimators=100, score=0.547, total=   0.2s\n",
      "[Parallel(n_jobs=1)]: Done  12 out of  12 | elapsed:    3.1s remaining:    0.0s\n",
      "[CV] max_depth=25, min_samples_split=10, n_estimators=100 ............\n",
      "[CV]  max_depth=25, min_samples_split=10, n_estimators=100, score=0.524, total=   0.2s\n",
      "[Parallel(n_jobs=1)]: Done  13 out of  13 | elapsed:    3.3s remaining:    0.0s\n",
      "[CV] max_depth=25, min_samples_split=10, n_estimators=100 ............\n",
      "[CV]  max_depth=25, min_samples_split=10, n_estimators=100, score=0.491, total=   0.2s\n",
      "[Parallel(n_jobs=1)]: Done  14 out of  14 | elapsed:    3.5s remaining:    0.0s\n",
      "[CV] max_depth=25, min_samples_split=10, n_estimators=100 ............\n",
      "[CV]  max_depth=25, min_samples_split=10, n_estimators=100, score=0.533, total=   0.2s\n",
      "[Parallel(n_jobs=1)]: Done  15 out of  15 | elapsed:    3.6s remaining:    0.0s\n",
      "[CV] max_depth=25, min_samples_split=10, n_estimators=200 ............\n",
      "[CV]  max_depth=25, min_samples_split=10, n_estimators=200, score=0.441, total=   0.3s\n",
      "[Parallel(n_jobs=1)]: Done  16 out of  16 | elapsed:    4.0s remaining:    0.0s\n",
      "[CV] max_depth=25, min_samples_split=10, n_estimators=200 ............\n",
      "[CV]  max_depth=25, min_samples_split=10, n_estimators=200, score=0.559, total=   0.3s\n",
      "[Parallel(n_jobs=1)]: Done  17 out of  17 | elapsed:    4.3s remaining:    0.0s\n",
      "[CV] max_depth=25, min_samples_split=10, n_estimators=200 ............\n",
      "[CV]  max_depth=25, min_samples_split=10, n_estimators=200, score=0.494, total=   0.4s\n",
      "[Parallel(n_jobs=1)]: Done  18 out of  18 | elapsed:    4.7s remaining:    0.0s\n",
      "[CV] max_depth=25, min_samples_split=10, n_estimators=200 ............\n",
      "[CV]  max_depth=25, min_samples_split=10, n_estimators=200, score=0.491, total=   0.3s\n",
      "[Parallel(n_jobs=1)]: Done  19 out of  19 | elapsed:    5.0s remaining:    0.0s\n",
      "[CV] max_depth=25, min_samples_split=10, n_estimators=200 ............\n",
      "[CV]  max_depth=25, min_samples_split=10, n_estimators=200, score=0.544, total=   0.3s\n",
      "[Parallel(n_jobs=1)]: Done  20 out of  20 | elapsed:    5.4s remaining:    0.0s\n",
      "[CV] max_depth=100, min_samples_split=5, n_estimators=100 ............\n",
      "[CV]  max_depth=100, min_samples_split=5, n_estimators=100, score=0.359, total=   0.2s\n",
      "[Parallel(n_jobs=1)]: Done  21 out of  21 | elapsed:    5.6s remaining:    0.0s\n",
      "[CV] max_depth=100, min_samples_split=5, n_estimators=100 ............\n",
      "[CV]  max_depth=100, min_samples_split=5, n_estimators=100, score=0.541, total=   0.2s\n",
      "[Parallel(n_jobs=1)]: Done  22 out of  22 | elapsed:    5.8s remaining:    0.0s\n",
      "[CV] max_depth=100, min_samples_split=5, n_estimators=100 ............\n",
      "[CV]  max_depth=100, min_samples_split=5, n_estimators=100, score=0.500, total=   0.2s\n",
      "[Parallel(n_jobs=1)]: Done  23 out of  23 | elapsed:    5.9s remaining:    0.0s\n",
      "[CV] max_depth=100, min_samples_split=5, n_estimators=100 ............\n",
      "[CV]  max_depth=100, min_samples_split=5, n_estimators=100, score=0.462, total=   0.2s\n",
      "[Parallel(n_jobs=1)]: Done  24 out of  24 | elapsed:    6.1s remaining:    0.0s\n",
      "[CV] max_depth=100, min_samples_split=5, n_estimators=100 ............\n",
      "[CV]  max_depth=100, min_samples_split=5, n_estimators=100, score=0.527, total=   0.2s\n",
      "[Parallel(n_jobs=1)]: Done  25 out of  25 | elapsed:    6.3s remaining:    0.0s\n",
      "[CV] max_depth=100, min_samples_split=5, n_estimators=200 ............\n",
      "[CV]  max_depth=100, min_samples_split=5, n_estimators=200, score=0.424, total=   0.4s\n",
      "[Parallel(n_jobs=1)]: Done  26 out of  26 | elapsed:    6.7s remaining:    0.0s\n",
      "[CV] max_depth=100, min_samples_split=5, n_estimators=200 ............\n",
      "[CV]  max_depth=100, min_samples_split=5, n_estimators=200, score=0.559, total=   0.4s\n",
      "[Parallel(n_jobs=1)]: Done  27 out of  27 | elapsed:    7.0s remaining:    0.0s\n",
      "[CV] max_depth=100, min_samples_split=5, n_estimators=200 ............\n",
      "[CV]  max_depth=100, min_samples_split=5, n_estimators=200, score=0.512, total=   0.4s\n",
      "[Parallel(n_jobs=1)]: Done  28 out of  28 | elapsed:    7.4s remaining:    0.0s\n",
      "[CV] max_depth=100, min_samples_split=5, n_estimators=200 ............\n",
      "[CV]  max_depth=100, min_samples_split=5, n_estimators=200, score=0.509, total=   0.4s\n",
      "[Parallel(n_jobs=1)]: Done  29 out of  29 | elapsed:    7.8s remaining:    0.0s\n",
      "[CV] max_depth=100, min_samples_split=5, n_estimators=200 ............\n",
      "[CV]  max_depth=100, min_samples_split=5, n_estimators=200, score=0.538, total=   0.4s\n",
      "[Parallel(n_jobs=1)]: Done  30 out of  30 | elapsed:    8.1s remaining:    0.0s\n",
      "[CV] max_depth=100, min_samples_split=10, n_estimators=100 ...........\n",
      "[CV]  max_depth=100, min_samples_split=10, n_estimators=100, score=0.453, total=   0.2s\n",
      "[Parallel(n_jobs=1)]: Done  31 out of  31 | elapsed:    8.3s remaining:    0.0s\n",
      "[CV] max_depth=100, min_samples_split=10, n_estimators=100 ...........\n",
      "[CV]  max_depth=100, min_samples_split=10, n_estimators=100, score=0.582, total=   0.2s\n",
      "[Parallel(n_jobs=1)]: Done  32 out of  32 | elapsed:    8.5s remaining:    0.0s\n",
      "[CV] max_depth=100, min_samples_split=10, n_estimators=100 ...........\n",
      "[CV]  max_depth=100, min_samples_split=10, n_estimators=100, score=0.488, total=   0.2s\n",
      "[Parallel(n_jobs=1)]: Done  33 out of  33 | elapsed:    8.7s remaining:    0.0s\n",
      "[CV] max_depth=100, min_samples_split=10, n_estimators=100 ...........\n",
      "[CV]  max_depth=100, min_samples_split=10, n_estimators=100, score=0.503, total=   0.2s\n",
      "[Parallel(n_jobs=1)]: Done  34 out of  34 | elapsed:    8.9s remaining:    0.0s\n",
      "[CV] max_depth=100, min_samples_split=10, n_estimators=100 ...........\n"
     ]
    },
    {
     "name": "stdout",
     "output_type": "stream",
     "text": [
      "[CV]  max_depth=100, min_samples_split=10, n_estimators=100, score=0.562, total=   0.2s\n",
      "[Parallel(n_jobs=1)]: Done  35 out of  35 | elapsed:    9.2s remaining:    0.0s\n",
      "[CV] max_depth=100, min_samples_split=10, n_estimators=200 ...........\n",
      "[CV]  max_depth=100, min_samples_split=10, n_estimators=200, score=0.394, total=   0.4s\n",
      "[Parallel(n_jobs=1)]: Done  36 out of  36 | elapsed:    9.6s remaining:    0.0s\n",
      "[CV] max_depth=100, min_samples_split=10, n_estimators=200 ...........\n",
      "[CV]  max_depth=100, min_samples_split=10, n_estimators=200, score=0.535, total=   0.4s\n",
      "[Parallel(n_jobs=1)]: Done  37 out of  37 | elapsed:    9.9s remaining:    0.0s\n",
      "[CV] max_depth=100, min_samples_split=10, n_estimators=200 ...........\n",
      "[CV]  max_depth=100, min_samples_split=10, n_estimators=200, score=0.506, total=   0.3s\n",
      "[Parallel(n_jobs=1)]: Done  38 out of  38 | elapsed:   10.3s remaining:    0.0s\n",
      "[CV] max_depth=100, min_samples_split=10, n_estimators=200 ...........\n",
      "[CV]  max_depth=100, min_samples_split=10, n_estimators=200, score=0.521, total=   0.4s\n",
      "[Parallel(n_jobs=1)]: Done  39 out of  39 | elapsed:   10.7s remaining:    0.0s\n",
      "[CV] max_depth=100, min_samples_split=10, n_estimators=200 ...........\n",
      "[CV]  max_depth=100, min_samples_split=10, n_estimators=200, score=0.556, total=   0.4s\n",
      "[Parallel(n_jobs=1)]: Done  40 out of  40 | elapsed:   11.0s remaining:    0.0s\n",
      "[Parallel(n_jobs=1)]: Done  40 out of  40 | elapsed:   11.0s finished\n",
      "Accuracy (test) for RF: 51.4% \n"
     ]
    },
    {
     "data": {
      "text/plain": [
       "''"
      ]
     },
     "execution_count": 17,
     "metadata": {},
     "output_type": "execute_result"
    }
   ],
   "source": [
    "parameters = {'n_estimators':[100,200], 'max_depth':[25,100], 'min_samples_split':[5,10]}\n",
    "\n",
    "forest = RandomForestClassifier(criterion='gini', min_samples_leaf=1, \n",
    "                                min_weight_fraction_leaf=0.0, max_features='auto', \n",
    "                                max_leaf_nodes=None, min_impurity_decrease=0.0, \n",
    "                                min_impurity_split=None, bootstrap=True, oob_score=False, \n",
    "                                n_jobs=None, random_state=None)\n",
    "\n",
    "RFClassifier = GridSearchCV(forest, parameters,verbose=100)\n",
    "\n",
    "name = 'RF'\n",
    "\n",
    "print(\"Training \" + name + \" ...\")\n",
    "RFClassifier.fit(train_x, train_y)\n",
    "\n",
    "y_pred = RFClassifier.predict(test_x)\n",
    "accuracy = accuracy_score(test_y, y_pred)\n",
    "print(\"Accuracy (test) for %s: %0.1f%% \" % (name, accuracy * 100))\n",
    "    \n",
    "#Calculate probabilities:\n",
    "probas = RFClassifier.predict_proba(test_x)\n",
    ";"
   ]
  },
  {
   "cell_type": "markdown",
   "metadata": {},
   "source": [
    "### Testing various models"
   ]
  },
  {
   "cell_type": "code",
   "execution_count": 31,
   "metadata": {},
   "outputs": [
    {
     "name": "stdout",
     "output_type": "stream",
     "text": [
      "Training L1 logistic...\n",
      "Accuracy (test) for L1 logistic: 53.0% \n",
      "Training L2 logistic (Multinomial)...\n",
      "Accuracy (test) for L2 logistic (Multinomial): 53.5% \n",
      "Training L2 logistic (OvR)...\n",
      "Accuracy (test) for L2 logistic (OvR): 52.7% \n",
      "Training Random Forest...\n",
      "Accuracy (test) for Random Forest: 51.7% \n"
     ]
    },
    {
     "data": {
      "text/plain": [
       "''"
      ]
     },
     "execution_count": 31,
     "metadata": {},
     "output_type": "execute_result"
    }
   ],
   "source": [
    "# Dealing with parameters\n",
    "C = 0.8\n",
    "\n",
    "# Create different classifiers.\n",
    "classifiers = {\n",
    "    'L1 logistic': LogisticRegression(C=C, penalty='l1',\n",
    "                                      solver='saga', tol=0.000001,\n",
    "                                      multi_class='multinomial',\n",
    "                                      max_iter=1000000),\n",
    "    'L2 logistic (Multinomial)': LogisticRegression(C=C, penalty='l2',\n",
    "                                                    solver='saga', tol=0.000001,\n",
    "                                                    multi_class='multinomial',\n",
    "                                                    max_iter=1000000),\n",
    "    'L2 logistic (OvR)': LogisticRegression(C=C, penalty='l2',\n",
    "                                            solver='saga',\n",
    "                                            multi_class='ovr',\n",
    "                                            max_iter=10000),\n",
    "    'Random Forest': RandomForestClassifier(n_estimators=1000, criterion='gini', max_depth=25, \n",
    "                                            min_samples_split=2, min_samples_leaf=1, \n",
    "                                            min_weight_fraction_leaf=0.0, max_features='auto', \n",
    "                                            max_leaf_nodes=None, min_impurity_decrease=0.0, \n",
    "                                            min_impurity_split=None, bootstrap=True, oob_score=False, \n",
    "                                            n_jobs=None, random_state=None)\n",
    "}\n",
    "\n",
    "n_classifiers = len(classifiers)\n",
    "\n",
    "results = {}\n",
    "\n",
    "for index, (name, classifier) in enumerate(classifiers.items()):\n",
    "    print(\"Training \" + name + \"...\")\n",
    "    classifier.fit(train_x, train_y)\n",
    "\n",
    "    y_pred = classifier.predict(test_x)\n",
    "    accuracy = accuracy_score(test_y, y_pred)\n",
    "    print(\"Accuracy (test) for %s: %0.1f%% \" % (name, accuracy * 100))\n",
    "    \n",
    "    #Calculate probabilities:\n",
    "    probas = classifier.predict_proba(test_x)\n",
    "    \n",
    "    #store them in a dict\n",
    "    results[name] = probas\n",
    ";"
   ]
  },
  {
   "cell_type": "markdown",
   "metadata": {},
   "source": [
    "# Let's try with Neural Networks"
   ]
  },
  {
   "cell_type": "markdown",
   "metadata": {},
   "source": [
    "## Imports"
   ]
  },
  {
   "cell_type": "code",
   "execution_count": 32,
   "metadata": {},
   "outputs": [],
   "source": [
    "import tensorflow.compat.v1 as tf\n",
    "tf.disable_v2_behavior()\n",
    "from numpy import argmax\n",
    "from sklearn.preprocessing import LabelEncoder\n",
    "from sklearn.preprocessing import OneHotEncoder\n",
    "from sklearn import preprocessing\n",
    "\n",
    "#Keras tuners\n",
    "from kerastuner.tuners import RandomSearch\n",
    "from kerastuner.engine.hyperparameters import HyperParameters\n",
    "\n",
    "#Time\n",
    "import time"
   ]
  },
  {
   "cell_type": "markdown",
   "metadata": {},
   "source": [
    "## Parameters"
   ]
  },
  {
   "cell_type": "code",
   "execution_count": 33,
   "metadata": {},
   "outputs": [],
   "source": [
    "n_classes = 3\n",
    "n_features = train_x.shape[1]\n",
    "n_epochs = 10"
   ]
  },
  {
   "cell_type": "markdown",
   "metadata": {},
   "source": [
    "## Preprocessing"
   ]
  },
  {
   "cell_type": "code",
   "execution_count": 34,
   "metadata": {},
   "outputs": [],
   "source": [
    "test_X = test_x.values\n",
    "test_Y = test_y.values\n",
    "train_X = train_x.values\n",
    "train_Y = train_y.values\n",
    "\n",
    "#Features\n",
    "min_max_scaler = preprocessing.MinMaxScaler()\n",
    "train_X_scaled = min_max_scaler.fit_transform(train_X)\n",
    "test_X_scaled = min_max_scaler.transform(test_X)\n",
    "\n",
    "#Labels\n",
    "# integer encode\n",
    "label_encoder = LabelEncoder()\n",
    "train_Y_integer_encoded = label_encoder.fit_transform(train_Y)\n",
    "test_Y_integer_encoded = label_encoder.transform(test_Y)\n",
    "\n",
    "# binary encode\n",
    "onehot_encoder = OneHotEncoder(sparse=False)\n",
    "train_Y_integer_encoded = train_Y_integer_encoded.reshape(len(train_Y_integer_encoded), 1)\n",
    "train_Y_onehot_encoded = onehot_encoder.fit_transform(train_Y_integer_encoded)\n",
    "test_Y_integer_encoded = test_Y_integer_encoded.reshape(len(test_Y_integer_encoded), 1)\n",
    "test_Y_onehot_encoded = onehot_encoder.transform(test_Y_integer_encoded)\n"
   ]
  },
  {
   "cell_type": "markdown",
   "metadata": {},
   "source": [
    "## Searching for a relevant architecture model"
   ]
  },
  {
   "cell_type": "code",
   "execution_count": 35,
   "metadata": {},
   "outputs": [],
   "source": [
    "log_dir = f\"{int(time.time())}\"\n",
    "\n",
    "def build_model(hp):\n",
    "    model = tf.keras.models.Sequential()\n",
    "    \n",
    "    model.add(tf.keras.layers.Dense(hp.Int(\"n_input_neurons\",min_value = 10, max_value = 200, step = 20), input_dim=n_features, activation =tf.nn.relu))\n",
    "    \n",
    "    for i in range(hp.Int(\"n_layers\", 1, 3)):\n",
    "        model.add(tf.keras.layers.Dense(hp.Int(f\"layer_{i}_neurons\",min_value = 10, max_value = 200, step = 20), activation =tf.nn.relu))\n",
    "\n",
    "    #Output layer\n",
    "    model.add(tf.keras.layers.Dense(n_classes,activation =tf.nn.softmax))\n",
    "\n",
    "    #Compile\n",
    "    model.compile(optimizer = 'adam',\n",
    "                  loss = 'categorical_crossentropy',\n",
    "                  metrics = [\"accuracy\"])\n",
    "    return model\n"
   ]
  },
  {
   "cell_type": "code",
   "execution_count": 36,
   "metadata": {},
   "outputs": [
    {
     "name": "stdout",
     "output_type": "stream",
     "text": [
      "Train on 848 samples, validate on 389 samples\n",
      "Epoch 1/10\n",
      "848/848 [==============================] - ETA: 0s - loss: 1.1253 - acc: 0.080 - 0s 117us/sample - loss: 1.0483 - acc: 0.4540 - val_loss: 1.0129 - val_acc: 0.5501\n",
      "Epoch 2/10\n",
      "848/848 [==============================] - ETA: 0s - loss: 1.1144 - acc: 0.320 - 0s 40us/sample - loss: 0.9985 - acc: 0.5354 - val_loss: 0.9909 - val_acc: 0.5398\n",
      "Epoch 3/10\n",
      "848/848 [==============================] - ETA: 0s - loss: 0.9672 - acc: 0.520 - 0s 47us/sample - loss: 0.9759 - acc: 0.5472 - val_loss: 0.9916 - val_acc: 0.5244\n",
      "Epoch 4/10\n",
      "848/848 [==============================] - ETA: 0s - loss: 0.9577 - acc: 0.560 - 0s 43us/sample - loss: 0.9719 - acc: 0.5531 - val_loss: 0.9969 - val_acc: 0.5398\n",
      "Epoch 5/10\n",
      "848/848 [==============================] - ETA: 0s - loss: 0.9659 - acc: 0.520 - 0s 42us/sample - loss: 0.9658 - acc: 0.5637 - val_loss: 0.9928 - val_acc: 0.5193\n",
      "Epoch 6/10\n",
      "848/848 [==============================] - ETA: 0s - loss: 1.0740 - acc: 0.400 - 0s 45us/sample - loss: 0.9587 - acc: 0.5566 - val_loss: 0.9939 - val_acc: 0.5373\n",
      "Epoch 7/10\n",
      "848/848 [==============================] - ETA: 0s - loss: 1.0303 - acc: 0.480 - 0s 46us/sample - loss: 0.9639 - acc: 0.5519 - val_loss: 0.9913 - val_acc: 0.5424\n",
      "Epoch 8/10\n",
      "848/848 [==============================] - ETA: 0s - loss: 0.8308 - acc: 0.600 - 0s 43us/sample - loss: 0.9566 - acc: 0.5483 - val_loss: 0.9947 - val_acc: 0.5476\n",
      "Epoch 9/10\n",
      "848/848 [==============================] - ETA: 0s - loss: 1.3728 - acc: 0.360 - 0s 39us/sample - loss: 0.9627 - acc: 0.5578 - val_loss: 0.9921 - val_acc: 0.5424\n",
      "Epoch 10/10\n",
      "848/848 [==============================] - ETA: 0s - loss: 0.8524 - acc: 0.600 - 0s 39us/sample - loss: 0.9553 - acc: 0.5578 - val_loss: 0.9909 - val_acc: 0.5347\n",
      "Train on 848 samples, validate on 389 samples\n",
      "Epoch 1/10\n",
      "848/848 [==============================] - ETA: 0s - loss: 1.0691 - acc: 0.480 - 0s 66us/sample - loss: 1.0518 - acc: 0.4776 - val_loss: 1.0082 - val_acc: 0.5244\n",
      "Epoch 2/10\n",
      "848/848 [==============================] - ETA: 0s - loss: 1.0508 - acc: 0.400 - 0s 35us/sample - loss: 1.0021 - acc: 0.5177 - val_loss: 0.9838 - val_acc: 0.5244\n",
      "Epoch 3/10\n",
      "848/848 [==============================] - ETA: 0s - loss: 0.9591 - acc: 0.520 - 0s 37us/sample - loss: 0.9787 - acc: 0.5460 - val_loss: 0.9858 - val_acc: 0.5321\n",
      "Epoch 4/10\n",
      "848/848 [==============================] - ETA: 0s - loss: 0.8078 - acc: 0.640 - 0s 37us/sample - loss: 0.9685 - acc: 0.5531 - val_loss: 0.9862 - val_acc: 0.5193\n",
      "Epoch 5/10\n",
      "848/848 [==============================] - ETA: 0s - loss: 1.0779 - acc: 0.480 - 0s 37us/sample - loss: 0.9625 - acc: 0.5554 - val_loss: 0.9905 - val_acc: 0.5244\n",
      "Epoch 6/10\n",
      "848/848 [==============================] - ETA: 0s - loss: 1.1778 - acc: 0.320 - 0s 37us/sample - loss: 0.9616 - acc: 0.5719 - val_loss: 0.9855 - val_acc: 0.5244\n",
      "Epoch 7/10\n",
      "848/848 [==============================] - ETA: 0s - loss: 0.8356 - acc: 0.560 - 0s 37us/sample - loss: 0.9566 - acc: 0.5613 - val_loss: 0.9872 - val_acc: 0.5219\n",
      "Epoch 8/10\n",
      "848/848 [==============================] - ETA: 0s - loss: 0.9851 - acc: 0.480 - 0s 42us/sample - loss: 0.9539 - acc: 0.5696 - val_loss: 0.9876 - val_acc: 0.5219\n",
      "Epoch 9/10\n",
      "848/848 [==============================] - ETA: 0s - loss: 1.0217 - acc: 0.520 - 0s 45us/sample - loss: 0.9497 - acc: 0.5684 - val_loss: 0.9949 - val_acc: 0.5219\n",
      "Epoch 10/10\n",
      "848/848 [==============================] - ETA: 0s - loss: 1.0275 - acc: 0.560 - 0s 38us/sample - loss: 0.9493 - acc: 0.5660 - val_loss: 0.9889 - val_acc: 0.5244\n"
     ]
    },
    {
     "data": {
      "text/html": [
       "<span style=\"color:#4527A0\"><h1 style=\"font-size:18px\">Trial complete</h1></span>"
      ],
      "text/plain": [
       "<IPython.core.display.HTML object>"
      ]
     },
     "metadata": {},
     "output_type": "display_data"
    },
    {
     "data": {
      "text/html": [
       "<span style=\"color:#4527A0\"><h1 style=\"font-size:18px\">Trial summary</h1></span>"
      ],
      "text/plain": [
       "<IPython.core.display.HTML object>"
      ]
     },
     "metadata": {},
     "output_type": "display_data"
    },
    {
     "data": {
      "text/html": [
       "<span style=\"color:cyan\"> |-Trial ID: b5bda3e0a331c9966a0423add5172b9d</span>"
      ],
      "text/plain": [
       "<IPython.core.display.HTML object>"
      ]
     },
     "metadata": {},
     "output_type": "display_data"
    },
    {
     "data": {
      "text/html": [
       "<span style=\"color:cyan\"> |-Score: 0.5411311388015747</span>"
      ],
      "text/plain": [
       "<IPython.core.display.HTML object>"
      ]
     },
     "metadata": {},
     "output_type": "display_data"
    },
    {
     "data": {
      "text/html": [
       "<span style=\"color:cyan\"> |-Best step: 0</span>"
      ],
      "text/plain": [
       "<IPython.core.display.HTML object>"
      ]
     },
     "metadata": {},
     "output_type": "display_data"
    },
    {
     "data": {
      "text/html": [
       "<span style=\"color:#7E57C2\"><h2 style=\"font-size:16px\">Hyperparameters:</h2></span>"
      ],
      "text/plain": [
       "<IPython.core.display.HTML object>"
      ]
     },
     "metadata": {},
     "output_type": "display_data"
    },
    {
     "data": {
      "text/html": [
       "<span style=\"color:cyan\"> |-layer_0_neurons: 150</span>"
      ],
      "text/plain": [
       "<IPython.core.display.HTML object>"
      ]
     },
     "metadata": {},
     "output_type": "display_data"
    },
    {
     "data": {
      "text/html": [
       "<span style=\"color:blue\"> |-n_input_neurons: 50</span>"
      ],
      "text/plain": [
       "<IPython.core.display.HTML object>"
      ]
     },
     "metadata": {},
     "output_type": "display_data"
    },
    {
     "data": {
      "text/html": [
       "<span style=\"color:cyan\"> |-n_layers: 1</span>"
      ],
      "text/plain": [
       "<IPython.core.display.HTML object>"
      ]
     },
     "metadata": {},
     "output_type": "display_data"
    },
    {
     "name": "stdout",
     "output_type": "stream",
     "text": [
      "Train on 848 samples, validate on 389 samples\n",
      "Epoch 1/10\n",
      "848/848 [==============================] - ETA: 0s - loss: 1.0977 - acc: 0.320 - 0s 121us/sample - loss: 1.0398 - acc: 0.4611 - val_loss: 1.0053 - val_acc: 0.5296\n",
      "Epoch 2/10\n",
      "848/848 [==============================] - ETA: 0s - loss: 0.9727 - acc: 0.480 - 0s 46us/sample - loss: 0.9951 - acc: 0.5413 - val_loss: 1.0017 - val_acc: 0.5013\n",
      "Epoch 3/10\n",
      "848/848 [==============================] - ETA: 0s - loss: 0.9858 - acc: 0.560 - 0s 45us/sample - loss: 0.9868 - acc: 0.5472 - val_loss: 0.9952 - val_acc: 0.5064\n",
      "Epoch 4/10\n",
      "848/848 [==============================] - ETA: 0s - loss: 0.9111 - acc: 0.640 - 0s 44us/sample - loss: 0.9738 - acc: 0.5554 - val_loss: 0.9956 - val_acc: 0.5244\n",
      "Epoch 5/10\n",
      "848/848 [==============================] - ETA: 0s - loss: 0.9484 - acc: 0.520 - 0s 50us/sample - loss: 0.9659 - acc: 0.5590 - val_loss: 0.9899 - val_acc: 0.5321\n",
      "Epoch 6/10\n",
      "848/848 [==============================] - ETA: 0s - loss: 0.8994 - acc: 0.600 - 0s 44us/sample - loss: 0.9558 - acc: 0.5613 - val_loss: 0.9973 - val_acc: 0.5321\n",
      "Epoch 7/10\n",
      "848/848 [==============================] - ETA: 0s - loss: 1.0227 - acc: 0.520 - 0s 42us/sample - loss: 0.9611 - acc: 0.5637 - val_loss: 0.9914 - val_acc: 0.5270\n",
      "Epoch 8/10\n",
      "848/848 [==============================] - ETA: 0s - loss: 0.7950 - acc: 0.760 - 0s 43us/sample - loss: 0.9543 - acc: 0.5696 - val_loss: 1.0010 - val_acc: 0.5064\n",
      "Epoch 9/10\n",
      "848/848 [==============================] - ETA: 0s - loss: 1.0445 - acc: 0.440 - 0s 47us/sample - loss: 0.9472 - acc: 0.5731 - val_loss: 0.9922 - val_acc: 0.5167\n",
      "Epoch 10/10\n",
      "848/848 [==============================] - ETA: 0s - loss: 1.1231 - acc: 0.520 - 0s 44us/sample - loss: 0.9544 - acc: 0.5578 - val_loss: 0.9917 - val_acc: 0.5141\n",
      "Train on 848 samples, validate on 389 samples\n",
      "Epoch 1/10\n",
      "848/848 [==============================] - ETA: 0s - loss: 1.1215 - acc: 0.240 - 0s 69us/sample - loss: 1.0864 - acc: 0.4399 - val_loss: 1.0660 - val_acc: 0.4884\n",
      "Epoch 2/10\n",
      "848/848 [==============================] - ETA: 0s - loss: 1.1032 - acc: 0.320 - 0s 41us/sample - loss: 1.0651 - acc: 0.5236 - val_loss: 1.0498 - val_acc: 0.5219\n",
      "Epoch 3/10\n",
      "848/848 [==============================] - ETA: 0s - loss: 1.0688 - acc: 0.520 - 0s 41us/sample - loss: 1.0510 - acc: 0.5425 - val_loss: 1.0440 - val_acc: 0.5090\n",
      "Epoch 4/10\n",
      "848/848 [==============================] - ETA: 0s - loss: 1.0737 - acc: 0.480 - 0s 41us/sample - loss: 1.0414 - acc: 0.5519 - val_loss: 1.0361 - val_acc: 0.5270\n",
      "Epoch 5/10\n",
      "848/848 [==============================] - ETA: 0s - loss: 1.0679 - acc: 0.440 - 0s 41us/sample - loss: 1.0314 - acc: 0.5460 - val_loss: 1.0354 - val_acc: 0.5296\n",
      "Epoch 6/10\n",
      "848/848 [==============================] - ETA: 0s - loss: 0.9479 - acc: 0.800 - 0s 84us/sample - loss: 1.0248 - acc: 0.5601 - val_loss: 1.0224 - val_acc: 0.5553\n",
      "Epoch 7/10\n",
      "848/848 [==============================] - ETA: 0s - loss: 1.0166 - acc: 0.680 - 0s 47us/sample - loss: 1.0262 - acc: 0.5531 - val_loss: 1.0166 - val_acc: 0.5296\n",
      "Epoch 8/10\n",
      "848/848 [==============================] - ETA: 0s - loss: 1.0914 - acc: 0.400 - 0s 42us/sample - loss: 1.0056 - acc: 0.5578 - val_loss: 1.0146 - val_acc: 0.5373\n",
      "Epoch 9/10\n",
      "848/848 [==============================] - ETA: 0s - loss: 0.8851 - acc: 0.720 - 0s 43us/sample - loss: 0.9918 - acc: 0.5649 - val_loss: 1.0122 - val_acc: 0.5347\n",
      "Epoch 10/10\n",
      "848/848 [==============================] - ETA: 0s - loss: 1.0182 - acc: 0.520 - 0s 39us/sample - loss: 0.9723 - acc: 0.5755 - val_loss: 0.9983 - val_acc: 0.5321\n"
     ]
    },
    {
     "data": {
      "text/html": [
       "<span style=\"color:#4527A0\"><h1 style=\"font-size:18px\">Trial complete</h1></span>"
      ],
      "text/plain": [
       "<IPython.core.display.HTML object>"
      ]
     },
     "metadata": {},
     "output_type": "display_data"
    },
    {
     "data": {
      "text/html": [
       "<span style=\"color:#4527A0\"><h1 style=\"font-size:18px\">Trial summary</h1></span>"
      ],
      "text/plain": [
       "<IPython.core.display.HTML object>"
      ]
     },
     "metadata": {},
     "output_type": "display_data"
    },
    {
     "data": {
      "text/html": [
       "<span style=\"color:cyan\"> |-Trial ID: 52356789f9bbf52971a8b6fcc75eb6a9</span>"
      ],
      "text/plain": [
       "<IPython.core.display.HTML object>"
      ]
     },
     "metadata": {},
     "output_type": "display_data"
    },
    {
     "data": {
      "text/html": [
       "<span style=\"color:cyan\"> |-Score: 0.5437017679214478</span>"
      ],
      "text/plain": [
       "<IPython.core.display.HTML object>"
      ]
     },
     "metadata": {},
     "output_type": "display_data"
    },
    {
     "data": {
      "text/html": [
       "<span style=\"color:cyan\"> |-Best step: 0</span>"
      ],
      "text/plain": [
       "<IPython.core.display.HTML object>"
      ]
     },
     "metadata": {},
     "output_type": "display_data"
    },
    {
     "data": {
      "text/html": [
       "<span style=\"color:#7E57C2\"><h2 style=\"font-size:16px\">Hyperparameters:</h2></span>"
      ],
      "text/plain": [
       "<IPython.core.display.HTML object>"
      ]
     },
     "metadata": {},
     "output_type": "display_data"
    },
    {
     "data": {
      "text/html": [
       "<span style=\"color:cyan\"> |-layer_0_neurons: 190</span>"
      ],
      "text/plain": [
       "<IPython.core.display.HTML object>"
      ]
     },
     "metadata": {},
     "output_type": "display_data"
    },
    {
     "data": {
      "text/html": [
       "<span style=\"color:blue\"> |-layer_1_neurons: 10</span>"
      ],
      "text/plain": [
       "<IPython.core.display.HTML object>"
      ]
     },
     "metadata": {},
     "output_type": "display_data"
    },
    {
     "data": {
      "text/html": [
       "<span style=\"color:cyan\"> |-n_input_neurons: 110</span>"
      ],
      "text/plain": [
       "<IPython.core.display.HTML object>"
      ]
     },
     "metadata": {},
     "output_type": "display_data"
    },
    {
     "data": {
      "text/html": [
       "<span style=\"color:blue\"> |-n_layers: 2</span>"
      ],
      "text/plain": [
       "<IPython.core.display.HTML object>"
      ]
     },
     "metadata": {},
     "output_type": "display_data"
    },
    {
     "name": "stdout",
     "output_type": "stream",
     "text": [
      "Train on 848 samples, validate on 389 samples\n",
      "Epoch 1/10\n",
      "848/848 [==============================] - ETA: 0s - loss: 1.1205 - acc: 0.240 - 0s 128us/sample - loss: 1.0788 - acc: 0.4257 - val_loss: 1.0509 - val_acc: 0.4756\n",
      "Epoch 2/10\n",
      "848/848 [==============================] - ETA: 0s - loss: 1.0305 - acc: 0.560 - 0s 40us/sample - loss: 1.0474 - acc: 0.4682 - val_loss: 1.0335 - val_acc: 0.4756\n",
      "Epoch 3/10\n",
      "848/848 [==============================] - ETA: 0s - loss: 1.0418 - acc: 0.440 - 0s 48us/sample - loss: 1.0127 - acc: 0.4835 - val_loss: 1.0083 - val_acc: 0.5424\n",
      "Epoch 4/10\n",
      "848/848 [==============================] - ETA: 0s - loss: 0.9212 - acc: 0.600 - 0s 41us/sample - loss: 0.9930 - acc: 0.5590 - val_loss: 0.9981 - val_acc: 0.5373\n",
      "Epoch 5/10\n",
      "848/848 [==============================] - ETA: 0s - loss: 0.8689 - acc: 0.760 - 0s 41us/sample - loss: 0.9899 - acc: 0.5531 - val_loss: 0.9885 - val_acc: 0.5373\n",
      "Epoch 6/10\n",
      "848/848 [==============================] - ETA: 0s - loss: 1.0545 - acc: 0.600 - 0s 39us/sample - loss: 0.9815 - acc: 0.5578 - val_loss: 0.9857 - val_acc: 0.5296\n",
      "Epoch 7/10\n",
      "848/848 [==============================] - ETA: 0s - loss: 1.0364 - acc: 0.480 - 0s 46us/sample - loss: 0.9767 - acc: 0.5649 - val_loss: 1.0002 - val_acc: 0.5450\n",
      "Epoch 8/10\n",
      "848/848 [==============================] - ETA: 0s - loss: 1.1076 - acc: 0.440 - 0s 45us/sample - loss: 0.9707 - acc: 0.5660 - val_loss: 0.9789 - val_acc: 0.5321\n",
      "Epoch 9/10\n",
      "848/848 [==============================] - ETA: 0s - loss: 0.9708 - acc: 0.520 - 0s 41us/sample - loss: 0.9725 - acc: 0.5554 - val_loss: 0.9770 - val_acc: 0.5347\n",
      "Epoch 10/10\n",
      "848/848 [==============================] - ETA: 0s - loss: 0.9066 - acc: 0.640 - 0s 41us/sample - loss: 0.9641 - acc: 0.5708 - val_loss: 0.9763 - val_acc: 0.5347\n",
      "Train on 848 samples, validate on 389 samples\n",
      "Epoch 1/10\n",
      "848/848 [==============================] - ETA: 0s - loss: 1.1078 - acc: 0.360 - 0s 77us/sample - loss: 1.0452 - acc: 0.4752 - val_loss: 1.0196 - val_acc: 0.5398\n",
      "Epoch 2/10\n",
      "848/848 [==============================] - ETA: 0s - loss: 1.0408 - acc: 0.440 - 0s 40us/sample - loss: 0.9912 - acc: 0.5224 - val_loss: 1.0062 - val_acc: 0.5141\n",
      "Epoch 3/10\n",
      "848/848 [==============================] - ETA: 0s - loss: 0.8949 - acc: 0.600 - 0s 41us/sample - loss: 0.9784 - acc: 0.5495 - val_loss: 0.9877 - val_acc: 0.5064\n",
      "Epoch 4/10\n",
      "848/848 [==============================] - ETA: 0s - loss: 0.9382 - acc: 0.640 - 0s 42us/sample - loss: 0.9669 - acc: 0.5495 - val_loss: 0.9770 - val_acc: 0.5244\n",
      "Epoch 5/10\n",
      "848/848 [==============================] - ETA: 0s - loss: 0.8493 - acc: 0.680 - 0s 39us/sample - loss: 0.9695 - acc: 0.5649 - val_loss: 0.9766 - val_acc: 0.5347\n",
      "Epoch 6/10\n",
      "848/848 [==============================] - ETA: 0s - loss: 0.9666 - acc: 0.600 - 0s 40us/sample - loss: 0.9541 - acc: 0.5649 - val_loss: 0.9876 - val_acc: 0.5270\n",
      "Epoch 7/10\n",
      "848/848 [==============================] - ETA: 0s - loss: 0.9166 - acc: 0.640 - 0s 41us/sample - loss: 0.9603 - acc: 0.5660 - val_loss: 0.9767 - val_acc: 0.5321\n",
      "Epoch 8/10\n",
      "848/848 [==============================] - ETA: 0s - loss: 1.0210 - acc: 0.480 - 0s 39us/sample - loss: 0.9545 - acc: 0.5731 - val_loss: 0.9734 - val_acc: 0.5347\n",
      "Epoch 9/10\n",
      "848/848 [==============================] - ETA: 0s - loss: 1.1237 - acc: 0.360 - 0s 40us/sample - loss: 0.9498 - acc: 0.5755 - val_loss: 0.9797 - val_acc: 0.5347\n",
      "Epoch 10/10\n",
      "848/848 [==============================] - ETA: 0s - loss: 0.9903 - acc: 0.520 - 0s 41us/sample - loss: 0.9481 - acc: 0.5755 - val_loss: 0.9762 - val_acc: 0.5219\n"
     ]
    },
    {
     "data": {
      "text/html": [
       "<span style=\"color:#4527A0\"><h1 style=\"font-size:18px\">Trial complete</h1></span>"
      ],
      "text/plain": [
       "<IPython.core.display.HTML object>"
      ]
     },
     "metadata": {},
     "output_type": "display_data"
    },
    {
     "data": {
      "text/html": [
       "<span style=\"color:#4527A0\"><h1 style=\"font-size:18px\">Trial summary</h1></span>"
      ],
      "text/plain": [
       "<IPython.core.display.HTML object>"
      ]
     },
     "metadata": {},
     "output_type": "display_data"
    },
    {
     "data": {
      "text/html": [
       "<span style=\"color:cyan\"> |-Trial ID: 38cfbffeee9351e3965fa329791673b4</span>"
      ],
      "text/plain": [
       "<IPython.core.display.HTML object>"
      ]
     },
     "metadata": {},
     "output_type": "display_data"
    },
    {
     "data": {
      "text/html": [
       "<span style=\"color:cyan\"> |-Score: 0.5424164533615112</span>"
      ],
      "text/plain": [
       "<IPython.core.display.HTML object>"
      ]
     },
     "metadata": {},
     "output_type": "display_data"
    },
    {
     "data": {
      "text/html": [
       "<span style=\"color:cyan\"> |-Best step: 0</span>"
      ],
      "text/plain": [
       "<IPython.core.display.HTML object>"
      ]
     },
     "metadata": {},
     "output_type": "display_data"
    },
    {
     "data": {
      "text/html": [
       "<span style=\"color:#7E57C2\"><h2 style=\"font-size:16px\">Hyperparameters:</h2></span>"
      ],
      "text/plain": [
       "<IPython.core.display.HTML object>"
      ]
     },
     "metadata": {},
     "output_type": "display_data"
    },
    {
     "data": {
      "text/html": [
       "<span style=\"color:cyan\"> |-layer_0_neurons: 30</span>"
      ],
      "text/plain": [
       "<IPython.core.display.HTML object>"
      ]
     },
     "metadata": {},
     "output_type": "display_data"
    },
    {
     "data": {
      "text/html": [
       "<span style=\"color:blue\"> |-layer_1_neurons: 130</span>"
      ],
      "text/plain": [
       "<IPython.core.display.HTML object>"
      ]
     },
     "metadata": {},
     "output_type": "display_data"
    },
    {
     "data": {
      "text/html": [
       "<span style=\"color:cyan\"> |-layer_2_neurons: 10</span>"
      ],
      "text/plain": [
       "<IPython.core.display.HTML object>"
      ]
     },
     "metadata": {},
     "output_type": "display_data"
    },
    {
     "data": {
      "text/html": [
       "<span style=\"color:blue\"> |-n_input_neurons: 90</span>"
      ],
      "text/plain": [
       "<IPython.core.display.HTML object>"
      ]
     },
     "metadata": {},
     "output_type": "display_data"
    },
    {
     "data": {
      "text/html": [
       "<span style=\"color:cyan\"> |-n_layers: 3</span>"
      ],
      "text/plain": [
       "<IPython.core.display.HTML object>"
      ]
     },
     "metadata": {},
     "output_type": "display_data"
    },
    {
     "name": "stdout",
     "output_type": "stream",
     "text": [
      "Train on 848 samples, validate on 389 samples\n",
      "Epoch 1/10\n",
      "848/848 [==============================] - ETA: 0s - loss: 1.1207 - acc: 0.320 - 0s 104us/sample - loss: 1.0323 - acc: 0.4658 - val_loss: 0.9915 - val_acc: 0.5424\n",
      "Epoch 2/10\n",
      "848/848 [==============================] - ETA: 0s - loss: 1.0781 - acc: 0.440 - 0s 39us/sample - loss: 0.9861 - acc: 0.5460 - val_loss: 0.9789 - val_acc: 0.5347\n",
      "Epoch 3/10\n",
      "848/848 [==============================] - ETA: 0s - loss: 0.8611 - acc: 0.640 - 0s 39us/sample - loss: 0.9712 - acc: 0.5542 - val_loss: 1.0111 - val_acc: 0.4859\n",
      "Epoch 4/10\n",
      "848/848 [==============================] - ETA: 0s - loss: 1.0991 - acc: 0.440 - 0s 42us/sample - loss: 0.9636 - acc: 0.5696 - val_loss: 0.9891 - val_acc: 0.5270\n",
      "Epoch 5/10\n",
      "848/848 [==============================] - ETA: 0s - loss: 0.9772 - acc: 0.520 - 0s 42us/sample - loss: 0.9624 - acc: 0.5613 - val_loss: 0.9865 - val_acc: 0.5347\n",
      "Epoch 6/10\n",
      "848/848 [==============================] - ETA: 0s - loss: 1.0722 - acc: 0.360 - 0s 39us/sample - loss: 0.9569 - acc: 0.5684 - val_loss: 0.9883 - val_acc: 0.5398\n",
      "Epoch 7/10\n",
      "848/848 [==============================] - ETA: 0s - loss: 0.6714 - acc: 0.880 - 0s 42us/sample - loss: 0.9595 - acc: 0.5566 - val_loss: 0.9832 - val_acc: 0.5270\n",
      "Epoch 8/10\n",
      "848/848 [==============================] - ETA: 0s - loss: 0.9261 - acc: 0.640 - 0s 45us/sample - loss: 0.9541 - acc: 0.5696 - val_loss: 0.9884 - val_acc: 0.5270\n",
      "Epoch 9/10\n",
      "848/848 [==============================] - ETA: 0s - loss: 0.8030 - acc: 0.760 - 0s 48us/sample - loss: 0.9551 - acc: 0.5601 - val_loss: 0.9782 - val_acc: 0.5373\n",
      "Epoch 10/10\n",
      "848/848 [==============================] - ETA: 0s - loss: 0.9212 - acc: 0.600 - 0s 43us/sample - loss: 0.9452 - acc: 0.5755 - val_loss: 0.9943 - val_acc: 0.5296\n",
      "Train on 848 samples, validate on 389 samples\n",
      "Epoch 1/10\n",
      "848/848 [==============================] - ETA: 0s - loss: 1.0924 - acc: 0.280 - 0s 125us/sample - loss: 1.0302 - acc: 0.4906 - val_loss: 0.9978 - val_acc: 0.5450\n",
      "Epoch 2/10\n",
      "848/848 [==============================] - ETA: 0s - loss: 1.0403 - acc: 0.520 - 0s 45us/sample - loss: 0.9897 - acc: 0.5318 - val_loss: 0.9883 - val_acc: 0.5219\n",
      "Epoch 3/10\n",
      "848/848 [==============================] - ETA: 0s - loss: 1.0608 - acc: 0.480 - 0s 51us/sample - loss: 0.9811 - acc: 0.5401 - val_loss: 0.9916 - val_acc: 0.5527\n",
      "Epoch 4/10\n",
      "848/848 [==============================] - ETA: 0s - loss: 0.8469 - acc: 0.600 - 0s 41us/sample - loss: 0.9624 - acc: 0.5578 - val_loss: 0.9913 - val_acc: 0.5347\n",
      "Epoch 5/10\n",
      "848/848 [==============================] - ETA: 0s - loss: 0.9582 - acc: 0.600 - 0s 43us/sample - loss: 0.9600 - acc: 0.5743 - val_loss: 0.9838 - val_acc: 0.5244\n",
      "Epoch 6/10\n",
      "848/848 [==============================] - ETA: 0s - loss: 0.9849 - acc: 0.560 - 0s 46us/sample - loss: 0.9543 - acc: 0.5743 - val_loss: 0.9829 - val_acc: 0.5321\n",
      "Epoch 7/10\n",
      "848/848 [==============================] - ETA: 0s - loss: 0.9449 - acc: 0.760 - 0s 55us/sample - loss: 0.9554 - acc: 0.5755 - val_loss: 0.9833 - val_acc: 0.5270\n",
      "Epoch 8/10\n",
      "848/848 [==============================] - ETA: 0s - loss: 0.9086 - acc: 0.680 - 0s 48us/sample - loss: 0.9529 - acc: 0.5708 - val_loss: 0.9852 - val_acc: 0.5296\n",
      "Epoch 9/10\n",
      "848/848 [==============================] - ETA: 0s - loss: 0.9730 - acc: 0.480 - 0s 48us/sample - loss: 0.9515 - acc: 0.5731 - val_loss: 0.9880 - val_acc: 0.5296\n",
      "Epoch 10/10\n",
      "848/848 [==============================] - ETA: 0s - loss: 1.1035 - acc: 0.440 - 0s 48us/sample - loss: 0.9532 - acc: 0.5837 - val_loss: 0.9908 - val_acc: 0.5321\n"
     ]
    },
    {
     "data": {
      "text/html": [
       "<span style=\"color:#4527A0\"><h1 style=\"font-size:18px\">Trial complete</h1></span>"
      ],
      "text/plain": [
       "<IPython.core.display.HTML object>"
      ]
     },
     "metadata": {},
     "output_type": "display_data"
    },
    {
     "data": {
      "text/html": [
       "<span style=\"color:#4527A0\"><h1 style=\"font-size:18px\">Trial summary</h1></span>"
      ],
      "text/plain": [
       "<IPython.core.display.HTML object>"
      ]
     },
     "metadata": {},
     "output_type": "display_data"
    },
    {
     "data": {
      "text/html": [
       "<span style=\"color:cyan\"> |-Trial ID: 9df05278fce83e8e9fe816055cffa2d1</span>"
      ],
      "text/plain": [
       "<IPython.core.display.HTML object>"
      ]
     },
     "metadata": {},
     "output_type": "display_data"
    },
    {
     "data": {
      "text/html": [
       "<span style=\"color:cyan\"> |-Score: 0.5475578308105469</span>"
      ],
      "text/plain": [
       "<IPython.core.display.HTML object>"
      ]
     },
     "metadata": {},
     "output_type": "display_data"
    },
    {
     "data": {
      "text/html": [
       "<span style=\"color:cyan\"> |-Best step: 0</span>"
      ],
      "text/plain": [
       "<IPython.core.display.HTML object>"
      ]
     },
     "metadata": {},
     "output_type": "display_data"
    },
    {
     "data": {
      "text/html": [
       "<span style=\"color:#7E57C2\"><h2 style=\"font-size:16px\">Hyperparameters:</h2></span>"
      ],
      "text/plain": [
       "<IPython.core.display.HTML object>"
      ]
     },
     "metadata": {},
     "output_type": "display_data"
    },
    {
     "data": {
      "text/html": [
       "<span style=\"color:cyan\"> |-layer_0_neurons: 170</span>"
      ],
      "text/plain": [
       "<IPython.core.display.HTML object>"
      ]
     },
     "metadata": {},
     "output_type": "display_data"
    },
    {
     "data": {
      "text/html": [
       "<span style=\"color:blue\"> |-layer_1_neurons: 150</span>"
      ],
      "text/plain": [
       "<IPython.core.display.HTML object>"
      ]
     },
     "metadata": {},
     "output_type": "display_data"
    },
    {
     "data": {
      "text/html": [
       "<span style=\"color:cyan\"> |-layer_2_neurons: 190</span>"
      ],
      "text/plain": [
       "<IPython.core.display.HTML object>"
      ]
     },
     "metadata": {},
     "output_type": "display_data"
    },
    {
     "data": {
      "text/html": [
       "<span style=\"color:blue\"> |-n_input_neurons: 90</span>"
      ],
      "text/plain": [
       "<IPython.core.display.HTML object>"
      ]
     },
     "metadata": {},
     "output_type": "display_data"
    },
    {
     "data": {
      "text/html": [
       "<span style=\"color:cyan\"> |-n_layers: 1</span>"
      ],
      "text/plain": [
       "<IPython.core.display.HTML object>"
      ]
     },
     "metadata": {},
     "output_type": "display_data"
    },
    {
     "name": "stdout",
     "output_type": "stream",
     "text": [
      "Train on 848 samples, validate on 389 samples\n",
      "Epoch 1/10\n",
      "848/848 [==============================] - ETA: 0s - loss: 1.1127 - acc: 0.200 - 0s 117us/sample - loss: 1.0331 - acc: 0.4800 - val_loss: 0.9883 - val_acc: 0.5296\n",
      "Epoch 2/10\n",
      "848/848 [==============================] - ETA: 0s - loss: 1.0330 - acc: 0.480 - 0s 43us/sample - loss: 0.9848 - acc: 0.5413 - val_loss: 0.9968 - val_acc: 0.5244\n",
      "Epoch 3/10\n",
      "848/848 [==============================] - ETA: 0s - loss: 0.8359 - acc: 0.640 - 0s 41us/sample - loss: 0.9667 - acc: 0.5613 - val_loss: 0.9969 - val_acc: 0.5116\n",
      "Epoch 4/10\n",
      "848/848 [==============================] - ETA: 0s - loss: 0.9214 - acc: 0.640 - 0s 49us/sample - loss: 0.9625 - acc: 0.5696 - val_loss: 0.9851 - val_acc: 0.5321\n",
      "Epoch 5/10\n",
      "848/848 [==============================] - ETA: 0s - loss: 0.9497 - acc: 0.600 - 0s 52us/sample - loss: 0.9553 - acc: 0.5708 - val_loss: 0.9940 - val_acc: 0.5347\n",
      "Epoch 6/10\n",
      "848/848 [==============================] - ETA: 0s - loss: 1.1010 - acc: 0.440 - 0s 43us/sample - loss: 0.9536 - acc: 0.5696 - val_loss: 0.9839 - val_acc: 0.5347\n",
      "Epoch 7/10\n",
      "848/848 [==============================] - ETA: 0s - loss: 0.9393 - acc: 0.640 - 0s 42us/sample - loss: 0.9559 - acc: 0.5708 - val_loss: 0.9928 - val_acc: 0.5296\n",
      "Epoch 8/10\n",
      "848/848 [==============================] - ETA: 0s - loss: 1.0260 - acc: 0.560 - 0s 41us/sample - loss: 0.9511 - acc: 0.5649 - val_loss: 0.9946 - val_acc: 0.5167\n",
      "Epoch 9/10\n",
      "848/848 [==============================] - ETA: 0s - loss: 0.8377 - acc: 0.600 - 0s 47us/sample - loss: 0.9445 - acc: 0.5767 - val_loss: 0.9920 - val_acc: 0.5296\n",
      "Epoch 10/10\n",
      "848/848 [==============================] - ETA: 0s - loss: 1.1292 - acc: 0.440 - 0s 40us/sample - loss: 0.9397 - acc: 0.5743 - val_loss: 0.9998 - val_acc: 0.5193\n",
      "Train on 848 samples, validate on 389 samples\n",
      "Epoch 1/10\n",
      "848/848 [==============================] - ETA: 0s - loss: 1.1414 - acc: 0.200 - 0s 66us/sample - loss: 1.0311 - acc: 0.4752 - val_loss: 0.9971 - val_acc: 0.5244\n",
      "Epoch 2/10\n",
      "848/848 [==============================] - ETA: 0s - loss: 1.0643 - acc: 0.520 - 0s 39us/sample - loss: 0.9841 - acc: 0.5495 - val_loss: 1.0053 - val_acc: 0.4961\n",
      "Epoch 3/10\n",
      "848/848 [==============================] - ETA: 0s - loss: 0.9648 - acc: 0.560 - 0s 41us/sample - loss: 0.9674 - acc: 0.5519 - val_loss: 0.9998 - val_acc: 0.5116\n",
      "Epoch 4/10\n",
      "848/848 [==============================] - ETA: 0s - loss: 1.0022 - acc: 0.520 - 0s 44us/sample - loss: 0.9631 - acc: 0.5696 - val_loss: 0.9935 - val_acc: 0.5064\n",
      "Epoch 5/10\n",
      "848/848 [==============================] - ETA: 0s - loss: 0.9029 - acc: 0.560 - 0s 90us/sample - loss: 0.9615 - acc: 0.5719 - val_loss: 1.0006 - val_acc: 0.5398\n",
      "Epoch 6/10\n",
      "848/848 [==============================] - ETA: 0s - loss: 0.8430 - acc: 0.680 - 0s 42us/sample - loss: 0.9551 - acc: 0.5660 - val_loss: 0.9836 - val_acc: 0.5321\n",
      "Epoch 7/10\n",
      "848/848 [==============================] - ETA: 0s - loss: 0.9373 - acc: 0.520 - 0s 45us/sample - loss: 0.9541 - acc: 0.5708 - val_loss: 0.9819 - val_acc: 0.5373\n",
      "Epoch 8/10\n",
      "848/848 [==============================] - ETA: 0s - loss: 0.7648 - acc: 0.720 - 0s 41us/sample - loss: 0.9490 - acc: 0.5660 - val_loss: 1.0034 - val_acc: 0.5116\n",
      "Epoch 9/10\n",
      "848/848 [==============================] - ETA: 0s - loss: 1.0552 - acc: 0.440 - 0s 40us/sample - loss: 0.9486 - acc: 0.5708 - val_loss: 0.9869 - val_acc: 0.5167\n",
      "Epoch 10/10\n",
      "848/848 [==============================] - ETA: 0s - loss: 0.8465 - acc: 0.560 - 0s 40us/sample - loss: 0.9471 - acc: 0.5696 - val_loss: 0.9897 - val_acc: 0.5244\n"
     ]
    },
    {
     "data": {
      "text/html": [
       "<span style=\"color:#4527A0\"><h1 style=\"font-size:18px\">Trial complete</h1></span>"
      ],
      "text/plain": [
       "<IPython.core.display.HTML object>"
      ]
     },
     "metadata": {},
     "output_type": "display_data"
    },
    {
     "data": {
      "text/html": [
       "<span style=\"color:#4527A0\"><h1 style=\"font-size:18px\">Trial summary</h1></span>"
      ],
      "text/plain": [
       "<IPython.core.display.HTML object>"
      ]
     },
     "metadata": {},
     "output_type": "display_data"
    },
    {
     "data": {
      "text/html": [
       "<span style=\"color:cyan\"> |-Trial ID: b67a4e33d05b2d690abfed35c4fe6422</span>"
      ],
      "text/plain": [
       "<IPython.core.display.HTML object>"
      ]
     },
     "metadata": {},
     "output_type": "display_data"
    },
    {
     "data": {
      "text/html": [
       "<span style=\"color:cyan\"> |-Score: 0.5372750759124756</span>"
      ],
      "text/plain": [
       "<IPython.core.display.HTML object>"
      ]
     },
     "metadata": {},
     "output_type": "display_data"
    },
    {
     "data": {
      "text/html": [
       "<span style=\"color:cyan\"> |-Best step: 0</span>"
      ],
      "text/plain": [
       "<IPython.core.display.HTML object>"
      ]
     },
     "metadata": {},
     "output_type": "display_data"
    },
    {
     "data": {
      "text/html": [
       "<span style=\"color:#7E57C2\"><h2 style=\"font-size:16px\">Hyperparameters:</h2></span>"
      ],
      "text/plain": [
       "<IPython.core.display.HTML object>"
      ]
     },
     "metadata": {},
     "output_type": "display_data"
    },
    {
     "data": {
      "text/html": [
       "<span style=\"color:cyan\"> |-layer_0_neurons: 130</span>"
      ],
      "text/plain": [
       "<IPython.core.display.HTML object>"
      ]
     },
     "metadata": {},
     "output_type": "display_data"
    },
    {
     "data": {
      "text/html": [
       "<span style=\"color:blue\"> |-layer_1_neurons: 110</span>"
      ],
      "text/plain": [
       "<IPython.core.display.HTML object>"
      ]
     },
     "metadata": {},
     "output_type": "display_data"
    },
    {
     "data": {
      "text/html": [
       "<span style=\"color:cyan\"> |-layer_2_neurons: 130</span>"
      ],
      "text/plain": [
       "<IPython.core.display.HTML object>"
      ]
     },
     "metadata": {},
     "output_type": "display_data"
    },
    {
     "data": {
      "text/html": [
       "<span style=\"color:blue\"> |-n_input_neurons: 190</span>"
      ],
      "text/plain": [
       "<IPython.core.display.HTML object>"
      ]
     },
     "metadata": {},
     "output_type": "display_data"
    },
    {
     "data": {
      "text/html": [
       "<span style=\"color:cyan\"> |-n_layers: 1</span>"
      ],
      "text/plain": [
       "<IPython.core.display.HTML object>"
      ]
     },
     "metadata": {},
     "output_type": "display_data"
    },
    {
     "name": "stdout",
     "output_type": "stream",
     "text": [
      "Train on 848 samples, validate on 389 samples\n",
      "Epoch 1/10\n",
      "848/848 [==============================] - ETA: 0s - loss: 1.1092 - acc: 0.120 - 0s 132us/sample - loss: 1.0706 - acc: 0.4458 - val_loss: 1.0261 - val_acc: 0.4884\n",
      "Epoch 2/10\n",
      "848/848 [==============================] - ETA: 0s - loss: 1.0276 - acc: 0.520 - 0s 49us/sample - loss: 1.0075 - acc: 0.5236 - val_loss: 0.9835 - val_acc: 0.5296\n",
      "Epoch 3/10\n",
      "848/848 [==============================] - ETA: 0s - loss: 0.8839 - acc: 0.680 - 0s 51us/sample - loss: 0.9745 - acc: 0.5472 - val_loss: 0.9780 - val_acc: 0.5321\n",
      "Epoch 4/10\n",
      "848/848 [==============================] - ETA: 0s - loss: 0.9764 - acc: 0.480 - 0s 46us/sample - loss: 0.9837 - acc: 0.5271 - val_loss: 0.9808 - val_acc: 0.5219\n",
      "Epoch 5/10\n",
      "848/848 [==============================] - ETA: 0s - loss: 1.0210 - acc: 0.480 - 0s 43us/sample - loss: 0.9728 - acc: 0.5483 - val_loss: 0.9877 - val_acc: 0.5244\n",
      "Epoch 6/10\n",
      "848/848 [==============================] - ETA: 0s - loss: 0.9429 - acc: 0.640 - 0s 46us/sample - loss: 0.9602 - acc: 0.5719 - val_loss: 0.9805 - val_acc: 0.5347\n",
      "Epoch 7/10\n",
      "848/848 [==============================] - ETA: 0s - loss: 0.9098 - acc: 0.680 - 0s 42us/sample - loss: 0.9628 - acc: 0.5601 - val_loss: 0.9763 - val_acc: 0.5347\n",
      "Epoch 8/10\n",
      "848/848 [==============================] - ETA: 0s - loss: 0.9428 - acc: 0.600 - 0s 48us/sample - loss: 0.9786 - acc: 0.5413 - val_loss: 0.9817 - val_acc: 0.5527\n",
      "Epoch 9/10\n",
      "848/848 [==============================] - ETA: 0s - loss: 1.0129 - acc: 0.520 - 0s 48us/sample - loss: 0.9594 - acc: 0.5625 - val_loss: 0.9857 - val_acc: 0.5347\n",
      "Epoch 10/10\n",
      "848/848 [==============================] - ETA: 0s - loss: 1.0752 - acc: 0.480 - 0s 47us/sample - loss: 0.9496 - acc: 0.5708 - val_loss: 0.9869 - val_acc: 0.5116\n",
      "Train on 848 samples, validate on 389 samples\n",
      "Epoch 1/10\n",
      "848/848 [==============================] - ETA: 0s - loss: 1.1234 - acc: 0.240 - 0s 75us/sample - loss: 1.0588 - acc: 0.4446 - val_loss: 1.0126 - val_acc: 0.4859\n",
      "Epoch 2/10\n",
      "848/848 [==============================] - ETA: 0s - loss: 1.0768 - acc: 0.320 - 0s 44us/sample - loss: 1.0039 - acc: 0.5425 - val_loss: 0.9793 - val_acc: 0.5450\n",
      "Epoch 3/10\n",
      "848/848 [==============================] - ETA: 0s - loss: 0.8971 - acc: 0.680 - 0s 42us/sample - loss: 0.9718 - acc: 0.5531 - val_loss: 0.9856 - val_acc: 0.5141\n",
      "Epoch 4/10\n",
      "848/848 [==============================] - ETA: 0s - loss: 0.9490 - acc: 0.560 - 0s 43us/sample - loss: 0.9633 - acc: 0.5684 - val_loss: 0.9822 - val_acc: 0.5347\n",
      "Epoch 5/10\n",
      "848/848 [==============================] - ETA: 0s - loss: 1.0730 - acc: 0.480 - 0s 46us/sample - loss: 0.9582 - acc: 0.5578 - val_loss: 0.9848 - val_acc: 0.5373\n",
      "Epoch 6/10\n",
      "848/848 [==============================] - ETA: 0s - loss: 0.8272 - acc: 0.680 - 0s 47us/sample - loss: 0.9539 - acc: 0.5590 - val_loss: 0.9863 - val_acc: 0.5450\n",
      "Epoch 7/10\n",
      "848/848 [==============================] - ETA: 0s - loss: 0.7833 - acc: 0.640 - 0s 44us/sample - loss: 0.9591 - acc: 0.5401 - val_loss: 0.9817 - val_acc: 0.5373\n",
      "Epoch 8/10\n",
      "848/848 [==============================] - ETA: 0s - loss: 1.1888 - acc: 0.440 - 0s 45us/sample - loss: 0.9555 - acc: 0.5649 - val_loss: 0.9811 - val_acc: 0.5270\n",
      "Epoch 9/10\n",
      "848/848 [==============================] - ETA: 0s - loss: 0.8872 - acc: 0.560 - 0s 43us/sample - loss: 0.9536 - acc: 0.5708 - val_loss: 0.9741 - val_acc: 0.5398\n",
      "Epoch 10/10\n",
      "848/848 [==============================] - ETA: 0s - loss: 0.8734 - acc: 0.680 - 0s 46us/sample - loss: 0.9468 - acc: 0.5672 - val_loss: 0.9867 - val_acc: 0.5450\n"
     ]
    },
    {
     "data": {
      "text/html": [
       "<span style=\"color:#4527A0\"><h1 style=\"font-size:18px\">Trial complete</h1></span>"
      ],
      "text/plain": [
       "<IPython.core.display.HTML object>"
      ]
     },
     "metadata": {},
     "output_type": "display_data"
    },
    {
     "data": {
      "text/html": [
       "<span style=\"color:#4527A0\"><h1 style=\"font-size:18px\">Trial summary</h1></span>"
      ],
      "text/plain": [
       "<IPython.core.display.HTML object>"
      ]
     },
     "metadata": {},
     "output_type": "display_data"
    },
    {
     "data": {
      "text/html": [
       "<span style=\"color:cyan\"> |-Trial ID: 5f0c38c9560c002ddd741b4a348795f4</span>"
      ],
      "text/plain": [
       "<IPython.core.display.HTML object>"
      ]
     },
     "metadata": {},
     "output_type": "display_data"
    },
    {
     "data": {
      "text/html": [
       "<span style=\"color:cyan\"> |-Score: 0.5488431453704834</span>"
      ],
      "text/plain": [
       "<IPython.core.display.HTML object>"
      ]
     },
     "metadata": {},
     "output_type": "display_data"
    },
    {
     "data": {
      "text/html": [
       "<span style=\"color:cyan\"> |-Best step: 0</span>"
      ],
      "text/plain": [
       "<IPython.core.display.HTML object>"
      ]
     },
     "metadata": {},
     "output_type": "display_data"
    },
    {
     "data": {
      "text/html": [
       "<span style=\"color:#7E57C2\"><h2 style=\"font-size:16px\">Hyperparameters:</h2></span>"
      ],
      "text/plain": [
       "<IPython.core.display.HTML object>"
      ]
     },
     "metadata": {},
     "output_type": "display_data"
    },
    {
     "data": {
      "text/html": [
       "<span style=\"color:cyan\"> |-layer_0_neurons: 30</span>"
      ],
      "text/plain": [
       "<IPython.core.display.HTML object>"
      ]
     },
     "metadata": {},
     "output_type": "display_data"
    },
    {
     "data": {
      "text/html": [
       "<span style=\"color:blue\"> |-layer_1_neurons: 110</span>"
      ],
      "text/plain": [
       "<IPython.core.display.HTML object>"
      ]
     },
     "metadata": {},
     "output_type": "display_data"
    },
    {
     "data": {
      "text/html": [
       "<span style=\"color:cyan\"> |-layer_2_neurons: 30</span>"
      ],
      "text/plain": [
       "<IPython.core.display.HTML object>"
      ]
     },
     "metadata": {},
     "output_type": "display_data"
    },
    {
     "data": {
      "text/html": [
       "<span style=\"color:blue\"> |-n_input_neurons: 150</span>"
      ],
      "text/plain": [
       "<IPython.core.display.HTML object>"
      ]
     },
     "metadata": {},
     "output_type": "display_data"
    },
    {
     "data": {
      "text/html": [
       "<span style=\"color:cyan\"> |-n_layers: 2</span>"
      ],
      "text/plain": [
       "<IPython.core.display.HTML object>"
      ]
     },
     "metadata": {},
     "output_type": "display_data"
    },
    {
     "name": "stdout",
     "output_type": "stream",
     "text": [
      "Train on 848 samples, validate on 389 samples\n",
      "Epoch 1/10\n",
      "848/848 [==============================] - ETA: 0s - loss: 1.0743 - acc: 0.480 - 0s 107us/sample - loss: 1.0504 - acc: 0.4646 - val_loss: 1.0160 - val_acc: 0.4987\n",
      "Epoch 2/10\n",
      "848/848 [==============================] - ETA: 0s - loss: 0.9847 - acc: 0.480 - 0s 44us/sample - loss: 1.0165 - acc: 0.5142 - val_loss: 0.9991 - val_acc: 0.5398\n",
      "Epoch 3/10\n",
      "848/848 [==============================] - ETA: 0s - loss: 1.0761 - acc: 0.440 - 0s 39us/sample - loss: 0.9935 - acc: 0.5448 - val_loss: 0.9818 - val_acc: 0.5398\n",
      "Epoch 4/10\n",
      "848/848 [==============================] - ETA: 0s - loss: 0.8772 - acc: 0.640 - 0s 34us/sample - loss: 0.9785 - acc: 0.5554 - val_loss: 0.9827 - val_acc: 0.5321\n",
      "Epoch 5/10\n",
      "848/848 [==============================] - ETA: 0s - loss: 1.0141 - acc: 0.520 - 0s 36us/sample - loss: 0.9737 - acc: 0.5613 - val_loss: 0.9776 - val_acc: 0.5270\n",
      "Epoch 6/10\n",
      "848/848 [==============================] - ETA: 0s - loss: 1.0657 - acc: 0.520 - 0s 37us/sample - loss: 0.9666 - acc: 0.5613 - val_loss: 0.9764 - val_acc: 0.5321\n",
      "Epoch 7/10\n",
      "848/848 [==============================] - ETA: 0s - loss: 0.9559 - acc: 0.560 - 0s 38us/sample - loss: 0.9650 - acc: 0.5625 - val_loss: 0.9771 - val_acc: 0.5296\n",
      "Epoch 8/10\n",
      "848/848 [==============================] - ETA: 0s - loss: 0.9279 - acc: 0.600 - 0s 38us/sample - loss: 0.9618 - acc: 0.5708 - val_loss: 0.9773 - val_acc: 0.5347\n",
      "Epoch 9/10\n",
      "848/848 [==============================] - ETA: 0s - loss: 0.9158 - acc: 0.600 - 0s 39us/sample - loss: 0.9643 - acc: 0.5566 - val_loss: 0.9762 - val_acc: 0.5398\n",
      "Epoch 10/10\n",
      "848/848 [==============================] - ETA: 0s - loss: 0.9398 - acc: 0.600 - 0s 37us/sample - loss: 0.9582 - acc: 0.5719 - val_loss: 0.9809 - val_acc: 0.5321\n",
      "Train on 848 samples, validate on 389 samples\n",
      "Epoch 1/10\n",
      "848/848 [==============================] - ETA: 0s - loss: 1.0938 - acc: 0.440 - 0s 66us/sample - loss: 1.0443 - acc: 0.4693 - val_loss: 1.0280 - val_acc: 0.5347\n",
      "Epoch 2/10\n",
      "848/848 [==============================] - ETA: 0s - loss: 1.0216 - acc: 0.480 - 0s 72us/sample - loss: 1.0137 - acc: 0.5118 - val_loss: 1.0074 - val_acc: 0.5476\n",
      "Epoch 3/10\n",
      "848/848 [==============================] - ETA: 0s - loss: 0.9023 - acc: 0.640 - 0s 40us/sample - loss: 0.9947 - acc: 0.5448 - val_loss: 0.9938 - val_acc: 0.5450\n",
      "Epoch 4/10\n",
      "848/848 [==============================] - ETA: 0s - loss: 1.0235 - acc: 0.520 - 0s 44us/sample - loss: 0.9806 - acc: 0.5519 - val_loss: 0.9880 - val_acc: 0.5347\n",
      "Epoch 5/10\n",
      "848/848 [==============================] - ETA: 0s - loss: 0.9995 - acc: 0.480 - 0s 37us/sample - loss: 0.9742 - acc: 0.5460 - val_loss: 0.9846 - val_acc: 0.5321\n",
      "Epoch 6/10\n",
      "848/848 [==============================] - ETA: 0s - loss: 0.9903 - acc: 0.560 - 0s 37us/sample - loss: 0.9671 - acc: 0.5660 - val_loss: 0.9874 - val_acc: 0.5321\n",
      "Epoch 7/10\n",
      "848/848 [==============================] - ETA: 0s - loss: 1.1258 - acc: 0.440 - 0s 38us/sample - loss: 0.9684 - acc: 0.5660 - val_loss: 0.9842 - val_acc: 0.5347\n",
      "Epoch 8/10\n",
      "848/848 [==============================] - ETA: 0s - loss: 0.9871 - acc: 0.480 - 0s 39us/sample - loss: 0.9600 - acc: 0.5590 - val_loss: 0.9882 - val_acc: 0.5116\n",
      "Epoch 9/10\n",
      "848/848 [==============================] - ETA: 0s - loss: 1.0459 - acc: 0.440 - 0s 41us/sample - loss: 0.9616 - acc: 0.5755 - val_loss: 0.9815 - val_acc: 0.5270\n",
      "Epoch 10/10\n",
      "848/848 [==============================] - ETA: 0s - loss: 0.9134 - acc: 0.600 - 0s 44us/sample - loss: 0.9598 - acc: 0.5519 - val_loss: 0.9903 - val_acc: 0.5373\n"
     ]
    },
    {
     "data": {
      "text/html": [
       "<span style=\"color:#4527A0\"><h1 style=\"font-size:18px\">Trial complete</h1></span>"
      ],
      "text/plain": [
       "<IPython.core.display.HTML object>"
      ]
     },
     "metadata": {},
     "output_type": "display_data"
    },
    {
     "data": {
      "text/html": [
       "<span style=\"color:#4527A0\"><h1 style=\"font-size:18px\">Trial summary</h1></span>"
      ],
      "text/plain": [
       "<IPython.core.display.HTML object>"
      ]
     },
     "metadata": {},
     "output_type": "display_data"
    },
    {
     "data": {
      "text/html": [
       "<span style=\"color:cyan\"> |-Trial ID: d842e5744bd28719b68edbe669be4aa1</span>"
      ],
      "text/plain": [
       "<IPython.core.display.HTML object>"
      ]
     },
     "metadata": {},
     "output_type": "display_data"
    },
    {
     "data": {
      "text/html": [
       "<span style=\"color:cyan\"> |-Score: 0.5437017679214478</span>"
      ],
      "text/plain": [
       "<IPython.core.display.HTML object>"
      ]
     },
     "metadata": {},
     "output_type": "display_data"
    },
    {
     "data": {
      "text/html": [
       "<span style=\"color:cyan\"> |-Best step: 0</span>"
      ],
      "text/plain": [
       "<IPython.core.display.HTML object>"
      ]
     },
     "metadata": {},
     "output_type": "display_data"
    },
    {
     "data": {
      "text/html": [
       "<span style=\"color:#7E57C2\"><h2 style=\"font-size:16px\">Hyperparameters:</h2></span>"
      ],
      "text/plain": [
       "<IPython.core.display.HTML object>"
      ]
     },
     "metadata": {},
     "output_type": "display_data"
    },
    {
     "data": {
      "text/html": [
       "<span style=\"color:cyan\"> |-layer_0_neurons: 10</span>"
      ],
      "text/plain": [
       "<IPython.core.display.HTML object>"
      ]
     },
     "metadata": {},
     "output_type": "display_data"
    },
    {
     "data": {
      "text/html": [
       "<span style=\"color:blue\"> |-layer_1_neurons: 50</span>"
      ],
      "text/plain": [
       "<IPython.core.display.HTML object>"
      ]
     },
     "metadata": {},
     "output_type": "display_data"
    },
    {
     "data": {
      "text/html": [
       "<span style=\"color:cyan\"> |-layer_2_neurons: 50</span>"
      ],
      "text/plain": [
       "<IPython.core.display.HTML object>"
      ]
     },
     "metadata": {},
     "output_type": "display_data"
    },
    {
     "data": {
      "text/html": [
       "<span style=\"color:blue\"> |-n_input_neurons: 110</span>"
      ],
      "text/plain": [
       "<IPython.core.display.HTML object>"
      ]
     },
     "metadata": {},
     "output_type": "display_data"
    },
    {
     "data": {
      "text/html": [
       "<span style=\"color:cyan\"> |-n_layers: 1</span>"
      ],
      "text/plain": [
       "<IPython.core.display.HTML object>"
      ]
     },
     "metadata": {},
     "output_type": "display_data"
    },
    {
     "name": "stdout",
     "output_type": "stream",
     "text": [
      "Train on 848 samples, validate on 389 samples\n",
      "Epoch 1/10\n",
      "848/848 [==============================] - ETA: 0s - loss: 1.0991 - acc: 0.440 - 0s 123us/sample - loss: 1.0253 - acc: 0.4941 - val_loss: 0.9942 - val_acc: 0.5476\n",
      "Epoch 2/10\n",
      "848/848 [==============================] - ETA: 0s - loss: 1.0287 - acc: 0.440 - 0s 46us/sample - loss: 0.9765 - acc: 0.5542 - val_loss: 0.9896 - val_acc: 0.5219\n",
      "Epoch 3/10\n",
      "848/848 [==============================] - ETA: 0s - loss: 1.0339 - acc: 0.480 - 0s 47us/sample - loss: 0.9697 - acc: 0.5767 - val_loss: 0.9855 - val_acc: 0.5193\n",
      "Epoch 4/10\n",
      "848/848 [==============================] - ETA: 0s - loss: 1.0075 - acc: 0.440 - 0s 47us/sample - loss: 0.9685 - acc: 0.5660 - val_loss: 1.0012 - val_acc: 0.5167\n",
      "Epoch 5/10\n",
      "848/848 [==============================] - ETA: 0s - loss: 0.7599 - acc: 0.720 - 0s 49us/sample - loss: 0.9660 - acc: 0.5625 - val_loss: 0.9835 - val_acc: 0.5476\n",
      "Epoch 6/10\n",
      "848/848 [==============================] - ETA: 0s - loss: 0.9190 - acc: 0.560 - 0s 59us/sample - loss: 0.9570 - acc: 0.5696 - val_loss: 0.9805 - val_acc: 0.5296\n",
      "Epoch 7/10\n",
      "848/848 [==============================] - ETA: 0s - loss: 1.0680 - acc: 0.520 - 0s 47us/sample - loss: 0.9621 - acc: 0.5566 - val_loss: 0.9928 - val_acc: 0.5039\n",
      "Epoch 8/10\n",
      "848/848 [==============================] - ETA: 0s - loss: 1.1185 - acc: 0.320 - 0s 51us/sample - loss: 0.9508 - acc: 0.5731 - val_loss: 0.9856 - val_acc: 0.5270\n",
      "Epoch 9/10\n",
      "848/848 [==============================] - ETA: 0s - loss: 0.8293 - acc: 0.680 - 0s 49us/sample - loss: 0.9414 - acc: 0.5814 - val_loss: 0.9862 - val_acc: 0.5321\n",
      "Epoch 10/10\n",
      "848/848 [==============================] - ETA: 0s - loss: 0.9724 - acc: 0.560 - 0s 46us/sample - loss: 0.9433 - acc: 0.5767 - val_loss: 0.9854 - val_acc: 0.5270\n",
      "Train on 848 samples, validate on 389 samples\n",
      "Epoch 1/10\n",
      "848/848 [==============================] - ETA: 0s - loss: 1.1129 - acc: 0.320 - 0s 75us/sample - loss: 1.0366 - acc: 0.4847 - val_loss: 0.9951 - val_acc: 0.5244\n",
      "Epoch 2/10\n",
      "848/848 [==============================] - ETA: 0s - loss: 0.8688 - acc: 0.720 - 0s 51us/sample - loss: 0.9940 - acc: 0.5436 - val_loss: 0.9894 - val_acc: 0.5244\n",
      "Epoch 3/10\n",
      "848/848 [==============================] - ETA: 0s - loss: 1.0152 - acc: 0.560 - 0s 53us/sample - loss: 0.9746 - acc: 0.5519 - val_loss: 0.9835 - val_acc: 0.5321\n",
      "Epoch 4/10\n",
      "848/848 [==============================] - ETA: 0s - loss: 0.8853 - acc: 0.640 - 0s 70us/sample - loss: 0.9681 - acc: 0.5566 - val_loss: 0.9847 - val_acc: 0.5219\n",
      "Epoch 5/10\n",
      "848/848 [==============================] - ETA: 0s - loss: 0.9072 - acc: 0.600 - 0s 56us/sample - loss: 0.9597 - acc: 0.5625 - val_loss: 0.9815 - val_acc: 0.5270\n",
      "Epoch 6/10\n",
      "848/848 [==============================] - ETA: 0s - loss: 1.0789 - acc: 0.480 - 0s 51us/sample - loss: 0.9587 - acc: 0.5684 - val_loss: 0.9799 - val_acc: 0.5244\n",
      "Epoch 7/10\n",
      "848/848 [==============================] - ETA: 0s - loss: 0.9828 - acc: 0.480 - 0s 53us/sample - loss: 0.9578 - acc: 0.5578 - val_loss: 0.9940 - val_acc: 0.5064\n",
      "Epoch 8/10\n",
      "848/848 [==============================] - ETA: 0s - loss: 1.0990 - acc: 0.360 - 0s 52us/sample - loss: 0.9609 - acc: 0.5542 - val_loss: 0.9878 - val_acc: 0.5270\n",
      "Epoch 9/10\n",
      "848/848 [==============================] - ETA: 0s - loss: 0.7668 - acc: 0.760 - 0s 50us/sample - loss: 0.9495 - acc: 0.5684 - val_loss: 0.9787 - val_acc: 0.5373\n",
      "Epoch 10/10\n",
      "848/848 [==============================] - ETA: 0s - loss: 1.0230 - acc: 0.480 - 0s 56us/sample - loss: 0.9477 - acc: 0.5790 - val_loss: 0.9812 - val_acc: 0.5270\n"
     ]
    },
    {
     "data": {
      "text/html": [
       "<span style=\"color:#4527A0\"><h1 style=\"font-size:18px\">Trial complete</h1></span>"
      ],
      "text/plain": [
       "<IPython.core.display.HTML object>"
      ]
     },
     "metadata": {},
     "output_type": "display_data"
    },
    {
     "data": {
      "text/html": [
       "<span style=\"color:#4527A0\"><h1 style=\"font-size:18px\">Trial summary</h1></span>"
      ],
      "text/plain": [
       "<IPython.core.display.HTML object>"
      ]
     },
     "metadata": {},
     "output_type": "display_data"
    },
    {
     "data": {
      "text/html": [
       "<span style=\"color:cyan\"> |-Trial ID: 11be424ac2292c30dbb9581e44583738</span>"
      ],
      "text/plain": [
       "<IPython.core.display.HTML object>"
      ]
     },
     "metadata": {},
     "output_type": "display_data"
    },
    {
     "data": {
      "text/html": [
       "<span style=\"color:cyan\"> |-Score: 0.5424164533615112</span>"
      ],
      "text/plain": [
       "<IPython.core.display.HTML object>"
      ]
     },
     "metadata": {},
     "output_type": "display_data"
    },
    {
     "data": {
      "text/html": [
       "<span style=\"color:cyan\"> |-Best step: 0</span>"
      ],
      "text/plain": [
       "<IPython.core.display.HTML object>"
      ]
     },
     "metadata": {},
     "output_type": "display_data"
    },
    {
     "data": {
      "text/html": [
       "<span style=\"color:#7E57C2\"><h2 style=\"font-size:16px\">Hyperparameters:</h2></span>"
      ],
      "text/plain": [
       "<IPython.core.display.HTML object>"
      ]
     },
     "metadata": {},
     "output_type": "display_data"
    },
    {
     "data": {
      "text/html": [
       "<span style=\"color:cyan\"> |-layer_0_neurons: 150</span>"
      ],
      "text/plain": [
       "<IPython.core.display.HTML object>"
      ]
     },
     "metadata": {},
     "output_type": "display_data"
    },
    {
     "data": {
      "text/html": [
       "<span style=\"color:blue\"> |-layer_1_neurons: 150</span>"
      ],
      "text/plain": [
       "<IPython.core.display.HTML object>"
      ]
     },
     "metadata": {},
     "output_type": "display_data"
    },
    {
     "data": {
      "text/html": [
       "<span style=\"color:cyan\"> |-layer_2_neurons: 70</span>"
      ],
      "text/plain": [
       "<IPython.core.display.HTML object>"
      ]
     },
     "metadata": {},
     "output_type": "display_data"
    },
    {
     "data": {
      "text/html": [
       "<span style=\"color:blue\"> |-n_input_neurons: 150</span>"
      ],
      "text/plain": [
       "<IPython.core.display.HTML object>"
      ]
     },
     "metadata": {},
     "output_type": "display_data"
    },
    {
     "data": {
      "text/html": [
       "<span style=\"color:cyan\"> |-n_layers: 2</span>"
      ],
      "text/plain": [
       "<IPython.core.display.HTML object>"
      ]
     },
     "metadata": {},
     "output_type": "display_data"
    },
    {
     "name": "stdout",
     "output_type": "stream",
     "text": [
      "Train on 848 samples, validate on 389 samples\n",
      "Epoch 1/10\n",
      "848/848 [==============================] - ETA: 0s - loss: 1.0964 - acc: 0.400 - 0s 136us/sample - loss: 1.0375 - acc: 0.4717 - val_loss: 1.0023 - val_acc: 0.5476\n",
      "Epoch 2/10\n",
      "848/848 [==============================] - ETA: 0s - loss: 1.0853 - acc: 0.440 - 0s 49us/sample - loss: 0.9873 - acc: 0.5483 - val_loss: 1.0083 - val_acc: 0.4807\n",
      "Epoch 3/10\n",
      "848/848 [==============================] - ETA: 0s - loss: 1.0822 - acc: 0.440 - 0s 45us/sample - loss: 0.9764 - acc: 0.5519 - val_loss: 0.9900 - val_acc: 0.5321\n",
      "Epoch 4/10\n",
      "848/848 [==============================] - ETA: 0s - loss: 0.9275 - acc: 0.560 - 0s 43us/sample - loss: 0.9715 - acc: 0.5507 - val_loss: 0.9781 - val_acc: 0.5270\n",
      "Epoch 5/10\n",
      "848/848 [==============================] - ETA: 0s - loss: 1.0577 - acc: 0.480 - 0s 43us/sample - loss: 0.9629 - acc: 0.5625 - val_loss: 0.9790 - val_acc: 0.5321\n",
      "Epoch 6/10\n",
      "848/848 [==============================] - ETA: 0s - loss: 0.9305 - acc: 0.640 - 0s 50us/sample - loss: 0.9611 - acc: 0.5649 - val_loss: 0.9764 - val_acc: 0.5373\n",
      "Epoch 7/10\n",
      "848/848 [==============================] - ETA: 0s - loss: 0.9629 - acc: 0.600 - 0s 51us/sample - loss: 0.9575 - acc: 0.5660 - val_loss: 0.9796 - val_acc: 0.5373\n",
      "Epoch 8/10\n",
      "848/848 [==============================] - ETA: 0s - loss: 0.9402 - acc: 0.600 - 0s 45us/sample - loss: 0.9502 - acc: 0.5684 - val_loss: 0.9714 - val_acc: 0.5450\n",
      "Epoch 9/10\n",
      "848/848 [==============================] - ETA: 0s - loss: 0.8379 - acc: 0.680 - 0s 42us/sample - loss: 0.9477 - acc: 0.5814 - val_loss: 0.9801 - val_acc: 0.5347\n",
      "Epoch 10/10\n",
      "848/848 [==============================] - ETA: 0s - loss: 0.9459 - acc: 0.640 - 0s 43us/sample - loss: 0.9470 - acc: 0.5696 - val_loss: 0.9911 - val_acc: 0.5116\n",
      "Train on 848 samples, validate on 389 samples\n",
      "Epoch 1/10\n",
      "848/848 [==============================] - ETA: 0s - loss: 1.0969 - acc: 0.360 - 0s 88us/sample - loss: 1.0537 - acc: 0.4623 - val_loss: 1.0250 - val_acc: 0.4756\n",
      "Epoch 2/10\n",
      "848/848 [==============================] - ETA: 0s - loss: 0.9966 - acc: 0.480 - 0s 59us/sample - loss: 0.9994 - acc: 0.5035 - val_loss: 1.0058 - val_acc: 0.5244\n",
      "Epoch 3/10\n",
      "848/848 [==============================] - ETA: 0s - loss: 0.9871 - acc: 0.520 - 0s 55us/sample - loss: 0.9845 - acc: 0.5613 - val_loss: 0.9966 - val_acc: 0.5141\n",
      "Epoch 4/10\n",
      "848/848 [==============================] - ETA: 0s - loss: 0.7508 - acc: 0.800 - 0s 52us/sample - loss: 0.9789 - acc: 0.5495 - val_loss: 0.9907 - val_acc: 0.5321\n",
      "Epoch 5/10\n",
      "848/848 [==============================] - ETA: 0s - loss: 0.9068 - acc: 0.600 - 0s 48us/sample - loss: 0.9694 - acc: 0.5613 - val_loss: 0.9917 - val_acc: 0.5090\n",
      "Epoch 6/10\n",
      "848/848 [==============================] - ETA: 0s - loss: 1.0022 - acc: 0.560 - 0s 47us/sample - loss: 0.9607 - acc: 0.5696 - val_loss: 0.9880 - val_acc: 0.5116\n",
      "Epoch 7/10\n",
      "848/848 [==============================] - ETA: 0s - loss: 0.9787 - acc: 0.520 - 0s 60us/sample - loss: 0.9684 - acc: 0.5531 - val_loss: 0.9862 - val_acc: 0.5193\n",
      "Epoch 8/10\n",
      "848/848 [==============================] - ETA: 0s - loss: 0.8559 - acc: 0.680 - 0s 53us/sample - loss: 0.9610 - acc: 0.5625 - val_loss: 0.9735 - val_acc: 0.5321\n",
      "Epoch 9/10\n",
      "848/848 [==============================] - ETA: 0s - loss: 0.9307 - acc: 0.640 - 0s 48us/sample - loss: 0.9483 - acc: 0.5660 - val_loss: 0.9801 - val_acc: 0.5321\n",
      "Epoch 10/10\n",
      "848/848 [==============================] - ETA: 0s - loss: 0.9116 - acc: 0.480 - 0s 46us/sample - loss: 0.9515 - acc: 0.5649 - val_loss: 0.9691 - val_acc: 0.5373\n"
     ]
    },
    {
     "data": {
      "text/html": [
       "<span style=\"color:#4527A0\"><h1 style=\"font-size:18px\">Trial complete</h1></span>"
      ],
      "text/plain": [
       "<IPython.core.display.HTML object>"
      ]
     },
     "metadata": {},
     "output_type": "display_data"
    },
    {
     "data": {
      "text/html": [
       "<span style=\"color:#4527A0\"><h1 style=\"font-size:18px\">Trial summary</h1></span>"
      ],
      "text/plain": [
       "<IPython.core.display.HTML object>"
      ]
     },
     "metadata": {},
     "output_type": "display_data"
    },
    {
     "data": {
      "text/html": [
       "<span style=\"color:cyan\"> |-Trial ID: ff3a391543927994bf72156c611329f9</span>"
      ],
      "text/plain": [
       "<IPython.core.display.HTML object>"
      ]
     },
     "metadata": {},
     "output_type": "display_data"
    },
    {
     "data": {
      "text/html": [
       "<span style=\"color:cyan\"> |-Score: 0.5424164533615112</span>"
      ],
      "text/plain": [
       "<IPython.core.display.HTML object>"
      ]
     },
     "metadata": {},
     "output_type": "display_data"
    },
    {
     "data": {
      "text/html": [
       "<span style=\"color:cyan\"> |-Best step: 0</span>"
      ],
      "text/plain": [
       "<IPython.core.display.HTML object>"
      ]
     },
     "metadata": {},
     "output_type": "display_data"
    },
    {
     "data": {
      "text/html": [
       "<span style=\"color:#7E57C2\"><h2 style=\"font-size:16px\">Hyperparameters:</h2></span>"
      ],
      "text/plain": [
       "<IPython.core.display.HTML object>"
      ]
     },
     "metadata": {},
     "output_type": "display_data"
    },
    {
     "data": {
      "text/html": [
       "<span style=\"color:cyan\"> |-layer_0_neurons: 90</span>"
      ],
      "text/plain": [
       "<IPython.core.display.HTML object>"
      ]
     },
     "metadata": {},
     "output_type": "display_data"
    },
    {
     "data": {
      "text/html": [
       "<span style=\"color:blue\"> |-layer_1_neurons: 10</span>"
      ],
      "text/plain": [
       "<IPython.core.display.HTML object>"
      ]
     },
     "metadata": {},
     "output_type": "display_data"
    },
    {
     "data": {
      "text/html": [
       "<span style=\"color:cyan\"> |-layer_2_neurons: 190</span>"
      ],
      "text/plain": [
       "<IPython.core.display.HTML object>"
      ]
     },
     "metadata": {},
     "output_type": "display_data"
    },
    {
     "data": {
      "text/html": [
       "<span style=\"color:blue\"> |-n_input_neurons: 70</span>"
      ],
      "text/plain": [
       "<IPython.core.display.HTML object>"
      ]
     },
     "metadata": {},
     "output_type": "display_data"
    },
    {
     "data": {
      "text/html": [
       "<span style=\"color:cyan\"> |-n_layers: 3</span>"
      ],
      "text/plain": [
       "<IPython.core.display.HTML object>"
      ]
     },
     "metadata": {},
     "output_type": "display_data"
    },
    {
     "name": "stdout",
     "output_type": "stream",
     "text": [
      "Train on 848 samples, validate on 389 samples\n",
      "Epoch 1/10\n",
      "848/848 [==============================] - ETA: 0s - loss: 1.1014 - acc: 0.240 - 0s 140us/sample - loss: 1.0389 - acc: 0.4670 - val_loss: 1.0038 - val_acc: 0.5244\n",
      "Epoch 2/10\n",
      "848/848 [==============================] - ETA: 0s - loss: 1.0284 - acc: 0.480 - 0s 58us/sample - loss: 0.9861 - acc: 0.5554 - val_loss: 0.9935 - val_acc: 0.5347\n",
      "Epoch 3/10\n",
      "848/848 [==============================] - ETA: 0s - loss: 1.2257 - acc: 0.400 - 0s 49us/sample - loss: 0.9767 - acc: 0.5448 - val_loss: 0.9920 - val_acc: 0.5141\n",
      "Epoch 4/10\n",
      "848/848 [==============================] - ETA: 0s - loss: 0.8454 - acc: 0.680 - 0s 52us/sample - loss: 0.9677 - acc: 0.5566 - val_loss: 0.9804 - val_acc: 0.5219\n",
      "Epoch 5/10\n",
      "848/848 [==============================] - ETA: 0s - loss: 0.9876 - acc: 0.520 - 0s 53us/sample - loss: 0.9648 - acc: 0.5672 - val_loss: 0.9814 - val_acc: 0.5296\n",
      "Epoch 6/10\n",
      "848/848 [==============================] - ETA: 0s - loss: 0.8763 - acc: 0.640 - 0s 54us/sample - loss: 0.9562 - acc: 0.5672 - val_loss: 0.9743 - val_acc: 0.5321\n",
      "Epoch 7/10\n",
      "848/848 [==============================] - ETA: 0s - loss: 0.8367 - acc: 0.680 - 0s 60us/sample - loss: 0.9525 - acc: 0.5660 - val_loss: 0.9769 - val_acc: 0.5347\n",
      "Epoch 8/10\n",
      "848/848 [==============================] - ETA: 0s - loss: 0.8998 - acc: 0.600 - 0s 51us/sample - loss: 0.9491 - acc: 0.5767 - val_loss: 0.9920 - val_acc: 0.5219\n",
      "Epoch 9/10\n",
      "848/848 [==============================] - ETA: 0s - loss: 0.8435 - acc: 0.680 - 0s 68us/sample - loss: 0.9435 - acc: 0.5708 - val_loss: 0.9840 - val_acc: 0.5373\n",
      "Epoch 10/10\n",
      "848/848 [==============================] - ETA: 0s - loss: 0.7926 - acc: 0.720 - 0s 59us/sample - loss: 0.9465 - acc: 0.5837 - val_loss: 0.9756 - val_acc: 0.5398\n",
      "Train on 848 samples, validate on 389 samples\n",
      "Epoch 1/10\n",
      "848/848 [==============================] - ETA: 0s - loss: 1.1193 - acc: 0.280 - 0s 84us/sample - loss: 1.0539 - acc: 0.4517 - val_loss: 1.0219 - val_acc: 0.5296\n",
      "Epoch 2/10\n",
      "848/848 [==============================] - ETA: 0s - loss: 0.9978 - acc: 0.600 - 0s 47us/sample - loss: 0.9901 - acc: 0.5460 - val_loss: 0.9978 - val_acc: 0.5347\n",
      "Epoch 3/10\n",
      "848/848 [==============================] - ETA: 0s - loss: 0.8630 - acc: 0.640 - 0s 113us/sample - loss: 0.9690 - acc: 0.5531 - val_loss: 0.9819 - val_acc: 0.5424\n",
      "Epoch 4/10\n",
      "848/848 [==============================] - ETA: 0s - loss: 0.9955 - acc: 0.440 - 0s 52us/sample - loss: 0.9640 - acc: 0.5649 - val_loss: 0.9879 - val_acc: 0.5167\n",
      "Epoch 5/10\n",
      "848/848 [==============================] - ETA: 0s - loss: 0.9245 - acc: 0.640 - 0s 49us/sample - loss: 0.9620 - acc: 0.5660 - val_loss: 0.9886 - val_acc: 0.5424\n",
      "Epoch 6/10\n",
      "848/848 [==============================] - ETA: 0s - loss: 1.0590 - acc: 0.440 - 0s 50us/sample - loss: 0.9607 - acc: 0.5625 - val_loss: 0.9949 - val_acc: 0.5167\n",
      "Epoch 7/10\n",
      "848/848 [==============================] - ETA: 0s - loss: 0.9377 - acc: 0.480 - 0s 52us/sample - loss: 0.9615 - acc: 0.5590 - val_loss: 0.9825 - val_acc: 0.5270\n",
      "Epoch 8/10\n",
      "848/848 [==============================] - ETA: 0s - loss: 0.9478 - acc: 0.600 - 0s 49us/sample - loss: 0.9574 - acc: 0.5637 - val_loss: 0.9796 - val_acc: 0.5244\n",
      "Epoch 9/10\n",
      "848/848 [==============================] - ETA: 0s - loss: 1.0258 - acc: 0.440 - 0s 47us/sample - loss: 0.9468 - acc: 0.5755 - val_loss: 0.9874 - val_acc: 0.5347\n",
      "Epoch 10/10\n",
      "848/848 [==============================] - ETA: 0s - loss: 1.0715 - acc: 0.520 - 0s 51us/sample - loss: 0.9471 - acc: 0.5778 - val_loss: 0.9852 - val_acc: 0.5244\n"
     ]
    },
    {
     "data": {
      "text/html": [
       "<span style=\"color:#4527A0\"><h1 style=\"font-size:18px\">Trial complete</h1></span>"
      ],
      "text/plain": [
       "<IPython.core.display.HTML object>"
      ]
     },
     "metadata": {},
     "output_type": "display_data"
    },
    {
     "data": {
      "text/html": [
       "<span style=\"color:#4527A0\"><h1 style=\"font-size:18px\">Trial summary</h1></span>"
      ],
      "text/plain": [
       "<IPython.core.display.HTML object>"
      ]
     },
     "metadata": {},
     "output_type": "display_data"
    },
    {
     "data": {
      "text/html": [
       "<span style=\"color:cyan\"> |-Trial ID: 86d724d4d7084e39a955fb82fa2591e2</span>"
      ],
      "text/plain": [
       "<IPython.core.display.HTML object>"
      ]
     },
     "metadata": {},
     "output_type": "display_data"
    },
    {
     "data": {
      "text/html": [
       "<span style=\"color:cyan\"> |-Score: 0.5411311388015747</span>"
      ],
      "text/plain": [
       "<IPython.core.display.HTML object>"
      ]
     },
     "metadata": {},
     "output_type": "display_data"
    },
    {
     "data": {
      "text/html": [
       "<span style=\"color:cyan\"> |-Best step: 0</span>"
      ],
      "text/plain": [
       "<IPython.core.display.HTML object>"
      ]
     },
     "metadata": {},
     "output_type": "display_data"
    },
    {
     "data": {
      "text/html": [
       "<span style=\"color:#7E57C2\"><h2 style=\"font-size:16px\">Hyperparameters:</h2></span>"
      ],
      "text/plain": [
       "<IPython.core.display.HTML object>"
      ]
     },
     "metadata": {},
     "output_type": "display_data"
    },
    {
     "data": {
      "text/html": [
       "<span style=\"color:cyan\"> |-layer_0_neurons: 30</span>"
      ],
      "text/plain": [
       "<IPython.core.display.HTML object>"
      ]
     },
     "metadata": {},
     "output_type": "display_data"
    },
    {
     "data": {
      "text/html": [
       "<span style=\"color:blue\"> |-layer_1_neurons: 130</span>"
      ],
      "text/plain": [
       "<IPython.core.display.HTML object>"
      ]
     },
     "metadata": {},
     "output_type": "display_data"
    },
    {
     "data": {
      "text/html": [
       "<span style=\"color:cyan\"> |-layer_2_neurons: 90</span>"
      ],
      "text/plain": [
       "<IPython.core.display.HTML object>"
      ]
     },
     "metadata": {},
     "output_type": "display_data"
    },
    {
     "data": {
      "text/html": [
       "<span style=\"color:blue\"> |-n_input_neurons: 190</span>"
      ],
      "text/plain": [
       "<IPython.core.display.HTML object>"
      ]
     },
     "metadata": {},
     "output_type": "display_data"
    },
    {
     "data": {
      "text/html": [
       "<span style=\"color:cyan\"> |-n_layers: 3</span>"
      ],
      "text/plain": [
       "<IPython.core.display.HTML object>"
      ]
     },
     "metadata": {},
     "output_type": "display_data"
    },
    {
     "name": "stdout",
     "output_type": "stream",
     "text": [
      "INFO:tensorflow:Oracle triggered exit\n"
     ]
    },
    {
     "data": {
      "text/plain": [
       "''"
      ]
     },
     "execution_count": 36,
     "metadata": {},
     "output_type": "execute_result"
    }
   ],
   "source": [
    "tuner = RandomSearch(\n",
    "        build_model,\n",
    "        objective = \"val_acc\",\n",
    "        max_trials = 10,\n",
    "        executions_per_trial = 2,\n",
    "        directory = log_dir\n",
    "        )\n",
    "\n",
    "tuner.search(x = train_X_scaled,\n",
    "             y = train_Y_onehot_encoded,\n",
    "             epochs = 10,\n",
    "             batch_size = 25,\n",
    "             validation_data = (test_X_scaled, test_Y_onehot_encoded))\n",
    "\n",
    ";"
   ]
  },
  {
   "cell_type": "code",
   "execution_count": 41,
   "metadata": {},
   "outputs": [
    {
     "name": "stdout",
     "output_type": "stream",
     "text": [
      "The best hyperparemeters found are : \n",
      "{'n_input_neurons': 150, 'n_layers': 2, 'layer_0_neurons': 30, 'layer_1_neurons': 110, 'layer_2_neurons': 30}\n",
      "The summary for the best model : \n",
      "Model: \"sequential\"\n",
      "_________________________________________________________________\n",
      "Layer (type)                 Output Shape              Param #   \n",
      "=================================================================\n",
      "dense (Dense)                (None, 150)               2250      \n",
      "_________________________________________________________________\n",
      "dense_1 (Dense)              (None, 30)                4530      \n",
      "_________________________________________________________________\n",
      "dense_2 (Dense)              (None, 110)               3410      \n",
      "_________________________________________________________________\n",
      "dense_3 (Dense)              (None, 3)                 333       \n",
      "=================================================================\n",
      "Total params: 10,523\n",
      "Trainable params: 10,523\n",
      "Non-trainable params: 0\n",
      "_________________________________________________________________\n",
      "None\n"
     ]
    }
   ],
   "source": [
    "print(\"The best hyperparemeters found are : \")\n",
    "print(tuner.get_best_hyperparameters()[0].values)\n",
    "print(\"The summary for the best model : \")\n",
    "print(tuner.get_best_models()[0].summary())"
   ]
  },
  {
   "cell_type": "markdown",
   "metadata": {},
   "source": [
    "## Choosing final model"
   ]
  },
  {
   "cell_type": "code",
   "execution_count": 42,
   "metadata": {},
   "outputs": [
    {
     "name": "stdout",
     "output_type": "stream",
     "text": [
      "WARNING:tensorflow:Unresolved object in checkpoint: (root).optimizer.iter\n",
      "WARNING:tensorflow:Unresolved object in checkpoint: (root).optimizer.beta_1\n",
      "WARNING:tensorflow:Unresolved object in checkpoint: (root).optimizer.beta_2\n",
      "WARNING:tensorflow:Unresolved object in checkpoint: (root).optimizer.decay\n",
      "WARNING:tensorflow:Unresolved object in checkpoint: (root).optimizer.learning_rate\n",
      "WARNING:tensorflow:Unresolved object in checkpoint: (root).optimizer's state 'm' for (root).layer_with_weights-0.kernel\n",
      "WARNING:tensorflow:Unresolved object in checkpoint: (root).optimizer's state 'm' for (root).layer_with_weights-0.bias\n",
      "WARNING:tensorflow:Unresolved object in checkpoint: (root).optimizer's state 'm' for (root).layer_with_weights-1.kernel\n",
      "WARNING:tensorflow:Unresolved object in checkpoint: (root).optimizer's state 'm' for (root).layer_with_weights-1.bias\n",
      "WARNING:tensorflow:Unresolved object in checkpoint: (root).optimizer's state 'm' for (root).layer_with_weights-2.kernel\n",
      "WARNING:tensorflow:Unresolved object in checkpoint: (root).optimizer's state 'm' for (root).layer_with_weights-2.bias\n",
      "WARNING:tensorflow:Unresolved object in checkpoint: (root).optimizer's state 'm' for (root).layer_with_weights-3.kernel\n",
      "WARNING:tensorflow:Unresolved object in checkpoint: (root).optimizer's state 'm' for (root).layer_with_weights-3.bias\n",
      "WARNING:tensorflow:Unresolved object in checkpoint: (root).optimizer's state 'v' for (root).layer_with_weights-0.kernel\n",
      "WARNING:tensorflow:Unresolved object in checkpoint: (root).optimizer's state 'v' for (root).layer_with_weights-0.bias\n",
      "WARNING:tensorflow:Unresolved object in checkpoint: (root).optimizer's state 'v' for (root).layer_with_weights-1.kernel\n",
      "WARNING:tensorflow:Unresolved object in checkpoint: (root).optimizer's state 'v' for (root).layer_with_weights-1.bias\n",
      "WARNING:tensorflow:Unresolved object in checkpoint: (root).optimizer's state 'v' for (root).layer_with_weights-2.kernel\n",
      "WARNING:tensorflow:Unresolved object in checkpoint: (root).optimizer's state 'v' for (root).layer_with_weights-2.bias\n",
      "WARNING:tensorflow:Unresolved object in checkpoint: (root).optimizer's state 'v' for (root).layer_with_weights-3.kernel\n",
      "WARNING:tensorflow:Unresolved object in checkpoint: (root).optimizer's state 'v' for (root).layer_with_weights-3.bias\n",
      "WARNING:tensorflow:A checkpoint was restored (e.g. tf.train.Checkpoint.restore or tf.keras.Model.load_weights) but not all checkpointed values were used. See above for specific issues. Use expect_partial() on the load status object, e.g. tf.train.Checkpoint.restore(...).expect_partial(), to silence these warnings, or use assert_consumed() to make the check explicit. See https://www.tensorflow.org/guide/checkpoint#loading_mechanics for details.\n",
      "Train on 848 samples, validate on 389 samples\n",
      "Epoch 1/100\n",
      "848/848 [==============================] - ETA: 0s - loss: 0.9625 - acc: 0.650 - 0s 83us/sample - loss: 0.9534 - acc: 0.5719 - val_loss: 0.9839 - val_acc: 0.5167\n",
      "Epoch 2/100\n",
      "848/848 [==============================] - ETA: 0s - loss: 0.8015 - acc: 0.650 - 0s 49us/sample - loss: 0.9543 - acc: 0.5767 - val_loss: 0.9804 - val_acc: 0.5373\n",
      "Epoch 3/100\n",
      "848/848 [==============================] - ETA: 0s - loss: 0.8193 - acc: 0.650 - 0s 50us/sample - loss: 0.9477 - acc: 0.5708 - val_loss: 1.0118 - val_acc: 0.5553\n",
      "Epoch 4/100\n",
      "848/848 [==============================] - ETA: 0s - loss: 0.7379 - acc: 0.650 - 0s 52us/sample - loss: 0.9543 - acc: 0.5601 - val_loss: 0.9733 - val_acc: 0.5270\n",
      "Epoch 5/100\n",
      "848/848 [==============================] - ETA: 0s - loss: 0.9116 - acc: 0.550 - 0s 54us/sample - loss: 0.9482 - acc: 0.5814 - val_loss: 0.9818 - val_acc: 0.5296\n",
      "Epoch 6/100\n",
      "848/848 [==============================] - ETA: 0s - loss: 1.1258 - acc: 0.550 - 0s 53us/sample - loss: 0.9483 - acc: 0.5708 - val_loss: 0.9893 - val_acc: 0.5219\n",
      "Epoch 7/100\n",
      "848/848 [==============================] - ETA: 0s - loss: 0.9535 - acc: 0.600 - 0s 55us/sample - loss: 0.9422 - acc: 0.5743 - val_loss: 0.9893 - val_acc: 0.5270\n",
      "Epoch 8/100\n",
      "848/848 [==============================] - ETA: 0s - loss: 1.2210 - acc: 0.450 - 0s 53us/sample - loss: 0.9477 - acc: 0.5684 - val_loss: 0.9803 - val_acc: 0.5296\n",
      "Epoch 9/100\n",
      "848/848 [==============================] - ETA: 0s - loss: 0.9465 - acc: 0.650 - 0s 53us/sample - loss: 0.9401 - acc: 0.5696 - val_loss: 0.9872 - val_acc: 0.5296\n",
      "Epoch 10/100\n",
      "848/848 [==============================] - ETA: 0s - loss: 0.7407 - acc: 0.700 - 0s 51us/sample - loss: 0.9331 - acc: 0.5814 - val_loss: 0.9765 - val_acc: 0.5296\n",
      "Epoch 11/100\n",
      "848/848 [==============================] - ETA: 0s - loss: 0.8087 - acc: 0.700 - 0s 55us/sample - loss: 0.9340 - acc: 0.5837 - val_loss: 0.9901 - val_acc: 0.5193\n",
      "Epoch 12/100\n",
      "848/848 [==============================] - ETA: 0s - loss: 0.9795 - acc: 0.550 - 0s 52us/sample - loss: 0.9406 - acc: 0.5873 - val_loss: 0.9783 - val_acc: 0.5321\n",
      "Epoch 13/100\n",
      "848/848 [==============================] - ETA: 0s - loss: 0.7958 - acc: 0.750 - 0s 54us/sample - loss: 0.9308 - acc: 0.5884 - val_loss: 0.9906 - val_acc: 0.5450\n",
      "Epoch 14/100\n",
      "848/848 [==============================] - ETA: 0s - loss: 0.9412 - acc: 0.500 - 0s 56us/sample - loss: 0.9294 - acc: 0.5755 - val_loss: 0.9922 - val_acc: 0.5398\n",
      "Epoch 15/100\n",
      "848/848 [==============================] - ETA: 0s - loss: 1.0264 - acc: 0.400 - 0s 50us/sample - loss: 0.9252 - acc: 0.5743 - val_loss: 0.9863 - val_acc: 0.5347\n",
      "Epoch 16/100\n",
      "848/848 [==============================] - ETA: 0s - loss: 0.8495 - acc: 0.650 - 0s 51us/sample - loss: 0.9232 - acc: 0.5873 - val_loss: 0.9977 - val_acc: 0.5347\n",
      "Epoch 17/100\n",
      "848/848 [==============================] - ETA: 0s - loss: 1.0126 - acc: 0.550 - 0s 54us/sample - loss: 0.9282 - acc: 0.5873 - val_loss: 0.9991 - val_acc: 0.5270\n",
      "Epoch 18/100\n",
      "848/848 [==============================] - ETA: 0s - loss: 0.8532 - acc: 0.650 - 0s 54us/sample - loss: 0.9200 - acc: 0.5884 - val_loss: 0.9977 - val_acc: 0.5141\n",
      "Epoch 19/100\n",
      "848/848 [==============================] - ETA: 0s - loss: 0.9677 - acc: 0.550 - 0s 50us/sample - loss: 0.9125 - acc: 0.5967 - val_loss: 1.0075 - val_acc: 0.5321\n",
      "Epoch 20/100\n",
      "848/848 [==============================] - ETA: 0s - loss: 1.1401 - acc: 0.400 - 0s 50us/sample - loss: 0.9097 - acc: 0.5932 - val_loss: 1.0119 - val_acc: 0.5141\n",
      "Epoch 21/100\n",
      "848/848 [==============================] - ETA: 0s - loss: 0.9660 - acc: 0.500 - 0s 48us/sample - loss: 0.9159 - acc: 0.5932 - val_loss: 0.9921 - val_acc: 0.5219\n",
      "Epoch 22/100\n",
      "848/848 [==============================] - ETA: 0s - loss: 1.0686 - acc: 0.500 - 0s 53us/sample - loss: 0.9045 - acc: 0.6038 - val_loss: 1.0124 - val_acc: 0.5347\n",
      "Epoch 23/100\n",
      "848/848 [==============================] - ETA: 0s - loss: 1.0166 - acc: 0.600 - 0s 49us/sample - loss: 0.9065 - acc: 0.5979 - val_loss: 0.9965 - val_acc: 0.5321\n",
      "Epoch 24/100\n",
      "848/848 [==============================] - ETA: 0s - loss: 1.0034 - acc: 0.500 - 0s 51us/sample - loss: 0.8969 - acc: 0.6002 - val_loss: 1.0005 - val_acc: 0.5373\n",
      "Epoch 25/100\n",
      "848/848 [==============================] - ETA: 0s - loss: 0.8828 - acc: 0.650 - 0s 51us/sample - loss: 0.8892 - acc: 0.6061 - val_loss: 0.9964 - val_acc: 0.5116\n",
      "Epoch 26/100\n",
      "848/848 [==============================] - ETA: 0s - loss: 1.1690 - acc: 0.250 - 0s 67us/sample - loss: 0.8958 - acc: 0.5991 - val_loss: 1.0117 - val_acc: 0.5193\n",
      "Epoch 27/100\n",
      "848/848 [==============================] - ETA: 0s - loss: 0.9190 - acc: 0.550 - 0s 47us/sample - loss: 0.8950 - acc: 0.6097 - val_loss: 0.9934 - val_acc: 0.5424\n",
      "Epoch 28/100\n",
      "848/848 [==============================] - ETA: 0s - loss: 1.0612 - acc: 0.450 - 0s 45us/sample - loss: 0.8808 - acc: 0.6132 - val_loss: 1.0074 - val_acc: 0.5373\n",
      "Epoch 29/100\n",
      "848/848 [==============================] - ETA: 0s - loss: 0.6696 - acc: 0.750 - 0s 45us/sample - loss: 0.8717 - acc: 0.6097 - val_loss: 1.0077 - val_acc: 0.5373\n",
      "Epoch 30/100\n",
      "848/848 [==============================] - ETA: 0s - loss: 1.0251 - acc: 0.500 - 0s 45us/sample - loss: 0.8792 - acc: 0.6085 - val_loss: 1.0149 - val_acc: 0.5270\n",
      "Epoch 31/100\n",
      "848/848 [==============================] - ETA: 0s - loss: 0.6242 - acc: 0.650 - 0s 45us/sample - loss: 0.8717 - acc: 0.6203 - val_loss: 1.0133 - val_acc: 0.5373\n"
     ]
    },
    {
     "name": "stdout",
     "output_type": "stream",
     "text": [
      "Epoch 32/100\n",
      "848/848 [==============================] - ETA: 0s - loss: 0.8772 - acc: 0.550 - 0s 45us/sample - loss: 0.8585 - acc: 0.6203 - val_loss: 1.0246 - val_acc: 0.5347\n",
      "Epoch 33/100\n",
      "848/848 [==============================] - ETA: 0s - loss: 0.7132 - acc: 0.750 - 0s 47us/sample - loss: 0.8700 - acc: 0.6132 - val_loss: 1.0095 - val_acc: 0.5296\n",
      "Epoch 34/100\n",
      "848/848 [==============================] - ETA: 0s - loss: 0.7452 - acc: 0.700 - 0s 46us/sample - loss: 0.8527 - acc: 0.6274 - val_loss: 1.0590 - val_acc: 0.5141\n",
      "Epoch 35/100\n",
      "848/848 [==============================] - ETA: 0s - loss: 0.6954 - acc: 0.750 - 0s 47us/sample - loss: 0.8465 - acc: 0.6415 - val_loss: 1.0377 - val_acc: 0.5398\n",
      "Epoch 36/100\n",
      "848/848 [==============================] - ETA: 0s - loss: 0.5449 - acc: 0.850 - 0s 44us/sample - loss: 0.8464 - acc: 0.6179 - val_loss: 1.0257 - val_acc: 0.5296\n",
      "Epoch 37/100\n",
      "848/848 [==============================] - ETA: 0s - loss: 0.7236 - acc: 0.750 - 0s 47us/sample - loss: 0.8368 - acc: 0.6238 - val_loss: 1.0332 - val_acc: 0.5270\n",
      "Epoch 38/100\n",
      "848/848 [==============================] - ETA: 0s - loss: 0.8669 - acc: 0.700 - 0s 44us/sample - loss: 0.8277 - acc: 0.6333 - val_loss: 1.0373 - val_acc: 0.5219\n",
      "Epoch 39/100\n",
      "848/848 [==============================] - ETA: 0s - loss: 0.8637 - acc: 0.550 - 0s 44us/sample - loss: 0.8258 - acc: 0.6344 - val_loss: 1.0505 - val_acc: 0.5090\n",
      "Epoch 40/100\n",
      "848/848 [==============================] - ETA: 0s - loss: 0.7679 - acc: 0.700 - 0s 46us/sample - loss: 0.8329 - acc: 0.6297 - val_loss: 1.0526 - val_acc: 0.5347\n",
      "Epoch 41/100\n",
      "848/848 [==============================] - ETA: 0s - loss: 0.6708 - acc: 0.750 - 0s 47us/sample - loss: 0.8162 - acc: 0.6462 - val_loss: 1.0391 - val_acc: 0.5244\n",
      "Epoch 42/100\n",
      "848/848 [==============================] - ETA: 0s - loss: 0.7142 - acc: 0.650 - 0s 47us/sample - loss: 0.8186 - acc: 0.6380 - val_loss: 1.0669 - val_acc: 0.5296\n",
      "Epoch 43/100\n",
      "848/848 [==============================] - ETA: 0s - loss: 0.8452 - acc: 0.550 - 0s 44us/sample - loss: 0.8087 - acc: 0.6474 - val_loss: 1.0468 - val_acc: 0.5167\n",
      "Epoch 44/100\n",
      "848/848 [==============================] - ETA: 0s - loss: 0.7295 - acc: 0.750 - 0s 50us/sample - loss: 0.7998 - acc: 0.6533 - val_loss: 1.0319 - val_acc: 0.5193\n",
      "Epoch 45/100\n",
      "848/848 [==============================] - ETA: 0s - loss: 0.7623 - acc: 0.600 - 0s 46us/sample - loss: 0.7992 - acc: 0.6474 - val_loss: 1.0682 - val_acc: 0.5244\n",
      "Epoch 46/100\n",
      "848/848 [==============================] - ETA: 0s - loss: 0.9687 - acc: 0.500 - 0s 45us/sample - loss: 0.7913 - acc: 0.6568 - val_loss: 1.0431 - val_acc: 0.5193\n",
      "Epoch 47/100\n",
      "848/848 [==============================] - ETA: 0s - loss: 1.3043 - acc: 0.350 - 0s 46us/sample - loss: 0.7884 - acc: 0.6627 - val_loss: 1.0939 - val_acc: 0.5193\n",
      "Epoch 48/100\n",
      "848/848 [==============================] - ETA: 0s - loss: 0.6504 - acc: 0.700 - 0s 45us/sample - loss: 0.7907 - acc: 0.6509 - val_loss: 1.0698 - val_acc: 0.5039\n",
      "Epoch 49/100\n",
      "848/848 [==============================] - ETA: 0s - loss: 0.8098 - acc: 0.600 - 0s 48us/sample - loss: 0.7700 - acc: 0.6675 - val_loss: 1.0707 - val_acc: 0.5219\n",
      "Epoch 50/100\n",
      "848/848 [==============================] - ETA: 0s - loss: 0.5637 - acc: 0.850 - 0s 45us/sample - loss: 0.7664 - acc: 0.6639 - val_loss: 1.0864 - val_acc: 0.5116\n",
      "Epoch 51/100\n",
      "848/848 [==============================] - ETA: 0s - loss: 0.8886 - acc: 0.500 - 0s 46us/sample - loss: 0.7616 - acc: 0.6486 - val_loss: 1.0784 - val_acc: 0.5424\n",
      "Epoch 52/100\n",
      "848/848 [==============================] - ETA: 0s - loss: 0.6715 - acc: 0.700 - 0s 44us/sample - loss: 0.7582 - acc: 0.6686 - val_loss: 1.0927 - val_acc: 0.5398\n",
      "Epoch 53/100\n",
      "848/848 [==============================] - ETA: 0s - loss: 0.4442 - acc: 0.900 - 0s 45us/sample - loss: 0.7580 - acc: 0.6663 - val_loss: 1.0789 - val_acc: 0.5141\n",
      "Epoch 54/100\n",
      "848/848 [==============================] - ETA: 0s - loss: 0.5680 - acc: 0.750 - 0s 44us/sample - loss: 0.7461 - acc: 0.6769 - val_loss: 1.0918 - val_acc: 0.5090\n",
      "Epoch 55/100\n",
      "848/848 [==============================] - ETA: 0s - loss: 0.6765 - acc: 0.650 - 0s 47us/sample - loss: 0.7313 - acc: 0.6887 - val_loss: 1.1047 - val_acc: 0.5244\n",
      "Epoch 56/100\n",
      "848/848 [==============================] - ETA: 0s - loss: 0.5967 - acc: 0.800 - 0s 47us/sample - loss: 0.7323 - acc: 0.6934 - val_loss: 1.1051 - val_acc: 0.5270\n",
      "Epoch 57/100\n",
      "848/848 [==============================] - ETA: 0s - loss: 0.5576 - acc: 0.750 - 0s 46us/sample - loss: 0.7293 - acc: 0.6887 - val_loss: 1.1242 - val_acc: 0.5116\n",
      "Epoch 58/100\n",
      "848/848 [==============================] - ETA: 0s - loss: 0.7602 - acc: 0.650 - 0s 47us/sample - loss: 0.7257 - acc: 0.6922 - val_loss: 1.1636 - val_acc: 0.5090\n",
      "Epoch 59/100\n",
      "848/848 [==============================] - ETA: 0s - loss: 0.6058 - acc: 0.750 - 0s 45us/sample - loss: 0.7105 - acc: 0.6981 - val_loss: 1.1711 - val_acc: 0.5219\n",
      "Epoch 60/100\n",
      "848/848 [==============================] - ETA: 0s - loss: 0.6868 - acc: 0.700 - 0s 47us/sample - loss: 0.7117 - acc: 0.6910 - val_loss: 1.1551 - val_acc: 0.5296\n",
      "Epoch 61/100\n",
      "848/848 [==============================] - ETA: 0s - loss: 0.6802 - acc: 0.650 - 0s 44us/sample - loss: 0.6873 - acc: 0.7040 - val_loss: 1.1452 - val_acc: 0.5116\n",
      "Epoch 62/100\n",
      "848/848 [==============================] - ETA: 0s - loss: 0.8377 - acc: 0.550 - 0s 48us/sample - loss: 0.6880 - acc: 0.6993 - val_loss: 1.1686 - val_acc: 0.5219\n",
      "Epoch 63/100\n",
      "848/848 [==============================] - ETA: 0s - loss: 0.7496 - acc: 0.750 - 0s 49us/sample - loss: 0.6870 - acc: 0.7040 - val_loss: 1.1893 - val_acc: 0.4704\n",
      "Epoch 64/100\n",
      "848/848 [==============================] - ETA: 0s - loss: 0.7726 - acc: 0.700 - 0s 49us/sample - loss: 0.6956 - acc: 0.7075 - val_loss: 1.1767 - val_acc: 0.5013\n",
      "Epoch 65/100\n",
      "848/848 [==============================] - ETA: 0s - loss: 0.4981 - acc: 0.800 - 0s 49us/sample - loss: 0.6857 - acc: 0.7064 - val_loss: 1.2132 - val_acc: 0.5270\n",
      "Epoch 66/100\n",
      "848/848 [==============================] - ETA: 0s - loss: 0.3959 - acc: 0.950 - 0s 45us/sample - loss: 0.6916 - acc: 0.6958 - val_loss: 1.1830 - val_acc: 0.5270\n",
      "Epoch 67/100\n",
      "848/848 [==============================] - ETA: 0s - loss: 0.6799 - acc: 0.700 - 0s 47us/sample - loss: 0.6516 - acc: 0.7264 - val_loss: 1.2325 - val_acc: 0.5039\n",
      "Epoch 68/100\n",
      "848/848 [==============================] - ETA: 0s - loss: 0.5072 - acc: 0.800 - 0s 49us/sample - loss: 0.6464 - acc: 0.7182 - val_loss: 1.1801 - val_acc: 0.5013\n",
      "Epoch 69/100\n",
      "848/848 [==============================] - ETA: 0s - loss: 0.6112 - acc: 0.800 - 0s 46us/sample - loss: 0.6399 - acc: 0.7417 - val_loss: 1.2392 - val_acc: 0.5219\n",
      "Epoch 70/100\n",
      "848/848 [==============================] - ETA: 0s - loss: 0.4766 - acc: 0.800 - 0s 45us/sample - loss: 0.6435 - acc: 0.7193 - val_loss: 1.2440 - val_acc: 0.5167\n",
      "Epoch 71/100\n",
      "848/848 [==============================] - ETA: 0s - loss: 0.5833 - acc: 0.750 - 0s 45us/sample - loss: 0.6368 - acc: 0.7193 - val_loss: 1.1991 - val_acc: 0.5167\n",
      "Epoch 72/100\n",
      "848/848 [==============================] - ETA: 0s - loss: 0.6073 - acc: 0.750 - 0s 45us/sample - loss: 0.6340 - acc: 0.7241 - val_loss: 1.2236 - val_acc: 0.4884\n",
      "Epoch 73/100\n",
      "848/848 [==============================] - ETA: 0s - loss: 0.7001 - acc: 0.700 - 0s 46us/sample - loss: 0.6156 - acc: 0.7441 - val_loss: 1.3007 - val_acc: 0.5193\n",
      "Epoch 74/100\n",
      "848/848 [==============================] - ETA: 0s - loss: 0.5740 - acc: 0.800 - 0s 45us/sample - loss: 0.6335 - acc: 0.7406 - val_loss: 1.2804 - val_acc: 0.5141\n",
      "Epoch 75/100\n",
      "848/848 [==============================] - ETA: 0s - loss: 0.6277 - acc: 0.750 - 0s 44us/sample - loss: 0.6060 - acc: 0.7618 - val_loss: 1.2987 - val_acc: 0.5141\n",
      "Epoch 76/100\n",
      "848/848 [==============================] - ETA: 0s - loss: 0.5284 - acc: 0.750 - 0s 45us/sample - loss: 0.6106 - acc: 0.7417 - val_loss: 1.2508 - val_acc: 0.5167\n",
      "Epoch 77/100\n",
      "848/848 [==============================] - ETA: 0s - loss: 0.3638 - acc: 0.900 - 0s 45us/sample - loss: 0.6032 - acc: 0.7406 - val_loss: 1.3363 - val_acc: 0.5090\n",
      "Epoch 78/100\n",
      "848/848 [==============================] - ETA: 0s - loss: 0.7133 - acc: 0.600 - 0s 45us/sample - loss: 0.6189 - acc: 0.7288 - val_loss: 1.2678 - val_acc: 0.4936\n"
     ]
    },
    {
     "name": "stdout",
     "output_type": "stream",
     "text": [
      "Epoch 79/100\n",
      "848/848 [==============================] - ETA: 0s - loss: 0.5450 - acc: 0.750 - 0s 46us/sample - loss: 0.5829 - acc: 0.7630 - val_loss: 1.3367 - val_acc: 0.5116\n",
      "Epoch 80/100\n",
      "848/848 [==============================] - ETA: 0s - loss: 0.6228 - acc: 0.750 - 0s 44us/sample - loss: 0.5621 - acc: 0.7653 - val_loss: 1.3014 - val_acc: 0.4910\n",
      "Epoch 81/100\n",
      "848/848 [==============================] - ETA: 0s - loss: 0.4366 - acc: 0.850 - 0s 46us/sample - loss: 0.5712 - acc: 0.7689 - val_loss: 1.3883 - val_acc: 0.5116\n",
      "Epoch 82/100\n",
      "848/848 [==============================] - ETA: 0s - loss: 0.4764 - acc: 0.850 - 0s 44us/sample - loss: 0.5722 - acc: 0.7618 - val_loss: 1.4177 - val_acc: 0.5219\n",
      "Epoch 83/100\n",
      "848/848 [==============================] - ETA: 0s - loss: 0.6633 - acc: 0.800 - 0s 46us/sample - loss: 0.5581 - acc: 0.7807 - val_loss: 1.3698 - val_acc: 0.5013\n",
      "Epoch 84/100\n",
      "848/848 [==============================] - ETA: 0s - loss: 0.5029 - acc: 0.900 - 0s 46us/sample - loss: 0.5329 - acc: 0.8007 - val_loss: 1.3780 - val_acc: 0.4987\n",
      "Epoch 85/100\n",
      "848/848 [==============================] - ETA: 0s - loss: 0.6350 - acc: 0.850 - 0s 46us/sample - loss: 0.5450 - acc: 0.7689 - val_loss: 1.4104 - val_acc: 0.4910\n",
      "Epoch 86/100\n",
      "848/848 [==============================] - ETA: 0s - loss: 0.6892 - acc: 0.600 - 0s 49us/sample - loss: 0.5438 - acc: 0.7665 - val_loss: 1.3947 - val_acc: 0.4910\n",
      "Epoch 87/100\n",
      "848/848 [==============================] - ETA: 0s - loss: 0.5840 - acc: 0.750 - 0s 47us/sample - loss: 0.5168 - acc: 0.7724 - val_loss: 1.3998 - val_acc: 0.5193\n",
      "Epoch 88/100\n",
      "848/848 [==============================] - ETA: 0s - loss: 0.3811 - acc: 0.900 - 0s 48us/sample - loss: 0.5378 - acc: 0.7771 - val_loss: 1.4339 - val_acc: 0.4961\n",
      "Epoch 89/100\n",
      "848/848 [==============================] - ETA: 0s - loss: 0.4913 - acc: 0.750 - 0s 48us/sample - loss: 0.5533 - acc: 0.7488 - val_loss: 1.4351 - val_acc: 0.4859\n",
      "Epoch 90/100\n",
      "848/848 [==============================] - ETA: 0s - loss: 0.6199 - acc: 0.700 - 0s 45us/sample - loss: 0.5165 - acc: 0.7889 - val_loss: 1.4080 - val_acc: 0.5090\n",
      "Epoch 91/100\n",
      "848/848 [==============================] - ETA: 0s - loss: 0.2920 - acc: 0.950 - 0s 47us/sample - loss: 0.5053 - acc: 0.7972 - val_loss: 1.4412 - val_acc: 0.4679\n",
      "Epoch 92/100\n",
      "848/848 [==============================] - ETA: 0s - loss: 0.5792 - acc: 0.700 - 0s 47us/sample - loss: 0.5053 - acc: 0.7972 - val_loss: 1.4926 - val_acc: 0.5193\n",
      "Epoch 93/100\n",
      "848/848 [==============================] - ETA: 0s - loss: 0.4849 - acc: 0.750 - 0s 46us/sample - loss: 0.5117 - acc: 0.7665 - val_loss: 1.4584 - val_acc: 0.5167\n",
      "Epoch 94/100\n",
      "848/848 [==============================] - ETA: 0s - loss: 0.4440 - acc: 0.800 - 0s 48us/sample - loss: 0.4850 - acc: 0.8090 - val_loss: 1.4883 - val_acc: 0.5244\n",
      "Epoch 95/100\n",
      "848/848 [==============================] - ETA: 0s - loss: 0.5876 - acc: 0.700 - 0s 47us/sample - loss: 0.4809 - acc: 0.8090 - val_loss: 1.5040 - val_acc: 0.4987\n",
      "Epoch 96/100\n",
      "848/848 [==============================] - ETA: 0s - loss: 0.3887 - acc: 0.800 - 0s 45us/sample - loss: 0.4711 - acc: 0.8137 - val_loss: 1.5749 - val_acc: 0.5090\n",
      "Epoch 97/100\n",
      "848/848 [==============================] - ETA: 0s - loss: 0.6690 - acc: 0.700 - 0s 47us/sample - loss: 0.4836 - acc: 0.7948 - val_loss: 1.5028 - val_acc: 0.4936\n",
      "Epoch 98/100\n",
      "848/848 [==============================] - ETA: 0s - loss: 0.4534 - acc: 0.950 - 0s 44us/sample - loss: 0.4807 - acc: 0.8042 - val_loss: 1.5483 - val_acc: 0.4987\n",
      "Epoch 99/100\n",
      "848/848 [==============================] - ETA: 0s - loss: 0.3483 - acc: 0.800 - 0s 46us/sample - loss: 0.4823 - acc: 0.8042 - val_loss: 1.5428 - val_acc: 0.4987\n",
      "Epoch 100/100\n",
      "848/848 [==============================] - ETA: 0s - loss: 0.6784 - acc: 0.650 - 0s 45us/sample - loss: 0.4750 - acc: 0.8078 - val_loss: 1.5565 - val_acc: 0.5013\n",
      "\n",
      "# Evaluate on test data\n",
      "test loss, test acc: [1.556486192889569, 0.5012854]\n",
      "\n",
      "# Generate predictions for 3 samples\n",
      "predictions shape: (3, 3)\n"
     ]
    },
    {
     "data": {
      "text/plain": [
       "''"
      ]
     },
     "execution_count": 42,
     "metadata": {},
     "output_type": "execute_result"
    }
   ],
   "source": [
    "final_model = tuner.get_best_models()[0]\n",
    "    \n",
    "#Fit\n",
    "final_model.fit(train_X_scaled, train_Y_onehot_encoded,\n",
    "          batch_size=20,\n",
    "          epochs=100,\n",
    "          validation_data=(test_X_scaled, test_Y_onehot_encoded))\n",
    "\n",
    "# Evaluate the model on the test data using `evaluate`\n",
    "print('\\n# Evaluate on test data')\n",
    "results_ = final_model.evaluate(test_X_scaled, test_Y_onehot_encoded, batch_size=128)\n",
    "print('test loss, test acc:', results_)\n",
    "\n",
    "# Generate predictions (probabilities -- the output of the last layer)\n",
    "# on new data using `predict`\n",
    "print('\\n# Generate predictions for 3 samples')\n",
    "predictions = final_model.predict(test_X_scaled[:3])\n",
    "print('predictions shape:', predictions.shape)\n",
    "\n",
    ";"
   ]
  },
  {
   "cell_type": "markdown",
   "metadata": {},
   "source": [
    "# Function to optimize"
   ]
  },
  {
   "cell_type": "raw",
   "metadata": {},
   "source": [
    "Expected gain when you bet on a result\n",
    "E(G) = probability x (odd - 1) - (1 - probability) x 1\n",
    "E(G) = probability x odd - 1"
   ]
  },
  {
   "cell_type": "code",
   "execution_count": 43,
   "metadata": {},
   "outputs": [
    {
     "data": {
      "image/png": "[encoded data removed]",
      "text/plain": [
       "<Figure size 432x288 with 2 Axes>"
      ]
     },
     "metadata": {
      "needs_background": "light"
     },
     "output_type": "display_data"
    }
   ],
   "source": [
    "from numpy import arange\n",
    "from pylab import meshgrid,cm,imshow,contour,clabel,colorbar,axis,title,show\n",
    "\n",
    "# the function that I'm going to plot\n",
    "def z_func(x,y):\n",
    "    return (x*y - 1)\n",
    " \n",
    "prob = arange(0.0,1.0,0.01)\n",
    "odd = arange(1.0,5.0,0.05)\n",
    "X,Y = meshgrid(prob, odd) # grid of point\n",
    "Z = z_func(X, Y) # evaluation of the function on the grid\n",
    "\n",
    "im = imshow(Z,origin = 'lower') # drawing the function\n",
    "\n",
    "# adding the Contour lines with labels\n",
    "cset = contour(Z,[0.0, 0.5],linewidths=1,cmap=cm.Set2)\n",
    "clabel(cset,inline=True,fmt='%1.1f',fontsize=10)\n",
    "\n",
    "colorbar(im) # adding the colobar on the right\n",
    "\n",
    "show()"
   ]
  },
  {
   "cell_type": "markdown",
   "metadata": {},
   "source": [
    "# Performance analysis"
   ]
  },
  {
   "cell_type": "markdown",
   "metadata": {},
   "source": [
    "## Calculations of expected gain for each result"
   ]
  },
  {
   "cell_type": "code",
   "execution_count": 44,
   "metadata": {},
   "outputs": [
    {
     "data": {
      "text/html": [
       "<div>\n",
       "<style scoped>\n",
       "    .dataframe tbody tr th:only-of-type {\n",
       "        vertical-align: middle;\n",
       "    }\n",
       "\n",
       "    .dataframe tbody tr th {\n",
       "        vertical-align: top;\n",
       "    }\n",
       "\n",
       "    .dataframe thead th {\n",
       "        text-align: right;\n",
       "    }\n",
       "</style>\n",
       "<table border=\"1\" class=\"dataframe\">\n",
       "  <thead>\n",
       "    <tr style=\"text-align: right;\">\n",
       "      <th></th>\n",
       "      <th>FTR</th>\n",
       "      <th>IWA</th>\n",
       "      <th>IWD</th>\n",
       "      <th>IWH</th>\n",
       "      <th>P(A)</th>\n",
       "      <th>E(A)</th>\n",
       "      <th>P(D)</th>\n",
       "      <th>E(D)</th>\n",
       "      <th>P(H)</th>\n",
       "      <th>E(H)</th>\n",
       "    </tr>\n",
       "  </thead>\n",
       "  <tbody>\n",
       "    <tr>\n",
       "      <th>200</th>\n",
       "      <td>H</td>\n",
       "      <td>2.90</td>\n",
       "      <td>3.30</td>\n",
       "      <td>2.45</td>\n",
       "      <td>0.142</td>\n",
       "      <td>-0.58820</td>\n",
       "      <td>0.158</td>\n",
       "      <td>-0.47860</td>\n",
       "      <td>0.700</td>\n",
       "      <td>0.71500</td>\n",
       "    </tr>\n",
       "    <tr>\n",
       "      <th>201</th>\n",
       "      <td>H</td>\n",
       "      <td>13.00</td>\n",
       "      <td>6.50</td>\n",
       "      <td>1.22</td>\n",
       "      <td>0.294</td>\n",
       "      <td>2.82200</td>\n",
       "      <td>0.331</td>\n",
       "      <td>1.15150</td>\n",
       "      <td>0.375</td>\n",
       "      <td>-0.54250</td>\n",
       "    </tr>\n",
       "    <tr>\n",
       "      <th>202</th>\n",
       "      <td>D</td>\n",
       "      <td>2.90</td>\n",
       "      <td>3.10</td>\n",
       "      <td>2.60</td>\n",
       "      <td>0.428</td>\n",
       "      <td>0.24120</td>\n",
       "      <td>0.290</td>\n",
       "      <td>-0.10100</td>\n",
       "      <td>0.282</td>\n",
       "      <td>-0.26680</td>\n",
       "    </tr>\n",
       "    <tr>\n",
       "      <th>203</th>\n",
       "      <td>H</td>\n",
       "      <td>8.00</td>\n",
       "      <td>5.30</td>\n",
       "      <td>1.35</td>\n",
       "      <td>0.218</td>\n",
       "      <td>0.74400</td>\n",
       "      <td>0.298</td>\n",
       "      <td>0.57940</td>\n",
       "      <td>0.484</td>\n",
       "      <td>-0.34660</td>\n",
       "    </tr>\n",
       "    <tr>\n",
       "      <th>204</th>\n",
       "      <td>D</td>\n",
       "      <td>7.50</td>\n",
       "      <td>4.80</td>\n",
       "      <td>1.40</td>\n",
       "      <td>0.619</td>\n",
       "      <td>3.64250</td>\n",
       "      <td>0.126</td>\n",
       "      <td>-0.39520</td>\n",
       "      <td>0.255</td>\n",
       "      <td>-0.64300</td>\n",
       "    </tr>\n",
       "    <tr>\n",
       "      <th>...</th>\n",
       "      <td>...</td>\n",
       "      <td>...</td>\n",
       "      <td>...</td>\n",
       "      <td>...</td>\n",
       "      <td>...</td>\n",
       "      <td>...</td>\n",
       "      <td>...</td>\n",
       "      <td>...</td>\n",
       "      <td>...</td>\n",
       "      <td>...</td>\n",
       "    </tr>\n",
       "    <tr>\n",
       "      <th>245</th>\n",
       "      <td>A</td>\n",
       "      <td>2.60</td>\n",
       "      <td>3.30</td>\n",
       "      <td>2.75</td>\n",
       "      <td>0.493</td>\n",
       "      <td>0.28180</td>\n",
       "      <td>0.342</td>\n",
       "      <td>0.12860</td>\n",
       "      <td>0.165</td>\n",
       "      <td>-0.54625</td>\n",
       "    </tr>\n",
       "    <tr>\n",
       "      <th>246</th>\n",
       "      <td>D</td>\n",
       "      <td>2.80</td>\n",
       "      <td>3.35</td>\n",
       "      <td>2.55</td>\n",
       "      <td>0.281</td>\n",
       "      <td>-0.21320</td>\n",
       "      <td>0.193</td>\n",
       "      <td>-0.35345</td>\n",
       "      <td>0.526</td>\n",
       "      <td>0.34130</td>\n",
       "    </tr>\n",
       "    <tr>\n",
       "      <th>247</th>\n",
       "      <td>D</td>\n",
       "      <td>3.45</td>\n",
       "      <td>3.20</td>\n",
       "      <td>2.20</td>\n",
       "      <td>0.267</td>\n",
       "      <td>-0.07885</td>\n",
       "      <td>0.118</td>\n",
       "      <td>-0.62240</td>\n",
       "      <td>0.615</td>\n",
       "      <td>0.35300</td>\n",
       "    </tr>\n",
       "    <tr>\n",
       "      <th>248</th>\n",
       "      <td>D</td>\n",
       "      <td>2.00</td>\n",
       "      <td>3.50</td>\n",
       "      <td>3.70</td>\n",
       "      <td>0.265</td>\n",
       "      <td>-0.47000</td>\n",
       "      <td>0.287</td>\n",
       "      <td>0.00450</td>\n",
       "      <td>0.448</td>\n",
       "      <td>0.65760</td>\n",
       "    </tr>\n",
       "    <tr>\n",
       "      <th>249</th>\n",
       "      <td>H</td>\n",
       "      <td>1.57</td>\n",
       "      <td>4.40</td>\n",
       "      <td>5.30</td>\n",
       "      <td>0.536</td>\n",
       "      <td>-0.15848</td>\n",
       "      <td>0.213</td>\n",
       "      <td>-0.06280</td>\n",
       "      <td>0.251</td>\n",
       "      <td>0.33030</td>\n",
       "    </tr>\n",
       "  </tbody>\n",
       "</table>\n",
       "<p>389 rows × 10 columns</p>\n",
       "</div>"
      ],
      "text/plain": [
       "    FTR    IWA   IWD   IWH   P(A)     E(A)   P(D)     E(D)   P(H)     E(H)\n",
       "200   H   2.90  3.30  2.45  0.142 -0.58820  0.158 -0.47860  0.700  0.71500\n",
       "201   H  13.00  6.50  1.22  0.294  2.82200  0.331  1.15150  0.375 -0.54250\n",
       "202   D   2.90  3.10  2.60  0.428  0.24120  0.290 -0.10100  0.282 -0.26680\n",
       "203   H   8.00  5.30  1.35  0.218  0.74400  0.298  0.57940  0.484 -0.34660\n",
       "204   D   7.50  4.80  1.40  0.619  3.64250  0.126 -0.39520  0.255 -0.64300\n",
       "..   ..    ...   ...   ...    ...      ...    ...      ...    ...      ...\n",
       "245   A   2.60  3.30  2.75  0.493  0.28180  0.342  0.12860  0.165 -0.54625\n",
       "246   D   2.80  3.35  2.55  0.281 -0.21320  0.193 -0.35345  0.526  0.34130\n",
       "247   D   3.45  3.20  2.20  0.267 -0.07885  0.118 -0.62240  0.615  0.35300\n",
       "248   D   2.00  3.50  3.70  0.265 -0.47000  0.287  0.00450  0.448  0.65760\n",
       "249   H   1.57  4.40  5.30  0.536 -0.15848  0.213 -0.06280  0.251  0.33030\n",
       "\n",
       "[389 rows x 10 columns]"
      ]
     },
     "execution_count": 44,
     "metadata": {},
     "output_type": "execute_result"
    }
   ],
   "source": [
    "performance_df = test_df[['FTR','IWA','IWD','IWH']]\n",
    "performance_df['P(A)']= pd.DataFrame(data = results['Random Forest'][:,0], columns = ['P(A)'])\n",
    "performance_df['E(A)']= performance_df['P(A)'] * performance_df['IWA'] - 1.0\n",
    "performance_df['P(D)']= pd.DataFrame(data = results['Random Forest'][:,1], columns = ['P(D)'])\n",
    "performance_df['E(D)']= performance_df['P(D)'] * performance_df['IWD'] - 1.0\n",
    "performance_df['P(H)']= pd.DataFrame(data = results['Random Forest'][:,2], columns = ['P(H)'])\n",
    "performance_df['E(H)']= performance_df['P(H)'] * performance_df['IWH'] - 1.0\n",
    "performance_df"
   ]
  },
  {
   "cell_type": "markdown",
   "metadata": {},
   "source": [
    "## Selection of results to bet on and their actual performances"
   ]
  },
  {
   "cell_type": "code",
   "execution_count": 45,
   "metadata": {},
   "outputs": [],
   "source": [
    "#Floor and cap on expected gain to consider\n",
    "floor = 1.0\n",
    "cap = 15.0"
   ]
  },
  {
   "cell_type": "markdown",
   "metadata": {},
   "source": [
    "### Draws performance"
   ]
  },
  {
   "cell_type": "code",
   "execution_count": 46,
   "metadata": {},
   "outputs": [
    {
     "data": {
      "text/plain": [
       "5.5"
      ]
     },
     "execution_count": 46,
     "metadata": {},
     "output_type": "execute_result"
    }
   ],
   "source": [
    "#Selection of the draws\n",
    "draw_floor = performance_df['E(D)'] > floor\n",
    "draw_cap = performance_df['E(D)'] < cap\n",
    "selected_draw = performance_df[draw_floor & draw_cap]\n",
    "\n",
    "#Computation of actual gains on draws\n",
    "selected_draw['Gain'] = 0.0\n",
    "is_Draw = selected_draw['FTR'] == 'D'\n",
    "not_Draw = selected_draw['FTR'] != 'D'\n",
    "selected_draw.loc[not_Draw, 'Gain'] = -1.0\n",
    "selected_draw.loc[is_Draw, 'Gain'] = selected_draw.loc[is_Draw,'IWD'] - 1.0\n",
    "selected_draw['Gain'].sum()"
   ]
  },
  {
   "cell_type": "markdown",
   "metadata": {},
   "source": [
    "### Aways performance"
   ]
  },
  {
   "cell_type": "code",
   "execution_count": 47,
   "metadata": {},
   "outputs": [
    {
     "data": {
      "text/plain": [
       "-43.050000000000004"
      ]
     },
     "execution_count": 47,
     "metadata": {},
     "output_type": "execute_result"
    }
   ],
   "source": [
    "#Selection of the aways\n",
    "away_floor = performance_df['E(A)'] > floor\n",
    "away_cap = performance_df['E(A)'] < cap\n",
    "selected_away = performance_df[away_floor & away_cap]\n",
    "\n",
    "#Computation of actual gains on aways\n",
    "selected_away['Gain'] = 0.0\n",
    "is_Away = selected_away['FTR'] == 'A'\n",
    "not_Away = selected_away['FTR'] != 'A'\n",
    "selected_away.loc[not_Away, 'Gain'] = -1.0\n",
    "selected_away.loc[is_Away, 'Gain'] = selected_away.loc[is_Away,'IWA'] - 1.0\n",
    "selected_away['Gain'].sum()"
   ]
  },
  {
   "cell_type": "markdown",
   "metadata": {},
   "source": [
    "### Homes performance"
   ]
  },
  {
   "cell_type": "code",
   "execution_count": 48,
   "metadata": {},
   "outputs": [
    {
     "data": {
      "text/plain": [
       "9.6"
      ]
     },
     "execution_count": 48,
     "metadata": {},
     "output_type": "execute_result"
    }
   ],
   "source": [
    "#Selection of the homes\n",
    "home_floor = performance_df['E(H)'] > floor\n",
    "home_cap = performance_df['E(H)'] < cap\n",
    "selected_home = performance_df[home_floor & home_cap]\n",
    "\n",
    "#Computation of actual gains on aways\n",
    "selected_home['Gain'] = 0.0\n",
    "is_Home = selected_home['FTR'] == 'H'\n",
    "not_Home = selected_home['FTR'] != 'H'\n",
    "selected_home.loc[not_Home, 'Gain'] = -1.0\n",
    "selected_home.loc[is_Home, 'Gain'] = selected_home.loc[is_Home,'IWH'] - 1.0\n",
    "selected_home['Gain'].sum()"
   ]
  },
  {
   "cell_type": "code",
   "execution_count": 49,
   "metadata": {},
   "outputs": [
    {
     "data": {
      "text/plain": [
       "<matplotlib.axes._subplots.AxesSubplot at 0x7fe143c1c280>"
      ]
     },
     "execution_count": 49,
     "metadata": {},
     "output_type": "execute_result"
    },
    {
     "data": {
      "image/png": "[encoded data removed]",
      "text/plain": [
       "<Figure size 1440x864 with 2 Axes>"
      ]
     },
     "metadata": {
      "needs_background": "light"
     },
     "output_type": "display_data"
    }
   ],
   "source": [
    "import matplotlib.pyplot as plt\n",
    "corr_mat = train_df.corr()\n",
    "fig, ax = plt.subplots(figsize=(20, 12)) \n",
    "sns.heatmap(corr_mat, vmax=1.0, square=True, ax=ax)"
   ]
  },
  {
   "cell_type": "code",
   "execution_count": null,
   "metadata": {},
   "outputs": [],
   "source": []
  }
 ],
 "metadata": {
  "kernelspec": {
   "display_name": "Python 3",
   "language": "python",
   "name": "python3"
  },
  "language_info": {
   "codemirror_mode": {
    "name": "ipython",
    "version": 3
   },
   "file_extension": ".py",
   "mimetype": "text/x-python",
   "name": "python",
   "nbconvert_exporter": "python",
   "pygments_lexer": "ipython3",
   "version": "3.8.3"
  }
 },
 "nbformat": 4,
 "nbformat_minor": 2
}
