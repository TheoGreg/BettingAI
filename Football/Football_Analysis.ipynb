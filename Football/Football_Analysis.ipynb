{
 "cells": [
  {
   "cell_type": "markdown",
   "metadata": {},
   "source": [
    "# Imports"
   ]
  },
  {
   "cell_type": "code",
   "execution_count": 3,
   "metadata": {},
   "outputs": [],
   "source": [
    "import pandas as pd\n",
    "import seaborn as sns\n",
    "import sklearn as sk\n",
    "import datetime as dt\n",
    "import numpy as np\n",
    "\n",
    "# To ignore annoying warning\n",
    "import warnings\n",
    "def ignore_warn(*args, **kwargs):\n",
    "    pass\n",
    "warnings.warn = ignore_warn\n",
    "warnings.filterwarnings(\"ignore\", category=DeprecationWarning)"
   ]
  },
  {
   "cell_type": "markdown",
   "metadata": {},
   "source": [
    "# Data Processing"
   ]
  },
  {
   "cell_type": "markdown",
   "metadata": {},
   "source": [
    "## Selection of features"
   ]
  },
  {
   "cell_type": "code",
   "execution_count": 4,
   "metadata": {},
   "outputs": [],
   "source": [
    "#Selection of existing relevant features per game : events that happened during each game\n",
    "relevant_features = ['Date','HomeTeam','AwayTeam','IWH','IWD','IWA','FTR','FTHG','FTAG','HTHG','HTAG','HS','AS',\n",
    "                     'HST','AST','HF','AF','HY','AY','HR','AR','HC','AC']"
   ]
  },
  {
   "cell_type": "markdown",
   "metadata": {},
   "source": [
    "## Function for data processing of each season : creation of relevant features"
   ]
  },
  {
   "cell_type": "code",
   "execution_count": 5,
   "metadata": {},
   "outputs": [],
   "source": [
    "def create_stat_dico(season: str, league: str) -> pd.DataFrame:\n",
    "    \n",
    "    \"\"\"Compute statistics for a given season all the relevant statistics by going through each game\n",
    "    \n",
    "    Output a Dataframe of each game and each team statistics before the game\n",
    "    \n",
    "    Arguments : name of the season as a string, name of the league as a string\n",
    "    \"\"\"\n",
    "    \n",
    "    #stat_seasons is a 3-layer nested dico :\n",
    "    # stats_season ---> dico of all clubs\n",
    "    # club ---> dico of all week results\n",
    "    # week ---> all stats for that week\n",
    "    # stat ---> value for that specific game\n",
    "     \n",
    "    stats_season = {}\n",
    "    file_name = '/Users/theophanegregoir/Desktop/BettingAI/Football_Data/European_Leagues/Entire_Data_' + league + '.xlsx'\n",
    "    xls_file = pd.ExcelFile(file_name)\n",
    "    table = xls_file.parse(season)[relevant_features].dropna(axis=0)\n",
    "    \n",
    "    ###Features that describe team before the game\n",
    "    table['week'] = 0\n",
    "    \n",
    "    ###For Home Team (HT)\n",
    "    table['HT_league_points'] = 0.0\n",
    "    table['HT_average_goal_scored'] = 0.0\n",
    "    table['HT_average_goal_conceeded'] = 0.0\n",
    "    table['HT_average_goal_scored_half'] = 0.0\n",
    "    table['HT_average_goal_conceeded_half'] = 0.0\n",
    "    table['HT_average_yellow'] = 0.0\n",
    "    table['HT_average_red'] = 0.0\n",
    "    table['HT_average_shots'] = 0.0\n",
    "    table['HT_average_shots_on_target'] = 0.0\n",
    "    table['HT_average_shots_conceeded'] = 0.0\n",
    "    table['HT_average_fouls_committed'] = 0.0\n",
    "    table['HT_average_fouls_conceeded'] = 0.0\n",
    "    \n",
    "    ###For Away Team (AT)\n",
    "    table['AT_league_points'] = 0.0\n",
    "    table['AT_average_goal_scored'] = 0.0\n",
    "    table['AT_average_goal_conceeded'] = 0.0\n",
    "    table['AT_average_goal_scored_half'] = 0.0\n",
    "    table['AT_average_goal_conceeded_half'] = 0.0\n",
    "    table['AT_average_yellow'] = 0.0\n",
    "    table['AT_average_red'] = 0.0\n",
    "    table['AT_average_shots'] = 0.0\n",
    "    table['AT_average_shots_on_target'] = 0.0\n",
    "    table['AT_average_shots_conceeded'] = 0.0\n",
    "    table['AT_average_fouls_committed'] = 0.0\n",
    "    table['AT_average_fouls_conceeded'] = 0.0\n",
    "    \n",
    "    #Number of weeks available\n",
    "    nb_weeks = int(len(table)/10)\n",
    "    \n",
    "    if season == '2019-2020':\n",
    "        nb_weeks = int(len(table)/10) - 1\n",
    "    \n",
    "    #Getting unique list of club names for this season\n",
    "    clubs = list(set(list(table['HomeTeam'])))\n",
    "\n",
    "    #Creation of the dictionary of stats for each club       \n",
    "    for c in clubs:\n",
    "        \n",
    "        #First layer of dict\n",
    "        stats_season[c] = {}\n",
    "        \n",
    "        #Selection of the games where the club is involved\n",
    "        isHome = table['HomeTeam'] == c\n",
    "        isAway = table['AwayTeam'] == c\n",
    "        selected = table.loc[isHome | isAway]\n",
    "        stats_season[c]['games_index'] = list(selected.index)\n",
    "        \n",
    "        \n",
    "        #Initialisation of week 0 for additive params\n",
    "        stats_season[c][0] = {}\n",
    "        stats_season[c][0]['league_points'] = 0.0\n",
    "        stats_season[c][0]['goals_scored'] = 0.0\n",
    "        stats_season[c][0]['goals_scored_half'] = 0.0\n",
    "        stats_season[c][0]['goals_conceeded'] = 0.0\n",
    "        stats_season[c][0]['goals_conceeded_half'] = 0.0\n",
    "        stats_season[c][0]['yellow'] = 0.0\n",
    "        stats_season[c][0]['red'] = 0.0\n",
    "        stats_season[c][0]['fouls_conceeded'] = 0.0\n",
    "        stats_season[c][0]['fouls_committed'] = 0.0\n",
    "        stats_season[c][0]['shots'] = 0.0\n",
    "        stats_season[c][0]['shots_on_target'] = 0.0\n",
    "        stats_season[c][0]['shots_conceeded'] = 0.0\n",
    "        \n",
    "        #Going through all the weeks of the season\n",
    "        for k in range(1,len(selected)):\n",
    "            \n",
    "            #Second layer of dict\n",
    "            stats_season[c][k] = {}\n",
    "            \n",
    "            #Third layer of dict\n",
    "            if selected['AwayTeam'][selected.index[k-1]] == c :\n",
    "                stats_season[c][k]['is_Home'] = False\n",
    "            else :\n",
    "                stats_season[c][k]['is_Home'] = True\n",
    "            \n",
    "            #Modifying the dataframe to add the statistics before game (based on previous weeks) use as features for ML\n",
    "            if stats_season[c][k]['is_Home']:\n",
    "                table.at[selected.index[k-1],'week'] = k\n",
    "                table.at[selected.index[k-1],'HT_league_points'] = stats_season[c][k-1]['league_points'] / max(k-1.0,1.0)\n",
    "                table.at[selected.index[k-1],'HT_average_goal_scored'] = stats_season[c][k-1]['goals_scored'] / max(k-1.0,1.0)\n",
    "                table.at[selected.index[k-1],'HT_average_goal_conceeded'] = stats_season[c][k-1]['goals_conceeded'] / max(k-1.0,1.0)\n",
    "                table.at[selected.index[k-1],'HT_average_goal_scored_half'] = stats_season[c][k-1]['goals_scored_half'] / max(k-1.0,1.0)\n",
    "                table.at[selected.index[k-1],'HT_average_goal_conceeded_half'] =  stats_season[c][k-1]['goals_conceeded_half'] / max(k-1.0,1.0)\n",
    "                table.at[selected.index[k-1],'HT_average_shots'] = stats_season[c][k-1]['shots'] / max(k-1.0,1.0)\n",
    "                table.at[selected.index[k-1],'HT_average_shots_on_target'] = stats_season[c][k-1]['shots_on_target'] / max(k-1.0,1.0)\n",
    "                table.at[selected.index[k-1],'HT_average_shots_conceeded']= stats_season[c][k-1]['shots_conceeded'] / max(k-1.0,1.0)\n",
    "                table.at[selected.index[k-1],'HT_average_yellow'] = stats_season[c][k-1]['yellow'] / max(k-1.0,1.0)\n",
    "                table.at[selected.index[k-1],'HT_average_red'] = stats_season[c][k-1]['red'] / max(k-1.0,1.0)\n",
    "                table.at[selected.index[k-1],'HT_average_fouls_committed'] = stats_season[c][k-1]['fouls_committed'] / max(k-1.0,1.0)\n",
    "                table.at[selected.index[k-1],'HT_average_fouls_conceeded'] = stats_season[c][k-1]['fouls_conceeded'] / max(k-1.0,1.0)\n",
    "            else :\n",
    "                table.at[selected.index[k-1],'AT_league_points'] = stats_season[c][k-1]['league_points'] / max(k-1.0,1.0)\n",
    "                table.at[selected.index[k-1],'AT_average_goal_scored'] = stats_season[c][k-1]['goals_scored'] / max(k-1.0,1.0)\n",
    "                table.at[selected.index[k-1],'AT_average_goal_conceeded'] = stats_season[c][k-1]['goals_conceeded'] / max(k-1.0,1.0)\n",
    "                table.at[selected.index[k-1],'AT_average_goal_scored_half'] = stats_season[c][k-1]['goals_scored_half'] / max(k-1.0,1.0)\n",
    "                table.at[selected.index[k-1],'AT_average_goal_conceeded_half'] =  stats_season[c][k-1]['goals_conceeded_half'] / max(k-1.0,1.0)\n",
    "                table.at[selected.index[k-1],'AT_average_shots'] = stats_season[c][k-1]['shots'] / max(k-1.0,1.0)\n",
    "                table.at[selected.index[k-1],'AT_average_shots_on_target'] = stats_season[c][k-1]['shots_on_target'] / max(k-1.0,1.0)\n",
    "                table.at[selected.index[k-1],'AT_average_shots_conceeded']= stats_season[c][k-1]['shots_conceeded'] / max(k-1.0,1.0)\n",
    "                table.at[selected.index[k-1],'AT_average_yellow'] = stats_season[c][k-1]['yellow'] / max(k-1.0,1.0)\n",
    "                table.at[selected.index[k-1],'AT_average_red'] = stats_season[c][k-1]['red'] / max(k-1.0,1.0)\n",
    "                table.at[selected.index[k-1],'AT_average_fouls_committed'] = stats_season[c][k-1]['fouls_committed'] / max(k-1.0,1.0)\n",
    "                table.at[selected.index[k-1],'AT_average_fouls_conceeded'] = stats_season[c][k-1]['fouls_conceeded'] / max(k-1.0,1.0)\n",
    "            \n",
    "            #Gathering the statistics of the game for the club for next games\n",
    "            #League points\n",
    "            if selected['FTR'][selected.index[k-1]] == \"D\" :\n",
    "                stats_season[c][k]['league_points'] = stats_season[c][k-1]['league_points'] + 1.0\n",
    "            elif selected['FTR'][selected.index[k-1]] == \"A\" and selected['AwayTeam'][selected.index[k-1]] == c:\n",
    "                stats_season[c][k]['league_points'] = stats_season[c][k-1]['league_points'] + 3.0\n",
    "            elif selected['FTR'][selected.index[k-1]] == \"H\" and selected['HomeTeam'][selected.index[k-1]] == c:\n",
    "                stats_season[c][k]['league_points'] = stats_season[c][k-1]['league_points'] + 3.0\n",
    "            else:\n",
    "                stats_season[c][k]['league_points'] = stats_season[c][k-1]['league_points']\n",
    "            \n",
    "            #Goals and shots\n",
    "            if stats_season[c][k]['is_Home']:\n",
    "                stats_season[c][k]['goals_scored'] = stats_season[c][k-1]['goals_scored'] + selected['FTHG'][selected.index[k-1]]\n",
    "                stats_season[c][k]['goals_scored_half'] = stats_season[c][k-1]['goals_scored_half'] + selected['HTHG'][selected.index[k-1]]\n",
    "                stats_season[c][k]['goals_conceeded'] = stats_season[c][k-1]['goals_conceeded'] + selected['FTAG'][selected.index[k-1]]\n",
    "                stats_season[c][k]['goals_conceeded_half'] = stats_season[c][k-1]['goals_conceeded_half'] + selected['HTAG'][selected.index[k-1]]\n",
    "                stats_season[c][k]['shots'] = stats_season[c][k-1]['shots'] + selected['HS'][selected.index[k-1]]\n",
    "                stats_season[c][k]['shots_on_target'] = stats_season[c][k-1]['shots_on_target'] + selected['HST'][selected.index[k-1]]\n",
    "                stats_season[c][k]['shots_conceeded'] = stats_season[c][k-1]['shots_conceeded'] + selected['AS'][selected.index[k-1]]\n",
    "            else :\n",
    "                stats_season[c][k]['goals_scored'] = stats_season[c][k-1]['goals_scored'] + selected['FTAG'][selected.index[k-1]]\n",
    "                stats_season[c][k]['goals_scored_half'] = stats_season[c][k-1]['goals_scored_half'] + selected['HTAG'][selected.index[k-1]]\n",
    "                stats_season[c][k]['goals_conceeded'] = stats_season[c][k-1]['goals_conceeded'] + selected['FTHG'][selected.index[k-1]]\n",
    "                stats_season[c][k]['goals_conceeded_half'] = stats_season[c][k-1]['goals_conceeded_half'] + selected['HTHG'][selected.index[k-1]]\n",
    "                stats_season[c][k]['shots'] = stats_season[c][k-1]['shots'] + selected['AS'][selected.index[k-1]]\n",
    "                stats_season[c][k]['shots_on_target'] = stats_season[c][k-1]['shots_on_target'] + selected['AST'][selected.index[k-1]]\n",
    "                stats_season[c][k]['shots_conceeded'] = stats_season[c][k-1]['shots_conceeded'] + selected['HS'][selected.index[k-1]]\n",
    "            \n",
    "            #Fouls and cards\n",
    "            if stats_season[c][k]['is_Home']:\n",
    "                stats_season[c][k]['yellow'] = stats_season[c][k-1]['yellow'] + selected['HY'][selected.index[k-1]]\n",
    "                stats_season[c][k]['red'] = stats_season[c][k-1]['red'] + selected['HR'][selected.index[k-1]]\n",
    "                stats_season[c][k]['fouls_conceeded'] = stats_season[c][k-1]['fouls_conceeded'] + selected['AF'][selected.index[k-1]]\n",
    "                stats_season[c][k]['fouls_committed'] = stats_season[c][k-1]['fouls_committed'] + selected['HF'][selected.index[k-1]]\n",
    "            else:\n",
    "                stats_season[c][k]['yellow'] = stats_season[c][k-1]['yellow'] + selected['AY'][selected.index[k-1]]\n",
    "                stats_season[c][k]['red'] = stats_season[c][k-1]['red'] + selected['AR'][selected.index[k-1]]\n",
    "                stats_season[c][k]['fouls_conceeded'] = stats_season[c][k-1]['fouls_conceeded'] + selected['HF'][selected.index[k-1]]\n",
    "                stats_season[c][k]['fouls_committed'] = stats_season[c][k-1]['fouls_committed'] + selected['AF'][selected.index[k-1]]\n",
    "    \n",
    "    valid = table['week'] > 5\n",
    "    \n",
    "    return(table[valid])"
   ]
  },
  {
   "cell_type": "markdown",
   "metadata": {},
   "source": [
    "## Processing selected data"
   ]
  },
  {
   "cell_type": "code",
   "execution_count": 6,
   "metadata": {},
   "outputs": [
    {
     "name": "stdout",
     "output_type": "stream",
     "text": [
      "Processing PL 2010-2011\n",
      "Processing SerieA 2010-2011\n",
      "Processing Bundesliga 2010-2011\n",
      "Processing PL 2011-2012\n",
      "Processing SerieA 2011-2012\n",
      "Processing Bundesliga 2011-2012\n",
      "Processing PL 2012-2013\n",
      "Processing SerieA 2012-2013\n",
      "Processing Bundesliga 2012-2013\n",
      "Processing PL 2013-2014\n",
      "Processing SerieA 2013-2014\n",
      "Processing Bundesliga 2013-2014\n",
      "Processing PL 2014-2015\n",
      "Processing SerieA 2014-2015\n",
      "Processing Bundesliga 2014-2015\n",
      "Processing PL 2015-2016\n",
      "Processing SerieA 2015-2016\n",
      "Processing Bundesliga 2015-2016\n",
      "Processing PL 2016-2017\n",
      "Processing SerieA 2016-2017\n",
      "Processing Bundesliga 2016-2017\n",
      "Processing PL 2017-2018\n",
      "Processing SerieA 2017-2018\n",
      "Processing Bundesliga 2017-2018\n",
      "Processing PL 2018-2019\n",
      "Processing SerieA 2018-2019\n",
      "Processing Bundesliga 2018-2019\n",
      "Processing PL 2019-2020\n",
      "Processing SerieA 2019-2020\n",
      "Processing Bundesliga 2019-2020\n"
     ]
    }
   ],
   "source": [
    "#List of all features created after processing\n",
    "processed_features = ['week', 'HT_league_points', 'HT_average_goal_scored',\n",
    "           'HT_average_goal_conceeded', 'HT_average_goal_scored_half',\n",
    "           'HT_average_goal_conceeded_half', 'HT_average_yellow', 'HT_average_red',\n",
    "           'HT_average_shots', 'HT_average_shots_on_target',\n",
    "           'HT_average_shots_conceeded', 'HT_average_fouls_committed',\n",
    "           'HT_average_fouls_conceeded', 'AT_league_points',\n",
    "           'AT_average_goal_scored', 'AT_average_goal_conceeded',\n",
    "           'AT_average_goal_scored_half', 'AT_average_goal_conceeded_half',\n",
    "           'AT_average_yellow', 'AT_average_red', 'AT_average_shots',\n",
    "           'AT_average_shots_on_target', 'AT_average_shots_conceeded',\n",
    "           'AT_average_fouls_committed', 'AT_average_fouls_conceeded','FTR','IWH','IWD','IWA']\n",
    "\n",
    "#Leagues selected\n",
    "chosen_leagues = ['PL', 'SerieA','Bundesliga']\n",
    "\n",
    "#Seasons selected\n",
    "start_year = 2010\n",
    "end_year = 2020\n",
    "\n",
    "data_seasons = {}\n",
    "\n",
    "for i in range(start_year,end_year):\n",
    "    \n",
    "    season = str(i) + '-' + str(i + 1)\n",
    "    \n",
    "    data_seasons[season] = {}\n",
    "    \n",
    "    for league in chosen_leagues:\n",
    "        \n",
    "        print(\"Processing \" + league + ' ' + str(i) + '-' + str(i+1))\n",
    "\n",
    "        table = create_stat_dico(season, league)\n",
    "\n",
    "        full_table_add = table[processed_features]\n",
    "        \n",
    "        data_seasons[season][league] = full_table_add\n",
    " "
   ]
  },
  {
   "cell_type": "markdown",
   "metadata": {},
   "source": [
    "## Visualize data final format"
   ]
  },
  {
   "cell_type": "code",
   "execution_count": 7,
   "metadata": {},
   "outputs": [
    {
     "data": {
      "text/html": [
       "<div>\n",
       "<style scoped>\n",
       "    .dataframe tbody tr th:only-of-type {\n",
       "        vertical-align: middle;\n",
       "    }\n",
       "\n",
       "    .dataframe tbody tr th {\n",
       "        vertical-align: top;\n",
       "    }\n",
       "\n",
       "    .dataframe thead th {\n",
       "        text-align: right;\n",
       "    }\n",
       "</style>\n",
       "<table border=\"1\" class=\"dataframe\">\n",
       "  <thead>\n",
       "    <tr style=\"text-align: right;\">\n",
       "      <th></th>\n",
       "      <th>week</th>\n",
       "      <th>HT_league_points</th>\n",
       "      <th>HT_average_goal_scored</th>\n",
       "      <th>HT_average_goal_conceeded</th>\n",
       "      <th>HT_average_goal_scored_half</th>\n",
       "      <th>HT_average_goal_conceeded_half</th>\n",
       "      <th>HT_average_yellow</th>\n",
       "      <th>HT_average_red</th>\n",
       "      <th>HT_average_shots</th>\n",
       "      <th>HT_average_shots_on_target</th>\n",
       "      <th>...</th>\n",
       "      <th>AT_average_red</th>\n",
       "      <th>AT_average_shots</th>\n",
       "      <th>AT_average_shots_on_target</th>\n",
       "      <th>AT_average_shots_conceeded</th>\n",
       "      <th>AT_average_fouls_committed</th>\n",
       "      <th>AT_average_fouls_conceeded</th>\n",
       "      <th>FTR</th>\n",
       "      <th>IWH</th>\n",
       "      <th>IWD</th>\n",
       "      <th>IWA</th>\n",
       "    </tr>\n",
       "  </thead>\n",
       "  <tbody>\n",
       "    <tr>\n",
       "      <td>45</td>\n",
       "      <td>6</td>\n",
       "      <td>0.800000</td>\n",
       "      <td>1.000000</td>\n",
       "      <td>2.000000</td>\n",
       "      <td>0.400000</td>\n",
       "      <td>1.400000</td>\n",
       "      <td>1.200000</td>\n",
       "      <td>0.600000</td>\n",
       "      <td>11.400000</td>\n",
       "      <td>3.000000</td>\n",
       "      <td>...</td>\n",
       "      <td>0.000000</td>\n",
       "      <td>16.600000</td>\n",
       "      <td>5.400000</td>\n",
       "      <td>12.200000</td>\n",
       "      <td>13.600000</td>\n",
       "      <td>10.400000</td>\n",
       "      <td>A</td>\n",
       "      <td>3.00</td>\n",
       "      <td>3.50</td>\n",
       "      <td>2.30</td>\n",
       "    </tr>\n",
       "    <tr>\n",
       "      <td>46</td>\n",
       "      <td>6</td>\n",
       "      <td>1.000000</td>\n",
       "      <td>1.400000</td>\n",
       "      <td>2.200000</td>\n",
       "      <td>1.000000</td>\n",
       "      <td>0.800000</td>\n",
       "      <td>2.000000</td>\n",
       "      <td>0.200000</td>\n",
       "      <td>10.000000</td>\n",
       "      <td>3.800000</td>\n",
       "      <td>...</td>\n",
       "      <td>0.000000</td>\n",
       "      <td>17.200000</td>\n",
       "      <td>6.400000</td>\n",
       "      <td>8.600000</td>\n",
       "      <td>9.200000</td>\n",
       "      <td>10.600000</td>\n",
       "      <td>A</td>\n",
       "      <td>4.55</td>\n",
       "      <td>4.50</td>\n",
       "      <td>1.63</td>\n",
       "    </tr>\n",
       "    <tr>\n",
       "      <td>47</td>\n",
       "      <td>6</td>\n",
       "      <td>1.000000</td>\n",
       "      <td>0.800000</td>\n",
       "      <td>1.400000</td>\n",
       "      <td>0.200000</td>\n",
       "      <td>1.000000</td>\n",
       "      <td>1.800000</td>\n",
       "      <td>0.000000</td>\n",
       "      <td>11.800000</td>\n",
       "      <td>3.000000</td>\n",
       "      <td>...</td>\n",
       "      <td>0.000000</td>\n",
       "      <td>16.000000</td>\n",
       "      <td>5.600000</td>\n",
       "      <td>15.000000</td>\n",
       "      <td>14.000000</td>\n",
       "      <td>14.800000</td>\n",
       "      <td>A</td>\n",
       "      <td>2.60</td>\n",
       "      <td>3.50</td>\n",
       "      <td>2.60</td>\n",
       "    </tr>\n",
       "    <tr>\n",
       "      <td>48</td>\n",
       "      <td>6</td>\n",
       "      <td>0.600000</td>\n",
       "      <td>1.000000</td>\n",
       "      <td>3.000000</td>\n",
       "      <td>0.600000</td>\n",
       "      <td>0.800000</td>\n",
       "      <td>2.200000</td>\n",
       "      <td>0.000000</td>\n",
       "      <td>15.000000</td>\n",
       "      <td>4.200000</td>\n",
       "      <td>...</td>\n",
       "      <td>0.000000</td>\n",
       "      <td>13.000000</td>\n",
       "      <td>4.800000</td>\n",
       "      <td>9.800000</td>\n",
       "      <td>11.600000</td>\n",
       "      <td>14.000000</td>\n",
       "      <td>A</td>\n",
       "      <td>2.90</td>\n",
       "      <td>3.55</td>\n",
       "      <td>2.35</td>\n",
       "    </tr>\n",
       "    <tr>\n",
       "      <td>49</td>\n",
       "      <td>6</td>\n",
       "      <td>0.200000</td>\n",
       "      <td>1.200000</td>\n",
       "      <td>2.800000</td>\n",
       "      <td>1.000000</td>\n",
       "      <td>1.200000</td>\n",
       "      <td>2.400000</td>\n",
       "      <td>0.000000</td>\n",
       "      <td>11.800000</td>\n",
       "      <td>4.000000</td>\n",
       "      <td>...</td>\n",
       "      <td>0.000000</td>\n",
       "      <td>16.800000</td>\n",
       "      <td>7.000000</td>\n",
       "      <td>10.000000</td>\n",
       "      <td>10.200000</td>\n",
       "      <td>14.200000</td>\n",
       "      <td>A</td>\n",
       "      <td>15.50</td>\n",
       "      <td>9.00</td>\n",
       "      <td>1.15</td>\n",
       "    </tr>\n",
       "    <tr>\n",
       "      <td>...</td>\n",
       "      <td>...</td>\n",
       "      <td>...</td>\n",
       "      <td>...</td>\n",
       "      <td>...</td>\n",
       "      <td>...</td>\n",
       "      <td>...</td>\n",
       "      <td>...</td>\n",
       "      <td>...</td>\n",
       "      <td>...</td>\n",
       "      <td>...</td>\n",
       "      <td>...</td>\n",
       "      <td>...</td>\n",
       "      <td>...</td>\n",
       "      <td>...</td>\n",
       "      <td>...</td>\n",
       "      <td>...</td>\n",
       "      <td>...</td>\n",
       "      <td>...</td>\n",
       "      <td>...</td>\n",
       "      <td>...</td>\n",
       "      <td>...</td>\n",
       "    </tr>\n",
       "    <tr>\n",
       "      <td>199</td>\n",
       "      <td>23</td>\n",
       "      <td>1.181818</td>\n",
       "      <td>1.227273</td>\n",
       "      <td>1.727273</td>\n",
       "      <td>0.454545</td>\n",
       "      <td>0.681818</td>\n",
       "      <td>2.181818</td>\n",
       "      <td>0.136364</td>\n",
       "      <td>10.136364</td>\n",
       "      <td>3.227273</td>\n",
       "      <td>...</td>\n",
       "      <td>0.142857</td>\n",
       "      <td>12.619048</td>\n",
       "      <td>4.476190</td>\n",
       "      <td>14.000000</td>\n",
       "      <td>13.952381</td>\n",
       "      <td>12.857143</td>\n",
       "      <td>A</td>\n",
       "      <td>2.40</td>\n",
       "      <td>3.40</td>\n",
       "      <td>2.90</td>\n",
       "    </tr>\n",
       "    <tr>\n",
       "      <td>200</td>\n",
       "      <td>22</td>\n",
       "      <td>2.000000</td>\n",
       "      <td>2.000000</td>\n",
       "      <td>1.142857</td>\n",
       "      <td>0.904762</td>\n",
       "      <td>0.428571</td>\n",
       "      <td>2.476190</td>\n",
       "      <td>0.095238</td>\n",
       "      <td>13.571429</td>\n",
       "      <td>5.666667</td>\n",
       "      <td>...</td>\n",
       "      <td>0.000000</td>\n",
       "      <td>13.136364</td>\n",
       "      <td>4.727273</td>\n",
       "      <td>14.409091</td>\n",
       "      <td>10.818182</td>\n",
       "      <td>12.500000</td>\n",
       "      <td>D</td>\n",
       "      <td>1.65</td>\n",
       "      <td>4.30</td>\n",
       "      <td>4.75</td>\n",
       "    </tr>\n",
       "    <tr>\n",
       "      <td>202</td>\n",
       "      <td>23</td>\n",
       "      <td>1.636364</td>\n",
       "      <td>1.454545</td>\n",
       "      <td>1.227273</td>\n",
       "      <td>0.454545</td>\n",
       "      <td>0.318182</td>\n",
       "      <td>1.727273</td>\n",
       "      <td>0.045455</td>\n",
       "      <td>12.000000</td>\n",
       "      <td>4.272727</td>\n",
       "      <td>...</td>\n",
       "      <td>0.045455</td>\n",
       "      <td>16.227273</td>\n",
       "      <td>6.681818</td>\n",
       "      <td>10.227273</td>\n",
       "      <td>10.409091</td>\n",
       "      <td>10.772727</td>\n",
       "      <td>A</td>\n",
       "      <td>4.15</td>\n",
       "      <td>3.95</td>\n",
       "      <td>1.80</td>\n",
       "    </tr>\n",
       "    <tr>\n",
       "      <td>203</td>\n",
       "      <td>23</td>\n",
       "      <td>1.818182</td>\n",
       "      <td>1.727273</td>\n",
       "      <td>1.318182</td>\n",
       "      <td>1.045455</td>\n",
       "      <td>0.636364</td>\n",
       "      <td>1.727273</td>\n",
       "      <td>0.272727</td>\n",
       "      <td>16.090909</td>\n",
       "      <td>6.636364</td>\n",
       "      <td>...</td>\n",
       "      <td>0.090909</td>\n",
       "      <td>11.454545</td>\n",
       "      <td>4.318182</td>\n",
       "      <td>14.636364</td>\n",
       "      <td>10.681818</td>\n",
       "      <td>11.318182</td>\n",
       "      <td>H</td>\n",
       "      <td>1.48</td>\n",
       "      <td>4.70</td>\n",
       "      <td>6.10</td>\n",
       "    </tr>\n",
       "    <tr>\n",
       "      <td>204</td>\n",
       "      <td>23</td>\n",
       "      <td>1.409091</td>\n",
       "      <td>1.272727</td>\n",
       "      <td>1.272727</td>\n",
       "      <td>0.500000</td>\n",
       "      <td>0.545455</td>\n",
       "      <td>1.818182</td>\n",
       "      <td>0.090909</td>\n",
       "      <td>13.409091</td>\n",
       "      <td>4.909091</td>\n",
       "      <td>...</td>\n",
       "      <td>0.090909</td>\n",
       "      <td>14.363636</td>\n",
       "      <td>4.590909</td>\n",
       "      <td>15.454545</td>\n",
       "      <td>13.136364</td>\n",
       "      <td>10.681818</td>\n",
       "      <td>H</td>\n",
       "      <td>1.80</td>\n",
       "      <td>3.85</td>\n",
       "      <td>4.30</td>\n",
       "    </tr>\n",
       "  </tbody>\n",
       "</table>\n",
       "<p>159 rows × 29 columns</p>\n",
       "</div>"
      ],
      "text/plain": [
       "     week  HT_league_points  HT_average_goal_scored  \\\n",
       "45      6          0.800000                1.000000   \n",
       "46      6          1.000000                1.400000   \n",
       "47      6          1.000000                0.800000   \n",
       "48      6          0.600000                1.000000   \n",
       "49      6          0.200000                1.200000   \n",
       "..    ...               ...                     ...   \n",
       "199    23          1.181818                1.227273   \n",
       "200    22          2.000000                2.000000   \n",
       "202    23          1.636364                1.454545   \n",
       "203    23          1.818182                1.727273   \n",
       "204    23          1.409091                1.272727   \n",
       "\n",
       "     HT_average_goal_conceeded  HT_average_goal_scored_half  \\\n",
       "45                    2.000000                     0.400000   \n",
       "46                    2.200000                     1.000000   \n",
       "47                    1.400000                     0.200000   \n",
       "48                    3.000000                     0.600000   \n",
       "49                    2.800000                     1.000000   \n",
       "..                         ...                          ...   \n",
       "199                   1.727273                     0.454545   \n",
       "200                   1.142857                     0.904762   \n",
       "202                   1.227273                     0.454545   \n",
       "203                   1.318182                     1.045455   \n",
       "204                   1.272727                     0.500000   \n",
       "\n",
       "     HT_average_goal_conceeded_half  HT_average_yellow  HT_average_red  \\\n",
       "45                         1.400000           1.200000        0.600000   \n",
       "46                         0.800000           2.000000        0.200000   \n",
       "47                         1.000000           1.800000        0.000000   \n",
       "48                         0.800000           2.200000        0.000000   \n",
       "49                         1.200000           2.400000        0.000000   \n",
       "..                              ...                ...             ...   \n",
       "199                        0.681818           2.181818        0.136364   \n",
       "200                        0.428571           2.476190        0.095238   \n",
       "202                        0.318182           1.727273        0.045455   \n",
       "203                        0.636364           1.727273        0.272727   \n",
       "204                        0.545455           1.818182        0.090909   \n",
       "\n",
       "     HT_average_shots  HT_average_shots_on_target  ...  AT_average_red  \\\n",
       "45          11.400000                    3.000000  ...        0.000000   \n",
       "46          10.000000                    3.800000  ...        0.000000   \n",
       "47          11.800000                    3.000000  ...        0.000000   \n",
       "48          15.000000                    4.200000  ...        0.000000   \n",
       "49          11.800000                    4.000000  ...        0.000000   \n",
       "..                ...                         ...  ...             ...   \n",
       "199         10.136364                    3.227273  ...        0.142857   \n",
       "200         13.571429                    5.666667  ...        0.000000   \n",
       "202         12.000000                    4.272727  ...        0.045455   \n",
       "203         16.090909                    6.636364  ...        0.090909   \n",
       "204         13.409091                    4.909091  ...        0.090909   \n",
       "\n",
       "     AT_average_shots  AT_average_shots_on_target  AT_average_shots_conceeded  \\\n",
       "45          16.600000                    5.400000                   12.200000   \n",
       "46          17.200000                    6.400000                    8.600000   \n",
       "47          16.000000                    5.600000                   15.000000   \n",
       "48          13.000000                    4.800000                    9.800000   \n",
       "49          16.800000                    7.000000                   10.000000   \n",
       "..                ...                         ...                         ...   \n",
       "199         12.619048                    4.476190                   14.000000   \n",
       "200         13.136364                    4.727273                   14.409091   \n",
       "202         16.227273                    6.681818                   10.227273   \n",
       "203         11.454545                    4.318182                   14.636364   \n",
       "204         14.363636                    4.590909                   15.454545   \n",
       "\n",
       "     AT_average_fouls_committed  AT_average_fouls_conceeded  FTR    IWH   IWD  \\\n",
       "45                    13.600000                   10.400000    A   3.00  3.50   \n",
       "46                     9.200000                   10.600000    A   4.55  4.50   \n",
       "47                    14.000000                   14.800000    A   2.60  3.50   \n",
       "48                    11.600000                   14.000000    A   2.90  3.55   \n",
       "49                    10.200000                   14.200000    A  15.50  9.00   \n",
       "..                          ...                         ...  ...    ...   ...   \n",
       "199                   13.952381                   12.857143    A   2.40  3.40   \n",
       "200                   10.818182                   12.500000    D   1.65  4.30   \n",
       "202                   10.409091                   10.772727    A   4.15  3.95   \n",
       "203                   10.681818                   11.318182    H   1.48  4.70   \n",
       "204                   13.136364                   10.681818    H   1.80  3.85   \n",
       "\n",
       "      IWA  \n",
       "45   2.30  \n",
       "46   1.63  \n",
       "47   2.60  \n",
       "48   2.35  \n",
       "49   1.15  \n",
       "..    ...  \n",
       "199  2.90  \n",
       "200  4.75  \n",
       "202  1.80  \n",
       "203  6.10  \n",
       "204  4.30  \n",
       "\n",
       "[159 rows x 29 columns]"
      ]
     },
     "execution_count": 7,
     "metadata": {},
     "output_type": "execute_result"
    }
   ],
   "source": [
    "#Visualize the format of dataframe\n",
    "full_table_add"
   ]
  },
  {
   "cell_type": "markdown",
   "metadata": {},
   "source": [
    "# Defining train and test datasets"
   ]
  },
  {
   "cell_type": "markdown",
   "metadata": {},
   "source": [
    "## Training dataset"
   ]
  },
  {
   "cell_type": "code",
   "execution_count": 8,
   "metadata": {},
   "outputs": [
    {
     "name": "stdout",
     "output_type": "stream",
     "text": [
      "The model will train on 7112 matches !\n"
     ]
    }
   ],
   "source": [
    "#Selection of seasons used to train\n",
    "train_start_year = 2010\n",
    "train_end_year = 2018\n",
    "\n",
    "train_df = pd.DataFrame(columns = processed_features)\n",
    "\n",
    "for i in range(train_start_year,train_end_year):\n",
    "    \n",
    "    season = str(i) + '-' + str(i + 1)\n",
    "    \n",
    "    for league in chosen_leagues:\n",
    "        \n",
    "        table = data_seasons[season][league]\n",
    "        \n",
    "        two_concat = [train_df, table]\n",
    "        \n",
    "        train_df = pd.concat(two_concat)\n",
    "        \n",
    "\n",
    "print(\"The model will train on \" + str(len(train_df)) + \" matches !\")\n",
    "\n",
    "#Choice of the features\n",
    "features = ['HT_league_points', 'HT_average_goal_scored',\n",
    "       'HT_average_goal_conceeded', 'HT_average_goal_scored_half',\n",
    "       'HT_average_goal_conceeded_half','HT_average_red',\n",
    "       'HT_average_shots', 'HT_average_shots_on_target',\n",
    "       'HT_average_shots_conceeded', 'AT_league_points',\n",
    "       'AT_average_goal_scored', 'AT_average_goal_conceeded',\n",
    "       'AT_average_goal_scored_half', 'AT_average_goal_conceeded_half',\n",
    "       'AT_average_red', 'AT_average_shots',\n",
    "       'AT_average_shots_on_target', 'AT_average_shots_conceeded']\n",
    "\n",
    "n_features = len(features)\n",
    "\n",
    "train_x = train_df[features]\n",
    "\n",
    "train_y = train_df['FTR']\n"
   ]
  },
  {
   "cell_type": "markdown",
   "metadata": {},
   "source": [
    "## Testing dataset"
   ]
  },
  {
   "cell_type": "code",
   "execution_count": 9,
   "metadata": {},
   "outputs": [
    {
     "name": "stdout",
     "output_type": "stream",
     "text": [
      "The model will test on 2332 matches !\n"
     ]
    }
   ],
   "source": [
    "#Selection of seasons used to test\n",
    "test_start_year = 2017\n",
    "test_end_year = 2020\n",
    "\n",
    "test_df = pd.DataFrame(columns = processed_features)\n",
    "\n",
    "for i in range(test_start_year,test_end_year):\n",
    "    \n",
    "    season = str(i) + '-' + str(i + 1)\n",
    "    \n",
    "    for league in chosen_leagues:\n",
    "        \n",
    "        table = data_seasons[season][league]\n",
    "        \n",
    "        two_concat = [test_df, table]\n",
    "        \n",
    "        test_df = pd.concat(two_concat)\n",
    "\n",
    "#Choice of the features (we first delete the odds)\n",
    "test_x = test_df[features]\n",
    "\n",
    "#Labels for training\n",
    "test_y = test_df['FTR']\n",
    "\n",
    "print(\"The model will test on \" + str(len(test_df)) + \" matches !\")"
   ]
  },
  {
   "cell_type": "markdown",
   "metadata": {},
   "source": [
    "# Let's apply classical ML algorithms"
   ]
  },
  {
   "cell_type": "markdown",
   "metadata": {},
   "source": [
    "## Importing models"
   ]
  },
  {
   "cell_type": "code",
   "execution_count": 10,
   "metadata": {},
   "outputs": [],
   "source": [
    "#Dealing with format and metrics\n",
    "from sklearn.model_selection import GridSearchCV, train_test_split\n",
    "from sklearn.metrics import accuracy_score, confusion_matrix\n",
    "\n",
    "#Regression model\n",
    "from sklearn.linear_model import LogisticRegression\n",
    "from sklearn.gaussian_process import GaussianProcessClassifier\n",
    "from sklearn.gaussian_process.kernels import RBF\n",
    "\n",
    "#Classical classifiers\n",
    "from sklearn import svm\n",
    "from sklearn.tree import DecisionTreeClassifier\n",
    "\n",
    "#Ensemblist models\n",
    "from sklearn.ensemble import AdaBoostClassifier\n",
    "from sklearn.ensemble import RandomForestClassifier\n",
    "\n",
    "#Neural Networks\n",
    "from sklearn.neural_network import MLPClassifier"
   ]
  },
  {
   "cell_type": "markdown",
   "metadata": {},
   "source": [
    "## Training and testing : getting probabilities for test data"
   ]
  },
  {
   "cell_type": "code",
   "execution_count": 11,
   "metadata": {},
   "outputs": [
    {
     "name": "stdout",
     "output_type": "stream",
     "text": [
      "Training L1 logistic...\n",
      "Accuracy (test) for L1 logistic: 53.3% \n",
      "Training L2 logistic (Multinomial)...\n",
      "Accuracy (test) for L2 logistic (Multinomial): 53.5% \n",
      "Training L2 logistic (OvR)...\n",
      "Accuracy (test) for L2 logistic (OvR): 53.4% \n",
      "Training Random Forest...\n",
      "Accuracy (test) for Random Forest: 70.9% \n"
     ]
    }
   ],
   "source": [
    "# Dealing with parameters\n",
    "C = 5.0\n",
    "\n",
    "# Create different classifiers.\n",
    "classifiers = {\n",
    "    'L1 logistic': LogisticRegression(C=1.0, penalty='l1',\n",
    "                                      solver='saga', tol=0.0001,\n",
    "                                      multi_class='multinomial',\n",
    "                                      max_iter=10000),\n",
    "    'L2 logistic (Multinomial)': LogisticRegression(C=C, penalty='l2',\n",
    "                                                    solver='saga',\n",
    "                                                    multi_class='multinomial',\n",
    "                                                    max_iter=10000),\n",
    "    'L2 logistic (OvR)': LogisticRegression(C=C, penalty='l2',\n",
    "                                            solver='saga',\n",
    "                                            multi_class='ovr',\n",
    "                                            max_iter=10000),\n",
    "    'Random Forest': RandomForestClassifier(n_estimators=1000, criterion='gini', max_depth=25, \n",
    "                                            min_samples_split=2, min_samples_leaf=1, \n",
    "                                            min_weight_fraction_leaf=0.0, max_features='auto', \n",
    "                                            max_leaf_nodes=None, min_impurity_decrease=0.0, \n",
    "                                            min_impurity_split=None, bootstrap=True, oob_score=False, \n",
    "                                            n_jobs=None, random_state=None)\n",
    "}\n",
    "\n",
    "n_classifiers = len(classifiers)\n",
    "\n",
    "results = {}\n",
    "\n",
    "for index, (name, classifier) in enumerate(classifiers.items()):\n",
    "    print(\"Training \" + name + \"...\")\n",
    "    classifier.fit(train_x, train_y)\n",
    "\n",
    "    y_pred = classifier.predict(test_x)\n",
    "    accuracy = accuracy_score(test_y, y_pred)\n",
    "    print(\"Accuracy (test) for %s: %0.1f%% \" % (name, accuracy * 100))\n",
    "    \n",
    "    #Calculate probabilities:\n",
    "    probas = classifier.predict_proba(test_x)\n",
    "    \n",
    "    #store them in a dict\n",
    "    results[name] = probas\n"
   ]
  },
  {
   "cell_type": "markdown",
   "metadata": {},
   "source": [
    "# Let's try with Neural Networks"
   ]
  },
  {
   "cell_type": "markdown",
   "metadata": {},
   "source": [
    "## Imports"
   ]
  },
  {
   "cell_type": "code",
   "execution_count": 16,
   "metadata": {},
   "outputs": [],
   "source": [
    "import tensorflow.compat.v1 as tf\n",
    "tf.disable_v2_behavior()\n",
    "from numpy import argmax\n",
    "from sklearn.preprocessing import LabelEncoder\n",
    "from sklearn.preprocessing import OneHotEncoder\n",
    "\n",
    "#Keras tuners\n",
    "from kerastuner.tuners import RandomSearch\n",
    "from kerastuner.engine.hyperparameters import HyperParameters\n",
    "\n",
    "#Time\n",
    "import time"
   ]
  },
  {
   "cell_type": "markdown",
   "metadata": {},
   "source": [
    "## Parameters"
   ]
  },
  {
   "cell_type": "code",
   "execution_count": 13,
   "metadata": {},
   "outputs": [],
   "source": [
    "n_classes = 3\n",
    "n_features = train_x.shape[1]\n",
    "n_epochs = 10"
   ]
  },
  {
   "cell_type": "markdown",
   "metadata": {},
   "source": [
    "## Preprocessing"
   ]
  },
  {
   "cell_type": "code",
   "execution_count": 15,
   "metadata": {},
   "outputs": [],
   "source": [
    "test_X = test_x.values\n",
    "test_Y = test_y.values\n",
    "train_X = train_x.values\n",
    "train_Y = train_y.values\n",
    "\n",
    "# integer encode\n",
    "label_encoder = LabelEncoder()\n",
    "train_Y_integer_encoded = label_encoder.fit_transform(train_Y)\n",
    "test_Y_integer_encoded = label_encoder.transform(test_Y)\n",
    "\n",
    "# binary encode\n",
    "onehot_encoder = OneHotEncoder(sparse=False)\n",
    "train_Y_integer_encoded = train_Y_integer_encoded.reshape(len(train_Y_integer_encoded), 1)\n",
    "train_Y_onehot_encoded = onehot_encoder.fit_transform(train_Y_integer_encoded)\n",
    "test_Y_integer_encoded = test_Y_integer_encoded.reshape(len(test_Y_integer_encoded), 1)\n",
    "test_Y_onehot_encoded = onehot_encoder.transform(test_Y_integer_encoded)\n"
   ]
  },
  {
   "cell_type": "markdown",
   "metadata": {},
   "source": [
    "## Creation of the model"
   ]
  },
  {
   "cell_type": "code",
   "execution_count": null,
   "metadata": {},
   "outputs": [
    {
     "name": "stdout",
     "output_type": "stream",
     "text": [
      "WARNING:tensorflow:Unresolved object in checkpoint: (root).optimizer.iter\n",
      "WARNING:tensorflow:Unresolved object in checkpoint: (root).optimizer.beta_1\n",
      "WARNING:tensorflow:Unresolved object in checkpoint: (root).optimizer.beta_2\n",
      "WARNING:tensorflow:Unresolved object in checkpoint: (root).optimizer.decay\n",
      "WARNING:tensorflow:Unresolved object in checkpoint: (root).optimizer.learning_rate\n",
      "WARNING:tensorflow:Unresolved object in checkpoint: (root).optimizer's state 'm' for (root).layer_with_weights-0.kernel\n",
      "WARNING:tensorflow:Unresolved object in checkpoint: (root).optimizer's state 'm' for (root).layer_with_weights-0.bias\n",
      "WARNING:tensorflow:Unresolved object in checkpoint: (root).optimizer's state 'm' for (root).layer_with_weights-1.kernel\n",
      "WARNING:tensorflow:Unresolved object in checkpoint: (root).optimizer's state 'm' for (root).layer_with_weights-1.bias\n",
      "WARNING:tensorflow:Unresolved object in checkpoint: (root).optimizer's state 'm' for (root).layer_with_weights-2.kernel\n",
      "WARNING:tensorflow:Unresolved object in checkpoint: (root).optimizer's state 'm' for (root).layer_with_weights-2.bias\n",
      "WARNING:tensorflow:Unresolved object in checkpoint: (root).optimizer's state 'm' for (root).layer_with_weights-3.kernel\n",
      "WARNING:tensorflow:Unresolved object in checkpoint: (root).optimizer's state 'm' for (root).layer_with_weights-3.bias\n",
      "WARNING:tensorflow:Unresolved object in checkpoint: (root).optimizer's state 'm' for (root).layer_with_weights-4.kernel\n",
      "WARNING:tensorflow:Unresolved object in checkpoint: (root).optimizer's state 'm' for (root).layer_with_weights-4.bias\n",
      "WARNING:tensorflow:Unresolved object in checkpoint: (root).optimizer's state 'v' for (root).layer_with_weights-0.kernel\n",
      "WARNING:tensorflow:Unresolved object in checkpoint: (root).optimizer's state 'v' for (root).layer_with_weights-0.bias\n",
      "WARNING:tensorflow:Unresolved object in checkpoint: (root).optimizer's state 'v' for (root).layer_with_weights-1.kernel\n",
      "WARNING:tensorflow:Unresolved object in checkpoint: (root).optimizer's state 'v' for (root).layer_with_weights-1.bias\n",
      "WARNING:tensorflow:Unresolved object in checkpoint: (root).optimizer's state 'v' for (root).layer_with_weights-2.kernel\n",
      "WARNING:tensorflow:Unresolved object in checkpoint: (root).optimizer's state 'v' for (root).layer_with_weights-2.bias\n",
      "WARNING:tensorflow:Unresolved object in checkpoint: (root).optimizer's state 'v' for (root).layer_with_weights-3.kernel\n",
      "WARNING:tensorflow:Unresolved object in checkpoint: (root).optimizer's state 'v' for (root).layer_with_weights-3.bias\n",
      "WARNING:tensorflow:Unresolved object in checkpoint: (root).optimizer's state 'v' for (root).layer_with_weights-4.kernel\n",
      "WARNING:tensorflow:Unresolved object in checkpoint: (root).optimizer's state 'v' for (root).layer_with_weights-4.bias\n",
      "WARNING:tensorflow:A checkpoint was restored (e.g. tf.train.Checkpoint.restore or tf.keras.Model.load_weights) but not all checkpointed values were used. See above for specific issues. Use expect_partial() on the load status object, e.g. tf.train.Checkpoint.restore(...).expect_partial(), to silence these warnings, or use assert_consumed() to make the check explicit. See https://www.tensorflow.org/alpha/guide/checkpoints#loading_mechanics for details.\n",
      "Train on 7112 samples, validate on 2332 samples\n",
      "Epoch 1/10\n",
      "7112/7112 [==============================] - ETA: 5:17 - loss: 1.1910 - acc: 0.500 - ETA: 29s - loss: 1.3705 - acc: 0.291 - ETA: 32s - loss: 1.3456 - acc: 0.30 - ETA: 22s - loss: 1.2867 - acc: 0.30 - ETA: 13s - loss: 1.1998 - acc: 0.32 - ETA: 10s - loss: 1.1690 - acc: 0.37 - ETA: 8s - loss: 1.1444 - acc: 0.4133 - ETA: 8s - loss: 1.1322 - acc: 0.430 - ETA: 7s - loss: 1.1238 - acc: 0.432 - ETA: 7s - loss: 1.1244 - acc: 0.430 - ETA: 7s - loss: 1.1240 - acc: 0.427 - ETA: 7s - loss: 1.1187 - acc: 0.435 - ETA: 6s - loss: 1.1129 - acc: 0.441 - ETA: 6s - loss: 1.1091 - acc: 0.441 - ETA: 6s - loss: 1.1077 - acc: 0.442 - ETA: 5s - loss: 1.1037 - acc: 0.446 - ETA: 5s - loss: 1.1025 - acc: 0.446 - ETA: 5s - loss: 1.1011 - acc: 0.445 - ETA: 5s - loss: 1.0995 - acc: 0.445 - ETA: 5s - loss: 1.0988 - acc: 0.441 - ETA: 4s - loss: 1.0973 - acc: 0.444 - ETA: 4s - loss: 1.0963 - acc: 0.445 - ETA: 4s - loss: 1.0944 - acc: 0.447 - ETA: 4s - loss: 1.0914 - acc: 0.451 - ETA: 4s - loss: 1.0905 - acc: 0.451 - ETA: 4s - loss: 1.0882 - acc: 0.455 - ETA: 4s - loss: 1.0884 - acc: 0.452 - ETA: 3s - loss: 1.0868 - acc: 0.454 - ETA: 3s - loss: 1.0855 - acc: 0.455 - ETA: 3s - loss: 1.0828 - acc: 0.459 - ETA: 3s - loss: 1.0795 - acc: 0.462 - ETA: 3s - loss: 1.0749 - acc: 0.467 - ETA: 3s - loss: 1.0749 - acc: 0.468 - ETA: 3s - loss: 1.0737 - acc: 0.467 - ETA: 3s - loss: 1.0728 - acc: 0.468 - ETA: 3s - loss: 1.0712 - acc: 0.469 - ETA: 3s - loss: 1.0685 - acc: 0.471 - ETA: 2s - loss: 1.0662 - acc: 0.472 - ETA: 2s - loss: 1.0655 - acc: 0.473 - ETA: 2s - loss: 1.0637 - acc: 0.476 - ETA: 2s - loss: 1.0619 - acc: 0.477 - ETA: 2s - loss: 1.0621 - acc: 0.477 - ETA: 2s - loss: 1.0604 - acc: 0.478 - ETA: 2s - loss: 1.0579 - acc: 0.481 - ETA: 2s - loss: 1.0554 - acc: 0.484 - ETA: 2s - loss: 1.0551 - acc: 0.485 - ETA: 2s - loss: 1.0548 - acc: 0.484 - ETA: 2s - loss: 1.0545 - acc: 0.484 - ETA: 2s - loss: 1.0547 - acc: 0.484 - ETA: 2s - loss: 1.0538 - acc: 0.485 - ETA: 2s - loss: 1.0530 - acc: 0.486 - ETA: 2s - loss: 1.0506 - acc: 0.488 - ETA: 2s - loss: 1.0492 - acc: 0.489 - ETA: 2s - loss: 1.0489 - acc: 0.490 - ETA: 2s - loss: 1.0473 - acc: 0.492 - ETA: 1s - loss: 1.0468 - acc: 0.493 - ETA: 1s - loss: 1.0453 - acc: 0.495 - ETA: 1s - loss: 1.0443 - acc: 0.495 - ETA: 1s - loss: 1.0425 - acc: 0.497 - ETA: 1s - loss: 1.0429 - acc: 0.496 - ETA: 1s - loss: 1.0428 - acc: 0.497 - ETA: 1s - loss: 1.0429 - acc: 0.496 - ETA: 1s - loss: 1.0411 - acc: 0.498 - ETA: 1s - loss: 1.0406 - acc: 0.499 - ETA: 1s - loss: 1.0401 - acc: 0.500 - ETA: 1s - loss: 1.0391 - acc: 0.501 - ETA: 1s - loss: 1.0396 - acc: 0.500 - ETA: 1s - loss: 1.0385 - acc: 0.502 - ETA: 0s - loss: 1.0377 - acc: 0.502 - ETA: 0s - loss: 1.0376 - acc: 0.502 - ETA: 0s - loss: 1.0360 - acc: 0.504 - ETA: 0s - loss: 1.0351 - acc: 0.503 - ETA: 0s - loss: 1.0348 - acc: 0.503 - ETA: 0s - loss: 1.0350 - acc: 0.503 - ETA: 0s - loss: 1.0345 - acc: 0.503 - ETA: 0s - loss: 1.0342 - acc: 0.503 - ETA: 0s - loss: 1.0346 - acc: 0.503 - ETA: 0s - loss: 1.0349 - acc: 0.503 - ETA: 0s - loss: 1.0349 - acc: 0.503 - ETA: 0s - loss: 1.0350 - acc: 0.502 - ETA: 0s - loss: 1.0354 - acc: 0.501 - ETA: 0s - loss: 1.0358 - acc: 0.500 - ETA: 0s - loss: 1.0353 - acc: 0.501 - ETA: 0s - loss: 1.0342 - acc: 0.502 - 6s 791us/sample - loss: 1.0331 - acc: 0.5039 - val_loss: 0.9886 - val_acc: 0.5313\n",
      "Epoch 2/10\n"
     ]
    },
    {
     "name": "stdout",
     "output_type": "stream",
     "text": [
      "7112/7112 [==============================] - ETA: 2s - loss: 0.8259 - acc: 0.700 - ETA: 10s - loss: 0.9501 - acc: 0.55 - ETA: 11s - loss: 0.9797 - acc: 0.51 - ETA: 17s - loss: 0.9627 - acc: 0.53 - ETA: 14s - loss: 1.0008 - acc: 0.50 - ETA: 9s - loss: 1.0345 - acc: 0.4810 - ETA: 7s - loss: 1.0319 - acc: 0.490 - ETA: 6s - loss: 1.0432 - acc: 0.485 - ETA: 5s - loss: 1.0286 - acc: 0.501 - ETA: 5s - loss: 1.0133 - acc: 0.517 - ETA: 5s - loss: 1.0169 - acc: 0.512 - ETA: 4s - loss: 1.0168 - acc: 0.515 - ETA: 4s - loss: 1.0087 - acc: 0.523 - ETA: 4s - loss: 1.0009 - acc: 0.530 - ETA: 4s - loss: 1.0016 - acc: 0.526 - ETA: 4s - loss: 1.0011 - acc: 0.528 - ETA: 4s - loss: 1.0083 - acc: 0.520 - ETA: 3s - loss: 1.0072 - acc: 0.524 - ETA: 3s - loss: 1.0064 - acc: 0.524 - ETA: 3s - loss: 1.0079 - acc: 0.522 - ETA: 3s - loss: 1.0068 - acc: 0.521 - ETA: 3s - loss: 1.0057 - acc: 0.524 - ETA: 3s - loss: 1.0069 - acc: 0.523 - ETA: 3s - loss: 1.0012 - acc: 0.530 - ETA: 3s - loss: 1.0003 - acc: 0.531 - ETA: 3s - loss: 1.0023 - acc: 0.529 - ETA: 3s - loss: 0.9977 - acc: 0.533 - ETA: 3s - loss: 0.9992 - acc: 0.535 - ETA: 3s - loss: 0.9977 - acc: 0.537 - ETA: 3s - loss: 0.9974 - acc: 0.536 - ETA: 3s - loss: 0.9942 - acc: 0.538 - ETA: 3s - loss: 0.9945 - acc: 0.537 - ETA: 3s - loss: 0.9965 - acc: 0.536 - ETA: 3s - loss: 0.9984 - acc: 0.534 - ETA: 2s - loss: 0.9996 - acc: 0.531 - ETA: 2s - loss: 1.0011 - acc: 0.527 - ETA: 2s - loss: 1.0011 - acc: 0.528 - ETA: 2s - loss: 1.0031 - acc: 0.525 - ETA: 2s - loss: 1.0026 - acc: 0.525 - ETA: 2s - loss: 1.0038 - acc: 0.523 - ETA: 2s - loss: 1.0042 - acc: 0.523 - ETA: 2s - loss: 1.0022 - acc: 0.525 - ETA: 2s - loss: 1.0029 - acc: 0.524 - ETA: 2s - loss: 1.0028 - acc: 0.524 - ETA: 2s - loss: 1.0029 - acc: 0.523 - ETA: 2s - loss: 1.0024 - acc: 0.524 - ETA: 2s - loss: 1.0037 - acc: 0.521 - ETA: 2s - loss: 1.0035 - acc: 0.521 - ETA: 2s - loss: 1.0042 - acc: 0.520 - ETA: 1s - loss: 1.0056 - acc: 0.517 - ETA: 1s - loss: 1.0052 - acc: 0.518 - ETA: 1s - loss: 1.0040 - acc: 0.519 - ETA: 1s - loss: 1.0037 - acc: 0.520 - ETA: 1s - loss: 1.0035 - acc: 0.520 - ETA: 1s - loss: 1.0034 - acc: 0.521 - ETA: 1s - loss: 1.0042 - acc: 0.521 - ETA: 1s - loss: 1.0039 - acc: 0.522 - ETA: 1s - loss: 1.0048 - acc: 0.521 - ETA: 1s - loss: 1.0047 - acc: 0.522 - ETA: 1s - loss: 1.0052 - acc: 0.521 - ETA: 1s - loss: 1.0037 - acc: 0.522 - ETA: 1s - loss: 1.0038 - acc: 0.522 - ETA: 1s - loss: 1.0038 - acc: 0.522 - ETA: 1s - loss: 1.0036 - acc: 0.522 - ETA: 1s - loss: 1.0045 - acc: 0.521 - ETA: 1s - loss: 1.0046 - acc: 0.520 - ETA: 1s - loss: 1.0057 - acc: 0.519 - ETA: 1s - loss: 1.0044 - acc: 0.520 - ETA: 1s - loss: 1.0034 - acc: 0.521 - ETA: 1s - loss: 1.0037 - acc: 0.521 - ETA: 0s - loss: 1.0034 - acc: 0.521 - ETA: 0s - loss: 1.0042 - acc: 0.520 - ETA: 0s - loss: 1.0042 - acc: 0.520 - ETA: 0s - loss: 1.0036 - acc: 0.521 - ETA: 0s - loss: 1.0033 - acc: 0.522 - ETA: 0s - loss: 1.0026 - acc: 0.523 - ETA: 0s - loss: 1.0029 - acc: 0.523 - ETA: 0s - loss: 1.0010 - acc: 0.525 - ETA: 0s - loss: 1.0010 - acc: 0.525 - ETA: 0s - loss: 1.0008 - acc: 0.525 - ETA: 0s - loss: 1.0001 - acc: 0.526 - ETA: 0s - loss: 0.9997 - acc: 0.526 - ETA: 0s - loss: 0.9997 - acc: 0.526 - ETA: 0s - loss: 1.0005 - acc: 0.525 - ETA: 0s - loss: 1.0008 - acc: 0.525 - ETA: 0s - loss: 1.0004 - acc: 0.525 - 5s 720us/sample - loss: 1.0003 - acc: 0.5253 - val_loss: 0.9779 - val_acc: 0.5309\n",
      "Epoch 3/10\n",
      "7112/7112 [==============================] - ETA: 14s - loss: 1.1884 - acc: 0.20 - ETA: 4s - loss: 1.0606 - acc: 0.4364 - ETA: 4s - loss: 1.0049 - acc: 0.483 - ETA: 6s - loss: 1.0005 - acc: 0.488 - ETA: 6s - loss: 1.0008 - acc: 0.490 - ETA: 7s - loss: 1.0101 - acc: 0.484 - ETA: 6s - loss: 1.0047 - acc: 0.487 - ETA: 5s - loss: 0.9926 - acc: 0.513 - ETA: 5s - loss: 0.9966 - acc: 0.505 - ETA: 5s - loss: 0.9995 - acc: 0.509 - ETA: 4s - loss: 0.9965 - acc: 0.511 - ETA: 4s - loss: 0.9961 - acc: 0.516 - ETA: 4s - loss: 0.9902 - acc: 0.525 - ETA: 4s - loss: 0.9923 - acc: 0.524 - ETA: 3s - loss: 0.9949 - acc: 0.523 - ETA: 3s - loss: 0.9938 - acc: 0.523 - ETA: 3s - loss: 0.9990 - acc: 0.516 - ETA: 3s - loss: 1.0018 - acc: 0.515 - ETA: 2s - loss: 1.0050 - acc: 0.509 - ETA: 2s - loss: 1.0029 - acc: 0.513 - ETA: 2s - loss: 1.0038 - acc: 0.513 - ETA: 2s - loss: 1.0058 - acc: 0.511 - ETA: 2s - loss: 1.0032 - acc: 0.515 - ETA: 2s - loss: 1.0005 - acc: 0.517 - ETA: 1s - loss: 1.0011 - acc: 0.520 - ETA: 1s - loss: 0.9993 - acc: 0.522 - ETA: 1s - loss: 0.9992 - acc: 0.520 - ETA: 1s - loss: 1.0009 - acc: 0.519 - ETA: 1s - loss: 1.0004 - acc: 0.519 - ETA: 1s - loss: 1.0009 - acc: 0.520 - ETA: 1s - loss: 1.0003 - acc: 0.522 - ETA: 1s - loss: 0.9966 - acc: 0.526 - ETA: 1s - loss: 0.9983 - acc: 0.525 - ETA: 1s - loss: 0.9985 - acc: 0.525 - ETA: 1s - loss: 0.9978 - acc: 0.525 - ETA: 1s - loss: 0.9953 - acc: 0.527 - ETA: 0s - loss: 0.9943 - acc: 0.528 - ETA: 0s - loss: 0.9942 - acc: 0.528 - ETA: 0s - loss: 0.9949 - acc: 0.527 - ETA: 0s - loss: 0.9942 - acc: 0.528 - ETA: 0s - loss: 0.9938 - acc: 0.528 - ETA: 0s - loss: 0.9932 - acc: 0.528 - ETA: 0s - loss: 0.9932 - acc: 0.528 - ETA: 0s - loss: 0.9934 - acc: 0.528 - ETA: 0s - loss: 0.9930 - acc: 0.528 - ETA: 0s - loss: 0.9919 - acc: 0.528 - ETA: 0s - loss: 0.9932 - acc: 0.526 - ETA: 0s - loss: 0.9922 - acc: 0.527 - ETA: 0s - loss: 0.9921 - acc: 0.528 - ETA: 0s - loss: 0.9918 - acc: 0.529 - ETA: 0s - loss: 0.9929 - acc: 0.528 - ETA: 0s - loss: 0.9931 - acc: 0.528 - ETA: 0s - loss: 0.9934 - acc: 0.527 - ETA: 0s - loss: 0.9937 - acc: 0.527 - ETA: 0s - loss: 0.9940 - acc: 0.527 - ETA: 0s - loss: 0.9949 - acc: 0.525 - ETA: 0s - loss: 0.9952 - acc: 0.525 - ETA: 0s - loss: 0.9949 - acc: 0.525 - ETA: 0s - loss: 0.9952 - acc: 0.525 - ETA: 0s - loss: 0.9947 - acc: 0.526 - 4s 499us/sample - loss: 0.9947 - acc: 0.5270 - val_loss: 0.9807 - val_acc: 0.5287\n",
      "Epoch 4/10\n"
     ]
    },
    {
     "name": "stdout",
     "output_type": "stream",
     "text": [
      "7112/7112 [==============================] - ETA: 3s - loss: 0.8568 - acc: 0.500 - ETA: 2s - loss: 0.9858 - acc: 0.540 - ETA: 2s - loss: 0.9689 - acc: 0.543 - ETA: 2s - loss: 0.9859 - acc: 0.527 - ETA: 2s - loss: 0.9822 - acc: 0.538 - ETA: 3s - loss: 0.9824 - acc: 0.539 - ETA: 2s - loss: 0.9947 - acc: 0.527 - ETA: 2s - loss: 0.9871 - acc: 0.535 - ETA: 2s - loss: 0.9894 - acc: 0.535 - ETA: 2s - loss: 0.9785 - acc: 0.543 - ETA: 2s - loss: 0.9811 - acc: 0.539 - ETA: 2s - loss: 0.9868 - acc: 0.535 - ETA: 3s - loss: 0.9867 - acc: 0.534 - ETA: 3s - loss: 0.9844 - acc: 0.537 - ETA: 3s - loss: 0.9843 - acc: 0.537 - ETA: 3s - loss: 0.9842 - acc: 0.532 - ETA: 3s - loss: 0.9819 - acc: 0.535 - ETA: 3s - loss: 0.9811 - acc: 0.536 - ETA: 3s - loss: 0.9820 - acc: 0.535 - ETA: 3s - loss: 0.9812 - acc: 0.532 - ETA: 3s - loss: 0.9807 - acc: 0.532 - ETA: 3s - loss: 0.9813 - acc: 0.533 - ETA: 3s - loss: 0.9796 - acc: 0.535 - ETA: 3s - loss: 0.9816 - acc: 0.534 - ETA: 3s - loss: 0.9820 - acc: 0.534 - ETA: 3s - loss: 0.9812 - acc: 0.535 - ETA: 2s - loss: 0.9793 - acc: 0.537 - ETA: 2s - loss: 0.9792 - acc: 0.537 - ETA: 2s - loss: 0.9785 - acc: 0.538 - ETA: 2s - loss: 0.9786 - acc: 0.539 - ETA: 2s - loss: 0.9812 - acc: 0.535 - ETA: 2s - loss: 0.9821 - acc: 0.536 - ETA: 2s - loss: 0.9825 - acc: 0.536 - ETA: 2s - loss: 0.9843 - acc: 0.534 - ETA: 2s - loss: 0.9837 - acc: 0.534 - ETA: 2s - loss: 0.9818 - acc: 0.536 - ETA: 2s - loss: 0.9832 - acc: 0.536 - ETA: 2s - loss: 0.9837 - acc: 0.534 - ETA: 2s - loss: 0.9843 - acc: 0.531 - ETA: 2s - loss: 0.9853 - acc: 0.529 - ETA: 2s - loss: 0.9866 - acc: 0.527 - ETA: 2s - loss: 0.9872 - acc: 0.527 - ETA: 2s - loss: 0.9861 - acc: 0.528 - ETA: 1s - loss: 0.9874 - acc: 0.527 - ETA: 1s - loss: 0.9891 - acc: 0.525 - ETA: 1s - loss: 0.9906 - acc: 0.524 - ETA: 1s - loss: 0.9894 - acc: 0.526 - ETA: 1s - loss: 0.9915 - acc: 0.524 - ETA: 1s - loss: 0.9903 - acc: 0.526 - ETA: 1s - loss: 0.9905 - acc: 0.525 - ETA: 1s - loss: 0.9907 - acc: 0.525 - ETA: 1s - loss: 0.9908 - acc: 0.525 - ETA: 1s - loss: 0.9906 - acc: 0.525 - ETA: 1s - loss: 0.9909 - acc: 0.525 - ETA: 1s - loss: 0.9911 - acc: 0.524 - ETA: 1s - loss: 0.9915 - acc: 0.524 - ETA: 1s - loss: 0.9913 - acc: 0.524 - ETA: 1s - loss: 0.9905 - acc: 0.525 - ETA: 1s - loss: 0.9913 - acc: 0.525 - ETA: 1s - loss: 0.9928 - acc: 0.524 - ETA: 1s - loss: 0.9934 - acc: 0.523 - ETA: 0s - loss: 0.9930 - acc: 0.523 - ETA: 0s - loss: 0.9936 - acc: 0.522 - ETA: 0s - loss: 0.9951 - acc: 0.520 - ETA: 0s - loss: 0.9952 - acc: 0.519 - ETA: 0s - loss: 0.9952 - acc: 0.520 - ETA: 0s - loss: 0.9945 - acc: 0.521 - ETA: 0s - loss: 0.9930 - acc: 0.521 - ETA: 0s - loss: 0.9938 - acc: 0.521 - ETA: 0s - loss: 0.9929 - acc: 0.521 - ETA: 0s - loss: 0.9931 - acc: 0.522 - ETA: 0s - loss: 0.9925 - acc: 0.522 - ETA: 0s - loss: 0.9924 - acc: 0.521 - ETA: 0s - loss: 0.9910 - acc: 0.522 - ETA: 0s - loss: 0.9909 - acc: 0.522 - ETA: 0s - loss: 0.9905 - acc: 0.522 - ETA: 0s - loss: 0.9909 - acc: 0.522 - ETA: 0s - loss: 0.9901 - acc: 0.524 - ETA: 0s - loss: 0.9902 - acc: 0.523 - ETA: 0s - loss: 0.9915 - acc: 0.523 - ETA: 0s - loss: 0.9909 - acc: 0.524 - 5s 697us/sample - loss: 0.9908 - acc: 0.5242 - val_loss: 0.9821 - val_acc: 0.5300\n",
      "Epoch 5/10\n",
      "7112/7112 [==============================] - ETA: 4s - loss: 0.8039 - acc: 0.700 - ETA: 5s - loss: 0.8704 - acc: 0.662 - ETA: 4s - loss: 0.9148 - acc: 0.600 - ETA: 4s - loss: 0.9265 - acc: 0.604 - ETA: 4s - loss: 0.9111 - acc: 0.615 - ETA: 5s - loss: 0.9365 - acc: 0.589 - ETA: 5s - loss: 0.9704 - acc: 0.555 - ETA: 5s - loss: 0.9655 - acc: 0.561 - ETA: 5s - loss: 0.9632 - acc: 0.562 - ETA: 4s - loss: 0.9594 - acc: 0.559 - ETA: 4s - loss: 0.9711 - acc: 0.551 - ETA: 4s - loss: 0.9811 - acc: 0.547 - ETA: 4s - loss: 0.9861 - acc: 0.542 - ETA: 4s - loss: 0.9846 - acc: 0.538 - ETA: 4s - loss: 0.9867 - acc: 0.536 - ETA: 3s - loss: 0.9867 - acc: 0.535 - ETA: 3s - loss: 0.9875 - acc: 0.530 - ETA: 3s - loss: 0.9859 - acc: 0.532 - ETA: 3s - loss: 0.9886 - acc: 0.529 - ETA: 3s - loss: 0.9899 - acc: 0.525 - ETA: 3s - loss: 0.9899 - acc: 0.525 - ETA: 3s - loss: 0.9903 - acc: 0.525 - ETA: 3s - loss: 0.9914 - acc: 0.526 - ETA: 3s - loss: 0.9916 - acc: 0.525 - ETA: 3s - loss: 0.9942 - acc: 0.521 - ETA: 3s - loss: 0.9958 - acc: 0.520 - ETA: 3s - loss: 0.9958 - acc: 0.519 - ETA: 3s - loss: 0.9949 - acc: 0.518 - ETA: 2s - loss: 0.9973 - acc: 0.517 - ETA: 2s - loss: 0.9974 - acc: 0.516 - ETA: 2s - loss: 0.9967 - acc: 0.518 - ETA: 2s - loss: 0.9969 - acc: 0.518 - ETA: 2s - loss: 0.9977 - acc: 0.519 - ETA: 2s - loss: 0.9936 - acc: 0.524 - ETA: 2s - loss: 0.9941 - acc: 0.523 - ETA: 2s - loss: 0.9962 - acc: 0.522 - ETA: 2s - loss: 0.9936 - acc: 0.524 - ETA: 2s - loss: 0.9926 - acc: 0.525 - ETA: 2s - loss: 0.9964 - acc: 0.521 - ETA: 2s - loss: 0.9961 - acc: 0.522 - ETA: 2s - loss: 0.9960 - acc: 0.522 - ETA: 2s - loss: 0.9932 - acc: 0.525 - ETA: 1s - loss: 0.9940 - acc: 0.524 - ETA: 1s - loss: 0.9934 - acc: 0.525 - ETA: 1s - loss: 0.9948 - acc: 0.525 - ETA: 1s - loss: 0.9924 - acc: 0.526 - ETA: 1s - loss: 0.9927 - acc: 0.526 - ETA: 1s - loss: 0.9921 - acc: 0.526 - ETA: 1s - loss: 0.9907 - acc: 0.527 - ETA: 1s - loss: 0.9896 - acc: 0.528 - ETA: 1s - loss: 0.9904 - acc: 0.528 - ETA: 1s - loss: 0.9908 - acc: 0.527 - ETA: 1s - loss: 0.9908 - acc: 0.527 - ETA: 1s - loss: 0.9908 - acc: 0.528 - ETA: 1s - loss: 0.9911 - acc: 0.527 - ETA: 1s - loss: 0.9916 - acc: 0.527 - ETA: 1s - loss: 0.9909 - acc: 0.527 - ETA: 1s - loss: 0.9915 - acc: 0.527 - ETA: 1s - loss: 0.9908 - acc: 0.528 - ETA: 0s - loss: 0.9905 - acc: 0.528 - ETA: 0s - loss: 0.9896 - acc: 0.529 - ETA: 0s - loss: 0.9887 - acc: 0.530 - ETA: 0s - loss: 0.9887 - acc: 0.530 - ETA: 0s - loss: 0.9866 - acc: 0.532 - ETA: 0s - loss: 0.9868 - acc: 0.532 - ETA: 0s - loss: 0.9867 - acc: 0.532 - ETA: 0s - loss: 0.9882 - acc: 0.531 - ETA: 0s - loss: 0.9878 - acc: 0.532 - ETA: 0s - loss: 0.9885 - acc: 0.531 - ETA: 0s - loss: 0.9889 - acc: 0.530 - ETA: 0s - loss: 0.9899 - acc: 0.529 - ETA: 0s - loss: 0.9899 - acc: 0.529 - ETA: 0s - loss: 0.9895 - acc: 0.529 - ETA: 0s - loss: 0.9899 - acc: 0.529 - ETA: 0s - loss: 0.9898 - acc: 0.528 - ETA: 0s - loss: 0.9898 - acc: 0.527 - ETA: 0s - loss: 0.9895 - acc: 0.528 - ETA: 0s - loss: 0.9893 - acc: 0.527 - ETA: 0s - loss: 0.9908 - acc: 0.526 - ETA: 0s - loss: 0.9909 - acc: 0.526 - ETA: 0s - loss: 0.9906 - acc: 0.527 - 5s 660us/sample - loss: 0.9900 - acc: 0.5277 - val_loss: 0.9748 - val_acc: 0.5309\n",
      "Epoch 6/10\n"
     ]
    },
    {
     "name": "stdout",
     "output_type": "stream",
     "text": [
      "7112/7112 [==============================] - ETA: 9s - loss: 0.8035 - acc: 0.600 - ETA: 9s - loss: 0.8755 - acc: 0.612 - ETA: 8s - loss: 0.9276 - acc: 0.576 - ETA: 6s - loss: 0.9660 - acc: 0.530 - ETA: 5s - loss: 0.9786 - acc: 0.520 - ETA: 4s - loss: 0.9713 - acc: 0.522 - ETA: 4s - loss: 0.9793 - acc: 0.507 - ETA: 4s - loss: 0.9753 - acc: 0.513 - ETA: 3s - loss: 0.9833 - acc: 0.509 - ETA: 3s - loss: 0.9822 - acc: 0.511 - ETA: 3s - loss: 0.9789 - acc: 0.513 - ETA: 3s - loss: 0.9807 - acc: 0.517 - ETA: 3s - loss: 0.9822 - acc: 0.519 - ETA: 3s - loss: 0.9805 - acc: 0.522 - ETA: 3s - loss: 0.9812 - acc: 0.521 - ETA: 3s - loss: 0.9827 - acc: 0.519 - ETA: 3s - loss: 0.9808 - acc: 0.521 - ETA: 3s - loss: 0.9833 - acc: 0.517 - ETA: 3s - loss: 0.9821 - acc: 0.518 - ETA: 3s - loss: 0.9815 - acc: 0.518 - ETA: 3s - loss: 0.9830 - acc: 0.517 - ETA: 3s - loss: 0.9815 - acc: 0.519 - ETA: 3s - loss: 0.9847 - acc: 0.516 - ETA: 3s - loss: 0.9844 - acc: 0.516 - ETA: 3s - loss: 0.9842 - acc: 0.518 - ETA: 3s - loss: 0.9827 - acc: 0.521 - ETA: 3s - loss: 0.9818 - acc: 0.521 - ETA: 2s - loss: 0.9822 - acc: 0.521 - ETA: 2s - loss: 0.9824 - acc: 0.521 - ETA: 2s - loss: 0.9832 - acc: 0.519 - ETA: 2s - loss: 0.9833 - acc: 0.520 - ETA: 2s - loss: 0.9823 - acc: 0.523 - ETA: 2s - loss: 0.9832 - acc: 0.521 - ETA: 2s - loss: 0.9848 - acc: 0.521 - ETA: 2s - loss: 0.9855 - acc: 0.521 - ETA: 2s - loss: 0.9873 - acc: 0.520 - ETA: 2s - loss: 0.9873 - acc: 0.519 - ETA: 2s - loss: 0.9869 - acc: 0.519 - ETA: 2s - loss: 0.9880 - acc: 0.519 - ETA: 2s - loss: 0.9882 - acc: 0.519 - ETA: 2s - loss: 0.9881 - acc: 0.519 - ETA: 2s - loss: 0.9895 - acc: 0.517 - ETA: 1s - loss: 0.9924 - acc: 0.515 - ETA: 1s - loss: 0.9917 - acc: 0.517 - ETA: 1s - loss: 0.9914 - acc: 0.518 - ETA: 1s - loss: 0.9898 - acc: 0.520 - ETA: 1s - loss: 0.9887 - acc: 0.521 - ETA: 1s - loss: 0.9871 - acc: 0.522 - ETA: 1s - loss: 0.9876 - acc: 0.523 - ETA: 1s - loss: 0.9867 - acc: 0.524 - ETA: 1s - loss: 0.9879 - acc: 0.523 - ETA: 1s - loss: 0.9878 - acc: 0.524 - ETA: 1s - loss: 0.9873 - acc: 0.525 - ETA: 1s - loss: 0.9874 - acc: 0.525 - ETA: 1s - loss: 0.9874 - acc: 0.525 - ETA: 1s - loss: 0.9883 - acc: 0.524 - ETA: 1s - loss: 0.9871 - acc: 0.525 - ETA: 0s - loss: 0.9890 - acc: 0.525 - ETA: 0s - loss: 0.9874 - acc: 0.527 - ETA: 0s - loss: 0.9894 - acc: 0.526 - ETA: 0s - loss: 0.9893 - acc: 0.526 - ETA: 0s - loss: 0.9883 - acc: 0.527 - ETA: 0s - loss: 0.9884 - acc: 0.526 - ETA: 0s - loss: 0.9884 - acc: 0.526 - ETA: 0s - loss: 0.9884 - acc: 0.526 - ETA: 0s - loss: 0.9887 - acc: 0.526 - ETA: 0s - loss: 0.9881 - acc: 0.526 - ETA: 0s - loss: 0.9890 - acc: 0.525 - ETA: 0s - loss: 0.9881 - acc: 0.526 - ETA: 0s - loss: 0.9884 - acc: 0.526 - ETA: 0s - loss: 0.9880 - acc: 0.526 - ETA: 0s - loss: 0.9882 - acc: 0.526 - ETA: 0s - loss: 0.9883 - acc: 0.525 - 4s 599us/sample - loss: 0.9877 - acc: 0.5263 - val_loss: 0.9741 - val_acc: 0.5322\n",
      "Epoch 7/10\n",
      "7112/7112 [==============================] - ETA: 6s - loss: 0.9310 - acc: 0.500 - ETA: 4s - loss: 0.9767 - acc: 0.540 - ETA: 4s - loss: 0.9963 - acc: 0.531 - ETA: 4s - loss: 0.9857 - acc: 0.533 - ETA: 4s - loss: 0.9835 - acc: 0.534 - ETA: 3s - loss: 0.9628 - acc: 0.561 - ETA: 3s - loss: 0.9649 - acc: 0.554 - ETA: 3s - loss: 0.9574 - acc: 0.566 - ETA: 3s - loss: 0.9566 - acc: 0.560 - ETA: 3s - loss: 0.9592 - acc: 0.558 - ETA: 3s - loss: 0.9639 - acc: 0.552 - ETA: 3s - loss: 0.9657 - acc: 0.548 - ETA: 3s - loss: 0.9647 - acc: 0.548 - ETA: 3s - loss: 0.9660 - acc: 0.546 - ETA: 3s - loss: 0.9639 - acc: 0.547 - ETA: 3s - loss: 0.9645 - acc: 0.547 - ETA: 3s - loss: 0.9682 - acc: 0.544 - ETA: 3s - loss: 0.9675 - acc: 0.546 - ETA: 3s - loss: 0.9708 - acc: 0.543 - ETA: 3s - loss: 0.9702 - acc: 0.541 - ETA: 3s - loss: 0.9666 - acc: 0.545 - ETA: 3s - loss: 0.9660 - acc: 0.549 - ETA: 3s - loss: 0.9642 - acc: 0.551 - ETA: 3s - loss: 0.9671 - acc: 0.547 - ETA: 3s - loss: 0.9639 - acc: 0.549 - ETA: 3s - loss: 0.9667 - acc: 0.546 - ETA: 3s - loss: 0.9647 - acc: 0.547 - ETA: 3s - loss: 0.9703 - acc: 0.541 - ETA: 2s - loss: 0.9699 - acc: 0.541 - ETA: 2s - loss: 0.9701 - acc: 0.540 - ETA: 2s - loss: 0.9710 - acc: 0.540 - ETA: 2s - loss: 0.9737 - acc: 0.537 - ETA: 2s - loss: 0.9735 - acc: 0.537 - ETA: 2s - loss: 0.9739 - acc: 0.537 - ETA: 2s - loss: 0.9756 - acc: 0.536 - ETA: 2s - loss: 0.9775 - acc: 0.534 - ETA: 2s - loss: 0.9762 - acc: 0.535 - ETA: 2s - loss: 0.9760 - acc: 0.536 - ETA: 2s - loss: 0.9758 - acc: 0.537 - ETA: 2s - loss: 0.9774 - acc: 0.535 - ETA: 2s - loss: 0.9774 - acc: 0.536 - ETA: 2s - loss: 0.9791 - acc: 0.534 - ETA: 2s - loss: 0.9789 - acc: 0.535 - ETA: 2s - loss: 0.9802 - acc: 0.533 - ETA: 2s - loss: 0.9811 - acc: 0.531 - ETA: 2s - loss: 0.9820 - acc: 0.530 - ETA: 1s - loss: 0.9832 - acc: 0.529 - ETA: 1s - loss: 0.9845 - acc: 0.528 - ETA: 1s - loss: 0.9843 - acc: 0.529 - ETA: 1s - loss: 0.9846 - acc: 0.528 - ETA: 1s - loss: 0.9847 - acc: 0.528 - ETA: 1s - loss: 0.9858 - acc: 0.527 - ETA: 1s - loss: 0.9853 - acc: 0.527 - ETA: 1s - loss: 0.9858 - acc: 0.527 - ETA: 1s - loss: 0.9860 - acc: 0.527 - ETA: 1s - loss: 0.9867 - acc: 0.526 - ETA: 1s - loss: 0.9866 - acc: 0.525 - ETA: 1s - loss: 0.9856 - acc: 0.526 - ETA: 1s - loss: 0.9860 - acc: 0.526 - ETA: 1s - loss: 0.9855 - acc: 0.527 - ETA: 1s - loss: 0.9856 - acc: 0.527 - ETA: 1s - loss: 0.9834 - acc: 0.528 - ETA: 1s - loss: 0.9835 - acc: 0.529 - ETA: 1s - loss: 0.9837 - acc: 0.529 - ETA: 1s - loss: 0.9822 - acc: 0.531 - ETA: 0s - loss: 0.9825 - acc: 0.531 - ETA: 0s - loss: 0.9840 - acc: 0.529 - ETA: 0s - loss: 0.9846 - acc: 0.528 - ETA: 0s - loss: 0.9851 - acc: 0.528 - ETA: 0s - loss: 0.9856 - acc: 0.528 - ETA: 0s - loss: 0.9856 - acc: 0.527 - ETA: 0s - loss: 0.9855 - acc: 0.528 - ETA: 0s - loss: 0.9843 - acc: 0.529 - ETA: 0s - loss: 0.9832 - acc: 0.530 - ETA: 0s - loss: 0.9847 - acc: 0.529 - ETA: 0s - loss: 0.9846 - acc: 0.529 - ETA: 0s - loss: 0.9838 - acc: 0.530 - ETA: 0s - loss: 0.9850 - acc: 0.528 - ETA: 0s - loss: 0.9855 - acc: 0.527 - ETA: 0s - loss: 0.9851 - acc: 0.527 - ETA: 0s - loss: 0.9858 - acc: 0.527 - ETA: 0s - loss: 0.9856 - acc: 0.527 - 5s 665us/sample - loss: 0.9858 - acc: 0.5269 - val_loss: 0.9788 - val_acc: 0.5334\n",
      "Epoch 8/10\n"
     ]
    },
    {
     "name": "stdout",
     "output_type": "stream",
     "text": [
      "7112/7112 [==============================] - ETA: 7s - loss: 1.0768 - acc: 0.500 - ETA: 33s - loss: 0.9809 - acc: 0.60 - ETA: 9s - loss: 1.0394 - acc: 0.4727 - ETA: 6s - loss: 1.0082 - acc: 0.500 - ETA: 5s - loss: 0.9839 - acc: 0.535 - ETA: 4s - loss: 0.9918 - acc: 0.530 - ETA: 4s - loss: 0.9699 - acc: 0.543 - ETA: 4s - loss: 0.9683 - acc: 0.548 - ETA: 4s - loss: 0.9599 - acc: 0.561 - ETA: 4s - loss: 0.9571 - acc: 0.563 - ETA: 4s - loss: 0.9596 - acc: 0.561 - ETA: 3s - loss: 0.9570 - acc: 0.562 - ETA: 3s - loss: 0.9541 - acc: 0.566 - ETA: 3s - loss: 0.9492 - acc: 0.569 - ETA: 3s - loss: 0.9455 - acc: 0.574 - ETA: 3s - loss: 0.9463 - acc: 0.571 - ETA: 3s - loss: 0.9446 - acc: 0.572 - ETA: 3s - loss: 0.9493 - acc: 0.566 - ETA: 3s - loss: 0.9535 - acc: 0.564 - ETA: 3s - loss: 0.9549 - acc: 0.562 - ETA: 3s - loss: 0.9551 - acc: 0.561 - ETA: 3s - loss: 0.9563 - acc: 0.561 - ETA: 4s - loss: 0.9562 - acc: 0.562 - ETA: 4s - loss: 0.9587 - acc: 0.560 - ETA: 3s - loss: 0.9638 - acc: 0.554 - ETA: 3s - loss: 0.9656 - acc: 0.552 - ETA: 3s - loss: 0.9642 - acc: 0.553 - ETA: 3s - loss: 0.9658 - acc: 0.550 - ETA: 3s - loss: 0.9669 - acc: 0.548 - ETA: 3s - loss: 0.9681 - acc: 0.546 - ETA: 3s - loss: 0.9688 - acc: 0.546 - ETA: 3s - loss: 0.9717 - acc: 0.542 - ETA: 3s - loss: 0.9740 - acc: 0.539 - ETA: 3s - loss: 0.9736 - acc: 0.539 - ETA: 3s - loss: 0.9747 - acc: 0.538 - ETA: 3s - loss: 0.9764 - acc: 0.535 - ETA: 3s - loss: 0.9757 - acc: 0.537 - ETA: 3s - loss: 0.9769 - acc: 0.535 - ETA: 3s - loss: 0.9786 - acc: 0.534 - ETA: 3s - loss: 0.9790 - acc: 0.534 - ETA: 3s - loss: 0.9798 - acc: 0.534 - ETA: 2s - loss: 0.9813 - acc: 0.535 - ETA: 2s - loss: 0.9844 - acc: 0.531 - ETA: 2s - loss: 0.9837 - acc: 0.532 - ETA: 2s - loss: 0.9840 - acc: 0.531 - ETA: 2s - loss: 0.9839 - acc: 0.530 - ETA: 2s - loss: 0.9836 - acc: 0.531 - ETA: 2s - loss: 0.9846 - acc: 0.529 - ETA: 2s - loss: 0.9834 - acc: 0.530 - ETA: 2s - loss: 0.9841 - acc: 0.529 - ETA: 2s - loss: 0.9833 - acc: 0.529 - ETA: 2s - loss: 0.9835 - acc: 0.527 - ETA: 2s - loss: 0.9833 - acc: 0.528 - ETA: 1s - loss: 0.9845 - acc: 0.528 - ETA: 1s - loss: 0.9867 - acc: 0.527 - ETA: 1s - loss: 0.9874 - acc: 0.526 - ETA: 1s - loss: 0.9868 - acc: 0.526 - ETA: 1s - loss: 0.9860 - acc: 0.526 - ETA: 1s - loss: 0.9850 - acc: 0.527 - ETA: 1s - loss: 0.9855 - acc: 0.526 - ETA: 1s - loss: 0.9854 - acc: 0.526 - ETA: 1s - loss: 0.9853 - acc: 0.526 - ETA: 1s - loss: 0.9861 - acc: 0.526 - ETA: 1s - loss: 0.9876 - acc: 0.525 - ETA: 1s - loss: 0.9871 - acc: 0.526 - ETA: 1s - loss: 0.9864 - acc: 0.526 - ETA: 1s - loss: 0.9856 - acc: 0.526 - ETA: 1s - loss: 0.9850 - acc: 0.527 - ETA: 1s - loss: 0.9860 - acc: 0.526 - ETA: 0s - loss: 0.9862 - acc: 0.525 - ETA: 0s - loss: 0.9867 - acc: 0.524 - ETA: 0s - loss: 0.9866 - acc: 0.524 - ETA: 0s - loss: 0.9860 - acc: 0.525 - ETA: 0s - loss: 0.9858 - acc: 0.526 - ETA: 0s - loss: 0.9871 - acc: 0.525 - ETA: 0s - loss: 0.9866 - acc: 0.526 - ETA: 0s - loss: 0.9866 - acc: 0.525 - ETA: 0s - loss: 0.9869 - acc: 0.525 - ETA: 0s - loss: 0.9866 - acc: 0.525 - ETA: 0s - loss: 0.9865 - acc: 0.526 - ETA: 0s - loss: 0.9855 - acc: 0.526 - ETA: 0s - loss: 0.9862 - acc: 0.525 - ETA: 0s - loss: 0.9867 - acc: 0.524 - ETA: 0s - loss: 0.9861 - acc: 0.525 - ETA: 0s - loss: 0.9858 - acc: 0.525 - 5s 695us/sample - loss: 0.9862 - acc: 0.5253 - val_loss: 0.9732 - val_acc: 0.5317\n",
      "Epoch 9/10\n",
      "7112/7112 [==============================] - ETA: 6s - loss: 1.3038 - acc: 0.300 - ETA: 4s - loss: 0.9760 - acc: 0.577 - ETA: 3s - loss: 0.9690 - acc: 0.545 - ETA: 3s - loss: 0.9677 - acc: 0.552 - ETA: 2s - loss: 0.9636 - acc: 0.563 - ETA: 2s - loss: 0.9706 - acc: 0.559 - ETA: 2s - loss: 0.9820 - acc: 0.538 - ETA: 2s - loss: 0.9811 - acc: 0.541 - ETA: 2s - loss: 0.9866 - acc: 0.532 - ETA: 2s - loss: 0.9817 - acc: 0.539 - ETA: 2s - loss: 0.9842 - acc: 0.540 - ETA: 2s - loss: 0.9831 - acc: 0.539 - ETA: 2s - loss: 0.9787 - acc: 0.542 - ETA: 2s - loss: 0.9788 - acc: 0.542 - ETA: 2s - loss: 0.9816 - acc: 0.538 - ETA: 2s - loss: 0.9847 - acc: 0.535 - ETA: 2s - loss: 0.9870 - acc: 0.532 - ETA: 2s - loss: 0.9862 - acc: 0.532 - ETA: 2s - loss: 0.9878 - acc: 0.530 - ETA: 2s - loss: 0.9873 - acc: 0.532 - ETA: 2s - loss: 0.9864 - acc: 0.533 - ETA: 2s - loss: 0.9876 - acc: 0.531 - ETA: 2s - loss: 0.9891 - acc: 0.528 - ETA: 2s - loss: 0.9872 - acc: 0.530 - ETA: 2s - loss: 0.9894 - acc: 0.528 - ETA: 2s - loss: 0.9902 - acc: 0.529 - ETA: 2s - loss: 0.9889 - acc: 0.530 - ETA: 2s - loss: 0.9909 - acc: 0.527 - ETA: 2s - loss: 0.9888 - acc: 0.530 - ETA: 2s - loss: 0.9914 - acc: 0.527 - ETA: 2s - loss: 0.9892 - acc: 0.528 - ETA: 2s - loss: 0.9854 - acc: 0.532 - ETA: 2s - loss: 0.9883 - acc: 0.529 - ETA: 2s - loss: 0.9907 - acc: 0.525 - ETA: 2s - loss: 0.9906 - acc: 0.525 - ETA: 2s - loss: 0.9909 - acc: 0.524 - ETA: 2s - loss: 0.9920 - acc: 0.523 - ETA: 2s - loss: 0.9941 - acc: 0.521 - ETA: 2s - loss: 0.9935 - acc: 0.523 - ETA: 2s - loss: 0.9941 - acc: 0.521 - ETA: 1s - loss: 0.9921 - acc: 0.524 - ETA: 1s - loss: 0.9919 - acc: 0.524 - ETA: 1s - loss: 0.9937 - acc: 0.522 - ETA: 1s - loss: 0.9933 - acc: 0.522 - ETA: 1s - loss: 0.9926 - acc: 0.522 - ETA: 1s - loss: 0.9937 - acc: 0.522 - ETA: 1s - loss: 0.9930 - acc: 0.523 - ETA: 1s - loss: 0.9937 - acc: 0.522 - ETA: 1s - loss: 0.9951 - acc: 0.520 - ETA: 1s - loss: 0.9941 - acc: 0.523 - ETA: 1s - loss: 0.9927 - acc: 0.523 - ETA: 1s - loss: 0.9934 - acc: 0.522 - ETA: 1s - loss: 0.9929 - acc: 0.522 - ETA: 1s - loss: 0.9915 - acc: 0.523 - ETA: 1s - loss: 0.9910 - acc: 0.524 - ETA: 1s - loss: 0.9904 - acc: 0.525 - ETA: 1s - loss: 0.9912 - acc: 0.524 - ETA: 1s - loss: 0.9907 - acc: 0.525 - ETA: 1s - loss: 0.9902 - acc: 0.526 - ETA: 1s - loss: 0.9904 - acc: 0.526 - ETA: 1s - loss: 0.9902 - acc: 0.526 - ETA: 1s - loss: 0.9890 - acc: 0.527 - ETA: 1s - loss: 0.9883 - acc: 0.528 - ETA: 0s - loss: 0.9889 - acc: 0.528 - ETA: 0s - loss: 0.9885 - acc: 0.528 - ETA: 0s - loss: 0.9888 - acc: 0.528 - ETA: 0s - loss: 0.9886 - acc: 0.528 - ETA: 0s - loss: 0.9890 - acc: 0.527 - ETA: 0s - loss: 0.9897 - acc: 0.527 - ETA: 0s - loss: 0.9891 - acc: 0.527 - ETA: 0s - loss: 0.9882 - acc: 0.528 - ETA: 0s - loss: 0.9876 - acc: 0.529 - ETA: 0s - loss: 0.9877 - acc: 0.530 - ETA: 0s - loss: 0.9870 - acc: 0.530 - ETA: 0s - loss: 0.9876 - acc: 0.529 - ETA: 0s - loss: 0.9874 - acc: 0.530 - ETA: 0s - loss: 0.9865 - acc: 0.531 - ETA: 0s - loss: 0.9876 - acc: 0.530 - ETA: 0s - loss: 0.9876 - acc: 0.529 - ETA: 0s - loss: 0.9867 - acc: 0.530 - 5s 656us/sample - loss: 0.9871 - acc: 0.5301 - val_loss: 0.9784 - val_acc: 0.5322\n",
      "Epoch 10/10\n"
     ]
    },
    {
     "name": "stdout",
     "output_type": "stream",
     "text": [
      "7112/7112 [==============================] - ETA: 3s - loss: 1.1516 - acc: 0.400 - ETA: 3s - loss: 0.9714 - acc: 0.566 - ETA: 2s - loss: 0.9324 - acc: 0.576 - ETA: 3s - loss: 0.9539 - acc: 0.557 - ETA: 3s - loss: 0.9537 - acc: 0.560 - ETA: 4s - loss: 0.9496 - acc: 0.566 - ETA: 4s - loss: 0.9623 - acc: 0.557 - ETA: 3s - loss: 0.9521 - acc: 0.562 - ETA: 3s - loss: 0.9580 - acc: 0.558 - ETA: 4s - loss: 0.9667 - acc: 0.551 - ETA: 4s - loss: 0.9661 - acc: 0.550 - ETA: 4s - loss: 0.9665 - acc: 0.550 - ETA: 4s - loss: 0.9728 - acc: 0.546 - ETA: 5s - loss: 0.9743 - acc: 0.544 - ETA: 4s - loss: 0.9802 - acc: 0.542 - ETA: 4s - loss: 0.9789 - acc: 0.545 - ETA: 4s - loss: 0.9778 - acc: 0.543 - ETA: 4s - loss: 0.9730 - acc: 0.548 - ETA: 4s - loss: 0.9800 - acc: 0.543 - ETA: 4s - loss: 0.9838 - acc: 0.538 - ETA: 4s - loss: 0.9828 - acc: 0.538 - ETA: 3s - loss: 0.9813 - acc: 0.537 - ETA: 3s - loss: 0.9822 - acc: 0.536 - ETA: 3s - loss: 0.9808 - acc: 0.537 - ETA: 3s - loss: 0.9798 - acc: 0.539 - ETA: 3s - loss: 0.9791 - acc: 0.536 - ETA: 3s - loss: 0.9771 - acc: 0.536 - ETA: 3s - loss: 0.9774 - acc: 0.535 - ETA: 3s - loss: 0.9805 - acc: 0.530 - ETA: 3s - loss: 0.9807 - acc: 0.530 - ETA: 3s - loss: 0.9828 - acc: 0.528 - ETA: 3s - loss: 0.9834 - acc: 0.528 - ETA: 2s - loss: 0.9828 - acc: 0.528 - ETA: 2s - loss: 0.9818 - acc: 0.528 - ETA: 2s - loss: 0.9824 - acc: 0.528 - ETA: 2s - loss: 0.9833 - acc: 0.527 - ETA: 2s - loss: 0.9833 - acc: 0.527 - ETA: 2s - loss: 0.9811 - acc: 0.528 - ETA: 2s - loss: 0.9820 - acc: 0.528 - ETA: 2s - loss: 0.9830 - acc: 0.528 - ETA: 2s - loss: 0.9830 - acc: 0.528 - ETA: 2s - loss: 0.9849 - acc: 0.526 - ETA: 2s - loss: 0.9846 - acc: 0.528 - ETA: 2s - loss: 0.9855 - acc: 0.527 - ETA: 2s - loss: 0.9855 - acc: 0.527 - ETA: 2s - loss: 0.9857 - acc: 0.528 - ETA: 2s - loss: 0.9864 - acc: 0.528 - ETA: 2s - loss: 0.9868 - acc: 0.527 - ETA: 2s - loss: 0.9870 - acc: 0.527 - ETA: 2s - loss: 0.9867 - acc: 0.528 - ETA: 2s - loss: 0.9869 - acc: 0.528 - ETA: 1s - loss: 0.9859 - acc: 0.530 - ETA: 1s - loss: 0.9834 - acc: 0.532 - ETA: 1s - loss: 0.9830 - acc: 0.533 - ETA: 1s - loss: 0.9820 - acc: 0.534 - ETA: 1s - loss: 0.9827 - acc: 0.533 - ETA: 1s - loss: 0.9826 - acc: 0.534 - ETA: 1s - loss: 0.9824 - acc: 0.534 - ETA: 1s - loss: 0.9822 - acc: 0.534 - ETA: 1s - loss: 0.9816 - acc: 0.534 - ETA: 0s - loss: 0.9822 - acc: 0.533 - ETA: 0s - loss: 0.9824 - acc: 0.532 - ETA: 0s - loss: 0.9829 - acc: 0.531 - ETA: 0s - loss: 0.9831 - acc: 0.530 - ETA: 0s - loss: 0.9839 - acc: 0.530 - ETA: 0s - loss: 0.9854 - acc: 0.528 - ETA: 0s - loss: 0.9850 - acc: 0.528 - ETA: 0s - loss: 0.9851 - acc: 0.529 - ETA: 0s - loss: 0.9860 - acc: 0.527 - ETA: 0s - loss: 0.9854 - acc: 0.528 - ETA: 0s - loss: 0.9857 - acc: 0.527 - ETA: 0s - loss: 0.9846 - acc: 0.528 - 4s 595us/sample - loss: 0.9860 - acc: 0.5270 - val_loss: 0.9719 - val_acc: 0.5334\n"
     ]
    },
    {
     "data": {
      "text/html": [
       "<span style=\"color:#4527A0\"><h1 style=\"font-size:18px\">Trial complete</h1></span>"
      ],
      "text/plain": [
       "<IPython.core.display.HTML object>"
      ]
     },
     "metadata": {},
     "output_type": "display_data"
    },
    {
     "data": {
      "text/html": [
       "<span style=\"color:#4527A0\"><h1 style=\"font-size:18px\">Trial summary</h1></span>"
      ],
      "text/plain": [
       "<IPython.core.display.HTML object>"
      ]
     },
     "metadata": {},
     "output_type": "display_data"
    },
    {
     "data": {
      "text/html": [
       "<span style=\"color:cyan\"> |-Trial ID: 904562ad44cde524695300d1584c0b1c</span>"
      ],
      "text/plain": [
       "<IPython.core.display.HTML object>"
      ]
     },
     "metadata": {},
     "output_type": "display_data"
    },
    {
     "data": {
      "text/html": [
       "<span style=\"color:cyan\"> |-Score: 0.5334476828575134</span>"
      ],
      "text/plain": [
       "<IPython.core.display.HTML object>"
      ]
     },
     "metadata": {},
     "output_type": "display_data"
    },
    {
     "data": {
      "text/html": [
       "<span style=\"color:cyan\"> |-Best step: 0</span>"
      ],
      "text/plain": [
       "<IPython.core.display.HTML object>"
      ]
     },
     "metadata": {},
     "output_type": "display_data"
    },
    {
     "data": {
      "text/html": [
       "<span style=\"color:#7E57C2\"><h2 style=\"font-size:16px\">Hyperparameters:</h2></span>"
      ],
      "text/plain": [
       "<IPython.core.display.HTML object>"
      ]
     },
     "metadata": {},
     "output_type": "display_data"
    },
    {
     "data": {
      "text/html": [
       "<span style=\"color:cyan\"> |-layer_0_neurons: 30</span>"
      ],
      "text/plain": [
       "<IPython.core.display.HTML object>"
      ]
     },
     "metadata": {},
     "output_type": "display_data"
    },
    {
     "data": {
      "text/html": [
       "<span style=\"color:blue\"> |-layer_1_neurons: 10</span>"
      ],
      "text/plain": [
       "<IPython.core.display.HTML object>"
      ]
     },
     "metadata": {},
     "output_type": "display_data"
    },
    {
     "data": {
      "text/html": [
       "<span style=\"color:cyan\"> |-layer_2_neurons: 10</span>"
      ],
      "text/plain": [
       "<IPython.core.display.HTML object>"
      ]
     },
     "metadata": {},
     "output_type": "display_data"
    },
    {
     "data": {
      "text/html": [
       "<span style=\"color:blue\"> |-layer_3_neurons: 10</span>"
      ],
      "text/plain": [
       "<IPython.core.display.HTML object>"
      ]
     },
     "metadata": {},
     "output_type": "display_data"
    },
    {
     "data": {
      "text/html": [
       "<span style=\"color:cyan\"> |-n_input_neurons: 30</span>"
      ],
      "text/plain": [
       "<IPython.core.display.HTML object>"
      ]
     },
     "metadata": {},
     "output_type": "display_data"
    },
    {
     "data": {
      "text/html": [
       "<span style=\"color:blue\"> |-n_layers: 4</span>"
      ],
      "text/plain": [
       "<IPython.core.display.HTML object>"
      ]
     },
     "metadata": {},
     "output_type": "display_data"
    },
    {
     "name": "stdout",
     "output_type": "stream",
     "text": [
      "Train on 7112 samples, validate on 2332 samples\n",
      "Epoch 1/10\n",
      "7112/7112 [==============================] - ETA: 11:25 - loss: 1.1040 - acc: 0.30 - ETA: 1:19 - loss: 1.3600 - acc: 0.3556 - ETA: 53s - loss: 1.2326 - acc: 0.392 - ETA: 38s - loss: 1.1768 - acc: 0.42 - ETA: 33s - loss: 1.1423 - acc: 0.43 - ETA: 30s - loss: 1.1077 - acc: 0.46 - ETA: 27s - loss: 1.1273 - acc: 0.45 - ETA: 24s - loss: 1.1044 - acc: 0.47 - ETA: 21s - loss: 1.0861 - acc: 0.49 - ETA: 20s - loss: 1.0697 - acc: 0.50 - ETA: 18s - loss: 1.0722 - acc: 0.50 - ETA: 17s - loss: 1.0744 - acc: 0.49 - ETA: 16s - loss: 1.0742 - acc: 0.48 - ETA: 16s - loss: 1.0754 - acc: 0.47 - ETA: 15s - loss: 1.0742 - acc: 0.47 - ETA: 14s - loss: 1.0662 - acc: 0.48 - ETA: 14s - loss: 1.0657 - acc: 0.48 - ETA: 13s - loss: 1.0582 - acc: 0.49 - ETA: 12s - loss: 1.0534 - acc: 0.49 - ETA: 12s - loss: 1.0544 - acc: 0.49 - ETA: 11s - loss: 1.0530 - acc: 0.49 - ETA: 11s - loss: 1.0538 - acc: 0.49 - ETA: 10s - loss: 1.0588 - acc: 0.48 - ETA: 10s - loss: 1.0600 - acc: 0.47 - ETA: 10s - loss: 1.0608 - acc: 0.47 - ETA: 10s - loss: 1.0603 - acc: 0.47 - ETA: 10s - loss: 1.0593 - acc: 0.47 - ETA: 10s - loss: 1.0542 - acc: 0.48 - ETA: 9s - loss: 1.0552 - acc: 0.4818 - ETA: 9s - loss: 1.0529 - acc: 0.484 - ETA: 9s - loss: 1.0522 - acc: 0.485 - ETA: 9s - loss: 1.0529 - acc: 0.484 - ETA: 9s - loss: 1.0516 - acc: 0.485 - ETA: 9s - loss: 1.0488 - acc: 0.486 - ETA: 8s - loss: 1.0457 - acc: 0.489 - ETA: 8s - loss: 1.0441 - acc: 0.489 - ETA: 8s - loss: 1.0426 - acc: 0.491 - ETA: 8s - loss: 1.0442 - acc: 0.490 - ETA: 7s - loss: 1.0450 - acc: 0.488 - ETA: 7s - loss: 1.0437 - acc: 0.489 - ETA: 7s - loss: 1.0433 - acc: 0.490 - ETA: 7s - loss: 1.0411 - acc: 0.493 - ETA: 7s - loss: 1.0406 - acc: 0.493 - ETA: 6s - loss: 1.0375 - acc: 0.494 - ETA: 6s - loss: 1.0348 - acc: 0.496 - ETA: 6s - loss: 1.0340 - acc: 0.496 - ETA: 6s - loss: 1.0331 - acc: 0.497 - ETA: 6s - loss: 1.0332 - acc: 0.498 - ETA: 5s - loss: 1.0316 - acc: 0.499 - ETA: 5s - loss: 1.0302 - acc: 0.500 - ETA: 5s - loss: 1.0307 - acc: 0.500 - ETA: 5s - loss: 1.0305 - acc: 0.500 - ETA: 5s - loss: 1.0300 - acc: 0.502 - ETA: 5s - loss: 1.0280 - acc: 0.503 - ETA: 5s - loss: 1.0271 - acc: 0.504 - ETA: 5s - loss: 1.0269 - acc: 0.504 - ETA: 5s - loss: 1.0290 - acc: 0.503 - ETA: 5s - loss: 1.0291 - acc: 0.503 - ETA: 5s - loss: 1.0297 - acc: 0.502 - ETA: 5s - loss: 1.0291 - acc: 0.503 - ETA: 5s - loss: 1.0285 - acc: 0.504 - ETA: 5s - loss: 1.0280 - acc: 0.505 - ETA: 5s - loss: 1.0286 - acc: 0.504 - ETA: 5s - loss: 1.0288 - acc: 0.504 - ETA: 5s - loss: 1.0282 - acc: 0.504 - ETA: 5s - loss: 1.0276 - acc: 0.505 - ETA: 5s - loss: 1.0267 - acc: 0.505 - ETA: 5s - loss: 1.0276 - acc: 0.504 - ETA: 5s - loss: 1.0259 - acc: 0.506 - ETA: 4s - loss: 1.0256 - acc: 0.506 - ETA: 4s - loss: 1.0241 - acc: 0.506 - ETA: 4s - loss: 1.0236 - acc: 0.507 - ETA: 4s - loss: 1.0233 - acc: 0.506 - ETA: 4s - loss: 1.0234 - acc: 0.506 - ETA: 4s - loss: 1.0234 - acc: 0.503 - ETA: 4s - loss: 1.0236 - acc: 0.504 - ETA: 4s - loss: 1.0238 - acc: 0.504 - ETA: 4s - loss: 1.0244 - acc: 0.503 - ETA: 4s - loss: 1.0253 - acc: 0.502 - ETA: 4s - loss: 1.0251 - acc: 0.502 - ETA: 4s - loss: 1.0250 - acc: 0.502 - ETA: 4s - loss: 1.0250 - acc: 0.502 - ETA: 4s - loss: 1.0237 - acc: 0.503 - ETA: 4s - loss: 1.0242 - acc: 0.503 - ETA: 3s - loss: 1.0241 - acc: 0.503 - ETA: 3s - loss: 1.0239 - acc: 0.502 - ETA: 3s - loss: 1.0239 - acc: 0.502 - ETA: 3s - loss: 1.0232 - acc: 0.503 - ETA: 3s - loss: 1.0242 - acc: 0.502 - ETA: 3s - loss: 1.0236 - acc: 0.503 - ETA: 3s - loss: 1.0231 - acc: 0.503 - ETA: 3s - loss: 1.0229 - acc: 0.503 - ETA: 3s - loss: 1.0219 - acc: 0.504 - ETA: 3s - loss: 1.0226 - acc: 0.503 - ETA: 3s - loss: 1.0225 - acc: 0.503 - ETA: 3s - loss: 1.0215 - acc: 0.505 - ETA: 3s - loss: 1.0214 - acc: 0.505 - ETA: 3s - loss: 1.0214 - acc: 0.505 - ETA: 3s - loss: 1.0215 - acc: 0.505 - ETA: 3s - loss: 1.0216 - acc: 0.504 - ETA: 3s - loss: 1.0216 - acc: 0.504 - ETA: 3s - loss: 1.0221 - acc: 0.503 - ETA: 3s - loss: 1.0216 - acc: 0.504 - ETA: 3s - loss: 1.0217 - acc: 0.504 - ETA: 3s - loss: 1.0223 - acc: 0.503 - ETA: 3s - loss: 1.0221 - acc: 0.504 - ETA: 3s - loss: 1.0224 - acc: 0.502 - ETA: 3s - loss: 1.0216 - acc: 0.503 - ETA: 2s - loss: 1.0209 - acc: 0.503 - ETA: 2s - loss: 1.0195 - acc: 0.503 - ETA: 2s - loss: 1.0201 - acc: 0.502 - ETA: 2s - loss: 1.0198 - acc: 0.502 - ETA: 2s - loss: 1.0203 - acc: 0.502 - ETA: 2s - loss: 1.0203 - acc: 0.502 - ETA: 2s - loss: 1.0204 - acc: 0.502 - ETA: 2s - loss: 1.0194 - acc: 0.503 - ETA: 2s - loss: 1.0195 - acc: 0.503 - ETA: 2s - loss: 1.0195 - acc: 0.502 - ETA: 2s - loss: 1.0193 - acc: 0.502 - ETA: 2s - loss: 1.0195 - acc: 0.502 - ETA: 2s - loss: 1.0195 - acc: 0.501 - ETA: 2s - loss: 1.0194 - acc: 0.501 - ETA: 2s - loss: 1.0199 - acc: 0.501 - ETA: 2s - loss: 1.0196 - acc: 0.502 - ETA: 2s - loss: 1.0194 - acc: 0.503 - ETA: 2s - loss: 1.0194 - acc: 0.502 - ETA: 2s - loss: 1.0197 - acc: 0.503 - ETA: 2s - loss: 1.0197 - acc: 0.503 - ETA: 2s - loss: 1.0198 - acc: 0.503 - ETA: 2s - loss: 1.0201 - acc: 0.502 - ETA: 2s - loss: 1.0200 - acc: 0.503 - ETA: 2s - loss: 1.0204 - acc: 0.502 - ETA: 2s - loss: 1.0202 - acc: 0.502 - ETA: 2s - loss: 1.0199 - acc: 0.503 - ETA: 1s - loss: 1.0184 - acc: 0.504 - ETA: 1s - loss: 1.0185 - acc: 0.504 - ETA: 1s - loss: 1.0185 - acc: 0.504 - ETA: 1s - loss: 1.0184 - acc: 0.504 - ETA: 1s - loss: 1.0180 - acc: 0.505 - ETA: 1s - loss: 1.0178 - acc: 0.505 - ETA: 1s - loss: 1.0177 - acc: 0.505 - ETA: 1s - loss: 1.0176 - acc: 0.505 - ETA: 1s - loss: 1.0173 - acc: 0.505 - ETA: 1s - loss: 1.0176 - acc: 0.505 - ETA: 1s - loss: 1.0176 - acc: 0.505 - ETA: 1s - loss: 1.0185 - acc: 0.504 - ETA: 1s - loss: 1.0187 - acc: 0.504 - ETA: 1s - loss: 1.0185 - acc: 0.505 - ETA: 1s - loss: 1.0185 - acc: 0.505 - ETA: 1s - loss: 1.0184 - acc: 0.506 - ETA: 1s - loss: 1.0189 - acc: 0.505 - ETA: 1s - loss: 1.0188 - acc: 0.505 - ETA: 0s - loss: 1.0183 - acc: 0.506 - ETA: 0s - loss: 1.0176 - acc: 0.506 - ETA: 0s - loss: 1.0173 - acc: 0.507 - ETA: 0s - loss: 1.0170 - acc: 0.507 - ETA: 0s - loss: 1.0165 - acc: 0.508 - ETA: 0s - loss: 1.0155 - acc: 0.509 - ETA: 0s - loss: 1.0152 - acc: 0.509 - ETA: 0s - loss: 1.0150 - acc: 0.509 - ETA: 0s - loss: 1.0153 - acc: 0.509 - ETA: 0s - loss: 1.0159 - acc: 0.508 - ETA: 0s - loss: 1.0162 - acc: 0.508 - ETA: 0s - loss: 1.0160 - acc: 0.508 - ETA: 0s - loss: 1.0152 - acc: 0.509 - 12s 2ms/sample - loss: 1.0148 - acc: 0.5097 - val_loss: 0.9785 - val_acc: 0.5300\n",
      "Epoch 2/10\n"
     ]
    },
    {
     "name": "stdout",
     "output_type": "stream",
     "text": [
      "7112/7112 [==============================] - ETA: 23s - loss: 1.0949 - acc: 0.40 - ETA: 20s - loss: 0.9400 - acc: 0.53 - ETA: 13s - loss: 0.9640 - acc: 0.50 - ETA: 10s - loss: 1.0111 - acc: 0.47 - ETA: 10s - loss: 0.9814 - acc: 0.50 - ETA: 10s - loss: 0.9799 - acc: 0.50 - ETA: 11s - loss: 0.9702 - acc: 0.53 - ETA: 12s - loss: 0.9685 - acc: 0.53 - ETA: 12s - loss: 0.9709 - acc: 0.53 - ETA: 13s - loss: 0.9768 - acc: 0.52 - ETA: 13s - loss: 0.9902 - acc: 0.51 - ETA: 14s - loss: 0.9856 - acc: 0.52 - ETA: 14s - loss: 0.9896 - acc: 0.52 - ETA: 14s - loss: 0.9896 - acc: 0.52 - ETA: 13s - loss: 0.9846 - acc: 0.52 - ETA: 14s - loss: 0.9884 - acc: 0.51 - ETA: 14s - loss: 0.9874 - acc: 0.51 - ETA: 14s - loss: 0.9909 - acc: 0.51 - ETA: 15s - loss: 0.9917 - acc: 0.51 - ETA: 16s - loss: 0.9939 - acc: 0.51 - ETA: 16s - loss: 0.9938 - acc: 0.51 - ETA: 17s - loss: 0.9928 - acc: 0.51 - ETA: 17s - loss: 0.9924 - acc: 0.51 - ETA: 18s - loss: 0.9959 - acc: 0.51 - ETA: 18s - loss: 0.9933 - acc: 0.51 - ETA: 18s - loss: 0.9833 - acc: 0.52 - ETA: 19s - loss: 0.9872 - acc: 0.52 - ETA: 19s - loss: 0.9877 - acc: 0.51 - ETA: 19s - loss: 0.9903 - acc: 0.51 - ETA: 18s - loss: 0.9952 - acc: 0.51 - ETA: 17s - loss: 0.9941 - acc: 0.51 - ETA: 17s - loss: 1.0037 - acc: 0.50 - ETA: 16s - loss: 1.0031 - acc: 0.50 - ETA: 16s - loss: 1.0014 - acc: 0.51 - ETA: 15s - loss: 1.0011 - acc: 0.50 - ETA: 15s - loss: 1.0008 - acc: 0.50 - ETA: 15s - loss: 0.9982 - acc: 0.51 - ETA: 15s - loss: 0.9999 - acc: 0.51 - ETA: 14s - loss: 1.0003 - acc: 0.50 - ETA: 14s - loss: 0.9995 - acc: 0.51 - ETA: 14s - loss: 1.0040 - acc: 0.50 - ETA: 14s - loss: 1.0064 - acc: 0.50 - ETA: 14s - loss: 1.0062 - acc: 0.50 - ETA: 13s - loss: 1.0068 - acc: 0.50 - ETA: 13s - loss: 1.0071 - acc: 0.50 - ETA: 13s - loss: 1.0085 - acc: 0.50 - ETA: 12s - loss: 1.0090 - acc: 0.49 - ETA: 12s - loss: 1.0098 - acc: 0.50 - ETA: 11s - loss: 1.0123 - acc: 0.49 - ETA: 11s - loss: 1.0080 - acc: 0.50 - ETA: 11s - loss: 1.0079 - acc: 0.50 - ETA: 11s - loss: 1.0080 - acc: 0.50 - ETA: 11s - loss: 1.0084 - acc: 0.50 - ETA: 11s - loss: 1.0105 - acc: 0.50 - ETA: 11s - loss: 1.0067 - acc: 0.50 - ETA: 10s - loss: 1.0055 - acc: 0.50 - ETA: 10s - loss: 1.0078 - acc: 0.50 - ETA: 10s - loss: 1.0040 - acc: 0.50 - ETA: 9s - loss: 1.0025 - acc: 0.5076 - ETA: 9s - loss: 0.9999 - acc: 0.508 - ETA: 9s - loss: 1.0001 - acc: 0.509 - ETA: 8s - loss: 1.0009 - acc: 0.510 - ETA: 8s - loss: 0.9989 - acc: 0.512 - ETA: 8s - loss: 1.0002 - acc: 0.512 - ETA: 7s - loss: 0.9984 - acc: 0.514 - ETA: 7s - loss: 0.9973 - acc: 0.514 - ETA: 7s - loss: 0.9994 - acc: 0.513 - ETA: 7s - loss: 0.9994 - acc: 0.513 - ETA: 7s - loss: 0.9997 - acc: 0.515 - ETA: 6s - loss: 0.9974 - acc: 0.517 - ETA: 6s - loss: 0.9977 - acc: 0.515 - ETA: 6s - loss: 1.0000 - acc: 0.513 - ETA: 6s - loss: 0.9986 - acc: 0.513 - ETA: 6s - loss: 0.9953 - acc: 0.517 - ETA: 5s - loss: 0.9967 - acc: 0.515 - ETA: 5s - loss: 0.9963 - acc: 0.516 - ETA: 5s - loss: 0.9955 - acc: 0.517 - ETA: 5s - loss: 0.9961 - acc: 0.518 - ETA: 5s - loss: 0.9967 - acc: 0.517 - ETA: 5s - loss: 0.9975 - acc: 0.516 - ETA: 4s - loss: 0.9961 - acc: 0.517 - ETA: 4s - loss: 0.9964 - acc: 0.517 - ETA: 4s - loss: 0.9965 - acc: 0.518 - ETA: 4s - loss: 0.9969 - acc: 0.517 - ETA: 4s - loss: 0.9967 - acc: 0.518 - ETA: 4s - loss: 0.9967 - acc: 0.517 - ETA: 4s - loss: 0.9973 - acc: 0.516 - ETA: 4s - loss: 0.9971 - acc: 0.516 - ETA: 4s - loss: 0.9969 - acc: 0.516 - ETA: 3s - loss: 0.9952 - acc: 0.518 - ETA: 3s - loss: 0.9958 - acc: 0.517 - ETA: 3s - loss: 0.9955 - acc: 0.518 - ETA: 3s - loss: 0.9967 - acc: 0.517 - ETA: 3s - loss: 0.9978 - acc: 0.516 - ETA: 3s - loss: 0.9969 - acc: 0.516 - ETA: 3s - loss: 0.9948 - acc: 0.519 - ETA: 3s - loss: 0.9950 - acc: 0.518 - ETA: 3s - loss: 0.9968 - acc: 0.517 - ETA: 3s - loss: 0.9968 - acc: 0.518 - ETA: 3s - loss: 0.9974 - acc: 0.518 - ETA: 3s - loss: 0.9965 - acc: 0.520 - ETA: 2s - loss: 0.9968 - acc: 0.520 - ETA: 2s - loss: 0.9963 - acc: 0.521 - ETA: 2s - loss: 0.9961 - acc: 0.521 - ETA: 2s - loss: 0.9970 - acc: 0.521 - ETA: 2s - loss: 0.9978 - acc: 0.520 - ETA: 2s - loss: 0.9981 - acc: 0.519 - ETA: 2s - loss: 0.9985 - acc: 0.519 - ETA: 2s - loss: 0.9990 - acc: 0.518 - ETA: 2s - loss: 0.9986 - acc: 0.519 - ETA: 1s - loss: 0.9980 - acc: 0.520 - ETA: 1s - loss: 0.9991 - acc: 0.519 - ETA: 1s - loss: 0.9988 - acc: 0.519 - ETA: 1s - loss: 0.9995 - acc: 0.519 - ETA: 1s - loss: 1.0004 - acc: 0.518 - ETA: 1s - loss: 1.0003 - acc: 0.518 - ETA: 1s - loss: 0.9998 - acc: 0.519 - ETA: 1s - loss: 1.0000 - acc: 0.519 - ETA: 1s - loss: 0.9991 - acc: 0.519 - ETA: 1s - loss: 0.9993 - acc: 0.519 - ETA: 1s - loss: 0.9988 - acc: 0.520 - ETA: 1s - loss: 0.9985 - acc: 0.520 - ETA: 0s - loss: 0.9988 - acc: 0.519 - ETA: 0s - loss: 0.9991 - acc: 0.519 - ETA: 0s - loss: 0.9994 - acc: 0.519 - ETA: 0s - loss: 0.9993 - acc: 0.519 - ETA: 0s - loss: 0.9997 - acc: 0.519 - ETA: 0s - loss: 0.9992 - acc: 0.519 - ETA: 0s - loss: 0.9998 - acc: 0.518 - ETA: 0s - loss: 1.0002 - acc: 0.518 - ETA: 0s - loss: 1.0001 - acc: 0.518 - ETA: 0s - loss: 0.9999 - acc: 0.519 - ETA: 0s - loss: 0.9996 - acc: 0.519 - ETA: 0s - loss: 0.9993 - acc: 0.519 - ETA: 0s - loss: 0.9994 - acc: 0.519 - ETA: 0s - loss: 0.9992 - acc: 0.520 - ETA: 0s - loss: 0.9988 - acc: 0.520 - ETA: 0s - loss: 0.9982 - acc: 0.521 - ETA: 0s - loss: 0.9977 - acc: 0.521 - ETA: 0s - loss: 0.9978 - acc: 0.520 - ETA: 0s - loss: 0.9970 - acc: 0.521 - ETA: 0s - loss: 0.9980 - acc: 0.520 - ETA: 0s - loss: 0.9978 - acc: 0.520 - ETA: 0s - loss: 0.9974 - acc: 0.520 - 9s 1ms/sample - loss: 0.9974 - acc: 0.5202 - val_loss: 0.9772 - val_acc: 0.5352\n",
      "Epoch 3/10\n"
     ]
    },
    {
     "name": "stdout",
     "output_type": "stream",
     "text": [
      "7112/7112 [==============================] - ETA: 11s - loss: 1.0223 - acc: 0.60 - ETA: 7s - loss: 0.9638 - acc: 0.5667 - ETA: 7s - loss: 0.9485 - acc: 0.536 - ETA: 7s - loss: 0.9120 - acc: 0.562 - ETA: 6s - loss: 0.9741 - acc: 0.524 - ETA: 5s - loss: 0.9737 - acc: 0.542 - ETA: 6s - loss: 0.9715 - acc: 0.543 - ETA: 7s - loss: 0.9704 - acc: 0.538 - ETA: 7s - loss: 0.9876 - acc: 0.538 - ETA: 6s - loss: 1.0033 - acc: 0.526 - ETA: 6s - loss: 1.0135 - acc: 0.512 - ETA: 6s - loss: 1.0092 - acc: 0.516 - ETA: 5s - loss: 1.0016 - acc: 0.531 - ETA: 5s - loss: 0.9982 - acc: 0.533 - ETA: 5s - loss: 0.9978 - acc: 0.535 - ETA: 5s - loss: 1.0006 - acc: 0.530 - ETA: 5s - loss: 1.0002 - acc: 0.526 - ETA: 5s - loss: 0.9944 - acc: 0.529 - ETA: 5s - loss: 1.0009 - acc: 0.522 - ETA: 5s - loss: 0.9982 - acc: 0.523 - ETA: 5s - loss: 0.9983 - acc: 0.524 - ETA: 4s - loss: 0.9996 - acc: 0.524 - ETA: 4s - loss: 1.0031 - acc: 0.522 - ETA: 4s - loss: 1.0033 - acc: 0.523 - ETA: 4s - loss: 1.0043 - acc: 0.521 - ETA: 4s - loss: 1.0027 - acc: 0.522 - ETA: 4s - loss: 1.0029 - acc: 0.520 - ETA: 4s - loss: 1.0017 - acc: 0.522 - ETA: 4s - loss: 1.0009 - acc: 0.522 - ETA: 4s - loss: 1.0017 - acc: 0.521 - ETA: 4s - loss: 1.0028 - acc: 0.518 - ETA: 4s - loss: 1.0010 - acc: 0.521 - ETA: 4s - loss: 1.0003 - acc: 0.522 - ETA: 4s - loss: 1.0001 - acc: 0.522 - ETA: 4s - loss: 0.9980 - acc: 0.522 - ETA: 4s - loss: 0.9963 - acc: 0.522 - ETA: 4s - loss: 0.9943 - acc: 0.525 - ETA: 4s - loss: 0.9917 - acc: 0.526 - ETA: 4s - loss: 0.9915 - acc: 0.526 - ETA: 4s - loss: 0.9920 - acc: 0.525 - ETA: 4s - loss: 0.9921 - acc: 0.525 - ETA: 4s - loss: 0.9904 - acc: 0.527 - ETA: 4s - loss: 0.9887 - acc: 0.529 - ETA: 4s - loss: 0.9876 - acc: 0.530 - ETA: 4s - loss: 0.9881 - acc: 0.530 - ETA: 4s - loss: 0.9887 - acc: 0.530 - ETA: 4s - loss: 0.9894 - acc: 0.529 - ETA: 4s - loss: 0.9910 - acc: 0.529 - ETA: 4s - loss: 0.9906 - acc: 0.530 - ETA: 4s - loss: 0.9915 - acc: 0.528 - ETA: 4s - loss: 0.9919 - acc: 0.527 - ETA: 4s - loss: 0.9919 - acc: 0.528 - ETA: 4s - loss: 0.9913 - acc: 0.529 - ETA: 4s - loss: 0.9907 - acc: 0.529 - ETA: 4s - loss: 0.9912 - acc: 0.529 - ETA: 4s - loss: 0.9900 - acc: 0.530 - ETA: 4s - loss: 0.9906 - acc: 0.529 - ETA: 4s - loss: 0.9908 - acc: 0.529 - ETA: 4s - loss: 0.9897 - acc: 0.530 - ETA: 4s - loss: 0.9910 - acc: 0.529 - ETA: 4s - loss: 0.9909 - acc: 0.529 - ETA: 4s - loss: 0.9898 - acc: 0.530 - ETA: 4s - loss: 0.9902 - acc: 0.529 - ETA: 4s - loss: 0.9912 - acc: 0.529 - ETA: 4s - loss: 0.9918 - acc: 0.528 - ETA: 4s - loss: 0.9913 - acc: 0.528 - ETA: 4s - loss: 0.9918 - acc: 0.528 - ETA: 4s - loss: 0.9911 - acc: 0.528 - ETA: 4s - loss: 0.9909 - acc: 0.527 - ETA: 4s - loss: 0.9899 - acc: 0.529 - ETA: 3s - loss: 0.9888 - acc: 0.528 - ETA: 3s - loss: 0.9887 - acc: 0.528 - ETA: 3s - loss: 0.9893 - acc: 0.527 - ETA: 3s - loss: 0.9903 - acc: 0.527 - ETA: 3s - loss: 0.9897 - acc: 0.527 - ETA: 3s - loss: 0.9895 - acc: 0.528 - ETA: 3s - loss: 0.9905 - acc: 0.526 - ETA: 3s - loss: 0.9909 - acc: 0.525 - ETA: 3s - loss: 0.9899 - acc: 0.526 - ETA: 3s - loss: 0.9900 - acc: 0.526 - ETA: 3s - loss: 0.9896 - acc: 0.527 - ETA: 3s - loss: 0.9902 - acc: 0.527 - ETA: 3s - loss: 0.9895 - acc: 0.529 - ETA: 3s - loss: 0.9901 - acc: 0.528 - ETA: 3s - loss: 0.9907 - acc: 0.528 - ETA: 3s - loss: 0.9911 - acc: 0.527 - ETA: 3s - loss: 0.9908 - acc: 0.528 - ETA: 3s - loss: 0.9918 - acc: 0.526 - ETA: 3s - loss: 0.9916 - acc: 0.526 - ETA: 3s - loss: 0.9909 - acc: 0.527 - ETA: 3s - loss: 0.9915 - acc: 0.526 - ETA: 3s - loss: 0.9910 - acc: 0.527 - ETA: 3s - loss: 0.9915 - acc: 0.526 - ETA: 3s - loss: 0.9919 - acc: 0.525 - ETA: 3s - loss: 0.9918 - acc: 0.526 - ETA: 3s - loss: 0.9929 - acc: 0.525 - ETA: 3s - loss: 0.9936 - acc: 0.523 - ETA: 3s - loss: 0.9938 - acc: 0.522 - ETA: 3s - loss: 0.9936 - acc: 0.523 - ETA: 3s - loss: 0.9933 - acc: 0.523 - ETA: 2s - loss: 0.9930 - acc: 0.524 - ETA: 2s - loss: 0.9940 - acc: 0.524 - ETA: 2s - loss: 0.9936 - acc: 0.524 - ETA: 2s - loss: 0.9940 - acc: 0.524 - ETA: 2s - loss: 0.9944 - acc: 0.524 - ETA: 2s - loss: 0.9947 - acc: 0.523 - ETA: 2s - loss: 0.9938 - acc: 0.524 - ETA: 2s - loss: 0.9937 - acc: 0.524 - ETA: 2s - loss: 0.9945 - acc: 0.523 - ETA: 2s - loss: 0.9951 - acc: 0.523 - ETA: 2s - loss: 0.9946 - acc: 0.524 - ETA: 2s - loss: 0.9944 - acc: 0.524 - ETA: 2s - loss: 0.9939 - acc: 0.525 - ETA: 2s - loss: 0.9943 - acc: 0.525 - ETA: 2s - loss: 0.9953 - acc: 0.524 - ETA: 2s - loss: 0.9943 - acc: 0.526 - ETA: 2s - loss: 0.9945 - acc: 0.525 - ETA: 2s - loss: 0.9945 - acc: 0.526 - ETA: 2s - loss: 0.9943 - acc: 0.526 - ETA: 2s - loss: 0.9943 - acc: 0.526 - ETA: 2s - loss: 0.9936 - acc: 0.526 - ETA: 1s - loss: 0.9934 - acc: 0.526 - ETA: 1s - loss: 0.9925 - acc: 0.527 - ETA: 1s - loss: 0.9924 - acc: 0.527 - ETA: 1s - loss: 0.9917 - acc: 0.527 - ETA: 1s - loss: 0.9926 - acc: 0.526 - ETA: 1s - loss: 0.9927 - acc: 0.527 - ETA: 1s - loss: 0.9937 - acc: 0.526 - ETA: 1s - loss: 0.9938 - acc: 0.526 - ETA: 1s - loss: 0.9941 - acc: 0.526 - ETA: 1s - loss: 0.9939 - acc: 0.526 - ETA: 1s - loss: 0.9937 - acc: 0.526 - ETA: 1s - loss: 0.9938 - acc: 0.525 - ETA: 1s - loss: 0.9937 - acc: 0.525 - ETA: 1s - loss: 0.9936 - acc: 0.526 - ETA: 1s - loss: 0.9934 - acc: 0.526 - ETA: 1s - loss: 0.9935 - acc: 0.526 - ETA: 1s - loss: 0.9941 - acc: 0.526 - ETA: 1s - loss: 0.9943 - acc: 0.525 - ETA: 1s - loss: 0.9941 - acc: 0.525 - ETA: 0s - loss: 0.9943 - acc: 0.525 - ETA: 0s - loss: 0.9946 - acc: 0.525 - ETA: 0s - loss: 0.9945 - acc: 0.525 - ETA: 0s - loss: 0.9945 - acc: 0.524 - ETA: 0s - loss: 0.9944 - acc: 0.525 - ETA: 0s - loss: 0.9946 - acc: 0.524 - ETA: 0s - loss: 0.9946 - acc: 0.524 - ETA: 0s - loss: 0.9947 - acc: 0.524 - ETA: 0s - loss: 0.9948 - acc: 0.524 - ETA: 0s - loss: 0.9945 - acc: 0.524 - ETA: 0s - loss: 0.9948 - acc: 0.524 - ETA: 0s - loss: 0.9948 - acc: 0.524 - ETA: 0s - loss: 0.9947 - acc: 0.524 - ETA: 0s - loss: 0.9946 - acc: 0.524 - ETA: 0s - loss: 0.9942 - acc: 0.524 - ETA: 0s - loss: 0.9943 - acc: 0.524 - ETA: 0s - loss: 0.9940 - acc: 0.524 - ETA: 0s - loss: 0.9937 - acc: 0.524 - ETA: 0s - loss: 0.9934 - acc: 0.524 - ETA: 0s - loss: 0.9932 - acc: 0.525 - ETA: 0s - loss: 0.9932 - acc: 0.525 - ETA: 0s - loss: 0.9937 - acc: 0.525 - ETA: 0s - loss: 0.9933 - acc: 0.525 - ETA: 0s - loss: 0.9945 - acc: 0.524 - ETA: 0s - loss: 0.9945 - acc: 0.525 - ETA: 0s - loss: 0.9949 - acc: 0.524 - ETA: 0s - loss: 0.9948 - acc: 0.524 - ETA: 0s - loss: 0.9938 - acc: 0.525 - ETA: 0s - loss: 0.9939 - acc: 0.526 - ETA: 0s - loss: 0.9937 - acc: 0.526 - ETA: 0s - loss: 0.9943 - acc: 0.525 - ETA: 0s - loss: 0.9942 - acc: 0.525 - 11s 1ms/sample - loss: 0.9941 - acc: 0.5256 - val_loss: 0.9819 - val_acc: 0.5270\n",
      "Epoch 4/10\n"
     ]
    },
    {
     "name": "stdout",
     "output_type": "stream",
     "text": [
      "7112/7112 [==============================] - ETA: 9s - loss: 0.9429 - acc: 0.500 - ETA: 6s - loss: 0.9722 - acc: 0.557 - ETA: 7s - loss: 0.9654 - acc: 0.575 - ETA: 7s - loss: 0.9417 - acc: 0.582 - ETA: 7s - loss: 0.9584 - acc: 0.560 - ETA: 7s - loss: 0.9728 - acc: 0.540 - ETA: 7s - loss: 0.9813 - acc: 0.534 - ETA: 7s - loss: 0.9884 - acc: 0.529 - ETA: 7s - loss: 0.9906 - acc: 0.520 - ETA: 7s - loss: 0.9855 - acc: 0.531 - ETA: 7s - loss: 0.9827 - acc: 0.524 - ETA: 7s - loss: 0.9826 - acc: 0.525 - ETA: 7s - loss: 0.9800 - acc: 0.533 - ETA: 7s - loss: 0.9758 - acc: 0.537 - ETA: 7s - loss: 0.9841 - acc: 0.533 - ETA: 7s - loss: 0.9828 - acc: 0.534 - ETA: 7s - loss: 0.9876 - acc: 0.531 - ETA: 7s - loss: 0.9912 - acc: 0.528 - ETA: 8s - loss: 0.9896 - acc: 0.530 - ETA: 8s - loss: 0.9910 - acc: 0.529 - ETA: 8s - loss: 0.9906 - acc: 0.530 - ETA: 8s - loss: 0.9961 - acc: 0.524 - ETA: 8s - loss: 0.9971 - acc: 0.521 - ETA: 8s - loss: 0.9977 - acc: 0.520 - ETA: 8s - loss: 1.0008 - acc: 0.514 - ETA: 8s - loss: 1.0006 - acc: 0.514 - ETA: 8s - loss: 1.0008 - acc: 0.515 - ETA: 8s - loss: 1.0000 - acc: 0.516 - ETA: 8s - loss: 1.0009 - acc: 0.518 - ETA: 8s - loss: 0.9999 - acc: 0.517 - ETA: 8s - loss: 1.0000 - acc: 0.516 - ETA: 9s - loss: 1.0028 - acc: 0.514 - ETA: 9s - loss: 1.0018 - acc: 0.516 - ETA: 9s - loss: 0.9998 - acc: 0.518 - ETA: 9s - loss: 1.0025 - acc: 0.518 - ETA: 9s - loss: 1.0018 - acc: 0.520 - ETA: 8s - loss: 1.0036 - acc: 0.518 - ETA: 8s - loss: 1.0040 - acc: 0.517 - ETA: 8s - loss: 1.0033 - acc: 0.519 - ETA: 8s - loss: 1.0049 - acc: 0.516 - ETA: 8s - loss: 1.0044 - acc: 0.517 - ETA: 8s - loss: 1.0012 - acc: 0.520 - ETA: 8s - loss: 0.9985 - acc: 0.522 - ETA: 8s - loss: 0.9976 - acc: 0.522 - ETA: 8s - loss: 1.0015 - acc: 0.520 - ETA: 8s - loss: 1.0001 - acc: 0.522 - ETA: 8s - loss: 0.9980 - acc: 0.523 - ETA: 8s - loss: 0.9992 - acc: 0.523 - ETA: 7s - loss: 0.9977 - acc: 0.524 - ETA: 7s - loss: 0.9981 - acc: 0.524 - ETA: 7s - loss: 0.9964 - acc: 0.526 - ETA: 7s - loss: 0.9985 - acc: 0.522 - ETA: 7s - loss: 0.9968 - acc: 0.525 - ETA: 7s - loss: 0.9970 - acc: 0.525 - ETA: 7s - loss: 0.9983 - acc: 0.523 - ETA: 7s - loss: 0.9986 - acc: 0.523 - ETA: 7s - loss: 0.9985 - acc: 0.523 - ETA: 7s - loss: 0.9995 - acc: 0.522 - ETA: 7s - loss: 0.9985 - acc: 0.521 - ETA: 7s - loss: 0.9988 - acc: 0.520 - ETA: 7s - loss: 0.9971 - acc: 0.523 - ETA: 6s - loss: 0.9959 - acc: 0.524 - ETA: 6s - loss: 0.9948 - acc: 0.526 - ETA: 6s - loss: 0.9970 - acc: 0.524 - ETA: 6s - loss: 0.9969 - acc: 0.523 - ETA: 6s - loss: 0.9989 - acc: 0.523 - ETA: 6s - loss: 0.9989 - acc: 0.523 - ETA: 6s - loss: 0.9997 - acc: 0.521 - ETA: 6s - loss: 0.9990 - acc: 0.520 - ETA: 5s - loss: 0.9976 - acc: 0.520 - ETA: 5s - loss: 0.9938 - acc: 0.522 - ETA: 5s - loss: 0.9959 - acc: 0.521 - ETA: 5s - loss: 0.9963 - acc: 0.519 - ETA: 5s - loss: 0.9955 - acc: 0.520 - ETA: 5s - loss: 0.9951 - acc: 0.519 - ETA: 5s - loss: 0.9948 - acc: 0.520 - ETA: 5s - loss: 0.9947 - acc: 0.521 - ETA: 5s - loss: 0.9951 - acc: 0.521 - ETA: 5s - loss: 0.9947 - acc: 0.521 - ETA: 5s - loss: 0.9941 - acc: 0.522 - ETA: 5s - loss: 0.9939 - acc: 0.522 - ETA: 5s - loss: 0.9939 - acc: 0.522 - ETA: 5s - loss: 0.9928 - acc: 0.523 - ETA: 4s - loss: 0.9910 - acc: 0.524 - ETA: 4s - loss: 0.9942 - acc: 0.522 - ETA: 4s - loss: 0.9933 - acc: 0.522 - ETA: 4s - loss: 0.9946 - acc: 0.520 - ETA: 4s - loss: 0.9948 - acc: 0.520 - ETA: 4s - loss: 0.9941 - acc: 0.521 - ETA: 4s - loss: 0.9944 - acc: 0.520 - ETA: 3s - loss: 0.9939 - acc: 0.522 - ETA: 3s - loss: 0.9952 - acc: 0.520 - ETA: 3s - loss: 0.9960 - acc: 0.519 - ETA: 3s - loss: 0.9953 - acc: 0.520 - ETA: 3s - loss: 0.9948 - acc: 0.521 - ETA: 3s - loss: 0.9944 - acc: 0.520 - ETA: 3s - loss: 0.9950 - acc: 0.520 - ETA: 3s - loss: 0.9948 - acc: 0.520 - ETA: 3s - loss: 0.9959 - acc: 0.519 - ETA: 3s - loss: 0.9955 - acc: 0.519 - ETA: 3s - loss: 0.9954 - acc: 0.519 - ETA: 3s - loss: 0.9951 - acc: 0.519 - ETA: 3s - loss: 0.9949 - acc: 0.520 - ETA: 3s - loss: 0.9943 - acc: 0.519 - ETA: 2s - loss: 0.9951 - acc: 0.519 - ETA: 2s - loss: 0.9957 - acc: 0.519 - ETA: 2s - loss: 0.9962 - acc: 0.518 - ETA: 2s - loss: 0.9949 - acc: 0.519 - ETA: 2s - loss: 0.9954 - acc: 0.519 - ETA: 2s - loss: 0.9954 - acc: 0.519 - ETA: 2s - loss: 0.9951 - acc: 0.519 - ETA: 2s - loss: 0.9953 - acc: 0.519 - ETA: 2s - loss: 0.9956 - acc: 0.519 - ETA: 2s - loss: 0.9957 - acc: 0.519 - ETA: 2s - loss: 0.9958 - acc: 0.518 - ETA: 2s - loss: 0.9958 - acc: 0.519 - ETA: 2s - loss: 0.9955 - acc: 0.519 - ETA: 2s - loss: 0.9962 - acc: 0.518 - ETA: 2s - loss: 0.9963 - acc: 0.518 - ETA: 2s - loss: 0.9963 - acc: 0.518 - ETA: 2s - loss: 0.9954 - acc: 0.519 - ETA: 2s - loss: 0.9952 - acc: 0.519 - ETA: 2s - loss: 0.9936 - acc: 0.520 - ETA: 2s - loss: 0.9941 - acc: 0.520 - ETA: 2s - loss: 0.9937 - acc: 0.520 - ETA: 1s - loss: 0.9945 - acc: 0.520 - ETA: 1s - loss: 0.9947 - acc: 0.520 - ETA: 1s - loss: 0.9949 - acc: 0.519 - ETA: 1s - loss: 0.9949 - acc: 0.520 - ETA: 1s - loss: 0.9953 - acc: 0.519 - ETA: 1s - loss: 0.9953 - acc: 0.519 - ETA: 1s - loss: 0.9953 - acc: 0.520 - ETA: 1s - loss: 0.9943 - acc: 0.521 - ETA: 1s - loss: 0.9939 - acc: 0.521 - ETA: 1s - loss: 0.9948 - acc: 0.520 - ETA: 1s - loss: 0.9946 - acc: 0.521 - ETA: 1s - loss: 0.9944 - acc: 0.521 - ETA: 1s - loss: 0.9948 - acc: 0.521 - ETA: 1s - loss: 0.9957 - acc: 0.520 - ETA: 0s - loss: 0.9951 - acc: 0.521 - ETA: 0s - loss: 0.9951 - acc: 0.521 - ETA: 0s - loss: 0.9952 - acc: 0.521 - ETA: 0s - loss: 0.9950 - acc: 0.521 - ETA: 0s - loss: 0.9945 - acc: 0.522 - ETA: 0s - loss: 0.9944 - acc: 0.522 - ETA: 0s - loss: 0.9944 - acc: 0.522 - ETA: 0s - loss: 0.9945 - acc: 0.522 - ETA: 0s - loss: 0.9952 - acc: 0.521 - ETA: 0s - loss: 0.9948 - acc: 0.522 - ETA: 0s - loss: 0.9942 - acc: 0.523 - ETA: 0s - loss: 0.9931 - acc: 0.523 - 9s 1ms/sample - loss: 0.9923 - acc: 0.5246 - val_loss: 0.9865 - val_acc: 0.5317\n",
      "Epoch 5/10\n"
     ]
    },
    {
     "name": "stdout",
     "output_type": "stream",
     "text": [
      "7112/7112 [==============================] - ETA: 13s - loss: 1.2942 - acc: 0.40 - ETA: 12s - loss: 1.0558 - acc: 0.52 - ETA: 8s - loss: 0.9072 - acc: 0.6400 - ETA: 6s - loss: 0.9652 - acc: 0.605 - ETA: 6s - loss: 0.9938 - acc: 0.560 - ETA: 5s - loss: 1.0054 - acc: 0.533 - ETA: 5s - loss: 0.9919 - acc: 0.552 - ETA: 5s - loss: 0.9928 - acc: 0.547 - ETA: 5s - loss: 0.9921 - acc: 0.538 - ETA: 5s - loss: 0.9843 - acc: 0.548 - ETA: 6s - loss: 0.9807 - acc: 0.550 - ETA: 6s - loss: 0.9754 - acc: 0.553 - ETA: 7s - loss: 0.9737 - acc: 0.555 - ETA: 7s - loss: 0.9788 - acc: 0.550 - ETA: 8s - loss: 0.9762 - acc: 0.550 - ETA: 8s - loss: 0.9749 - acc: 0.549 - ETA: 8s - loss: 0.9739 - acc: 0.548 - ETA: 8s - loss: 0.9761 - acc: 0.544 - ETA: 7s - loss: 0.9770 - acc: 0.545 - ETA: 7s - loss: 0.9704 - acc: 0.552 - ETA: 7s - loss: 0.9716 - acc: 0.551 - ETA: 7s - loss: 0.9688 - acc: 0.551 - ETA: 7s - loss: 0.9704 - acc: 0.548 - ETA: 7s - loss: 0.9670 - acc: 0.551 - ETA: 7s - loss: 0.9654 - acc: 0.553 - ETA: 7s - loss: 0.9705 - acc: 0.548 - ETA: 7s - loss: 0.9712 - acc: 0.545 - ETA: 7s - loss: 0.9707 - acc: 0.546 - ETA: 7s - loss: 0.9720 - acc: 0.543 - ETA: 7s - loss: 0.9698 - acc: 0.544 - ETA: 7s - loss: 0.9714 - acc: 0.544 - ETA: 7s - loss: 0.9714 - acc: 0.541 - ETA: 7s - loss: 0.9709 - acc: 0.541 - ETA: 7s - loss: 0.9735 - acc: 0.541 - ETA: 7s - loss: 0.9780 - acc: 0.537 - ETA: 7s - loss: 0.9755 - acc: 0.539 - ETA: 6s - loss: 0.9757 - acc: 0.537 - ETA: 6s - loss: 0.9770 - acc: 0.534 - ETA: 6s - loss: 0.9784 - acc: 0.531 - ETA: 6s - loss: 0.9789 - acc: 0.530 - ETA: 6s - loss: 0.9813 - acc: 0.528 - ETA: 6s - loss: 0.9809 - acc: 0.529 - ETA: 6s - loss: 0.9808 - acc: 0.530 - ETA: 6s - loss: 0.9788 - acc: 0.532 - ETA: 6s - loss: 0.9795 - acc: 0.531 - ETA: 6s - loss: 0.9836 - acc: 0.529 - ETA: 6s - loss: 0.9827 - acc: 0.531 - ETA: 6s - loss: 0.9822 - acc: 0.531 - ETA: 6s - loss: 0.9820 - acc: 0.531 - ETA: 6s - loss: 0.9811 - acc: 0.532 - ETA: 6s - loss: 0.9807 - acc: 0.533 - ETA: 6s - loss: 0.9827 - acc: 0.531 - ETA: 6s - loss: 0.9827 - acc: 0.532 - ETA: 6s - loss: 0.9825 - acc: 0.532 - ETA: 6s - loss: 0.9822 - acc: 0.532 - ETA: 6s - loss: 0.9812 - acc: 0.533 - ETA: 6s - loss: 0.9812 - acc: 0.533 - ETA: 6s - loss: 0.9830 - acc: 0.533 - ETA: 6s - loss: 0.9842 - acc: 0.532 - ETA: 6s - loss: 0.9852 - acc: 0.531 - ETA: 6s - loss: 0.9866 - acc: 0.530 - ETA: 5s - loss: 0.9862 - acc: 0.530 - ETA: 5s - loss: 0.9845 - acc: 0.532 - ETA: 5s - loss: 0.9846 - acc: 0.531 - ETA: 5s - loss: 0.9855 - acc: 0.531 - ETA: 5s - loss: 0.9861 - acc: 0.530 - ETA: 5s - loss: 0.9859 - acc: 0.530 - ETA: 5s - loss: 0.9858 - acc: 0.530 - ETA: 6s - loss: 0.9853 - acc: 0.530 - ETA: 6s - loss: 0.9853 - acc: 0.530 - ETA: 6s - loss: 0.9859 - acc: 0.530 - ETA: 5s - loss: 0.9867 - acc: 0.529 - ETA: 5s - loss: 0.9864 - acc: 0.529 - ETA: 5s - loss: 0.9832 - acc: 0.532 - ETA: 5s - loss: 0.9826 - acc: 0.533 - ETA: 5s - loss: 0.9842 - acc: 0.532 - ETA: 5s - loss: 0.9826 - acc: 0.534 - ETA: 5s - loss: 0.9837 - acc: 0.533 - ETA: 5s - loss: 0.9835 - acc: 0.533 - ETA: 5s - loss: 0.9832 - acc: 0.533 - ETA: 5s - loss: 0.9832 - acc: 0.533 - ETA: 5s - loss: 0.9838 - acc: 0.533 - ETA: 5s - loss: 0.9834 - acc: 0.533 - ETA: 5s - loss: 0.9839 - acc: 0.532 - ETA: 5s - loss: 0.9846 - acc: 0.531 - ETA: 5s - loss: 0.9864 - acc: 0.529 - ETA: 4s - loss: 0.9857 - acc: 0.529 - ETA: 4s - loss: 0.9858 - acc: 0.529 - ETA: 4s - loss: 0.9848 - acc: 0.530 - ETA: 4s - loss: 0.9847 - acc: 0.530 - ETA: 4s - loss: 0.9839 - acc: 0.531 - ETA: 4s - loss: 0.9838 - acc: 0.531 - ETA: 4s - loss: 0.9844 - acc: 0.530 - ETA: 4s - loss: 0.9835 - acc: 0.530 - ETA: 4s - loss: 0.9852 - acc: 0.529 - ETA: 4s - loss: 0.9871 - acc: 0.527 - ETA: 4s - loss: 0.9876 - acc: 0.526 - ETA: 4s - loss: 0.9869 - acc: 0.528 - ETA: 4s - loss: 0.9879 - acc: 0.527 - ETA: 4s - loss: 0.9876 - acc: 0.527 - ETA: 4s - loss: 0.9876 - acc: 0.527 - ETA: 4s - loss: 0.9873 - acc: 0.528 - ETA: 4s - loss: 0.9875 - acc: 0.528 - ETA: 4s - loss: 0.9873 - acc: 0.528 - ETA: 4s - loss: 0.9868 - acc: 0.528 - ETA: 4s - loss: 0.9869 - acc: 0.528 - ETA: 3s - loss: 0.9863 - acc: 0.529 - ETA: 3s - loss: 0.9856 - acc: 0.529 - ETA: 3s - loss: 0.9845 - acc: 0.531 - ETA: 3s - loss: 0.9837 - acc: 0.531 - ETA: 3s - loss: 0.9858 - acc: 0.531 - ETA: 3s - loss: 0.9854 - acc: 0.531 - ETA: 3s - loss: 0.9846 - acc: 0.531 - ETA: 3s - loss: 0.9850 - acc: 0.530 - ETA: 3s - loss: 0.9841 - acc: 0.531 - ETA: 3s - loss: 0.9835 - acc: 0.531 - ETA: 3s - loss: 0.9828 - acc: 0.532 - ETA: 3s - loss: 0.9829 - acc: 0.532 - ETA: 3s - loss: 0.9824 - acc: 0.532 - ETA: 3s - loss: 0.9822 - acc: 0.533 - ETA: 3s - loss: 0.9825 - acc: 0.532 - ETA: 3s - loss: 0.9827 - acc: 0.532 - ETA: 3s - loss: 0.9825 - acc: 0.532 - ETA: 3s - loss: 0.9829 - acc: 0.532 - ETA: 3s - loss: 0.9834 - acc: 0.531 - ETA: 3s - loss: 0.9837 - acc: 0.531 - ETA: 3s - loss: 0.9833 - acc: 0.531 - ETA: 3s - loss: 0.9837 - acc: 0.531 - ETA: 2s - loss: 0.9840 - acc: 0.531 - ETA: 2s - loss: 0.9837 - acc: 0.531 - ETA: 2s - loss: 0.9838 - acc: 0.532 - ETA: 2s - loss: 0.9841 - acc: 0.532 - ETA: 2s - loss: 0.9839 - acc: 0.533 - ETA: 2s - loss: 0.9839 - acc: 0.533 - ETA: 2s - loss: 0.9832 - acc: 0.534 - ETA: 2s - loss: 0.9828 - acc: 0.534 - ETA: 2s - loss: 0.9825 - acc: 0.535 - ETA: 2s - loss: 0.9826 - acc: 0.534 - ETA: 2s - loss: 0.9832 - acc: 0.534 - ETA: 2s - loss: 0.9826 - acc: 0.534 - ETA: 2s - loss: 0.9816 - acc: 0.535 - ETA: 2s - loss: 0.9822 - acc: 0.535 - ETA: 1s - loss: 0.9830 - acc: 0.534 - ETA: 1s - loss: 0.9838 - acc: 0.533 - ETA: 1s - loss: 0.9839 - acc: 0.533 - ETA: 1s - loss: 0.9832 - acc: 0.533 - ETA: 1s - loss: 0.9823 - acc: 0.533 - ETA: 1s - loss: 0.9827 - acc: 0.533 - ETA: 1s - loss: 0.9822 - acc: 0.533 - ETA: 1s - loss: 0.9821 - acc: 0.533 - ETA: 1s - loss: 0.9831 - acc: 0.532 - ETA: 1s - loss: 0.9836 - acc: 0.531 - ETA: 1s - loss: 0.9831 - acc: 0.532 - ETA: 1s - loss: 0.9831 - acc: 0.532 - ETA: 1s - loss: 0.9835 - acc: 0.532 - ETA: 1s - loss: 0.9845 - acc: 0.531 - ETA: 1s - loss: 0.9844 - acc: 0.531 - ETA: 1s - loss: 0.9846 - acc: 0.531 - ETA: 1s - loss: 0.9845 - acc: 0.531 - ETA: 1s - loss: 0.9852 - acc: 0.530 - ETA: 1s - loss: 0.9857 - acc: 0.530 - ETA: 1s - loss: 0.9860 - acc: 0.529 - ETA: 0s - loss: 0.9860 - acc: 0.529 - ETA: 0s - loss: 0.9862 - acc: 0.529 - ETA: 0s - loss: 0.9860 - acc: 0.529 - ETA: 0s - loss: 0.9858 - acc: 0.530 - ETA: 0s - loss: 0.9857 - acc: 0.530 - ETA: 0s - loss: 0.9865 - acc: 0.529 - ETA: 0s - loss: 0.9863 - acc: 0.529 - ETA: 0s - loss: 0.9866 - acc: 0.528 - ETA: 0s - loss: 0.9863 - acc: 0.528 - ETA: 0s - loss: 0.9865 - acc: 0.528 - ETA: 0s - loss: 0.9869 - acc: 0.528 - ETA: 0s - loss: 0.9872 - acc: 0.528 - ETA: 0s - loss: 0.9876 - acc: 0.527 - ETA: 0s - loss: 0.9886 - acc: 0.526 - ETA: 0s - loss: 0.9891 - acc: 0.526 - ETA: 0s - loss: 0.9895 - acc: 0.526 - ETA: 0s - loss: 0.9899 - acc: 0.525 - ETA: 0s - loss: 0.9897 - acc: 0.526 - 11s 2ms/sample - loss: 0.9898 - acc: 0.5263 - val_loss: 0.9999 - val_acc: 0.5214\n",
      "Epoch 6/10\n"
     ]
    },
    {
     "name": "stdout",
     "output_type": "stream",
     "text": [
      "7112/7112 [==============================] - ETA: 7s - loss: 0.9645 - acc: 0.600 - ETA: 12s - loss: 1.0129 - acc: 0.57 - ETA: 12s - loss: 0.9699 - acc: 0.60 - ETA: 12s - loss: 0.9856 - acc: 0.57 - ETA: 13s - loss: 1.0063 - acc: 0.54 - ETA: 12s - loss: 1.0044 - acc: 0.53 - ETA: 11s - loss: 1.0080 - acc: 0.51 - ETA: 10s - loss: 0.9998 - acc: 0.53 - ETA: 10s - loss: 1.0070 - acc: 0.52 - ETA: 10s - loss: 1.0077 - acc: 0.52 - ETA: 9s - loss: 0.9987 - acc: 0.5211 - ETA: 9s - loss: 0.9940 - acc: 0.528 - ETA: 9s - loss: 0.9915 - acc: 0.526 - ETA: 9s - loss: 0.9980 - acc: 0.522 - ETA: 9s - loss: 1.0003 - acc: 0.521 - ETA: 9s - loss: 1.0003 - acc: 0.517 - ETA: 9s - loss: 0.9959 - acc: 0.519 - ETA: 8s - loss: 0.9914 - acc: 0.516 - ETA: 8s - loss: 0.9944 - acc: 0.511 - ETA: 8s - loss: 0.9944 - acc: 0.514 - ETA: 9s - loss: 0.9954 - acc: 0.519 - ETA: 9s - loss: 0.9926 - acc: 0.523 - ETA: 9s - loss: 0.9917 - acc: 0.531 - ETA: 9s - loss: 0.9906 - acc: 0.532 - ETA: 10s - loss: 0.9917 - acc: 0.53 - ETA: 10s - loss: 0.9939 - acc: 0.52 - ETA: 10s - loss: 0.9925 - acc: 0.52 - ETA: 9s - loss: 0.9971 - acc: 0.5208 - ETA: 9s - loss: 0.9958 - acc: 0.519 - ETA: 9s - loss: 0.9960 - acc: 0.519 - ETA: 9s - loss: 0.9913 - acc: 0.522 - ETA: 9s - loss: 0.9925 - acc: 0.521 - ETA: 9s - loss: 0.9926 - acc: 0.520 - ETA: 9s - loss: 0.9950 - acc: 0.518 - ETA: 9s - loss: 0.9927 - acc: 0.520 - ETA: 9s - loss: 0.9923 - acc: 0.520 - ETA: 8s - loss: 0.9888 - acc: 0.522 - ETA: 8s - loss: 0.9859 - acc: 0.528 - ETA: 8s - loss: 0.9845 - acc: 0.530 - ETA: 8s - loss: 0.9836 - acc: 0.530 - ETA: 7s - loss: 0.9821 - acc: 0.531 - ETA: 7s - loss: 0.9851 - acc: 0.529 - ETA: 7s - loss: 0.9882 - acc: 0.527 - ETA: 7s - loss: 0.9892 - acc: 0.525 - ETA: 7s - loss: 0.9912 - acc: 0.524 - ETA: 7s - loss: 0.9911 - acc: 0.525 - ETA: 7s - loss: 0.9907 - acc: 0.526 - ETA: 7s - loss: 0.9913 - acc: 0.526 - ETA: 7s - loss: 0.9904 - acc: 0.526 - ETA: 7s - loss: 0.9911 - acc: 0.526 - ETA: 7s - loss: 0.9924 - acc: 0.525 - ETA: 7s - loss: 0.9924 - acc: 0.525 - ETA: 7s - loss: 0.9925 - acc: 0.525 - ETA: 7s - loss: 0.9900 - acc: 0.527 - ETA: 7s - loss: 0.9890 - acc: 0.528 - ETA: 7s - loss: 0.9880 - acc: 0.528 - ETA: 6s - loss: 0.9855 - acc: 0.530 - ETA: 6s - loss: 0.9839 - acc: 0.531 - ETA: 6s - loss: 0.9852 - acc: 0.530 - ETA: 6s - loss: 0.9865 - acc: 0.529 - ETA: 6s - loss: 0.9854 - acc: 0.532 - ETA: 6s - loss: 0.9836 - acc: 0.532 - ETA: 5s - loss: 0.9879 - acc: 0.529 - ETA: 5s - loss: 0.9880 - acc: 0.529 - ETA: 5s - loss: 0.9878 - acc: 0.529 - ETA: 5s - loss: 0.9885 - acc: 0.528 - ETA: 5s - loss: 0.9895 - acc: 0.526 - ETA: 5s - loss: 0.9890 - acc: 0.527 - ETA: 5s - loss: 0.9884 - acc: 0.528 - ETA: 5s - loss: 0.9883 - acc: 0.528 - ETA: 5s - loss: 0.9897 - acc: 0.526 - ETA: 5s - loss: 0.9919 - acc: 0.524 - ETA: 5s - loss: 0.9916 - acc: 0.524 - ETA: 5s - loss: 0.9911 - acc: 0.525 - ETA: 5s - loss: 0.9909 - acc: 0.525 - ETA: 5s - loss: 0.9909 - acc: 0.525 - ETA: 5s - loss: 0.9899 - acc: 0.527 - ETA: 5s - loss: 0.9879 - acc: 0.528 - ETA: 5s - loss: 0.9876 - acc: 0.528 - ETA: 5s - loss: 0.9889 - acc: 0.526 - ETA: 5s - loss: 0.9881 - acc: 0.527 - ETA: 5s - loss: 0.9883 - acc: 0.527 - ETA: 5s - loss: 0.9871 - acc: 0.528 - ETA: 4s - loss: 0.9870 - acc: 0.528 - ETA: 4s - loss: 0.9864 - acc: 0.528 - ETA: 4s - loss: 0.9878 - acc: 0.528 - ETA: 4s - loss: 0.9878 - acc: 0.528 - ETA: 4s - loss: 0.9877 - acc: 0.528 - ETA: 4s - loss: 0.9874 - acc: 0.528 - ETA: 4s - loss: 0.9866 - acc: 0.528 - ETA: 4s - loss: 0.9879 - acc: 0.527 - ETA: 4s - loss: 0.9872 - acc: 0.529 - ETA: 4s - loss: 0.9863 - acc: 0.529 - ETA: 4s - loss: 0.9874 - acc: 0.528 - ETA: 4s - loss: 0.9885 - acc: 0.527 - ETA: 4s - loss: 0.9893 - acc: 0.527 - ETA: 4s - loss: 0.9892 - acc: 0.527 - ETA: 4s - loss: 0.9896 - acc: 0.526 - ETA: 3s - loss: 0.9890 - acc: 0.527 - ETA: 3s - loss: 0.9891 - acc: 0.526 - ETA: 3s - loss: 0.9896 - acc: 0.526 - ETA: 3s - loss: 0.9896 - acc: 0.525 - ETA: 3s - loss: 0.9894 - acc: 0.526 - ETA: 3s - loss: 0.9899 - acc: 0.525 - ETA: 3s - loss: 0.9897 - acc: 0.524 - ETA: 3s - loss: 0.9894 - acc: 0.525 - ETA: 3s - loss: 0.9897 - acc: 0.525 - ETA: 3s - loss: 0.9901 - acc: 0.524 - ETA: 3s - loss: 0.9887 - acc: 0.525 - ETA: 3s - loss: 0.9886 - acc: 0.525 - ETA: 3s - loss: 0.9886 - acc: 0.525 - ETA: 3s - loss: 0.9887 - acc: 0.525 - ETA: 3s - loss: 0.9883 - acc: 0.524 - ETA: 3s - loss: 0.9875 - acc: 0.525 - ETA: 3s - loss: 0.9885 - acc: 0.526 - ETA: 3s - loss: 0.9884 - acc: 0.526 - ETA: 3s - loss: 0.9886 - acc: 0.526 - ETA: 3s - loss: 0.9892 - acc: 0.525 - ETA: 3s - loss: 0.9890 - acc: 0.525 - ETA: 2s - loss: 0.9875 - acc: 0.527 - ETA: 2s - loss: 0.9872 - acc: 0.526 - ETA: 2s - loss: 0.9876 - acc: 0.526 - ETA: 2s - loss: 0.9864 - acc: 0.527 - ETA: 2s - loss: 0.9878 - acc: 0.527 - ETA: 2s - loss: 0.9875 - acc: 0.527 - ETA: 2s - loss: 0.9873 - acc: 0.527 - ETA: 2s - loss: 0.9875 - acc: 0.527 - ETA: 2s - loss: 0.9875 - acc: 0.527 - ETA: 2s - loss: 0.9873 - acc: 0.528 - ETA: 2s - loss: 0.9870 - acc: 0.528 - ETA: 2s - loss: 0.9875 - acc: 0.528 - ETA: 2s - loss: 0.9878 - acc: 0.527 - ETA: 2s - loss: 0.9873 - acc: 0.528 - ETA: 2s - loss: 0.9877 - acc: 0.527 - ETA: 2s - loss: 0.9877 - acc: 0.527 - ETA: 2s - loss: 0.9876 - acc: 0.527 - ETA: 2s - loss: 0.9878 - acc: 0.527 - ETA: 2s - loss: 0.9881 - acc: 0.527 - ETA: 1s - loss: 0.9885 - acc: 0.526 - ETA: 1s - loss: 0.9890 - acc: 0.527 - ETA: 1s - loss: 0.9886 - acc: 0.527 - ETA: 1s - loss: 0.9886 - acc: 0.527 - ETA: 1s - loss: 0.9891 - acc: 0.527 - ETA: 1s - loss: 0.9892 - acc: 0.527 - ETA: 1s - loss: 0.9896 - acc: 0.526 - ETA: 1s - loss: 0.9894 - acc: 0.527 - ETA: 1s - loss: 0.9895 - acc: 0.527 - ETA: 1s - loss: 0.9892 - acc: 0.527 - ETA: 1s - loss: 0.9891 - acc: 0.527 - ETA: 1s - loss: 0.9897 - acc: 0.527 - ETA: 1s - loss: 0.9892 - acc: 0.528 - ETA: 1s - loss: 0.9890 - acc: 0.528 - ETA: 1s - loss: 0.9893 - acc: 0.527 - ETA: 1s - loss: 0.9895 - acc: 0.526 - ETA: 1s - loss: 0.9887 - acc: 0.527 - ETA: 1s - loss: 0.9889 - acc: 0.527 - ETA: 1s - loss: 0.9887 - acc: 0.527 - ETA: 1s - loss: 0.9888 - acc: 0.527 - ETA: 1s - loss: 0.9890 - acc: 0.527 - ETA: 1s - loss: 0.9895 - acc: 0.527 - ETA: 1s - loss: 0.9895 - acc: 0.527 - ETA: 1s - loss: 0.9892 - acc: 0.527 - ETA: 1s - loss: 0.9887 - acc: 0.527 - ETA: 1s - loss: 0.9887 - acc: 0.527 - ETA: 1s - loss: 0.9886 - acc: 0.528 - ETA: 1s - loss: 0.9882 - acc: 0.528 - ETA: 1s - loss: 0.9879 - acc: 0.528 - ETA: 1s - loss: 0.9878 - acc: 0.528 - ETA: 0s - loss: 0.9879 - acc: 0.528 - ETA: 0s - loss: 0.9880 - acc: 0.528 - ETA: 0s - loss: 0.9874 - acc: 0.527 - ETA: 0s - loss: 0.9873 - acc: 0.527 - ETA: 0s - loss: 0.9877 - acc: 0.526 - ETA: 0s - loss: 0.9871 - acc: 0.527 - ETA: 0s - loss: 0.9874 - acc: 0.526 - ETA: 0s - loss: 0.9873 - acc: 0.526 - ETA: 0s - loss: 0.9876 - acc: 0.526 - ETA: 0s - loss: 0.9876 - acc: 0.527 - 11s 2ms/sample - loss: 0.9878 - acc: 0.5271 - val_loss: 0.9725 - val_acc: 0.5343\n",
      "Epoch 7/10\n"
     ]
    },
    {
     "name": "stdout",
     "output_type": "stream",
     "text": [
      "7112/7112 [==============================] - ETA: 9s - loss: 1.1714 - acc: 0.500 - ETA: 5s - loss: 0.9849 - acc: 0.562 - ETA: 5s - loss: 1.0062 - acc: 0.531 - ETA: 4s - loss: 0.9872 - acc: 0.540 - ETA: 4s - loss: 0.9796 - acc: 0.542 - ETA: 4s - loss: 0.9614 - acc: 0.552 - ETA: 4s - loss: 0.9522 - acc: 0.556 - ETA: 4s - loss: 0.9530 - acc: 0.553 - ETA: 4s - loss: 0.9525 - acc: 0.553 - ETA: 4s - loss: 0.9605 - acc: 0.552 - ETA: 4s - loss: 0.9690 - acc: 0.542 - ETA: 4s - loss: 0.9718 - acc: 0.540 - ETA: 4s - loss: 0.9720 - acc: 0.541 - ETA: 5s - loss: 0.9684 - acc: 0.544 - ETA: 6s - loss: 0.9691 - acc: 0.545 - ETA: 6s - loss: 0.9726 - acc: 0.542 - ETA: 6s - loss: 0.9731 - acc: 0.541 - ETA: 5s - loss: 0.9755 - acc: 0.540 - ETA: 5s - loss: 0.9804 - acc: 0.528 - ETA: 5s - loss: 0.9862 - acc: 0.523 - ETA: 5s - loss: 0.9861 - acc: 0.522 - ETA: 4s - loss: 0.9854 - acc: 0.524 - ETA: 4s - loss: 0.9838 - acc: 0.527 - ETA: 4s - loss: 0.9849 - acc: 0.527 - ETA: 4s - loss: 0.9832 - acc: 0.527 - ETA: 4s - loss: 0.9839 - acc: 0.527 - ETA: 4s - loss: 0.9825 - acc: 0.526 - ETA: 4s - loss: 0.9824 - acc: 0.526 - ETA: 4s - loss: 0.9834 - acc: 0.524 - ETA: 3s - loss: 0.9885 - acc: 0.521 - ETA: 3s - loss: 0.9879 - acc: 0.523 - ETA: 3s - loss: 0.9873 - acc: 0.523 - ETA: 3s - loss: 0.9864 - acc: 0.525 - ETA: 3s - loss: 0.9887 - acc: 0.524 - ETA: 3s - loss: 0.9893 - acc: 0.523 - ETA: 3s - loss: 0.9876 - acc: 0.523 - ETA: 3s - loss: 0.9873 - acc: 0.524 - ETA: 3s - loss: 0.9857 - acc: 0.525 - ETA: 3s - loss: 0.9859 - acc: 0.525 - ETA: 3s - loss: 0.9870 - acc: 0.525 - ETA: 3s - loss: 0.9870 - acc: 0.523 - ETA: 3s - loss: 0.9871 - acc: 0.523 - ETA: 3s - loss: 0.9858 - acc: 0.524 - ETA: 3s - loss: 0.9855 - acc: 0.525 - ETA: 3s - loss: 0.9857 - acc: 0.525 - ETA: 3s - loss: 0.9858 - acc: 0.524 - ETA: 3s - loss: 0.9848 - acc: 0.525 - ETA: 3s - loss: 0.9868 - acc: 0.523 - ETA: 3s - loss: 0.9870 - acc: 0.522 - ETA: 3s - loss: 0.9872 - acc: 0.521 - ETA: 3s - loss: 0.9852 - acc: 0.523 - ETA: 3s - loss: 0.9862 - acc: 0.524 - ETA: 3s - loss: 0.9856 - acc: 0.525 - ETA: 2s - loss: 0.9880 - acc: 0.523 - ETA: 2s - loss: 0.9892 - acc: 0.522 - ETA: 2s - loss: 0.9909 - acc: 0.519 - ETA: 2s - loss: 0.9911 - acc: 0.520 - ETA: 2s - loss: 0.9885 - acc: 0.522 - ETA: 2s - loss: 0.9891 - acc: 0.523 - ETA: 2s - loss: 0.9900 - acc: 0.522 - ETA: 2s - loss: 0.9896 - acc: 0.523 - ETA: 2s - loss: 0.9898 - acc: 0.524 - ETA: 1s - loss: 0.9898 - acc: 0.524 - ETA: 1s - loss: 0.9897 - acc: 0.525 - ETA: 1s - loss: 0.9893 - acc: 0.525 - ETA: 1s - loss: 0.9894 - acc: 0.525 - ETA: 1s - loss: 0.9892 - acc: 0.525 - ETA: 1s - loss: 0.9891 - acc: 0.525 - ETA: 1s - loss: 0.9889 - acc: 0.525 - ETA: 1s - loss: 0.9892 - acc: 0.524 - ETA: 1s - loss: 0.9899 - acc: 0.524 - ETA: 1s - loss: 0.9900 - acc: 0.524 - ETA: 1s - loss: 0.9898 - acc: 0.525 - ETA: 1s - loss: 0.9892 - acc: 0.526 - ETA: 0s - loss: 0.9898 - acc: 0.524 - ETA: 0s - loss: 0.9899 - acc: 0.525 - ETA: 0s - loss: 0.9898 - acc: 0.525 - ETA: 0s - loss: 0.9901 - acc: 0.525 - ETA: 0s - loss: 0.9900 - acc: 0.525 - ETA: 0s - loss: 0.9903 - acc: 0.524 - ETA: 0s - loss: 0.9902 - acc: 0.524 - ETA: 0s - loss: 0.9902 - acc: 0.524 - ETA: 0s - loss: 0.9909 - acc: 0.523 - ETA: 0s - loss: 0.9911 - acc: 0.524 - ETA: 0s - loss: 0.9910 - acc: 0.524 - ETA: 0s - loss: 0.9899 - acc: 0.524 - ETA: 0s - loss: 0.9889 - acc: 0.525 - ETA: 0s - loss: 0.9886 - acc: 0.525 - ETA: 0s - loss: 0.9878 - acc: 0.525 - ETA: 0s - loss: 0.9880 - acc: 0.525 - 6s 794us/sample - loss: 0.9878 - acc: 0.5256 - val_loss: 0.9766 - val_acc: 0.5309\n",
      "Epoch 8/10\n",
      "7112/7112 [==============================] - ETA: 5s - loss: 0.8640 - acc: 0.600 - ETA: 3s - loss: 0.9943 - acc: 0.525 - ETA: 3s - loss: 0.9988 - acc: 0.526 - ETA: 3s - loss: 1.0083 - acc: 0.511 - ETA: 3s - loss: 1.0011 - acc: 0.522 - ETA: 3s - loss: 0.9987 - acc: 0.522 - ETA: 3s - loss: 0.9954 - acc: 0.521 - ETA: 3s - loss: 0.9963 - acc: 0.518 - ETA: 3s - loss: 0.9982 - acc: 0.518 - ETA: 3s - loss: 0.9966 - acc: 0.523 - ETA: 3s - loss: 0.9898 - acc: 0.528 - ETA: 3s - loss: 0.9957 - acc: 0.520 - ETA: 3s - loss: 0.9960 - acc: 0.518 - ETA: 2s - loss: 0.9999 - acc: 0.515 - ETA: 2s - loss: 1.0010 - acc: 0.513 - ETA: 2s - loss: 0.9999 - acc: 0.515 - ETA: 2s - loss: 0.9983 - acc: 0.518 - ETA: 2s - loss: 0.9992 - acc: 0.515 - ETA: 3s - loss: 1.0008 - acc: 0.516 - ETA: 3s - loss: 1.0008 - acc: 0.515 - ETA: 3s - loss: 1.0003 - acc: 0.516 - ETA: 3s - loss: 1.0014 - acc: 0.516 - ETA: 3s - loss: 0.9995 - acc: 0.518 - ETA: 3s - loss: 0.9973 - acc: 0.518 - ETA: 3s - loss: 0.9983 - acc: 0.515 - ETA: 3s - loss: 0.9980 - acc: 0.515 - ETA: 3s - loss: 0.9983 - acc: 0.514 - ETA: 3s - loss: 0.9993 - acc: 0.513 - ETA: 3s - loss: 1.0007 - acc: 0.511 - ETA: 3s - loss: 1.0009 - acc: 0.512 - ETA: 3s - loss: 1.0008 - acc: 0.513 - ETA: 3s - loss: 1.0025 - acc: 0.510 - ETA: 3s - loss: 1.0029 - acc: 0.510 - ETA: 3s - loss: 0.9992 - acc: 0.514 - ETA: 3s - loss: 0.9964 - acc: 0.517 - ETA: 3s - loss: 0.9974 - acc: 0.516 - ETA: 2s - loss: 0.9945 - acc: 0.518 - ETA: 2s - loss: 0.9943 - acc: 0.520 - ETA: 2s - loss: 0.9972 - acc: 0.516 - ETA: 2s - loss: 0.9977 - acc: 0.515 - ETA: 2s - loss: 0.9986 - acc: 0.513 - ETA: 2s - loss: 0.9972 - acc: 0.515 - ETA: 2s - loss: 0.9975 - acc: 0.513 - ETA: 2s - loss: 0.9955 - acc: 0.515 - ETA: 2s - loss: 0.9964 - acc: 0.513 - ETA: 2s - loss: 0.9975 - acc: 0.512 - ETA: 2s - loss: 0.9968 - acc: 0.512 - ETA: 2s - loss: 0.9976 - acc: 0.512 - ETA: 2s - loss: 0.9961 - acc: 0.513 - ETA: 1s - loss: 0.9949 - acc: 0.514 - ETA: 1s - loss: 0.9924 - acc: 0.516 - ETA: 1s - loss: 0.9928 - acc: 0.516 - ETA: 1s - loss: 0.9925 - acc: 0.516 - ETA: 1s - loss: 0.9930 - acc: 0.516 - ETA: 1s - loss: 0.9944 - acc: 0.515 - ETA: 1s - loss: 0.9946 - acc: 0.514 - ETA: 1s - loss: 0.9944 - acc: 0.514 - ETA: 1s - loss: 0.9951 - acc: 0.515 - ETA: 1s - loss: 0.9946 - acc: 0.515 - ETA: 1s - loss: 0.9945 - acc: 0.516 - ETA: 1s - loss: 0.9945 - acc: 0.517 - ETA: 1s - loss: 0.9936 - acc: 0.517 - ETA: 1s - loss: 0.9930 - acc: 0.517 - ETA: 1s - loss: 0.9926 - acc: 0.517 - ETA: 1s - loss: 0.9932 - acc: 0.518 - ETA: 1s - loss: 0.9929 - acc: 0.518 - ETA: 1s - loss: 0.9938 - acc: 0.517 - ETA: 1s - loss: 0.9946 - acc: 0.517 - ETA: 0s - loss: 0.9948 - acc: 0.516 - ETA: 0s - loss: 0.9944 - acc: 0.517 - ETA: 0s - loss: 0.9941 - acc: 0.517 - ETA: 0s - loss: 0.9930 - acc: 0.518 - ETA: 0s - loss: 0.9930 - acc: 0.518 - ETA: 0s - loss: 0.9918 - acc: 0.520 - ETA: 0s - loss: 0.9922 - acc: 0.520 - ETA: 0s - loss: 0.9907 - acc: 0.522 - ETA: 0s - loss: 0.9907 - acc: 0.522 - ETA: 0s - loss: 0.9906 - acc: 0.521 - ETA: 0s - loss: 0.9904 - acc: 0.522 - ETA: 0s - loss: 0.9898 - acc: 0.522 - ETA: 0s - loss: 0.9900 - acc: 0.521 - ETA: 0s - loss: 0.9902 - acc: 0.522 - ETA: 0s - loss: 0.9898 - acc: 0.522 - ETA: 0s - loss: 0.9899 - acc: 0.522 - ETA: 0s - loss: 0.9896 - acc: 0.522 - ETA: 0s - loss: 0.9898 - acc: 0.522 - ETA: 0s - loss: 0.9895 - acc: 0.522 - ETA: 0s - loss: 0.9892 - acc: 0.522 - ETA: 0s - loss: 0.9885 - acc: 0.523 - ETA: 0s - loss: 0.9883 - acc: 0.523 - 5s 755us/sample - loss: 0.9883 - acc: 0.5233 - val_loss: 1.0256 - val_acc: 0.5283\n",
      "Epoch 9/10\n"
     ]
    },
    {
     "name": "stdout",
     "output_type": "stream",
     "text": [
      "7112/7112 [==============================] - ETA: 5s - loss: 1.1243 - acc: 0.600 - ETA: 4s - loss: 1.0622 - acc: 0.500 - ETA: 3s - loss: 1.0531 - acc: 0.505 - ETA: 3s - loss: 1.0437 - acc: 0.503 - ETA: 4s - loss: 1.0311 - acc: 0.513 - ETA: 4s - loss: 1.0182 - acc: 0.515 - ETA: 4s - loss: 1.0112 - acc: 0.522 - ETA: 4s - loss: 1.0115 - acc: 0.519 - ETA: 4s - loss: 1.0100 - acc: 0.517 - ETA: 3s - loss: 1.0099 - acc: 0.512 - ETA: 3s - loss: 1.0066 - acc: 0.516 - ETA: 3s - loss: 0.9997 - acc: 0.518 - ETA: 3s - loss: 1.0053 - acc: 0.510 - ETA: 3s - loss: 1.0028 - acc: 0.513 - ETA: 3s - loss: 0.9985 - acc: 0.517 - ETA: 3s - loss: 1.0026 - acc: 0.518 - ETA: 3s - loss: 0.9962 - acc: 0.525 - ETA: 3s - loss: 0.9972 - acc: 0.523 - ETA: 2s - loss: 0.9950 - acc: 0.527 - ETA: 2s - loss: 0.9966 - acc: 0.523 - ETA: 2s - loss: 0.9951 - acc: 0.523 - ETA: 2s - loss: 0.9916 - acc: 0.525 - ETA: 2s - loss: 0.9906 - acc: 0.528 - ETA: 2s - loss: 0.9901 - acc: 0.527 - ETA: 2s - loss: 0.9864 - acc: 0.530 - ETA: 2s - loss: 0.9867 - acc: 0.529 - ETA: 2s - loss: 0.9848 - acc: 0.529 - ETA: 2s - loss: 0.9837 - acc: 0.530 - ETA: 2s - loss: 0.9832 - acc: 0.530 - ETA: 2s - loss: 0.9832 - acc: 0.530 - ETA: 2s - loss: 0.9827 - acc: 0.528 - ETA: 2s - loss: 0.9822 - acc: 0.529 - ETA: 2s - loss: 0.9824 - acc: 0.528 - ETA: 2s - loss: 0.9814 - acc: 0.528 - ETA: 2s - loss: 0.9807 - acc: 0.529 - ETA: 2s - loss: 0.9797 - acc: 0.529 - ETA: 1s - loss: 0.9813 - acc: 0.528 - ETA: 1s - loss: 0.9829 - acc: 0.526 - ETA: 1s - loss: 0.9823 - acc: 0.527 - ETA: 1s - loss: 0.9834 - acc: 0.526 - ETA: 1s - loss: 0.9840 - acc: 0.526 - ETA: 1s - loss: 0.9836 - acc: 0.526 - ETA: 1s - loss: 0.9838 - acc: 0.527 - ETA: 1s - loss: 0.9825 - acc: 0.528 - ETA: 1s - loss: 0.9819 - acc: 0.528 - ETA: 1s - loss: 0.9814 - acc: 0.529 - ETA: 1s - loss: 0.9804 - acc: 0.530 - ETA: 1s - loss: 0.9782 - acc: 0.532 - ETA: 1s - loss: 0.9788 - acc: 0.532 - ETA: 1s - loss: 0.9773 - acc: 0.534 - ETA: 1s - loss: 0.9784 - acc: 0.533 - ETA: 1s - loss: 0.9783 - acc: 0.533 - ETA: 1s - loss: 0.9792 - acc: 0.533 - ETA: 1s - loss: 0.9797 - acc: 0.532 - ETA: 1s - loss: 0.9794 - acc: 0.532 - ETA: 1s - loss: 0.9806 - acc: 0.530 - ETA: 1s - loss: 0.9806 - acc: 0.531 - ETA: 1s - loss: 0.9799 - acc: 0.532 - ETA: 1s - loss: 0.9806 - acc: 0.531 - ETA: 1s - loss: 0.9809 - acc: 0.530 - ETA: 1s - loss: 0.9811 - acc: 0.530 - ETA: 1s - loss: 0.9817 - acc: 0.529 - ETA: 1s - loss: 0.9814 - acc: 0.529 - ETA: 0s - loss: 0.9811 - acc: 0.529 - ETA: 0s - loss: 0.9799 - acc: 0.530 - ETA: 0s - loss: 0.9803 - acc: 0.531 - ETA: 0s - loss: 0.9825 - acc: 0.529 - ETA: 0s - loss: 0.9825 - acc: 0.530 - ETA: 0s - loss: 0.9827 - acc: 0.531 - ETA: 0s - loss: 0.9827 - acc: 0.530 - ETA: 0s - loss: 0.9839 - acc: 0.529 - ETA: 0s - loss: 0.9843 - acc: 0.529 - ETA: 0s - loss: 0.9847 - acc: 0.528 - ETA: 0s - loss: 0.9845 - acc: 0.529 - ETA: 0s - loss: 0.9849 - acc: 0.528 - ETA: 0s - loss: 0.9854 - acc: 0.527 - ETA: 0s - loss: 0.9857 - acc: 0.527 - ETA: 0s - loss: 0.9860 - acc: 0.527 - ETA: 0s - loss: 0.9862 - acc: 0.526 - ETA: 0s - loss: 0.9869 - acc: 0.526 - ETA: 0s - loss: 0.9870 - acc: 0.526 - ETA: 0s - loss: 0.9872 - acc: 0.525 - ETA: 0s - loss: 0.9873 - acc: 0.525 - ETA: 0s - loss: 0.9872 - acc: 0.525 - ETA: 0s - loss: 0.9867 - acc: 0.526 - ETA: 0s - loss: 0.9867 - acc: 0.525 - 5s 710us/sample - loss: 0.9863 - acc: 0.5260 - val_loss: 0.9695 - val_acc: 0.5317\n",
      "Epoch 10/10\n",
      "7112/7112 [==============================] - ETA: 6s - loss: 0.7437 - acc: 0.700 - ETA: 4s - loss: 0.9299 - acc: 0.600 - ETA: 3s - loss: 0.9425 - acc: 0.585 - ETA: 3s - loss: 0.9703 - acc: 0.548 - ETA: 3s - loss: 0.9952 - acc: 0.517 - ETA: 3s - loss: 0.9801 - acc: 0.536 - ETA: 3s - loss: 0.9881 - acc: 0.530 - ETA: 3s - loss: 0.9828 - acc: 0.531 - ETA: 3s - loss: 0.9774 - acc: 0.536 - ETA: 3s - loss: 0.9713 - acc: 0.540 - ETA: 3s - loss: 0.9677 - acc: 0.542 - ETA: 3s - loss: 0.9643 - acc: 0.547 - ETA: 3s - loss: 0.9633 - acc: 0.547 - ETA: 3s - loss: 0.9642 - acc: 0.547 - ETA: 3s - loss: 0.9633 - acc: 0.546 - ETA: 3s - loss: 0.9675 - acc: 0.543 - ETA: 2s - loss: 0.9701 - acc: 0.540 - ETA: 2s - loss: 0.9706 - acc: 0.539 - ETA: 2s - loss: 0.9736 - acc: 0.538 - ETA: 2s - loss: 0.9786 - acc: 0.533 - ETA: 2s - loss: 0.9790 - acc: 0.533 - ETA: 2s - loss: 0.9762 - acc: 0.536 - ETA: 2s - loss: 0.9751 - acc: 0.536 - ETA: 2s - loss: 0.9781 - acc: 0.535 - ETA: 2s - loss: 0.9777 - acc: 0.535 - ETA: 2s - loss: 0.9799 - acc: 0.535 - ETA: 2s - loss: 0.9795 - acc: 0.536 - ETA: 2s - loss: 0.9785 - acc: 0.537 - ETA: 2s - loss: 0.9787 - acc: 0.536 - ETA: 2s - loss: 0.9788 - acc: 0.536 - ETA: 2s - loss: 0.9780 - acc: 0.536 - ETA: 2s - loss: 0.9755 - acc: 0.537 - ETA: 2s - loss: 0.9740 - acc: 0.540 - ETA: 2s - loss: 0.9755 - acc: 0.539 - ETA: 2s - loss: 0.9752 - acc: 0.538 - ETA: 2s - loss: 0.9750 - acc: 0.538 - ETA: 2s - loss: 0.9766 - acc: 0.536 - ETA: 2s - loss: 0.9777 - acc: 0.535 - ETA: 2s - loss: 0.9781 - acc: 0.536 - ETA: 2s - loss: 0.9803 - acc: 0.535 - ETA: 1s - loss: 0.9798 - acc: 0.536 - ETA: 1s - loss: 0.9816 - acc: 0.534 - ETA: 1s - loss: 0.9805 - acc: 0.534 - ETA: 1s - loss: 0.9825 - acc: 0.531 - ETA: 1s - loss: 0.9835 - acc: 0.531 - ETA: 1s - loss: 0.9831 - acc: 0.531 - ETA: 1s - loss: 0.9834 - acc: 0.530 - ETA: 1s - loss: 0.9837 - acc: 0.530 - ETA: 1s - loss: 0.9823 - acc: 0.531 - ETA: 1s - loss: 0.9835 - acc: 0.529 - ETA: 1s - loss: 0.9849 - acc: 0.528 - ETA: 1s - loss: 0.9857 - acc: 0.528 - ETA: 1s - loss: 0.9867 - acc: 0.526 - ETA: 1s - loss: 0.9858 - acc: 0.528 - ETA: 1s - loss: 0.9872 - acc: 0.527 - ETA: 1s - loss: 0.9873 - acc: 0.527 - ETA: 1s - loss: 0.9857 - acc: 0.528 - ETA: 1s - loss: 0.9882 - acc: 0.525 - ETA: 1s - loss: 0.9883 - acc: 0.525 - ETA: 0s - loss: 0.9874 - acc: 0.526 - ETA: 0s - loss: 0.9875 - acc: 0.526 - ETA: 0s - loss: 0.9875 - acc: 0.525 - ETA: 0s - loss: 0.9865 - acc: 0.526 - ETA: 0s - loss: 0.9875 - acc: 0.525 - ETA: 0s - loss: 0.9878 - acc: 0.524 - ETA: 0s - loss: 0.9863 - acc: 0.526 - ETA: 0s - loss: 0.9866 - acc: 0.526 - ETA: 0s - loss: 0.9865 - acc: 0.526 - ETA: 0s - loss: 0.9862 - acc: 0.526 - ETA: 0s - loss: 0.9866 - acc: 0.526 - ETA: 0s - loss: 0.9862 - acc: 0.525 - ETA: 0s - loss: 0.9856 - acc: 0.526 - ETA: 0s - loss: 0.9855 - acc: 0.526 - ETA: 0s - loss: 0.9855 - acc: 0.527 - ETA: 0s - loss: 0.9857 - acc: 0.525 - ETA: 0s - loss: 0.9860 - acc: 0.525 - ETA: 0s - loss: 0.9870 - acc: 0.525 - ETA: 0s - loss: 0.9861 - acc: 0.525 - ETA: 0s - loss: 0.9858 - acc: 0.526 - 5s 663us/sample - loss: 0.9858 - acc: 0.5262 - val_loss: 0.9724 - val_acc: 0.5347\n"
     ]
    },
    {
     "data": {
      "text/html": [
       "<span style=\"color:#4527A0\"><h1 style=\"font-size:18px\">Trial complete</h1></span>"
      ],
      "text/plain": [
       "<IPython.core.display.HTML object>"
      ]
     },
     "metadata": {},
     "output_type": "display_data"
    },
    {
     "data": {
      "text/html": [
       "<span style=\"color:#4527A0\"><h1 style=\"font-size:18px\">Trial summary</h1></span>"
      ],
      "text/plain": [
       "<IPython.core.display.HTML object>"
      ]
     },
     "metadata": {},
     "output_type": "display_data"
    },
    {
     "data": {
      "text/html": [
       "<span style=\"color:cyan\"> |-Trial ID: e7e5ad580498102aad8e16688e442c69</span>"
      ],
      "text/plain": [
       "<IPython.core.display.HTML object>"
      ]
     },
     "metadata": {},
     "output_type": "display_data"
    },
    {
     "data": {
      "text/html": [
       "<span style=\"color:cyan\"> |-Score: 0.5351629257202148</span>"
      ],
      "text/plain": [
       "<IPython.core.display.HTML object>"
      ]
     },
     "metadata": {},
     "output_type": "display_data"
    },
    {
     "data": {
      "text/html": [
       "<span style=\"color:cyan\"> |-Best step: 0</span>"
      ],
      "text/plain": [
       "<IPython.core.display.HTML object>"
      ]
     },
     "metadata": {},
     "output_type": "display_data"
    },
    {
     "data": {
      "text/html": [
       "<span style=\"color:#7E57C2\"><h2 style=\"font-size:16px\">Hyperparameters:</h2></span>"
      ],
      "text/plain": [
       "<IPython.core.display.HTML object>"
      ]
     },
     "metadata": {},
     "output_type": "display_data"
    },
    {
     "data": {
      "text/html": [
       "<span style=\"color:cyan\"> |-layer_0_neurons: 110</span>"
      ],
      "text/plain": [
       "<IPython.core.display.HTML object>"
      ]
     },
     "metadata": {},
     "output_type": "display_data"
    },
    {
     "data": {
      "text/html": [
       "<span style=\"color:blue\"> |-layer_1_neurons: 150</span>"
      ],
      "text/plain": [
       "<IPython.core.display.HTML object>"
      ]
     },
     "metadata": {},
     "output_type": "display_data"
    },
    {
     "data": {
      "text/html": [
       "<span style=\"color:cyan\"> |-layer_2_neurons: 130</span>"
      ],
      "text/plain": [
       "<IPython.core.display.HTML object>"
      ]
     },
     "metadata": {},
     "output_type": "display_data"
    },
    {
     "data": {
      "text/html": [
       "<span style=\"color:blue\"> |-layer_3_neurons: 150</span>"
      ],
      "text/plain": [
       "<IPython.core.display.HTML object>"
      ]
     },
     "metadata": {},
     "output_type": "display_data"
    },
    {
     "data": {
      "text/html": [
       "<span style=\"color:cyan\"> |-n_input_neurons: 130</span>"
      ],
      "text/plain": [
       "<IPython.core.display.HTML object>"
      ]
     },
     "metadata": {},
     "output_type": "display_data"
    },
    {
     "data": {
      "text/html": [
       "<span style=\"color:blue\"> |-n_layers: 4</span>"
      ],
      "text/plain": [
       "<IPython.core.display.HTML object>"
      ]
     },
     "metadata": {},
     "output_type": "display_data"
    },
    {
     "name": "stdout",
     "output_type": "stream",
     "text": [
      "Train on 7112 samples, validate on 2332 samples\n",
      "Epoch 1/10\n",
      "7112/7112 [==============================] - ETA: 5:13 - loss: 1.2305 - acc: 0.400 - ETA: 21s - loss: 1.1111 - acc: 0.337 - ETA: 11s - loss: 1.1035 - acc: 0.41 - ETA: 8s - loss: 1.1001 - acc: 0.4319 - ETA: 6s - loss: 1.0990 - acc: 0.424 - ETA: 5s - loss: 1.0978 - acc: 0.428 - ETA: 5s - loss: 1.0963 - acc: 0.435 - ETA: 4s - loss: 1.0956 - acc: 0.434 - ETA: 4s - loss: 1.0942 - acc: 0.442 - ETA: 4s - loss: 1.0936 - acc: 0.444 - ETA: 4s - loss: 1.0926 - acc: 0.447 - ETA: 3s - loss: 1.0923 - acc: 0.444 - ETA: 3s - loss: 1.0925 - acc: 0.440 - ETA: 3s - loss: 1.0926 - acc: 0.436 - ETA: 4s - loss: 1.0927 - acc: 0.435 - ETA: 4s - loss: 1.0925 - acc: 0.436 - ETA: 4s - loss: 1.0925 - acc: 0.436 - ETA: 4s - loss: 1.0920 - acc: 0.437 - ETA: 4s - loss: 1.0915 - acc: 0.439 - ETA: 4s - loss: 1.0911 - acc: 0.441 - ETA: 4s - loss: 1.0914 - acc: 0.438 - ETA: 3s - loss: 1.0916 - acc: 0.435 - ETA: 3s - loss: 1.0914 - acc: 0.435 - ETA: 3s - loss: 1.0909 - acc: 0.437 - ETA: 3s - loss: 1.0905 - acc: 0.438 - ETA: 3s - loss: 1.0904 - acc: 0.437 - ETA: 3s - loss: 1.0901 - acc: 0.437 - ETA: 3s - loss: 1.0901 - acc: 0.437 - ETA: 4s - loss: 1.0898 - acc: 0.438 - ETA: 4s - loss: 1.0896 - acc: 0.439 - ETA: 4s - loss: 1.0894 - acc: 0.440 - ETA: 4s - loss: 1.0892 - acc: 0.440 - ETA: 4s - loss: 1.0891 - acc: 0.441 - ETA: 4s - loss: 1.0891 - acc: 0.440 - ETA: 4s - loss: 1.0887 - acc: 0.441 - ETA: 4s - loss: 1.0883 - acc: 0.443 - ETA: 4s - loss: 1.0880 - acc: 0.444 - ETA: 4s - loss: 1.0883 - acc: 0.442 - ETA: 4s - loss: 1.0877 - acc: 0.444 - ETA: 4s - loss: 1.0873 - acc: 0.445 - ETA: 4s - loss: 1.0867 - acc: 0.447 - ETA: 3s - loss: 1.0861 - acc: 0.449 - ETA: 4s - loss: 1.0861 - acc: 0.448 - ETA: 4s - loss: 1.0863 - acc: 0.447 - ETA: 4s - loss: 1.0859 - acc: 0.448 - ETA: 3s - loss: 1.0853 - acc: 0.449 - ETA: 3s - loss: 1.0851 - acc: 0.448 - ETA: 3s - loss: 1.0849 - acc: 0.447 - ETA: 3s - loss: 1.0836 - acc: 0.450 - ETA: 3s - loss: 1.0832 - acc: 0.451 - ETA: 2s - loss: 1.0828 - acc: 0.452 - ETA: 2s - loss: 1.0822 - acc: 0.452 - ETA: 2s - loss: 1.0823 - acc: 0.451 - ETA: 2s - loss: 1.0822 - acc: 0.451 - ETA: 2s - loss: 1.0825 - acc: 0.449 - ETA: 2s - loss: 1.0827 - acc: 0.448 - ETA: 2s - loss: 1.0824 - acc: 0.448 - ETA: 1s - loss: 1.0818 - acc: 0.448 - ETA: 1s - loss: 1.0811 - acc: 0.450 - ETA: 1s - loss: 1.0801 - acc: 0.452 - ETA: 1s - loss: 1.0796 - acc: 0.453 - ETA: 1s - loss: 1.0790 - acc: 0.453 - ETA: 1s - loss: 1.0782 - acc: 0.455 - ETA: 1s - loss: 1.0780 - acc: 0.454 - ETA: 0s - loss: 1.0781 - acc: 0.453 - ETA: 0s - loss: 1.0779 - acc: 0.453 - ETA: 0s - loss: 1.0782 - acc: 0.452 - ETA: 0s - loss: 1.0783 - acc: 0.452 - ETA: 0s - loss: 1.0781 - acc: 0.452 - ETA: 0s - loss: 1.0781 - acc: 0.451 - ETA: 0s - loss: 1.0779 - acc: 0.452 - ETA: 0s - loss: 1.0776 - acc: 0.452 - ETA: 0s - loss: 1.0779 - acc: 0.451 - ETA: 0s - loss: 1.0772 - acc: 0.452 - ETA: 0s - loss: 1.0764 - acc: 0.454 - ETA: 0s - loss: 1.0759 - acc: 0.455 - ETA: 0s - loss: 1.0755 - acc: 0.455 - 6s 793us/sample - loss: 1.0753 - acc: 0.4558 - val_loss: 1.0710 - val_acc: 0.4417\n",
      "Epoch 2/10\n",
      "7112/7112 [==============================] - ETA: 4s - loss: 1.0741 - acc: 0.500 - ETA: 2s - loss: 1.0963 - acc: 0.388 - ETA: 3s - loss: 1.0847 - acc: 0.419 - ETA: 3s - loss: 1.0859 - acc: 0.415 - ETA: 3s - loss: 1.0783 - acc: 0.432 - ETA: 4s - loss: 1.0804 - acc: 0.426 - ETA: 4s - loss: 1.0743 - acc: 0.441 - ETA: 4s - loss: 1.0707 - acc: 0.446 - ETA: 3s - loss: 1.0710 - acc: 0.445 - ETA: 3s - loss: 1.0693 - acc: 0.448 - ETA: 3s - loss: 1.0682 - acc: 0.450 - ETA: 3s - loss: 1.0682 - acc: 0.448 - ETA: 2s - loss: 1.0671 - acc: 0.452 - ETA: 2s - loss: 1.0676 - acc: 0.450 - ETA: 2s - loss: 1.0664 - acc: 0.453 - ETA: 2s - loss: 1.0658 - acc: 0.454 - ETA: 2s - loss: 1.0663 - acc: 0.453 - ETA: 2s - loss: 1.0647 - acc: 0.456 - ETA: 2s - loss: 1.0646 - acc: 0.457 - ETA: 2s - loss: 1.0653 - acc: 0.456 - ETA: 2s - loss: 1.0637 - acc: 0.460 - ETA: 2s - loss: 1.0635 - acc: 0.461 - ETA: 2s - loss: 1.0627 - acc: 0.462 - ETA: 2s - loss: 1.0627 - acc: 0.462 - ETA: 2s - loss: 1.0632 - acc: 0.461 - ETA: 2s - loss: 1.0631 - acc: 0.462 - ETA: 2s - loss: 1.0660 - acc: 0.456 - ETA: 2s - loss: 1.0651 - acc: 0.458 - ETA: 2s - loss: 1.0641 - acc: 0.460 - ETA: 1s - loss: 1.0640 - acc: 0.461 - ETA: 1s - loss: 1.0646 - acc: 0.459 - ETA: 1s - loss: 1.0642 - acc: 0.460 - ETA: 1s - loss: 1.0648 - acc: 0.458 - ETA: 1s - loss: 1.0655 - acc: 0.457 - ETA: 1s - loss: 1.0644 - acc: 0.459 - ETA: 1s - loss: 1.0652 - acc: 0.458 - ETA: 1s - loss: 1.0645 - acc: 0.459 - ETA: 1s - loss: 1.0655 - acc: 0.457 - ETA: 1s - loss: 1.0654 - acc: 0.457 - ETA: 1s - loss: 1.0652 - acc: 0.458 - ETA: 1s - loss: 1.0648 - acc: 0.459 - ETA: 1s - loss: 1.0655 - acc: 0.457 - ETA: 1s - loss: 1.0652 - acc: 0.457 - ETA: 1s - loss: 1.0659 - acc: 0.455 - ETA: 0s - loss: 1.0648 - acc: 0.458 - ETA: 0s - loss: 1.0640 - acc: 0.459 - ETA: 0s - loss: 1.0646 - acc: 0.458 - ETA: 0s - loss: 1.0656 - acc: 0.456 - ETA: 0s - loss: 1.0652 - acc: 0.457 - ETA: 0s - loss: 1.0655 - acc: 0.456 - ETA: 0s - loss: 1.0650 - acc: 0.457 - ETA: 0s - loss: 1.0644 - acc: 0.458 - ETA: 0s - loss: 1.0634 - acc: 0.460 - ETA: 0s - loss: 1.0634 - acc: 0.460 - ETA: 0s - loss: 1.0635 - acc: 0.459 - ETA: 0s - loss: 1.0637 - acc: 0.459 - ETA: 0s - loss: 1.0640 - acc: 0.459 - ETA: 0s - loss: 1.0635 - acc: 0.459 - ETA: 0s - loss: 1.0638 - acc: 0.459 - ETA: 0s - loss: 1.0639 - acc: 0.459 - ETA: 0s - loss: 1.0638 - acc: 0.459 - ETA: 0s - loss: 1.0636 - acc: 0.459 - ETA: 0s - loss: 1.0644 - acc: 0.458 - 4s 540us/sample - loss: 1.0647 - acc: 0.4577 - val_loss: 1.0705 - val_acc: 0.4417\n",
      "Epoch 3/10\n",
      "7112/7112 [==============================] - ETA: 5s - loss: 0.8781 - acc: 0.800 - ETA: 2s - loss: 1.0487 - acc: 0.493 - ETA: 2s - loss: 1.0648 - acc: 0.453 - ETA: 2s - loss: 1.0528 - acc: 0.478 - ETA: 2s - loss: 1.0513 - acc: 0.483 - ETA: 2s - loss: 1.0497 - acc: 0.488 - ETA: 2s - loss: 1.0564 - acc: 0.475 - ETA: 2s - loss: 1.0578 - acc: 0.471 - ETA: 2s - loss: 1.0585 - acc: 0.471 - ETA: 2s - loss: 1.0562 - acc: 0.474 - ETA: 2s - loss: 1.0590 - acc: 0.470 - ETA: 2s - loss: 1.0602 - acc: 0.468 - ETA: 2s - loss: 1.0646 - acc: 0.460 - ETA: 2s - loss: 1.0641 - acc: 0.461 - ETA: 2s - loss: 1.0656 - acc: 0.458 - ETA: 2s - loss: 1.0665 - acc: 0.456 - ETA: 1s - loss: 1.0641 - acc: 0.460 - ETA: 1s - loss: 1.0657 - acc: 0.457 - ETA: 1s - loss: 1.0652 - acc: 0.458 - ETA: 1s - loss: 1.0646 - acc: 0.458 - ETA: 1s - loss: 1.0643 - acc: 0.458 - ETA: 1s - loss: 1.0643 - acc: 0.458 - ETA: 1s - loss: 1.0648 - acc: 0.457 - ETA: 1s - loss: 1.0640 - acc: 0.458 - ETA: 1s - loss: 1.0655 - acc: 0.456 - ETA: 1s - loss: 1.0650 - acc: 0.457 - ETA: 1s - loss: 1.0644 - acc: 0.458 - ETA: 1s - loss: 1.0638 - acc: 0.459 - ETA: 1s - loss: 1.0638 - acc: 0.459 - ETA: 1s - loss: 1.0619 - acc: 0.462 - ETA: 1s - loss: 1.0629 - acc: 0.461 - ETA: 1s - loss: 1.0642 - acc: 0.458 - ETA: 1s - loss: 1.0651 - acc: 0.456 - ETA: 1s - loss: 1.0647 - acc: 0.457 - ETA: 1s - loss: 1.0652 - acc: 0.456 - ETA: 1s - loss: 1.0638 - acc: 0.459 - ETA: 1s - loss: 1.0642 - acc: 0.458 - ETA: 1s - loss: 1.0636 - acc: 0.459 - ETA: 1s - loss: 1.0626 - acc: 0.461 - ETA: 1s - loss: 1.0625 - acc: 0.461 - ETA: 1s - loss: 1.0620 - acc: 0.462 - ETA: 1s - loss: 1.0623 - acc: 0.461 - ETA: 1s - loss: 1.0621 - acc: 0.461 - ETA: 1s - loss: 1.0619 - acc: 0.462 - ETA: 1s - loss: 1.0620 - acc: 0.462 - ETA: 1s - loss: 1.0623 - acc: 0.461 - ETA: 0s - loss: 1.0621 - acc: 0.462 - ETA: 0s - loss: 1.0626 - acc: 0.461 - ETA: 0s - loss: 1.0631 - acc: 0.460 - ETA: 0s - loss: 1.0632 - acc: 0.460 - ETA: 0s - loss: 1.0625 - acc: 0.461 - ETA: 0s - loss: 1.0626 - acc: 0.460 - ETA: 0s - loss: 1.0623 - acc: 0.461 - ETA: 0s - loss: 1.0624 - acc: 0.461 - ETA: 0s - loss: 1.0622 - acc: 0.461 - ETA: 0s - loss: 1.0626 - acc: 0.460 - ETA: 0s - loss: 1.0628 - acc: 0.460 - ETA: 0s - loss: 1.0636 - acc: 0.458 - ETA: 0s - loss: 1.0639 - acc: 0.458 - ETA: 0s - loss: 1.0642 - acc: 0.457 - ETA: 0s - loss: 1.0638 - acc: 0.458 - ETA: 0s - loss: 1.0641 - acc: 0.458 - ETA: 0s - loss: 1.0642 - acc: 0.457 - 4s 526us/sample - loss: 1.0643 - acc: 0.4577 - val_loss: 1.0705 - val_acc: 0.4417\n",
      "Epoch 4/10\n"
     ]
    },
    {
     "name": "stdout",
     "output_type": "stream",
     "text": [
      "7112/7112 [==============================] - ETA: 3s - loss: 1.0379 - acc: 0.500 - ETA: 2s - loss: 1.0517 - acc: 0.481 - ETA: 2s - loss: 1.0569 - acc: 0.471 - ETA: 2s - loss: 1.0679 - acc: 0.448 - ETA: 2s - loss: 1.0661 - acc: 0.450 - ETA: 2s - loss: 1.0582 - acc: 0.465 - ETA: 2s - loss: 1.0605 - acc: 0.462 - ETA: 2s - loss: 1.0624 - acc: 0.458 - ETA: 2s - loss: 1.0652 - acc: 0.452 - ETA: 2s - loss: 1.0650 - acc: 0.453 - ETA: 2s - loss: 1.0658 - acc: 0.450 - ETA: 2s - loss: 1.0646 - acc: 0.452 - ETA: 2s - loss: 1.0628 - acc: 0.455 - ETA: 2s - loss: 1.0646 - acc: 0.452 - ETA: 2s - loss: 1.0610 - acc: 0.458 - ETA: 2s - loss: 1.0621 - acc: 0.457 - ETA: 1s - loss: 1.0627 - acc: 0.457 - ETA: 1s - loss: 1.0640 - acc: 0.455 - ETA: 1s - loss: 1.0641 - acc: 0.455 - ETA: 1s - loss: 1.0642 - acc: 0.455 - ETA: 1s - loss: 1.0653 - acc: 0.452 - ETA: 1s - loss: 1.0640 - acc: 0.456 - ETA: 1s - loss: 1.0639 - acc: 0.455 - ETA: 1s - loss: 1.0647 - acc: 0.455 - ETA: 1s - loss: 1.0637 - acc: 0.456 - ETA: 1s - loss: 1.0648 - acc: 0.454 - ETA: 1s - loss: 1.0633 - acc: 0.457 - ETA: 1s - loss: 1.0637 - acc: 0.457 - ETA: 1s - loss: 1.0635 - acc: 0.456 - ETA: 1s - loss: 1.0639 - acc: 0.456 - ETA: 1s - loss: 1.0642 - acc: 0.455 - ETA: 1s - loss: 1.0639 - acc: 0.456 - ETA: 1s - loss: 1.0637 - acc: 0.456 - ETA: 1s - loss: 1.0646 - acc: 0.454 - ETA: 1s - loss: 1.0642 - acc: 0.455 - ETA: 1s - loss: 1.0638 - acc: 0.456 - ETA: 0s - loss: 1.0643 - acc: 0.455 - ETA: 0s - loss: 1.0627 - acc: 0.459 - ETA: 0s - loss: 1.0637 - acc: 0.457 - ETA: 0s - loss: 1.0639 - acc: 0.457 - ETA: 0s - loss: 1.0644 - acc: 0.456 - ETA: 0s - loss: 1.0651 - acc: 0.454 - ETA: 0s - loss: 1.0650 - acc: 0.455 - ETA: 0s - loss: 1.0650 - acc: 0.455 - ETA: 0s - loss: 1.0650 - acc: 0.456 - ETA: 0s - loss: 1.0650 - acc: 0.456 - ETA: 0s - loss: 1.0645 - acc: 0.456 - ETA: 0s - loss: 1.0638 - acc: 0.458 - ETA: 0s - loss: 1.0636 - acc: 0.458 - ETA: 0s - loss: 1.0639 - acc: 0.458 - ETA: 0s - loss: 1.0640 - acc: 0.458 - ETA: 0s - loss: 1.0645 - acc: 0.457 - ETA: 0s - loss: 1.0643 - acc: 0.457 - 3s 447us/sample - loss: 1.0642 - acc: 0.4577 - val_loss: 1.0709 - val_acc: 0.4417\n",
      "Epoch 5/10\n",
      "7112/7112 [==============================] - ETA: 4s - loss: 0.9792 - acc: 0.600 - ETA: 2s - loss: 1.0589 - acc: 0.464 - ETA: 2s - loss: 1.0665 - acc: 0.448 - ETA: 2s - loss: 1.0636 - acc: 0.453 - ETA: 2s - loss: 1.0687 - acc: 0.445 - ETA: 2s - loss: 1.0691 - acc: 0.444 - ETA: 2s - loss: 1.0663 - acc: 0.451 - ETA: 2s - loss: 1.0677 - acc: 0.449 - ETA: 2s - loss: 1.0666 - acc: 0.451 - ETA: 2s - loss: 1.0678 - acc: 0.450 - ETA: 2s - loss: 1.0672 - acc: 0.452 - ETA: 2s - loss: 1.0658 - acc: 0.455 - ETA: 2s - loss: 1.0658 - acc: 0.454 - ETA: 2s - loss: 1.0682 - acc: 0.451 - ETA: 2s - loss: 1.0686 - acc: 0.450 - ETA: 2s - loss: 1.0673 - acc: 0.452 - ETA: 2s - loss: 1.0677 - acc: 0.451 - ETA: 2s - loss: 1.0667 - acc: 0.452 - ETA: 2s - loss: 1.0659 - acc: 0.454 - ETA: 1s - loss: 1.0664 - acc: 0.452 - ETA: 1s - loss: 1.0655 - acc: 0.455 - ETA: 1s - loss: 1.0644 - acc: 0.457 - ETA: 1s - loss: 1.0647 - acc: 0.456 - ETA: 1s - loss: 1.0656 - acc: 0.454 - ETA: 1s - loss: 1.0651 - acc: 0.455 - ETA: 1s - loss: 1.0650 - acc: 0.455 - ETA: 1s - loss: 1.0644 - acc: 0.456 - ETA: 1s - loss: 1.0650 - acc: 0.455 - ETA: 1s - loss: 1.0647 - acc: 0.455 - ETA: 1s - loss: 1.0652 - acc: 0.455 - ETA: 1s - loss: 1.0644 - acc: 0.456 - ETA: 1s - loss: 1.0656 - acc: 0.454 - ETA: 1s - loss: 1.0633 - acc: 0.459 - ETA: 1s - loss: 1.0633 - acc: 0.459 - ETA: 1s - loss: 1.0633 - acc: 0.459 - ETA: 1s - loss: 1.0637 - acc: 0.458 - ETA: 0s - loss: 1.0644 - acc: 0.457 - ETA: 0s - loss: 1.0642 - acc: 0.458 - ETA: 0s - loss: 1.0636 - acc: 0.459 - ETA: 0s - loss: 1.0632 - acc: 0.460 - ETA: 0s - loss: 1.0633 - acc: 0.459 - ETA: 0s - loss: 1.0632 - acc: 0.459 - ETA: 0s - loss: 1.0630 - acc: 0.460 - ETA: 0s - loss: 1.0634 - acc: 0.459 - ETA: 0s - loss: 1.0634 - acc: 0.458 - ETA: 0s - loss: 1.0638 - acc: 0.458 - ETA: 0s - loss: 1.0641 - acc: 0.457 - ETA: 0s - loss: 1.0631 - acc: 0.459 - ETA: 0s - loss: 1.0626 - acc: 0.460 - ETA: 0s - loss: 1.0633 - acc: 0.459 - ETA: 0s - loss: 1.0638 - acc: 0.458 - ETA: 0s - loss: 1.0640 - acc: 0.457 - ETA: 0s - loss: 1.0636 - acc: 0.458 - ETA: 0s - loss: 1.0643 - acc: 0.457 - 3s 456us/sample - loss: 1.0643 - acc: 0.4577 - val_loss: 1.0707 - val_acc: 0.4417\n",
      "Epoch 6/10\n",
      "7112/7112 [==============================] - ETA: 4s - loss: 1.1289 - acc: 0.300 - ETA: 4s - loss: 1.1084 - acc: 0.363 - ETA: 6s - loss: 1.0963 - acc: 0.393 - ETA: 7s - loss: 1.0843 - acc: 0.418 - ETA: 8s - loss: 1.0801 - acc: 0.422 - ETA: 9s - loss: 1.0831 - acc: 0.420 - ETA: 9s - loss: 1.0836 - acc: 0.416 - ETA: 6s - loss: 1.0703 - acc: 0.442 - ETA: 5s - loss: 1.0634 - acc: 0.455 - ETA: 4s - loss: 1.0623 - acc: 0.461 - ETA: 4s - loss: 1.0625 - acc: 0.460 - ETA: 3s - loss: 1.0626 - acc: 0.458 - ETA: 3s - loss: 1.0623 - acc: 0.459 - ETA: 3s - loss: 1.0657 - acc: 0.455 - ETA: 2s - loss: 1.0701 - acc: 0.447 - ETA: 2s - loss: 1.0693 - acc: 0.449 - ETA: 2s - loss: 1.0671 - acc: 0.453 - ETA: 2s - loss: 1.0678 - acc: 0.452 - ETA: 2s - loss: 1.0678 - acc: 0.452 - ETA: 2s - loss: 1.0650 - acc: 0.458 - ETA: 2s - loss: 1.0661 - acc: 0.455 - ETA: 2s - loss: 1.0645 - acc: 0.458 - ETA: 2s - loss: 1.0660 - acc: 0.455 - ETA: 2s - loss: 1.0667 - acc: 0.453 - ETA: 2s - loss: 1.0675 - acc: 0.452 - ETA: 2s - loss: 1.0673 - acc: 0.452 - ETA: 2s - loss: 1.0677 - acc: 0.451 - ETA: 2s - loss: 1.0683 - acc: 0.450 - ETA: 2s - loss: 1.0682 - acc: 0.451 - ETA: 2s - loss: 1.0683 - acc: 0.451 - ETA: 2s - loss: 1.0673 - acc: 0.453 - ETA: 2s - loss: 1.0683 - acc: 0.451 - ETA: 2s - loss: 1.0674 - acc: 0.453 - ETA: 2s - loss: 1.0677 - acc: 0.452 - ETA: 2s - loss: 1.0670 - acc: 0.453 - ETA: 2s - loss: 1.0675 - acc: 0.452 - ETA: 2s - loss: 1.0678 - acc: 0.452 - ETA: 2s - loss: 1.0679 - acc: 0.451 - ETA: 2s - loss: 1.0675 - acc: 0.452 - ETA: 2s - loss: 1.0672 - acc: 0.453 - ETA: 2s - loss: 1.0669 - acc: 0.453 - ETA: 2s - loss: 1.0664 - acc: 0.454 - ETA: 2s - loss: 1.0659 - acc: 0.455 - ETA: 2s - loss: 1.0660 - acc: 0.454 - ETA: 2s - loss: 1.0671 - acc: 0.452 - ETA: 2s - loss: 1.0670 - acc: 0.453 - ETA: 2s - loss: 1.0664 - acc: 0.454 - ETA: 2s - loss: 1.0672 - acc: 0.452 - ETA: 2s - loss: 1.0672 - acc: 0.452 - ETA: 2s - loss: 1.0668 - acc: 0.453 - ETA: 2s - loss: 1.0669 - acc: 0.453 - ETA: 1s - loss: 1.0669 - acc: 0.452 - ETA: 1s - loss: 1.0660 - acc: 0.454 - ETA: 1s - loss: 1.0668 - acc: 0.453 - ETA: 1s - loss: 1.0660 - acc: 0.454 - ETA: 1s - loss: 1.0663 - acc: 0.453 - ETA: 1s - loss: 1.0655 - acc: 0.455 - ETA: 1s - loss: 1.0652 - acc: 0.455 - ETA: 1s - loss: 1.0655 - acc: 0.455 - ETA: 0s - loss: 1.0658 - acc: 0.454 - ETA: 0s - loss: 1.0663 - acc: 0.453 - ETA: 0s - loss: 1.0662 - acc: 0.453 - ETA: 0s - loss: 1.0658 - acc: 0.454 - ETA: 0s - loss: 1.0649 - acc: 0.455 - ETA: 0s - loss: 1.0654 - acc: 0.454 - ETA: 0s - loss: 1.0649 - acc: 0.455 - ETA: 0s - loss: 1.0654 - acc: 0.454 - ETA: 0s - loss: 1.0652 - acc: 0.455 - ETA: 0s - loss: 1.0650 - acc: 0.455 - ETA: 0s - loss: 1.0653 - acc: 0.455 - ETA: 0s - loss: 1.0645 - acc: 0.456 - ETA: 0s - loss: 1.0636 - acc: 0.458 - 4s 606us/sample - loss: 1.0642 - acc: 0.4577 - val_loss: 1.0708 - val_acc: 0.4417\n",
      "Epoch 7/10\n"
     ]
    },
    {
     "name": "stdout",
     "output_type": "stream",
     "text": [
      "7112/7112 [==============================] - ETA: 4s - loss: 0.9614 - acc: 0.600 - ETA: 2s - loss: 1.0704 - acc: 0.443 - ETA: 2s - loss: 1.0548 - acc: 0.480 - ETA: 2s - loss: 1.0542 - acc: 0.476 - ETA: 2s - loss: 1.0537 - acc: 0.475 - ETA: 2s - loss: 1.0559 - acc: 0.473 - ETA: 2s - loss: 1.0509 - acc: 0.480 - ETA: 2s - loss: 1.0516 - acc: 0.478 - ETA: 2s - loss: 1.0484 - acc: 0.483 - ETA: 2s - loss: 1.0512 - acc: 0.479 - ETA: 2s - loss: 1.0551 - acc: 0.472 - ETA: 2s - loss: 1.0574 - acc: 0.469 - ETA: 2s - loss: 1.0622 - acc: 0.460 - ETA: 1s - loss: 1.0611 - acc: 0.463 - ETA: 1s - loss: 1.0625 - acc: 0.460 - ETA: 1s - loss: 1.0613 - acc: 0.462 - ETA: 1s - loss: 1.0601 - acc: 0.464 - ETA: 1s - loss: 1.0609 - acc: 0.463 - ETA: 1s - loss: 1.0619 - acc: 0.460 - ETA: 1s - loss: 1.0619 - acc: 0.460 - ETA: 1s - loss: 1.0618 - acc: 0.460 - ETA: 1s - loss: 1.0614 - acc: 0.461 - ETA: 1s - loss: 1.0598 - acc: 0.464 - ETA: 1s - loss: 1.0589 - acc: 0.466 - ETA: 1s - loss: 1.0577 - acc: 0.468 - ETA: 1s - loss: 1.0588 - acc: 0.466 - ETA: 1s - loss: 1.0585 - acc: 0.467 - ETA: 1s - loss: 1.0587 - acc: 0.466 - ETA: 1s - loss: 1.0583 - acc: 0.467 - ETA: 1s - loss: 1.0586 - acc: 0.466 - ETA: 1s - loss: 1.0602 - acc: 0.463 - ETA: 1s - loss: 1.0611 - acc: 0.461 - ETA: 1s - loss: 1.0617 - acc: 0.460 - ETA: 1s - loss: 1.0611 - acc: 0.462 - ETA: 1s - loss: 1.0618 - acc: 0.461 - ETA: 1s - loss: 1.0631 - acc: 0.459 - ETA: 1s - loss: 1.0633 - acc: 0.458 - ETA: 1s - loss: 1.0630 - acc: 0.459 - ETA: 1s - loss: 1.0631 - acc: 0.459 - ETA: 0s - loss: 1.0637 - acc: 0.458 - ETA: 0s - loss: 1.0630 - acc: 0.459 - ETA: 0s - loss: 1.0628 - acc: 0.459 - ETA: 0s - loss: 1.0626 - acc: 0.460 - ETA: 0s - loss: 1.0632 - acc: 0.459 - ETA: 0s - loss: 1.0642 - acc: 0.457 - ETA: 0s - loss: 1.0657 - acc: 0.455 - ETA: 0s - loss: 1.0657 - acc: 0.455 - ETA: 0s - loss: 1.0658 - acc: 0.455 - ETA: 0s - loss: 1.0647 - acc: 0.457 - ETA: 0s - loss: 1.0650 - acc: 0.456 - ETA: 0s - loss: 1.0647 - acc: 0.457 - ETA: 0s - loss: 1.0641 - acc: 0.458 - ETA: 0s - loss: 1.0642 - acc: 0.458 - ETA: 0s - loss: 1.0639 - acc: 0.458 - ETA: 0s - loss: 1.0640 - acc: 0.458 - ETA: 0s - loss: 1.0641 - acc: 0.458 - ETA: 0s - loss: 1.0641 - acc: 0.458 - ETA: 0s - loss: 1.0643 - acc: 0.457 - 3s 490us/sample - loss: 1.0643 - acc: 0.4577 - val_loss: 1.0707 - val_acc: 0.4417\n",
      "Epoch 8/10\n",
      "7112/7112 [==============================] - ETA: 5s - loss: 1.1970 - acc: 0.300 - ETA: 2s - loss: 1.0537 - acc: 0.487 - ETA: 2s - loss: 1.0630 - acc: 0.466 - ETA: 2s - loss: 1.0826 - acc: 0.426 - ETA: 2s - loss: 1.0813 - acc: 0.425 - ETA: 3s - loss: 1.0796 - acc: 0.428 - ETA: 3s - loss: 1.0733 - acc: 0.441 - ETA: 3s - loss: 1.0719 - acc: 0.442 - ETA: 3s - loss: 1.0688 - acc: 0.449 - ETA: 4s - loss: 1.0660 - acc: 0.455 - ETA: 4s - loss: 1.0655 - acc: 0.455 - ETA: 4s - loss: 1.0652 - acc: 0.456 - ETA: 5s - loss: 1.0646 - acc: 0.458 - ETA: 5s - loss: 1.0643 - acc: 0.458 - ETA: 5s - loss: 1.0644 - acc: 0.458 - ETA: 5s - loss: 1.0645 - acc: 0.458 - ETA: 6s - loss: 1.0653 - acc: 0.457 - ETA: 6s - loss: 1.0653 - acc: 0.457 - ETA: 6s - loss: 1.0642 - acc: 0.459 - ETA: 6s - loss: 1.0643 - acc: 0.459 - ETA: 6s - loss: 1.0645 - acc: 0.458 - ETA: 6s - loss: 1.0634 - acc: 0.460 - ETA: 7s - loss: 1.0643 - acc: 0.458 - ETA: 7s - loss: 1.0620 - acc: 0.462 - ETA: 7s - loss: 1.0630 - acc: 0.460 - ETA: 7s - loss: 1.0637 - acc: 0.459 - ETA: 7s - loss: 1.0628 - acc: 0.460 - ETA: 7s - loss: 1.0623 - acc: 0.462 - ETA: 7s - loss: 1.0623 - acc: 0.462 - ETA: 7s - loss: 1.0648 - acc: 0.458 - ETA: 8s - loss: 1.0644 - acc: 0.459 - ETA: 8s - loss: 1.0636 - acc: 0.460 - ETA: 8s - loss: 1.0629 - acc: 0.461 - ETA: 8s - loss: 1.0623 - acc: 0.463 - ETA: 8s - loss: 1.0611 - acc: 0.465 - ETA: 8s - loss: 1.0621 - acc: 0.463 - ETA: 8s - loss: 1.0623 - acc: 0.463 - ETA: 8s - loss: 1.0630 - acc: 0.461 - ETA: 8s - loss: 1.0636 - acc: 0.460 - ETA: 8s - loss: 1.0639 - acc: 0.459 - ETA: 9s - loss: 1.0633 - acc: 0.460 - ETA: 9s - loss: 1.0637 - acc: 0.459 - ETA: 9s - loss: 1.0636 - acc: 0.459 - ETA: 9s - loss: 1.0633 - acc: 0.460 - ETA: 9s - loss: 1.0626 - acc: 0.461 - ETA: 9s - loss: 1.0618 - acc: 0.462 - ETA: 9s - loss: 1.0619 - acc: 0.462 - ETA: 9s - loss: 1.0621 - acc: 0.462 - ETA: 9s - loss: 1.0614 - acc: 0.463 - ETA: 9s - loss: 1.0614 - acc: 0.462 - ETA: 9s - loss: 1.0637 - acc: 0.458 - ETA: 9s - loss: 1.0634 - acc: 0.459 - ETA: 9s - loss: 1.0631 - acc: 0.459 - ETA: 9s - loss: 1.0633 - acc: 0.459 - ETA: 9s - loss: 1.0634 - acc: 0.459 - ETA: 9s - loss: 1.0624 - acc: 0.461 - ETA: 9s - loss: 1.0620 - acc: 0.462 - ETA: 9s - loss: 1.0618 - acc: 0.462 - ETA: 9s - loss: 1.0617 - acc: 0.463 - ETA: 9s - loss: 1.0606 - acc: 0.464 - ETA: 9s - loss: 1.0606 - acc: 0.465 - ETA: 9s - loss: 1.0614 - acc: 0.463 - ETA: 9s - loss: 1.0620 - acc: 0.463 - ETA: 9s - loss: 1.0610 - acc: 0.464 - ETA: 8s - loss: 1.0602 - acc: 0.466 - ETA: 8s - loss: 1.0611 - acc: 0.464 - ETA: 7s - loss: 1.0589 - acc: 0.467 - ETA: 7s - loss: 1.0600 - acc: 0.465 - ETA: 6s - loss: 1.0596 - acc: 0.466 - ETA: 6s - loss: 1.0599 - acc: 0.466 - ETA: 6s - loss: 1.0598 - acc: 0.466 - ETA: 5s - loss: 1.0605 - acc: 0.464 - ETA: 5s - loss: 1.0617 - acc: 0.462 - ETA: 5s - loss: 1.0620 - acc: 0.462 - ETA: 4s - loss: 1.0612 - acc: 0.463 - ETA: 4s - loss: 1.0611 - acc: 0.463 - ETA: 4s - loss: 1.0612 - acc: 0.462 - ETA: 4s - loss: 1.0609 - acc: 0.463 - ETA: 4s - loss: 1.0600 - acc: 0.465 - ETA: 4s - loss: 1.0598 - acc: 0.466 - ETA: 3s - loss: 1.0598 - acc: 0.465 - ETA: 3s - loss: 1.0594 - acc: 0.466 - ETA: 3s - loss: 1.0608 - acc: 0.463 - ETA: 3s - loss: 1.0606 - acc: 0.464 - ETA: 2s - loss: 1.0611 - acc: 0.463 - ETA: 2s - loss: 1.0610 - acc: 0.463 - ETA: 2s - loss: 1.0606 - acc: 0.464 - ETA: 2s - loss: 1.0609 - acc: 0.463 - ETA: 2s - loss: 1.0610 - acc: 0.463 - ETA: 2s - loss: 1.0611 - acc: 0.463 - ETA: 1s - loss: 1.0608 - acc: 0.463 - ETA: 1s - loss: 1.0612 - acc: 0.463 - ETA: 1s - loss: 1.0627 - acc: 0.460 - ETA: 1s - loss: 1.0635 - acc: 0.459 - ETA: 1s - loss: 1.0638 - acc: 0.458 - ETA: 1s - loss: 1.0633 - acc: 0.459 - ETA: 1s - loss: 1.0627 - acc: 0.460 - ETA: 1s - loss: 1.0626 - acc: 0.460 - ETA: 1s - loss: 1.0625 - acc: 0.461 - ETA: 0s - loss: 1.0624 - acc: 0.461 - ETA: 0s - loss: 1.0629 - acc: 0.460 - ETA: 0s - loss: 1.0637 - acc: 0.458 - ETA: 0s - loss: 1.0640 - acc: 0.457 - ETA: 0s - loss: 1.0637 - acc: 0.458 - ETA: 0s - loss: 1.0642 - acc: 0.457 - ETA: 0s - loss: 1.0642 - acc: 0.457 - 7s 949us/sample - loss: 1.0643 - acc: 0.4577 - val_loss: 1.0705 - val_acc: 0.4417\n",
      "Epoch 9/10\n"
     ]
    },
    {
     "name": "stdout",
     "output_type": "stream",
     "text": [
      "7112/7112 [==============================] - ETA: 6s - loss: 1.2131 - acc: 0.200 - ETA: 14s - loss: 1.2036 - acc: 0.20 - ETA: 6s - loss: 1.0855 - acc: 0.4167 - ETA: 4s - loss: 1.0717 - acc: 0.443 - ETA: 4s - loss: 1.0706 - acc: 0.445 - ETA: 3s - loss: 1.0750 - acc: 0.441 - ETA: 3s - loss: 1.0759 - acc: 0.440 - ETA: 3s - loss: 1.0690 - acc: 0.454 - ETA: 3s - loss: 1.0687 - acc: 0.455 - ETA: 3s - loss: 1.0714 - acc: 0.449 - ETA: 3s - loss: 1.0745 - acc: 0.444 - ETA: 3s - loss: 1.0696 - acc: 0.454 - ETA: 3s - loss: 1.0715 - acc: 0.449 - ETA: 2s - loss: 1.0720 - acc: 0.447 - ETA: 2s - loss: 1.0716 - acc: 0.447 - ETA: 2s - loss: 1.0721 - acc: 0.446 - ETA: 2s - loss: 1.0732 - acc: 0.445 - ETA: 2s - loss: 1.0748 - acc: 0.441 - ETA: 2s - loss: 1.0743 - acc: 0.442 - ETA: 2s - loss: 1.0752 - acc: 0.440 - ETA: 2s - loss: 1.0745 - acc: 0.441 - ETA: 2s - loss: 1.0735 - acc: 0.443 - ETA: 2s - loss: 1.0719 - acc: 0.446 - ETA: 2s - loss: 1.0713 - acc: 0.447 - ETA: 2s - loss: 1.0714 - acc: 0.446 - ETA: 2s - loss: 1.0715 - acc: 0.446 - ETA: 2s - loss: 1.0729 - acc: 0.443 - ETA: 2s - loss: 1.0735 - acc: 0.442 - ETA: 2s - loss: 1.0727 - acc: 0.443 - ETA: 2s - loss: 1.0726 - acc: 0.444 - ETA: 2s - loss: 1.0714 - acc: 0.446 - ETA: 2s - loss: 1.0697 - acc: 0.449 - ETA: 2s - loss: 1.0683 - acc: 0.452 - ETA: 1s - loss: 1.0690 - acc: 0.450 - ETA: 1s - loss: 1.0676 - acc: 0.453 - ETA: 1s - loss: 1.0672 - acc: 0.453 - ETA: 1s - loss: 1.0661 - acc: 0.455 - ETA: 1s - loss: 1.0655 - acc: 0.457 - ETA: 1s - loss: 1.0657 - acc: 0.456 - ETA: 1s - loss: 1.0642 - acc: 0.459 - ETA: 1s - loss: 1.0634 - acc: 0.460 - ETA: 1s - loss: 1.0650 - acc: 0.457 - ETA: 1s - loss: 1.0650 - acc: 0.457 - ETA: 1s - loss: 1.0659 - acc: 0.455 - ETA: 1s - loss: 1.0652 - acc: 0.456 - ETA: 1s - loss: 1.0653 - acc: 0.456 - ETA: 1s - loss: 1.0654 - acc: 0.456 - ETA: 1s - loss: 1.0665 - acc: 0.454 - ETA: 0s - loss: 1.0664 - acc: 0.454 - ETA: 0s - loss: 1.0666 - acc: 0.453 - ETA: 0s - loss: 1.0654 - acc: 0.455 - ETA: 0s - loss: 1.0659 - acc: 0.454 - ETA: 0s - loss: 1.0653 - acc: 0.455 - ETA: 0s - loss: 1.0653 - acc: 0.455 - ETA: 0s - loss: 1.0651 - acc: 0.455 - ETA: 0s - loss: 1.0645 - acc: 0.456 - ETA: 0s - loss: 1.0645 - acc: 0.456 - ETA: 0s - loss: 1.0649 - acc: 0.455 - ETA: 0s - loss: 1.0640 - acc: 0.457 - ETA: 0s - loss: 1.0636 - acc: 0.458 - ETA: 0s - loss: 1.0636 - acc: 0.458 - ETA: 0s - loss: 1.0637 - acc: 0.457 - ETA: 0s - loss: 1.0637 - acc: 0.457 - ETA: 0s - loss: 1.0642 - acc: 0.456 - ETA: 0s - loss: 1.0645 - acc: 0.456 - ETA: 0s - loss: 1.0648 - acc: 0.456 - ETA: 0s - loss: 1.0646 - acc: 0.456 - ETA: 0s - loss: 1.0643 - acc: 0.457 - ETA: 0s - loss: 1.0646 - acc: 0.456 - 4s 572us/sample - loss: 1.0642 - acc: 0.4577 - val_loss: 1.0706 - val_acc: 0.4417\n",
      "Epoch 10/10\n",
      "7112/7112 [==============================] - ETA: 6s - loss: 1.2041 - acc: 0.200 - ETA: 3s - loss: 1.0876 - acc: 0.408 - ETA: 4s - loss: 1.0531 - acc: 0.476 - ETA: 6s - loss: 1.0546 - acc: 0.473 - ETA: 5s - loss: 1.0558 - acc: 0.472 - ETA: 5s - loss: 1.0640 - acc: 0.458 - ETA: 5s - loss: 1.0662 - acc: 0.454 - ETA: 5s - loss: 1.0635 - acc: 0.458 - ETA: 4s - loss: 1.0669 - acc: 0.450 - ETA: 4s - loss: 1.0677 - acc: 0.452 - ETA: 3s - loss: 1.0664 - acc: 0.455 - ETA: 3s - loss: 1.0597 - acc: 0.467 - ETA: 3s - loss: 1.0568 - acc: 0.471 - ETA: 3s - loss: 1.0567 - acc: 0.472 - ETA: 3s - loss: 1.0572 - acc: 0.471 - ETA: 3s - loss: 1.0584 - acc: 0.470 - ETA: 3s - loss: 1.0559 - acc: 0.473 - ETA: 2s - loss: 1.0560 - acc: 0.473 - ETA: 2s - loss: 1.0584 - acc: 0.468 - ETA: 2s - loss: 1.0587 - acc: 0.468 - ETA: 2s - loss: 1.0601 - acc: 0.466 - ETA: 2s - loss: 1.0608 - acc: 0.465 - ETA: 2s - loss: 1.0618 - acc: 0.463 - ETA: 2s - loss: 1.0598 - acc: 0.466 - ETA: 2s - loss: 1.0624 - acc: 0.463 - ETA: 2s - loss: 1.0616 - acc: 0.465 - ETA: 2s - loss: 1.0619 - acc: 0.464 - ETA: 2s - loss: 1.0619 - acc: 0.464 - ETA: 2s - loss: 1.0599 - acc: 0.467 - ETA: 2s - loss: 1.0600 - acc: 0.466 - ETA: 1s - loss: 1.0636 - acc: 0.460 - ETA: 1s - loss: 1.0631 - acc: 0.461 - ETA: 1s - loss: 1.0652 - acc: 0.457 - ETA: 1s - loss: 1.0632 - acc: 0.461 - ETA: 1s - loss: 1.0631 - acc: 0.461 - ETA: 1s - loss: 1.0636 - acc: 0.460 - ETA: 1s - loss: 1.0637 - acc: 0.460 - ETA: 1s - loss: 1.0641 - acc: 0.458 - ETA: 1s - loss: 1.0641 - acc: 0.459 - ETA: 1s - loss: 1.0642 - acc: 0.458 - ETA: 1s - loss: 1.0639 - acc: 0.459 - ETA: 1s - loss: 1.0637 - acc: 0.459 - ETA: 1s - loss: 1.0636 - acc: 0.459 - ETA: 1s - loss: 1.0634 - acc: 0.460 - ETA: 1s - loss: 1.0637 - acc: 0.459 - ETA: 1s - loss: 1.0644 - acc: 0.457 - ETA: 1s - loss: 1.0643 - acc: 0.458 - ETA: 1s - loss: 1.0639 - acc: 0.458 - ETA: 0s - loss: 1.0640 - acc: 0.458 - ETA: 0s - loss: 1.0642 - acc: 0.457 - ETA: 0s - loss: 1.0640 - acc: 0.457 - ETA: 0s - loss: 1.0638 - acc: 0.458 - ETA: 0s - loss: 1.0632 - acc: 0.459 - ETA: 0s - loss: 1.0632 - acc: 0.458 - ETA: 0s - loss: 1.0638 - acc: 0.458 - ETA: 0s - loss: 1.0637 - acc: 0.458 - ETA: 0s - loss: 1.0644 - acc: 0.456 - ETA: 0s - loss: 1.0646 - acc: 0.456 - ETA: 0s - loss: 1.0648 - acc: 0.456 - ETA: 0s - loss: 1.0641 - acc: 0.458 - ETA: 0s - loss: 1.0646 - acc: 0.457 - ETA: 0s - loss: 1.0641 - acc: 0.458 - ETA: 0s - loss: 1.0643 - acc: 0.458 - ETA: 0s - loss: 1.0642 - acc: 0.458 - ETA: 0s - loss: 1.0642 - acc: 0.458 - ETA: 0s - loss: 1.0637 - acc: 0.458 - 4s 544us/sample - loss: 1.0643 - acc: 0.4577 - val_loss: 1.0706 - val_acc: 0.4417\n"
     ]
    },
    {
     "data": {
      "text/html": [
       "<span style=\"color:#4527A0\"><h1 style=\"font-size:18px\">Trial complete</h1></span>"
      ],
      "text/plain": [
       "<IPython.core.display.HTML object>"
      ]
     },
     "metadata": {},
     "output_type": "display_data"
    },
    {
     "data": {
      "text/html": [
       "<span style=\"color:#4527A0\"><h1 style=\"font-size:18px\">Trial summary</h1></span>"
      ],
      "text/plain": [
       "<IPython.core.display.HTML object>"
      ]
     },
     "metadata": {},
     "output_type": "display_data"
    },
    {
     "data": {
      "text/html": [
       "<span style=\"color:cyan\"> |-Trial ID: 9683e10508fa6e3ffb0bc4999cf35f08</span>"
      ],
      "text/plain": [
       "<IPython.core.display.HTML object>"
      ]
     },
     "metadata": {},
     "output_type": "display_data"
    },
    {
     "data": {
      "text/html": [
       "<span style=\"color:cyan\"> |-Score: 0.4416809678077698</span>"
      ],
      "text/plain": [
       "<IPython.core.display.HTML object>"
      ]
     },
     "metadata": {},
     "output_type": "display_data"
    },
    {
     "data": {
      "text/html": [
       "<span style=\"color:cyan\"> |-Best step: 0</span>"
      ],
      "text/plain": [
       "<IPython.core.display.HTML object>"
      ]
     },
     "metadata": {},
     "output_type": "display_data"
    },
    {
     "data": {
      "text/html": [
       "<span style=\"color:#7E57C2\"><h2 style=\"font-size:16px\">Hyperparameters:</h2></span>"
      ],
      "text/plain": [
       "<IPython.core.display.HTML object>"
      ]
     },
     "metadata": {},
     "output_type": "display_data"
    },
    {
     "data": {
      "text/html": [
       "<span style=\"color:cyan\"> |-layer_0_neurons: 170</span>"
      ],
      "text/plain": [
       "<IPython.core.display.HTML object>"
      ]
     },
     "metadata": {},
     "output_type": "display_data"
    },
    {
     "data": {
      "text/html": [
       "<span style=\"color:blue\"> |-layer_1_neurons: 170</span>"
      ],
      "text/plain": [
       "<IPython.core.display.HTML object>"
      ]
     },
     "metadata": {},
     "output_type": "display_data"
    },
    {
     "data": {
      "text/html": [
       "<span style=\"color:cyan\"> |-layer_2_neurons: 10</span>"
      ],
      "text/plain": [
       "<IPython.core.display.HTML object>"
      ]
     },
     "metadata": {},
     "output_type": "display_data"
    },
    {
     "data": {
      "text/html": [
       "<span style=\"color:blue\"> |-layer_3_neurons: 130</span>"
      ],
      "text/plain": [
       "<IPython.core.display.HTML object>"
      ]
     },
     "metadata": {},
     "output_type": "display_data"
    },
    {
     "data": {
      "text/html": [
       "<span style=\"color:cyan\"> |-n_input_neurons: 10</span>"
      ],
      "text/plain": [
       "<IPython.core.display.HTML object>"
      ]
     },
     "metadata": {},
     "output_type": "display_data"
    },
    {
     "data": {
      "text/html": [
       "<span style=\"color:blue\"> |-n_layers: 3</span>"
      ],
      "text/plain": [
       "<IPython.core.display.HTML object>"
      ]
     },
     "metadata": {},
     "output_type": "display_data"
    },
    {
     "name": "stdout",
     "output_type": "stream",
     "text": [
      "Train on 7112 samples, validate on 2332 samples\n",
      "Epoch 1/10\n",
      "7112/7112 [==============================] - ETA: 6:43 - loss: 2.2920 - acc: 0.100 - ETA: 21s - loss: 1.1894 - acc: 0.400 - ETA: 11s - loss: 1.2091 - acc: 0.40 - ETA: 7s - loss: 1.1856 - acc: 0.4034 - ETA: 6s - loss: 1.1453 - acc: 0.429 - ETA: 5s - loss: 1.1178 - acc: 0.452 - ETA: 4s - loss: 1.1010 - acc: 0.470 - ETA: 3s - loss: 1.0882 - acc: 0.477 - ETA: 3s - loss: 1.0834 - acc: 0.477 - ETA: 3s - loss: 1.0734 - acc: 0.483 - ETA: 2s - loss: 1.0705 - acc: 0.482 - ETA: 2s - loss: 1.0748 - acc: 0.484 - ETA: 2s - loss: 1.0650 - acc: 0.492 - ETA: 2s - loss: 1.0620 - acc: 0.489 - ETA: 2s - loss: 1.0601 - acc: 0.493 - ETA: 2s - loss: 1.0599 - acc: 0.491 - ETA: 1s - loss: 1.0554 - acc: 0.492 - ETA: 1s - loss: 1.0513 - acc: 0.493 - ETA: 1s - loss: 1.0470 - acc: 0.494 - ETA: 1s - loss: 1.0473 - acc: 0.493 - ETA: 1s - loss: 1.0460 - acc: 0.493 - ETA: 1s - loss: 1.0457 - acc: 0.492 - ETA: 1s - loss: 1.0442 - acc: 0.493 - ETA: 1s - loss: 1.0448 - acc: 0.493 - ETA: 1s - loss: 1.0435 - acc: 0.494 - ETA: 1s - loss: 1.0414 - acc: 0.494 - ETA: 1s - loss: 1.0403 - acc: 0.494 - ETA: 1s - loss: 1.0407 - acc: 0.493 - ETA: 1s - loss: 1.0400 - acc: 0.494 - ETA: 0s - loss: 1.0394 - acc: 0.494 - ETA: 0s - loss: 1.0386 - acc: 0.494 - ETA: 0s - loss: 1.0357 - acc: 0.497 - ETA: 0s - loss: 1.0338 - acc: 0.499 - ETA: 0s - loss: 1.0343 - acc: 0.498 - ETA: 0s - loss: 1.0326 - acc: 0.499 - ETA: 0s - loss: 1.0319 - acc: 0.499 - ETA: 0s - loss: 1.0330 - acc: 0.497 - ETA: 0s - loss: 1.0312 - acc: 0.499 - ETA: 0s - loss: 1.0302 - acc: 0.500 - ETA: 0s - loss: 1.0310 - acc: 0.500 - ETA: 0s - loss: 1.0309 - acc: 0.501 - ETA: 0s - loss: 1.0302 - acc: 0.501 - ETA: 0s - loss: 1.0300 - acc: 0.502 - ETA: 0s - loss: 1.0301 - acc: 0.502 - ETA: 0s - loss: 1.0282 - acc: 0.504 - ETA: 0s - loss: 1.0282 - acc: 0.504 - ETA: 0s - loss: 1.0268 - acc: 0.505 - ETA: 0s - loss: 1.0263 - acc: 0.505 - 4s 580us/sample - loss: 1.0262 - acc: 0.5051 - val_loss: 0.9843 - val_acc: 0.5292\n",
      "Epoch 2/10\n",
      "7112/7112 [==============================] - ETA: 3s - loss: 0.8359 - acc: 0.700 - ETA: 1s - loss: 0.9770 - acc: 0.523 - ETA: 1s - loss: 0.9826 - acc: 0.500 - ETA: 1s - loss: 1.0128 - acc: 0.493 - ETA: 1s - loss: 1.0190 - acc: 0.488 - ETA: 1s - loss: 1.0135 - acc: 0.496 - ETA: 1s - loss: 1.0106 - acc: 0.504 - ETA: 1s - loss: 1.0166 - acc: 0.499 - ETA: 1s - loss: 1.0132 - acc: 0.499 - ETA: 1s - loss: 1.0103 - acc: 0.502 - ETA: 1s - loss: 1.0089 - acc: 0.504 - ETA: 1s - loss: 1.0055 - acc: 0.509 - ETA: 1s - loss: 1.0010 - acc: 0.511 - ETA: 1s - loss: 0.9983 - acc: 0.514 - ETA: 1s - loss: 0.9931 - acc: 0.519 - ETA: 1s - loss: 0.9947 - acc: 0.516 - ETA: 1s - loss: 0.9945 - acc: 0.517 - ETA: 1s - loss: 0.9965 - acc: 0.516 - ETA: 1s - loss: 0.9937 - acc: 0.518 - ETA: 1s - loss: 0.9976 - acc: 0.517 - ETA: 1s - loss: 0.9981 - acc: 0.516 - ETA: 1s - loss: 1.0010 - acc: 0.515 - ETA: 1s - loss: 1.0009 - acc: 0.515 - ETA: 0s - loss: 1.0007 - acc: 0.515 - ETA: 0s - loss: 1.0011 - acc: 0.515 - ETA: 0s - loss: 0.9993 - acc: 0.518 - ETA: 0s - loss: 1.0005 - acc: 0.518 - ETA: 0s - loss: 0.9985 - acc: 0.519 - ETA: 0s - loss: 0.9998 - acc: 0.518 - ETA: 0s - loss: 0.9998 - acc: 0.518 - ETA: 0s - loss: 0.9995 - acc: 0.518 - ETA: 0s - loss: 1.0002 - acc: 0.517 - ETA: 0s - loss: 0.9998 - acc: 0.518 - ETA: 0s - loss: 1.0016 - acc: 0.518 - ETA: 0s - loss: 1.0007 - acc: 0.518 - ETA: 0s - loss: 0.9982 - acc: 0.520 - ETA: 0s - loss: 0.9965 - acc: 0.521 - ETA: 0s - loss: 0.9981 - acc: 0.519 - ETA: 0s - loss: 0.9977 - acc: 0.520 - ETA: 0s - loss: 0.9983 - acc: 0.518 - ETA: 0s - loss: 0.9990 - acc: 0.517 - ETA: 0s - loss: 0.9993 - acc: 0.517 - ETA: 0s - loss: 0.9989 - acc: 0.517 - ETA: 0s - loss: 0.9979 - acc: 0.518 - 3s 379us/sample - loss: 0.9983 - acc: 0.5177 - val_loss: 0.9793 - val_acc: 0.5287\n",
      "Epoch 3/10\n",
      "7112/7112 [==============================] - ETA: 6s - loss: 1.0101 - acc: 0.600 - ETA: 2s - loss: 0.8952 - acc: 0.621 - ETA: 2s - loss: 0.9457 - acc: 0.569 - ETA: 2s - loss: 0.9368 - acc: 0.577 - ETA: 2s - loss: 0.9545 - acc: 0.560 - ETA: 2s - loss: 0.9563 - acc: 0.543 - ETA: 1s - loss: 0.9650 - acc: 0.538 - ETA: 1s - loss: 0.9720 - acc: 0.537 - ETA: 1s - loss: 0.9757 - acc: 0.532 - ETA: 1s - loss: 0.9702 - acc: 0.540 - ETA: 1s - loss: 0.9723 - acc: 0.541 - ETA: 1s - loss: 0.9676 - acc: 0.545 - ETA: 1s - loss: 0.9670 - acc: 0.548 - ETA: 1s - loss: 0.9685 - acc: 0.547 - ETA: 1s - loss: 0.9741 - acc: 0.542 - ETA: 1s - loss: 0.9761 - acc: 0.540 - ETA: 1s - loss: 0.9745 - acc: 0.542 - ETA: 1s - loss: 0.9763 - acc: 0.540 - ETA: 1s - loss: 0.9790 - acc: 0.536 - ETA: 1s - loss: 0.9795 - acc: 0.534 - ETA: 1s - loss: 0.9797 - acc: 0.532 - ETA: 1s - loss: 0.9806 - acc: 0.529 - ETA: 1s - loss: 0.9830 - acc: 0.525 - ETA: 1s - loss: 0.9835 - acc: 0.523 - ETA: 1s - loss: 0.9836 - acc: 0.520 - ETA: 1s - loss: 0.9845 - acc: 0.521 - ETA: 1s - loss: 0.9846 - acc: 0.523 - ETA: 1s - loss: 0.9861 - acc: 0.520 - ETA: 1s - loss: 0.9871 - acc: 0.520 - ETA: 0s - loss: 0.9888 - acc: 0.520 - ETA: 0s - loss: 0.9906 - acc: 0.518 - ETA: 0s - loss: 0.9902 - acc: 0.518 - ETA: 0s - loss: 0.9895 - acc: 0.519 - ETA: 0s - loss: 0.9896 - acc: 0.519 - ETA: 0s - loss: 0.9872 - acc: 0.521 - ETA: 0s - loss: 0.9876 - acc: 0.520 - ETA: 0s - loss: 0.9891 - acc: 0.519 - ETA: 0s - loss: 0.9891 - acc: 0.519 - ETA: 0s - loss: 0.9895 - acc: 0.518 - ETA: 0s - loss: 0.9893 - acc: 0.519 - ETA: 0s - loss: 0.9897 - acc: 0.519 - ETA: 0s - loss: 0.9897 - acc: 0.519 - ETA: 0s - loss: 0.9887 - acc: 0.520 - ETA: 0s - loss: 0.9885 - acc: 0.520 - ETA: 0s - loss: 0.9887 - acc: 0.521 - ETA: 0s - loss: 0.9892 - acc: 0.521 - ETA: 0s - loss: 0.9904 - acc: 0.519 - ETA: 0s - loss: 0.9903 - acc: 0.520 - ETA: 0s - loss: 0.9906 - acc: 0.520 - 3s 428us/sample - loss: 0.9902 - acc: 0.5222 - val_loss: 0.9899 - val_acc: 0.5249\n",
      "Epoch 4/10\n",
      "7112/7112 [==============================] - ETA: 5s - loss: 0.7363 - acc: 0.800 - ETA: 3s - loss: 1.0549 - acc: 0.476 - ETA: 2s - loss: 1.0341 - acc: 0.500 - ETA: 2s - loss: 1.0103 - acc: 0.515 - ETA: 2s - loss: 0.9881 - acc: 0.524 - ETA: 2s - loss: 0.9912 - acc: 0.521 - ETA: 2s - loss: 0.9944 - acc: 0.521 - ETA: 2s - loss: 0.9921 - acc: 0.520 - ETA: 2s - loss: 0.9932 - acc: 0.522 - ETA: 2s - loss: 0.9890 - acc: 0.527 - ETA: 2s - loss: 0.9910 - acc: 0.526 - ETA: 2s - loss: 0.9942 - acc: 0.523 - ETA: 2s - loss: 0.9938 - acc: 0.519 - ETA: 2s - loss: 0.9963 - acc: 0.515 - ETA: 2s - loss: 0.9915 - acc: 0.521 - ETA: 2s - loss: 0.9928 - acc: 0.519 - ETA: 2s - loss: 0.9898 - acc: 0.521 - ETA: 1s - loss: 0.9904 - acc: 0.519 - ETA: 1s - loss: 0.9899 - acc: 0.522 - ETA: 1s - loss: 0.9870 - acc: 0.523 - ETA: 1s - loss: 0.9876 - acc: 0.522 - ETA: 1s - loss: 0.9915 - acc: 0.520 - ETA: 1s - loss: 0.9946 - acc: 0.516 - ETA: 1s - loss: 0.9935 - acc: 0.518 - ETA: 1s - loss: 0.9953 - acc: 0.516 - ETA: 1s - loss: 0.9940 - acc: 0.519 - ETA: 1s - loss: 0.9939 - acc: 0.519 - ETA: 1s - loss: 0.9946 - acc: 0.518 - ETA: 1s - loss: 0.9937 - acc: 0.518 - ETA: 1s - loss: 0.9947 - acc: 0.516 - ETA: 0s - loss: 0.9942 - acc: 0.517 - ETA: 0s - loss: 0.9949 - acc: 0.516 - ETA: 0s - loss: 0.9940 - acc: 0.517 - ETA: 0s - loss: 0.9944 - acc: 0.517 - ETA: 0s - loss: 0.9950 - acc: 0.517 - ETA: 0s - loss: 0.9942 - acc: 0.517 - ETA: 0s - loss: 0.9935 - acc: 0.518 - ETA: 0s - loss: 0.9936 - acc: 0.518 - ETA: 0s - loss: 0.9952 - acc: 0.517 - ETA: 0s - loss: 0.9958 - acc: 0.516 - ETA: 0s - loss: 0.9958 - acc: 0.516 - ETA: 0s - loss: 0.9954 - acc: 0.516 - ETA: 0s - loss: 0.9967 - acc: 0.515 - ETA: 0s - loss: 0.9973 - acc: 0.515 - ETA: 0s - loss: 0.9948 - acc: 0.518 - ETA: 0s - loss: 0.9929 - acc: 0.520 - ETA: 0s - loss: 0.9927 - acc: 0.520 - ETA: 0s - loss: 0.9919 - acc: 0.520 - ETA: 0s - loss: 0.9902 - acc: 0.522 - 3s 418us/sample - loss: 0.9912 - acc: 0.5226 - val_loss: 0.9779 - val_acc: 0.5343\n",
      "Epoch 5/10\n"
     ]
    },
    {
     "name": "stdout",
     "output_type": "stream",
     "text": [
      "7112/7112 [==============================] - ETA: 5s - loss: 0.8895 - acc: 0.600 - ETA: 2s - loss: 1.0135 - acc: 0.500 - ETA: 1s - loss: 0.9784 - acc: 0.526 - ETA: 1s - loss: 0.9922 - acc: 0.519 - ETA: 1s - loss: 0.9893 - acc: 0.522 - ETA: 1s - loss: 0.9921 - acc: 0.518 - ETA: 1s - loss: 0.9926 - acc: 0.520 - ETA: 1s - loss: 0.9920 - acc: 0.519 - ETA: 1s - loss: 0.9921 - acc: 0.518 - ETA: 1s - loss: 0.9910 - acc: 0.523 - ETA: 1s - loss: 0.9897 - acc: 0.520 - ETA: 1s - loss: 0.9873 - acc: 0.522 - ETA: 1s - loss: 0.9828 - acc: 0.526 - ETA: 1s - loss: 0.9799 - acc: 0.527 - ETA: 1s - loss: 0.9805 - acc: 0.528 - ETA: 1s - loss: 0.9805 - acc: 0.529 - ETA: 1s - loss: 0.9836 - acc: 0.526 - ETA: 1s - loss: 0.9844 - acc: 0.524 - ETA: 1s - loss: 0.9843 - acc: 0.523 - ETA: 1s - loss: 0.9831 - acc: 0.522 - ETA: 1s - loss: 0.9832 - acc: 0.523 - ETA: 1s - loss: 0.9834 - acc: 0.522 - ETA: 1s - loss: 0.9847 - acc: 0.520 - ETA: 0s - loss: 0.9860 - acc: 0.520 - ETA: 0s - loss: 0.9871 - acc: 0.520 - ETA: 0s - loss: 0.9895 - acc: 0.518 - ETA: 0s - loss: 0.9896 - acc: 0.519 - ETA: 0s - loss: 0.9907 - acc: 0.519 - ETA: 0s - loss: 0.9893 - acc: 0.520 - ETA: 0s - loss: 0.9913 - acc: 0.519 - ETA: 0s - loss: 0.9905 - acc: 0.519 - ETA: 0s - loss: 0.9903 - acc: 0.519 - ETA: 0s - loss: 0.9902 - acc: 0.520 - ETA: 0s - loss: 0.9888 - acc: 0.520 - ETA: 0s - loss: 0.9883 - acc: 0.521 - ETA: 0s - loss: 0.9891 - acc: 0.521 - ETA: 0s - loss: 0.9881 - acc: 0.521 - ETA: 0s - loss: 0.9887 - acc: 0.521 - ETA: 0s - loss: 0.9876 - acc: 0.523 - ETA: 0s - loss: 0.9880 - acc: 0.523 - ETA: 0s - loss: 0.9882 - acc: 0.523 - ETA: 0s - loss: 0.9871 - acc: 0.524 - ETA: 0s - loss: 0.9870 - acc: 0.524 - 3s 369us/sample - loss: 0.9870 - acc: 0.5247 - val_loss: 0.9715 - val_acc: 0.5300\n",
      "Epoch 6/10\n",
      "7112/7112 [==============================] - ETA: 4s - loss: 1.0853 - acc: 0.500 - ETA: 2s - loss: 0.9780 - acc: 0.529 - ETA: 3s - loss: 0.9655 - acc: 0.528 - ETA: 4s - loss: 0.9723 - acc: 0.523 - ETA: 5s - loss: 0.9823 - acc: 0.514 - ETA: 4s - loss: 0.9702 - acc: 0.516 - ETA: 3s - loss: 0.9817 - acc: 0.517 - ETA: 3s - loss: 0.9844 - acc: 0.515 - ETA: 3s - loss: 0.9870 - acc: 0.517 - ETA: 3s - loss: 0.9873 - acc: 0.515 - ETA: 3s - loss: 0.9838 - acc: 0.516 - ETA: 2s - loss: 0.9827 - acc: 0.523 - ETA: 2s - loss: 0.9779 - acc: 0.529 - ETA: 2s - loss: 0.9730 - acc: 0.534 - ETA: 2s - loss: 0.9813 - acc: 0.527 - ETA: 2s - loss: 0.9759 - acc: 0.532 - ETA: 2s - loss: 0.9822 - acc: 0.526 - ETA: 2s - loss: 0.9863 - acc: 0.523 - ETA: 2s - loss: 0.9867 - acc: 0.523 - ETA: 2s - loss: 0.9873 - acc: 0.522 - ETA: 2s - loss: 0.9896 - acc: 0.519 - ETA: 2s - loss: 0.9904 - acc: 0.520 - ETA: 2s - loss: 0.9883 - acc: 0.519 - ETA: 1s - loss: 0.9886 - acc: 0.521 - ETA: 1s - loss: 0.9861 - acc: 0.522 - ETA: 1s - loss: 0.9905 - acc: 0.518 - ETA: 1s - loss: 0.9903 - acc: 0.520 - ETA: 1s - loss: 0.9938 - acc: 0.517 - ETA: 1s - loss: 0.9945 - acc: 0.516 - ETA: 1s - loss: 0.9946 - acc: 0.516 - ETA: 1s - loss: 0.9942 - acc: 0.515 - ETA: 1s - loss: 0.9942 - acc: 0.515 - ETA: 1s - loss: 0.9913 - acc: 0.518 - ETA: 0s - loss: 0.9890 - acc: 0.519 - ETA: 0s - loss: 0.9900 - acc: 0.520 - ETA: 0s - loss: 0.9908 - acc: 0.519 - ETA: 0s - loss: 0.9885 - acc: 0.521 - ETA: 0s - loss: 0.9865 - acc: 0.524 - ETA: 0s - loss: 0.9858 - acc: 0.525 - ETA: 0s - loss: 0.9859 - acc: 0.525 - ETA: 0s - loss: 0.9858 - acc: 0.526 - ETA: 0s - loss: 0.9861 - acc: 0.526 - ETA: 0s - loss: 0.9858 - acc: 0.526 - ETA: 0s - loss: 0.9852 - acc: 0.527 - ETA: 0s - loss: 0.9848 - acc: 0.528 - ETA: 0s - loss: 0.9858 - acc: 0.528 - ETA: 0s - loss: 0.9853 - acc: 0.528 - ETA: 0s - loss: 0.9852 - acc: 0.528 - ETA: 0s - loss: 0.9852 - acc: 0.528 - ETA: 0s - loss: 0.9862 - acc: 0.528 - ETA: 0s - loss: 0.9870 - acc: 0.527 - ETA: 0s - loss: 0.9870 - acc: 0.527 - ETA: 0s - loss: 0.9873 - acc: 0.526 - ETA: 0s - loss: 0.9874 - acc: 0.525 - 3s 467us/sample - loss: 0.9872 - acc: 0.5254 - val_loss: 0.9778 - val_acc: 0.5300\n",
      "Epoch 7/10\n",
      "7112/7112 [==============================] - ETA: 4s - loss: 0.9147 - acc: 0.600 - ETA: 2s - loss: 0.9437 - acc: 0.576 - ETA: 2s - loss: 0.9243 - acc: 0.571 - ETA: 2s - loss: 0.9417 - acc: 0.548 - ETA: 2s - loss: 0.9538 - acc: 0.539 - ETA: 2s - loss: 0.9543 - acc: 0.542 - ETA: 2s - loss: 0.9707 - acc: 0.528 - ETA: 2s - loss: 0.9724 - acc: 0.527 - ETA: 2s - loss: 0.9788 - acc: 0.522 - ETA: 2s - loss: 0.9754 - acc: 0.522 - ETA: 2s - loss: 0.9758 - acc: 0.524 - ETA: 2s - loss: 0.9790 - acc: 0.523 - ETA: 2s - loss: 0.9844 - acc: 0.518 - ETA: 2s - loss: 0.9853 - acc: 0.519 - ETA: 2s - loss: 0.9840 - acc: 0.521 - ETA: 2s - loss: 0.9826 - acc: 0.523 - ETA: 2s - loss: 0.9773 - acc: 0.527 - ETA: 2s - loss: 0.9791 - acc: 0.528 - ETA: 2s - loss: 0.9802 - acc: 0.525 - ETA: 2s - loss: 0.9812 - acc: 0.522 - ETA: 2s - loss: 0.9822 - acc: 0.522 - ETA: 2s - loss: 0.9839 - acc: 0.519 - ETA: 2s - loss: 0.9823 - acc: 0.522 - ETA: 2s - loss: 0.9837 - acc: 0.520 - ETA: 2s - loss: 0.9826 - acc: 0.523 - ETA: 2s - loss: 0.9826 - acc: 0.523 - ETA: 2s - loss: 0.9834 - acc: 0.524 - ETA: 2s - loss: 0.9847 - acc: 0.522 - ETA: 2s - loss: 0.9840 - acc: 0.522 - ETA: 2s - loss: 0.9837 - acc: 0.522 - ETA: 2s - loss: 0.9847 - acc: 0.522 - ETA: 2s - loss: 0.9853 - acc: 0.520 - ETA: 2s - loss: 0.9849 - acc: 0.521 - ETA: 1s - loss: 0.9841 - acc: 0.521 - ETA: 1s - loss: 0.9863 - acc: 0.519 - ETA: 1s - loss: 0.9881 - acc: 0.517 - ETA: 1s - loss: 0.9885 - acc: 0.517 - ETA: 1s - loss: 0.9887 - acc: 0.517 - ETA: 1s - loss: 0.9882 - acc: 0.518 - ETA: 1s - loss: 0.9886 - acc: 0.518 - ETA: 1s - loss: 0.9891 - acc: 0.516 - ETA: 1s - loss: 0.9892 - acc: 0.517 - ETA: 1s - loss: 0.9893 - acc: 0.517 - ETA: 1s - loss: 0.9898 - acc: 0.516 - ETA: 1s - loss: 0.9890 - acc: 0.516 - ETA: 1s - loss: 0.9901 - acc: 0.515 - ETA: 1s - loss: 0.9910 - acc: 0.515 - ETA: 1s - loss: 0.9907 - acc: 0.516 - ETA: 1s - loss: 0.9907 - acc: 0.516 - ETA: 1s - loss: 0.9911 - acc: 0.516 - ETA: 1s - loss: 0.9909 - acc: 0.516 - ETA: 1s - loss: 0.9928 - acc: 0.514 - ETA: 1s - loss: 0.9927 - acc: 0.516 - ETA: 1s - loss: 0.9919 - acc: 0.517 - ETA: 1s - loss: 0.9915 - acc: 0.517 - ETA: 1s - loss: 0.9914 - acc: 0.517 - ETA: 1s - loss: 0.9915 - acc: 0.517 - ETA: 1s - loss: 0.9918 - acc: 0.517 - ETA: 1s - loss: 0.9915 - acc: 0.518 - ETA: 1s - loss: 0.9919 - acc: 0.517 - ETA: 1s - loss: 0.9927 - acc: 0.516 - ETA: 1s - loss: 0.9930 - acc: 0.516 - ETA: 1s - loss: 0.9934 - acc: 0.515 - ETA: 1s - loss: 0.9935 - acc: 0.515 - ETA: 1s - loss: 0.9928 - acc: 0.516 - ETA: 1s - loss: 0.9922 - acc: 0.517 - ETA: 1s - loss: 0.9925 - acc: 0.517 - ETA: 1s - loss: 0.9929 - acc: 0.516 - ETA: 1s - loss: 0.9927 - acc: 0.516 - ETA: 1s - loss: 0.9928 - acc: 0.516 - ETA: 1s - loss: 0.9929 - acc: 0.516 - ETA: 1s - loss: 0.9929 - acc: 0.516 - ETA: 1s - loss: 0.9927 - acc: 0.516 - ETA: 1s - loss: 0.9924 - acc: 0.516 - ETA: 1s - loss: 0.9920 - acc: 0.517 - ETA: 0s - loss: 0.9917 - acc: 0.517 - ETA: 0s - loss: 0.9920 - acc: 0.517 - ETA: 0s - loss: 0.9907 - acc: 0.518 - ETA: 0s - loss: 0.9905 - acc: 0.518 - ETA: 0s - loss: 0.9898 - acc: 0.519 - ETA: 0s - loss: 0.9888 - acc: 0.520 - ETA: 0s - loss: 0.9858 - acc: 0.522 - ETA: 0s - loss: 0.9872 - acc: 0.522 - ETA: 0s - loss: 0.9892 - acc: 0.521 - ETA: 0s - loss: 0.9888 - acc: 0.521 - ETA: 0s - loss: 0.9886 - acc: 0.521 - ETA: 0s - loss: 0.9887 - acc: 0.521 - ETA: 0s - loss: 0.9889 - acc: 0.521 - ETA: 0s - loss: 0.9889 - acc: 0.521 - ETA: 0s - loss: 0.9883 - acc: 0.523 - ETA: 0s - loss: 0.9893 - acc: 0.522 - ETA: 0s - loss: 0.9885 - acc: 0.523 - ETA: 0s - loss: 0.9880 - acc: 0.523 - ETA: 0s - loss: 0.9877 - acc: 0.524 - ETA: 0s - loss: 0.9877 - acc: 0.524 - ETA: 0s - loss: 0.9882 - acc: 0.523 - ETA: 0s - loss: 0.9878 - acc: 0.524 - ETA: 0s - loss: 0.9882 - acc: 0.524 - ETA: 0s - loss: 0.9873 - acc: 0.524 - 6s 849us/sample - loss: 0.9866 - acc: 0.5253 - val_loss: 0.9765 - val_acc: 0.5317\n",
      "Epoch 8/10\n"
     ]
    },
    {
     "name": "stdout",
     "output_type": "stream",
     "text": [
      "7112/7112 [==============================] - ETA: 4s - loss: 0.9435 - acc: 0.500 - ETA: 5s - loss: 0.9348 - acc: 0.537 - ETA: 4s - loss: 0.9357 - acc: 0.544 - ETA: 4s - loss: 0.9648 - acc: 0.522 - ETA: 3s - loss: 0.9611 - acc: 0.534 - ETA: 3s - loss: 0.9603 - acc: 0.532 - ETA: 3s - loss: 0.9623 - acc: 0.536 - ETA: 3s - loss: 0.9609 - acc: 0.540 - ETA: 4s - loss: 0.9626 - acc: 0.542 - ETA: 4s - loss: 0.9616 - acc: 0.543 - ETA: 3s - loss: 0.9747 - acc: 0.532 - ETA: 3s - loss: 0.9732 - acc: 0.539 - ETA: 3s - loss: 0.9806 - acc: 0.531 - ETA: 3s - loss: 0.9805 - acc: 0.531 - ETA: 3s - loss: 0.9782 - acc: 0.532 - ETA: 3s - loss: 0.9793 - acc: 0.532 - ETA: 3s - loss: 0.9816 - acc: 0.530 - ETA: 3s - loss: 0.9805 - acc: 0.532 - ETA: 3s - loss: 0.9837 - acc: 0.528 - ETA: 3s - loss: 0.9831 - acc: 0.530 - ETA: 2s - loss: 0.9860 - acc: 0.527 - ETA: 2s - loss: 0.9864 - acc: 0.527 - ETA: 2s - loss: 0.9850 - acc: 0.528 - ETA: 2s - loss: 0.9860 - acc: 0.528 - ETA: 2s - loss: 0.9869 - acc: 0.527 - ETA: 2s - loss: 0.9860 - acc: 0.527 - ETA: 2s - loss: 0.9845 - acc: 0.528 - ETA: 2s - loss: 0.9832 - acc: 0.530 - ETA: 2s - loss: 0.9826 - acc: 0.532 - ETA: 2s - loss: 0.9813 - acc: 0.533 - ETA: 2s - loss: 0.9846 - acc: 0.531 - ETA: 2s - loss: 0.9801 - acc: 0.533 - ETA: 2s - loss: 0.9802 - acc: 0.532 - ETA: 2s - loss: 0.9801 - acc: 0.532 - ETA: 2s - loss: 0.9806 - acc: 0.531 - ETA: 1s - loss: 0.9810 - acc: 0.532 - ETA: 1s - loss: 0.9813 - acc: 0.531 - ETA: 1s - loss: 0.9837 - acc: 0.529 - ETA: 1s - loss: 0.9834 - acc: 0.531 - ETA: 1s - loss: 0.9859 - acc: 0.528 - ETA: 1s - loss: 0.9837 - acc: 0.530 - ETA: 1s - loss: 0.9847 - acc: 0.530 - ETA: 1s - loss: 0.9824 - acc: 0.531 - ETA: 1s - loss: 0.9795 - acc: 0.534 - ETA: 1s - loss: 0.9810 - acc: 0.533 - ETA: 1s - loss: 0.9828 - acc: 0.531 - ETA: 1s - loss: 0.9823 - acc: 0.532 - ETA: 1s - loss: 0.9811 - acc: 0.534 - ETA: 0s - loss: 0.9815 - acc: 0.533 - ETA: 0s - loss: 0.9825 - acc: 0.532 - ETA: 0s - loss: 0.9841 - acc: 0.530 - ETA: 0s - loss: 0.9851 - acc: 0.529 - ETA: 0s - loss: 0.9855 - acc: 0.528 - ETA: 0s - loss: 0.9859 - acc: 0.527 - ETA: 0s - loss: 0.9855 - acc: 0.527 - ETA: 0s - loss: 0.9865 - acc: 0.526 - ETA: 0s - loss: 0.9868 - acc: 0.526 - ETA: 0s - loss: 0.9870 - acc: 0.526 - ETA: 0s - loss: 0.9867 - acc: 0.526 - ETA: 0s - loss: 0.9857 - acc: 0.527 - ETA: 0s - loss: 0.9854 - acc: 0.527 - ETA: 0s - loss: 0.9865 - acc: 0.526 - ETA: 0s - loss: 0.9867 - acc: 0.526 - ETA: 0s - loss: 0.9868 - acc: 0.526 - ETA: 0s - loss: 0.9870 - acc: 0.526 - ETA: 0s - loss: 0.9868 - acc: 0.526 - ETA: 0s - loss: 0.9868 - acc: 0.526 - ETA: 0s - loss: 0.9869 - acc: 0.526 - ETA: 0s - loss: 0.9863 - acc: 0.526 - ETA: 0s - loss: 0.9863 - acc: 0.526 - ETA: 0s - loss: 0.9861 - acc: 0.526 - ETA: 0s - loss: 0.9852 - acc: 0.527 - 4s 592us/sample - loss: 0.9848 - acc: 0.5278 - val_loss: 0.9762 - val_acc: 0.5322\n",
      "Epoch 9/10\n",
      "7112/7112 [==============================] - ETA: 20s - loss: 1.2770 - acc: 0.40 - ETA: 5s - loss: 0.9960 - acc: 0.5400 - ETA: 3s - loss: 0.9897 - acc: 0.534 - ETA: 3s - loss: 0.9947 - acc: 0.508 - ETA: 3s - loss: 0.9899 - acc: 0.518 - ETA: 3s - loss: 0.9887 - acc: 0.516 - ETA: 4s - loss: 0.9928 - acc: 0.515 - ETA: 4s - loss: 0.9884 - acc: 0.519 - ETA: 4s - loss: 0.9868 - acc: 0.526 - ETA: 4s - loss: 0.9852 - acc: 0.528 - ETA: 4s - loss: 0.9869 - acc: 0.525 - ETA: 5s - loss: 0.9884 - acc: 0.524 - ETA: 5s - loss: 0.9872 - acc: 0.524 - ETA: 5s - loss: 0.9871 - acc: 0.524 - ETA: 5s - loss: 0.9860 - acc: 0.522 - ETA: 5s - loss: 0.9863 - acc: 0.522 - ETA: 5s - loss: 0.9861 - acc: 0.526 - ETA: 5s - loss: 0.9869 - acc: 0.525 - ETA: 5s - loss: 0.9832 - acc: 0.529 - ETA: 4s - loss: 0.9828 - acc: 0.530 - ETA: 4s - loss: 0.9882 - acc: 0.525 - ETA: 4s - loss: 0.9907 - acc: 0.521 - ETA: 4s - loss: 0.9905 - acc: 0.522 - ETA: 4s - loss: 0.9916 - acc: 0.522 - ETA: 4s - loss: 0.9925 - acc: 0.521 - ETA: 4s - loss: 0.9910 - acc: 0.524 - ETA: 4s - loss: 0.9888 - acc: 0.528 - ETA: 4s - loss: 0.9872 - acc: 0.529 - ETA: 4s - loss: 0.9827 - acc: 0.534 - ETA: 4s - loss: 0.9834 - acc: 0.534 - ETA: 4s - loss: 0.9833 - acc: 0.534 - ETA: 3s - loss: 0.9880 - acc: 0.529 - ETA: 3s - loss: 0.9890 - acc: 0.528 - ETA: 3s - loss: 0.9907 - acc: 0.525 - ETA: 3s - loss: 0.9912 - acc: 0.525 - ETA: 3s - loss: 0.9924 - acc: 0.524 - ETA: 3s - loss: 0.9915 - acc: 0.526 - ETA: 3s - loss: 0.9913 - acc: 0.526 - ETA: 3s - loss: 0.9905 - acc: 0.528 - ETA: 2s - loss: 0.9900 - acc: 0.526 - ETA: 2s - loss: 0.9892 - acc: 0.525 - ETA: 2s - loss: 0.9832 - acc: 0.530 - ETA: 2s - loss: 0.9840 - acc: 0.531 - ETA: 2s - loss: 0.9833 - acc: 0.531 - ETA: 2s - loss: 0.9850 - acc: 0.530 - ETA: 2s - loss: 0.9870 - acc: 0.528 - ETA: 2s - loss: 0.9864 - acc: 0.528 - ETA: 2s - loss: 0.9866 - acc: 0.528 - ETA: 2s - loss: 0.9872 - acc: 0.528 - ETA: 2s - loss: 0.9856 - acc: 0.530 - ETA: 2s - loss: 0.9824 - acc: 0.533 - ETA: 1s - loss: 0.9833 - acc: 0.533 - ETA: 1s - loss: 0.9848 - acc: 0.531 - ETA: 1s - loss: 0.9833 - acc: 0.532 - ETA: 1s - loss: 0.9842 - acc: 0.532 - ETA: 1s - loss: 0.9833 - acc: 0.534 - ETA: 1s - loss: 0.9851 - acc: 0.532 - ETA: 1s - loss: 0.9850 - acc: 0.531 - ETA: 1s - loss: 0.9851 - acc: 0.532 - ETA: 1s - loss: 0.9859 - acc: 0.531 - ETA: 1s - loss: 0.9862 - acc: 0.531 - ETA: 1s - loss: 0.9848 - acc: 0.531 - ETA: 0s - loss: 0.9857 - acc: 0.529 - ETA: 0s - loss: 0.9859 - acc: 0.529 - ETA: 0s - loss: 0.9869 - acc: 0.528 - ETA: 0s - loss: 0.9877 - acc: 0.527 - ETA: 0s - loss: 0.9872 - acc: 0.528 - ETA: 0s - loss: 0.9870 - acc: 0.528 - ETA: 0s - loss: 0.9873 - acc: 0.526 - ETA: 0s - loss: 0.9873 - acc: 0.526 - ETA: 0s - loss: 0.9867 - acc: 0.526 - ETA: 0s - loss: 0.9871 - acc: 0.526 - ETA: 0s - loss: 0.9874 - acc: 0.526 - ETA: 0s - loss: 0.9869 - acc: 0.526 - ETA: 0s - loss: 0.9858 - acc: 0.527 - 4s 608us/sample - loss: 0.9861 - acc: 0.5280 - val_loss: 0.9776 - val_acc: 0.5373\n",
      "Epoch 10/10\n",
      "7112/7112 [==============================] - ETA: 10s - loss: 0.8116 - acc: 0.70 - ETA: 4s - loss: 0.9862 - acc: 0.5100 - ETA: 5s - loss: 0.9789 - acc: 0.518 - ETA: 7s - loss: 0.9843 - acc: 0.517 - ETA: 6s - loss: 0.9919 - acc: 0.508 - ETA: 5s - loss: 1.0149 - acc: 0.502 - ETA: 5s - loss: 1.0057 - acc: 0.495 - ETA: 4s - loss: 0.9992 - acc: 0.507 - ETA: 4s - loss: 0.9963 - acc: 0.514 - ETA: 4s - loss: 0.9984 - acc: 0.511 - ETA: 3s - loss: 0.9798 - acc: 0.532 - ETA: 3s - loss: 0.9935 - acc: 0.519 - ETA: 3s - loss: 0.9990 - acc: 0.512 - ETA: 2s - loss: 1.0021 - acc: 0.508 - ETA: 2s - loss: 1.0041 - acc: 0.508 - ETA: 2s - loss: 1.0041 - acc: 0.505 - ETA: 2s - loss: 1.0069 - acc: 0.501 - ETA: 2s - loss: 1.0039 - acc: 0.503 - ETA: 2s - loss: 0.9987 - acc: 0.508 - ETA: 2s - loss: 0.9978 - acc: 0.509 - ETA: 3s - loss: 0.9968 - acc: 0.510 - ETA: 3s - loss: 0.9968 - acc: 0.509 - ETA: 3s - loss: 0.9980 - acc: 0.508 - ETA: 3s - loss: 0.9974 - acc: 0.509 - ETA: 2s - loss: 0.9927 - acc: 0.515 - ETA: 2s - loss: 0.9886 - acc: 0.521 - ETA: 2s - loss: 0.9864 - acc: 0.521 - ETA: 2s - loss: 0.9868 - acc: 0.521 - ETA: 2s - loss: 0.9807 - acc: 0.527 - ETA: 2s - loss: 0.9847 - acc: 0.523 - ETA: 2s - loss: 0.9852 - acc: 0.524 - ETA: 1s - loss: 0.9826 - acc: 0.527 - ETA: 1s - loss: 0.9825 - acc: 0.527 - ETA: 1s - loss: 0.9849 - acc: 0.525 - ETA: 1s - loss: 0.9833 - acc: 0.527 - ETA: 1s - loss: 0.9836 - acc: 0.528 - ETA: 1s - loss: 0.9861 - acc: 0.525 - ETA: 1s - loss: 0.9850 - acc: 0.526 - ETA: 1s - loss: 0.9861 - acc: 0.525 - ETA: 1s - loss: 0.9858 - acc: 0.525 - ETA: 1s - loss: 0.9854 - acc: 0.524 - ETA: 1s - loss: 0.9856 - acc: 0.525 - ETA: 1s - loss: 0.9861 - acc: 0.525 - ETA: 1s - loss: 0.9847 - acc: 0.526 - ETA: 1s - loss: 0.9851 - acc: 0.525 - ETA: 0s - loss: 0.9840 - acc: 0.526 - ETA: 0s - loss: 0.9842 - acc: 0.525 - ETA: 0s - loss: 0.9827 - acc: 0.527 - ETA: 0s - loss: 0.9815 - acc: 0.528 - ETA: 0s - loss: 0.9809 - acc: 0.530 - ETA: 0s - loss: 0.9812 - acc: 0.530 - ETA: 0s - loss: 0.9813 - acc: 0.531 - ETA: 0s - loss: 0.9827 - acc: 0.529 - ETA: 0s - loss: 0.9836 - acc: 0.527 - ETA: 0s - loss: 0.9845 - acc: 0.526 - ETA: 0s - loss: 0.9839 - acc: 0.527 - ETA: 0s - loss: 0.9837 - acc: 0.527 - ETA: 0s - loss: 0.9838 - acc: 0.526 - ETA: 0s - loss: 0.9843 - acc: 0.526 - 4s 503us/sample - loss: 0.9849 - acc: 0.5274 - val_loss: 0.9746 - val_acc: 0.5356\n"
     ]
    },
    {
     "data": {
      "text/html": [
       "<span style=\"color:#4527A0\"><h1 style=\"font-size:18px\">Trial complete</h1></span>"
      ],
      "text/plain": [
       "<IPython.core.display.HTML object>"
      ]
     },
     "metadata": {},
     "output_type": "display_data"
    },
    {
     "data": {
      "text/html": [
       "<span style=\"color:#4527A0\"><h1 style=\"font-size:18px\">Trial summary</h1></span>"
      ],
      "text/plain": [
       "<IPython.core.display.HTML object>"
      ]
     },
     "metadata": {},
     "output_type": "display_data"
    },
    {
     "data": {
      "text/html": [
       "<span style=\"color:cyan\"> |-Trial ID: 8b03daf671d309eef86e6d8195f250f1</span>"
      ],
      "text/plain": [
       "<IPython.core.display.HTML object>"
      ]
     },
     "metadata": {},
     "output_type": "display_data"
    },
    {
     "data": {
      "text/html": [
       "<span style=\"color:cyan\"> |-Score: 0.5373070240020752</span>"
      ],
      "text/plain": [
       "<IPython.core.display.HTML object>"
      ]
     },
     "metadata": {},
     "output_type": "display_data"
    },
    {
     "data": {
      "text/html": [
       "<span style=\"color:cyan\"> |-Best step: 0</span>"
      ],
      "text/plain": [
       "<IPython.core.display.HTML object>"
      ]
     },
     "metadata": {},
     "output_type": "display_data"
    },
    {
     "data": {
      "text/html": [
       "<span style=\"color:#7E57C2\"><h2 style=\"font-size:16px\">Hyperparameters:</h2></span>"
      ],
      "text/plain": [
       "<IPython.core.display.HTML object>"
      ]
     },
     "metadata": {},
     "output_type": "display_data"
    },
    {
     "data": {
      "text/html": [
       "<span style=\"color:cyan\"> |-layer_0_neurons: 150</span>"
      ],
      "text/plain": [
       "<IPython.core.display.HTML object>"
      ]
     },
     "metadata": {},
     "output_type": "display_data"
    },
    {
     "data": {
      "text/html": [
       "<span style=\"color:blue\"> |-layer_1_neurons: 30</span>"
      ],
      "text/plain": [
       "<IPython.core.display.HTML object>"
      ]
     },
     "metadata": {},
     "output_type": "display_data"
    },
    {
     "data": {
      "text/html": [
       "<span style=\"color:cyan\"> |-layer_2_neurons: 110</span>"
      ],
      "text/plain": [
       "<IPython.core.display.HTML object>"
      ]
     },
     "metadata": {},
     "output_type": "display_data"
    },
    {
     "data": {
      "text/html": [
       "<span style=\"color:blue\"> |-layer_3_neurons: 130</span>"
      ],
      "text/plain": [
       "<IPython.core.display.HTML object>"
      ]
     },
     "metadata": {},
     "output_type": "display_data"
    },
    {
     "data": {
      "text/html": [
       "<span style=\"color:cyan\"> |-n_input_neurons: 90</span>"
      ],
      "text/plain": [
       "<IPython.core.display.HTML object>"
      ]
     },
     "metadata": {},
     "output_type": "display_data"
    },
    {
     "data": {
      "text/html": [
       "<span style=\"color:blue\"> |-n_layers: 2</span>"
      ],
      "text/plain": [
       "<IPython.core.display.HTML object>"
      ]
     },
     "metadata": {},
     "output_type": "display_data"
    },
    {
     "name": "stdout",
     "output_type": "stream",
     "text": [
      "Train on 7112 samples, validate on 2332 samples\n",
      "Epoch 1/10\n",
      "7112/7112 [==============================] - ETA: 5:12 - loss: 2.2031 - acc: 0.400 - ETA: 31s - loss: 1.2597 - acc: 0.418 - ETA: 17s - loss: 1.1891 - acc: 0.38 - ETA: 11s - loss: 1.1183 - acc: 0.45 - ETA: 9s - loss: 1.0885 - acc: 0.4804 - ETA: 7s - loss: 1.0594 - acc: 0.501 - ETA: 7s - loss: 1.0554 - acc: 0.502 - ETA: 6s - loss: 1.0520 - acc: 0.501 - ETA: 5s - loss: 1.0492 - acc: 0.494 - ETA: 5s - loss: 1.0335 - acc: 0.505 - ETA: 4s - loss: 1.0294 - acc: 0.507 - ETA: 4s - loss: 1.0298 - acc: 0.509 - ETA: 4s - loss: 1.0317 - acc: 0.506 - ETA: 3s - loss: 1.0347 - acc: 0.497 - ETA: 3s - loss: 1.0288 - acc: 0.502 - ETA: 3s - loss: 1.0279 - acc: 0.502 - ETA: 3s - loss: 1.0260 - acc: 0.503 - ETA: 3s - loss: 1.0230 - acc: 0.505 - ETA: 3s - loss: 1.0230 - acc: 0.504 - ETA: 3s - loss: 1.0220 - acc: 0.505 - ETA: 3s - loss: 1.0209 - acc: 0.506 - ETA: 3s - loss: 1.0179 - acc: 0.508 - ETA: 3s - loss: 1.0180 - acc: 0.508 - ETA: 2s - loss: 1.0181 - acc: 0.507 - ETA: 2s - loss: 1.0178 - acc: 0.507 - ETA: 2s - loss: 1.0192 - acc: 0.505 - ETA: 2s - loss: 1.0159 - acc: 0.508 - ETA: 2s - loss: 1.0130 - acc: 0.513 - ETA: 2s - loss: 1.0136 - acc: 0.511 - ETA: 2s - loss: 1.0135 - acc: 0.512 - ETA: 2s - loss: 1.0116 - acc: 0.514 - ETA: 2s - loss: 1.0132 - acc: 0.512 - ETA: 2s - loss: 1.0143 - acc: 0.511 - ETA: 1s - loss: 1.0144 - acc: 0.510 - ETA: 1s - loss: 1.0160 - acc: 0.507 - ETA: 1s - loss: 1.0148 - acc: 0.508 - ETA: 1s - loss: 1.0143 - acc: 0.509 - ETA: 1s - loss: 1.0135 - acc: 0.510 - ETA: 1s - loss: 1.0121 - acc: 0.511 - ETA: 1s - loss: 1.0114 - acc: 0.509 - ETA: 1s - loss: 1.0100 - acc: 0.511 - ETA: 1s - loss: 1.0089 - acc: 0.512 - ETA: 1s - loss: 1.0084 - acc: 0.512 - ETA: 1s - loss: 1.0091 - acc: 0.511 - ETA: 1s - loss: 1.0095 - acc: 0.511 - ETA: 1s - loss: 1.0099 - acc: 0.510 - ETA: 1s - loss: 1.0106 - acc: 0.510 - ETA: 0s - loss: 1.0099 - acc: 0.510 - ETA: 0s - loss: 1.0109 - acc: 0.510 - ETA: 0s - loss: 1.0098 - acc: 0.511 - ETA: 0s - loss: 1.0102 - acc: 0.511 - ETA: 0s - loss: 1.0115 - acc: 0.509 - ETA: 0s - loss: 1.0125 - acc: 0.508 - ETA: 0s - loss: 1.0134 - acc: 0.506 - ETA: 0s - loss: 1.0141 - acc: 0.505 - ETA: 0s - loss: 1.0149 - acc: 0.504 - ETA: 0s - loss: 1.0146 - acc: 0.505 - ETA: 0s - loss: 1.0142 - acc: 0.506 - ETA: 0s - loss: 1.0145 - acc: 0.505 - ETA: 0s - loss: 1.0144 - acc: 0.506 - ETA: 0s - loss: 1.0136 - acc: 0.507 - ETA: 0s - loss: 1.0128 - acc: 0.507 - ETA: 0s - loss: 1.0121 - acc: 0.508 - ETA: 0s - loss: 1.0108 - acc: 0.510 - ETA: 0s - loss: 1.0112 - acc: 0.510 - 5s 660us/sample - loss: 1.0106 - acc: 0.5105 - val_loss: 0.9770 - val_acc: 0.5317\n",
      "Epoch 2/10\n",
      "7112/7112 [==============================] - ETA: 6s - loss: 0.9810 - acc: 0.600 - ETA: 5s - loss: 0.9829 - acc: 0.575 - ETA: 5s - loss: 0.9790 - acc: 0.580 - ETA: 4s - loss: 1.0144 - acc: 0.534 - ETA: 3s - loss: 1.0202 - acc: 0.513 - ETA: 3s - loss: 1.0187 - acc: 0.506 - ETA: 3s - loss: 1.0220 - acc: 0.500 - ETA: 3s - loss: 1.0145 - acc: 0.502 - ETA: 2s - loss: 1.0043 - acc: 0.508 - ETA: 2s - loss: 1.0095 - acc: 0.505 - ETA: 2s - loss: 1.0015 - acc: 0.516 - ETA: 2s - loss: 1.0007 - acc: 0.517 - ETA: 2s - loss: 0.9995 - acc: 0.519 - ETA: 3s - loss: 1.0009 - acc: 0.518 - ETA: 3s - loss: 1.0004 - acc: 0.517 - ETA: 3s - loss: 1.0008 - acc: 0.517 - ETA: 3s - loss: 1.0000 - acc: 0.519 - ETA: 3s - loss: 0.9983 - acc: 0.521 - ETA: 3s - loss: 0.9988 - acc: 0.522 - ETA: 3s - loss: 1.0033 - acc: 0.518 - ETA: 3s - loss: 1.0037 - acc: 0.518 - ETA: 3s - loss: 1.0046 - acc: 0.516 - ETA: 3s - loss: 1.0053 - acc: 0.517 - ETA: 2s - loss: 1.0056 - acc: 0.517 - ETA: 2s - loss: 1.0045 - acc: 0.519 - ETA: 2s - loss: 1.0067 - acc: 0.516 - ETA: 2s - loss: 1.0050 - acc: 0.517 - ETA: 2s - loss: 1.0036 - acc: 0.518 - ETA: 2s - loss: 1.0039 - acc: 0.518 - ETA: 2s - loss: 1.0018 - acc: 0.521 - ETA: 2s - loss: 1.0032 - acc: 0.521 - ETA: 2s - loss: 1.0037 - acc: 0.521 - ETA: 2s - loss: 1.0029 - acc: 0.522 - ETA: 2s - loss: 1.0014 - acc: 0.523 - ETA: 2s - loss: 1.0012 - acc: 0.522 - ETA: 2s - loss: 0.9996 - acc: 0.522 - ETA: 2s - loss: 0.9994 - acc: 0.523 - ETA: 2s - loss: 0.9987 - acc: 0.524 - ETA: 2s - loss: 0.9981 - acc: 0.524 - ETA: 2s - loss: 0.9985 - acc: 0.524 - ETA: 2s - loss: 0.9979 - acc: 0.524 - ETA: 2s - loss: 0.9984 - acc: 0.523 - ETA: 2s - loss: 0.9992 - acc: 0.523 - ETA: 2s - loss: 0.9989 - acc: 0.523 - ETA: 2s - loss: 0.9987 - acc: 0.524 - ETA: 2s - loss: 0.9985 - acc: 0.526 - ETA: 2s - loss: 0.9979 - acc: 0.526 - ETA: 2s - loss: 0.9974 - acc: 0.526 - ETA: 2s - loss: 0.9961 - acc: 0.527 - ETA: 2s - loss: 0.9971 - acc: 0.527 - ETA: 2s - loss: 0.9971 - acc: 0.527 - ETA: 2s - loss: 0.9982 - acc: 0.526 - ETA: 2s - loss: 0.9982 - acc: 0.526 - ETA: 2s - loss: 0.9981 - acc: 0.526 - ETA: 2s - loss: 0.9969 - acc: 0.527 - ETA: 2s - loss: 0.9963 - acc: 0.528 - ETA: 2s - loss: 0.9974 - acc: 0.526 - ETA: 2s - loss: 0.9980 - acc: 0.525 - ETA: 2s - loss: 0.9985 - acc: 0.525 - ETA: 1s - loss: 0.9991 - acc: 0.524 - ETA: 1s - loss: 0.9976 - acc: 0.526 - ETA: 1s - loss: 0.9979 - acc: 0.526 - ETA: 1s - loss: 0.9997 - acc: 0.524 - ETA: 1s - loss: 1.0001 - acc: 0.524 - ETA: 1s - loss: 0.9998 - acc: 0.524 - ETA: 1s - loss: 0.9989 - acc: 0.524 - ETA: 1s - loss: 0.9986 - acc: 0.525 - ETA: 1s - loss: 0.9989 - acc: 0.524 - ETA: 1s - loss: 0.9985 - acc: 0.524 - ETA: 1s - loss: 0.9973 - acc: 0.525 - ETA: 1s - loss: 0.9966 - acc: 0.525 - ETA: 1s - loss: 0.9963 - acc: 0.526 - ETA: 1s - loss: 0.9970 - acc: 0.525 - ETA: 1s - loss: 0.9969 - acc: 0.525 - ETA: 1s - loss: 0.9975 - acc: 0.525 - ETA: 1s - loss: 0.9978 - acc: 0.525 - ETA: 1s - loss: 0.9972 - acc: 0.524 - ETA: 0s - loss: 0.9965 - acc: 0.525 - ETA: 0s - loss: 0.9966 - acc: 0.525 - ETA: 0s - loss: 0.9955 - acc: 0.526 - ETA: 0s - loss: 0.9959 - acc: 0.526 - ETA: 0s - loss: 0.9961 - acc: 0.526 - ETA: 0s - loss: 0.9956 - acc: 0.527 - ETA: 0s - loss: 0.9954 - acc: 0.527 - ETA: 0s - loss: 0.9961 - acc: 0.527 - ETA: 0s - loss: 0.9957 - acc: 0.527 - ETA: 0s - loss: 0.9957 - acc: 0.527 - ETA: 0s - loss: 0.9958 - acc: 0.527 - ETA: 0s - loss: 0.9954 - acc: 0.527 - ETA: 0s - loss: 0.9956 - acc: 0.527 - ETA: 0s - loss: 0.9960 - acc: 0.527 - ETA: 0s - loss: 0.9955 - acc: 0.527 - ETA: 0s - loss: 0.9955 - acc: 0.527 - ETA: 0s - loss: 0.9953 - acc: 0.527 - ETA: 0s - loss: 0.9947 - acc: 0.528 - ETA: 0s - loss: 0.9951 - acc: 0.527 - ETA: 0s - loss: 0.9947 - acc: 0.527 - ETA: 0s - loss: 0.9945 - acc: 0.527 - ETA: 0s - loss: 0.9946 - acc: 0.527 - ETA: 0s - loss: 0.9951 - acc: 0.526 - ETA: 0s - loss: 0.9959 - acc: 0.525 - 6s 849us/sample - loss: 0.9968 - acc: 0.5239 - val_loss: 1.0138 - val_acc: 0.5236\n",
      "Epoch 3/10\n"
     ]
    },
    {
     "name": "stdout",
     "output_type": "stream",
     "text": [
      "7112/7112 [==============================] - ETA: 8s - loss: 1.0694 - acc: 0.500 - ETA: 4s - loss: 1.0254 - acc: 0.530 - ETA: 3s - loss: 0.9828 - acc: 0.595 - ETA: 3s - loss: 1.0093 - acc: 0.563 - ETA: 3s - loss: 1.0184 - acc: 0.533 - ETA: 3s - loss: 1.0222 - acc: 0.525 - ETA: 3s - loss: 1.0122 - acc: 0.537 - ETA: 2s - loss: 1.0148 - acc: 0.534 - ETA: 2s - loss: 1.0063 - acc: 0.537 - ETA: 2s - loss: 1.0056 - acc: 0.535 - ETA: 2s - loss: 1.0068 - acc: 0.534 - ETA: 2s - loss: 1.0005 - acc: 0.537 - ETA: 3s - loss: 0.9999 - acc: 0.536 - ETA: 3s - loss: 1.0009 - acc: 0.534 - ETA: 3s - loss: 0.9999 - acc: 0.530 - ETA: 3s - loss: 0.9969 - acc: 0.531 - ETA: 2s - loss: 0.9951 - acc: 0.530 - ETA: 2s - loss: 0.9959 - acc: 0.530 - ETA: 2s - loss: 0.9949 - acc: 0.530 - ETA: 2s - loss: 0.9953 - acc: 0.528 - ETA: 2s - loss: 0.9976 - acc: 0.524 - ETA: 2s - loss: 0.9976 - acc: 0.522 - ETA: 2s - loss: 0.9922 - acc: 0.526 - ETA: 2s - loss: 0.9913 - acc: 0.527 - ETA: 2s - loss: 0.9933 - acc: 0.527 - ETA: 2s - loss: 0.9938 - acc: 0.526 - ETA: 2s - loss: 0.9936 - acc: 0.526 - ETA: 2s - loss: 0.9931 - acc: 0.526 - ETA: 2s - loss: 0.9923 - acc: 0.527 - ETA: 2s - loss: 0.9948 - acc: 0.524 - ETA: 2s - loss: 0.9958 - acc: 0.523 - ETA: 2s - loss: 0.9958 - acc: 0.523 - ETA: 2s - loss: 0.9966 - acc: 0.522 - ETA: 2s - loss: 0.9953 - acc: 0.523 - ETA: 2s - loss: 0.9958 - acc: 0.523 - ETA: 2s - loss: 0.9952 - acc: 0.523 - ETA: 2s - loss: 0.9953 - acc: 0.524 - ETA: 2s - loss: 0.9950 - acc: 0.524 - ETA: 2s - loss: 0.9962 - acc: 0.522 - ETA: 3s - loss: 0.9965 - acc: 0.523 - ETA: 3s - loss: 0.9964 - acc: 0.523 - ETA: 3s - loss: 0.9968 - acc: 0.522 - ETA: 3s - loss: 0.9967 - acc: 0.523 - ETA: 2s - loss: 0.9961 - acc: 0.524 - ETA: 2s - loss: 0.9959 - acc: 0.523 - ETA: 2s - loss: 0.9956 - acc: 0.524 - ETA: 2s - loss: 0.9929 - acc: 0.525 - ETA: 2s - loss: 0.9938 - acc: 0.526 - ETA: 2s - loss: 0.9946 - acc: 0.525 - ETA: 2s - loss: 0.9962 - acc: 0.524 - ETA: 2s - loss: 0.9959 - acc: 0.524 - ETA: 2s - loss: 0.9976 - acc: 0.521 - ETA: 2s - loss: 0.9965 - acc: 0.522 - ETA: 2s - loss: 0.9962 - acc: 0.521 - ETA: 2s - loss: 0.9971 - acc: 0.520 - ETA: 2s - loss: 0.9959 - acc: 0.522 - ETA: 1s - loss: 0.9949 - acc: 0.522 - ETA: 1s - loss: 0.9970 - acc: 0.521 - ETA: 1s - loss: 0.9976 - acc: 0.520 - ETA: 1s - loss: 0.9983 - acc: 0.520 - ETA: 1s - loss: 0.9984 - acc: 0.520 - ETA: 1s - loss: 0.9979 - acc: 0.520 - ETA: 1s - loss: 0.9976 - acc: 0.520 - ETA: 1s - loss: 0.9979 - acc: 0.519 - ETA: 1s - loss: 0.9979 - acc: 0.519 - ETA: 1s - loss: 0.9976 - acc: 0.519 - ETA: 1s - loss: 0.9981 - acc: 0.519 - ETA: 1s - loss: 0.9981 - acc: 0.519 - ETA: 1s - loss: 0.9981 - acc: 0.519 - ETA: 1s - loss: 0.9980 - acc: 0.519 - ETA: 1s - loss: 0.9963 - acc: 0.520 - ETA: 1s - loss: 0.9976 - acc: 0.520 - ETA: 1s - loss: 0.9983 - acc: 0.518 - ETA: 1s - loss: 0.9979 - acc: 0.519 - ETA: 1s - loss: 0.9975 - acc: 0.519 - ETA: 1s - loss: 0.9976 - acc: 0.519 - ETA: 1s - loss: 0.9979 - acc: 0.519 - ETA: 0s - loss: 0.9979 - acc: 0.519 - ETA: 0s - loss: 0.9976 - acc: 0.520 - ETA: 0s - loss: 0.9975 - acc: 0.520 - ETA: 0s - loss: 0.9972 - acc: 0.521 - ETA: 0s - loss: 0.9971 - acc: 0.521 - ETA: 0s - loss: 0.9958 - acc: 0.522 - ETA: 0s - loss: 0.9953 - acc: 0.522 - ETA: 0s - loss: 0.9967 - acc: 0.521 - ETA: 0s - loss: 0.9959 - acc: 0.522 - ETA: 0s - loss: 0.9968 - acc: 0.521 - ETA: 0s - loss: 0.9964 - acc: 0.522 - ETA: 0s - loss: 0.9958 - acc: 0.522 - ETA: 0s - loss: 0.9954 - acc: 0.523 - ETA: 0s - loss: 0.9963 - acc: 0.522 - ETA: 0s - loss: 0.9954 - acc: 0.523 - ETA: 0s - loss: 0.9957 - acc: 0.522 - ETA: 0s - loss: 0.9956 - acc: 0.523 - ETA: 0s - loss: 0.9955 - acc: 0.522 - ETA: 0s - loss: 0.9953 - acc: 0.523 - 6s 835us/sample - loss: 0.9946 - acc: 0.5238 - val_loss: 0.9810 - val_acc: 0.5326\n",
      "Epoch 4/10\n",
      "7112/7112 [==============================] - ETA: 8s - loss: 1.1510 - acc: 0.500 - ETA: 12s - loss: 1.1786 - acc: 0.40 - ETA: 23s - loss: 1.1917 - acc: 0.40 - ETA: 19s - loss: 1.1118 - acc: 0.42 - ETA: 15s - loss: 1.0691 - acc: 0.47 - ETA: 15s - loss: 1.0773 - acc: 0.46 - ETA: 13s - loss: 1.0688 - acc: 0.46 - ETA: 11s - loss: 1.0566 - acc: 0.48 - ETA: 10s - loss: 1.0336 - acc: 0.50 - ETA: 9s - loss: 1.0338 - acc: 0.4947 - ETA: 8s - loss: 1.0318 - acc: 0.495 - ETA: 8s - loss: 1.0274 - acc: 0.498 - ETA: 8s - loss: 1.0164 - acc: 0.503 - ETA: 7s - loss: 1.0108 - acc: 0.503 - ETA: 7s - loss: 1.0103 - acc: 0.502 - ETA: 7s - loss: 1.0074 - acc: 0.501 - ETA: 7s - loss: 1.0024 - acc: 0.506 - ETA: 7s - loss: 0.9981 - acc: 0.512 - ETA: 7s - loss: 0.9912 - acc: 0.518 - ETA: 7s - loss: 0.9957 - acc: 0.519 - ETA: 6s - loss: 0.9966 - acc: 0.515 - ETA: 6s - loss: 0.9936 - acc: 0.514 - ETA: 6s - loss: 0.9897 - acc: 0.519 - ETA: 5s - loss: 0.9833 - acc: 0.528 - ETA: 5s - loss: 0.9858 - acc: 0.525 - ETA: 5s - loss: 0.9875 - acc: 0.525 - ETA: 5s - loss: 0.9881 - acc: 0.524 - ETA: 4s - loss: 0.9862 - acc: 0.528 - ETA: 4s - loss: 0.9902 - acc: 0.521 - ETA: 4s - loss: 0.9908 - acc: 0.521 - ETA: 4s - loss: 0.9948 - acc: 0.516 - ETA: 3s - loss: 0.9940 - acc: 0.517 - ETA: 3s - loss: 0.9935 - acc: 0.518 - ETA: 3s - loss: 0.9928 - acc: 0.519 - ETA: 3s - loss: 0.9922 - acc: 0.521 - ETA: 3s - loss: 0.9951 - acc: 0.519 - ETA: 3s - loss: 0.9963 - acc: 0.518 - ETA: 3s - loss: 0.9975 - acc: 0.517 - ETA: 3s - loss: 0.9972 - acc: 0.516 - ETA: 3s - loss: 0.9978 - acc: 0.515 - ETA: 3s - loss: 0.9987 - acc: 0.513 - ETA: 3s - loss: 0.9990 - acc: 0.512 - ETA: 2s - loss: 0.9991 - acc: 0.513 - ETA: 2s - loss: 0.9973 - acc: 0.515 - ETA: 2s - loss: 0.9962 - acc: 0.516 - ETA: 2s - loss: 0.9959 - acc: 0.515 - ETA: 2s - loss: 0.9949 - acc: 0.517 - ETA: 2s - loss: 0.9963 - acc: 0.516 - ETA: 2s - loss: 0.9966 - acc: 0.515 - ETA: 2s - loss: 0.9975 - acc: 0.514 - ETA: 2s - loss: 0.9973 - acc: 0.513 - ETA: 2s - loss: 0.9972 - acc: 0.514 - ETA: 2s - loss: 0.9964 - acc: 0.515 - ETA: 2s - loss: 0.9976 - acc: 0.514 - ETA: 2s - loss: 0.9975 - acc: 0.514 - ETA: 2s - loss: 0.9965 - acc: 0.517 - ETA: 2s - loss: 0.9968 - acc: 0.516 - ETA: 2s - loss: 0.9984 - acc: 0.515 - ETA: 1s - loss: 0.9963 - acc: 0.518 - ETA: 1s - loss: 0.9969 - acc: 0.517 - ETA: 1s - loss: 0.9951 - acc: 0.519 - ETA: 1s - loss: 0.9943 - acc: 0.521 - ETA: 1s - loss: 0.9902 - acc: 0.523 - ETA: 1s - loss: 0.9901 - acc: 0.524 - ETA: 1s - loss: 0.9892 - acc: 0.526 - ETA: 1s - loss: 0.9900 - acc: 0.525 - ETA: 1s - loss: 0.9899 - acc: 0.526 - ETA: 1s - loss: 0.9907 - acc: 0.524 - ETA: 1s - loss: 0.9898 - acc: 0.525 - ETA: 1s - loss: 0.9895 - acc: 0.526 - ETA: 0s - loss: 0.9892 - acc: 0.526 - ETA: 0s - loss: 0.9884 - acc: 0.527 - ETA: 0s - loss: 0.9883 - acc: 0.528 - ETA: 0s - loss: 0.9878 - acc: 0.528 - ETA: 0s - loss: 0.9885 - acc: 0.527 - ETA: 0s - loss: 0.9889 - acc: 0.526 - ETA: 0s - loss: 0.9889 - acc: 0.527 - ETA: 0s - loss: 0.9889 - acc: 0.527 - ETA: 0s - loss: 0.9895 - acc: 0.527 - ETA: 0s - loss: 0.9906 - acc: 0.526 - ETA: 0s - loss: 0.9904 - acc: 0.526 - ETA: 0s - loss: 0.9900 - acc: 0.527 - ETA: 0s - loss: 0.9895 - acc: 0.528 - ETA: 0s - loss: 0.9899 - acc: 0.528 - ETA: 0s - loss: 0.9906 - acc: 0.527 - ETA: 0s - loss: 0.9909 - acc: 0.527 - ETA: 0s - loss: 0.9908 - acc: 0.527 - ETA: 0s - loss: 0.9907 - acc: 0.527 - 5s 736us/sample - loss: 0.9902 - acc: 0.5280 - val_loss: 0.9719 - val_acc: 0.5304\n",
      "Epoch 5/10\n"
     ]
    },
    {
     "name": "stdout",
     "output_type": "stream",
     "text": [
      "7112/7112 [==============================] - ETA: 7s - loss: 0.9316 - acc: 0.600 - ETA: 7s - loss: 0.9801 - acc: 0.500 - ETA: 6s - loss: 0.9515 - acc: 0.550 - ETA: 5s - loss: 1.0084 - acc: 0.500 - ETA: 4s - loss: 1.0247 - acc: 0.484 - ETA: 4s - loss: 1.0286 - acc: 0.481 - ETA: 3s - loss: 1.0156 - acc: 0.500 - ETA: 3s - loss: 1.0153 - acc: 0.498 - ETA: 3s - loss: 1.0185 - acc: 0.498 - ETA: 3s - loss: 1.0100 - acc: 0.507 - ETA: 3s - loss: 0.9981 - acc: 0.514 - ETA: 3s - loss: 0.9951 - acc: 0.514 - ETA: 3s - loss: 0.9902 - acc: 0.517 - ETA: 3s - loss: 0.9849 - acc: 0.521 - ETA: 3s - loss: 0.9913 - acc: 0.513 - ETA: 2s - loss: 0.9919 - acc: 0.513 - ETA: 2s - loss: 0.9900 - acc: 0.516 - ETA: 2s - loss: 0.9872 - acc: 0.520 - ETA: 2s - loss: 0.9860 - acc: 0.522 - ETA: 2s - loss: 0.9851 - acc: 0.523 - ETA: 2s - loss: 0.9852 - acc: 0.524 - ETA: 2s - loss: 0.9864 - acc: 0.522 - ETA: 2s - loss: 0.9861 - acc: 0.524 - ETA: 2s - loss: 0.9846 - acc: 0.524 - ETA: 2s - loss: 0.9861 - acc: 0.524 - ETA: 2s - loss: 0.9880 - acc: 0.522 - ETA: 2s - loss: 0.9896 - acc: 0.520 - ETA: 2s - loss: 0.9912 - acc: 0.519 - ETA: 2s - loss: 0.9898 - acc: 0.522 - ETA: 2s - loss: 0.9920 - acc: 0.521 - ETA: 2s - loss: 0.9923 - acc: 0.522 - ETA: 2s - loss: 0.9924 - acc: 0.521 - ETA: 2s - loss: 0.9930 - acc: 0.521 - ETA: 2s - loss: 0.9939 - acc: 0.520 - ETA: 2s - loss: 0.9943 - acc: 0.519 - ETA: 2s - loss: 0.9950 - acc: 0.519 - ETA: 1s - loss: 0.9954 - acc: 0.517 - ETA: 1s - loss: 0.9945 - acc: 0.518 - ETA: 1s - loss: 0.9942 - acc: 0.519 - ETA: 1s - loss: 0.9928 - acc: 0.521 - ETA: 1s - loss: 0.9939 - acc: 0.519 - ETA: 1s - loss: 0.9910 - acc: 0.522 - ETA: 1s - loss: 0.9918 - acc: 0.521 - ETA: 1s - loss: 0.9923 - acc: 0.521 - ETA: 1s - loss: 0.9940 - acc: 0.519 - ETA: 1s - loss: 0.9937 - acc: 0.520 - ETA: 1s - loss: 0.9941 - acc: 0.519 - ETA: 1s - loss: 0.9913 - acc: 0.521 - ETA: 1s - loss: 0.9917 - acc: 0.521 - ETA: 1s - loss: 0.9905 - acc: 0.521 - ETA: 0s - loss: 0.9930 - acc: 0.518 - ETA: 0s - loss: 0.9930 - acc: 0.518 - ETA: 0s - loss: 0.9927 - acc: 0.519 - ETA: 0s - loss: 0.9917 - acc: 0.519 - ETA: 0s - loss: 0.9927 - acc: 0.518 - ETA: 0s - loss: 0.9913 - acc: 0.520 - ETA: 0s - loss: 0.9902 - acc: 0.521 - ETA: 0s - loss: 0.9901 - acc: 0.521 - ETA: 0s - loss: 0.9903 - acc: 0.521 - ETA: 0s - loss: 0.9902 - acc: 0.521 - ETA: 0s - loss: 0.9900 - acc: 0.521 - ETA: 0s - loss: 0.9898 - acc: 0.522 - ETA: 0s - loss: 0.9892 - acc: 0.522 - ETA: 0s - loss: 0.9904 - acc: 0.520 - ETA: 0s - loss: 0.9906 - acc: 0.520 - ETA: 0s - loss: 0.9907 - acc: 0.520 - ETA: 0s - loss: 0.9899 - acc: 0.521 - ETA: 0s - loss: 0.9892 - acc: 0.522 - ETA: 0s - loss: 0.9890 - acc: 0.523 - ETA: 0s - loss: 0.9887 - acc: 0.523 - ETA: 0s - loss: 0.9885 - acc: 0.523 - 4s 583us/sample - loss: 0.9883 - acc: 0.5238 - val_loss: 0.9792 - val_acc: 0.5322\n",
      "Epoch 6/10\n",
      "7112/7112 [==============================] - ETA: 6s - loss: 0.9383 - acc: 0.500 - ETA: 6s - loss: 1.1362 - acc: 0.371 - ETA: 4s - loss: 1.0333 - acc: 0.489 - ETA: 3s - loss: 1.0085 - acc: 0.506 - ETA: 3s - loss: 0.9945 - acc: 0.519 - ETA: 3s - loss: 0.9938 - acc: 0.536 - ETA: 3s - loss: 0.9974 - acc: 0.528 - ETA: 3s - loss: 1.0042 - acc: 0.517 - ETA: 3s - loss: 1.0037 - acc: 0.516 - ETA: 3s - loss: 1.0029 - acc: 0.517 - ETA: 2s - loss: 1.0123 - acc: 0.503 - ETA: 2s - loss: 1.0138 - acc: 0.499 - ETA: 2s - loss: 1.0132 - acc: 0.496 - ETA: 2s - loss: 1.0084 - acc: 0.500 - ETA: 2s - loss: 1.0157 - acc: 0.494 - ETA: 2s - loss: 1.0103 - acc: 0.502 - ETA: 2s - loss: 1.0065 - acc: 0.507 - ETA: 2s - loss: 1.0023 - acc: 0.508 - ETA: 2s - loss: 0.9957 - acc: 0.514 - ETA: 2s - loss: 0.9984 - acc: 0.513 - ETA: 2s - loss: 0.9982 - acc: 0.514 - ETA: 2s - loss: 0.9991 - acc: 0.514 - ETA: 2s - loss: 0.9979 - acc: 0.516 - ETA: 2s - loss: 0.9997 - acc: 0.517 - ETA: 2s - loss: 0.9987 - acc: 0.518 - ETA: 2s - loss: 0.9968 - acc: 0.520 - ETA: 2s - loss: 0.9960 - acc: 0.521 - ETA: 2s - loss: 0.9966 - acc: 0.520 - ETA: 2s - loss: 0.9963 - acc: 0.520 - ETA: 2s - loss: 0.9957 - acc: 0.520 - ETA: 2s - loss: 0.9959 - acc: 0.520 - ETA: 2s - loss: 0.9933 - acc: 0.523 - ETA: 1s - loss: 0.9944 - acc: 0.522 - ETA: 1s - loss: 0.9966 - acc: 0.520 - ETA: 1s - loss: 0.9963 - acc: 0.521 - ETA: 1s - loss: 0.9973 - acc: 0.518 - ETA: 1s - loss: 0.9958 - acc: 0.518 - ETA: 1s - loss: 0.9959 - acc: 0.518 - ETA: 1s - loss: 0.9959 - acc: 0.519 - ETA: 1s - loss: 0.9954 - acc: 0.519 - ETA: 1s - loss: 0.9954 - acc: 0.519 - ETA: 1s - loss: 0.9938 - acc: 0.520 - ETA: 1s - loss: 0.9925 - acc: 0.521 - ETA: 1s - loss: 0.9879 - acc: 0.526 - ETA: 1s - loss: 0.9879 - acc: 0.526 - ETA: 1s - loss: 0.9864 - acc: 0.528 - ETA: 1s - loss: 0.9872 - acc: 0.527 - ETA: 1s - loss: 0.9861 - acc: 0.529 - ETA: 1s - loss: 0.9859 - acc: 0.528 - ETA: 0s - loss: 0.9876 - acc: 0.526 - ETA: 0s - loss: 0.9874 - acc: 0.526 - ETA: 0s - loss: 0.9881 - acc: 0.525 - ETA: 0s - loss: 0.9880 - acc: 0.526 - ETA: 0s - loss: 0.9875 - acc: 0.526 - ETA: 0s - loss: 0.9862 - acc: 0.527 - ETA: 0s - loss: 0.9874 - acc: 0.526 - ETA: 0s - loss: 0.9879 - acc: 0.525 - ETA: 0s - loss: 0.9868 - acc: 0.526 - ETA: 0s - loss: 0.9859 - acc: 0.526 - ETA: 0s - loss: 0.9867 - acc: 0.525 - ETA: 0s - loss: 0.9882 - acc: 0.523 - ETA: 0s - loss: 0.9887 - acc: 0.522 - ETA: 0s - loss: 0.9889 - acc: 0.522 - ETA: 0s - loss: 0.9890 - acc: 0.522 - ETA: 0s - loss: 0.9896 - acc: 0.521 - ETA: 0s - loss: 0.9900 - acc: 0.520 - ETA: 0s - loss: 0.9905 - acc: 0.519 - ETA: 0s - loss: 0.9905 - acc: 0.520 - ETA: 0s - loss: 0.9900 - acc: 0.520 - 4s 574us/sample - loss: 0.9901 - acc: 0.5204 - val_loss: 0.9763 - val_acc: 0.5343\n",
      "Epoch 7/10\n"
     ]
    },
    {
     "name": "stdout",
     "output_type": "stream",
     "text": [
      "7112/7112 [==============================] - ETA: 9s - loss: 1.0396 - acc: 0.400 - ETA: 9s - loss: 0.9577 - acc: 0.540 - ETA: 6s - loss: 0.9611 - acc: 0.561 - ETA: 5s - loss: 1.0109 - acc: 0.504 - ETA: 5s - loss: 1.0201 - acc: 0.503 - ETA: 5s - loss: 1.0027 - acc: 0.516 - ETA: 4s - loss: 0.9995 - acc: 0.524 - ETA: 4s - loss: 0.9902 - acc: 0.526 - ETA: 4s - loss: 0.9762 - acc: 0.536 - ETA: 4s - loss: 0.9755 - acc: 0.543 - ETA: 4s - loss: 0.9796 - acc: 0.535 - ETA: 4s - loss: 0.9752 - acc: 0.540 - ETA: 3s - loss: 0.9698 - acc: 0.539 - ETA: 3s - loss: 0.9792 - acc: 0.531 - ETA: 3s - loss: 0.9811 - acc: 0.529 - ETA: 3s - loss: 0.9810 - acc: 0.533 - ETA: 3s - loss: 0.9798 - acc: 0.533 - ETA: 3s - loss: 0.9774 - acc: 0.534 - ETA: 3s - loss: 0.9768 - acc: 0.535 - ETA: 3s - loss: 0.9777 - acc: 0.533 - ETA: 3s - loss: 0.9808 - acc: 0.530 - ETA: 3s - loss: 0.9791 - acc: 0.533 - ETA: 3s - loss: 0.9781 - acc: 0.534 - ETA: 3s - loss: 0.9833 - acc: 0.530 - ETA: 3s - loss: 0.9815 - acc: 0.532 - ETA: 3s - loss: 0.9814 - acc: 0.532 - ETA: 3s - loss: 0.9804 - acc: 0.533 - ETA: 3s - loss: 0.9814 - acc: 0.532 - ETA: 3s - loss: 0.9810 - acc: 0.533 - ETA: 3s - loss: 0.9810 - acc: 0.535 - ETA: 3s - loss: 0.9837 - acc: 0.532 - ETA: 3s - loss: 0.9811 - acc: 0.534 - ETA: 3s - loss: 0.9811 - acc: 0.534 - ETA: 3s - loss: 0.9816 - acc: 0.535 - ETA: 3s - loss: 0.9798 - acc: 0.537 - ETA: 3s - loss: 0.9807 - acc: 0.535 - ETA: 3s - loss: 0.9780 - acc: 0.536 - ETA: 3s - loss: 0.9796 - acc: 0.535 - ETA: 3s - loss: 0.9776 - acc: 0.537 - ETA: 2s - loss: 0.9779 - acc: 0.536 - ETA: 2s - loss: 0.9792 - acc: 0.535 - ETA: 2s - loss: 0.9796 - acc: 0.534 - ETA: 2s - loss: 0.9796 - acc: 0.534 - ETA: 2s - loss: 0.9792 - acc: 0.534 - ETA: 2s - loss: 0.9790 - acc: 0.534 - ETA: 2s - loss: 0.9787 - acc: 0.534 - ETA: 2s - loss: 0.9780 - acc: 0.534 - ETA: 2s - loss: 0.9784 - acc: 0.534 - ETA: 2s - loss: 0.9805 - acc: 0.533 - ETA: 2s - loss: 0.9801 - acc: 0.532 - ETA: 2s - loss: 0.9822 - acc: 0.532 - ETA: 2s - loss: 0.9842 - acc: 0.530 - ETA: 2s - loss: 0.9837 - acc: 0.530 - ETA: 2s - loss: 0.9854 - acc: 0.528 - ETA: 2s - loss: 0.9852 - acc: 0.529 - ETA: 2s - loss: 0.9869 - acc: 0.527 - ETA: 2s - loss: 0.9867 - acc: 0.526 - ETA: 1s - loss: 0.9877 - acc: 0.525 - ETA: 1s - loss: 0.9884 - acc: 0.524 - ETA: 1s - loss: 0.9872 - acc: 0.526 - ETA: 1s - loss: 0.9881 - acc: 0.526 - ETA: 1s - loss: 0.9882 - acc: 0.526 - ETA: 1s - loss: 0.9879 - acc: 0.526 - ETA: 1s - loss: 0.9875 - acc: 0.526 - ETA: 1s - loss: 0.9874 - acc: 0.526 - ETA: 1s - loss: 0.9878 - acc: 0.526 - ETA: 1s - loss: 0.9875 - acc: 0.525 - ETA: 1s - loss: 0.9868 - acc: 0.526 - ETA: 1s - loss: 0.9883 - acc: 0.524 - ETA: 1s - loss: 0.9889 - acc: 0.522 - ETA: 1s - loss: 0.9898 - acc: 0.521 - ETA: 1s - loss: 0.9887 - acc: 0.522 - ETA: 1s - loss: 0.9878 - acc: 0.523 - ETA: 1s - loss: 0.9884 - acc: 0.523 - ETA: 1s - loss: 0.9872 - acc: 0.524 - ETA: 1s - loss: 0.9876 - acc: 0.523 - ETA: 0s - loss: 0.9868 - acc: 0.524 - ETA: 0s - loss: 0.9876 - acc: 0.523 - ETA: 0s - loss: 0.9868 - acc: 0.524 - ETA: 0s - loss: 0.9874 - acc: 0.524 - ETA: 0s - loss: 0.9873 - acc: 0.524 - ETA: 0s - loss: 0.9871 - acc: 0.525 - ETA: 0s - loss: 0.9880 - acc: 0.524 - ETA: 0s - loss: 0.9890 - acc: 0.523 - ETA: 0s - loss: 0.9889 - acc: 0.523 - ETA: 0s - loss: 0.9889 - acc: 0.523 - ETA: 0s - loss: 0.9894 - acc: 0.522 - ETA: 0s - loss: 0.9893 - acc: 0.523 - ETA: 0s - loss: 0.9890 - acc: 0.523 - ETA: 0s - loss: 0.9892 - acc: 0.523 - ETA: 0s - loss: 0.9890 - acc: 0.524 - ETA: 0s - loss: 0.9903 - acc: 0.522 - ETA: 0s - loss: 0.9896 - acc: 0.524 - ETA: 0s - loss: 0.9892 - acc: 0.524 - ETA: 0s - loss: 0.9880 - acc: 0.526 - 6s 784us/sample - loss: 0.9879 - acc: 0.5263 - val_loss: 0.9936 - val_acc: 0.5313\n",
      "Epoch 8/10\n",
      "7112/7112 [==============================] - ETA: 6s - loss: 1.3135 - acc: 0.300 - ETA: 6s - loss: 1.0345 - acc: 0.514 - ETA: 5s - loss: 1.0031 - acc: 0.535 - ETA: 5s - loss: 0.9811 - acc: 0.536 - ETA: 5s - loss: 0.9853 - acc: 0.535 - ETA: 5s - loss: 0.9889 - acc: 0.531 - ETA: 5s - loss: 0.9971 - acc: 0.522 - ETA: 5s - loss: 0.9898 - acc: 0.527 - ETA: 6s - loss: 0.9858 - acc: 0.533 - ETA: 6s - loss: 0.9910 - acc: 0.518 - ETA: 6s - loss: 0.9958 - acc: 0.516 - ETA: 5s - loss: 0.9953 - acc: 0.520 - ETA: 5s - loss: 1.0002 - acc: 0.517 - ETA: 5s - loss: 0.9918 - acc: 0.528 - ETA: 5s - loss: 0.9885 - acc: 0.533 - ETA: 5s - loss: 0.9907 - acc: 0.530 - ETA: 5s - loss: 0.9955 - acc: 0.525 - ETA: 4s - loss: 0.9887 - acc: 0.533 - ETA: 4s - loss: 0.9856 - acc: 0.533 - ETA: 4s - loss: 0.9831 - acc: 0.536 - ETA: 4s - loss: 0.9828 - acc: 0.536 - ETA: 4s - loss: 0.9862 - acc: 0.534 - ETA: 4s - loss: 0.9869 - acc: 0.534 - ETA: 4s - loss: 0.9902 - acc: 0.529 - ETA: 3s - loss: 0.9877 - acc: 0.532 - ETA: 3s - loss: 0.9851 - acc: 0.535 - ETA: 3s - loss: 0.9878 - acc: 0.533 - ETA: 3s - loss: 0.9865 - acc: 0.534 - ETA: 3s - loss: 0.9865 - acc: 0.536 - ETA: 3s - loss: 0.9878 - acc: 0.533 - ETA: 3s - loss: 0.9858 - acc: 0.535 - ETA: 3s - loss: 0.9838 - acc: 0.535 - ETA: 3s - loss: 0.9831 - acc: 0.534 - ETA: 3s - loss: 0.9844 - acc: 0.533 - ETA: 3s - loss: 0.9836 - acc: 0.534 - ETA: 3s - loss: 0.9809 - acc: 0.535 - ETA: 3s - loss: 0.9827 - acc: 0.533 - ETA: 3s - loss: 0.9835 - acc: 0.531 - ETA: 3s - loss: 0.9828 - acc: 0.533 - ETA: 3s - loss: 0.9818 - acc: 0.532 - ETA: 3s - loss: 0.9826 - acc: 0.533 - ETA: 3s - loss: 0.9828 - acc: 0.533 - ETA: 3s - loss: 0.9805 - acc: 0.534 - ETA: 3s - loss: 0.9829 - acc: 0.531 - ETA: 3s - loss: 0.9824 - acc: 0.532 - ETA: 3s - loss: 0.9832 - acc: 0.531 - ETA: 3s - loss: 0.9831 - acc: 0.531 - ETA: 3s - loss: 0.9831 - acc: 0.531 - ETA: 3s - loss: 0.9848 - acc: 0.529 - ETA: 3s - loss: 0.9841 - acc: 0.530 - ETA: 2s - loss: 0.9834 - acc: 0.531 - ETA: 2s - loss: 0.9835 - acc: 0.530 - ETA: 2s - loss: 0.9840 - acc: 0.530 - ETA: 2s - loss: 0.9839 - acc: 0.530 - ETA: 2s - loss: 0.9834 - acc: 0.531 - ETA: 2s - loss: 0.9837 - acc: 0.532 - ETA: 2s - loss: 0.9832 - acc: 0.532 - ETA: 2s - loss: 0.9843 - acc: 0.531 - ETA: 2s - loss: 0.9852 - acc: 0.530 - ETA: 2s - loss: 0.9869 - acc: 0.528 - ETA: 2s - loss: 0.9883 - acc: 0.525 - ETA: 2s - loss: 0.9883 - acc: 0.526 - ETA: 2s - loss: 0.9882 - acc: 0.527 - ETA: 2s - loss: 0.9886 - acc: 0.526 - ETA: 2s - loss: 0.9878 - acc: 0.527 - ETA: 2s - loss: 0.9882 - acc: 0.527 - ETA: 2s - loss: 0.9885 - acc: 0.526 - ETA: 1s - loss: 0.9874 - acc: 0.526 - ETA: 1s - loss: 0.9878 - acc: 0.525 - ETA: 1s - loss: 0.9878 - acc: 0.525 - ETA: 1s - loss: 0.9876 - acc: 0.525 - ETA: 1s - loss: 0.9874 - acc: 0.525 - ETA: 1s - loss: 0.9866 - acc: 0.526 - ETA: 1s - loss: 0.9878 - acc: 0.524 - ETA: 1s - loss: 0.9881 - acc: 0.524 - ETA: 1s - loss: 0.9888 - acc: 0.523 - ETA: 1s - loss: 0.9873 - acc: 0.524 - ETA: 1s - loss: 0.9889 - acc: 0.523 - ETA: 1s - loss: 0.9882 - acc: 0.524 - ETA: 1s - loss: 0.9888 - acc: 0.524 - ETA: 1s - loss: 0.9893 - acc: 0.524 - ETA: 1s - loss: 0.9892 - acc: 0.524 - ETA: 1s - loss: 0.9901 - acc: 0.523 - ETA: 1s - loss: 0.9889 - acc: 0.525 - ETA: 1s - loss: 0.9887 - acc: 0.526 - ETA: 1s - loss: 0.9890 - acc: 0.525 - ETA: 0s - loss: 0.9893 - acc: 0.526 - ETA: 0s - loss: 0.9876 - acc: 0.527 - ETA: 0s - loss: 0.9871 - acc: 0.528 - ETA: 0s - loss: 0.9869 - acc: 0.528 - ETA: 0s - loss: 0.9873 - acc: 0.528 - ETA: 0s - loss: 0.9870 - acc: 0.528 - ETA: 0s - loss: 0.9878 - acc: 0.527 - ETA: 0s - loss: 0.9873 - acc: 0.527 - ETA: 0s - loss: 0.9880 - acc: 0.527 - ETA: 0s - loss: 0.9877 - acc: 0.528 - ETA: 0s - loss: 0.9873 - acc: 0.528 - ETA: 0s - loss: 0.9882 - acc: 0.526 - ETA: 0s - loss: 0.9881 - acc: 0.526 - ETA: 0s - loss: 0.9888 - acc: 0.525 - ETA: 0s - loss: 0.9889 - acc: 0.526 - ETA: 0s - loss: 0.9889 - acc: 0.526 - 6s 831us/sample - loss: 0.9888 - acc: 0.5264 - val_loss: 0.9714 - val_acc: 0.5309\n",
      "Epoch 9/10\n"
     ]
    },
    {
     "name": "stdout",
     "output_type": "stream",
     "text": [
      "7112/7112 [==============================] - ETA: 9s - loss: 0.8999 - acc: 0.700 - ETA: 7s - loss: 0.9818 - acc: 0.533 - ETA: 6s - loss: 0.9988 - acc: 0.507 - ETA: 6s - loss: 0.9872 - acc: 0.505 - ETA: 6s - loss: 0.9865 - acc: 0.524 - ETA: 5s - loss: 0.9866 - acc: 0.522 - ETA: 5s - loss: 0.9781 - acc: 0.536 - ETA: 5s - loss: 0.9929 - acc: 0.519 - ETA: 5s - loss: 0.9997 - acc: 0.511 - ETA: 5s - loss: 0.9969 - acc: 0.518 - ETA: 4s - loss: 0.9997 - acc: 0.515 - ETA: 4s - loss: 0.9950 - acc: 0.519 - ETA: 5s - loss: 0.9957 - acc: 0.518 - ETA: 4s - loss: 0.9987 - acc: 0.517 - ETA: 4s - loss: 0.9942 - acc: 0.522 - ETA: 4s - loss: 0.9923 - acc: 0.520 - ETA: 4s - loss: 0.9908 - acc: 0.520 - ETA: 4s - loss: 0.9885 - acc: 0.519 - ETA: 4s - loss: 0.9893 - acc: 0.518 - ETA: 3s - loss: 0.9882 - acc: 0.520 - ETA: 3s - loss: 0.9851 - acc: 0.524 - ETA: 3s - loss: 0.9911 - acc: 0.520 - ETA: 3s - loss: 0.9887 - acc: 0.525 - ETA: 3s - loss: 0.9870 - acc: 0.527 - ETA: 3s - loss: 0.9876 - acc: 0.524 - ETA: 3s - loss: 0.9919 - acc: 0.521 - ETA: 3s - loss: 0.9917 - acc: 0.520 - ETA: 3s - loss: 0.9888 - acc: 0.523 - ETA: 3s - loss: 0.9906 - acc: 0.523 - ETA: 3s - loss: 0.9908 - acc: 0.525 - ETA: 3s - loss: 0.9921 - acc: 0.523 - ETA: 2s - loss: 0.9914 - acc: 0.523 - ETA: 2s - loss: 0.9905 - acc: 0.524 - ETA: 2s - loss: 0.9914 - acc: 0.522 - ETA: 2s - loss: 0.9918 - acc: 0.522 - ETA: 2s - loss: 0.9906 - acc: 0.524 - ETA: 2s - loss: 0.9902 - acc: 0.523 - ETA: 2s - loss: 0.9874 - acc: 0.525 - ETA: 2s - loss: 0.9875 - acc: 0.526 - ETA: 2s - loss: 0.9877 - acc: 0.527 - ETA: 2s - loss: 0.9867 - acc: 0.529 - ETA: 2s - loss: 0.9851 - acc: 0.529 - ETA: 1s - loss: 0.9849 - acc: 0.529 - ETA: 1s - loss: 0.9837 - acc: 0.531 - ETA: 1s - loss: 0.9822 - acc: 0.532 - ETA: 1s - loss: 0.9794 - acc: 0.534 - ETA: 1s - loss: 0.9802 - acc: 0.533 - ETA: 1s - loss: 0.9811 - acc: 0.532 - ETA: 1s - loss: 0.9814 - acc: 0.531 - ETA: 1s - loss: 0.9816 - acc: 0.531 - ETA: 1s - loss: 0.9823 - acc: 0.530 - ETA: 1s - loss: 0.9834 - acc: 0.529 - ETA: 1s - loss: 0.9837 - acc: 0.529 - ETA: 1s - loss: 0.9824 - acc: 0.530 - ETA: 1s - loss: 0.9803 - acc: 0.534 - ETA: 1s - loss: 0.9806 - acc: 0.534 - ETA: 1s - loss: 0.9811 - acc: 0.533 - ETA: 1s - loss: 0.9823 - acc: 0.531 - ETA: 1s - loss: 0.9837 - acc: 0.530 - ETA: 1s - loss: 0.9833 - acc: 0.532 - ETA: 1s - loss: 0.9846 - acc: 0.530 - ETA: 1s - loss: 0.9850 - acc: 0.529 - ETA: 0s - loss: 0.9842 - acc: 0.530 - ETA: 0s - loss: 0.9852 - acc: 0.529 - ETA: 0s - loss: 0.9846 - acc: 0.529 - ETA: 0s - loss: 0.9846 - acc: 0.529 - ETA: 0s - loss: 0.9844 - acc: 0.529 - ETA: 0s - loss: 0.9841 - acc: 0.529 - ETA: 0s - loss: 0.9834 - acc: 0.529 - ETA: 0s - loss: 0.9836 - acc: 0.529 - ETA: 0s - loss: 0.9829 - acc: 0.530 - ETA: 0s - loss: 0.9820 - acc: 0.531 - ETA: 0s - loss: 0.9827 - acc: 0.530 - ETA: 0s - loss: 0.9833 - acc: 0.529 - ETA: 0s - loss: 0.9831 - acc: 0.529 - ETA: 0s - loss: 0.9839 - acc: 0.528 - ETA: 0s - loss: 0.9837 - acc: 0.528 - ETA: 0s - loss: 0.9833 - acc: 0.528 - ETA: 0s - loss: 0.9838 - acc: 0.527 - ETA: 0s - loss: 0.9841 - acc: 0.527 - ETA: 0s - loss: 0.9841 - acc: 0.527 - ETA: 0s - loss: 0.9842 - acc: 0.528 - ETA: 0s - loss: 0.9845 - acc: 0.527 - 5s 675us/sample - loss: 0.9846 - acc: 0.5271 - val_loss: 0.9734 - val_acc: 0.5262\n",
      "Epoch 10/10\n",
      "7112/7112 [==============================] - ETA: 10s - loss: 1.0664 - acc: 0.40 - ETA: 7s - loss: 0.9443 - acc: 0.5333 - ETA: 6s - loss: 0.9864 - acc: 0.469 - ETA: 5s - loss: 1.0035 - acc: 0.470 - ETA: 5s - loss: 0.9865 - acc: 0.492 - ETA: 5s - loss: 0.9680 - acc: 0.514 - ETA: 5s - loss: 0.9785 - acc: 0.516 - ETA: 4s - loss: 0.9932 - acc: 0.498 - ETA: 4s - loss: 0.9813 - acc: 0.512 - ETA: 4s - loss: 0.9899 - acc: 0.507 - ETA: 4s - loss: 0.9926 - acc: 0.502 - ETA: 4s - loss: 0.9933 - acc: 0.501 - ETA: 4s - loss: 0.9925 - acc: 0.502 - ETA: 4s - loss: 0.9911 - acc: 0.507 - ETA: 4s - loss: 0.9897 - acc: 0.514 - ETA: 4s - loss: 0.9916 - acc: 0.510 - ETA: 4s - loss: 0.9925 - acc: 0.515 - ETA: 4s - loss: 0.9919 - acc: 0.515 - ETA: 3s - loss: 0.9889 - acc: 0.516 - ETA: 4s - loss: 0.9883 - acc: 0.516 - ETA: 4s - loss: 0.9873 - acc: 0.517 - ETA: 4s - loss: 0.9831 - acc: 0.521 - ETA: 4s - loss: 0.9834 - acc: 0.523 - ETA: 4s - loss: 0.9856 - acc: 0.524 - ETA: 3s - loss: 0.9841 - acc: 0.528 - ETA: 3s - loss: 0.9866 - acc: 0.523 - ETA: 3s - loss: 0.9873 - acc: 0.523 - ETA: 3s - loss: 0.9917 - acc: 0.519 - ETA: 3s - loss: 0.9883 - acc: 0.524 - ETA: 3s - loss: 0.9888 - acc: 0.524 - ETA: 3s - loss: 0.9901 - acc: 0.522 - ETA: 3s - loss: 0.9906 - acc: 0.521 - ETA: 2s - loss: 0.9913 - acc: 0.520 - ETA: 2s - loss: 0.9915 - acc: 0.520 - ETA: 2s - loss: 0.9910 - acc: 0.521 - ETA: 2s - loss: 0.9890 - acc: 0.523 - ETA: 2s - loss: 0.9893 - acc: 0.523 - ETA: 2s - loss: 0.9884 - acc: 0.523 - ETA: 2s - loss: 0.9905 - acc: 0.520 - ETA: 2s - loss: 0.9900 - acc: 0.522 - ETA: 2s - loss: 0.9904 - acc: 0.521 - ETA: 2s - loss: 0.9898 - acc: 0.523 - ETA: 2s - loss: 0.9905 - acc: 0.523 - ETA: 2s - loss: 0.9911 - acc: 0.522 - ETA: 2s - loss: 0.9902 - acc: 0.522 - ETA: 2s - loss: 0.9908 - acc: 0.521 - ETA: 2s - loss: 0.9923 - acc: 0.521 - ETA: 2s - loss: 0.9944 - acc: 0.519 - ETA: 2s - loss: 0.9931 - acc: 0.521 - ETA: 2s - loss: 0.9930 - acc: 0.521 - ETA: 2s - loss: 0.9924 - acc: 0.522 - ETA: 2s - loss: 0.9931 - acc: 0.521 - ETA: 1s - loss: 0.9926 - acc: 0.522 - ETA: 1s - loss: 0.9909 - acc: 0.523 - ETA: 1s - loss: 0.9910 - acc: 0.523 - ETA: 1s - loss: 0.9904 - acc: 0.523 - ETA: 1s - loss: 0.9892 - acc: 0.524 - ETA: 1s - loss: 0.9894 - acc: 0.524 - ETA: 1s - loss: 0.9892 - acc: 0.524 - ETA: 1s - loss: 0.9906 - acc: 0.523 - ETA: 1s - loss: 0.9911 - acc: 0.523 - ETA: 1s - loss: 0.9923 - acc: 0.521 - ETA: 1s - loss: 0.9922 - acc: 0.520 - ETA: 1s - loss: 0.9917 - acc: 0.521 - ETA: 1s - loss: 0.9898 - acc: 0.523 - ETA: 1s - loss: 0.9892 - acc: 0.523 - ETA: 1s - loss: 0.9889 - acc: 0.523 - ETA: 1s - loss: 0.9871 - acc: 0.526 - ETA: 1s - loss: 0.9865 - acc: 0.527 - ETA: 1s - loss: 0.9874 - acc: 0.526 - ETA: 1s - loss: 0.9875 - acc: 0.526 - ETA: 1s - loss: 0.9873 - acc: 0.526 - ETA: 1s - loss: 0.9862 - acc: 0.527 - ETA: 1s - loss: 0.9863 - acc: 0.526 - ETA: 1s - loss: 0.9864 - acc: 0.526 - ETA: 1s - loss: 0.9860 - acc: 0.526 - ETA: 1s - loss: 0.9857 - acc: 0.526 - ETA: 0s - loss: 0.9861 - acc: 0.526 - ETA: 0s - loss: 0.9852 - acc: 0.527 - ETA: 0s - loss: 0.9863 - acc: 0.527 - ETA: 0s - loss: 0.9870 - acc: 0.526 - ETA: 0s - loss: 0.9875 - acc: 0.525 - ETA: 0s - loss: 0.9875 - acc: 0.525 - ETA: 0s - loss: 0.9878 - acc: 0.526 - ETA: 0s - loss: 0.9880 - acc: 0.525 - ETA: 0s - loss: 0.9888 - acc: 0.524 - ETA: 0s - loss: 0.9887 - acc: 0.524 - ETA: 0s - loss: 0.9886 - acc: 0.523 - ETA: 0s - loss: 0.9886 - acc: 0.523 - ETA: 0s - loss: 0.9894 - acc: 0.522 - ETA: 0s - loss: 0.9880 - acc: 0.524 - ETA: 0s - loss: 0.9886 - acc: 0.524 - ETA: 0s - loss: 0.9880 - acc: 0.524 - ETA: 0s - loss: 0.9875 - acc: 0.524 - ETA: 0s - loss: 0.9877 - acc: 0.524 - ETA: 0s - loss: 0.9874 - acc: 0.524 - ETA: 0s - loss: 0.9873 - acc: 0.525 - ETA: 0s - loss: 0.9871 - acc: 0.525 - ETA: 0s - loss: 0.9881 - acc: 0.524 - ETA: 0s - loss: 0.9877 - acc: 0.525 - 6s 800us/sample - loss: 0.9878 - acc: 0.5253 - val_loss: 0.9754 - val_acc: 0.5257\n"
     ]
    },
    {
     "data": {
      "text/html": [
       "<span style=\"color:#4527A0\"><h1 style=\"font-size:18px\">Trial complete</h1></span>"
      ],
      "text/plain": [
       "<IPython.core.display.HTML object>"
      ]
     },
     "metadata": {},
     "output_type": "display_data"
    },
    {
     "data": {
      "text/html": [
       "<span style=\"color:#4527A0\"><h1 style=\"font-size:18px\">Trial summary</h1></span>"
      ],
      "text/plain": [
       "<IPython.core.display.HTML object>"
      ]
     },
     "metadata": {},
     "output_type": "display_data"
    },
    {
     "data": {
      "text/html": [
       "<span style=\"color:cyan\"> |-Trial ID: 8f346add21167796bbd5a2b34c5c4f7c</span>"
      ],
      "text/plain": [
       "<IPython.core.display.HTML object>"
      ]
     },
     "metadata": {},
     "output_type": "display_data"
    },
    {
     "data": {
      "text/html": [
       "<span style=\"color:cyan\"> |-Score: 0.5343053340911865</span>"
      ],
      "text/plain": [
       "<IPython.core.display.HTML object>"
      ]
     },
     "metadata": {},
     "output_type": "display_data"
    },
    {
     "data": {
      "text/html": [
       "<span style=\"color:cyan\"> |-Best step: 0</span>"
      ],
      "text/plain": [
       "<IPython.core.display.HTML object>"
      ]
     },
     "metadata": {},
     "output_type": "display_data"
    },
    {
     "data": {
      "text/html": [
       "<span style=\"color:#7E57C2\"><h2 style=\"font-size:16px\">Hyperparameters:</h2></span>"
      ],
      "text/plain": [
       "<IPython.core.display.HTML object>"
      ]
     },
     "metadata": {},
     "output_type": "display_data"
    },
    {
     "data": {
      "text/html": [
       "<span style=\"color:cyan\"> |-layer_0_neurons: 70</span>"
      ],
      "text/plain": [
       "<IPython.core.display.HTML object>"
      ]
     },
     "metadata": {},
     "output_type": "display_data"
    },
    {
     "data": {
      "text/html": [
       "<span style=\"color:blue\"> |-layer_1_neurons: 50</span>"
      ],
      "text/plain": [
       "<IPython.core.display.HTML object>"
      ]
     },
     "metadata": {},
     "output_type": "display_data"
    },
    {
     "data": {
      "text/html": [
       "<span style=\"color:cyan\"> |-layer_2_neurons: 150</span>"
      ],
      "text/plain": [
       "<IPython.core.display.HTML object>"
      ]
     },
     "metadata": {},
     "output_type": "display_data"
    },
    {
     "data": {
      "text/html": [
       "<span style=\"color:blue\"> |-layer_3_neurons: 90</span>"
      ],
      "text/plain": [
       "<IPython.core.display.HTML object>"
      ]
     },
     "metadata": {},
     "output_type": "display_data"
    },
    {
     "data": {
      "text/html": [
       "<span style=\"color:cyan\"> |-n_input_neurons: 90</span>"
      ],
      "text/plain": [
       "<IPython.core.display.HTML object>"
      ]
     },
     "metadata": {},
     "output_type": "display_data"
    },
    {
     "data": {
      "text/html": [
       "<span style=\"color:blue\"> |-n_layers: 4</span>"
      ],
      "text/plain": [
       "<IPython.core.display.HTML object>"
      ]
     },
     "metadata": {},
     "output_type": "display_data"
    },
    {
     "name": "stdout",
     "output_type": "stream",
     "text": [
      "Train on 7112 samples, validate on 2332 samples\n",
      "Epoch 1/10\n",
      "7112/7112 [==============================] - ETA: 6:49 - loss: 1.2185 - acc: 0.500 - ETA: 31s - loss: 1.1213 - acc: 0.414 - ETA: 18s - loss: 1.0798 - acc: 0.46 - ETA: 13s - loss: 1.0519 - acc: 0.48 - ETA: 10s - loss: 1.0585 - acc: 0.47 - ETA: 8s - loss: 1.0583 - acc: 0.4645 - ETA: 7s - loss: 1.0550 - acc: 0.467 - ETA: 6s - loss: 1.0546 - acc: 0.466 - ETA: 5s - loss: 1.0535 - acc: 0.468 - ETA: 5s - loss: 1.0539 - acc: 0.466 - ETA: 5s - loss: 1.0541 - acc: 0.463 - ETA: 4s - loss: 1.0526 - acc: 0.469 - ETA: 4s - loss: 1.0511 - acc: 0.471 - ETA: 4s - loss: 1.0466 - acc: 0.475 - ETA: 3s - loss: 1.0472 - acc: 0.474 - ETA: 3s - loss: 1.0478 - acc: 0.473 - ETA: 3s - loss: 1.0479 - acc: 0.472 - ETA: 3s - loss: 1.0442 - acc: 0.476 - ETA: 3s - loss: 1.0398 - acc: 0.482 - ETA: 3s - loss: 1.0372 - acc: 0.486 - ETA: 3s - loss: 1.0380 - acc: 0.485 - ETA: 3s - loss: 1.0366 - acc: 0.488 - ETA: 3s - loss: 1.0367 - acc: 0.488 - ETA: 3s - loss: 1.0368 - acc: 0.488 - ETA: 3s - loss: 1.0369 - acc: 0.488 - ETA: 3s - loss: 1.0357 - acc: 0.489 - ETA: 3s - loss: 1.0361 - acc: 0.488 - ETA: 3s - loss: 1.0366 - acc: 0.487 - ETA: 2s - loss: 1.0357 - acc: 0.488 - ETA: 2s - loss: 1.0351 - acc: 0.490 - ETA: 2s - loss: 1.0313 - acc: 0.492 - ETA: 2s - loss: 1.0331 - acc: 0.491 - ETA: 2s - loss: 1.0345 - acc: 0.488 - ETA: 2s - loss: 1.0346 - acc: 0.488 - ETA: 2s - loss: 1.0354 - acc: 0.487 - ETA: 2s - loss: 1.0346 - acc: 0.489 - ETA: 2s - loss: 1.0337 - acc: 0.488 - ETA: 2s - loss: 1.0301 - acc: 0.492 - ETA: 2s - loss: 1.0299 - acc: 0.494 - ETA: 1s - loss: 1.0285 - acc: 0.494 - ETA: 1s - loss: 1.0272 - acc: 0.495 - ETA: 1s - loss: 1.0264 - acc: 0.495 - ETA: 1s - loss: 1.0254 - acc: 0.497 - ETA: 1s - loss: 1.0233 - acc: 0.499 - ETA: 1s - loss: 1.0225 - acc: 0.500 - ETA: 1s - loss: 1.0223 - acc: 0.502 - ETA: 1s - loss: 1.0228 - acc: 0.502 - ETA: 1s - loss: 1.0213 - acc: 0.504 - ETA: 1s - loss: 1.0215 - acc: 0.504 - ETA: 0s - loss: 1.0208 - acc: 0.504 - ETA: 0s - loss: 1.0210 - acc: 0.504 - ETA: 0s - loss: 1.0205 - acc: 0.504 - ETA: 0s - loss: 1.0197 - acc: 0.504 - ETA: 0s - loss: 1.0194 - acc: 0.505 - ETA: 0s - loss: 1.0189 - acc: 0.504 - ETA: 0s - loss: 1.0181 - acc: 0.505 - ETA: 0s - loss: 1.0174 - acc: 0.506 - ETA: 0s - loss: 1.0165 - acc: 0.507 - ETA: 0s - loss: 1.0167 - acc: 0.507 - ETA: 0s - loss: 1.0156 - acc: 0.508 - ETA: 0s - loss: 1.0143 - acc: 0.509 - ETA: 0s - loss: 1.0157 - acc: 0.507 - 5s 639us/sample - loss: 1.0161 - acc: 0.5067 - val_loss: 0.9872 - val_acc: 0.5317\n",
      "Epoch 2/10\n",
      "7112/7112 [==============================] - ETA: 5s - loss: 1.0616 - acc: 0.400 - ETA: 5s - loss: 1.0613 - acc: 0.442 - ETA: 4s - loss: 1.0157 - acc: 0.489 - ETA: 3s - loss: 1.0020 - acc: 0.500 - ETA: 3s - loss: 0.9797 - acc: 0.537 - ETA: 3s - loss: 0.9769 - acc: 0.538 - ETA: 3s - loss: 0.9745 - acc: 0.548 - ETA: 3s - loss: 0.9820 - acc: 0.538 - ETA: 3s - loss: 0.9813 - acc: 0.540 - ETA: 3s - loss: 0.9954 - acc: 0.525 - ETA: 2s - loss: 0.9998 - acc: 0.525 - ETA: 2s - loss: 1.0031 - acc: 0.525 - ETA: 2s - loss: 1.0028 - acc: 0.521 - ETA: 2s - loss: 1.0025 - acc: 0.521 - ETA: 2s - loss: 1.0064 - acc: 0.515 - ETA: 2s - loss: 1.0053 - acc: 0.515 - ETA: 2s - loss: 1.0035 - acc: 0.516 - ETA: 2s - loss: 1.0051 - acc: 0.514 - ETA: 2s - loss: 1.0040 - acc: 0.517 - ETA: 2s - loss: 1.0059 - acc: 0.516 - ETA: 2s - loss: 1.0040 - acc: 0.518 - ETA: 2s - loss: 1.0032 - acc: 0.519 - ETA: 2s - loss: 1.0024 - acc: 0.521 - ETA: 2s - loss: 1.0013 - acc: 0.523 - ETA: 2s - loss: 1.0005 - acc: 0.525 - ETA: 1s - loss: 0.9974 - acc: 0.527 - ETA: 1s - loss: 1.0004 - acc: 0.525 - ETA: 1s - loss: 0.9977 - acc: 0.527 - ETA: 2s - loss: 0.9973 - acc: 0.528 - ETA: 2s - loss: 0.9960 - acc: 0.528 - ETA: 2s - loss: 0.9957 - acc: 0.528 - ETA: 1s - loss: 0.9976 - acc: 0.526 - ETA: 1s - loss: 0.9999 - acc: 0.523 - ETA: 2s - loss: 1.0006 - acc: 0.522 - ETA: 1s - loss: 1.0012 - acc: 0.523 - ETA: 2s - loss: 1.0013 - acc: 0.523 - ETA: 2s - loss: 1.0017 - acc: 0.521 - ETA: 1s - loss: 1.0014 - acc: 0.520 - ETA: 1s - loss: 1.0013 - acc: 0.520 - ETA: 1s - loss: 1.0014 - acc: 0.520 - ETA: 1s - loss: 1.0011 - acc: 0.521 - ETA: 1s - loss: 1.0011 - acc: 0.521 - ETA: 1s - loss: 0.9992 - acc: 0.522 - ETA: 1s - loss: 0.9995 - acc: 0.521 - ETA: 1s - loss: 0.9952 - acc: 0.524 - ETA: 1s - loss: 0.9960 - acc: 0.524 - ETA: 1s - loss: 0.9977 - acc: 0.523 - ETA: 1s - loss: 0.9979 - acc: 0.523 - ETA: 1s - loss: 0.9966 - acc: 0.525 - ETA: 1s - loss: 0.9960 - acc: 0.526 - ETA: 1s - loss: 0.9968 - acc: 0.524 - ETA: 1s - loss: 0.9973 - acc: 0.524 - ETA: 1s - loss: 0.9965 - acc: 0.523 - ETA: 1s - loss: 0.9957 - acc: 0.524 - ETA: 1s - loss: 0.9950 - acc: 0.524 - ETA: 1s - loss: 0.9954 - acc: 0.524 - ETA: 1s - loss: 0.9960 - acc: 0.523 - ETA: 1s - loss: 0.9962 - acc: 0.522 - ETA: 0s - loss: 0.9973 - acc: 0.521 - ETA: 0s - loss: 0.9974 - acc: 0.521 - ETA: 0s - loss: 0.9977 - acc: 0.520 - ETA: 0s - loss: 0.9980 - acc: 0.519 - ETA: 0s - loss: 0.9980 - acc: 0.519 - ETA: 0s - loss: 0.9975 - acc: 0.520 - ETA: 0s - loss: 0.9977 - acc: 0.519 - ETA: 0s - loss: 0.9976 - acc: 0.519 - ETA: 0s - loss: 0.9983 - acc: 0.517 - ETA: 0s - loss: 0.9984 - acc: 0.517 - ETA: 0s - loss: 0.9985 - acc: 0.517 - ETA: 0s - loss: 0.9984 - acc: 0.518 - ETA: 0s - loss: 0.9987 - acc: 0.518 - ETA: 0s - loss: 0.9981 - acc: 0.518 - ETA: 0s - loss: 0.9982 - acc: 0.518 - ETA: 0s - loss: 0.9984 - acc: 0.518 - ETA: 0s - loss: 0.9980 - acc: 0.519 - ETA: 0s - loss: 0.9981 - acc: 0.519 - ETA: 0s - loss: 0.9980 - acc: 0.519 - ETA: 0s - loss: 0.9980 - acc: 0.519 - ETA: 0s - loss: 0.9976 - acc: 0.520 - ETA: 0s - loss: 0.9969 - acc: 0.521 - 5s 659us/sample - loss: 0.9967 - acc: 0.5218 - val_loss: 0.9782 - val_acc: 0.5326\n",
      "Epoch 3/10\n"
     ]
    },
    {
     "name": "stdout",
     "output_type": "stream",
     "text": [
      "7112/7112 [==============================] - ETA: 3s - loss: 0.9315 - acc: 0.600 - ETA: 2s - loss: 0.9404 - acc: 0.561 - ETA: 2s - loss: 0.9987 - acc: 0.525 - ETA: 2s - loss: 0.9753 - acc: 0.545 - ETA: 2s - loss: 0.9767 - acc: 0.550 - ETA: 2s - loss: 0.9800 - acc: 0.542 - ETA: 2s - loss: 0.9695 - acc: 0.554 - ETA: 2s - loss: 0.9777 - acc: 0.547 - ETA: 2s - loss: 0.9821 - acc: 0.544 - ETA: 3s - loss: 0.9788 - acc: 0.545 - ETA: 3s - loss: 0.9781 - acc: 0.542 - ETA: 2s - loss: 0.9789 - acc: 0.542 - ETA: 2s - loss: 0.9812 - acc: 0.533 - ETA: 2s - loss: 0.9851 - acc: 0.534 - ETA: 2s - loss: 0.9817 - acc: 0.537 - ETA: 2s - loss: 0.9788 - acc: 0.539 - ETA: 2s - loss: 0.9799 - acc: 0.539 - ETA: 2s - loss: 0.9783 - acc: 0.540 - ETA: 2s - loss: 0.9777 - acc: 0.540 - ETA: 2s - loss: 0.9773 - acc: 0.540 - ETA: 3s - loss: 0.9789 - acc: 0.537 - ETA: 3s - loss: 0.9777 - acc: 0.538 - ETA: 3s - loss: 0.9797 - acc: 0.537 - ETA: 3s - loss: 0.9784 - acc: 0.538 - ETA: 3s - loss: 0.9775 - acc: 0.540 - ETA: 3s - loss: 0.9783 - acc: 0.539 - ETA: 3s - loss: 0.9775 - acc: 0.539 - ETA: 3s - loss: 0.9818 - acc: 0.536 - ETA: 3s - loss: 0.9820 - acc: 0.536 - ETA: 3s - loss: 0.9816 - acc: 0.536 - ETA: 3s - loss: 0.9793 - acc: 0.539 - ETA: 3s - loss: 0.9774 - acc: 0.539 - ETA: 3s - loss: 0.9801 - acc: 0.537 - ETA: 2s - loss: 0.9827 - acc: 0.534 - ETA: 2s - loss: 0.9825 - acc: 0.534 - ETA: 2s - loss: 0.9834 - acc: 0.531 - ETA: 2s - loss: 0.9858 - acc: 0.528 - ETA: 2s - loss: 0.9856 - acc: 0.531 - ETA: 2s - loss: 0.9849 - acc: 0.532 - ETA: 2s - loss: 0.9860 - acc: 0.530 - ETA: 2s - loss: 0.9877 - acc: 0.528 - ETA: 2s - loss: 0.9896 - acc: 0.527 - ETA: 2s - loss: 0.9905 - acc: 0.525 - ETA: 2s - loss: 0.9903 - acc: 0.526 - ETA: 2s - loss: 0.9899 - acc: 0.525 - ETA: 2s - loss: 0.9901 - acc: 0.525 - ETA: 2s - loss: 0.9878 - acc: 0.527 - ETA: 2s - loss: 0.9873 - acc: 0.529 - ETA: 1s - loss: 0.9885 - acc: 0.527 - ETA: 1s - loss: 0.9876 - acc: 0.528 - ETA: 1s - loss: 0.9878 - acc: 0.528 - ETA: 1s - loss: 0.9879 - acc: 0.527 - ETA: 1s - loss: 0.9878 - acc: 0.526 - ETA: 1s - loss: 0.9889 - acc: 0.524 - ETA: 1s - loss: 0.9896 - acc: 0.524 - ETA: 1s - loss: 0.9893 - acc: 0.523 - ETA: 1s - loss: 0.9883 - acc: 0.524 - ETA: 1s - loss: 0.9879 - acc: 0.525 - ETA: 1s - loss: 0.9877 - acc: 0.525 - ETA: 1s - loss: 0.9877 - acc: 0.525 - ETA: 1s - loss: 0.9885 - acc: 0.525 - ETA: 1s - loss: 0.9877 - acc: 0.526 - ETA: 1s - loss: 0.9878 - acc: 0.526 - ETA: 1s - loss: 0.9888 - acc: 0.524 - ETA: 1s - loss: 0.9889 - acc: 0.524 - ETA: 1s - loss: 0.9901 - acc: 0.524 - ETA: 1s - loss: 0.9892 - acc: 0.524 - ETA: 1s - loss: 0.9901 - acc: 0.523 - ETA: 0s - loss: 0.9906 - acc: 0.522 - ETA: 0s - loss: 0.9891 - acc: 0.524 - ETA: 0s - loss: 0.9907 - acc: 0.523 - ETA: 0s - loss: 0.9915 - acc: 0.522 - ETA: 0s - loss: 0.9932 - acc: 0.521 - ETA: 0s - loss: 0.9929 - acc: 0.521 - ETA: 0s - loss: 0.9938 - acc: 0.521 - ETA: 0s - loss: 0.9946 - acc: 0.520 - ETA: 0s - loss: 0.9940 - acc: 0.521 - ETA: 0s - loss: 0.9932 - acc: 0.522 - ETA: 0s - loss: 0.9944 - acc: 0.521 - ETA: 0s - loss: 0.9938 - acc: 0.522 - ETA: 0s - loss: 0.9923 - acc: 0.522 - 5s 661us/sample - loss: 0.9922 - acc: 0.5224 - val_loss: 0.9861 - val_acc: 0.5313\n",
      "Epoch 4/10\n",
      "7112/7112 [==============================] - ETA: 3s - loss: 1.0819 - acc: 0.300 - ETA: 2s - loss: 1.0085 - acc: 0.492 - ETA: 3s - loss: 1.0016 - acc: 0.495 - ETA: 3s - loss: 1.0064 - acc: 0.490 - ETA: 3s - loss: 0.9920 - acc: 0.502 - ETA: 3s - loss: 0.9952 - acc: 0.507 - ETA: 3s - loss: 0.9989 - acc: 0.498 - ETA: 3s - loss: 1.0008 - acc: 0.496 - ETA: 3s - loss: 0.9975 - acc: 0.507 - ETA: 3s - loss: 0.9911 - acc: 0.519 - ETA: 4s - loss: 0.9878 - acc: 0.521 - ETA: 4s - loss: 0.9872 - acc: 0.524 - ETA: 4s - loss: 0.9909 - acc: 0.521 - ETA: 4s - loss: 0.9920 - acc: 0.517 - ETA: 4s - loss: 0.9935 - acc: 0.520 - ETA: 4s - loss: 0.9919 - acc: 0.521 - ETA: 4s - loss: 0.9920 - acc: 0.520 - ETA: 3s - loss: 0.9875 - acc: 0.525 - ETA: 3s - loss: 0.9867 - acc: 0.528 - ETA: 3s - loss: 0.9863 - acc: 0.530 - ETA: 3s - loss: 0.9872 - acc: 0.529 - ETA: 3s - loss: 0.9896 - acc: 0.528 - ETA: 3s - loss: 0.9897 - acc: 0.526 - ETA: 3s - loss: 0.9922 - acc: 0.522 - ETA: 3s - loss: 0.9910 - acc: 0.527 - ETA: 2s - loss: 0.9915 - acc: 0.526 - ETA: 2s - loss: 0.9925 - acc: 0.526 - ETA: 2s - loss: 0.9922 - acc: 0.525 - ETA: 2s - loss: 0.9953 - acc: 0.521 - ETA: 2s - loss: 0.9932 - acc: 0.524 - ETA: 2s - loss: 0.9916 - acc: 0.524 - ETA: 2s - loss: 0.9910 - acc: 0.525 - ETA: 2s - loss: 0.9931 - acc: 0.522 - ETA: 2s - loss: 0.9942 - acc: 0.521 - ETA: 2s - loss: 0.9955 - acc: 0.519 - ETA: 2s - loss: 0.9957 - acc: 0.519 - ETA: 2s - loss: 0.9935 - acc: 0.522 - ETA: 2s - loss: 0.9932 - acc: 0.522 - ETA: 2s - loss: 0.9957 - acc: 0.518 - ETA: 2s - loss: 0.9942 - acc: 0.520 - ETA: 2s - loss: 0.9902 - acc: 0.523 - ETA: 2s - loss: 0.9910 - acc: 0.522 - ETA: 2s - loss: 0.9896 - acc: 0.523 - ETA: 2s - loss: 0.9895 - acc: 0.523 - ETA: 2s - loss: 0.9897 - acc: 0.523 - ETA: 2s - loss: 0.9890 - acc: 0.523 - ETA: 2s - loss: 0.9891 - acc: 0.523 - ETA: 1s - loss: 0.9869 - acc: 0.526 - ETA: 1s - loss: 0.9889 - acc: 0.524 - ETA: 1s - loss: 0.9896 - acc: 0.524 - ETA: 1s - loss: 0.9878 - acc: 0.525 - ETA: 1s - loss: 0.9893 - acc: 0.523 - ETA: 1s - loss: 0.9888 - acc: 0.523 - ETA: 1s - loss: 0.9891 - acc: 0.523 - ETA: 1s - loss: 0.9887 - acc: 0.523 - ETA: 1s - loss: 0.9886 - acc: 0.523 - ETA: 1s - loss: 0.9895 - acc: 0.522 - ETA: 1s - loss: 0.9899 - acc: 0.521 - ETA: 1s - loss: 0.9901 - acc: 0.521 - ETA: 1s - loss: 0.9890 - acc: 0.522 - ETA: 1s - loss: 0.9881 - acc: 0.523 - ETA: 1s - loss: 0.9869 - acc: 0.525 - ETA: 1s - loss: 0.9898 - acc: 0.523 - ETA: 1s - loss: 0.9905 - acc: 0.522 - ETA: 0s - loss: 0.9907 - acc: 0.521 - ETA: 0s - loss: 0.9904 - acc: 0.522 - ETA: 0s - loss: 0.9920 - acc: 0.520 - ETA: 0s - loss: 0.9926 - acc: 0.519 - ETA: 0s - loss: 0.9929 - acc: 0.519 - ETA: 0s - loss: 0.9931 - acc: 0.520 - ETA: 0s - loss: 0.9919 - acc: 0.521 - ETA: 0s - loss: 0.9909 - acc: 0.523 - ETA: 0s - loss: 0.9914 - acc: 0.522 - ETA: 0s - loss: 0.9917 - acc: 0.522 - ETA: 0s - loss: 0.9907 - acc: 0.524 - ETA: 0s - loss: 0.9913 - acc: 0.523 - ETA: 0s - loss: 0.9900 - acc: 0.524 - ETA: 0s - loss: 0.9904 - acc: 0.524 - ETA: 0s - loss: 0.9912 - acc: 0.523 - ETA: 0s - loss: 0.9916 - acc: 0.522 - ETA: 0s - loss: 0.9913 - acc: 0.523 - ETA: 0s - loss: 0.9911 - acc: 0.523 - ETA: 0s - loss: 0.9907 - acc: 0.524 - 5s 678us/sample - loss: 0.9915 - acc: 0.5239 - val_loss: 0.9750 - val_acc: 0.5304\n",
      "Epoch 5/10\n"
     ]
    },
    {
     "name": "stdout",
     "output_type": "stream",
     "text": [
      "7112/7112 [==============================] - ETA: 28s - loss: 0.9456 - acc: 0.60 - ETA: 8s - loss: 1.0204 - acc: 0.5200 - ETA: 5s - loss: 0.9906 - acc: 0.523 - ETA: 4s - loss: 0.9892 - acc: 0.516 - ETA: 6s - loss: 0.9873 - acc: 0.516 - ETA: 7s - loss: 0.9864 - acc: 0.518 - ETA: 6s - loss: 0.9994 - acc: 0.509 - ETA: 6s - loss: 0.9877 - acc: 0.529 - ETA: 5s - loss: 0.9802 - acc: 0.531 - ETA: 5s - loss: 0.9743 - acc: 0.539 - ETA: 5s - loss: 0.9825 - acc: 0.529 - ETA: 5s - loss: 0.9980 - acc: 0.517 - ETA: 4s - loss: 1.0019 - acc: 0.514 - ETA: 4s - loss: 0.9926 - acc: 0.524 - ETA: 4s - loss: 0.9924 - acc: 0.521 - ETA: 4s - loss: 0.9965 - acc: 0.514 - ETA: 3s - loss: 0.9933 - acc: 0.516 - ETA: 3s - loss: 0.9920 - acc: 0.518 - ETA: 3s - loss: 0.9956 - acc: 0.517 - ETA: 3s - loss: 0.9928 - acc: 0.520 - ETA: 3s - loss: 0.9918 - acc: 0.520 - ETA: 3s - loss: 0.9893 - acc: 0.519 - ETA: 3s - loss: 0.9887 - acc: 0.522 - ETA: 3s - loss: 0.9854 - acc: 0.525 - ETA: 2s - loss: 0.9843 - acc: 0.525 - ETA: 2s - loss: 0.9850 - acc: 0.524 - ETA: 3s - loss: 0.9854 - acc: 0.525 - ETA: 3s - loss: 0.9859 - acc: 0.523 - ETA: 2s - loss: 0.9902 - acc: 0.519 - ETA: 2s - loss: 0.9903 - acc: 0.519 - ETA: 2s - loss: 0.9901 - acc: 0.522 - ETA: 2s - loss: 0.9899 - acc: 0.522 - ETA: 2s - loss: 0.9901 - acc: 0.520 - ETA: 2s - loss: 0.9899 - acc: 0.520 - ETA: 2s - loss: 0.9906 - acc: 0.520 - ETA: 2s - loss: 0.9903 - acc: 0.521 - ETA: 2s - loss: 0.9912 - acc: 0.519 - ETA: 2s - loss: 0.9907 - acc: 0.519 - ETA: 2s - loss: 0.9920 - acc: 0.518 - ETA: 2s - loss: 0.9908 - acc: 0.519 - ETA: 2s - loss: 0.9905 - acc: 0.519 - ETA: 2s - loss: 0.9883 - acc: 0.521 - ETA: 2s - loss: 0.9870 - acc: 0.521 - ETA: 1s - loss: 0.9864 - acc: 0.520 - ETA: 1s - loss: 0.9860 - acc: 0.522 - ETA: 1s - loss: 0.9878 - acc: 0.521 - ETA: 1s - loss: 0.9885 - acc: 0.521 - ETA: 1s - loss: 0.9886 - acc: 0.520 - ETA: 1s - loss: 0.9896 - acc: 0.519 - ETA: 1s - loss: 0.9901 - acc: 0.520 - ETA: 1s - loss: 0.9891 - acc: 0.520 - ETA: 1s - loss: 0.9888 - acc: 0.521 - ETA: 1s - loss: 0.9877 - acc: 0.522 - ETA: 1s - loss: 0.9878 - acc: 0.523 - ETA: 1s - loss: 0.9876 - acc: 0.524 - ETA: 0s - loss: 0.9868 - acc: 0.525 - ETA: 0s - loss: 0.9865 - acc: 0.525 - ETA: 0s - loss: 0.9850 - acc: 0.527 - ETA: 0s - loss: 0.9853 - acc: 0.527 - ETA: 0s - loss: 0.9866 - acc: 0.526 - ETA: 0s - loss: 0.9864 - acc: 0.525 - ETA: 0s - loss: 0.9864 - acc: 0.525 - ETA: 0s - loss: 0.9884 - acc: 0.524 - ETA: 0s - loss: 0.9884 - acc: 0.524 - ETA: 0s - loss: 0.9880 - acc: 0.524 - ETA: 0s - loss: 0.9874 - acc: 0.525 - ETA: 0s - loss: 0.9877 - acc: 0.525 - ETA: 0s - loss: 0.9874 - acc: 0.525 - ETA: 0s - loss: 0.9881 - acc: 0.525 - ETA: 0s - loss: 0.9883 - acc: 0.525 - ETA: 0s - loss: 0.9883 - acc: 0.525 - ETA: 0s - loss: 0.9882 - acc: 0.525 - ETA: 0s - loss: 0.9891 - acc: 0.524 - ETA: 0s - loss: 0.9890 - acc: 0.524 - ETA: 0s - loss: 0.9882 - acc: 0.525 - 4s 626us/sample - loss: 0.9888 - acc: 0.5252 - val_loss: 1.0182 - val_acc: 0.5073\n",
      "Epoch 6/10\n",
      "7112/7112 [==============================] - ETA: 5s - loss: 0.9449 - acc: 0.500 - ETA: 3s - loss: 1.0374 - acc: 0.475 - ETA: 3s - loss: 0.9926 - acc: 0.485 - ETA: 3s - loss: 0.9728 - acc: 0.519 - ETA: 3s - loss: 0.9796 - acc: 0.525 - ETA: 3s - loss: 0.9768 - acc: 0.525 - ETA: 3s - loss: 0.9834 - acc: 0.520 - ETA: 3s - loss: 0.9787 - acc: 0.528 - ETA: 3s - loss: 0.9766 - acc: 0.529 - ETA: 3s - loss: 0.9729 - acc: 0.532 - ETA: 3s - loss: 0.9647 - acc: 0.535 - ETA: 3s - loss: 0.9717 - acc: 0.531 - ETA: 2s - loss: 0.9772 - acc: 0.523 - ETA: 2s - loss: 0.9758 - acc: 0.527 - ETA: 2s - loss: 0.9725 - acc: 0.531 - ETA: 2s - loss: 0.9665 - acc: 0.535 - ETA: 2s - loss: 0.9668 - acc: 0.537 - ETA: 2s - loss: 0.9711 - acc: 0.533 - ETA: 2s - loss: 0.9727 - acc: 0.533 - ETA: 2s - loss: 0.9746 - acc: 0.531 - ETA: 2s - loss: 0.9730 - acc: 0.531 - ETA: 2s - loss: 0.9725 - acc: 0.534 - ETA: 2s - loss: 0.9721 - acc: 0.535 - ETA: 2s - loss: 0.9745 - acc: 0.532 - ETA: 2s - loss: 0.9721 - acc: 0.534 - ETA: 2s - loss: 0.9742 - acc: 0.532 - ETA: 2s - loss: 0.9751 - acc: 0.530 - ETA: 2s - loss: 0.9764 - acc: 0.528 - ETA: 2s - loss: 0.9755 - acc: 0.531 - ETA: 2s - loss: 0.9773 - acc: 0.529 - ETA: 2s - loss: 0.9759 - acc: 0.530 - ETA: 2s - loss: 0.9776 - acc: 0.529 - ETA: 2s - loss: 0.9824 - acc: 0.526 - ETA: 2s - loss: 0.9820 - acc: 0.526 - ETA: 2s - loss: 0.9830 - acc: 0.526 - ETA: 1s - loss: 0.9842 - acc: 0.526 - ETA: 1s - loss: 0.9856 - acc: 0.526 - ETA: 1s - loss: 0.9851 - acc: 0.527 - ETA: 1s - loss: 0.9852 - acc: 0.528 - ETA: 1s - loss: 0.9857 - acc: 0.528 - ETA: 1s - loss: 0.9861 - acc: 0.527 - ETA: 1s - loss: 0.9864 - acc: 0.526 - ETA: 1s - loss: 0.9848 - acc: 0.528 - ETA: 1s - loss: 0.9848 - acc: 0.528 - ETA: 1s - loss: 0.9830 - acc: 0.528 - ETA: 1s - loss: 0.9836 - acc: 0.528 - ETA: 1s - loss: 0.9839 - acc: 0.528 - ETA: 1s - loss: 0.9835 - acc: 0.528 - ETA: 1s - loss: 0.9839 - acc: 0.528 - ETA: 1s - loss: 0.9852 - acc: 0.526 - ETA: 1s - loss: 0.9859 - acc: 0.526 - ETA: 1s - loss: 0.9870 - acc: 0.524 - ETA: 1s - loss: 0.9869 - acc: 0.524 - ETA: 1s - loss: 0.9865 - acc: 0.525 - ETA: 1s - loss: 0.9863 - acc: 0.525 - ETA: 1s - loss: 0.9863 - acc: 0.525 - ETA: 1s - loss: 0.9865 - acc: 0.525 - ETA: 1s - loss: 0.9879 - acc: 0.524 - ETA: 0s - loss: 0.9875 - acc: 0.525 - ETA: 0s - loss: 0.9879 - acc: 0.524 - ETA: 0s - loss: 0.9877 - acc: 0.525 - ETA: 0s - loss: 0.9872 - acc: 0.524 - ETA: 0s - loss: 0.9865 - acc: 0.525 - ETA: 0s - loss: 0.9873 - acc: 0.525 - ETA: 0s - loss: 0.9858 - acc: 0.525 - ETA: 0s - loss: 0.9861 - acc: 0.525 - ETA: 0s - loss: 0.9855 - acc: 0.525 - ETA: 0s - loss: 0.9862 - acc: 0.525 - ETA: 0s - loss: 0.9855 - acc: 0.526 - ETA: 0s - loss: 0.9855 - acc: 0.526 - ETA: 0s - loss: 0.9860 - acc: 0.526 - ETA: 0s - loss: 0.9857 - acc: 0.527 - ETA: 0s - loss: 0.9859 - acc: 0.526 - ETA: 0s - loss: 0.9860 - acc: 0.527 - ETA: 0s - loss: 0.9866 - acc: 0.526 - ETA: 0s - loss: 0.9867 - acc: 0.526 - ETA: 0s - loss: 0.9868 - acc: 0.526 - ETA: 0s - loss: 0.9866 - acc: 0.526 - ETA: 0s - loss: 0.9877 - acc: 0.525 - ETA: 0s - loss: 0.9886 - acc: 0.524 - ETA: 0s - loss: 0.9887 - acc: 0.524 - 5s 702us/sample - loss: 0.9889 - acc: 0.5239 - val_loss: 0.9765 - val_acc: 0.5360\n",
      "Epoch 7/10\n"
     ]
    },
    {
     "name": "stdout",
     "output_type": "stream",
     "text": [
      "7112/7112 [==============================] - ETA: 5s - loss: 0.8905 - acc: 0.700 - ETA: 7s - loss: 1.0007 - acc: 0.466 - ETA: 7s - loss: 0.9484 - acc: 0.541 - ETA: 7s - loss: 0.9575 - acc: 0.541 - ETA: 7s - loss: 0.9811 - acc: 0.517 - ETA: 6s - loss: 0.9777 - acc: 0.537 - ETA: 6s - loss: 0.9710 - acc: 0.540 - ETA: 5s - loss: 0.9689 - acc: 0.540 - ETA: 5s - loss: 0.9700 - acc: 0.533 - ETA: 4s - loss: 0.9837 - acc: 0.523 - ETA: 4s - loss: 0.9881 - acc: 0.520 - ETA: 4s - loss: 0.9842 - acc: 0.526 - ETA: 4s - loss: 0.9806 - acc: 0.529 - ETA: 4s - loss: 0.9802 - acc: 0.528 - ETA: 4s - loss: 0.9810 - acc: 0.529 - ETA: 4s - loss: 0.9833 - acc: 0.529 - ETA: 4s - loss: 0.9862 - acc: 0.527 - ETA: 3s - loss: 0.9891 - acc: 0.522 - ETA: 3s - loss: 0.9913 - acc: 0.524 - ETA: 3s - loss: 0.9960 - acc: 0.521 - ETA: 3s - loss: 0.9960 - acc: 0.522 - ETA: 3s - loss: 0.9938 - acc: 0.525 - ETA: 3s - loss: 0.9976 - acc: 0.524 - ETA: 3s - loss: 0.9970 - acc: 0.524 - ETA: 3s - loss: 0.9966 - acc: 0.524 - ETA: 3s - loss: 0.9967 - acc: 0.524 - ETA: 3s - loss: 0.9951 - acc: 0.525 - ETA: 3s - loss: 0.9957 - acc: 0.525 - ETA: 3s - loss: 0.9962 - acc: 0.524 - ETA: 3s - loss: 0.9949 - acc: 0.524 - ETA: 3s - loss: 0.9942 - acc: 0.523 - ETA: 3s - loss: 0.9911 - acc: 0.525 - ETA: 3s - loss: 0.9899 - acc: 0.526 - ETA: 3s - loss: 0.9902 - acc: 0.527 - ETA: 3s - loss: 0.9891 - acc: 0.528 - ETA: 3s - loss: 0.9898 - acc: 0.527 - ETA: 3s - loss: 0.9898 - acc: 0.527 - ETA: 3s - loss: 0.9915 - acc: 0.524 - ETA: 3s - loss: 0.9935 - acc: 0.523 - ETA: 3s - loss: 0.9933 - acc: 0.523 - ETA: 2s - loss: 0.9926 - acc: 0.524 - ETA: 2s - loss: 0.9919 - acc: 0.524 - ETA: 2s - loss: 0.9925 - acc: 0.525 - ETA: 2s - loss: 0.9946 - acc: 0.523 - ETA: 2s - loss: 0.9948 - acc: 0.521 - ETA: 2s - loss: 0.9944 - acc: 0.522 - ETA: 2s - loss: 0.9940 - acc: 0.522 - ETA: 2s - loss: 0.9939 - acc: 0.523 - ETA: 2s - loss: 0.9926 - acc: 0.524 - ETA: 2s - loss: 0.9941 - acc: 0.522 - ETA: 2s - loss: 0.9935 - acc: 0.523 - ETA: 2s - loss: 0.9926 - acc: 0.524 - ETA: 2s - loss: 0.9907 - acc: 0.525 - ETA: 2s - loss: 0.9898 - acc: 0.526 - ETA: 2s - loss: 0.9899 - acc: 0.527 - ETA: 2s - loss: 0.9905 - acc: 0.527 - ETA: 1s - loss: 0.9914 - acc: 0.526 - ETA: 1s - loss: 0.9907 - acc: 0.527 - ETA: 1s - loss: 0.9889 - acc: 0.529 - ETA: 1s - loss: 0.9896 - acc: 0.528 - ETA: 1s - loss: 0.9888 - acc: 0.529 - ETA: 1s - loss: 0.9900 - acc: 0.527 - ETA: 1s - loss: 0.9891 - acc: 0.528 - ETA: 1s - loss: 0.9879 - acc: 0.529 - ETA: 1s - loss: 0.9878 - acc: 0.529 - ETA: 1s - loss: 0.9886 - acc: 0.529 - ETA: 1s - loss: 0.9888 - acc: 0.528 - ETA: 1s - loss: 0.9886 - acc: 0.528 - ETA: 1s - loss: 0.9887 - acc: 0.529 - ETA: 1s - loss: 0.9897 - acc: 0.528 - ETA: 1s - loss: 0.9899 - acc: 0.528 - ETA: 1s - loss: 0.9901 - acc: 0.528 - ETA: 1s - loss: 0.9902 - acc: 0.527 - ETA: 1s - loss: 0.9901 - acc: 0.528 - ETA: 1s - loss: 0.9900 - acc: 0.528 - ETA: 1s - loss: 0.9900 - acc: 0.527 - ETA: 1s - loss: 0.9894 - acc: 0.528 - ETA: 0s - loss: 0.9892 - acc: 0.528 - ETA: 0s - loss: 0.9886 - acc: 0.528 - ETA: 0s - loss: 0.9886 - acc: 0.527 - ETA: 0s - loss: 0.9882 - acc: 0.528 - ETA: 0s - loss: 0.9885 - acc: 0.527 - ETA: 0s - loss: 0.9881 - acc: 0.528 - ETA: 0s - loss: 0.9878 - acc: 0.529 - ETA: 0s - loss: 0.9897 - acc: 0.526 - ETA: 0s - loss: 0.9884 - acc: 0.527 - ETA: 0s - loss: 0.9873 - acc: 0.528 - ETA: 0s - loss: 0.9883 - acc: 0.528 - ETA: 0s - loss: 0.9879 - acc: 0.528 - 5s 715us/sample - loss: 0.9882 - acc: 0.5280 - val_loss: 0.9699 - val_acc: 0.5334\n",
      "Epoch 8/10\n",
      "7112/7112 [==============================] - ETA: 4s - loss: 0.9924 - acc: 0.600 - ETA: 2s - loss: 0.9718 - acc: 0.564 - ETA: 2s - loss: 0.9716 - acc: 0.540 - ETA: 2s - loss: 0.9601 - acc: 0.557 - ETA: 2s - loss: 0.9718 - acc: 0.544 - ETA: 2s - loss: 0.9870 - acc: 0.522 - ETA: 2s - loss: 0.9860 - acc: 0.526 - ETA: 2s - loss: 0.9800 - acc: 0.528 - ETA: 2s - loss: 0.9794 - acc: 0.530 - ETA: 2s - loss: 0.9774 - acc: 0.532 - ETA: 2s - loss: 0.9788 - acc: 0.530 - ETA: 2s - loss: 0.9754 - acc: 0.527 - ETA: 1s - loss: 0.9774 - acc: 0.525 - ETA: 1s - loss: 0.9757 - acc: 0.528 - ETA: 1s - loss: 0.9749 - acc: 0.528 - ETA: 1s - loss: 0.9756 - acc: 0.527 - ETA: 1s - loss: 0.9711 - acc: 0.533 - ETA: 2s - loss: 0.9705 - acc: 0.533 - ETA: 2s - loss: 0.9693 - acc: 0.533 - ETA: 2s - loss: 0.9739 - acc: 0.527 - ETA: 1s - loss: 0.9750 - acc: 0.527 - ETA: 1s - loss: 0.9778 - acc: 0.524 - ETA: 1s - loss: 0.9764 - acc: 0.526 - ETA: 1s - loss: 0.9778 - acc: 0.527 - ETA: 1s - loss: 0.9794 - acc: 0.527 - ETA: 1s - loss: 0.9833 - acc: 0.525 - ETA: 1s - loss: 0.9848 - acc: 0.523 - ETA: 1s - loss: 0.9864 - acc: 0.521 - ETA: 1s - loss: 0.9867 - acc: 0.522 - ETA: 1s - loss: 0.9885 - acc: 0.521 - ETA: 1s - loss: 0.9879 - acc: 0.521 - ETA: 1s - loss: 0.9881 - acc: 0.521 - ETA: 1s - loss: 0.9875 - acc: 0.522 - ETA: 1s - loss: 0.9864 - acc: 0.525 - ETA: 1s - loss: 0.9871 - acc: 0.525 - ETA: 1s - loss: 0.9866 - acc: 0.526 - ETA: 1s - loss: 0.9853 - acc: 0.528 - ETA: 0s - loss: 0.9857 - acc: 0.528 - ETA: 0s - loss: 0.9863 - acc: 0.528 - ETA: 0s - loss: 0.9861 - acc: 0.529 - ETA: 0s - loss: 0.9883 - acc: 0.527 - ETA: 0s - loss: 0.9885 - acc: 0.526 - ETA: 0s - loss: 0.9883 - acc: 0.526 - ETA: 0s - loss: 0.9880 - acc: 0.526 - ETA: 0s - loss: 0.9891 - acc: 0.524 - ETA: 0s - loss: 0.9890 - acc: 0.525 - ETA: 0s - loss: 0.9894 - acc: 0.524 - ETA: 0s - loss: 0.9889 - acc: 0.523 - ETA: 0s - loss: 0.9908 - acc: 0.522 - ETA: 0s - loss: 0.9909 - acc: 0.522 - ETA: 0s - loss: 0.9911 - acc: 0.522 - ETA: 0s - loss: 0.9911 - acc: 0.521 - ETA: 0s - loss: 0.9907 - acc: 0.521 - ETA: 0s - loss: 0.9906 - acc: 0.521 - ETA: 0s - loss: 0.9903 - acc: 0.521 - ETA: 0s - loss: 0.9892 - acc: 0.522 - ETA: 0s - loss: 0.9890 - acc: 0.522 - ETA: 0s - loss: 0.9880 - acc: 0.523 - ETA: 0s - loss: 0.9882 - acc: 0.523 - ETA: 0s - loss: 0.9877 - acc: 0.524 - ETA: 0s - loss: 0.9877 - acc: 0.523 - ETA: 0s - loss: 0.9870 - acc: 0.525 - 4s 520us/sample - loss: 0.9871 - acc: 0.5252 - val_loss: 0.9695 - val_acc: 0.5390\n",
      "Epoch 9/10\n"
     ]
    },
    {
     "name": "stdout",
     "output_type": "stream",
     "text": [
      "7112/7112 [==============================] - ETA: 4s - loss: 1.0447 - acc: 0.400 - ETA: 2s - loss: 1.0349 - acc: 0.450 - ETA: 2s - loss: 1.0046 - acc: 0.493 - ETA: 2s - loss: 1.0234 - acc: 0.466 - ETA: 2s - loss: 1.0056 - acc: 0.480 - ETA: 2s - loss: 1.0022 - acc: 0.480 - ETA: 2s - loss: 0.9992 - acc: 0.489 - ETA: 2s - loss: 0.9972 - acc: 0.493 - ETA: 3s - loss: 0.9943 - acc: 0.496 - ETA: 3s - loss: 0.9939 - acc: 0.501 - ETA: 2s - loss: 0.9968 - acc: 0.498 - ETA: 2s - loss: 0.9952 - acc: 0.499 - ETA: 2s - loss: 0.9966 - acc: 0.503 - ETA: 2s - loss: 0.9933 - acc: 0.504 - ETA: 2s - loss: 0.9948 - acc: 0.505 - ETA: 2s - loss: 0.9973 - acc: 0.502 - ETA: 2s - loss: 0.9970 - acc: 0.504 - ETA: 2s - loss: 0.9978 - acc: 0.507 - ETA: 2s - loss: 0.9924 - acc: 0.512 - ETA: 2s - loss: 0.9940 - acc: 0.511 - ETA: 2s - loss: 0.9909 - acc: 0.514 - ETA: 2s - loss: 0.9906 - acc: 0.515 - ETA: 2s - loss: 0.9919 - acc: 0.515 - ETA: 2s - loss: 0.9939 - acc: 0.513 - ETA: 2s - loss: 0.9974 - acc: 0.510 - ETA: 2s - loss: 0.9962 - acc: 0.511 - ETA: 2s - loss: 0.9974 - acc: 0.511 - ETA: 2s - loss: 0.9986 - acc: 0.510 - ETA: 2s - loss: 0.9987 - acc: 0.512 - ETA: 1s - loss: 0.9974 - acc: 0.513 - ETA: 1s - loss: 0.9981 - acc: 0.513 - ETA: 1s - loss: 0.9997 - acc: 0.512 - ETA: 1s - loss: 1.0001 - acc: 0.513 - ETA: 1s - loss: 1.0008 - acc: 0.515 - ETA: 1s - loss: 1.0004 - acc: 0.515 - ETA: 1s - loss: 1.0005 - acc: 0.515 - ETA: 1s - loss: 0.9990 - acc: 0.516 - ETA: 1s - loss: 0.9983 - acc: 0.514 - ETA: 1s - loss: 0.9957 - acc: 0.516 - ETA: 1s - loss: 0.9982 - acc: 0.515 - ETA: 1s - loss: 0.9960 - acc: 0.518 - ETA: 1s - loss: 0.9974 - acc: 0.516 - ETA: 1s - loss: 0.9958 - acc: 0.517 - ETA: 1s - loss: 0.9964 - acc: 0.516 - ETA: 1s - loss: 0.9941 - acc: 0.519 - ETA: 1s - loss: 0.9943 - acc: 0.518 - ETA: 0s - loss: 0.9966 - acc: 0.517 - ETA: 0s - loss: 0.9951 - acc: 0.519 - ETA: 0s - loss: 0.9943 - acc: 0.521 - ETA: 0s - loss: 0.9949 - acc: 0.520 - ETA: 0s - loss: 0.9910 - acc: 0.522 - ETA: 0s - loss: 0.9910 - acc: 0.522 - ETA: 0s - loss: 0.9895 - acc: 0.523 - ETA: 0s - loss: 0.9904 - acc: 0.523 - ETA: 0s - loss: 0.9899 - acc: 0.524 - ETA: 0s - loss: 0.9883 - acc: 0.526 - ETA: 0s - loss: 0.9890 - acc: 0.526 - ETA: 0s - loss: 0.9884 - acc: 0.526 - ETA: 0s - loss: 0.9878 - acc: 0.527 - ETA: 0s - loss: 0.9877 - acc: 0.527 - ETA: 0s - loss: 0.9876 - acc: 0.527 - ETA: 0s - loss: 0.9875 - acc: 0.527 - ETA: 0s - loss: 0.9876 - acc: 0.527 - ETA: 0s - loss: 0.9874 - acc: 0.526 - ETA: 0s - loss: 0.9865 - acc: 0.527 - 4s 526us/sample - loss: 0.9864 - acc: 0.5276 - val_loss: 0.9688 - val_acc: 0.5304\n",
      "Epoch 10/10\n",
      "7112/7112 [==============================] - ETA: 4s - loss: 1.0473 - acc: 0.400 - ETA: 3s - loss: 1.0209 - acc: 0.466 - ETA: 2s - loss: 0.9953 - acc: 0.514 - ETA: 2s - loss: 0.9777 - acc: 0.529 - ETA: 2s - loss: 0.9803 - acc: 0.534 - ETA: 2s - loss: 0.9767 - acc: 0.540 - ETA: 2s - loss: 0.9878 - acc: 0.525 - ETA: 2s - loss: 0.9881 - acc: 0.532 - ETA: 2s - loss: 0.9832 - acc: 0.536 - ETA: 2s - loss: 0.9792 - acc: 0.539 - ETA: 2s - loss: 0.9814 - acc: 0.536 - ETA: 2s - loss: 0.9944 - acc: 0.525 - ETA: 2s - loss: 0.9951 - acc: 0.526 - ETA: 2s - loss: 0.9949 - acc: 0.523 - ETA: 2s - loss: 0.9955 - acc: 0.520 - ETA: 2s - loss: 0.9919 - acc: 0.523 - ETA: 2s - loss: 0.9892 - acc: 0.525 - ETA: 2s - loss: 0.9911 - acc: 0.523 - ETA: 2s - loss: 0.9896 - acc: 0.526 - ETA: 2s - loss: 0.9917 - acc: 0.524 - ETA: 2s - loss: 0.9943 - acc: 0.521 - ETA: 2s - loss: 0.9953 - acc: 0.520 - ETA: 2s - loss: 0.9921 - acc: 0.524 - ETA: 2s - loss: 0.9922 - acc: 0.523 - ETA: 2s - loss: 0.9913 - acc: 0.525 - ETA: 2s - loss: 0.9907 - acc: 0.524 - ETA: 2s - loss: 0.9893 - acc: 0.525 - ETA: 2s - loss: 0.9872 - acc: 0.526 - ETA: 2s - loss: 0.9850 - acc: 0.530 - ETA: 2s - loss: 0.9831 - acc: 0.532 - ETA: 2s - loss: 0.9839 - acc: 0.531 - ETA: 2s - loss: 0.9819 - acc: 0.533 - ETA: 2s - loss: 0.9836 - acc: 0.533 - ETA: 2s - loss: 0.9839 - acc: 0.533 - ETA: 2s - loss: 0.9845 - acc: 0.531 - ETA: 2s - loss: 0.9847 - acc: 0.531 - ETA: 1s - loss: 0.9851 - acc: 0.531 - ETA: 1s - loss: 0.9856 - acc: 0.531 - ETA: 1s - loss: 0.9880 - acc: 0.529 - ETA: 1s - loss: 0.9874 - acc: 0.531 - ETA: 1s - loss: 0.9858 - acc: 0.531 - ETA: 1s - loss: 0.9853 - acc: 0.530 - ETA: 1s - loss: 0.9870 - acc: 0.528 - ETA: 1s - loss: 0.9862 - acc: 0.529 - ETA: 1s - loss: 0.9860 - acc: 0.529 - ETA: 1s - loss: 0.9865 - acc: 0.528 - ETA: 1s - loss: 0.9865 - acc: 0.529 - ETA: 1s - loss: 0.9881 - acc: 0.527 - ETA: 1s - loss: 0.9877 - acc: 0.526 - ETA: 1s - loss: 0.9878 - acc: 0.527 - ETA: 1s - loss: 0.9851 - acc: 0.529 - ETA: 1s - loss: 0.9843 - acc: 0.530 - ETA: 1s - loss: 0.9846 - acc: 0.530 - ETA: 1s - loss: 0.9849 - acc: 0.530 - ETA: 1s - loss: 0.9841 - acc: 0.530 - ETA: 1s - loss: 0.9824 - acc: 0.531 - ETA: 0s - loss: 0.9821 - acc: 0.531 - ETA: 0s - loss: 0.9835 - acc: 0.529 - ETA: 0s - loss: 0.9834 - acc: 0.529 - ETA: 0s - loss: 0.9842 - acc: 0.528 - ETA: 0s - loss: 0.9848 - acc: 0.527 - ETA: 0s - loss: 0.9856 - acc: 0.526 - ETA: 0s - loss: 0.9867 - acc: 0.526 - ETA: 0s - loss: 0.9871 - acc: 0.525 - ETA: 0s - loss: 0.9871 - acc: 0.525 - ETA: 0s - loss: 0.9868 - acc: 0.525 - ETA: 0s - loss: 0.9875 - acc: 0.524 - ETA: 0s - loss: 0.9880 - acc: 0.525 - ETA: 0s - loss: 0.9872 - acc: 0.526 - ETA: 0s - loss: 0.9866 - acc: 0.527 - ETA: 0s - loss: 0.9857 - acc: 0.528 - ETA: 0s - loss: 0.9853 - acc: 0.528 - ETA: 0s - loss: 0.9859 - acc: 0.527 - ETA: 0s - loss: 0.9856 - acc: 0.527 - 4s 592us/sample - loss: 0.9862 - acc: 0.5274 - val_loss: 0.9703 - val_acc: 0.5334\n"
     ]
    },
    {
     "data": {
      "text/html": [
       "<span style=\"color:#4527A0\"><h1 style=\"font-size:18px\">Trial complete</h1></span>"
      ],
      "text/plain": [
       "<IPython.core.display.HTML object>"
      ]
     },
     "metadata": {},
     "output_type": "display_data"
    },
    {
     "data": {
      "text/html": [
       "<span style=\"color:#4527A0\"><h1 style=\"font-size:18px\">Trial summary</h1></span>"
      ],
      "text/plain": [
       "<IPython.core.display.HTML object>"
      ]
     },
     "metadata": {},
     "output_type": "display_data"
    },
    {
     "data": {
      "text/html": [
       "<span style=\"color:cyan\"> |-Trial ID: 74546e5ca879d8a1c9659981dcb434d0</span>"
      ],
      "text/plain": [
       "<IPython.core.display.HTML object>"
      ]
     },
     "metadata": {},
     "output_type": "display_data"
    },
    {
     "data": {
      "text/html": [
       "<span style=\"color:cyan\"> |-Score: 0.5390223264694214</span>"
      ],
      "text/plain": [
       "<IPython.core.display.HTML object>"
      ]
     },
     "metadata": {},
     "output_type": "display_data"
    },
    {
     "data": {
      "text/html": [
       "<span style=\"color:cyan\"> |-Best step: 0</span>"
      ],
      "text/plain": [
       "<IPython.core.display.HTML object>"
      ]
     },
     "metadata": {},
     "output_type": "display_data"
    },
    {
     "data": {
      "text/html": [
       "<span style=\"color:#7E57C2\"><h2 style=\"font-size:16px\">Hyperparameters:</h2></span>"
      ],
      "text/plain": [
       "<IPython.core.display.HTML object>"
      ]
     },
     "metadata": {},
     "output_type": "display_data"
    },
    {
     "data": {
      "text/html": [
       "<span style=\"color:cyan\"> |-layer_0_neurons: 130</span>"
      ],
      "text/plain": [
       "<IPython.core.display.HTML object>"
      ]
     },
     "metadata": {},
     "output_type": "display_data"
    },
    {
     "data": {
      "text/html": [
       "<span style=\"color:blue\"> |-layer_1_neurons: 70</span>"
      ],
      "text/plain": [
       "<IPython.core.display.HTML object>"
      ]
     },
     "metadata": {},
     "output_type": "display_data"
    },
    {
     "data": {
      "text/html": [
       "<span style=\"color:cyan\"> |-layer_2_neurons: 110</span>"
      ],
      "text/plain": [
       "<IPython.core.display.HTML object>"
      ]
     },
     "metadata": {},
     "output_type": "display_data"
    },
    {
     "data": {
      "text/html": [
       "<span style=\"color:blue\"> |-layer_3_neurons: 170</span>"
      ],
      "text/plain": [
       "<IPython.core.display.HTML object>"
      ]
     },
     "metadata": {},
     "output_type": "display_data"
    },
    {
     "data": {
      "text/html": [
       "<span style=\"color:cyan\"> |-n_input_neurons: 10</span>"
      ],
      "text/plain": [
       "<IPython.core.display.HTML object>"
      ]
     },
     "metadata": {},
     "output_type": "display_data"
    },
    {
     "data": {
      "text/html": [
       "<span style=\"color:blue\"> |-n_layers: 3</span>"
      ],
      "text/plain": [
       "<IPython.core.display.HTML object>"
      ]
     },
     "metadata": {},
     "output_type": "display_data"
    },
    {
     "name": "stdout",
     "output_type": "stream",
     "text": [
      "Train on 7112 samples, validate on 2332 samples\n",
      "Epoch 1/10\n",
      "7112/7112 [==============================] - ETA: 5:09 - loss: 1.4224 - acc: 0.300 - ETA: 28s - loss: 1.2551 - acc: 0.391 - ETA: 16s - loss: 1.2143 - acc: 0.37 - ETA: 12s - loss: 1.1759 - acc: 0.39 - ETA: 10s - loss: 1.1457 - acc: 0.41 - ETA: 9s - loss: 1.1351 - acc: 0.4163 - ETA: 8s - loss: 1.1104 - acc: 0.434 - ETA: 7s - loss: 1.1312 - acc: 0.425 - ETA: 6s - loss: 1.1254 - acc: 0.425 - ETA: 5s - loss: 1.1197 - acc: 0.433 - ETA: 5s - loss: 1.1145 - acc: 0.434 - ETA: 4s - loss: 1.1106 - acc: 0.437 - ETA: 4s - loss: 1.1027 - acc: 0.438 - ETA: 4s - loss: 1.0920 - acc: 0.446 - ETA: 4s - loss: 1.0906 - acc: 0.444 - ETA: 4s - loss: 1.0932 - acc: 0.448 - ETA: 3s - loss: 1.0895 - acc: 0.449 - ETA: 3s - loss: 1.0850 - acc: 0.450 - ETA: 3s - loss: 1.0856 - acc: 0.451 - ETA: 3s - loss: 1.0828 - acc: 0.452 - ETA: 3s - loss: 1.0811 - acc: 0.454 - ETA: 3s - loss: 1.0790 - acc: 0.456 - ETA: 3s - loss: 1.0755 - acc: 0.461 - ETA: 3s - loss: 1.0692 - acc: 0.466 - ETA: 2s - loss: 1.0643 - acc: 0.469 - ETA: 2s - loss: 1.0629 - acc: 0.472 - ETA: 2s - loss: 1.0610 - acc: 0.473 - ETA: 2s - loss: 1.0595 - acc: 0.475 - ETA: 2s - loss: 1.0557 - acc: 0.478 - ETA: 2s - loss: 1.0551 - acc: 0.478 - ETA: 2s - loss: 1.0562 - acc: 0.475 - ETA: 2s - loss: 1.0553 - acc: 0.476 - ETA: 2s - loss: 1.0538 - acc: 0.477 - ETA: 2s - loss: 1.0524 - acc: 0.475 - ETA: 2s - loss: 1.0506 - acc: 0.476 - ETA: 2s - loss: 1.0493 - acc: 0.478 - ETA: 2s - loss: 1.0483 - acc: 0.479 - ETA: 2s - loss: 1.0478 - acc: 0.480 - ETA: 1s - loss: 1.0463 - acc: 0.481 - ETA: 1s - loss: 1.0439 - acc: 0.484 - ETA: 1s - loss: 1.0430 - acc: 0.484 - ETA: 1s - loss: 1.0428 - acc: 0.484 - ETA: 1s - loss: 1.0400 - acc: 0.486 - ETA: 1s - loss: 1.0382 - acc: 0.488 - ETA: 1s - loss: 1.0370 - acc: 0.489 - ETA: 1s - loss: 1.0359 - acc: 0.491 - ETA: 1s - loss: 1.0358 - acc: 0.490 - ETA: 1s - loss: 1.0363 - acc: 0.490 - ETA: 1s - loss: 1.0362 - acc: 0.490 - ETA: 1s - loss: 1.0364 - acc: 0.490 - ETA: 1s - loss: 1.0356 - acc: 0.491 - ETA: 1s - loss: 1.0354 - acc: 0.491 - ETA: 1s - loss: 1.0358 - acc: 0.490 - ETA: 1s - loss: 1.0377 - acc: 0.488 - ETA: 1s - loss: 1.0375 - acc: 0.488 - ETA: 1s - loss: 1.0366 - acc: 0.489 - ETA: 1s - loss: 1.0345 - acc: 0.491 - ETA: 0s - loss: 1.0332 - acc: 0.493 - ETA: 0s - loss: 1.0313 - acc: 0.496 - ETA: 0s - loss: 1.0308 - acc: 0.497 - ETA: 0s - loss: 1.0306 - acc: 0.497 - ETA: 0s - loss: 1.0297 - acc: 0.498 - ETA: 0s - loss: 1.0286 - acc: 0.499 - ETA: 0s - loss: 1.0288 - acc: 0.499 - ETA: 0s - loss: 1.0277 - acc: 0.500 - ETA: 0s - loss: 1.0268 - acc: 0.500 - ETA: 0s - loss: 1.0263 - acc: 0.501 - ETA: 0s - loss: 1.0248 - acc: 0.503 - ETA: 0s - loss: 1.0248 - acc: 0.502 - ETA: 0s - loss: 1.0253 - acc: 0.501 - 5s 703us/sample - loss: 1.0263 - acc: 0.5014 - val_loss: 0.9878 - val_acc: 0.5296\n",
      "Epoch 2/10\n",
      "7112/7112 [==============================] - ETA: 22s - loss: 0.9401 - acc: 0.60 - ETA: 14s - loss: 1.1412 - acc: 0.40 - ETA: 7s - loss: 1.0157 - acc: 0.5538 - ETA: 6s - loss: 0.9985 - acc: 0.575 - ETA: 8s - loss: 1.0057 - acc: 0.559 - ETA: 6s - loss: 0.9921 - acc: 0.560 - ETA: 6s - loss: 0.9964 - acc: 0.550 - ETA: 6s - loss: 0.9928 - acc: 0.546 - ETA: 5s - loss: 1.0004 - acc: 0.537 - ETA: 5s - loss: 0.9961 - acc: 0.534 - ETA: 4s - loss: 0.9901 - acc: 0.534 - ETA: 4s - loss: 0.9982 - acc: 0.529 - ETA: 4s - loss: 0.9943 - acc: 0.532 - ETA: 3s - loss: 0.9889 - acc: 0.535 - ETA: 3s - loss: 0.9849 - acc: 0.536 - ETA: 3s - loss: 0.9898 - acc: 0.533 - ETA: 3s - loss: 0.9860 - acc: 0.541 - ETA: 3s - loss: 0.9837 - acc: 0.540 - ETA: 3s - loss: 0.9881 - acc: 0.538 - ETA: 3s - loss: 0.9891 - acc: 0.539 - ETA: 3s - loss: 0.9935 - acc: 0.533 - ETA: 2s - loss: 0.9948 - acc: 0.534 - ETA: 2s - loss: 0.9937 - acc: 0.533 - ETA: 2s - loss: 0.9930 - acc: 0.534 - ETA: 2s - loss: 0.9961 - acc: 0.529 - ETA: 2s - loss: 0.9968 - acc: 0.529 - ETA: 2s - loss: 0.9986 - acc: 0.528 - ETA: 2s - loss: 0.9977 - acc: 0.528 - ETA: 2s - loss: 0.9972 - acc: 0.529 - ETA: 2s - loss: 0.9948 - acc: 0.531 - ETA: 2s - loss: 0.9944 - acc: 0.532 - ETA: 2s - loss: 0.9958 - acc: 0.532 - ETA: 2s - loss: 0.9944 - acc: 0.534 - ETA: 2s - loss: 0.9965 - acc: 0.531 - ETA: 2s - loss: 0.9971 - acc: 0.531 - ETA: 2s - loss: 0.9963 - acc: 0.532 - ETA: 2s - loss: 1.0001 - acc: 0.528 - ETA: 2s - loss: 0.9999 - acc: 0.528 - ETA: 2s - loss: 1.0004 - acc: 0.526 - ETA: 2s - loss: 0.9997 - acc: 0.527 - ETA: 2s - loss: 1.0012 - acc: 0.525 - ETA: 2s - loss: 1.0007 - acc: 0.526 - ETA: 2s - loss: 1.0006 - acc: 0.526 - ETA: 2s - loss: 1.0007 - acc: 0.526 - ETA: 2s - loss: 0.9994 - acc: 0.527 - ETA: 2s - loss: 0.9985 - acc: 0.527 - ETA: 1s - loss: 1.0010 - acc: 0.526 - ETA: 1s - loss: 1.0014 - acc: 0.526 - ETA: 1s - loss: 1.0009 - acc: 0.527 - ETA: 1s - loss: 1.0006 - acc: 0.527 - ETA: 1s - loss: 1.0004 - acc: 0.528 - ETA: 1s - loss: 0.9999 - acc: 0.527 - ETA: 1s - loss: 1.0019 - acc: 0.523 - ETA: 1s - loss: 1.0027 - acc: 0.522 - ETA: 1s - loss: 1.0039 - acc: 0.521 - ETA: 1s - loss: 1.0030 - acc: 0.522 - ETA: 1s - loss: 1.0017 - acc: 0.524 - ETA: 1s - loss: 1.0003 - acc: 0.525 - ETA: 1s - loss: 0.9988 - acc: 0.526 - ETA: 1s - loss: 0.9992 - acc: 0.525 - ETA: 1s - loss: 0.9999 - acc: 0.524 - ETA: 0s - loss: 0.9989 - acc: 0.525 - ETA: 0s - loss: 0.9982 - acc: 0.525 - ETA: 0s - loss: 0.9973 - acc: 0.526 - ETA: 0s - loss: 0.9969 - acc: 0.526 - ETA: 0s - loss: 0.9966 - acc: 0.526 - ETA: 0s - loss: 0.9978 - acc: 0.524 - ETA: 0s - loss: 0.9990 - acc: 0.524 - ETA: 0s - loss: 0.9982 - acc: 0.524 - ETA: 0s - loss: 0.9987 - acc: 0.524 - ETA: 0s - loss: 0.9981 - acc: 0.525 - ETA: 0s - loss: 0.9966 - acc: 0.526 - ETA: 0s - loss: 0.9974 - acc: 0.525 - ETA: 0s - loss: 0.9973 - acc: 0.525 - ETA: 0s - loss: 0.9973 - acc: 0.525 - ETA: 0s - loss: 0.9970 - acc: 0.525 - ETA: 0s - loss: 0.9963 - acc: 0.526 - ETA: 0s - loss: 0.9970 - acc: 0.525 - ETA: 0s - loss: 0.9968 - acc: 0.526 - ETA: 0s - loss: 0.9969 - acc: 0.526 - ETA: 0s - loss: 0.9972 - acc: 0.526 - ETA: 0s - loss: 0.9977 - acc: 0.525 - ETA: 0s - loss: 0.9969 - acc: 0.526 - 5s 683us/sample - loss: 0.9964 - acc: 0.5267 - val_loss: 0.9734 - val_acc: 0.5287\n",
      "Epoch 3/10\n"
     ]
    },
    {
     "name": "stdout",
     "output_type": "stream",
     "text": [
      "7112/7112 [==============================] - ETA: 9s - loss: 1.1519 - acc: 0.400 - ETA: 8s - loss: 1.0591 - acc: 0.533 - ETA: 5s - loss: 1.0354 - acc: 0.480 - ETA: 5s - loss: 1.0345 - acc: 0.473 - ETA: 4s - loss: 1.0111 - acc: 0.506 - ETA: 4s - loss: 1.0098 - acc: 0.516 - ETA: 4s - loss: 1.0212 - acc: 0.501 - ETA: 4s - loss: 1.0198 - acc: 0.503 - ETA: 4s - loss: 1.0177 - acc: 0.501 - ETA: 5s - loss: 1.0174 - acc: 0.498 - ETA: 6s - loss: 1.0173 - acc: 0.498 - ETA: 6s - loss: 1.0173 - acc: 0.500 - ETA: 6s - loss: 1.0206 - acc: 0.495 - ETA: 6s - loss: 1.0157 - acc: 0.500 - ETA: 6s - loss: 1.0063 - acc: 0.510 - ETA: 5s - loss: 1.0179 - acc: 0.497 - ETA: 5s - loss: 1.0188 - acc: 0.502 - ETA: 5s - loss: 1.0125 - acc: 0.510 - ETA: 5s - loss: 1.0135 - acc: 0.507 - ETA: 5s - loss: 1.0097 - acc: 0.509 - ETA: 4s - loss: 1.0101 - acc: 0.510 - ETA: 4s - loss: 1.0064 - acc: 0.513 - ETA: 4s - loss: 1.0104 - acc: 0.510 - ETA: 4s - loss: 1.0104 - acc: 0.511 - ETA: 4s - loss: 1.0095 - acc: 0.511 - ETA: 4s - loss: 1.0077 - acc: 0.515 - ETA: 4s - loss: 1.0107 - acc: 0.511 - ETA: 4s - loss: 1.0112 - acc: 0.511 - ETA: 4s - loss: 1.0116 - acc: 0.510 - ETA: 4s - loss: 1.0096 - acc: 0.512 - ETA: 4s - loss: 1.0090 - acc: 0.514 - ETA: 4s - loss: 1.0102 - acc: 0.513 - ETA: 4s - loss: 1.0101 - acc: 0.516 - ETA: 4s - loss: 1.0098 - acc: 0.516 - ETA: 3s - loss: 1.0045 - acc: 0.519 - ETA: 3s - loss: 1.0044 - acc: 0.519 - ETA: 3s - loss: 1.0002 - acc: 0.521 - ETA: 3s - loss: 0.9963 - acc: 0.525 - ETA: 3s - loss: 0.9963 - acc: 0.524 - ETA: 3s - loss: 0.9980 - acc: 0.522 - ETA: 3s - loss: 0.9935 - acc: 0.525 - ETA: 3s - loss: 0.9952 - acc: 0.523 - ETA: 3s - loss: 0.9982 - acc: 0.521 - ETA: 3s - loss: 0.9980 - acc: 0.521 - ETA: 3s - loss: 0.9984 - acc: 0.519 - ETA: 2s - loss: 0.9968 - acc: 0.522 - ETA: 2s - loss: 0.9969 - acc: 0.520 - ETA: 2s - loss: 0.9973 - acc: 0.520 - ETA: 2s - loss: 0.9974 - acc: 0.520 - ETA: 2s - loss: 0.9985 - acc: 0.521 - ETA: 2s - loss: 0.9985 - acc: 0.522 - ETA: 2s - loss: 0.9985 - acc: 0.522 - ETA: 2s - loss: 0.9967 - acc: 0.523 - ETA: 2s - loss: 0.9950 - acc: 0.524 - ETA: 2s - loss: 0.9963 - acc: 0.523 - ETA: 2s - loss: 0.9970 - acc: 0.522 - ETA: 2s - loss: 0.9974 - acc: 0.521 - ETA: 2s - loss: 0.9974 - acc: 0.521 - ETA: 1s - loss: 0.9988 - acc: 0.519 - ETA: 1s - loss: 0.9982 - acc: 0.520 - ETA: 1s - loss: 0.9987 - acc: 0.520 - ETA: 1s - loss: 0.9979 - acc: 0.520 - ETA: 1s - loss: 0.9979 - acc: 0.520 - ETA: 1s - loss: 0.9977 - acc: 0.519 - ETA: 1s - loss: 0.9966 - acc: 0.520 - ETA: 1s - loss: 0.9959 - acc: 0.519 - ETA: 1s - loss: 0.9954 - acc: 0.520 - ETA: 1s - loss: 0.9957 - acc: 0.520 - ETA: 1s - loss: 0.9949 - acc: 0.520 - ETA: 1s - loss: 0.9942 - acc: 0.521 - ETA: 1s - loss: 0.9952 - acc: 0.519 - ETA: 0s - loss: 0.9967 - acc: 0.518 - ETA: 0s - loss: 0.9964 - acc: 0.518 - ETA: 0s - loss: 0.9955 - acc: 0.519 - ETA: 0s - loss: 0.9953 - acc: 0.519 - ETA: 0s - loss: 0.9958 - acc: 0.519 - ETA: 0s - loss: 0.9956 - acc: 0.519 - ETA: 0s - loss: 0.9947 - acc: 0.520 - ETA: 0s - loss: 0.9949 - acc: 0.520 - ETA: 0s - loss: 0.9941 - acc: 0.521 - ETA: 0s - loss: 0.9934 - acc: 0.522 - ETA: 0s - loss: 0.9927 - acc: 0.522 - ETA: 0s - loss: 0.9924 - acc: 0.523 - ETA: 0s - loss: 0.9925 - acc: 0.522 - ETA: 0s - loss: 0.9925 - acc: 0.522 - ETA: 0s - loss: 0.9921 - acc: 0.522 - ETA: 0s - loss: 0.9915 - acc: 0.524 - 5s 727us/sample - loss: 0.9922 - acc: 0.5239 - val_loss: 0.9722 - val_acc: 0.5322\n",
      "Epoch 4/10\n",
      "7112/7112 [==============================] - ETA: 7s - loss: 1.2352 - acc: 0.300 - ETA: 4s - loss: 1.0048 - acc: 0.570 - ETA: 4s - loss: 1.0364 - acc: 0.505 - ETA: 3s - loss: 1.0357 - acc: 0.496 - ETA: 3s - loss: 1.0024 - acc: 0.537 - ETA: 3s - loss: 0.9839 - acc: 0.542 - ETA: 3s - loss: 0.9882 - acc: 0.533 - ETA: 3s - loss: 0.9915 - acc: 0.530 - ETA: 3s - loss: 0.9929 - acc: 0.528 - ETA: 3s - loss: 0.9916 - acc: 0.529 - ETA: 3s - loss: 0.9986 - acc: 0.525 - ETA: 3s - loss: 1.0000 - acc: 0.525 - ETA: 3s - loss: 1.0042 - acc: 0.523 - ETA: 3s - loss: 1.0040 - acc: 0.522 - ETA: 3s - loss: 0.9983 - acc: 0.527 - ETA: 3s - loss: 0.9958 - acc: 0.529 - ETA: 3s - loss: 0.9939 - acc: 0.529 - ETA: 3s - loss: 0.9940 - acc: 0.528 - ETA: 3s - loss: 0.9896 - acc: 0.528 - ETA: 3s - loss: 0.9888 - acc: 0.530 - ETA: 3s - loss: 0.9834 - acc: 0.534 - ETA: 3s - loss: 0.9864 - acc: 0.535 - ETA: 3s - loss: 0.9836 - acc: 0.535 - ETA: 2s - loss: 0.9828 - acc: 0.535 - ETA: 2s - loss: 0.9809 - acc: 0.534 - ETA: 2s - loss: 0.9820 - acc: 0.534 - ETA: 2s - loss: 0.9784 - acc: 0.538 - ETA: 2s - loss: 0.9769 - acc: 0.539 - ETA: 2s - loss: 0.9760 - acc: 0.538 - ETA: 2s - loss: 0.9755 - acc: 0.540 - ETA: 2s - loss: 0.9764 - acc: 0.539 - ETA: 2s - loss: 0.9780 - acc: 0.537 - ETA: 2s - loss: 0.9787 - acc: 0.537 - ETA: 2s - loss: 0.9775 - acc: 0.537 - ETA: 2s - loss: 0.9803 - acc: 0.535 - ETA: 2s - loss: 0.9809 - acc: 0.534 - ETA: 2s - loss: 0.9818 - acc: 0.534 - ETA: 2s - loss: 0.9841 - acc: 0.530 - ETA: 1s - loss: 0.9856 - acc: 0.531 - ETA: 1s - loss: 0.9875 - acc: 0.529 - ETA: 1s - loss: 0.9876 - acc: 0.529 - ETA: 1s - loss: 0.9888 - acc: 0.526 - ETA: 1s - loss: 0.9896 - acc: 0.526 - ETA: 1s - loss: 0.9904 - acc: 0.525 - ETA: 1s - loss: 0.9910 - acc: 0.524 - ETA: 1s - loss: 0.9913 - acc: 0.525 - ETA: 1s - loss: 0.9915 - acc: 0.524 - ETA: 1s - loss: 0.9914 - acc: 0.524 - ETA: 1s - loss: 0.9921 - acc: 0.524 - ETA: 1s - loss: 0.9910 - acc: 0.526 - ETA: 1s - loss: 0.9908 - acc: 0.527 - ETA: 1s - loss: 0.9891 - acc: 0.528 - ETA: 1s - loss: 0.9875 - acc: 0.529 - ETA: 1s - loss: 0.9878 - acc: 0.529 - ETA: 1s - loss: 0.9865 - acc: 0.530 - ETA: 1s - loss: 0.9843 - acc: 0.532 - ETA: 0s - loss: 0.9847 - acc: 0.531 - ETA: 0s - loss: 0.9863 - acc: 0.529 - ETA: 0s - loss: 0.9865 - acc: 0.529 - ETA: 0s - loss: 0.9866 - acc: 0.528 - ETA: 0s - loss: 0.9870 - acc: 0.529 - ETA: 0s - loss: 0.9870 - acc: 0.529 - ETA: 0s - loss: 0.9867 - acc: 0.529 - ETA: 0s - loss: 0.9868 - acc: 0.528 - ETA: 0s - loss: 0.9867 - acc: 0.529 - ETA: 0s - loss: 0.9863 - acc: 0.529 - ETA: 0s - loss: 0.9861 - acc: 0.529 - ETA: 0s - loss: 0.9870 - acc: 0.528 - ETA: 0s - loss: 0.9875 - acc: 0.528 - ETA: 0s - loss: 0.9883 - acc: 0.527 - ETA: 0s - loss: 0.9885 - acc: 0.527 - ETA: 0s - loss: 0.9885 - acc: 0.526 - ETA: 0s - loss: 0.9888 - acc: 0.526 - ETA: 0s - loss: 0.9890 - acc: 0.526 - ETA: 0s - loss: 0.9896 - acc: 0.525 - 4s 626us/sample - loss: 0.9900 - acc: 0.5253 - val_loss: 0.9748 - val_acc: 0.5334\n",
      "Epoch 5/10\n"
     ]
    },
    {
     "name": "stdout",
     "output_type": "stream",
     "text": [
      "7112/7112 [==============================] - ETA: 5s - loss: 0.7498 - acc: 0.700 - ETA: 5s - loss: 0.9319 - acc: 0.587 - ETA: 5s - loss: 0.9778 - acc: 0.560 - ETA: 4s - loss: 1.0111 - acc: 0.520 - ETA: 3s - loss: 1.0013 - acc: 0.521 - ETA: 3s - loss: 1.0069 - acc: 0.513 - ETA: 4s - loss: 0.9997 - acc: 0.518 - ETA: 3s - loss: 0.9900 - acc: 0.524 - ETA: 3s - loss: 0.9905 - acc: 0.529 - ETA: 4s - loss: 0.9907 - acc: 0.528 - ETA: 4s - loss: 0.9891 - acc: 0.532 - ETA: 4s - loss: 0.9902 - acc: 0.533 - ETA: 4s - loss: 0.9979 - acc: 0.521 - ETA: 4s - loss: 0.9982 - acc: 0.520 - ETA: 4s - loss: 0.9946 - acc: 0.516 - ETA: 4s - loss: 0.9925 - acc: 0.518 - ETA: 5s - loss: 0.9890 - acc: 0.518 - ETA: 5s - loss: 0.9887 - acc: 0.518 - ETA: 5s - loss: 0.9875 - acc: 0.518 - ETA: 5s - loss: 0.9878 - acc: 0.518 - ETA: 5s - loss: 0.9929 - acc: 0.511 - ETA: 5s - loss: 0.9932 - acc: 0.511 - ETA: 6s - loss: 0.9928 - acc: 0.511 - ETA: 6s - loss: 0.9933 - acc: 0.510 - ETA: 6s - loss: 0.9940 - acc: 0.509 - ETA: 6s - loss: 0.9937 - acc: 0.509 - ETA: 6s - loss: 0.9942 - acc: 0.510 - ETA: 6s - loss: 0.9960 - acc: 0.506 - ETA: 5s - loss: 0.9940 - acc: 0.510 - ETA: 5s - loss: 0.9976 - acc: 0.507 - ETA: 5s - loss: 0.9966 - acc: 0.508 - ETA: 5s - loss: 0.9961 - acc: 0.507 - ETA: 5s - loss: 0.9975 - acc: 0.506 - ETA: 5s - loss: 0.9940 - acc: 0.509 - ETA: 5s - loss: 0.9929 - acc: 0.512 - ETA: 5s - loss: 0.9883 - acc: 0.516 - ETA: 5s - loss: 0.9853 - acc: 0.519 - ETA: 5s - loss: 0.9865 - acc: 0.520 - ETA: 5s - loss: 0.9874 - acc: 0.520 - ETA: 5s - loss: 0.9880 - acc: 0.521 - ETA: 4s - loss: 0.9920 - acc: 0.516 - ETA: 4s - loss: 0.9938 - acc: 0.516 - ETA: 4s - loss: 0.9932 - acc: 0.517 - ETA: 4s - loss: 0.9913 - acc: 0.518 - ETA: 4s - loss: 0.9925 - acc: 0.518 - ETA: 4s - loss: 0.9920 - acc: 0.518 - ETA: 4s - loss: 0.9928 - acc: 0.518 - ETA: 4s - loss: 0.9913 - acc: 0.518 - ETA: 4s - loss: 0.9914 - acc: 0.520 - ETA: 3s - loss: 0.9901 - acc: 0.521 - ETA: 3s - loss: 0.9918 - acc: 0.521 - ETA: 3s - loss: 0.9905 - acc: 0.522 - ETA: 3s - loss: 0.9896 - acc: 0.523 - ETA: 3s - loss: 0.9904 - acc: 0.522 - ETA: 3s - loss: 0.9903 - acc: 0.522 - ETA: 3s - loss: 0.9905 - acc: 0.522 - ETA: 3s - loss: 0.9912 - acc: 0.521 - ETA: 3s - loss: 0.9879 - acc: 0.524 - ETA: 3s - loss: 0.9881 - acc: 0.524 - ETA: 3s - loss: 0.9886 - acc: 0.524 - ETA: 3s - loss: 0.9891 - acc: 0.524 - ETA: 2s - loss: 0.9900 - acc: 0.523 - ETA: 2s - loss: 0.9904 - acc: 0.522 - ETA: 2s - loss: 0.9891 - acc: 0.524 - ETA: 2s - loss: 0.9895 - acc: 0.522 - ETA: 2s - loss: 0.9884 - acc: 0.522 - ETA: 2s - loss: 0.9877 - acc: 0.523 - ETA: 2s - loss: 0.9882 - acc: 0.523 - ETA: 2s - loss: 0.9869 - acc: 0.523 - ETA: 2s - loss: 0.9855 - acc: 0.523 - ETA: 2s - loss: 0.9849 - acc: 0.524 - ETA: 2s - loss: 0.9844 - acc: 0.524 - ETA: 2s - loss: 0.9833 - acc: 0.525 - ETA: 1s - loss: 0.9838 - acc: 0.524 - ETA: 1s - loss: 0.9838 - acc: 0.525 - ETA: 1s - loss: 0.9827 - acc: 0.526 - ETA: 1s - loss: 0.9834 - acc: 0.526 - ETA: 1s - loss: 0.9833 - acc: 0.527 - ETA: 1s - loss: 0.9844 - acc: 0.526 - ETA: 1s - loss: 0.9848 - acc: 0.526 - ETA: 1s - loss: 0.9859 - acc: 0.524 - ETA: 1s - loss: 0.9849 - acc: 0.525 - ETA: 1s - loss: 0.9853 - acc: 0.525 - ETA: 1s - loss: 0.9851 - acc: 0.525 - ETA: 1s - loss: 0.9849 - acc: 0.525 - ETA: 1s - loss: 0.9867 - acc: 0.523 - ETA: 1s - loss: 0.9871 - acc: 0.523 - ETA: 1s - loss: 0.9870 - acc: 0.523 - ETA: 1s - loss: 0.9876 - acc: 0.523 - ETA: 1s - loss: 0.9877 - acc: 0.523 - ETA: 0s - loss: 0.9870 - acc: 0.523 - ETA: 0s - loss: 0.9869 - acc: 0.524 - ETA: 0s - loss: 0.9868 - acc: 0.524 - ETA: 0s - loss: 0.9870 - acc: 0.523 - ETA: 0s - loss: 0.9882 - acc: 0.522 - ETA: 0s - loss: 0.9885 - acc: 0.522 - ETA: 0s - loss: 0.9890 - acc: 0.521 - ETA: 0s - loss: 0.9883 - acc: 0.522 - ETA: 0s - loss: 0.9876 - acc: 0.523 - ETA: 0s - loss: 0.9870 - acc: 0.524 - ETA: 0s - loss: 0.9865 - acc: 0.524 - ETA: 0s - loss: 0.9873 - acc: 0.524 - ETA: 0s - loss: 0.9876 - acc: 0.524 - ETA: 0s - loss: 0.9879 - acc: 0.524 - ETA: 0s - loss: 0.9884 - acc: 0.524 - ETA: 0s - loss: 0.9880 - acc: 0.524 - ETA: 0s - loss: 0.9878 - acc: 0.525 - ETA: 0s - loss: 0.9883 - acc: 0.525 - 6s 871us/sample - loss: 0.9883 - acc: 0.5253 - val_loss: 0.9781 - val_acc: 0.5304\n",
      "Epoch 6/10\n",
      "7112/7112 [==============================] - ETA: 3s - loss: 0.8850 - acc: 0.600 - ETA: 3s - loss: 0.9919 - acc: 0.530 - ETA: 4s - loss: 0.9846 - acc: 0.537 - ETA: 4s - loss: 0.9508 - acc: 0.579 - ETA: 4s - loss: 0.9536 - acc: 0.571 - ETA: 4s - loss: 0.9487 - acc: 0.570 - ETA: 5s - loss: 0.9470 - acc: 0.570 - ETA: 5s - loss: 0.9516 - acc: 0.559 - ETA: 4s - loss: 0.9396 - acc: 0.571 - ETA: 4s - loss: 0.9599 - acc: 0.549 - ETA: 4s - loss: 0.9582 - acc: 0.555 - ETA: 4s - loss: 0.9680 - acc: 0.549 - ETA: 4s - loss: 0.9695 - acc: 0.549 - ETA: 4s - loss: 0.9672 - acc: 0.552 - ETA: 4s - loss: 0.9707 - acc: 0.548 - ETA: 4s - loss: 0.9665 - acc: 0.552 - ETA: 4s - loss: 0.9705 - acc: 0.548 - ETA: 4s - loss: 0.9693 - acc: 0.548 - ETA: 3s - loss: 0.9673 - acc: 0.547 - ETA: 3s - loss: 0.9661 - acc: 0.550 - ETA: 3s - loss: 0.9642 - acc: 0.550 - ETA: 3s - loss: 0.9653 - acc: 0.550 - ETA: 3s - loss: 0.9645 - acc: 0.551 - ETA: 3s - loss: 0.9653 - acc: 0.550 - ETA: 3s - loss: 0.9665 - acc: 0.550 - ETA: 3s - loss: 0.9697 - acc: 0.548 - ETA: 3s - loss: 0.9692 - acc: 0.548 - ETA: 3s - loss: 0.9675 - acc: 0.549 - ETA: 3s - loss: 0.9691 - acc: 0.547 - ETA: 3s - loss: 0.9693 - acc: 0.546 - ETA: 3s - loss: 0.9706 - acc: 0.545 - ETA: 3s - loss: 0.9707 - acc: 0.545 - ETA: 2s - loss: 0.9742 - acc: 0.541 - ETA: 2s - loss: 0.9774 - acc: 0.538 - ETA: 2s - loss: 0.9791 - acc: 0.536 - ETA: 2s - loss: 0.9771 - acc: 0.537 - ETA: 2s - loss: 0.9790 - acc: 0.536 - ETA: 2s - loss: 0.9804 - acc: 0.534 - ETA: 2s - loss: 0.9805 - acc: 0.534 - ETA: 2s - loss: 0.9806 - acc: 0.534 - ETA: 2s - loss: 0.9821 - acc: 0.532 - ETA: 2s - loss: 0.9809 - acc: 0.534 - ETA: 2s - loss: 0.9813 - acc: 0.535 - ETA: 2s - loss: 0.9821 - acc: 0.535 - ETA: 2s - loss: 0.9816 - acc: 0.536 - ETA: 2s - loss: 0.9824 - acc: 0.535 - ETA: 2s - loss: 0.9823 - acc: 0.535 - ETA: 1s - loss: 0.9827 - acc: 0.533 - ETA: 1s - loss: 0.9816 - acc: 0.533 - ETA: 1s - loss: 0.9814 - acc: 0.533 - ETA: 1s - loss: 0.9816 - acc: 0.532 - ETA: 1s - loss: 0.9827 - acc: 0.532 - ETA: 1s - loss: 0.9821 - acc: 0.533 - ETA: 1s - loss: 0.9798 - acc: 0.535 - ETA: 1s - loss: 0.9797 - acc: 0.536 - ETA: 1s - loss: 0.9799 - acc: 0.536 - ETA: 1s - loss: 0.9805 - acc: 0.536 - ETA: 1s - loss: 0.9796 - acc: 0.537 - ETA: 1s - loss: 0.9808 - acc: 0.536 - ETA: 1s - loss: 0.9807 - acc: 0.536 - ETA: 1s - loss: 0.9800 - acc: 0.535 - ETA: 1s - loss: 0.9821 - acc: 0.534 - ETA: 1s - loss: 0.9818 - acc: 0.535 - ETA: 1s - loss: 0.9817 - acc: 0.535 - ETA: 1s - loss: 0.9832 - acc: 0.533 - ETA: 1s - loss: 0.9828 - acc: 0.534 - ETA: 1s - loss: 0.9844 - acc: 0.532 - ETA: 1s - loss: 0.9842 - acc: 0.532 - ETA: 1s - loss: 0.9839 - acc: 0.533 - ETA: 1s - loss: 0.9839 - acc: 0.533 - ETA: 1s - loss: 0.9831 - acc: 0.534 - ETA: 0s - loss: 0.9824 - acc: 0.535 - ETA: 0s - loss: 0.9831 - acc: 0.534 - ETA: 0s - loss: 0.9843 - acc: 0.532 - ETA: 0s - loss: 0.9841 - acc: 0.533 - ETA: 0s - loss: 0.9848 - acc: 0.533 - ETA: 0s - loss: 0.9847 - acc: 0.533 - ETA: 0s - loss: 0.9843 - acc: 0.534 - ETA: 0s - loss: 0.9844 - acc: 0.533 - ETA: 0s - loss: 0.9846 - acc: 0.533 - ETA: 0s - loss: 0.9847 - acc: 0.533 - ETA: 0s - loss: 0.9849 - acc: 0.533 - ETA: 0s - loss: 0.9849 - acc: 0.533 - ETA: 0s - loss: 0.9841 - acc: 0.533 - ETA: 0s - loss: 0.9838 - acc: 0.533 - ETA: 0s - loss: 0.9856 - acc: 0.531 - ETA: 0s - loss: 0.9852 - acc: 0.532 - ETA: 0s - loss: 0.9853 - acc: 0.532 - ETA: 0s - loss: 0.9857 - acc: 0.531 - ETA: 0s - loss: 0.9862 - acc: 0.530 - ETA: 0s - loss: 0.9863 - acc: 0.530 - ETA: 0s - loss: 0.9865 - acc: 0.529 - 6s 782us/sample - loss: 0.9866 - acc: 0.5294 - val_loss: 0.9777 - val_acc: 0.5317\n",
      "Epoch 7/10\n"
     ]
    },
    {
     "name": "stdout",
     "output_type": "stream",
     "text": [
      "7112/7112 [==============================] - ETA: 6s - loss: 1.0079 - acc: 0.400 - ETA: 4s - loss: 0.9726 - acc: 0.580 - ETA: 5s - loss: 0.9660 - acc: 0.580 - ETA: 6s - loss: 0.9804 - acc: 0.561 - ETA: 6s - loss: 0.9770 - acc: 0.560 - ETA: 6s - loss: 0.9827 - acc: 0.541 - ETA: 6s - loss: 0.9725 - acc: 0.551 - ETA: 5s - loss: 0.9622 - acc: 0.550 - ETA: 5s - loss: 0.9675 - acc: 0.543 - ETA: 5s - loss: 0.9582 - acc: 0.553 - ETA: 5s - loss: 0.9604 - acc: 0.549 - ETA: 5s - loss: 0.9685 - acc: 0.543 - ETA: 5s - loss: 0.9744 - acc: 0.541 - ETA: 4s - loss: 0.9789 - acc: 0.535 - ETA: 4s - loss: 0.9863 - acc: 0.528 - ETA: 4s - loss: 0.9831 - acc: 0.535 - ETA: 4s - loss: 0.9859 - acc: 0.530 - ETA: 4s - loss: 0.9853 - acc: 0.531 - ETA: 4s - loss: 0.9848 - acc: 0.533 - ETA: 4s - loss: 0.9913 - acc: 0.526 - ETA: 4s - loss: 0.9908 - acc: 0.529 - ETA: 4s - loss: 0.9895 - acc: 0.531 - ETA: 4s - loss: 0.9917 - acc: 0.528 - ETA: 4s - loss: 0.9914 - acc: 0.528 - ETA: 4s - loss: 0.9903 - acc: 0.529 - ETA: 4s - loss: 0.9879 - acc: 0.531 - ETA: 4s - loss: 0.9883 - acc: 0.532 - ETA: 4s - loss: 0.9908 - acc: 0.528 - ETA: 4s - loss: 0.9922 - acc: 0.527 - ETA: 3s - loss: 0.9909 - acc: 0.528 - ETA: 3s - loss: 0.9923 - acc: 0.527 - ETA: 3s - loss: 0.9945 - acc: 0.526 - ETA: 3s - loss: 0.9964 - acc: 0.523 - ETA: 3s - loss: 0.9975 - acc: 0.522 - ETA: 3s - loss: 0.9973 - acc: 0.522 - ETA: 3s - loss: 0.9964 - acc: 0.523 - ETA: 3s - loss: 0.9980 - acc: 0.522 - ETA: 3s - loss: 0.9996 - acc: 0.522 - ETA: 3s - loss: 0.9982 - acc: 0.523 - ETA: 3s - loss: 0.9970 - acc: 0.524 - ETA: 3s - loss: 0.9947 - acc: 0.526 - ETA: 3s - loss: 0.9967 - acc: 0.523 - ETA: 2s - loss: 0.9954 - acc: 0.523 - ETA: 2s - loss: 0.9959 - acc: 0.523 - ETA: 2s - loss: 0.9960 - acc: 0.522 - ETA: 2s - loss: 0.9970 - acc: 0.521 - ETA: 2s - loss: 0.9944 - acc: 0.523 - ETA: 2s - loss: 0.9931 - acc: 0.523 - ETA: 2s - loss: 0.9930 - acc: 0.523 - ETA: 2s - loss: 0.9908 - acc: 0.525 - ETA: 2s - loss: 0.9895 - acc: 0.526 - ETA: 2s - loss: 0.9882 - acc: 0.528 - ETA: 2s - loss: 0.9872 - acc: 0.529 - ETA: 2s - loss: 0.9871 - acc: 0.529 - ETA: 1s - loss: 0.9868 - acc: 0.528 - ETA: 1s - loss: 0.9867 - acc: 0.528 - ETA: 1s - loss: 0.9869 - acc: 0.527 - ETA: 1s - loss: 0.9858 - acc: 0.527 - ETA: 1s - loss: 0.9851 - acc: 0.528 - ETA: 1s - loss: 0.9860 - acc: 0.527 - ETA: 1s - loss: 0.9864 - acc: 0.526 - ETA: 1s - loss: 0.9873 - acc: 0.525 - ETA: 1s - loss: 0.9861 - acc: 0.526 - ETA: 1s - loss: 0.9859 - acc: 0.526 - ETA: 1s - loss: 0.9850 - acc: 0.528 - ETA: 1s - loss: 0.9849 - acc: 0.527 - ETA: 1s - loss: 0.9838 - acc: 0.528 - ETA: 1s - loss: 0.9833 - acc: 0.529 - ETA: 1s - loss: 0.9841 - acc: 0.529 - ETA: 1s - loss: 0.9826 - acc: 0.531 - ETA: 1s - loss: 0.9835 - acc: 0.531 - ETA: 1s - loss: 0.9851 - acc: 0.529 - ETA: 0s - loss: 0.9844 - acc: 0.529 - ETA: 0s - loss: 0.9854 - acc: 0.528 - ETA: 0s - loss: 0.9854 - acc: 0.529 - ETA: 0s - loss: 0.9861 - acc: 0.528 - ETA: 0s - loss: 0.9863 - acc: 0.527 - ETA: 0s - loss: 0.9861 - acc: 0.528 - ETA: 0s - loss: 0.9870 - acc: 0.527 - ETA: 0s - loss: 0.9870 - acc: 0.526 - ETA: 0s - loss: 0.9863 - acc: 0.527 - ETA: 0s - loss: 0.9870 - acc: 0.528 - ETA: 0s - loss: 0.9873 - acc: 0.527 - ETA: 0s - loss: 0.9875 - acc: 0.526 - ETA: 0s - loss: 0.9871 - acc: 0.526 - 5s 696us/sample - loss: 0.9869 - acc: 0.5270 - val_loss: 0.9825 - val_acc: 0.5300\n",
      "Epoch 8/10\n",
      "7112/7112 [==============================] - ETA: 51s - loss: 0.8133 - acc: 0.90 - ETA: 30s - loss: 0.8599 - acc: 0.76 - ETA: 13s - loss: 0.9518 - acc: 0.57 - ETA: 10s - loss: 0.9794 - acc: 0.55 - ETA: 7s - loss: 0.9760 - acc: 0.5571 - ETA: 6s - loss: 0.9712 - acc: 0.568 - ETA: 5s - loss: 0.9800 - acc: 0.562 - ETA: 5s - loss: 0.9757 - acc: 0.562 - ETA: 4s - loss: 0.9841 - acc: 0.546 - ETA: 4s - loss: 0.9890 - acc: 0.545 - ETA: 4s - loss: 0.9906 - acc: 0.540 - ETA: 3s - loss: 0.9837 - acc: 0.543 - ETA: 3s - loss: 0.9911 - acc: 0.536 - ETA: 3s - loss: 0.9916 - acc: 0.535 - ETA: 3s - loss: 0.9955 - acc: 0.531 - ETA: 3s - loss: 0.9908 - acc: 0.539 - ETA: 3s - loss: 0.9923 - acc: 0.535 - ETA: 3s - loss: 0.9886 - acc: 0.539 - ETA: 2s - loss: 0.9897 - acc: 0.535 - ETA: 2s - loss: 0.9899 - acc: 0.537 - ETA: 2s - loss: 0.9874 - acc: 0.540 - ETA: 2s - loss: 0.9868 - acc: 0.538 - ETA: 2s - loss: 0.9838 - acc: 0.537 - ETA: 2s - loss: 0.9845 - acc: 0.534 - ETA: 2s - loss: 0.9860 - acc: 0.535 - ETA: 2s - loss: 0.9841 - acc: 0.536 - ETA: 2s - loss: 0.9838 - acc: 0.536 - ETA: 2s - loss: 0.9823 - acc: 0.538 - ETA: 1s - loss: 0.9839 - acc: 0.536 - ETA: 1s - loss: 0.9868 - acc: 0.533 - ETA: 1s - loss: 0.9867 - acc: 0.533 - ETA: 1s - loss: 0.9840 - acc: 0.535 - ETA: 1s - loss: 0.9857 - acc: 0.535 - ETA: 1s - loss: 0.9844 - acc: 0.536 - ETA: 1s - loss: 0.9849 - acc: 0.536 - ETA: 1s - loss: 0.9847 - acc: 0.536 - ETA: 1s - loss: 0.9859 - acc: 0.535 - ETA: 1s - loss: 0.9847 - acc: 0.535 - ETA: 1s - loss: 0.9861 - acc: 0.534 - ETA: 1s - loss: 0.9859 - acc: 0.534 - ETA: 1s - loss: 0.9853 - acc: 0.535 - ETA: 1s - loss: 0.9861 - acc: 0.534 - ETA: 1s - loss: 0.9864 - acc: 0.534 - ETA: 1s - loss: 0.9859 - acc: 0.534 - ETA: 1s - loss: 0.9848 - acc: 0.535 - ETA: 1s - loss: 0.9847 - acc: 0.535 - ETA: 1s - loss: 0.9816 - acc: 0.538 - ETA: 0s - loss: 0.9828 - acc: 0.538 - ETA: 0s - loss: 0.9823 - acc: 0.539 - ETA: 0s - loss: 0.9830 - acc: 0.537 - ETA: 0s - loss: 0.9831 - acc: 0.537 - ETA: 0s - loss: 0.9844 - acc: 0.535 - ETA: 0s - loss: 0.9859 - acc: 0.534 - ETA: 0s - loss: 0.9859 - acc: 0.533 - ETA: 0s - loss: 0.9859 - acc: 0.534 - ETA: 0s - loss: 0.9857 - acc: 0.534 - ETA: 0s - loss: 0.9854 - acc: 0.534 - ETA: 0s - loss: 0.9852 - acc: 0.534 - ETA: 0s - loss: 0.9867 - acc: 0.533 - ETA: 0s - loss: 0.9857 - acc: 0.533 - ETA: 0s - loss: 0.9858 - acc: 0.534 - ETA: 0s - loss: 0.9862 - acc: 0.534 - ETA: 0s - loss: 0.9861 - acc: 0.533 - ETA: 0s - loss: 0.9861 - acc: 0.533 - ETA: 0s - loss: 0.9875 - acc: 0.530 - 4s 544us/sample - loss: 0.9875 - acc: 0.5305 - val_loss: 0.9762 - val_acc: 0.5373\n",
      "Epoch 9/10\n"
     ]
    },
    {
     "name": "stdout",
     "output_type": "stream",
     "text": [
      "7112/7112 [==============================] - ETA: 10s - loss: 1.1779 - acc: 0.30 - ETA: 5s - loss: 1.0816 - acc: 0.4333 - ETA: 4s - loss: 1.0355 - acc: 0.510 - ETA: 3s - loss: 1.0318 - acc: 0.500 - ETA: 6s - loss: 1.0198 - acc: 0.502 - ETA: 6s - loss: 1.0112 - acc: 0.495 - ETA: 6s - loss: 1.0024 - acc: 0.506 - ETA: 5s - loss: 1.0102 - acc: 0.494 - ETA: 5s - loss: 1.0095 - acc: 0.501 - ETA: 5s - loss: 1.0058 - acc: 0.504 - ETA: 5s - loss: 1.0053 - acc: 0.508 - ETA: 5s - loss: 1.0073 - acc: 0.505 - ETA: 5s - loss: 1.0103 - acc: 0.501 - ETA: 4s - loss: 1.0077 - acc: 0.501 - ETA: 4s - loss: 1.0008 - acc: 0.511 - ETA: 4s - loss: 0.9954 - acc: 0.515 - ETA: 4s - loss: 0.9934 - acc: 0.520 - ETA: 4s - loss: 0.9930 - acc: 0.521 - ETA: 4s - loss: 0.9865 - acc: 0.526 - ETA: 4s - loss: 0.9852 - acc: 0.527 - ETA: 3s - loss: 0.9838 - acc: 0.530 - ETA: 3s - loss: 0.9813 - acc: 0.530 - ETA: 3s - loss: 0.9776 - acc: 0.533 - ETA: 3s - loss: 0.9782 - acc: 0.532 - ETA: 3s - loss: 0.9781 - acc: 0.534 - ETA: 3s - loss: 0.9805 - acc: 0.531 - ETA: 3s - loss: 0.9808 - acc: 0.530 - ETA: 3s - loss: 0.9811 - acc: 0.530 - ETA: 3s - loss: 0.9804 - acc: 0.531 - ETA: 2s - loss: 0.9852 - acc: 0.525 - ETA: 2s - loss: 0.9871 - acc: 0.523 - ETA: 2s - loss: 0.9898 - acc: 0.521 - ETA: 2s - loss: 0.9874 - acc: 0.523 - ETA: 2s - loss: 0.9845 - acc: 0.525 - ETA: 2s - loss: 0.9832 - acc: 0.526 - ETA: 2s - loss: 0.9822 - acc: 0.528 - ETA: 2s - loss: 0.9832 - acc: 0.526 - ETA: 2s - loss: 0.9851 - acc: 0.523 - ETA: 2s - loss: 0.9849 - acc: 0.522 - ETA: 2s - loss: 0.9863 - acc: 0.522 - ETA: 2s - loss: 0.9864 - acc: 0.522 - ETA: 2s - loss: 0.9868 - acc: 0.522 - ETA: 2s - loss: 0.9872 - acc: 0.522 - ETA: 2s - loss: 0.9894 - acc: 0.520 - ETA: 2s - loss: 0.9910 - acc: 0.518 - ETA: 2s - loss: 0.9911 - acc: 0.518 - ETA: 1s - loss: 0.9921 - acc: 0.518 - ETA: 1s - loss: 0.9915 - acc: 0.519 - ETA: 1s - loss: 0.9915 - acc: 0.519 - ETA: 1s - loss: 0.9912 - acc: 0.519 - ETA: 1s - loss: 0.9922 - acc: 0.519 - ETA: 1s - loss: 0.9918 - acc: 0.520 - ETA: 1s - loss: 0.9923 - acc: 0.520 - ETA: 1s - loss: 0.9925 - acc: 0.521 - ETA: 1s - loss: 0.9932 - acc: 0.521 - ETA: 1s - loss: 0.9921 - acc: 0.522 - ETA: 1s - loss: 0.9916 - acc: 0.521 - ETA: 1s - loss: 0.9917 - acc: 0.522 - ETA: 1s - loss: 0.9912 - acc: 0.521 - ETA: 1s - loss: 0.9910 - acc: 0.522 - ETA: 1s - loss: 0.9897 - acc: 0.522 - ETA: 0s - loss: 0.9902 - acc: 0.522 - ETA: 0s - loss: 0.9890 - acc: 0.523 - ETA: 0s - loss: 0.9887 - acc: 0.523 - ETA: 0s - loss: 0.9891 - acc: 0.522 - ETA: 0s - loss: 0.9892 - acc: 0.522 - ETA: 0s - loss: 0.9892 - acc: 0.522 - ETA: 0s - loss: 0.9901 - acc: 0.522 - ETA: 0s - loss: 0.9892 - acc: 0.523 - ETA: 0s - loss: 0.9896 - acc: 0.523 - ETA: 0s - loss: 0.9889 - acc: 0.524 - ETA: 0s - loss: 0.9877 - acc: 0.525 - ETA: 0s - loss: 0.9875 - acc: 0.524 - ETA: 0s - loss: 0.9874 - acc: 0.524 - ETA: 0s - loss: 0.9861 - acc: 0.525 - ETA: 0s - loss: 0.9859 - acc: 0.526 - 5s 648us/sample - loss: 0.9858 - acc: 0.5262 - val_loss: 0.9704 - val_acc: 0.5343\n",
      "Epoch 10/10\n",
      "7112/7112 [==============================] - ETA: 6s - loss: 1.1744 - acc: 0.500 - ETA: 6s - loss: 0.9542 - acc: 0.628 - ETA: 4s - loss: 0.9630 - acc: 0.572 - ETA: 3s - loss: 0.9538 - acc: 0.567 - ETA: 3s - loss: 0.9513 - acc: 0.571 - ETA: 3s - loss: 0.9327 - acc: 0.585 - ETA: 3s - loss: 0.9686 - acc: 0.552 - ETA: 3s - loss: 0.9820 - acc: 0.540 - ETA: 3s - loss: 0.9884 - acc: 0.533 - ETA: 3s - loss: 0.9823 - acc: 0.542 - ETA: 2s - loss: 0.9884 - acc: 0.533 - ETA: 2s - loss: 0.9924 - acc: 0.529 - ETA: 2s - loss: 0.9921 - acc: 0.531 - ETA: 2s - loss: 0.9950 - acc: 0.527 - ETA: 2s - loss: 0.9951 - acc: 0.528 - ETA: 3s - loss: 0.9949 - acc: 0.527 - ETA: 3s - loss: 0.9961 - acc: 0.525 - ETA: 3s - loss: 0.9962 - acc: 0.523 - ETA: 2s - loss: 0.9924 - acc: 0.526 - ETA: 2s - loss: 0.9886 - acc: 0.529 - ETA: 2s - loss: 0.9905 - acc: 0.526 - ETA: 2s - loss: 0.9931 - acc: 0.523 - ETA: 2s - loss: 0.9914 - acc: 0.525 - ETA: 2s - loss: 0.9877 - acc: 0.527 - ETA: 2s - loss: 0.9861 - acc: 0.528 - ETA: 2s - loss: 0.9860 - acc: 0.526 - ETA: 2s - loss: 0.9855 - acc: 0.527 - ETA: 2s - loss: 0.9840 - acc: 0.527 - ETA: 2s - loss: 0.9846 - acc: 0.528 - ETA: 2s - loss: 0.9864 - acc: 0.527 - ETA: 2s - loss: 0.9860 - acc: 0.527 - ETA: 2s - loss: 0.9867 - acc: 0.527 - ETA: 2s - loss: 0.9888 - acc: 0.527 - ETA: 2s - loss: 0.9899 - acc: 0.526 - ETA: 2s - loss: 0.9916 - acc: 0.523 - ETA: 2s - loss: 0.9937 - acc: 0.522 - ETA: 2s - loss: 0.9919 - acc: 0.525 - ETA: 2s - loss: 0.9899 - acc: 0.527 - ETA: 1s - loss: 0.9905 - acc: 0.527 - ETA: 1s - loss: 0.9857 - acc: 0.532 - ETA: 1s - loss: 0.9884 - acc: 0.531 - ETA: 1s - loss: 0.9892 - acc: 0.529 - ETA: 1s - loss: 0.9887 - acc: 0.530 - ETA: 1s - loss: 0.9888 - acc: 0.530 - ETA: 1s - loss: 0.9894 - acc: 0.529 - ETA: 1s - loss: 0.9898 - acc: 0.528 - ETA: 1s - loss: 0.9876 - acc: 0.530 - ETA: 1s - loss: 0.9867 - acc: 0.530 - ETA: 1s - loss: 0.9869 - acc: 0.530 - ETA: 1s - loss: 0.9868 - acc: 0.530 - ETA: 1s - loss: 0.9873 - acc: 0.529 - ETA: 1s - loss: 0.9872 - acc: 0.529 - ETA: 1s - loss: 0.9867 - acc: 0.530 - ETA: 1s - loss: 0.9858 - acc: 0.531 - ETA: 1s - loss: 0.9862 - acc: 0.531 - ETA: 1s - loss: 0.9857 - acc: 0.531 - ETA: 1s - loss: 0.9856 - acc: 0.532 - ETA: 1s - loss: 0.9858 - acc: 0.531 - ETA: 1s - loss: 0.9849 - acc: 0.532 - ETA: 0s - loss: 0.9855 - acc: 0.532 - ETA: 0s - loss: 0.9849 - acc: 0.531 - ETA: 0s - loss: 0.9840 - acc: 0.532 - ETA: 0s - loss: 0.9822 - acc: 0.533 - ETA: 0s - loss: 0.9834 - acc: 0.533 - ETA: 0s - loss: 0.9840 - acc: 0.532 - ETA: 0s - loss: 0.9830 - acc: 0.533 - ETA: 0s - loss: 0.9819 - acc: 0.533 - ETA: 0s - loss: 0.9834 - acc: 0.532 - ETA: 0s - loss: 0.9834 - acc: 0.532 - ETA: 0s - loss: 0.9833 - acc: 0.532 - ETA: 0s - loss: 0.9827 - acc: 0.533 - ETA: 0s - loss: 0.9825 - acc: 0.533 - ETA: 0s - loss: 0.9832 - acc: 0.532 - ETA: 0s - loss: 0.9838 - acc: 0.532 - ETA: 0s - loss: 0.9840 - acc: 0.532 - ETA: 0s - loss: 0.9843 - acc: 0.532 - ETA: 0s - loss: 0.9853 - acc: 0.530 - ETA: 0s - loss: 0.9849 - acc: 0.531 - ETA: 0s - loss: 0.9863 - acc: 0.530 - ETA: 0s - loss: 0.9863 - acc: 0.530 - 5s 644us/sample - loss: 0.9863 - acc: 0.5301 - val_loss: 0.9756 - val_acc: 0.5347\n"
     ]
    },
    {
     "data": {
      "text/html": [
       "<span style=\"color:#4527A0\"><h1 style=\"font-size:18px\">Trial complete</h1></span>"
      ],
      "text/plain": [
       "<IPython.core.display.HTML object>"
      ]
     },
     "metadata": {},
     "output_type": "display_data"
    },
    {
     "data": {
      "text/html": [
       "<span style=\"color:#4527A0\"><h1 style=\"font-size:18px\">Trial summary</h1></span>"
      ],
      "text/plain": [
       "<IPython.core.display.HTML object>"
      ]
     },
     "metadata": {},
     "output_type": "display_data"
    },
    {
     "data": {
      "text/html": [
       "<span style=\"color:cyan\"> |-Trial ID: ab4723234d4fcd57bc573d6103cc645d</span>"
      ],
      "text/plain": [
       "<IPython.core.display.HTML object>"
      ]
     },
     "metadata": {},
     "output_type": "display_data"
    },
    {
     "data": {
      "text/html": [
       "<span style=\"color:cyan\"> |-Score: 0.5373070240020752</span>"
      ],
      "text/plain": [
       "<IPython.core.display.HTML object>"
      ]
     },
     "metadata": {},
     "output_type": "display_data"
    },
    {
     "data": {
      "text/html": [
       "<span style=\"color:cyan\"> |-Best step: 0</span>"
      ],
      "text/plain": [
       "<IPython.core.display.HTML object>"
      ]
     },
     "metadata": {},
     "output_type": "display_data"
    },
    {
     "data": {
      "text/html": [
       "<span style=\"color:#7E57C2\"><h2 style=\"font-size:16px\">Hyperparameters:</h2></span>"
      ],
      "text/plain": [
       "<IPython.core.display.HTML object>"
      ]
     },
     "metadata": {},
     "output_type": "display_data"
    },
    {
     "data": {
      "text/html": [
       "<span style=\"color:cyan\"> |-layer_0_neurons: 110</span>"
      ],
      "text/plain": [
       "<IPython.core.display.HTML object>"
      ]
     },
     "metadata": {},
     "output_type": "display_data"
    },
    {
     "data": {
      "text/html": [
       "<span style=\"color:blue\"> |-layer_1_neurons: 130</span>"
      ],
      "text/plain": [
       "<IPython.core.display.HTML object>"
      ]
     },
     "metadata": {},
     "output_type": "display_data"
    },
    {
     "data": {
      "text/html": [
       "<span style=\"color:cyan\"> |-layer_2_neurons: 70</span>"
      ],
      "text/plain": [
       "<IPython.core.display.HTML object>"
      ]
     },
     "metadata": {},
     "output_type": "display_data"
    },
    {
     "data": {
      "text/html": [
       "<span style=\"color:blue\"> |-layer_3_neurons: 130</span>"
      ],
      "text/plain": [
       "<IPython.core.display.HTML object>"
      ]
     },
     "metadata": {},
     "output_type": "display_data"
    },
    {
     "data": {
      "text/html": [
       "<span style=\"color:cyan\"> |-n_input_neurons: 130</span>"
      ],
      "text/plain": [
       "<IPython.core.display.HTML object>"
      ]
     },
     "metadata": {},
     "output_type": "display_data"
    },
    {
     "data": {
      "text/html": [
       "<span style=\"color:blue\"> |-n_layers: 2</span>"
      ],
      "text/plain": [
       "<IPython.core.display.HTML object>"
      ]
     },
     "metadata": {},
     "output_type": "display_data"
    },
    {
     "name": "stdout",
     "output_type": "stream",
     "text": [
      "Train on 7112 samples, validate on 2332 samples\n",
      "Epoch 1/10\n",
      "7112/7112 [==============================] - ETA: 7:16 - loss: 2.4104 - acc: 0.200 - ETA: 42s - loss: 1.2266 - acc: 0.463 - ETA: 23s - loss: 1.1202 - acc: 0.49 - ETA: 17s - loss: 1.1282 - acc: 0.45 - ETA: 14s - loss: 1.0931 - acc: 0.48 - ETA: 13s - loss: 1.1071 - acc: 0.47 - ETA: 12s - loss: 1.0975 - acc: 0.47 - ETA: 11s - loss: 1.0904 - acc: 0.48 - ETA: 11s - loss: 1.0867 - acc: 0.48 - ETA: 10s - loss: 1.0755 - acc: 0.49 - ETA: 9s - loss: 1.0744 - acc: 0.4895 - ETA: 8s - loss: 1.0655 - acc: 0.494 - ETA: 8s - loss: 1.0638 - acc: 0.494 - ETA: 8s - loss: 1.0612 - acc: 0.493 - ETA: 7s - loss: 1.0631 - acc: 0.487 - ETA: 7s - loss: 1.0555 - acc: 0.493 - ETA: 6s - loss: 1.0602 - acc: 0.491 - ETA: 6s - loss: 1.0581 - acc: 0.490 - ETA: 6s - loss: 1.0547 - acc: 0.492 - ETA: 6s - loss: 1.0544 - acc: 0.492 - ETA: 6s - loss: 1.0539 - acc: 0.494 - ETA: 5s - loss: 1.0538 - acc: 0.493 - ETA: 6s - loss: 1.0513 - acc: 0.493 - ETA: 6s - loss: 1.0507 - acc: 0.493 - ETA: 5s - loss: 1.0495 - acc: 0.494 - ETA: 5s - loss: 1.0495 - acc: 0.490 - ETA: 5s - loss: 1.0481 - acc: 0.491 - ETA: 5s - loss: 1.0482 - acc: 0.491 - ETA: 5s - loss: 1.0447 - acc: 0.494 - ETA: 5s - loss: 1.0430 - acc: 0.494 - ETA: 4s - loss: 1.0442 - acc: 0.492 - ETA: 4s - loss: 1.0432 - acc: 0.492 - ETA: 4s - loss: 1.0420 - acc: 0.490 - ETA: 4s - loss: 1.0425 - acc: 0.491 - ETA: 4s - loss: 1.0380 - acc: 0.497 - ETA: 3s - loss: 1.0388 - acc: 0.498 - ETA: 3s - loss: 1.0382 - acc: 0.497 - ETA: 3s - loss: 1.0366 - acc: 0.499 - ETA: 3s - loss: 1.0320 - acc: 0.501 - ETA: 3s - loss: 1.0346 - acc: 0.499 - ETA: 3s - loss: 1.0352 - acc: 0.497 - ETA: 3s - loss: 1.0353 - acc: 0.495 - ETA: 3s - loss: 1.0341 - acc: 0.496 - ETA: 3s - loss: 1.0344 - acc: 0.495 - ETA: 3s - loss: 1.0322 - acc: 0.498 - ETA: 2s - loss: 1.0303 - acc: 0.498 - ETA: 2s - loss: 1.0289 - acc: 0.499 - ETA: 2s - loss: 1.0273 - acc: 0.499 - ETA: 2s - loss: 1.0275 - acc: 0.499 - ETA: 2s - loss: 1.0279 - acc: 0.497 - ETA: 2s - loss: 1.0257 - acc: 0.498 - ETA: 2s - loss: 1.0230 - acc: 0.500 - ETA: 2s - loss: 1.0207 - acc: 0.503 - ETA: 2s - loss: 1.0206 - acc: 0.504 - ETA: 1s - loss: 1.0211 - acc: 0.505 - ETA: 1s - loss: 1.0214 - acc: 0.505 - ETA: 1s - loss: 1.0211 - acc: 0.505 - ETA: 1s - loss: 1.0207 - acc: 0.506 - ETA: 1s - loss: 1.0199 - acc: 0.507 - ETA: 1s - loss: 1.0189 - acc: 0.507 - ETA: 1s - loss: 1.0184 - acc: 0.508 - ETA: 1s - loss: 1.0191 - acc: 0.507 - ETA: 1s - loss: 1.0168 - acc: 0.508 - ETA: 1s - loss: 1.0167 - acc: 0.508 - ETA: 1s - loss: 1.0153 - acc: 0.510 - ETA: 1s - loss: 1.0145 - acc: 0.511 - ETA: 1s - loss: 1.0135 - acc: 0.512 - ETA: 1s - loss: 1.0139 - acc: 0.511 - ETA: 1s - loss: 1.0134 - acc: 0.511 - ETA: 1s - loss: 1.0131 - acc: 0.512 - ETA: 1s - loss: 1.0129 - acc: 0.512 - ETA: 1s - loss: 1.0135 - acc: 0.511 - ETA: 1s - loss: 1.0136 - acc: 0.511 - ETA: 1s - loss: 1.0138 - acc: 0.511 - ETA: 1s - loss: 1.0131 - acc: 0.512 - ETA: 0s - loss: 1.0131 - acc: 0.512 - ETA: 0s - loss: 1.0129 - acc: 0.512 - ETA: 0s - loss: 1.0141 - acc: 0.511 - ETA: 0s - loss: 1.0143 - acc: 0.511 - ETA: 0s - loss: 1.0149 - acc: 0.510 - ETA: 0s - loss: 1.0148 - acc: 0.509 - ETA: 0s - loss: 1.0141 - acc: 0.511 - ETA: 0s - loss: 1.0147 - acc: 0.510 - ETA: 0s - loss: 1.0137 - acc: 0.511 - ETA: 0s - loss: 1.0135 - acc: 0.511 - ETA: 0s - loss: 1.0137 - acc: 0.511 - ETA: 0s - loss: 1.0141 - acc: 0.510 - ETA: 0s - loss: 1.0139 - acc: 0.510 - ETA: 0s - loss: 1.0142 - acc: 0.510 - ETA: 0s - loss: 1.0137 - acc: 0.511 - ETA: 0s - loss: 1.0136 - acc: 0.511 - ETA: 0s - loss: 1.0132 - acc: 0.511 - 7s 934us/sample - loss: 1.0129 - acc: 0.5120 - val_loss: 1.0391 - val_acc: 0.4983\n",
      "Epoch 2/10\n",
      "7112/7112 [==============================] - ETA: 8s - loss: 0.6971 - acc: 0.800 - ETA: 7s - loss: 0.9853 - acc: 0.516 - ETA: 6s - loss: 0.9884 - acc: 0.515 - ETA: 5s - loss: 1.0152 - acc: 0.481 - ETA: 4s - loss: 1.0077 - acc: 0.486 - ETA: 5s - loss: 0.9985 - acc: 0.497 - ETA: 5s - loss: 0.9929 - acc: 0.500 - ETA: 4s - loss: 0.9998 - acc: 0.498 - ETA: 4s - loss: 0.9988 - acc: 0.494 - ETA: 5s - loss: 0.9881 - acc: 0.507 - ETA: 5s - loss: 0.9828 - acc: 0.511 - ETA: 5s - loss: 0.9914 - acc: 0.509 - ETA: 5s - loss: 0.9924 - acc: 0.508 - ETA: 5s - loss: 0.9855 - acc: 0.518 - ETA: 5s - loss: 0.9849 - acc: 0.521 - ETA: 5s - loss: 0.9861 - acc: 0.518 - ETA: 5s - loss: 0.9860 - acc: 0.517 - ETA: 5s - loss: 0.9922 - acc: 0.513 - ETA: 5s - loss: 0.9947 - acc: 0.509 - ETA: 5s - loss: 0.9940 - acc: 0.510 - ETA: 5s - loss: 0.9939 - acc: 0.509 - ETA: 5s - loss: 0.9948 - acc: 0.508 - ETA: 5s - loss: 0.9943 - acc: 0.509 - ETA: 5s - loss: 0.9948 - acc: 0.509 - ETA: 5s - loss: 0.9935 - acc: 0.509 - ETA: 5s - loss: 0.9932 - acc: 0.511 - ETA: 4s - loss: 0.9889 - acc: 0.516 - ETA: 4s - loss: 0.9870 - acc: 0.519 - ETA: 4s - loss: 0.9880 - acc: 0.519 - ETA: 4s - loss: 0.9890 - acc: 0.521 - ETA: 4s - loss: 0.9897 - acc: 0.522 - ETA: 4s - loss: 0.9900 - acc: 0.523 - ETA: 4s - loss: 0.9926 - acc: 0.520 - ETA: 4s - loss: 0.9914 - acc: 0.521 - ETA: 4s - loss: 0.9909 - acc: 0.522 - ETA: 3s - loss: 0.9908 - acc: 0.521 - ETA: 3s - loss: 0.9947 - acc: 0.516 - ETA: 3s - loss: 0.9946 - acc: 0.516 - ETA: 3s - loss: 0.9949 - acc: 0.516 - ETA: 3s - loss: 0.9932 - acc: 0.519 - ETA: 3s - loss: 0.9924 - acc: 0.518 - ETA: 3s - loss: 0.9882 - acc: 0.522 - ETA: 3s - loss: 0.9885 - acc: 0.522 - ETA: 2s - loss: 0.9877 - acc: 0.523 - ETA: 2s - loss: 0.9903 - acc: 0.520 - ETA: 2s - loss: 0.9912 - acc: 0.520 - ETA: 2s - loss: 0.9887 - acc: 0.523 - ETA: 2s - loss: 0.9878 - acc: 0.523 - ETA: 2s - loss: 0.9874 - acc: 0.524 - ETA: 2s - loss: 0.9867 - acc: 0.524 - ETA: 2s - loss: 0.9869 - acc: 0.523 - ETA: 2s - loss: 0.9869 - acc: 0.524 - ETA: 2s - loss: 0.9871 - acc: 0.523 - ETA: 2s - loss: 0.9865 - acc: 0.524 - ETA: 2s - loss: 0.9853 - acc: 0.525 - ETA: 2s - loss: 0.9861 - acc: 0.524 - ETA: 2s - loss: 0.9859 - acc: 0.525 - ETA: 2s - loss: 0.9854 - acc: 0.526 - ETA: 2s - loss: 0.9858 - acc: 0.526 - ETA: 2s - loss: 0.9852 - acc: 0.526 - ETA: 2s - loss: 0.9836 - acc: 0.528 - ETA: 2s - loss: 0.9832 - acc: 0.528 - ETA: 2s - loss: 0.9832 - acc: 0.528 - ETA: 1s - loss: 0.9842 - acc: 0.528 - ETA: 1s - loss: 0.9841 - acc: 0.529 - ETA: 1s - loss: 0.9835 - acc: 0.530 - ETA: 1s - loss: 0.9860 - acc: 0.528 - ETA: 1s - loss: 0.9870 - acc: 0.528 - ETA: 1s - loss: 0.9888 - acc: 0.524 - ETA: 1s - loss: 0.9902 - acc: 0.524 - ETA: 1s - loss: 0.9908 - acc: 0.523 - ETA: 1s - loss: 0.9913 - acc: 0.522 - ETA: 1s - loss: 0.9911 - acc: 0.523 - ETA: 1s - loss: 0.9919 - acc: 0.522 - ETA: 1s - loss: 0.9928 - acc: 0.521 - ETA: 1s - loss: 0.9919 - acc: 0.523 - ETA: 0s - loss: 0.9926 - acc: 0.522 - ETA: 0s - loss: 0.9921 - acc: 0.522 - ETA: 0s - loss: 0.9922 - acc: 0.521 - ETA: 0s - loss: 0.9936 - acc: 0.521 - ETA: 0s - loss: 0.9928 - acc: 0.522 - ETA: 0s - loss: 0.9930 - acc: 0.521 - ETA: 0s - loss: 0.9925 - acc: 0.522 - ETA: 0s - loss: 0.9918 - acc: 0.522 - ETA: 0s - loss: 0.9917 - acc: 0.522 - ETA: 0s - loss: 0.9917 - acc: 0.523 - ETA: 0s - loss: 0.9913 - acc: 0.524 - ETA: 0s - loss: 0.9913 - acc: 0.524 - ETA: 0s - loss: 0.9917 - acc: 0.523 - ETA: 0s - loss: 0.9931 - acc: 0.522 - ETA: 0s - loss: 0.9924 - acc: 0.523 - ETA: 0s - loss: 0.9940 - acc: 0.521 - ETA: 0s - loss: 0.9945 - acc: 0.520 - ETA: 0s - loss: 0.9952 - acc: 0.520 - 6s 791us/sample - loss: 0.9953 - acc: 0.5207 - val_loss: 1.0073 - val_acc: 0.5309\n",
      "Epoch 3/10\n"
     ]
    },
    {
     "name": "stdout",
     "output_type": "stream",
     "text": [
      "7112/7112 [==============================] - ETA: 5s - loss: 1.0437 - acc: 0.700 - ETA: 6s - loss: 0.9954 - acc: 0.566 - ETA: 5s - loss: 1.0050 - acc: 0.520 - ETA: 4s - loss: 1.0313 - acc: 0.496 - ETA: 4s - loss: 1.0267 - acc: 0.502 - ETA: 4s - loss: 1.0167 - acc: 0.497 - ETA: 4s - loss: 1.0247 - acc: 0.488 - ETA: 4s - loss: 1.0267 - acc: 0.489 - ETA: 4s - loss: 1.0170 - acc: 0.498 - ETA: 4s - loss: 1.0144 - acc: 0.500 - ETA: 3s - loss: 1.0097 - acc: 0.507 - ETA: 3s - loss: 1.0009 - acc: 0.511 - ETA: 4s - loss: 1.0002 - acc: 0.512 - ETA: 4s - loss: 0.9967 - acc: 0.517 - ETA: 4s - loss: 0.9990 - acc: 0.520 - ETA: 4s - loss: 1.0029 - acc: 0.517 - ETA: 4s - loss: 1.0049 - acc: 0.517 - ETA: 4s - loss: 1.0028 - acc: 0.520 - ETA: 3s - loss: 1.0021 - acc: 0.519 - ETA: 3s - loss: 0.9986 - acc: 0.522 - ETA: 3s - loss: 1.0015 - acc: 0.521 - ETA: 4s - loss: 1.0010 - acc: 0.522 - ETA: 4s - loss: 1.0030 - acc: 0.520 - ETA: 4s - loss: 1.0037 - acc: 0.519 - ETA: 4s - loss: 1.0006 - acc: 0.522 - ETA: 4s - loss: 0.9997 - acc: 0.522 - ETA: 4s - loss: 0.9987 - acc: 0.522 - ETA: 4s - loss: 0.9985 - acc: 0.521 - ETA: 4s - loss: 0.9963 - acc: 0.523 - ETA: 4s - loss: 1.0006 - acc: 0.518 - ETA: 4s - loss: 1.0000 - acc: 0.519 - ETA: 4s - loss: 0.9971 - acc: 0.521 - ETA: 4s - loss: 0.9963 - acc: 0.523 - ETA: 4s - loss: 0.9934 - acc: 0.524 - ETA: 3s - loss: 0.9953 - acc: 0.523 - ETA: 3s - loss: 0.9932 - acc: 0.525 - ETA: 3s - loss: 0.9935 - acc: 0.525 - ETA: 3s - loss: 0.9961 - acc: 0.521 - ETA: 3s - loss: 0.9939 - acc: 0.524 - ETA: 3s - loss: 0.9947 - acc: 0.522 - ETA: 3s - loss: 0.9931 - acc: 0.524 - ETA: 3s - loss: 0.9930 - acc: 0.524 - ETA: 3s - loss: 0.9929 - acc: 0.525 - ETA: 3s - loss: 0.9904 - acc: 0.526 - ETA: 3s - loss: 0.9916 - acc: 0.526 - ETA: 3s - loss: 0.9927 - acc: 0.524 - ETA: 2s - loss: 0.9907 - acc: 0.527 - ETA: 2s - loss: 0.9909 - acc: 0.527 - ETA: 2s - loss: 0.9867 - acc: 0.531 - ETA: 2s - loss: 0.9901 - acc: 0.528 - ETA: 2s - loss: 0.9903 - acc: 0.527 - ETA: 2s - loss: 0.9897 - acc: 0.528 - ETA: 2s - loss: 0.9895 - acc: 0.528 - ETA: 2s - loss: 0.9880 - acc: 0.529 - ETA: 2s - loss: 0.9894 - acc: 0.528 - ETA: 2s - loss: 0.9895 - acc: 0.527 - ETA: 2s - loss: 0.9887 - acc: 0.529 - ETA: 1s - loss: 0.9896 - acc: 0.529 - ETA: 1s - loss: 0.9900 - acc: 0.528 - ETA: 1s - loss: 0.9895 - acc: 0.529 - ETA: 1s - loss: 0.9900 - acc: 0.528 - ETA: 1s - loss: 0.9894 - acc: 0.529 - ETA: 1s - loss: 0.9884 - acc: 0.529 - ETA: 1s - loss: 0.9911 - acc: 0.527 - ETA: 1s - loss: 0.9915 - acc: 0.526 - ETA: 1s - loss: 0.9912 - acc: 0.527 - ETA: 1s - loss: 0.9919 - acc: 0.526 - ETA: 1s - loss: 0.9924 - acc: 0.526 - ETA: 1s - loss: 0.9929 - acc: 0.525 - ETA: 1s - loss: 0.9923 - acc: 0.525 - ETA: 1s - loss: 0.9929 - acc: 0.525 - ETA: 1s - loss: 0.9934 - acc: 0.524 - ETA: 1s - loss: 0.9930 - acc: 0.525 - ETA: 1s - loss: 0.9926 - acc: 0.526 - ETA: 0s - loss: 0.9926 - acc: 0.526 - ETA: 0s - loss: 0.9921 - acc: 0.527 - ETA: 0s - loss: 0.9937 - acc: 0.525 - ETA: 0s - loss: 0.9944 - acc: 0.524 - ETA: 0s - loss: 0.9943 - acc: 0.524 - ETA: 0s - loss: 0.9934 - acc: 0.526 - ETA: 0s - loss: 0.9938 - acc: 0.526 - ETA: 0s - loss: 0.9947 - acc: 0.524 - ETA: 0s - loss: 0.9955 - acc: 0.523 - ETA: 0s - loss: 0.9952 - acc: 0.523 - ETA: 0s - loss: 0.9942 - acc: 0.524 - ETA: 0s - loss: 0.9952 - acc: 0.524 - ETA: 0s - loss: 0.9945 - acc: 0.524 - ETA: 0s - loss: 0.9946 - acc: 0.525 - ETA: 0s - loss: 0.9950 - acc: 0.525 - ETA: 0s - loss: 0.9946 - acc: 0.526 - 5s 730us/sample - loss: 0.9950 - acc: 0.5256 - val_loss: 0.9890 - val_acc: 0.5253\n",
      "Epoch 4/10\n",
      "7112/7112 [==============================] - ETA: 8s - loss: 1.1680 - acc: 0.400 - ETA: 5s - loss: 1.0269 - acc: 0.433 - ETA: 7s - loss: 1.0301 - acc: 0.450 - ETA: 10s - loss: 1.0378 - acc: 0.43 - ETA: 11s - loss: 1.0187 - acc: 0.45 - ETA: 10s - loss: 1.0001 - acc: 0.50 - ETA: 8s - loss: 0.9908 - acc: 0.5161 - ETA: 7s - loss: 1.0029 - acc: 0.514 - ETA: 6s - loss: 0.9976 - acc: 0.516 - ETA: 6s - loss: 0.9867 - acc: 0.524 - ETA: 5s - loss: 0.9967 - acc: 0.511 - ETA: 5s - loss: 0.9962 - acc: 0.505 - ETA: 4s - loss: 0.9949 - acc: 0.510 - ETA: 4s - loss: 0.9952 - acc: 0.509 - ETA: 4s - loss: 0.9934 - acc: 0.513 - ETA: 4s - loss: 0.9931 - acc: 0.515 - ETA: 4s - loss: 0.9922 - acc: 0.515 - ETA: 4s - loss: 0.9916 - acc: 0.516 - ETA: 4s - loss: 0.9947 - acc: 0.515 - ETA: 4s - loss: 0.9897 - acc: 0.518 - ETA: 4s - loss: 0.9875 - acc: 0.522 - ETA: 4s - loss: 0.9858 - acc: 0.523 - ETA: 4s - loss: 0.9843 - acc: 0.524 - ETA: 4s - loss: 0.9837 - acc: 0.523 - ETA: 4s - loss: 0.9848 - acc: 0.522 - ETA: 4s - loss: 0.9892 - acc: 0.518 - ETA: 4s - loss: 0.9875 - acc: 0.518 - ETA: 3s - loss: 0.9862 - acc: 0.517 - ETA: 3s - loss: 0.9860 - acc: 0.518 - ETA: 3s - loss: 0.9853 - acc: 0.517 - ETA: 3s - loss: 0.9861 - acc: 0.517 - ETA: 3s - loss: 0.9881 - acc: 0.516 - ETA: 3s - loss: 0.9879 - acc: 0.517 - ETA: 3s - loss: 0.9877 - acc: 0.517 - ETA: 3s - loss: 0.9885 - acc: 0.519 - ETA: 3s - loss: 0.9898 - acc: 0.518 - ETA: 3s - loss: 0.9913 - acc: 0.517 - ETA: 3s - loss: 0.9901 - acc: 0.518 - ETA: 3s - loss: 0.9913 - acc: 0.517 - ETA: 3s - loss: 0.9915 - acc: 0.517 - ETA: 3s - loss: 0.9907 - acc: 0.518 - ETA: 3s - loss: 0.9898 - acc: 0.519 - ETA: 3s - loss: 0.9902 - acc: 0.519 - ETA: 3s - loss: 0.9897 - acc: 0.519 - ETA: 3s - loss: 0.9913 - acc: 0.516 - ETA: 3s - loss: 0.9929 - acc: 0.514 - ETA: 3s - loss: 0.9931 - acc: 0.515 - ETA: 3s - loss: 0.9916 - acc: 0.518 - ETA: 2s - loss: 0.9925 - acc: 0.517 - ETA: 2s - loss: 0.9930 - acc: 0.517 - ETA: 2s - loss: 0.9929 - acc: 0.518 - ETA: 2s - loss: 0.9923 - acc: 0.518 - ETA: 2s - loss: 0.9922 - acc: 0.519 - ETA: 2s - loss: 0.9930 - acc: 0.519 - ETA: 2s - loss: 0.9931 - acc: 0.519 - ETA: 2s - loss: 0.9928 - acc: 0.520 - ETA: 2s - loss: 0.9912 - acc: 0.521 - ETA: 2s - loss: 0.9909 - acc: 0.522 - ETA: 2s - loss: 0.9920 - acc: 0.522 - ETA: 2s - loss: 0.9908 - acc: 0.523 - ETA: 1s - loss: 0.9909 - acc: 0.523 - ETA: 1s - loss: 0.9895 - acc: 0.524 - ETA: 1s - loss: 0.9893 - acc: 0.523 - ETA: 1s - loss: 0.9876 - acc: 0.525 - ETA: 1s - loss: 0.9878 - acc: 0.524 - ETA: 1s - loss: 0.9876 - acc: 0.524 - ETA: 1s - loss: 0.9864 - acc: 0.525 - ETA: 1s - loss: 0.9886 - acc: 0.524 - ETA: 1s - loss: 0.9885 - acc: 0.523 - ETA: 1s - loss: 0.9910 - acc: 0.521 - ETA: 1s - loss: 0.9920 - acc: 0.521 - ETA: 1s - loss: 0.9922 - acc: 0.520 - ETA: 1s - loss: 0.9926 - acc: 0.521 - ETA: 1s - loss: 0.9921 - acc: 0.522 - ETA: 1s - loss: 0.9919 - acc: 0.522 - ETA: 1s - loss: 0.9918 - acc: 0.523 - ETA: 0s - loss: 0.9910 - acc: 0.523 - ETA: 0s - loss: 0.9912 - acc: 0.523 - ETA: 0s - loss: 0.9912 - acc: 0.523 - ETA: 0s - loss: 0.9908 - acc: 0.524 - ETA: 0s - loss: 0.9913 - acc: 0.524 - ETA: 0s - loss: 0.9901 - acc: 0.525 - ETA: 0s - loss: 0.9903 - acc: 0.525 - ETA: 0s - loss: 0.9905 - acc: 0.526 - ETA: 0s - loss: 0.9916 - acc: 0.525 - ETA: 0s - loss: 0.9922 - acc: 0.524 - ETA: 0s - loss: 0.9921 - acc: 0.524 - ETA: 0s - loss: 0.9915 - acc: 0.525 - ETA: 0s - loss: 0.9908 - acc: 0.526 - ETA: 0s - loss: 0.9907 - acc: 0.525 - ETA: 0s - loss: 0.9912 - acc: 0.525 - ETA: 0s - loss: 0.9915 - acc: 0.525 - ETA: 0s - loss: 0.9910 - acc: 0.526 - ETA: 0s - loss: 0.9908 - acc: 0.526 - ETA: 0s - loss: 0.9911 - acc: 0.525 - 6s 796us/sample - loss: 0.9910 - acc: 0.5260 - val_loss: 0.9737 - val_acc: 0.5326\n",
      "Epoch 5/10\n"
     ]
    },
    {
     "name": "stdout",
     "output_type": "stream",
     "text": [
      "7112/7112 [==============================] - ETA: 10s - loss: 0.7612 - acc: 0.60 - ETA: 5s - loss: 1.0243 - acc: 0.5000 - ETA: 4s - loss: 1.0033 - acc: 0.510 - ETA: 3s - loss: 1.0130 - acc: 0.496 - ETA: 3s - loss: 0.9949 - acc: 0.517 - ETA: 3s - loss: 0.9956 - acc: 0.512 - ETA: 3s - loss: 0.9997 - acc: 0.510 - ETA: 3s - loss: 0.9978 - acc: 0.513 - ETA: 3s - loss: 0.9998 - acc: 0.508 - ETA: 3s - loss: 0.9876 - acc: 0.519 - ETA: 4s - loss: 0.9878 - acc: 0.521 - ETA: 4s - loss: 0.9887 - acc: 0.521 - ETA: 4s - loss: 0.9901 - acc: 0.520 - ETA: 4s - loss: 0.9799 - acc: 0.531 - ETA: 4s - loss: 0.9809 - acc: 0.534 - ETA: 4s - loss: 0.9829 - acc: 0.532 - ETA: 4s - loss: 0.9874 - acc: 0.533 - ETA: 4s - loss: 0.9856 - acc: 0.532 - ETA: 4s - loss: 0.9856 - acc: 0.536 - ETA: 4s - loss: 0.9846 - acc: 0.537 - ETA: 4s - loss: 0.9836 - acc: 0.537 - ETA: 4s - loss: 0.9824 - acc: 0.537 - ETA: 4s - loss: 0.9820 - acc: 0.537 - ETA: 3s - loss: 0.9805 - acc: 0.538 - ETA: 3s - loss: 0.9800 - acc: 0.539 - ETA: 3s - loss: 0.9796 - acc: 0.540 - ETA: 3s - loss: 0.9809 - acc: 0.538 - ETA: 3s - loss: 0.9820 - acc: 0.538 - ETA: 3s - loss: 0.9839 - acc: 0.534 - ETA: 3s - loss: 0.9825 - acc: 0.535 - ETA: 3s - loss: 0.9813 - acc: 0.535 - ETA: 3s - loss: 0.9803 - acc: 0.535 - ETA: 2s - loss: 0.9809 - acc: 0.536 - ETA: 2s - loss: 0.9817 - acc: 0.534 - ETA: 2s - loss: 0.9799 - acc: 0.535 - ETA: 2s - loss: 0.9786 - acc: 0.536 - ETA: 2s - loss: 0.9800 - acc: 0.536 - ETA: 2s - loss: 0.9782 - acc: 0.536 - ETA: 2s - loss: 0.9768 - acc: 0.538 - ETA: 2s - loss: 0.9777 - acc: 0.537 - ETA: 2s - loss: 0.9793 - acc: 0.536 - ETA: 2s - loss: 0.9792 - acc: 0.535 - ETA: 2s - loss: 0.9796 - acc: 0.534 - ETA: 2s - loss: 0.9817 - acc: 0.529 - ETA: 2s - loss: 0.9817 - acc: 0.528 - ETA: 2s - loss: 0.9820 - acc: 0.529 - ETA: 2s - loss: 0.9816 - acc: 0.529 - ETA: 2s - loss: 0.9819 - acc: 0.529 - ETA: 2s - loss: 0.9817 - acc: 0.530 - ETA: 2s - loss: 0.9823 - acc: 0.530 - ETA: 2s - loss: 0.9822 - acc: 0.531 - ETA: 1s - loss: 0.9843 - acc: 0.528 - ETA: 1s - loss: 0.9843 - acc: 0.529 - ETA: 1s - loss: 0.9852 - acc: 0.527 - ETA: 1s - loss: 0.9845 - acc: 0.528 - ETA: 1s - loss: 0.9847 - acc: 0.528 - ETA: 1s - loss: 0.9854 - acc: 0.527 - ETA: 1s - loss: 0.9842 - acc: 0.529 - ETA: 1s - loss: 0.9853 - acc: 0.528 - ETA: 1s - loss: 0.9868 - acc: 0.526 - ETA: 1s - loss: 0.9870 - acc: 0.526 - ETA: 1s - loss: 0.9868 - acc: 0.527 - ETA: 1s - loss: 0.9864 - acc: 0.527 - ETA: 1s - loss: 0.9865 - acc: 0.527 - ETA: 1s - loss: 0.9858 - acc: 0.528 - ETA: 1s - loss: 0.9846 - acc: 0.529 - ETA: 1s - loss: 0.9848 - acc: 0.530 - ETA: 1s - loss: 0.9846 - acc: 0.531 - ETA: 1s - loss: 0.9847 - acc: 0.530 - ETA: 1s - loss: 0.9844 - acc: 0.531 - ETA: 1s - loss: 0.9845 - acc: 0.531 - ETA: 1s - loss: 0.9844 - acc: 0.531 - ETA: 1s - loss: 0.9840 - acc: 0.531 - ETA: 1s - loss: 0.9849 - acc: 0.530 - ETA: 0s - loss: 0.9841 - acc: 0.531 - ETA: 0s - loss: 0.9853 - acc: 0.530 - ETA: 0s - loss: 0.9855 - acc: 0.530 - ETA: 0s - loss: 0.9859 - acc: 0.529 - ETA: 0s - loss: 0.9865 - acc: 0.528 - ETA: 0s - loss: 0.9876 - acc: 0.526 - ETA: 0s - loss: 0.9881 - acc: 0.525 - ETA: 0s - loss: 0.9886 - acc: 0.525 - ETA: 0s - loss: 0.9886 - acc: 0.525 - ETA: 0s - loss: 0.9879 - acc: 0.526 - ETA: 0s - loss: 0.9877 - acc: 0.526 - ETA: 0s - loss: 0.9877 - acc: 0.526 - ETA: 0s - loss: 0.9875 - acc: 0.526 - ETA: 0s - loss: 0.9877 - acc: 0.526 - ETA: 0s - loss: 0.9884 - acc: 0.525 - ETA: 0s - loss: 0.9884 - acc: 0.525 - ETA: 0s - loss: 0.9886 - acc: 0.525 - ETA: 0s - loss: 0.9887 - acc: 0.525 - ETA: 0s - loss: 0.9887 - acc: 0.525 - ETA: 0s - loss: 0.9886 - acc: 0.525 - ETA: 0s - loss: 0.9883 - acc: 0.526 - ETA: 0s - loss: 0.9883 - acc: 0.526 - ETA: 0s - loss: 0.9881 - acc: 0.526 - ETA: 0s - loss: 0.9885 - acc: 0.525 - ETA: 0s - loss: 0.9886 - acc: 0.525 - ETA: 0s - loss: 0.9893 - acc: 0.524 - 6s 844us/sample - loss: 0.9893 - acc: 0.5243 - val_loss: 0.9756 - val_acc: 0.5343\n",
      "Epoch 6/10\n",
      "7112/7112 [==============================] - ETA: 8s - loss: 0.9087 - acc: 0.600 - ETA: 7s - loss: 1.0311 - acc: 0.500 - ETA: 7s - loss: 1.0264 - acc: 0.481 - ETA: 6s - loss: 1.0370 - acc: 0.466 - ETA: 5s - loss: 1.0104 - acc: 0.503 - ETA: 5s - loss: 1.0244 - acc: 0.487 - ETA: 5s - loss: 1.0263 - acc: 0.486 - ETA: 5s - loss: 1.0351 - acc: 0.473 - ETA: 5s - loss: 1.0216 - acc: 0.480 - ETA: 5s - loss: 1.0208 - acc: 0.483 - ETA: 6s - loss: 1.0226 - acc: 0.477 - ETA: 6s - loss: 1.0294 - acc: 0.473 - ETA: 6s - loss: 1.0269 - acc: 0.476 - ETA: 6s - loss: 1.0250 - acc: 0.478 - ETA: 5s - loss: 1.0217 - acc: 0.485 - ETA: 5s - loss: 1.0258 - acc: 0.483 - ETA: 5s - loss: 1.0211 - acc: 0.490 - ETA: 5s - loss: 1.0217 - acc: 0.488 - ETA: 5s - loss: 1.0170 - acc: 0.490 - ETA: 5s - loss: 1.0058 - acc: 0.500 - ETA: 5s - loss: 1.0048 - acc: 0.502 - ETA: 5s - loss: 0.9964 - acc: 0.512 - ETA: 4s - loss: 1.0001 - acc: 0.508 - ETA: 4s - loss: 0.9998 - acc: 0.509 - ETA: 4s - loss: 0.9990 - acc: 0.511 - ETA: 4s - loss: 0.9984 - acc: 0.513 - ETA: 4s - loss: 0.9984 - acc: 0.513 - ETA: 4s - loss: 0.9976 - acc: 0.514 - ETA: 4s - loss: 0.9981 - acc: 0.514 - ETA: 4s - loss: 0.9991 - acc: 0.516 - ETA: 4s - loss: 0.9970 - acc: 0.516 - ETA: 3s - loss: 0.9954 - acc: 0.518 - ETA: 3s - loss: 0.9958 - acc: 0.516 - ETA: 3s - loss: 0.9960 - acc: 0.517 - ETA: 3s - loss: 0.9971 - acc: 0.518 - ETA: 3s - loss: 0.9943 - acc: 0.520 - ETA: 3s - loss: 0.9965 - acc: 0.519 - ETA: 3s - loss: 0.9988 - acc: 0.517 - ETA: 3s - loss: 0.9987 - acc: 0.516 - ETA: 3s - loss: 0.9963 - acc: 0.519 - ETA: 3s - loss: 0.9938 - acc: 0.522 - ETA: 3s - loss: 0.9964 - acc: 0.521 - ETA: 3s - loss: 0.9969 - acc: 0.521 - ETA: 3s - loss: 0.9986 - acc: 0.518 - ETA: 3s - loss: 0.9980 - acc: 0.518 - ETA: 3s - loss: 0.9977 - acc: 0.517 - ETA: 3s - loss: 0.9991 - acc: 0.516 - ETA: 3s - loss: 0.9992 - acc: 0.515 - ETA: 3s - loss: 0.9984 - acc: 0.516 - ETA: 3s - loss: 0.9990 - acc: 0.516 - ETA: 3s - loss: 0.9995 - acc: 0.514 - ETA: 3s - loss: 0.9992 - acc: 0.514 - ETA: 3s - loss: 1.0008 - acc: 0.513 - ETA: 3s - loss: 1.0011 - acc: 0.512 - ETA: 3s - loss: 1.0006 - acc: 0.512 - ETA: 3s - loss: 0.9991 - acc: 0.514 - ETA: 2s - loss: 0.9999 - acc: 0.514 - ETA: 2s - loss: 0.9990 - acc: 0.515 - ETA: 2s - loss: 0.9976 - acc: 0.516 - ETA: 2s - loss: 0.9981 - acc: 0.515 - ETA: 2s - loss: 0.9976 - acc: 0.516 - ETA: 2s - loss: 0.9988 - acc: 0.515 - ETA: 2s - loss: 0.9978 - acc: 0.516 - ETA: 2s - loss: 0.9981 - acc: 0.517 - ETA: 2s - loss: 0.9987 - acc: 0.516 - ETA: 2s - loss: 0.9967 - acc: 0.518 - ETA: 2s - loss: 0.9953 - acc: 0.520 - ETA: 2s - loss: 0.9941 - acc: 0.520 - ETA: 2s - loss: 0.9919 - acc: 0.522 - ETA: 1s - loss: 0.9926 - acc: 0.522 - ETA: 1s - loss: 0.9920 - acc: 0.522 - ETA: 1s - loss: 0.9930 - acc: 0.522 - ETA: 1s - loss: 0.9926 - acc: 0.522 - ETA: 1s - loss: 0.9928 - acc: 0.522 - ETA: 1s - loss: 0.9923 - acc: 0.522 - ETA: 1s - loss: 0.9921 - acc: 0.523 - ETA: 1s - loss: 0.9923 - acc: 0.522 - ETA: 1s - loss: 0.9929 - acc: 0.521 - ETA: 1s - loss: 0.9935 - acc: 0.520 - ETA: 1s - loss: 0.9925 - acc: 0.521 - ETA: 1s - loss: 0.9922 - acc: 0.522 - ETA: 1s - loss: 0.9911 - acc: 0.523 - ETA: 1s - loss: 0.9908 - acc: 0.523 - ETA: 1s - loss: 0.9905 - acc: 0.523 - ETA: 1s - loss: 0.9901 - acc: 0.524 - ETA: 1s - loss: 0.9897 - acc: 0.524 - ETA: 1s - loss: 0.9895 - acc: 0.525 - ETA: 1s - loss: 0.9904 - acc: 0.524 - ETA: 0s - loss: 0.9902 - acc: 0.524 - ETA: 0s - loss: 0.9894 - acc: 0.524 - ETA: 0s - loss: 0.9897 - acc: 0.524 - ETA: 0s - loss: 0.9892 - acc: 0.524 - ETA: 0s - loss: 0.9903 - acc: 0.523 - ETA: 0s - loss: 0.9903 - acc: 0.523 - ETA: 0s - loss: 0.9901 - acc: 0.523 - ETA: 0s - loss: 0.9891 - acc: 0.524 - ETA: 0s - loss: 0.9878 - acc: 0.525 - ETA: 0s - loss: 0.9885 - acc: 0.525 - ETA: 0s - loss: 0.9893 - acc: 0.524 - ETA: 0s - loss: 0.9903 - acc: 0.523 - ETA: 0s - loss: 0.9903 - acc: 0.524 - ETA: 0s - loss: 0.9894 - acc: 0.525 - ETA: 0s - loss: 0.9891 - acc: 0.524 - 6s 848us/sample - loss: 0.9884 - acc: 0.5257 - val_loss: 0.9782 - val_acc: 0.5334\n",
      "Epoch 7/10\n"
     ]
    },
    {
     "name": "stdout",
     "output_type": "stream",
     "text": [
      "7112/7112 [==============================] - ETA: 8s - loss: 1.0466 - acc: 0.600 - ETA: 8s - loss: 0.9977 - acc: 0.580 - ETA: 7s - loss: 1.0251 - acc: 0.550 - ETA: 6s - loss: 1.0319 - acc: 0.500 - ETA: 5s - loss: 1.0194 - acc: 0.519 - ETA: 5s - loss: 1.0027 - acc: 0.527 - ETA: 5s - loss: 1.0038 - acc: 0.515 - ETA: 5s - loss: 0.9959 - acc: 0.527 - ETA: 5s - loss: 0.9877 - acc: 0.535 - ETA: 6s - loss: 0.9842 - acc: 0.538 - ETA: 7s - loss: 0.9733 - acc: 0.546 - ETA: 7s - loss: 0.9781 - acc: 0.545 - ETA: 7s - loss: 0.9850 - acc: 0.540 - ETA: 6s - loss: 0.9863 - acc: 0.538 - ETA: 6s - loss: 0.9803 - acc: 0.547 - ETA: 6s - loss: 0.9847 - acc: 0.539 - ETA: 6s - loss: 0.9859 - acc: 0.539 - ETA: 6s - loss: 0.9863 - acc: 0.536 - ETA: 6s - loss: 0.9906 - acc: 0.531 - ETA: 5s - loss: 0.9938 - acc: 0.529 - ETA: 5s - loss: 0.9933 - acc: 0.528 - ETA: 5s - loss: 0.9919 - acc: 0.526 - ETA: 5s - loss: 0.9956 - acc: 0.526 - ETA: 5s - loss: 1.0000 - acc: 0.525 - ETA: 4s - loss: 1.0001 - acc: 0.526 - ETA: 4s - loss: 0.9971 - acc: 0.528 - ETA: 4s - loss: 0.9964 - acc: 0.531 - ETA: 4s - loss: 0.9974 - acc: 0.529 - ETA: 4s - loss: 0.9946 - acc: 0.531 - ETA: 4s - loss: 0.9940 - acc: 0.529 - ETA: 4s - loss: 0.9901 - acc: 0.531 - ETA: 4s - loss: 0.9953 - acc: 0.524 - ETA: 4s - loss: 0.9959 - acc: 0.521 - ETA: 3s - loss: 0.9953 - acc: 0.522 - ETA: 3s - loss: 0.9946 - acc: 0.524 - ETA: 3s - loss: 0.9938 - acc: 0.526 - ETA: 3s - loss: 0.9965 - acc: 0.523 - ETA: 4s - loss: 0.9958 - acc: 0.524 - ETA: 4s - loss: 0.9943 - acc: 0.526 - ETA: 4s - loss: 0.9922 - acc: 0.527 - ETA: 4s - loss: 0.9920 - acc: 0.528 - ETA: 4s - loss: 0.9921 - acc: 0.527 - ETA: 4s - loss: 0.9918 - acc: 0.527 - ETA: 4s - loss: 0.9922 - acc: 0.526 - ETA: 4s - loss: 0.9923 - acc: 0.526 - ETA: 4s - loss: 0.9917 - acc: 0.527 - ETA: 4s - loss: 0.9913 - acc: 0.527 - ETA: 4s - loss: 0.9904 - acc: 0.527 - ETA: 4s - loss: 0.9909 - acc: 0.527 - ETA: 4s - loss: 0.9905 - acc: 0.527 - ETA: 4s - loss: 0.9900 - acc: 0.527 - ETA: 4s - loss: 0.9894 - acc: 0.527 - ETA: 4s - loss: 0.9875 - acc: 0.529 - ETA: 4s - loss: 0.9884 - acc: 0.527 - ETA: 4s - loss: 0.9888 - acc: 0.527 - ETA: 4s - loss: 0.9890 - acc: 0.526 - ETA: 4s - loss: 0.9906 - acc: 0.524 - ETA: 4s - loss: 0.9893 - acc: 0.526 - ETA: 4s - loss: 0.9898 - acc: 0.527 - ETA: 3s - loss: 0.9905 - acc: 0.526 - ETA: 3s - loss: 0.9905 - acc: 0.525 - ETA: 3s - loss: 0.9907 - acc: 0.525 - ETA: 3s - loss: 0.9919 - acc: 0.524 - ETA: 3s - loss: 0.9921 - acc: 0.523 - ETA: 3s - loss: 0.9903 - acc: 0.525 - ETA: 3s - loss: 0.9905 - acc: 0.525 - ETA: 3s - loss: 0.9914 - acc: 0.523 - ETA: 3s - loss: 0.9889 - acc: 0.524 - ETA: 3s - loss: 0.9878 - acc: 0.526 - ETA: 3s - loss: 0.9881 - acc: 0.526 - ETA: 3s - loss: 0.9879 - acc: 0.526 - ETA: 3s - loss: 0.9875 - acc: 0.526 - ETA: 2s - loss: 0.9864 - acc: 0.527 - ETA: 2s - loss: 0.9865 - acc: 0.526 - ETA: 2s - loss: 0.9866 - acc: 0.526 - ETA: 2s - loss: 0.9873 - acc: 0.524 - ETA: 2s - loss: 0.9880 - acc: 0.523 - ETA: 2s - loss: 0.9883 - acc: 0.522 - ETA: 2s - loss: 0.9876 - acc: 0.523 - ETA: 2s - loss: 0.9874 - acc: 0.523 - ETA: 2s - loss: 0.9872 - acc: 0.523 - ETA: 2s - loss: 0.9873 - acc: 0.523 - ETA: 2s - loss: 0.9881 - acc: 0.523 - ETA: 2s - loss: 0.9866 - acc: 0.524 - ETA: 2s - loss: 0.9861 - acc: 0.524 - ETA: 2s - loss: 0.9866 - acc: 0.525 - ETA: 2s - loss: 0.9874 - acc: 0.525 - ETA: 2s - loss: 0.9874 - acc: 0.525 - ETA: 2s - loss: 0.9877 - acc: 0.525 - ETA: 2s - loss: 0.9879 - acc: 0.524 - ETA: 2s - loss: 0.9877 - acc: 0.524 - ETA: 2s - loss: 0.9869 - acc: 0.525 - ETA: 1s - loss: 0.9875 - acc: 0.524 - ETA: 1s - loss: 0.9883 - acc: 0.524 - ETA: 1s - loss: 0.9886 - acc: 0.523 - ETA: 1s - loss: 0.9891 - acc: 0.523 - ETA: 1s - loss: 0.9889 - acc: 0.523 - ETA: 1s - loss: 0.9889 - acc: 0.524 - ETA: 1s - loss: 0.9888 - acc: 0.524 - ETA: 1s - loss: 0.9890 - acc: 0.523 - ETA: 1s - loss: 0.9889 - acc: 0.524 - ETA: 1s - loss: 0.9883 - acc: 0.524 - ETA: 1s - loss: 0.9884 - acc: 0.524 - ETA: 1s - loss: 0.9889 - acc: 0.524 - ETA: 1s - loss: 0.9882 - acc: 0.524 - ETA: 1s - loss: 0.9887 - acc: 0.523 - ETA: 1s - loss: 0.9884 - acc: 0.524 - ETA: 1s - loss: 0.9881 - acc: 0.524 - ETA: 1s - loss: 0.9887 - acc: 0.524 - ETA: 1s - loss: 0.9890 - acc: 0.524 - ETA: 1s - loss: 0.9888 - acc: 0.524 - ETA: 1s - loss: 0.9884 - acc: 0.525 - ETA: 1s - loss: 0.9888 - acc: 0.525 - ETA: 1s - loss: 0.9892 - acc: 0.524 - ETA: 1s - loss: 0.9884 - acc: 0.525 - ETA: 1s - loss: 0.9887 - acc: 0.524 - ETA: 0s - loss: 0.9894 - acc: 0.524 - ETA: 0s - loss: 0.9897 - acc: 0.523 - ETA: 0s - loss: 0.9897 - acc: 0.523 - ETA: 0s - loss: 0.9901 - acc: 0.523 - ETA: 0s - loss: 0.9903 - acc: 0.523 - ETA: 0s - loss: 0.9897 - acc: 0.524 - ETA: 0s - loss: 0.9897 - acc: 0.524 - ETA: 0s - loss: 0.9900 - acc: 0.524 - ETA: 0s - loss: 0.9903 - acc: 0.523 - ETA: 0s - loss: 0.9910 - acc: 0.523 - ETA: 0s - loss: 0.9909 - acc: 0.523 - ETA: 0s - loss: 0.9907 - acc: 0.524 - ETA: 0s - loss: 0.9900 - acc: 0.524 - ETA: 0s - loss: 0.9893 - acc: 0.525 - ETA: 0s - loss: 0.9900 - acc: 0.524 - ETA: 0s - loss: 0.9894 - acc: 0.525 - ETA: 0s - loss: 0.9898 - acc: 0.524 - ETA: 0s - loss: 0.9893 - acc: 0.525 - ETA: 0s - loss: 0.9889 - acc: 0.526 - ETA: 0s - loss: 0.9884 - acc: 0.526 - ETA: 0s - loss: 0.9877 - acc: 0.527 - 8s 1ms/sample - loss: 0.9877 - acc: 0.5273 - val_loss: 0.9786 - val_acc: 0.5322\n",
      "Epoch 8/10\n"
     ]
    },
    {
     "name": "stdout",
     "output_type": "stream",
     "text": [
      "7112/7112 [==============================] - ETA: 8s - loss: 0.8457 - acc: 0.600 - ETA: 10s - loss: 0.9132 - acc: 0.62 - ETA: 10s - loss: 0.9194 - acc: 0.60 - ETA: 10s - loss: 0.9312 - acc: 0.58 - ETA: 8s - loss: 0.9402 - acc: 0.5737 - ETA: 7s - loss: 0.9490 - acc: 0.553 - ETA: 8s - loss: 0.9444 - acc: 0.557 - ETA: 9s - loss: 0.9527 - acc: 0.541 - ETA: 8s - loss: 0.9534 - acc: 0.552 - ETA: 8s - loss: 0.9471 - acc: 0.557 - ETA: 7s - loss: 0.9366 - acc: 0.570 - ETA: 7s - loss: 0.9502 - acc: 0.559 - ETA: 7s - loss: 0.9532 - acc: 0.557 - ETA: 7s - loss: 0.9535 - acc: 0.559 - ETA: 7s - loss: 0.9633 - acc: 0.550 - ETA: 7s - loss: 0.9586 - acc: 0.549 - ETA: 6s - loss: 0.9576 - acc: 0.551 - ETA: 6s - loss: 0.9551 - acc: 0.552 - ETA: 6s - loss: 0.9593 - acc: 0.547 - ETA: 6s - loss: 0.9539 - acc: 0.550 - ETA: 6s - loss: 0.9603 - acc: 0.545 - ETA: 6s - loss: 0.9607 - acc: 0.550 - ETA: 6s - loss: 0.9679 - acc: 0.545 - ETA: 5s - loss: 0.9686 - acc: 0.543 - ETA: 5s - loss: 0.9698 - acc: 0.543 - ETA: 5s - loss: 0.9688 - acc: 0.541 - ETA: 5s - loss: 0.9733 - acc: 0.535 - ETA: 5s - loss: 0.9750 - acc: 0.536 - ETA: 5s - loss: 0.9744 - acc: 0.536 - ETA: 4s - loss: 0.9761 - acc: 0.533 - ETA: 4s - loss: 0.9749 - acc: 0.535 - ETA: 4s - loss: 0.9763 - acc: 0.533 - ETA: 4s - loss: 0.9756 - acc: 0.533 - ETA: 4s - loss: 0.9793 - acc: 0.532 - ETA: 4s - loss: 0.9779 - acc: 0.532 - ETA: 4s - loss: 0.9784 - acc: 0.531 - ETA: 4s - loss: 0.9790 - acc: 0.530 - ETA: 4s - loss: 0.9779 - acc: 0.532 - ETA: 4s - loss: 0.9795 - acc: 0.530 - ETA: 4s - loss: 0.9802 - acc: 0.530 - ETA: 4s - loss: 0.9818 - acc: 0.528 - ETA: 4s - loss: 0.9798 - acc: 0.530 - ETA: 4s - loss: 0.9773 - acc: 0.532 - ETA: 4s - loss: 0.9772 - acc: 0.531 - ETA: 4s - loss: 0.9798 - acc: 0.529 - ETA: 4s - loss: 0.9798 - acc: 0.529 - ETA: 4s - loss: 0.9795 - acc: 0.531 - ETA: 4s - loss: 0.9807 - acc: 0.529 - ETA: 4s - loss: 0.9812 - acc: 0.528 - ETA: 4s - loss: 0.9831 - acc: 0.525 - ETA: 4s - loss: 0.9833 - acc: 0.524 - ETA: 4s - loss: 0.9828 - acc: 0.524 - ETA: 4s - loss: 0.9834 - acc: 0.523 - ETA: 4s - loss: 0.9850 - acc: 0.522 - ETA: 4s - loss: 0.9856 - acc: 0.521 - ETA: 4s - loss: 0.9853 - acc: 0.522 - ETA: 4s - loss: 0.9858 - acc: 0.523 - ETA: 4s - loss: 0.9856 - acc: 0.522 - ETA: 3s - loss: 0.9868 - acc: 0.521 - ETA: 3s - loss: 0.9864 - acc: 0.523 - ETA: 3s - loss: 0.9874 - acc: 0.522 - ETA: 3s - loss: 0.9872 - acc: 0.522 - ETA: 3s - loss: 0.9880 - acc: 0.522 - ETA: 3s - loss: 0.9883 - acc: 0.522 - ETA: 3s - loss: 0.9883 - acc: 0.522 - ETA: 3s - loss: 0.9869 - acc: 0.523 - ETA: 3s - loss: 0.9879 - acc: 0.522 - ETA: 3s - loss: 0.9875 - acc: 0.521 - ETA: 3s - loss: 0.9876 - acc: 0.521 - ETA: 3s - loss: 0.9872 - acc: 0.521 - ETA: 3s - loss: 0.9869 - acc: 0.522 - ETA: 3s - loss: 0.9886 - acc: 0.522 - ETA: 3s - loss: 0.9884 - acc: 0.522 - ETA: 3s - loss: 0.9879 - acc: 0.522 - ETA: 3s - loss: 0.9880 - acc: 0.522 - ETA: 3s - loss: 0.9885 - acc: 0.522 - ETA: 3s - loss: 0.9880 - acc: 0.522 - ETA: 3s - loss: 0.9891 - acc: 0.521 - ETA: 3s - loss: 0.9893 - acc: 0.520 - ETA: 3s - loss: 0.9883 - acc: 0.521 - ETA: 3s - loss: 0.9882 - acc: 0.520 - ETA: 3s - loss: 0.9879 - acc: 0.520 - ETA: 3s - loss: 0.9875 - acc: 0.521 - ETA: 2s - loss: 0.9881 - acc: 0.521 - ETA: 2s - loss: 0.9882 - acc: 0.522 - ETA: 2s - loss: 0.9863 - acc: 0.523 - ETA: 2s - loss: 0.9845 - acc: 0.524 - ETA: 2s - loss: 0.9848 - acc: 0.524 - ETA: 2s - loss: 0.9854 - acc: 0.524 - ETA: 2s - loss: 0.9858 - acc: 0.525 - ETA: 2s - loss: 0.9862 - acc: 0.524 - ETA: 2s - loss: 0.9867 - acc: 0.524 - ETA: 1s - loss: 0.9864 - acc: 0.524 - ETA: 1s - loss: 0.9870 - acc: 0.523 - ETA: 1s - loss: 0.9875 - acc: 0.523 - ETA: 1s - loss: 0.9876 - acc: 0.524 - ETA: 1s - loss: 0.9864 - acc: 0.525 - ETA: 1s - loss: 0.9870 - acc: 0.524 - ETA: 1s - loss: 0.9861 - acc: 0.525 - ETA: 1s - loss: 0.9872 - acc: 0.524 - ETA: 1s - loss: 0.9875 - acc: 0.524 - ETA: 1s - loss: 0.9874 - acc: 0.524 - ETA: 0s - loss: 0.9877 - acc: 0.525 - ETA: 0s - loss: 0.9875 - acc: 0.525 - ETA: 0s - loss: 0.9878 - acc: 0.525 - ETA: 0s - loss: 0.9877 - acc: 0.526 - ETA: 0s - loss: 0.9877 - acc: 0.526 - ETA: 0s - loss: 0.9876 - acc: 0.526 - ETA: 0s - loss: 0.9879 - acc: 0.526 - ETA: 0s - loss: 0.9882 - acc: 0.525 - ETA: 0s - loss: 0.9884 - acc: 0.525 - ETA: 0s - loss: 0.9884 - acc: 0.525 - ETA: 0s - loss: 0.9887 - acc: 0.525 - ETA: 0s - loss: 0.9887 - acc: 0.525 - ETA: 0s - loss: 0.9884 - acc: 0.525 - ETA: 0s - loss: 0.9887 - acc: 0.525 - ETA: 0s - loss: 0.9882 - acc: 0.525 - ETA: 0s - loss: 0.9887 - acc: 0.525 - ETA: 0s - loss: 0.9887 - acc: 0.525 - ETA: 0s - loss: 0.9889 - acc: 0.525 - ETA: 0s - loss: 0.9882 - acc: 0.525 - ETA: 0s - loss: 0.9876 - acc: 0.526 - ETA: 0s - loss: 0.9872 - acc: 0.526 - ETA: 0s - loss: 0.9868 - acc: 0.527 - 7s 1ms/sample - loss: 0.9867 - acc: 0.5274 - val_loss: 0.9735 - val_acc: 0.5347\n",
      "Epoch 9/10\n"
     ]
    },
    {
     "name": "stdout",
     "output_type": "stream",
     "text": [
      "7112/7112 [==============================] - ETA: 31s - loss: 1.2345 - acc: 0.50 - ETA: 34s - loss: 1.1440 - acc: 0.50 - ETA: 21s - loss: 1.0973 - acc: 0.40 - ETA: 11s - loss: 1.0391 - acc: 0.44 - ETA: 8s - loss: 1.0177 - acc: 0.4400 - ETA: 7s - loss: 1.0002 - acc: 0.451 - ETA: 7s - loss: 1.0034 - acc: 0.464 - ETA: 6s - loss: 0.9795 - acc: 0.504 - ETA: 5s - loss: 0.9790 - acc: 0.511 - ETA: 5s - loss: 0.9840 - acc: 0.512 - ETA: 4s - loss: 0.9819 - acc: 0.518 - ETA: 4s - loss: 0.9921 - acc: 0.514 - ETA: 4s - loss: 0.9948 - acc: 0.516 - ETA: 4s - loss: 0.9916 - acc: 0.522 - ETA: 4s - loss: 0.9871 - acc: 0.528 - ETA: 4s - loss: 0.9904 - acc: 0.525 - ETA: 4s - loss: 0.9928 - acc: 0.521 - ETA: 4s - loss: 0.9933 - acc: 0.519 - ETA: 4s - loss: 0.9934 - acc: 0.518 - ETA: 4s - loss: 0.9918 - acc: 0.521 - ETA: 4s - loss: 0.9891 - acc: 0.525 - ETA: 4s - loss: 0.9889 - acc: 0.525 - ETA: 4s - loss: 0.9899 - acc: 0.525 - ETA: 4s - loss: 0.9876 - acc: 0.527 - ETA: 4s - loss: 0.9869 - acc: 0.527 - ETA: 4s - loss: 0.9860 - acc: 0.529 - ETA: 4s - loss: 0.9846 - acc: 0.530 - ETA: 4s - loss: 0.9870 - acc: 0.528 - ETA: 4s - loss: 0.9830 - acc: 0.532 - ETA: 4s - loss: 0.9838 - acc: 0.532 - ETA: 4s - loss: 0.9861 - acc: 0.529 - ETA: 4s - loss: 0.9870 - acc: 0.528 - ETA: 3s - loss: 0.9862 - acc: 0.527 - ETA: 3s - loss: 0.9869 - acc: 0.526 - ETA: 3s - loss: 0.9851 - acc: 0.529 - ETA: 3s - loss: 0.9852 - acc: 0.527 - ETA: 3s - loss: 0.9859 - acc: 0.528 - ETA: 3s - loss: 0.9853 - acc: 0.528 - ETA: 3s - loss: 0.9863 - acc: 0.528 - ETA: 3s - loss: 0.9852 - acc: 0.529 - ETA: 3s - loss: 0.9859 - acc: 0.528 - ETA: 3s - loss: 0.9875 - acc: 0.528 - ETA: 3s - loss: 0.9874 - acc: 0.528 - ETA: 3s - loss: 0.9886 - acc: 0.526 - ETA: 3s - loss: 0.9880 - acc: 0.526 - ETA: 3s - loss: 0.9873 - acc: 0.527 - ETA: 2s - loss: 0.9880 - acc: 0.527 - ETA: 2s - loss: 0.9883 - acc: 0.527 - ETA: 2s - loss: 0.9883 - acc: 0.526 - ETA: 2s - loss: 0.9866 - acc: 0.527 - ETA: 2s - loss: 0.9878 - acc: 0.526 - ETA: 2s - loss: 0.9870 - acc: 0.526 - ETA: 2s - loss: 0.9861 - acc: 0.526 - ETA: 2s - loss: 0.9873 - acc: 0.525 - ETA: 2s - loss: 0.9864 - acc: 0.525 - ETA: 2s - loss: 0.9865 - acc: 0.525 - ETA: 2s - loss: 0.9867 - acc: 0.524 - ETA: 2s - loss: 0.9861 - acc: 0.525 - ETA: 2s - loss: 0.9858 - acc: 0.525 - ETA: 2s - loss: 0.9857 - acc: 0.525 - ETA: 2s - loss: 0.9862 - acc: 0.524 - ETA: 2s - loss: 0.9858 - acc: 0.525 - ETA: 2s - loss: 0.9856 - acc: 0.526 - ETA: 2s - loss: 0.9856 - acc: 0.526 - ETA: 2s - loss: 0.9860 - acc: 0.526 - ETA: 2s - loss: 0.9863 - acc: 0.526 - ETA: 2s - loss: 0.9878 - acc: 0.524 - ETA: 2s - loss: 0.9872 - acc: 0.524 - ETA: 2s - loss: 0.9865 - acc: 0.524 - ETA: 2s - loss: 0.9838 - acc: 0.527 - ETA: 2s - loss: 0.9843 - acc: 0.527 - ETA: 2s - loss: 0.9824 - acc: 0.528 - ETA: 2s - loss: 0.9810 - acc: 0.528 - ETA: 2s - loss: 0.9807 - acc: 0.529 - ETA: 2s - loss: 0.9818 - acc: 0.528 - ETA: 2s - loss: 0.9820 - acc: 0.528 - ETA: 2s - loss: 0.9829 - acc: 0.527 - ETA: 1s - loss: 0.9833 - acc: 0.527 - ETA: 1s - loss: 0.9832 - acc: 0.527 - ETA: 1s - loss: 0.9843 - acc: 0.527 - ETA: 1s - loss: 0.9848 - acc: 0.527 - ETA: 1s - loss: 0.9859 - acc: 0.527 - ETA: 1s - loss: 0.9862 - acc: 0.526 - ETA: 1s - loss: 0.9864 - acc: 0.526 - ETA: 1s - loss: 0.9856 - acc: 0.527 - ETA: 1s - loss: 0.9859 - acc: 0.527 - ETA: 1s - loss: 0.9864 - acc: 0.527 - ETA: 1s - loss: 0.9861 - acc: 0.527 - ETA: 1s - loss: 0.9879 - acc: 0.525 - ETA: 1s - loss: 0.9880 - acc: 0.524 - ETA: 0s - loss: 0.9878 - acc: 0.525 - ETA: 0s - loss: 0.9876 - acc: 0.525 - ETA: 0s - loss: 0.9886 - acc: 0.524 - ETA: 0s - loss: 0.9889 - acc: 0.524 - ETA: 0s - loss: 0.9887 - acc: 0.524 - ETA: 0s - loss: 0.9886 - acc: 0.524 - ETA: 0s - loss: 0.9888 - acc: 0.523 - ETA: 0s - loss: 0.9888 - acc: 0.523 - ETA: 0s - loss: 0.9881 - acc: 0.524 - ETA: 0s - loss: 0.9885 - acc: 0.523 - ETA: 0s - loss: 0.9882 - acc: 0.523 - ETA: 0s - loss: 0.9883 - acc: 0.523 - ETA: 0s - loss: 0.9898 - acc: 0.523 - ETA: 0s - loss: 0.9891 - acc: 0.523 - ETA: 0s - loss: 0.9890 - acc: 0.524 - ETA: 0s - loss: 0.9893 - acc: 0.523 - ETA: 0s - loss: 0.9895 - acc: 0.523 - 6s 886us/sample - loss: 0.9890 - acc: 0.5233 - val_loss: 0.9711 - val_acc: 0.5334\n",
      "Epoch 10/10\n",
      "7112/7112 [==============================] - ETA: 6s - loss: 0.9285 - acc: 0.500 - ETA: 5s - loss: 0.9928 - acc: 0.525 - ETA: 5s - loss: 0.9801 - acc: 0.540 - ETA: 5s - loss: 0.9862 - acc: 0.536 - ETA: 4s - loss: 0.9921 - acc: 0.525 - ETA: 4s - loss: 0.9910 - acc: 0.522 - ETA: 4s - loss: 0.9996 - acc: 0.511 - ETA: 3s - loss: 0.9801 - acc: 0.521 - ETA: 3s - loss: 0.9869 - acc: 0.520 - ETA: 3s - loss: 0.9861 - acc: 0.521 - ETA: 3s - loss: 0.9880 - acc: 0.520 - ETA: 3s - loss: 0.9910 - acc: 0.518 - ETA: 3s - loss: 0.9876 - acc: 0.520 - ETA: 3s - loss: 0.9865 - acc: 0.521 - ETA: 3s - loss: 0.9825 - acc: 0.526 - ETA: 3s - loss: 0.9796 - acc: 0.529 - ETA: 3s - loss: 0.9837 - acc: 0.526 - ETA: 3s - loss: 0.9845 - acc: 0.525 - ETA: 3s - loss: 0.9856 - acc: 0.525 - ETA: 3s - loss: 0.9849 - acc: 0.526 - ETA: 3s - loss: 0.9848 - acc: 0.527 - ETA: 4s - loss: 0.9851 - acc: 0.527 - ETA: 4s - loss: 0.9848 - acc: 0.528 - ETA: 3s - loss: 0.9844 - acc: 0.528 - ETA: 3s - loss: 0.9854 - acc: 0.528 - ETA: 3s - loss: 0.9853 - acc: 0.529 - ETA: 3s - loss: 0.9837 - acc: 0.531 - ETA: 3s - loss: 0.9846 - acc: 0.530 - ETA: 3s - loss: 0.9849 - acc: 0.529 - ETA: 3s - loss: 0.9832 - acc: 0.532 - ETA: 3s - loss: 0.9840 - acc: 0.532 - ETA: 3s - loss: 0.9826 - acc: 0.532 - ETA: 3s - loss: 0.9815 - acc: 0.533 - ETA: 3s - loss: 0.9830 - acc: 0.533 - ETA: 3s - loss: 0.9820 - acc: 0.534 - ETA: 3s - loss: 0.9836 - acc: 0.532 - ETA: 3s - loss: 0.9839 - acc: 0.531 - ETA: 3s - loss: 0.9855 - acc: 0.528 - ETA: 3s - loss: 0.9869 - acc: 0.526 - ETA: 3s - loss: 0.9864 - acc: 0.527 - ETA: 2s - loss: 0.9852 - acc: 0.527 - ETA: 2s - loss: 0.9842 - acc: 0.527 - ETA: 2s - loss: 0.9842 - acc: 0.529 - ETA: 2s - loss: 0.9827 - acc: 0.530 - ETA: 2s - loss: 0.9836 - acc: 0.530 - ETA: 2s - loss: 0.9836 - acc: 0.530 - ETA: 2s - loss: 0.9853 - acc: 0.529 - ETA: 2s - loss: 0.9847 - acc: 0.528 - ETA: 2s - loss: 0.9840 - acc: 0.530 - ETA: 2s - loss: 0.9857 - acc: 0.529 - ETA: 2s - loss: 0.9861 - acc: 0.529 - ETA: 2s - loss: 0.9865 - acc: 0.528 - ETA: 2s - loss: 0.9861 - acc: 0.529 - ETA: 2s - loss: 0.9857 - acc: 0.529 - ETA: 2s - loss: 0.9856 - acc: 0.529 - ETA: 2s - loss: 0.9856 - acc: 0.529 - ETA: 2s - loss: 0.9865 - acc: 0.528 - ETA: 2s - loss: 0.9857 - acc: 0.529 - ETA: 2s - loss: 0.9867 - acc: 0.528 - ETA: 2s - loss: 0.9876 - acc: 0.527 - ETA: 2s - loss: 0.9878 - acc: 0.527 - ETA: 2s - loss: 0.9874 - acc: 0.527 - ETA: 2s - loss: 0.9854 - acc: 0.528 - ETA: 2s - loss: 0.9836 - acc: 0.529 - ETA: 2s - loss: 0.9852 - acc: 0.528 - ETA: 2s - loss: 0.9850 - acc: 0.528 - ETA: 2s - loss: 0.9843 - acc: 0.529 - ETA: 1s - loss: 0.9839 - acc: 0.529 - ETA: 1s - loss: 0.9844 - acc: 0.527 - ETA: 1s - loss: 0.9852 - acc: 0.526 - ETA: 1s - loss: 0.9863 - acc: 0.525 - ETA: 1s - loss: 0.9858 - acc: 0.525 - ETA: 1s - loss: 0.9853 - acc: 0.526 - ETA: 1s - loss: 0.9855 - acc: 0.526 - ETA: 1s - loss: 0.9863 - acc: 0.525 - ETA: 1s - loss: 0.9861 - acc: 0.525 - ETA: 1s - loss: 0.9867 - acc: 0.524 - ETA: 1s - loss: 0.9867 - acc: 0.523 - ETA: 1s - loss: 0.9863 - acc: 0.523 - ETA: 1s - loss: 0.9860 - acc: 0.524 - ETA: 1s - loss: 0.9853 - acc: 0.525 - ETA: 1s - loss: 0.9852 - acc: 0.524 - ETA: 1s - loss: 0.9847 - acc: 0.525 - ETA: 0s - loss: 0.9854 - acc: 0.525 - ETA: 0s - loss: 0.9844 - acc: 0.526 - ETA: 0s - loss: 0.9854 - acc: 0.526 - ETA: 0s - loss: 0.9847 - acc: 0.526 - ETA: 0s - loss: 0.9838 - acc: 0.527 - ETA: 0s - loss: 0.9840 - acc: 0.527 - ETA: 0s - loss: 0.9847 - acc: 0.526 - ETA: 0s - loss: 0.9841 - acc: 0.526 - ETA: 0s - loss: 0.9833 - acc: 0.527 - ETA: 0s - loss: 0.9834 - acc: 0.527 - ETA: 0s - loss: 0.9831 - acc: 0.527 - ETA: 0s - loss: 0.9846 - acc: 0.527 - ETA: 0s - loss: 0.9850 - acc: 0.526 - ETA: 0s - loss: 0.9846 - acc: 0.527 - ETA: 0s - loss: 0.9847 - acc: 0.526 - ETA: 0s - loss: 0.9846 - acc: 0.527 - ETA: 0s - loss: 0.9845 - acc: 0.527 - ETA: 0s - loss: 0.9844 - acc: 0.527 - ETA: 0s - loss: 0.9849 - acc: 0.527 - ETA: 0s - loss: 0.9843 - acc: 0.527 - 6s 841us/sample - loss: 0.9844 - acc: 0.5271 - val_loss: 0.9818 - val_acc: 0.5326\n"
     ]
    },
    {
     "data": {
      "text/html": [
       "<span style=\"color:#4527A0\"><h1 style=\"font-size:18px\">Trial complete</h1></span>"
      ],
      "text/plain": [
       "<IPython.core.display.HTML object>"
      ]
     },
     "metadata": {},
     "output_type": "display_data"
    },
    {
     "data": {
      "text/html": [
       "<span style=\"color:#4527A0\"><h1 style=\"font-size:18px\">Trial summary</h1></span>"
      ],
      "text/plain": [
       "<IPython.core.display.HTML object>"
      ]
     },
     "metadata": {},
     "output_type": "display_data"
    },
    {
     "data": {
      "text/html": [
       "<span style=\"color:cyan\"> |-Trial ID: b3333414496d2f784beee5a993df06b0</span>"
      ],
      "text/plain": [
       "<IPython.core.display.HTML object>"
      ]
     },
     "metadata": {},
     "output_type": "display_data"
    },
    {
     "data": {
      "text/html": [
       "<span style=\"color:cyan\"> |-Score: 0.5347341299057007</span>"
      ],
      "text/plain": [
       "<IPython.core.display.HTML object>"
      ]
     },
     "metadata": {},
     "output_type": "display_data"
    },
    {
     "data": {
      "text/html": [
       "<span style=\"color:cyan\"> |-Best step: 0</span>"
      ],
      "text/plain": [
       "<IPython.core.display.HTML object>"
      ]
     },
     "metadata": {},
     "output_type": "display_data"
    },
    {
     "data": {
      "text/html": [
       "<span style=\"color:#7E57C2\"><h2 style=\"font-size:16px\">Hyperparameters:</h2></span>"
      ],
      "text/plain": [
       "<IPython.core.display.HTML object>"
      ]
     },
     "metadata": {},
     "output_type": "display_data"
    },
    {
     "data": {
      "text/html": [
       "<span style=\"color:cyan\"> |-layer_0_neurons: 50</span>"
      ],
      "text/plain": [
       "<IPython.core.display.HTML object>"
      ]
     },
     "metadata": {},
     "output_type": "display_data"
    },
    {
     "data": {
      "text/html": [
       "<span style=\"color:blue\"> |-layer_1_neurons: 90</span>"
      ],
      "text/plain": [
       "<IPython.core.display.HTML object>"
      ]
     },
     "metadata": {},
     "output_type": "display_data"
    },
    {
     "data": {
      "text/html": [
       "<span style=\"color:cyan\"> |-layer_2_neurons: 170</span>"
      ],
      "text/plain": [
       "<IPython.core.display.HTML object>"
      ]
     },
     "metadata": {},
     "output_type": "display_data"
    },
    {
     "data": {
      "text/html": [
       "<span style=\"color:blue\"> |-layer_3_neurons: 110</span>"
      ],
      "text/plain": [
       "<IPython.core.display.HTML object>"
      ]
     },
     "metadata": {},
     "output_type": "display_data"
    },
    {
     "data": {
      "text/html": [
       "<span style=\"color:cyan\"> |-n_input_neurons: 130</span>"
      ],
      "text/plain": [
       "<IPython.core.display.HTML object>"
      ]
     },
     "metadata": {},
     "output_type": "display_data"
    },
    {
     "data": {
      "text/html": [
       "<span style=\"color:blue\"> |-n_layers: 4</span>"
      ],
      "text/plain": [
       "<IPython.core.display.HTML object>"
      ]
     },
     "metadata": {},
     "output_type": "display_data"
    },
    {
     "name": "stdout",
     "output_type": "stream",
     "text": [
      "Train on 7112 samples, validate on 2332 samples\n",
      "Epoch 1/10\n",
      "7112/7112 [==============================] - ETA: 5:17 - loss: 2.8800 - acc: 0.300 - ETA: 34s - loss: 1.2744 - acc: 0.470 - ETA: 19s - loss: 1.2177 - acc: 0.45 - ETA: 15s - loss: 1.1645 - acc: 0.45 - ETA: 12s - loss: 1.1134 - acc: 0.47 - ETA: 9s - loss: 1.1009 - acc: 0.4957 - ETA: 8s - loss: 1.0900 - acc: 0.500 - ETA: 7s - loss: 1.0850 - acc: 0.500 - ETA: 7s - loss: 1.0681 - acc: 0.505 - ETA: 6s - loss: 1.0581 - acc: 0.508 - ETA: 5s - loss: 1.0620 - acc: 0.507 - ETA: 5s - loss: 1.0608 - acc: 0.505 - ETA: 5s - loss: 1.0581 - acc: 0.500 - ETA: 5s - loss: 1.0621 - acc: 0.495 - ETA: 5s - loss: 1.0617 - acc: 0.495 - ETA: 5s - loss: 1.0612 - acc: 0.494 - ETA: 5s - loss: 1.0587 - acc: 0.495 - ETA: 5s - loss: 1.0589 - acc: 0.494 - ETA: 5s - loss: 1.0562 - acc: 0.494 - ETA: 4s - loss: 1.0589 - acc: 0.492 - ETA: 4s - loss: 1.0560 - acc: 0.492 - ETA: 4s - loss: 1.0537 - acc: 0.491 - ETA: 4s - loss: 1.0522 - acc: 0.491 - ETA: 4s - loss: 1.0510 - acc: 0.492 - ETA: 4s - loss: 1.0480 - acc: 0.493 - ETA: 3s - loss: 1.0519 - acc: 0.489 - ETA: 3s - loss: 1.0498 - acc: 0.489 - ETA: 3s - loss: 1.0486 - acc: 0.489 - ETA: 3s - loss: 1.0505 - acc: 0.487 - ETA: 3s - loss: 1.0482 - acc: 0.488 - ETA: 3s - loss: 1.0486 - acc: 0.486 - ETA: 3s - loss: 1.0457 - acc: 0.488 - ETA: 3s - loss: 1.0443 - acc: 0.490 - ETA: 3s - loss: 1.0444 - acc: 0.490 - ETA: 3s - loss: 1.0433 - acc: 0.491 - ETA: 3s - loss: 1.0425 - acc: 0.492 - ETA: 3s - loss: 1.0396 - acc: 0.495 - ETA: 3s - loss: 1.0391 - acc: 0.496 - ETA: 3s - loss: 1.0400 - acc: 0.495 - ETA: 2s - loss: 1.0388 - acc: 0.497 - ETA: 2s - loss: 1.0364 - acc: 0.499 - ETA: 2s - loss: 1.0367 - acc: 0.498 - ETA: 2s - loss: 1.0356 - acc: 0.499 - ETA: 2s - loss: 1.0341 - acc: 0.499 - ETA: 2s - loss: 1.0345 - acc: 0.498 - ETA: 2s - loss: 1.0342 - acc: 0.497 - ETA: 2s - loss: 1.0338 - acc: 0.497 - ETA: 2s - loss: 1.0334 - acc: 0.497 - ETA: 2s - loss: 1.0318 - acc: 0.499 - ETA: 2s - loss: 1.0324 - acc: 0.498 - ETA: 2s - loss: 1.0318 - acc: 0.499 - ETA: 2s - loss: 1.0300 - acc: 0.501 - ETA: 2s - loss: 1.0274 - acc: 0.503 - ETA: 2s - loss: 1.0271 - acc: 0.504 - ETA: 2s - loss: 1.0267 - acc: 0.504 - ETA: 2s - loss: 1.0259 - acc: 0.505 - ETA: 1s - loss: 1.0258 - acc: 0.505 - ETA: 1s - loss: 1.0237 - acc: 0.507 - ETA: 1s - loss: 1.0237 - acc: 0.507 - ETA: 1s - loss: 1.0239 - acc: 0.507 - ETA: 1s - loss: 1.0236 - acc: 0.508 - ETA: 1s - loss: 1.0244 - acc: 0.506 - ETA: 1s - loss: 1.0246 - acc: 0.506 - ETA: 1s - loss: 1.0245 - acc: 0.505 - ETA: 1s - loss: 1.0255 - acc: 0.504 - ETA: 1s - loss: 1.0258 - acc: 0.504 - ETA: 1s - loss: 1.0256 - acc: 0.505 - ETA: 1s - loss: 1.0267 - acc: 0.504 - ETA: 1s - loss: 1.0256 - acc: 0.505 - ETA: 1s - loss: 1.0253 - acc: 0.505 - ETA: 1s - loss: 1.0260 - acc: 0.504 - ETA: 1s - loss: 1.0265 - acc: 0.502 - ETA: 1s - loss: 1.0275 - acc: 0.500 - ETA: 1s - loss: 1.0278 - acc: 0.500 - ETA: 1s - loss: 1.0279 - acc: 0.500 - ETA: 1s - loss: 1.0283 - acc: 0.499 - ETA: 1s - loss: 1.0279 - acc: 0.500 - ETA: 1s - loss: 1.0284 - acc: 0.500 - ETA: 1s - loss: 1.0286 - acc: 0.499 - ETA: 1s - loss: 1.0287 - acc: 0.499 - ETA: 1s - loss: 1.0281 - acc: 0.500 - ETA: 1s - loss: 1.0289 - acc: 0.499 - ETA: 1s - loss: 1.0286 - acc: 0.499 - ETA: 1s - loss: 1.0282 - acc: 0.499 - ETA: 1s - loss: 1.0279 - acc: 0.499 - ETA: 1s - loss: 1.0280 - acc: 0.499 - ETA: 0s - loss: 1.0274 - acc: 0.500 - ETA: 0s - loss: 1.0270 - acc: 0.500 - ETA: 0s - loss: 1.0254 - acc: 0.501 - ETA: 0s - loss: 1.0254 - acc: 0.502 - ETA: 0s - loss: 1.0245 - acc: 0.502 - ETA: 0s - loss: 1.0235 - acc: 0.503 - ETA: 0s - loss: 1.0231 - acc: 0.502 - ETA: 0s - loss: 1.0220 - acc: 0.504 - ETA: 0s - loss: 1.0220 - acc: 0.504 - ETA: 0s - loss: 1.0215 - acc: 0.504 - ETA: 0s - loss: 1.0211 - acc: 0.505 - ETA: 0s - loss: 1.0206 - acc: 0.505 - ETA: 0s - loss: 1.0196 - acc: 0.506 - ETA: 0s - loss: 1.0184 - acc: 0.506 - ETA: 0s - loss: 1.0182 - acc: 0.507 - ETA: 0s - loss: 1.0175 - acc: 0.507 - ETA: 0s - loss: 1.0187 - acc: 0.507 - ETA: 0s - loss: 1.0185 - acc: 0.507 - ETA: 0s - loss: 1.0186 - acc: 0.506 - 7s 975us/sample - loss: 1.0189 - acc: 0.5060 - val_loss: 0.9909 - val_acc: 0.5223\n",
      "Epoch 2/10\n"
     ]
    },
    {
     "name": "stdout",
     "output_type": "stream",
     "text": [
      "7112/7112 [==============================] - ETA: 4s - loss: 0.8360 - acc: 0.600 - ETA: 12s - loss: 0.9019 - acc: 0.55 - ETA: 14s - loss: 0.9360 - acc: 0.53 - ETA: 19s - loss: 0.9234 - acc: 0.55 - ETA: 22s - loss: 0.9501 - acc: 0.53 - ETA: 16s - loss: 0.9534 - acc: 0.53 - ETA: 13s - loss: 0.9759 - acc: 0.52 - ETA: 12s - loss: 0.9776 - acc: 0.53 - ETA: 10s - loss: 0.9650 - acc: 0.55 - ETA: 9s - loss: 0.9750 - acc: 0.5378 - ETA: 8s - loss: 0.9658 - acc: 0.543 - ETA: 8s - loss: 0.9673 - acc: 0.541 - ETA: 7s - loss: 0.9552 - acc: 0.551 - ETA: 7s - loss: 0.9559 - acc: 0.549 - ETA: 6s - loss: 0.9761 - acc: 0.533 - ETA: 6s - loss: 0.9800 - acc: 0.533 - ETA: 6s - loss: 0.9789 - acc: 0.537 - ETA: 6s - loss: 0.9842 - acc: 0.532 - ETA: 5s - loss: 0.9883 - acc: 0.527 - ETA: 5s - loss: 0.9899 - acc: 0.525 - ETA: 5s - loss: 0.9895 - acc: 0.527 - ETA: 5s - loss: 0.9935 - acc: 0.525 - ETA: 5s - loss: 0.9920 - acc: 0.526 - ETA: 5s - loss: 0.9931 - acc: 0.525 - ETA: 5s - loss: 0.9948 - acc: 0.524 - ETA: 5s - loss: 0.9942 - acc: 0.525 - ETA: 5s - loss: 0.9959 - acc: 0.523 - ETA: 5s - loss: 0.9973 - acc: 0.520 - ETA: 5s - loss: 0.9969 - acc: 0.518 - ETA: 5s - loss: 0.9974 - acc: 0.518 - ETA: 5s - loss: 0.9946 - acc: 0.523 - ETA: 5s - loss: 0.9974 - acc: 0.518 - ETA: 5s - loss: 0.9968 - acc: 0.518 - ETA: 5s - loss: 0.9955 - acc: 0.519 - ETA: 5s - loss: 0.9974 - acc: 0.517 - ETA: 5s - loss: 0.9959 - acc: 0.519 - ETA: 5s - loss: 0.9943 - acc: 0.520 - ETA: 4s - loss: 0.9943 - acc: 0.520 - ETA: 4s - loss: 1.0011 - acc: 0.515 - ETA: 4s - loss: 1.0016 - acc: 0.513 - ETA: 4s - loss: 0.9999 - acc: 0.514 - ETA: 4s - loss: 0.9972 - acc: 0.518 - ETA: 4s - loss: 0.9980 - acc: 0.517 - ETA: 4s - loss: 1.0006 - acc: 0.516 - ETA: 3s - loss: 1.0005 - acc: 0.517 - ETA: 3s - loss: 0.9984 - acc: 0.519 - ETA: 3s - loss: 0.9968 - acc: 0.521 - ETA: 3s - loss: 0.9996 - acc: 0.520 - ETA: 3s - loss: 0.9996 - acc: 0.521 - ETA: 3s - loss: 1.0000 - acc: 0.521 - ETA: 3s - loss: 1.0024 - acc: 0.518 - ETA: 3s - loss: 1.0021 - acc: 0.518 - ETA: 3s - loss: 1.0012 - acc: 0.519 - ETA: 3s - loss: 1.0020 - acc: 0.518 - ETA: 3s - loss: 1.0009 - acc: 0.519 - ETA: 3s - loss: 1.0030 - acc: 0.517 - ETA: 3s - loss: 1.0021 - acc: 0.517 - ETA: 3s - loss: 1.0021 - acc: 0.517 - ETA: 3s - loss: 1.0021 - acc: 0.517 - ETA: 3s - loss: 1.0028 - acc: 0.516 - ETA: 3s - loss: 1.0038 - acc: 0.516 - ETA: 3s - loss: 1.0025 - acc: 0.518 - ETA: 3s - loss: 1.0028 - acc: 0.517 - ETA: 3s - loss: 1.0031 - acc: 0.517 - ETA: 3s - loss: 1.0031 - acc: 0.517 - ETA: 3s - loss: 1.0028 - acc: 0.517 - ETA: 3s - loss: 1.0024 - acc: 0.518 - ETA: 2s - loss: 0.9994 - acc: 0.519 - ETA: 2s - loss: 0.9996 - acc: 0.519 - ETA: 2s - loss: 1.0012 - acc: 0.519 - ETA: 2s - loss: 1.0028 - acc: 0.517 - ETA: 2s - loss: 1.0026 - acc: 0.517 - ETA: 2s - loss: 1.0031 - acc: 0.517 - ETA: 2s - loss: 1.0037 - acc: 0.517 - ETA: 2s - loss: 1.0027 - acc: 0.518 - ETA: 2s - loss: 1.0033 - acc: 0.517 - ETA: 2s - loss: 1.0036 - acc: 0.517 - ETA: 2s - loss: 1.0025 - acc: 0.519 - ETA: 2s - loss: 1.0006 - acc: 0.521 - ETA: 2s - loss: 1.0031 - acc: 0.520 - ETA: 2s - loss: 1.0029 - acc: 0.520 - ETA: 2s - loss: 1.0036 - acc: 0.520 - ETA: 2s - loss: 1.0035 - acc: 0.519 - ETA: 2s - loss: 1.0032 - acc: 0.520 - ETA: 2s - loss: 1.0032 - acc: 0.519 - ETA: 2s - loss: 1.0034 - acc: 0.519 - ETA: 1s - loss: 1.0029 - acc: 0.520 - ETA: 1s - loss: 1.0016 - acc: 0.521 - ETA: 1s - loss: 1.0011 - acc: 0.521 - ETA: 1s - loss: 1.0008 - acc: 0.521 - ETA: 1s - loss: 1.0014 - acc: 0.520 - ETA: 1s - loss: 1.0013 - acc: 0.520 - ETA: 1s - loss: 1.0001 - acc: 0.522 - ETA: 1s - loss: 1.0006 - acc: 0.521 - ETA: 1s - loss: 1.0000 - acc: 0.522 - ETA: 1s - loss: 1.0001 - acc: 0.522 - ETA: 1s - loss: 1.0000 - acc: 0.522 - ETA: 1s - loss: 1.0007 - acc: 0.521 - ETA: 1s - loss: 1.0012 - acc: 0.521 - ETA: 1s - loss: 1.0013 - acc: 0.521 - ETA: 1s - loss: 1.0010 - acc: 0.521 - ETA: 1s - loss: 1.0010 - acc: 0.521 - ETA: 1s - loss: 1.0016 - acc: 0.520 - ETA: 1s - loss: 1.0016 - acc: 0.520 - ETA: 1s - loss: 1.0012 - acc: 0.521 - ETA: 1s - loss: 1.0006 - acc: 0.521 - ETA: 1s - loss: 1.0011 - acc: 0.520 - ETA: 1s - loss: 1.0009 - acc: 0.521 - ETA: 1s - loss: 1.0009 - acc: 0.520 - ETA: 1s - loss: 1.0005 - acc: 0.520 - ETA: 1s - loss: 1.0008 - acc: 0.520 - ETA: 1s - loss: 1.0007 - acc: 0.520 - ETA: 1s - loss: 1.0003 - acc: 0.520 - ETA: 0s - loss: 0.9999 - acc: 0.521 - ETA: 0s - loss: 0.9995 - acc: 0.521 - ETA: 0s - loss: 0.9989 - acc: 0.522 - ETA: 0s - loss: 0.9995 - acc: 0.521 - ETA: 0s - loss: 0.9986 - acc: 0.522 - ETA: 0s - loss: 0.9987 - acc: 0.522 - ETA: 0s - loss: 0.9989 - acc: 0.521 - ETA: 0s - loss: 0.9989 - acc: 0.522 - ETA: 0s - loss: 0.9982 - acc: 0.522 - ETA: 0s - loss: 0.9985 - acc: 0.522 - ETA: 0s - loss: 0.9982 - acc: 0.522 - ETA: 0s - loss: 0.9984 - acc: 0.522 - 7s 1ms/sample - loss: 0.9982 - acc: 0.5229 - val_loss: 1.0021 - val_acc: 0.5197\n",
      "Epoch 3/10\n"
     ]
    },
    {
     "name": "stdout",
     "output_type": "stream",
     "text": [
      "7112/7112 [==============================] - ETA: 3s - loss: 0.7377 - acc: 0.700 - ETA: 3s - loss: 0.9709 - acc: 0.546 - ETA: 3s - loss: 1.0004 - acc: 0.517 - ETA: 3s - loss: 0.9930 - acc: 0.511 - ETA: 3s - loss: 0.9988 - acc: 0.510 - ETA: 3s - loss: 0.9968 - acc: 0.517 - ETA: 4s - loss: 0.9869 - acc: 0.523 - ETA: 4s - loss: 0.9903 - acc: 0.523 - ETA: 4s - loss: 0.9887 - acc: 0.522 - ETA: 4s - loss: 0.9812 - acc: 0.526 - ETA: 5s - loss: 0.9822 - acc: 0.524 - ETA: 5s - loss: 0.9826 - acc: 0.524 - ETA: 5s - loss: 0.9824 - acc: 0.521 - ETA: 5s - loss: 0.9796 - acc: 0.526 - ETA: 5s - loss: 0.9760 - acc: 0.530 - ETA: 5s - loss: 0.9825 - acc: 0.524 - ETA: 4s - loss: 0.9858 - acc: 0.523 - ETA: 4s - loss: 0.9846 - acc: 0.527 - ETA: 4s - loss: 0.9816 - acc: 0.531 - ETA: 4s - loss: 0.9825 - acc: 0.532 - ETA: 4s - loss: 0.9781 - acc: 0.536 - ETA: 4s - loss: 0.9803 - acc: 0.534 - ETA: 4s - loss: 0.9782 - acc: 0.537 - ETA: 4s - loss: 0.9775 - acc: 0.538 - ETA: 4s - loss: 0.9794 - acc: 0.536 - ETA: 5s - loss: 0.9803 - acc: 0.535 - ETA: 5s - loss: 0.9823 - acc: 0.532 - ETA: 5s - loss: 0.9826 - acc: 0.534 - ETA: 5s - loss: 0.9779 - acc: 0.539 - ETA: 5s - loss: 0.9751 - acc: 0.542 - ETA: 4s - loss: 0.9763 - acc: 0.540 - ETA: 4s - loss: 0.9798 - acc: 0.536 - ETA: 5s - loss: 0.9802 - acc: 0.536 - ETA: 5s - loss: 0.9793 - acc: 0.535 - ETA: 5s - loss: 0.9821 - acc: 0.534 - ETA: 5s - loss: 0.9819 - acc: 0.532 - ETA: 4s - loss: 0.9853 - acc: 0.529 - ETA: 4s - loss: 0.9867 - acc: 0.526 - ETA: 4s - loss: 0.9867 - acc: 0.525 - ETA: 4s - loss: 0.9859 - acc: 0.526 - ETA: 4s - loss: 0.9845 - acc: 0.527 - ETA: 4s - loss: 0.9827 - acc: 0.529 - ETA: 4s - loss: 0.9832 - acc: 0.528 - ETA: 4s - loss: 0.9809 - acc: 0.531 - ETA: 4s - loss: 0.9813 - acc: 0.530 - ETA: 4s - loss: 0.9833 - acc: 0.528 - ETA: 4s - loss: 0.9845 - acc: 0.528 - ETA: 4s - loss: 0.9855 - acc: 0.526 - ETA: 4s - loss: 0.9854 - acc: 0.524 - ETA: 4s - loss: 0.9831 - acc: 0.528 - ETA: 3s - loss: 0.9856 - acc: 0.527 - ETA: 3s - loss: 0.9860 - acc: 0.526 - ETA: 3s - loss: 0.9855 - acc: 0.525 - ETA: 3s - loss: 0.9876 - acc: 0.524 - ETA: 3s - loss: 0.9879 - acc: 0.523 - ETA: 3s - loss: 0.9897 - acc: 0.521 - ETA: 3s - loss: 0.9897 - acc: 0.521 - ETA: 3s - loss: 0.9913 - acc: 0.519 - ETA: 3s - loss: 0.9916 - acc: 0.519 - ETA: 3s - loss: 0.9908 - acc: 0.521 - ETA: 3s - loss: 0.9914 - acc: 0.519 - ETA: 3s - loss: 0.9915 - acc: 0.518 - ETA: 3s - loss: 0.9921 - acc: 0.519 - ETA: 3s - loss: 0.9916 - acc: 0.519 - ETA: 2s - loss: 0.9918 - acc: 0.518 - ETA: 2s - loss: 0.9922 - acc: 0.518 - ETA: 2s - loss: 0.9917 - acc: 0.519 - ETA: 2s - loss: 0.9937 - acc: 0.516 - ETA: 2s - loss: 0.9921 - acc: 0.519 - ETA: 2s - loss: 0.9924 - acc: 0.518 - ETA: 2s - loss: 0.9928 - acc: 0.518 - ETA: 2s - loss: 0.9935 - acc: 0.517 - ETA: 2s - loss: 0.9924 - acc: 0.518 - ETA: 2s - loss: 0.9923 - acc: 0.518 - ETA: 2s - loss: 0.9919 - acc: 0.518 - ETA: 2s - loss: 0.9910 - acc: 0.518 - ETA: 2s - loss: 0.9918 - acc: 0.518 - ETA: 2s - loss: 0.9919 - acc: 0.518 - ETA: 2s - loss: 0.9922 - acc: 0.517 - ETA: 2s - loss: 0.9921 - acc: 0.517 - ETA: 2s - loss: 0.9919 - acc: 0.517 - ETA: 2s - loss: 0.9919 - acc: 0.517 - ETA: 2s - loss: 0.9914 - acc: 0.517 - ETA: 1s - loss: 0.9909 - acc: 0.518 - ETA: 1s - loss: 0.9909 - acc: 0.518 - ETA: 1s - loss: 0.9898 - acc: 0.519 - ETA: 1s - loss: 0.9898 - acc: 0.519 - ETA: 1s - loss: 0.9895 - acc: 0.519 - ETA: 1s - loss: 0.9899 - acc: 0.519 - ETA: 1s - loss: 0.9898 - acc: 0.519 - ETA: 1s - loss: 0.9898 - acc: 0.519 - ETA: 1s - loss: 0.9896 - acc: 0.519 - ETA: 1s - loss: 0.9893 - acc: 0.519 - ETA: 1s - loss: 0.9890 - acc: 0.519 - ETA: 1s - loss: 0.9878 - acc: 0.520 - ETA: 1s - loss: 0.9884 - acc: 0.521 - ETA: 1s - loss: 0.9882 - acc: 0.520 - ETA: 1s - loss: 0.9882 - acc: 0.520 - ETA: 1s - loss: 0.9882 - acc: 0.521 - ETA: 1s - loss: 0.9880 - acc: 0.522 - ETA: 0s - loss: 0.9878 - acc: 0.522 - ETA: 0s - loss: 0.9881 - acc: 0.522 - ETA: 0s - loss: 0.9882 - acc: 0.522 - ETA: 0s - loss: 0.9875 - acc: 0.523 - ETA: 0s - loss: 0.9878 - acc: 0.522 - ETA: 0s - loss: 0.9879 - acc: 0.522 - ETA: 0s - loss: 0.9879 - acc: 0.522 - ETA: 0s - loss: 0.9881 - acc: 0.523 - ETA: 0s - loss: 0.9888 - acc: 0.522 - ETA: 0s - loss: 0.9889 - acc: 0.522 - ETA: 0s - loss: 0.9900 - acc: 0.521 - ETA: 0s - loss: 0.9899 - acc: 0.522 - ETA: 0s - loss: 0.9903 - acc: 0.522 - ETA: 0s - loss: 0.9902 - acc: 0.522 - ETA: 0s - loss: 0.9905 - acc: 0.522 - ETA: 0s - loss: 0.9904 - acc: 0.522 - ETA: 0s - loss: 0.9909 - acc: 0.522 - ETA: 0s - loss: 0.9912 - acc: 0.521 - ETA: 0s - loss: 0.9916 - acc: 0.520 - ETA: 0s - loss: 0.9920 - acc: 0.520 - 7s 969us/sample - loss: 0.9919 - acc: 0.5211 - val_loss: 0.9707 - val_acc: 0.5364\n",
      "Epoch 4/10\n"
     ]
    },
    {
     "name": "stdout",
     "output_type": "stream",
     "text": [
      "7112/7112 [==============================] - ETA: 8s - loss: 0.8882 - acc: 0.600 - ETA: 7s - loss: 0.9659 - acc: 0.550 - ETA: 5s - loss: 0.9579 - acc: 0.553 - ETA: 5s - loss: 0.9578 - acc: 0.540 - ETA: 5s - loss: 0.9689 - acc: 0.551 - ETA: 5s - loss: 0.9909 - acc: 0.532 - ETA: 5s - loss: 0.9894 - acc: 0.540 - ETA: 6s - loss: 0.9938 - acc: 0.534 - ETA: 6s - loss: 1.0026 - acc: 0.525 - ETA: 6s - loss: 1.0111 - acc: 0.513 - ETA: 6s - loss: 1.0100 - acc: 0.517 - ETA: 6s - loss: 1.0089 - acc: 0.514 - ETA: 6s - loss: 1.0014 - acc: 0.522 - ETA: 5s - loss: 1.0031 - acc: 0.516 - ETA: 5s - loss: 1.0007 - acc: 0.515 - ETA: 6s - loss: 0.9995 - acc: 0.516 - ETA: 6s - loss: 0.9979 - acc: 0.519 - ETA: 6s - loss: 0.9901 - acc: 0.526 - ETA: 6s - loss: 0.9873 - acc: 0.530 - ETA: 6s - loss: 0.9944 - acc: 0.522 - ETA: 5s - loss: 0.9937 - acc: 0.526 - ETA: 5s - loss: 0.9911 - acc: 0.530 - ETA: 5s - loss: 0.9914 - acc: 0.530 - ETA: 5s - loss: 0.9881 - acc: 0.530 - ETA: 5s - loss: 0.9884 - acc: 0.530 - ETA: 5s - loss: 0.9901 - acc: 0.529 - ETA: 5s - loss: 0.9895 - acc: 0.532 - ETA: 4s - loss: 0.9904 - acc: 0.530 - ETA: 4s - loss: 0.9904 - acc: 0.530 - ETA: 4s - loss: 0.9908 - acc: 0.528 - ETA: 4s - loss: 0.9927 - acc: 0.527 - ETA: 4s - loss: 0.9918 - acc: 0.527 - ETA: 4s - loss: 0.9910 - acc: 0.528 - ETA: 4s - loss: 0.9901 - acc: 0.527 - ETA: 4s - loss: 0.9918 - acc: 0.525 - ETA: 4s - loss: 0.9918 - acc: 0.525 - ETA: 4s - loss: 0.9905 - acc: 0.527 - ETA: 4s - loss: 0.9893 - acc: 0.528 - ETA: 3s - loss: 0.9873 - acc: 0.528 - ETA: 3s - loss: 0.9877 - acc: 0.527 - ETA: 3s - loss: 0.9902 - acc: 0.524 - ETA: 3s - loss: 0.9884 - acc: 0.525 - ETA: 3s - loss: 0.9897 - acc: 0.525 - ETA: 3s - loss: 0.9895 - acc: 0.524 - ETA: 3s - loss: 0.9886 - acc: 0.524 - ETA: 3s - loss: 0.9899 - acc: 0.522 - ETA: 3s - loss: 0.9899 - acc: 0.522 - ETA: 3s - loss: 0.9916 - acc: 0.520 - ETA: 3s - loss: 0.9917 - acc: 0.521 - ETA: 3s - loss: 0.9922 - acc: 0.522 - ETA: 3s - loss: 0.9912 - acc: 0.522 - ETA: 3s - loss: 0.9931 - acc: 0.520 - ETA: 3s - loss: 0.9927 - acc: 0.521 - ETA: 3s - loss: 0.9923 - acc: 0.521 - ETA: 3s - loss: 0.9927 - acc: 0.520 - ETA: 3s - loss: 0.9927 - acc: 0.521 - ETA: 3s - loss: 0.9921 - acc: 0.522 - ETA: 3s - loss: 0.9922 - acc: 0.521 - ETA: 3s - loss: 0.9921 - acc: 0.522 - ETA: 3s - loss: 0.9929 - acc: 0.520 - ETA: 3s - loss: 0.9909 - acc: 0.523 - ETA: 3s - loss: 0.9900 - acc: 0.524 - ETA: 3s - loss: 0.9893 - acc: 0.524 - ETA: 2s - loss: 0.9891 - acc: 0.524 - ETA: 2s - loss: 0.9892 - acc: 0.524 - ETA: 2s - loss: 0.9871 - acc: 0.526 - ETA: 2s - loss: 0.9879 - acc: 0.526 - ETA: 2s - loss: 0.9885 - acc: 0.526 - ETA: 2s - loss: 0.9887 - acc: 0.527 - ETA: 2s - loss: 0.9889 - acc: 0.527 - ETA: 2s - loss: 0.9897 - acc: 0.526 - ETA: 2s - loss: 0.9900 - acc: 0.527 - ETA: 2s - loss: 0.9895 - acc: 0.528 - ETA: 2s - loss: 0.9905 - acc: 0.526 - ETA: 2s - loss: 0.9907 - acc: 0.526 - ETA: 2s - loss: 0.9917 - acc: 0.526 - ETA: 2s - loss: 0.9917 - acc: 0.526 - ETA: 2s - loss: 0.9912 - acc: 0.527 - ETA: 2s - loss: 0.9918 - acc: 0.525 - ETA: 1s - loss: 0.9918 - acc: 0.525 - ETA: 1s - loss: 0.9921 - acc: 0.524 - ETA: 1s - loss: 0.9913 - acc: 0.525 - ETA: 1s - loss: 0.9906 - acc: 0.525 - ETA: 1s - loss: 0.9910 - acc: 0.523 - ETA: 1s - loss: 0.9915 - acc: 0.523 - ETA: 1s - loss: 0.9919 - acc: 0.523 - ETA: 1s - loss: 0.9925 - acc: 0.522 - ETA: 1s - loss: 0.9923 - acc: 0.522 - ETA: 1s - loss: 0.9919 - acc: 0.522 - ETA: 1s - loss: 0.9920 - acc: 0.522 - ETA: 1s - loss: 0.9917 - acc: 0.523 - ETA: 1s - loss: 0.9918 - acc: 0.523 - ETA: 1s - loss: 0.9915 - acc: 0.523 - ETA: 1s - loss: 0.9915 - acc: 0.523 - ETA: 1s - loss: 0.9905 - acc: 0.524 - ETA: 1s - loss: 0.9899 - acc: 0.524 - ETA: 1s - loss: 0.9896 - acc: 0.524 - ETA: 0s - loss: 0.9900 - acc: 0.523 - ETA: 0s - loss: 0.9893 - acc: 0.524 - ETA: 0s - loss: 0.9888 - acc: 0.525 - ETA: 0s - loss: 0.9874 - acc: 0.526 - ETA: 0s - loss: 0.9872 - acc: 0.526 - ETA: 0s - loss: 0.9882 - acc: 0.525 - ETA: 0s - loss: 0.9888 - acc: 0.524 - ETA: 0s - loss: 0.9883 - acc: 0.525 - ETA: 0s - loss: 0.9884 - acc: 0.525 - ETA: 0s - loss: 0.9890 - acc: 0.525 - ETA: 0s - loss: 0.9887 - acc: 0.526 - ETA: 0s - loss: 0.9886 - acc: 0.526 - ETA: 0s - loss: 0.9888 - acc: 0.526 - ETA: 0s - loss: 0.9890 - acc: 0.526 - 6s 907us/sample - loss: 0.9897 - acc: 0.5257 - val_loss: 0.9745 - val_acc: 0.5326\n",
      "Epoch 5/10\n"
     ]
    },
    {
     "name": "stdout",
     "output_type": "stream",
     "text": [
      "7112/7112 [==============================] - ETA: 8s - loss: 0.7143 - acc: 0.800 - ETA: 11s - loss: 0.9427 - acc: 0.58 - ETA: 9s - loss: 0.9741 - acc: 0.5455 - ETA: 8s - loss: 0.9616 - acc: 0.543 - ETA: 7s - loss: 0.9874 - acc: 0.526 - ETA: 7s - loss: 0.9904 - acc: 0.514 - ETA: 8s - loss: 0.9950 - acc: 0.510 - ETA: 8s - loss: 1.0041 - acc: 0.491 - ETA: 7s - loss: 0.9968 - acc: 0.502 - ETA: 7s - loss: 1.0015 - acc: 0.498 - ETA: 6s - loss: 0.9902 - acc: 0.505 - ETA: 6s - loss: 0.9909 - acc: 0.508 - ETA: 7s - loss: 0.9935 - acc: 0.506 - ETA: 7s - loss: 0.9951 - acc: 0.503 - ETA: 7s - loss: 0.9888 - acc: 0.512 - ETA: 7s - loss: 0.9924 - acc: 0.512 - ETA: 7s - loss: 0.9918 - acc: 0.511 - ETA: 7s - loss: 0.9900 - acc: 0.515 - ETA: 7s - loss: 0.9909 - acc: 0.517 - ETA: 7s - loss: 1.0017 - acc: 0.507 - ETA: 7s - loss: 0.9999 - acc: 0.511 - ETA: 7s - loss: 0.9969 - acc: 0.513 - ETA: 6s - loss: 1.0015 - acc: 0.512 - ETA: 6s - loss: 0.9994 - acc: 0.512 - ETA: 6s - loss: 0.9912 - acc: 0.518 - ETA: 5s - loss: 0.9929 - acc: 0.520 - ETA: 5s - loss: 0.9930 - acc: 0.518 - ETA: 5s - loss: 0.9954 - acc: 0.515 - ETA: 5s - loss: 0.9918 - acc: 0.519 - ETA: 4s - loss: 0.9941 - acc: 0.517 - ETA: 4s - loss: 0.9958 - acc: 0.516 - ETA: 4s - loss: 0.9957 - acc: 0.515 - ETA: 4s - loss: 0.9934 - acc: 0.517 - ETA: 4s - loss: 0.9950 - acc: 0.515 - ETA: 4s - loss: 0.9946 - acc: 0.516 - ETA: 4s - loss: 0.9923 - acc: 0.518 - ETA: 4s - loss: 0.9927 - acc: 0.518 - ETA: 4s - loss: 0.9920 - acc: 0.518 - ETA: 4s - loss: 0.9932 - acc: 0.518 - ETA: 4s - loss: 0.9937 - acc: 0.518 - ETA: 4s - loss: 0.9945 - acc: 0.518 - ETA: 4s - loss: 0.9940 - acc: 0.518 - ETA: 4s - loss: 0.9931 - acc: 0.520 - ETA: 4s - loss: 0.9924 - acc: 0.522 - ETA: 4s - loss: 0.9911 - acc: 0.523 - ETA: 4s - loss: 0.9915 - acc: 0.522 - ETA: 4s - loss: 0.9924 - acc: 0.519 - ETA: 4s - loss: 0.9925 - acc: 0.519 - ETA: 4s - loss: 0.9896 - acc: 0.521 - ETA: 3s - loss: 0.9889 - acc: 0.522 - ETA: 3s - loss: 0.9895 - acc: 0.521 - ETA: 3s - loss: 0.9926 - acc: 0.519 - ETA: 3s - loss: 0.9928 - acc: 0.517 - ETA: 3s - loss: 0.9953 - acc: 0.513 - ETA: 3s - loss: 0.9948 - acc: 0.514 - ETA: 3s - loss: 0.9946 - acc: 0.516 - ETA: 3s - loss: 0.9940 - acc: 0.517 - ETA: 3s - loss: 0.9937 - acc: 0.517 - ETA: 3s - loss: 0.9947 - acc: 0.517 - ETA: 3s - loss: 0.9946 - acc: 0.517 - ETA: 3s - loss: 0.9952 - acc: 0.516 - ETA: 3s - loss: 0.9935 - acc: 0.518 - ETA: 3s - loss: 0.9915 - acc: 0.520 - ETA: 3s - loss: 0.9915 - acc: 0.520 - ETA: 3s - loss: 0.9920 - acc: 0.520 - ETA: 3s - loss: 0.9923 - acc: 0.519 - ETA: 3s - loss: 0.9942 - acc: 0.518 - ETA: 3s - loss: 0.9937 - acc: 0.519 - ETA: 3s - loss: 0.9944 - acc: 0.518 - ETA: 2s - loss: 0.9949 - acc: 0.517 - ETA: 2s - loss: 0.9957 - acc: 0.516 - ETA: 2s - loss: 0.9946 - acc: 0.517 - ETA: 2s - loss: 0.9941 - acc: 0.516 - ETA: 2s - loss: 0.9929 - acc: 0.517 - ETA: 2s - loss: 0.9916 - acc: 0.519 - ETA: 2s - loss: 0.9913 - acc: 0.520 - ETA: 2s - loss: 0.9893 - acc: 0.521 - ETA: 2s - loss: 0.9901 - acc: 0.520 - ETA: 2s - loss: 0.9916 - acc: 0.519 - ETA: 2s - loss: 0.9928 - acc: 0.518 - ETA: 2s - loss: 0.9931 - acc: 0.518 - ETA: 2s - loss: 0.9928 - acc: 0.518 - ETA: 2s - loss: 0.9926 - acc: 0.518 - ETA: 2s - loss: 0.9932 - acc: 0.517 - ETA: 2s - loss: 0.9936 - acc: 0.516 - ETA: 2s - loss: 0.9933 - acc: 0.517 - ETA: 2s - loss: 0.9926 - acc: 0.518 - ETA: 2s - loss: 0.9927 - acc: 0.518 - ETA: 2s - loss: 0.9928 - acc: 0.518 - ETA: 2s - loss: 0.9938 - acc: 0.517 - ETA: 2s - loss: 0.9940 - acc: 0.516 - ETA: 2s - loss: 0.9935 - acc: 0.517 - ETA: 2s - loss: 0.9937 - acc: 0.517 - ETA: 2s - loss: 0.9944 - acc: 0.516 - ETA: 2s - loss: 0.9945 - acc: 0.516 - ETA: 1s - loss: 0.9949 - acc: 0.515 - ETA: 1s - loss: 0.9951 - acc: 0.515 - ETA: 1s - loss: 0.9955 - acc: 0.515 - ETA: 1s - loss: 0.9951 - acc: 0.515 - ETA: 1s - loss: 0.9948 - acc: 0.515 - ETA: 1s - loss: 0.9934 - acc: 0.517 - ETA: 1s - loss: 0.9945 - acc: 0.516 - ETA: 1s - loss: 0.9946 - acc: 0.516 - ETA: 1s - loss: 0.9941 - acc: 0.516 - ETA: 1s - loss: 0.9947 - acc: 0.515 - ETA: 1s - loss: 0.9939 - acc: 0.516 - ETA: 1s - loss: 0.9936 - acc: 0.516 - ETA: 1s - loss: 0.9938 - acc: 0.516 - ETA: 1s - loss: 0.9934 - acc: 0.516 - ETA: 0s - loss: 0.9939 - acc: 0.516 - ETA: 0s - loss: 0.9936 - acc: 0.517 - ETA: 0s - loss: 0.9938 - acc: 0.517 - ETA: 0s - loss: 0.9943 - acc: 0.517 - ETA: 0s - loss: 0.9944 - acc: 0.517 - ETA: 0s - loss: 0.9936 - acc: 0.518 - ETA: 0s - loss: 0.9929 - acc: 0.519 - ETA: 0s - loss: 0.9925 - acc: 0.519 - ETA: 0s - loss: 0.9925 - acc: 0.519 - ETA: 0s - loss: 0.9925 - acc: 0.519 - ETA: 0s - loss: 0.9920 - acc: 0.520 - ETA: 0s - loss: 0.9916 - acc: 0.520 - ETA: 0s - loss: 0.9910 - acc: 0.521 - ETA: 0s - loss: 0.9910 - acc: 0.521 - ETA: 0s - loss: 0.9910 - acc: 0.521 - ETA: 0s - loss: 0.9901 - acc: 0.522 - 7s 1ms/sample - loss: 0.9898 - acc: 0.5229 - val_loss: 0.9718 - val_acc: 0.5330\n",
      "Epoch 6/10\n"
     ]
    },
    {
     "name": "stdout",
     "output_type": "stream",
     "text": [
      "7112/7112 [==============================] - ETA: 8s - loss: 0.8855 - acc: 0.500 - ETA: 8s - loss: 0.9918 - acc: 0.500 - ETA: 9s - loss: 0.9544 - acc: 0.544 - ETA: 8s - loss: 0.9483 - acc: 0.561 - ETA: 7s - loss: 0.9580 - acc: 0.568 - ETA: 7s - loss: 0.9751 - acc: 0.542 - ETA: 6s - loss: 0.9905 - acc: 0.528 - ETA: 6s - loss: 0.9878 - acc: 0.531 - ETA: 6s - loss: 0.9765 - acc: 0.537 - ETA: 5s - loss: 0.9821 - acc: 0.522 - ETA: 5s - loss: 0.9691 - acc: 0.532 - ETA: 5s - loss: 0.9621 - acc: 0.538 - ETA: 5s - loss: 0.9684 - acc: 0.537 - ETA: 5s - loss: 0.9709 - acc: 0.540 - ETA: 5s - loss: 0.9673 - acc: 0.544 - ETA: 5s - loss: 0.9622 - acc: 0.544 - ETA: 5s - loss: 0.9728 - acc: 0.535 - ETA: 5s - loss: 0.9731 - acc: 0.535 - ETA: 5s - loss: 0.9717 - acc: 0.538 - ETA: 4s - loss: 0.9725 - acc: 0.536 - ETA: 5s - loss: 0.9721 - acc: 0.538 - ETA: 5s - loss: 0.9697 - acc: 0.540 - ETA: 5s - loss: 0.9676 - acc: 0.542 - ETA: 5s - loss: 0.9672 - acc: 0.543 - ETA: 5s - loss: 0.9683 - acc: 0.542 - ETA: 4s - loss: 0.9700 - acc: 0.541 - ETA: 4s - loss: 0.9713 - acc: 0.538 - ETA: 4s - loss: 0.9691 - acc: 0.541 - ETA: 4s - loss: 0.9675 - acc: 0.541 - ETA: 4s - loss: 0.9658 - acc: 0.545 - ETA: 4s - loss: 0.9690 - acc: 0.544 - ETA: 4s - loss: 0.9680 - acc: 0.544 - ETA: 4s - loss: 0.9689 - acc: 0.544 - ETA: 4s - loss: 0.9721 - acc: 0.542 - ETA: 4s - loss: 0.9746 - acc: 0.539 - ETA: 4s - loss: 0.9759 - acc: 0.536 - ETA: 4s - loss: 0.9768 - acc: 0.536 - ETA: 4s - loss: 0.9770 - acc: 0.536 - ETA: 4s - loss: 0.9771 - acc: 0.537 - ETA: 4s - loss: 0.9780 - acc: 0.536 - ETA: 4s - loss: 0.9789 - acc: 0.536 - ETA: 4s - loss: 0.9796 - acc: 0.536 - ETA: 4s - loss: 0.9798 - acc: 0.535 - ETA: 4s - loss: 0.9797 - acc: 0.534 - ETA: 4s - loss: 0.9797 - acc: 0.534 - ETA: 4s - loss: 0.9809 - acc: 0.533 - ETA: 4s - loss: 0.9809 - acc: 0.534 - ETA: 4s - loss: 0.9814 - acc: 0.535 - ETA: 4s - loss: 0.9817 - acc: 0.535 - ETA: 4s - loss: 0.9804 - acc: 0.536 - ETA: 3s - loss: 0.9822 - acc: 0.534 - ETA: 3s - loss: 0.9833 - acc: 0.532 - ETA: 3s - loss: 0.9831 - acc: 0.532 - ETA: 3s - loss: 0.9841 - acc: 0.531 - ETA: 3s - loss: 0.9855 - acc: 0.530 - ETA: 3s - loss: 0.9857 - acc: 0.530 - ETA: 3s - loss: 0.9857 - acc: 0.530 - ETA: 3s - loss: 0.9852 - acc: 0.531 - ETA: 3s - loss: 0.9858 - acc: 0.530 - ETA: 3s - loss: 0.9852 - acc: 0.530 - ETA: 3s - loss: 0.9844 - acc: 0.531 - ETA: 3s - loss: 0.9853 - acc: 0.530 - ETA: 3s - loss: 0.9853 - acc: 0.530 - ETA: 3s - loss: 0.9840 - acc: 0.531 - ETA: 3s - loss: 0.9826 - acc: 0.533 - ETA: 3s - loss: 0.9802 - acc: 0.535 - ETA: 3s - loss: 0.9812 - acc: 0.534 - ETA: 3s - loss: 0.9809 - acc: 0.535 - ETA: 3s - loss: 0.9811 - acc: 0.534 - ETA: 3s - loss: 0.9811 - acc: 0.535 - ETA: 3s - loss: 0.9814 - acc: 0.535 - ETA: 2s - loss: 0.9812 - acc: 0.536 - ETA: 2s - loss: 0.9814 - acc: 0.536 - ETA: 2s - loss: 0.9824 - acc: 0.534 - ETA: 2s - loss: 0.9828 - acc: 0.534 - ETA: 2s - loss: 0.9824 - acc: 0.534 - ETA: 2s - loss: 0.9835 - acc: 0.532 - ETA: 2s - loss: 0.9836 - acc: 0.532 - ETA: 2s - loss: 0.9835 - acc: 0.532 - ETA: 2s - loss: 0.9837 - acc: 0.532 - ETA: 2s - loss: 0.9841 - acc: 0.532 - ETA: 2s - loss: 0.9837 - acc: 0.532 - ETA: 2s - loss: 0.9844 - acc: 0.532 - ETA: 2s - loss: 0.9853 - acc: 0.531 - ETA: 2s - loss: 0.9856 - acc: 0.531 - ETA: 2s - loss: 0.9857 - acc: 0.531 - ETA: 2s - loss: 0.9859 - acc: 0.532 - ETA: 2s - loss: 0.9856 - acc: 0.532 - ETA: 2s - loss: 0.9856 - acc: 0.531 - ETA: 2s - loss: 0.9854 - acc: 0.531 - ETA: 2s - loss: 0.9870 - acc: 0.529 - ETA: 2s - loss: 0.9861 - acc: 0.530 - ETA: 2s - loss: 0.9870 - acc: 0.529 - ETA: 1s - loss: 0.9873 - acc: 0.529 - ETA: 1s - loss: 0.9871 - acc: 0.529 - ETA: 1s - loss: 0.9882 - acc: 0.528 - ETA: 1s - loss: 0.9891 - acc: 0.528 - ETA: 1s - loss: 0.9882 - acc: 0.528 - ETA: 1s - loss: 0.9891 - acc: 0.528 - ETA: 1s - loss: 0.9892 - acc: 0.528 - ETA: 1s - loss: 0.9896 - acc: 0.528 - ETA: 1s - loss: 0.9892 - acc: 0.529 - ETA: 1s - loss: 0.9886 - acc: 0.530 - ETA: 1s - loss: 0.9891 - acc: 0.529 - ETA: 1s - loss: 0.9895 - acc: 0.529 - ETA: 1s - loss: 0.9890 - acc: 0.529 - ETA: 0s - loss: 0.9892 - acc: 0.529 - ETA: 0s - loss: 0.9895 - acc: 0.528 - ETA: 0s - loss: 0.9886 - acc: 0.529 - ETA: 0s - loss: 0.9884 - acc: 0.529 - ETA: 0s - loss: 0.9899 - acc: 0.527 - ETA: 0s - loss: 0.9903 - acc: 0.527 - ETA: 0s - loss: 0.9903 - acc: 0.527 - ETA: 0s - loss: 0.9895 - acc: 0.527 - ETA: 0s - loss: 0.9898 - acc: 0.527 - ETA: 0s - loss: 0.9894 - acc: 0.527 - ETA: 0s - loss: 0.9888 - acc: 0.528 - ETA: 0s - loss: 0.9889 - acc: 0.528 - ETA: 0s - loss: 0.9888 - acc: 0.528 - ETA: 0s - loss: 0.9890 - acc: 0.528 - ETA: 0s - loss: 0.9890 - acc: 0.527 - ETA: 0s - loss: 0.9898 - acc: 0.527 - ETA: 0s - loss: 0.9894 - acc: 0.528 - ETA: 0s - loss: 0.9895 - acc: 0.528 - ETA: 0s - loss: 0.9884 - acc: 0.529 - 7s 1ms/sample - loss: 0.9883 - acc: 0.5295 - val_loss: 0.9964 - val_acc: 0.5240\n",
      "Epoch 7/10\n"
     ]
    },
    {
     "name": "stdout",
     "output_type": "stream",
     "text": [
      "7112/7112 [==============================] - ETA: 22s - loss: 1.2129 - acc: 0.30 - ETA: 7s - loss: 1.1119 - acc: 0.4375 - ETA: 6s - loss: 1.0663 - acc: 0.478 - ETA: 6s - loss: 1.0611 - acc: 0.465 - ETA: 6s - loss: 1.0325 - acc: 0.488 - ETA: 6s - loss: 1.0286 - acc: 0.487 - ETA: 6s - loss: 1.0295 - acc: 0.491 - ETA: 6s - loss: 1.0215 - acc: 0.509 - ETA: 5s - loss: 1.0094 - acc: 0.511 - ETA: 5s - loss: 1.0089 - acc: 0.508 - ETA: 6s - loss: 1.0035 - acc: 0.511 - ETA: 6s - loss: 1.0010 - acc: 0.515 - ETA: 6s - loss: 1.0078 - acc: 0.514 - ETA: 6s - loss: 1.0131 - acc: 0.512 - ETA: 6s - loss: 1.0183 - acc: 0.510 - ETA: 6s - loss: 1.0159 - acc: 0.511 - ETA: 6s - loss: 1.0153 - acc: 0.511 - ETA: 6s - loss: 1.0122 - acc: 0.521 - ETA: 6s - loss: 1.0139 - acc: 0.516 - ETA: 6s - loss: 1.0142 - acc: 0.516 - ETA: 6s - loss: 1.0139 - acc: 0.516 - ETA: 6s - loss: 1.0112 - acc: 0.518 - ETA: 6s - loss: 1.0064 - acc: 0.523 - ETA: 6s - loss: 1.0050 - acc: 0.524 - ETA: 6s - loss: 1.0057 - acc: 0.524 - ETA: 6s - loss: 1.0086 - acc: 0.523 - ETA: 6s - loss: 1.0069 - acc: 0.523 - ETA: 6s - loss: 1.0053 - acc: 0.525 - ETA: 5s - loss: 1.0048 - acc: 0.523 - ETA: 5s - loss: 1.0057 - acc: 0.518 - ETA: 5s - loss: 1.0042 - acc: 0.521 - ETA: 5s - loss: 1.0036 - acc: 0.522 - ETA: 5s - loss: 1.0030 - acc: 0.521 - ETA: 5s - loss: 1.0042 - acc: 0.520 - ETA: 5s - loss: 1.0023 - acc: 0.522 - ETA: 5s - loss: 1.0029 - acc: 0.522 - ETA: 5s - loss: 1.0030 - acc: 0.521 - ETA: 5s - loss: 1.0036 - acc: 0.521 - ETA: 5s - loss: 1.0040 - acc: 0.521 - ETA: 5s - loss: 1.0062 - acc: 0.520 - ETA: 5s - loss: 1.0058 - acc: 0.518 - ETA: 5s - loss: 1.0056 - acc: 0.518 - ETA: 4s - loss: 1.0044 - acc: 0.518 - ETA: 4s - loss: 1.0060 - acc: 0.518 - ETA: 4s - loss: 1.0067 - acc: 0.517 - ETA: 4s - loss: 1.0043 - acc: 0.518 - ETA: 4s - loss: 1.0035 - acc: 0.517 - ETA: 4s - loss: 1.0039 - acc: 0.517 - ETA: 4s - loss: 1.0038 - acc: 0.517 - ETA: 4s - loss: 1.0035 - acc: 0.516 - ETA: 4s - loss: 1.0018 - acc: 0.517 - ETA: 4s - loss: 1.0022 - acc: 0.519 - ETA: 4s - loss: 1.0046 - acc: 0.516 - ETA: 4s - loss: 1.0044 - acc: 0.516 - ETA: 4s - loss: 1.0039 - acc: 0.517 - ETA: 4s - loss: 1.0037 - acc: 0.517 - ETA: 4s - loss: 1.0043 - acc: 0.516 - ETA: 3s - loss: 1.0018 - acc: 0.518 - ETA: 3s - loss: 1.0015 - acc: 0.518 - ETA: 3s - loss: 1.0038 - acc: 0.516 - ETA: 3s - loss: 1.0039 - acc: 0.516 - ETA: 3s - loss: 1.0051 - acc: 0.515 - ETA: 3s - loss: 1.0041 - acc: 0.516 - ETA: 3s - loss: 1.0036 - acc: 0.516 - ETA: 3s - loss: 1.0023 - acc: 0.518 - ETA: 3s - loss: 1.0039 - acc: 0.516 - ETA: 3s - loss: 1.0036 - acc: 0.516 - ETA: 3s - loss: 1.0033 - acc: 0.516 - ETA: 3s - loss: 1.0030 - acc: 0.517 - ETA: 3s - loss: 1.0028 - acc: 0.517 - ETA: 3s - loss: 1.0016 - acc: 0.518 - ETA: 3s - loss: 1.0020 - acc: 0.518 - ETA: 3s - loss: 1.0013 - acc: 0.518 - ETA: 3s - loss: 1.0005 - acc: 0.518 - ETA: 3s - loss: 1.0016 - acc: 0.517 - ETA: 3s - loss: 1.0015 - acc: 0.517 - ETA: 3s - loss: 1.0011 - acc: 0.518 - ETA: 3s - loss: 0.9995 - acc: 0.519 - ETA: 3s - loss: 0.9987 - acc: 0.519 - ETA: 3s - loss: 0.9979 - acc: 0.520 - ETA: 3s - loss: 0.9958 - acc: 0.522 - ETA: 3s - loss: 0.9978 - acc: 0.521 - ETA: 2s - loss: 0.9969 - acc: 0.523 - ETA: 2s - loss: 0.9977 - acc: 0.522 - ETA: 2s - loss: 0.9962 - acc: 0.523 - ETA: 2s - loss: 0.9957 - acc: 0.523 - ETA: 2s - loss: 0.9961 - acc: 0.523 - ETA: 2s - loss: 0.9936 - acc: 0.525 - ETA: 2s - loss: 0.9937 - acc: 0.524 - ETA: 2s - loss: 0.9924 - acc: 0.525 - ETA: 2s - loss: 0.9915 - acc: 0.526 - ETA: 2s - loss: 0.9910 - acc: 0.525 - ETA: 2s - loss: 0.9915 - acc: 0.525 - ETA: 2s - loss: 0.9916 - acc: 0.526 - ETA: 2s - loss: 0.9915 - acc: 0.526 - ETA: 2s - loss: 0.9905 - acc: 0.527 - ETA: 1s - loss: 0.9893 - acc: 0.528 - ETA: 1s - loss: 0.9900 - acc: 0.527 - ETA: 1s - loss: 0.9914 - acc: 0.525 - ETA: 1s - loss: 0.9915 - acc: 0.525 - ETA: 1s - loss: 0.9915 - acc: 0.525 - ETA: 1s - loss: 0.9914 - acc: 0.525 - ETA: 1s - loss: 0.9911 - acc: 0.525 - ETA: 1s - loss: 0.9910 - acc: 0.525 - ETA: 1s - loss: 0.9911 - acc: 0.525 - ETA: 1s - loss: 0.9905 - acc: 0.525 - ETA: 1s - loss: 0.9903 - acc: 0.526 - ETA: 1s - loss: 0.9902 - acc: 0.526 - ETA: 1s - loss: 0.9894 - acc: 0.527 - ETA: 1s - loss: 0.9899 - acc: 0.527 - ETA: 1s - loss: 0.9900 - acc: 0.527 - ETA: 1s - loss: 0.9893 - acc: 0.527 - ETA: 1s - loss: 0.9895 - acc: 0.528 - ETA: 1s - loss: 0.9893 - acc: 0.528 - ETA: 0s - loss: 0.9894 - acc: 0.528 - ETA: 0s - loss: 0.9894 - acc: 0.528 - ETA: 0s - loss: 0.9900 - acc: 0.527 - ETA: 0s - loss: 0.9893 - acc: 0.528 - ETA: 0s - loss: 0.9901 - acc: 0.526 - ETA: 0s - loss: 0.9899 - acc: 0.526 - ETA: 0s - loss: 0.9887 - acc: 0.527 - ETA: 0s - loss: 0.9884 - acc: 0.527 - ETA: 0s - loss: 0.9892 - acc: 0.526 - ETA: 0s - loss: 0.9890 - acc: 0.527 - ETA: 0s - loss: 0.9890 - acc: 0.526 - ETA: 0s - loss: 0.9889 - acc: 0.527 - ETA: 0s - loss: 0.9887 - acc: 0.526 - ETA: 0s - loss: 0.9893 - acc: 0.526 - 8s 1ms/sample - loss: 0.9893 - acc: 0.5266 - val_loss: 0.9711 - val_acc: 0.5326\n",
      "Epoch 8/10\n"
     ]
    },
    {
     "name": "stdout",
     "output_type": "stream",
     "text": [
      "7112/7112 [==============================] - ETA: 10s - loss: 1.0466 - acc: 0.60 - ETA: 8s - loss: 0.9702 - acc: 0.6333 - ETA: 14s - loss: 0.9711 - acc: 0.61 - ETA: 23s - loss: 0.9542 - acc: 0.62 - ETA: 25s - loss: 0.9407 - acc: 0.64 - ETA: 24s - loss: 0.9162 - acc: 0.65 - ETA: 16s - loss: 0.9561 - acc: 0.61 - ETA: 13s - loss: 0.9715 - acc: 0.57 - ETA: 12s - loss: 0.9705 - acc: 0.56 - ETA: 11s - loss: 0.9827 - acc: 0.54 - ETA: 10s - loss: 0.9851 - acc: 0.54 - ETA: 9s - loss: 0.9658 - acc: 0.5580 - ETA: 8s - loss: 0.9722 - acc: 0.550 - ETA: 7s - loss: 0.9766 - acc: 0.547 - ETA: 8s - loss: 0.9749 - acc: 0.547 - ETA: 8s - loss: 0.9806 - acc: 0.539 - ETA: 8s - loss: 0.9828 - acc: 0.541 - ETA: 7s - loss: 0.9803 - acc: 0.544 - ETA: 7s - loss: 0.9898 - acc: 0.535 - ETA: 7s - loss: 0.9938 - acc: 0.532 - ETA: 7s - loss: 0.9943 - acc: 0.529 - ETA: 6s - loss: 0.9975 - acc: 0.521 - ETA: 6s - loss: 0.9949 - acc: 0.528 - ETA: 6s - loss: 0.9892 - acc: 0.535 - ETA: 6s - loss: 0.9894 - acc: 0.534 - ETA: 6s - loss: 0.9858 - acc: 0.539 - ETA: 6s - loss: 0.9857 - acc: 0.539 - ETA: 6s - loss: 0.9828 - acc: 0.543 - ETA: 6s - loss: 0.9838 - acc: 0.542 - ETA: 5s - loss: 0.9818 - acc: 0.541 - ETA: 5s - loss: 0.9815 - acc: 0.540 - ETA: 5s - loss: 0.9810 - acc: 0.541 - ETA: 5s - loss: 0.9801 - acc: 0.541 - ETA: 5s - loss: 0.9784 - acc: 0.541 - ETA: 5s - loss: 0.9755 - acc: 0.544 - ETA: 5s - loss: 0.9768 - acc: 0.543 - ETA: 5s - loss: 0.9764 - acc: 0.543 - ETA: 5s - loss: 0.9780 - acc: 0.541 - ETA: 5s - loss: 0.9773 - acc: 0.542 - ETA: 5s - loss: 0.9747 - acc: 0.544 - ETA: 5s - loss: 0.9746 - acc: 0.545 - ETA: 5s - loss: 0.9739 - acc: 0.546 - ETA: 4s - loss: 0.9774 - acc: 0.542 - ETA: 4s - loss: 0.9762 - acc: 0.543 - ETA: 4s - loss: 0.9745 - acc: 0.543 - ETA: 4s - loss: 0.9753 - acc: 0.542 - ETA: 4s - loss: 0.9767 - acc: 0.540 - ETA: 4s - loss: 0.9791 - acc: 0.537 - ETA: 4s - loss: 0.9796 - acc: 0.536 - ETA: 4s - loss: 0.9803 - acc: 0.537 - ETA: 4s - loss: 0.9811 - acc: 0.536 - ETA: 4s - loss: 0.9812 - acc: 0.537 - ETA: 4s - loss: 0.9809 - acc: 0.537 - ETA: 4s - loss: 0.9803 - acc: 0.538 - ETA: 4s - loss: 0.9803 - acc: 0.538 - ETA: 4s - loss: 0.9801 - acc: 0.538 - ETA: 4s - loss: 0.9807 - acc: 0.537 - ETA: 4s - loss: 0.9807 - acc: 0.537 - ETA: 4s - loss: 0.9811 - acc: 0.536 - ETA: 4s - loss: 0.9791 - acc: 0.537 - ETA: 4s - loss: 0.9812 - acc: 0.534 - ETA: 4s - loss: 0.9823 - acc: 0.533 - ETA: 4s - loss: 0.9823 - acc: 0.534 - ETA: 4s - loss: 0.9817 - acc: 0.535 - ETA: 3s - loss: 0.9815 - acc: 0.535 - ETA: 3s - loss: 0.9812 - acc: 0.535 - ETA: 3s - loss: 0.9814 - acc: 0.534 - ETA: 3s - loss: 0.9804 - acc: 0.535 - ETA: 3s - loss: 0.9808 - acc: 0.535 - ETA: 3s - loss: 0.9814 - acc: 0.535 - ETA: 3s - loss: 0.9805 - acc: 0.536 - ETA: 3s - loss: 0.9812 - acc: 0.535 - ETA: 3s - loss: 0.9803 - acc: 0.537 - ETA: 3s - loss: 0.9790 - acc: 0.539 - ETA: 3s - loss: 0.9787 - acc: 0.538 - ETA: 3s - loss: 0.9773 - acc: 0.539 - ETA: 3s - loss: 0.9772 - acc: 0.539 - ETA: 3s - loss: 0.9747 - acc: 0.542 - ETA: 3s - loss: 0.9754 - acc: 0.541 - ETA: 3s - loss: 0.9761 - acc: 0.540 - ETA: 3s - loss: 0.9763 - acc: 0.540 - ETA: 3s - loss: 0.9764 - acc: 0.539 - ETA: 3s - loss: 0.9761 - acc: 0.540 - ETA: 3s - loss: 0.9755 - acc: 0.540 - ETA: 3s - loss: 0.9756 - acc: 0.540 - ETA: 3s - loss: 0.9749 - acc: 0.540 - ETA: 3s - loss: 0.9762 - acc: 0.539 - ETA: 3s - loss: 0.9766 - acc: 0.538 - ETA: 3s - loss: 0.9772 - acc: 0.538 - ETA: 3s - loss: 0.9771 - acc: 0.537 - ETA: 3s - loss: 0.9769 - acc: 0.538 - ETA: 3s - loss: 0.9768 - acc: 0.538 - ETA: 3s - loss: 0.9773 - acc: 0.537 - ETA: 3s - loss: 0.9769 - acc: 0.538 - ETA: 3s - loss: 0.9771 - acc: 0.538 - ETA: 3s - loss: 0.9773 - acc: 0.537 - ETA: 3s - loss: 0.9781 - acc: 0.536 - ETA: 3s - loss: 0.9779 - acc: 0.537 - ETA: 3s - loss: 0.9780 - acc: 0.536 - ETA: 3s - loss: 0.9769 - acc: 0.537 - ETA: 2s - loss: 0.9779 - acc: 0.536 - ETA: 2s - loss: 0.9789 - acc: 0.535 - ETA: 2s - loss: 0.9801 - acc: 0.534 - ETA: 2s - loss: 0.9809 - acc: 0.533 - ETA: 2s - loss: 0.9804 - acc: 0.534 - ETA: 2s - loss: 0.9799 - acc: 0.535 - ETA: 2s - loss: 0.9805 - acc: 0.534 - ETA: 2s - loss: 0.9809 - acc: 0.535 - ETA: 2s - loss: 0.9803 - acc: 0.535 - ETA: 2s - loss: 0.9799 - acc: 0.536 - ETA: 2s - loss: 0.9798 - acc: 0.536 - ETA: 2s - loss: 0.9799 - acc: 0.535 - ETA: 2s - loss: 0.9801 - acc: 0.535 - ETA: 2s - loss: 0.9806 - acc: 0.535 - ETA: 2s - loss: 0.9808 - acc: 0.534 - ETA: 1s - loss: 0.9804 - acc: 0.534 - ETA: 1s - loss: 0.9807 - acc: 0.534 - ETA: 1s - loss: 0.9810 - acc: 0.534 - ETA: 1s - loss: 0.9808 - acc: 0.534 - ETA: 1s - loss: 0.9813 - acc: 0.534 - ETA: 1s - loss: 0.9812 - acc: 0.534 - ETA: 1s - loss: 0.9802 - acc: 0.536 - ETA: 1s - loss: 0.9791 - acc: 0.537 - ETA: 1s - loss: 0.9797 - acc: 0.536 - ETA: 1s - loss: 0.9803 - acc: 0.536 - ETA: 1s - loss: 0.9801 - acc: 0.535 - ETA: 1s - loss: 0.9803 - acc: 0.535 - ETA: 1s - loss: 0.9800 - acc: 0.535 - ETA: 1s - loss: 0.9818 - acc: 0.534 - ETA: 1s - loss: 0.9820 - acc: 0.534 - ETA: 1s - loss: 0.9821 - acc: 0.533 - ETA: 1s - loss: 0.9820 - acc: 0.533 - ETA: 1s - loss: 0.9824 - acc: 0.533 - ETA: 1s - loss: 0.9830 - acc: 0.533 - ETA: 0s - loss: 0.9833 - acc: 0.532 - ETA: 0s - loss: 0.9835 - acc: 0.532 - ETA: 0s - loss: 0.9826 - acc: 0.533 - ETA: 0s - loss: 0.9828 - acc: 0.532 - ETA: 0s - loss: 0.9834 - acc: 0.532 - ETA: 0s - loss: 0.9837 - acc: 0.532 - ETA: 0s - loss: 0.9838 - acc: 0.532 - ETA: 0s - loss: 0.9841 - acc: 0.531 - ETA: 0s - loss: 0.9849 - acc: 0.531 - ETA: 0s - loss: 0.9854 - acc: 0.531 - 9s 1ms/sample - loss: 0.9855 - acc: 0.5307 - val_loss: 0.9743 - val_acc: 0.5343\n",
      "Epoch 9/10\n"
     ]
    },
    {
     "name": "stdout",
     "output_type": "stream",
     "text": [
      "7112/7112 [==============================] - ETA: 5s - loss: 0.8957 - acc: 0.600 - ETA: 9s - loss: 0.9855 - acc: 0.540 - ETA: 7s - loss: 0.9598 - acc: 0.583 - ETA: 10s - loss: 0.9486 - acc: 0.58 - ETA: 12s - loss: 0.9733 - acc: 0.57 - ETA: 13s - loss: 0.9620 - acc: 0.57 - ETA: 13s - loss: 0.9487 - acc: 0.60 - ETA: 11s - loss: 0.9593 - acc: 0.58 - ETA: 10s - loss: 0.9567 - acc: 0.58 - ETA: 10s - loss: 0.9520 - acc: 0.58 - ETA: 10s - loss: 0.9616 - acc: 0.57 - ETA: 10s - loss: 0.9753 - acc: 0.56 - ETA: 9s - loss: 0.9810 - acc: 0.5529 - ETA: 8s - loss: 0.9863 - acc: 0.547 - ETA: 8s - loss: 0.9864 - acc: 0.543 - ETA: 8s - loss: 0.9825 - acc: 0.545 - ETA: 8s - loss: 0.9826 - acc: 0.545 - ETA: 8s - loss: 0.9840 - acc: 0.544 - ETA: 8s - loss: 0.9819 - acc: 0.543 - ETA: 8s - loss: 0.9837 - acc: 0.543 - ETA: 8s - loss: 0.9829 - acc: 0.546 - ETA: 8s - loss: 0.9822 - acc: 0.545 - ETA: 8s - loss: 0.9818 - acc: 0.545 - ETA: 9s - loss: 0.9824 - acc: 0.542 - ETA: 9s - loss: 0.9852 - acc: 0.539 - ETA: 9s - loss: 0.9863 - acc: 0.536 - ETA: 9s - loss: 0.9892 - acc: 0.531 - ETA: 9s - loss: 0.9855 - acc: 0.533 - ETA: 9s - loss: 0.9858 - acc: 0.533 - ETA: 9s - loss: 0.9835 - acc: 0.535 - ETA: 9s - loss: 0.9850 - acc: 0.533 - ETA: 8s - loss: 0.9827 - acc: 0.534 - ETA: 8s - loss: 0.9809 - acc: 0.535 - ETA: 8s - loss: 0.9814 - acc: 0.534 - ETA: 8s - loss: 0.9771 - acc: 0.538 - ETA: 8s - loss: 0.9754 - acc: 0.538 - ETA: 8s - loss: 0.9749 - acc: 0.539 - ETA: 8s - loss: 0.9792 - acc: 0.534 - ETA: 7s - loss: 0.9774 - acc: 0.532 - ETA: 7s - loss: 0.9777 - acc: 0.535 - ETA: 7s - loss: 0.9798 - acc: 0.534 - ETA: 7s - loss: 0.9788 - acc: 0.536 - ETA: 7s - loss: 0.9820 - acc: 0.533 - ETA: 7s - loss: 0.9815 - acc: 0.534 - ETA: 7s - loss: 0.9821 - acc: 0.533 - ETA: 7s - loss: 0.9831 - acc: 0.533 - ETA: 7s - loss: 0.9793 - acc: 0.535 - ETA: 6s - loss: 0.9809 - acc: 0.534 - ETA: 6s - loss: 0.9798 - acc: 0.534 - ETA: 6s - loss: 0.9799 - acc: 0.535 - ETA: 6s - loss: 0.9816 - acc: 0.532 - ETA: 6s - loss: 0.9799 - acc: 0.534 - ETA: 6s - loss: 0.9800 - acc: 0.534 - ETA: 6s - loss: 0.9792 - acc: 0.535 - ETA: 6s - loss: 0.9829 - acc: 0.532 - ETA: 5s - loss: 0.9811 - acc: 0.533 - ETA: 5s - loss: 0.9827 - acc: 0.531 - ETA: 5s - loss: 0.9821 - acc: 0.531 - ETA: 6s - loss: 0.9823 - acc: 0.531 - ETA: 6s - loss: 0.9827 - acc: 0.531 - ETA: 5s - loss: 0.9842 - acc: 0.529 - ETA: 5s - loss: 0.9828 - acc: 0.530 - ETA: 5s - loss: 0.9816 - acc: 0.531 - ETA: 5s - loss: 0.9795 - acc: 0.533 - ETA: 5s - loss: 0.9792 - acc: 0.534 - ETA: 5s - loss: 0.9800 - acc: 0.531 - ETA: 5s - loss: 0.9818 - acc: 0.531 - ETA: 4s - loss: 0.9827 - acc: 0.529 - ETA: 4s - loss: 0.9816 - acc: 0.530 - ETA: 4s - loss: 0.9814 - acc: 0.531 - ETA: 4s - loss: 0.9816 - acc: 0.531 - ETA: 4s - loss: 0.9816 - acc: 0.531 - ETA: 4s - loss: 0.9817 - acc: 0.531 - ETA: 4s - loss: 0.9815 - acc: 0.531 - ETA: 4s - loss: 0.9818 - acc: 0.530 - ETA: 4s - loss: 0.9816 - acc: 0.530 - ETA: 4s - loss: 0.9815 - acc: 0.530 - ETA: 4s - loss: 0.9814 - acc: 0.530 - ETA: 4s - loss: 0.9823 - acc: 0.528 - ETA: 4s - loss: 0.9821 - acc: 0.527 - ETA: 4s - loss: 0.9822 - acc: 0.528 - ETA: 4s - loss: 0.9815 - acc: 0.527 - ETA: 4s - loss: 0.9792 - acc: 0.530 - ETA: 4s - loss: 0.9798 - acc: 0.529 - ETA: 3s - loss: 0.9788 - acc: 0.530 - ETA: 3s - loss: 0.9811 - acc: 0.529 - ETA: 3s - loss: 0.9837 - acc: 0.526 - ETA: 3s - loss: 0.9836 - acc: 0.526 - ETA: 3s - loss: 0.9834 - acc: 0.526 - ETA: 3s - loss: 0.9837 - acc: 0.527 - ETA: 3s - loss: 0.9850 - acc: 0.526 - ETA: 3s - loss: 0.9847 - acc: 0.526 - ETA: 3s - loss: 0.9848 - acc: 0.526 - ETA: 3s - loss: 0.9849 - acc: 0.526 - ETA: 3s - loss: 0.9851 - acc: 0.527 - ETA: 3s - loss: 0.9862 - acc: 0.526 - ETA: 2s - loss: 0.9866 - acc: 0.525 - ETA: 2s - loss: 0.9861 - acc: 0.526 - ETA: 2s - loss: 0.9856 - acc: 0.527 - ETA: 2s - loss: 0.9860 - acc: 0.527 - ETA: 2s - loss: 0.9881 - acc: 0.525 - ETA: 2s - loss: 0.9871 - acc: 0.526 - ETA: 2s - loss: 0.9869 - acc: 0.527 - ETA: 2s - loss: 0.9876 - acc: 0.526 - ETA: 2s - loss: 0.9874 - acc: 0.526 - ETA: 2s - loss: 0.9879 - acc: 0.526 - ETA: 2s - loss: 0.9893 - acc: 0.525 - ETA: 2s - loss: 0.9887 - acc: 0.525 - ETA: 2s - loss: 0.9885 - acc: 0.525 - ETA: 1s - loss: 0.9883 - acc: 0.526 - ETA: 1s - loss: 0.9875 - acc: 0.527 - ETA: 1s - loss: 0.9876 - acc: 0.527 - ETA: 1s - loss: 0.9877 - acc: 0.527 - ETA: 1s - loss: 0.9879 - acc: 0.527 - ETA: 1s - loss: 0.9879 - acc: 0.527 - ETA: 1s - loss: 0.9885 - acc: 0.526 - ETA: 1s - loss: 0.9881 - acc: 0.527 - ETA: 1s - loss: 0.9879 - acc: 0.527 - ETA: 1s - loss: 0.9889 - acc: 0.526 - ETA: 1s - loss: 0.9875 - acc: 0.528 - ETA: 1s - loss: 0.9893 - acc: 0.526 - ETA: 1s - loss: 0.9892 - acc: 0.525 - ETA: 0s - loss: 0.9885 - acc: 0.527 - ETA: 0s - loss: 0.9884 - acc: 0.526 - ETA: 0s - loss: 0.9876 - acc: 0.527 - ETA: 0s - loss: 0.9871 - acc: 0.527 - ETA: 0s - loss: 0.9872 - acc: 0.527 - ETA: 0s - loss: 0.9872 - acc: 0.527 - ETA: 0s - loss: 0.9869 - acc: 0.527 - ETA: 0s - loss: 0.9866 - acc: 0.527 - ETA: 0s - loss: 0.9869 - acc: 0.527 - ETA: 0s - loss: 0.9865 - acc: 0.527 - ETA: 0s - loss: 0.9860 - acc: 0.527 - ETA: 0s - loss: 0.9863 - acc: 0.527 - 8s 1ms/sample - loss: 0.9863 - acc: 0.5271 - val_loss: 0.9755 - val_acc: 0.5309\n",
      "Epoch 10/10\n"
     ]
    },
    {
     "name": "stdout",
     "output_type": "stream",
     "text": [
      "7112/7112 [==============================] - ETA: 7s - loss: 0.6861 - acc: 0.700 - ETA: 7s - loss: 1.0166 - acc: 0.483 - ETA: 6s - loss: 1.0458 - acc: 0.476 - ETA: 5s - loss: 1.0284 - acc: 0.500 - ETA: 6s - loss: 1.0298 - acc: 0.500 - ETA: 7s - loss: 1.0394 - acc: 0.482 - ETA: 9s - loss: 1.0288 - acc: 0.493 - ETA: 8s - loss: 1.0158 - acc: 0.508 - ETA: 8s - loss: 1.0186 - acc: 0.502 - ETA: 7s - loss: 1.0105 - acc: 0.515 - ETA: 6s - loss: 1.0097 - acc: 0.511 - ETA: 6s - loss: 1.0195 - acc: 0.498 - ETA: 6s - loss: 1.0238 - acc: 0.494 - ETA: 5s - loss: 1.0218 - acc: 0.500 - ETA: 5s - loss: 1.0161 - acc: 0.507 - ETA: 5s - loss: 1.0066 - acc: 0.513 - ETA: 5s - loss: 1.0073 - acc: 0.513 - ETA: 5s - loss: 1.0062 - acc: 0.514 - ETA: 4s - loss: 1.0051 - acc: 0.519 - ETA: 4s - loss: 1.0035 - acc: 0.522 - ETA: 4s - loss: 1.0043 - acc: 0.520 - ETA: 4s - loss: 1.0064 - acc: 0.518 - ETA: 4s - loss: 1.0064 - acc: 0.516 - ETA: 4s - loss: 1.0035 - acc: 0.520 - ETA: 4s - loss: 1.0020 - acc: 0.520 - ETA: 5s - loss: 1.0002 - acc: 0.522 - ETA: 5s - loss: 0.9958 - acc: 0.525 - ETA: 5s - loss: 0.9908 - acc: 0.527 - ETA: 4s - loss: 0.9884 - acc: 0.530 - ETA: 4s - loss: 0.9887 - acc: 0.528 - ETA: 4s - loss: 0.9868 - acc: 0.527 - ETA: 4s - loss: 0.9918 - acc: 0.524 - ETA: 4s - loss: 0.9913 - acc: 0.525 - ETA: 4s - loss: 0.9906 - acc: 0.525 - ETA: 4s - loss: 0.9904 - acc: 0.525 - ETA: 3s - loss: 0.9885 - acc: 0.528 - ETA: 3s - loss: 0.9889 - acc: 0.527 - ETA: 3s - loss: 0.9892 - acc: 0.526 - ETA: 3s - loss: 0.9895 - acc: 0.525 - ETA: 3s - loss: 0.9879 - acc: 0.526 - ETA: 3s - loss: 0.9889 - acc: 0.527 - ETA: 3s - loss: 0.9880 - acc: 0.528 - ETA: 3s - loss: 0.9856 - acc: 0.531 - ETA: 3s - loss: 0.9859 - acc: 0.531 - ETA: 3s - loss: 0.9867 - acc: 0.530 - ETA: 3s - loss: 0.9875 - acc: 0.530 - ETA: 3s - loss: 0.9878 - acc: 0.528 - ETA: 2s - loss: 0.9895 - acc: 0.527 - ETA: 2s - loss: 0.9900 - acc: 0.527 - ETA: 2s - loss: 0.9888 - acc: 0.528 - ETA: 2s - loss: 0.9892 - acc: 0.527 - ETA: 2s - loss: 0.9885 - acc: 0.528 - ETA: 2s - loss: 0.9860 - acc: 0.532 - ETA: 2s - loss: 0.9854 - acc: 0.532 - ETA: 2s - loss: 0.9856 - acc: 0.533 - ETA: 2s - loss: 0.9873 - acc: 0.532 - ETA: 2s - loss: 0.9874 - acc: 0.532 - ETA: 2s - loss: 0.9861 - acc: 0.534 - ETA: 2s - loss: 0.9865 - acc: 0.533 - ETA: 2s - loss: 0.9866 - acc: 0.532 - ETA: 2s - loss: 0.9857 - acc: 0.533 - ETA: 2s - loss: 0.9853 - acc: 0.533 - ETA: 1s - loss: 0.9855 - acc: 0.532 - ETA: 1s - loss: 0.9860 - acc: 0.531 - ETA: 1s - loss: 0.9867 - acc: 0.530 - ETA: 1s - loss: 0.9862 - acc: 0.530 - ETA: 1s - loss: 0.9858 - acc: 0.530 - ETA: 1s - loss: 0.9862 - acc: 0.529 - ETA: 1s - loss: 0.9861 - acc: 0.529 - ETA: 1s - loss: 0.9857 - acc: 0.529 - ETA: 1s - loss: 0.9857 - acc: 0.529 - ETA: 1s - loss: 0.9851 - acc: 0.530 - ETA: 1s - loss: 0.9842 - acc: 0.531 - ETA: 1s - loss: 0.9830 - acc: 0.532 - ETA: 1s - loss: 0.9820 - acc: 0.533 - ETA: 1s - loss: 0.9838 - acc: 0.531 - ETA: 1s - loss: 0.9843 - acc: 0.531 - ETA: 1s - loss: 0.9834 - acc: 0.532 - ETA: 1s - loss: 0.9830 - acc: 0.532 - ETA: 1s - loss: 0.9840 - acc: 0.530 - ETA: 1s - loss: 0.9848 - acc: 0.529 - ETA: 0s - loss: 0.9842 - acc: 0.530 - ETA: 0s - loss: 0.9837 - acc: 0.530 - ETA: 0s - loss: 0.9837 - acc: 0.530 - ETA: 0s - loss: 0.9839 - acc: 0.530 - ETA: 0s - loss: 0.9837 - acc: 0.530 - ETA: 0s - loss: 0.9846 - acc: 0.530 - ETA: 0s - loss: 0.9845 - acc: 0.530 - ETA: 0s - loss: 0.9845 - acc: 0.528 - ETA: 0s - loss: 0.9845 - acc: 0.529 - ETA: 0s - loss: 0.9844 - acc: 0.529 - ETA: 0s - loss: 0.9843 - acc: 0.529 - ETA: 0s - loss: 0.9842 - acc: 0.529 - ETA: 0s - loss: 0.9842 - acc: 0.528 - ETA: 0s - loss: 0.9844 - acc: 0.528 - ETA: 0s - loss: 0.9842 - acc: 0.528 - ETA: 0s - loss: 0.9845 - acc: 0.528 - ETA: 0s - loss: 0.9847 - acc: 0.528 - ETA: 0s - loss: 0.9846 - acc: 0.528 - ETA: 0s - loss: 0.9857 - acc: 0.527 - ETA: 0s - loss: 0.9855 - acc: 0.527 - ETA: 0s - loss: 0.9858 - acc: 0.528 - ETA: 0s - loss: 0.9862 - acc: 0.527 - ETA: 0s - loss: 0.9856 - acc: 0.528 - ETA: 0s - loss: 0.9850 - acc: 0.529 - ETA: 0s - loss: 0.9840 - acc: 0.529 - ETA: 0s - loss: 0.9853 - acc: 0.528 - ETA: 0s - loss: 0.9858 - acc: 0.528 - ETA: 0s - loss: 0.9855 - acc: 0.528 - ETA: 0s - loss: 0.9860 - acc: 0.528 - 7s 917us/sample - loss: 0.9861 - acc: 0.5284 - val_loss: 0.9711 - val_acc: 0.5334\n"
     ]
    },
    {
     "data": {
      "text/html": [
       "<span style=\"color:#4527A0\"><h1 style=\"font-size:18px\">Trial complete</h1></span>"
      ],
      "text/plain": [
       "<IPython.core.display.HTML object>"
      ]
     },
     "metadata": {},
     "output_type": "display_data"
    },
    {
     "data": {
      "text/html": [
       "<span style=\"color:#4527A0\"><h1 style=\"font-size:18px\">Trial summary</h1></span>"
      ],
      "text/plain": [
       "<IPython.core.display.HTML object>"
      ]
     },
     "metadata": {},
     "output_type": "display_data"
    },
    {
     "data": {
      "text/html": [
       "<span style=\"color:cyan\"> |-Trial ID: 937a8ba052e3d695824fa2b566ecce3e</span>"
      ],
      "text/plain": [
       "<IPython.core.display.HTML object>"
      ]
     },
     "metadata": {},
     "output_type": "display_data"
    },
    {
     "data": {
      "text/html": [
       "<span style=\"color:cyan\"> |-Score: 0.5364493727684021</span>"
      ],
      "text/plain": [
       "<IPython.core.display.HTML object>"
      ]
     },
     "metadata": {},
     "output_type": "display_data"
    },
    {
     "data": {
      "text/html": [
       "<span style=\"color:cyan\"> |-Best step: 0</span>"
      ],
      "text/plain": [
       "<IPython.core.display.HTML object>"
      ]
     },
     "metadata": {},
     "output_type": "display_data"
    },
    {
     "data": {
      "text/html": [
       "<span style=\"color:#7E57C2\"><h2 style=\"font-size:16px\">Hyperparameters:</h2></span>"
      ],
      "text/plain": [
       "<IPython.core.display.HTML object>"
      ]
     },
     "metadata": {},
     "output_type": "display_data"
    },
    {
     "data": {
      "text/html": [
       "<span style=\"color:cyan\"> |-layer_0_neurons: 170</span>"
      ],
      "text/plain": [
       "<IPython.core.display.HTML object>"
      ]
     },
     "metadata": {},
     "output_type": "display_data"
    },
    {
     "data": {
      "text/html": [
       "<span style=\"color:blue\"> |-layer_1_neurons: 170</span>"
      ],
      "text/plain": [
       "<IPython.core.display.HTML object>"
      ]
     },
     "metadata": {},
     "output_type": "display_data"
    },
    {
     "data": {
      "text/html": [
       "<span style=\"color:cyan\"> |-layer_2_neurons: 170</span>"
      ],
      "text/plain": [
       "<IPython.core.display.HTML object>"
      ]
     },
     "metadata": {},
     "output_type": "display_data"
    },
    {
     "data": {
      "text/html": [
       "<span style=\"color:blue\"> |-layer_3_neurons: 70</span>"
      ],
      "text/plain": [
       "<IPython.core.display.HTML object>"
      ]
     },
     "metadata": {},
     "output_type": "display_data"
    },
    {
     "data": {
      "text/html": [
       "<span style=\"color:cyan\"> |-n_input_neurons: 190</span>"
      ],
      "text/plain": [
       "<IPython.core.display.HTML object>"
      ]
     },
     "metadata": {},
     "output_type": "display_data"
    },
    {
     "data": {
      "text/html": [
       "<span style=\"color:blue\"> |-n_layers: 2</span>"
      ],
      "text/plain": [
       "<IPython.core.display.HTML object>"
      ]
     },
     "metadata": {},
     "output_type": "display_data"
    },
    {
     "name": "stdout",
     "output_type": "stream",
     "text": [
      "Train on 7112 samples, validate on 2332 samples\n",
      "Epoch 1/10\n",
      "7112/7112 [==============================] - ETA: 5:13 - loss: 3.0300 - acc: 0.400 - ETA: 26s - loss: 1.8274 - acc: 0.353 - ETA: 15s - loss: 1.5124 - acc: 0.36 - ETA: 10s - loss: 1.3675 - acc: 0.36 - ETA: 8s - loss: 1.2932 - acc: 0.3860 - ETA: 7s - loss: 1.2475 - acc: 0.398 - ETA: 6s - loss: 1.2168 - acc: 0.401 - ETA: 5s - loss: 1.1853 - acc: 0.417 - ETA: 5s - loss: 1.1662 - acc: 0.430 - ETA: 4s - loss: 1.1438 - acc: 0.446 - ETA: 4s - loss: 1.1353 - acc: 0.449 - ETA: 4s - loss: 1.1157 - acc: 0.465 - ETA: 4s - loss: 1.1164 - acc: 0.464 - ETA: 4s - loss: 1.1120 - acc: 0.466 - ETA: 4s - loss: 1.1112 - acc: 0.468 - ETA: 4s - loss: 1.1105 - acc: 0.468 - ETA: 4s - loss: 1.1033 - acc: 0.473 - ETA: 4s - loss: 1.0908 - acc: 0.480 - ETA: 4s - loss: 1.0916 - acc: 0.479 - ETA: 4s - loss: 1.0918 - acc: 0.478 - ETA: 4s - loss: 1.0896 - acc: 0.480 - ETA: 4s - loss: 1.0857 - acc: 0.484 - ETA: 4s - loss: 1.0778 - acc: 0.489 - ETA: 4s - loss: 1.0735 - acc: 0.492 - ETA: 4s - loss: 1.0767 - acc: 0.487 - ETA: 3s - loss: 1.0748 - acc: 0.487 - ETA: 3s - loss: 1.0730 - acc: 0.486 - ETA: 3s - loss: 1.0721 - acc: 0.486 - ETA: 3s - loss: 1.0700 - acc: 0.485 - ETA: 3s - loss: 1.0669 - acc: 0.487 - ETA: 3s - loss: 1.0635 - acc: 0.487 - ETA: 3s - loss: 1.0575 - acc: 0.492 - ETA: 2s - loss: 1.0579 - acc: 0.489 - ETA: 2s - loss: 1.0580 - acc: 0.489 - ETA: 2s - loss: 1.0562 - acc: 0.490 - ETA: 2s - loss: 1.0532 - acc: 0.493 - ETA: 2s - loss: 1.0519 - acc: 0.493 - ETA: 2s - loss: 1.0472 - acc: 0.498 - ETA: 2s - loss: 1.0471 - acc: 0.498 - ETA: 2s - loss: 1.0434 - acc: 0.503 - ETA: 2s - loss: 1.0444 - acc: 0.503 - ETA: 2s - loss: 1.0432 - acc: 0.504 - ETA: 2s - loss: 1.0413 - acc: 0.505 - ETA: 1s - loss: 1.0403 - acc: 0.505 - ETA: 1s - loss: 1.0393 - acc: 0.505 - ETA: 1s - loss: 1.0382 - acc: 0.504 - ETA: 1s - loss: 1.0371 - acc: 0.505 - ETA: 1s - loss: 1.0367 - acc: 0.505 - ETA: 1s - loss: 1.0352 - acc: 0.506 - ETA: 1s - loss: 1.0359 - acc: 0.505 - ETA: 1s - loss: 1.0354 - acc: 0.504 - ETA: 1s - loss: 1.0347 - acc: 0.504 - ETA: 1s - loss: 1.0327 - acc: 0.505 - ETA: 1s - loss: 1.0329 - acc: 0.504 - ETA: 1s - loss: 1.0326 - acc: 0.505 - ETA: 0s - loss: 1.0327 - acc: 0.504 - ETA: 0s - loss: 1.0324 - acc: 0.505 - ETA: 0s - loss: 1.0325 - acc: 0.505 - ETA: 0s - loss: 1.0321 - acc: 0.504 - ETA: 0s - loss: 1.0320 - acc: 0.503 - ETA: 0s - loss: 1.0322 - acc: 0.502 - ETA: 0s - loss: 1.0325 - acc: 0.502 - ETA: 0s - loss: 1.0309 - acc: 0.504 - ETA: 0s - loss: 1.0303 - acc: 0.505 - ETA: 0s - loss: 1.0293 - acc: 0.506 - ETA: 0s - loss: 1.0282 - acc: 0.506 - ETA: 0s - loss: 1.0280 - acc: 0.505 - ETA: 0s - loss: 1.0263 - acc: 0.507 - ETA: 0s - loss: 1.0254 - acc: 0.508 - ETA: 0s - loss: 1.0261 - acc: 0.507 - ETA: 0s - loss: 1.0263 - acc: 0.507 - 5s 668us/sample - loss: 1.0263 - acc: 0.5072 - val_loss: 0.9877 - val_acc: 0.5283\n",
      "Epoch 2/10\n",
      "7112/7112 [==============================] - ETA: 3s - loss: 1.1187 - acc: 0.500 - ETA: 3s - loss: 0.9700 - acc: 0.550 - ETA: 2s - loss: 0.9798 - acc: 0.538 - ETA: 2s - loss: 0.9812 - acc: 0.534 - ETA: 2s - loss: 0.9889 - acc: 0.528 - ETA: 2s - loss: 1.0005 - acc: 0.518 - ETA: 2s - loss: 0.9951 - acc: 0.522 - ETA: 2s - loss: 1.0011 - acc: 0.520 - ETA: 2s - loss: 1.0014 - acc: 0.521 - ETA: 2s - loss: 0.9992 - acc: 0.524 - ETA: 2s - loss: 0.9961 - acc: 0.527 - ETA: 2s - loss: 0.9969 - acc: 0.526 - ETA: 2s - loss: 0.9918 - acc: 0.531 - ETA: 2s - loss: 0.9926 - acc: 0.531 - ETA: 3s - loss: 0.9913 - acc: 0.532 - ETA: 3s - loss: 0.9935 - acc: 0.529 - ETA: 3s - loss: 0.9913 - acc: 0.530 - ETA: 2s - loss: 0.9943 - acc: 0.527 - ETA: 2s - loss: 0.9964 - acc: 0.525 - ETA: 2s - loss: 0.9989 - acc: 0.522 - ETA: 2s - loss: 0.9978 - acc: 0.520 - ETA: 2s - loss: 0.9998 - acc: 0.515 - ETA: 2s - loss: 1.0003 - acc: 0.516 - ETA: 2s - loss: 0.9993 - acc: 0.517 - ETA: 2s - loss: 0.9985 - acc: 0.518 - ETA: 2s - loss: 0.9991 - acc: 0.518 - ETA: 2s - loss: 0.9963 - acc: 0.520 - ETA: 2s - loss: 0.9956 - acc: 0.522 - ETA: 2s - loss: 0.9940 - acc: 0.522 - ETA: 2s - loss: 0.9953 - acc: 0.521 - ETA: 2s - loss: 0.9949 - acc: 0.522 - ETA: 2s - loss: 0.9952 - acc: 0.522 - ETA: 2s - loss: 0.9957 - acc: 0.521 - ETA: 1s - loss: 0.9932 - acc: 0.523 - ETA: 1s - loss: 0.9952 - acc: 0.522 - ETA: 1s - loss: 0.9942 - acc: 0.522 - ETA: 1s - loss: 0.9953 - acc: 0.520 - ETA: 1s - loss: 0.9957 - acc: 0.519 - ETA: 1s - loss: 0.9970 - acc: 0.517 - ETA: 1s - loss: 0.9969 - acc: 0.517 - ETA: 1s - loss: 0.9961 - acc: 0.517 - ETA: 1s - loss: 0.9961 - acc: 0.518 - ETA: 1s - loss: 0.9961 - acc: 0.518 - ETA: 1s - loss: 0.9968 - acc: 0.518 - ETA: 1s - loss: 0.9951 - acc: 0.520 - ETA: 1s - loss: 0.9933 - acc: 0.522 - ETA: 1s - loss: 0.9930 - acc: 0.522 - ETA: 0s - loss: 0.9917 - acc: 0.523 - ETA: 0s - loss: 0.9929 - acc: 0.522 - ETA: 0s - loss: 0.9930 - acc: 0.522 - ETA: 0s - loss: 0.9932 - acc: 0.522 - ETA: 0s - loss: 0.9933 - acc: 0.522 - ETA: 0s - loss: 0.9938 - acc: 0.522 - ETA: 0s - loss: 0.9931 - acc: 0.521 - ETA: 0s - loss: 0.9932 - acc: 0.521 - ETA: 0s - loss: 0.9926 - acc: 0.522 - ETA: 0s - loss: 0.9929 - acc: 0.521 - ETA: 0s - loss: 0.9939 - acc: 0.521 - ETA: 0s - loss: 0.9938 - acc: 0.521 - ETA: 0s - loss: 0.9930 - acc: 0.522 - ETA: 0s - loss: 0.9936 - acc: 0.522 - ETA: 0s - loss: 0.9935 - acc: 0.521 - ETA: 0s - loss: 0.9935 - acc: 0.522 - ETA: 0s - loss: 0.9937 - acc: 0.521 - ETA: 0s - loss: 0.9939 - acc: 0.521 - ETA: 0s - loss: 0.9935 - acc: 0.522 - 4s 534us/sample - loss: 0.9940 - acc: 0.5219 - val_loss: 1.0042 - val_acc: 0.5172\n",
      "Epoch 3/10\n"
     ]
    },
    {
     "name": "stdout",
     "output_type": "stream",
     "text": [
      "7112/7112 [==============================] - ETA: 16s - loss: 1.0763 - acc: 0.40 - ETA: 5s - loss: 0.9772 - acc: 0.5400 - ETA: 3s - loss: 1.0157 - acc: 0.508 - ETA: 3s - loss: 1.0026 - acc: 0.525 - ETA: 3s - loss: 1.0095 - acc: 0.507 - ETA: 3s - loss: 0.9910 - acc: 0.519 - ETA: 3s - loss: 1.0056 - acc: 0.513 - ETA: 3s - loss: 0.9986 - acc: 0.516 - ETA: 3s - loss: 0.9946 - acc: 0.516 - ETA: 4s - loss: 0.9923 - acc: 0.517 - ETA: 4s - loss: 0.9972 - acc: 0.520 - ETA: 3s - loss: 0.9833 - acc: 0.534 - ETA: 3s - loss: 0.9860 - acc: 0.529 - ETA: 3s - loss: 0.9913 - acc: 0.525 - ETA: 3s - loss: 0.9907 - acc: 0.527 - ETA: 3s - loss: 0.9916 - acc: 0.527 - ETA: 3s - loss: 0.9922 - acc: 0.525 - ETA: 3s - loss: 0.9902 - acc: 0.531 - ETA: 3s - loss: 0.9929 - acc: 0.529 - ETA: 3s - loss: 0.9916 - acc: 0.530 - ETA: 3s - loss: 0.9928 - acc: 0.529 - ETA: 3s - loss: 0.9924 - acc: 0.529 - ETA: 3s - loss: 0.9938 - acc: 0.528 - ETA: 3s - loss: 0.9880 - acc: 0.533 - ETA: 3s - loss: 0.9876 - acc: 0.533 - ETA: 2s - loss: 0.9900 - acc: 0.529 - ETA: 2s - loss: 0.9886 - acc: 0.527 - ETA: 2s - loss: 0.9915 - acc: 0.524 - ETA: 2s - loss: 0.9907 - acc: 0.523 - ETA: 2s - loss: 0.9888 - acc: 0.525 - ETA: 2s - loss: 0.9879 - acc: 0.526 - ETA: 2s - loss: 0.9877 - acc: 0.525 - ETA: 2s - loss: 0.9887 - acc: 0.526 - ETA: 2s - loss: 0.9884 - acc: 0.527 - ETA: 2s - loss: 0.9908 - acc: 0.526 - ETA: 2s - loss: 0.9917 - acc: 0.525 - ETA: 1s - loss: 0.9907 - acc: 0.527 - ETA: 1s - loss: 0.9870 - acc: 0.531 - ETA: 1s - loss: 0.9872 - acc: 0.531 - ETA: 1s - loss: 0.9864 - acc: 0.532 - ETA: 1s - loss: 0.9859 - acc: 0.533 - ETA: 1s - loss: 0.9875 - acc: 0.531 - ETA: 1s - loss: 0.9887 - acc: 0.529 - ETA: 1s - loss: 0.9890 - acc: 0.528 - ETA: 1s - loss: 0.9900 - acc: 0.527 - ETA: 1s - loss: 0.9910 - acc: 0.526 - ETA: 1s - loss: 0.9909 - acc: 0.525 - ETA: 1s - loss: 0.9902 - acc: 0.526 - ETA: 1s - loss: 0.9897 - acc: 0.527 - ETA: 1s - loss: 0.9892 - acc: 0.528 - ETA: 1s - loss: 0.9884 - acc: 0.528 - ETA: 1s - loss: 0.9898 - acc: 0.527 - ETA: 1s - loss: 0.9895 - acc: 0.527 - ETA: 1s - loss: 0.9899 - acc: 0.527 - ETA: 1s - loss: 0.9909 - acc: 0.525 - ETA: 0s - loss: 0.9924 - acc: 0.524 - ETA: 0s - loss: 0.9928 - acc: 0.523 - ETA: 0s - loss: 0.9935 - acc: 0.524 - ETA: 0s - loss: 0.9927 - acc: 0.525 - ETA: 0s - loss: 0.9916 - acc: 0.526 - ETA: 0s - loss: 0.9924 - acc: 0.526 - ETA: 0s - loss: 0.9945 - acc: 0.523 - ETA: 0s - loss: 0.9945 - acc: 0.524 - ETA: 0s - loss: 0.9950 - acc: 0.523 - ETA: 0s - loss: 0.9949 - acc: 0.524 - ETA: 0s - loss: 0.9945 - acc: 0.524 - ETA: 0s - loss: 0.9947 - acc: 0.524 - ETA: 0s - loss: 0.9943 - acc: 0.524 - ETA: 0s - loss: 0.9934 - acc: 0.525 - ETA: 0s - loss: 0.9934 - acc: 0.524 - ETA: 0s - loss: 0.9931 - acc: 0.524 - ETA: 0s - loss: 0.9927 - acc: 0.524 - 4s 581us/sample - loss: 0.9929 - acc: 0.5240 - val_loss: 0.9825 - val_acc: 0.5283\n",
      "Epoch 4/10\n",
      "7112/7112 [==============================] - ETA: 4s - loss: 0.8394 - acc: 0.700 - ETA: 3s - loss: 0.9520 - acc: 0.558 - ETA: 2s - loss: 0.9601 - acc: 0.553 - ETA: 2s - loss: 0.9790 - acc: 0.545 - ETA: 2s - loss: 0.9773 - acc: 0.540 - ETA: 2s - loss: 0.9780 - acc: 0.543 - ETA: 2s - loss: 0.9921 - acc: 0.531 - ETA: 2s - loss: 0.9864 - acc: 0.541 - ETA: 2s - loss: 0.9867 - acc: 0.541 - ETA: 2s - loss: 0.9846 - acc: 0.542 - ETA: 2s - loss: 0.9931 - acc: 0.531 - ETA: 2s - loss: 0.9920 - acc: 0.533 - ETA: 2s - loss: 0.9902 - acc: 0.535 - ETA: 2s - loss: 0.9908 - acc: 0.533 - ETA: 2s - loss: 0.9857 - acc: 0.539 - ETA: 2s - loss: 0.9902 - acc: 0.533 - ETA: 2s - loss: 0.9851 - acc: 0.538 - ETA: 2s - loss: 0.9842 - acc: 0.537 - ETA: 2s - loss: 0.9835 - acc: 0.538 - ETA: 2s - loss: 0.9878 - acc: 0.534 - ETA: 2s - loss: 0.9882 - acc: 0.534 - ETA: 2s - loss: 0.9901 - acc: 0.530 - ETA: 2s - loss: 0.9888 - acc: 0.532 - ETA: 2s - loss: 0.9889 - acc: 0.533 - ETA: 2s - loss: 0.9877 - acc: 0.533 - ETA: 2s - loss: 0.9883 - acc: 0.531 - ETA: 2s - loss: 0.9880 - acc: 0.530 - ETA: 2s - loss: 0.9879 - acc: 0.530 - ETA: 2s - loss: 0.9847 - acc: 0.534 - ETA: 2s - loss: 0.9858 - acc: 0.533 - ETA: 1s - loss: 0.9866 - acc: 0.532 - ETA: 1s - loss: 0.9861 - acc: 0.532 - ETA: 1s - loss: 0.9866 - acc: 0.531 - ETA: 1s - loss: 0.9851 - acc: 0.531 - ETA: 1s - loss: 0.9889 - acc: 0.528 - ETA: 1s - loss: 0.9890 - acc: 0.529 - ETA: 1s - loss: 0.9891 - acc: 0.530 - ETA: 1s - loss: 0.9900 - acc: 0.530 - ETA: 1s - loss: 0.9899 - acc: 0.530 - ETA: 1s - loss: 0.9884 - acc: 0.531 - ETA: 1s - loss: 0.9885 - acc: 0.530 - ETA: 1s - loss: 0.9861 - acc: 0.531 - ETA: 1s - loss: 0.9873 - acc: 0.528 - ETA: 1s - loss: 0.9867 - acc: 0.528 - ETA: 1s - loss: 0.9875 - acc: 0.528 - ETA: 1s - loss: 0.9879 - acc: 0.527 - ETA: 1s - loss: 0.9886 - acc: 0.526 - ETA: 0s - loss: 0.9884 - acc: 0.526 - ETA: 0s - loss: 0.9887 - acc: 0.526 - ETA: 0s - loss: 0.9895 - acc: 0.525 - ETA: 0s - loss: 0.9902 - acc: 0.524 - ETA: 0s - loss: 0.9904 - acc: 0.524 - ETA: 0s - loss: 0.9901 - acc: 0.524 - ETA: 0s - loss: 0.9907 - acc: 0.524 - ETA: 0s - loss: 0.9893 - acc: 0.525 - ETA: 0s - loss: 0.9900 - acc: 0.524 - ETA: 0s - loss: 0.9885 - acc: 0.525 - ETA: 0s - loss: 0.9886 - acc: 0.525 - ETA: 0s - loss: 0.9900 - acc: 0.524 - ETA: 0s - loss: 0.9895 - acc: 0.524 - ETA: 0s - loss: 0.9904 - acc: 0.523 - ETA: 0s - loss: 0.9905 - acc: 0.524 - ETA: 0s - loss: 0.9905 - acc: 0.523 - ETA: 0s - loss: 0.9902 - acc: 0.523 - ETA: 0s - loss: 0.9901 - acc: 0.523 - ETA: 0s - loss: 0.9905 - acc: 0.523 - ETA: 0s - loss: 0.9908 - acc: 0.522 - ETA: 0s - loss: 0.9907 - acc: 0.522 - ETA: 0s - loss: 0.9907 - acc: 0.523 - ETA: 0s - loss: 0.9915 - acc: 0.523 - 4s 574us/sample - loss: 0.9914 - acc: 0.5232 - val_loss: 0.9690 - val_acc: 0.5347\n",
      "Epoch 5/10\n"
     ]
    },
    {
     "name": "stdout",
     "output_type": "stream",
     "text": [
      "7112/7112 [==============================] - ETA: 3s - loss: 0.9825 - acc: 0.600 - ETA: 4s - loss: 0.9983 - acc: 0.537 - ETA: 4s - loss: 0.9408 - acc: 0.593 - ETA: 5s - loss: 0.9501 - acc: 0.581 - ETA: 4s - loss: 0.9552 - acc: 0.563 - ETA: 4s - loss: 0.9752 - acc: 0.544 - ETA: 3s - loss: 0.9757 - acc: 0.537 - ETA: 3s - loss: 0.9771 - acc: 0.536 - ETA: 3s - loss: 0.9795 - acc: 0.531 - ETA: 3s - loss: 0.9779 - acc: 0.534 - ETA: 3s - loss: 0.9741 - acc: 0.536 - ETA: 4s - loss: 0.9748 - acc: 0.535 - ETA: 3s - loss: 0.9690 - acc: 0.544 - ETA: 3s - loss: 0.9785 - acc: 0.536 - ETA: 3s - loss: 0.9784 - acc: 0.535 - ETA: 3s - loss: 0.9817 - acc: 0.533 - ETA: 3s - loss: 0.9805 - acc: 0.534 - ETA: 3s - loss: 0.9792 - acc: 0.536 - ETA: 3s - loss: 0.9810 - acc: 0.530 - ETA: 3s - loss: 0.9804 - acc: 0.531 - ETA: 3s - loss: 0.9812 - acc: 0.531 - ETA: 3s - loss: 0.9820 - acc: 0.529 - ETA: 2s - loss: 0.9821 - acc: 0.530 - ETA: 2s - loss: 0.9834 - acc: 0.530 - ETA: 2s - loss: 0.9853 - acc: 0.529 - ETA: 2s - loss: 0.9832 - acc: 0.531 - ETA: 2s - loss: 0.9850 - acc: 0.530 - ETA: 2s - loss: 0.9856 - acc: 0.530 - ETA: 2s - loss: 0.9846 - acc: 0.532 - ETA: 2s - loss: 0.9863 - acc: 0.530 - ETA: 2s - loss: 0.9877 - acc: 0.529 - ETA: 2s - loss: 0.9872 - acc: 0.528 - ETA: 2s - loss: 0.9856 - acc: 0.531 - ETA: 2s - loss: 0.9862 - acc: 0.530 - ETA: 2s - loss: 0.9866 - acc: 0.528 - ETA: 2s - loss: 0.9855 - acc: 0.529 - ETA: 2s - loss: 0.9850 - acc: 0.529 - ETA: 2s - loss: 0.9846 - acc: 0.531 - ETA: 2s - loss: 0.9836 - acc: 0.532 - ETA: 2s - loss: 0.9835 - acc: 0.531 - ETA: 2s - loss: 0.9824 - acc: 0.533 - ETA: 2s - loss: 0.9827 - acc: 0.533 - ETA: 2s - loss: 0.9837 - acc: 0.532 - ETA: 2s - loss: 0.9830 - acc: 0.533 - ETA: 2s - loss: 0.9825 - acc: 0.533 - ETA: 1s - loss: 0.9846 - acc: 0.530 - ETA: 1s - loss: 0.9845 - acc: 0.529 - ETA: 1s - loss: 0.9844 - acc: 0.529 - ETA: 1s - loss: 0.9845 - acc: 0.529 - ETA: 1s - loss: 0.9847 - acc: 0.529 - ETA: 1s - loss: 0.9838 - acc: 0.530 - ETA: 1s - loss: 0.9833 - acc: 0.530 - ETA: 1s - loss: 0.9843 - acc: 0.528 - ETA: 1s - loss: 0.9843 - acc: 0.527 - ETA: 1s - loss: 0.9864 - acc: 0.525 - ETA: 1s - loss: 0.9885 - acc: 0.522 - ETA: 1s - loss: 0.9877 - acc: 0.522 - ETA: 1s - loss: 0.9894 - acc: 0.521 - ETA: 1s - loss: 0.9906 - acc: 0.520 - ETA: 1s - loss: 0.9910 - acc: 0.519 - ETA: 1s - loss: 0.9907 - acc: 0.521 - ETA: 1s - loss: 0.9920 - acc: 0.520 - ETA: 1s - loss: 0.9910 - acc: 0.520 - ETA: 0s - loss: 0.9895 - acc: 0.522 - ETA: 0s - loss: 0.9906 - acc: 0.522 - ETA: 0s - loss: 0.9915 - acc: 0.520 - ETA: 0s - loss: 0.9907 - acc: 0.520 - ETA: 0s - loss: 0.9905 - acc: 0.520 - ETA: 0s - loss: 0.9902 - acc: 0.521 - ETA: 0s - loss: 0.9894 - acc: 0.522 - ETA: 0s - loss: 0.9901 - acc: 0.521 - ETA: 0s - loss: 0.9915 - acc: 0.520 - ETA: 0s - loss: 0.9907 - acc: 0.522 - ETA: 0s - loss: 0.9915 - acc: 0.520 - ETA: 0s - loss: 0.9919 - acc: 0.520 - ETA: 0s - loss: 0.9919 - acc: 0.521 - ETA: 0s - loss: 0.9901 - acc: 0.523 - ETA: 0s - loss: 0.9883 - acc: 0.524 - ETA: 0s - loss: 0.9898 - acc: 0.524 - 5s 645us/sample - loss: 0.9898 - acc: 0.5245 - val_loss: 0.9702 - val_acc: 0.5326\n",
      "Epoch 6/10\n",
      "7112/7112 [==============================] - ETA: 5s - loss: 0.9219 - acc: 0.600 - ETA: 3s - loss: 0.9575 - acc: 0.558 - ETA: 3s - loss: 0.9419 - acc: 0.560 - ETA: 3s - loss: 0.9963 - acc: 0.497 - ETA: 3s - loss: 0.9822 - acc: 0.518 - ETA: 3s - loss: 0.9793 - acc: 0.516 - ETA: 3s - loss: 0.9916 - acc: 0.506 - ETA: 3s - loss: 0.9950 - acc: 0.502 - ETA: 3s - loss: 0.9870 - acc: 0.508 - ETA: 3s - loss: 0.9842 - acc: 0.512 - ETA: 3s - loss: 0.9910 - acc: 0.507 - ETA: 3s - loss: 0.9909 - acc: 0.508 - ETA: 3s - loss: 0.9902 - acc: 0.512 - ETA: 2s - loss: 0.9884 - acc: 0.514 - ETA: 2s - loss: 0.9913 - acc: 0.508 - ETA: 2s - loss: 0.9906 - acc: 0.509 - ETA: 2s - loss: 0.9929 - acc: 0.508 - ETA: 2s - loss: 0.9918 - acc: 0.511 - ETA: 2s - loss: 0.9902 - acc: 0.512 - ETA: 2s - loss: 0.9898 - acc: 0.512 - ETA: 2s - loss: 0.9905 - acc: 0.512 - ETA: 2s - loss: 0.9908 - acc: 0.513 - ETA: 2s - loss: 0.9876 - acc: 0.514 - ETA: 2s - loss: 0.9849 - acc: 0.517 - ETA: 2s - loss: 0.9859 - acc: 0.518 - ETA: 2s - loss: 0.9862 - acc: 0.518 - ETA: 2s - loss: 0.9874 - acc: 0.516 - ETA: 2s - loss: 0.9878 - acc: 0.516 - ETA: 2s - loss: 0.9892 - acc: 0.515 - ETA: 2s - loss: 0.9898 - acc: 0.516 - ETA: 2s - loss: 0.9899 - acc: 0.516 - ETA: 2s - loss: 0.9905 - acc: 0.515 - ETA: 2s - loss: 0.9908 - acc: 0.515 - ETA: 2s - loss: 0.9910 - acc: 0.514 - ETA: 2s - loss: 0.9921 - acc: 0.514 - ETA: 2s - loss: 0.9921 - acc: 0.515 - ETA: 2s - loss: 0.9920 - acc: 0.516 - ETA: 2s - loss: 0.9913 - acc: 0.517 - ETA: 2s - loss: 0.9902 - acc: 0.518 - ETA: 2s - loss: 0.9896 - acc: 0.518 - ETA: 2s - loss: 0.9874 - acc: 0.521 - ETA: 1s - loss: 0.9874 - acc: 0.521 - ETA: 1s - loss: 0.9867 - acc: 0.523 - ETA: 1s - loss: 0.9845 - acc: 0.524 - ETA: 1s - loss: 0.9869 - acc: 0.523 - ETA: 1s - loss: 0.9887 - acc: 0.521 - ETA: 1s - loss: 0.9882 - acc: 0.523 - ETA: 1s - loss: 0.9879 - acc: 0.524 - ETA: 1s - loss: 0.9863 - acc: 0.526 - ETA: 1s - loss: 0.9853 - acc: 0.527 - ETA: 1s - loss: 0.9847 - acc: 0.528 - ETA: 1s - loss: 0.9854 - acc: 0.527 - ETA: 1s - loss: 0.9860 - acc: 0.527 - ETA: 1s - loss: 0.9853 - acc: 0.528 - ETA: 1s - loss: 0.9855 - acc: 0.528 - ETA: 1s - loss: 0.9865 - acc: 0.527 - ETA: 1s - loss: 0.9861 - acc: 0.528 - ETA: 1s - loss: 0.9867 - acc: 0.527 - ETA: 1s - loss: 0.9868 - acc: 0.526 - ETA: 1s - loss: 0.9890 - acc: 0.525 - ETA: 1s - loss: 0.9892 - acc: 0.524 - ETA: 1s - loss: 0.9892 - acc: 0.524 - ETA: 1s - loss: 0.9885 - acc: 0.524 - ETA: 1s - loss: 0.9880 - acc: 0.524 - ETA: 0s - loss: 0.9871 - acc: 0.526 - ETA: 0s - loss: 0.9882 - acc: 0.525 - ETA: 0s - loss: 0.9879 - acc: 0.526 - ETA: 0s - loss: 0.9877 - acc: 0.526 - ETA: 0s - loss: 0.9868 - acc: 0.527 - ETA: 0s - loss: 0.9870 - acc: 0.527 - ETA: 0s - loss: 0.9873 - acc: 0.527 - ETA: 0s - loss: 0.9875 - acc: 0.527 - ETA: 0s - loss: 0.9879 - acc: 0.527 - ETA: 0s - loss: 0.9885 - acc: 0.527 - ETA: 0s - loss: 0.9880 - acc: 0.528 - ETA: 0s - loss: 0.9886 - acc: 0.528 - ETA: 0s - loss: 0.9887 - acc: 0.527 - ETA: 0s - loss: 0.9887 - acc: 0.528 - ETA: 0s - loss: 0.9869 - acc: 0.530 - ETA: 0s - loss: 0.9874 - acc: 0.529 - ETA: 0s - loss: 0.9879 - acc: 0.529 - ETA: 0s - loss: 0.9891 - acc: 0.527 - ETA: 0s - loss: 0.9891 - acc: 0.528 - ETA: 0s - loss: 0.9884 - acc: 0.528 - ETA: 0s - loss: 0.9882 - acc: 0.528 - ETA: 0s - loss: 0.9879 - acc: 0.528 - ETA: 0s - loss: 0.9879 - acc: 0.528 - ETA: 0s - loss: 0.9867 - acc: 0.529 - ETA: 0s - loss: 0.9883 - acc: 0.528 - ETA: 0s - loss: 0.9878 - acc: 0.528 - 5s 739us/sample - loss: 0.9881 - acc: 0.5278 - val_loss: 0.9774 - val_acc: 0.5292\n",
      "Epoch 7/10\n"
     ]
    },
    {
     "name": "stdout",
     "output_type": "stream",
     "text": [
      "7112/7112 [==============================] - ETA: 7s - loss: 0.9817 - acc: 0.400 - ETA: 8s - loss: 1.0385 - acc: 0.500 - ETA: 17s - loss: 1.0328 - acc: 0.51 - ETA: 13s - loss: 1.0070 - acc: 0.51 - ETA: 14s - loss: 1.0077 - acc: 0.51 - ETA: 10s - loss: 0.9944 - acc: 0.51 - ETA: 9s - loss: 1.0080 - acc: 0.5143 - ETA: 8s - loss: 1.0076 - acc: 0.514 - ETA: 8s - loss: 1.0101 - acc: 0.515 - ETA: 7s - loss: 1.0047 - acc: 0.518 - ETA: 6s - loss: 0.9981 - acc: 0.526 - ETA: 7s - loss: 0.9995 - acc: 0.525 - ETA: 8s - loss: 0.9944 - acc: 0.529 - ETA: 7s - loss: 0.9976 - acc: 0.527 - ETA: 7s - loss: 0.9920 - acc: 0.530 - ETA: 7s - loss: 0.9959 - acc: 0.524 - ETA: 7s - loss: 0.9952 - acc: 0.524 - ETA: 7s - loss: 0.9954 - acc: 0.520 - ETA: 7s - loss: 1.0045 - acc: 0.511 - ETA: 7s - loss: 1.0049 - acc: 0.513 - ETA: 6s - loss: 1.0053 - acc: 0.516 - ETA: 6s - loss: 1.0030 - acc: 0.520 - ETA: 6s - loss: 1.0012 - acc: 0.526 - ETA: 6s - loss: 0.9950 - acc: 0.530 - ETA: 5s - loss: 0.9950 - acc: 0.529 - ETA: 5s - loss: 0.9913 - acc: 0.530 - ETA: 5s - loss: 0.9867 - acc: 0.533 - ETA: 5s - loss: 0.9897 - acc: 0.529 - ETA: 5s - loss: 0.9888 - acc: 0.531 - ETA: 5s - loss: 0.9893 - acc: 0.531 - ETA: 5s - loss: 0.9890 - acc: 0.532 - ETA: 5s - loss: 0.9881 - acc: 0.532 - ETA: 5s - loss: 0.9897 - acc: 0.531 - ETA: 5s - loss: 0.9934 - acc: 0.529 - ETA: 4s - loss: 0.9925 - acc: 0.529 - ETA: 4s - loss: 0.9926 - acc: 0.529 - ETA: 4s - loss: 0.9944 - acc: 0.525 - ETA: 4s - loss: 0.9964 - acc: 0.524 - ETA: 4s - loss: 0.9970 - acc: 0.522 - ETA: 4s - loss: 0.9939 - acc: 0.527 - ETA: 4s - loss: 0.9934 - acc: 0.527 - ETA: 4s - loss: 0.9931 - acc: 0.526 - ETA: 4s - loss: 0.9904 - acc: 0.528 - ETA: 3s - loss: 0.9897 - acc: 0.529 - ETA: 3s - loss: 0.9910 - acc: 0.527 - ETA: 3s - loss: 0.9916 - acc: 0.525 - ETA: 3s - loss: 0.9893 - acc: 0.527 - ETA: 3s - loss: 0.9891 - acc: 0.527 - ETA: 2s - loss: 0.9891 - acc: 0.528 - ETA: 2s - loss: 0.9899 - acc: 0.527 - ETA: 2s - loss: 0.9877 - acc: 0.529 - ETA: 2s - loss: 0.9863 - acc: 0.530 - ETA: 2s - loss: 0.9874 - acc: 0.529 - ETA: 2s - loss: 0.9890 - acc: 0.526 - ETA: 2s - loss: 0.9876 - acc: 0.529 - ETA: 2s - loss: 0.9888 - acc: 0.527 - ETA: 2s - loss: 0.9890 - acc: 0.527 - ETA: 2s - loss: 0.9904 - acc: 0.525 - ETA: 1s - loss: 0.9906 - acc: 0.526 - ETA: 1s - loss: 0.9880 - acc: 0.527 - ETA: 1s - loss: 0.9883 - acc: 0.528 - ETA: 1s - loss: 0.9910 - acc: 0.526 - ETA: 1s - loss: 0.9893 - acc: 0.527 - ETA: 1s - loss: 0.9887 - acc: 0.527 - ETA: 1s - loss: 0.9881 - acc: 0.527 - ETA: 1s - loss: 0.9889 - acc: 0.525 - ETA: 1s - loss: 0.9877 - acc: 0.527 - ETA: 1s - loss: 0.9866 - acc: 0.528 - ETA: 1s - loss: 0.9881 - acc: 0.527 - ETA: 1s - loss: 0.9883 - acc: 0.526 - ETA: 0s - loss: 0.9880 - acc: 0.526 - ETA: 0s - loss: 0.9879 - acc: 0.526 - ETA: 0s - loss: 0.9872 - acc: 0.526 - ETA: 0s - loss: 0.9871 - acc: 0.527 - ETA: 0s - loss: 0.9856 - acc: 0.529 - ETA: 0s - loss: 0.9848 - acc: 0.529 - ETA: 0s - loss: 0.9859 - acc: 0.528 - ETA: 0s - loss: 0.9860 - acc: 0.528 - ETA: 0s - loss: 0.9865 - acc: 0.527 - ETA: 0s - loss: 0.9858 - acc: 0.527 - ETA: 0s - loss: 0.9871 - acc: 0.526 - ETA: 0s - loss: 0.9878 - acc: 0.525 - ETA: 0s - loss: 0.9880 - acc: 0.525 - ETA: 0s - loss: 0.9878 - acc: 0.526 - ETA: 0s - loss: 0.9875 - acc: 0.526 - ETA: 0s - loss: 0.9879 - acc: 0.525 - ETA: 0s - loss: 0.9872 - acc: 0.526 - ETA: 0s - loss: 0.9871 - acc: 0.526 - ETA: 0s - loss: 0.9869 - acc: 0.526 - 5s 735us/sample - loss: 0.9873 - acc: 0.5257 - val_loss: 0.9742 - val_acc: 0.5313\n",
      "Epoch 8/10\n",
      "7112/7112 [==============================] - ETA: 4s - loss: 0.9348 - acc: 0.700 - ETA: 4s - loss: 0.8707 - acc: 0.633 - ETA: 4s - loss: 0.9384 - acc: 0.606 - ETA: 4s - loss: 0.9834 - acc: 0.576 - ETA: 4s - loss: 0.9848 - acc: 0.560 - ETA: 4s - loss: 0.9814 - acc: 0.547 - ETA: 4s - loss: 0.9813 - acc: 0.543 - ETA: 4s - loss: 0.9684 - acc: 0.548 - ETA: 4s - loss: 0.9690 - acc: 0.548 - ETA: 4s - loss: 0.9697 - acc: 0.552 - ETA: 3s - loss: 0.9729 - acc: 0.545 - ETA: 3s - loss: 0.9719 - acc: 0.543 - ETA: 3s - loss: 0.9773 - acc: 0.539 - ETA: 3s - loss: 0.9748 - acc: 0.542 - ETA: 3s - loss: 0.9815 - acc: 0.535 - ETA: 3s - loss: 0.9809 - acc: 0.534 - ETA: 3s - loss: 0.9862 - acc: 0.531 - ETA: 3s - loss: 0.9877 - acc: 0.532 - ETA: 3s - loss: 0.9855 - acc: 0.532 - ETA: 3s - loss: 0.9867 - acc: 0.533 - ETA: 3s - loss: 0.9840 - acc: 0.535 - ETA: 3s - loss: 0.9824 - acc: 0.535 - ETA: 3s - loss: 0.9831 - acc: 0.533 - ETA: 3s - loss: 0.9806 - acc: 0.534 - ETA: 2s - loss: 0.9772 - acc: 0.535 - ETA: 2s - loss: 0.9800 - acc: 0.533 - ETA: 2s - loss: 0.9810 - acc: 0.532 - ETA: 2s - loss: 0.9825 - acc: 0.530 - ETA: 2s - loss: 0.9826 - acc: 0.531 - ETA: 2s - loss: 0.9825 - acc: 0.530 - ETA: 2s - loss: 0.9826 - acc: 0.530 - ETA: 2s - loss: 0.9858 - acc: 0.527 - ETA: 2s - loss: 0.9827 - acc: 0.531 - ETA: 2s - loss: 0.9822 - acc: 0.532 - ETA: 2s - loss: 0.9864 - acc: 0.530 - ETA: 2s - loss: 0.9855 - acc: 0.530 - ETA: 2s - loss: 0.9859 - acc: 0.530 - ETA: 2s - loss: 0.9867 - acc: 0.530 - ETA: 2s - loss: 0.9875 - acc: 0.530 - ETA: 2s - loss: 0.9879 - acc: 0.528 - ETA: 2s - loss: 0.9897 - acc: 0.527 - ETA: 2s - loss: 0.9889 - acc: 0.528 - ETA: 2s - loss: 0.9904 - acc: 0.526 - ETA: 1s - loss: 0.9896 - acc: 0.526 - ETA: 1s - loss: 0.9900 - acc: 0.527 - ETA: 1s - loss: 0.9895 - acc: 0.527 - ETA: 1s - loss: 0.9895 - acc: 0.526 - ETA: 1s - loss: 0.9917 - acc: 0.523 - ETA: 1s - loss: 0.9915 - acc: 0.522 - ETA: 1s - loss: 0.9913 - acc: 0.522 - ETA: 1s - loss: 0.9911 - acc: 0.523 - ETA: 1s - loss: 0.9904 - acc: 0.523 - ETA: 1s - loss: 0.9904 - acc: 0.524 - ETA: 1s - loss: 0.9899 - acc: 0.524 - ETA: 1s - loss: 0.9899 - acc: 0.525 - ETA: 1s - loss: 0.9899 - acc: 0.525 - ETA: 1s - loss: 0.9889 - acc: 0.526 - ETA: 1s - loss: 0.9892 - acc: 0.526 - ETA: 1s - loss: 0.9881 - acc: 0.527 - ETA: 1s - loss: 0.9866 - acc: 0.529 - ETA: 1s - loss: 0.9867 - acc: 0.529 - ETA: 0s - loss: 0.9867 - acc: 0.528 - ETA: 0s - loss: 0.9879 - acc: 0.527 - ETA: 0s - loss: 0.9885 - acc: 0.526 - ETA: 0s - loss: 0.9880 - acc: 0.526 - ETA: 0s - loss: 0.9887 - acc: 0.525 - ETA: 0s - loss: 0.9889 - acc: 0.525 - ETA: 0s - loss: 0.9883 - acc: 0.526 - ETA: 0s - loss: 0.9882 - acc: 0.525 - ETA: 0s - loss: 0.9872 - acc: 0.526 - ETA: 0s - loss: 0.9872 - acc: 0.525 - ETA: 0s - loss: 0.9864 - acc: 0.526 - ETA: 0s - loss: 0.9873 - acc: 0.526 - ETA: 0s - loss: 0.9876 - acc: 0.525 - ETA: 0s - loss: 0.9857 - acc: 0.527 - ETA: 0s - loss: 0.9853 - acc: 0.527 - ETA: 0s - loss: 0.9854 - acc: 0.527 - ETA: 0s - loss: 0.9857 - acc: 0.527 - ETA: 0s - loss: 0.9859 - acc: 0.528 - ETA: 0s - loss: 0.9859 - acc: 0.528 - ETA: 0s - loss: 0.9857 - acc: 0.528 - ETA: 0s - loss: 0.9857 - acc: 0.528 - ETA: 0s - loss: 0.9862 - acc: 0.527 - ETA: 0s - loss: 0.9873 - acc: 0.528 - 5s 673us/sample - loss: 0.9873 - acc: 0.5280 - val_loss: 0.9749 - val_acc: 0.5343\n",
      "Epoch 9/10\n"
     ]
    },
    {
     "name": "stdout",
     "output_type": "stream",
     "text": [
      "7112/7112 [==============================] - ETA: 9s - loss: 0.9910 - acc: 0.600 - ETA: 7s - loss: 0.9592 - acc: 0.600 - ETA: 9s - loss: 0.9404 - acc: 0.600 - ETA: 14s - loss: 0.9404 - acc: 0.61 - ETA: 12s - loss: 0.9410 - acc: 0.59 - ETA: 8s - loss: 0.9617 - acc: 0.5560 - ETA: 6s - loss: 0.9584 - acc: 0.561 - ETA: 6s - loss: 0.9635 - acc: 0.558 - ETA: 5s - loss: 0.9598 - acc: 0.553 - ETA: 5s - loss: 0.9725 - acc: 0.546 - ETA: 5s - loss: 0.9709 - acc: 0.544 - ETA: 5s - loss: 0.9716 - acc: 0.544 - ETA: 5s - loss: 0.9698 - acc: 0.543 - ETA: 5s - loss: 0.9715 - acc: 0.542 - ETA: 4s - loss: 0.9651 - acc: 0.542 - ETA: 4s - loss: 0.9692 - acc: 0.537 - ETA: 4s - loss: 0.9705 - acc: 0.540 - ETA: 4s - loss: 0.9716 - acc: 0.541 - ETA: 4s - loss: 0.9708 - acc: 0.543 - ETA: 4s - loss: 0.9708 - acc: 0.547 - ETA: 4s - loss: 0.9764 - acc: 0.542 - ETA: 4s - loss: 0.9774 - acc: 0.537 - ETA: 4s - loss: 0.9770 - acc: 0.538 - ETA: 3s - loss: 0.9759 - acc: 0.538 - ETA: 3s - loss: 0.9746 - acc: 0.540 - ETA: 3s - loss: 0.9821 - acc: 0.535 - ETA: 3s - loss: 0.9848 - acc: 0.533 - ETA: 3s - loss: 0.9849 - acc: 0.533 - ETA: 3s - loss: 0.9836 - acc: 0.535 - ETA: 3s - loss: 0.9845 - acc: 0.533 - ETA: 3s - loss: 0.9827 - acc: 0.533 - ETA: 3s - loss: 0.9835 - acc: 0.532 - ETA: 3s - loss: 0.9799 - acc: 0.535 - ETA: 3s - loss: 0.9839 - acc: 0.531 - ETA: 3s - loss: 0.9848 - acc: 0.531 - ETA: 2s - loss: 0.9843 - acc: 0.530 - ETA: 2s - loss: 0.9836 - acc: 0.530 - ETA: 2s - loss: 0.9824 - acc: 0.531 - ETA: 2s - loss: 0.9812 - acc: 0.532 - ETA: 2s - loss: 0.9788 - acc: 0.533 - ETA: 2s - loss: 0.9824 - acc: 0.529 - ETA: 2s - loss: 0.9827 - acc: 0.529 - ETA: 2s - loss: 0.9831 - acc: 0.528 - ETA: 2s - loss: 0.9822 - acc: 0.530 - ETA: 2s - loss: 0.9835 - acc: 0.528 - ETA: 1s - loss: 0.9846 - acc: 0.527 - ETA: 1s - loss: 0.9861 - acc: 0.526 - ETA: 1s - loss: 0.9868 - acc: 0.525 - ETA: 1s - loss: 0.9862 - acc: 0.526 - ETA: 1s - loss: 0.9859 - acc: 0.527 - ETA: 1s - loss: 0.9860 - acc: 0.527 - ETA: 1s - loss: 0.9868 - acc: 0.526 - ETA: 1s - loss: 0.9872 - acc: 0.524 - ETA: 1s - loss: 0.9882 - acc: 0.525 - ETA: 1s - loss: 0.9887 - acc: 0.524 - ETA: 1s - loss: 0.9887 - acc: 0.524 - ETA: 1s - loss: 0.9886 - acc: 0.524 - ETA: 1s - loss: 0.9890 - acc: 0.524 - ETA: 1s - loss: 0.9892 - acc: 0.523 - ETA: 1s - loss: 0.9885 - acc: 0.524 - ETA: 0s - loss: 0.9854 - acc: 0.526 - ETA: 0s - loss: 0.9864 - acc: 0.524 - ETA: 0s - loss: 0.9850 - acc: 0.525 - ETA: 0s - loss: 0.9858 - acc: 0.524 - ETA: 0s - loss: 0.9836 - acc: 0.526 - ETA: 0s - loss: 0.9844 - acc: 0.526 - ETA: 0s - loss: 0.9831 - acc: 0.527 - ETA: 0s - loss: 0.9851 - acc: 0.526 - ETA: 0s - loss: 0.9867 - acc: 0.525 - ETA: 0s - loss: 0.9865 - acc: 0.525 - ETA: 0s - loss: 0.9860 - acc: 0.526 - 4s 578us/sample - loss: 0.9854 - acc: 0.5267 - val_loss: 0.9699 - val_acc: 0.5296\n",
      "Epoch 10/10\n",
      "7112/7112 [==============================] - ETA: 5s - loss: 1.0517 - acc: 0.300 - ETA: 3s - loss: 0.9976 - acc: 0.525 - ETA: 4s - loss: 1.0258 - acc: 0.494 - ETA: 7s - loss: 1.0228 - acc: 0.490 - ETA: 6s - loss: 1.0092 - acc: 0.507 - ETA: 6s - loss: 1.0018 - acc: 0.515 - ETA: 5s - loss: 0.9863 - acc: 0.527 - ETA: 5s - loss: 0.9927 - acc: 0.520 - ETA: 5s - loss: 0.9916 - acc: 0.527 - ETA: 5s - loss: 0.9923 - acc: 0.525 - ETA: 5s - loss: 0.9816 - acc: 0.530 - ETA: 4s - loss: 0.9766 - acc: 0.532 - ETA: 4s - loss: 0.9848 - acc: 0.528 - ETA: 4s - loss: 0.9874 - acc: 0.525 - ETA: 4s - loss: 0.9870 - acc: 0.524 - ETA: 4s - loss: 0.9883 - acc: 0.521 - ETA: 3s - loss: 0.9860 - acc: 0.522 - ETA: 3s - loss: 0.9820 - acc: 0.526 - ETA: 3s - loss: 0.9820 - acc: 0.526 - ETA: 3s - loss: 0.9803 - acc: 0.529 - ETA: 3s - loss: 0.9837 - acc: 0.528 - ETA: 3s - loss: 0.9823 - acc: 0.529 - ETA: 3s - loss: 0.9819 - acc: 0.530 - ETA: 3s - loss: 0.9838 - acc: 0.528 - ETA: 3s - loss: 0.9842 - acc: 0.530 - ETA: 3s - loss: 0.9830 - acc: 0.530 - ETA: 3s - loss: 0.9828 - acc: 0.530 - ETA: 3s - loss: 0.9840 - acc: 0.528 - ETA: 3s - loss: 0.9860 - acc: 0.525 - ETA: 3s - loss: 0.9866 - acc: 0.523 - ETA: 3s - loss: 0.9864 - acc: 0.524 - ETA: 3s - loss: 0.9875 - acc: 0.522 - ETA: 2s - loss: 0.9888 - acc: 0.520 - ETA: 2s - loss: 0.9870 - acc: 0.522 - ETA: 2s - loss: 0.9845 - acc: 0.527 - ETA: 2s - loss: 0.9844 - acc: 0.526 - ETA: 2s - loss: 0.9858 - acc: 0.525 - ETA: 2s - loss: 0.9842 - acc: 0.526 - ETA: 2s - loss: 0.9842 - acc: 0.526 - ETA: 2s - loss: 0.9860 - acc: 0.524 - ETA: 2s - loss: 0.9869 - acc: 0.523 - ETA: 2s - loss: 0.9871 - acc: 0.524 - ETA: 2s - loss: 0.9864 - acc: 0.524 - ETA: 2s - loss: 0.9863 - acc: 0.524 - ETA: 2s - loss: 0.9879 - acc: 0.523 - ETA: 2s - loss: 0.9881 - acc: 0.522 - ETA: 2s - loss: 0.9882 - acc: 0.523 - ETA: 2s - loss: 0.9885 - acc: 0.522 - ETA: 2s - loss: 0.9897 - acc: 0.521 - ETA: 2s - loss: 0.9902 - acc: 0.521 - ETA: 1s - loss: 0.9899 - acc: 0.522 - ETA: 1s - loss: 0.9892 - acc: 0.524 - ETA: 1s - loss: 0.9873 - acc: 0.527 - ETA: 1s - loss: 0.9885 - acc: 0.527 - ETA: 1s - loss: 0.9890 - acc: 0.527 - ETA: 1s - loss: 0.9900 - acc: 0.526 - ETA: 1s - loss: 0.9902 - acc: 0.526 - ETA: 1s - loss: 0.9899 - acc: 0.526 - ETA: 1s - loss: 0.9896 - acc: 0.527 - ETA: 1s - loss: 0.9895 - acc: 0.527 - ETA: 1s - loss: 0.9893 - acc: 0.527 - ETA: 1s - loss: 0.9890 - acc: 0.527 - ETA: 1s - loss: 0.9891 - acc: 0.527 - ETA: 1s - loss: 0.9885 - acc: 0.528 - ETA: 1s - loss: 0.9884 - acc: 0.529 - ETA: 1s - loss: 0.9891 - acc: 0.527 - ETA: 1s - loss: 0.9886 - acc: 0.529 - ETA: 1s - loss: 0.9893 - acc: 0.528 - ETA: 1s - loss: 0.9913 - acc: 0.527 - ETA: 1s - loss: 0.9909 - acc: 0.526 - ETA: 1s - loss: 0.9924 - acc: 0.525 - ETA: 1s - loss: 0.9929 - acc: 0.524 - ETA: 0s - loss: 0.9923 - acc: 0.525 - ETA: 0s - loss: 0.9917 - acc: 0.526 - ETA: 0s - loss: 0.9905 - acc: 0.527 - ETA: 0s - loss: 0.9901 - acc: 0.528 - ETA: 0s - loss: 0.9894 - acc: 0.528 - ETA: 0s - loss: 0.9871 - acc: 0.530 - ETA: 0s - loss: 0.9867 - acc: 0.529 - ETA: 0s - loss: 0.9872 - acc: 0.529 - ETA: 0s - loss: 0.9868 - acc: 0.529 - ETA: 0s - loss: 0.9868 - acc: 0.529 - ETA: 0s - loss: 0.9868 - acc: 0.528 - ETA: 0s - loss: 0.9862 - acc: 0.528 - ETA: 0s - loss: 0.9863 - acc: 0.528 - ETA: 0s - loss: 0.9859 - acc: 0.528 - ETA: 0s - loss: 0.9857 - acc: 0.528 - ETA: 0s - loss: 0.9852 - acc: 0.529 - 5s 704us/sample - loss: 0.9848 - acc: 0.5297 - val_loss: 0.9924 - val_acc: 0.5236\n"
     ]
    },
    {
     "data": {
      "text/html": [
       "<span style=\"color:#4527A0\"><h1 style=\"font-size:18px\">Trial complete</h1></span>"
      ],
      "text/plain": [
       "<IPython.core.display.HTML object>"
      ]
     },
     "metadata": {},
     "output_type": "display_data"
    },
    {
     "data": {
      "text/html": [
       "<span style=\"color:#4527A0\"><h1 style=\"font-size:18px\">Trial summary</h1></span>"
      ],
      "text/plain": [
       "<IPython.core.display.HTML object>"
      ]
     },
     "metadata": {},
     "output_type": "display_data"
    },
    {
     "data": {
      "text/html": [
       "<span style=\"color:cyan\"> |-Trial ID: 376a13bd901ad6d6a83cefef8d154a97</span>"
      ],
      "text/plain": [
       "<IPython.core.display.HTML object>"
      ]
     },
     "metadata": {},
     "output_type": "display_data"
    },
    {
     "data": {
      "text/html": [
       "<span style=\"color:cyan\"> |-Score: 0.5347341299057007</span>"
      ],
      "text/plain": [
       "<IPython.core.display.HTML object>"
      ]
     },
     "metadata": {},
     "output_type": "display_data"
    },
    {
     "data": {
      "text/html": [
       "<span style=\"color:cyan\"> |-Best step: 0</span>"
      ],
      "text/plain": [
       "<IPython.core.display.HTML object>"
      ]
     },
     "metadata": {},
     "output_type": "display_data"
    },
    {
     "data": {
      "text/html": [
       "<span style=\"color:#7E57C2\"><h2 style=\"font-size:16px\">Hyperparameters:</h2></span>"
      ],
      "text/plain": [
       "<IPython.core.display.HTML object>"
      ]
     },
     "metadata": {},
     "output_type": "display_data"
    },
    {
     "data": {
      "text/html": [
       "<span style=\"color:cyan\"> |-layer_0_neurons: 70</span>"
      ],
      "text/plain": [
       "<IPython.core.display.HTML object>"
      ]
     },
     "metadata": {},
     "output_type": "display_data"
    },
    {
     "data": {
      "text/html": [
       "<span style=\"color:blue\"> |-layer_1_neurons: 110</span>"
      ],
      "text/plain": [
       "<IPython.core.display.HTML object>"
      ]
     },
     "metadata": {},
     "output_type": "display_data"
    },
    {
     "data": {
      "text/html": [
       "<span style=\"color:cyan\"> |-layer_2_neurons: 50</span>"
      ],
      "text/plain": [
       "<IPython.core.display.HTML object>"
      ]
     },
     "metadata": {},
     "output_type": "display_data"
    },
    {
     "data": {
      "text/html": [
       "<span style=\"color:blue\"> |-layer_3_neurons: 70</span>"
      ],
      "text/plain": [
       "<IPython.core.display.HTML object>"
      ]
     },
     "metadata": {},
     "output_type": "display_data"
    },
    {
     "data": {
      "text/html": [
       "<span style=\"color:cyan\"> |-n_input_neurons: 70</span>"
      ],
      "text/plain": [
       "<IPython.core.display.HTML object>"
      ]
     },
     "metadata": {},
     "output_type": "display_data"
    },
    {
     "data": {
      "text/html": [
       "<span style=\"color:blue\"> |-n_layers: 3</span>"
      ],
      "text/plain": [
       "<IPython.core.display.HTML object>"
      ]
     },
     "metadata": {},
     "output_type": "display_data"
    },
    {
     "name": "stdout",
     "output_type": "stream",
     "text": [
      "Train on 7112 samples, validate on 2332 samples\n",
      "Epoch 1/10\n",
      "7112/7112 [==============================] - ETA: 6:28 - loss: 1.5675 - acc: 0.300 - ETA: 52s - loss: 1.2974 - acc: 0.325 - ETA: 25s - loss: 1.1939 - acc: 0.33 - ETA: 16s - loss: 1.1272 - acc: 0.40 - ETA: 12s - loss: 1.0975 - acc: 0.41 - ETA: 10s - loss: 1.0877 - acc: 0.43 - ETA: 8s - loss: 1.0755 - acc: 0.4446 - ETA: 7s - loss: 1.0622 - acc: 0.464 - ETA: 6s - loss: 1.0600 - acc: 0.469 - ETA: 6s - loss: 1.0545 - acc: 0.477 - ETA: 5s - loss: 1.0435 - acc: 0.490 - ETA: 5s - loss: 1.0413 - acc: 0.492 - ETA: 5s - loss: 1.0365 - acc: 0.497 - ETA: 5s - loss: 1.0394 - acc: 0.495 - ETA: 5s - loss: 1.0415 - acc: 0.489 - ETA: 5s - loss: 1.0433 - acc: 0.486 - ETA: 4s - loss: 1.0432 - acc: 0.483 - ETA: 4s - loss: 1.0390 - acc: 0.487 - ETA: 4s - loss: 1.0367 - acc: 0.489 - ETA: 4s - loss: 1.0407 - acc: 0.487 - ETA: 4s - loss: 1.0369 - acc: 0.492 - ETA: 4s - loss: 1.0383 - acc: 0.491 - ETA: 4s - loss: 1.0366 - acc: 0.492 - ETA: 4s - loss: 1.0349 - acc: 0.493 - ETA: 4s - loss: 1.0376 - acc: 0.490 - ETA: 4s - loss: 1.0365 - acc: 0.491 - ETA: 3s - loss: 1.0374 - acc: 0.488 - ETA: 3s - loss: 1.0362 - acc: 0.487 - ETA: 3s - loss: 1.0359 - acc: 0.486 - ETA: 3s - loss: 1.0358 - acc: 0.489 - ETA: 3s - loss: 1.0343 - acc: 0.492 - ETA: 2s - loss: 1.0337 - acc: 0.492 - ETA: 2s - loss: 1.0334 - acc: 0.493 - ETA: 2s - loss: 1.0329 - acc: 0.495 - ETA: 2s - loss: 1.0281 - acc: 0.499 - ETA: 2s - loss: 1.0273 - acc: 0.500 - ETA: 2s - loss: 1.0277 - acc: 0.500 - ETA: 2s - loss: 1.0274 - acc: 0.500 - ETA: 2s - loss: 1.0241 - acc: 0.502 - ETA: 2s - loss: 1.0211 - acc: 0.505 - ETA: 2s - loss: 1.0187 - acc: 0.507 - ETA: 2s - loss: 1.0195 - acc: 0.506 - ETA: 2s - loss: 1.0202 - acc: 0.504 - ETA: 1s - loss: 1.0204 - acc: 0.505 - ETA: 1s - loss: 1.0198 - acc: 0.504 - ETA: 1s - loss: 1.0183 - acc: 0.505 - ETA: 1s - loss: 1.0176 - acc: 0.507 - ETA: 1s - loss: 1.0176 - acc: 0.507 - ETA: 1s - loss: 1.0173 - acc: 0.507 - ETA: 1s - loss: 1.0169 - acc: 0.507 - ETA: 1s - loss: 1.0176 - acc: 0.506 - ETA: 1s - loss: 1.0167 - acc: 0.507 - ETA: 1s - loss: 1.0156 - acc: 0.508 - ETA: 0s - loss: 1.0147 - acc: 0.509 - ETA: 0s - loss: 1.0138 - acc: 0.510 - ETA: 0s - loss: 1.0136 - acc: 0.510 - ETA: 0s - loss: 1.0142 - acc: 0.509 - ETA: 0s - loss: 1.0139 - acc: 0.510 - ETA: 0s - loss: 1.0151 - acc: 0.508 - ETA: 0s - loss: 1.0143 - acc: 0.509 - ETA: 0s - loss: 1.0138 - acc: 0.509 - ETA: 0s - loss: 1.0137 - acc: 0.509 - ETA: 0s - loss: 1.0128 - acc: 0.511 - ETA: 0s - loss: 1.0118 - acc: 0.512 - ETA: 0s - loss: 1.0121 - acc: 0.510 - 5s 660us/sample - loss: 1.0120 - acc: 0.5110 - val_loss: 0.9802 - val_acc: 0.5283\n",
      "Epoch 2/10\n",
      "7112/7112 [==============================] - ETA: 5s - loss: 1.0913 - acc: 0.400 - ETA: 4s - loss: 0.9486 - acc: 0.520 - ETA: 3s - loss: 1.0021 - acc: 0.500 - ETA: 3s - loss: 1.0066 - acc: 0.500 - ETA: 2s - loss: 0.9977 - acc: 0.512 - ETA: 2s - loss: 0.9918 - acc: 0.522 - ETA: 2s - loss: 0.9850 - acc: 0.526 - ETA: 2s - loss: 0.9878 - acc: 0.532 - ETA: 2s - loss: 0.9837 - acc: 0.536 - ETA: 2s - loss: 0.9838 - acc: 0.533 - ETA: 2s - loss: 0.9872 - acc: 0.528 - ETA: 2s - loss: 0.9843 - acc: 0.534 - ETA: 2s - loss: 0.9872 - acc: 0.531 - ETA: 2s - loss: 0.9896 - acc: 0.529 - ETA: 2s - loss: 0.9887 - acc: 0.528 - ETA: 2s - loss: 0.9850 - acc: 0.532 - ETA: 1s - loss: 0.9847 - acc: 0.530 - ETA: 1s - loss: 0.9872 - acc: 0.528 - ETA: 2s - loss: 0.9876 - acc: 0.528 - ETA: 2s - loss: 0.9871 - acc: 0.528 - ETA: 2s - loss: 0.9853 - acc: 0.530 - ETA: 2s - loss: 0.9893 - acc: 0.525 - ETA: 2s - loss: 0.9894 - acc: 0.523 - ETA: 2s - loss: 0.9883 - acc: 0.523 - ETA: 2s - loss: 0.9901 - acc: 0.521 - ETA: 2s - loss: 0.9900 - acc: 0.521 - ETA: 2s - loss: 0.9894 - acc: 0.523 - ETA: 2s - loss: 0.9873 - acc: 0.525 - ETA: 2s - loss: 0.9881 - acc: 0.526 - ETA: 2s - loss: 0.9893 - acc: 0.524 - ETA: 2s - loss: 0.9902 - acc: 0.523 - ETA: 2s - loss: 0.9918 - acc: 0.521 - ETA: 2s - loss: 0.9909 - acc: 0.523 - ETA: 2s - loss: 0.9895 - acc: 0.524 - ETA: 2s - loss: 0.9885 - acc: 0.525 - ETA: 1s - loss: 0.9901 - acc: 0.524 - ETA: 1s - loss: 0.9898 - acc: 0.524 - ETA: 1s - loss: 0.9910 - acc: 0.524 - ETA: 1s - loss: 0.9931 - acc: 0.522 - ETA: 1s - loss: 0.9929 - acc: 0.522 - ETA: 1s - loss: 0.9922 - acc: 0.523 - ETA: 1s - loss: 0.9946 - acc: 0.521 - ETA: 1s - loss: 0.9953 - acc: 0.520 - ETA: 1s - loss: 0.9953 - acc: 0.519 - ETA: 1s - loss: 0.9950 - acc: 0.520 - ETA: 1s - loss: 0.9947 - acc: 0.521 - ETA: 1s - loss: 0.9950 - acc: 0.521 - ETA: 1s - loss: 0.9954 - acc: 0.521 - ETA: 1s - loss: 0.9949 - acc: 0.522 - ETA: 1s - loss: 0.9962 - acc: 0.521 - ETA: 1s - loss: 0.9963 - acc: 0.521 - ETA: 1s - loss: 0.9969 - acc: 0.521 - ETA: 1s - loss: 0.9970 - acc: 0.520 - ETA: 1s - loss: 0.9964 - acc: 0.521 - ETA: 1s - loss: 0.9964 - acc: 0.521 - ETA: 1s - loss: 0.9955 - acc: 0.522 - ETA: 1s - loss: 0.9958 - acc: 0.522 - ETA: 1s - loss: 0.9961 - acc: 0.521 - ETA: 1s - loss: 0.9960 - acc: 0.521 - ETA: 1s - loss: 0.9963 - acc: 0.521 - ETA: 0s - loss: 0.9977 - acc: 0.519 - ETA: 0s - loss: 0.9971 - acc: 0.520 - ETA: 0s - loss: 0.9976 - acc: 0.520 - ETA: 0s - loss: 0.9977 - acc: 0.520 - ETA: 0s - loss: 0.9965 - acc: 0.521 - ETA: 0s - loss: 0.9984 - acc: 0.519 - ETA: 0s - loss: 0.9993 - acc: 0.518 - ETA: 0s - loss: 1.0000 - acc: 0.518 - ETA: 0s - loss: 0.9994 - acc: 0.518 - ETA: 0s - loss: 0.9974 - acc: 0.520 - ETA: 0s - loss: 0.9983 - acc: 0.519 - ETA: 0s - loss: 0.9986 - acc: 0.519 - ETA: 0s - loss: 0.9988 - acc: 0.518 - ETA: 0s - loss: 0.9991 - acc: 0.518 - ETA: 0s - loss: 0.9982 - acc: 0.519 - ETA: 0s - loss: 0.9986 - acc: 0.518 - ETA: 0s - loss: 0.9985 - acc: 0.518 - 4s 616us/sample - loss: 0.9977 - acc: 0.5197 - val_loss: 0.9803 - val_acc: 0.5262\n",
      "Epoch 3/10\n",
      "7112/7112 [==============================] - ETA: 8s - loss: 0.8354 - acc: 0.600 - ETA: 4s - loss: 0.9437 - acc: 0.530 - ETA: 3s - loss: 0.9142 - acc: 0.588 - ETA: 2s - loss: 0.9592 - acc: 0.564 - ETA: 2s - loss: 0.9696 - acc: 0.548 - ETA: 2s - loss: 0.9633 - acc: 0.558 - ETA: 2s - loss: 0.9813 - acc: 0.545 - ETA: 2s - loss: 0.9893 - acc: 0.539 - ETA: 2s - loss: 0.9941 - acc: 0.533 - ETA: 2s - loss: 1.0005 - acc: 0.522 - ETA: 2s - loss: 1.0028 - acc: 0.521 - ETA: 2s - loss: 1.0016 - acc: 0.520 - ETA: 1s - loss: 1.0014 - acc: 0.519 - ETA: 2s - loss: 1.0007 - acc: 0.520 - ETA: 2s - loss: 1.0007 - acc: 0.519 - ETA: 2s - loss: 0.9942 - acc: 0.524 - ETA: 2s - loss: 0.9930 - acc: 0.525 - ETA: 2s - loss: 0.9873 - acc: 0.528 - ETA: 1s - loss: 0.9854 - acc: 0.532 - ETA: 1s - loss: 0.9859 - acc: 0.531 - ETA: 1s - loss: 0.9873 - acc: 0.530 - ETA: 1s - loss: 0.9879 - acc: 0.530 - ETA: 1s - loss: 0.9871 - acc: 0.532 - ETA: 1s - loss: 0.9865 - acc: 0.534 - ETA: 1s - loss: 0.9866 - acc: 0.532 - ETA: 1s - loss: 0.9867 - acc: 0.532 - ETA: 1s - loss: 0.9875 - acc: 0.531 - ETA: 1s - loss: 0.9875 - acc: 0.530 - ETA: 1s - loss: 0.9871 - acc: 0.530 - ETA: 1s - loss: 0.9854 - acc: 0.532 - ETA: 1s - loss: 0.9855 - acc: 0.533 - ETA: 1s - loss: 0.9833 - acc: 0.534 - ETA: 1s - loss: 0.9840 - acc: 0.533 - ETA: 1s - loss: 0.9870 - acc: 0.530 - ETA: 1s - loss: 0.9873 - acc: 0.530 - ETA: 1s - loss: 0.9876 - acc: 0.529 - ETA: 1s - loss: 0.9881 - acc: 0.529 - ETA: 1s - loss: 0.9890 - acc: 0.527 - ETA: 0s - loss: 0.9881 - acc: 0.529 - ETA: 0s - loss: 0.9887 - acc: 0.528 - ETA: 0s - loss: 0.9897 - acc: 0.527 - ETA: 0s - loss: 0.9881 - acc: 0.528 - ETA: 0s - loss: 0.9874 - acc: 0.529 - ETA: 0s - loss: 0.9882 - acc: 0.527 - ETA: 0s - loss: 0.9885 - acc: 0.527 - ETA: 0s - loss: 0.9888 - acc: 0.528 - ETA: 0s - loss: 0.9900 - acc: 0.526 - ETA: 0s - loss: 0.9908 - acc: 0.526 - ETA: 0s - loss: 0.9895 - acc: 0.528 - ETA: 0s - loss: 0.9902 - acc: 0.527 - ETA: 0s - loss: 0.9901 - acc: 0.527 - ETA: 0s - loss: 0.9903 - acc: 0.527 - ETA: 0s - loss: 0.9899 - acc: 0.527 - ETA: 0s - loss: 0.9903 - acc: 0.527 - ETA: 0s - loss: 0.9913 - acc: 0.527 - ETA: 0s - loss: 0.9905 - acc: 0.527 - ETA: 0s - loss: 0.9907 - acc: 0.527 - ETA: 0s - loss: 0.9905 - acc: 0.528 - ETA: 0s - loss: 0.9915 - acc: 0.527 - ETA: 0s - loss: 0.9918 - acc: 0.526 - 4s 502us/sample - loss: 0.9924 - acc: 0.5262 - val_loss: 0.9787 - val_acc: 0.5373\n",
      "Epoch 4/10\n"
     ]
    },
    {
     "name": "stdout",
     "output_type": "stream",
     "text": [
      "7112/7112 [==============================] - ETA: 2s - loss: 0.9434 - acc: 0.600 - ETA: 2s - loss: 0.9555 - acc: 0.584 - ETA: 1s - loss: 0.9390 - acc: 0.581 - ETA: 2s - loss: 0.9443 - acc: 0.576 - ETA: 2s - loss: 0.9496 - acc: 0.571 - ETA: 2s - loss: 0.9580 - acc: 0.553 - ETA: 2s - loss: 0.9743 - acc: 0.533 - ETA: 2s - loss: 0.9702 - acc: 0.539 - ETA: 2s - loss: 0.9699 - acc: 0.537 - ETA: 2s - loss: 0.9719 - acc: 0.534 - ETA: 2s - loss: 0.9732 - acc: 0.533 - ETA: 1s - loss: 0.9760 - acc: 0.530 - ETA: 1s - loss: 0.9784 - acc: 0.532 - ETA: 1s - loss: 0.9792 - acc: 0.534 - ETA: 1s - loss: 0.9816 - acc: 0.530 - ETA: 1s - loss: 0.9804 - acc: 0.532 - ETA: 1s - loss: 0.9820 - acc: 0.532 - ETA: 1s - loss: 0.9856 - acc: 0.528 - ETA: 1s - loss: 0.9864 - acc: 0.526 - ETA: 1s - loss: 0.9855 - acc: 0.527 - ETA: 1s - loss: 0.9806 - acc: 0.532 - ETA: 1s - loss: 0.9816 - acc: 0.532 - ETA: 1s - loss: 0.9804 - acc: 0.533 - ETA: 1s - loss: 0.9817 - acc: 0.533 - ETA: 1s - loss: 0.9826 - acc: 0.534 - ETA: 1s - loss: 0.9818 - acc: 0.534 - ETA: 1s - loss: 0.9803 - acc: 0.535 - ETA: 1s - loss: 0.9814 - acc: 0.535 - ETA: 1s - loss: 0.9800 - acc: 0.538 - ETA: 1s - loss: 0.9821 - acc: 0.536 - ETA: 1s - loss: 0.9816 - acc: 0.535 - ETA: 1s - loss: 0.9831 - acc: 0.532 - ETA: 1s - loss: 0.9819 - acc: 0.534 - ETA: 1s - loss: 0.9829 - acc: 0.533 - ETA: 1s - loss: 0.9833 - acc: 0.533 - ETA: 1s - loss: 0.9834 - acc: 0.533 - ETA: 1s - loss: 0.9830 - acc: 0.533 - ETA: 1s - loss: 0.9839 - acc: 0.532 - ETA: 0s - loss: 0.9850 - acc: 0.532 - ETA: 0s - loss: 0.9850 - acc: 0.532 - ETA: 0s - loss: 0.9853 - acc: 0.532 - ETA: 0s - loss: 0.9866 - acc: 0.531 - ETA: 0s - loss: 0.9876 - acc: 0.530 - ETA: 0s - loss: 0.9882 - acc: 0.530 - ETA: 0s - loss: 0.9883 - acc: 0.530 - ETA: 0s - loss: 0.9873 - acc: 0.530 - ETA: 0s - loss: 0.9890 - acc: 0.528 - ETA: 0s - loss: 0.9888 - acc: 0.528 - ETA: 0s - loss: 0.9877 - acc: 0.530 - ETA: 0s - loss: 0.9870 - acc: 0.530 - ETA: 0s - loss: 0.9881 - acc: 0.530 - ETA: 0s - loss: 0.9889 - acc: 0.529 - ETA: 0s - loss: 0.9881 - acc: 0.530 - ETA: 0s - loss: 0.9891 - acc: 0.530 - ETA: 0s - loss: 0.9905 - acc: 0.528 - ETA: 0s - loss: 0.9908 - acc: 0.527 - 3s 447us/sample - loss: 0.9908 - acc: 0.5277 - val_loss: 0.9857 - val_acc: 0.5309\n",
      "Epoch 5/10\n",
      "7112/7112 [==============================] - ETA: 7s - loss: 0.9663 - acc: 0.400 - ETA: 3s - loss: 0.9586 - acc: 0.566 - ETA: 2s - loss: 0.9383 - acc: 0.603 - ETA: 2s - loss: 0.9813 - acc: 0.553 - ETA: 2s - loss: 0.9815 - acc: 0.537 - ETA: 2s - loss: 0.9775 - acc: 0.540 - ETA: 2s - loss: 0.9900 - acc: 0.524 - ETA: 2s - loss: 0.9906 - acc: 0.520 - ETA: 2s - loss: 0.9906 - acc: 0.524 - ETA: 2s - loss: 0.9962 - acc: 0.517 - ETA: 2s - loss: 0.9921 - acc: 0.520 - ETA: 2s - loss: 0.9935 - acc: 0.520 - ETA: 2s - loss: 0.9892 - acc: 0.521 - ETA: 2s - loss: 0.9945 - acc: 0.516 - ETA: 2s - loss: 0.9944 - acc: 0.515 - ETA: 2s - loss: 0.9906 - acc: 0.519 - ETA: 1s - loss: 0.9945 - acc: 0.520 - ETA: 1s - loss: 0.9948 - acc: 0.518 - ETA: 1s - loss: 0.9942 - acc: 0.519 - ETA: 1s - loss: 0.9927 - acc: 0.521 - ETA: 1s - loss: 0.9910 - acc: 0.521 - ETA: 1s - loss: 0.9902 - acc: 0.523 - ETA: 1s - loss: 0.9884 - acc: 0.527 - ETA: 1s - loss: 0.9887 - acc: 0.527 - ETA: 1s - loss: 0.9879 - acc: 0.527 - ETA: 1s - loss: 0.9875 - acc: 0.528 - ETA: 1s - loss: 0.9879 - acc: 0.528 - ETA: 1s - loss: 0.9876 - acc: 0.528 - ETA: 1s - loss: 0.9867 - acc: 0.530 - ETA: 0s - loss: 0.9905 - acc: 0.526 - ETA: 0s - loss: 0.9904 - acc: 0.525 - ETA: 0s - loss: 0.9901 - acc: 0.526 - ETA: 0s - loss: 0.9897 - acc: 0.526 - ETA: 0s - loss: 0.9904 - acc: 0.525 - ETA: 0s - loss: 0.9890 - acc: 0.527 - ETA: 0s - loss: 0.9872 - acc: 0.528 - ETA: 0s - loss: 0.9866 - acc: 0.529 - ETA: 0s - loss: 0.9846 - acc: 0.531 - ETA: 0s - loss: 0.9822 - acc: 0.532 - ETA: 0s - loss: 0.9834 - acc: 0.531 - ETA: 0s - loss: 0.9849 - acc: 0.530 - ETA: 0s - loss: 0.9877 - acc: 0.526 - ETA: 0s - loss: 0.9873 - acc: 0.527 - ETA: 0s - loss: 0.9882 - acc: 0.526 - ETA: 0s - loss: 0.9890 - acc: 0.526 - ETA: 0s - loss: 0.9893 - acc: 0.525 - ETA: 0s - loss: 0.9893 - acc: 0.525 - ETA: 0s - loss: 0.9895 - acc: 0.524 - 3s 405us/sample - loss: 0.9894 - acc: 0.5246 - val_loss: 0.9720 - val_acc: 0.5326\n",
      "Epoch 6/10\n",
      "7112/7112 [==============================] - ETA: 3s - loss: 1.1783 - acc: 0.400 - ETA: 4s - loss: 0.9992 - acc: 0.500 - ETA: 2s - loss: 1.0059 - acc: 0.476 - ETA: 2s - loss: 0.9837 - acc: 0.518 - ETA: 2s - loss: 1.0024 - acc: 0.514 - ETA: 2s - loss: 0.9975 - acc: 0.516 - ETA: 2s - loss: 0.9850 - acc: 0.530 - ETA: 2s - loss: 0.9914 - acc: 0.527 - ETA: 2s - loss: 0.9934 - acc: 0.523 - ETA: 2s - loss: 0.9908 - acc: 0.526 - ETA: 1s - loss: 0.9910 - acc: 0.520 - ETA: 1s - loss: 0.9902 - acc: 0.522 - ETA: 1s - loss: 0.9913 - acc: 0.522 - ETA: 1s - loss: 0.9897 - acc: 0.521 - ETA: 1s - loss: 0.9875 - acc: 0.525 - ETA: 1s - loss: 0.9900 - acc: 0.524 - ETA: 1s - loss: 0.9889 - acc: 0.524 - ETA: 1s - loss: 0.9870 - acc: 0.525 - ETA: 1s - loss: 0.9862 - acc: 0.526 - ETA: 1s - loss: 0.9865 - acc: 0.526 - ETA: 1s - loss: 0.9838 - acc: 0.529 - ETA: 1s - loss: 0.9833 - acc: 0.530 - ETA: 1s - loss: 0.9845 - acc: 0.529 - ETA: 1s - loss: 0.9847 - acc: 0.529 - ETA: 1s - loss: 0.9844 - acc: 0.531 - ETA: 1s - loss: 0.9853 - acc: 0.531 - ETA: 1s - loss: 0.9859 - acc: 0.530 - ETA: 1s - loss: 0.9882 - acc: 0.528 - ETA: 1s - loss: 0.9850 - acc: 0.532 - ETA: 1s - loss: 0.9872 - acc: 0.531 - ETA: 0s - loss: 0.9867 - acc: 0.531 - ETA: 0s - loss: 0.9857 - acc: 0.533 - ETA: 0s - loss: 0.9854 - acc: 0.533 - ETA: 0s - loss: 0.9858 - acc: 0.533 - ETA: 0s - loss: 0.9851 - acc: 0.533 - ETA: 0s - loss: 0.9853 - acc: 0.533 - ETA: 0s - loss: 0.9856 - acc: 0.533 - ETA: 0s - loss: 0.9875 - acc: 0.532 - ETA: 0s - loss: 0.9868 - acc: 0.532 - ETA: 0s - loss: 0.9882 - acc: 0.530 - ETA: 0s - loss: 0.9897 - acc: 0.529 - ETA: 0s - loss: 0.9883 - acc: 0.530 - ETA: 0s - loss: 0.9895 - acc: 0.529 - ETA: 0s - loss: 0.9880 - acc: 0.531 - ETA: 0s - loss: 0.9880 - acc: 0.531 - ETA: 0s - loss: 0.9883 - acc: 0.530 - ETA: 0s - loss: 0.9891 - acc: 0.528 - ETA: 0s - loss: 0.9892 - acc: 0.528 - ETA: 0s - loss: 0.9902 - acc: 0.527 - ETA: 0s - loss: 0.9898 - acc: 0.528 - 3s 403us/sample - loss: 0.9899 - acc: 0.5284 - val_loss: 0.9819 - val_acc: 0.5322\n",
      "Epoch 7/10\n"
     ]
    },
    {
     "name": "stdout",
     "output_type": "stream",
     "text": [
      "7112/7112 [==============================] - ETA: 5s - loss: 1.1715 - acc: 0.400 - ETA: 3s - loss: 1.0083 - acc: 0.466 - ETA: 2s - loss: 1.0156 - acc: 0.478 - ETA: 2s - loss: 1.0311 - acc: 0.460 - ETA: 2s - loss: 1.0159 - acc: 0.478 - ETA: 2s - loss: 1.0069 - acc: 0.494 - ETA: 2s - loss: 1.0035 - acc: 0.498 - ETA: 2s - loss: 0.9986 - acc: 0.504 - ETA: 2s - loss: 1.0011 - acc: 0.500 - ETA: 2s - loss: 1.0001 - acc: 0.501 - ETA: 2s - loss: 0.9990 - acc: 0.502 - ETA: 2s - loss: 0.9995 - acc: 0.502 - ETA: 2s - loss: 0.9952 - acc: 0.506 - ETA: 2s - loss: 0.9956 - acc: 0.506 - ETA: 2s - loss: 0.9948 - acc: 0.508 - ETA: 2s - loss: 0.9943 - acc: 0.510 - ETA: 2s - loss: 0.9932 - acc: 0.514 - ETA: 2s - loss: 0.9897 - acc: 0.518 - ETA: 2s - loss: 0.9912 - acc: 0.519 - ETA: 1s - loss: 0.9921 - acc: 0.520 - ETA: 1s - loss: 0.9917 - acc: 0.522 - ETA: 1s - loss: 0.9901 - acc: 0.523 - ETA: 1s - loss: 0.9890 - acc: 0.523 - ETA: 1s - loss: 0.9878 - acc: 0.524 - ETA: 1s - loss: 0.9884 - acc: 0.524 - ETA: 1s - loss: 0.9882 - acc: 0.524 - ETA: 1s - loss: 0.9885 - acc: 0.524 - ETA: 1s - loss: 0.9894 - acc: 0.523 - ETA: 1s - loss: 0.9901 - acc: 0.522 - ETA: 1s - loss: 0.9910 - acc: 0.521 - ETA: 1s - loss: 0.9924 - acc: 0.518 - ETA: 1s - loss: 0.9909 - acc: 0.521 - ETA: 1s - loss: 0.9918 - acc: 0.520 - ETA: 1s - loss: 0.9924 - acc: 0.519 - ETA: 1s - loss: 0.9909 - acc: 0.521 - ETA: 1s - loss: 0.9923 - acc: 0.520 - ETA: 1s - loss: 0.9919 - acc: 0.522 - ETA: 1s - loss: 0.9917 - acc: 0.521 - ETA: 1s - loss: 0.9905 - acc: 0.523 - ETA: 1s - loss: 0.9882 - acc: 0.526 - ETA: 0s - loss: 0.9889 - acc: 0.526 - ETA: 0s - loss: 0.9889 - acc: 0.524 - ETA: 0s - loss: 0.9869 - acc: 0.526 - ETA: 0s - loss: 0.9876 - acc: 0.526 - ETA: 0s - loss: 0.9882 - acc: 0.524 - ETA: 0s - loss: 0.9869 - acc: 0.526 - ETA: 0s - loss: 0.9860 - acc: 0.527 - ETA: 0s - loss: 0.9864 - acc: 0.526 - ETA: 0s - loss: 0.9860 - acc: 0.526 - ETA: 0s - loss: 0.9863 - acc: 0.525 - ETA: 0s - loss: 0.9863 - acc: 0.526 - ETA: 0s - loss: 0.9867 - acc: 0.525 - ETA: 0s - loss: 0.9866 - acc: 0.525 - ETA: 0s - loss: 0.9873 - acc: 0.524 - ETA: 0s - loss: 0.9881 - acc: 0.524 - ETA: 0s - loss: 0.9879 - acc: 0.524 - ETA: 0s - loss: 0.9872 - acc: 0.525 - ETA: 0s - loss: 0.9868 - acc: 0.525 - 3s 466us/sample - loss: 0.9881 - acc: 0.5238 - val_loss: 0.9796 - val_acc: 0.5317\n",
      "Epoch 8/10\n",
      "7112/7112 [==============================] - ETA: 3s - loss: 1.0428 - acc: 0.700 - ETA: 2s - loss: 1.0576 - acc: 0.458 - ETA: 2s - loss: 1.0035 - acc: 0.521 - ETA: 2s - loss: 1.0099 - acc: 0.510 - ETA: 2s - loss: 1.0004 - acc: 0.517 - ETA: 2s - loss: 0.9996 - acc: 0.512 - ETA: 2s - loss: 0.9938 - acc: 0.516 - ETA: 1s - loss: 0.9996 - acc: 0.515 - ETA: 1s - loss: 1.0020 - acc: 0.512 - ETA: 1s - loss: 0.9990 - acc: 0.515 - ETA: 1s - loss: 0.9937 - acc: 0.521 - ETA: 1s - loss: 0.9910 - acc: 0.523 - ETA: 1s - loss: 0.9901 - acc: 0.521 - ETA: 1s - loss: 0.9880 - acc: 0.523 - ETA: 1s - loss: 0.9905 - acc: 0.518 - ETA: 1s - loss: 0.9888 - acc: 0.522 - ETA: 1s - loss: 0.9856 - acc: 0.526 - ETA: 1s - loss: 0.9843 - acc: 0.527 - ETA: 1s - loss: 0.9841 - acc: 0.525 - ETA: 1s - loss: 0.9844 - acc: 0.524 - ETA: 1s - loss: 0.9845 - acc: 0.523 - ETA: 1s - loss: 0.9824 - acc: 0.526 - ETA: 1s - loss: 0.9826 - acc: 0.526 - ETA: 1s - loss: 0.9823 - acc: 0.525 - ETA: 1s - loss: 0.9826 - acc: 0.524 - ETA: 1s - loss: 0.9866 - acc: 0.520 - ETA: 1s - loss: 0.9875 - acc: 0.520 - ETA: 1s - loss: 0.9876 - acc: 0.520 - ETA: 1s - loss: 0.9872 - acc: 0.520 - ETA: 1s - loss: 0.9875 - acc: 0.520 - ETA: 1s - loss: 0.9883 - acc: 0.520 - ETA: 0s - loss: 0.9881 - acc: 0.521 - ETA: 0s - loss: 0.9892 - acc: 0.521 - ETA: 0s - loss: 0.9873 - acc: 0.522 - ETA: 0s - loss: 0.9867 - acc: 0.524 - ETA: 0s - loss: 0.9845 - acc: 0.526 - ETA: 0s - loss: 0.9846 - acc: 0.526 - ETA: 0s - loss: 0.9851 - acc: 0.526 - ETA: 0s - loss: 0.9858 - acc: 0.525 - ETA: 0s - loss: 0.9866 - acc: 0.524 - ETA: 0s - loss: 0.9865 - acc: 0.524 - ETA: 0s - loss: 0.9872 - acc: 0.523 - ETA: 0s - loss: 0.9872 - acc: 0.523 - ETA: 0s - loss: 0.9872 - acc: 0.523 - ETA: 0s - loss: 0.9871 - acc: 0.524 - ETA: 0s - loss: 0.9869 - acc: 0.524 - ETA: 0s - loss: 0.9870 - acc: 0.524 - ETA: 0s - loss: 0.9854 - acc: 0.526 - ETA: 0s - loss: 0.9849 - acc: 0.527 - ETA: 0s - loss: 0.9858 - acc: 0.526 - ETA: 0s - loss: 0.9869 - acc: 0.526 - ETA: 0s - loss: 0.9861 - acc: 0.527 - ETA: 0s - loss: 0.9852 - acc: 0.527 - ETA: 0s - loss: 0.9862 - acc: 0.526 - 3s 492us/sample - loss: 0.9857 - acc: 0.5267 - val_loss: 0.9718 - val_acc: 0.5352\n",
      "Epoch 9/10\n",
      "7112/7112 [==============================] - ETA: 4s - loss: 1.0941 - acc: 0.400 - ETA: 3s - loss: 1.0349 - acc: 0.469 - ETA: 2s - loss: 0.9940 - acc: 0.510 - ETA: 2s - loss: 0.9691 - acc: 0.530 - ETA: 2s - loss: 0.9852 - acc: 0.521 - ETA: 2s - loss: 0.9826 - acc: 0.527 - ETA: 2s - loss: 0.9873 - acc: 0.513 - ETA: 2s - loss: 0.9721 - acc: 0.526 - ETA: 2s - loss: 0.9816 - acc: 0.522 - ETA: 2s - loss: 0.9876 - acc: 0.518 - ETA: 2s - loss: 0.9880 - acc: 0.521 - ETA: 2s - loss: 0.9848 - acc: 0.528 - ETA: 2s - loss: 0.9842 - acc: 0.529 - ETA: 2s - loss: 0.9863 - acc: 0.527 - ETA: 2s - loss: 0.9886 - acc: 0.525 - ETA: 2s - loss: 0.9894 - acc: 0.524 - ETA: 2s - loss: 0.9904 - acc: 0.523 - ETA: 2s - loss: 0.9922 - acc: 0.521 - ETA: 2s - loss: 0.9924 - acc: 0.521 - ETA: 2s - loss: 0.9931 - acc: 0.520 - ETA: 2s - loss: 0.9913 - acc: 0.523 - ETA: 2s - loss: 0.9920 - acc: 0.522 - ETA: 2s - loss: 0.9951 - acc: 0.519 - ETA: 2s - loss: 0.9982 - acc: 0.515 - ETA: 2s - loss: 0.9971 - acc: 0.516 - ETA: 2s - loss: 0.9967 - acc: 0.516 - ETA: 2s - loss: 0.9961 - acc: 0.516 - ETA: 2s - loss: 0.9954 - acc: 0.517 - ETA: 2s - loss: 0.9977 - acc: 0.515 - ETA: 2s - loss: 0.9987 - acc: 0.514 - ETA: 2s - loss: 0.9991 - acc: 0.514 - ETA: 2s - loss: 0.9994 - acc: 0.512 - ETA: 1s - loss: 0.9987 - acc: 0.511 - ETA: 1s - loss: 0.9984 - acc: 0.512 - ETA: 1s - loss: 0.9980 - acc: 0.514 - ETA: 1s - loss: 0.9995 - acc: 0.512 - ETA: 1s - loss: 0.9999 - acc: 0.512 - ETA: 1s - loss: 1.0000 - acc: 0.512 - ETA: 1s - loss: 0.9991 - acc: 0.512 - ETA: 1s - loss: 0.9978 - acc: 0.514 - ETA: 1s - loss: 0.9971 - acc: 0.514 - ETA: 1s - loss: 0.9954 - acc: 0.515 - ETA: 1s - loss: 0.9937 - acc: 0.517 - ETA: 1s - loss: 0.9929 - acc: 0.518 - ETA: 1s - loss: 0.9914 - acc: 0.518 - ETA: 1s - loss: 0.9913 - acc: 0.518 - ETA: 1s - loss: 0.9912 - acc: 0.517 - ETA: 1s - loss: 0.9925 - acc: 0.516 - ETA: 1s - loss: 0.9923 - acc: 0.516 - ETA: 1s - loss: 0.9916 - acc: 0.517 - ETA: 0s - loss: 0.9926 - acc: 0.516 - ETA: 0s - loss: 0.9914 - acc: 0.517 - ETA: 0s - loss: 0.9912 - acc: 0.517 - ETA: 0s - loss: 0.9892 - acc: 0.520 - ETA: 0s - loss: 0.9896 - acc: 0.519 - ETA: 0s - loss: 0.9888 - acc: 0.521 - ETA: 0s - loss: 0.9886 - acc: 0.521 - ETA: 0s - loss: 0.9887 - acc: 0.520 - ETA: 0s - loss: 0.9879 - acc: 0.521 - ETA: 0s - loss: 0.9870 - acc: 0.522 - ETA: 0s - loss: 0.9864 - acc: 0.522 - ETA: 0s - loss: 0.9860 - acc: 0.523 - ETA: 0s - loss: 0.9866 - acc: 0.523 - ETA: 0s - loss: 0.9869 - acc: 0.522 - ETA: 0s - loss: 0.9878 - acc: 0.522 - ETA: 0s - loss: 0.9881 - acc: 0.522 - ETA: 0s - loss: 0.9873 - acc: 0.522 - ETA: 0s - loss: 0.9875 - acc: 0.522 - ETA: 0s - loss: 0.9875 - acc: 0.522 - 4s 590us/sample - loss: 0.9875 - acc: 0.5228 - val_loss: 0.9695 - val_acc: 0.5326\n",
      "Epoch 10/10\n"
     ]
    },
    {
     "name": "stdout",
     "output_type": "stream",
     "text": [
      "7112/7112 [==============================] - ETA: 4s - loss: 1.1274 - acc: 0.500 - ETA: 5s - loss: 1.0626 - acc: 0.528 - ETA: 4s - loss: 1.0488 - acc: 0.511 - ETA: 4s - loss: 1.0168 - acc: 0.533 - ETA: 3s - loss: 1.0027 - acc: 0.534 - ETA: 3s - loss: 1.0061 - acc: 0.518 - ETA: 3s - loss: 1.0049 - acc: 0.524 - ETA: 3s - loss: 0.9897 - acc: 0.543 - ETA: 3s - loss: 0.9901 - acc: 0.539 - ETA: 3s - loss: 0.9927 - acc: 0.540 - ETA: 2s - loss: 0.9871 - acc: 0.546 - ETA: 2s - loss: 0.9780 - acc: 0.554 - ETA: 2s - loss: 0.9800 - acc: 0.554 - ETA: 2s - loss: 0.9820 - acc: 0.548 - ETA: 2s - loss: 0.9853 - acc: 0.541 - ETA: 2s - loss: 0.9874 - acc: 0.538 - ETA: 2s - loss: 0.9865 - acc: 0.538 - ETA: 2s - loss: 0.9855 - acc: 0.538 - ETA: 2s - loss: 0.9878 - acc: 0.535 - ETA: 2s - loss: 0.9867 - acc: 0.535 - ETA: 2s - loss: 0.9861 - acc: 0.535 - ETA: 2s - loss: 0.9861 - acc: 0.532 - ETA: 2s - loss: 0.9830 - acc: 0.535 - ETA: 2s - loss: 0.9797 - acc: 0.538 - ETA: 2s - loss: 0.9789 - acc: 0.539 - ETA: 2s - loss: 0.9769 - acc: 0.541 - ETA: 1s - loss: 0.9762 - acc: 0.541 - ETA: 1s - loss: 0.9759 - acc: 0.540 - ETA: 1s - loss: 0.9743 - acc: 0.542 - ETA: 1s - loss: 0.9761 - acc: 0.542 - ETA: 1s - loss: 0.9792 - acc: 0.537 - ETA: 1s - loss: 0.9822 - acc: 0.535 - ETA: 1s - loss: 0.9832 - acc: 0.533 - ETA: 1s - loss: 0.9836 - acc: 0.533 - ETA: 1s - loss: 0.9826 - acc: 0.534 - ETA: 1s - loss: 0.9839 - acc: 0.533 - ETA: 1s - loss: 0.9846 - acc: 0.533 - ETA: 1s - loss: 0.9854 - acc: 0.531 - ETA: 1s - loss: 0.9846 - acc: 0.532 - ETA: 1s - loss: 0.9844 - acc: 0.532 - ETA: 1s - loss: 0.9858 - acc: 0.530 - ETA: 1s - loss: 0.9855 - acc: 0.531 - ETA: 1s - loss: 0.9835 - acc: 0.533 - ETA: 1s - loss: 0.9837 - acc: 0.532 - ETA: 1s - loss: 0.9841 - acc: 0.532 - ETA: 0s - loss: 0.9840 - acc: 0.532 - ETA: 0s - loss: 0.9845 - acc: 0.531 - ETA: 0s - loss: 0.9856 - acc: 0.530 - ETA: 0s - loss: 0.9848 - acc: 0.532 - ETA: 0s - loss: 0.9827 - acc: 0.533 - ETA: 0s - loss: 0.9845 - acc: 0.531 - ETA: 0s - loss: 0.9830 - acc: 0.532 - ETA: 0s - loss: 0.9832 - acc: 0.531 - ETA: 0s - loss: 0.9823 - acc: 0.532 - ETA: 0s - loss: 0.9817 - acc: 0.532 - ETA: 0s - loss: 0.9814 - acc: 0.533 - ETA: 0s - loss: 0.9812 - acc: 0.533 - ETA: 0s - loss: 0.9812 - acc: 0.533 - ETA: 0s - loss: 0.9810 - acc: 0.533 - ETA: 0s - loss: 0.9808 - acc: 0.533 - ETA: 0s - loss: 0.9813 - acc: 0.532 - ETA: 0s - loss: 0.9813 - acc: 0.531 - ETA: 0s - loss: 0.9819 - acc: 0.530 - ETA: 0s - loss: 0.9814 - acc: 0.530 - ETA: 0s - loss: 0.9826 - acc: 0.529 - ETA: 0s - loss: 0.9835 - acc: 0.527 - 4s 547us/sample - loss: 0.9835 - acc: 0.5278 - val_loss: 0.9750 - val_acc: 0.5356\n"
     ]
    },
    {
     "data": {
      "text/html": [
       "<span style=\"color:#4527A0\"><h1 style=\"font-size:18px\">Trial complete</h1></span>"
      ],
      "text/plain": [
       "<IPython.core.display.HTML object>"
      ]
     },
     "metadata": {},
     "output_type": "display_data"
    },
    {
     "data": {
      "text/html": [
       "<span style=\"color:#4527A0\"><h1 style=\"font-size:18px\">Trial summary</h1></span>"
      ],
      "text/plain": [
       "<IPython.core.display.HTML object>"
      ]
     },
     "metadata": {},
     "output_type": "display_data"
    },
    {
     "data": {
      "text/html": [
       "<span style=\"color:cyan\"> |-Trial ID: d21b501f35db4532f4864ce48948329d</span>"
      ],
      "text/plain": [
       "<IPython.core.display.HTML object>"
      ]
     },
     "metadata": {},
     "output_type": "display_data"
    },
    {
     "data": {
      "text/html": [
       "<span style=\"color:cyan\"> |-Score: 0.5373070240020752</span>"
      ],
      "text/plain": [
       "<IPython.core.display.HTML object>"
      ]
     },
     "metadata": {},
     "output_type": "display_data"
    },
    {
     "data": {
      "text/html": [
       "<span style=\"color:cyan\"> |-Best step: 0</span>"
      ],
      "text/plain": [
       "<IPython.core.display.HTML object>"
      ]
     },
     "metadata": {},
     "output_type": "display_data"
    },
    {
     "data": {
      "text/html": [
       "<span style=\"color:#7E57C2\"><h2 style=\"font-size:16px\">Hyperparameters:</h2></span>"
      ],
      "text/plain": [
       "<IPython.core.display.HTML object>"
      ]
     },
     "metadata": {},
     "output_type": "display_data"
    },
    {
     "data": {
      "text/html": [
       "<span style=\"color:cyan\"> |-layer_0_neurons: 10</span>"
      ],
      "text/plain": [
       "<IPython.core.display.HTML object>"
      ]
     },
     "metadata": {},
     "output_type": "display_data"
    },
    {
     "data": {
      "text/html": [
       "<span style=\"color:blue\"> |-layer_1_neurons: 50</span>"
      ],
      "text/plain": [
       "<IPython.core.display.HTML object>"
      ]
     },
     "metadata": {},
     "output_type": "display_data"
    },
    {
     "data": {
      "text/html": [
       "<span style=\"color:cyan\"> |-layer_2_neurons: 150</span>"
      ],
      "text/plain": [
       "<IPython.core.display.HTML object>"
      ]
     },
     "metadata": {},
     "output_type": "display_data"
    },
    {
     "data": {
      "text/html": [
       "<span style=\"color:blue\"> |-layer_3_neurons: 30</span>"
      ],
      "text/plain": [
       "<IPython.core.display.HTML object>"
      ]
     },
     "metadata": {},
     "output_type": "display_data"
    },
    {
     "data": {
      "text/html": [
       "<span style=\"color:cyan\"> |-n_input_neurons: 50</span>"
      ],
      "text/plain": [
       "<IPython.core.display.HTML object>"
      ]
     },
     "metadata": {},
     "output_type": "display_data"
    },
    {
     "data": {
      "text/html": [
       "<span style=\"color:blue\"> |-n_layers: 3</span>"
      ],
      "text/plain": [
       "<IPython.core.display.HTML object>"
      ]
     },
     "metadata": {},
     "output_type": "display_data"
    },
    {
     "name": "stdout",
     "output_type": "stream",
     "text": [
      "Train on 7112 samples, validate on 2332 samples\n",
      "Epoch 1/10\n",
      "7112/7112 [==============================] - ETA: 4:58 - loss: 1.7138 - acc: 0.400 - ETA: 23s - loss: 1.1709 - acc: 0.457 - ETA: 12s - loss: 1.1353 - acc: 0.41 - ETA: 9s - loss: 1.1088 - acc: 0.4571 - ETA: 7s - loss: 1.0959 - acc: 0.469 - ETA: 6s - loss: 1.0760 - acc: 0.489 - ETA: 5s - loss: 1.0770 - acc: 0.483 - ETA: 5s - loss: 1.0800 - acc: 0.487 - ETA: 5s - loss: 1.0836 - acc: 0.478 - ETA: 5s - loss: 1.0723 - acc: 0.479 - ETA: 4s - loss: 1.0701 - acc: 0.476 - ETA: 4s - loss: 1.0672 - acc: 0.472 - ETA: 4s - loss: 1.0641 - acc: 0.478 - ETA: 3s - loss: 1.0654 - acc: 0.477 - ETA: 3s - loss: 1.0567 - acc: 0.486 - ETA: 3s - loss: 1.0562 - acc: 0.488 - ETA: 3s - loss: 1.0612 - acc: 0.483 - ETA: 3s - loss: 1.0577 - acc: 0.485 - ETA: 3s - loss: 1.0548 - acc: 0.485 - ETA: 2s - loss: 1.0521 - acc: 0.489 - ETA: 2s - loss: 1.0510 - acc: 0.490 - ETA: 2s - loss: 1.0500 - acc: 0.488 - ETA: 2s - loss: 1.0448 - acc: 0.492 - ETA: 2s - loss: 1.0430 - acc: 0.492 - ETA: 2s - loss: 1.0446 - acc: 0.491 - ETA: 2s - loss: 1.0421 - acc: 0.494 - ETA: 1s - loss: 1.0416 - acc: 0.492 - ETA: 2s - loss: 1.0420 - acc: 0.490 - ETA: 2s - loss: 1.0423 - acc: 0.490 - ETA: 2s - loss: 1.0428 - acc: 0.490 - ETA: 2s - loss: 1.0439 - acc: 0.489 - ETA: 2s - loss: 1.0437 - acc: 0.489 - ETA: 2s - loss: 1.0438 - acc: 0.489 - ETA: 2s - loss: 1.0445 - acc: 0.489 - ETA: 2s - loss: 1.0448 - acc: 0.489 - ETA: 2s - loss: 1.0441 - acc: 0.489 - ETA: 2s - loss: 1.0447 - acc: 0.488 - ETA: 2s - loss: 1.0418 - acc: 0.492 - ETA: 2s - loss: 1.0436 - acc: 0.491 - ETA: 2s - loss: 1.0436 - acc: 0.491 - ETA: 2s - loss: 1.0435 - acc: 0.491 - ETA: 2s - loss: 1.0426 - acc: 0.492 - ETA: 2s - loss: 1.0437 - acc: 0.491 - ETA: 2s - loss: 1.0434 - acc: 0.492 - ETA: 2s - loss: 1.0428 - acc: 0.493 - ETA: 1s - loss: 1.0438 - acc: 0.492 - ETA: 1s - loss: 1.0440 - acc: 0.491 - ETA: 1s - loss: 1.0432 - acc: 0.491 - ETA: 1s - loss: 1.0437 - acc: 0.491 - ETA: 1s - loss: 1.0437 - acc: 0.491 - ETA: 1s - loss: 1.0442 - acc: 0.490 - ETA: 1s - loss: 1.0434 - acc: 0.491 - ETA: 1s - loss: 1.0430 - acc: 0.491 - ETA: 1s - loss: 1.0422 - acc: 0.492 - ETA: 1s - loss: 1.0412 - acc: 0.492 - ETA: 1s - loss: 1.0413 - acc: 0.492 - ETA: 1s - loss: 1.0403 - acc: 0.493 - ETA: 1s - loss: 1.0396 - acc: 0.494 - ETA: 1s - loss: 1.0385 - acc: 0.494 - ETA: 1s - loss: 1.0376 - acc: 0.495 - ETA: 1s - loss: 1.0367 - acc: 0.495 - ETA: 0s - loss: 1.0359 - acc: 0.496 - ETA: 0s - loss: 1.0350 - acc: 0.497 - ETA: 0s - loss: 1.0336 - acc: 0.497 - ETA: 0s - loss: 1.0336 - acc: 0.497 - ETA: 0s - loss: 1.0319 - acc: 0.498 - ETA: 0s - loss: 1.0330 - acc: 0.497 - ETA: 0s - loss: 1.0330 - acc: 0.497 - ETA: 0s - loss: 1.0290 - acc: 0.501 - ETA: 0s - loss: 1.0297 - acc: 0.500 - ETA: 0s - loss: 1.0294 - acc: 0.500 - ETA: 0s - loss: 1.0274 - acc: 0.502 - ETA: 0s - loss: 1.0280 - acc: 0.502 - ETA: 0s - loss: 1.0270 - acc: 0.503 - ETA: 0s - loss: 1.0279 - acc: 0.503 - ETA: 0s - loss: 1.0277 - acc: 0.502 - 5s 738us/sample - loss: 1.0273 - acc: 0.5025 - val_loss: 0.9986 - val_acc: 0.5193\n",
      "Epoch 2/10\n",
      "7112/7112 [==============================] - ETA: 11s - loss: 0.9136 - acc: 0.60 - ETA: 9s - loss: 0.9956 - acc: 0.5400 - ETA: 6s - loss: 0.9983 - acc: 0.530 - ETA: 5s - loss: 1.0214 - acc: 0.485 - ETA: 5s - loss: 0.9974 - acc: 0.503 - ETA: 5s - loss: 0.9905 - acc: 0.502 - ETA: 5s - loss: 1.0056 - acc: 0.500 - ETA: 5s - loss: 0.9944 - acc: 0.508 - ETA: 5s - loss: 0.9935 - acc: 0.505 - ETA: 4s - loss: 0.9886 - acc: 0.512 - ETA: 4s - loss: 0.9714 - acc: 0.531 - ETA: 4s - loss: 0.9689 - acc: 0.540 - ETA: 4s - loss: 0.9684 - acc: 0.541 - ETA: 4s - loss: 0.9723 - acc: 0.537 - ETA: 4s - loss: 0.9763 - acc: 0.532 - ETA: 4s - loss: 0.9772 - acc: 0.530 - ETA: 4s - loss: 0.9806 - acc: 0.528 - ETA: 3s - loss: 0.9807 - acc: 0.524 - ETA: 3s - loss: 0.9846 - acc: 0.520 - ETA: 3s - loss: 0.9840 - acc: 0.522 - ETA: 3s - loss: 0.9782 - acc: 0.527 - ETA: 3s - loss: 0.9765 - acc: 0.529 - ETA: 3s - loss: 0.9793 - acc: 0.527 - ETA: 3s - loss: 0.9809 - acc: 0.524 - ETA: 3s - loss: 0.9762 - acc: 0.530 - ETA: 3s - loss: 0.9792 - acc: 0.527 - ETA: 3s - loss: 0.9815 - acc: 0.528 - ETA: 3s - loss: 0.9795 - acc: 0.529 - ETA: 3s - loss: 0.9790 - acc: 0.529 - ETA: 3s - loss: 0.9771 - acc: 0.529 - ETA: 3s - loss: 0.9778 - acc: 0.529 - ETA: 3s - loss: 0.9778 - acc: 0.530 - ETA: 3s - loss: 0.9782 - acc: 0.530 - ETA: 3s - loss: 0.9799 - acc: 0.529 - ETA: 3s - loss: 0.9796 - acc: 0.529 - ETA: 3s - loss: 0.9794 - acc: 0.529 - ETA: 3s - loss: 0.9826 - acc: 0.527 - ETA: 3s - loss: 0.9845 - acc: 0.526 - ETA: 3s - loss: 0.9857 - acc: 0.526 - ETA: 3s - loss: 0.9854 - acc: 0.526 - ETA: 3s - loss: 0.9827 - acc: 0.530 - ETA: 3s - loss: 0.9835 - acc: 0.530 - ETA: 2s - loss: 0.9811 - acc: 0.532 - ETA: 2s - loss: 0.9803 - acc: 0.533 - ETA: 2s - loss: 0.9834 - acc: 0.532 - ETA: 2s - loss: 0.9844 - acc: 0.532 - ETA: 2s - loss: 0.9849 - acc: 0.532 - ETA: 2s - loss: 0.9854 - acc: 0.532 - ETA: 2s - loss: 0.9864 - acc: 0.531 - ETA: 2s - loss: 0.9858 - acc: 0.531 - ETA: 2s - loss: 0.9853 - acc: 0.531 - ETA: 2s - loss: 0.9858 - acc: 0.531 - ETA: 2s - loss: 0.9865 - acc: 0.530 - ETA: 2s - loss: 0.9858 - acc: 0.531 - ETA: 1s - loss: 0.9859 - acc: 0.531 - ETA: 1s - loss: 0.9857 - acc: 0.531 - ETA: 1s - loss: 0.9884 - acc: 0.529 - ETA: 1s - loss: 0.9885 - acc: 0.528 - ETA: 1s - loss: 0.9881 - acc: 0.528 - ETA: 1s - loss: 0.9889 - acc: 0.526 - ETA: 1s - loss: 0.9894 - acc: 0.526 - ETA: 1s - loss: 0.9895 - acc: 0.526 - ETA: 1s - loss: 0.9896 - acc: 0.525 - ETA: 1s - loss: 0.9905 - acc: 0.524 - ETA: 1s - loss: 0.9900 - acc: 0.525 - ETA: 1s - loss: 0.9911 - acc: 0.523 - ETA: 1s - loss: 0.9900 - acc: 0.524 - ETA: 1s - loss: 0.9895 - acc: 0.525 - ETA: 1s - loss: 0.9907 - acc: 0.524 - ETA: 0s - loss: 0.9893 - acc: 0.526 - ETA: 0s - loss: 0.9901 - acc: 0.525 - ETA: 0s - loss: 0.9903 - acc: 0.525 - ETA: 0s - loss: 0.9905 - acc: 0.525 - ETA: 0s - loss: 0.9901 - acc: 0.526 - ETA: 0s - loss: 0.9903 - acc: 0.526 - ETA: 0s - loss: 0.9911 - acc: 0.525 - ETA: 0s - loss: 0.9910 - acc: 0.525 - ETA: 0s - loss: 0.9902 - acc: 0.525 - ETA: 0s - loss: 0.9906 - acc: 0.525 - ETA: 0s - loss: 0.9896 - acc: 0.526 - ETA: 0s - loss: 0.9903 - acc: 0.525 - ETA: 0s - loss: 0.9908 - acc: 0.525 - ETA: 0s - loss: 0.9933 - acc: 0.522 - ETA: 0s - loss: 0.9932 - acc: 0.522 - ETA: 0s - loss: 0.9935 - acc: 0.523 - ETA: 0s - loss: 0.9940 - acc: 0.521 - ETA: 0s - loss: 0.9954 - acc: 0.520 - ETA: 0s - loss: 0.9960 - acc: 0.519 - ETA: 0s - loss: 0.9958 - acc: 0.519 - ETA: 0s - loss: 0.9961 - acc: 0.519 - ETA: 0s - loss: 0.9964 - acc: 0.519 - 5s 756us/sample - loss: 0.9967 - acc: 0.5191 - val_loss: 0.9897 - val_acc: 0.5279\n",
      "Epoch 3/10\n"
     ]
    },
    {
     "name": "stdout",
     "output_type": "stream",
     "text": [
      "7112/7112 [==============================] - ETA: 3s - loss: 1.0129 - acc: 0.500 - ETA: 3s - loss: 1.0118 - acc: 0.500 - ETA: 3s - loss: 0.9978 - acc: 0.510 - ETA: 4s - loss: 0.9839 - acc: 0.533 - ETA: 4s - loss: 0.9798 - acc: 0.536 - ETA: 4s - loss: 0.9723 - acc: 0.539 - ETA: 4s - loss: 0.9641 - acc: 0.548 - ETA: 4s - loss: 0.9731 - acc: 0.535 - ETA: 5s - loss: 0.9738 - acc: 0.533 - ETA: 5s - loss: 0.9719 - acc: 0.534 - ETA: 5s - loss: 0.9781 - acc: 0.532 - ETA: 5s - loss: 0.9638 - acc: 0.547 - ETA: 4s - loss: 0.9643 - acc: 0.544 - ETA: 4s - loss: 0.9694 - acc: 0.542 - ETA: 4s - loss: 0.9721 - acc: 0.538 - ETA: 4s - loss: 0.9681 - acc: 0.543 - ETA: 4s - loss: 0.9730 - acc: 0.543 - ETA: 4s - loss: 0.9750 - acc: 0.541 - ETA: 4s - loss: 0.9734 - acc: 0.544 - ETA: 3s - loss: 0.9773 - acc: 0.542 - ETA: 3s - loss: 0.9760 - acc: 0.545 - ETA: 3s - loss: 0.9764 - acc: 0.545 - ETA: 3s - loss: 0.9780 - acc: 0.542 - ETA: 3s - loss: 0.9753 - acc: 0.544 - ETA: 3s - loss: 0.9743 - acc: 0.546 - ETA: 3s - loss: 0.9744 - acc: 0.547 - ETA: 3s - loss: 0.9756 - acc: 0.544 - ETA: 3s - loss: 0.9776 - acc: 0.543 - ETA: 3s - loss: 0.9787 - acc: 0.541 - ETA: 3s - loss: 0.9804 - acc: 0.540 - ETA: 3s - loss: 0.9801 - acc: 0.541 - ETA: 3s - loss: 0.9790 - acc: 0.541 - ETA: 3s - loss: 0.9799 - acc: 0.540 - ETA: 3s - loss: 0.9822 - acc: 0.537 - ETA: 3s - loss: 0.9857 - acc: 0.533 - ETA: 2s - loss: 0.9866 - acc: 0.533 - ETA: 2s - loss: 0.9869 - acc: 0.533 - ETA: 2s - loss: 0.9862 - acc: 0.533 - ETA: 2s - loss: 0.9866 - acc: 0.533 - ETA: 2s - loss: 0.9869 - acc: 0.532 - ETA: 2s - loss: 0.9858 - acc: 0.533 - ETA: 2s - loss: 0.9857 - acc: 0.532 - ETA: 2s - loss: 0.9848 - acc: 0.533 - ETA: 2s - loss: 0.9864 - acc: 0.531 - ETA: 2s - loss: 0.9893 - acc: 0.529 - ETA: 2s - loss: 0.9892 - acc: 0.529 - ETA: 2s - loss: 0.9893 - acc: 0.530 - ETA: 2s - loss: 0.9897 - acc: 0.528 - ETA: 2s - loss: 0.9894 - acc: 0.529 - ETA: 2s - loss: 0.9890 - acc: 0.529 - ETA: 1s - loss: 0.9894 - acc: 0.528 - ETA: 1s - loss: 0.9900 - acc: 0.528 - ETA: 1s - loss: 0.9917 - acc: 0.526 - ETA: 1s - loss: 0.9919 - acc: 0.525 - ETA: 1s - loss: 0.9930 - acc: 0.524 - ETA: 1s - loss: 0.9926 - acc: 0.523 - ETA: 1s - loss: 0.9921 - acc: 0.524 - ETA: 1s - loss: 0.9918 - acc: 0.525 - ETA: 1s - loss: 0.9919 - acc: 0.524 - ETA: 1s - loss: 0.9918 - acc: 0.525 - ETA: 1s - loss: 0.9927 - acc: 0.524 - ETA: 1s - loss: 0.9936 - acc: 0.523 - ETA: 1s - loss: 0.9939 - acc: 0.523 - ETA: 1s - loss: 0.9948 - acc: 0.523 - ETA: 1s - loss: 0.9939 - acc: 0.523 - ETA: 1s - loss: 0.9927 - acc: 0.524 - ETA: 1s - loss: 0.9931 - acc: 0.524 - ETA: 1s - loss: 0.9916 - acc: 0.525 - ETA: 1s - loss: 0.9914 - acc: 0.525 - ETA: 1s - loss: 0.9906 - acc: 0.525 - ETA: 1s - loss: 0.9917 - acc: 0.524 - ETA: 1s - loss: 0.9918 - acc: 0.523 - ETA: 1s - loss: 0.9925 - acc: 0.523 - ETA: 1s - loss: 0.9928 - acc: 0.523 - ETA: 1s - loss: 0.9923 - acc: 0.523 - ETA: 0s - loss: 0.9923 - acc: 0.524 - ETA: 0s - loss: 0.9926 - acc: 0.523 - ETA: 0s - loss: 0.9929 - acc: 0.524 - ETA: 0s - loss: 0.9930 - acc: 0.523 - ETA: 0s - loss: 0.9925 - acc: 0.523 - ETA: 0s - loss: 0.9920 - acc: 0.524 - ETA: 0s - loss: 0.9925 - acc: 0.523 - ETA: 0s - loss: 0.9927 - acc: 0.523 - ETA: 0s - loss: 0.9929 - acc: 0.523 - ETA: 0s - loss: 0.9923 - acc: 0.523 - ETA: 0s - loss: 0.9923 - acc: 0.523 - ETA: 0s - loss: 0.9920 - acc: 0.524 - ETA: 0s - loss: 0.9921 - acc: 0.524 - ETA: 0s - loss: 0.9924 - acc: 0.523 - ETA: 0s - loss: 0.9922 - acc: 0.524 - ETA: 0s - loss: 0.9925 - acc: 0.523 - ETA: 0s - loss: 0.9920 - acc: 0.524 - ETA: 0s - loss: 0.9915 - acc: 0.524 - ETA: 0s - loss: 0.9915 - acc: 0.524 - ETA: 0s - loss: 0.9924 - acc: 0.523 - ETA: 0s - loss: 0.9921 - acc: 0.523 - ETA: 0s - loss: 0.9914 - acc: 0.524 - ETA: 0s - loss: 0.9911 - acc: 0.524 - ETA: 0s - loss: 0.9920 - acc: 0.522 - ETA: 0s - loss: 0.9919 - acc: 0.522 - ETA: 0s - loss: 0.9922 - acc: 0.522 - ETA: 0s - loss: 0.9923 - acc: 0.522 - ETA: 0s - loss: 0.9925 - acc: 0.522 - ETA: 0s - loss: 0.9928 - acc: 0.522 - 6s 858us/sample - loss: 0.9928 - acc: 0.5225 - val_loss: 0.9787 - val_acc: 0.5249\n",
      "Epoch 4/10\n"
     ]
    },
    {
     "name": "stdout",
     "output_type": "stream",
     "text": [
      "7112/7112 [==============================] - ETA: 8s - loss: 1.0084 - acc: 0.400 - ETA: 5s - loss: 1.0047 - acc: 0.500 - ETA: 4s - loss: 0.9963 - acc: 0.511 - ETA: 4s - loss: 1.0058 - acc: 0.517 - ETA: 4s - loss: 0.9965 - acc: 0.520 - ETA: 6s - loss: 0.9947 - acc: 0.525 - ETA: 5s - loss: 1.0030 - acc: 0.516 - ETA: 5s - loss: 1.0157 - acc: 0.507 - ETA: 5s - loss: 1.0108 - acc: 0.508 - ETA: 5s - loss: 1.0104 - acc: 0.508 - ETA: 5s - loss: 1.0135 - acc: 0.504 - ETA: 5s - loss: 1.0127 - acc: 0.502 - ETA: 5s - loss: 1.0111 - acc: 0.496 - ETA: 5s - loss: 1.0065 - acc: 0.500 - ETA: 5s - loss: 1.0106 - acc: 0.501 - ETA: 5s - loss: 1.0070 - acc: 0.508 - ETA: 5s - loss: 1.0065 - acc: 0.509 - ETA: 5s - loss: 1.0030 - acc: 0.512 - ETA: 5s - loss: 1.0060 - acc: 0.509 - ETA: 5s - loss: 1.0090 - acc: 0.505 - ETA: 5s - loss: 1.0085 - acc: 0.507 - ETA: 5s - loss: 1.0041 - acc: 0.512 - ETA: 5s - loss: 1.0004 - acc: 0.516 - ETA: 5s - loss: 1.0023 - acc: 0.516 - ETA: 5s - loss: 1.0028 - acc: 0.517 - ETA: 5s - loss: 1.0036 - acc: 0.513 - ETA: 4s - loss: 1.0075 - acc: 0.508 - ETA: 4s - loss: 1.0072 - acc: 0.509 - ETA: 4s - loss: 1.0039 - acc: 0.513 - ETA: 4s - loss: 1.0036 - acc: 0.513 - ETA: 4s - loss: 1.0039 - acc: 0.512 - ETA: 4s - loss: 1.0036 - acc: 0.511 - ETA: 4s - loss: 1.0021 - acc: 0.512 - ETA: 4s - loss: 1.0006 - acc: 0.513 - ETA: 4s - loss: 0.9996 - acc: 0.514 - ETA: 4s - loss: 1.0024 - acc: 0.511 - ETA: 4s - loss: 1.0050 - acc: 0.509 - ETA: 4s - loss: 1.0067 - acc: 0.508 - ETA: 4s - loss: 1.0057 - acc: 0.509 - ETA: 3s - loss: 1.0064 - acc: 0.510 - ETA: 3s - loss: 1.0064 - acc: 0.511 - ETA: 3s - loss: 1.0052 - acc: 0.513 - ETA: 3s - loss: 1.0057 - acc: 0.512 - ETA: 3s - loss: 1.0053 - acc: 0.512 - ETA: 3s - loss: 1.0026 - acc: 0.514 - ETA: 3s - loss: 1.0013 - acc: 0.515 - ETA: 3s - loss: 1.0016 - acc: 0.514 - ETA: 3s - loss: 1.0020 - acc: 0.514 - ETA: 3s - loss: 1.0024 - acc: 0.515 - ETA: 3s - loss: 1.0013 - acc: 0.515 - ETA: 3s - loss: 1.0018 - acc: 0.514 - ETA: 3s - loss: 1.0021 - acc: 0.513 - ETA: 3s - loss: 1.0023 - acc: 0.512 - ETA: 3s - loss: 1.0024 - acc: 0.512 - ETA: 3s - loss: 1.0030 - acc: 0.512 - ETA: 3s - loss: 1.0020 - acc: 0.513 - ETA: 3s - loss: 1.0029 - acc: 0.513 - ETA: 3s - loss: 1.0015 - acc: 0.515 - ETA: 3s - loss: 1.0004 - acc: 0.515 - ETA: 3s - loss: 1.0003 - acc: 0.515 - ETA: 3s - loss: 1.0010 - acc: 0.515 - ETA: 3s - loss: 1.0005 - acc: 0.515 - ETA: 3s - loss: 1.0003 - acc: 0.516 - ETA: 3s - loss: 0.9991 - acc: 0.518 - ETA: 3s - loss: 0.9991 - acc: 0.517 - ETA: 3s - loss: 0.9996 - acc: 0.517 - ETA: 3s - loss: 0.9977 - acc: 0.519 - ETA: 3s - loss: 0.9963 - acc: 0.521 - ETA: 3s - loss: 0.9963 - acc: 0.519 - ETA: 2s - loss: 0.9960 - acc: 0.520 - ETA: 2s - loss: 0.9936 - acc: 0.522 - ETA: 2s - loss: 0.9937 - acc: 0.522 - ETA: 2s - loss: 0.9937 - acc: 0.522 - ETA: 2s - loss: 0.9942 - acc: 0.521 - ETA: 2s - loss: 0.9945 - acc: 0.521 - ETA: 2s - loss: 0.9953 - acc: 0.520 - ETA: 2s - loss: 0.9959 - acc: 0.520 - ETA: 2s - loss: 0.9969 - acc: 0.518 - ETA: 2s - loss: 0.9968 - acc: 0.518 - ETA: 2s - loss: 0.9969 - acc: 0.518 - ETA: 2s - loss: 0.9965 - acc: 0.519 - ETA: 2s - loss: 0.9960 - acc: 0.519 - ETA: 2s - loss: 0.9964 - acc: 0.519 - ETA: 2s - loss: 0.9960 - acc: 0.519 - ETA: 2s - loss: 0.9952 - acc: 0.520 - ETA: 2s - loss: 0.9951 - acc: 0.521 - ETA: 1s - loss: 0.9954 - acc: 0.521 - ETA: 1s - loss: 0.9959 - acc: 0.521 - ETA: 1s - loss: 0.9947 - acc: 0.521 - ETA: 1s - loss: 0.9949 - acc: 0.521 - ETA: 1s - loss: 0.9939 - acc: 0.522 - ETA: 1s - loss: 0.9936 - acc: 0.522 - ETA: 1s - loss: 0.9936 - acc: 0.522 - ETA: 1s - loss: 0.9941 - acc: 0.520 - ETA: 1s - loss: 0.9937 - acc: 0.520 - ETA: 1s - loss: 0.9943 - acc: 0.520 - ETA: 1s - loss: 0.9940 - acc: 0.520 - ETA: 1s - loss: 0.9928 - acc: 0.521 - ETA: 1s - loss: 0.9921 - acc: 0.521 - ETA: 1s - loss: 0.9925 - acc: 0.521 - ETA: 0s - loss: 0.9907 - acc: 0.522 - ETA: 0s - loss: 0.9912 - acc: 0.522 - ETA: 0s - loss: 0.9906 - acc: 0.523 - ETA: 0s - loss: 0.9899 - acc: 0.524 - ETA: 0s - loss: 0.9903 - acc: 0.523 - ETA: 0s - loss: 0.9897 - acc: 0.524 - ETA: 0s - loss: 0.9891 - acc: 0.525 - ETA: 0s - loss: 0.9904 - acc: 0.523 - ETA: 0s - loss: 0.9894 - acc: 0.524 - ETA: 0s - loss: 0.9896 - acc: 0.524 - ETA: 0s - loss: 0.9895 - acc: 0.524 - ETA: 0s - loss: 0.9897 - acc: 0.523 - ETA: 0s - loss: 0.9889 - acc: 0.524 - ETA: 0s - loss: 0.9885 - acc: 0.525 - ETA: 0s - loss: 0.9887 - acc: 0.524 - ETA: 0s - loss: 0.9884 - acc: 0.525 - ETA: 0s - loss: 0.9881 - acc: 0.525 - ETA: 0s - loss: 0.9879 - acc: 0.525 - ETA: 0s - loss: 0.9888 - acc: 0.524 - 7s 983us/sample - loss: 0.9889 - acc: 0.5242 - val_loss: 0.9852 - val_acc: 0.5296\n",
      "Epoch 5/10\n"
     ]
    },
    {
     "name": "stdout",
     "output_type": "stream",
     "text": [
      "7112/7112 [==============================] - ETA: 11s - loss: 1.1212 - acc: 0.40 - ETA: 32s - loss: 1.0171 - acc: 0.50 - ETA: 52s - loss: 1.0537 - acc: 0.53 - ETA: 55s - loss: 1.0297 - acc: 0.52 - ETA: 37s - loss: 1.0429 - acc: 0.47 - ETA: 29s - loss: 1.0382 - acc: 0.49 - ETA: 28s - loss: 1.0441 - acc: 0.47 - ETA: 25s - loss: 1.0347 - acc: 0.48 - ETA: 22s - loss: 1.0461 - acc: 0.46 - ETA: 21s - loss: 1.0338 - acc: 0.48 - ETA: 20s - loss: 1.0338 - acc: 0.48 - ETA: 17s - loss: 1.0399 - acc: 0.47 - ETA: 14s - loss: 1.0291 - acc: 0.48 - ETA: 12s - loss: 1.0126 - acc: 0.49 - ETA: 12s - loss: 1.0116 - acc: 0.50 - ETA: 11s - loss: 1.0203 - acc: 0.49 - ETA: 11s - loss: 1.0258 - acc: 0.49 - ETA: 10s - loss: 1.0198 - acc: 0.50 - ETA: 10s - loss: 1.0146 - acc: 0.50 - ETA: 10s - loss: 1.0126 - acc: 0.50 - ETA: 10s - loss: 1.0114 - acc: 0.50 - ETA: 10s - loss: 1.0116 - acc: 0.49 - ETA: 10s - loss: 1.0091 - acc: 0.50 - ETA: 10s - loss: 1.0103 - acc: 0.49 - ETA: 10s - loss: 1.0114 - acc: 0.50 - ETA: 10s - loss: 1.0133 - acc: 0.49 - ETA: 10s - loss: 1.0156 - acc: 0.49 - ETA: 9s - loss: 1.0138 - acc: 0.4980 - ETA: 9s - loss: 1.0097 - acc: 0.501 - ETA: 9s - loss: 1.0097 - acc: 0.503 - ETA: 9s - loss: 1.0087 - acc: 0.506 - ETA: 9s - loss: 1.0068 - acc: 0.507 - ETA: 8s - loss: 1.0099 - acc: 0.503 - ETA: 8s - loss: 1.0077 - acc: 0.506 - ETA: 8s - loss: 1.0058 - acc: 0.508 - ETA: 8s - loss: 0.9959 - acc: 0.517 - ETA: 7s - loss: 0.9964 - acc: 0.513 - ETA: 7s - loss: 0.9974 - acc: 0.513 - ETA: 7s - loss: 0.9939 - acc: 0.516 - ETA: 7s - loss: 0.9959 - acc: 0.514 - ETA: 7s - loss: 0.9953 - acc: 0.514 - ETA: 7s - loss: 0.9930 - acc: 0.515 - ETA: 7s - loss: 0.9915 - acc: 0.516 - ETA: 7s - loss: 0.9909 - acc: 0.516 - ETA: 7s - loss: 0.9927 - acc: 0.513 - ETA: 7s - loss: 0.9896 - acc: 0.516 - ETA: 7s - loss: 0.9929 - acc: 0.514 - ETA: 7s - loss: 0.9941 - acc: 0.516 - ETA: 6s - loss: 0.9907 - acc: 0.520 - ETA: 6s - loss: 0.9922 - acc: 0.520 - ETA: 6s - loss: 0.9914 - acc: 0.520 - ETA: 6s - loss: 0.9928 - acc: 0.519 - ETA: 6s - loss: 0.9903 - acc: 0.520 - ETA: 6s - loss: 0.9934 - acc: 0.517 - ETA: 5s - loss: 0.9957 - acc: 0.514 - ETA: 5s - loss: 0.9952 - acc: 0.515 - ETA: 5s - loss: 0.9947 - acc: 0.515 - ETA: 5s - loss: 0.9939 - acc: 0.517 - ETA: 6s - loss: 0.9933 - acc: 0.517 - ETA: 5s - loss: 0.9959 - acc: 0.516 - ETA: 5s - loss: 0.9962 - acc: 0.517 - ETA: 5s - loss: 0.9969 - acc: 0.517 - ETA: 5s - loss: 0.9961 - acc: 0.520 - ETA: 4s - loss: 0.9972 - acc: 0.518 - ETA: 4s - loss: 0.9922 - acc: 0.522 - ETA: 4s - loss: 0.9929 - acc: 0.521 - ETA: 3s - loss: 0.9905 - acc: 0.525 - ETA: 3s - loss: 0.9927 - acc: 0.524 - ETA: 3s - loss: 0.9948 - acc: 0.521 - ETA: 2s - loss: 0.9969 - acc: 0.518 - ETA: 2s - loss: 0.9972 - acc: 0.518 - ETA: 2s - loss: 0.9969 - acc: 0.518 - ETA: 2s - loss: 0.9964 - acc: 0.519 - ETA: 2s - loss: 0.9952 - acc: 0.520 - ETA: 2s - loss: 0.9950 - acc: 0.520 - ETA: 2s - loss: 0.9949 - acc: 0.521 - ETA: 2s - loss: 0.9955 - acc: 0.519 - ETA: 2s - loss: 0.9960 - acc: 0.519 - ETA: 2s - loss: 0.9958 - acc: 0.520 - ETA: 2s - loss: 0.9960 - acc: 0.519 - ETA: 2s - loss: 0.9956 - acc: 0.520 - ETA: 2s - loss: 0.9953 - acc: 0.520 - ETA: 2s - loss: 0.9956 - acc: 0.519 - ETA: 2s - loss: 0.9957 - acc: 0.519 - ETA: 2s - loss: 0.9950 - acc: 0.519 - ETA: 2s - loss: 0.9952 - acc: 0.519 - ETA: 2s - loss: 0.9954 - acc: 0.518 - ETA: 2s - loss: 0.9958 - acc: 0.518 - ETA: 2s - loss: 0.9939 - acc: 0.519 - ETA: 2s - loss: 0.9933 - acc: 0.520 - ETA: 2s - loss: 0.9925 - acc: 0.520 - ETA: 2s - loss: 0.9922 - acc: 0.520 - ETA: 2s - loss: 0.9923 - acc: 0.520 - ETA: 2s - loss: 0.9927 - acc: 0.520 - ETA: 2s - loss: 0.9918 - acc: 0.521 - ETA: 2s - loss: 0.9916 - acc: 0.520 - ETA: 2s - loss: 0.9922 - acc: 0.520 - ETA: 2s - loss: 0.9916 - acc: 0.520 - ETA: 2s - loss: 0.9916 - acc: 0.521 - ETA: 1s - loss: 0.9928 - acc: 0.519 - ETA: 1s - loss: 0.9919 - acc: 0.520 - ETA: 1s - loss: 0.9926 - acc: 0.520 - ETA: 1s - loss: 0.9916 - acc: 0.520 - ETA: 1s - loss: 0.9916 - acc: 0.521 - ETA: 1s - loss: 0.9918 - acc: 0.520 - ETA: 1s - loss: 0.9912 - acc: 0.521 - ETA: 1s - loss: 0.9904 - acc: 0.522 - ETA: 1s - loss: 0.9908 - acc: 0.522 - ETA: 1s - loss: 0.9902 - acc: 0.522 - ETA: 1s - loss: 0.9903 - acc: 0.522 - ETA: 0s - loss: 0.9908 - acc: 0.522 - ETA: 0s - loss: 0.9906 - acc: 0.523 - ETA: 0s - loss: 0.9912 - acc: 0.523 - ETA: 0s - loss: 0.9912 - acc: 0.523 - ETA: 0s - loss: 0.9910 - acc: 0.522 - ETA: 0s - loss: 0.9901 - acc: 0.524 - ETA: 0s - loss: 0.9910 - acc: 0.522 - ETA: 0s - loss: 0.9910 - acc: 0.523 - ETA: 0s - loss: 0.9913 - acc: 0.522 - ETA: 0s - loss: 0.9910 - acc: 0.522 - ETA: 0s - loss: 0.9902 - acc: 0.523 - ETA: 0s - loss: 0.9902 - acc: 0.523 - 7s 1ms/sample - loss: 0.9903 - acc: 0.5233 - val_loss: 0.9731 - val_acc: 0.5326\n",
      "Epoch 6/10\n",
      "7112/7112 [==============================] - ETA: 2s - loss: 0.9921 - acc: 0.500 - ETA: 1s - loss: 0.9802 - acc: 0.533 - ETA: 1s - loss: 1.0038 - acc: 0.525 - ETA: 1s - loss: 0.9938 - acc: 0.515 - ETA: 1s - loss: 0.9989 - acc: 0.508 - ETA: 1s - loss: 0.9915 - acc: 0.516 - ETA: 1s - loss: 0.9907 - acc: 0.516 - ETA: 1s - loss: 0.9920 - acc: 0.518 - ETA: 1s - loss: 0.9820 - acc: 0.525 - ETA: 1s - loss: 0.9835 - acc: 0.525 - ETA: 2s - loss: 0.9854 - acc: 0.523 - ETA: 2s - loss: 0.9845 - acc: 0.524 - ETA: 2s - loss: 0.9863 - acc: 0.519 - ETA: 2s - loss: 0.9875 - acc: 0.522 - ETA: 1s - loss: 0.9889 - acc: 0.519 - ETA: 2s - loss: 0.9890 - acc: 0.520 - ETA: 2s - loss: 0.9895 - acc: 0.520 - ETA: 2s - loss: 0.9871 - acc: 0.521 - ETA: 2s - loss: 0.9882 - acc: 0.521 - ETA: 2s - loss: 0.9831 - acc: 0.525 - ETA: 2s - loss: 0.9850 - acc: 0.524 - ETA: 1s - loss: 0.9844 - acc: 0.526 - ETA: 2s - loss: 0.9831 - acc: 0.527 - ETA: 2s - loss: 0.9823 - acc: 0.527 - ETA: 2s - loss: 0.9823 - acc: 0.526 - ETA: 2s - loss: 0.9818 - acc: 0.526 - ETA: 2s - loss: 0.9811 - acc: 0.525 - ETA: 1s - loss: 0.9807 - acc: 0.526 - ETA: 1s - loss: 0.9803 - acc: 0.527 - ETA: 1s - loss: 0.9792 - acc: 0.529 - ETA: 1s - loss: 0.9808 - acc: 0.528 - ETA: 1s - loss: 0.9786 - acc: 0.529 - ETA: 1s - loss: 0.9794 - acc: 0.528 - ETA: 1s - loss: 0.9800 - acc: 0.528 - ETA: 1s - loss: 0.9803 - acc: 0.528 - ETA: 1s - loss: 0.9806 - acc: 0.527 - ETA: 1s - loss: 0.9802 - acc: 0.527 - ETA: 1s - loss: 0.9819 - acc: 0.526 - ETA: 1s - loss: 0.9820 - acc: 0.526 - ETA: 1s - loss: 0.9822 - acc: 0.525 - ETA: 1s - loss: 0.9828 - acc: 0.525 - ETA: 1s - loss: 0.9818 - acc: 0.526 - ETA: 1s - loss: 0.9823 - acc: 0.527 - ETA: 1s - loss: 0.9816 - acc: 0.527 - ETA: 1s - loss: 0.9813 - acc: 0.527 - ETA: 1s - loss: 0.9794 - acc: 0.528 - ETA: 1s - loss: 0.9814 - acc: 0.527 - ETA: 1s - loss: 0.9827 - acc: 0.526 - ETA: 1s - loss: 0.9828 - acc: 0.526 - ETA: 1s - loss: 0.9837 - acc: 0.525 - ETA: 1s - loss: 0.9839 - acc: 0.524 - ETA: 1s - loss: 0.9843 - acc: 0.524 - ETA: 1s - loss: 0.9845 - acc: 0.525 - ETA: 1s - loss: 0.9852 - acc: 0.525 - ETA: 0s - loss: 0.9853 - acc: 0.526 - ETA: 0s - loss: 0.9848 - acc: 0.526 - ETA: 0s - loss: 0.9845 - acc: 0.526 - ETA: 0s - loss: 0.9841 - acc: 0.526 - ETA: 0s - loss: 0.9850 - acc: 0.525 - ETA: 0s - loss: 0.9854 - acc: 0.525 - ETA: 0s - loss: 0.9853 - acc: 0.525 - ETA: 0s - loss: 0.9859 - acc: 0.525 - ETA: 0s - loss: 0.9853 - acc: 0.525 - ETA: 0s - loss: 0.9856 - acc: 0.525 - ETA: 0s - loss: 0.9867 - acc: 0.524 - ETA: 0s - loss: 0.9871 - acc: 0.524 - ETA: 0s - loss: 0.9875 - acc: 0.523 - ETA: 0s - loss: 0.9880 - acc: 0.524 - ETA: 0s - loss: 0.9877 - acc: 0.524 - 4s 578us/sample - loss: 0.9868 - acc: 0.5259 - val_loss: 0.9823 - val_acc: 0.5300\n",
      "Epoch 7/10\n"
     ]
    },
    {
     "name": "stdout",
     "output_type": "stream",
     "text": [
      "7112/7112 [==============================] - ETA: 15s - loss: 0.9324 - acc: 0.60 - ETA: 3s - loss: 0.9779 - acc: 0.5071 - ETA: 2s - loss: 0.9926 - acc: 0.513 - ETA: 2s - loss: 0.9791 - acc: 0.530 - ETA: 2s - loss: 0.9740 - acc: 0.530 - ETA: 2s - loss: 0.9759 - acc: 0.532 - ETA: 2s - loss: 0.9632 - acc: 0.541 - ETA: 2s - loss: 0.9739 - acc: 0.529 - ETA: 2s - loss: 0.9749 - acc: 0.531 - ETA: 2s - loss: 0.9766 - acc: 0.531 - ETA: 2s - loss: 0.9796 - acc: 0.532 - ETA: 2s - loss: 0.9833 - acc: 0.529 - ETA: 2s - loss: 0.9792 - acc: 0.534 - ETA: 2s - loss: 0.9864 - acc: 0.526 - ETA: 2s - loss: 0.9835 - acc: 0.527 - ETA: 2s - loss: 0.9826 - acc: 0.530 - ETA: 1s - loss: 0.9836 - acc: 0.527 - ETA: 1s - loss: 0.9845 - acc: 0.527 - ETA: 1s - loss: 0.9834 - acc: 0.530 - ETA: 1s - loss: 0.9825 - acc: 0.532 - ETA: 1s - loss: 0.9802 - acc: 0.535 - ETA: 1s - loss: 0.9844 - acc: 0.533 - ETA: 1s - loss: 0.9861 - acc: 0.530 - ETA: 1s - loss: 0.9879 - acc: 0.530 - ETA: 1s - loss: 0.9871 - acc: 0.531 - ETA: 1s - loss: 0.9865 - acc: 0.531 - ETA: 1s - loss: 0.9873 - acc: 0.530 - ETA: 1s - loss: 0.9870 - acc: 0.530 - ETA: 1s - loss: 0.9867 - acc: 0.530 - ETA: 1s - loss: 0.9860 - acc: 0.531 - ETA: 1s - loss: 0.9855 - acc: 0.531 - ETA: 1s - loss: 0.9870 - acc: 0.530 - ETA: 1s - loss: 0.9874 - acc: 0.530 - ETA: 1s - loss: 0.9871 - acc: 0.530 - ETA: 1s - loss: 0.9890 - acc: 0.526 - ETA: 1s - loss: 0.9889 - acc: 0.526 - ETA: 0s - loss: 0.9886 - acc: 0.525 - ETA: 0s - loss: 0.9872 - acc: 0.526 - ETA: 0s - loss: 0.9866 - acc: 0.527 - ETA: 0s - loss: 0.9871 - acc: 0.527 - ETA: 0s - loss: 0.9882 - acc: 0.525 - ETA: 0s - loss: 0.9887 - acc: 0.524 - ETA: 0s - loss: 0.9891 - acc: 0.523 - ETA: 0s - loss: 0.9885 - acc: 0.523 - ETA: 0s - loss: 0.9873 - acc: 0.525 - ETA: 0s - loss: 0.9883 - acc: 0.525 - ETA: 0s - loss: 0.9877 - acc: 0.525 - ETA: 0s - loss: 0.9878 - acc: 0.524 - ETA: 0s - loss: 0.9878 - acc: 0.525 - ETA: 0s - loss: 0.9866 - acc: 0.526 - ETA: 0s - loss: 0.9867 - acc: 0.525 - ETA: 0s - loss: 0.9859 - acc: 0.526 - ETA: 0s - loss: 0.9861 - acc: 0.526 - 3s 440us/sample - loss: 0.9862 - acc: 0.5256 - val_loss: 0.9759 - val_acc: 0.5330\n",
      "Epoch 8/10\n",
      "7112/7112 [==============================] - ETA: 8s - loss: 0.9659 - acc: 0.400 - ETA: 3s - loss: 0.9869 - acc: 0.538 - ETA: 2s - loss: 1.0173 - acc: 0.533 - ETA: 2s - loss: 1.0088 - acc: 0.534 - ETA: 2s - loss: 0.9907 - acc: 0.541 - ETA: 2s - loss: 0.9954 - acc: 0.525 - ETA: 2s - loss: 0.9937 - acc: 0.530 - ETA: 2s - loss: 0.9915 - acc: 0.531 - ETA: 1s - loss: 0.9875 - acc: 0.534 - ETA: 1s - loss: 0.9912 - acc: 0.532 - ETA: 1s - loss: 0.9873 - acc: 0.535 - ETA: 1s - loss: 0.9865 - acc: 0.533 - ETA: 1s - loss: 0.9875 - acc: 0.532 - ETA: 1s - loss: 0.9871 - acc: 0.533 - ETA: 1s - loss: 0.9850 - acc: 0.536 - ETA: 1s - loss: 0.9902 - acc: 0.531 - ETA: 1s - loss: 0.9912 - acc: 0.530 - ETA: 1s - loss: 0.9915 - acc: 0.532 - ETA: 1s - loss: 0.9911 - acc: 0.532 - ETA: 1s - loss: 0.9865 - acc: 0.533 - ETA: 1s - loss: 0.9879 - acc: 0.532 - ETA: 1s - loss: 0.9890 - acc: 0.530 - ETA: 1s - loss: 0.9887 - acc: 0.530 - ETA: 1s - loss: 0.9890 - acc: 0.529 - ETA: 1s - loss: 0.9898 - acc: 0.529 - ETA: 1s - loss: 0.9883 - acc: 0.530 - ETA: 1s - loss: 0.9885 - acc: 0.531 - ETA: 0s - loss: 0.9893 - acc: 0.530 - ETA: 0s - loss: 0.9879 - acc: 0.530 - ETA: 0s - loss: 0.9889 - acc: 0.529 - ETA: 0s - loss: 0.9886 - acc: 0.530 - ETA: 0s - loss: 0.9897 - acc: 0.530 - ETA: 0s - loss: 0.9871 - acc: 0.532 - ETA: 0s - loss: 0.9880 - acc: 0.530 - ETA: 0s - loss: 0.9886 - acc: 0.528 - ETA: 0s - loss: 0.9875 - acc: 0.530 - ETA: 0s - loss: 0.9877 - acc: 0.530 - ETA: 0s - loss: 0.9877 - acc: 0.530 - ETA: 0s - loss: 0.9879 - acc: 0.530 - ETA: 0s - loss: 0.9855 - acc: 0.531 - ETA: 0s - loss: 0.9870 - acc: 0.529 - ETA: 0s - loss: 0.9872 - acc: 0.528 - ETA: 0s - loss: 0.9855 - acc: 0.528 - ETA: 0s - loss: 0.9847 - acc: 0.530 - ETA: 0s - loss: 0.9848 - acc: 0.530 - ETA: 0s - loss: 0.9859 - acc: 0.529 - ETA: 0s - loss: 0.9859 - acc: 0.529 - 3s 393us/sample - loss: 0.9865 - acc: 0.5291 - val_loss: 0.9717 - val_acc: 0.5347\n",
      "Epoch 9/10\n",
      "7112/7112 [==============================] - ETA: 6s - loss: 0.8230 - acc: 0.700 - ETA: 2s - loss: 0.9577 - acc: 0.550 - ETA: 2s - loss: 0.9517 - acc: 0.540 - ETA: 2s - loss: 0.9441 - acc: 0.555 - ETA: 2s - loss: 0.9631 - acc: 0.539 - ETA: 2s - loss: 0.9728 - acc: 0.528 - ETA: 2s - loss: 0.9699 - acc: 0.535 - ETA: 1s - loss: 0.9773 - acc: 0.528 - ETA: 1s - loss: 0.9674 - acc: 0.537 - ETA: 1s - loss: 0.9746 - acc: 0.532 - ETA: 1s - loss: 0.9722 - acc: 0.534 - ETA: 1s - loss: 0.9682 - acc: 0.539 - ETA: 1s - loss: 0.9647 - acc: 0.541 - ETA: 1s - loss: 0.9689 - acc: 0.539 - ETA: 1s - loss: 0.9707 - acc: 0.538 - ETA: 1s - loss: 0.9690 - acc: 0.538 - ETA: 1s - loss: 0.9737 - acc: 0.534 - ETA: 1s - loss: 0.9742 - acc: 0.536 - ETA: 1s - loss: 0.9761 - acc: 0.534 - ETA: 1s - loss: 0.9738 - acc: 0.536 - ETA: 1s - loss: 0.9743 - acc: 0.536 - ETA: 1s - loss: 0.9760 - acc: 0.535 - ETA: 1s - loss: 0.9777 - acc: 0.533 - ETA: 1s - loss: 0.9794 - acc: 0.532 - ETA: 1s - loss: 0.9791 - acc: 0.532 - ETA: 1s - loss: 0.9793 - acc: 0.532 - ETA: 1s - loss: 0.9812 - acc: 0.531 - ETA: 1s - loss: 0.9792 - acc: 0.534 - ETA: 0s - loss: 0.9797 - acc: 0.534 - ETA: 0s - loss: 0.9791 - acc: 0.535 - ETA: 0s - loss: 0.9783 - acc: 0.535 - ETA: 0s - loss: 0.9781 - acc: 0.536 - ETA: 0s - loss: 0.9798 - acc: 0.536 - ETA: 0s - loss: 0.9803 - acc: 0.534 - ETA: 0s - loss: 0.9818 - acc: 0.533 - ETA: 0s - loss: 0.9835 - acc: 0.532 - ETA: 0s - loss: 0.9829 - acc: 0.533 - ETA: 0s - loss: 0.9837 - acc: 0.532 - ETA: 0s - loss: 0.9848 - acc: 0.531 - ETA: 0s - loss: 0.9840 - acc: 0.532 - ETA: 0s - loss: 0.9841 - acc: 0.532 - ETA: 0s - loss: 0.9845 - acc: 0.530 - ETA: 0s - loss: 0.9843 - acc: 0.530 - ETA: 0s - loss: 0.9831 - acc: 0.531 - ETA: 0s - loss: 0.9829 - acc: 0.531 - ETA: 0s - loss: 0.9840 - acc: 0.530 - ETA: 0s - loss: 0.9836 - acc: 0.531 - 3s 384us/sample - loss: 0.9843 - acc: 0.5307 - val_loss: 0.9755 - val_acc: 0.5347\n",
      "Epoch 10/10\n",
      "7112/7112 [==============================] - ETA: 9s - loss: 1.0629 - acc: 0.300 - ETA: 3s - loss: 0.9843 - acc: 0.533 - ETA: 3s - loss: 0.9881 - acc: 0.503 - ETA: 2s - loss: 0.9751 - acc: 0.520 - ETA: 2s - loss: 0.9851 - acc: 0.520 - ETA: 2s - loss: 0.9904 - acc: 0.517 - ETA: 2s - loss: 0.9835 - acc: 0.527 - ETA: 2s - loss: 0.9880 - acc: 0.524 - ETA: 2s - loss: 0.9936 - acc: 0.523 - ETA: 1s - loss: 0.9930 - acc: 0.523 - ETA: 1s - loss: 0.9973 - acc: 0.518 - ETA: 1s - loss: 0.9957 - acc: 0.519 - ETA: 1s - loss: 0.9915 - acc: 0.523 - ETA: 1s - loss: 0.9940 - acc: 0.521 - ETA: 1s - loss: 0.9953 - acc: 0.521 - ETA: 1s - loss: 0.9910 - acc: 0.524 - ETA: 1s - loss: 0.9938 - acc: 0.521 - ETA: 1s - loss: 0.9916 - acc: 0.525 - ETA: 1s - loss: 0.9940 - acc: 0.522 - ETA: 1s - loss: 0.9942 - acc: 0.520 - ETA: 1s - loss: 0.9911 - acc: 0.522 - ETA: 1s - loss: 0.9914 - acc: 0.524 - ETA: 1s - loss: 0.9886 - acc: 0.528 - ETA: 1s - loss: 0.9889 - acc: 0.528 - ETA: 1s - loss: 0.9881 - acc: 0.529 - ETA: 1s - loss: 0.9894 - acc: 0.528 - ETA: 1s - loss: 0.9892 - acc: 0.528 - ETA: 1s - loss: 0.9878 - acc: 0.530 - ETA: 1s - loss: 0.9876 - acc: 0.530 - ETA: 1s - loss: 0.9870 - acc: 0.531 - ETA: 1s - loss: 0.9867 - acc: 0.532 - ETA: 1s - loss: 0.9868 - acc: 0.531 - ETA: 1s - loss: 0.9859 - acc: 0.532 - ETA: 1s - loss: 0.9884 - acc: 0.530 - ETA: 1s - loss: 0.9886 - acc: 0.530 - ETA: 1s - loss: 0.9880 - acc: 0.532 - ETA: 0s - loss: 0.9880 - acc: 0.531 - ETA: 0s - loss: 0.9845 - acc: 0.534 - ETA: 0s - loss: 0.9862 - acc: 0.532 - ETA: 0s - loss: 0.9865 - acc: 0.531 - ETA: 0s - loss: 0.9866 - acc: 0.531 - ETA: 0s - loss: 0.9860 - acc: 0.533 - ETA: 0s - loss: 0.9861 - acc: 0.531 - ETA: 0s - loss: 0.9865 - acc: 0.529 - ETA: 0s - loss: 0.9859 - acc: 0.528 - ETA: 0s - loss: 0.9856 - acc: 0.528 - ETA: 0s - loss: 0.9858 - acc: 0.526 - ETA: 0s - loss: 0.9850 - acc: 0.527 - ETA: 0s - loss: 0.9857 - acc: 0.527 - ETA: 0s - loss: 0.9865 - acc: 0.525 - ETA: 0s - loss: 0.9868 - acc: 0.525 - ETA: 0s - loss: 0.9867 - acc: 0.525 - ETA: 0s - loss: 0.9845 - acc: 0.527 - 3s 435us/sample - loss: 0.9853 - acc: 0.5273 - val_loss: 0.9747 - val_acc: 0.5322\n"
     ]
    },
    {
     "data": {
      "text/html": [
       "<span style=\"color:#4527A0\"><h1 style=\"font-size:18px\">Trial complete</h1></span>"
      ],
      "text/plain": [
       "<IPython.core.display.HTML object>"
      ]
     },
     "metadata": {},
     "output_type": "display_data"
    },
    {
     "data": {
      "text/html": [
       "<span style=\"color:#4527A0\"><h1 style=\"font-size:18px\">Trial summary</h1></span>"
      ],
      "text/plain": [
       "<IPython.core.display.HTML object>"
      ]
     },
     "metadata": {},
     "output_type": "display_data"
    },
    {
     "data": {
      "text/html": [
       "<span style=\"color:cyan\"> |-Trial ID: dad9865cbd0b34455212fbfcec9b02a5</span>"
      ],
      "text/plain": [
       "<IPython.core.display.HTML object>"
      ]
     },
     "metadata": {},
     "output_type": "display_data"
    },
    {
     "data": {
      "text/html": [
       "<span style=\"color:cyan\"> |-Score: 0.5347341299057007</span>"
      ],
      "text/plain": [
       "<IPython.core.display.HTML object>"
      ]
     },
     "metadata": {},
     "output_type": "display_data"
    },
    {
     "data": {
      "text/html": [
       "<span style=\"color:cyan\"> |-Best step: 0</span>"
      ],
      "text/plain": [
       "<IPython.core.display.HTML object>"
      ]
     },
     "metadata": {},
     "output_type": "display_data"
    },
    {
     "data": {
      "text/html": [
       "<span style=\"color:#7E57C2\"><h2 style=\"font-size:16px\">Hyperparameters:</h2></span>"
      ],
      "text/plain": [
       "<IPython.core.display.HTML object>"
      ]
     },
     "metadata": {},
     "output_type": "display_data"
    },
    {
     "data": {
      "text/html": [
       "<span style=\"color:cyan\"> |-layer_0_neurons: 150</span>"
      ],
      "text/plain": [
       "<IPython.core.display.HTML object>"
      ]
     },
     "metadata": {},
     "output_type": "display_data"
    },
    {
     "data": {
      "text/html": [
       "<span style=\"color:blue\"> |-layer_1_neurons: 70</span>"
      ],
      "text/plain": [
       "<IPython.core.display.HTML object>"
      ]
     },
     "metadata": {},
     "output_type": "display_data"
    },
    {
     "data": {
      "text/html": [
       "<span style=\"color:cyan\"> |-layer_2_neurons: 150</span>"
      ],
      "text/plain": [
       "<IPython.core.display.HTML object>"
      ]
     },
     "metadata": {},
     "output_type": "display_data"
    },
    {
     "data": {
      "text/html": [
       "<span style=\"color:blue\"> |-layer_3_neurons: 170</span>"
      ],
      "text/plain": [
       "<IPython.core.display.HTML object>"
      ]
     },
     "metadata": {},
     "output_type": "display_data"
    },
    {
     "data": {
      "text/html": [
       "<span style=\"color:cyan\"> |-n_input_neurons: 50</span>"
      ],
      "text/plain": [
       "<IPython.core.display.HTML object>"
      ]
     },
     "metadata": {},
     "output_type": "display_data"
    },
    {
     "data": {
      "text/html": [
       "<span style=\"color:blue\"> |-n_layers: 2</span>"
      ],
      "text/plain": [
       "<IPython.core.display.HTML object>"
      ]
     },
     "metadata": {},
     "output_type": "display_data"
    },
    {
     "name": "stdout",
     "output_type": "stream",
     "text": [
      "Train on 7112 samples, validate on 2332 samples\n",
      "Epoch 1/10\n",
      "7112/7112 [==============================] - ETA: 4:26 - loss: 1.5882 - acc: 0.200 - ETA: 24s - loss: 1.0914 - acc: 0.433 - ETA: 13s - loss: 1.1014 - acc: 0.38 - ETA: 9s - loss: 1.0853 - acc: 0.4000 - ETA: 7s - loss: 1.0676 - acc: 0.429 - ETA: 6s - loss: 1.0508 - acc: 0.445 - ETA: 6s - loss: 1.0471 - acc: 0.455 - ETA: 5s - loss: 1.0511 - acc: 0.454 - ETA: 5s - loss: 1.0503 - acc: 0.455 - ETA: 4s - loss: 1.0424 - acc: 0.468 - ETA: 4s - loss: 1.0392 - acc: 0.478 - ETA: 4s - loss: 1.0336 - acc: 0.482 - ETA: 3s - loss: 1.0366 - acc: 0.483 - ETA: 3s - loss: 1.0350 - acc: 0.485 - ETA: 3s - loss: 1.0307 - acc: 0.491 - ETA: 3s - loss: 1.0318 - acc: 0.489 - ETA: 3s - loss: 1.0306 - acc: 0.489 - ETA: 3s - loss: 1.0291 - acc: 0.492 - ETA: 2s - loss: 1.0260 - acc: 0.494 - ETA: 2s - loss: 1.0249 - acc: 0.495 - ETA: 2s - loss: 1.0249 - acc: 0.494 - ETA: 2s - loss: 1.0249 - acc: 0.493 - ETA: 2s - loss: 1.0257 - acc: 0.492 - ETA: 2s - loss: 1.0262 - acc: 0.490 - ETA: 2s - loss: 1.0275 - acc: 0.487 - ETA: 2s - loss: 1.0280 - acc: 0.487 - ETA: 2s - loss: 1.0288 - acc: 0.486 - ETA: 2s - loss: 1.0304 - acc: 0.483 - ETA: 2s - loss: 1.0304 - acc: 0.484 - ETA: 2s - loss: 1.0284 - acc: 0.486 - ETA: 2s - loss: 1.0303 - acc: 0.484 - ETA: 2s - loss: 1.0297 - acc: 0.486 - ETA: 2s - loss: 1.0280 - acc: 0.488 - ETA: 1s - loss: 1.0297 - acc: 0.487 - ETA: 1s - loss: 1.0290 - acc: 0.488 - ETA: 1s - loss: 1.0273 - acc: 0.491 - ETA: 1s - loss: 1.0267 - acc: 0.492 - ETA: 1s - loss: 1.0253 - acc: 0.495 - ETA: 1s - loss: 1.0242 - acc: 0.496 - ETA: 1s - loss: 1.0233 - acc: 0.497 - ETA: 1s - loss: 1.0221 - acc: 0.499 - ETA: 1s - loss: 1.0220 - acc: 0.499 - ETA: 1s - loss: 1.0216 - acc: 0.499 - ETA: 1s - loss: 1.0214 - acc: 0.500 - ETA: 1s - loss: 1.0214 - acc: 0.500 - ETA: 1s - loss: 1.0210 - acc: 0.500 - ETA: 1s - loss: 1.0223 - acc: 0.498 - ETA: 1s - loss: 1.0218 - acc: 0.499 - ETA: 1s - loss: 1.0214 - acc: 0.500 - ETA: 1s - loss: 1.0203 - acc: 0.500 - ETA: 1s - loss: 1.0201 - acc: 0.501 - ETA: 1s - loss: 1.0200 - acc: 0.500 - ETA: 1s - loss: 1.0199 - acc: 0.501 - ETA: 1s - loss: 1.0199 - acc: 0.500 - ETA: 1s - loss: 1.0207 - acc: 0.499 - ETA: 1s - loss: 1.0209 - acc: 0.500 - ETA: 1s - loss: 1.0209 - acc: 0.500 - ETA: 0s - loss: 1.0207 - acc: 0.500 - ETA: 0s - loss: 1.0204 - acc: 0.500 - ETA: 0s - loss: 1.0201 - acc: 0.501 - ETA: 0s - loss: 1.0186 - acc: 0.502 - ETA: 0s - loss: 1.0175 - acc: 0.504 - ETA: 0s - loss: 1.0155 - acc: 0.506 - ETA: 0s - loss: 1.0144 - acc: 0.505 - ETA: 0s - loss: 1.0150 - acc: 0.505 - ETA: 0s - loss: 1.0145 - acc: 0.506 - ETA: 0s - loss: 1.0142 - acc: 0.507 - ETA: 0s - loss: 1.0153 - acc: 0.506 - ETA: 0s - loss: 1.0152 - acc: 0.505 - ETA: 0s - loss: 1.0154 - acc: 0.505 - ETA: 0s - loss: 1.0155 - acc: 0.506 - ETA: 0s - loss: 1.0153 - acc: 0.506 - ETA: 0s - loss: 1.0152 - acc: 0.506 - ETA: 0s - loss: 1.0147 - acc: 0.507 - ETA: 0s - loss: 1.0144 - acc: 0.507 - 11s 2ms/sample - loss: 1.0144 - acc: 0.5077 - val_loss: 0.9845 - val_acc: 0.5266\n",
      "Epoch 2/10\n",
      "7112/7112 [==============================] - ETA: 10s - loss: 1.0219 - acc: 0.60 - ETA: 3s - loss: 1.0103 - acc: 0.5083 - ETA: 3s - loss: 1.0285 - acc: 0.481 - ETA: 3s - loss: 1.0212 - acc: 0.476 - ETA: 3s - loss: 1.0099 - acc: 0.492 - ETA: 3s - loss: 1.0148 - acc: 0.498 - ETA: 3s - loss: 1.0148 - acc: 0.504 - ETA: 3s - loss: 1.0080 - acc: 0.510 - ETA: 2s - loss: 1.0124 - acc: 0.506 - ETA: 2s - loss: 1.0093 - acc: 0.511 - ETA: 2s - loss: 1.0063 - acc: 0.514 - ETA: 2s - loss: 1.0047 - acc: 0.517 - ETA: 2s - loss: 1.0119 - acc: 0.508 - ETA: 2s - loss: 1.0168 - acc: 0.503 - ETA: 2s - loss: 1.0188 - acc: 0.503 - ETA: 2s - loss: 1.0180 - acc: 0.504 - ETA: 2s - loss: 1.0143 - acc: 0.508 - ETA: 2s - loss: 1.0113 - acc: 0.511 - ETA: 2s - loss: 1.0102 - acc: 0.513 - ETA: 2s - loss: 1.0091 - acc: 0.515 - ETA: 2s - loss: 1.0074 - acc: 0.516 - ETA: 2s - loss: 1.0055 - acc: 0.517 - ETA: 2s - loss: 1.0044 - acc: 0.517 - ETA: 2s - loss: 1.0046 - acc: 0.516 - ETA: 2s - loss: 1.0036 - acc: 0.519 - ETA: 2s - loss: 1.0025 - acc: 0.519 - ETA: 1s - loss: 1.0025 - acc: 0.519 - ETA: 1s - loss: 1.0022 - acc: 0.518 - ETA: 1s - loss: 1.0036 - acc: 0.516 - ETA: 1s - loss: 1.0050 - acc: 0.514 - ETA: 1s - loss: 1.0072 - acc: 0.511 - ETA: 1s - loss: 1.0060 - acc: 0.513 - ETA: 1s - loss: 1.0061 - acc: 0.512 - ETA: 1s - loss: 1.0058 - acc: 0.513 - ETA: 1s - loss: 1.0020 - acc: 0.516 - ETA: 1s - loss: 1.0030 - acc: 0.515 - ETA: 1s - loss: 1.0042 - acc: 0.514 - ETA: 1s - loss: 1.0041 - acc: 0.513 - ETA: 1s - loss: 1.0038 - acc: 0.512 - ETA: 1s - loss: 1.0045 - acc: 0.512 - ETA: 1s - loss: 1.0051 - acc: 0.513 - ETA: 1s - loss: 1.0034 - acc: 0.515 - ETA: 1s - loss: 1.0032 - acc: 0.516 - ETA: 1s - loss: 1.0034 - acc: 0.515 - ETA: 1s - loss: 1.0019 - acc: 0.516 - ETA: 0s - loss: 1.0015 - acc: 0.516 - ETA: 0s - loss: 1.0013 - acc: 0.516 - ETA: 0s - loss: 1.0012 - acc: 0.517 - ETA: 0s - loss: 1.0007 - acc: 0.518 - ETA: 0s - loss: 1.0008 - acc: 0.518 - ETA: 0s - loss: 0.9996 - acc: 0.518 - ETA: 0s - loss: 0.9980 - acc: 0.519 - ETA: 0s - loss: 0.9971 - acc: 0.520 - ETA: 0s - loss: 0.9961 - acc: 0.521 - ETA: 0s - loss: 0.9945 - acc: 0.523 - ETA: 0s - loss: 0.9939 - acc: 0.524 - ETA: 0s - loss: 0.9943 - acc: 0.524 - ETA: 0s - loss: 0.9939 - acc: 0.524 - ETA: 0s - loss: 0.9929 - acc: 0.525 - ETA: 0s - loss: 0.9929 - acc: 0.525 - ETA: 0s - loss: 0.9942 - acc: 0.523 - ETA: 0s - loss: 0.9941 - acc: 0.523 - ETA: 0s - loss: 0.9945 - acc: 0.522 - ETA: 0s - loss: 0.9951 - acc: 0.521 - ETA: 0s - loss: 0.9950 - acc: 0.522 - ETA: 0s - loss: 0.9965 - acc: 0.521 - 4s 541us/sample - loss: 0.9967 - acc: 0.5207 - val_loss: 0.9996 - val_acc: 0.5304\n",
      "Epoch 3/10\n"
     ]
    },
    {
     "name": "stdout",
     "output_type": "stream",
     "text": [
      "7112/7112 [==============================] - ETA: 9s - loss: 0.7862 - acc: 0.900 - ETA: 4s - loss: 1.0258 - acc: 0.510 - ETA: 3s - loss: 1.0074 - acc: 0.519 - ETA: 3s - loss: 1.0115 - acc: 0.518 - ETA: 3s - loss: 1.0106 - acc: 0.504 - ETA: 3s - loss: 1.0072 - acc: 0.506 - ETA: 2s - loss: 0.9914 - acc: 0.522 - ETA: 2s - loss: 0.9944 - acc: 0.521 - ETA: 2s - loss: 0.9938 - acc: 0.528 - ETA: 2s - loss: 0.9931 - acc: 0.529 - ETA: 2s - loss: 0.9879 - acc: 0.532 - ETA: 2s - loss: 0.9880 - acc: 0.531 - ETA: 2s - loss: 0.9902 - acc: 0.530 - ETA: 2s - loss: 0.9887 - acc: 0.531 - ETA: 2s - loss: 0.9917 - acc: 0.530 - ETA: 2s - loss: 0.9902 - acc: 0.533 - ETA: 2s - loss: 0.9940 - acc: 0.529 - ETA: 2s - loss: 0.9905 - acc: 0.534 - ETA: 2s - loss: 0.9944 - acc: 0.529 - ETA: 2s - loss: 0.9951 - acc: 0.529 - ETA: 2s - loss: 0.9968 - acc: 0.527 - ETA: 2s - loss: 0.9977 - acc: 0.525 - ETA: 2s - loss: 0.9962 - acc: 0.526 - ETA: 2s - loss: 0.9938 - acc: 0.529 - ETA: 2s - loss: 0.9949 - acc: 0.527 - ETA: 1s - loss: 0.9938 - acc: 0.527 - ETA: 1s - loss: 0.9909 - acc: 0.529 - ETA: 1s - loss: 0.9884 - acc: 0.530 - ETA: 1s - loss: 0.9907 - acc: 0.529 - ETA: 1s - loss: 0.9908 - acc: 0.528 - ETA: 1s - loss: 0.9922 - acc: 0.528 - ETA: 1s - loss: 0.9946 - acc: 0.526 - ETA: 1s - loss: 0.9949 - acc: 0.525 - ETA: 1s - loss: 0.9953 - acc: 0.524 - ETA: 1s - loss: 0.9969 - acc: 0.521 - ETA: 1s - loss: 0.9982 - acc: 0.520 - ETA: 1s - loss: 0.9969 - acc: 0.521 - ETA: 1s - loss: 0.9971 - acc: 0.521 - ETA: 1s - loss: 0.9971 - acc: 0.521 - ETA: 1s - loss: 0.9962 - acc: 0.521 - ETA: 1s - loss: 0.9973 - acc: 0.520 - ETA: 1s - loss: 0.9981 - acc: 0.519 - ETA: 1s - loss: 0.9987 - acc: 0.519 - ETA: 0s - loss: 0.9981 - acc: 0.520 - ETA: 0s - loss: 0.9980 - acc: 0.520 - ETA: 1s - loss: 0.9978 - acc: 0.520 - ETA: 1s - loss: 0.9976 - acc: 0.520 - ETA: 1s - loss: 0.9977 - acc: 0.520 - ETA: 1s - loss: 0.9998 - acc: 0.518 - ETA: 0s - loss: 0.9985 - acc: 0.519 - ETA: 0s - loss: 0.9972 - acc: 0.520 - ETA: 0s - loss: 0.9975 - acc: 0.519 - ETA: 0s - loss: 0.9983 - acc: 0.519 - ETA: 0s - loss: 1.0000 - acc: 0.517 - ETA: 0s - loss: 0.9991 - acc: 0.519 - ETA: 0s - loss: 0.9982 - acc: 0.520 - ETA: 0s - loss: 0.9984 - acc: 0.519 - ETA: 0s - loss: 0.9977 - acc: 0.520 - ETA: 0s - loss: 0.9961 - acc: 0.522 - ETA: 0s - loss: 0.9949 - acc: 0.523 - ETA: 0s - loss: 0.9933 - acc: 0.524 - ETA: 0s - loss: 0.9921 - acc: 0.525 - ETA: 0s - loss: 0.9922 - acc: 0.525 - ETA: 0s - loss: 0.9923 - acc: 0.525 - ETA: 0s - loss: 0.9921 - acc: 0.525 - ETA: 0s - loss: 0.9925 - acc: 0.524 - ETA: 0s - loss: 0.9930 - acc: 0.524 - ETA: 0s - loss: 0.9929 - acc: 0.524 - ETA: 0s - loss: 0.9922 - acc: 0.525 - ETA: 0s - loss: 0.9924 - acc: 0.524 - 4s 566us/sample - loss: 0.9919 - acc: 0.5254 - val_loss: 0.9943 - val_acc: 0.5270\n",
      "Epoch 4/10\n",
      "7112/7112 [==============================] - ETA: 5s - loss: 0.9339 - acc: 0.800 - ETA: 4s - loss: 0.9811 - acc: 0.540 - ETA: 3s - loss: 0.9932 - acc: 0.550 - ETA: 3s - loss: 0.9853 - acc: 0.558 - ETA: 3s - loss: 0.9790 - acc: 0.561 - ETA: 3s - loss: 0.9723 - acc: 0.559 - ETA: 3s - loss: 0.9630 - acc: 0.559 - ETA: 3s - loss: 0.9700 - acc: 0.551 - ETA: 2s - loss: 0.9798 - acc: 0.536 - ETA: 2s - loss: 0.9719 - acc: 0.548 - ETA: 2s - loss: 0.9815 - acc: 0.545 - ETA: 2s - loss: 0.9844 - acc: 0.539 - ETA: 2s - loss: 0.9885 - acc: 0.532 - ETA: 2s - loss: 0.9908 - acc: 0.532 - ETA: 2s - loss: 0.9882 - acc: 0.533 - ETA: 2s - loss: 0.9915 - acc: 0.529 - ETA: 2s - loss: 0.9921 - acc: 0.526 - ETA: 2s - loss: 0.9925 - acc: 0.527 - ETA: 2s - loss: 0.9910 - acc: 0.527 - ETA: 2s - loss: 0.9905 - acc: 0.527 - ETA: 2s - loss: 0.9876 - acc: 0.528 - ETA: 1s - loss: 0.9876 - acc: 0.526 - ETA: 1s - loss: 0.9876 - acc: 0.527 - ETA: 1s - loss: 0.9865 - acc: 0.528 - ETA: 1s - loss: 0.9868 - acc: 0.527 - ETA: 1s - loss: 0.9848 - acc: 0.529 - ETA: 1s - loss: 0.9864 - acc: 0.529 - ETA: 1s - loss: 0.9858 - acc: 0.529 - ETA: 1s - loss: 0.9861 - acc: 0.529 - ETA: 1s - loss: 0.9862 - acc: 0.528 - ETA: 1s - loss: 0.9861 - acc: 0.528 - ETA: 1s - loss: 0.9867 - acc: 0.528 - ETA: 1s - loss: 0.9885 - acc: 0.526 - ETA: 1s - loss: 0.9890 - acc: 0.526 - ETA: 1s - loss: 0.9884 - acc: 0.526 - ETA: 1s - loss: 0.9874 - acc: 0.528 - ETA: 1s - loss: 0.9851 - acc: 0.531 - ETA: 1s - loss: 0.9884 - acc: 0.528 - ETA: 1s - loss: 0.9887 - acc: 0.527 - ETA: 1s - loss: 0.9890 - acc: 0.527 - ETA: 1s - loss: 0.9889 - acc: 0.527 - ETA: 1s - loss: 0.9891 - acc: 0.527 - ETA: 1s - loss: 0.9875 - acc: 0.528 - ETA: 1s - loss: 0.9890 - acc: 0.527 - ETA: 0s - loss: 0.9886 - acc: 0.527 - ETA: 0s - loss: 0.9873 - acc: 0.528 - ETA: 0s - loss: 0.9859 - acc: 0.530 - ETA: 0s - loss: 0.9849 - acc: 0.531 - ETA: 0s - loss: 0.9839 - acc: 0.531 - ETA: 0s - loss: 0.9846 - acc: 0.530 - ETA: 0s - loss: 0.9844 - acc: 0.530 - ETA: 0s - loss: 0.9856 - acc: 0.530 - ETA: 0s - loss: 0.9853 - acc: 0.529 - ETA: 0s - loss: 0.9859 - acc: 0.528 - ETA: 0s - loss: 0.9881 - acc: 0.525 - ETA: 0s - loss: 0.9880 - acc: 0.525 - ETA: 0s - loss: 0.9890 - acc: 0.524 - ETA: 0s - loss: 0.9891 - acc: 0.523 - ETA: 0s - loss: 0.9900 - acc: 0.522 - ETA: 0s - loss: 0.9895 - acc: 0.523 - ETA: 0s - loss: 0.9893 - acc: 0.522 - ETA: 0s - loss: 0.9896 - acc: 0.522 - 4s 518us/sample - loss: 0.9897 - acc: 0.5225 - val_loss: 0.9858 - val_acc: 0.5334\n",
      "Epoch 5/10\n",
      "7112/7112 [==============================] - ETA: 21s - loss: 0.9061 - acc: 0.60 - ETA: 9s - loss: 1.0872 - acc: 0.4333 - ETA: 10s - loss: 1.0856 - acc: 0.44 - ETA: 8s - loss: 1.0496 - acc: 0.4812 - ETA: 6s - loss: 1.0224 - acc: 0.488 - ETA: 5s - loss: 1.0141 - acc: 0.508 - ETA: 4s - loss: 0.9965 - acc: 0.529 - ETA: 4s - loss: 0.9906 - acc: 0.533 - ETA: 3s - loss: 0.9892 - acc: 0.531 - ETA: 3s - loss: 0.9866 - acc: 0.531 - ETA: 3s - loss: 0.9851 - acc: 0.534 - ETA: 3s - loss: 0.9802 - acc: 0.540 - ETA: 3s - loss: 0.9845 - acc: 0.535 - ETA: 2s - loss: 0.9813 - acc: 0.534 - ETA: 2s - loss: 0.9813 - acc: 0.530 - ETA: 2s - loss: 0.9805 - acc: 0.532 - ETA: 2s - loss: 0.9802 - acc: 0.532 - ETA: 2s - loss: 0.9787 - acc: 0.534 - ETA: 2s - loss: 0.9759 - acc: 0.536 - ETA: 2s - loss: 0.9798 - acc: 0.535 - ETA: 2s - loss: 0.9830 - acc: 0.533 - ETA: 2s - loss: 0.9831 - acc: 0.535 - ETA: 2s - loss: 0.9814 - acc: 0.535 - ETA: 2s - loss: 0.9830 - acc: 0.532 - ETA: 2s - loss: 0.9841 - acc: 0.532 - ETA: 2s - loss: 0.9854 - acc: 0.530 - ETA: 1s - loss: 0.9835 - acc: 0.532 - ETA: 1s - loss: 0.9861 - acc: 0.529 - ETA: 1s - loss: 0.9863 - acc: 0.529 - ETA: 1s - loss: 0.9881 - acc: 0.526 - ETA: 1s - loss: 0.9884 - acc: 0.526 - ETA: 1s - loss: 0.9880 - acc: 0.525 - ETA: 1s - loss: 0.9878 - acc: 0.525 - ETA: 1s - loss: 0.9882 - acc: 0.524 - ETA: 1s - loss: 0.9903 - acc: 0.522 - ETA: 1s - loss: 0.9876 - acc: 0.523 - ETA: 1s - loss: 0.9880 - acc: 0.523 - ETA: 1s - loss: 0.9881 - acc: 0.524 - ETA: 1s - loss: 0.9880 - acc: 0.524 - ETA: 1s - loss: 0.9883 - acc: 0.523 - ETA: 1s - loss: 0.9909 - acc: 0.521 - ETA: 1s - loss: 0.9906 - acc: 0.522 - ETA: 1s - loss: 0.9916 - acc: 0.521 - ETA: 0s - loss: 0.9926 - acc: 0.521 - ETA: 0s - loss: 0.9913 - acc: 0.522 - ETA: 0s - loss: 0.9923 - acc: 0.521 - ETA: 0s - loss: 0.9915 - acc: 0.522 - ETA: 0s - loss: 0.9910 - acc: 0.522 - ETA: 0s - loss: 0.9911 - acc: 0.522 - ETA: 0s - loss: 0.9909 - acc: 0.522 - ETA: 0s - loss: 0.9898 - acc: 0.522 - ETA: 0s - loss: 0.9895 - acc: 0.522 - ETA: 0s - loss: 0.9894 - acc: 0.522 - ETA: 0s - loss: 0.9897 - acc: 0.524 - ETA: 0s - loss: 0.9909 - acc: 0.522 - ETA: 0s - loss: 0.9908 - acc: 0.522 - ETA: 0s - loss: 0.9902 - acc: 0.524 - ETA: 0s - loss: 0.9906 - acc: 0.523 - ETA: 0s - loss: 0.9914 - acc: 0.523 - ETA: 0s - loss: 0.9911 - acc: 0.523 - ETA: 0s - loss: 0.9908 - acc: 0.524 - ETA: 0s - loss: 0.9902 - acc: 0.524 - 4s 510us/sample - loss: 0.9898 - acc: 0.5253 - val_loss: 0.9726 - val_acc: 0.5304\n",
      "Epoch 6/10\n"
     ]
    },
    {
     "name": "stdout",
     "output_type": "stream",
     "text": [
      "7112/7112 [==============================] - ETA: 9s - loss: 0.8572 - acc: 0.700 - ETA: 4s - loss: 0.9429 - acc: 0.570 - ETA: 4s - loss: 0.9874 - acc: 0.510 - ETA: 3s - loss: 0.9804 - acc: 0.526 - ETA: 3s - loss: 0.9794 - acc: 0.529 - ETA: 3s - loss: 0.9653 - acc: 0.543 - ETA: 3s - loss: 0.9647 - acc: 0.539 - ETA: 3s - loss: 0.9721 - acc: 0.533 - ETA: 3s - loss: 0.9664 - acc: 0.540 - ETA: 3s - loss: 0.9644 - acc: 0.542 - ETA: 4s - loss: 0.9640 - acc: 0.542 - ETA: 4s - loss: 0.9804 - acc: 0.532 - ETA: 4s - loss: 0.9758 - acc: 0.536 - ETA: 4s - loss: 0.9791 - acc: 0.533 - ETA: 3s - loss: 0.9831 - acc: 0.528 - ETA: 3s - loss: 0.9841 - acc: 0.527 - ETA: 3s - loss: 0.9862 - acc: 0.523 - ETA: 3s - loss: 0.9843 - acc: 0.528 - ETA: 3s - loss: 0.9842 - acc: 0.528 - ETA: 3s - loss: 0.9850 - acc: 0.530 - ETA: 3s - loss: 0.9828 - acc: 0.531 - ETA: 3s - loss: 0.9816 - acc: 0.535 - ETA: 3s - loss: 0.9802 - acc: 0.535 - ETA: 3s - loss: 0.9781 - acc: 0.534 - ETA: 3s - loss: 0.9832 - acc: 0.529 - ETA: 2s - loss: 0.9829 - acc: 0.529 - ETA: 2s - loss: 0.9852 - acc: 0.527 - ETA: 2s - loss: 0.9845 - acc: 0.527 - ETA: 2s - loss: 0.9870 - acc: 0.523 - ETA: 2s - loss: 0.9888 - acc: 0.523 - ETA: 2s - loss: 0.9901 - acc: 0.523 - ETA: 2s - loss: 0.9888 - acc: 0.525 - ETA: 2s - loss: 0.9890 - acc: 0.524 - ETA: 2s - loss: 0.9873 - acc: 0.527 - ETA: 2s - loss: 0.9884 - acc: 0.525 - ETA: 1s - loss: 0.9883 - acc: 0.524 - ETA: 1s - loss: 0.9872 - acc: 0.526 - ETA: 1s - loss: 0.9882 - acc: 0.527 - ETA: 1s - loss: 0.9881 - acc: 0.525 - ETA: 1s - loss: 0.9876 - acc: 0.526 - ETA: 1s - loss: 0.9877 - acc: 0.527 - ETA: 1s - loss: 0.9864 - acc: 0.528 - ETA: 1s - loss: 0.9889 - acc: 0.526 - ETA: 1s - loss: 0.9901 - acc: 0.525 - ETA: 1s - loss: 0.9891 - acc: 0.526 - ETA: 1s - loss: 0.9897 - acc: 0.525 - ETA: 1s - loss: 0.9904 - acc: 0.525 - ETA: 1s - loss: 0.9907 - acc: 0.526 - ETA: 1s - loss: 0.9902 - acc: 0.527 - ETA: 0s - loss: 0.9899 - acc: 0.527 - ETA: 0s - loss: 0.9910 - acc: 0.527 - ETA: 0s - loss: 0.9907 - acc: 0.527 - ETA: 0s - loss: 0.9914 - acc: 0.526 - ETA: 0s - loss: 0.9920 - acc: 0.526 - ETA: 0s - loss: 0.9911 - acc: 0.526 - ETA: 0s - loss: 0.9893 - acc: 0.528 - ETA: 0s - loss: 0.9901 - acc: 0.528 - ETA: 0s - loss: 0.9898 - acc: 0.528 - ETA: 0s - loss: 0.9895 - acc: 0.529 - ETA: 0s - loss: 0.9903 - acc: 0.528 - ETA: 0s - loss: 0.9901 - acc: 0.528 - ETA: 0s - loss: 0.9898 - acc: 0.529 - ETA: 0s - loss: 0.9902 - acc: 0.528 - ETA: 0s - loss: 0.9894 - acc: 0.527 - ETA: 0s - loss: 0.9894 - acc: 0.527 - ETA: 0s - loss: 0.9895 - acc: 0.527 - 4s 538us/sample - loss: 0.9893 - acc: 0.5274 - val_loss: 0.9752 - val_acc: 0.5352\n",
      "Epoch 7/10\n",
      "7112/7112 [==============================] - ETA: 9s - loss: 0.9809 - acc: 0.600 - ETA: 3s - loss: 0.9529 - acc: 0.591 - ETA: 3s - loss: 0.9591 - acc: 0.564 - ETA: 3s - loss: 0.9563 - acc: 0.560 - ETA: 2s - loss: 0.9530 - acc: 0.566 - ETA: 2s - loss: 0.9609 - acc: 0.561 - ETA: 2s - loss: 0.9674 - acc: 0.554 - ETA: 2s - loss: 0.9854 - acc: 0.541 - ETA: 2s - loss: 0.9879 - acc: 0.536 - ETA: 2s - loss: 0.9881 - acc: 0.538 - ETA: 2s - loss: 0.9843 - acc: 0.542 - ETA: 2s - loss: 0.9825 - acc: 0.542 - ETA: 2s - loss: 0.9814 - acc: 0.542 - ETA: 2s - loss: 0.9798 - acc: 0.540 - ETA: 2s - loss: 0.9820 - acc: 0.535 - ETA: 2s - loss: 0.9792 - acc: 0.539 - ETA: 2s - loss: 0.9825 - acc: 0.536 - ETA: 2s - loss: 0.9782 - acc: 0.540 - ETA: 2s - loss: 0.9773 - acc: 0.540 - ETA: 2s - loss: 0.9759 - acc: 0.538 - ETA: 2s - loss: 0.9788 - acc: 0.537 - ETA: 1s - loss: 0.9772 - acc: 0.538 - ETA: 1s - loss: 0.9773 - acc: 0.539 - ETA: 1s - loss: 0.9739 - acc: 0.542 - ETA: 1s - loss: 0.9726 - acc: 0.544 - ETA: 1s - loss: 0.9747 - acc: 0.543 - ETA: 1s - loss: 0.9711 - acc: 0.546 - ETA: 1s - loss: 0.9747 - acc: 0.544 - ETA: 1s - loss: 0.9743 - acc: 0.544 - ETA: 1s - loss: 0.9754 - acc: 0.543 - ETA: 1s - loss: 0.9765 - acc: 0.543 - ETA: 1s - loss: 0.9771 - acc: 0.541 - ETA: 1s - loss: 0.9766 - acc: 0.542 - ETA: 1s - loss: 0.9767 - acc: 0.540 - ETA: 1s - loss: 0.9790 - acc: 0.537 - ETA: 1s - loss: 0.9800 - acc: 0.535 - ETA: 1s - loss: 0.9808 - acc: 0.534 - ETA: 1s - loss: 0.9813 - acc: 0.534 - ETA: 1s - loss: 0.9816 - acc: 0.534 - ETA: 1s - loss: 0.9817 - acc: 0.534 - ETA: 0s - loss: 0.9833 - acc: 0.532 - ETA: 0s - loss: 0.9845 - acc: 0.530 - ETA: 0s - loss: 0.9853 - acc: 0.530 - ETA: 0s - loss: 0.9856 - acc: 0.528 - ETA: 0s - loss: 0.9860 - acc: 0.527 - ETA: 0s - loss: 0.9855 - acc: 0.528 - ETA: 0s - loss: 0.9868 - acc: 0.527 - ETA: 0s - loss: 0.9867 - acc: 0.527 - ETA: 0s - loss: 0.9877 - acc: 0.526 - ETA: 0s - loss: 0.9884 - acc: 0.525 - ETA: 0s - loss: 0.9883 - acc: 0.525 - ETA: 0s - loss: 0.9886 - acc: 0.524 - ETA: 0s - loss: 0.9888 - acc: 0.524 - ETA: 0s - loss: 0.9892 - acc: 0.523 - ETA: 0s - loss: 0.9886 - acc: 0.524 - ETA: 0s - loss: 0.9898 - acc: 0.523 - ETA: 0s - loss: 0.9901 - acc: 0.523 - ETA: 0s - loss: 0.9889 - acc: 0.524 - ETA: 0s - loss: 0.9881 - acc: 0.525 - 3s 482us/sample - loss: 0.9888 - acc: 0.5249 - val_loss: 0.9844 - val_acc: 0.5283\n",
      "Epoch 8/10\n",
      "7112/7112 [==============================] - ETA: 8s - loss: 1.1705 - acc: 0.200 - ETA: 3s - loss: 1.0560 - acc: 0.450 - ETA: 3s - loss: 1.0344 - acc: 0.458 - ETA: 3s - loss: 1.0397 - acc: 0.460 - ETA: 3s - loss: 1.0188 - acc: 0.482 - ETA: 3s - loss: 0.9898 - acc: 0.515 - ETA: 3s - loss: 0.9790 - acc: 0.525 - ETA: 3s - loss: 0.9873 - acc: 0.515 - ETA: 3s - loss: 0.9854 - acc: 0.515 - ETA: 3s - loss: 0.9720 - acc: 0.532 - ETA: 2s - loss: 0.9694 - acc: 0.540 - ETA: 2s - loss: 0.9703 - acc: 0.538 - ETA: 2s - loss: 0.9778 - acc: 0.537 - ETA: 2s - loss: 0.9735 - acc: 0.542 - ETA: 2s - loss: 0.9741 - acc: 0.541 - ETA: 2s - loss: 0.9760 - acc: 0.538 - ETA: 2s - loss: 0.9744 - acc: 0.540 - ETA: 2s - loss: 0.9709 - acc: 0.541 - ETA: 2s - loss: 0.9684 - acc: 0.542 - ETA: 2s - loss: 0.9684 - acc: 0.545 - ETA: 2s - loss: 0.9690 - acc: 0.545 - ETA: 2s - loss: 0.9709 - acc: 0.546 - ETA: 2s - loss: 0.9714 - acc: 0.546 - ETA: 1s - loss: 0.9671 - acc: 0.549 - ETA: 1s - loss: 0.9696 - acc: 0.545 - ETA: 1s - loss: 0.9732 - acc: 0.541 - ETA: 1s - loss: 0.9721 - acc: 0.541 - ETA: 1s - loss: 0.9728 - acc: 0.538 - ETA: 1s - loss: 0.9749 - acc: 0.536 - ETA: 1s - loss: 0.9793 - acc: 0.533 - ETA: 1s - loss: 0.9791 - acc: 0.534 - ETA: 1s - loss: 0.9807 - acc: 0.531 - ETA: 1s - loss: 0.9805 - acc: 0.531 - ETA: 1s - loss: 0.9818 - acc: 0.532 - ETA: 1s - loss: 0.9812 - acc: 0.530 - ETA: 1s - loss: 0.9791 - acc: 0.531 - ETA: 1s - loss: 0.9806 - acc: 0.530 - ETA: 1s - loss: 0.9802 - acc: 0.529 - ETA: 1s - loss: 0.9816 - acc: 0.528 - ETA: 1s - loss: 0.9828 - acc: 0.528 - ETA: 1s - loss: 0.9829 - acc: 0.527 - ETA: 1s - loss: 0.9837 - acc: 0.528 - ETA: 0s - loss: 0.9845 - acc: 0.527 - ETA: 0s - loss: 0.9838 - acc: 0.528 - ETA: 0s - loss: 0.9852 - acc: 0.527 - ETA: 0s - loss: 0.9837 - acc: 0.528 - ETA: 0s - loss: 0.9805 - acc: 0.530 - ETA: 0s - loss: 0.9826 - acc: 0.529 - ETA: 0s - loss: 0.9838 - acc: 0.528 - ETA: 0s - loss: 0.9831 - acc: 0.528 - ETA: 0s - loss: 0.9835 - acc: 0.529 - ETA: 0s - loss: 0.9841 - acc: 0.528 - ETA: 0s - loss: 0.9848 - acc: 0.527 - ETA: 0s - loss: 0.9856 - acc: 0.527 - ETA: 0s - loss: 0.9865 - acc: 0.525 - ETA: 0s - loss: 0.9865 - acc: 0.526 - ETA: 0s - loss: 0.9875 - acc: 0.525 - ETA: 0s - loss: 0.9884 - acc: 0.524 - ETA: 0s - loss: 0.9868 - acc: 0.525 - ETA: 0s - loss: 0.9870 - acc: 0.525 - 3s 487us/sample - loss: 0.9871 - acc: 0.5259 - val_loss: 0.9729 - val_acc: 0.5334\n",
      "Epoch 9/10\n"
     ]
    },
    {
     "name": "stdout",
     "output_type": "stream",
     "text": [
      "7112/7112 [==============================] - ETA: 7s - loss: 1.0078 - acc: 0.600 - ETA: 3s - loss: 0.9167 - acc: 0.616 - ETA: 3s - loss: 0.9583 - acc: 0.576 - ETA: 2s - loss: 0.9703 - acc: 0.565 - ETA: 2s - loss: 0.9704 - acc: 0.564 - ETA: 2s - loss: 0.9664 - acc: 0.567 - ETA: 2s - loss: 0.9647 - acc: 0.564 - ETA: 2s - loss: 0.9697 - acc: 0.561 - ETA: 2s - loss: 0.9678 - acc: 0.563 - ETA: 2s - loss: 0.9684 - acc: 0.562 - ETA: 2s - loss: 0.9763 - acc: 0.549 - ETA: 2s - loss: 0.9783 - acc: 0.548 - ETA: 2s - loss: 0.9758 - acc: 0.550 - ETA: 2s - loss: 0.9813 - acc: 0.544 - ETA: 2s - loss: 0.9811 - acc: 0.546 - ETA: 2s - loss: 0.9774 - acc: 0.547 - ETA: 2s - loss: 0.9756 - acc: 0.548 - ETA: 2s - loss: 0.9834 - acc: 0.542 - ETA: 2s - loss: 0.9843 - acc: 0.538 - ETA: 2s - loss: 0.9821 - acc: 0.540 - ETA: 2s - loss: 0.9842 - acc: 0.537 - ETA: 2s - loss: 0.9850 - acc: 0.538 - ETA: 2s - loss: 0.9865 - acc: 0.535 - ETA: 1s - loss: 0.9845 - acc: 0.536 - ETA: 1s - loss: 0.9845 - acc: 0.535 - ETA: 1s - loss: 0.9849 - acc: 0.533 - ETA: 1s - loss: 0.9868 - acc: 0.531 - ETA: 1s - loss: 0.9845 - acc: 0.532 - ETA: 1s - loss: 0.9846 - acc: 0.535 - ETA: 1s - loss: 0.9850 - acc: 0.534 - ETA: 1s - loss: 0.9848 - acc: 0.533 - ETA: 1s - loss: 0.9855 - acc: 0.533 - ETA: 1s - loss: 0.9851 - acc: 0.534 - ETA: 1s - loss: 0.9851 - acc: 0.534 - ETA: 1s - loss: 0.9837 - acc: 0.534 - ETA: 1s - loss: 0.9824 - acc: 0.537 - ETA: 1s - loss: 0.9837 - acc: 0.535 - ETA: 1s - loss: 0.9843 - acc: 0.535 - ETA: 1s - loss: 0.9839 - acc: 0.535 - ETA: 1s - loss: 0.9844 - acc: 0.535 - ETA: 1s - loss: 0.9840 - acc: 0.535 - ETA: 1s - loss: 0.9847 - acc: 0.534 - ETA: 1s - loss: 0.9848 - acc: 0.534 - ETA: 1s - loss: 0.9852 - acc: 0.534 - ETA: 1s - loss: 0.9872 - acc: 0.532 - ETA: 0s - loss: 0.9877 - acc: 0.531 - ETA: 0s - loss: 0.9890 - acc: 0.529 - ETA: 0s - loss: 0.9890 - acc: 0.529 - ETA: 0s - loss: 0.9877 - acc: 0.529 - ETA: 0s - loss: 0.9870 - acc: 0.530 - ETA: 0s - loss: 0.9860 - acc: 0.531 - ETA: 0s - loss: 0.9881 - acc: 0.529 - ETA: 0s - loss: 0.9874 - acc: 0.530 - ETA: 0s - loss: 0.9872 - acc: 0.530 - ETA: 0s - loss: 0.9866 - acc: 0.530 - ETA: 0s - loss: 0.9851 - acc: 0.531 - ETA: 0s - loss: 0.9843 - acc: 0.530 - ETA: 0s - loss: 0.9842 - acc: 0.531 - ETA: 0s - loss: 0.9860 - acc: 0.529 - ETA: 0s - loss: 0.9864 - acc: 0.528 - ETA: 0s - loss: 0.9868 - acc: 0.528 - 4s 494us/sample - loss: 0.9860 - acc: 0.5295 - val_loss: 0.9853 - val_acc: 0.5304\n",
      "Epoch 10/10\n",
      "7112/7112 [==============================] - ETA: 4s - loss: 0.8370 - acc: 0.700 - ETA: 2s - loss: 0.9771 - acc: 0.570 - ETA: 2s - loss: 0.9993 - acc: 0.543 - ETA: 2s - loss: 0.9845 - acc: 0.557 - ETA: 2s - loss: 0.9947 - acc: 0.540 - ETA: 2s - loss: 0.9903 - acc: 0.536 - ETA: 2s - loss: 0.9795 - acc: 0.542 - ETA: 2s - loss: 0.9808 - acc: 0.540 - ETA: 2s - loss: 0.9816 - acc: 0.538 - ETA: 1s - loss: 0.9832 - acc: 0.538 - ETA: 1s - loss: 0.9829 - acc: 0.536 - ETA: 1s - loss: 0.9814 - acc: 0.538 - ETA: 1s - loss: 0.9823 - acc: 0.535 - ETA: 1s - loss: 0.9862 - acc: 0.533 - ETA: 1s - loss: 0.9885 - acc: 0.531 - ETA: 1s - loss: 0.9894 - acc: 0.529 - ETA: 1s - loss: 0.9848 - acc: 0.534 - ETA: 1s - loss: 0.9865 - acc: 0.531 - ETA: 1s - loss: 0.9866 - acc: 0.530 - ETA: 1s - loss: 0.9872 - acc: 0.529 - ETA: 1s - loss: 0.9881 - acc: 0.527 - ETA: 1s - loss: 0.9902 - acc: 0.525 - ETA: 1s - loss: 0.9895 - acc: 0.524 - ETA: 1s - loss: 0.9873 - acc: 0.526 - ETA: 1s - loss: 0.9888 - acc: 0.525 - ETA: 1s - loss: 0.9889 - acc: 0.525 - ETA: 1s - loss: 0.9896 - acc: 0.524 - ETA: 1s - loss: 0.9901 - acc: 0.525 - ETA: 1s - loss: 0.9900 - acc: 0.525 - ETA: 0s - loss: 0.9892 - acc: 0.525 - ETA: 0s - loss: 0.9911 - acc: 0.524 - ETA: 0s - loss: 0.9900 - acc: 0.526 - ETA: 0s - loss: 0.9913 - acc: 0.525 - ETA: 0s - loss: 0.9912 - acc: 0.524 - ETA: 0s - loss: 0.9904 - acc: 0.525 - ETA: 0s - loss: 0.9885 - acc: 0.525 - ETA: 0s - loss: 0.9877 - acc: 0.527 - ETA: 0s - loss: 0.9881 - acc: 0.526 - ETA: 0s - loss: 0.9885 - acc: 0.525 - ETA: 0s - loss: 0.9886 - acc: 0.525 - ETA: 0s - loss: 0.9871 - acc: 0.526 - ETA: 0s - loss: 0.9869 - acc: 0.526 - ETA: 0s - loss: 0.9878 - acc: 0.526 - ETA: 0s - loss: 0.9880 - acc: 0.526 - ETA: 0s - loss: 0.9881 - acc: 0.525 - ETA: 0s - loss: 0.9876 - acc: 0.526 - ETA: 0s - loss: 0.9874 - acc: 0.526 - ETA: 0s - loss: 0.9865 - acc: 0.526 - 3s 395us/sample - loss: 0.9878 - acc: 0.5260 - val_loss: 0.9689 - val_acc: 0.5304\n"
     ]
    },
    {
     "data": {
      "text/html": [
       "<span style=\"color:#4527A0\"><h1 style=\"font-size:18px\">Trial complete</h1></span>"
      ],
      "text/plain": [
       "<IPython.core.display.HTML object>"
      ]
     },
     "metadata": {},
     "output_type": "display_data"
    },
    {
     "data": {
      "text/html": [
       "<span style=\"color:#4527A0\"><h1 style=\"font-size:18px\">Trial summary</h1></span>"
      ],
      "text/plain": [
       "<IPython.core.display.HTML object>"
      ]
     },
     "metadata": {},
     "output_type": "display_data"
    },
    {
     "data": {
      "text/html": [
       "<span style=\"color:cyan\"> |-Trial ID: c3d34f2dcb52a35ff8e7c1e3f967f45e</span>"
      ],
      "text/plain": [
       "<IPython.core.display.HTML object>"
      ]
     },
     "metadata": {},
     "output_type": "display_data"
    },
    {
     "data": {
      "text/html": [
       "<span style=\"color:cyan\"> |-Score: 0.5351629257202148</span>"
      ],
      "text/plain": [
       "<IPython.core.display.HTML object>"
      ]
     },
     "metadata": {},
     "output_type": "display_data"
    },
    {
     "data": {
      "text/html": [
       "<span style=\"color:cyan\"> |-Best step: 0</span>"
      ],
      "text/plain": [
       "<IPython.core.display.HTML object>"
      ]
     },
     "metadata": {},
     "output_type": "display_data"
    },
    {
     "data": {
      "text/html": [
       "<span style=\"color:#7E57C2\"><h2 style=\"font-size:16px\">Hyperparameters:</h2></span>"
      ],
      "text/plain": [
       "<IPython.core.display.HTML object>"
      ]
     },
     "metadata": {},
     "output_type": "display_data"
    },
    {
     "data": {
      "text/html": [
       "<span style=\"color:cyan\"> |-layer_0_neurons: 90</span>"
      ],
      "text/plain": [
       "<IPython.core.display.HTML object>"
      ]
     },
     "metadata": {},
     "output_type": "display_data"
    },
    {
     "data": {
      "text/html": [
       "<span style=\"color:blue\"> |-layer_1_neurons: 150</span>"
      ],
      "text/plain": [
       "<IPython.core.display.HTML object>"
      ]
     },
     "metadata": {},
     "output_type": "display_data"
    },
    {
     "data": {
      "text/html": [
       "<span style=\"color:cyan\"> |-layer_2_neurons: 30</span>"
      ],
      "text/plain": [
       "<IPython.core.display.HTML object>"
      ]
     },
     "metadata": {},
     "output_type": "display_data"
    },
    {
     "data": {
      "text/html": [
       "<span style=\"color:blue\"> |-layer_3_neurons: 30</span>"
      ],
      "text/plain": [
       "<IPython.core.display.HTML object>"
      ]
     },
     "metadata": {},
     "output_type": "display_data"
    },
    {
     "data": {
      "text/html": [
       "<span style=\"color:cyan\"> |-n_input_neurons: 150</span>"
      ],
      "text/plain": [
       "<IPython.core.display.HTML object>"
      ]
     },
     "metadata": {},
     "output_type": "display_data"
    },
    {
     "data": {
      "text/html": [
       "<span style=\"color:blue\"> |-n_layers: 4</span>"
      ],
      "text/plain": [
       "<IPython.core.display.HTML object>"
      ]
     },
     "metadata": {},
     "output_type": "display_data"
    },
    {
     "name": "stdout",
     "output_type": "stream",
     "text": [
      "Train on 7112 samples, validate on 2332 samples\n",
      "Epoch 1/10\n",
      "7112/7112 [==============================] - ETA: 3:48 - loss: 1.3677 - acc: 0.300 - ETA: 13s - loss: 1.1240 - acc: 0.373 - ETA: 7s - loss: 1.0938 - acc: 0.4056 - ETA: 6s - loss: 1.0655 - acc: 0.448 - ETA: 4s - loss: 1.0511 - acc: 0.456 - ETA: 4s - loss: 1.0500 - acc: 0.466 - ETA: 3s - loss: 1.0476 - acc: 0.469 - ETA: 3s - loss: 1.0620 - acc: 0.462 - ETA: 3s - loss: 1.0598 - acc: 0.463 - ETA: 2s - loss: 1.0542 - acc: 0.464 - ETA: 2s - loss: 1.0539 - acc: 0.465 - ETA: 2s - loss: 1.0524 - acc: 0.467 - ETA: 2s - loss: 1.0492 - acc: 0.469 - ETA: 2s - loss: 1.0457 - acc: 0.475 - ETA: 2s - loss: 1.0470 - acc: 0.478 - ETA: 1s - loss: 1.0465 - acc: 0.478 - ETA: 1s - loss: 1.0447 - acc: 0.478 - ETA: 1s - loss: 1.0435 - acc: 0.479 - ETA: 1s - loss: 1.0436 - acc: 0.476 - ETA: 1s - loss: 1.0410 - acc: 0.478 - ETA: 1s - loss: 1.0405 - acc: 0.479 - ETA: 1s - loss: 1.0398 - acc: 0.481 - ETA: 1s - loss: 1.0374 - acc: 0.484 - ETA: 1s - loss: 1.0349 - acc: 0.487 - ETA: 1s - loss: 1.0356 - acc: 0.484 - ETA: 1s - loss: 1.0358 - acc: 0.483 - ETA: 1s - loss: 1.0367 - acc: 0.482 - ETA: 0s - loss: 1.0352 - acc: 0.483 - ETA: 0s - loss: 1.0313 - acc: 0.485 - ETA: 0s - loss: 1.0285 - acc: 0.488 - ETA: 0s - loss: 1.0281 - acc: 0.490 - ETA: 0s - loss: 1.0276 - acc: 0.489 - ETA: 0s - loss: 1.0270 - acc: 0.490 - ETA: 0s - loss: 1.0252 - acc: 0.491 - ETA: 0s - loss: 1.0251 - acc: 0.491 - ETA: 0s - loss: 1.0242 - acc: 0.491 - ETA: 0s - loss: 1.0252 - acc: 0.492 - ETA: 0s - loss: 1.0245 - acc: 0.492 - ETA: 0s - loss: 1.0223 - acc: 0.495 - ETA: 0s - loss: 1.0238 - acc: 0.494 - ETA: 0s - loss: 1.0222 - acc: 0.496 - ETA: 0s - loss: 1.0213 - acc: 0.497 - ETA: 0s - loss: 1.0203 - acc: 0.498 - 3s 448us/sample - loss: 1.0203 - acc: 0.4985 - val_loss: 0.9826 - val_acc: 0.5304\n",
      "Epoch 2/10\n",
      "7112/7112 [==============================] - ETA: 3s - loss: 1.1452 - acc: 0.500 - ETA: 2s - loss: 0.9946 - acc: 0.538 - ETA: 2s - loss: 0.9977 - acc: 0.523 - ETA: 2s - loss: 0.9864 - acc: 0.533 - ETA: 2s - loss: 0.9943 - acc: 0.520 - ETA: 2s - loss: 0.9791 - acc: 0.536 - ETA: 2s - loss: 0.9860 - acc: 0.538 - ETA: 2s - loss: 0.9889 - acc: 0.533 - ETA: 1s - loss: 0.9907 - acc: 0.537 - ETA: 1s - loss: 0.9932 - acc: 0.530 - ETA: 1s - loss: 0.9985 - acc: 0.521 - ETA: 1s - loss: 1.0004 - acc: 0.521 - ETA: 1s - loss: 1.0018 - acc: 0.515 - ETA: 1s - loss: 0.9991 - acc: 0.516 - ETA: 1s - loss: 0.9981 - acc: 0.518 - ETA: 1s - loss: 0.9990 - acc: 0.518 - ETA: 1s - loss: 0.9976 - acc: 0.517 - ETA: 1s - loss: 0.9975 - acc: 0.518 - ETA: 1s - loss: 0.9959 - acc: 0.519 - ETA: 1s - loss: 0.9989 - acc: 0.516 - ETA: 1s - loss: 0.9973 - acc: 0.520 - ETA: 1s - loss: 0.9994 - acc: 0.517 - ETA: 1s - loss: 1.0011 - acc: 0.515 - ETA: 1s - loss: 1.0013 - acc: 0.515 - ETA: 1s - loss: 0.9998 - acc: 0.517 - ETA: 1s - loss: 1.0002 - acc: 0.518 - ETA: 1s - loss: 1.0001 - acc: 0.520 - ETA: 0s - loss: 0.9983 - acc: 0.523 - ETA: 0s - loss: 0.9984 - acc: 0.523 - ETA: 0s - loss: 0.9972 - acc: 0.523 - ETA: 0s - loss: 0.9980 - acc: 0.523 - ETA: 0s - loss: 0.9989 - acc: 0.521 - ETA: 0s - loss: 0.9995 - acc: 0.520 - ETA: 0s - loss: 0.9983 - acc: 0.521 - ETA: 0s - loss: 0.9981 - acc: 0.521 - ETA: 0s - loss: 0.9981 - acc: 0.521 - ETA: 0s - loss: 0.9980 - acc: 0.520 - ETA: 0s - loss: 0.9964 - acc: 0.521 - ETA: 0s - loss: 0.9940 - acc: 0.523 - ETA: 0s - loss: 0.9935 - acc: 0.524 - ETA: 0s - loss: 0.9934 - acc: 0.524 - ETA: 0s - loss: 0.9955 - acc: 0.524 - ETA: 0s - loss: 0.9951 - acc: 0.524 - ETA: 0s - loss: 0.9945 - acc: 0.524 - ETA: 0s - loss: 0.9947 - acc: 0.524 - ETA: 0s - loss: 0.9950 - acc: 0.524 - 3s 378us/sample - loss: 0.9951 - acc: 0.5246 - val_loss: 0.9884 - val_acc: 0.5197\n",
      "Epoch 3/10\n",
      "7112/7112 [==============================] - ETA: 5s - loss: 1.1581 - acc: 0.400 - ETA: 2s - loss: 0.9858 - acc: 0.538 - ETA: 2s - loss: 0.9950 - acc: 0.528 - ETA: 2s - loss: 1.0031 - acc: 0.519 - ETA: 2s - loss: 1.0078 - acc: 0.511 - ETA: 1s - loss: 1.0100 - acc: 0.517 - ETA: 1s - loss: 1.0062 - acc: 0.519 - ETA: 1s - loss: 0.9981 - acc: 0.525 - ETA: 1s - loss: 0.9992 - acc: 0.525 - ETA: 1s - loss: 1.0029 - acc: 0.518 - ETA: 1s - loss: 1.0005 - acc: 0.522 - ETA: 1s - loss: 1.0016 - acc: 0.520 - ETA: 1s - loss: 0.9991 - acc: 0.524 - ETA: 1s - loss: 0.9963 - acc: 0.525 - ETA: 1s - loss: 0.9979 - acc: 0.523 - ETA: 1s - loss: 0.9964 - acc: 0.525 - ETA: 1s - loss: 0.9941 - acc: 0.527 - ETA: 1s - loss: 0.9906 - acc: 0.529 - ETA: 1s - loss: 0.9914 - acc: 0.530 - ETA: 1s - loss: 0.9932 - acc: 0.528 - ETA: 1s - loss: 0.9947 - acc: 0.526 - ETA: 1s - loss: 0.9941 - acc: 0.527 - ETA: 1s - loss: 0.9952 - acc: 0.525 - ETA: 1s - loss: 0.9963 - acc: 0.525 - ETA: 1s - loss: 0.9962 - acc: 0.526 - ETA: 0s - loss: 0.9965 - acc: 0.527 - ETA: 0s - loss: 0.9957 - acc: 0.528 - ETA: 0s - loss: 0.9960 - acc: 0.527 - ETA: 0s - loss: 0.9939 - acc: 0.528 - ETA: 0s - loss: 0.9920 - acc: 0.530 - ETA: 0s - loss: 0.9908 - acc: 0.530 - ETA: 0s - loss: 0.9897 - acc: 0.530 - ETA: 0s - loss: 0.9924 - acc: 0.528 - ETA: 0s - loss: 0.9934 - acc: 0.527 - ETA: 0s - loss: 0.9929 - acc: 0.528 - ETA: 0s - loss: 0.9938 - acc: 0.527 - ETA: 0s - loss: 0.9944 - acc: 0.527 - ETA: 0s - loss: 0.9950 - acc: 0.527 - ETA: 0s - loss: 0.9948 - acc: 0.528 - ETA: 0s - loss: 0.9938 - acc: 0.528 - ETA: 0s - loss: 0.9931 - acc: 0.529 - ETA: 0s - loss: 0.9934 - acc: 0.528 - ETA: 0s - loss: 0.9920 - acc: 0.530 - ETA: 0s - loss: 0.9906 - acc: 0.531 - ETA: 0s - loss: 0.9928 - acc: 0.530 - 3s 376us/sample - loss: 0.9935 - acc: 0.5297 - val_loss: 0.9870 - val_acc: 0.5304\n",
      "Epoch 4/10\n",
      "7112/7112 [==============================] - ETA: 5s - loss: 1.1472 - acc: 0.300 - ETA: 2s - loss: 1.0664 - acc: 0.421 - ETA: 2s - loss: 1.0433 - acc: 0.469 - ETA: 2s - loss: 1.0348 - acc: 0.477 - ETA: 2s - loss: 1.0202 - acc: 0.501 - ETA: 2s - loss: 1.0176 - acc: 0.498 - ETA: 2s - loss: 1.0153 - acc: 0.498 - ETA: 2s - loss: 1.0172 - acc: 0.495 - ETA: 1s - loss: 1.0185 - acc: 0.494 - ETA: 1s - loss: 1.0155 - acc: 0.497 - ETA: 1s - loss: 1.0160 - acc: 0.495 - ETA: 1s - loss: 1.0160 - acc: 0.500 - ETA: 1s - loss: 1.0132 - acc: 0.505 - ETA: 1s - loss: 1.0102 - acc: 0.506 - ETA: 1s - loss: 1.0068 - acc: 0.512 - ETA: 1s - loss: 1.0012 - acc: 0.516 - ETA: 1s - loss: 1.0004 - acc: 0.517 - ETA: 1s - loss: 1.0020 - acc: 0.515 - ETA: 1s - loss: 1.0009 - acc: 0.515 - ETA: 1s - loss: 0.9999 - acc: 0.516 - ETA: 1s - loss: 0.9961 - acc: 0.519 - ETA: 1s - loss: 0.9967 - acc: 0.519 - ETA: 1s - loss: 0.9947 - acc: 0.519 - ETA: 1s - loss: 0.9944 - acc: 0.517 - ETA: 0s - loss: 0.9938 - acc: 0.515 - ETA: 0s - loss: 0.9926 - acc: 0.517 - ETA: 0s - loss: 0.9947 - acc: 0.515 - ETA: 0s - loss: 0.9957 - acc: 0.514 - ETA: 0s - loss: 0.9947 - acc: 0.514 - ETA: 0s - loss: 0.9938 - acc: 0.514 - ETA: 0s - loss: 0.9924 - acc: 0.517 - ETA: 0s - loss: 0.9926 - acc: 0.516 - ETA: 0s - loss: 0.9924 - acc: 0.516 - ETA: 0s - loss: 0.9907 - acc: 0.517 - ETA: 0s - loss: 0.9905 - acc: 0.517 - ETA: 0s - loss: 0.9897 - acc: 0.519 - ETA: 0s - loss: 0.9896 - acc: 0.519 - ETA: 0s - loss: 0.9918 - acc: 0.518 - ETA: 0s - loss: 0.9912 - acc: 0.519 - ETA: 0s - loss: 0.9911 - acc: 0.520 - ETA: 0s - loss: 0.9922 - acc: 0.519 - ETA: 0s - loss: 0.9929 - acc: 0.519 - ETA: 0s - loss: 0.9928 - acc: 0.519 - ETA: 0s - loss: 0.9930 - acc: 0.519 - ETA: 0s - loss: 0.9935 - acc: 0.519 - 3s 375us/sample - loss: 0.9924 - acc: 0.5205 - val_loss: 0.9806 - val_acc: 0.5343\n",
      "Epoch 5/10\n"
     ]
    },
    {
     "name": "stdout",
     "output_type": "stream",
     "text": [
      "7112/7112 [==============================] - ETA: 4s - loss: 0.6228 - acc: 0.900 - ETA: 2s - loss: 0.9736 - acc: 0.573 - ETA: 2s - loss: 0.9462 - acc: 0.583 - ETA: 1s - loss: 0.9584 - acc: 0.577 - ETA: 1s - loss: 0.9687 - acc: 0.568 - ETA: 2s - loss: 0.9820 - acc: 0.559 - ETA: 1s - loss: 0.9771 - acc: 0.555 - ETA: 1s - loss: 0.9771 - acc: 0.550 - ETA: 1s - loss: 0.9867 - acc: 0.540 - ETA: 1s - loss: 0.9937 - acc: 0.531 - ETA: 1s - loss: 0.9917 - acc: 0.533 - ETA: 1s - loss: 0.9928 - acc: 0.527 - ETA: 1s - loss: 0.9868 - acc: 0.533 - ETA: 1s - loss: 0.9901 - acc: 0.531 - ETA: 1s - loss: 0.9872 - acc: 0.533 - ETA: 1s - loss: 0.9881 - acc: 0.535 - ETA: 1s - loss: 0.9865 - acc: 0.536 - ETA: 1s - loss: 0.9848 - acc: 0.537 - ETA: 1s - loss: 0.9842 - acc: 0.539 - ETA: 1s - loss: 0.9826 - acc: 0.541 - ETA: 1s - loss: 0.9848 - acc: 0.538 - ETA: 1s - loss: 0.9855 - acc: 0.537 - ETA: 1s - loss: 0.9860 - acc: 0.536 - ETA: 1s - loss: 0.9842 - acc: 0.539 - ETA: 0s - loss: 0.9844 - acc: 0.538 - ETA: 0s - loss: 0.9839 - acc: 0.539 - ETA: 0s - loss: 0.9838 - acc: 0.540 - ETA: 0s - loss: 0.9856 - acc: 0.538 - ETA: 0s - loss: 0.9868 - acc: 0.536 - ETA: 0s - loss: 0.9883 - acc: 0.534 - ETA: 0s - loss: 0.9887 - acc: 0.534 - ETA: 0s - loss: 0.9898 - acc: 0.532 - ETA: 0s - loss: 0.9904 - acc: 0.531 - ETA: 0s - loss: 0.9896 - acc: 0.531 - ETA: 0s - loss: 0.9885 - acc: 0.532 - ETA: 0s - loss: 0.9878 - acc: 0.531 - ETA: 0s - loss: 0.9863 - acc: 0.532 - ETA: 0s - loss: 0.9877 - acc: 0.531 - ETA: 0s - loss: 0.9874 - acc: 0.531 - ETA: 0s - loss: 0.9875 - acc: 0.530 - ETA: 0s - loss: 0.9880 - acc: 0.529 - ETA: 0s - loss: 0.9889 - acc: 0.529 - ETA: 0s - loss: 0.9894 - acc: 0.528 - 3s 361us/sample - loss: 0.9895 - acc: 0.5287 - val_loss: 0.9721 - val_acc: 0.5356\n",
      "Epoch 6/10\n",
      "7112/7112 [==============================] - ETA: 4s - loss: 1.0622 - acc: 0.500 - ETA: 2s - loss: 1.0094 - acc: 0.531 - ETA: 2s - loss: 0.9971 - acc: 0.530 - ETA: 1s - loss: 1.0019 - acc: 0.524 - ETA: 1s - loss: 0.9949 - acc: 0.525 - ETA: 1s - loss: 0.9967 - acc: 0.526 - ETA: 1s - loss: 0.9959 - acc: 0.521 - ETA: 1s - loss: 0.9900 - acc: 0.527 - ETA: 1s - loss: 0.9895 - acc: 0.528 - ETA: 1s - loss: 0.9843 - acc: 0.535 - ETA: 1s - loss: 0.9864 - acc: 0.533 - ETA: 1s - loss: 0.9854 - acc: 0.536 - ETA: 1s - loss: 0.9860 - acc: 0.537 - ETA: 1s - loss: 0.9865 - acc: 0.536 - ETA: 1s - loss: 0.9862 - acc: 0.535 - ETA: 1s - loss: 0.9870 - acc: 0.534 - ETA: 1s - loss: 0.9853 - acc: 0.535 - ETA: 1s - loss: 0.9840 - acc: 0.533 - ETA: 1s - loss: 0.9858 - acc: 0.534 - ETA: 1s - loss: 0.9851 - acc: 0.534 - ETA: 1s - loss: 0.9861 - acc: 0.533 - ETA: 1s - loss: 0.9891 - acc: 0.530 - ETA: 1s - loss: 0.9902 - acc: 0.529 - ETA: 1s - loss: 0.9914 - acc: 0.526 - ETA: 0s - loss: 0.9909 - acc: 0.527 - ETA: 0s - loss: 0.9909 - acc: 0.526 - ETA: 0s - loss: 0.9915 - acc: 0.526 - ETA: 0s - loss: 0.9931 - acc: 0.525 - ETA: 0s - loss: 0.9909 - acc: 0.526 - ETA: 0s - loss: 0.9899 - acc: 0.528 - ETA: 0s - loss: 0.9889 - acc: 0.528 - ETA: 0s - loss: 0.9891 - acc: 0.527 - ETA: 0s - loss: 0.9900 - acc: 0.527 - ETA: 0s - loss: 0.9903 - acc: 0.527 - ETA: 0s - loss: 0.9897 - acc: 0.528 - ETA: 0s - loss: 0.9886 - acc: 0.529 - ETA: 0s - loss: 0.9869 - acc: 0.529 - ETA: 0s - loss: 0.9863 - acc: 0.531 - ETA: 0s - loss: 0.9863 - acc: 0.530 - ETA: 0s - loss: 0.9883 - acc: 0.529 - ETA: 0s - loss: 0.9876 - acc: 0.530 - ETA: 0s - loss: 0.9870 - acc: 0.529 - ETA: 0s - loss: 0.9867 - acc: 0.530 - ETA: 0s - loss: 0.9895 - acc: 0.527 - 2051s 288ms/sample - loss: 0.9892 - acc: 0.5280 - val_loss: 0.9807 - val_acc: 0.5326\n",
      "Epoch 7/10\n",
      "7112/7112 [==============================] - ETA: 7s - loss: 0.8070 - acc: 0.700 - ETA: 4s - loss: 0.9565 - acc: 0.530 - ETA: 3s - loss: 0.9749 - acc: 0.545 - ETA: 3s - loss: 0.9820 - acc: 0.535 - ETA: 3s - loss: 0.9889 - acc: 0.535 - ETA: 4s - loss: 0.9860 - acc: 0.536 - ETA: 5s - loss: 0.9852 - acc: 0.536 - ETA: 5s - loss: 0.9872 - acc: 0.534 - ETA: 5s - loss: 0.9865 - acc: 0.534 - ETA: 5s - loss: 0.9845 - acc: 0.536 - ETA: 5s - loss: 0.9856 - acc: 0.530 - ETA: 5s - loss: 0.9893 - acc: 0.530 - ETA: 4s - loss: 0.9871 - acc: 0.532 - ETA: 4s - loss: 0.9881 - acc: 0.529 - ETA: 4s - loss: 0.9924 - acc: 0.528 - ETA: 4s - loss: 0.9956 - acc: 0.523 - ETA: 3s - loss: 0.9962 - acc: 0.517 - ETA: 3s - loss: 0.9964 - acc: 0.517 - ETA: 3s - loss: 0.9935 - acc: 0.521 - ETA: 3s - loss: 0.9906 - acc: 0.527 - ETA: 3s - loss: 0.9924 - acc: 0.525 - ETA: 3s - loss: 0.9911 - acc: 0.527 - ETA: 2s - loss: 0.9910 - acc: 0.527 - ETA: 2s - loss: 0.9881 - acc: 0.527 - ETA: 2s - loss: 0.9907 - acc: 0.524 - ETA: 2s - loss: 0.9934 - acc: 0.522 - ETA: 2s - loss: 0.9903 - acc: 0.526 - ETA: 2s - loss: 0.9901 - acc: 0.527 - ETA: 2s - loss: 0.9894 - acc: 0.527 - ETA: 1s - loss: 0.9867 - acc: 0.531 - ETA: 1s - loss: 0.9870 - acc: 0.530 - ETA: 1s - loss: 0.9864 - acc: 0.529 - ETA: 1s - loss: 0.9870 - acc: 0.527 - ETA: 1s - loss: 0.9878 - acc: 0.527 - ETA: 1s - loss: 0.9888 - acc: 0.527 - ETA: 1s - loss: 0.9895 - acc: 0.524 - ETA: 1s - loss: 0.9890 - acc: 0.525 - ETA: 1s - loss: 0.9871 - acc: 0.526 - ETA: 1s - loss: 0.9868 - acc: 0.527 - ETA: 1s - loss: 0.9879 - acc: 0.526 - ETA: 0s - loss: 0.9877 - acc: 0.526 - ETA: 0s - loss: 0.9869 - acc: 0.525 - ETA: 0s - loss: 0.9885 - acc: 0.524 - ETA: 0s - loss: 0.9887 - acc: 0.524 - ETA: 0s - loss: 0.9877 - acc: 0.526 - ETA: 0s - loss: 0.9864 - acc: 0.527 - ETA: 0s - loss: 0.9864 - acc: 0.527 - ETA: 0s - loss: 0.9860 - acc: 0.527 - ETA: 0s - loss: 0.9890 - acc: 0.524 - ETA: 0s - loss: 0.9891 - acc: 0.526 - ETA: 0s - loss: 0.9893 - acc: 0.526 - ETA: 0s - loss: 0.9887 - acc: 0.526 - ETA: 0s - loss: 0.9885 - acc: 0.526 - ETA: 0s - loss: 0.9894 - acc: 0.525 - 3s 461us/sample - loss: 0.9883 - acc: 0.5269 - val_loss: 0.9934 - val_acc: 0.5270\n",
      "Epoch 8/10\n",
      "7112/7112 [==============================] - ETA: 4s - loss: 0.8861 - acc: 0.500 - ETA: 2s - loss: 0.9697 - acc: 0.520 - ETA: 2s - loss: 0.9682 - acc: 0.544 - ETA: 2s - loss: 0.9832 - acc: 0.525 - ETA: 2s - loss: 0.9729 - acc: 0.535 - ETA: 2s - loss: 0.9775 - acc: 0.530 - ETA: 2s - loss: 0.9840 - acc: 0.519 - ETA: 2s - loss: 0.9943 - acc: 0.507 - ETA: 2s - loss: 0.9929 - acc: 0.509 - ETA: 2s - loss: 0.9916 - acc: 0.514 - ETA: 2s - loss: 0.9905 - acc: 0.515 - ETA: 2s - loss: 0.9926 - acc: 0.512 - ETA: 2s - loss: 0.9913 - acc: 0.514 - ETA: 1s - loss: 0.9871 - acc: 0.520 - ETA: 1s - loss: 0.9891 - acc: 0.519 - ETA: 1s - loss: 0.9856 - acc: 0.523 - ETA: 1s - loss: 0.9853 - acc: 0.524 - ETA: 1s - loss: 0.9842 - acc: 0.528 - ETA: 1s - loss: 0.9831 - acc: 0.528 - ETA: 1s - loss: 0.9824 - acc: 0.529 - ETA: 1s - loss: 0.9803 - acc: 0.531 - ETA: 1s - loss: 0.9821 - acc: 0.530 - ETA: 1s - loss: 0.9840 - acc: 0.529 - ETA: 1s - loss: 0.9828 - acc: 0.530 - ETA: 1s - loss: 0.9809 - acc: 0.531 - ETA: 1s - loss: 0.9806 - acc: 0.533 - ETA: 1s - loss: 0.9820 - acc: 0.531 - ETA: 1s - loss: 0.9819 - acc: 0.531 - ETA: 1s - loss: 0.9814 - acc: 0.531 - ETA: 1s - loss: 0.9820 - acc: 0.532 - ETA: 1s - loss: 0.9812 - acc: 0.533 - ETA: 1s - loss: 0.9831 - acc: 0.531 - ETA: 1s - loss: 0.9844 - acc: 0.531 - ETA: 0s - loss: 0.9857 - acc: 0.529 - ETA: 0s - loss: 0.9843 - acc: 0.531 - ETA: 0s - loss: 0.9856 - acc: 0.529 - ETA: 0s - loss: 0.9861 - acc: 0.529 - ETA: 0s - loss: 0.9847 - acc: 0.531 - ETA: 0s - loss: 0.9824 - acc: 0.532 - ETA: 0s - loss: 0.9838 - acc: 0.532 - ETA: 0s - loss: 0.9828 - acc: 0.533 - ETA: 0s - loss: 0.9835 - acc: 0.532 - ETA: 0s - loss: 0.9836 - acc: 0.532 - ETA: 0s - loss: 0.9845 - acc: 0.531 - ETA: 0s - loss: 0.9860 - acc: 0.529 - ETA: 0s - loss: 0.9854 - acc: 0.530 - ETA: 0s - loss: 0.9862 - acc: 0.528 - ETA: 0s - loss: 0.9860 - acc: 0.529 - ETA: 0s - loss: 0.9858 - acc: 0.529 - ETA: 0s - loss: 0.9861 - acc: 0.528 - ETA: 0s - loss: 0.9864 - acc: 0.527 - ETA: 0s - loss: 0.9867 - acc: 0.528 - 3s 438us/sample - loss: 0.9862 - acc: 0.5297 - val_loss: 0.9704 - val_acc: 0.5304\n",
      "Epoch 9/10\n"
     ]
    },
    {
     "name": "stdout",
     "output_type": "stream",
     "text": [
      "7112/7112 [==============================] - ETA: 5s - loss: 1.1330 - acc: 0.200 - ETA: 2s - loss: 1.0119 - acc: 0.486 - ETA: 2s - loss: 1.0080 - acc: 0.513 - ETA: 2s - loss: 0.9985 - acc: 0.519 - ETA: 2s - loss: 0.9894 - acc: 0.520 - ETA: 2s - loss: 0.9955 - acc: 0.510 - ETA: 2s - loss: 0.9758 - acc: 0.528 - ETA: 2s - loss: 0.9760 - acc: 0.532 - ETA: 2s - loss: 0.9863 - acc: 0.522 - ETA: 2s - loss: 0.9892 - acc: 0.520 - ETA: 2s - loss: 0.9899 - acc: 0.516 - ETA: 2s - loss: 0.9887 - acc: 0.520 - ETA: 2s - loss: 0.9901 - acc: 0.517 - ETA: 2s - loss: 0.9898 - acc: 0.514 - ETA: 1s - loss: 0.9868 - acc: 0.518 - ETA: 1s - loss: 0.9850 - acc: 0.518 - ETA: 1s - loss: 0.9824 - acc: 0.522 - ETA: 1s - loss: 0.9815 - acc: 0.524 - ETA: 1s - loss: 0.9831 - acc: 0.521 - ETA: 1s - loss: 0.9813 - acc: 0.523 - ETA: 1s - loss: 0.9810 - acc: 0.523 - ETA: 1s - loss: 0.9817 - acc: 0.523 - ETA: 1s - loss: 0.9819 - acc: 0.524 - ETA: 1s - loss: 0.9829 - acc: 0.522 - ETA: 1s - loss: 0.9830 - acc: 0.522 - ETA: 1s - loss: 0.9812 - acc: 0.523 - ETA: 1s - loss: 0.9821 - acc: 0.523 - ETA: 1s - loss: 0.9824 - acc: 0.522 - ETA: 1s - loss: 0.9801 - acc: 0.526 - ETA: 1s - loss: 0.9821 - acc: 0.525 - ETA: 1s - loss: 0.9825 - acc: 0.525 - ETA: 1s - loss: 0.9820 - acc: 0.526 - ETA: 1s - loss: 0.9815 - acc: 0.527 - ETA: 0s - loss: 0.9819 - acc: 0.527 - ETA: 0s - loss: 0.9823 - acc: 0.526 - ETA: 0s - loss: 0.9830 - acc: 0.524 - ETA: 0s - loss: 0.9812 - acc: 0.526 - ETA: 0s - loss: 0.9809 - acc: 0.526 - ETA: 0s - loss: 0.9821 - acc: 0.525 - ETA: 0s - loss: 0.9822 - acc: 0.525 - ETA: 0s - loss: 0.9826 - acc: 0.525 - ETA: 0s - loss: 0.9845 - acc: 0.524 - ETA: 0s - loss: 0.9823 - acc: 0.525 - ETA: 0s - loss: 0.9846 - acc: 0.524 - ETA: 0s - loss: 0.9852 - acc: 0.524 - ETA: 0s - loss: 0.9861 - acc: 0.524 - ETA: 0s - loss: 0.9858 - acc: 0.525 - ETA: 0s - loss: 0.9855 - acc: 0.526 - ETA: 0s - loss: 0.9848 - acc: 0.526 - ETA: 0s - loss: 0.9849 - acc: 0.526 - ETA: 0s - loss: 0.9861 - acc: 0.524 - ETA: 0s - loss: 0.9857 - acc: 0.524 - 3s 442us/sample - loss: 0.9864 - acc: 0.5247 - val_loss: 0.9757 - val_acc: 0.5360\n",
      "Epoch 10/10\n",
      "7112/7112 [==============================] - ETA: 5s - loss: 0.7925 - acc: 0.700 - ETA: 2s - loss: 0.9307 - acc: 0.556 - ETA: 2s - loss: 0.9922 - acc: 0.506 - ETA: 2s - loss: 0.9931 - acc: 0.493 - ETA: 2s - loss: 0.9936 - acc: 0.498 - ETA: 2s - loss: 0.9836 - acc: 0.512 - ETA: 2s - loss: 0.9892 - acc: 0.504 - ETA: 2s - loss: 0.9830 - acc: 0.516 - ETA: 2s - loss: 0.9816 - acc: 0.515 - ETA: 2s - loss: 0.9816 - acc: 0.516 - ETA: 2s - loss: 0.9916 - acc: 0.509 - ETA: 2s - loss: 0.9908 - acc: 0.514 - ETA: 2s - loss: 0.9893 - acc: 0.516 - ETA: 2s - loss: 0.9905 - acc: 0.517 - ETA: 1s - loss: 0.9835 - acc: 0.527 - ETA: 1s - loss: 0.9848 - acc: 0.526 - ETA: 1s - loss: 0.9903 - acc: 0.521 - ETA: 1s - loss: 0.9905 - acc: 0.520 - ETA: 1s - loss: 0.9865 - acc: 0.526 - ETA: 1s - loss: 0.9838 - acc: 0.528 - ETA: 1s - loss: 0.9832 - acc: 0.530 - ETA: 1s - loss: 0.9782 - acc: 0.536 - ETA: 1s - loss: 0.9799 - acc: 0.536 - ETA: 1s - loss: 0.9820 - acc: 0.535 - ETA: 1s - loss: 0.9825 - acc: 0.534 - ETA: 1s - loss: 0.9826 - acc: 0.534 - ETA: 1s - loss: 0.9845 - acc: 0.532 - ETA: 1s - loss: 0.9839 - acc: 0.532 - ETA: 1s - loss: 0.9848 - acc: 0.531 - ETA: 1s - loss: 0.9837 - acc: 0.532 - ETA: 1s - loss: 0.9831 - acc: 0.531 - ETA: 1s - loss: 0.9826 - acc: 0.531 - ETA: 1s - loss: 0.9822 - acc: 0.532 - ETA: 0s - loss: 0.9837 - acc: 0.530 - ETA: 0s - loss: 0.9831 - acc: 0.530 - ETA: 0s - loss: 0.9845 - acc: 0.529 - ETA: 0s - loss: 0.9831 - acc: 0.530 - ETA: 0s - loss: 0.9836 - acc: 0.530 - ETA: 0s - loss: 0.9831 - acc: 0.531 - ETA: 0s - loss: 0.9822 - acc: 0.531 - ETA: 0s - loss: 0.9828 - acc: 0.532 - ETA: 0s - loss: 0.9831 - acc: 0.531 - ETA: 0s - loss: 0.9838 - acc: 0.530 - ETA: 0s - loss: 0.9852 - acc: 0.529 - ETA: 0s - loss: 0.9857 - acc: 0.529 - ETA: 0s - loss: 0.9853 - acc: 0.529 - ETA: 0s - loss: 0.9854 - acc: 0.528 - ETA: 0s - loss: 0.9845 - acc: 0.528 - ETA: 0s - loss: 0.9851 - acc: 0.527 - ETA: 0s - loss: 0.9842 - acc: 0.528 - ETA: 0s - loss: 0.9842 - acc: 0.527 - ETA: 0s - loss: 0.9852 - acc: 0.527 - 4s 507us/sample - loss: 0.9854 - acc: 0.5267 - val_loss: 0.9737 - val_acc: 0.5352\n"
     ]
    },
    {
     "data": {
      "text/html": [
       "<span style=\"color:#4527A0\"><h1 style=\"font-size:18px\">Trial complete</h1></span>"
      ],
      "text/plain": [
       "<IPython.core.display.HTML object>"
      ]
     },
     "metadata": {},
     "output_type": "display_data"
    },
    {
     "data": {
      "text/html": [
       "<span style=\"color:#4527A0\"><h1 style=\"font-size:18px\">Trial summary</h1></span>"
      ],
      "text/plain": [
       "<IPython.core.display.HTML object>"
      ]
     },
     "metadata": {},
     "output_type": "display_data"
    },
    {
     "data": {
      "text/html": [
       "<span style=\"color:cyan\"> |-Trial ID: b03038f55a19753f53c0fa2eb761c178</span>"
      ],
      "text/plain": [
       "<IPython.core.display.HTML object>"
      ]
     },
     "metadata": {},
     "output_type": "display_data"
    },
    {
     "data": {
      "text/html": [
       "<span style=\"color:cyan\"> |-Score: 0.5360205769538879</span>"
      ],
      "text/plain": [
       "<IPython.core.display.HTML object>"
      ]
     },
     "metadata": {},
     "output_type": "display_data"
    },
    {
     "data": {
      "text/html": [
       "<span style=\"color:cyan\"> |-Best step: 0</span>"
      ],
      "text/plain": [
       "<IPython.core.display.HTML object>"
      ]
     },
     "metadata": {},
     "output_type": "display_data"
    },
    {
     "data": {
      "text/html": [
       "<span style=\"color:#7E57C2\"><h2 style=\"font-size:16px\">Hyperparameters:</h2></span>"
      ],
      "text/plain": [
       "<IPython.core.display.HTML object>"
      ]
     },
     "metadata": {},
     "output_type": "display_data"
    },
    {
     "data": {
      "text/html": [
       "<span style=\"color:cyan\"> |-layer_0_neurons: 190</span>"
      ],
      "text/plain": [
       "<IPython.core.display.HTML object>"
      ]
     },
     "metadata": {},
     "output_type": "display_data"
    },
    {
     "data": {
      "text/html": [
       "<span style=\"color:blue\"> |-layer_1_neurons: 30</span>"
      ],
      "text/plain": [
       "<IPython.core.display.HTML object>"
      ]
     },
     "metadata": {},
     "output_type": "display_data"
    },
    {
     "data": {
      "text/html": [
       "<span style=\"color:cyan\"> |-layer_2_neurons: 30</span>"
      ],
      "text/plain": [
       "<IPython.core.display.HTML object>"
      ]
     },
     "metadata": {},
     "output_type": "display_data"
    },
    {
     "data": {
      "text/html": [
       "<span style=\"color:blue\"> |-layer_3_neurons: 90</span>"
      ],
      "text/plain": [
       "<IPython.core.display.HTML object>"
      ]
     },
     "metadata": {},
     "output_type": "display_data"
    },
    {
     "data": {
      "text/html": [
       "<span style=\"color:cyan\"> |-n_input_neurons: 110</span>"
      ],
      "text/plain": [
       "<IPython.core.display.HTML object>"
      ]
     },
     "metadata": {},
     "output_type": "display_data"
    },
    {
     "data": {
      "text/html": [
       "<span style=\"color:blue\"> |-n_layers: 3</span>"
      ],
      "text/plain": [
       "<IPython.core.display.HTML object>"
      ]
     },
     "metadata": {},
     "output_type": "display_data"
    },
    {
     "name": "stdout",
     "output_type": "stream",
     "text": [
      "Train on 7112 samples, validate on 2332 samples\n",
      "Epoch 1/10\n",
      "7112/7112 [==============================] - ETA: 8:44 - loss: 3.3213 - acc: 0.400 - ETA: 55s - loss: 2.2608 - acc: 0.260 - ETA: 30s - loss: 1.8523 - acc: 0.32 - ETA: 21s - loss: 1.5981 - acc: 0.35 - ETA: 17s - loss: 1.4915 - acc: 0.37 - ETA: 14s - loss: 1.3963 - acc: 0.41 - ETA: 12s - loss: 1.3475 - acc: 0.42 - ETA: 11s - loss: 1.3132 - acc: 0.42 - ETA: 10s - loss: 1.2933 - acc: 0.42 - ETA: 9s - loss: 1.2756 - acc: 0.4282 - ETA: 9s - loss: 1.2573 - acc: 0.438 - ETA: 8s - loss: 1.2599 - acc: 0.427 - ETA: 8s - loss: 1.2445 - acc: 0.439 - ETA: 8s - loss: 1.2350 - acc: 0.444 - ETA: 7s - loss: 1.2236 - acc: 0.444 - ETA: 7s - loss: 1.2109 - acc: 0.451 - ETA: 7s - loss: 1.2036 - acc: 0.450 - ETA: 6s - loss: 1.1941 - acc: 0.453 - ETA: 6s - loss: 1.1804 - acc: 0.461 - ETA: 6s - loss: 1.1725 - acc: 0.465 - ETA: 6s - loss: 1.1663 - acc: 0.470 - ETA: 6s - loss: 1.1620 - acc: 0.468 - ETA: 5s - loss: 1.1587 - acc: 0.471 - ETA: 5s - loss: 1.1597 - acc: 0.465 - ETA: 5s - loss: 1.1551 - acc: 0.464 - ETA: 5s - loss: 1.1504 - acc: 0.466 - ETA: 5s - loss: 1.1448 - acc: 0.471 - ETA: 4s - loss: 1.1404 - acc: 0.473 - ETA: 4s - loss: 1.1369 - acc: 0.474 - ETA: 4s - loss: 1.1299 - acc: 0.478 - ETA: 4s - loss: 1.1253 - acc: 0.481 - ETA: 4s - loss: 1.1189 - acc: 0.484 - ETA: 4s - loss: 1.1186 - acc: 0.485 - ETA: 4s - loss: 1.1156 - acc: 0.484 - ETA: 4s - loss: 1.1113 - acc: 0.487 - ETA: 4s - loss: 1.1097 - acc: 0.486 - ETA: 3s - loss: 1.1100 - acc: 0.488 - ETA: 3s - loss: 1.1139 - acc: 0.486 - ETA: 3s - loss: 1.1139 - acc: 0.486 - ETA: 3s - loss: 1.1157 - acc: 0.488 - ETA: 3s - loss: 1.1143 - acc: 0.485 - ETA: 3s - loss: 1.1151 - acc: 0.484 - ETA: 3s - loss: 1.1120 - acc: 0.485 - ETA: 3s - loss: 1.1090 - acc: 0.487 - ETA: 3s - loss: 1.1057 - acc: 0.488 - ETA: 3s - loss: 1.1055 - acc: 0.487 - ETA: 2s - loss: 1.1044 - acc: 0.487 - ETA: 2s - loss: 1.1030 - acc: 0.488 - ETA: 2s - loss: 1.1044 - acc: 0.485 - ETA: 2s - loss: 1.1016 - acc: 0.485 - ETA: 2s - loss: 1.1003 - acc: 0.485 - ETA: 2s - loss: 1.1010 - acc: 0.484 - ETA: 2s - loss: 1.0979 - acc: 0.487 - ETA: 2s - loss: 1.0957 - acc: 0.487 - ETA: 2s - loss: 1.0938 - acc: 0.488 - ETA: 2s - loss: 1.0932 - acc: 0.487 - ETA: 2s - loss: 1.0912 - acc: 0.489 - ETA: 1s - loss: 1.0900 - acc: 0.490 - ETA: 1s - loss: 1.0885 - acc: 0.490 - ETA: 1s - loss: 1.0858 - acc: 0.493 - ETA: 1s - loss: 1.0842 - acc: 0.493 - ETA: 1s - loss: 1.0826 - acc: 0.494 - ETA: 1s - loss: 1.0817 - acc: 0.493 - ETA: 1s - loss: 1.0818 - acc: 0.492 - ETA: 1s - loss: 1.0805 - acc: 0.492 - ETA: 1s - loss: 1.0780 - acc: 0.493 - ETA: 1s - loss: 1.0774 - acc: 0.493 - ETA: 1s - loss: 1.0775 - acc: 0.490 - ETA: 1s - loss: 1.0762 - acc: 0.491 - ETA: 1s - loss: 1.0742 - acc: 0.493 - ETA: 0s - loss: 1.0733 - acc: 0.493 - ETA: 0s - loss: 1.0730 - acc: 0.492 - ETA: 0s - loss: 1.0715 - acc: 0.492 - ETA: 0s - loss: 1.0721 - acc: 0.492 - ETA: 0s - loss: 1.0748 - acc: 0.489 - ETA: 0s - loss: 1.0745 - acc: 0.489 - ETA: 0s - loss: 1.0747 - acc: 0.488 - ETA: 0s - loss: 1.0762 - acc: 0.488 - ETA: 0s - loss: 1.0771 - acc: 0.486 - ETA: 0s - loss: 1.0763 - acc: 0.486 - ETA: 0s - loss: 1.0741 - acc: 0.487 - ETA: 0s - loss: 1.0736 - acc: 0.488 - ETA: 0s - loss: 1.0743 - acc: 0.486 - ETA: 0s - loss: 1.0747 - acc: 0.486 - ETA: 0s - loss: 1.0737 - acc: 0.486 - 6s 898us/sample - loss: 1.0732 - acc: 0.4859 - val_loss: 0.9864 - val_acc: 0.5257\n",
      "Epoch 2/10\n",
      "7112/7112 [==============================] - ETA: 6s - loss: 1.1843 - acc: 0.500 - ETA: 3s - loss: 0.9528 - acc: 0.592 - ETA: 2s - loss: 1.0396 - acc: 0.503 - ETA: 2s - loss: 1.0361 - acc: 0.515 - ETA: 2s - loss: 1.0162 - acc: 0.534 - ETA: 2s - loss: 1.0120 - acc: 0.525 - ETA: 2s - loss: 1.0099 - acc: 0.531 - ETA: 2s - loss: 0.9958 - acc: 0.538 - ETA: 2s - loss: 0.9958 - acc: 0.538 - ETA: 2s - loss: 0.9847 - acc: 0.550 - ETA: 2s - loss: 0.9898 - acc: 0.540 - ETA: 2s - loss: 0.9945 - acc: 0.535 - ETA: 2s - loss: 0.9966 - acc: 0.527 - ETA: 2s - loss: 0.9967 - acc: 0.523 - ETA: 2s - loss: 0.9964 - acc: 0.524 - ETA: 2s - loss: 0.9978 - acc: 0.522 - ETA: 2s - loss: 0.9947 - acc: 0.524 - ETA: 2s - loss: 0.9976 - acc: 0.522 - ETA: 2s - loss: 0.9996 - acc: 0.522 - ETA: 2s - loss: 0.9981 - acc: 0.527 - ETA: 2s - loss: 0.9952 - acc: 0.530 - ETA: 2s - loss: 0.9970 - acc: 0.529 - ETA: 2s - loss: 0.9975 - acc: 0.528 - ETA: 2s - loss: 0.9962 - acc: 0.527 - ETA: 2s - loss: 0.9955 - acc: 0.526 - ETA: 2s - loss: 1.0011 - acc: 0.521 - ETA: 2s - loss: 0.9992 - acc: 0.523 - ETA: 2s - loss: 1.0007 - acc: 0.523 - ETA: 2s - loss: 1.0013 - acc: 0.520 - ETA: 2s - loss: 1.0012 - acc: 0.521 - ETA: 2s - loss: 1.0035 - acc: 0.519 - ETA: 2s - loss: 1.0044 - acc: 0.517 - ETA: 2s - loss: 1.0043 - acc: 0.519 - ETA: 1s - loss: 1.0047 - acc: 0.518 - ETA: 1s - loss: 1.0028 - acc: 0.518 - ETA: 1s - loss: 1.0035 - acc: 0.518 - ETA: 1s - loss: 1.0011 - acc: 0.519 - ETA: 1s - loss: 0.9995 - acc: 0.521 - ETA: 1s - loss: 1.0031 - acc: 0.519 - ETA: 1s - loss: 1.0035 - acc: 0.518 - ETA: 1s - loss: 1.0052 - acc: 0.516 - ETA: 1s - loss: 1.0060 - acc: 0.516 - ETA: 1s - loss: 1.0059 - acc: 0.516 - ETA: 1s - loss: 1.0039 - acc: 0.518 - ETA: 1s - loss: 1.0018 - acc: 0.519 - ETA: 1s - loss: 1.0016 - acc: 0.520 - ETA: 1s - loss: 1.0012 - acc: 0.520 - ETA: 1s - loss: 1.0025 - acc: 0.518 - ETA: 1s - loss: 1.0018 - acc: 0.520 - ETA: 1s - loss: 1.0031 - acc: 0.518 - ETA: 1s - loss: 1.0043 - acc: 0.518 - ETA: 1s - loss: 1.0035 - acc: 0.520 - ETA: 0s - loss: 1.0045 - acc: 0.518 - ETA: 0s - loss: 1.0051 - acc: 0.517 - ETA: 0s - loss: 1.0062 - acc: 0.515 - ETA: 0s - loss: 1.0056 - acc: 0.517 - ETA: 0s - loss: 1.0074 - acc: 0.515 - ETA: 0s - loss: 1.0081 - acc: 0.513 - ETA: 0s - loss: 1.0087 - acc: 0.513 - ETA: 0s - loss: 1.0082 - acc: 0.513 - ETA: 0s - loss: 1.0095 - acc: 0.512 - ETA: 0s - loss: 1.0085 - acc: 0.513 - ETA: 0s - loss: 1.0090 - acc: 0.512 - ETA: 0s - loss: 1.0093 - acc: 0.512 - ETA: 0s - loss: 1.0083 - acc: 0.513 - ETA: 0s - loss: 1.0084 - acc: 0.513 - ETA: 0s - loss: 1.0076 - acc: 0.514 - ETA: 0s - loss: 1.0084 - acc: 0.513 - ETA: 0s - loss: 1.0090 - acc: 0.513 - ETA: 0s - loss: 1.0086 - acc: 0.514 - 4s 590us/sample - loss: 1.0088 - acc: 0.5139 - val_loss: 1.0124 - val_acc: 0.4691\n",
      "Epoch 3/10\n"
     ]
    },
    {
     "name": "stdout",
     "output_type": "stream",
     "text": [
      "7112/7112 [==============================] - ETA: 7s - loss: 1.0667 - acc: 0.300 - ETA: 3s - loss: 0.9993 - acc: 0.492 - ETA: 3s - loss: 0.9871 - acc: 0.500 - ETA: 3s - loss: 0.9856 - acc: 0.505 - ETA: 3s - loss: 0.9849 - acc: 0.495 - ETA: 3s - loss: 0.9962 - acc: 0.486 - ETA: 2s - loss: 0.9937 - acc: 0.498 - ETA: 2s - loss: 1.0036 - acc: 0.488 - ETA: 2s - loss: 1.0017 - acc: 0.494 - ETA: 2s - loss: 1.0115 - acc: 0.491 - ETA: 2s - loss: 1.0121 - acc: 0.492 - ETA: 2s - loss: 1.0095 - acc: 0.497 - ETA: 2s - loss: 1.0054 - acc: 0.502 - ETA: 2s - loss: 1.0053 - acc: 0.502 - ETA: 2s - loss: 1.0141 - acc: 0.496 - ETA: 2s - loss: 1.0147 - acc: 0.496 - ETA: 2s - loss: 1.0155 - acc: 0.494 - ETA: 2s - loss: 1.0140 - acc: 0.498 - ETA: 2s - loss: 1.0066 - acc: 0.504 - ETA: 2s - loss: 1.0042 - acc: 0.508 - ETA: 2s - loss: 1.0030 - acc: 0.510 - ETA: 2s - loss: 1.0011 - acc: 0.513 - ETA: 2s - loss: 1.0050 - acc: 0.511 - ETA: 2s - loss: 1.0014 - acc: 0.513 - ETA: 2s - loss: 1.0012 - acc: 0.515 - ETA: 1s - loss: 0.9984 - acc: 0.518 - ETA: 1s - loss: 0.9982 - acc: 0.519 - ETA: 1s - loss: 0.9982 - acc: 0.520 - ETA: 1s - loss: 0.9982 - acc: 0.522 - ETA: 1s - loss: 1.0001 - acc: 0.520 - ETA: 1s - loss: 1.0003 - acc: 0.520 - ETA: 1s - loss: 0.9998 - acc: 0.520 - ETA: 1s - loss: 0.9990 - acc: 0.522 - ETA: 1s - loss: 1.0021 - acc: 0.522 - ETA: 1s - loss: 1.0017 - acc: 0.521 - ETA: 1s - loss: 1.0027 - acc: 0.521 - ETA: 1s - loss: 1.0031 - acc: 0.519 - ETA: 1s - loss: 1.0042 - acc: 0.518 - ETA: 1s - loss: 1.0033 - acc: 0.519 - ETA: 1s - loss: 1.0009 - acc: 0.521 - ETA: 1s - loss: 1.0024 - acc: 0.521 - ETA: 1s - loss: 1.0018 - acc: 0.521 - ETA: 1s - loss: 1.0005 - acc: 0.523 - ETA: 0s - loss: 1.0007 - acc: 0.522 - ETA: 0s - loss: 1.0003 - acc: 0.523 - ETA: 0s - loss: 1.0004 - acc: 0.523 - ETA: 0s - loss: 1.0013 - acc: 0.522 - ETA: 0s - loss: 1.0024 - acc: 0.520 - ETA: 0s - loss: 1.0016 - acc: 0.520 - ETA: 0s - loss: 1.0015 - acc: 0.520 - ETA: 0s - loss: 1.0012 - acc: 0.520 - ETA: 0s - loss: 1.0024 - acc: 0.518 - ETA: 0s - loss: 1.0027 - acc: 0.517 - ETA: 0s - loss: 1.0028 - acc: 0.517 - ETA: 0s - loss: 1.0022 - acc: 0.517 - ETA: 0s - loss: 1.0009 - acc: 0.518 - ETA: 0s - loss: 1.0009 - acc: 0.517 - ETA: 0s - loss: 1.0012 - acc: 0.517 - ETA: 0s - loss: 1.0012 - acc: 0.517 - ETA: 0s - loss: 1.0007 - acc: 0.517 - ETA: 0s - loss: 1.0012 - acc: 0.517 - ETA: 0s - loss: 1.0011 - acc: 0.517 - ETA: 0s - loss: 1.0017 - acc: 0.515 - 4s 544us/sample - loss: 1.0029 - acc: 0.5142 - val_loss: 0.9932 - val_acc: 0.5090\n",
      "Epoch 4/10\n",
      "7112/7112 [==============================] - ETA: 6s - loss: 1.1512 - acc: 0.400 - ETA: 3s - loss: 1.0185 - acc: 0.500 - ETA: 3s - loss: 1.0309 - acc: 0.480 - ETA: 2s - loss: 1.0187 - acc: 0.489 - ETA: 2s - loss: 1.0080 - acc: 0.491 - ETA: 2s - loss: 1.0231 - acc: 0.483 - ETA: 2s - loss: 1.0234 - acc: 0.481 - ETA: 2s - loss: 1.0275 - acc: 0.476 - ETA: 2s - loss: 1.0192 - acc: 0.486 - ETA: 2s - loss: 1.0180 - acc: 0.488 - ETA: 2s - loss: 1.0202 - acc: 0.487 - ETA: 2s - loss: 1.0150 - acc: 0.493 - ETA: 2s - loss: 1.0151 - acc: 0.494 - ETA: 2s - loss: 1.0133 - acc: 0.492 - ETA: 2s - loss: 1.0117 - acc: 0.495 - ETA: 2s - loss: 1.0060 - acc: 0.500 - ETA: 2s - loss: 1.0057 - acc: 0.505 - ETA: 2s - loss: 1.0028 - acc: 0.506 - ETA: 2s - loss: 0.9979 - acc: 0.515 - ETA: 2s - loss: 1.0016 - acc: 0.513 - ETA: 1s - loss: 1.0030 - acc: 0.510 - ETA: 1s - loss: 1.0034 - acc: 0.511 - ETA: 1s - loss: 1.0057 - acc: 0.509 - ETA: 1s - loss: 1.0018 - acc: 0.513 - ETA: 1s - loss: 1.0002 - acc: 0.513 - ETA: 1s - loss: 0.9998 - acc: 0.513 - ETA: 1s - loss: 0.9989 - acc: 0.514 - ETA: 1s - loss: 1.0028 - acc: 0.508 - ETA: 1s - loss: 1.0033 - acc: 0.508 - ETA: 1s - loss: 1.0029 - acc: 0.507 - ETA: 1s - loss: 1.0051 - acc: 0.505 - ETA: 1s - loss: 1.0038 - acc: 0.506 - ETA: 1s - loss: 1.0021 - acc: 0.507 - ETA: 1s - loss: 1.0028 - acc: 0.508 - ETA: 1s - loss: 1.0008 - acc: 0.511 - ETA: 1s - loss: 0.9999 - acc: 0.512 - ETA: 1s - loss: 0.9982 - acc: 0.515 - ETA: 1s - loss: 0.9972 - acc: 0.515 - ETA: 1s - loss: 0.9984 - acc: 0.515 - ETA: 1s - loss: 0.9960 - acc: 0.518 - ETA: 1s - loss: 0.9975 - acc: 0.516 - ETA: 0s - loss: 0.9998 - acc: 0.513 - ETA: 0s - loss: 0.9996 - acc: 0.513 - ETA: 0s - loss: 0.9999 - acc: 0.513 - ETA: 0s - loss: 1.0000 - acc: 0.512 - ETA: 0s - loss: 0.9988 - acc: 0.513 - ETA: 0s - loss: 0.9976 - acc: 0.514 - ETA: 0s - loss: 0.9978 - acc: 0.514 - ETA: 0s - loss: 0.9987 - acc: 0.512 - ETA: 0s - loss: 0.9987 - acc: 0.511 - ETA: 0s - loss: 0.9984 - acc: 0.512 - ETA: 0s - loss: 0.9975 - acc: 0.513 - ETA: 0s - loss: 0.9968 - acc: 0.514 - ETA: 0s - loss: 0.9962 - acc: 0.515 - ETA: 0s - loss: 0.9973 - acc: 0.514 - ETA: 0s - loss: 0.9977 - acc: 0.514 - ETA: 0s - loss: 0.9976 - acc: 0.515 - ETA: 0s - loss: 0.9976 - acc: 0.516 - ETA: 0s - loss: 0.9974 - acc: 0.516 - ETA: 0s - loss: 0.9970 - acc: 0.517 - ETA: 0s - loss: 0.9971 - acc: 0.517 - 4s 529us/sample - loss: 0.9966 - acc: 0.5179 - val_loss: 1.0182 - val_acc: 0.5189\n",
      "Epoch 5/10\n",
      "7112/7112 [==============================] - ETA: 5s - loss: 0.9785 - acc: 0.600 - ETA: 3s - loss: 0.9919 - acc: 0.533 - ETA: 3s - loss: 0.9879 - acc: 0.519 - ETA: 3s - loss: 0.9876 - acc: 0.522 - ETA: 2s - loss: 0.9955 - acc: 0.508 - ETA: 2s - loss: 1.0033 - acc: 0.501 - ETA: 2s - loss: 1.0128 - acc: 0.502 - ETA: 2s - loss: 1.0027 - acc: 0.518 - ETA: 2s - loss: 1.0049 - acc: 0.517 - ETA: 2s - loss: 0.9993 - acc: 0.522 - ETA: 2s - loss: 0.9981 - acc: 0.522 - ETA: 2s - loss: 0.9964 - acc: 0.521 - ETA: 2s - loss: 0.9936 - acc: 0.524 - ETA: 2s - loss: 0.9969 - acc: 0.522 - ETA: 2s - loss: 1.0029 - acc: 0.514 - ETA: 2s - loss: 1.0016 - acc: 0.515 - ETA: 2s - loss: 1.0013 - acc: 0.514 - ETA: 2s - loss: 1.0014 - acc: 0.514 - ETA: 2s - loss: 0.9967 - acc: 0.519 - ETA: 2s - loss: 0.9961 - acc: 0.521 - ETA: 2s - loss: 0.9957 - acc: 0.521 - ETA: 2s - loss: 0.9928 - acc: 0.523 - ETA: 2s - loss: 0.9929 - acc: 0.522 - ETA: 1s - loss: 0.9945 - acc: 0.522 - ETA: 1s - loss: 0.9989 - acc: 0.519 - ETA: 1s - loss: 0.9998 - acc: 0.518 - ETA: 1s - loss: 0.9992 - acc: 0.517 - ETA: 1s - loss: 0.9980 - acc: 0.521 - ETA: 1s - loss: 0.9967 - acc: 0.520 - ETA: 1s - loss: 0.9966 - acc: 0.519 - ETA: 1s - loss: 0.9991 - acc: 0.517 - ETA: 1s - loss: 0.9978 - acc: 0.517 - ETA: 1s - loss: 0.9978 - acc: 0.517 - ETA: 1s - loss: 0.9998 - acc: 0.515 - ETA: 1s - loss: 1.0014 - acc: 0.513 - ETA: 1s - loss: 0.9997 - acc: 0.516 - ETA: 1s - loss: 0.9991 - acc: 0.517 - ETA: 1s - loss: 1.0009 - acc: 0.516 - ETA: 1s - loss: 1.0014 - acc: 0.515 - ETA: 1s - loss: 1.0018 - acc: 0.515 - ETA: 1s - loss: 1.0018 - acc: 0.515 - ETA: 1s - loss: 1.0002 - acc: 0.517 - ETA: 1s - loss: 1.0003 - acc: 0.517 - ETA: 0s - loss: 1.0004 - acc: 0.517 - ETA: 0s - loss: 0.9994 - acc: 0.518 - ETA: 0s - loss: 0.9965 - acc: 0.520 - ETA: 0s - loss: 0.9958 - acc: 0.520 - ETA: 0s - loss: 0.9961 - acc: 0.520 - ETA: 0s - loss: 0.9969 - acc: 0.518 - ETA: 0s - loss: 0.9974 - acc: 0.519 - ETA: 0s - loss: 0.9984 - acc: 0.517 - ETA: 0s - loss: 0.9974 - acc: 0.519 - ETA: 0s - loss: 0.9962 - acc: 0.520 - ETA: 0s - loss: 0.9962 - acc: 0.520 - ETA: 0s - loss: 0.9961 - acc: 0.519 - ETA: 0s - loss: 0.9967 - acc: 0.518 - ETA: 0s - loss: 0.9960 - acc: 0.519 - ETA: 0s - loss: 0.9946 - acc: 0.519 - ETA: 0s - loss: 0.9930 - acc: 0.521 - ETA: 0s - loss: 0.9925 - acc: 0.522 - ETA: 0s - loss: 0.9937 - acc: 0.520 - 4s 519us/sample - loss: 0.9935 - acc: 0.5208 - val_loss: 0.9767 - val_acc: 0.5317\n",
      "Epoch 6/10\n"
     ]
    },
    {
     "name": "stdout",
     "output_type": "stream",
     "text": [
      "7112/7112 [==============================] - ETA: 5s - loss: 1.2730 - acc: 0.200 - ETA: 2s - loss: 0.9378 - acc: 0.563 - ETA: 2s - loss: 0.9755 - acc: 0.537 - ETA: 2s - loss: 1.0045 - acc: 0.524 - ETA: 1s - loss: 0.9953 - acc: 0.540 - ETA: 1s - loss: 1.0052 - acc: 0.524 - ETA: 1s - loss: 0.9944 - acc: 0.530 - ETA: 1s - loss: 0.9961 - acc: 0.527 - ETA: 1s - loss: 0.9900 - acc: 0.533 - ETA: 1s - loss: 0.9863 - acc: 0.533 - ETA: 1s - loss: 0.9833 - acc: 0.532 - ETA: 1s - loss: 0.9801 - acc: 0.533 - ETA: 1s - loss: 0.9820 - acc: 0.528 - ETA: 1s - loss: 0.9878 - acc: 0.524 - ETA: 1s - loss: 0.9909 - acc: 0.523 - ETA: 1s - loss: 0.9912 - acc: 0.523 - ETA: 1s - loss: 0.9903 - acc: 0.523 - ETA: 1s - loss: 0.9850 - acc: 0.527 - ETA: 1s - loss: 0.9865 - acc: 0.523 - ETA: 1s - loss: 0.9875 - acc: 0.522 - ETA: 1s - loss: 0.9867 - acc: 0.524 - ETA: 1s - loss: 0.9858 - acc: 0.523 - ETA: 0s - loss: 0.9868 - acc: 0.522 - ETA: 0s - loss: 0.9869 - acc: 0.523 - ETA: 0s - loss: 0.9851 - acc: 0.524 - ETA: 0s - loss: 0.9866 - acc: 0.522 - ETA: 0s - loss: 0.9857 - acc: 0.523 - ETA: 0s - loss: 0.9843 - acc: 0.525 - ETA: 0s - loss: 0.9825 - acc: 0.526 - ETA: 0s - loss: 0.9819 - acc: 0.527 - ETA: 0s - loss: 0.9828 - acc: 0.526 - ETA: 0s - loss: 0.9853 - acc: 0.524 - ETA: 0s - loss: 0.9865 - acc: 0.524 - ETA: 0s - loss: 0.9861 - acc: 0.525 - ETA: 0s - loss: 0.9854 - acc: 0.526 - ETA: 0s - loss: 0.9875 - acc: 0.526 - ETA: 0s - loss: 0.9886 - acc: 0.525 - ETA: 0s - loss: 0.9899 - acc: 0.524 - ETA: 0s - loss: 0.9903 - acc: 0.524 - ETA: 0s - loss: 0.9900 - acc: 0.525 - 2s 342us/sample - loss: 0.9907 - acc: 0.5245 - val_loss: 0.9800 - val_acc: 0.5317\n",
      "Epoch 7/10\n",
      "7112/7112 [==============================] - ETA: 3s - loss: 0.8511 - acc: 0.600 - ETA: 2s - loss: 0.9394 - acc: 0.568 - ETA: 1s - loss: 0.9673 - acc: 0.556 - ETA: 1s - loss: 0.9923 - acc: 0.534 - ETA: 1s - loss: 0.9867 - acc: 0.530 - ETA: 1s - loss: 0.9677 - acc: 0.543 - ETA: 1s - loss: 0.9666 - acc: 0.548 - ETA: 1s - loss: 0.9720 - acc: 0.544 - ETA: 1s - loss: 0.9723 - acc: 0.544 - ETA: 1s - loss: 0.9690 - acc: 0.544 - ETA: 1s - loss: 0.9710 - acc: 0.542 - ETA: 1s - loss: 0.9736 - acc: 0.537 - ETA: 1s - loss: 0.9709 - acc: 0.542 - ETA: 1s - loss: 0.9737 - acc: 0.539 - ETA: 1s - loss: 0.9766 - acc: 0.536 - ETA: 1s - loss: 0.9744 - acc: 0.540 - ETA: 1s - loss: 0.9786 - acc: 0.536 - ETA: 1s - loss: 0.9810 - acc: 0.535 - ETA: 1s - loss: 0.9815 - acc: 0.534 - ETA: 1s - loss: 0.9821 - acc: 0.531 - ETA: 0s - loss: 0.9842 - acc: 0.529 - ETA: 0s - loss: 0.9851 - acc: 0.529 - ETA: 0s - loss: 0.9843 - acc: 0.528 - ETA: 0s - loss: 0.9832 - acc: 0.529 - ETA: 0s - loss: 0.9864 - acc: 0.527 - ETA: 0s - loss: 0.9846 - acc: 0.528 - ETA: 0s - loss: 0.9852 - acc: 0.527 - ETA: 0s - loss: 0.9852 - acc: 0.528 - ETA: 0s - loss: 0.9860 - acc: 0.526 - ETA: 0s - loss: 0.9875 - acc: 0.525 - ETA: 0s - loss: 0.9875 - acc: 0.524 - ETA: 0s - loss: 0.9871 - acc: 0.525 - ETA: 0s - loss: 0.9882 - acc: 0.524 - ETA: 0s - loss: 0.9887 - acc: 0.524 - ETA: 0s - loss: 0.9890 - acc: 0.524 - ETA: 0s - loss: 0.9890 - acc: 0.523 - ETA: 0s - loss: 0.9892 - acc: 0.524 - ETA: 0s - loss: 0.9887 - acc: 0.524 - ETA: 0s - loss: 0.9882 - acc: 0.524 - 2s 340us/sample - loss: 0.9887 - acc: 0.5242 - val_loss: 0.9749 - val_acc: 0.5322\n",
      "Epoch 8/10\n",
      "7112/7112 [==============================] - ETA: 3s - loss: 0.6465 - acc: 0.800 - ETA: 2s - loss: 0.9983 - acc: 0.526 - ETA: 1s - loss: 0.9996 - acc: 0.526 - ETA: 1s - loss: 1.0027 - acc: 0.514 - ETA: 1s - loss: 0.9938 - acc: 0.519 - ETA: 1s - loss: 0.9797 - acc: 0.532 - ETA: 1s - loss: 0.9765 - acc: 0.534 - ETA: 1s - loss: 0.9730 - acc: 0.538 - ETA: 1s - loss: 0.9743 - acc: 0.539 - ETA: 1s - loss: 0.9703 - acc: 0.543 - ETA: 1s - loss: 0.9741 - acc: 0.538 - ETA: 1s - loss: 0.9777 - acc: 0.536 - ETA: 1s - loss: 0.9776 - acc: 0.534 - ETA: 1s - loss: 0.9750 - acc: 0.537 - ETA: 1s - loss: 0.9791 - acc: 0.533 - ETA: 1s - loss: 0.9766 - acc: 0.535 - ETA: 1s - loss: 0.9751 - acc: 0.536 - ETA: 1s - loss: 0.9733 - acc: 0.537 - ETA: 0s - loss: 0.9727 - acc: 0.538 - ETA: 0s - loss: 0.9742 - acc: 0.537 - ETA: 0s - loss: 0.9741 - acc: 0.537 - ETA: 0s - loss: 0.9749 - acc: 0.535 - ETA: 0s - loss: 0.9749 - acc: 0.534 - ETA: 0s - loss: 0.9771 - acc: 0.532 - ETA: 0s - loss: 0.9758 - acc: 0.532 - ETA: 0s - loss: 0.9810 - acc: 0.528 - ETA: 0s - loss: 0.9828 - acc: 0.526 - ETA: 0s - loss: 0.9845 - acc: 0.524 - ETA: 0s - loss: 0.9851 - acc: 0.524 - ETA: 0s - loss: 0.9870 - acc: 0.522 - ETA: 0s - loss: 0.9879 - acc: 0.521 - ETA: 0s - loss: 0.9869 - acc: 0.522 - ETA: 0s - loss: 0.9874 - acc: 0.521 - ETA: 0s - loss: 0.9874 - acc: 0.522 - ETA: 0s - loss: 0.9870 - acc: 0.523 - ETA: 0s - loss: 0.9861 - acc: 0.524 - ETA: 0s - loss: 0.9864 - acc: 0.523 - ETA: 0s - loss: 0.9876 - acc: 0.523 - 2s 324us/sample - loss: 0.9872 - acc: 0.5235 - val_loss: 0.9786 - val_acc: 0.5292\n",
      "Epoch 9/10\n",
      "7112/7112 [==============================] - ETA: 4s - loss: 0.8527 - acc: 0.700 - ETA: 2s - loss: 0.9203 - acc: 0.615 - ETA: 1s - loss: 0.9355 - acc: 0.607 - ETA: 1s - loss: 0.9674 - acc: 0.569 - ETA: 1s - loss: 0.9752 - acc: 0.559 - ETA: 1s - loss: 0.9812 - acc: 0.548 - ETA: 1s - loss: 0.9799 - acc: 0.553 - ETA: 1s - loss: 0.9806 - acc: 0.550 - ETA: 1s - loss: 0.9824 - acc: 0.544 - ETA: 1s - loss: 0.9798 - acc: 0.543 - ETA: 1s - loss: 0.9788 - acc: 0.541 - ETA: 1s - loss: 0.9831 - acc: 0.532 - ETA: 1s - loss: 0.9850 - acc: 0.530 - ETA: 1s - loss: 0.9842 - acc: 0.531 - ETA: 1s - loss: 0.9868 - acc: 0.530 - ETA: 1s - loss: 0.9885 - acc: 0.525 - ETA: 1s - loss: 0.9900 - acc: 0.524 - ETA: 1s - loss: 0.9861 - acc: 0.528 - ETA: 1s - loss: 0.9870 - acc: 0.529 - ETA: 0s - loss: 0.9858 - acc: 0.531 - ETA: 0s - loss: 0.9870 - acc: 0.530 - ETA: 0s - loss: 0.9889 - acc: 0.529 - ETA: 0s - loss: 0.9883 - acc: 0.529 - ETA: 0s - loss: 0.9853 - acc: 0.530 - ETA: 0s - loss: 0.9889 - acc: 0.525 - ETA: 0s - loss: 0.9880 - acc: 0.526 - ETA: 0s - loss: 0.9884 - acc: 0.525 - ETA: 0s - loss: 0.9872 - acc: 0.526 - ETA: 0s - loss: 0.9861 - acc: 0.528 - ETA: 0s - loss: 0.9843 - acc: 0.529 - ETA: 0s - loss: 0.9851 - acc: 0.529 - ETA: 0s - loss: 0.9847 - acc: 0.528 - ETA: 0s - loss: 0.9850 - acc: 0.526 - ETA: 0s - loss: 0.9860 - acc: 0.526 - ETA: 0s - loss: 0.9860 - acc: 0.524 - ETA: 0s - loss: 0.9872 - acc: 0.523 - ETA: 0s - loss: 0.9881 - acc: 0.522 - ETA: 0s - loss: 0.9877 - acc: 0.522 - ETA: 0s - loss: 0.9888 - acc: 0.522 - ETA: 0s - loss: 0.9875 - acc: 0.524 - 2s 338us/sample - loss: 0.9876 - acc: 0.5245 - val_loss: 0.9702 - val_acc: 0.5364\n",
      "Epoch 10/10\n",
      "7112/7112 [==============================] - ETA: 4s - loss: 0.8007 - acc: 0.700 - ETA: 1s - loss: 0.9860 - acc: 0.520 - ETA: 1s - loss: 0.9692 - acc: 0.551 - ETA: 1s - loss: 0.9890 - acc: 0.533 - ETA: 1s - loss: 0.9874 - acc: 0.529 - ETA: 1s - loss: 0.9910 - acc: 0.525 - ETA: 1s - loss: 0.9883 - acc: 0.527 - ETA: 1s - loss: 0.9895 - acc: 0.525 - ETA: 1s - loss: 0.9855 - acc: 0.530 - ETA: 1s - loss: 0.9833 - acc: 0.528 - ETA: 1s - loss: 0.9818 - acc: 0.527 - ETA: 1s - loss: 0.9783 - acc: 0.529 - ETA: 1s - loss: 0.9824 - acc: 0.527 - ETA: 1s - loss: 0.9818 - acc: 0.527 - ETA: 1s - loss: 0.9824 - acc: 0.524 - ETA: 1s - loss: 0.9828 - acc: 0.525 - ETA: 1s - loss: 0.9822 - acc: 0.526 - ETA: 1s - loss: 0.9839 - acc: 0.525 - ETA: 1s - loss: 0.9832 - acc: 0.526 - ETA: 0s - loss: 0.9812 - acc: 0.528 - ETA: 0s - loss: 0.9824 - acc: 0.526 - ETA: 0s - loss: 0.9808 - acc: 0.526 - ETA: 0s - loss: 0.9836 - acc: 0.523 - ETA: 0s - loss: 0.9838 - acc: 0.523 - ETA: 0s - loss: 0.9844 - acc: 0.523 - ETA: 0s - loss: 0.9833 - acc: 0.524 - ETA: 0s - loss: 0.9824 - acc: 0.525 - ETA: 0s - loss: 0.9825 - acc: 0.526 - ETA: 0s - loss: 0.9839 - acc: 0.526 - ETA: 0s - loss: 0.9817 - acc: 0.528 - ETA: 0s - loss: 0.9834 - acc: 0.528 - ETA: 0s - loss: 0.9820 - acc: 0.529 - ETA: 0s - loss: 0.9838 - acc: 0.527 - ETA: 0s - loss: 0.9833 - acc: 0.527 - ETA: 0s - loss: 0.9845 - acc: 0.527 - ETA: 0s - loss: 0.9855 - acc: 0.527 - ETA: 0s - loss: 0.9861 - acc: 0.526 - ETA: 0s - loss: 0.9860 - acc: 0.526 - 2s 321us/sample - loss: 0.9859 - acc: 0.5266 - val_loss: 0.9751 - val_acc: 0.5339\n"
     ]
    },
    {
     "data": {
      "text/html": [
       "<span style=\"color:#4527A0\"><h1 style=\"font-size:18px\">Trial complete</h1></span>"
      ],
      "text/plain": [
       "<IPython.core.display.HTML object>"
      ]
     },
     "metadata": {},
     "output_type": "display_data"
    },
    {
     "data": {
      "text/html": [
       "<span style=\"color:#4527A0\"><h1 style=\"font-size:18px\">Trial summary</h1></span>"
      ],
      "text/plain": [
       "<IPython.core.display.HTML object>"
      ]
     },
     "metadata": {},
     "output_type": "display_data"
    },
    {
     "data": {
      "text/html": [
       "<span style=\"color:cyan\"> |-Trial ID: d2de1df2bbbc739310e403732fe83d3c</span>"
      ],
      "text/plain": [
       "<IPython.core.display.HTML object>"
      ]
     },
     "metadata": {},
     "output_type": "display_data"
    },
    {
     "data": {
      "text/html": [
       "<span style=\"color:cyan\"> |-Score: 0.5364493727684021</span>"
      ],
      "text/plain": [
       "<IPython.core.display.HTML object>"
      ]
     },
     "metadata": {},
     "output_type": "display_data"
    },
    {
     "data": {
      "text/html": [
       "<span style=\"color:cyan\"> |-Best step: 0</span>"
      ],
      "text/plain": [
       "<IPython.core.display.HTML object>"
      ]
     },
     "metadata": {},
     "output_type": "display_data"
    },
    {
     "data": {
      "text/html": [
       "<span style=\"color:#7E57C2\"><h2 style=\"font-size:16px\">Hyperparameters:</h2></span>"
      ],
      "text/plain": [
       "<IPython.core.display.HTML object>"
      ]
     },
     "metadata": {},
     "output_type": "display_data"
    },
    {
     "data": {
      "text/html": [
       "<span style=\"color:cyan\"> |-layer_0_neurons: 50</span>"
      ],
      "text/plain": [
       "<IPython.core.display.HTML object>"
      ]
     },
     "metadata": {},
     "output_type": "display_data"
    },
    {
     "data": {
      "text/html": [
       "<span style=\"color:blue\"> |-layer_1_neurons: 30</span>"
      ],
      "text/plain": [
       "<IPython.core.display.HTML object>"
      ]
     },
     "metadata": {},
     "output_type": "display_data"
    },
    {
     "data": {
      "text/html": [
       "<span style=\"color:cyan\"> |-layer_2_neurons: 70</span>"
      ],
      "text/plain": [
       "<IPython.core.display.HTML object>"
      ]
     },
     "metadata": {},
     "output_type": "display_data"
    },
    {
     "data": {
      "text/html": [
       "<span style=\"color:blue\"> |-layer_3_neurons: 110</span>"
      ],
      "text/plain": [
       "<IPython.core.display.HTML object>"
      ]
     },
     "metadata": {},
     "output_type": "display_data"
    },
    {
     "data": {
      "text/html": [
       "<span style=\"color:cyan\"> |-n_input_neurons: 110</span>"
      ],
      "text/plain": [
       "<IPython.core.display.HTML object>"
      ]
     },
     "metadata": {},
     "output_type": "display_data"
    },
    {
     "data": {
      "text/html": [
       "<span style=\"color:blue\"> |-n_layers: 1</span>"
      ],
      "text/plain": [
       "<IPython.core.display.HTML object>"
      ]
     },
     "metadata": {},
     "output_type": "display_data"
    },
    {
     "name": "stdout",
     "output_type": "stream",
     "text": [
      "Train on 7112 samples, validate on 2332 samples\n",
      "Epoch 1/10\n",
      "7112/7112 [==============================] - ETA: 4:21 - loss: 5.4992 - acc: 0.100 - ETA: 13s - loss: 1.6520 - acc: 0.361 - ETA: 7s - loss: 1.3503 - acc: 0.4390 - ETA: 5s - loss: 1.2546 - acc: 0.470 - ETA: 4s - loss: 1.2101 - acc: 0.467 - ETA: 3s - loss: 1.1760 - acc: 0.466 - ETA: 3s - loss: 1.1500 - acc: 0.472 - ETA: 3s - loss: 1.1217 - acc: 0.487 - ETA: 2s - loss: 1.1015 - acc: 0.497 - ETA: 2s - loss: 1.0960 - acc: 0.497 - ETA: 2s - loss: 1.0899 - acc: 0.498 - ETA: 2s - loss: 1.0841 - acc: 0.501 - ETA: 2s - loss: 1.0767 - acc: 0.504 - ETA: 2s - loss: 1.0741 - acc: 0.504 - ETA: 2s - loss: 1.0713 - acc: 0.505 - ETA: 1s - loss: 1.0669 - acc: 0.505 - ETA: 1s - loss: 1.0635 - acc: 0.504 - ETA: 1s - loss: 1.0637 - acc: 0.502 - ETA: 1s - loss: 1.0582 - acc: 0.505 - ETA: 1s - loss: 1.0590 - acc: 0.504 - ETA: 1s - loss: 1.0610 - acc: 0.499 - ETA: 38:13 - loss: 1.0609 - acc: 0.50 - ETA: 35:19 - loss: 1.0588 - acc: 0.50 - ETA: 32:38 - loss: 1.0575 - acc: 0.50 - ETA: 29:37 - loss: 1.0550 - acc: 0.50 - ETA: 28:07 - loss: 1.0520 - acc: 0.50 - ETA: 26:23 - loss: 1.0516 - acc: 0.50 - ETA: 24:44 - loss: 1.0516 - acc: 0.50 - ETA: 23:35 - loss: 1.0515 - acc: 0.50 - ETA: 21:31 - loss: 1.0513 - acc: 0.50 - ETA: 19:29 - loss: 1.0486 - acc: 0.50 - ETA: 17:34 - loss: 1.0470 - acc: 0.50 - ETA: 15:47 - loss: 1.0483 - acc: 0.50 - ETA: 13:23 - loss: 1.0461 - acc: 0.50 - ETA: 11:01 - loss: 1.0431 - acc: 0.50 - ETA: 9:42 - loss: 1.0417 - acc: 0.5100 - ETA: 9:32 - loss: 1.0418 - acc: 0.509 - ETA: 8:03 - loss: 1.0394 - acc: 0.511 - ETA: 6:39 - loss: 1.0392 - acc: 0.509 - ETA: 5:32 - loss: 1.0390 - acc: 0.508 - ETA: 4:25 - loss: 1.0382 - acc: 0.507 - ETA: 3:21 - loss: 1.0366 - acc: 0.508 - ETA: 2:58 - loss: 1.0363 - acc: 0.508 - ETA: 2:06 - loss: 1.0347 - acc: 0.507 - ETA: 1:22 - loss: 1.0343 - acc: 0.508 - ETA: 27s - loss: 1.0330 - acc: 0.509 - 2353s 331ms/sample - loss: 1.0325 - acc: 0.5093 - val_loss: 0.9848 - val_acc: 0.5279\n",
      "Epoch 2/10\n",
      "7112/7112 [==============================] - ETA: 3s - loss: 0.8292 - acc: 0.700 - ETA: 1s - loss: 0.9712 - acc: 0.548 - ETA: 1s - loss: 0.9958 - acc: 0.518 - ETA: 1s - loss: 0.9954 - acc: 0.521 - ETA: 1s - loss: 0.9843 - acc: 0.528 - ETA: 1s - loss: 0.9887 - acc: 0.523 - ETA: 1s - loss: 0.9916 - acc: 0.517 - ETA: 1s - loss: 0.9985 - acc: 0.517 - ETA: 1s - loss: 1.0009 - acc: 0.517 - ETA: 1s - loss: 1.0025 - acc: 0.512 - ETA: 1s - loss: 0.9987 - acc: 0.516 - ETA: 1s - loss: 0.9949 - acc: 0.522 - ETA: 1s - loss: 0.9943 - acc: 0.521 - ETA: 1s - loss: 0.9942 - acc: 0.521 - ETA: 1s - loss: 0.9929 - acc: 0.523 - ETA: 1s - loss: 0.9921 - acc: 0.524 - ETA: 1s - loss: 0.9927 - acc: 0.522 - ETA: 1s - loss: 0.9925 - acc: 0.522 - ETA: 1s - loss: 0.9925 - acc: 0.523 - ETA: 1s - loss: 0.9933 - acc: 0.521 - ETA: 1s - loss: 0.9934 - acc: 0.521 - ETA: 1s - loss: 0.9944 - acc: 0.519 - ETA: 1s - loss: 0.9973 - acc: 0.516 - ETA: 1s - loss: 0.9980 - acc: 0.514 - ETA: 1s - loss: 0.9989 - acc: 0.513 - ETA: 1s - loss: 0.9972 - acc: 0.515 - ETA: 0s - loss: 0.9960 - acc: 0.515 - ETA: 0s - loss: 0.9973 - acc: 0.514 - ETA: 0s - loss: 0.9986 - acc: 0.512 - ETA: 0s - loss: 0.9998 - acc: 0.513 - ETA: 0s - loss: 1.0012 - acc: 0.510 - ETA: 0s - loss: 0.9999 - acc: 0.512 - ETA: 0s - loss: 1.0001 - acc: 0.512 - ETA: 0s - loss: 0.9997 - acc: 0.513 - ETA: 0s - loss: 0.9981 - acc: 0.515 - ETA: 0s - loss: 0.9989 - acc: 0.514 - ETA: 0s - loss: 0.9981 - acc: 0.515 - ETA: 0s - loss: 0.9982 - acc: 0.516 - ETA: 0s - loss: 0.9975 - acc: 0.516 - ETA: 0s - loss: 0.9965 - acc: 0.517 - ETA: 0s - loss: 0.9963 - acc: 0.517 - ETA: 0s - loss: 0.9947 - acc: 0.518 - ETA: 0s - loss: 0.9967 - acc: 0.517 - ETA: 0s - loss: 0.9977 - acc: 0.517 - 2s 351us/sample - loss: 0.9977 - acc: 0.5176 - val_loss: 0.9739 - val_acc: 0.5326\n",
      "Epoch 3/10\n",
      "7112/7112 [==============================] - ETA: 3s - loss: 1.2207 - acc: 0.300 - ETA: 1s - loss: 0.9991 - acc: 0.523 - ETA: 1s - loss: 0.9947 - acc: 0.521 - ETA: 1s - loss: 0.9958 - acc: 0.527 - ETA: 1s - loss: 0.9909 - acc: 0.525 - ETA: 1s - loss: 0.9780 - acc: 0.530 - ETA: 1s - loss: 0.9795 - acc: 0.529 - ETA: 1s - loss: 0.9831 - acc: 0.530 - ETA: 1s - loss: 0.9862 - acc: 0.530 - ETA: 0s - loss: 0.9869 - acc: 0.530 - ETA: 0s - loss: 0.9878 - acc: 0.529 - ETA: 0s - loss: 0.9851 - acc: 0.531 - ETA: 0s - loss: 0.9854 - acc: 0.530 - ETA: 0s - loss: 0.9897 - acc: 0.528 - ETA: 0s - loss: 0.9878 - acc: 0.531 - ETA: 0s - loss: 0.9890 - acc: 0.531 - ETA: 0s - loss: 0.9898 - acc: 0.530 - ETA: 0s - loss: 0.9898 - acc: 0.530 - ETA: 0s - loss: 0.9916 - acc: 0.528 - ETA: 0s - loss: 0.9893 - acc: 0.530 - ETA: 0s - loss: 0.9878 - acc: 0.530 - ETA: 0s - loss: 0.9887 - acc: 0.529 - ETA: 0s - loss: 0.9875 - acc: 0.529 - ETA: 0s - loss: 0.9891 - acc: 0.528 - ETA: 0s - loss: 0.9883 - acc: 0.528 - ETA: 0s - loss: 0.9886 - acc: 0.527 - ETA: 0s - loss: 0.9890 - acc: 0.526 - ETA: 0s - loss: 0.9894 - acc: 0.525 - ETA: 0s - loss: 0.9910 - acc: 0.523 - ETA: 0s - loss: 0.9931 - acc: 0.521 - 2s 251us/sample - loss: 0.9929 - acc: 0.5219 - val_loss: 0.9765 - val_acc: 0.5330\n",
      "Epoch 4/10\n",
      "7112/7112 [==============================] - ETA: 2s - loss: 0.9899 - acc: 0.500 - ETA: 1s - loss: 0.9710 - acc: 0.538 - ETA: 1s - loss: 0.9827 - acc: 0.532 - ETA: 1s - loss: 0.9894 - acc: 0.531 - ETA: 1s - loss: 0.9897 - acc: 0.527 - ETA: 1s - loss: 0.9854 - acc: 0.532 - ETA: 1s - loss: 0.9853 - acc: 0.531 - ETA: 1s - loss: 0.9863 - acc: 0.527 - ETA: 1s - loss: 0.9823 - acc: 0.535 - ETA: 1s - loss: 0.9860 - acc: 0.531 - ETA: 0s - loss: 0.9850 - acc: 0.529 - ETA: 0s - loss: 0.9822 - acc: 0.533 - ETA: 0s - loss: 0.9845 - acc: 0.536 - ETA: 0s - loss: 0.9832 - acc: 0.537 - ETA: 0s - loss: 0.9830 - acc: 0.537 - ETA: 0s - loss: 0.9821 - acc: 0.536 - ETA: 0s - loss: 0.9820 - acc: 0.536 - ETA: 0s - loss: 0.9817 - acc: 0.535 - ETA: 0s - loss: 0.9816 - acc: 0.537 - ETA: 0s - loss: 0.9824 - acc: 0.537 - ETA: 0s - loss: 0.9851 - acc: 0.534 - ETA: 0s - loss: 0.9850 - acc: 0.532 - ETA: 0s - loss: 0.9874 - acc: 0.529 - ETA: 0s - loss: 0.9899 - acc: 0.525 - ETA: 0s - loss: 0.9910 - acc: 0.525 - ETA: 0s - loss: 0.9895 - acc: 0.526 - ETA: 0s - loss: 0.9909 - acc: 0.526 - ETA: 0s - loss: 0.9911 - acc: 0.525 - ETA: 0s - loss: 0.9896 - acc: 0.526 - 2s 247us/sample - loss: 0.9901 - acc: 0.5267 - val_loss: 0.9737 - val_acc: 0.5360\n",
      "Epoch 5/10\n",
      "7112/7112 [==============================] - ETA: 3s - loss: 1.0592 - acc: 0.400 - ETA: 1s - loss: 0.9997 - acc: 0.522 - ETA: 1s - loss: 0.9819 - acc: 0.525 - ETA: 1s - loss: 0.9909 - acc: 0.519 - ETA: 1s - loss: 0.9878 - acc: 0.532 - ETA: 1s - loss: 0.9841 - acc: 0.529 - ETA: 1s - loss: 0.9867 - acc: 0.530 - ETA: 1s - loss: 0.9864 - acc: 0.532 - ETA: 1s - loss: 0.9853 - acc: 0.534 - ETA: 0s - loss: 0.9855 - acc: 0.531 - ETA: 0s - loss: 0.9882 - acc: 0.527 - ETA: 0s - loss: 0.9931 - acc: 0.522 - ETA: 0s - loss: 0.9907 - acc: 0.524 - ETA: 0s - loss: 0.9870 - acc: 0.527 - ETA: 0s - loss: 0.9869 - acc: 0.528 - ETA: 0s - loss: 0.9883 - acc: 0.526 - ETA: 0s - loss: 0.9896 - acc: 0.525 - ETA: 0s - loss: 0.9857 - acc: 0.528 - ETA: 0s - loss: 0.9869 - acc: 0.525 - ETA: 0s - loss: 0.9863 - acc: 0.526 - ETA: 0s - loss: 0.9893 - acc: 0.523 - ETA: 0s - loss: 0.9884 - acc: 0.524 - ETA: 0s - loss: 0.9892 - acc: 0.524 - ETA: 0s - loss: 0.9908 - acc: 0.523 - ETA: 0s - loss: 0.9902 - acc: 0.524 - ETA: 0s - loss: 0.9898 - acc: 0.524 - ETA: 0s - loss: 0.9904 - acc: 0.523 - ETA: 0s - loss: 0.9899 - acc: 0.524 - ETA: 0s - loss: 0.9898 - acc: 0.524 - 2s 241us/sample - loss: 0.9900 - acc: 0.5233 - val_loss: 0.9728 - val_acc: 0.5330\n",
      "Epoch 6/10\n"
     ]
    },
    {
     "name": "stdout",
     "output_type": "stream",
     "text": [
      "7112/7112 [==============================] - ETA: 4s - loss: 0.8528 - acc: 0.700 - ETA: 1s - loss: 0.9723 - acc: 0.544 - ETA: 1s - loss: 0.9802 - acc: 0.540 - ETA: 1s - loss: 0.9836 - acc: 0.539 - ETA: 1s - loss: 0.9699 - acc: 0.554 - ETA: 1s - loss: 0.9744 - acc: 0.544 - ETA: 1s - loss: 0.9766 - acc: 0.543 - ETA: 1s - loss: 0.9756 - acc: 0.542 - ETA: 1s - loss: 0.9813 - acc: 0.533 - ETA: 0s - loss: 0.9769 - acc: 0.536 - ETA: 0s - loss: 0.9772 - acc: 0.537 - ETA: 0s - loss: 0.9788 - acc: 0.534 - ETA: 0s - loss: 0.9808 - acc: 0.533 - ETA: 0s - loss: 0.9823 - acc: 0.530 - ETA: 0s - loss: 0.9823 - acc: 0.530 - ETA: 0s - loss: 0.9827 - acc: 0.530 - ETA: 0s - loss: 0.9854 - acc: 0.527 - ETA: 0s - loss: 0.9871 - acc: 0.524 - ETA: 0s - loss: 0.9875 - acc: 0.522 - ETA: 0s - loss: 0.9885 - acc: 0.523 - ETA: 0s - loss: 0.9887 - acc: 0.523 - ETA: 0s - loss: 0.9882 - acc: 0.523 - ETA: 0s - loss: 0.9891 - acc: 0.522 - ETA: 0s - loss: 0.9903 - acc: 0.522 - ETA: 0s - loss: 0.9877 - acc: 0.525 - ETA: 0s - loss: 0.9883 - acc: 0.524 - ETA: 0s - loss: 0.9880 - acc: 0.524 - ETA: 0s - loss: 0.9881 - acc: 0.524 - 2s 237us/sample - loss: 0.9872 - acc: 0.5253 - val_loss: 0.9790 - val_acc: 0.5330\n",
      "Epoch 7/10\n",
      "7112/7112 [==============================] - ETA: 3s - loss: 1.1322 - acc: 0.500 - ETA: 1s - loss: 0.9495 - acc: 0.530 - ETA: 1s - loss: 0.9505 - acc: 0.525 - ETA: 1s - loss: 0.9531 - acc: 0.531 - ETA: 1s - loss: 0.9721 - acc: 0.530 - ETA: 1s - loss: 0.9840 - acc: 0.520 - ETA: 1s - loss: 0.9899 - acc: 0.514 - ETA: 1s - loss: 0.9912 - acc: 0.512 - ETA: 1s - loss: 0.9892 - acc: 0.510 - ETA: 0s - loss: 0.9900 - acc: 0.510 - ETA: 0s - loss: 0.9838 - acc: 0.517 - ETA: 0s - loss: 0.9769 - acc: 0.523 - ETA: 0s - loss: 0.9768 - acc: 0.524 - ETA: 0s - loss: 0.9769 - acc: 0.525 - ETA: 0s - loss: 0.9785 - acc: 0.526 - ETA: 0s - loss: 0.9802 - acc: 0.526 - ETA: 0s - loss: 0.9836 - acc: 0.524 - ETA: 0s - loss: 0.9842 - acc: 0.525 - ETA: 0s - loss: 0.9867 - acc: 0.522 - ETA: 0s - loss: 0.9835 - acc: 0.527 - ETA: 0s - loss: 0.9864 - acc: 0.524 - ETA: 0s - loss: 0.9852 - acc: 0.526 - ETA: 0s - loss: 0.9858 - acc: 0.525 - ETA: 0s - loss: 0.9836 - acc: 0.527 - ETA: 0s - loss: 0.9841 - acc: 0.527 - ETA: 0s - loss: 0.9849 - acc: 0.527 - ETA: 0s - loss: 0.9842 - acc: 0.528 - ETA: 0s - loss: 0.9865 - acc: 0.525 - ETA: 0s - loss: 0.9866 - acc: 0.525 - ETA: 0s - loss: 0.9858 - acc: 0.526 - ETA: 0s - loss: 0.9864 - acc: 0.525 - 2s 268us/sample - loss: 0.9865 - acc: 0.5263 - val_loss: 0.9766 - val_acc: 0.5347\n",
      "Epoch 8/10\n",
      "7112/7112 [==============================] - ETA: 5s - loss: 1.2082 - acc: 0.400 - ETA: 2s - loss: 0.9775 - acc: 0.550 - ETA: 1s - loss: 0.9784 - acc: 0.546 - ETA: 1s - loss: 0.9754 - acc: 0.541 - ETA: 1s - loss: 0.9750 - acc: 0.542 - ETA: 1s - loss: 0.9846 - acc: 0.533 - ETA: 1s - loss: 0.9726 - acc: 0.536 - ETA: 1s - loss: 0.9769 - acc: 0.535 - ETA: 1s - loss: 0.9731 - acc: 0.538 - ETA: 1s - loss: 0.9748 - acc: 0.538 - ETA: 1s - loss: 0.9744 - acc: 0.542 - ETA: 1s - loss: 0.9807 - acc: 0.536 - ETA: 1s - loss: 0.9799 - acc: 0.536 - ETA: 1s - loss: 0.9767 - acc: 0.539 - ETA: 1s - loss: 0.9813 - acc: 0.534 - ETA: 1s - loss: 0.9816 - acc: 0.535 - ETA: 1s - loss: 0.9804 - acc: 0.536 - ETA: 1s - loss: 0.9831 - acc: 0.532 - ETA: 1s - loss: 0.9821 - acc: 0.533 - ETA: 1s - loss: 0.9837 - acc: 0.531 - ETA: 0s - loss: 0.9833 - acc: 0.533 - ETA: 0s - loss: 0.9840 - acc: 0.532 - ETA: 0s - loss: 0.9849 - acc: 0.530 - ETA: 0s - loss: 0.9872 - acc: 0.526 - ETA: 0s - loss: 0.9849 - acc: 0.528 - ETA: 0s - loss: 0.9834 - acc: 0.529 - ETA: 0s - loss: 0.9849 - acc: 0.528 - ETA: 0s - loss: 0.9848 - acc: 0.527 - ETA: 0s - loss: 0.9855 - acc: 0.526 - ETA: 0s - loss: 0.9860 - acc: 0.526 - ETA: 0s - loss: 0.9848 - acc: 0.527 - ETA: 0s - loss: 0.9828 - acc: 0.529 - ETA: 0s - loss: 0.9810 - acc: 0.530 - ETA: 0s - loss: 0.9815 - acc: 0.530 - ETA: 0s - loss: 0.9825 - acc: 0.530 - ETA: 0s - loss: 0.9831 - acc: 0.530 - ETA: 0s - loss: 0.9830 - acc: 0.530 - ETA: 0s - loss: 0.9851 - acc: 0.528 - ETA: 0s - loss: 0.9860 - acc: 0.528 - ETA: 0s - loss: 0.9848 - acc: 0.529 - 2s 337us/sample - loss: 0.9858 - acc: 0.5285 - val_loss: 0.9701 - val_acc: 0.5343\n",
      "Epoch 9/10\n",
      "7112/7112 [==============================] - ETA: 3s - loss: 0.8982 - acc: 0.600 - ETA: 2s - loss: 1.0109 - acc: 0.505 - ETA: 2s - loss: 0.9866 - acc: 0.522 - ETA: 1s - loss: 0.9961 - acc: 0.509 - ETA: 1s - loss: 0.9897 - acc: 0.521 - ETA: 1s - loss: 0.9918 - acc: 0.519 - ETA: 1s - loss: 0.9806 - acc: 0.528 - ETA: 1s - loss: 0.9810 - acc: 0.524 - ETA: 1s - loss: 0.9865 - acc: 0.516 - ETA: 1s - loss: 0.9818 - acc: 0.525 - ETA: 1s - loss: 0.9834 - acc: 0.526 - ETA: 1s - loss: 0.9824 - acc: 0.525 - ETA: 1s - loss: 0.9851 - acc: 0.520 - ETA: 1s - loss: 0.9783 - acc: 0.529 - ETA: 1s - loss: 0.9773 - acc: 0.528 - ETA: 1s - loss: 0.9767 - acc: 0.526 - ETA: 1s - loss: 0.9762 - acc: 0.527 - ETA: 1s - loss: 0.9793 - acc: 0.525 - ETA: 1s - loss: 0.9772 - acc: 0.526 - ETA: 1s - loss: 0.9778 - acc: 0.528 - ETA: 1s - loss: 0.9775 - acc: 0.527 - ETA: 1s - loss: 0.9808 - acc: 0.524 - ETA: 0s - loss: 0.9801 - acc: 0.527 - ETA: 0s - loss: 0.9823 - acc: 0.526 - ETA: 0s - loss: 0.9824 - acc: 0.526 - ETA: 0s - loss: 0.9810 - acc: 0.527 - ETA: 0s - loss: 0.9785 - acc: 0.530 - ETA: 0s - loss: 0.9791 - acc: 0.529 - ETA: 0s - loss: 0.9800 - acc: 0.528 - ETA: 0s - loss: 0.9821 - acc: 0.528 - ETA: 0s - loss: 0.9815 - acc: 0.527 - ETA: 0s - loss: 0.9828 - acc: 0.526 - ETA: 0s - loss: 0.9824 - acc: 0.528 - ETA: 0s - loss: 0.9819 - acc: 0.529 - ETA: 0s - loss: 0.9828 - acc: 0.528 - ETA: 0s - loss: 0.9819 - acc: 0.529 - ETA: 0s - loss: 0.9827 - acc: 0.528 - ETA: 0s - loss: 0.9833 - acc: 0.528 - ETA: 0s - loss: 0.9839 - acc: 0.528 - ETA: 0s - loss: 0.9841 - acc: 0.528 - ETA: 0s - loss: 0.9837 - acc: 0.528 - ETA: 0s - loss: 0.9826 - acc: 0.529 - ETA: 0s - loss: 0.9844 - acc: 0.528 - 3s 369us/sample - loss: 0.9838 - acc: 0.5290 - val_loss: 0.9745 - val_acc: 0.5364\n",
      "Epoch 10/10\n",
      "7112/7112 [==============================] - ETA: 5s - loss: 0.7501 - acc: 0.800 - ETA: 2s - loss: 0.9665 - acc: 0.544 - ETA: 2s - loss: 0.9779 - acc: 0.544 - ETA: 2s - loss: 0.9702 - acc: 0.548 - ETA: 2s - loss: 0.9771 - acc: 0.544 - ETA: 1s - loss: 0.9683 - acc: 0.553 - ETA: 1s - loss: 0.9652 - acc: 0.557 - ETA: 1s - loss: 0.9563 - acc: 0.564 - ETA: 1s - loss: 0.9723 - acc: 0.547 - ETA: 1s - loss: 0.9681 - acc: 0.549 - ETA: 1s - loss: 0.9728 - acc: 0.542 - ETA: 1s - loss: 0.9747 - acc: 0.540 - ETA: 1s - loss: 0.9743 - acc: 0.541 - ETA: 1s - loss: 0.9782 - acc: 0.534 - ETA: 1s - loss: 0.9802 - acc: 0.532 - ETA: 1s - loss: 0.9828 - acc: 0.531 - ETA: 1s - loss: 0.9806 - acc: 0.534 - ETA: 1s - loss: 0.9821 - acc: 0.532 - ETA: 1s - loss: 0.9788 - acc: 0.533 - ETA: 1s - loss: 0.9800 - acc: 0.532 - ETA: 1s - loss: 0.9810 - acc: 0.530 - ETA: 1s - loss: 0.9831 - acc: 0.527 - ETA: 1s - loss: 0.9842 - acc: 0.525 - ETA: 1s - loss: 0.9846 - acc: 0.524 - ETA: 0s - loss: 0.9873 - acc: 0.522 - ETA: 0s - loss: 0.9871 - acc: 0.523 - ETA: 0s - loss: 0.9856 - acc: 0.526 - ETA: 0s - loss: 0.9879 - acc: 0.523 - ETA: 0s - loss: 0.9875 - acc: 0.523 - ETA: 0s - loss: 0.9862 - acc: 0.525 - ETA: 0s - loss: 0.9878 - acc: 0.524 - ETA: 0s - loss: 0.9889 - acc: 0.523 - ETA: 0s - loss: 0.9866 - acc: 0.526 - ETA: 0s - loss: 0.9874 - acc: 0.525 - ETA: 0s - loss: 0.9873 - acc: 0.524 - ETA: 0s - loss: 0.9870 - acc: 0.525 - ETA: 0s - loss: 0.9858 - acc: 0.526 - ETA: 0s - loss: 0.9853 - acc: 0.527 - ETA: 0s - loss: 0.9846 - acc: 0.528 - ETA: 0s - loss: 0.9841 - acc: 0.527 - ETA: 0s - loss: 0.9853 - acc: 0.526 - ETA: 0s - loss: 0.9846 - acc: 0.527 - ETA: 0s - loss: 0.9841 - acc: 0.527 - 3s 366us/sample - loss: 0.9839 - acc: 0.5266 - val_loss: 0.9735 - val_acc: 0.5300\n"
     ]
    },
    {
     "data": {
      "text/html": [
       "<span style=\"color:#4527A0\"><h1 style=\"font-size:18px\">Trial complete</h1></span>"
      ],
      "text/plain": [
       "<IPython.core.display.HTML object>"
      ]
     },
     "metadata": {},
     "output_type": "display_data"
    },
    {
     "data": {
      "text/html": [
       "<span style=\"color:#4527A0\"><h1 style=\"font-size:18px\">Trial summary</h1></span>"
      ],
      "text/plain": [
       "<IPython.core.display.HTML object>"
      ]
     },
     "metadata": {},
     "output_type": "display_data"
    },
    {
     "data": {
      "text/html": [
       "<span style=\"color:cyan\"> |-Trial ID: 848f626caedc36c3ffe230aec96bdfd5</span>"
      ],
      "text/plain": [
       "<IPython.core.display.HTML object>"
      ]
     },
     "metadata": {},
     "output_type": "display_data"
    },
    {
     "data": {
      "text/html": [
       "<span style=\"color:cyan\"> |-Score: 0.5364493727684021</span>"
      ],
      "text/plain": [
       "<IPython.core.display.HTML object>"
      ]
     },
     "metadata": {},
     "output_type": "display_data"
    },
    {
     "data": {
      "text/html": [
       "<span style=\"color:cyan\"> |-Best step: 0</span>"
      ],
      "text/plain": [
       "<IPython.core.display.HTML object>"
      ]
     },
     "metadata": {},
     "output_type": "display_data"
    },
    {
     "data": {
      "text/html": [
       "<span style=\"color:#7E57C2\"><h2 style=\"font-size:16px\">Hyperparameters:</h2></span>"
      ],
      "text/plain": [
       "<IPython.core.display.HTML object>"
      ]
     },
     "metadata": {},
     "output_type": "display_data"
    },
    {
     "data": {
      "text/html": [
       "<span style=\"color:cyan\"> |-layer_0_neurons: 70</span>"
      ],
      "text/plain": [
       "<IPython.core.display.HTML object>"
      ]
     },
     "metadata": {},
     "output_type": "display_data"
    },
    {
     "data": {
      "text/html": [
       "<span style=\"color:blue\"> |-layer_1_neurons: 30</span>"
      ],
      "text/plain": [
       "<IPython.core.display.HTML object>"
      ]
     },
     "metadata": {},
     "output_type": "display_data"
    },
    {
     "data": {
      "text/html": [
       "<span style=\"color:cyan\"> |-layer_2_neurons: 30</span>"
      ],
      "text/plain": [
       "<IPython.core.display.HTML object>"
      ]
     },
     "metadata": {},
     "output_type": "display_data"
    },
    {
     "data": {
      "text/html": [
       "<span style=\"color:blue\"> |-layer_3_neurons: 110</span>"
      ],
      "text/plain": [
       "<IPython.core.display.HTML object>"
      ]
     },
     "metadata": {},
     "output_type": "display_data"
    },
    {
     "data": {
      "text/html": [
       "<span style=\"color:cyan\"> |-n_input_neurons: 30</span>"
      ],
      "text/plain": [
       "<IPython.core.display.HTML object>"
      ]
     },
     "metadata": {},
     "output_type": "display_data"
    },
    {
     "data": {
      "text/html": [
       "<span style=\"color:blue\"> |-n_layers: 2</span>"
      ],
      "text/plain": [
       "<IPython.core.display.HTML object>"
      ]
     },
     "metadata": {},
     "output_type": "display_data"
    },
    {
     "name": "stdout",
     "output_type": "stream",
     "text": [
      "Train on 7112 samples, validate on 2332 samples\n",
      "Epoch 1/10\n",
      "7112/7112 [==============================] - ETA: 4:26 - loss: 1.3672 - acc: 0.200 - ETA: 22s - loss: 1.1086 - acc: 0.423 - ETA: 13s - loss: 1.0482 - acc: 0.48 - ETA: 10s - loss: 1.0477 - acc: 0.49 - ETA: 8s - loss: 1.0535 - acc: 0.4915 - ETA: 7s - loss: 1.0446 - acc: 0.491 - ETA: 6s - loss: 1.0531 - acc: 0.476 - ETA: 5s - loss: 1.0542 - acc: 0.466 - ETA: 5s - loss: 1.0623 - acc: 0.466 - ETA: 4s - loss: 1.0592 - acc: 0.468 - ETA: 4s - loss: 1.0415 - acc: 0.486 - ETA: 4s - loss: 1.0397 - acc: 0.489 - ETA: 4s - loss: 1.0378 - acc: 0.489 - ETA: 3s - loss: 1.0351 - acc: 0.492 - ETA: 3s - loss: 1.0368 - acc: 0.490 - ETA: 3s - loss: 1.0414 - acc: 0.485 - ETA: 3s - loss: 1.0416 - acc: 0.485 - ETA: 3s - loss: 1.0463 - acc: 0.481 - ETA: 3s - loss: 1.0461 - acc: 0.483 - ETA: 3s - loss: 1.0439 - acc: 0.487 - ETA: 2s - loss: 1.0400 - acc: 0.488 - ETA: 2s - loss: 1.0410 - acc: 0.486 - ETA: 2s - loss: 1.0379 - acc: 0.488 - ETA: 2s - loss: 1.0370 - acc: 0.488 - ETA: 2s - loss: 1.0356 - acc: 0.488 - ETA: 2s - loss: 1.0315 - acc: 0.491 - ETA: 2s - loss: 1.0276 - acc: 0.495 - ETA: 2s - loss: 1.0259 - acc: 0.495 - ETA: 2s - loss: 1.0249 - acc: 0.496 - ETA: 2s - loss: 1.0234 - acc: 0.498 - ETA: 1s - loss: 1.0223 - acc: 0.499 - ETA: 1s - loss: 1.0208 - acc: 0.501 - ETA: 1s - loss: 1.0214 - acc: 0.499 - ETA: 1s - loss: 1.0228 - acc: 0.499 - ETA: 1s - loss: 1.0220 - acc: 0.500 - ETA: 1s - loss: 1.0208 - acc: 0.502 - ETA: 1s - loss: 1.0211 - acc: 0.502 - ETA: 1s - loss: 1.0223 - acc: 0.500 - ETA: 1s - loss: 1.0211 - acc: 0.502 - ETA: 1s - loss: 1.0219 - acc: 0.500 - ETA: 1s - loss: 1.0227 - acc: 0.500 - ETA: 1s - loss: 1.0212 - acc: 0.502 - ETA: 1s - loss: 1.0198 - acc: 0.503 - ETA: 1s - loss: 1.0195 - acc: 0.504 - ETA: 1s - loss: 1.0171 - acc: 0.506 - ETA: 0s - loss: 1.0172 - acc: 0.505 - ETA: 0s - loss: 1.0173 - acc: 0.505 - ETA: 0s - loss: 1.0174 - acc: 0.503 - ETA: 0s - loss: 1.0171 - acc: 0.503 - ETA: 0s - loss: 1.0170 - acc: 0.504 - ETA: 0s - loss: 1.0181 - acc: 0.503 - ETA: 0s - loss: 1.0169 - acc: 0.504 - ETA: 0s - loss: 1.0181 - acc: 0.503 - ETA: 0s - loss: 1.0169 - acc: 0.505 - ETA: 0s - loss: 1.0152 - acc: 0.506 - ETA: 0s - loss: 1.0159 - acc: 0.506 - ETA: 0s - loss: 1.0157 - acc: 0.506 - ETA: 0s - loss: 1.0154 - acc: 0.506 - ETA: 0s - loss: 1.0151 - acc: 0.506 - ETA: 0s - loss: 1.0163 - acc: 0.504 - ETA: 0s - loss: 1.0162 - acc: 0.505 - 4s 633us/sample - loss: 1.0159 - acc: 0.5053 - val_loss: 0.9852 - val_acc: 0.5219\n",
      "Epoch 2/10\n",
      "7112/7112 [==============================] - ETA: 5s - loss: 0.9620 - acc: 0.500 - ETA: 3s - loss: 0.9716 - acc: 0.575 - ETA: 3s - loss: 0.9763 - acc: 0.547 - ETA: 3s - loss: 0.9817 - acc: 0.538 - ETA: 3s - loss: 0.9847 - acc: 0.533 - ETA: 3s - loss: 0.9884 - acc: 0.523 - ETA: 3s - loss: 0.9902 - acc: 0.525 - ETA: 3s - loss: 0.9821 - acc: 0.532 - ETA: 3s - loss: 0.9881 - acc: 0.522 - ETA: 2s - loss: 0.9853 - acc: 0.529 - ETA: 2s - loss: 0.9839 - acc: 0.532 - ETA: 2s - loss: 0.9848 - acc: 0.533 - ETA: 2s - loss: 0.9834 - acc: 0.534 - ETA: 2s - loss: 0.9913 - acc: 0.528 - ETA: 2s - loss: 0.9919 - acc: 0.524 - ETA: 2s - loss: 0.9947 - acc: 0.521 - ETA: 2s - loss: 0.9978 - acc: 0.519 - ETA: 2s - loss: 1.0023 - acc: 0.513 - ETA: 2s - loss: 1.0010 - acc: 0.513 - ETA: 2s - loss: 1.0015 - acc: 0.511 - ETA: 2s - loss: 1.0003 - acc: 0.513 - ETA: 2s - loss: 0.9963 - acc: 0.516 - ETA: 2s - loss: 0.9957 - acc: 0.517 - ETA: 2s - loss: 0.9952 - acc: 0.520 - ETA: 2s - loss: 0.9931 - acc: 0.520 - ETA: 2s - loss: 0.9950 - acc: 0.518 - ETA: 2s - loss: 0.9967 - acc: 0.517 - ETA: 2s - loss: 0.9978 - acc: 0.516 - ETA: 1s - loss: 0.9997 - acc: 0.513 - ETA: 1s - loss: 0.9981 - acc: 0.514 - ETA: 1s - loss: 0.9985 - acc: 0.514 - ETA: 1s - loss: 0.9985 - acc: 0.516 - ETA: 1s - loss: 0.9971 - acc: 0.517 - ETA: 1s - loss: 0.9972 - acc: 0.517 - ETA: 1s - loss: 0.9964 - acc: 0.518 - ETA: 1s - loss: 0.9963 - acc: 0.518 - ETA: 1s - loss: 0.9953 - acc: 0.520 - ETA: 1s - loss: 0.9957 - acc: 0.519 - ETA: 1s - loss: 0.9968 - acc: 0.518 - ETA: 1s - loss: 0.9961 - acc: 0.518 - ETA: 1s - loss: 0.9972 - acc: 0.518 - ETA: 1s - loss: 0.9970 - acc: 0.518 - ETA: 1s - loss: 0.9962 - acc: 0.519 - ETA: 1s - loss: 0.9955 - acc: 0.519 - ETA: 1s - loss: 0.9964 - acc: 0.520 - ETA: 1s - loss: 0.9950 - acc: 0.520 - ETA: 1s - loss: 0.9955 - acc: 0.520 - ETA: 1s - loss: 0.9962 - acc: 0.519 - ETA: 1s - loss: 0.9967 - acc: 0.519 - ETA: 0s - loss: 0.9975 - acc: 0.518 - ETA: 0s - loss: 0.9978 - acc: 0.518 - ETA: 0s - loss: 0.9972 - acc: 0.517 - ETA: 0s - loss: 0.9973 - acc: 0.518 - ETA: 0s - loss: 0.9970 - acc: 0.518 - ETA: 0s - loss: 0.9964 - acc: 0.519 - ETA: 0s - loss: 0.9976 - acc: 0.518 - ETA: 0s - loss: 0.9960 - acc: 0.520 - ETA: 0s - loss: 0.9956 - acc: 0.520 - ETA: 0s - loss: 0.9949 - acc: 0.520 - ETA: 0s - loss: 0.9944 - acc: 0.521 - ETA: 0s - loss: 0.9947 - acc: 0.521 - ETA: 0s - loss: 0.9946 - acc: 0.522 - ETA: 0s - loss: 0.9953 - acc: 0.522 - ETA: 0s - loss: 0.9957 - acc: 0.521 - ETA: 0s - loss: 0.9961 - acc: 0.521 - ETA: 0s - loss: 0.9966 - acc: 0.521 - ETA: 0s - loss: 0.9947 - acc: 0.522 - ETA: 0s - loss: 0.9956 - acc: 0.522 - 4s 574us/sample - loss: 0.9952 - acc: 0.5228 - val_loss: 0.9835 - val_acc: 0.5309\n",
      "Epoch 3/10\n",
      "7112/7112 [==============================] - ETA: 7s - loss: 1.3091 - acc: 0.300 - ETA: 3s - loss: 0.9998 - acc: 0.525 - ETA: 3s - loss: 0.9923 - acc: 0.504 - ETA: 3s - loss: 0.9772 - acc: 0.518 - ETA: 3s - loss: 0.9908 - acc: 0.525 - ETA: 3s - loss: 0.9964 - acc: 0.516 - ETA: 3s - loss: 0.9862 - acc: 0.525 - ETA: 3s - loss: 0.9923 - acc: 0.512 - ETA: 3s - loss: 0.9911 - acc: 0.517 - ETA: 3s - loss: 0.9952 - acc: 0.511 - ETA: 3s - loss: 1.0006 - acc: 0.505 - ETA: 3s - loss: 1.0022 - acc: 0.502 - ETA: 2s - loss: 1.0044 - acc: 0.503 - ETA: 2s - loss: 1.0051 - acc: 0.505 - ETA: 2s - loss: 1.0080 - acc: 0.504 - ETA: 2s - loss: 1.0079 - acc: 0.504 - ETA: 2s - loss: 1.0070 - acc: 0.507 - ETA: 2s - loss: 1.0069 - acc: 0.509 - ETA: 2s - loss: 1.0021 - acc: 0.512 - ETA: 2s - loss: 0.9979 - acc: 0.515 - ETA: 2s - loss: 0.9950 - acc: 0.518 - ETA: 2s - loss: 0.9915 - acc: 0.522 - ETA: 2s - loss: 0.9911 - acc: 0.524 - ETA: 2s - loss: 0.9905 - acc: 0.528 - ETA: 2s - loss: 0.9932 - acc: 0.524 - ETA: 2s - loss: 0.9913 - acc: 0.525 - ETA: 2s - loss: 0.9939 - acc: 0.521 - ETA: 2s - loss: 0.9901 - acc: 0.523 - ETA: 2s - loss: 0.9900 - acc: 0.523 - ETA: 2s - loss: 0.9911 - acc: 0.522 - ETA: 1s - loss: 0.9923 - acc: 0.520 - ETA: 1s - loss: 0.9915 - acc: 0.522 - ETA: 1s - loss: 0.9906 - acc: 0.523 - ETA: 1s - loss: 0.9911 - acc: 0.522 - ETA: 1s - loss: 0.9928 - acc: 0.521 - ETA: 1s - loss: 0.9933 - acc: 0.522 - ETA: 1s - loss: 0.9925 - acc: 0.523 - ETA: 1s - loss: 0.9925 - acc: 0.523 - ETA: 1s - loss: 0.9908 - acc: 0.524 - ETA: 1s - loss: 0.9906 - acc: 0.524 - ETA: 1s - loss: 0.9902 - acc: 0.524 - ETA: 1s - loss: 0.9935 - acc: 0.521 - ETA: 1s - loss: 0.9936 - acc: 0.521 - ETA: 1s - loss: 0.9953 - acc: 0.518 - ETA: 1s - loss: 0.9944 - acc: 0.520 - ETA: 1s - loss: 0.9934 - acc: 0.521 - ETA: 1s - loss: 0.9943 - acc: 0.521 - ETA: 1s - loss: 0.9945 - acc: 0.521 - ETA: 1s - loss: 0.9946 - acc: 0.521 - ETA: 1s - loss: 0.9948 - acc: 0.521 - ETA: 1s - loss: 0.9953 - acc: 0.521 - ETA: 0s - loss: 0.9960 - acc: 0.519 - ETA: 0s - loss: 0.9946 - acc: 0.521 - ETA: 0s - loss: 0.9934 - acc: 0.521 - ETA: 0s - loss: 0.9932 - acc: 0.521 - ETA: 0s - loss: 0.9942 - acc: 0.521 - ETA: 0s - loss: 0.9940 - acc: 0.522 - ETA: 0s - loss: 0.9942 - acc: 0.522 - ETA: 0s - loss: 0.9949 - acc: 0.522 - ETA: 0s - loss: 0.9949 - acc: 0.522 - ETA: 0s - loss: 0.9958 - acc: 0.521 - ETA: 0s - loss: 0.9961 - acc: 0.520 - ETA: 0s - loss: 0.9959 - acc: 0.521 - ETA: 0s - loss: 0.9954 - acc: 0.522 - ETA: 0s - loss: 0.9936 - acc: 0.522 - ETA: 0s - loss: 0.9924 - acc: 0.523 - ETA: 0s - loss: 0.9915 - acc: 0.524 - ETA: 0s - loss: 0.9914 - acc: 0.523 - ETA: 0s - loss: 0.9914 - acc: 0.524 - 4s 580us/sample - loss: 0.9903 - acc: 0.5253 - val_loss: 0.9996 - val_acc: 0.5197\n",
      "Epoch 4/10\n"
     ]
    },
    {
     "name": "stdout",
     "output_type": "stream",
     "text": [
      "7112/7112 [==============================] - ETA: 6s - loss: 0.8010 - acc: 0.600 - ETA: 3s - loss: 0.9024 - acc: 0.575 - ETA: 3s - loss: 0.9405 - acc: 0.527 - ETA: 3s - loss: 0.9504 - acc: 0.534 - ETA: 3s - loss: 0.9336 - acc: 0.550 - ETA: 3s - loss: 0.9700 - acc: 0.525 - ETA: 3s - loss: 0.9816 - acc: 0.507 - ETA: 3s - loss: 0.9857 - acc: 0.501 - ETA: 3s - loss: 0.9831 - acc: 0.501 - ETA: 3s - loss: 0.9844 - acc: 0.507 - ETA: 3s - loss: 0.9795 - acc: 0.509 - ETA: 2s - loss: 0.9819 - acc: 0.512 - ETA: 2s - loss: 0.9781 - acc: 0.512 - ETA: 2s - loss: 0.9813 - acc: 0.513 - ETA: 2s - loss: 0.9799 - acc: 0.516 - ETA: 2s - loss: 0.9723 - acc: 0.521 - ETA: 2s - loss: 0.9721 - acc: 0.521 - ETA: 2s - loss: 0.9733 - acc: 0.521 - ETA: 2s - loss: 0.9793 - acc: 0.516 - ETA: 2s - loss: 0.9776 - acc: 0.516 - ETA: 2s - loss: 0.9763 - acc: 0.516 - ETA: 2s - loss: 0.9728 - acc: 0.515 - ETA: 2s - loss: 0.9760 - acc: 0.515 - ETA: 2s - loss: 0.9768 - acc: 0.512 - ETA: 2s - loss: 0.9802 - acc: 0.509 - ETA: 2s - loss: 0.9809 - acc: 0.510 - ETA: 2s - loss: 0.9839 - acc: 0.508 - ETA: 2s - loss: 0.9825 - acc: 0.511 - ETA: 2s - loss: 0.9802 - acc: 0.515 - ETA: 1s - loss: 0.9801 - acc: 0.516 - ETA: 1s - loss: 0.9814 - acc: 0.516 - ETA: 1s - loss: 0.9819 - acc: 0.516 - ETA: 1s - loss: 0.9835 - acc: 0.515 - ETA: 1s - loss: 0.9843 - acc: 0.515 - ETA: 1s - loss: 0.9838 - acc: 0.516 - ETA: 1s - loss: 0.9810 - acc: 0.519 - ETA: 1s - loss: 0.9817 - acc: 0.519 - ETA: 1s - loss: 0.9854 - acc: 0.517 - ETA: 1s - loss: 0.9859 - acc: 0.518 - ETA: 1s - loss: 0.9871 - acc: 0.518 - ETA: 1s - loss: 0.9878 - acc: 0.518 - ETA: 1s - loss: 0.9879 - acc: 0.518 - ETA: 1s - loss: 0.9871 - acc: 0.518 - ETA: 1s - loss: 0.9863 - acc: 0.519 - ETA: 1s - loss: 0.9862 - acc: 0.518 - ETA: 1s - loss: 0.9865 - acc: 0.517 - ETA: 1s - loss: 0.9878 - acc: 0.516 - ETA: 1s - loss: 0.9875 - acc: 0.517 - ETA: 0s - loss: 0.9866 - acc: 0.517 - ETA: 0s - loss: 0.9863 - acc: 0.518 - ETA: 0s - loss: 0.9875 - acc: 0.518 - ETA: 0s - loss: 0.9871 - acc: 0.519 - ETA: 0s - loss: 0.9884 - acc: 0.518 - ETA: 0s - loss: 0.9876 - acc: 0.519 - ETA: 0s - loss: 0.9883 - acc: 0.518 - ETA: 0s - loss: 0.9882 - acc: 0.519 - ETA: 0s - loss: 0.9891 - acc: 0.519 - ETA: 0s - loss: 0.9903 - acc: 0.518 - ETA: 0s - loss: 0.9909 - acc: 0.517 - ETA: 0s - loss: 0.9910 - acc: 0.517 - ETA: 0s - loss: 0.9903 - acc: 0.518 - ETA: 0s - loss: 0.9904 - acc: 0.519 - ETA: 0s - loss: 0.9902 - acc: 0.520 - ETA: 0s - loss: 0.9900 - acc: 0.520 - ETA: 0s - loss: 0.9898 - acc: 0.520 - ETA: 0s - loss: 0.9897 - acc: 0.521 - ETA: 0s - loss: 0.9892 - acc: 0.521 - 4s 566us/sample - loss: 0.9890 - acc: 0.5211 - val_loss: 0.9822 - val_acc: 0.5279\n",
      "Epoch 5/10\n",
      "7112/7112 [==============================] - ETA: 5s - loss: 0.8804 - acc: 0.600 - ETA: 3s - loss: 0.9613 - acc: 0.566 - ETA: 3s - loss: 0.9865 - acc: 0.527 - ETA: 3s - loss: 0.9894 - acc: 0.512 - ETA: 3s - loss: 0.9862 - acc: 0.519 - ETA: 3s - loss: 0.9873 - acc: 0.513 - ETA: 3s - loss: 0.9958 - acc: 0.508 - ETA: 3s - loss: 0.9959 - acc: 0.511 - ETA: 3s - loss: 0.9971 - acc: 0.508 - ETA: 3s - loss: 0.9899 - acc: 0.519 - ETA: 3s - loss: 0.9906 - acc: 0.526 - ETA: 3s - loss: 0.9935 - acc: 0.523 - ETA: 2s - loss: 0.9821 - acc: 0.536 - ETA: 2s - loss: 0.9881 - acc: 0.534 - ETA: 2s - loss: 0.9894 - acc: 0.529 - ETA: 2s - loss: 0.9847 - acc: 0.534 - ETA: 2s - loss: 0.9847 - acc: 0.533 - ETA: 2s - loss: 0.9832 - acc: 0.535 - ETA: 2s - loss: 0.9807 - acc: 0.534 - ETA: 2s - loss: 0.9771 - acc: 0.540 - ETA: 2s - loss: 0.9793 - acc: 0.537 - ETA: 2s - loss: 0.9796 - acc: 0.536 - ETA: 2s - loss: 0.9800 - acc: 0.537 - ETA: 2s - loss: 0.9807 - acc: 0.538 - ETA: 2s - loss: 0.9821 - acc: 0.537 - ETA: 2s - loss: 0.9829 - acc: 0.537 - ETA: 2s - loss: 0.9810 - acc: 0.539 - ETA: 2s - loss: 0.9801 - acc: 0.538 - ETA: 2s - loss: 0.9809 - acc: 0.538 - ETA: 2s - loss: 0.9819 - acc: 0.537 - ETA: 2s - loss: 0.9846 - acc: 0.533 - ETA: 1s - loss: 0.9865 - acc: 0.530 - ETA: 1s - loss: 0.9853 - acc: 0.532 - ETA: 1s - loss: 0.9860 - acc: 0.531 - ETA: 1s - loss: 0.9864 - acc: 0.531 - ETA: 1s - loss: 0.9862 - acc: 0.530 - ETA: 1s - loss: 0.9863 - acc: 0.530 - ETA: 1s - loss: 0.9864 - acc: 0.530 - ETA: 1s - loss: 0.9877 - acc: 0.528 - ETA: 1s - loss: 0.9867 - acc: 0.528 - ETA: 1s - loss: 0.9835 - acc: 0.531 - ETA: 1s - loss: 0.9833 - acc: 0.530 - ETA: 1s - loss: 0.9834 - acc: 0.531 - ETA: 1s - loss: 0.9831 - acc: 0.530 - ETA: 1s - loss: 0.9832 - acc: 0.529 - ETA: 1s - loss: 0.9823 - acc: 0.530 - ETA: 1s - loss: 0.9819 - acc: 0.530 - ETA: 1s - loss: 0.9784 - acc: 0.533 - ETA: 1s - loss: 0.9813 - acc: 0.531 - ETA: 1s - loss: 0.9811 - acc: 0.530 - ETA: 0s - loss: 0.9808 - acc: 0.530 - ETA: 0s - loss: 0.9815 - acc: 0.529 - ETA: 0s - loss: 0.9817 - acc: 0.529 - ETA: 0s - loss: 0.9831 - acc: 0.528 - ETA: 0s - loss: 0.9819 - acc: 0.529 - ETA: 0s - loss: 0.9829 - acc: 0.529 - ETA: 0s - loss: 0.9834 - acc: 0.528 - ETA: 0s - loss: 0.9837 - acc: 0.528 - ETA: 0s - loss: 0.9846 - acc: 0.526 - ETA: 0s - loss: 0.9858 - acc: 0.526 - ETA: 0s - loss: 0.9857 - acc: 0.526 - ETA: 0s - loss: 0.9859 - acc: 0.526 - ETA: 0s - loss: 0.9869 - acc: 0.525 - ETA: 0s - loss: 0.9873 - acc: 0.525 - ETA: 0s - loss: 0.9861 - acc: 0.527 - ETA: 0s - loss: 0.9870 - acc: 0.526 - ETA: 0s - loss: 0.9872 - acc: 0.526 - ETA: 0s - loss: 0.9873 - acc: 0.526 - ETA: 0s - loss: 0.9884 - acc: 0.525 - 4s 572us/sample - loss: 0.9881 - acc: 0.5262 - val_loss: 0.9762 - val_acc: 0.5300\n",
      "Epoch 6/10\n",
      "7112/7112 [==============================] - ETA: 5s - loss: 1.0295 - acc: 0.400 - ETA: 3s - loss: 0.9549 - acc: 0.566 - ETA: 3s - loss: 0.9792 - acc: 0.539 - ETA: 3s - loss: 0.9820 - acc: 0.527 - ETA: 3s - loss: 0.9795 - acc: 0.525 - ETA: 3s - loss: 0.9747 - acc: 0.532 - ETA: 3s - loss: 0.9640 - acc: 0.535 - ETA: 3s - loss: 0.9750 - acc: 0.521 - ETA: 3s - loss: 0.9653 - acc: 0.525 - ETA: 3s - loss: 0.9629 - acc: 0.529 - ETA: 3s - loss: 0.9661 - acc: 0.526 - ETA: 2s - loss: 0.9688 - acc: 0.531 - ETA: 2s - loss: 0.9674 - acc: 0.532 - ETA: 2s - loss: 0.9706 - acc: 0.529 - ETA: 2s - loss: 0.9742 - acc: 0.524 - ETA: 2s - loss: 0.9717 - acc: 0.528 - ETA: 2s - loss: 0.9699 - acc: 0.527 - ETA: 2s - loss: 0.9731 - acc: 0.527 - ETA: 2s - loss: 0.9745 - acc: 0.525 - ETA: 2s - loss: 0.9742 - acc: 0.525 - ETA: 2s - loss: 0.9743 - acc: 0.527 - ETA: 2s - loss: 0.9742 - acc: 0.526 - ETA: 2s - loss: 0.9778 - acc: 0.523 - ETA: 2s - loss: 0.9778 - acc: 0.522 - ETA: 2s - loss: 0.9778 - acc: 0.522 - ETA: 2s - loss: 0.9770 - acc: 0.524 - ETA: 2s - loss: 0.9774 - acc: 0.524 - ETA: 2s - loss: 0.9777 - acc: 0.525 - ETA: 2s - loss: 0.9757 - acc: 0.526 - ETA: 2s - loss: 0.9770 - acc: 0.524 - ETA: 1s - loss: 0.9781 - acc: 0.526 - ETA: 1s - loss: 0.9796 - acc: 0.525 - ETA: 1s - loss: 0.9812 - acc: 0.524 - ETA: 1s - loss: 0.9808 - acc: 0.525 - ETA: 1s - loss: 0.9817 - acc: 0.524 - ETA: 1s - loss: 0.9802 - acc: 0.525 - ETA: 1s - loss: 0.9793 - acc: 0.527 - ETA: 1s - loss: 0.9798 - acc: 0.526 - ETA: 1s - loss: 0.9819 - acc: 0.524 - ETA: 1s - loss: 0.9834 - acc: 0.523 - ETA: 1s - loss: 0.9818 - acc: 0.526 - ETA: 1s - loss: 0.9821 - acc: 0.526 - ETA: 1s - loss: 0.9815 - acc: 0.527 - ETA: 1s - loss: 0.9795 - acc: 0.530 - ETA: 1s - loss: 0.9806 - acc: 0.530 - ETA: 1s - loss: 0.9811 - acc: 0.529 - ETA: 1s - loss: 0.9799 - acc: 0.529 - ETA: 1s - loss: 0.9805 - acc: 0.528 - ETA: 1s - loss: 0.9807 - acc: 0.528 - ETA: 0s - loss: 0.9807 - acc: 0.528 - ETA: 0s - loss: 0.9798 - acc: 0.529 - ETA: 0s - loss: 0.9795 - acc: 0.529 - ETA: 0s - loss: 0.9820 - acc: 0.527 - ETA: 0s - loss: 0.9814 - acc: 0.527 - ETA: 0s - loss: 0.9815 - acc: 0.527 - ETA: 0s - loss: 0.9803 - acc: 0.528 - ETA: 0s - loss: 0.9804 - acc: 0.528 - ETA: 0s - loss: 0.9814 - acc: 0.527 - ETA: 0s - loss: 0.9815 - acc: 0.526 - ETA: 0s - loss: 0.9826 - acc: 0.525 - ETA: 0s - loss: 0.9831 - acc: 0.525 - ETA: 0s - loss: 0.9838 - acc: 0.525 - ETA: 0s - loss: 0.9841 - acc: 0.525 - ETA: 0s - loss: 0.9842 - acc: 0.525 - ETA: 0s - loss: 0.9833 - acc: 0.526 - ETA: 0s - loss: 0.9842 - acc: 0.526 - ETA: 0s - loss: 0.9844 - acc: 0.526 - ETA: 0s - loss: 0.9852 - acc: 0.525 - ETA: 0s - loss: 0.9860 - acc: 0.524 - ETA: 0s - loss: 0.9862 - acc: 0.524 - 4s 599us/sample - loss: 0.9866 - acc: 0.5256 - val_loss: 0.9794 - val_acc: 0.5339\n"
     ]
    },
    {
     "name": "stdout",
     "output_type": "stream",
     "text": [
      "Epoch 7/10\n",
      "7112/7112 [==============================] - ETA: 6s - loss: 0.8935 - acc: 0.800 - ETA: 3s - loss: 1.0119 - acc: 0.516 - ETA: 3s - loss: 1.0286 - acc: 0.486 - ETA: 3s - loss: 1.0054 - acc: 0.506 - ETA: 3s - loss: 0.9944 - acc: 0.518 - ETA: 3s - loss: 0.9763 - acc: 0.539 - ETA: 3s - loss: 0.9861 - acc: 0.535 - ETA: 3s - loss: 0.9978 - acc: 0.522 - ETA: 3s - loss: 0.9966 - acc: 0.524 - ETA: 3s - loss: 0.9946 - acc: 0.525 - ETA: 3s - loss: 0.9924 - acc: 0.525 - ETA: 2s - loss: 0.9933 - acc: 0.528 - ETA: 2s - loss: 0.9886 - acc: 0.532 - ETA: 2s - loss: 0.9827 - acc: 0.537 - ETA: 2s - loss: 0.9755 - acc: 0.543 - ETA: 2s - loss: 0.9801 - acc: 0.538 - ETA: 2s - loss: 0.9806 - acc: 0.539 - ETA: 2s - loss: 0.9820 - acc: 0.538 - ETA: 2s - loss: 0.9852 - acc: 0.537 - ETA: 2s - loss: 0.9836 - acc: 0.538 - ETA: 2s - loss: 0.9827 - acc: 0.540 - ETA: 2s - loss: 0.9868 - acc: 0.537 - ETA: 2s - loss: 0.9871 - acc: 0.536 - ETA: 2s - loss: 0.9868 - acc: 0.538 - ETA: 2s - loss: 0.9899 - acc: 0.534 - ETA: 2s - loss: 0.9922 - acc: 0.533 - ETA: 2s - loss: 0.9930 - acc: 0.531 - ETA: 2s - loss: 0.9897 - acc: 0.534 - ETA: 2s - loss: 0.9878 - acc: 0.536 - ETA: 2s - loss: 0.9874 - acc: 0.535 - ETA: 1s - loss: 0.9849 - acc: 0.539 - ETA: 1s - loss: 0.9863 - acc: 0.536 - ETA: 1s - loss: 0.9863 - acc: 0.534 - ETA: 1s - loss: 0.9856 - acc: 0.533 - ETA: 1s - loss: 0.9856 - acc: 0.532 - ETA: 1s - loss: 0.9854 - acc: 0.534 - ETA: 1s - loss: 0.9860 - acc: 0.533 - ETA: 1s - loss: 0.9864 - acc: 0.532 - ETA: 1s - loss: 0.9889 - acc: 0.529 - ETA: 1s - loss: 0.9897 - acc: 0.527 - ETA: 1s - loss: 0.9890 - acc: 0.528 - ETA: 1s - loss: 0.9882 - acc: 0.530 - ETA: 1s - loss: 0.9888 - acc: 0.529 - ETA: 1s - loss: 0.9888 - acc: 0.529 - ETA: 1s - loss: 0.9880 - acc: 0.528 - ETA: 1s - loss: 0.9867 - acc: 0.529 - ETA: 1s - loss: 0.9866 - acc: 0.528 - ETA: 1s - loss: 0.9873 - acc: 0.527 - ETA: 1s - loss: 0.9870 - acc: 0.527 - ETA: 0s - loss: 0.9889 - acc: 0.526 - ETA: 0s - loss: 0.9890 - acc: 0.525 - ETA: 0s - loss: 0.9881 - acc: 0.526 - ETA: 0s - loss: 0.9873 - acc: 0.527 - ETA: 0s - loss: 0.9874 - acc: 0.526 - ETA: 0s - loss: 0.9862 - acc: 0.528 - ETA: 0s - loss: 0.9850 - acc: 0.529 - ETA: 0s - loss: 0.9851 - acc: 0.528 - ETA: 0s - loss: 0.9853 - acc: 0.528 - ETA: 0s - loss: 0.9859 - acc: 0.527 - ETA: 0s - loss: 0.9844 - acc: 0.528 - ETA: 0s - loss: 0.9850 - acc: 0.527 - ETA: 0s - loss: 0.9852 - acc: 0.527 - ETA: 0s - loss: 0.9843 - acc: 0.528 - ETA: 0s - loss: 0.9849 - acc: 0.527 - ETA: 0s - loss: 0.9849 - acc: 0.527 - ETA: 0s - loss: 0.9849 - acc: 0.527 - ETA: 0s - loss: 0.9846 - acc: 0.527 - ETA: 0s - loss: 0.9855 - acc: 0.527 - 4s 577us/sample - loss: 0.9856 - acc: 0.5273 - val_loss: 0.9739 - val_acc: 0.5330\n",
      "Epoch 8/10\n",
      "7112/7112 [==============================] - ETA: 6s - loss: 0.8496 - acc: 0.700 - ETA: 3s - loss: 0.9930 - acc: 0.566 - ETA: 3s - loss: 0.9749 - acc: 0.547 - ETA: 57:15:22 - loss: 0.9759 - acc: 0.545 - ETA: 47:02:24 - loss: 0.9764 - acc: 0.548 - ETA: 31:51:40 - loss: 0.9776 - acc: 0.540 - ETA: 29:36:14 - loss: 0.9619 - acc: 0.555 - ETA: 28:15:34 - loss: 0.9584 - acc: 0.557 - ETA: 27:01:28 - loss: 0.9673 - acc: 0.546 - ETA: 22:57:04 - loss: 0.9819 - acc: 0.529 - ETA: 20:13:20 - loss: 0.9825 - acc: 0.525 - ETA: 17:28:58 - loss: 0.9767 - acc: 0.527 - ETA: 15:33:31 - loss: 0.9719 - acc: 0.537 - ETA: 13:48:10 - loss: 0.9698 - acc: 0.544 - ETA: 11:17:32 - loss: 0.9709 - acc: 0.548 - ETA: 9:39:29 - loss: 0.9602 - acc: 0.559 - ETA: 9:17:17 - loss: 0.9607 - acc: 0.55 - ETA: 9:06:42 - loss: 0.9592 - acc: 0.55 - ETA: 8:32:08 - loss: 0.9572 - acc: 0.55 - ETA: 8:09:34 - loss: 0.9639 - acc: 0.55 - ETA: 7:32:45 - loss: 0.9700 - acc: 0.54 - ETA: 6:56:44 - loss: 0.9756 - acc: 0.53 - ETA: 6:27:59 - loss: 0.9788 - acc: 0.53 - ETA: 5:56:46 - loss: 0.9780 - acc: 0.53 - ETA: 5:29:10 - loss: 0.9805 - acc: 0.53 - ETA: 5:08:51 - loss: 0.9796 - acc: 0.53 - ETA: 4:54:17 - loss: 0.9806 - acc: 0.53 - ETA: 4:36:57 - loss: 0.9832 - acc: 0.53 - ETA: 4:17:37 - loss: 0.9813 - acc: 0.53 - ETA: 3:57:05 - loss: 0.9819 - acc: 0.53 - ETA: 3:37:20 - loss: 0.9852 - acc: 0.53 - ETA: 3:22:03 - loss: 0.9838 - acc: 0.53 - ETA: 3:05:54 - loss: 0.9833 - acc: 0.53 - ETA: 2:51:17 - loss: 0.9847 - acc: 0.53 - ETA: 2:35:18 - loss: 0.9850 - acc: 0.53 - ETA: 2:21:48 - loss: 0.9855 - acc: 0.53 - ETA: 2:09:33 - loss: 0.9861 - acc: 0.53 - ETA: 1:57:44 - loss: 0.9870 - acc: 0.53 - ETA: 1:46:59 - loss: 0.9848 - acc: 0.53 - ETA: 1:37:43 - loss: 0.9861 - acc: 0.53 - ETA: 1:28:40 - loss: 0.9860 - acc: 0.53 - ETA: 1:20:20 - loss: 0.9866 - acc: 0.53 - ETA: 1:12:39 - loss: 0.9858 - acc: 0.53 - ETA: 1:05:32 - loss: 0.9858 - acc: 0.53 - ETA: 58:55 - loss: 0.9865 - acc: 0.5319 - ETA: 52:46 - loss: 0.9859 - acc: 0.53 - ETA: 47:01 - loss: 0.9858 - acc: 0.52 - ETA: 41:56 - loss: 0.9853 - acc: 0.52 - ETA: 36:53 - loss: 0.9850 - acc: 0.52 - ETA: 32:08 - loss: 0.9852 - acc: 0.52 - ETA: 27:39 - loss: 0.9855 - acc: 0.52 - ETA: 23:26 - loss: 0.9852 - acc: 0.52 - ETA: 19:27 - loss: 0.9844 - acc: 0.53 - ETA: 15:41 - loss: 0.9844 - acc: 0.53 - ETA: 12:06 - loss: 0.9848 - acc: 0.52 - ETA: 8:43 - loss: 0.9842 - acc: 0.5299 - ETA: 5:30 - loss: 0.9846 - acc: 0.529 - ETA: 2:26 - loss: 0.9849 - acc: 0.529 - 7202s 1s/sample - loss: 0.9852 - acc: 0.5292 - val_loss: 0.9857 - val_acc: 0.5270\n",
      "Epoch 9/10\n",
      "7112/7112 [==============================] - ETA: 4s - loss: 0.8229 - acc: 0.600 - ETA: 2s - loss: 0.9730 - acc: 0.500 - ETA: 2s - loss: 0.9505 - acc: 0.562 - ETA: 2s - loss: 0.9533 - acc: 0.548 - ETA: 1s - loss: 0.9525 - acc: 0.550 - ETA: 1s - loss: 0.9650 - acc: 0.537 - ETA: 1s - loss: 0.9544 - acc: 0.550 - ETA: 1s - loss: 0.9617 - acc: 0.545 - ETA: 1s - loss: 0.9625 - acc: 0.546 - ETA: 1s - loss: 0.9683 - acc: 0.541 - ETA: 1s - loss: 0.9687 - acc: 0.540 - ETA: 1s - loss: 0.9752 - acc: 0.534 - ETA: 1s - loss: 0.9771 - acc: 0.531 - ETA: 1s - loss: 0.9764 - acc: 0.532 - ETA: 1s - loss: 0.9792 - acc: 0.528 - ETA: 1s - loss: 0.9821 - acc: 0.527 - ETA: 1s - loss: 0.9814 - acc: 0.526 - ETA: 1s - loss: 0.9828 - acc: 0.522 - ETA: 1s - loss: 0.9845 - acc: 0.521 - ETA: 1s - loss: 0.9840 - acc: 0.522 - ETA: 1s - loss: 0.9847 - acc: 0.520 - ETA: 1s - loss: 0.9818 - acc: 0.521 - ETA: 1s - loss: 0.9830 - acc: 0.522 - ETA: 1s - loss: 0.9816 - acc: 0.522 - ETA: 1s - loss: 0.9830 - acc: 0.521 - ETA: 1s - loss: 0.9821 - acc: 0.522 - ETA: 1s - loss: 0.9803 - acc: 0.523 - ETA: 1s - loss: 0.9820 - acc: 0.523 - ETA: 0s - loss: 0.9790 - acc: 0.525 - ETA: 0s - loss: 0.9783 - acc: 0.526 - ETA: 0s - loss: 0.9784 - acc: 0.527 - ETA: 0s - loss: 0.9811 - acc: 0.525 - ETA: 0s - loss: 0.9813 - acc: 0.526 - ETA: 0s - loss: 0.9813 - acc: 0.525 - ETA: 0s - loss: 0.9818 - acc: 0.526 - ETA: 0s - loss: 0.9819 - acc: 0.526 - ETA: 0s - loss: 0.9810 - acc: 0.527 - ETA: 0s - loss: 0.9838 - acc: 0.525 - ETA: 0s - loss: 0.9836 - acc: 0.525 - ETA: 0s - loss: 0.9839 - acc: 0.525 - ETA: 0s - loss: 0.9835 - acc: 0.526 - ETA: 0s - loss: 0.9813 - acc: 0.527 - ETA: 0s - loss: 0.9814 - acc: 0.527 - ETA: 0s - loss: 0.9819 - acc: 0.527 - ETA: 0s - loss: 0.9832 - acc: 0.525 - ETA: 0s - loss: 0.9831 - acc: 0.525 - 3s 387us/sample - loss: 0.9834 - acc: 0.5249 - val_loss: 0.9770 - val_acc: 0.5274\n",
      "Epoch 10/10\n"
     ]
    },
    {
     "name": "stdout",
     "output_type": "stream",
     "text": [
      "7112/7112 [==============================] - ETA: 5s - loss: 0.9895 - acc: 0.600 - ETA: 2s - loss: 0.9752 - acc: 0.505 - ETA: 2s - loss: 0.9807 - acc: 0.511 - ETA: 2s - loss: 0.9982 - acc: 0.509 - ETA: 1s - loss: 0.9923 - acc: 0.513 - ETA: 1s - loss: 0.9942 - acc: 0.514 - ETA: 1s - loss: 0.9968 - acc: 0.515 - ETA: 1s - loss: 0.9822 - acc: 0.528 - ETA: 1s - loss: 0.9905 - acc: 0.525 - ETA: 1s - loss: 0.9948 - acc: 0.517 - ETA: 1s - loss: 0.9931 - acc: 0.523 - ETA: 1s - loss: 0.9891 - acc: 0.526 - ETA: 1s - loss: 0.9816 - acc: 0.533 - ETA: 1s - loss: 0.9837 - acc: 0.534 - ETA: 1s - loss: 0.9798 - acc: 0.538 - ETA: 1s - loss: 0.9796 - acc: 0.537 - ETA: 1s - loss: 0.9798 - acc: 0.536 - ETA: 1s - loss: 0.9798 - acc: 0.534 - ETA: 1s - loss: 0.9800 - acc: 0.534 - ETA: 1s - loss: 0.9818 - acc: 0.532 - ETA: 1s - loss: 0.9836 - acc: 0.531 - ETA: 1s - loss: 0.9830 - acc: 0.533 - ETA: 1s - loss: 0.9796 - acc: 0.535 - ETA: 1s - loss: 0.9779 - acc: 0.535 - ETA: 0s - loss: 0.9791 - acc: 0.533 - ETA: 0s - loss: 0.9797 - acc: 0.531 - ETA: 0s - loss: 0.9786 - acc: 0.532 - ETA: 0s - loss: 0.9788 - acc: 0.531 - ETA: 0s - loss: 0.9802 - acc: 0.531 - ETA: 0s - loss: 0.9783 - acc: 0.532 - ETA: 0s - loss: 0.9792 - acc: 0.531 - ETA: 0s - loss: 0.9787 - acc: 0.531 - ETA: 0s - loss: 0.9801 - acc: 0.529 - ETA: 0s - loss: 0.9801 - acc: 0.529 - ETA: 0s - loss: 0.9795 - acc: 0.529 - ETA: 0s - loss: 0.9787 - acc: 0.530 - ETA: 0s - loss: 0.9787 - acc: 0.530 - ETA: 0s - loss: 0.9787 - acc: 0.531 - ETA: 0s - loss: 0.9811 - acc: 0.529 - ETA: 0s - loss: 0.9826 - acc: 0.527 - ETA: 0s - loss: 0.9830 - acc: 0.526 - ETA: 0s - loss: 0.9842 - acc: 0.526 - ETA: 0s - loss: 0.9838 - acc: 0.526 - 3s 354us/sample - loss: 0.9835 - acc: 0.5262 - val_loss: 0.9726 - val_acc: 0.5313\n"
     ]
    },
    {
     "data": {
      "text/html": [
       "<span style=\"color:#4527A0\"><h1 style=\"font-size:18px\">Trial complete</h1></span>"
      ],
      "text/plain": [
       "<IPython.core.display.HTML object>"
      ]
     },
     "metadata": {},
     "output_type": "display_data"
    },
    {
     "data": {
      "text/html": [
       "<span style=\"color:#4527A0\"><h1 style=\"font-size:18px\">Trial summary</h1></span>"
      ],
      "text/plain": [
       "<IPython.core.display.HTML object>"
      ]
     },
     "metadata": {},
     "output_type": "display_data"
    },
    {
     "data": {
      "text/html": [
       "<span style=\"color:cyan\"> |-Trial ID: bc1db4d5405f4f3627ed6d5b309741f3</span>"
      ],
      "text/plain": [
       "<IPython.core.display.HTML object>"
      ]
     },
     "metadata": {},
     "output_type": "display_data"
    },
    {
     "data": {
      "text/html": [
       "<span style=\"color:cyan\"> |-Score: 0.5338764786720276</span>"
      ],
      "text/plain": [
       "<IPython.core.display.HTML object>"
      ]
     },
     "metadata": {},
     "output_type": "display_data"
    },
    {
     "data": {
      "text/html": [
       "<span style=\"color:cyan\"> |-Best step: 0</span>"
      ],
      "text/plain": [
       "<IPython.core.display.HTML object>"
      ]
     },
     "metadata": {},
     "output_type": "display_data"
    },
    {
     "data": {
      "text/html": [
       "<span style=\"color:#7E57C2\"><h2 style=\"font-size:16px\">Hyperparameters:</h2></span>"
      ],
      "text/plain": [
       "<IPython.core.display.HTML object>"
      ]
     },
     "metadata": {},
     "output_type": "display_data"
    },
    {
     "data": {
      "text/html": [
       "<span style=\"color:cyan\"> |-layer_0_neurons: 190</span>"
      ],
      "text/plain": [
       "<IPython.core.display.HTML object>"
      ]
     },
     "metadata": {},
     "output_type": "display_data"
    },
    {
     "data": {
      "text/html": [
       "<span style=\"color:blue\"> |-layer_1_neurons: 190</span>"
      ],
      "text/plain": [
       "<IPython.core.display.HTML object>"
      ]
     },
     "metadata": {},
     "output_type": "display_data"
    },
    {
     "data": {
      "text/html": [
       "<span style=\"color:cyan\"> |-layer_2_neurons: 150</span>"
      ],
      "text/plain": [
       "<IPython.core.display.HTML object>"
      ]
     },
     "metadata": {},
     "output_type": "display_data"
    },
    {
     "data": {
      "text/html": [
       "<span style=\"color:blue\"> |-layer_3_neurons: 30</span>"
      ],
      "text/plain": [
       "<IPython.core.display.HTML object>"
      ]
     },
     "metadata": {},
     "output_type": "display_data"
    },
    {
     "data": {
      "text/html": [
       "<span style=\"color:cyan\"> |-n_input_neurons: 30</span>"
      ],
      "text/plain": [
       "<IPython.core.display.HTML object>"
      ]
     },
     "metadata": {},
     "output_type": "display_data"
    },
    {
     "data": {
      "text/html": [
       "<span style=\"color:blue\"> |-n_layers: 2</span>"
      ],
      "text/plain": [
       "<IPython.core.display.HTML object>"
      ]
     },
     "metadata": {},
     "output_type": "display_data"
    },
    {
     "name": "stdout",
     "output_type": "stream",
     "text": [
      "Train on 7112 samples, validate on 2332 samples\n",
      "Epoch 1/10\n",
      "7112/7112 [==============================] - ETA: 3:06 - loss: 1.2963 - acc: 0.400 - ETA: 7s - loss: 1.1086 - acc: 0.4667  - ETA: 4s - loss: 1.0761 - acc: 0.471 - ETA: 3s - loss: 1.0622 - acc: 0.472 - ETA: 2s - loss: 1.0658 - acc: 0.461 - ETA: 2s - loss: 1.0492 - acc: 0.478 - ETA: 2s - loss: 1.0414 - acc: 0.485 - ETA: 1s - loss: 1.0417 - acc: 0.482 - ETA: 1s - loss: 1.0363 - acc: 0.483 - ETA: 1s - loss: 1.0316 - acc: 0.489 - ETA: 1s - loss: 1.0267 - acc: 0.493 - ETA: 1s - loss: 1.0272 - acc: 0.490 - ETA: 1s - loss: 1.0257 - acc: 0.491 - ETA: 1s - loss: 1.0232 - acc: 0.493 - ETA: 0s - loss: 1.0184 - acc: 0.498 - ETA: 0s - loss: 1.0192 - acc: 0.498 - ETA: 0s - loss: 1.0164 - acc: 0.501 - ETA: 0s - loss: 1.0151 - acc: 0.504 - ETA: 0s - loss: 1.0150 - acc: 0.505 - ETA: 0s - loss: 1.0136 - acc: 0.507 - ETA: 0s - loss: 1.0138 - acc: 0.507 - ETA: 0s - loss: 1.0133 - acc: 0.508 - ETA: 0s - loss: 1.0116 - acc: 0.510 - ETA: 0s - loss: 1.0126 - acc: 0.509 - ETA: 0s - loss: 1.0112 - acc: 0.509 - ETA: 0s - loss: 1.0105 - acc: 0.510 - ETA: 0s - loss: 1.0092 - acc: 0.510 - ETA: 0s - loss: 1.0105 - acc: 0.509 - ETA: 0s - loss: 1.0121 - acc: 0.507 - ETA: 0s - loss: 1.0126 - acc: 0.507 - ETA: 0s - loss: 1.0099 - acc: 0.509 - ETA: 0s - loss: 1.0070 - acc: 0.511 - ETA: 0s - loss: 1.0085 - acc: 0.510 - ETA: 0s - loss: 1.0087 - acc: 0.510 - 3s 355us/sample - loss: 1.0087 - acc: 0.5107 - val_loss: 0.9945 - val_acc: 0.5322\n",
      "Epoch 2/10\n",
      "7112/7112 [==============================] - ETA: 3s - loss: 0.9706 - acc: 0.500 - ETA: 1s - loss: 0.9738 - acc: 0.584 - ETA: 1s - loss: 1.0108 - acc: 0.520 - ETA: 1s - loss: 1.0083 - acc: 0.515 - ETA: 1s - loss: 1.0098 - acc: 0.506 - ETA: 1s - loss: 1.0156 - acc: 0.501 - ETA: 1s - loss: 1.0182 - acc: 0.501 - ETA: 1s - loss: 1.0165 - acc: 0.508 - ETA: 1s - loss: 1.0143 - acc: 0.509 - ETA: 1s - loss: 1.0157 - acc: 0.508 - ETA: 1s - loss: 1.0166 - acc: 0.505 - ETA: 1s - loss: 1.0182 - acc: 0.503 - ETA: 1s - loss: 1.0153 - acc: 0.507 - ETA: 1s - loss: 1.0102 - acc: 0.511 - ETA: 1s - loss: 1.0142 - acc: 0.506 - ETA: 0s - loss: 1.0112 - acc: 0.506 - ETA: 0s - loss: 1.0090 - acc: 0.508 - ETA: 0s - loss: 1.0087 - acc: 0.508 - ETA: 0s - loss: 1.0056 - acc: 0.512 - ETA: 0s - loss: 1.0077 - acc: 0.508 - ETA: 0s - loss: 1.0079 - acc: 0.508 - ETA: 0s - loss: 1.0065 - acc: 0.511 - ETA: 0s - loss: 1.0045 - acc: 0.512 - ETA: 0s - loss: 1.0050 - acc: 0.511 - ETA: 0s - loss: 1.0039 - acc: 0.512 - ETA: 0s - loss: 1.0020 - acc: 0.514 - ETA: 0s - loss: 1.0027 - acc: 0.514 - ETA: 0s - loss: 1.0008 - acc: 0.516 - ETA: 0s - loss: 0.9992 - acc: 0.517 - ETA: 0s - loss: 0.9984 - acc: 0.518 - ETA: 0s - loss: 0.9978 - acc: 0.518 - ETA: 0s - loss: 0.9963 - acc: 0.519 - ETA: 0s - loss: 0.9954 - acc: 0.520 - ETA: 0s - loss: 0.9949 - acc: 0.520 - ETA: 0s - loss: 0.9942 - acc: 0.522 - ETA: 0s - loss: 0.9942 - acc: 0.521 - ETA: 0s - loss: 0.9937 - acc: 0.522 - ETA: 0s - loss: 0.9940 - acc: 0.522 - ETA: 0s - loss: 0.9929 - acc: 0.523 - 2s 337us/sample - loss: 0.9930 - acc: 0.5228 - val_loss: 0.9762 - val_acc: 0.5313\n",
      "Epoch 3/10\n",
      "7112/7112 [==============================] - ETA: 4s - loss: 0.6881 - acc: 0.900 - ETA: 2s - loss: 1.0049 - acc: 0.523 - ETA: 2s - loss: 1.0252 - acc: 0.509 - ETA: 2s - loss: 0.9992 - acc: 0.522 - ETA: 2s - loss: 0.9998 - acc: 0.521 - ETA: 2s - loss: 1.0083 - acc: 0.514 - ETA: 2s - loss: 1.0063 - acc: 0.518 - ETA: 1s - loss: 1.0020 - acc: 0.521 - ETA: 1s - loss: 0.9981 - acc: 0.525 - ETA: 1s - loss: 0.9945 - acc: 0.525 - ETA: 1s - loss: 0.9978 - acc: 0.524 - ETA: 1s - loss: 0.9934 - acc: 0.527 - ETA: 1s - loss: 0.9860 - acc: 0.537 - ETA: 1s - loss: 0.9858 - acc: 0.535 - ETA: 1s - loss: 0.9820 - acc: 0.537 - ETA: 1s - loss: 0.9824 - acc: 0.535 - ETA: 1s - loss: 0.9858 - acc: 0.533 - ETA: 1s - loss: 0.9850 - acc: 0.535 - ETA: 1s - loss: 0.9846 - acc: 0.536 - ETA: 1s - loss: 0.9840 - acc: 0.535 - ETA: 1s - loss: 0.9874 - acc: 0.534 - ETA: 1s - loss: 0.9877 - acc: 0.533 - ETA: 1s - loss: 0.9863 - acc: 0.533 - ETA: 1s - loss: 0.9854 - acc: 0.533 - ETA: 1s - loss: 0.9872 - acc: 0.532 - ETA: 1s - loss: 0.9870 - acc: 0.531 - ETA: 1s - loss: 0.9881 - acc: 0.528 - ETA: 1s - loss: 0.9880 - acc: 0.529 - ETA: 0s - loss: 0.9863 - acc: 0.531 - ETA: 0s - loss: 0.9890 - acc: 0.528 - ETA: 0s - loss: 0.9882 - acc: 0.529 - ETA: 0s - loss: 0.9891 - acc: 0.527 - ETA: 0s - loss: 0.9910 - acc: 0.525 - ETA: 0s - loss: 0.9906 - acc: 0.524 - ETA: 0s - loss: 0.9923 - acc: 0.522 - ETA: 0s - loss: 0.9922 - acc: 0.522 - ETA: 0s - loss: 0.9917 - acc: 0.524 - ETA: 0s - loss: 0.9907 - acc: 0.525 - ETA: 0s - loss: 0.9903 - acc: 0.527 - ETA: 0s - loss: 0.9914 - acc: 0.525 - ETA: 0s - loss: 0.9913 - acc: 0.525 - ETA: 0s - loss: 0.9905 - acc: 0.526 - ETA: 0s - loss: 0.9905 - acc: 0.525 - ETA: 0s - loss: 0.9896 - acc: 0.526 - ETA: 0s - loss: 0.9907 - acc: 0.525 - ETA: 0s - loss: 0.9905 - acc: 0.525 - ETA: 0s - loss: 0.9909 - acc: 0.525 - 3s 397us/sample - loss: 0.9915 - acc: 0.5252 - val_loss: 0.9811 - val_acc: 0.5317\n",
      "Epoch 4/10\n",
      "7112/7112 [==============================] - ETA: 3s - loss: 1.0249 - acc: 0.500 - ETA: 2s - loss: 0.9977 - acc: 0.550 - ETA: 2s - loss: 0.9833 - acc: 0.550 - ETA: 2s - loss: 0.9937 - acc: 0.529 - ETA: 2s - loss: 0.9982 - acc: 0.533 - ETA: 2s - loss: 1.0011 - acc: 0.536 - ETA: 2s - loss: 1.0006 - acc: 0.531 - ETA: 2s - loss: 0.9978 - acc: 0.521 - ETA: 2s - loss: 0.9980 - acc: 0.522 - ETA: 1s - loss: 0.9897 - acc: 0.527 - ETA: 1s - loss: 0.9937 - acc: 0.520 - ETA: 1s - loss: 0.9966 - acc: 0.518 - ETA: 1s - loss: 0.9963 - acc: 0.515 - ETA: 1s - loss: 0.9960 - acc: 0.514 - ETA: 1s - loss: 0.9955 - acc: 0.516 - ETA: 1s - loss: 0.9930 - acc: 0.516 - ETA: 1s - loss: 0.9933 - acc: 0.516 - ETA: 1s - loss: 0.9923 - acc: 0.518 - ETA: 1s - loss: 0.9919 - acc: 0.518 - ETA: 1s - loss: 0.9941 - acc: 0.517 - ETA: 1s - loss: 0.9942 - acc: 0.517 - ETA: 1s - loss: 0.9936 - acc: 0.517 - ETA: 1s - loss: 0.9956 - acc: 0.514 - ETA: 1s - loss: 0.9972 - acc: 0.514 - ETA: 1s - loss: 0.9974 - acc: 0.513 - ETA: 1s - loss: 0.9989 - acc: 0.509 - ETA: 1s - loss: 0.9983 - acc: 0.511 - ETA: 1s - loss: 0.9953 - acc: 0.515 - ETA: 0s - loss: 0.9947 - acc: 0.516 - ETA: 0s - loss: 0.9909 - acc: 0.519 - ETA: 0s - loss: 0.9912 - acc: 0.520 - ETA: 0s - loss: 0.9925 - acc: 0.521 - ETA: 0s - loss: 0.9911 - acc: 0.522 - ETA: 0s - loss: 0.9911 - acc: 0.520 - ETA: 0s - loss: 0.9909 - acc: 0.520 - ETA: 0s - loss: 0.9910 - acc: 0.520 - ETA: 0s - loss: 0.9909 - acc: 0.521 - ETA: 0s - loss: 0.9920 - acc: 0.520 - ETA: 0s - loss: 0.9910 - acc: 0.520 - ETA: 0s - loss: 0.9901 - acc: 0.521 - ETA: 0s - loss: 0.9873 - acc: 0.523 - ETA: 0s - loss: 0.9879 - acc: 0.523 - ETA: 0s - loss: 0.9874 - acc: 0.523 - ETA: 0s - loss: 0.9874 - acc: 0.523 - ETA: 0s - loss: 0.9879 - acc: 0.523 - ETA: 0s - loss: 0.9882 - acc: 0.523 - ETA: 0s - loss: 0.9893 - acc: 0.523 - ETA: 0s - loss: 0.9894 - acc: 0.523 - 3s 403us/sample - loss: 0.9901 - acc: 0.5235 - val_loss: 0.9761 - val_acc: 0.5322\n",
      "Epoch 5/10\n"
     ]
    },
    {
     "name": "stdout",
     "output_type": "stream",
     "text": [
      "7112/7112 [==============================] - ETA: 4s - loss: 1.1641 - acc: 0.300 - ETA: 2s - loss: 1.0322 - acc: 0.493 - ETA: 2s - loss: 1.0170 - acc: 0.503 - ETA: 2s - loss: 1.0217 - acc: 0.502 - ETA: 2s - loss: 1.0124 - acc: 0.512 - ETA: 2s - loss: 0.9958 - acc: 0.525 - ETA: 2s - loss: 0.9914 - acc: 0.530 - ETA: 1s - loss: 0.9945 - acc: 0.528 - ETA: 1s - loss: 0.9901 - acc: 0.531 - ETA: 1s - loss: 0.9937 - acc: 0.526 - ETA: 1s - loss: 0.9924 - acc: 0.527 - ETA: 1s - loss: 0.9977 - acc: 0.523 - ETA: 1s - loss: 0.9965 - acc: 0.526 - ETA: 1s - loss: 0.9932 - acc: 0.526 - ETA: 1s - loss: 0.9941 - acc: 0.522 - ETA: 1s - loss: 0.9964 - acc: 0.523 - ETA: 1s - loss: 0.9992 - acc: 0.521 - ETA: 1s - loss: 0.9989 - acc: 0.520 - ETA: 1s - loss: 0.9995 - acc: 0.518 - ETA: 1s - loss: 1.0013 - acc: 0.516 - ETA: 1s - loss: 1.0011 - acc: 0.518 - ETA: 1s - loss: 0.9990 - acc: 0.520 - ETA: 1s - loss: 0.9982 - acc: 0.520 - ETA: 1s - loss: 0.9958 - acc: 0.522 - ETA: 1s - loss: 0.9962 - acc: 0.520 - ETA: 1s - loss: 0.9953 - acc: 0.521 - ETA: 0s - loss: 0.9923 - acc: 0.524 - ETA: 0s - loss: 0.9952 - acc: 0.521 - ETA: 0s - loss: 0.9943 - acc: 0.522 - ETA: 0s - loss: 0.9926 - acc: 0.523 - ETA: 0s - loss: 0.9920 - acc: 0.524 - ETA: 0s - loss: 0.9915 - acc: 0.524 - ETA: 0s - loss: 0.9907 - acc: 0.524 - ETA: 0s - loss: 0.9902 - acc: 0.524 - ETA: 0s - loss: 0.9920 - acc: 0.522 - ETA: 0s - loss: 0.9927 - acc: 0.522 - ETA: 0s - loss: 0.9919 - acc: 0.523 - ETA: 0s - loss: 0.9921 - acc: 0.523 - ETA: 0s - loss: 0.9920 - acc: 0.523 - ETA: 0s - loss: 0.9918 - acc: 0.524 - ETA: 0s - loss: 0.9903 - acc: 0.525 - ETA: 0s - loss: 0.9884 - acc: 0.526 - ETA: 0s - loss: 0.9888 - acc: 0.525 - ETA: 0s - loss: 0.9901 - acc: 0.524 - ETA: 0s - loss: 0.9891 - acc: 0.525 - ETA: 0s - loss: 0.9886 - acc: 0.525 - ETA: 0s - loss: 0.9874 - acc: 0.526 - 3s 416us/sample - loss: 0.9878 - acc: 0.5260 - val_loss: 0.9722 - val_acc: 0.5347\n",
      "Epoch 6/10\n",
      "7112/7112 [==============================] - ETA: 5s - loss: 0.8639 - acc: 0.600 - ETA: 3s - loss: 0.9522 - acc: 0.584 - ETA: 2s - loss: 0.9417 - acc: 0.576 - ETA: 2s - loss: 0.9728 - acc: 0.550 - ETA: 2s - loss: 0.9889 - acc: 0.530 - ETA: 2s - loss: 0.9894 - acc: 0.524 - ETA: 2s - loss: 0.9877 - acc: 0.534 - ETA: 2s - loss: 0.9760 - acc: 0.546 - ETA: 2s - loss: 0.9822 - acc: 0.541 - ETA: 2s - loss: 0.9736 - acc: 0.543 - ETA: 2s - loss: 0.9717 - acc: 0.547 - ETA: 2s - loss: 0.9702 - acc: 0.546 - ETA: 2s - loss: 0.9676 - acc: 0.548 - ETA: 2s - loss: 0.9690 - acc: 0.551 - ETA: 2s - loss: 0.9705 - acc: 0.550 - ETA: 2s - loss: 0.9718 - acc: 0.549 - ETA: 2s - loss: 0.9714 - acc: 0.549 - ETA: 2s - loss: 0.9724 - acc: 0.546 - ETA: 2s - loss: 0.9758 - acc: 0.543 - ETA: 2s - loss: 0.9781 - acc: 0.539 - ETA: 2s - loss: 0.9779 - acc: 0.541 - ETA: 1s - loss: 0.9777 - acc: 0.544 - ETA: 1s - loss: 0.9816 - acc: 0.539 - ETA: 1s - loss: 0.9800 - acc: 0.541 - ETA: 1s - loss: 0.9822 - acc: 0.539 - ETA: 1s - loss: 0.9841 - acc: 0.538 - ETA: 1s - loss: 0.9827 - acc: 0.540 - ETA: 1s - loss: 0.9832 - acc: 0.539 - ETA: 1s - loss: 0.9836 - acc: 0.540 - ETA: 1s - loss: 0.9817 - acc: 0.541 - ETA: 1s - loss: 0.9806 - acc: 0.540 - ETA: 1s - loss: 0.9815 - acc: 0.540 - ETA: 1s - loss: 0.9819 - acc: 0.540 - ETA: 1s - loss: 0.9814 - acc: 0.540 - ETA: 1s - loss: 0.9836 - acc: 0.537 - ETA: 0s - loss: 0.9824 - acc: 0.537 - ETA: 0s - loss: 0.9799 - acc: 0.540 - ETA: 0s - loss: 0.9802 - acc: 0.539 - ETA: 0s - loss: 0.9817 - acc: 0.538 - ETA: 0s - loss: 0.9814 - acc: 0.537 - ETA: 0s - loss: 0.9811 - acc: 0.537 - ETA: 0s - loss: 0.9831 - acc: 0.535 - ETA: 0s - loss: 0.9842 - acc: 0.533 - ETA: 0s - loss: 0.9835 - acc: 0.534 - ETA: 0s - loss: 0.9838 - acc: 0.533 - ETA: 0s - loss: 0.9842 - acc: 0.534 - ETA: 0s - loss: 0.9856 - acc: 0.534 - ETA: 0s - loss: 0.9857 - acc: 0.533 - ETA: 0s - loss: 0.9864 - acc: 0.532 - ETA: 0s - loss: 0.9872 - acc: 0.530 - ETA: 0s - loss: 0.9868 - acc: 0.530 - ETA: 0s - loss: 0.9867 - acc: 0.530 - 3s 437us/sample - loss: 0.9863 - acc: 0.5299 - val_loss: 0.9747 - val_acc: 0.5334\n",
      "Epoch 7/10\n",
      "7112/7112 [==============================] - ETA: 3s - loss: 1.0816 - acc: 0.300 - ETA: 2s - loss: 0.9382 - acc: 0.547 - ETA: 2s - loss: 0.9624 - acc: 0.528 - ETA: 2s - loss: 0.9682 - acc: 0.534 - ETA: 2s - loss: 0.9795 - acc: 0.536 - ETA: 2s - loss: 0.9879 - acc: 0.528 - ETA: 2s - loss: 0.9913 - acc: 0.517 - ETA: 1s - loss: 0.9937 - acc: 0.515 - ETA: 1s - loss: 0.9970 - acc: 0.510 - ETA: 1s - loss: 0.9951 - acc: 0.513 - ETA: 1s - loss: 0.9994 - acc: 0.510 - ETA: 1s - loss: 1.0000 - acc: 0.506 - ETA: 1s - loss: 0.9957 - acc: 0.510 - ETA: 1s - loss: 0.9959 - acc: 0.509 - ETA: 1s - loss: 0.9930 - acc: 0.511 - ETA: 1s - loss: 0.9901 - acc: 0.514 - ETA: 1s - loss: 0.9881 - acc: 0.515 - ETA: 1s - loss: 0.9868 - acc: 0.517 - ETA: 1s - loss: 0.9868 - acc: 0.517 - ETA: 1s - loss: 0.9837 - acc: 0.520 - ETA: 1s - loss: 0.9843 - acc: 0.523 - ETA: 1s - loss: 0.9843 - acc: 0.524 - ETA: 1s - loss: 0.9839 - acc: 0.524 - ETA: 1s - loss: 0.9835 - acc: 0.523 - ETA: 1s - loss: 0.9835 - acc: 0.523 - ETA: 1s - loss: 0.9855 - acc: 0.522 - ETA: 1s - loss: 0.9856 - acc: 0.521 - ETA: 1s - loss: 0.9857 - acc: 0.520 - ETA: 1s - loss: 0.9854 - acc: 0.520 - ETA: 1s - loss: 0.9841 - acc: 0.523 - ETA: 1s - loss: 0.9839 - acc: 0.523 - ETA: 1s - loss: 0.9806 - acc: 0.527 - ETA: 1s - loss: 0.9810 - acc: 0.528 - ETA: 1s - loss: 0.9825 - acc: 0.527 - ETA: 1s - loss: 0.9814 - acc: 0.528 - ETA: 0s - loss: 0.9815 - acc: 0.528 - ETA: 0s - loss: 0.9801 - acc: 0.529 - ETA: 0s - loss: 0.9809 - acc: 0.529 - ETA: 0s - loss: 0.9807 - acc: 0.528 - ETA: 0s - loss: 0.9805 - acc: 0.528 - ETA: 0s - loss: 0.9807 - acc: 0.528 - ETA: 0s - loss: 0.9807 - acc: 0.528 - ETA: 0s - loss: 0.9810 - acc: 0.528 - ETA: 0s - loss: 0.9802 - acc: 0.529 - ETA: 0s - loss: 0.9806 - acc: 0.529 - ETA: 0s - loss: 0.9801 - acc: 0.529 - ETA: 0s - loss: 0.9806 - acc: 0.529 - ETA: 0s - loss: 0.9832 - acc: 0.526 - ETA: 0s - loss: 0.9837 - acc: 0.525 - ETA: 0s - loss: 0.9844 - acc: 0.524 - ETA: 0s - loss: 0.9845 - acc: 0.524 - ETA: 0s - loss: 0.9848 - acc: 0.523 - ETA: 0s - loss: 0.9867 - acc: 0.522 - ETA: 0s - loss: 0.9865 - acc: 0.521 - ETA: 0s - loss: 0.9862 - acc: 0.522 - ETA: 0s - loss: 0.9868 - acc: 0.522 - ETA: 0s - loss: 0.9869 - acc: 0.522 - ETA: 0s - loss: 0.9868 - acc: 0.522 - ETA: 0s - loss: 0.9872 - acc: 0.522 - ETA: 0s - loss: 0.9860 - acc: 0.523 - 4s 534us/sample - loss: 0.9864 - acc: 0.5228 - val_loss: 0.9922 - val_acc: 0.5189\n",
      "Epoch 8/10\n"
     ]
    },
    {
     "name": "stdout",
     "output_type": "stream",
     "text": [
      "7112/7112 [==============================] - ETA: 4s - loss: 0.9310 - acc: 0.600 - ETA: 2s - loss: 0.9955 - acc: 0.523 - ETA: 2s - loss: 0.9961 - acc: 0.503 - ETA: 3s - loss: 1.0139 - acc: 0.490 - ETA: 3s - loss: 1.0107 - acc: 0.494 - ETA: 3s - loss: 1.0013 - acc: 0.504 - ETA: 3s - loss: 1.0025 - acc: 0.500 - ETA: 3s - loss: 1.0034 - acc: 0.494 - ETA: 3s - loss: 1.0018 - acc: 0.495 - ETA: 3s - loss: 0.9959 - acc: 0.504 - ETA: 3s - loss: 0.9935 - acc: 0.505 - ETA: 3s - loss: 0.9978 - acc: 0.503 - ETA: 3s - loss: 0.9930 - acc: 0.510 - ETA: 3s - loss: 0.9947 - acc: 0.512 - ETA: 3s - loss: 0.9918 - acc: 0.517 - ETA: 2s - loss: 0.9925 - acc: 0.515 - ETA: 2s - loss: 0.9917 - acc: 0.518 - ETA: 2s - loss: 0.9918 - acc: 0.520 - ETA: 2s - loss: 0.9904 - acc: 0.521 - ETA: 2s - loss: 0.9905 - acc: 0.525 - ETA: 2s - loss: 0.9911 - acc: 0.525 - ETA: 2s - loss: 0.9871 - acc: 0.529 - ETA: 2s - loss: 0.9856 - acc: 0.530 - ETA: 2s - loss: 0.9819 - acc: 0.532 - ETA: 2s - loss: 0.9842 - acc: 0.532 - ETA: 2s - loss: 0.9841 - acc: 0.530 - ETA: 2s - loss: 0.9846 - acc: 0.529 - ETA: 2s - loss: 0.9844 - acc: 0.528 - ETA: 1s - loss: 0.9846 - acc: 0.528 - ETA: 1s - loss: 0.9829 - acc: 0.529 - ETA: 1s - loss: 0.9825 - acc: 0.529 - ETA: 1s - loss: 0.9823 - acc: 0.529 - ETA: 1s - loss: 0.9841 - acc: 0.527 - ETA: 1s - loss: 0.9839 - acc: 0.527 - ETA: 1s - loss: 0.9839 - acc: 0.526 - ETA: 1s - loss: 0.9816 - acc: 0.527 - ETA: 1s - loss: 0.9798 - acc: 0.528 - ETA: 1s - loss: 0.9757 - acc: 0.532 - ETA: 1s - loss: 0.9759 - acc: 0.532 - ETA: 1s - loss: 0.9755 - acc: 0.533 - ETA: 1s - loss: 0.9750 - acc: 0.533 - ETA: 1s - loss: 0.9776 - acc: 0.531 - ETA: 1s - loss: 0.9770 - acc: 0.531 - ETA: 1s - loss: 0.9783 - acc: 0.530 - ETA: 1s - loss: 0.9786 - acc: 0.530 - ETA: 1s - loss: 0.9774 - acc: 0.531 - ETA: 1s - loss: 0.9770 - acc: 0.531 - ETA: 1s - loss: 0.9772 - acc: 0.530 - ETA: 1s - loss: 0.9769 - acc: 0.529 - ETA: 1s - loss: 0.9785 - acc: 0.528 - ETA: 1s - loss: 0.9785 - acc: 0.529 - ETA: 1s - loss: 0.9793 - acc: 0.528 - ETA: 1s - loss: 0.9799 - acc: 0.527 - ETA: 1s - loss: 0.9797 - acc: 0.526 - ETA: 1s - loss: 0.9798 - acc: 0.526 - ETA: 1s - loss: 0.9801 - acc: 0.526 - ETA: 1s - loss: 0.9798 - acc: 0.526 - ETA: 1s - loss: 0.9789 - acc: 0.527 - ETA: 1s - loss: 0.9796 - acc: 0.526 - ETA: 1s - loss: 0.9794 - acc: 0.527 - ETA: 1s - loss: 0.9799 - acc: 0.527 - ETA: 0s - loss: 0.9804 - acc: 0.526 - ETA: 0s - loss: 0.9798 - acc: 0.527 - ETA: 0s - loss: 0.9802 - acc: 0.527 - ETA: 0s - loss: 0.9808 - acc: 0.526 - ETA: 0s - loss: 0.9824 - acc: 0.525 - ETA: 0s - loss: 0.9825 - acc: 0.524 - ETA: 0s - loss: 0.9830 - acc: 0.524 - ETA: 0s - loss: 0.9834 - acc: 0.523 - ETA: 0s - loss: 0.9825 - acc: 0.525 - ETA: 0s - loss: 0.9832 - acc: 0.524 - ETA: 0s - loss: 0.9833 - acc: 0.523 - ETA: 0s - loss: 0.9838 - acc: 0.524 - ETA: 0s - loss: 0.9843 - acc: 0.523 - ETA: 0s - loss: 0.9843 - acc: 0.523 - ETA: 0s - loss: 0.9846 - acc: 0.523 - ETA: 0s - loss: 0.9845 - acc: 0.523 - ETA: 0s - loss: 0.9844 - acc: 0.523 - ETA: 0s - loss: 0.9848 - acc: 0.523 - ETA: 0s - loss: 0.9845 - acc: 0.523 - ETA: 0s - loss: 0.9847 - acc: 0.523 - ETA: 0s - loss: 0.9839 - acc: 0.524 - ETA: 0s - loss: 0.9844 - acc: 0.523 - ETA: 0s - loss: 0.9845 - acc: 0.523 - ETA: 0s - loss: 0.9852 - acc: 0.522 - ETA: 0s - loss: 0.9848 - acc: 0.523 - 5s 757us/sample - loss: 0.9846 - acc: 0.5236 - val_loss: 0.9821 - val_acc: 0.5300\n",
      "Epoch 9/10\n",
      "7112/7112 [==============================] - ETA: 7s - loss: 0.9619 - acc: 0.400 - ETA: 3s - loss: 0.9551 - acc: 0.518 - ETA: 4s - loss: 0.9210 - acc: 0.552 - ETA: 5s - loss: 0.9482 - acc: 0.531 - ETA: 4s - loss: 0.9675 - acc: 0.523 - ETA: 4s - loss: 0.9747 - acc: 0.513 - ETA: 8s - loss: 0.9773 - acc: 0.510 - ETA: 9s - loss: 0.9778 - acc: 0.510 - ETA: 9s - loss: 0.9826 - acc: 0.500 - ETA: 8s - loss: 0.9800 - acc: 0.512 - ETA: 8s - loss: 0.9796 - acc: 0.508 - ETA: 7s - loss: 0.9827 - acc: 0.509 - ETA: 7s - loss: 0.9874 - acc: 0.506 - ETA: 6s - loss: 0.9854 - acc: 0.507 - ETA: 6s - loss: 0.9832 - acc: 0.511 - ETA: 6s - loss: 0.9886 - acc: 0.507 - ETA: 6s - loss: 0.9881 - acc: 0.509 - ETA: 6s - loss: 0.9847 - acc: 0.513 - ETA: 6s - loss: 0.9845 - acc: 0.511 - ETA: 6s - loss: 0.9858 - acc: 0.509 - ETA: 6s - loss: 0.9932 - acc: 0.504 - ETA: 6s - loss: 0.9913 - acc: 0.507 - ETA: 6s - loss: 0.9919 - acc: 0.506 - ETA: 6s - loss: 0.9904 - acc: 0.508 - ETA: 6s - loss: 0.9890 - acc: 0.510 - ETA: 5s - loss: 0.9862 - acc: 0.511 - ETA: 5s - loss: 0.9842 - acc: 0.516 - ETA: 5s - loss: 0.9891 - acc: 0.515 - ETA: 5s - loss: 0.9905 - acc: 0.514 - ETA: 5s - loss: 0.9925 - acc: 0.511 - ETA: 5s - loss: 0.9912 - acc: 0.512 - ETA: 5s - loss: 0.9873 - acc: 0.516 - ETA: 5s - loss: 0.9878 - acc: 0.517 - ETA: 4s - loss: 0.9879 - acc: 0.518 - ETA: 4s - loss: 0.9888 - acc: 0.518 - ETA: 4s - loss: 0.9883 - acc: 0.520 - ETA: 4s - loss: 0.9874 - acc: 0.519 - ETA: 4s - loss: 0.9887 - acc: 0.519 - ETA: 4s - loss: 0.9911 - acc: 0.517 - ETA: 4s - loss: 0.9905 - acc: 0.519 - ETA: 4s - loss: 0.9877 - acc: 0.521 - ETA: 4s - loss: 0.9911 - acc: 0.520 - ETA: 4s - loss: 0.9904 - acc: 0.519 - ETA: 3s - loss: 0.9896 - acc: 0.520 - ETA: 3s - loss: 0.9880 - acc: 0.523 - ETA: 3s - loss: 0.9860 - acc: 0.525 - ETA: 3s - loss: 0.9886 - acc: 0.522 - ETA: 3s - loss: 0.9875 - acc: 0.523 - ETA: 3s - loss: 0.9892 - acc: 0.520 - ETA: 3s - loss: 0.9884 - acc: 0.522 - ETA: 3s - loss: 0.9869 - acc: 0.523 - ETA: 3s - loss: 0.9877 - acc: 0.522 - ETA: 3s - loss: 0.9858 - acc: 0.523 - ETA: 3s - loss: 0.9857 - acc: 0.524 - ETA: 3s - loss: 0.9854 - acc: 0.525 - ETA: 3s - loss: 0.9854 - acc: 0.524 - ETA: 2s - loss: 0.9839 - acc: 0.525 - ETA: 2s - loss: 0.9831 - acc: 0.525 - ETA: 2s - loss: 0.9830 - acc: 0.526 - ETA: 2s - loss: 0.9829 - acc: 0.526 - ETA: 2s - loss: 0.9834 - acc: 0.526 - ETA: 2s - loss: 0.9833 - acc: 0.526 - ETA: 2s - loss: 0.9833 - acc: 0.526 - ETA: 2s - loss: 0.9830 - acc: 0.527 - ETA: 2s - loss: 0.9823 - acc: 0.527 - ETA: 2s - loss: 0.9823 - acc: 0.527 - ETA: 2s - loss: 0.9827 - acc: 0.527 - ETA: 2s - loss: 0.9844 - acc: 0.525 - ETA: 2s - loss: 0.9855 - acc: 0.524 - ETA: 2s - loss: 0.9861 - acc: 0.524 - ETA: 2s - loss: 0.9862 - acc: 0.523 - ETA: 2s - loss: 0.9869 - acc: 0.522 - ETA: 1s - loss: 0.9865 - acc: 0.522 - ETA: 1s - loss: 0.9879 - acc: 0.521 - ETA: 1s - loss: 0.9881 - acc: 0.522 - ETA: 1s - loss: 0.9886 - acc: 0.521 - ETA: 1s - loss: 0.9877 - acc: 0.522 - ETA: 1s - loss: 0.9872 - acc: 0.522 - ETA: 1s - loss: 0.9882 - acc: 0.522 - ETA: 1s - loss: 0.9879 - acc: 0.523 - ETA: 1s - loss: 0.9878 - acc: 0.523 - ETA: 1s - loss: 0.9860 - acc: 0.524 - ETA: 1s - loss: 0.9850 - acc: 0.525 - ETA: 1s - loss: 0.9852 - acc: 0.524 - ETA: 1s - loss: 0.9847 - acc: 0.525 - ETA: 0s - loss: 0.9842 - acc: 0.525 - ETA: 0s - loss: 0.9837 - acc: 0.527 - ETA: 0s - loss: 0.9836 - acc: 0.527 - ETA: 0s - loss: 0.9831 - acc: 0.528 - ETA: 0s - loss: 0.9839 - acc: 0.528 - ETA: 0s - loss: 0.9835 - acc: 0.528 - ETA: 0s - loss: 0.9848 - acc: 0.526 - ETA: 0s - loss: 0.9854 - acc: 0.526 - ETA: 0s - loss: 0.9850 - acc: 0.527 - ETA: 0s - loss: 0.9848 - acc: 0.528 - ETA: 0s - loss: 0.9846 - acc: 0.528 - ETA: 0s - loss: 0.9860 - acc: 0.527 - ETA: 0s - loss: 0.9852 - acc: 0.527 - ETA: 0s - loss: 0.9851 - acc: 0.527 - ETA: 0s - loss: 0.9857 - acc: 0.527 - ETA: 0s - loss: 0.9847 - acc: 0.528 - 6s 893us/sample - loss: 0.9850 - acc: 0.5281 - val_loss: 0.9740 - val_acc: 0.5334\n",
      "Epoch 10/10\n"
     ]
    },
    {
     "name": "stdout",
     "output_type": "stream",
     "text": [
      "7112/7112 [==============================] - ETA: 9s - loss: 1.0326 - acc: 0.400 - ETA: 5s - loss: 0.9666 - acc: 0.488 - ETA: 5s - loss: 0.9561 - acc: 0.535 - ETA: 5s - loss: 0.9936 - acc: 0.515 - ETA: 5s - loss: 0.9520 - acc: 0.564 - ETA: 5s - loss: 0.9805 - acc: 0.531 - ETA: 6s - loss: 0.9862 - acc: 0.521 - ETA: 6s - loss: 0.9901 - acc: 0.516 - ETA: 5s - loss: 0.9956 - acc: 0.516 - ETA: 5s - loss: 1.0006 - acc: 0.514 - ETA: 5s - loss: 0.9985 - acc: 0.517 - ETA: 5s - loss: 1.0023 - acc: 0.513 - ETA: 5s - loss: 1.0007 - acc: 0.515 - ETA: 5s - loss: 1.0045 - acc: 0.508 - ETA: 5s - loss: 1.0013 - acc: 0.509 - ETA: 5s - loss: 1.0031 - acc: 0.511 - ETA: 5s - loss: 1.0039 - acc: 0.507 - ETA: 5s - loss: 1.0030 - acc: 0.508 - ETA: 5s - loss: 0.9998 - acc: 0.509 - ETA: 5s - loss: 0.9969 - acc: 0.513 - ETA: 5s - loss: 0.9934 - acc: 0.518 - ETA: 4s - loss: 0.9876 - acc: 0.522 - ETA: 4s - loss: 0.9838 - acc: 0.527 - ETA: 4s - loss: 0.9846 - acc: 0.525 - ETA: 4s - loss: 0.9915 - acc: 0.516 - ETA: 4s - loss: 0.9916 - acc: 0.515 - ETA: 4s - loss: 0.9918 - acc: 0.515 - ETA: 4s - loss: 0.9920 - acc: 0.516 - ETA: 4s - loss: 0.9904 - acc: 0.517 - ETA: 4s - loss: 0.9918 - acc: 0.517 - ETA: 4s - loss: 0.9917 - acc: 0.518 - ETA: 4s - loss: 0.9884 - acc: 0.520 - ETA: 4s - loss: 0.9897 - acc: 0.521 - ETA: 4s - loss: 0.9916 - acc: 0.518 - ETA: 4s - loss: 0.9940 - acc: 0.515 - ETA: 4s - loss: 0.9944 - acc: 0.516 - ETA: 4s - loss: 0.9962 - acc: 0.513 - ETA: 4s - loss: 0.9961 - acc: 0.513 - ETA: 4s - loss: 0.9949 - acc: 0.513 - ETA: 4s - loss: 0.9949 - acc: 0.515 - ETA: 3s - loss: 0.9966 - acc: 0.513 - ETA: 3s - loss: 0.9958 - acc: 0.514 - ETA: 3s - loss: 0.9957 - acc: 0.514 - ETA: 3s - loss: 0.9960 - acc: 0.514 - ETA: 3s - loss: 0.9928 - acc: 0.517 - ETA: 3s - loss: 0.9933 - acc: 0.518 - ETA: 3s - loss: 0.9923 - acc: 0.519 - ETA: 3s - loss: 0.9916 - acc: 0.520 - ETA: 3s - loss: 0.9899 - acc: 0.521 - ETA: 3s - loss: 0.9928 - acc: 0.518 - ETA: 3s - loss: 0.9909 - acc: 0.518 - ETA: 3s - loss: 0.9900 - acc: 0.521 - ETA: 3s - loss: 0.9915 - acc: 0.521 - ETA: 3s - loss: 0.9905 - acc: 0.521 - ETA: 2s - loss: 0.9895 - acc: 0.523 - ETA: 2s - loss: 0.9888 - acc: 0.524 - ETA: 2s - loss: 0.9891 - acc: 0.524 - ETA: 2s - loss: 0.9882 - acc: 0.524 - ETA: 2s - loss: 0.9874 - acc: 0.524 - ETA: 2s - loss: 0.9847 - acc: 0.526 - ETA: 2s - loss: 0.9838 - acc: 0.526 - ETA: 2s - loss: 0.9837 - acc: 0.526 - ETA: 2s - loss: 0.9854 - acc: 0.525 - ETA: 2s - loss: 0.9857 - acc: 0.524 - ETA: 2s - loss: 0.9856 - acc: 0.525 - ETA: 2s - loss: 0.9857 - acc: 0.524 - ETA: 2s - loss: 0.9870 - acc: 0.524 - ETA: 2s - loss: 0.9869 - acc: 0.523 - ETA: 2s - loss: 0.9873 - acc: 0.523 - ETA: 2s - loss: 0.9863 - acc: 0.525 - ETA: 2s - loss: 0.9855 - acc: 0.525 - ETA: 1s - loss: 0.9864 - acc: 0.526 - ETA: 1s - loss: 0.9859 - acc: 0.525 - ETA: 1s - loss: 0.9857 - acc: 0.524 - ETA: 1s - loss: 0.9860 - acc: 0.525 - ETA: 1s - loss: 0.9859 - acc: 0.525 - ETA: 1s - loss: 0.9867 - acc: 0.524 - ETA: 1s - loss: 0.9873 - acc: 0.524 - ETA: 1s - loss: 0.9866 - acc: 0.525 - ETA: 1s - loss: 0.9863 - acc: 0.525 - ETA: 1s - loss: 0.9851 - acc: 0.526 - ETA: 1s - loss: 0.9859 - acc: 0.526 - ETA: 1s - loss: 0.9864 - acc: 0.525 - ETA: 1s - loss: 0.9859 - acc: 0.526 - ETA: 1s - loss: 0.9857 - acc: 0.526 - ETA: 1s - loss: 0.9850 - acc: 0.527 - ETA: 1s - loss: 0.9837 - acc: 0.527 - ETA: 1s - loss: 0.9845 - acc: 0.527 - ETA: 1s - loss: 0.9831 - acc: 0.528 - ETA: 1s - loss: 0.9831 - acc: 0.527 - ETA: 1s - loss: 0.9820 - acc: 0.528 - ETA: 1s - loss: 0.9819 - acc: 0.529 - ETA: 0s - loss: 0.9834 - acc: 0.528 - ETA: 0s - loss: 0.9841 - acc: 0.527 - ETA: 0s - loss: 0.9842 - acc: 0.527 - ETA: 0s - loss: 0.9843 - acc: 0.527 - ETA: 0s - loss: 0.9850 - acc: 0.527 - ETA: 0s - loss: 0.9850 - acc: 0.527 - ETA: 0s - loss: 0.9850 - acc: 0.527 - ETA: 0s - loss: 0.9849 - acc: 0.527 - ETA: 0s - loss: 0.9851 - acc: 0.527 - ETA: 0s - loss: 0.9852 - acc: 0.527 - ETA: 0s - loss: 0.9852 - acc: 0.528 - ETA: 0s - loss: 0.9847 - acc: 0.527 - ETA: 0s - loss: 0.9848 - acc: 0.527 - ETA: 0s - loss: 0.9848 - acc: 0.527 - ETA: 0s - loss: 0.9846 - acc: 0.527 - ETA: 0s - loss: 0.9838 - acc: 0.527 - ETA: 0s - loss: 0.9839 - acc: 0.527 - ETA: 0s - loss: 0.9836 - acc: 0.528 - ETA: 0s - loss: 0.9840 - acc: 0.527 - ETA: 0s - loss: 0.9847 - acc: 0.527 - ETA: 0s - loss: 0.9848 - acc: 0.527 - ETA: 0s - loss: 0.9851 - acc: 0.526 - ETA: 0s - loss: 0.9852 - acc: 0.527 - ETA: 0s - loss: 0.9850 - acc: 0.527 - ETA: 0s - loss: 0.9849 - acc: 0.527 - 7s 1ms/sample - loss: 0.9853 - acc: 0.5274 - val_loss: 0.9694 - val_acc: 0.5317\n"
     ]
    },
    {
     "data": {
      "text/html": [
       "<span style=\"color:#4527A0\"><h1 style=\"font-size:18px\">Trial complete</h1></span>"
      ],
      "text/plain": [
       "<IPython.core.display.HTML object>"
      ]
     },
     "metadata": {},
     "output_type": "display_data"
    },
    {
     "data": {
      "text/html": [
       "<span style=\"color:#4527A0\"><h1 style=\"font-size:18px\">Trial summary</h1></span>"
      ],
      "text/plain": [
       "<IPython.core.display.HTML object>"
      ]
     },
     "metadata": {},
     "output_type": "display_data"
    },
    {
     "data": {
      "text/html": [
       "<span style=\"color:cyan\"> |-Trial ID: c9ec9373ca51fc34e69251903c4fb897</span>"
      ],
      "text/plain": [
       "<IPython.core.display.HTML object>"
      ]
     },
     "metadata": {},
     "output_type": "display_data"
    },
    {
     "data": {
      "text/html": [
       "<span style=\"color:cyan\"> |-Score: 0.5347341299057007</span>"
      ],
      "text/plain": [
       "<IPython.core.display.HTML object>"
      ]
     },
     "metadata": {},
     "output_type": "display_data"
    },
    {
     "data": {
      "text/html": [
       "<span style=\"color:cyan\"> |-Best step: 0</span>"
      ],
      "text/plain": [
       "<IPython.core.display.HTML object>"
      ]
     },
     "metadata": {},
     "output_type": "display_data"
    },
    {
     "data": {
      "text/html": [
       "<span style=\"color:#7E57C2\"><h2 style=\"font-size:16px\">Hyperparameters:</h2></span>"
      ],
      "text/plain": [
       "<IPython.core.display.HTML object>"
      ]
     },
     "metadata": {},
     "output_type": "display_data"
    },
    {
     "data": {
      "text/html": [
       "<span style=\"color:cyan\"> |-layer_0_neurons: 10</span>"
      ],
      "text/plain": [
       "<IPython.core.display.HTML object>"
      ]
     },
     "metadata": {},
     "output_type": "display_data"
    },
    {
     "data": {
      "text/html": [
       "<span style=\"color:blue\"> |-layer_1_neurons: 170</span>"
      ],
      "text/plain": [
       "<IPython.core.display.HTML object>"
      ]
     },
     "metadata": {},
     "output_type": "display_data"
    },
    {
     "data": {
      "text/html": [
       "<span style=\"color:cyan\"> |-layer_2_neurons: 190</span>"
      ],
      "text/plain": [
       "<IPython.core.display.HTML object>"
      ]
     },
     "metadata": {},
     "output_type": "display_data"
    },
    {
     "data": {
      "text/html": [
       "<span style=\"color:blue\"> |-layer_3_neurons: 70</span>"
      ],
      "text/plain": [
       "<IPython.core.display.HTML object>"
      ]
     },
     "metadata": {},
     "output_type": "display_data"
    },
    {
     "data": {
      "text/html": [
       "<span style=\"color:cyan\"> |-n_input_neurons: 30</span>"
      ],
      "text/plain": [
       "<IPython.core.display.HTML object>"
      ]
     },
     "metadata": {},
     "output_type": "display_data"
    },
    {
     "data": {
      "text/html": [
       "<span style=\"color:blue\"> |-n_layers: 2</span>"
      ],
      "text/plain": [
       "<IPython.core.display.HTML object>"
      ]
     },
     "metadata": {},
     "output_type": "display_data"
    },
    {
     "name": "stdout",
     "output_type": "stream",
     "text": [
      "Train on 7112 samples, validate on 2332 samples\n",
      "Epoch 1/10\n",
      "7112/7112 [==============================] - ETA: 9:50 - loss: 2.6234 - acc: 0.300 - ETA: 1:17 - loss: 1.3620 - acc: 0.400 - ETA: 46s - loss: 1.3327 - acc: 0.392 - ETA: 34s - loss: 1.3213 - acc: 0.41 - ETA: 26s - loss: 1.2581 - acc: 0.40 - ETA: 21s - loss: 1.2211 - acc: 0.41 - ETA: 19s - loss: 1.1822 - acc: 0.44 - ETA: 17s - loss: 1.1705 - acc: 0.43 - ETA: 15s - loss: 1.1383 - acc: 0.45 - ETA: 14s - loss: 1.1333 - acc: 0.45 - ETA: 12s - loss: 1.1235 - acc: 0.45 - ETA: 11s - loss: 1.1067 - acc: 0.46 - ETA: 11s - loss: 1.1018 - acc: 0.46 - ETA: 10s - loss: 1.1041 - acc: 0.46 - ETA: 10s - loss: 1.1014 - acc: 0.46 - ETA: 10s - loss: 1.1015 - acc: 0.46 - ETA: 9s - loss: 1.0987 - acc: 0.4679 - ETA: 9s - loss: 1.0904 - acc: 0.471 - ETA: 9s - loss: 1.0857 - acc: 0.477 - ETA: 8s - loss: 1.0915 - acc: 0.474 - ETA: 8s - loss: 1.0883 - acc: 0.476 - ETA: 8s - loss: 1.0823 - acc: 0.481 - ETA: 8s - loss: 1.0726 - acc: 0.487 - ETA: 8s - loss: 1.0688 - acc: 0.493 - ETA: 7s - loss: 1.0679 - acc: 0.492 - ETA: 7s - loss: 1.0643 - acc: 0.493 - ETA: 7s - loss: 1.0591 - acc: 0.496 - ETA: 7s - loss: 1.0548 - acc: 0.497 - ETA: 7s - loss: 1.0530 - acc: 0.499 - ETA: 6s - loss: 1.0518 - acc: 0.500 - ETA: 6s - loss: 1.0521 - acc: 0.498 - ETA: 6s - loss: 1.0510 - acc: 0.499 - ETA: 6s - loss: 1.0516 - acc: 0.498 - ETA: 6s - loss: 1.0515 - acc: 0.497 - ETA: 6s - loss: 1.0489 - acc: 0.498 - ETA: 6s - loss: 1.0479 - acc: 0.497 - ETA: 5s - loss: 1.0501 - acc: 0.495 - ETA: 5s - loss: 1.0478 - acc: 0.497 - ETA: 5s - loss: 1.0501 - acc: 0.493 - ETA: 5s - loss: 1.0512 - acc: 0.490 - ETA: 5s - loss: 1.0511 - acc: 0.489 - ETA: 5s - loss: 1.0509 - acc: 0.490 - ETA: 5s - loss: 1.0489 - acc: 0.491 - ETA: 5s - loss: 1.0477 - acc: 0.490 - ETA: 5s - loss: 1.0477 - acc: 0.490 - ETA: 5s - loss: 1.0460 - acc: 0.492 - ETA: 4s - loss: 1.0441 - acc: 0.492 - ETA: 4s - loss: 1.0434 - acc: 0.493 - ETA: 4s - loss: 1.0426 - acc: 0.494 - ETA: 4s - loss: 1.0403 - acc: 0.495 - ETA: 4s - loss: 1.0409 - acc: 0.495 - ETA: 4s - loss: 1.0392 - acc: 0.496 - ETA: 4s - loss: 1.0405 - acc: 0.497 - ETA: 4s - loss: 1.0401 - acc: 0.497 - ETA: 4s - loss: 1.0414 - acc: 0.496 - ETA: 4s - loss: 1.0419 - acc: 0.495 - ETA: 4s - loss: 1.0403 - acc: 0.496 - ETA: 3s - loss: 1.0401 - acc: 0.496 - ETA: 3s - loss: 1.0397 - acc: 0.497 - ETA: 3s - loss: 1.0401 - acc: 0.496 - ETA: 3s - loss: 1.0404 - acc: 0.495 - ETA: 3s - loss: 1.0406 - acc: 0.494 - ETA: 3s - loss: 1.0378 - acc: 0.497 - ETA: 3s - loss: 1.0385 - acc: 0.496 - ETA: 3s - loss: 1.0384 - acc: 0.496 - ETA: 3s - loss: 1.0376 - acc: 0.497 - ETA: 3s - loss: 1.0375 - acc: 0.497 - ETA: 3s - loss: 1.0382 - acc: 0.496 - ETA: 2s - loss: 1.0361 - acc: 0.498 - ETA: 2s - loss: 1.0344 - acc: 0.499 - ETA: 2s - loss: 1.0340 - acc: 0.499 - ETA: 2s - loss: 1.0328 - acc: 0.500 - ETA: 2s - loss: 1.0320 - acc: 0.500 - ETA: 2s - loss: 1.0326 - acc: 0.499 - ETA: 2s - loss: 1.0320 - acc: 0.499 - ETA: 2s - loss: 1.0299 - acc: 0.500 - ETA: 2s - loss: 1.0284 - acc: 0.502 - ETA: 2s - loss: 1.0277 - acc: 0.503 - ETA: 2s - loss: 1.0283 - acc: 0.503 - ETA: 2s - loss: 1.0287 - acc: 0.502 - ETA: 1s - loss: 1.0284 - acc: 0.502 - ETA: 1s - loss: 1.0288 - acc: 0.503 - ETA: 1s - loss: 1.0289 - acc: 0.502 - ETA: 1s - loss: 1.0283 - acc: 0.504 - ETA: 1s - loss: 1.0275 - acc: 0.504 - ETA: 1s - loss: 1.0263 - acc: 0.504 - ETA: 1s - loss: 1.0267 - acc: 0.503 - ETA: 1s - loss: 1.0272 - acc: 0.503 - ETA: 1s - loss: 1.0264 - acc: 0.503 - ETA: 1s - loss: 1.0260 - acc: 0.503 - ETA: 1s - loss: 1.0249 - acc: 0.504 - ETA: 1s - loss: 1.0254 - acc: 0.504 - ETA: 0s - loss: 1.0255 - acc: 0.504 - ETA: 0s - loss: 1.0257 - acc: 0.503 - ETA: 0s - loss: 1.0252 - acc: 0.503 - ETA: 0s - loss: 1.0249 - acc: 0.504 - ETA: 0s - loss: 1.0249 - acc: 0.504 - ETA: 0s - loss: 1.0248 - acc: 0.504 - ETA: 0s - loss: 1.0246 - acc: 0.504 - ETA: 0s - loss: 1.0252 - acc: 0.503 - ETA: 0s - loss: 1.0251 - acc: 0.503 - ETA: 0s - loss: 1.0243 - acc: 0.503 - ETA: 0s - loss: 1.0235 - acc: 0.504 - ETA: 0s - loss: 1.0227 - acc: 0.505 - ETA: 0s - loss: 1.0222 - acc: 0.505 - ETA: 0s - loss: 1.0211 - acc: 0.506 - 8s 1ms/sample - loss: 1.0221 - acc: 0.5058 - val_loss: 0.9851 - val_acc: 0.5330\n",
      "Epoch 2/10\n",
      "7112/7112 [==============================] - ETA: 5s - loss: 1.1947 - acc: 0.300 - ETA: 4s - loss: 1.1064 - acc: 0.450 - ETA: 4s - loss: 1.0862 - acc: 0.455 - ETA: 4s - loss: 1.0719 - acc: 0.469 - ETA: 4s - loss: 1.0680 - acc: 0.466 - ETA: 4s - loss: 1.0514 - acc: 0.485 - ETA: 4s - loss: 1.0553 - acc: 0.477 - ETA: 4s - loss: 1.0472 - acc: 0.484 - ETA: 4s - loss: 1.0396 - acc: 0.483 - ETA: 4s - loss: 1.0334 - acc: 0.490 - ETA: 4s - loss: 1.0348 - acc: 0.483 - ETA: 4s - loss: 1.0316 - acc: 0.479 - ETA: 4s - loss: 1.0306 - acc: 0.478 - ETA: 4s - loss: 1.0295 - acc: 0.478 - ETA: 4s - loss: 1.0226 - acc: 0.485 - ETA: 4s - loss: 1.0285 - acc: 0.481 - ETA: 4s - loss: 1.0266 - acc: 0.483 - ETA: 3s - loss: 1.0283 - acc: 0.477 - ETA: 3s - loss: 1.0310 - acc: 0.473 - ETA: 3s - loss: 1.0327 - acc: 0.475 - ETA: 3s - loss: 1.0288 - acc: 0.482 - ETA: 3s - loss: 1.0268 - acc: 0.483 - ETA: 3s - loss: 1.0257 - acc: 0.487 - ETA: 3s - loss: 1.0277 - acc: 0.483 - ETA: 3s - loss: 1.0279 - acc: 0.484 - ETA: 3s - loss: 1.0280 - acc: 0.484 - ETA: 3s - loss: 1.0246 - acc: 0.492 - ETA: 3s - loss: 1.0204 - acc: 0.498 - ETA: 3s - loss: 1.0212 - acc: 0.499 - ETA: 3s - loss: 1.0216 - acc: 0.496 - ETA: 3s - loss: 1.0194 - acc: 0.498 - ETA: 3s - loss: 1.0194 - acc: 0.498 - ETA: 3s - loss: 1.0197 - acc: 0.497 - ETA: 3s - loss: 1.0182 - acc: 0.500 - ETA: 3s - loss: 1.0149 - acc: 0.505 - ETA: 3s - loss: 1.0146 - acc: 0.504 - ETA: 3s - loss: 1.0134 - acc: 0.507 - ETA: 3s - loss: 1.0088 - acc: 0.510 - ETA: 3s - loss: 1.0091 - acc: 0.511 - ETA: 3s - loss: 1.0084 - acc: 0.512 - ETA: 2s - loss: 1.0061 - acc: 0.514 - ETA: 2s - loss: 1.0043 - acc: 0.516 - ETA: 2s - loss: 1.0064 - acc: 0.516 - ETA: 2s - loss: 1.0032 - acc: 0.519 - ETA: 2s - loss: 1.0030 - acc: 0.520 - ETA: 2s - loss: 1.0036 - acc: 0.519 - ETA: 2s - loss: 1.0025 - acc: 0.520 - ETA: 2s - loss: 1.0025 - acc: 0.520 - ETA: 2s - loss: 1.0021 - acc: 0.521 - ETA: 2s - loss: 1.0030 - acc: 0.520 - ETA: 2s - loss: 1.0027 - acc: 0.519 - ETA: 2s - loss: 1.0012 - acc: 0.521 - ETA: 2s - loss: 1.0005 - acc: 0.522 - ETA: 2s - loss: 0.9993 - acc: 0.523 - ETA: 2s - loss: 1.0002 - acc: 0.522 - ETA: 2s - loss: 0.9994 - acc: 0.522 - ETA: 2s - loss: 1.0002 - acc: 0.522 - ETA: 2s - loss: 0.9998 - acc: 0.523 - ETA: 2s - loss: 1.0008 - acc: 0.522 - ETA: 2s - loss: 1.0021 - acc: 0.520 - ETA: 2s - loss: 1.0035 - acc: 0.520 - ETA: 2s - loss: 1.0040 - acc: 0.519 - ETA: 2s - loss: 1.0035 - acc: 0.519 - ETA: 1s - loss: 1.0030 - acc: 0.520 - ETA: 1s - loss: 1.0027 - acc: 0.519 - ETA: 1s - loss: 1.0024 - acc: 0.520 - ETA: 1s - loss: 1.0023 - acc: 0.520 - ETA: 1s - loss: 1.0017 - acc: 0.520 - ETA: 1s - loss: 1.0027 - acc: 0.519 - ETA: 1s - loss: 1.0028 - acc: 0.519 - ETA: 1s - loss: 1.0033 - acc: 0.518 - ETA: 1s - loss: 1.0036 - acc: 0.518 - ETA: 1s - loss: 1.0039 - acc: 0.518 - ETA: 1s - loss: 1.0036 - acc: 0.518 - ETA: 1s - loss: 1.0029 - acc: 0.518 - ETA: 1s - loss: 1.0029 - acc: 0.518 - ETA: 1s - loss: 1.0030 - acc: 0.518 - ETA: 1s - loss: 1.0030 - acc: 0.518 - ETA: 1s - loss: 1.0026 - acc: 0.520 - ETA: 1s - loss: 1.0022 - acc: 0.520 - ETA: 1s - loss: 1.0012 - acc: 0.521 - ETA: 1s - loss: 0.9995 - acc: 0.523 - ETA: 1s - loss: 1.0001 - acc: 0.522 - ETA: 1s - loss: 1.0008 - acc: 0.522 - ETA: 1s - loss: 1.0009 - acc: 0.522 - ETA: 1s - loss: 1.0013 - acc: 0.521 - ETA: 0s - loss: 1.0008 - acc: 0.522 - ETA: 0s - loss: 1.0010 - acc: 0.522 - ETA: 0s - loss: 1.0012 - acc: 0.522 - ETA: 0s - loss: 1.0000 - acc: 0.523 - ETA: 0s - loss: 0.9996 - acc: 0.523 - ETA: 0s - loss: 0.9992 - acc: 0.523 - ETA: 0s - loss: 0.9986 - acc: 0.523 - ETA: 0s - loss: 0.9990 - acc: 0.522 - ETA: 0s - loss: 0.9998 - acc: 0.522 - ETA: 0s - loss: 0.9997 - acc: 0.522 - ETA: 0s - loss: 0.9996 - acc: 0.522 - ETA: 0s - loss: 0.9997 - acc: 0.522 - ETA: 0s - loss: 1.0002 - acc: 0.521 - ETA: 0s - loss: 1.0001 - acc: 0.522 - ETA: 0s - loss: 1.0000 - acc: 0.522 - ETA: 0s - loss: 0.9994 - acc: 0.523 - ETA: 0s - loss: 0.9998 - acc: 0.523 - 6s 870us/sample - loss: 0.9995 - acc: 0.5231 - val_loss: 0.9740 - val_acc: 0.5300\n"
     ]
    },
    {
     "name": "stdout",
     "output_type": "stream",
     "text": [
      "Epoch 3/10\n",
      "7112/7112 [==============================] - ETA: 7s - loss: 1.0582 - acc: 0.500 - ETA: 4s - loss: 1.0001 - acc: 0.530 - ETA: 4s - loss: 0.9794 - acc: 0.531 - ETA: 4s - loss: 0.9849 - acc: 0.529 - ETA: 4s - loss: 1.0014 - acc: 0.511 - ETA: 4s - loss: 0.9867 - acc: 0.526 - ETA: 4s - loss: 0.9978 - acc: 0.508 - ETA: 4s - loss: 0.9997 - acc: 0.510 - ETA: 4s - loss: 0.9904 - acc: 0.521 - ETA: 4s - loss: 0.9846 - acc: 0.528 - ETA: 4s - loss: 0.9871 - acc: 0.522 - ETA: 4s - loss: 0.9924 - acc: 0.521 - ETA: 4s - loss: 0.9881 - acc: 0.528 - ETA: 4s - loss: 0.9879 - acc: 0.526 - ETA: 4s - loss: 0.9890 - acc: 0.527 - ETA: 4s - loss: 0.9862 - acc: 0.531 - ETA: 4s - loss: 0.9900 - acc: 0.528 - ETA: 4s - loss: 0.9931 - acc: 0.525 - ETA: 4s - loss: 0.9915 - acc: 0.528 - ETA: 4s - loss: 0.9928 - acc: 0.526 - ETA: 3s - loss: 0.9906 - acc: 0.529 - ETA: 3s - loss: 0.9951 - acc: 0.524 - ETA: 3s - loss: 0.9959 - acc: 0.524 - ETA: 3s - loss: 0.9973 - acc: 0.524 - ETA: 3s - loss: 0.9977 - acc: 0.523 - ETA: 3s - loss: 0.9978 - acc: 0.522 - ETA: 3s - loss: 1.0008 - acc: 0.518 - ETA: 3s - loss: 1.0016 - acc: 0.516 - ETA: 3s - loss: 1.0026 - acc: 0.516 - ETA: 3s - loss: 1.0015 - acc: 0.516 - ETA: 3s - loss: 1.0018 - acc: 0.515 - ETA: 3s - loss: 0.9994 - acc: 0.517 - ETA: 3s - loss: 0.9995 - acc: 0.517 - ETA: 3s - loss: 0.9985 - acc: 0.520 - ETA: 3s - loss: 1.0001 - acc: 0.518 - ETA: 3s - loss: 1.0041 - acc: 0.515 - ETA: 3s - loss: 1.0038 - acc: 0.517 - ETA: 3s - loss: 1.0026 - acc: 0.518 - ETA: 3s - loss: 1.0024 - acc: 0.518 - ETA: 2s - loss: 1.0010 - acc: 0.519 - ETA: 2s - loss: 1.0032 - acc: 0.515 - ETA: 2s - loss: 1.0040 - acc: 0.516 - ETA: 2s - loss: 1.0030 - acc: 0.517 - ETA: 2s - loss: 1.0031 - acc: 0.516 - ETA: 2s - loss: 1.0049 - acc: 0.516 - ETA: 2s - loss: 1.0055 - acc: 0.514 - ETA: 2s - loss: 1.0059 - acc: 0.513 - ETA: 2s - loss: 1.0042 - acc: 0.515 - ETA: 2s - loss: 1.0041 - acc: 0.515 - ETA: 2s - loss: 1.0042 - acc: 0.514 - ETA: 2s - loss: 1.0030 - acc: 0.514 - ETA: 2s - loss: 1.0027 - acc: 0.514 - ETA: 2s - loss: 1.0012 - acc: 0.515 - ETA: 1:34:27 - loss: 1.0015 - acc: 0.51 - ETA: 1:33:55 - loss: 1.0021 - acc: 0.51 - ETA: 1:26:40 - loss: 1.0039 - acc: 0.51 - ETA: 1:19:53 - loss: 1.0033 - acc: 0.51 - ETA: 1:18:57 - loss: 1.0034 - acc: 0.51 - ETA: 1:16:40 - loss: 1.0024 - acc: 0.51 - ETA: 1:13:32 - loss: 1.0015 - acc: 0.51 - ETA: 1:10:57 - loss: 1.0005 - acc: 0.51 - ETA: 1:07:10 - loss: 1.0016 - acc: 0.51 - ETA: 1:03:33 - loss: 1.0019 - acc: 0.51 - ETA: 1:00:04 - loss: 1.0010 - acc: 0.51 - ETA: 58:11 - loss: 1.0003 - acc: 0.5192 - ETA: 55:37 - loss: 0.9988 - acc: 0.52 - ETA: 50:21 - loss: 0.9987 - acc: 0.52 - ETA: 50:01 - loss: 0.9988 - acc: 0.52 - ETA: 49:41 - loss: 0.9990 - acc: 0.52 - ETA: 47:21 - loss: 0.9992 - acc: 0.52 - ETA: 46:03 - loss: 0.9987 - acc: 0.52 - ETA: 43:49 - loss: 0.9978 - acc: 0.52 - ETA: 41:39 - loss: 0.9976 - acc: 0.52 - ETA: 39:32 - loss: 0.9970 - acc: 0.52 - ETA: 37:28 - loss: 0.9962 - acc: 0.52 - ETA: 34:20 - loss: 0.9973 - acc: 0.52 - ETA: 31:03 - loss: 0.9969 - acc: 0.52 - ETA: 27:55 - loss: 0.9951 - acc: 0.52 - ETA: 25:24 - loss: 0.9950 - acc: 0.52 - ETA: 22:57 - loss: 0.9952 - acc: 0.52 - ETA: 20:08 - loss: 0.9947 - acc: 0.52 - ETA: 17:26 - loss: 0.9942 - acc: 0.52 - ETA: 14:49 - loss: 0.9937 - acc: 0.52 - ETA: 12:19 - loss: 0.9947 - acc: 0.52 - ETA: 9:18 - loss: 0.9947 - acc: 0.5252 - ETA: 6:37 - loss: 0.9935 - acc: 0.526 - ETA: 4:13 - loss: 0.9936 - acc: 0.527 - ETA: 2:26 - loss: 0.9940 - acc: 0.527 - ETA: 32s - loss: 0.9952 - acc: 0.525 - 7205s 1s/sample - loss: 0.9955 - acc: 0.5250 - val_loss: 0.9876 - val_acc: 0.5356\n",
      "Epoch 4/10\n",
      "7112/7112 [==============================] - ETA: 7s - loss: 0.9430 - acc: 0.600 - ETA: 3s - loss: 0.9842 - acc: 0.557 - ETA: 2s - loss: 1.0070 - acc: 0.528 - ETA: 2s - loss: 1.0193 - acc: 0.512 - ETA: 2s - loss: 1.0219 - acc: 0.501 - ETA: 2s - loss: 1.0162 - acc: 0.498 - ETA: 2s - loss: 1.0098 - acc: 0.502 - ETA: 2s - loss: 1.0022 - acc: 0.504 - ETA: 2s - loss: 0.9973 - acc: 0.507 - ETA: 2s - loss: 1.0036 - acc: 0.508 - ETA: 2s - loss: 1.0042 - acc: 0.507 - ETA: 2s - loss: 1.0051 - acc: 0.510 - ETA: 2s - loss: 1.0029 - acc: 0.511 - ETA: 2s - loss: 0.9992 - acc: 0.515 - ETA: 1s - loss: 0.9995 - acc: 0.514 - ETA: 1s - loss: 0.9992 - acc: 0.516 - ETA: 1s - loss: 0.9962 - acc: 0.521 - ETA: 1s - loss: 0.9896 - acc: 0.527 - ETA: 1s - loss: 0.9939 - acc: 0.524 - ETA: 1s - loss: 0.9982 - acc: 0.520 - ETA: 1s - loss: 0.9986 - acc: 0.522 - ETA: 1s - loss: 0.9997 - acc: 0.519 - ETA: 1s - loss: 0.9999 - acc: 0.517 - ETA: 1s - loss: 0.9959 - acc: 0.519 - ETA: 1s - loss: 0.9970 - acc: 0.516 - ETA: 1s - loss: 0.9949 - acc: 0.519 - ETA: 1s - loss: 0.9956 - acc: 0.519 - ETA: 1s - loss: 0.9947 - acc: 0.519 - ETA: 1s - loss: 0.9948 - acc: 0.520 - ETA: 1s - loss: 0.9942 - acc: 0.520 - ETA: 1s - loss: 0.9964 - acc: 0.519 - ETA: 0s - loss: 0.9960 - acc: 0.519 - ETA: 0s - loss: 0.9954 - acc: 0.521 - ETA: 0s - loss: 0.9946 - acc: 0.522 - ETA: 0s - loss: 0.9958 - acc: 0.520 - ETA: 0s - loss: 0.9961 - acc: 0.519 - ETA: 0s - loss: 0.9968 - acc: 0.518 - ETA: 0s - loss: 0.9949 - acc: 0.520 - ETA: 0s - loss: 0.9942 - acc: 0.520 - ETA: 0s - loss: 0.9949 - acc: 0.520 - ETA: 0s - loss: 0.9936 - acc: 0.521 - ETA: 0s - loss: 0.9935 - acc: 0.522 - ETA: 0s - loss: 0.9933 - acc: 0.523 - ETA: 0s - loss: 0.9950 - acc: 0.521 - ETA: 0s - loss: 0.9927 - acc: 0.524 - ETA: 0s - loss: 0.9919 - acc: 0.524 - ETA: 0s - loss: 0.9929 - acc: 0.522 - ETA: 0s - loss: 0.9929 - acc: 0.524 - ETA: 0s - loss: 0.9939 - acc: 0.523 - 3s 403us/sample - loss: 0.9936 - acc: 0.5238 - val_loss: 0.9728 - val_acc: 0.5317\n",
      "Epoch 5/10\n",
      "7112/7112 [==============================] - ETA: 4s - loss: 0.9485 - acc: 0.600 - ETA: 2s - loss: 0.9844 - acc: 0.541 - ETA: 2s - loss: 1.0185 - acc: 0.521 - ETA: 2s - loss: 1.0025 - acc: 0.529 - ETA: 2s - loss: 0.9865 - acc: 0.542 - ETA: 2s - loss: 0.9870 - acc: 0.537 - ETA: 2s - loss: 0.9819 - acc: 0.540 - ETA: 2s - loss: 0.9649 - acc: 0.549 - ETA: 1s - loss: 0.9674 - acc: 0.548 - ETA: 1s - loss: 0.9683 - acc: 0.549 - ETA: 1s - loss: 0.9773 - acc: 0.543 - ETA: 1s - loss: 0.9749 - acc: 0.544 - ETA: 1s - loss: 0.9742 - acc: 0.543 - ETA: 1s - loss: 0.9770 - acc: 0.539 - ETA: 1s - loss: 0.9815 - acc: 0.539 - ETA: 1s - loss: 0.9822 - acc: 0.537 - ETA: 1s - loss: 0.9861 - acc: 0.532 - ETA: 1s - loss: 0.9883 - acc: 0.531 - ETA: 1s - loss: 0.9879 - acc: 0.531 - ETA: 1s - loss: 0.9883 - acc: 0.528 - ETA: 1s - loss: 0.9904 - acc: 0.524 - ETA: 1s - loss: 0.9901 - acc: 0.526 - ETA: 1s - loss: 0.9928 - acc: 0.524 - ETA: 1s - loss: 0.9918 - acc: 0.525 - ETA: 1s - loss: 0.9912 - acc: 0.525 - ETA: 1s - loss: 0.9905 - acc: 0.525 - ETA: 1s - loss: 0.9898 - acc: 0.525 - ETA: 1s - loss: 0.9903 - acc: 0.524 - ETA: 0s - loss: 0.9907 - acc: 0.525 - ETA: 0s - loss: 0.9910 - acc: 0.524 - ETA: 0s - loss: 0.9913 - acc: 0.524 - ETA: 0s - loss: 0.9894 - acc: 0.526 - ETA: 0s - loss: 0.9909 - acc: 0.525 - ETA: 0s - loss: 0.9904 - acc: 0.525 - ETA: 0s - loss: 0.9903 - acc: 0.525 - ETA: 0s - loss: 0.9886 - acc: 0.526 - ETA: 0s - loss: 0.9889 - acc: 0.527 - ETA: 0s - loss: 0.9883 - acc: 0.527 - ETA: 0s - loss: 0.9884 - acc: 0.526 - ETA: 0s - loss: 0.9878 - acc: 0.526 - ETA: 0s - loss: 0.9866 - acc: 0.527 - ETA: 0s - loss: 0.9866 - acc: 0.527 - ETA: 0s - loss: 0.9888 - acc: 0.526 - ETA: 0s - loss: 0.9883 - acc: 0.527 - ETA: 0s - loss: 0.9886 - acc: 0.527 - ETA: 0s - loss: 0.9895 - acc: 0.527 - ETA: 0s - loss: 0.9907 - acc: 0.526 - ETA: 0s - loss: 0.9903 - acc: 0.526 - 3s 393us/sample - loss: 0.9904 - acc: 0.5267 - val_loss: 0.9760 - val_acc: 0.5330\n",
      "Epoch 6/10\n"
     ]
    },
    {
     "name": "stdout",
     "output_type": "stream",
     "text": [
      "7112/7112 [==============================] - ETA: 5s - loss: 1.0876 - acc: 0.400 - ETA: 2s - loss: 0.9811 - acc: 0.535 - ETA: 2s - loss: 0.9536 - acc: 0.537 - ETA: 2s - loss: 0.9668 - acc: 0.540 - ETA: 2s - loss: 0.9635 - acc: 0.543 - ETA: 2s - loss: 0.9685 - acc: 0.536 - ETA: 2s - loss: 0.9714 - acc: 0.537 - ETA: 2s - loss: 0.9650 - acc: 0.547 - ETA: 1s - loss: 0.9582 - acc: 0.554 - ETA: 1s - loss: 0.9644 - acc: 0.552 - ETA: 1s - loss: 0.9696 - acc: 0.549 - ETA: 1s - loss: 0.9718 - acc: 0.547 - ETA: 1s - loss: 0.9697 - acc: 0.547 - ETA: 1s - loss: 0.9677 - acc: 0.547 - ETA: 1s - loss: 0.9701 - acc: 0.546 - ETA: 1s - loss: 0.9702 - acc: 0.545 - ETA: 1s - loss: 0.9696 - acc: 0.547 - ETA: 1s - loss: 0.9691 - acc: 0.549 - ETA: 1s - loss: 0.9708 - acc: 0.546 - ETA: 1s - loss: 0.9748 - acc: 0.544 - ETA: 1s - loss: 0.9731 - acc: 0.547 - ETA: 1s - loss: 0.9735 - acc: 0.546 - ETA: 1s - loss: 0.9761 - acc: 0.542 - ETA: 1s - loss: 0.9772 - acc: 0.539 - ETA: 1s - loss: 0.9791 - acc: 0.537 - ETA: 1s - loss: 0.9803 - acc: 0.535 - ETA: 1s - loss: 0.9827 - acc: 0.534 - ETA: 0s - loss: 0.9817 - acc: 0.534 - ETA: 0s - loss: 0.9817 - acc: 0.534 - ETA: 0s - loss: 0.9819 - acc: 0.534 - ETA: 0s - loss: 0.9825 - acc: 0.534 - ETA: 0s - loss: 0.9847 - acc: 0.533 - ETA: 0s - loss: 0.9857 - acc: 0.532 - ETA: 0s - loss: 0.9854 - acc: 0.532 - ETA: 0s - loss: 0.9849 - acc: 0.533 - ETA: 0s - loss: 0.9830 - acc: 0.534 - ETA: 0s - loss: 0.9843 - acc: 0.534 - ETA: 0s - loss: 0.9847 - acc: 0.534 - ETA: 0s - loss: 0.9855 - acc: 0.532 - ETA: 0s - loss: 0.9868 - acc: 0.531 - ETA: 0s - loss: 0.9874 - acc: 0.529 - ETA: 0s - loss: 0.9864 - acc: 0.530 - ETA: 0s - loss: 0.9879 - acc: 0.528 - ETA: 0s - loss: 0.9870 - acc: 0.529 - ETA: 0s - loss: 0.9877 - acc: 0.528 - ETA: 0s - loss: 0.9880 - acc: 0.528 - ETA: 0s - loss: 0.9885 - acc: 0.528 - 3s 386us/sample - loss: 0.9886 - acc: 0.5287 - val_loss: 0.9790 - val_acc: 0.5339\n",
      "Epoch 7/10\n",
      "7112/7112 [==============================] - ETA: 5s - loss: 1.2367 - acc: 0.200 - ETA: 2s - loss: 0.9708 - acc: 0.529 - ETA: 2s - loss: 0.9813 - acc: 0.518 - ETA: 2s - loss: 0.9738 - acc: 0.539 - ETA: 2s - loss: 0.9690 - acc: 0.542 - ETA: 2s - loss: 0.9741 - acc: 0.541 - ETA: 2s - loss: 0.9735 - acc: 0.538 - ETA: 2s - loss: 0.9731 - acc: 0.539 - ETA: 1s - loss: 0.9723 - acc: 0.539 - ETA: 1s - loss: 0.9707 - acc: 0.543 - ETA: 1s - loss: 0.9836 - acc: 0.532 - ETA: 1s - loss: 0.9853 - acc: 0.535 - ETA: 1s - loss: 0.9866 - acc: 0.535 - ETA: 1s - loss: 0.9879 - acc: 0.531 - ETA: 1s - loss: 0.9878 - acc: 0.531 - ETA: 1s - loss: 0.9877 - acc: 0.532 - ETA: 1s - loss: 0.9936 - acc: 0.526 - ETA: 1s - loss: 0.9963 - acc: 0.522 - ETA: 1s - loss: 0.9962 - acc: 0.522 - ETA: 1s - loss: 0.9930 - acc: 0.525 - ETA: 1s - loss: 0.9913 - acc: 0.526 - ETA: 1s - loss: 0.9891 - acc: 0.527 - ETA: 1s - loss: 0.9890 - acc: 0.528 - ETA: 1s - loss: 0.9897 - acc: 0.527 - ETA: 1s - loss: 0.9895 - acc: 0.527 - ETA: 1s - loss: 0.9890 - acc: 0.528 - ETA: 1s - loss: 0.9879 - acc: 0.529 - ETA: 1s - loss: 0.9899 - acc: 0.526 - ETA: 1s - loss: 0.9908 - acc: 0.525 - ETA: 0s - loss: 0.9902 - acc: 0.526 - ETA: 0s - loss: 0.9909 - acc: 0.524 - ETA: 0s - loss: 0.9896 - acc: 0.525 - ETA: 0s - loss: 0.9885 - acc: 0.528 - ETA: 0s - loss: 0.9889 - acc: 0.527 - ETA: 0s - loss: 0.9902 - acc: 0.527 - ETA: 0s - loss: 0.9881 - acc: 0.528 - ETA: 0s - loss: 0.9890 - acc: 0.528 - ETA: 0s - loss: 0.9884 - acc: 0.529 - ETA: 0s - loss: 0.9881 - acc: 0.529 - ETA: 0s - loss: 0.9891 - acc: 0.528 - ETA: 0s - loss: 0.9887 - acc: 0.527 - ETA: 0s - loss: 0.9898 - acc: 0.527 - ETA: 0s - loss: 0.9902 - acc: 0.527 - ETA: 0s - loss: 0.9903 - acc: 0.527 - ETA: 0s - loss: 0.9894 - acc: 0.528 - ETA: 0s - loss: 0.9894 - acc: 0.528 - ETA: 0s - loss: 0.9897 - acc: 0.528 - ETA: 0s - loss: 0.9897 - acc: 0.528 - ETA: 0s - loss: 0.9896 - acc: 0.528 - ETA: 0s - loss: 0.9898 - acc: 0.527 - ETA: 0s - loss: 0.9898 - acc: 0.527 - ETA: 0s - loss: 0.9887 - acc: 0.528 - ETA: 0s - loss: 0.9889 - acc: 0.528 - ETA: 0s - loss: 0.9879 - acc: 0.529 - ETA: 0s - loss: 0.9885 - acc: 0.528 - ETA: 0s - loss: 0.9873 - acc: 0.529 - ETA: 0s - loss: 0.9859 - acc: 0.530 - ETA: 0s - loss: 0.9866 - acc: 0.529 - ETA: 0s - loss: 0.9871 - acc: 0.529 - ETA: 0s - loss: 0.9881 - acc: 0.528 - ETA: 0s - loss: 0.9874 - acc: 0.529 - ETA: 0s - loss: 0.9870 - acc: 0.529 - ETA: 0s - loss: 0.9871 - acc: 0.529 - ETA: 0s - loss: 0.9878 - acc: 0.528 - 4s 579us/sample - loss: 0.9881 - acc: 0.5285 - val_loss: 0.9911 - val_acc: 0.5236\n",
      "Epoch 8/10\n"
     ]
    },
    {
     "name": "stdout",
     "output_type": "stream",
     "text": [
      "7112/7112 [==============================] - ETA: 10s - loss: 0.9228 - acc: 0.50 - ETA: 6s - loss: 0.9926 - acc: 0.5125 - ETA: 5s - loss: 1.0342 - acc: 0.480 - ETA: 5s - loss: 1.0181 - acc: 0.504 - ETA: 5s - loss: 1.0270 - acc: 0.500 - ETA: 5s - loss: 1.0116 - acc: 0.505 - ETA: 5s - loss: 1.0098 - acc: 0.518 - ETA: 5s - loss: 1.0200 - acc: 0.504 - ETA: 5s - loss: 1.0200 - acc: 0.508 - ETA: 5s - loss: 1.0275 - acc: 0.498 - ETA: 5s - loss: 1.0223 - acc: 0.501 - ETA: 5s - loss: 1.0183 - acc: 0.501 - ETA: 4s - loss: 1.0217 - acc: 0.497 - ETA: 4s - loss: 1.0196 - acc: 0.496 - ETA: 4s - loss: 1.0200 - acc: 0.496 - ETA: 4s - loss: 1.0191 - acc: 0.498 - ETA: 4s - loss: 1.0185 - acc: 0.497 - ETA: 4s - loss: 1.0161 - acc: 0.499 - ETA: 4s - loss: 1.0094 - acc: 0.505 - ETA: 4s - loss: 1.0020 - acc: 0.510 - ETA: 4s - loss: 1.0043 - acc: 0.510 - ETA: 4s - loss: 1.0064 - acc: 0.507 - ETA: 4s - loss: 1.0077 - acc: 0.505 - ETA: 4s - loss: 1.0060 - acc: 0.506 - ETA: 4s - loss: 1.0061 - acc: 0.506 - ETA: 4s - loss: 1.0069 - acc: 0.505 - ETA: 4s - loss: 1.0053 - acc: 0.508 - ETA: 4s - loss: 1.0019 - acc: 0.511 - ETA: 4s - loss: 0.9988 - acc: 0.514 - ETA: 4s - loss: 1.0000 - acc: 0.512 - ETA: 4s - loss: 0.9977 - acc: 0.514 - ETA: 4s - loss: 0.9972 - acc: 0.514 - ETA: 3s - loss: 0.9977 - acc: 0.514 - ETA: 3s - loss: 0.9985 - acc: 0.515 - ETA: 3s - loss: 0.9960 - acc: 0.517 - ETA: 3s - loss: 0.9968 - acc: 0.516 - ETA: 3s - loss: 0.9969 - acc: 0.516 - ETA: 3s - loss: 0.9978 - acc: 0.516 - ETA: 3s - loss: 0.9977 - acc: 0.516 - ETA: 3s - loss: 0.9967 - acc: 0.518 - ETA: 3s - loss: 0.9959 - acc: 0.518 - ETA: 3s - loss: 0.9983 - acc: 0.515 - ETA: 3s - loss: 0.9975 - acc: 0.516 - ETA: 3s - loss: 0.9948 - acc: 0.520 - ETA: 3s - loss: 0.9940 - acc: 0.521 - ETA: 3s - loss: 0.9944 - acc: 0.521 - ETA: 3s - loss: 0.9945 - acc: 0.520 - ETA: 3s - loss: 0.9933 - acc: 0.523 - ETA: 3s - loss: 0.9946 - acc: 0.522 - ETA: 2s - loss: 0.9961 - acc: 0.521 - ETA: 2s - loss: 0.9960 - acc: 0.521 - ETA: 2s - loss: 0.9956 - acc: 0.521 - ETA: 2s - loss: 0.9951 - acc: 0.521 - ETA: 2s - loss: 0.9922 - acc: 0.524 - ETA: 2s - loss: 0.9923 - acc: 0.524 - ETA: 2s - loss: 0.9931 - acc: 0.523 - ETA: 2s - loss: 0.9924 - acc: 0.523 - ETA: 2s - loss: 0.9917 - acc: 0.523 - ETA: 2s - loss: 0.9920 - acc: 0.523 - ETA: 2s - loss: 0.9927 - acc: 0.522 - ETA: 2s - loss: 0.9931 - acc: 0.522 - ETA: 2s - loss: 0.9920 - acc: 0.523 - ETA: 2s - loss: 0.9922 - acc: 0.523 - ETA: 2s - loss: 0.9919 - acc: 0.523 - ETA: 2s - loss: 0.9916 - acc: 0.524 - ETA: 2s - loss: 0.9914 - acc: 0.525 - ETA: 1s - loss: 0.9917 - acc: 0.523 - ETA: 1s - loss: 0.9912 - acc: 0.523 - ETA: 1s - loss: 0.9907 - acc: 0.524 - ETA: 1s - loss: 0.9905 - acc: 0.524 - ETA: 1s - loss: 0.9904 - acc: 0.525 - ETA: 1s - loss: 0.9890 - acc: 0.526 - ETA: 1s - loss: 0.9881 - acc: 0.526 - ETA: 1s - loss: 0.9886 - acc: 0.526 - ETA: 1s - loss: 0.9898 - acc: 0.524 - ETA: 1s - loss: 0.9884 - acc: 0.526 - ETA: 1s - loss: 0.9890 - acc: 0.525 - ETA: 1s - loss: 0.9893 - acc: 0.525 - ETA: 1s - loss: 0.9894 - acc: 0.524 - ETA: 1s - loss: 0.9891 - acc: 0.525 - ETA: 1s - loss: 0.9890 - acc: 0.524 - ETA: 1s - loss: 0.9889 - acc: 0.525 - ETA: 0s - loss: 0.9900 - acc: 0.524 - ETA: 0s - loss: 0.9896 - acc: 0.524 - ETA: 0s - loss: 0.9893 - acc: 0.524 - ETA: 0s - loss: 0.9888 - acc: 0.524 - ETA: 0s - loss: 0.9890 - acc: 0.525 - ETA: 0s - loss: 0.9898 - acc: 0.524 - ETA: 0s - loss: 0.9905 - acc: 0.523 - ETA: 0s - loss: 0.9903 - acc: 0.524 - ETA: 0s - loss: 0.9896 - acc: 0.525 - ETA: 0s - loss: 0.9887 - acc: 0.526 - ETA: 0s - loss: 0.9873 - acc: 0.527 - ETA: 0s - loss: 0.9872 - acc: 0.527 - ETA: 0s - loss: 0.9862 - acc: 0.528 - ETA: 0s - loss: 0.9867 - acc: 0.528 - ETA: 0s - loss: 0.9868 - acc: 0.529 - ETA: 0s - loss: 0.9873 - acc: 0.528 - ETA: 0s - loss: 0.9867 - acc: 0.528 - 6s 833us/sample - loss: 0.9868 - acc: 0.5281 - val_loss: 0.9801 - val_acc: 0.5223\n",
      "Epoch 9/10\n",
      "7112/7112 [==============================] - ETA: 8s - loss: 0.9246 - acc: 0.600 - ETA: 4s - loss: 0.9658 - acc: 0.544 - ETA: 4s - loss: 0.9663 - acc: 0.541 - ETA: 4s - loss: 0.9657 - acc: 0.548 - ETA: 4s - loss: 0.9610 - acc: 0.544 - ETA: 4s - loss: 0.9725 - acc: 0.538 - ETA: 4s - loss: 0.9752 - acc: 0.525 - ETA: 4s - loss: 0.9694 - acc: 0.527 - ETA: 4s - loss: 0.9594 - acc: 0.536 - ETA: 4s - loss: 0.9632 - acc: 0.537 - ETA: 4s - loss: 0.9582 - acc: 0.541 - ETA: 3s - loss: 0.9666 - acc: 0.539 - ETA: 3s - loss: 0.9774 - acc: 0.531 - ETA: 3s - loss: 0.9785 - acc: 0.528 - ETA: 3s - loss: 0.9815 - acc: 0.526 - ETA: 3s - loss: 0.9818 - acc: 0.525 - ETA: 3s - loss: 0.9869 - acc: 0.516 - ETA: 3s - loss: 0.9843 - acc: 0.521 - ETA: 3s - loss: 0.9842 - acc: 0.520 - ETA: 3s - loss: 0.9841 - acc: 0.523 - ETA: 3s - loss: 0.9822 - acc: 0.525 - ETA: 3s - loss: 0.9854 - acc: 0.524 - ETA: 3s - loss: 0.9865 - acc: 0.525 - ETA: 3s - loss: 0.9874 - acc: 0.524 - ETA: 3s - loss: 0.9881 - acc: 0.523 - ETA: 3s - loss: 0.9896 - acc: 0.520 - ETA: 2s - loss: 0.9905 - acc: 0.520 - ETA: 2s - loss: 0.9911 - acc: 0.521 - ETA: 2s - loss: 0.9920 - acc: 0.521 - ETA: 2s - loss: 0.9926 - acc: 0.522 - ETA: 2s - loss: 0.9896 - acc: 0.523 - ETA: 2s - loss: 0.9875 - acc: 0.525 - ETA: 2s - loss: 0.9842 - acc: 0.528 - ETA: 2s - loss: 0.9849 - acc: 0.528 - ETA: 2s - loss: 0.9819 - acc: 0.531 - ETA: 2s - loss: 0.9854 - acc: 0.526 - ETA: 2s - loss: 0.9867 - acc: 0.525 - ETA: 2s - loss: 0.9869 - acc: 0.525 - ETA: 2s - loss: 0.9872 - acc: 0.524 - ETA: 2s - loss: 0.9862 - acc: 0.525 - ETA: 2s - loss: 0.9867 - acc: 0.525 - ETA: 2s - loss: 0.9871 - acc: 0.524 - ETA: 2s - loss: 0.9871 - acc: 0.525 - ETA: 2s - loss: 0.9879 - acc: 0.524 - ETA: 1s - loss: 0.9885 - acc: 0.524 - ETA: 1s - loss: 0.9880 - acc: 0.524 - ETA: 1s - loss: 0.9876 - acc: 0.525 - ETA: 1s - loss: 0.9889 - acc: 0.526 - ETA: 1s - loss: 0.9886 - acc: 0.526 - ETA: 1s - loss: 0.9881 - acc: 0.526 - ETA: 1s - loss: 0.9886 - acc: 0.525 - ETA: 1s - loss: 0.9874 - acc: 0.526 - ETA: 1s - loss: 0.9874 - acc: 0.527 - ETA: 1s - loss: 0.9868 - acc: 0.526 - ETA: 1s - loss: 0.9849 - acc: 0.528 - ETA: 1s - loss: 0.9843 - acc: 0.528 - ETA: 1s - loss: 0.9853 - acc: 0.528 - ETA: 1s - loss: 0.9854 - acc: 0.527 - ETA: 1s - loss: 0.9866 - acc: 0.526 - ETA: 1s - loss: 0.9871 - acc: 0.525 - ETA: 1s - loss: 0.9882 - acc: 0.524 - ETA: 1s - loss: 0.9885 - acc: 0.524 - ETA: 0s - loss: 0.9887 - acc: 0.524 - ETA: 0s - loss: 0.9894 - acc: 0.524 - ETA: 0s - loss: 0.9885 - acc: 0.526 - ETA: 0s - loss: 0.9875 - acc: 0.527 - ETA: 0s - loss: 0.9867 - acc: 0.528 - ETA: 0s - loss: 0.9867 - acc: 0.527 - ETA: 0s - loss: 0.9874 - acc: 0.526 - ETA: 0s - loss: 0.9870 - acc: 0.527 - ETA: 0s - loss: 0.9873 - acc: 0.527 - ETA: 0s - loss: 0.9872 - acc: 0.527 - ETA: 0s - loss: 0.9870 - acc: 0.527 - ETA: 0s - loss: 0.9879 - acc: 0.526 - ETA: 0s - loss: 0.9883 - acc: 0.525 - ETA: 0s - loss: 0.9876 - acc: 0.525 - ETA: 0s - loss: 0.9861 - acc: 0.526 - ETA: 0s - loss: 0.9847 - acc: 0.527 - ETA: 0s - loss: 0.9838 - acc: 0.528 - ETA: 0s - loss: 0.9852 - acc: 0.526 - 5s 673us/sample - loss: 0.9852 - acc: 0.5266 - val_loss: 0.9725 - val_acc: 0.5339\n",
      "Epoch 10/10\n"
     ]
    },
    {
     "name": "stdout",
     "output_type": "stream",
     "text": [
      "7112/7112 [==============================] - ETA: 7s - loss: 1.0669 - acc: 0.500 - ETA: 4s - loss: 0.9896 - acc: 0.570 - ETA: 4s - loss: 1.0098 - acc: 0.515 - ETA: 4s - loss: 0.9946 - acc: 0.546 - ETA: 4s - loss: 0.9924 - acc: 0.543 - ETA: 3s - loss: 0.9895 - acc: 0.541 - ETA: 3s - loss: 0.9757 - acc: 0.556 - ETA: 3s - loss: 0.9806 - acc: 0.551 - ETA: 3s - loss: 0.9808 - acc: 0.553 - ETA: 3s - loss: 0.9807 - acc: 0.554 - ETA: 3s - loss: 0.9773 - acc: 0.556 - ETA: 3s - loss: 0.9841 - acc: 0.547 - ETA: 3s - loss: 0.9867 - acc: 0.545 - ETA: 3s - loss: 0.9898 - acc: 0.537 - ETA: 3s - loss: 0.9909 - acc: 0.531 - ETA: 3s - loss: 0.9946 - acc: 0.528 - ETA: 3s - loss: 0.9911 - acc: 0.529 - ETA: 3s - loss: 0.9944 - acc: 0.524 - ETA: 3s - loss: 0.9960 - acc: 0.522 - ETA: 3s - loss: 0.9948 - acc: 0.522 - ETA: 3s - loss: 0.9949 - acc: 0.522 - ETA: 3s - loss: 0.9929 - acc: 0.526 - ETA: 3s - loss: 0.9934 - acc: 0.527 - ETA: 3s - loss: 0.9962 - acc: 0.524 - ETA: 3s - loss: 0.9948 - acc: 0.526 - ETA: 3s - loss: 0.9903 - acc: 0.530 - ETA: 2s - loss: 0.9892 - acc: 0.531 - ETA: 2s - loss: 0.9891 - acc: 0.529 - ETA: 2s - loss: 0.9892 - acc: 0.528 - ETA: 2s - loss: 0.9870 - acc: 0.530 - ETA: 2s - loss: 0.9891 - acc: 0.529 - ETA: 2s - loss: 0.9875 - acc: 0.530 - ETA: 2s - loss: 0.9854 - acc: 0.530 - ETA: 2s - loss: 0.9868 - acc: 0.532 - ETA: 2s - loss: 0.9851 - acc: 0.533 - ETA: 2s - loss: 0.9879 - acc: 0.530 - ETA: 2s - loss: 0.9885 - acc: 0.528 - ETA: 2s - loss: 0.9890 - acc: 0.528 - ETA: 2s - loss: 0.9881 - acc: 0.529 - ETA: 2s - loss: 0.9881 - acc: 0.528 - ETA: 2s - loss: 0.9886 - acc: 0.529 - ETA: 2s - loss: 0.9880 - acc: 0.530 - ETA: 1s - loss: 0.9885 - acc: 0.530 - ETA: 1s - loss: 0.9886 - acc: 0.530 - ETA: 1s - loss: 0.9878 - acc: 0.531 - ETA: 1s - loss: 0.9890 - acc: 0.530 - ETA: 1s - loss: 0.9899 - acc: 0.529 - ETA: 1s - loss: 0.9890 - acc: 0.529 - ETA: 1s - loss: 0.9901 - acc: 0.528 - ETA: 1s - loss: 0.9887 - acc: 0.529 - ETA: 1s - loss: 0.9875 - acc: 0.529 - ETA: 1s - loss: 0.9876 - acc: 0.529 - ETA: 1s - loss: 0.9881 - acc: 0.529 - ETA: 1s - loss: 0.9877 - acc: 0.529 - ETA: 1s - loss: 0.9885 - acc: 0.527 - ETA: 1s - loss: 0.9882 - acc: 0.527 - ETA: 1s - loss: 0.9862 - acc: 0.529 - ETA: 1s - loss: 0.9860 - acc: 0.529 - ETA: 1s - loss: 0.9853 - acc: 0.530 - ETA: 0s - loss: 0.9854 - acc: 0.529 - ETA: 0s - loss: 0.9861 - acc: 0.528 - ETA: 0s - loss: 0.9865 - acc: 0.527 - ETA: 0s - loss: 0.9852 - acc: 0.528 - ETA: 0s - loss: 0.9851 - acc: 0.528 - ETA: 0s - loss: 0.9857 - acc: 0.527 - ETA: 0s - loss: 0.9859 - acc: 0.527 - ETA: 0s - loss: 0.9860 - acc: 0.527 - ETA: 0s - loss: 0.9854 - acc: 0.527 - ETA: 0s - loss: 0.9856 - acc: 0.528 - ETA: 0s - loss: 0.9863 - acc: 0.527 - ETA: 0s - loss: 0.9867 - acc: 0.526 - ETA: 0s - loss: 0.9864 - acc: 0.526 - ETA: 0s - loss: 0.9870 - acc: 0.525 - ETA: 0s - loss: 0.9869 - acc: 0.526 - ETA: 0s - loss: 0.9862 - acc: 0.527 - ETA: 0s - loss: 0.9873 - acc: 0.526 - 5s 644us/sample - loss: 0.9867 - acc: 0.5276 - val_loss: 0.9725 - val_acc: 0.5330\n"
     ]
    },
    {
     "data": {
      "text/html": [
       "<span style=\"color:#4527A0\"><h1 style=\"font-size:18px\">Trial complete</h1></span>"
      ],
      "text/plain": [
       "<IPython.core.display.HTML object>"
      ]
     },
     "metadata": {},
     "output_type": "display_data"
    },
    {
     "data": {
      "text/html": [
       "<span style=\"color:#4527A0\"><h1 style=\"font-size:18px\">Trial summary</h1></span>"
      ],
      "text/plain": [
       "<IPython.core.display.HTML object>"
      ]
     },
     "metadata": {},
     "output_type": "display_data"
    },
    {
     "data": {
      "text/html": [
       "<span style=\"color:cyan\"> |-Trial ID: 69ee555d78d2af8a9c6cc64d7df5b405</span>"
      ],
      "text/plain": [
       "<IPython.core.display.HTML object>"
      ]
     },
     "metadata": {},
     "output_type": "display_data"
    },
    {
     "data": {
      "text/html": [
       "<span style=\"color:cyan\"> |-Score: 0.5355917811393738</span>"
      ],
      "text/plain": [
       "<IPython.core.display.HTML object>"
      ]
     },
     "metadata": {},
     "output_type": "display_data"
    },
    {
     "data": {
      "text/html": [
       "<span style=\"color:cyan\"> |-Best step: 0</span>"
      ],
      "text/plain": [
       "<IPython.core.display.HTML object>"
      ]
     },
     "metadata": {},
     "output_type": "display_data"
    },
    {
     "data": {
      "text/html": [
       "<span style=\"color:#7E57C2\"><h2 style=\"font-size:16px\">Hyperparameters:</h2></span>"
      ],
      "text/plain": [
       "<IPython.core.display.HTML object>"
      ]
     },
     "metadata": {},
     "output_type": "display_data"
    },
    {
     "data": {
      "text/html": [
       "<span style=\"color:cyan\"> |-layer_0_neurons: 150</span>"
      ],
      "text/plain": [
       "<IPython.core.display.HTML object>"
      ]
     },
     "metadata": {},
     "output_type": "display_data"
    },
    {
     "data": {
      "text/html": [
       "<span style=\"color:blue\"> |-layer_1_neurons: 150</span>"
      ],
      "text/plain": [
       "<IPython.core.display.HTML object>"
      ]
     },
     "metadata": {},
     "output_type": "display_data"
    },
    {
     "data": {
      "text/html": [
       "<span style=\"color:cyan\"> |-layer_2_neurons: 30</span>"
      ],
      "text/plain": [
       "<IPython.core.display.HTML object>"
      ]
     },
     "metadata": {},
     "output_type": "display_data"
    },
    {
     "data": {
      "text/html": [
       "<span style=\"color:blue\"> |-layer_3_neurons: 170</span>"
      ],
      "text/plain": [
       "<IPython.core.display.HTML object>"
      ]
     },
     "metadata": {},
     "output_type": "display_data"
    },
    {
     "data": {
      "text/html": [
       "<span style=\"color:cyan\"> |-n_input_neurons: 90</span>"
      ],
      "text/plain": [
       "<IPython.core.display.HTML object>"
      ]
     },
     "metadata": {},
     "output_type": "display_data"
    },
    {
     "data": {
      "text/html": [
       "<span style=\"color:blue\"> |-n_layers: 3</span>"
      ],
      "text/plain": [
       "<IPython.core.display.HTML object>"
      ]
     },
     "metadata": {},
     "output_type": "display_data"
    },
    {
     "name": "stdout",
     "output_type": "stream",
     "text": [
      "Train on 7112 samples, validate on 2332 samples\n",
      "Epoch 1/10\n",
      "7112/7112 [==============================] - ETA: 4:40 - loss: 1.3347 - acc: 0.200 - ETA: 17s - loss: 1.1273 - acc: 0.444 - ETA: 9s - loss: 1.0488 - acc: 0.5029 - ETA: 7s - loss: 1.0272 - acc: 0.517 - ETA: 5s - loss: 1.0380 - acc: 0.513 - ETA: 4s - loss: 1.0383 - acc: 0.509 - ETA: 4s - loss: 1.0341 - acc: 0.505 - ETA: 3s - loss: 1.0364 - acc: 0.503 - ETA: 3s - loss: 1.0269 - acc: 0.513 - ETA: 3s - loss: 1.0292 - acc: 0.508 - ETA: 2s - loss: 1.0271 - acc: 0.505 - ETA: 2s - loss: 1.0268 - acc: 0.504 - ETA: 2s - loss: 1.0278 - acc: 0.502 - ETA: 2s - loss: 1.0277 - acc: 0.499 - ETA: 2s - loss: 1.0246 - acc: 0.501 - ETA: 2s - loss: 1.0313 - acc: 0.497 - ETA: 2s - loss: 1.0344 - acc: 0.491 - ETA: 2s - loss: 1.0343 - acc: 0.493 - ETA: 1s - loss: 1.0362 - acc: 0.490 - ETA: 1s - loss: 1.0343 - acc: 0.494 - ETA: 1s - loss: 1.0358 - acc: 0.492 - ETA: 1s - loss: 1.0347 - acc: 0.491 - ETA: 1s - loss: 1.0320 - acc: 0.492 - ETA: 1s - loss: 1.0304 - acc: 0.494 - ETA: 1s - loss: 1.0292 - acc: 0.495 - ETA: 1s - loss: 1.0286 - acc: 0.496 - ETA: 1s - loss: 1.0282 - acc: 0.496 - ETA: 1s - loss: 1.0260 - acc: 0.497 - ETA: 1s - loss: 1.0231 - acc: 0.498 - ETA: 1s - loss: 1.0230 - acc: 0.499 - ETA: 0s - loss: 1.0224 - acc: 0.500 - ETA: 0s - loss: 1.0222 - acc: 0.501 - ETA: 0s - loss: 1.0204 - acc: 0.503 - ETA: 0s - loss: 1.0181 - acc: 0.504 - ETA: 0s - loss: 1.0165 - acc: 0.506 - ETA: 0s - loss: 1.0155 - acc: 0.506 - ETA: 0s - loss: 1.0167 - acc: 0.504 - ETA: 0s - loss: 1.0157 - acc: 0.505 - ETA: 0s - loss: 1.0157 - acc: 0.505 - ETA: 0s - loss: 1.0167 - acc: 0.505 - ETA: 0s - loss: 1.0155 - acc: 0.507 - ETA: 0s - loss: 1.0152 - acc: 0.507 - ETA: 0s - loss: 1.0145 - acc: 0.508 - ETA: 0s - loss: 1.0137 - acc: 0.509 - ETA: 0s - loss: 1.0142 - acc: 0.508 - 3s 472us/sample - loss: 1.0143 - acc: 0.5083 - val_loss: 0.9849 - val_acc: 0.5283\n",
      "Epoch 2/10\n",
      "7112/7112 [==============================] - ETA: 4s - loss: 1.0086 - acc: 0.600 - ETA: 2s - loss: 1.0062 - acc: 0.538 - ETA: 2s - loss: 0.9768 - acc: 0.545 - ETA: 2s - loss: 0.9865 - acc: 0.536 - ETA: 1s - loss: 0.9914 - acc: 0.523 - ETA: 1s - loss: 0.9844 - acc: 0.530 - ETA: 1s - loss: 0.9792 - acc: 0.534 - ETA: 1s - loss: 0.9879 - acc: 0.525 - ETA: 1s - loss: 0.9918 - acc: 0.519 - ETA: 1s - loss: 0.9881 - acc: 0.526 - ETA: 1s - loss: 0.9886 - acc: 0.526 - ETA: 1s - loss: 0.9928 - acc: 0.521 - ETA: 1s - loss: 0.9918 - acc: 0.522 - ETA: 1s - loss: 0.9926 - acc: 0.522 - ETA: 1s - loss: 0.9896 - acc: 0.525 - ETA: 1s - loss: 0.9886 - acc: 0.528 - ETA: 1s - loss: 0.9872 - acc: 0.530 - ETA: 1s - loss: 0.9931 - acc: 0.526 - ETA: 1s - loss: 0.9932 - acc: 0.526 - ETA: 1s - loss: 0.9910 - acc: 0.528 - ETA: 1s - loss: 0.9893 - acc: 0.531 - ETA: 1s - loss: 0.9896 - acc: 0.531 - ETA: 1s - loss: 0.9883 - acc: 0.532 - ETA: 0s - loss: 0.9875 - acc: 0.534 - ETA: 0s - loss: 0.9894 - acc: 0.533 - ETA: 0s - loss: 0.9928 - acc: 0.530 - ETA: 0s - loss: 0.9936 - acc: 0.529 - ETA: 0s - loss: 0.9944 - acc: 0.527 - ETA: 0s - loss: 0.9952 - acc: 0.523 - ETA: 0s - loss: 0.9957 - acc: 0.523 - ETA: 0s - loss: 0.9963 - acc: 0.524 - ETA: 0s - loss: 0.9961 - acc: 0.524 - ETA: 0s - loss: 0.9968 - acc: 0.523 - ETA: 0s - loss: 0.9977 - acc: 0.522 - ETA: 0s - loss: 0.9977 - acc: 0.522 - ETA: 0s - loss: 0.9969 - acc: 0.523 - ETA: 0s - loss: 0.9974 - acc: 0.523 - ETA: 0s - loss: 0.9966 - acc: 0.523 - ETA: 0s - loss: 0.9980 - acc: 0.522 - ETA: 0s - loss: 0.9979 - acc: 0.521 - ETA: 0s - loss: 0.9967 - acc: 0.522 - ETA: 0s - loss: 0.9981 - acc: 0.521 - ETA: 0s - loss: 0.9966 - acc: 0.522 - ETA: 0s - loss: 0.9968 - acc: 0.522 - 3s 368us/sample - loss: 0.9971 - acc: 0.5222 - val_loss: 0.9754 - val_acc: 0.5309\n",
      "Epoch 3/10\n",
      "7112/7112 [==============================] - ETA: 4s - loss: 0.9617 - acc: 0.600 - ETA: 2s - loss: 0.9190 - acc: 0.594 - ETA: 2s - loss: 0.9304 - acc: 0.574 - ETA: 2s - loss: 0.9264 - acc: 0.569 - ETA: 1s - loss: 0.9436 - acc: 0.546 - ETA: 1s - loss: 0.9668 - acc: 0.518 - ETA: 1s - loss: 0.9756 - acc: 0.510 - ETA: 1s - loss: 0.9770 - acc: 0.515 - ETA: 1s - loss: 0.9766 - acc: 0.521 - ETA: 1s - loss: 0.9771 - acc: 0.521 - ETA: 1s - loss: 0.9865 - acc: 0.518 - ETA: 1s - loss: 0.9891 - acc: 0.518 - ETA: 1s - loss: 0.9914 - acc: 0.517 - ETA: 1s - loss: 0.9902 - acc: 0.520 - ETA: 1s - loss: 0.9923 - acc: 0.514 - ETA: 1s - loss: 0.9934 - acc: 0.515 - ETA: 1s - loss: 0.9950 - acc: 0.513 - ETA: 1s - loss: 0.9979 - acc: 0.512 - ETA: 1s - loss: 0.9986 - acc: 0.510 - ETA: 1s - loss: 0.9995 - acc: 0.509 - ETA: 1s - loss: 0.9970 - acc: 0.514 - ETA: 1s - loss: 0.9932 - acc: 0.517 - ETA: 1s - loss: 0.9939 - acc: 0.517 - ETA: 0s - loss: 0.9929 - acc: 0.518 - ETA: 0s - loss: 0.9902 - acc: 0.521 - ETA: 0s - loss: 0.9896 - acc: 0.521 - ETA: 0s - loss: 0.9885 - acc: 0.522 - ETA: 0s - loss: 0.9872 - acc: 0.522 - ETA: 0s - loss: 0.9873 - acc: 0.523 - ETA: 0s - loss: 0.9879 - acc: 0.524 - ETA: 0s - loss: 0.9902 - acc: 0.522 - ETA: 0s - loss: 0.9907 - acc: 0.522 - ETA: 0s - loss: 0.9899 - acc: 0.523 - ETA: 0s - loss: 0.9903 - acc: 0.522 - ETA: 0s - loss: 0.9914 - acc: 0.522 - ETA: 0s - loss: 0.9914 - acc: 0.522 - ETA: 0s - loss: 0.9915 - acc: 0.522 - ETA: 0s - loss: 0.9899 - acc: 0.524 - ETA: 0s - loss: 0.9915 - acc: 0.522 - ETA: 0s - loss: 0.9920 - acc: 0.522 - ETA: 0s - loss: 0.9920 - acc: 0.521 - ETA: 0s - loss: 0.9926 - acc: 0.520 - ETA: 0s - loss: 0.9934 - acc: 0.520 - 3s 363us/sample - loss: 0.9934 - acc: 0.5207 - val_loss: 0.9772 - val_acc: 0.5334\n",
      "Epoch 4/10\n",
      "7112/7112 [==============================] - ETA: 4s - loss: 0.8156 - acc: 0.700 - ETA: 2s - loss: 1.0067 - acc: 0.483 - ETA: 2s - loss: 1.0103 - acc: 0.500 - ETA: 2s - loss: 0.9989 - acc: 0.511 - ETA: 1s - loss: 0.9984 - acc: 0.505 - ETA: 1s - loss: 1.0006 - acc: 0.502 - ETA: 1s - loss: 1.0028 - acc: 0.501 - ETA: 1s - loss: 1.0083 - acc: 0.497 - ETA: 1s - loss: 1.0068 - acc: 0.500 - ETA: 1s - loss: 1.0071 - acc: 0.500 - ETA: 1s - loss: 1.0060 - acc: 0.501 - ETA: 1s - loss: 1.0061 - acc: 0.502 - ETA: 1s - loss: 1.0061 - acc: 0.502 - ETA: 1s - loss: 1.0063 - acc: 0.503 - ETA: 1s - loss: 1.0062 - acc: 0.503 - ETA: 1s - loss: 1.0047 - acc: 0.505 - ETA: 1s - loss: 1.0053 - acc: 0.506 - ETA: 1s - loss: 1.0029 - acc: 0.508 - ETA: 1s - loss: 0.9997 - acc: 0.513 - ETA: 1s - loss: 1.0018 - acc: 0.510 - ETA: 1s - loss: 0.9954 - acc: 0.515 - ETA: 1s - loss: 0.9941 - acc: 0.518 - ETA: 1s - loss: 0.9941 - acc: 0.519 - ETA: 1s - loss: 0.9902 - acc: 0.522 - ETA: 1s - loss: 0.9922 - acc: 0.519 - ETA: 1s - loss: 0.9940 - acc: 0.518 - ETA: 1s - loss: 0.9948 - acc: 0.518 - ETA: 0s - loss: 0.9942 - acc: 0.519 - ETA: 0s - loss: 0.9930 - acc: 0.519 - ETA: 0s - loss: 0.9921 - acc: 0.521 - ETA: 0s - loss: 0.9909 - acc: 0.522 - ETA: 0s - loss: 0.9895 - acc: 0.523 - ETA: 0s - loss: 0.9878 - acc: 0.525 - ETA: 0s - loss: 0.9884 - acc: 0.524 - ETA: 0s - loss: 0.9872 - acc: 0.526 - ETA: 0s - loss: 0.9875 - acc: 0.524 - ETA: 0s - loss: 0.9870 - acc: 0.525 - ETA: 0s - loss: 0.9872 - acc: 0.524 - ETA: 0s - loss: 0.9877 - acc: 0.523 - ETA: 0s - loss: 0.9885 - acc: 0.523 - ETA: 0s - loss: 0.9884 - acc: 0.522 - ETA: 0s - loss: 0.9887 - acc: 0.522 - ETA: 0s - loss: 0.9895 - acc: 0.521 - ETA: 0s - loss: 0.9896 - acc: 0.520 - ETA: 0s - loss: 0.9909 - acc: 0.519 - 3s 372us/sample - loss: 0.9900 - acc: 0.5202 - val_loss: 0.9772 - val_acc: 0.5300\n",
      "Epoch 5/10\n"
     ]
    },
    {
     "name": "stdout",
     "output_type": "stream",
     "text": [
      "7112/7112 [==============================] - ETA: 4s - loss: 1.0821 - acc: 0.400 - ETA: 2s - loss: 0.9624 - acc: 0.533 - ETA: 2s - loss: 0.9664 - acc: 0.540 - ETA: 2s - loss: 0.9473 - acc: 0.553 - ETA: 2s - loss: 0.9496 - acc: 0.550 - ETA: 2s - loss: 0.9632 - acc: 0.549 - ETA: 2s - loss: 0.9668 - acc: 0.544 - ETA: 2s - loss: 0.9812 - acc: 0.536 - ETA: 2s - loss: 0.9801 - acc: 0.541 - ETA: 1s - loss: 0.9858 - acc: 0.532 - ETA: 1s - loss: 0.9866 - acc: 0.530 - ETA: 1s - loss: 0.9918 - acc: 0.523 - ETA: 1s - loss: 0.9904 - acc: 0.523 - ETA: 1s - loss: 0.9901 - acc: 0.525 - ETA: 1s - loss: 0.9903 - acc: 0.526 - ETA: 1s - loss: 0.9912 - acc: 0.527 - ETA: 1s - loss: 0.9956 - acc: 0.520 - ETA: 1s - loss: 0.9935 - acc: 0.521 - ETA: 1s - loss: 0.9950 - acc: 0.518 - ETA: 1s - loss: 0.9934 - acc: 0.518 - ETA: 1s - loss: 0.9929 - acc: 0.517 - ETA: 1s - loss: 0.9889 - acc: 0.519 - ETA: 1s - loss: 0.9859 - acc: 0.522 - ETA: 1s - loss: 0.9844 - acc: 0.523 - ETA: 1s - loss: 0.9831 - acc: 0.526 - ETA: 0s - loss: 0.9831 - acc: 0.526 - ETA: 0s - loss: 0.9815 - acc: 0.528 - ETA: 0s - loss: 0.9814 - acc: 0.528 - ETA: 0s - loss: 0.9841 - acc: 0.527 - ETA: 0s - loss: 0.9841 - acc: 0.526 - ETA: 0s - loss: 0.9830 - acc: 0.527 - ETA: 0s - loss: 0.9853 - acc: 0.525 - ETA: 0s - loss: 0.9869 - acc: 0.523 - ETA: 0s - loss: 0.9874 - acc: 0.523 - ETA: 0s - loss: 0.9866 - acc: 0.524 - ETA: 0s - loss: 0.9866 - acc: 0.525 - ETA: 0s - loss: 0.9874 - acc: 0.524 - ETA: 0s - loss: 0.9897 - acc: 0.522 - ETA: 0s - loss: 0.9898 - acc: 0.521 - ETA: 0s - loss: 0.9900 - acc: 0.521 - ETA: 0s - loss: 0.9907 - acc: 0.521 - ETA: 0s - loss: 0.9894 - acc: 0.522 - ETA: 0s - loss: 0.9891 - acc: 0.523 - 3s 358us/sample - loss: 0.9899 - acc: 0.5232 - val_loss: 0.9725 - val_acc: 0.5322\n",
      "Epoch 6/10\n",
      "7112/7112 [==============================] - ETA: 4s - loss: 1.0598 - acc: 0.400 - ETA: 2s - loss: 0.9850 - acc: 0.544 - ETA: 2s - loss: 0.9781 - acc: 0.541 - ETA: 2s - loss: 0.9866 - acc: 0.541 - ETA: 2s - loss: 0.9861 - acc: 0.544 - ETA: 1s - loss: 0.9925 - acc: 0.537 - ETA: 1s - loss: 0.9824 - acc: 0.545 - ETA: 1s - loss: 0.9838 - acc: 0.539 - ETA: 1s - loss: 0.9827 - acc: 0.539 - ETA: 1s - loss: 0.9865 - acc: 0.535 - ETA: 1s - loss: 0.9888 - acc: 0.528 - ETA: 1s - loss: 0.9841 - acc: 0.532 - ETA: 1s - loss: 0.9828 - acc: 0.532 - ETA: 1s - loss: 0.9763 - acc: 0.537 - ETA: 1s - loss: 0.9794 - acc: 0.535 - ETA: 1s - loss: 0.9786 - acc: 0.536 - ETA: 1s - loss: 0.9809 - acc: 0.534 - ETA: 1s - loss: 0.9795 - acc: 0.535 - ETA: 1s - loss: 0.9810 - acc: 0.534 - ETA: 1s - loss: 0.9829 - acc: 0.533 - ETA: 1s - loss: 0.9838 - acc: 0.530 - ETA: 1s - loss: 0.9826 - acc: 0.532 - ETA: 1s - loss: 0.9843 - acc: 0.530 - ETA: 1s - loss: 0.9848 - acc: 0.530 - ETA: 1s - loss: 0.9865 - acc: 0.527 - ETA: 1s - loss: 0.9869 - acc: 0.528 - ETA: 0s - loss: 0.9858 - acc: 0.528 - ETA: 0s - loss: 0.9840 - acc: 0.530 - ETA: 0s - loss: 0.9839 - acc: 0.532 - ETA: 0s - loss: 0.9838 - acc: 0.531 - ETA: 0s - loss: 0.9853 - acc: 0.531 - ETA: 0s - loss: 0.9844 - acc: 0.532 - ETA: 0s - loss: 0.9840 - acc: 0.533 - ETA: 0s - loss: 0.9829 - acc: 0.533 - ETA: 0s - loss: 0.9830 - acc: 0.532 - ETA: 0s - loss: 0.9840 - acc: 0.531 - ETA: 0s - loss: 0.9850 - acc: 0.529 - ETA: 0s - loss: 0.9848 - acc: 0.531 - ETA: 0s - loss: 0.9860 - acc: 0.531 - ETA: 0s - loss: 0.9845 - acc: 0.532 - ETA: 0s - loss: 0.9857 - acc: 0.531 - ETA: 0s - loss: 0.9871 - acc: 0.529 - ETA: 0s - loss: 0.9871 - acc: 0.530 - ETA: 0s - loss: 0.9869 - acc: 0.530 - ETA: 0s - loss: 0.9887 - acc: 0.529 - 3s 374us/sample - loss: 0.9884 - acc: 0.5301 - val_loss: 0.9874 - val_acc: 0.5330\n",
      "Epoch 7/10\n",
      "7112/7112 [==============================] - ETA: 4s - loss: 0.9648 - acc: 0.600 - ETA: 2s - loss: 1.0254 - acc: 0.522 - ETA: 2s - loss: 0.9966 - acc: 0.534 - ETA: 2s - loss: 0.9918 - acc: 0.532 - ETA: 1s - loss: 0.9852 - acc: 0.534 - ETA: 1s - loss: 0.9984 - acc: 0.523 - ETA: 1s - loss: 0.9953 - acc: 0.526 - ETA: 1s - loss: 0.9842 - acc: 0.540 - ETA: 1s - loss: 0.9905 - acc: 0.537 - ETA: 1s - loss: 0.9789 - acc: 0.545 - ETA: 1s - loss: 0.9800 - acc: 0.541 - ETA: 1s - loss: 0.9805 - acc: 0.538 - ETA: 1s - loss: 0.9783 - acc: 0.543 - ETA: 1s - loss: 0.9771 - acc: 0.541 - ETA: 1s - loss: 0.9787 - acc: 0.538 - ETA: 1s - loss: 0.9759 - acc: 0.543 - ETA: 1s - loss: 0.9743 - acc: 0.543 - ETA: 1s - loss: 0.9768 - acc: 0.542 - ETA: 1s - loss: 0.9781 - acc: 0.541 - ETA: 1s - loss: 0.9781 - acc: 0.541 - ETA: 1s - loss: 0.9780 - acc: 0.540 - ETA: 1s - loss: 0.9793 - acc: 0.539 - ETA: 1s - loss: 0.9784 - acc: 0.540 - ETA: 0s - loss: 0.9780 - acc: 0.541 - ETA: 0s - loss: 0.9782 - acc: 0.541 - ETA: 0s - loss: 0.9793 - acc: 0.539 - ETA: 0s - loss: 0.9800 - acc: 0.537 - ETA: 0s - loss: 0.9809 - acc: 0.537 - ETA: 0s - loss: 0.9818 - acc: 0.535 - ETA: 0s - loss: 0.9824 - acc: 0.535 - ETA: 0s - loss: 0.9835 - acc: 0.534 - ETA: 0s - loss: 0.9824 - acc: 0.535 - ETA: 0s - loss: 0.9845 - acc: 0.533 - ETA: 0s - loss: 0.9864 - acc: 0.531 - ETA: 0s - loss: 0.9854 - acc: 0.532 - ETA: 0s - loss: 0.9844 - acc: 0.533 - ETA: 0s - loss: 0.9841 - acc: 0.533 - ETA: 0s - loss: 0.9841 - acc: 0.532 - ETA: 0s - loss: 0.9849 - acc: 0.531 - ETA: 0s - loss: 0.9857 - acc: 0.530 - ETA: 0s - loss: 0.9862 - acc: 0.529 - ETA: 0s - loss: 0.9870 - acc: 0.528 - ETA: 0s - loss: 0.9865 - acc: 0.528 - ETA: 0s - loss: 0.9873 - acc: 0.527 - 3s 363us/sample - loss: 0.9875 - acc: 0.5274 - val_loss: 0.9749 - val_acc: 0.5334\n",
      "Epoch 8/10\n",
      "7112/7112 [==============================] - ETA: 5s - loss: 1.2037 - acc: 0.300 - ETA: 2s - loss: 0.9649 - acc: 0.566 - ETA: 2s - loss: 0.9811 - acc: 0.538 - ETA: 2s - loss: 0.9558 - acc: 0.564 - ETA: 2s - loss: 0.9540 - acc: 0.559 - ETA: 1s - loss: 0.9710 - acc: 0.541 - ETA: 1s - loss: 0.9689 - acc: 0.548 - ETA: 2s - loss: 0.9698 - acc: 0.545 - ETA: 2s - loss: 0.9696 - acc: 0.541 - ETA: 1s - loss: 0.9740 - acc: 0.537 - ETA: 1s - loss: 0.9709 - acc: 0.541 - ETA: 1s - loss: 0.9719 - acc: 0.540 - ETA: 1s - loss: 0.9701 - acc: 0.544 - ETA: 1s - loss: 0.9720 - acc: 0.542 - ETA: 1s - loss: 0.9775 - acc: 0.537 - ETA: 1s - loss: 0.9770 - acc: 0.536 - ETA: 1s - loss: 0.9759 - acc: 0.540 - ETA: 1s - loss: 0.9731 - acc: 0.544 - ETA: 2:41:06 - loss: 0.9733 - acc: 0.54 - ETA: 2:36:22 - loss: 0.9741 - acc: 0.54 - ETA: 2:23:58 - loss: 0.9755 - acc: 0.54 - ETA: 2:11:58 - loss: 0.9793 - acc: 0.53 - ETA: 2:07:30 - loss: 0.9791 - acc: 0.53 - ETA: 2:03:54 - loss: 0.9784 - acc: 0.53 - ETA: 1:56:23 - loss: 0.9762 - acc: 0.54 - ETA: 1:51:14 - loss: 0.9771 - acc: 0.54 - ETA: 1:45:08 - loss: 0.9776 - acc: 0.53 - ETA: 1:37:10 - loss: 0.9789 - acc: 0.53 - ETA: 1:29:48 - loss: 0.9802 - acc: 0.53 - ETA: 1:22:31 - loss: 0.9793 - acc: 0.53 - ETA: 1:13:13 - loss: 0.9831 - acc: 0.53 - ETA: 1:04:05 - loss: 0.9839 - acc: 0.53 - ETA: 1:02:35 - loss: 0.9852 - acc: 0.53 - ETA: 59:41 - loss: 0.9846 - acc: 0.5314 - ETA: 57:14 - loss: 0.9859 - acc: 0.53 - ETA: 54:12 - loss: 0.9833 - acc: 0.53 - ETA: 50:01 - loss: 0.9845 - acc: 0.53 - ETA: 46:39 - loss: 0.9841 - acc: 0.53 - ETA: 42:52 - loss: 0.9842 - acc: 0.53 - ETA: 38:12 - loss: 0.9800 - acc: 0.53 - ETA: 33:51 - loss: 0.9815 - acc: 0.53 - ETA: 30:42 - loss: 0.9826 - acc: 0.53 - ETA: 27:56 - loss: 0.9823 - acc: 0.53 - ETA: 25:16 - loss: 0.9832 - acc: 0.53 - ETA: 22:31 - loss: 0.9845 - acc: 0.53 - ETA: 17:45 - loss: 0.9850 - acc: 0.52 - ETA: 13:11 - loss: 0.9858 - acc: 0.52 - ETA: 9:07 - loss: 0.9868 - acc: 0.5274 - ETA: 5:29 - loss: 0.9863 - acc: 0.527 - ETA: 2:49 - loss: 0.9866 - acc: 0.527 - ETA: 26s - loss: 0.9873 - acc: 0.527 - 5812s 817ms/sample - loss: 0.9875 - acc: 0.5274 - val_loss: 0.9729 - val_acc: 0.5356\n",
      "Epoch 9/10\n"
     ]
    },
    {
     "name": "stdout",
     "output_type": "stream",
     "text": [
      "7112/7112 [==============================] - ETA: 4s - loss: 1.1434 - acc: 0.400 - ETA: 1s - loss: 0.9936 - acc: 0.508 - ETA: 1s - loss: 0.9743 - acc: 0.536 - ETA: 1s - loss: 0.9917 - acc: 0.526 - ETA: 1s - loss: 0.9803 - acc: 0.539 - ETA: 1s - loss: 0.9815 - acc: 0.544 - ETA: 1s - loss: 0.9898 - acc: 0.534 - ETA: 1s - loss: 0.9958 - acc: 0.528 - ETA: 1s - loss: 0.9979 - acc: 0.527 - ETA: 1s - loss: 0.9937 - acc: 0.531 - ETA: 1s - loss: 0.9935 - acc: 0.533 - ETA: 1s - loss: 0.9867 - acc: 0.540 - ETA: 1s - loss: 0.9861 - acc: 0.539 - ETA: 1s - loss: 0.9891 - acc: 0.535 - ETA: 1s - loss: 0.9888 - acc: 0.536 - ETA: 1s - loss: 0.9880 - acc: 0.538 - ETA: 1s - loss: 0.9868 - acc: 0.538 - ETA: 1s - loss: 0.9874 - acc: 0.536 - ETA: 0s - loss: 0.9902 - acc: 0.533 - ETA: 0s - loss: 0.9889 - acc: 0.535 - ETA: 0s - loss: 0.9921 - acc: 0.530 - ETA: 0s - loss: 0.9913 - acc: 0.530 - ETA: 0s - loss: 0.9893 - acc: 0.532 - ETA: 0s - loss: 0.9869 - acc: 0.534 - ETA: 0s - loss: 0.9889 - acc: 0.531 - ETA: 0s - loss: 0.9900 - acc: 0.530 - ETA: 0s - loss: 0.9893 - acc: 0.530 - ETA: 0s - loss: 0.9885 - acc: 0.530 - ETA: 0s - loss: 0.9890 - acc: 0.529 - ETA: 0s - loss: 0.9871 - acc: 0.531 - ETA: 0s - loss: 0.9876 - acc: 0.530 - ETA: 0s - loss: 0.9871 - acc: 0.529 - ETA: 0s - loss: 0.9880 - acc: 0.528 - ETA: 0s - loss: 0.9874 - acc: 0.528 - ETA: 0s - loss: 0.9865 - acc: 0.529 - 3s 408us/sample - loss: 0.9870 - acc: 0.5292 - val_loss: 0.9787 - val_acc: 0.5322\n",
      "Epoch 10/10\n",
      "7112/7112 [==============================] - ETA: 10s - loss: 1.3195 - acc: 0.30 - ETA: 32s - loss: 1.3165 - acc: 0.30 - ETA: 17s - loss: 1.0161 - acc: 0.46 - ETA: 20s - loss: 1.0096 - acc: 0.47 - ETA: 11s - loss: 0.9562 - acc: 0.53 - ETA: 14s - loss: 0.9615 - acc: 0.53 - ETA: 10s - loss: 0.9822 - acc: 0.51 - ETA: 9s - loss: 0.9957 - acc: 0.5063 - ETA: 7s - loss: 1.0076 - acc: 0.497 - ETA: 7s - loss: 1.0078 - acc: 0.492 - ETA: 6s - loss: 0.9964 - acc: 0.509 - ETA: 6s - loss: 1.0008 - acc: 0.507 - ETA: 5s - loss: 0.9912 - acc: 0.515 - ETA: 5s - loss: 0.9887 - acc: 0.515 - ETA: 5s - loss: 0.9864 - acc: 0.518 - ETA: 5s - loss: 0.9867 - acc: 0.518 - ETA: 5s - loss: 0.9911 - acc: 0.519 - ETA: 5s - loss: 0.9904 - acc: 0.522 - ETA: 5s - loss: 0.9860 - acc: 0.528 - ETA: 5s - loss: 0.9840 - acc: 0.530 - ETA: 5s - loss: 0.9844 - acc: 0.531 - ETA: 5s - loss: 0.9847 - acc: 0.531 - ETA: 5s - loss: 0.9836 - acc: 0.530 - ETA: 5s - loss: 0.9849 - acc: 0.527 - ETA: 5s - loss: 0.9885 - acc: 0.525 - ETA: 4s - loss: 0.9859 - acc: 0.528 - ETA: 4s - loss: 0.9853 - acc: 0.529 - ETA: 4s - loss: 0.9853 - acc: 0.529 - ETA: 4s - loss: 0.9855 - acc: 0.528 - ETA: 4s - loss: 0.9836 - acc: 0.528 - ETA: 4s - loss: 0.9834 - acc: 0.528 - ETA: 4s - loss: 0.9864 - acc: 0.527 - ETA: 4s - loss: 0.9875 - acc: 0.527 - ETA: 4s - loss: 0.9866 - acc: 0.528 - ETA: 4s - loss: 0.9848 - acc: 0.531 - ETA: 4s - loss: 0.9833 - acc: 0.533 - ETA: 4s - loss: 0.9829 - acc: 0.535 - ETA: 4s - loss: 0.9821 - acc: 0.534 - ETA: 4s - loss: 0.9834 - acc: 0.532 - ETA: 4s - loss: 0.9858 - acc: 0.530 - ETA: 4s - loss: 0.9854 - acc: 0.529 - ETA: 4s - loss: 0.9853 - acc: 0.529 - ETA: 4s - loss: 0.9851 - acc: 0.529 - ETA: 4s - loss: 0.9871 - acc: 0.526 - ETA: 3s - loss: 0.9882 - acc: 0.526 - ETA: 3s - loss: 0.9882 - acc: 0.526 - ETA: 3s - loss: 0.9904 - acc: 0.525 - ETA: 3s - loss: 0.9896 - acc: 0.526 - ETA: 3s - loss: 0.9880 - acc: 0.529 - ETA: 3s - loss: 0.9881 - acc: 0.529 - ETA: 3s - loss: 0.9891 - acc: 0.528 - ETA: 3s - loss: 0.9886 - acc: 0.528 - ETA: 3s - loss: 0.9883 - acc: 0.528 - ETA: 3s - loss: 0.9888 - acc: 0.528 - ETA: 2s - loss: 0.9889 - acc: 0.527 - ETA: 2s - loss: 0.9875 - acc: 0.528 - ETA: 2s - loss: 0.9891 - acc: 0.527 - ETA: 2s - loss: 0.9884 - acc: 0.528 - ETA: 2s - loss: 0.9882 - acc: 0.528 - ETA: 2s - loss: 0.9847 - acc: 0.530 - ETA: 2s - loss: 0.9829 - acc: 0.531 - ETA: 2s - loss: 0.9831 - acc: 0.531 - ETA: 2s - loss: 0.9826 - acc: 0.531 - ETA: 2s - loss: 0.9821 - acc: 0.531 - ETA: 2s - loss: 0.9825 - acc: 0.531 - ETA: 2s - loss: 0.9823 - acc: 0.532 - ETA: 2s - loss: 0.9807 - acc: 0.533 - ETA: 2s - loss: 0.9810 - acc: 0.533 - ETA: 1s - loss: 0.9795 - acc: 0.535 - ETA: 1s - loss: 0.9790 - acc: 0.536 - ETA: 1s - loss: 0.9788 - acc: 0.537 - ETA: 1s - loss: 0.9794 - acc: 0.537 - ETA: 1s - loss: 0.9804 - acc: 0.535 - ETA: 1s - loss: 0.9807 - acc: 0.535 - ETA: 1s - loss: 0.9807 - acc: 0.534 - ETA: 1s - loss: 0.9813 - acc: 0.534 - ETA: 1s - loss: 0.9816 - acc: 0.534 - ETA: 1s - loss: 0.9814 - acc: 0.534 - ETA: 1s - loss: 0.9820 - acc: 0.533 - ETA: 0s - loss: 0.9818 - acc: 0.533 - ETA: 0s - loss: 0.9826 - acc: 0.532 - ETA: 0s - loss: 0.9827 - acc: 0.531 - ETA: 0s - loss: 0.9836 - acc: 0.529 - ETA: 0s - loss: 0.9835 - acc: 0.530 - ETA: 0s - loss: 0.9837 - acc: 0.529 - ETA: 0s - loss: 0.9836 - acc: 0.529 - ETA: 0s - loss: 0.9838 - acc: 0.529 - ETA: 0s - loss: 0.9840 - acc: 0.529 - ETA: 0s - loss: 0.9836 - acc: 0.529 - ETA: 0s - loss: 0.9840 - acc: 0.528 - ETA: 0s - loss: 0.9841 - acc: 0.528 - ETA: 0s - loss: 0.9853 - acc: 0.527 - ETA: 0s - loss: 0.9852 - acc: 0.527 - ETA: 0s - loss: 0.9857 - acc: 0.526 - ETA: 0s - loss: 0.9861 - acc: 0.526 - ETA: 0s - loss: 0.9859 - acc: 0.527 - ETA: 0s - loss: 0.9855 - acc: 0.527 - 6s 835us/sample - loss: 0.9858 - acc: 0.5271 - val_loss: 0.9815 - val_acc: 0.5283\n"
     ]
    },
    {
     "data": {
      "text/html": [
       "<span style=\"color:#4527A0\"><h1 style=\"font-size:18px\">Trial complete</h1></span>"
      ],
      "text/plain": [
       "<IPython.core.display.HTML object>"
      ]
     },
     "metadata": {},
     "output_type": "display_data"
    },
    {
     "data": {
      "text/html": [
       "<span style=\"color:#4527A0\"><h1 style=\"font-size:18px\">Trial summary</h1></span>"
      ],
      "text/plain": [
       "<IPython.core.display.HTML object>"
      ]
     },
     "metadata": {},
     "output_type": "display_data"
    },
    {
     "data": {
      "text/html": [
       "<span style=\"color:cyan\"> |-Trial ID: e0eb14cc658713e556b395a990f8056c</span>"
      ],
      "text/plain": [
       "<IPython.core.display.HTML object>"
      ]
     },
     "metadata": {},
     "output_type": "display_data"
    },
    {
     "data": {
      "text/html": [
       "<span style=\"color:cyan\"> |-Score: 0.5355917811393738</span>"
      ],
      "text/plain": [
       "<IPython.core.display.HTML object>"
      ]
     },
     "metadata": {},
     "output_type": "display_data"
    },
    {
     "data": {
      "text/html": [
       "<span style=\"color:cyan\"> |-Best step: 0</span>"
      ],
      "text/plain": [
       "<IPython.core.display.HTML object>"
      ]
     },
     "metadata": {},
     "output_type": "display_data"
    },
    {
     "data": {
      "text/html": [
       "<span style=\"color:#7E57C2\"><h2 style=\"font-size:16px\">Hyperparameters:</h2></span>"
      ],
      "text/plain": [
       "<IPython.core.display.HTML object>"
      ]
     },
     "metadata": {},
     "output_type": "display_data"
    },
    {
     "data": {
      "text/html": [
       "<span style=\"color:cyan\"> |-layer_0_neurons: 50</span>"
      ],
      "text/plain": [
       "<IPython.core.display.HTML object>"
      ]
     },
     "metadata": {},
     "output_type": "display_data"
    },
    {
     "data": {
      "text/html": [
       "<span style=\"color:blue\"> |-layer_1_neurons: 70</span>"
      ],
      "text/plain": [
       "<IPython.core.display.HTML object>"
      ]
     },
     "metadata": {},
     "output_type": "display_data"
    },
    {
     "data": {
      "text/html": [
       "<span style=\"color:cyan\"> |-layer_2_neurons: 150</span>"
      ],
      "text/plain": [
       "<IPython.core.display.HTML object>"
      ]
     },
     "metadata": {},
     "output_type": "display_data"
    },
    {
     "data": {
      "text/html": [
       "<span style=\"color:blue\"> |-layer_3_neurons: 10</span>"
      ],
      "text/plain": [
       "<IPython.core.display.HTML object>"
      ]
     },
     "metadata": {},
     "output_type": "display_data"
    },
    {
     "data": {
      "text/html": [
       "<span style=\"color:cyan\"> |-n_input_neurons: 130</span>"
      ],
      "text/plain": [
       "<IPython.core.display.HTML object>"
      ]
     },
     "metadata": {},
     "output_type": "display_data"
    },
    {
     "data": {
      "text/html": [
       "<span style=\"color:blue\"> |-n_layers: 2</span>"
      ],
      "text/plain": [
       "<IPython.core.display.HTML object>"
      ]
     },
     "metadata": {},
     "output_type": "display_data"
    },
    {
     "name": "stdout",
     "output_type": "stream",
     "text": [
      "Train on 7112 samples, validate on 2332 samples\n",
      "Epoch 1/10\n",
      "7112/7112 [==============================] - ETA: 16:48 - loss: 1.4036 - acc: 0.10 - ETA: 1:13 - loss: 1.1345 - acc: 0.3643 - ETA: 41s - loss: 1.1302 - acc: 0.392 - ETA: 29s - loss: 1.1128 - acc: 0.41 - ETA: 24s - loss: 1.1049 - acc: 0.42 - ETA: 22s - loss: 1.0956 - acc: 0.43 - ETA: 18s - loss: 1.0931 - acc: 0.43 - ETA: 16s - loss: 1.0808 - acc: 0.45 - ETA: 14s - loss: 1.0770 - acc: 0.45 - ETA: 13s - loss: 1.0736 - acc: 0.46 - ETA: 12s - loss: 1.0714 - acc: 0.45 - ETA: 11s - loss: 1.0782 - acc: 0.45 - ETA: 10s - loss: 1.0797 - acc: 0.46 - ETA: 10s - loss: 1.0742 - acc: 0.46 - ETA: 9s - loss: 1.0677 - acc: 0.4779 - ETA: 8s - loss: 1.0615 - acc: 0.484 - ETA: 8s - loss: 1.0625 - acc: 0.481 - ETA: 8s - loss: 1.0607 - acc: 0.482 - ETA: 7s - loss: 1.0578 - acc: 0.486 - ETA: 7s - loss: 1.0547 - acc: 0.489 - ETA: 7s - loss: 1.0548 - acc: 0.491 - ETA: 7s - loss: 1.0573 - acc: 0.490 - ETA: 7s - loss: 1.0563 - acc: 0.492 - ETA: 6s - loss: 1.0542 - acc: 0.493 - ETA: 6s - loss: 1.0531 - acc: 0.494 - ETA: 6s - loss: 1.0521 - acc: 0.496 - ETA: 6s - loss: 1.0512 - acc: 0.495 - ETA: 5s - loss: 1.0488 - acc: 0.496 - ETA: 5s - loss: 1.0493 - acc: 0.496 - ETA: 5s - loss: 1.0492 - acc: 0.495 - ETA: 5s - loss: 1.0486 - acc: 0.498 - ETA: 5s - loss: 1.0458 - acc: 0.499 - ETA: 5s - loss: 1.0424 - acc: 0.502 - ETA: 4s - loss: 1.0383 - acc: 0.506 - ETA: 4s - loss: 1.0356 - acc: 0.509 - ETA: 4s - loss: 1.0367 - acc: 0.507 - ETA: 4s - loss: 1.0381 - acc: 0.506 - ETA: 4s - loss: 1.0380 - acc: 0.508 - ETA: 3s - loss: 1.0388 - acc: 0.505 - ETA: 3s - loss: 1.0358 - acc: 0.507 - ETA: 3s - loss: 1.0351 - acc: 0.508 - ETA: 3s - loss: 1.0340 - acc: 0.509 - ETA: 3s - loss: 1.0335 - acc: 0.509 - ETA: 3s - loss: 1.0334 - acc: 0.509 - ETA: 3s - loss: 1.0326 - acc: 0.509 - ETA: 2s - loss: 1.0322 - acc: 0.509 - ETA: 2s - loss: 1.0319 - acc: 0.509 - ETA: 2s - loss: 1.0312 - acc: 0.508 - ETA: 2s - loss: 1.0313 - acc: 0.508 - ETA: 2s - loss: 1.0318 - acc: 0.507 - ETA: 2s - loss: 1.0310 - acc: 0.508 - ETA: 2s - loss: 1.0311 - acc: 0.507 - ETA: 2s - loss: 1.0295 - acc: 0.508 - ETA: 2s - loss: 1.0288 - acc: 0.508 - ETA: 2s - loss: 1.0282 - acc: 0.508 - ETA: 1s - loss: 1.0274 - acc: 0.509 - ETA: 1s - loss: 1.0271 - acc: 0.509 - ETA: 1s - loss: 1.0273 - acc: 0.508 - ETA: 1s - loss: 1.0273 - acc: 0.508 - ETA: 1s - loss: 1.0271 - acc: 0.508 - ETA: 1s - loss: 1.0272 - acc: 0.508 - ETA: 1s - loss: 1.0272 - acc: 0.507 - ETA: 1s - loss: 1.0272 - acc: 0.508 - ETA: 1s - loss: 1.0273 - acc: 0.507 - ETA: 1s - loss: 1.0265 - acc: 0.507 - ETA: 1s - loss: 1.0254 - acc: 0.508 - ETA: 1s - loss: 1.0261 - acc: 0.506 - ETA: 1s - loss: 1.0246 - acc: 0.507 - ETA: 1s - loss: 1.0247 - acc: 0.507 - ETA: 1s - loss: 1.0245 - acc: 0.507 - ETA: 1s - loss: 1.0240 - acc: 0.508 - ETA: 1s - loss: 1.0233 - acc: 0.509 - ETA: 1s - loss: 1.0227 - acc: 0.508 - ETA: 0s - loss: 1.0219 - acc: 0.510 - ETA: 0s - loss: 1.0208 - acc: 0.510 - ETA: 0s - loss: 1.0208 - acc: 0.510 - ETA: 0s - loss: 1.0204 - acc: 0.511 - ETA: 0s - loss: 1.0206 - acc: 0.511 - ETA: 0s - loss: 1.0204 - acc: 0.510 - ETA: 0s - loss: 1.0208 - acc: 0.510 - ETA: 0s - loss: 1.0208 - acc: 0.510 - ETA: 0s - loss: 1.0216 - acc: 0.508 - ETA: 0s - loss: 1.0204 - acc: 0.509 - ETA: 0s - loss: 1.0207 - acc: 0.508 - ETA: 0s - loss: 1.0202 - acc: 0.509 - ETA: 0s - loss: 1.0205 - acc: 0.509 - ETA: 0s - loss: 1.0197 - acc: 0.509 - ETA: 0s - loss: 1.0195 - acc: 0.509 - ETA: 0s - loss: 1.0186 - acc: 0.511 - ETA: 0s - loss: 1.0188 - acc: 0.511 - 8s 1ms/sample - loss: 1.0185 - acc: 0.5111 - val_loss: 0.9789 - val_acc: 0.5270\n",
      "Epoch 2/10\n",
      "7112/7112 [==============================] - ETA: 10s - loss: 0.8644 - acc: 0.70 - ETA: 11s - loss: 0.9612 - acc: 0.62 - ETA: 9s - loss: 1.0664 - acc: 0.4889 - ETA: 7s - loss: 1.0760 - acc: 0.480 - ETA: 6s - loss: 1.0389 - acc: 0.508 - ETA: 5s - loss: 1.0437 - acc: 0.509 - ETA: 5s - loss: 1.0299 - acc: 0.514 - ETA: 5s - loss: 1.0188 - acc: 0.518 - ETA: 4s - loss: 1.0259 - acc: 0.515 - ETA: 4s - loss: 1.0260 - acc: 0.514 - ETA: 4s - loss: 1.0156 - acc: 0.519 - ETA: 4s - loss: 1.0099 - acc: 0.522 - ETA: 4s - loss: 1.0122 - acc: 0.520 - ETA: 4s - loss: 1.0078 - acc: 0.523 - ETA: 4s - loss: 1.0055 - acc: 0.524 - ETA: 4s - loss: 1.0040 - acc: 0.525 - ETA: 4s - loss: 1.0057 - acc: 0.523 - ETA: 4s - loss: 1.0099 - acc: 0.519 - ETA: 4s - loss: 1.0085 - acc: 0.519 - ETA: 4s - loss: 1.0087 - acc: 0.515 - ETA: 4s - loss: 1.0092 - acc: 0.514 - ETA: 4s - loss: 1.0029 - acc: 0.521 - ETA: 3s - loss: 1.0016 - acc: 0.522 - ETA: 3s - loss: 1.0025 - acc: 0.521 - ETA: 3s - loss: 1.0042 - acc: 0.517 - ETA: 3s - loss: 1.0032 - acc: 0.516 - ETA: 3s - loss: 1.0041 - acc: 0.514 - ETA: 3s - loss: 1.0057 - acc: 0.516 - ETA: 3s - loss: 1.0062 - acc: 0.516 - ETA: 3s - loss: 1.0057 - acc: 0.518 - ETA: 3s - loss: 1.0036 - acc: 0.520 - ETA: 3s - loss: 1.0022 - acc: 0.520 - ETA: 2s - loss: 1.0014 - acc: 0.523 - ETA: 2s - loss: 1.0011 - acc: 0.522 - ETA: 2s - loss: 1.0022 - acc: 0.520 - ETA: 2s - loss: 1.0036 - acc: 0.518 - ETA: 2s - loss: 1.0062 - acc: 0.517 - ETA: 2s - loss: 1.0070 - acc: 0.515 - ETA: 2s - loss: 1.0073 - acc: 0.516 - ETA: 2s - loss: 1.0096 - acc: 0.512 - ETA: 2s - loss: 1.0096 - acc: 0.512 - ETA: 2s - loss: 1.0080 - acc: 0.514 - ETA: 2s - loss: 1.0062 - acc: 0.517 - ETA: 2s - loss: 1.0051 - acc: 0.517 - ETA: 2s - loss: 1.0042 - acc: 0.518 - ETA: 2s - loss: 1.0035 - acc: 0.519 - ETA: 2s - loss: 1.0038 - acc: 0.519 - ETA: 2s - loss: 1.0036 - acc: 0.519 - ETA: 2s - loss: 1.0025 - acc: 0.519 - ETA: 1s - loss: 1.0038 - acc: 0.518 - ETA: 1s - loss: 1.0011 - acc: 0.520 - ETA: 1s - loss: 1.0037 - acc: 0.517 - ETA: 1s - loss: 1.0025 - acc: 0.518 - ETA: 1s - loss: 1.0033 - acc: 0.517 - ETA: 1s - loss: 1.0019 - acc: 0.519 - ETA: 1s - loss: 1.0032 - acc: 0.516 - ETA: 1s - loss: 1.0022 - acc: 0.517 - ETA: 1s - loss: 1.0017 - acc: 0.517 - ETA: 1s - loss: 1.0005 - acc: 0.519 - ETA: 1s - loss: 1.0025 - acc: 0.517 - ETA: 1s - loss: 1.0012 - acc: 0.518 - ETA: 1s - loss: 0.9999 - acc: 0.519 - ETA: 1s - loss: 1.0003 - acc: 0.518 - ETA: 1s - loss: 1.0015 - acc: 0.516 - ETA: 1s - loss: 1.0014 - acc: 0.516 - ETA: 1s - loss: 1.0009 - acc: 0.516 - ETA: 0s - loss: 1.0011 - acc: 0.516 - ETA: 0s - loss: 0.9999 - acc: 0.517 - ETA: 0s - loss: 1.0001 - acc: 0.516 - ETA: 0s - loss: 0.9989 - acc: 0.517 - ETA: 0s - loss: 0.9981 - acc: 0.518 - ETA: 0s - loss: 0.9986 - acc: 0.518 - ETA: 0s - loss: 0.9988 - acc: 0.516 - ETA: 0s - loss: 0.9985 - acc: 0.517 - ETA: 0s - loss: 0.9999 - acc: 0.516 - ETA: 0s - loss: 1.0003 - acc: 0.516 - ETA: 0s - loss: 0.9992 - acc: 0.517 - ETA: 0s - loss: 0.9991 - acc: 0.517 - ETA: 0s - loss: 0.9996 - acc: 0.516 - ETA: 0s - loss: 0.9997 - acc: 0.517 - ETA: 0s - loss: 0.9988 - acc: 0.518 - ETA: 0s - loss: 0.9995 - acc: 0.518 - ETA: 0s - loss: 0.9997 - acc: 0.518 - ETA: 0s - loss: 1.0002 - acc: 0.517 - 5s 686us/sample - loss: 1.0001 - acc: 0.5170 - val_loss: 0.9819 - val_acc: 0.5279\n",
      "Epoch 3/10\n"
     ]
    },
    {
     "name": "stdout",
     "output_type": "stream",
     "text": [
      "7112/7112 [==============================] - ETA: 16s - loss: 1.1307 - acc: 0.20 - ETA: 7s - loss: 1.0646 - acc: 0.4143 - ETA: 7s - loss: 1.0511 - acc: 0.469 - ETA: 6s - loss: 1.0577 - acc: 0.450 - ETA: 5s - loss: 1.0307 - acc: 0.493 - ETA: 4s - loss: 1.0248 - acc: 0.492 - ETA: 4s - loss: 1.0188 - acc: 0.505 - ETA: 4s - loss: 1.0061 - acc: 0.516 - ETA: 4s - loss: 1.0012 - acc: 0.520 - ETA: 3s - loss: 1.0039 - acc: 0.520 - ETA: 3s - loss: 0.9971 - acc: 0.527 - ETA: 3s - loss: 0.9995 - acc: 0.525 - ETA: 3s - loss: 1.0002 - acc: 0.524 - ETA: 3s - loss: 0.9922 - acc: 0.530 - ETA: 3s - loss: 0.9942 - acc: 0.526 - ETA: 3s - loss: 0.9967 - acc: 0.521 - ETA: 3s - loss: 0.9996 - acc: 0.517 - ETA: 3s - loss: 0.9994 - acc: 0.517 - ETA: 3s - loss: 0.9985 - acc: 0.519 - ETA: 3s - loss: 0.9956 - acc: 0.519 - ETA: 3s - loss: 0.9968 - acc: 0.517 - ETA: 3s - loss: 1.0003 - acc: 0.516 - ETA: 3s - loss: 1.0007 - acc: 0.515 - ETA: 3s - loss: 0.9990 - acc: 0.514 - ETA: 2s - loss: 0.9985 - acc: 0.515 - ETA: 2s - loss: 0.9950 - acc: 0.517 - ETA: 2s - loss: 0.9973 - acc: 0.515 - ETA: 2s - loss: 0.9967 - acc: 0.517 - ETA: 2s - loss: 0.9966 - acc: 0.516 - ETA: 2s - loss: 0.9982 - acc: 0.515 - ETA: 2s - loss: 0.9980 - acc: 0.515 - ETA: 2s - loss: 0.9988 - acc: 0.513 - ETA: 2s - loss: 1.0007 - acc: 0.511 - ETA: 2s - loss: 1.0005 - acc: 0.511 - ETA: 2s - loss: 0.9997 - acc: 0.512 - ETA: 2s - loss: 0.9993 - acc: 0.514 - ETA: 2s - loss: 0.9962 - acc: 0.517 - ETA: 2s - loss: 0.9971 - acc: 0.516 - ETA: 2s - loss: 0.9972 - acc: 0.517 - ETA: 1s - loss: 0.9973 - acc: 0.515 - ETA: 1s - loss: 0.9982 - acc: 0.516 - ETA: 1s - loss: 0.9958 - acc: 0.518 - ETA: 1s - loss: 0.9920 - acc: 0.521 - ETA: 1s - loss: 0.9912 - acc: 0.521 - ETA: 1s - loss: 0.9901 - acc: 0.523 - ETA: 1s - loss: 0.9910 - acc: 0.523 - ETA: 1s - loss: 0.9918 - acc: 0.523 - ETA: 1s - loss: 0.9929 - acc: 0.521 - ETA: 1s - loss: 0.9921 - acc: 0.522 - ETA: 1s - loss: 0.9937 - acc: 0.522 - ETA: 1s - loss: 0.9942 - acc: 0.520 - ETA: 1s - loss: 0.9956 - acc: 0.520 - ETA: 1s - loss: 0.9959 - acc: 0.520 - ETA: 0s - loss: 0.9956 - acc: 0.520 - ETA: 0s - loss: 0.9945 - acc: 0.521 - ETA: 0s - loss: 0.9947 - acc: 0.520 - ETA: 0s - loss: 0.9950 - acc: 0.520 - ETA: 0s - loss: 0.9940 - acc: 0.520 - ETA: 0s - loss: 0.9955 - acc: 0.521 - ETA: 0s - loss: 0.9949 - acc: 0.521 - ETA: 0s - loss: 0.9948 - acc: 0.521 - ETA: 0s - loss: 0.9952 - acc: 0.521 - ETA: 0s - loss: 0.9941 - acc: 0.522 - ETA: 0s - loss: 0.9936 - acc: 0.522 - ETA: 0s - loss: 0.9935 - acc: 0.522 - ETA: 0s - loss: 0.9931 - acc: 0.521 - ETA: 0s - loss: 0.9936 - acc: 0.521 - ETA: 0s - loss: 0.9939 - acc: 0.522 - ETA: 0s - loss: 0.9934 - acc: 0.522 - ETA: 0s - loss: 0.9933 - acc: 0.523 - ETA: 0s - loss: 0.9920 - acc: 0.523 - ETA: 0s - loss: 0.9911 - acc: 0.524 - 4s 594us/sample - loss: 0.9912 - acc: 0.5243 - val_loss: 0.9939 - val_acc: 0.5322\n",
      "Epoch 4/10\n",
      "7112/7112 [==============================] - ETA: 2s - loss: 0.8830 - acc: 0.500 - ETA: 2s - loss: 0.9809 - acc: 0.533 - ETA: 2s - loss: 0.9997 - acc: 0.523 - ETA: 2s - loss: 0.9896 - acc: 0.530 - ETA: 2s - loss: 0.9962 - acc: 0.523 - ETA: 2s - loss: 0.9928 - acc: 0.532 - ETA: 2s - loss: 0.9946 - acc: 0.529 - ETA: 2s - loss: 0.9910 - acc: 0.535 - ETA: 2s - loss: 0.9880 - acc: 0.538 - ETA: 2s - loss: 0.9899 - acc: 0.533 - ETA: 2s - loss: 0.9838 - acc: 0.536 - ETA: 2s - loss: 0.9881 - acc: 0.529 - ETA: 2s - loss: 0.9842 - acc: 0.533 - ETA: 2s - loss: 0.9806 - acc: 0.537 - ETA: 2s - loss: 0.9833 - acc: 0.535 - ETA: 2s - loss: 0.9828 - acc: 0.538 - ETA: 2s - loss: 0.9840 - acc: 0.535 - ETA: 2s - loss: 0.9843 - acc: 0.533 - ETA: 2s - loss: 0.9873 - acc: 0.529 - ETA: 2s - loss: 0.9866 - acc: 0.528 - ETA: 2s - loss: 0.9852 - acc: 0.529 - ETA: 2s - loss: 0.9879 - acc: 0.526 - ETA: 1s - loss: 0.9861 - acc: 0.527 - ETA: 1s - loss: 0.9860 - acc: 0.528 - ETA: 1s - loss: 0.9843 - acc: 0.530 - ETA: 1s - loss: 0.9852 - acc: 0.529 - ETA: 1s - loss: 0.9860 - acc: 0.528 - ETA: 1s - loss: 0.9851 - acc: 0.529 - ETA: 1s - loss: 0.9853 - acc: 0.529 - ETA: 1s - loss: 0.9843 - acc: 0.530 - ETA: 1s - loss: 0.9858 - acc: 0.529 - ETA: 1s - loss: 0.9864 - acc: 0.529 - ETA: 1s - loss: 0.9868 - acc: 0.529 - ETA: 1s - loss: 0.9870 - acc: 0.531 - ETA: 1s - loss: 0.9888 - acc: 0.530 - ETA: 1s - loss: 0.9885 - acc: 0.529 - ETA: 1s - loss: 0.9889 - acc: 0.529 - ETA: 1s - loss: 0.9897 - acc: 0.529 - ETA: 1s - loss: 0.9862 - acc: 0.532 - ETA: 1s - loss: 0.9862 - acc: 0.532 - ETA: 1s - loss: 0.9859 - acc: 0.531 - ETA: 1s - loss: 0.9859 - acc: 0.531 - ETA: 1s - loss: 0.9842 - acc: 0.532 - ETA: 1s - loss: 0.9863 - acc: 0.531 - ETA: 1s - loss: 0.9862 - acc: 0.530 - ETA: 0s - loss: 0.9860 - acc: 0.531 - ETA: 0s - loss: 0.9864 - acc: 0.530 - ETA: 0s - loss: 0.9854 - acc: 0.531 - ETA: 0s - loss: 0.9851 - acc: 0.531 - ETA: 0s - loss: 0.9852 - acc: 0.531 - ETA: 0s - loss: 0.9862 - acc: 0.530 - ETA: 0s - loss: 0.9876 - acc: 0.529 - ETA: 0s - loss: 0.9877 - acc: 0.528 - ETA: 0s - loss: 0.9876 - acc: 0.529 - ETA: 0s - loss: 0.9873 - acc: 0.529 - ETA: 0s - loss: 0.9867 - acc: 0.530 - ETA: 0s - loss: 0.9883 - acc: 0.529 - ETA: 0s - loss: 0.9876 - acc: 0.529 - ETA: 0s - loss: 0.9894 - acc: 0.528 - ETA: 0s - loss: 0.9898 - acc: 0.528 - ETA: 0s - loss: 0.9906 - acc: 0.526 - ETA: 0s - loss: 0.9912 - acc: 0.526 - ETA: 0s - loss: 0.9915 - acc: 0.526 - ETA: 0s - loss: 0.9916 - acc: 0.525 - ETA: 0s - loss: 0.9915 - acc: 0.526 - ETA: 0s - loss: 0.9911 - acc: 0.526 - 4s 543us/sample - loss: 0.9908 - acc: 0.5270 - val_loss: 0.9728 - val_acc: 0.5334\n",
      "Epoch 5/10\n",
      "7112/7112 [==============================] - ETA: 2s - loss: 1.0345 - acc: 0.600 - ETA: 3s - loss: 0.9715 - acc: 0.541 - ETA: 3s - loss: 1.0124 - acc: 0.504 - ETA: 3s - loss: 1.0218 - acc: 0.490 - ETA: 3s - loss: 1.0062 - acc: 0.504 - ETA: 3s - loss: 1.0174 - acc: 0.496 - ETA: 3s - loss: 1.0150 - acc: 0.501 - ETA: 3s - loss: 1.0104 - acc: 0.502 - ETA: 3s - loss: 1.0009 - acc: 0.514 - ETA: 3s - loss: 1.0034 - acc: 0.508 - ETA: 2s - loss: 0.9934 - acc: 0.518 - ETA: 2s - loss: 0.9918 - acc: 0.522 - ETA: 2s - loss: 0.9877 - acc: 0.525 - ETA: 2s - loss: 0.9861 - acc: 0.527 - ETA: 2s - loss: 0.9903 - acc: 0.522 - ETA: 2s - loss: 0.9896 - acc: 0.524 - ETA: 2s - loss: 0.9930 - acc: 0.521 - ETA: 2s - loss: 0.9960 - acc: 0.518 - ETA: 2s - loss: 0.9942 - acc: 0.518 - ETA: 2s - loss: 0.9924 - acc: 0.519 - ETA: 2s - loss: 0.9922 - acc: 0.519 - ETA: 2s - loss: 0.9937 - acc: 0.516 - ETA: 2s - loss: 0.9894 - acc: 0.520 - ETA: 2s - loss: 0.9901 - acc: 0.519 - ETA: 1s - loss: 0.9922 - acc: 0.516 - ETA: 1s - loss: 0.9918 - acc: 0.516 - ETA: 1s - loss: 0.9940 - acc: 0.513 - ETA: 1s - loss: 0.9929 - acc: 0.515 - ETA: 1s - loss: 0.9921 - acc: 0.515 - ETA: 1s - loss: 0.9920 - acc: 0.516 - ETA: 1s - loss: 0.9898 - acc: 0.518 - ETA: 1s - loss: 0.9909 - acc: 0.518 - ETA: 1s - loss: 0.9931 - acc: 0.516 - ETA: 1s - loss: 0.9930 - acc: 0.516 - ETA: 1s - loss: 0.9947 - acc: 0.515 - ETA: 1s - loss: 0.9935 - acc: 0.516 - ETA: 1s - loss: 0.9927 - acc: 0.517 - ETA: 1s - loss: 0.9915 - acc: 0.518 - ETA: 1s - loss: 0.9931 - acc: 0.517 - ETA: 1s - loss: 0.9931 - acc: 0.519 - ETA: 0s - loss: 0.9917 - acc: 0.519 - ETA: 0s - loss: 0.9933 - acc: 0.518 - ETA: 0s - loss: 0.9935 - acc: 0.518 - ETA: 0s - loss: 0.9933 - acc: 0.519 - ETA: 0s - loss: 0.9922 - acc: 0.520 - ETA: 0s - loss: 0.9920 - acc: 0.520 - ETA: 0s - loss: 0.9912 - acc: 0.520 - ETA: 0s - loss: 0.9910 - acc: 0.519 - ETA: 0s - loss: 0.9915 - acc: 0.518 - ETA: 0s - loss: 0.9911 - acc: 0.519 - ETA: 0s - loss: 0.9905 - acc: 0.519 - ETA: 0s - loss: 0.9909 - acc: 0.519 - ETA: 0s - loss: 0.9909 - acc: 0.519 - ETA: 0s - loss: 0.9900 - acc: 0.520 - ETA: 0s - loss: 0.9898 - acc: 0.520 - ETA: 0s - loss: 0.9893 - acc: 0.521 - ETA: 0s - loss: 0.9884 - acc: 0.521 - ETA: 0s - loss: 0.9887 - acc: 0.522 - ETA: 0s - loss: 0.9889 - acc: 0.522 - ETA: 0s - loss: 0.9883 - acc: 0.522 - ETA: 0s - loss: 0.9886 - acc: 0.521 - ETA: 0s - loss: 0.9888 - acc: 0.522 - 4s 499us/sample - loss: 0.9888 - acc: 0.5221 - val_loss: 0.9711 - val_acc: 0.5330\n",
      "Epoch 6/10\n"
     ]
    },
    {
     "name": "stdout",
     "output_type": "stream",
     "text": [
      "7112/7112 [==============================] - ETA: 3s - loss: 0.9906 - acc: 0.500 - ETA: 4s - loss: 0.9526 - acc: 0.540 - ETA: 4s - loss: 0.9695 - acc: 0.512 - ETA: 4s - loss: 0.9807 - acc: 0.526 - ETA: 4s - loss: 0.9891 - acc: 0.528 - ETA: 4s - loss: 0.9815 - acc: 0.531 - ETA: 4s - loss: 0.9977 - acc: 0.516 - ETA: 3s - loss: 0.9933 - acc: 0.510 - ETA: 3s - loss: 0.9861 - acc: 0.513 - ETA: 3s - loss: 0.9995 - acc: 0.505 - ETA: 2s - loss: 0.9935 - acc: 0.511 - ETA: 2s - loss: 0.9907 - acc: 0.518 - ETA: 2s - loss: 0.9903 - acc: 0.515 - ETA: 2s - loss: 0.9914 - acc: 0.517 - ETA: 2s - loss: 0.9864 - acc: 0.522 - ETA: 2s - loss: 0.9867 - acc: 0.520 - ETA: 2s - loss: 0.9861 - acc: 0.521 - ETA: 2s - loss: 0.9842 - acc: 0.526 - ETA: 2s - loss: 0.9841 - acc: 0.530 - ETA: 2s - loss: 0.9826 - acc: 0.530 - ETA: 2s - loss: 0.9834 - acc: 0.531 - ETA: 1s - loss: 0.9814 - acc: 0.532 - ETA: 1s - loss: 0.9815 - acc: 0.533 - ETA: 1s - loss: 0.9817 - acc: 0.533 - ETA: 1s - loss: 0.9807 - acc: 0.533 - ETA: 1s - loss: 0.9813 - acc: 0.533 - ETA: 1s - loss: 0.9808 - acc: 0.533 - ETA: 1s - loss: 0.9819 - acc: 0.531 - ETA: 1s - loss: 0.9839 - acc: 0.529 - ETA: 1s - loss: 0.9794 - acc: 0.533 - ETA: 1s - loss: 0.9810 - acc: 0.532 - ETA: 1s - loss: 0.9810 - acc: 0.532 - ETA: 1s - loss: 0.9800 - acc: 0.533 - ETA: 1s - loss: 0.9802 - acc: 0.534 - ETA: 1s - loss: 0.9822 - acc: 0.531 - ETA: 1s - loss: 0.9830 - acc: 0.530 - ETA: 1s - loss: 0.9851 - acc: 0.528 - ETA: 1s - loss: 0.9851 - acc: 0.528 - ETA: 1s - loss: 0.9864 - acc: 0.526 - ETA: 0s - loss: 0.9863 - acc: 0.526 - ETA: 0s - loss: 0.9849 - acc: 0.528 - ETA: 0s - loss: 0.9847 - acc: 0.528 - ETA: 0s - loss: 0.9856 - acc: 0.527 - ETA: 0s - loss: 0.9852 - acc: 0.528 - ETA: 0s - loss: 0.9848 - acc: 0.529 - ETA: 0s - loss: 0.9847 - acc: 0.529 - ETA: 0s - loss: 0.9858 - acc: 0.527 - ETA: 0s - loss: 0.9855 - acc: 0.528 - ETA: 0s - loss: 0.9858 - acc: 0.528 - ETA: 0s - loss: 0.9857 - acc: 0.528 - ETA: 0s - loss: 0.9861 - acc: 0.527 - ETA: 0s - loss: 0.9856 - acc: 0.527 - ETA: 0s - loss: 0.9857 - acc: 0.527 - ETA: 0s - loss: 0.9876 - acc: 0.525 - ETA: 0s - loss: 0.9880 - acc: 0.525 - ETA: 0s - loss: 0.9877 - acc: 0.526 - ETA: 0s - loss: 0.9871 - acc: 0.526 - ETA: 0s - loss: 0.9878 - acc: 0.525 - ETA: 0s - loss: 0.9866 - acc: 0.526 - ETA: 0s - loss: 0.9863 - acc: 0.527 - ETA: 0s - loss: 0.9877 - acc: 0.526 - 4s 516us/sample - loss: 0.9879 - acc: 0.5267 - val_loss: 0.9732 - val_acc: 0.5300\n",
      "Epoch 7/10\n",
      "7112/7112 [==============================] - ETA: 11s - loss: 0.9014 - acc: 0.60 - ETA: 9s - loss: 0.9152 - acc: 0.6200 - ETA: 6s - loss: 0.9171 - acc: 0.615 - ETA: 5s - loss: 0.9870 - acc: 0.530 - ETA: 5s - loss: 0.9917 - acc: 0.525 - ETA: 5s - loss: 0.9962 - acc: 0.529 - ETA: 4s - loss: 0.9913 - acc: 0.530 - ETA: 4s - loss: 0.9811 - acc: 0.544 - ETA: 4s - loss: 0.9926 - acc: 0.537 - ETA: 3s - loss: 0.9901 - acc: 0.527 - ETA: 3s - loss: 0.9854 - acc: 0.533 - ETA: 3s - loss: 0.9881 - acc: 0.533 - ETA: 3s - loss: 0.9913 - acc: 0.527 - ETA: 3s - loss: 0.9904 - acc: 0.527 - ETA: 3s - loss: 0.9877 - acc: 0.530 - ETA: 3s - loss: 0.9843 - acc: 0.535 - ETA: 3s - loss: 0.9880 - acc: 0.532 - ETA: 3s - loss: 0.9891 - acc: 0.532 - ETA: 3s - loss: 0.9887 - acc: 0.528 - ETA: 3s - loss: 0.9865 - acc: 0.530 - ETA: 2s - loss: 0.9911 - acc: 0.525 - ETA: 2s - loss: 0.9922 - acc: 0.523 - ETA: 2s - loss: 0.9944 - acc: 0.520 - ETA: 2s - loss: 0.9959 - acc: 0.518 - ETA: 2s - loss: 0.9947 - acc: 0.520 - ETA: 2s - loss: 0.9891 - acc: 0.525 - ETA: 2s - loss: 0.9910 - acc: 0.523 - ETA: 2s - loss: 0.9903 - acc: 0.523 - ETA: 2s - loss: 0.9921 - acc: 0.521 - ETA: 2s - loss: 0.9903 - acc: 0.524 - ETA: 2s - loss: 0.9904 - acc: 0.524 - ETA: 2s - loss: 0.9917 - acc: 0.521 - ETA: 2s - loss: 0.9925 - acc: 0.520 - ETA: 2s - loss: 0.9926 - acc: 0.520 - ETA: 2s - loss: 0.9937 - acc: 0.518 - ETA: 2s - loss: 0.9956 - acc: 0.516 - ETA: 2s - loss: 0.9954 - acc: 0.516 - ETA: 2s - loss: 0.9950 - acc: 0.516 - ETA: 2s - loss: 0.9945 - acc: 0.518 - ETA: 1s - loss: 0.9930 - acc: 0.519 - ETA: 1s - loss: 0.9914 - acc: 0.519 - ETA: 1s - loss: 0.9901 - acc: 0.520 - ETA: 1s - loss: 0.9914 - acc: 0.518 - ETA: 1s - loss: 0.9884 - acc: 0.521 - ETA: 1s - loss: 0.9889 - acc: 0.521 - ETA: 1s - loss: 0.9895 - acc: 0.520 - ETA: 1s - loss: 0.9898 - acc: 0.521 - ETA: 1s - loss: 0.9877 - acc: 0.522 - ETA: 1s - loss: 0.9877 - acc: 0.521 - ETA: 1s - loss: 0.9870 - acc: 0.522 - ETA: 1s - loss: 0.9843 - acc: 0.524 - ETA: 1s - loss: 0.9848 - acc: 0.524 - ETA: 1s - loss: 0.9854 - acc: 0.523 - ETA: 1s - loss: 0.9846 - acc: 0.524 - ETA: 1s - loss: 0.9846 - acc: 0.524 - ETA: 1s - loss: 0.9858 - acc: 0.523 - ETA: 0s - loss: 0.9862 - acc: 0.523 - ETA: 0s - loss: 0.9850 - acc: 0.524 - ETA: 0s - loss: 0.9853 - acc: 0.525 - ETA: 0s - loss: 0.9860 - acc: 0.525 - ETA: 0s - loss: 0.9859 - acc: 0.526 - ETA: 0s - loss: 0.9858 - acc: 0.526 - ETA: 0s - loss: 0.9869 - acc: 0.525 - ETA: 0s - loss: 0.9874 - acc: 0.525 - ETA: 0s - loss: 0.9875 - acc: 0.525 - ETA: 0s - loss: 0.9881 - acc: 0.524 - ETA: 0s - loss: 0.9889 - acc: 0.523 - ETA: 0s - loss: 0.9888 - acc: 0.522 - ETA: 0s - loss: 0.9881 - acc: 0.523 - ETA: 0s - loss: 0.9876 - acc: 0.524 - ETA: 0s - loss: 0.9868 - acc: 0.525 - ETA: 0s - loss: 0.9870 - acc: 0.525 - ETA: 0s - loss: 0.9861 - acc: 0.525 - ETA: 0s - loss: 0.9863 - acc: 0.525 - ETA: 0s - loss: 0.9872 - acc: 0.524 - 5s 637us/sample - loss: 0.9874 - acc: 0.5243 - val_loss: 0.9880 - val_acc: 0.5279\n",
      "Epoch 8/10\n"
     ]
    },
    {
     "name": "stdout",
     "output_type": "stream",
     "text": [
      "7112/7112 [==============================] - ETA: 4s - loss: 0.9794 - acc: 0.400 - ETA: 2s - loss: 0.9486 - acc: 0.531 - ETA: 2s - loss: 0.9582 - acc: 0.526 - ETA: 2s - loss: 0.9501 - acc: 0.554 - ETA: 2s - loss: 0.9837 - acc: 0.519 - ETA: 2s - loss: 0.9965 - acc: 0.501 - ETA: 2s - loss: 1.0014 - acc: 0.501 - ETA: 2s - loss: 0.9912 - acc: 0.517 - ETA: 2s - loss: 0.9961 - acc: 0.514 - ETA: 2s - loss: 0.9939 - acc: 0.518 - ETA: 2s - loss: 0.9952 - acc: 0.516 - ETA: 2s - loss: 0.9930 - acc: 0.516 - ETA: 2s - loss: 0.9893 - acc: 0.520 - ETA: 2s - loss: 0.9869 - acc: 0.518 - ETA: 2s - loss: 0.9863 - acc: 0.519 - ETA: 2s - loss: 0.9834 - acc: 0.523 - ETA: 2s - loss: 0.9847 - acc: 0.522 - ETA: 2s - loss: 0.9857 - acc: 0.521 - ETA: 2s - loss: 0.9826 - acc: 0.524 - ETA: 2s - loss: 0.9848 - acc: 0.522 - ETA: 2s - loss: 0.9860 - acc: 0.522 - ETA: 2s - loss: 0.9833 - acc: 0.525 - ETA: 2s - loss: 0.9838 - acc: 0.524 - ETA: 2s - loss: 0.9847 - acc: 0.521 - ETA: 2s - loss: 0.9854 - acc: 0.520 - ETA: 2s - loss: 0.9862 - acc: 0.522 - ETA: 2s - loss: 0.9885 - acc: 0.521 - ETA: 2s - loss: 0.9896 - acc: 0.520 - ETA: 2s - loss: 0.9867 - acc: 0.523 - ETA: 2s - loss: 0.9842 - acc: 0.526 - ETA: 2s - loss: 0.9811 - acc: 0.529 - ETA: 2s - loss: 0.9826 - acc: 0.527 - ETA: 2s - loss: 0.9810 - acc: 0.528 - ETA: 2s - loss: 0.9787 - acc: 0.530 - ETA: 1s - loss: 0.9782 - acc: 0.532 - ETA: 1s - loss: 0.9787 - acc: 0.531 - ETA: 1s - loss: 0.9761 - acc: 0.533 - ETA: 1s - loss: 0.9740 - acc: 0.536 - ETA: 1s - loss: 0.9741 - acc: 0.535 - ETA: 1s - loss: 0.9766 - acc: 0.533 - ETA: 1s - loss: 0.9781 - acc: 0.532 - ETA: 1s - loss: 0.9801 - acc: 0.530 - ETA: 1s - loss: 0.9798 - acc: 0.530 - ETA: 1s - loss: 0.9806 - acc: 0.529 - ETA: 1s - loss: 0.9822 - acc: 0.530 - ETA: 1s - loss: 0.9821 - acc: 0.530 - ETA: 1s - loss: 0.9811 - acc: 0.532 - ETA: 1s - loss: 0.9786 - acc: 0.534 - ETA: 1s - loss: 0.9807 - acc: 0.533 - ETA: 1s - loss: 0.9820 - acc: 0.531 - ETA: 1s - loss: 0.9822 - acc: 0.531 - ETA: 1s - loss: 0.9835 - acc: 0.529 - ETA: 0s - loss: 0.9834 - acc: 0.529 - ETA: 0s - loss: 0.9840 - acc: 0.529 - ETA: 0s - loss: 0.9838 - acc: 0.529 - ETA: 0s - loss: 0.9833 - acc: 0.530 - ETA: 0s - loss: 0.9834 - acc: 0.530 - ETA: 0s - loss: 0.9816 - acc: 0.532 - ETA: 0s - loss: 0.9829 - acc: 0.531 - ETA: 0s - loss: 0.9844 - acc: 0.529 - ETA: 0s - loss: 0.9847 - acc: 0.529 - ETA: 0s - loss: 0.9850 - acc: 0.528 - ETA: 0s - loss: 0.9852 - acc: 0.528 - ETA: 0s - loss: 0.9842 - acc: 0.530 - ETA: 0s - loss: 0.9846 - acc: 0.529 - ETA: 0s - loss: 0.9852 - acc: 0.529 - ETA: 0s - loss: 0.9861 - acc: 0.528 - ETA: 0s - loss: 0.9859 - acc: 0.529 - ETA: 0s - loss: 0.9856 - acc: 0.530 - ETA: 0s - loss: 0.9855 - acc: 0.530 - ETA: 0s - loss: 0.9856 - acc: 0.529 - ETA: 0s - loss: 0.9852 - acc: 0.529 - ETA: 0s - loss: 0.9852 - acc: 0.529 - 4s 582us/sample - loss: 0.9860 - acc: 0.5284 - val_loss: 0.9793 - val_acc: 0.5287\n",
      "Epoch 9/10\n",
      "7112/7112 [==============================] - ETA: 5s - loss: 0.8332 - acc: 0.700 - ETA: 5s - loss: 1.0168 - acc: 0.525 - ETA: 3s - loss: 1.0519 - acc: 0.476 - ETA: 3s - loss: 1.0222 - acc: 0.500 - ETA: 2s - loss: 1.0118 - acc: 0.501 - ETA: 2s - loss: 1.0012 - acc: 0.505 - ETA: 2s - loss: 0.9900 - acc: 0.522 - ETA: 1s - loss: 0.9838 - acc: 0.523 - ETA: 1s - loss: 0.9890 - acc: 0.522 - ETA: 1s - loss: 0.9904 - acc: 0.525 - ETA: 1s - loss: 0.9861 - acc: 0.525 - ETA: 1s - loss: 0.9861 - acc: 0.528 - ETA: 1s - loss: 0.9865 - acc: 0.527 - ETA: 1s - loss: 0.9818 - acc: 0.533 - ETA: 1s - loss: 0.9827 - acc: 0.532 - ETA: 1s - loss: 0.9847 - acc: 0.530 - ETA: 1s - loss: 0.9846 - acc: 0.531 - ETA: 1s - loss: 0.9833 - acc: 0.529 - ETA: 1s - loss: 0.9853 - acc: 0.528 - ETA: 1s - loss: 0.9838 - acc: 0.528 - ETA: 1s - loss: 0.9839 - acc: 0.528 - ETA: 1s - loss: 0.9806 - acc: 0.532 - ETA: 1s - loss: 0.9804 - acc: 0.534 - ETA: 0s - loss: 0.9791 - acc: 0.534 - ETA: 0s - loss: 0.9830 - acc: 0.530 - ETA: 0s - loss: 0.9813 - acc: 0.531 - ETA: 0s - loss: 0.9794 - acc: 0.534 - ETA: 0s - loss: 0.9802 - acc: 0.532 - ETA: 0s - loss: 0.9827 - acc: 0.530 - ETA: 0s - loss: 0.9815 - acc: 0.531 - ETA: 0s - loss: 0.9806 - acc: 0.531 - ETA: 0s - loss: 0.9831 - acc: 0.529 - ETA: 0s - loss: 0.9837 - acc: 0.529 - ETA: 0s - loss: 0.9848 - acc: 0.528 - ETA: 0s - loss: 0.9853 - acc: 0.528 - ETA: 0s - loss: 0.9885 - acc: 0.525 - ETA: 0s - loss: 0.9887 - acc: 0.525 - ETA: 0s - loss: 0.9881 - acc: 0.525 - 2s 322us/sample - loss: 0.9875 - acc: 0.5267 - val_loss: 0.9761 - val_acc: 0.5317\n",
      "Epoch 10/10\n",
      "7112/7112 [==============================] - ETA: 2s - loss: 1.2846 - acc: 0.300 - ETA: 1s - loss: 1.0418 - acc: 0.460 - ETA: 1s - loss: 1.0215 - acc: 0.479 - ETA: 1s - loss: 1.0173 - acc: 0.481 - ETA: 1s - loss: 1.0039 - acc: 0.500 - ETA: 1s - loss: 1.0058 - acc: 0.500 - ETA: 1s - loss: 1.0064 - acc: 0.501 - ETA: 1s - loss: 1.0022 - acc: 0.507 - ETA: 1s - loss: 1.0013 - acc: 0.506 - ETA: 1s - loss: 1.0001 - acc: 0.509 - ETA: 1s - loss: 1.0012 - acc: 0.510 - ETA: 1s - loss: 0.9965 - acc: 0.512 - ETA: 1s - loss: 0.9973 - acc: 0.510 - ETA: 1s - loss: 0.9901 - acc: 0.514 - ETA: 0s - loss: 0.9928 - acc: 0.512 - ETA: 0s - loss: 0.9905 - acc: 0.514 - ETA: 0s - loss: 0.9908 - acc: 0.514 - ETA: 0s - loss: 0.9898 - acc: 0.514 - ETA: 0s - loss: 0.9900 - acc: 0.516 - ETA: 0s - loss: 0.9879 - acc: 0.519 - ETA: 0s - loss: 0.9854 - acc: 0.522 - ETA: 0s - loss: 0.9854 - acc: 0.523 - ETA: 0s - loss: 0.9859 - acc: 0.522 - ETA: 0s - loss: 0.9825 - acc: 0.527 - ETA: 0s - loss: 0.9844 - acc: 0.525 - ETA: 0s - loss: 0.9844 - acc: 0.524 - ETA: 0s - loss: 0.9840 - acc: 0.525 - ETA: 0s - loss: 0.9838 - acc: 0.525 - ETA: 0s - loss: 0.9834 - acc: 0.525 - ETA: 0s - loss: 0.9836 - acc: 0.525 - ETA: 0s - loss: 0.9824 - acc: 0.526 - ETA: 0s - loss: 0.9846 - acc: 0.524 - 2s 280us/sample - loss: 0.9846 - acc: 0.5246 - val_loss: 0.9748 - val_acc: 0.5317\n"
     ]
    },
    {
     "data": {
      "text/html": [
       "<span style=\"color:#4527A0\"><h1 style=\"font-size:18px\">Trial complete</h1></span>"
      ],
      "text/plain": [
       "<IPython.core.display.HTML object>"
      ]
     },
     "metadata": {},
     "output_type": "display_data"
    },
    {
     "data": {
      "text/html": [
       "<span style=\"color:#4527A0\"><h1 style=\"font-size:18px\">Trial summary</h1></span>"
      ],
      "text/plain": [
       "<IPython.core.display.HTML object>"
      ]
     },
     "metadata": {},
     "output_type": "display_data"
    },
    {
     "data": {
      "text/html": [
       "<span style=\"color:cyan\"> |-Trial ID: 26ed09f8c9f21b73e024fec9c972ff88</span>"
      ],
      "text/plain": [
       "<IPython.core.display.HTML object>"
      ]
     },
     "metadata": {},
     "output_type": "display_data"
    },
    {
     "data": {
      "text/html": [
       "<span style=\"color:cyan\"> |-Score: 0.5334476828575134</span>"
      ],
      "text/plain": [
       "<IPython.core.display.HTML object>"
      ]
     },
     "metadata": {},
     "output_type": "display_data"
    },
    {
     "data": {
      "text/html": [
       "<span style=\"color:cyan\"> |-Best step: 0</span>"
      ],
      "text/plain": [
       "<IPython.core.display.HTML object>"
      ]
     },
     "metadata": {},
     "output_type": "display_data"
    },
    {
     "data": {
      "text/html": [
       "<span style=\"color:#7E57C2\"><h2 style=\"font-size:16px\">Hyperparameters:</h2></span>"
      ],
      "text/plain": [
       "<IPython.core.display.HTML object>"
      ]
     },
     "metadata": {},
     "output_type": "display_data"
    },
    {
     "data": {
      "text/html": [
       "<span style=\"color:cyan\"> |-layer_0_neurons: 130</span>"
      ],
      "text/plain": [
       "<IPython.core.display.HTML object>"
      ]
     },
     "metadata": {},
     "output_type": "display_data"
    },
    {
     "data": {
      "text/html": [
       "<span style=\"color:blue\"> |-layer_1_neurons: 10</span>"
      ],
      "text/plain": [
       "<IPython.core.display.HTML object>"
      ]
     },
     "metadata": {},
     "output_type": "display_data"
    },
    {
     "data": {
      "text/html": [
       "<span style=\"color:cyan\"> |-layer_2_neurons: 50</span>"
      ],
      "text/plain": [
       "<IPython.core.display.HTML object>"
      ]
     },
     "metadata": {},
     "output_type": "display_data"
    },
    {
     "data": {
      "text/html": [
       "<span style=\"color:blue\"> |-layer_3_neurons: 50</span>"
      ],
      "text/plain": [
       "<IPython.core.display.HTML object>"
      ]
     },
     "metadata": {},
     "output_type": "display_data"
    },
    {
     "data": {
      "text/html": [
       "<span style=\"color:cyan\"> |-n_input_neurons: 50</span>"
      ],
      "text/plain": [
       "<IPython.core.display.HTML object>"
      ]
     },
     "metadata": {},
     "output_type": "display_data"
    },
    {
     "data": {
      "text/html": [
       "<span style=\"color:blue\"> |-n_layers: 2</span>"
      ],
      "text/plain": [
       "<IPython.core.display.HTML object>"
      ]
     },
     "metadata": {},
     "output_type": "display_data"
    },
    {
     "name": "stdout",
     "output_type": "stream",
     "text": [
      "Train on 7112 samples, validate on 2332 samples\n",
      "Epoch 1/10\n",
      "7112/7112 [==============================] - ETA: 6:11 - loss: 1.1009 - acc: 0.500 - ETA: 1:07 - loss: 1.0805 - acc: 0.450 - ETA: 43s - loss: 1.0996 - acc: 0.420 - ETA: 29s - loss: 1.1082 - acc: 0.40 - ETA: 25s - loss: 1.1016 - acc: 0.40 - ETA: 21s - loss: 1.0937 - acc: 0.42 - ETA: 18s - loss: 1.0812 - acc: 0.45 - ETA: 16s - loss: 1.0704 - acc: 0.45 - ETA: 14s - loss: 1.0635 - acc: 0.46 - ETA: 12s - loss: 1.0688 - acc: 0.46 - ETA: 11s - loss: 1.0614 - acc: 0.46 - ETA: 10s - loss: 1.0571 - acc: 0.47 - ETA: 9s - loss: 1.0519 - acc: 0.4766 - ETA: 9s - loss: 1.0548 - acc: 0.476 - ETA: 8s - loss: 1.0499 - acc: 0.479 - ETA: 8s - loss: 1.0541 - acc: 0.474 - ETA: 8s - loss: 1.0514 - acc: 0.479 - ETA: 8s - loss: 1.0458 - acc: 0.484 - ETA: 7s - loss: 1.0439 - acc: 0.487 - ETA: 7s - loss: 1.0428 - acc: 0.487 - ETA: 7s - loss: 1.0419 - acc: 0.485 - ETA: 6s - loss: 1.0372 - acc: 0.486 - ETA: 6s - loss: 1.0387 - acc: 0.485 - ETA: 6s - loss: 1.0448 - acc: 0.485 - ETA: 6s - loss: 1.0477 - acc: 0.480 - ETA: 6s - loss: 1.0483 - acc: 0.481 - ETA: 6s - loss: 1.0483 - acc: 0.481 - ETA: 6s - loss: 1.0452 - acc: 0.486 - ETA: 5s - loss: 1.0447 - acc: 0.489 - ETA: 5s - loss: 1.0425 - acc: 0.490 - ETA: 5s - loss: 1.0415 - acc: 0.489 - ETA: 5s - loss: 1.0399 - acc: 0.492 - ETA: 5s - loss: 1.0383 - acc: 0.492 - ETA: 5s - loss: 1.0339 - acc: 0.495 - ETA: 4s - loss: 1.0327 - acc: 0.497 - ETA: 4s - loss: 1.0343 - acc: 0.496 - ETA: 4s - loss: 1.0315 - acc: 0.498 - ETA: 4s - loss: 1.0307 - acc: 0.498 - ETA: 4s - loss: 1.0301 - acc: 0.497 - ETA: 4s - loss: 1.0275 - acc: 0.498 - ETA: 4s - loss: 1.0268 - acc: 0.499 - ETA: 3s - loss: 1.0268 - acc: 0.499 - ETA: 3s - loss: 1.0274 - acc: 0.497 - ETA: 3s - loss: 1.0281 - acc: 0.496 - ETA: 3s - loss: 1.0266 - acc: 0.496 - ETA: 3s - loss: 1.0241 - acc: 0.500 - ETA: 3s - loss: 1.0253 - acc: 0.499 - ETA: 3s - loss: 1.0232 - acc: 0.501 - ETA: 3s - loss: 1.0217 - acc: 0.502 - ETA: 3s - loss: 1.0213 - acc: 0.502 - ETA: 3s - loss: 1.0213 - acc: 0.501 - ETA: 2s - loss: 1.0233 - acc: 0.499 - ETA: 2s - loss: 1.0252 - acc: 0.497 - ETA: 2s - loss: 1.0253 - acc: 0.498 - ETA: 2s - loss: 1.0243 - acc: 0.502 - ETA: 2s - loss: 1.0231 - acc: 0.502 - ETA: 2s - loss: 1.0233 - acc: 0.503 - ETA: 2s - loss: 1.0229 - acc: 0.504 - ETA: 2s - loss: 1.0248 - acc: 0.501 - ETA: 2s - loss: 1.0245 - acc: 0.502 - ETA: 2s - loss: 1.0235 - acc: 0.503 - ETA: 2s - loss: 1.0220 - acc: 0.504 - ETA: 2s - loss: 1.0208 - acc: 0.505 - ETA: 1s - loss: 1.0189 - acc: 0.508 - ETA: 1s - loss: 1.0182 - acc: 0.509 - ETA: 1s - loss: 1.0170 - acc: 0.511 - ETA: 1s - loss: 1.0174 - acc: 0.510 - ETA: 1s - loss: 1.0162 - acc: 0.510 - ETA: 1s - loss: 1.0145 - acc: 0.512 - ETA: 1s - loss: 1.0152 - acc: 0.512 - ETA: 1s - loss: 1.0154 - acc: 0.511 - ETA: 1s - loss: 1.0147 - acc: 0.513 - ETA: 1s - loss: 1.0145 - acc: 0.513 - ETA: 0s - loss: 1.0159 - acc: 0.512 - ETA: 0s - loss: 1.0155 - acc: 0.513 - ETA: 0s - loss: 1.0155 - acc: 0.512 - ETA: 0s - loss: 1.0148 - acc: 0.512 - ETA: 0s - loss: 1.0130 - acc: 0.514 - ETA: 0s - loss: 1.0127 - acc: 0.514 - ETA: 0s - loss: 1.0122 - acc: 0.514 - ETA: 0s - loss: 1.0117 - acc: 0.515 - ETA: 0s - loss: 1.0106 - acc: 0.516 - ETA: 0s - loss: 1.0098 - acc: 0.517 - ETA: 0s - loss: 1.0098 - acc: 0.517 - ETA: 0s - loss: 1.0105 - acc: 0.516 - ETA: 0s - loss: 1.0108 - acc: 0.515 - 6s 822us/sample - loss: 1.0107 - acc: 0.5162 - val_loss: 0.9913 - val_acc: 0.5322\n",
      "Epoch 2/10\n",
      "7112/7112 [==============================] - ETA: 9s - loss: 0.9311 - acc: 0.500 - ETA: 11s - loss: 1.0894 - acc: 0.35 - ETA: 6s - loss: 1.0676 - acc: 0.4154 - ETA: 6s - loss: 1.0503 - acc: 0.438 - ETA: 6s - loss: 1.0118 - acc: 0.480 - ETA: 6s - loss: 1.0117 - acc: 0.482 - ETA: 6s - loss: 1.0032 - acc: 0.497 - ETA: 6s - loss: 1.0049 - acc: 0.497 - ETA: 6s - loss: 0.9882 - acc: 0.518 - ETA: 7s - loss: 0.9853 - acc: 0.519 - ETA: 7s - loss: 0.9840 - acc: 0.520 - ETA: 7s - loss: 0.9941 - acc: 0.516 - ETA: 7s - loss: 1.0014 - acc: 0.510 - ETA: 7s - loss: 1.0001 - acc: 0.509 - ETA: 7s - loss: 1.0001 - acc: 0.504 - ETA: 7s - loss: 1.0034 - acc: 0.506 - ETA: 7s - loss: 1.0037 - acc: 0.510 - ETA: 6s - loss: 1.0042 - acc: 0.506 - ETA: 6s - loss: 1.0028 - acc: 0.508 - ETA: 6s - loss: 1.0021 - acc: 0.511 - ETA: 6s - loss: 1.0036 - acc: 0.512 - ETA: 6s - loss: 1.0037 - acc: 0.511 - ETA: 6s - loss: 1.0052 - acc: 0.511 - ETA: 6s - loss: 1.0040 - acc: 0.511 - ETA: 5s - loss: 1.0010 - acc: 0.513 - ETA: 5s - loss: 1.0103 - acc: 0.508 - ETA: 5s - loss: 1.0114 - acc: 0.511 - ETA: 5s - loss: 1.0082 - acc: 0.513 - ETA: 5s - loss: 1.0066 - acc: 0.515 - ETA: 5s - loss: 1.0087 - acc: 0.514 - ETA: 4s - loss: 1.0052 - acc: 0.515 - ETA: 4s - loss: 1.0016 - acc: 0.519 - ETA: 4s - loss: 1.0033 - acc: 0.518 - ETA: 4s - loss: 1.0046 - acc: 0.518 - ETA: 4s - loss: 1.0011 - acc: 0.522 - ETA: 3s - loss: 1.0028 - acc: 0.520 - ETA: 3s - loss: 1.0058 - acc: 0.518 - ETA: 3s - loss: 1.0031 - acc: 0.521 - ETA: 3s - loss: 1.0009 - acc: 0.524 - ETA: 3s - loss: 0.9993 - acc: 0.526 - ETA: 3s - loss: 0.9982 - acc: 0.527 - ETA: 3s - loss: 1.0011 - acc: 0.525 - ETA: 3s - loss: 1.0021 - acc: 0.523 - ETA: 3s - loss: 1.0013 - acc: 0.524 - ETA: 3s - loss: 1.0042 - acc: 0.518 - ETA: 3s - loss: 1.0059 - acc: 0.517 - ETA: 3s - loss: 1.0050 - acc: 0.519 - ETA: 2s - loss: 1.0048 - acc: 0.520 - ETA: 2s - loss: 1.0036 - acc: 0.521 - ETA: 2s - loss: 1.0014 - acc: 0.522 - ETA: 2s - loss: 0.9989 - acc: 0.524 - ETA: 2s - loss: 0.9993 - acc: 0.525 - ETA: 2s - loss: 1.0011 - acc: 0.522 - ETA: 2s - loss: 1.0015 - acc: 0.524 - ETA: 2s - loss: 1.0015 - acc: 0.523 - ETA: 2s - loss: 1.0020 - acc: 0.522 - ETA: 2s - loss: 1.0022 - acc: 0.522 - ETA: 2s - loss: 1.0023 - acc: 0.522 - ETA: 2s - loss: 1.0012 - acc: 0.523 - ETA: 2s - loss: 1.0015 - acc: 0.523 - ETA: 2s - loss: 1.0017 - acc: 0.523 - ETA: 2s - loss: 1.0013 - acc: 0.523 - ETA: 2s - loss: 1.0020 - acc: 0.522 - ETA: 2s - loss: 1.0016 - acc: 0.522 - ETA: 1s - loss: 0.9991 - acc: 0.524 - ETA: 1s - loss: 0.9964 - acc: 0.527 - ETA: 1s - loss: 0.9948 - acc: 0.527 - ETA: 1s - loss: 0.9949 - acc: 0.528 - ETA: 1s - loss: 0.9960 - acc: 0.526 - ETA: 1s - loss: 0.9957 - acc: 0.527 - ETA: 1s - loss: 0.9959 - acc: 0.526 - ETA: 1s - loss: 0.9964 - acc: 0.526 - ETA: 1s - loss: 0.9950 - acc: 0.527 - ETA: 1s - loss: 0.9950 - acc: 0.527 - ETA: 1s - loss: 0.9948 - acc: 0.527 - ETA: 1s - loss: 0.9950 - acc: 0.527 - ETA: 1s - loss: 0.9956 - acc: 0.526 - ETA: 1s - loss: 0.9953 - acc: 0.527 - ETA: 1s - loss: 0.9951 - acc: 0.527 - ETA: 1s - loss: 0.9949 - acc: 0.527 - ETA: 0s - loss: 0.9947 - acc: 0.527 - ETA: 0s - loss: 0.9940 - acc: 0.527 - ETA: 0s - loss: 0.9943 - acc: 0.527 - ETA: 0s - loss: 0.9938 - acc: 0.527 - ETA: 0s - loss: 0.9937 - acc: 0.527 - ETA: 0s - loss: 0.9938 - acc: 0.527 - ETA: 0s - loss: 0.9938 - acc: 0.527 - ETA: 0s - loss: 0.9936 - acc: 0.527 - ETA: 0s - loss: 0.9933 - acc: 0.527 - ETA: 0s - loss: 0.9926 - acc: 0.527 - ETA: 0s - loss: 0.9939 - acc: 0.527 - ETA: 0s - loss: 0.9942 - acc: 0.527 - ETA: 0s - loss: 0.9945 - acc: 0.526 - ETA: 0s - loss: 0.9945 - acc: 0.526 - ETA: 0s - loss: 0.9939 - acc: 0.526 - ETA: 0s - loss: 0.9944 - acc: 0.525 - ETA: 0s - loss: 0.9941 - acc: 0.525 - ETA: 0s - loss: 0.9946 - acc: 0.524 - ETA: 0s - loss: 0.9943 - acc: 0.525 - ETA: 0s - loss: 0.9943 - acc: 0.525 - ETA: 0s - loss: 0.9946 - acc: 0.525 - ETA: 0s - loss: 0.9949 - acc: 0.525 - ETA: 0s - loss: 0.9946 - acc: 0.525 - 6s 829us/sample - loss: 0.9949 - acc: 0.5253 - val_loss: 0.9773 - val_acc: 0.5317\n",
      "Epoch 3/10\n"
     ]
    },
    {
     "name": "stdout",
     "output_type": "stream",
     "text": [
      "7112/7112 [==============================] - ETA: 4s - loss: 0.9193 - acc: 0.600 - ETA: 6s - loss: 0.9019 - acc: 0.650 - ETA: 7s - loss: 0.9327 - acc: 0.620 - ETA: 6s - loss: 0.9956 - acc: 0.557 - ETA: 5s - loss: 0.9792 - acc: 0.581 - ETA: 5s - loss: 0.9916 - acc: 0.576 - ETA: 5s - loss: 1.0043 - acc: 0.546 - ETA: 5s - loss: 1.0090 - acc: 0.540 - ETA: 5s - loss: 0.9988 - acc: 0.552 - ETA: 5s - loss: 0.9979 - acc: 0.549 - ETA: 5s - loss: 1.0001 - acc: 0.538 - ETA: 5s - loss: 1.0042 - acc: 0.535 - ETA: 5s - loss: 1.0073 - acc: 0.521 - ETA: 5s - loss: 1.0040 - acc: 0.523 - ETA: 5s - loss: 1.0042 - acc: 0.522 - ETA: 5s - loss: 1.0053 - acc: 0.519 - ETA: 5s - loss: 1.0041 - acc: 0.519 - ETA: 4s - loss: 1.0037 - acc: 0.525 - ETA: 4s - loss: 1.0004 - acc: 0.528 - ETA: 4s - loss: 0.9967 - acc: 0.528 - ETA: 4s - loss: 0.9994 - acc: 0.528 - ETA: 4s - loss: 0.9996 - acc: 0.526 - ETA: 4s - loss: 0.9978 - acc: 0.528 - ETA: 4s - loss: 0.9958 - acc: 0.528 - ETA: 4s - loss: 0.9977 - acc: 0.524 - ETA: 4s - loss: 0.9975 - acc: 0.524 - ETA: 4s - loss: 0.9951 - acc: 0.525 - ETA: 4s - loss: 0.9972 - acc: 0.523 - ETA: 4s - loss: 0.9959 - acc: 0.523 - ETA: 4s - loss: 0.9956 - acc: 0.523 - ETA: 4s - loss: 0.9968 - acc: 0.522 - ETA: 4s - loss: 0.9955 - acc: 0.524 - ETA: 4s - loss: 0.9947 - acc: 0.523 - ETA: 3s - loss: 0.9954 - acc: 0.522 - ETA: 3s - loss: 0.9954 - acc: 0.523 - ETA: 3s - loss: 0.9955 - acc: 0.524 - ETA: 3s - loss: 0.9931 - acc: 0.526 - ETA: 3s - loss: 0.9926 - acc: 0.527 - ETA: 3s - loss: 0.9949 - acc: 0.525 - ETA: 3s - loss: 0.9897 - acc: 0.530 - ETA: 3s - loss: 0.9902 - acc: 0.530 - ETA: 3s - loss: 0.9905 - acc: 0.530 - ETA: 3s - loss: 0.9912 - acc: 0.530 - ETA: 3s - loss: 0.9891 - acc: 0.531 - ETA: 3s - loss: 0.9901 - acc: 0.531 - ETA: 3s - loss: 0.9903 - acc: 0.532 - ETA: 2s - loss: 0.9895 - acc: 0.532 - ETA: 2s - loss: 0.9870 - acc: 0.534 - ETA: 2s - loss: 0.9877 - acc: 0.532 - ETA: 2s - loss: 0.9875 - acc: 0.533 - ETA: 2s - loss: 0.9878 - acc: 0.532 - ETA: 2s - loss: 0.9868 - acc: 0.533 - ETA: 2s - loss: 0.9869 - acc: 0.532 - ETA: 2s - loss: 0.9877 - acc: 0.531 - ETA: 2s - loss: 0.9877 - acc: 0.531 - ETA: 2s - loss: 0.9870 - acc: 0.532 - ETA: 2s - loss: 0.9883 - acc: 0.530 - ETA: 2s - loss: 0.9880 - acc: 0.531 - ETA: 2s - loss: 0.9882 - acc: 0.530 - ETA: 2s - loss: 0.9889 - acc: 0.531 - ETA: 2s - loss: 0.9893 - acc: 0.531 - ETA: 2s - loss: 0.9888 - acc: 0.531 - ETA: 2s - loss: 0.9878 - acc: 0.532 - ETA: 1s - loss: 0.9887 - acc: 0.532 - ETA: 1s - loss: 0.9885 - acc: 0.532 - ETA: 1s - loss: 0.9902 - acc: 0.531 - ETA: 1s - loss: 0.9899 - acc: 0.530 - ETA: 1s - loss: 0.9903 - acc: 0.530 - ETA: 1s - loss: 0.9902 - acc: 0.530 - ETA: 1s - loss: 0.9891 - acc: 0.530 - ETA: 1s - loss: 0.9888 - acc: 0.530 - ETA: 1s - loss: 0.9887 - acc: 0.531 - ETA: 1s - loss: 0.9894 - acc: 0.528 - ETA: 1s - loss: 0.9897 - acc: 0.528 - ETA: 1s - loss: 0.9906 - acc: 0.526 - ETA: 1s - loss: 0.9899 - acc: 0.526 - ETA: 1s - loss: 0.9908 - acc: 0.526 - ETA: 1s - loss: 0.9916 - acc: 0.526 - ETA: 1s - loss: 0.9908 - acc: 0.526 - ETA: 0s - loss: 0.9914 - acc: 0.526 - ETA: 0s - loss: 0.9915 - acc: 0.525 - ETA: 0s - loss: 0.9908 - acc: 0.525 - ETA: 0s - loss: 0.9897 - acc: 0.525 - ETA: 0s - loss: 0.9897 - acc: 0.525 - ETA: 0s - loss: 0.9912 - acc: 0.524 - ETA: 0s - loss: 0.9902 - acc: 0.525 - ETA: 0s - loss: 0.9895 - acc: 0.526 - ETA: 0s - loss: 0.9901 - acc: 0.526 - ETA: 0s - loss: 0.9909 - acc: 0.526 - ETA: 0s - loss: 0.9908 - acc: 0.526 - ETA: 0s - loss: 0.9911 - acc: 0.526 - ETA: 0s - loss: 0.9913 - acc: 0.526 - ETA: 0s - loss: 0.9919 - acc: 0.525 - ETA: 0s - loss: 0.9927 - acc: 0.524 - 5s 753us/sample - loss: 0.9927 - acc: 0.5242 - val_loss: 0.9761 - val_acc: 0.5334\n",
      "Epoch 4/10\n",
      "7112/7112 [==============================] - ETA: 6s - loss: 1.0672 - acc: 0.500 - ETA: 3s - loss: 1.0029 - acc: 0.500 - ETA: 4s - loss: 0.9684 - acc: 0.557 - ETA: 4s - loss: 1.0010 - acc: 0.523 - ETA: 4s - loss: 0.9668 - acc: 0.548 - ETA: 4s - loss: 0.9897 - acc: 0.541 - ETA: 4s - loss: 0.9723 - acc: 0.560 - ETA: 4s - loss: 0.9664 - acc: 0.562 - ETA: 4s - loss: 0.9713 - acc: 0.554 - ETA: 3s - loss: 0.9687 - acc: 0.553 - ETA: 3s - loss: 0.9867 - acc: 0.541 - ETA: 3s - loss: 0.9869 - acc: 0.540 - ETA: 4s - loss: 0.9880 - acc: 0.538 - ETA: 4s - loss: 0.9878 - acc: 0.539 - ETA: 4s - loss: 0.9919 - acc: 0.535 - ETA: 4s - loss: 0.9921 - acc: 0.535 - ETA: 4s - loss: 0.9937 - acc: 0.531 - ETA: 4s - loss: 0.9918 - acc: 0.531 - ETA: 4s - loss: 0.9949 - acc: 0.528 - ETA: 3s - loss: 0.9942 - acc: 0.530 - ETA: 3s - loss: 0.9965 - acc: 0.529 - ETA: 3s - loss: 0.9971 - acc: 0.529 - ETA: 3s - loss: 0.9979 - acc: 0.527 - ETA: 3s - loss: 0.9978 - acc: 0.526 - ETA: 3s - loss: 0.9966 - acc: 0.525 - ETA: 3s - loss: 0.9974 - acc: 0.525 - ETA: 3s - loss: 1.0015 - acc: 0.523 - ETA: 3s - loss: 0.9984 - acc: 0.525 - ETA: 3s - loss: 0.9968 - acc: 0.526 - ETA: 3s - loss: 0.9927 - acc: 0.528 - ETA: 3s - loss: 0.9943 - acc: 0.525 - ETA: 3s - loss: 0.9970 - acc: 0.525 - ETA: 3s - loss: 0.9971 - acc: 0.525 - ETA: 2s - loss: 0.9968 - acc: 0.525 - ETA: 2s - loss: 0.9930 - acc: 0.528 - ETA: 2s - loss: 0.9935 - acc: 0.528 - ETA: 2s - loss: 0.9917 - acc: 0.529 - ETA: 2s - loss: 0.9931 - acc: 0.529 - ETA: 2s - loss: 0.9936 - acc: 0.528 - ETA: 2s - loss: 0.9945 - acc: 0.528 - ETA: 2s - loss: 0.9947 - acc: 0.527 - ETA: 2s - loss: 0.9955 - acc: 0.526 - ETA: 2s - loss: 0.9954 - acc: 0.526 - ETA: 2s - loss: 0.9954 - acc: 0.526 - ETA: 2s - loss: 0.9950 - acc: 0.526 - ETA: 2s - loss: 0.9946 - acc: 0.527 - ETA: 2s - loss: 0.9948 - acc: 0.526 - ETA: 2s - loss: 0.9935 - acc: 0.527 - ETA: 2s - loss: 0.9942 - acc: 0.526 - ETA: 2s - loss: 0.9952 - acc: 0.525 - ETA: 2s - loss: 0.9950 - acc: 0.525 - ETA: 2s - loss: 0.9971 - acc: 0.524 - ETA: 2s - loss: 0.9973 - acc: 0.523 - ETA: 2s - loss: 0.9961 - acc: 0.524 - ETA: 2s - loss: 0.9960 - acc: 0.524 - ETA: 2s - loss: 0.9954 - acc: 0.526 - ETA: 2s - loss: 0.9970 - acc: 0.524 - ETA: 2s - loss: 0.9965 - acc: 0.524 - ETA: 2s - loss: 0.9969 - acc: 0.524 - ETA: 2s - loss: 0.9960 - acc: 0.524 - ETA: 2s - loss: 0.9970 - acc: 0.524 - ETA: 2s - loss: 0.9975 - acc: 0.523 - ETA: 2s - loss: 0.9973 - acc: 0.524 - ETA: 2s - loss: 0.9973 - acc: 0.525 - ETA: 2s - loss: 0.9969 - acc: 0.526 - ETA: 1s - loss: 0.9971 - acc: 0.526 - ETA: 1s - loss: 0.9959 - acc: 0.528 - ETA: 1s - loss: 0.9951 - acc: 0.529 - ETA: 1s - loss: 0.9960 - acc: 0.527 - ETA: 1s - loss: 0.9955 - acc: 0.528 - ETA: 1s - loss: 0.9963 - acc: 0.526 - ETA: 1s - loss: 0.9967 - acc: 0.526 - ETA: 1s - loss: 0.9973 - acc: 0.525 - ETA: 1s - loss: 0.9972 - acc: 0.526 - ETA: 1s - loss: 0.9971 - acc: 0.526 - ETA: 1s - loss: 0.9975 - acc: 0.527 - ETA: 1s - loss: 0.9974 - acc: 0.527 - ETA: 1s - loss: 0.9981 - acc: 0.526 - ETA: 1s - loss: 0.9974 - acc: 0.527 - ETA: 1s - loss: 0.9967 - acc: 0.528 - ETA: 1s - loss: 0.9971 - acc: 0.527 - ETA: 1s - loss: 0.9964 - acc: 0.528 - ETA: 1s - loss: 0.9966 - acc: 0.527 - ETA: 1s - loss: 0.9965 - acc: 0.527 - ETA: 1s - loss: 0.9956 - acc: 0.528 - ETA: 0s - loss: 0.9948 - acc: 0.528 - ETA: 0s - loss: 0.9947 - acc: 0.529 - ETA: 0s - loss: 0.9940 - acc: 0.529 - ETA: 0s - loss: 0.9940 - acc: 0.529 - ETA: 0s - loss: 0.9939 - acc: 0.528 - ETA: 0s - loss: 0.9929 - acc: 0.529 - ETA: 0s - loss: 0.9931 - acc: 0.529 - ETA: 0s - loss: 0.9930 - acc: 0.528 - ETA: 0s - loss: 0.9935 - acc: 0.528 - ETA: 0s - loss: 0.9928 - acc: 0.528 - ETA: 0s - loss: 0.9932 - acc: 0.527 - ETA: 0s - loss: 0.9925 - acc: 0.528 - ETA: 0s - loss: 0.9935 - acc: 0.527 - ETA: 0s - loss: 0.9928 - acc: 0.528 - ETA: 0s - loss: 0.9926 - acc: 0.528 - ETA: 0s - loss: 0.9927 - acc: 0.528 - ETA: 0s - loss: 0.9931 - acc: 0.528 - ETA: 0s - loss: 0.9929 - acc: 0.528 - ETA: 0s - loss: 0.9923 - acc: 0.529 - ETA: 0s - loss: 0.9920 - acc: 0.530 - 6s 832us/sample - loss: 0.9924 - acc: 0.5298 - val_loss: 0.9809 - val_acc: 0.5279\n",
      "Epoch 5/10\n"
     ]
    },
    {
     "name": "stdout",
     "output_type": "stream",
     "text": [
      "7112/7112 [==============================] - ETA: 9s - loss: 1.4002 - acc: 0.300 - ETA: 8s - loss: 0.9911 - acc: 0.560 - ETA: 9s - loss: 1.0052 - acc: 0.511 - ETA: 8s - loss: 1.0265 - acc: 0.500 - ETA: 7s - loss: 1.0009 - acc: 0.538 - ETA: 6s - loss: 1.0016 - acc: 0.535 - ETA: 6s - loss: 0.9878 - acc: 0.552 - ETA: 6s - loss: 0.9731 - acc: 0.566 - ETA: 6s - loss: 0.9844 - acc: 0.560 - ETA: 6s - loss: 0.9796 - acc: 0.564 - ETA: 6s - loss: 0.9659 - acc: 0.574 - ETA: 5s - loss: 0.9750 - acc: 0.563 - ETA: 5s - loss: 0.9792 - acc: 0.557 - ETA: 5s - loss: 0.9800 - acc: 0.551 - ETA: 5s - loss: 0.9826 - acc: 0.548 - ETA: 5s - loss: 0.9839 - acc: 0.545 - ETA: 4s - loss: 0.9792 - acc: 0.548 - ETA: 4s - loss: 0.9812 - acc: 0.542 - ETA: 4s - loss: 0.9809 - acc: 0.541 - ETA: 4s - loss: 0.9752 - acc: 0.546 - ETA: 4s - loss: 0.9788 - acc: 0.542 - ETA: 4s - loss: 0.9793 - acc: 0.544 - ETA: 3s - loss: 0.9751 - acc: 0.547 - ETA: 3s - loss: 0.9737 - acc: 0.548 - ETA: 3s - loss: 0.9739 - acc: 0.548 - ETA: 3s - loss: 0.9757 - acc: 0.548 - ETA: 3s - loss: 0.9779 - acc: 0.545 - ETA: 3s - loss: 0.9757 - acc: 0.546 - ETA: 3s - loss: 0.9771 - acc: 0.543 - ETA: 3s - loss: 0.9780 - acc: 0.542 - ETA: 3s - loss: 0.9765 - acc: 0.542 - ETA: 3s - loss: 0.9795 - acc: 0.541 - ETA: 3s - loss: 0.9790 - acc: 0.541 - ETA: 3s - loss: 0.9799 - acc: 0.540 - ETA: 3s - loss: 0.9791 - acc: 0.540 - ETA: 2s - loss: 0.9785 - acc: 0.539 - ETA: 2s - loss: 0.9778 - acc: 0.539 - ETA: 2s - loss: 0.9784 - acc: 0.538 - ETA: 2s - loss: 0.9817 - acc: 0.535 - ETA: 2s - loss: 0.9813 - acc: 0.536 - ETA: 2s - loss: 0.9820 - acc: 0.535 - ETA: 2s - loss: 0.9832 - acc: 0.534 - ETA: 2s - loss: 0.9835 - acc: 0.534 - ETA: 2s - loss: 0.9824 - acc: 0.534 - ETA: 2s - loss: 0.9809 - acc: 0.535 - ETA: 2s - loss: 0.9829 - acc: 0.533 - ETA: 2s - loss: 0.9844 - acc: 0.531 - ETA: 2s - loss: 0.9842 - acc: 0.531 - ETA: 2s - loss: 0.9841 - acc: 0.531 - ETA: 2s - loss: 0.9855 - acc: 0.529 - ETA: 2s - loss: 0.9854 - acc: 0.529 - ETA: 2s - loss: 0.9853 - acc: 0.530 - ETA: 2s - loss: 0.9850 - acc: 0.530 - ETA: 2s - loss: 0.9843 - acc: 0.531 - ETA: 2s - loss: 0.9837 - acc: 0.531 - ETA: 2s - loss: 0.9840 - acc: 0.530 - ETA: 2s - loss: 0.9828 - acc: 0.531 - ETA: 2s - loss: 0.9828 - acc: 0.531 - ETA: 2s - loss: 0.9822 - acc: 0.532 - ETA: 2s - loss: 0.9819 - acc: 0.533 - ETA: 2s - loss: 0.9823 - acc: 0.533 - ETA: 2s - loss: 0.9812 - acc: 0.534 - ETA: 2s - loss: 0.9811 - acc: 0.534 - ETA: 2s - loss: 0.9811 - acc: 0.534 - ETA: 2s - loss: 0.9809 - acc: 0.534 - ETA: 2s - loss: 0.9820 - acc: 0.534 - ETA: 2s - loss: 0.9829 - acc: 0.532 - ETA: 2s - loss: 0.9821 - acc: 0.533 - ETA: 2s - loss: 0.9808 - acc: 0.533 - ETA: 2s - loss: 0.9816 - acc: 0.533 - ETA: 2s - loss: 0.9820 - acc: 0.533 - ETA: 2s - loss: 0.9814 - acc: 0.533 - ETA: 2s - loss: 0.9804 - acc: 0.534 - ETA: 1s - loss: 0.9803 - acc: 0.533 - ETA: 1s - loss: 0.9806 - acc: 0.532 - ETA: 1s - loss: 0.9824 - acc: 0.531 - ETA: 1s - loss: 0.9838 - acc: 0.531 - ETA: 1s - loss: 0.9858 - acc: 0.528 - ETA: 1s - loss: 0.9867 - acc: 0.526 - ETA: 1s - loss: 0.9883 - acc: 0.526 - ETA: 1s - loss: 0.9887 - acc: 0.526 - ETA: 1s - loss: 0.9896 - acc: 0.525 - ETA: 0s - loss: 0.9888 - acc: 0.525 - ETA: 0s - loss: 0.9890 - acc: 0.524 - ETA: 0s - loss: 0.9888 - acc: 0.524 - ETA: 0s - loss: 0.9873 - acc: 0.526 - ETA: 0s - loss: 0.9873 - acc: 0.527 - ETA: 0s - loss: 0.9885 - acc: 0.525 - ETA: 0s - loss: 0.9894 - acc: 0.524 - ETA: 0s - loss: 0.9901 - acc: 0.524 - ETA: 0s - loss: 0.9896 - acc: 0.525 - ETA: 0s - loss: 0.9888 - acc: 0.526 - 5s 735us/sample - loss: 0.9887 - acc: 0.5270 - val_loss: 0.9759 - val_acc: 0.5330\n",
      "Epoch 6/10\n",
      "7112/7112 [==============================] - ETA: 5s - loss: 1.0401 - acc: 0.300 - ETA: 5s - loss: 0.9570 - acc: 0.525 - ETA: 5s - loss: 1.0019 - acc: 0.484 - ETA: 5s - loss: 0.9892 - acc: 0.510 - ETA: 5s - loss: 1.0023 - acc: 0.496 - ETA: 5s - loss: 0.9890 - acc: 0.521 - ETA: 5s - loss: 0.9948 - acc: 0.515 - ETA: 5s - loss: 0.9915 - acc: 0.512 - ETA: 5s - loss: 0.9846 - acc: 0.522 - ETA: 4s - loss: 0.9789 - acc: 0.531 - ETA: 4s - loss: 0.9832 - acc: 0.526 - ETA: 4s - loss: 0.9785 - acc: 0.534 - ETA: 3s - loss: 0.9843 - acc: 0.526 - ETA: 3s - loss: 0.9716 - acc: 0.534 - ETA: 3s - loss: 0.9732 - acc: 0.538 - ETA: 3s - loss: 0.9689 - acc: 0.543 - ETA: 3s - loss: 0.9663 - acc: 0.548 - ETA: 2s - loss: 0.9683 - acc: 0.544 - ETA: 2s - loss: 0.9743 - acc: 0.539 - ETA: 2s - loss: 0.9721 - acc: 0.541 - ETA: 2s - loss: 0.9745 - acc: 0.541 - ETA: 2s - loss: 0.9765 - acc: 0.540 - ETA: 2s - loss: 0.9738 - acc: 0.543 - ETA: 2s - loss: 0.9753 - acc: 0.544 - ETA: 2s - loss: 0.9782 - acc: 0.541 - ETA: 2s - loss: 0.9812 - acc: 0.537 - ETA: 1s - loss: 0.9820 - acc: 0.535 - ETA: 1s - loss: 0.9817 - acc: 0.534 - ETA: 1s - loss: 0.9831 - acc: 0.530 - ETA: 1s - loss: 0.9843 - acc: 0.529 - ETA: 1s - loss: 0.9878 - acc: 0.525 - ETA: 1s - loss: 0.9874 - acc: 0.526 - ETA: 1s - loss: 0.9862 - acc: 0.527 - ETA: 1s - loss: 0.9840 - acc: 0.528 - ETA: 1s - loss: 0.9835 - acc: 0.529 - ETA: 1s - loss: 0.9850 - acc: 0.527 - ETA: 1s - loss: 0.9856 - acc: 0.526 - ETA: 1s - loss: 0.9856 - acc: 0.527 - ETA: 1s - loss: 0.9870 - acc: 0.527 - ETA: 1s - loss: 0.9871 - acc: 0.526 - ETA: 1s - loss: 0.9886 - acc: 0.525 - ETA: 1s - loss: 0.9893 - acc: 0.524 - ETA: 1s - loss: 0.9891 - acc: 0.525 - ETA: 1s - loss: 0.9898 - acc: 0.526 - ETA: 1s - loss: 0.9906 - acc: 0.525 - ETA: 1s - loss: 0.9903 - acc: 0.525 - ETA: 1s - loss: 0.9914 - acc: 0.524 - ETA: 1s - loss: 0.9909 - acc: 0.526 - ETA: 1s - loss: 0.9909 - acc: 0.526 - ETA: 1s - loss: 0.9912 - acc: 0.526 - ETA: 0s - loss: 0.9925 - acc: 0.524 - ETA: 0s - loss: 0.9913 - acc: 0.526 - ETA: 0s - loss: 0.9905 - acc: 0.526 - ETA: 0s - loss: 0.9903 - acc: 0.527 - ETA: 0s - loss: 0.9905 - acc: 0.526 - ETA: 0s - loss: 0.9903 - acc: 0.526 - ETA: 0s - loss: 0.9896 - acc: 0.526 - ETA: 0s - loss: 0.9888 - acc: 0.526 - ETA: 0s - loss: 0.9893 - acc: 0.526 - ETA: 0s - loss: 0.9891 - acc: 0.527 - ETA: 0s - loss: 0.9874 - acc: 0.529 - ETA: 0s - loss: 0.9879 - acc: 0.528 - ETA: 0s - loss: 0.9866 - acc: 0.529 - ETA: 0s - loss: 0.9862 - acc: 0.529 - 4s 537us/sample - loss: 0.9874 - acc: 0.5285 - val_loss: 0.9700 - val_acc: 0.5317\n",
      "Epoch 7/10\n"
     ]
    },
    {
     "name": "stdout",
     "output_type": "stream",
     "text": [
      "7112/7112 [==============================] - ETA: 7s - loss: 0.6944 - acc: 0.800 - ETA: 3s - loss: 0.9269 - acc: 0.592 - ETA: 3s - loss: 0.9707 - acc: 0.528 - ETA: 3s - loss: 0.9705 - acc: 0.522 - ETA: 3s - loss: 0.9711 - acc: 0.527 - ETA: 3s - loss: 0.9625 - acc: 0.533 - ETA: 3s - loss: 0.9733 - acc: 0.529 - ETA: 3s - loss: 0.9734 - acc: 0.530 - ETA: 3s - loss: 0.9780 - acc: 0.530 - ETA: 3s - loss: 0.9805 - acc: 0.525 - ETA: 3s - loss: 0.9782 - acc: 0.530 - ETA: 3s - loss: 0.9806 - acc: 0.530 - ETA: 3s - loss: 0.9851 - acc: 0.530 - ETA: 3s - loss: 0.9870 - acc: 0.530 - ETA: 2s - loss: 0.9825 - acc: 0.534 - ETA: 2s - loss: 0.9824 - acc: 0.535 - ETA: 2s - loss: 0.9812 - acc: 0.536 - ETA: 2s - loss: 0.9860 - acc: 0.532 - ETA: 2s - loss: 0.9852 - acc: 0.531 - ETA: 2s - loss: 0.9868 - acc: 0.528 - ETA: 2s - loss: 0.9851 - acc: 0.530 - ETA: 2s - loss: 0.9888 - acc: 0.525 - ETA: 2s - loss: 0.9889 - acc: 0.525 - ETA: 2s - loss: 0.9892 - acc: 0.525 - ETA: 2s - loss: 0.9871 - acc: 0.529 - ETA: 2s - loss: 0.9880 - acc: 0.528 - ETA: 2s - loss: 0.9896 - acc: 0.527 - ETA: 2s - loss: 0.9887 - acc: 0.528 - ETA: 2s - loss: 0.9900 - acc: 0.529 - ETA: 2s - loss: 0.9898 - acc: 0.529 - ETA: 2s - loss: 0.9903 - acc: 0.529 - ETA: 2s - loss: 0.9873 - acc: 0.533 - ETA: 2s - loss: 0.9861 - acc: 0.534 - ETA: 2s - loss: 0.9861 - acc: 0.533 - ETA: 2s - loss: 0.9881 - acc: 0.532 - ETA: 1s - loss: 0.9901 - acc: 0.529 - ETA: 1s - loss: 0.9916 - acc: 0.527 - ETA: 1s - loss: 0.9923 - acc: 0.525 - ETA: 1s - loss: 0.9923 - acc: 0.524 - ETA: 1s - loss: 0.9922 - acc: 0.523 - ETA: 1s - loss: 0.9912 - acc: 0.524 - ETA: 1s - loss: 0.9920 - acc: 0.523 - ETA: 1s - loss: 0.9905 - acc: 0.524 - ETA: 1s - loss: 0.9905 - acc: 0.524 - ETA: 1s - loss: 0.9893 - acc: 0.525 - ETA: 1s - loss: 0.9911 - acc: 0.524 - ETA: 1s - loss: 0.9909 - acc: 0.523 - ETA: 1s - loss: 0.9915 - acc: 0.523 - ETA: 1s - loss: 0.9906 - acc: 0.524 - ETA: 1s - loss: 0.9904 - acc: 0.524 - ETA: 1s - loss: 0.9912 - acc: 0.522 - ETA: 1s - loss: 0.9926 - acc: 0.521 - ETA: 1s - loss: 0.9921 - acc: 0.522 - ETA: 1s - loss: 0.9918 - acc: 0.523 - ETA: 1s - loss: 0.9920 - acc: 0.523 - ETA: 1s - loss: 0.9909 - acc: 0.525 - ETA: 1s - loss: 0.9920 - acc: 0.524 - ETA: 1s - loss: 0.9919 - acc: 0.524 - ETA: 0s - loss: 0.9917 - acc: 0.524 - ETA: 0s - loss: 0.9918 - acc: 0.523 - ETA: 0s - loss: 0.9905 - acc: 0.524 - ETA: 0s - loss: 0.9900 - acc: 0.525 - ETA: 0s - loss: 0.9891 - acc: 0.526 - ETA: 0s - loss: 0.9888 - acc: 0.526 - ETA: 0s - loss: 0.9875 - acc: 0.527 - ETA: 0s - loss: 0.9889 - acc: 0.526 - ETA: 0s - loss: 0.9893 - acc: 0.525 - ETA: 0s - loss: 0.9903 - acc: 0.525 - ETA: 0s - loss: 0.9898 - acc: 0.526 - ETA: 0s - loss: 0.9891 - acc: 0.526 - ETA: 0s - loss: 0.9885 - acc: 0.527 - ETA: 0s - loss: 0.9890 - acc: 0.525 - ETA: 0s - loss: 0.9885 - acc: 0.526 - ETA: 0s - loss: 0.9878 - acc: 0.527 - ETA: 0s - loss: 0.9886 - acc: 0.527 - 4s 612us/sample - loss: 0.9892 - acc: 0.5264 - val_loss: 0.9775 - val_acc: 0.5334\n",
      "Epoch 8/10\n",
      "7112/7112 [==============================] - ETA: 18s - loss: 0.9066 - acc: 0.60 - ETA: 19s - loss: 1.0215 - acc: 0.43 - ETA: 19s - loss: 0.9862 - acc: 0.48 - ETA: 9s - loss: 0.9765 - acc: 0.5214 - ETA: 6s - loss: 0.9958 - acc: 0.512 - ETA: 5s - loss: 1.0073 - acc: 0.500 - ETA: 4s - loss: 0.9955 - acc: 0.516 - ETA: 4s - loss: 0.9928 - acc: 0.522 - ETA: 4s - loss: 0.9701 - acc: 0.544 - ETA: 4s - loss: 0.9834 - acc: 0.536 - ETA: 4s - loss: 0.9772 - acc: 0.542 - ETA: 4s - loss: 0.9767 - acc: 0.541 - ETA: 3s - loss: 0.9732 - acc: 0.544 - ETA: 3s - loss: 0.9756 - acc: 0.546 - ETA: 3s - loss: 0.9800 - acc: 0.542 - ETA: 3s - loss: 0.9823 - acc: 0.540 - ETA: 3s - loss: 0.9875 - acc: 0.531 - ETA: 3s - loss: 0.9867 - acc: 0.531 - ETA: 3s - loss: 0.9856 - acc: 0.531 - ETA: 3s - loss: 0.9894 - acc: 0.530 - ETA: 3s - loss: 0.9892 - acc: 0.529 - ETA: 2s - loss: 0.9925 - acc: 0.527 - ETA: 2s - loss: 0.9946 - acc: 0.523 - ETA: 2s - loss: 0.9965 - acc: 0.521 - ETA: 2s - loss: 0.9983 - acc: 0.519 - ETA: 2s - loss: 0.9982 - acc: 0.521 - ETA: 2s - loss: 0.9967 - acc: 0.521 - ETA: 2s - loss: 0.9978 - acc: 0.519 - ETA: 2s - loss: 0.9971 - acc: 0.521 - ETA: 2s - loss: 0.9975 - acc: 0.520 - ETA: 2s - loss: 0.9975 - acc: 0.521 - ETA: 2s - loss: 0.9993 - acc: 0.520 - ETA: 2s - loss: 1.0001 - acc: 0.520 - ETA: 2s - loss: 0.9986 - acc: 0.521 - ETA: 2s - loss: 0.9993 - acc: 0.520 - ETA: 2s - loss: 0.9993 - acc: 0.520 - ETA: 2s - loss: 0.9999 - acc: 0.521 - ETA: 2s - loss: 0.9988 - acc: 0.522 - ETA: 2s - loss: 0.9985 - acc: 0.523 - ETA: 2s - loss: 0.9988 - acc: 0.523 - ETA: 2s - loss: 0.9994 - acc: 0.521 - ETA: 2s - loss: 0.9994 - acc: 0.522 - ETA: 2s - loss: 0.9982 - acc: 0.523 - ETA: 2s - loss: 0.9991 - acc: 0.522 - ETA: 2s - loss: 0.9994 - acc: 0.520 - ETA: 2s - loss: 0.9994 - acc: 0.520 - ETA: 2s - loss: 1.0002 - acc: 0.519 - ETA: 2s - loss: 0.9988 - acc: 0.521 - ETA: 2s - loss: 0.9984 - acc: 0.521 - ETA: 2s - loss: 0.9983 - acc: 0.520 - ETA: 2s - loss: 0.9966 - acc: 0.522 - ETA: 2s - loss: 0.9968 - acc: 0.521 - ETA: 2s - loss: 0.9963 - acc: 0.521 - ETA: 2s - loss: 0.9970 - acc: 0.521 - ETA: 2s - loss: 0.9975 - acc: 0.521 - ETA: 2s - loss: 0.9963 - acc: 0.522 - ETA: 2s - loss: 0.9963 - acc: 0.521 - ETA: 2s - loss: 0.9963 - acc: 0.521 - ETA: 2s - loss: 0.9948 - acc: 0.522 - ETA: 1s - loss: 0.9912 - acc: 0.525 - ETA: 1s - loss: 0.9903 - acc: 0.526 - ETA: 1s - loss: 0.9914 - acc: 0.525 - ETA: 1s - loss: 0.9906 - acc: 0.526 - ETA: 1s - loss: 0.9904 - acc: 0.526 - ETA: 1s - loss: 0.9916 - acc: 0.524 - ETA: 1s - loss: 0.9909 - acc: 0.524 - ETA: 1s - loss: 0.9897 - acc: 0.525 - ETA: 1s - loss: 0.9888 - acc: 0.526 - ETA: 1s - loss: 0.9881 - acc: 0.527 - ETA: 1s - loss: 0.9889 - acc: 0.526 - ETA: 1s - loss: 0.9880 - acc: 0.527 - ETA: 1s - loss: 0.9869 - acc: 0.527 - ETA: 1s - loss: 0.9859 - acc: 0.528 - ETA: 0s - loss: 0.9846 - acc: 0.529 - ETA: 0s - loss: 0.9845 - acc: 0.529 - ETA: 0s - loss: 0.9843 - acc: 0.530 - ETA: 0s - loss: 0.9848 - acc: 0.529 - ETA: 0s - loss: 0.9847 - acc: 0.530 - ETA: 0s - loss: 0.9856 - acc: 0.529 - ETA: 0s - loss: 0.9849 - acc: 0.530 - ETA: 0s - loss: 0.9855 - acc: 0.529 - ETA: 0s - loss: 0.9851 - acc: 0.529 - ETA: 0s - loss: 0.9852 - acc: 0.529 - ETA: 0s - loss: 0.9859 - acc: 0.529 - ETA: 0s - loss: 0.9868 - acc: 0.528 - ETA: 0s - loss: 0.9871 - acc: 0.527 - ETA: 0s - loss: 0.9868 - acc: 0.528 - ETA: 0s - loss: 0.9862 - acc: 0.528 - ETA: 0s - loss: 0.9859 - acc: 0.527 - ETA: 0s - loss: 0.9861 - acc: 0.528 - ETA: 0s - loss: 0.9863 - acc: 0.528 - ETA: 0s - loss: 0.9869 - acc: 0.527 - 5s 742us/sample - loss: 0.9871 - acc: 0.5269 - val_loss: 0.9766 - val_acc: 0.5326\n",
      "Epoch 9/10\n"
     ]
    },
    {
     "name": "stdout",
     "output_type": "stream",
     "text": [
      "7112/7112 [==============================] - ETA: 6s - loss: 0.7975 - acc: 0.800 - ETA: 3s - loss: 0.9579 - acc: 0.592 - ETA: 3s - loss: 1.0213 - acc: 0.545 - ETA: 3s - loss: 1.0020 - acc: 0.559 - ETA: 2s - loss: 1.0104 - acc: 0.525 - ETA: 2s - loss: 1.0193 - acc: 0.513 - ETA: 2s - loss: 1.0001 - acc: 0.529 - ETA: 2s - loss: 0.9908 - acc: 0.538 - ETA: 2s - loss: 0.9960 - acc: 0.528 - ETA: 2s - loss: 0.9953 - acc: 0.532 - ETA: 2s - loss: 0.9937 - acc: 0.534 - ETA: 2s - loss: 0.9890 - acc: 0.533 - ETA: 2s - loss: 0.9883 - acc: 0.534 - ETA: 2s - loss: 0.9853 - acc: 0.537 - ETA: 2s - loss: 0.9854 - acc: 0.536 - ETA: 1s - loss: 0.9874 - acc: 0.534 - ETA: 1s - loss: 0.9866 - acc: 0.535 - ETA: 1s - loss: 0.9850 - acc: 0.535 - ETA: 1s - loss: 0.9834 - acc: 0.535 - ETA: 1s - loss: 0.9853 - acc: 0.534 - ETA: 1s - loss: 0.9848 - acc: 0.534 - ETA: 1s - loss: 0.9859 - acc: 0.533 - ETA: 1s - loss: 0.9870 - acc: 0.534 - ETA: 1s - loss: 0.9860 - acc: 0.536 - ETA: 1s - loss: 0.9865 - acc: 0.534 - ETA: 1s - loss: 0.9857 - acc: 0.535 - ETA: 1s - loss: 0.9864 - acc: 0.533 - ETA: 1s - loss: 0.9888 - acc: 0.529 - ETA: 1s - loss: 0.9889 - acc: 0.530 - ETA: 1s - loss: 0.9892 - acc: 0.530 - ETA: 1s - loss: 0.9887 - acc: 0.530 - ETA: 1s - loss: 0.9870 - acc: 0.532 - ETA: 1s - loss: 0.9878 - acc: 0.532 - ETA: 1s - loss: 0.9880 - acc: 0.532 - ETA: 1s - loss: 0.9874 - acc: 0.532 - ETA: 1s - loss: 0.9882 - acc: 0.531 - ETA: 1s - loss: 0.9893 - acc: 0.530 - ETA: 1s - loss: 0.9898 - acc: 0.530 - ETA: 1s - loss: 0.9897 - acc: 0.529 - ETA: 1s - loss: 0.9897 - acc: 0.528 - ETA: 0s - loss: 0.9895 - acc: 0.527 - ETA: 0s - loss: 0.9897 - acc: 0.528 - ETA: 0s - loss: 0.9897 - acc: 0.528 - ETA: 0s - loss: 0.9901 - acc: 0.528 - ETA: 0s - loss: 0.9902 - acc: 0.528 - ETA: 0s - loss: 0.9901 - acc: 0.528 - ETA: 0s - loss: 0.9912 - acc: 0.526 - ETA: 0s - loss: 0.9900 - acc: 0.527 - ETA: 0s - loss: 0.9888 - acc: 0.529 - ETA: 0s - loss: 0.9900 - acc: 0.527 - ETA: 0s - loss: 0.9917 - acc: 0.525 - ETA: 0s - loss: 0.9906 - acc: 0.526 - ETA: 0s - loss: 0.9896 - acc: 0.526 - ETA: 0s - loss: 0.9905 - acc: 0.525 - ETA: 0s - loss: 0.9901 - acc: 0.526 - ETA: 0s - loss: 0.9896 - acc: 0.526 - ETA: 0s - loss: 0.9892 - acc: 0.526 - ETA: 0s - loss: 0.9882 - acc: 0.527 - 3s 482us/sample - loss: 0.9876 - acc: 0.5271 - val_loss: 0.9703 - val_acc: 0.5313\n",
      "Epoch 10/10\n",
      "7112/7112 [==============================] - ETA: 5s - loss: 1.2292 - acc: 0.400 - ETA: 3s - loss: 0.9805 - acc: 0.500 - ETA: 3s - loss: 0.9602 - acc: 0.509 - ETA: 3s - loss: 0.9558 - acc: 0.526 - ETA: 3s - loss: 0.9728 - acc: 0.535 - ETA: 3s - loss: 0.9702 - acc: 0.539 - ETA: 3s - loss: 0.9678 - acc: 0.544 - ETA: 3s - loss: 0.9726 - acc: 0.535 - ETA: 3s - loss: 0.9778 - acc: 0.529 - ETA: 2s - loss: 0.9764 - acc: 0.530 - ETA: 2s - loss: 0.9725 - acc: 0.533 - ETA: 2s - loss: 0.9736 - acc: 0.533 - ETA: 2s - loss: 0.9800 - acc: 0.527 - ETA: 2s - loss: 0.9810 - acc: 0.524 - ETA: 2s - loss: 0.9827 - acc: 0.523 - ETA: 2s - loss: 0.9863 - acc: 0.520 - ETA: 2s - loss: 0.9833 - acc: 0.522 - ETA: 2s - loss: 0.9807 - acc: 0.523 - ETA: 2s - loss: 0.9860 - acc: 0.521 - ETA: 2s - loss: 0.9867 - acc: 0.518 - ETA: 2s - loss: 0.9840 - acc: 0.520 - ETA: 2s - loss: 0.9827 - acc: 0.521 - ETA: 1s - loss: 0.9828 - acc: 0.520 - ETA: 1s - loss: 0.9835 - acc: 0.520 - ETA: 1s - loss: 0.9840 - acc: 0.521 - ETA: 1s - loss: 0.9853 - acc: 0.519 - ETA: 1s - loss: 0.9859 - acc: 0.519 - ETA: 1s - loss: 0.9871 - acc: 0.519 - ETA: 1s - loss: 0.9861 - acc: 0.521 - ETA: 1s - loss: 0.9881 - acc: 0.521 - ETA: 1s - loss: 0.9873 - acc: 0.524 - ETA: 1s - loss: 0.9878 - acc: 0.523 - ETA: 1s - loss: 0.9899 - acc: 0.520 - ETA: 1s - loss: 0.9912 - acc: 0.518 - ETA: 1s - loss: 0.9916 - acc: 0.517 - ETA: 1s - loss: 0.9923 - acc: 0.517 - ETA: 1s - loss: 0.9914 - acc: 0.519 - ETA: 1s - loss: 0.9910 - acc: 0.520 - ETA: 1s - loss: 0.9916 - acc: 0.519 - ETA: 1s - loss: 0.9908 - acc: 0.519 - ETA: 1s - loss: 0.9893 - acc: 0.520 - ETA: 1s - loss: 0.9902 - acc: 0.519 - ETA: 1s - loss: 0.9892 - acc: 0.522 - ETA: 1s - loss: 0.9894 - acc: 0.522 - ETA: 1s - loss: 0.9906 - acc: 0.522 - ETA: 1s - loss: 0.9907 - acc: 0.522 - ETA: 0s - loss: 0.9913 - acc: 0.521 - ETA: 0s - loss: 0.9901 - acc: 0.522 - ETA: 0s - loss: 0.9891 - acc: 0.523 - ETA: 0s - loss: 0.9881 - acc: 0.524 - ETA: 0s - loss: 0.9879 - acc: 0.524 - ETA: 0s - loss: 0.9889 - acc: 0.524 - ETA: 0s - loss: 0.9902 - acc: 0.522 - ETA: 0s - loss: 0.9897 - acc: 0.524 - ETA: 0s - loss: 0.9892 - acc: 0.524 - ETA: 0s - loss: 0.9910 - acc: 0.523 - ETA: 0s - loss: 0.9909 - acc: 0.523 - ETA: 0s - loss: 0.9913 - acc: 0.523 - ETA: 0s - loss: 0.9911 - acc: 0.523 - ETA: 0s - loss: 0.9914 - acc: 0.522 - ETA: 0s - loss: 0.9900 - acc: 0.523 - ETA: 0s - loss: 0.9884 - acc: 0.525 - ETA: 0s - loss: 0.9869 - acc: 0.527 - ETA: 0s - loss: 0.9865 - acc: 0.526 - ETA: 0s - loss: 0.9876 - acc: 0.524 - ETA: 0s - loss: 0.9870 - acc: 0.525 - ETA: 0s - loss: 0.9869 - acc: 0.525 - 4s 541us/sample - loss: 0.9861 - acc: 0.5260 - val_loss: 0.9803 - val_acc: 0.5334\n"
     ]
    },
    {
     "data": {
      "text/html": [
       "<span style=\"color:#4527A0\"><h1 style=\"font-size:18px\">Trial complete</h1></span>"
      ],
      "text/plain": [
       "<IPython.core.display.HTML object>"
      ]
     },
     "metadata": {},
     "output_type": "display_data"
    },
    {
     "data": {
      "text/html": [
       "<span style=\"color:#4527A0\"><h1 style=\"font-size:18px\">Trial summary</h1></span>"
      ],
      "text/plain": [
       "<IPython.core.display.HTML object>"
      ]
     },
     "metadata": {},
     "output_type": "display_data"
    },
    {
     "data": {
      "text/html": [
       "<span style=\"color:cyan\"> |-Trial ID: c5b3a6ac8f234602ef0290b5a1d2894c</span>"
      ],
      "text/plain": [
       "<IPython.core.display.HTML object>"
      ]
     },
     "metadata": {},
     "output_type": "display_data"
    },
    {
     "data": {
      "text/html": [
       "<span style=\"color:cyan\"> |-Score: 0.5334476828575134</span>"
      ],
      "text/plain": [
       "<IPython.core.display.HTML object>"
      ]
     },
     "metadata": {},
     "output_type": "display_data"
    },
    {
     "data": {
      "text/html": [
       "<span style=\"color:cyan\"> |-Best step: 0</span>"
      ],
      "text/plain": [
       "<IPython.core.display.HTML object>"
      ]
     },
     "metadata": {},
     "output_type": "display_data"
    },
    {
     "data": {
      "text/html": [
       "<span style=\"color:#7E57C2\"><h2 style=\"font-size:16px\">Hyperparameters:</h2></span>"
      ],
      "text/plain": [
       "<IPython.core.display.HTML object>"
      ]
     },
     "metadata": {},
     "output_type": "display_data"
    },
    {
     "data": {
      "text/html": [
       "<span style=\"color:cyan\"> |-layer_0_neurons: 130</span>"
      ],
      "text/plain": [
       "<IPython.core.display.HTML object>"
      ]
     },
     "metadata": {},
     "output_type": "display_data"
    },
    {
     "data": {
      "text/html": [
       "<span style=\"color:blue\"> |-layer_1_neurons: 190</span>"
      ],
      "text/plain": [
       "<IPython.core.display.HTML object>"
      ]
     },
     "metadata": {},
     "output_type": "display_data"
    },
    {
     "data": {
      "text/html": [
       "<span style=\"color:cyan\"> |-layer_2_neurons: 90</span>"
      ],
      "text/plain": [
       "<IPython.core.display.HTML object>"
      ]
     },
     "metadata": {},
     "output_type": "display_data"
    },
    {
     "data": {
      "text/html": [
       "<span style=\"color:blue\"> |-layer_3_neurons: 110</span>"
      ],
      "text/plain": [
       "<IPython.core.display.HTML object>"
      ]
     },
     "metadata": {},
     "output_type": "display_data"
    },
    {
     "data": {
      "text/html": [
       "<span style=\"color:cyan\"> |-n_input_neurons: 70</span>"
      ],
      "text/plain": [
       "<IPython.core.display.HTML object>"
      ]
     },
     "metadata": {},
     "output_type": "display_data"
    },
    {
     "data": {
      "text/html": [
       "<span style=\"color:blue\"> |-n_layers: 3</span>"
      ],
      "text/plain": [
       "<IPython.core.display.HTML object>"
      ]
     },
     "metadata": {},
     "output_type": "display_data"
    },
    {
     "name": "stdout",
     "output_type": "stream",
     "text": [
      "Train on 7112 samples, validate on 2332 samples\n",
      "Epoch 1/10\n",
      "7112/7112 [==============================] - ETA: 4:42 - loss: 1.1383 - acc: 0.300 - ETA: 20s - loss: 1.1269 - acc: 0.373 - ETA: 11s - loss: 1.1082 - acc: 0.37 - ETA: 8s - loss: 1.0754 - acc: 0.4136 - ETA: 6s - loss: 1.0612 - acc: 0.443 - ETA: 5s - loss: 1.0564 - acc: 0.447 - ETA: 5s - loss: 1.0524 - acc: 0.462 - ETA: 4s - loss: 1.0411 - acc: 0.477 - ETA: 4s - loss: 1.0395 - acc: 0.476 - ETA: 3s - loss: 1.0315 - acc: 0.486 - ETA: 3s - loss: 1.0225 - acc: 0.497 - ETA: 3s - loss: 1.0281 - acc: 0.494 - ETA: 3s - loss: 1.0267 - acc: 0.494 - ETA: 3s - loss: 1.0206 - acc: 0.497 - ETA: 2s - loss: 1.0244 - acc: 0.497 - ETA: 2s - loss: 1.0235 - acc: 0.497 - ETA: 2s - loss: 1.0212 - acc: 0.501 - ETA: 2s - loss: 1.0192 - acc: 0.504 - ETA: 2s - loss: 1.0195 - acc: 0.503 - ETA: 2s - loss: 1.0206 - acc: 0.502 - ETA: 2s - loss: 1.0188 - acc: 0.504 - ETA: 2s - loss: 1.0148 - acc: 0.507 - ETA: 1s - loss: 1.0129 - acc: 0.509 - ETA: 1s - loss: 1.0133 - acc: 0.508 - ETA: 1s - loss: 1.0140 - acc: 0.508 - ETA: 1s - loss: 1.0132 - acc: 0.509 - ETA: 1s - loss: 1.0132 - acc: 0.509 - ETA: 1s - loss: 1.0148 - acc: 0.506 - ETA: 1s - loss: 1.0150 - acc: 0.504 - ETA: 1s - loss: 1.0171 - acc: 0.502 - ETA: 1s - loss: 1.0173 - acc: 0.501 - ETA: 1s - loss: 1.0167 - acc: 0.503 - ETA: 1s - loss: 1.0154 - acc: 0.504 - ETA: 1s - loss: 1.0170 - acc: 0.502 - ETA: 1s - loss: 1.0167 - acc: 0.502 - ETA: 0s - loss: 1.0175 - acc: 0.502 - ETA: 0s - loss: 1.0178 - acc: 0.502 - ETA: 0s - loss: 1.0162 - acc: 0.504 - ETA: 0s - loss: 1.0157 - acc: 0.505 - ETA: 0s - loss: 1.0136 - acc: 0.508 - ETA: 0s - loss: 1.0148 - acc: 0.506 - ETA: 0s - loss: 1.0143 - acc: 0.507 - ETA: 0s - loss: 1.0149 - acc: 0.506 - ETA: 0s - loss: 1.0135 - acc: 0.508 - ETA: 0s - loss: 1.0128 - acc: 0.509 - ETA: 0s - loss: 1.0120 - acc: 0.510 - ETA: 0s - loss: 1.0126 - acc: 0.510 - ETA: 0s - loss: 1.0127 - acc: 0.510 - ETA: 0s - loss: 1.0119 - acc: 0.511 - ETA: 0s - loss: 1.0121 - acc: 0.510 - ETA: 0s - loss: 1.0111 - acc: 0.511 - ETA: 0s - loss: 1.0108 - acc: 0.512 - 4s 536us/sample - loss: 1.0108 - acc: 0.5124 - val_loss: 0.9884 - val_acc: 0.5214\n",
      "Epoch 2/10\n",
      "7112/7112 [==============================] - ETA: 5s - loss: 1.0450 - acc: 0.400 - ETA: 2s - loss: 1.0130 - acc: 0.520 - ETA: 2s - loss: 0.9858 - acc: 0.525 - ETA: 2s - loss: 1.0298 - acc: 0.490 - ETA: 2s - loss: 1.0268 - acc: 0.494 - ETA: 2s - loss: 1.0148 - acc: 0.507 - ETA: 2s - loss: 1.0125 - acc: 0.512 - ETA: 2s - loss: 1.0200 - acc: 0.497 - ETA: 2s - loss: 1.0158 - acc: 0.501 - ETA: 2s - loss: 1.0068 - acc: 0.509 - ETA: 2s - loss: 1.0042 - acc: 0.513 - ETA: 2s - loss: 1.0063 - acc: 0.508 - ETA: 2s - loss: 1.0005 - acc: 0.517 - ETA: 2s - loss: 1.0021 - acc: 0.515 - ETA: 1s - loss: 1.0048 - acc: 0.514 - ETA: 1s - loss: 1.0039 - acc: 0.515 - ETA: 1s - loss: 1.0015 - acc: 0.517 - ETA: 1s - loss: 1.0031 - acc: 0.516 - ETA: 1s - loss: 0.9973 - acc: 0.523 - ETA: 1s - loss: 0.9977 - acc: 0.523 - ETA: 1s - loss: 1.0002 - acc: 0.520 - ETA: 1s - loss: 0.9998 - acc: 0.522 - ETA: 1s - loss: 0.9995 - acc: 0.521 - ETA: 1s - loss: 1.0010 - acc: 0.518 - ETA: 1s - loss: 1.0007 - acc: 0.518 - ETA: 1s - loss: 1.0009 - acc: 0.516 - ETA: 1s - loss: 1.0008 - acc: 0.517 - ETA: 1s - loss: 1.0011 - acc: 0.518 - ETA: 1s - loss: 0.9994 - acc: 0.519 - ETA: 1s - loss: 0.9976 - acc: 0.521 - ETA: 1s - loss: 0.9993 - acc: 0.519 - ETA: 1s - loss: 0.9986 - acc: 0.521 - ETA: 1s - loss: 0.9990 - acc: 0.521 - ETA: 1s - loss: 0.9986 - acc: 0.521 - ETA: 0s - loss: 0.9990 - acc: 0.521 - ETA: 0s - loss: 0.9988 - acc: 0.522 - ETA: 0s - loss: 0.9995 - acc: 0.521 - ETA: 0s - loss: 0.9994 - acc: 0.522 - ETA: 0s - loss: 1.0001 - acc: 0.521 - ETA: 0s - loss: 1.0001 - acc: 0.519 - ETA: 0s - loss: 0.9997 - acc: 0.520 - ETA: 0s - loss: 0.9994 - acc: 0.520 - ETA: 0s - loss: 0.9987 - acc: 0.522 - ETA: 0s - loss: 0.9975 - acc: 0.522 - ETA: 0s - loss: 0.9975 - acc: 0.524 - ETA: 0s - loss: 0.9966 - acc: 0.525 - ETA: 0s - loss: 0.9964 - acc: 0.525 - ETA: 0s - loss: 0.9966 - acc: 0.525 - ETA: 0s - loss: 0.9963 - acc: 0.525 - ETA: 0s - loss: 0.9950 - acc: 0.526 - ETA: 0s - loss: 0.9951 - acc: 0.527 - ETA: 0s - loss: 0.9954 - acc: 0.528 - ETA: 0s - loss: 0.9956 - acc: 0.527 - 3s 437us/sample - loss: 0.9954 - acc: 0.5271 - val_loss: 1.0267 - val_acc: 0.4867\n",
      "Epoch 3/10\n",
      "7112/7112 [==============================] - ETA: 4s - loss: 0.7971 - acc: 0.600 - ETA: 2s - loss: 0.9420 - acc: 0.562 - ETA: 2s - loss: 0.9688 - acc: 0.543 - ETA: 2s - loss: 0.9859 - acc: 0.531 - ETA: 2s - loss: 0.9889 - acc: 0.526 - ETA: 2s - loss: 0.9955 - acc: 0.525 - ETA: 2s - loss: 0.9962 - acc: 0.522 - ETA: 2s - loss: 0.9997 - acc: 0.515 - ETA: 2s - loss: 0.9965 - acc: 0.519 - ETA: 2s - loss: 0.9865 - acc: 0.524 - ETA: 2s - loss: 0.9977 - acc: 0.517 - ETA: 2s - loss: 0.9948 - acc: 0.526 - ETA: 2s - loss: 0.9945 - acc: 0.528 - ETA: 1s - loss: 0.9864 - acc: 0.534 - ETA: 1s - loss: 0.9869 - acc: 0.536 - ETA: 1s - loss: 0.9862 - acc: 0.535 - ETA: 1s - loss: 0.9866 - acc: 0.532 - ETA: 1s - loss: 0.9880 - acc: 0.530 - ETA: 1s - loss: 0.9887 - acc: 0.531 - ETA: 1s - loss: 0.9860 - acc: 0.532 - ETA: 1s - loss: 0.9843 - acc: 0.533 - ETA: 1s - loss: 0.9863 - acc: 0.531 - ETA: 1s - loss: 0.9869 - acc: 0.529 - ETA: 1s - loss: 0.9876 - acc: 0.529 - ETA: 1s - loss: 0.9889 - acc: 0.526 - ETA: 1s - loss: 0.9880 - acc: 0.527 - ETA: 1s - loss: 0.9872 - acc: 0.528 - ETA: 1s - loss: 0.9892 - acc: 0.526 - ETA: 1s - loss: 0.9900 - acc: 0.527 - ETA: 1s - loss: 0.9901 - acc: 0.526 - ETA: 1s - loss: 0.9903 - acc: 0.525 - ETA: 1s - loss: 0.9915 - acc: 0.524 - ETA: 1s - loss: 0.9911 - acc: 0.523 - ETA: 1s - loss: 0.9929 - acc: 0.521 - ETA: 0s - loss: 0.9926 - acc: 0.521 - ETA: 0s - loss: 0.9940 - acc: 0.519 - ETA: 0s - loss: 0.9943 - acc: 0.518 - ETA: 0s - loss: 0.9940 - acc: 0.519 - ETA: 0s - loss: 0.9927 - acc: 0.519 - ETA: 0s - loss: 0.9941 - acc: 0.518 - ETA: 0s - loss: 0.9943 - acc: 0.518 - ETA: 0s - loss: 0.9943 - acc: 0.518 - ETA: 0s - loss: 0.9952 - acc: 0.516 - ETA: 0s - loss: 0.9941 - acc: 0.517 - ETA: 0s - loss: 0.9938 - acc: 0.517 - ETA: 0s - loss: 0.9939 - acc: 0.517 - ETA: 0s - loss: 0.9938 - acc: 0.517 - ETA: 0s - loss: 0.9926 - acc: 0.518 - ETA: 0s - loss: 0.9923 - acc: 0.519 - ETA: 0s - loss: 0.9916 - acc: 0.519 - ETA: 0s - loss: 0.9929 - acc: 0.519 - ETA: 0s - loss: 0.9932 - acc: 0.519 - ETA: 0s - loss: 0.9927 - acc: 0.521 - 3s 443us/sample - loss: 0.9928 - acc: 0.5212 - val_loss: 0.9752 - val_acc: 0.5330\n",
      "Epoch 4/10\n"
     ]
    },
    {
     "name": "stdout",
     "output_type": "stream",
     "text": [
      "7112/7112 [==============================] - ETA: 6s - loss: 0.9411 - acc: 0.700 - ETA: 2s - loss: 0.9922 - acc: 0.575 - ETA: 2s - loss: 0.9734 - acc: 0.556 - ETA: 2s - loss: 0.9785 - acc: 0.550 - ETA: 2s - loss: 0.9955 - acc: 0.534 - ETA: 2s - loss: 0.9955 - acc: 0.529 - ETA: 2s - loss: 0.9856 - acc: 0.539 - ETA: 2s - loss: 0.9900 - acc: 0.530 - ETA: 2s - loss: 0.9878 - acc: 0.531 - ETA: 2s - loss: 0.9846 - acc: 0.531 - ETA: 2s - loss: 0.9891 - acc: 0.522 - ETA: 2s - loss: 0.9903 - acc: 0.521 - ETA: 2s - loss: 0.9918 - acc: 0.517 - ETA: 2s - loss: 0.9928 - acc: 0.513 - ETA: 1s - loss: 0.9906 - acc: 0.516 - ETA: 1s - loss: 0.9946 - acc: 0.511 - ETA: 1s - loss: 0.9931 - acc: 0.513 - ETA: 1s - loss: 0.9954 - acc: 0.512 - ETA: 1s - loss: 0.9938 - acc: 0.513 - ETA: 1s - loss: 0.9910 - acc: 0.518 - ETA: 1s - loss: 0.9939 - acc: 0.515 - ETA: 1s - loss: 0.9939 - acc: 0.514 - ETA: 1s - loss: 0.9943 - acc: 0.516 - ETA: 1s - loss: 0.9960 - acc: 0.516 - ETA: 1s - loss: 0.9942 - acc: 0.518 - ETA: 1s - loss: 0.9950 - acc: 0.517 - ETA: 1s - loss: 0.9951 - acc: 0.517 - ETA: 1s - loss: 0.9928 - acc: 0.518 - ETA: 1s - loss: 0.9911 - acc: 0.519 - ETA: 1s - loss: 0.9922 - acc: 0.520 - ETA: 1s - loss: 0.9915 - acc: 0.519 - ETA: 1s - loss: 0.9904 - acc: 0.520 - ETA: 1s - loss: 0.9908 - acc: 0.519 - ETA: 0s - loss: 0.9919 - acc: 0.519 - ETA: 0s - loss: 0.9899 - acc: 0.520 - ETA: 0s - loss: 0.9893 - acc: 0.521 - ETA: 0s - loss: 0.9900 - acc: 0.521 - ETA: 0s - loss: 0.9907 - acc: 0.520 - ETA: 0s - loss: 0.9909 - acc: 0.521 - ETA: 0s - loss: 0.9900 - acc: 0.521 - ETA: 0s - loss: 0.9890 - acc: 0.522 - ETA: 0s - loss: 0.9896 - acc: 0.522 - ETA: 0s - loss: 0.9904 - acc: 0.522 - ETA: 0s - loss: 0.9900 - acc: 0.523 - ETA: 0s - loss: 0.9904 - acc: 0.523 - ETA: 0s - loss: 0.9893 - acc: 0.524 - ETA: 0s - loss: 0.9900 - acc: 0.523 - ETA: 0s - loss: 0.9902 - acc: 0.523 - ETA: 0s - loss: 0.9904 - acc: 0.523 - ETA: 0s - loss: 0.9906 - acc: 0.524 - ETA: 0s - loss: 0.9911 - acc: 0.523 - ETA: 0s - loss: 0.9902 - acc: 0.524 - ETA: 0s - loss: 0.9908 - acc: 0.523 - 3s 442us/sample - loss: 0.9910 - acc: 0.5232 - val_loss: 0.9719 - val_acc: 0.5313\n",
      "Epoch 5/10\n",
      "6550/7112 [==========================>...] - ETA: 5s - loss: 0.9943 - acc: 0.700 - ETA: 2s - loss: 0.9953 - acc: 0.543 - ETA: 2s - loss: 0.9905 - acc: 0.531 - ETA: 2s - loss: 0.9956 - acc: 0.514 - ETA: 2s - loss: 0.9938 - acc: 0.503 - ETA: 2s - loss: 0.9972 - acc: 0.501 - ETA: 2s - loss: 0.9973 - acc: 0.507 - ETA: 2s - loss: 0.9989 - acc: 0.510 - ETA: 2s - loss: 0.9889 - acc: 0.522 - ETA: 2s - loss: 0.9893 - acc: 0.523 - ETA: 2s - loss: 0.9823 - acc: 0.526 - ETA: 2s - loss: 0.9899 - acc: 0.519 - ETA: 2s - loss: 0.9912 - acc: 0.519 - ETA: 1s - loss: 0.9914 - acc: 0.518 - ETA: 1s - loss: 0.9941 - acc: 0.514 - ETA: 1s - loss: 0.9956 - acc: 0.513 - ETA: 1s - loss: 0.9962 - acc: 0.513 - ETA: 1s - loss: 0.9981 - acc: 0.514 - ETA: 1s - loss: 0.9994 - acc: 0.513 - ETA: 1s - loss: 1.0009 - acc: 0.511 - ETA: 1s - loss: 1.0019 - acc: 0.511 - ETA: 1s - loss: 1.0037 - acc: 0.507 - ETA: 1s - loss: 1.0025 - acc: 0.510 - ETA: 1s - loss: 1.0012 - acc: 0.512 - ETA: 1s - loss: 1.0006 - acc: 0.512 - ETA: 1s - loss: 1.0051 - acc: 0.509 - ETA: 1s - loss: 1.0056 - acc: 0.510 - ETA: 1s - loss: 1.0064 - acc: 0.509 - ETA: 1s - loss: 1.0050 - acc: 0.510 - ETA: 1s - loss: 1.0037 - acc: 0.512 - ETA: 1s - loss: 1.0022 - acc: 0.513 - ETA: 1s - loss: 0.9977 - acc: 0.517 - ETA: 1s - loss: 0.9975 - acc: 0.518 - ETA: 0s - loss: 0.9981 - acc: 0.517 - ETA: 0s - loss: 0.9981 - acc: 0.519 - ETA: 0s - loss: 0.9973 - acc: 0.520 - ETA: 0s - loss: 0.9977 - acc: 0.520 - ETA: 0s - loss: 0.9975 - acc: 0.519 - ETA: 0s - loss: 0.9964 - acc: 0.519 - ETA: 0s - loss: 0.9958 - acc: 0.521 - ETA: 0s - loss: 0.9956 - acc: 0.521 - ETA: 0s - loss: 0.9946 - acc: 0.521 - ETA: 0s - loss: 0.9939 - acc: 0.522 - ETA: 0s - loss: 0.9930 - acc: 0.522 - ETA: 0s - loss: 0.9917 - acc: 0.523 - ETA: 0s - loss: 0.9919 - acc: 0.523 - ETA: 0s - loss: 0.9924 - acc: 0.523 - ETA: 0s - loss: 0.9926 - acc: 0.523 - ETA: 0s - loss: 0.9922 - acc: 0.523 - ETA: 0s - loss: 0.9925 - acc: 0.523 - ETA: 0s - loss: 0.9920 - acc: 0.524 - ETA: 0s - loss: 0.9921 - acc: 0.524 - ETA: 0s - loss: 0.9908 - acc: 0.525 - ETA: 0s - loss: 0.9886 - acc: 0.527 - ETA: 0s - loss: 0.9896 - acc: 0.5269"
     ]
    }
   ],
   "source": [
    "log_dir = f\"{int(time.time())}\"\n",
    "\n",
    "def build_model(hp):\n",
    "    model = tf.keras.models.Sequential()\n",
    "    \n",
    "    model.add(tf.keras.layers.Dense(hp.Int(\"n_input_neurons\",min_value = 10, max_value = 200, step = 20), input_dim=n_features, activation =tf.nn.relu))\n",
    "    \n",
    "    for i in range(hp.Int(\"n_layers\", 1, 4)):\n",
    "        model.add(tf.keras.layers.Dense(hp.Int(f\"layer_{i}_neurons\",min_value = 10, max_value = 200, step = 20), activation =tf.nn.relu))\n",
    "\n",
    "    #Output layer\n",
    "    model.add(tf.keras.layers.Dense(n_classes,activation =tf.nn.softmax))\n",
    "\n",
    "    #Compile\n",
    "    model.compile(optimizer = 'adam',\n",
    "                  loss = 'categorical_crossentropy',\n",
    "                  metrics = [\"accuracy\"])\n",
    "    return model\n",
    "\n",
    "tuner = RandomSearch(\n",
    "        build_model,\n",
    "        objective = \"val_acc\",\n",
    "        max_trials = 100,\n",
    "        executions_per_trial = 1,\n",
    "        directory = log_dir\n",
    "        )\n",
    "\n",
    "tuner.search(x = train_X,\n",
    "             y = train_Y_onehot_encoded,\n",
    "             epochs = 10,\n",
    "             batch_size = 10,\n",
    "             validation_data = (test_X, test_Y_onehot_encoded))"
   ]
  },
  {
   "cell_type": "code",
   "execution_count": 20,
   "metadata": {},
   "outputs": [
    {
     "name": "stdout",
     "output_type": "stream",
     "text": [
      "The best hyperparemeters found are : \n",
      "{'n_neurons': 50, 'n_layers': 3, 'layer_0_neurons': 30, 'layer_1_neurons': 150, 'layer_2_neurons': 130}\n",
      "Now the results summary : \n"
     ]
    },
    {
     "data": {
      "text/html": [
       "<span style=\"color:#4527A0\"><h1 style=\"font-size:18px\">Results summary</h1></span>"
      ],
      "text/plain": [
       "<IPython.core.display.HTML object>"
      ]
     },
     "metadata": {},
     "output_type": "display_data"
    },
    {
     "data": {
      "text/html": [
       "<span style=\"color:cyan\"> |-Results in 1586908576/untitled_project</span>"
      ],
      "text/plain": [
       "<IPython.core.display.HTML object>"
      ]
     },
     "metadata": {},
     "output_type": "display_data"
    },
    {
     "data": {
      "text/html": [
       "<span style=\"color:cyan\"> |-Showing 10 best trials</span>"
      ],
      "text/plain": [
       "<IPython.core.display.HTML object>"
      ]
     },
     "metadata": {},
     "output_type": "display_data"
    },
    {
     "data": {
      "text/html": [
       "<span style=\"color:cyan\"> |-Objective(name='val_acc', direction='max')</span>"
      ],
      "text/plain": [
       "<IPython.core.display.HTML object>"
      ]
     },
     "metadata": {},
     "output_type": "display_data"
    },
    {
     "data": {
      "text/html": [
       "<span style=\"color:#4527A0\"><h1 style=\"font-size:18px\">Trial summary</h1></span>"
      ],
      "text/plain": [
       "<IPython.core.display.HTML object>"
      ]
     },
     "metadata": {},
     "output_type": "display_data"
    },
    {
     "data": {
      "text/html": [
       "<span style=\"color:cyan\"> |-Trial ID: fac68673c9302a442dc41b55a0d13451</span>"
      ],
      "text/plain": [
       "<IPython.core.display.HTML object>"
      ]
     },
     "metadata": {},
     "output_type": "display_data"
    },
    {
     "data": {
      "text/html": [
       "<span style=\"color:cyan\"> |-Score: 0.5354488492012024</span>"
      ],
      "text/plain": [
       "<IPython.core.display.HTML object>"
      ]
     },
     "metadata": {},
     "output_type": "display_data"
    },
    {
     "data": {
      "text/html": [
       "<span style=\"color:cyan\"> |-Best step: 0</span>"
      ],
      "text/plain": [
       "<IPython.core.display.HTML object>"
      ]
     },
     "metadata": {},
     "output_type": "display_data"
    },
    {
     "data": {
      "text/html": [
       "<span style=\"color:#7E57C2\"><h2 style=\"font-size:16px\">Hyperparameters:</h2></span>"
      ],
      "text/plain": [
       "<IPython.core.display.HTML object>"
      ]
     },
     "metadata": {},
     "output_type": "display_data"
    },
    {
     "data": {
      "text/html": [
       "<span style=\"color:cyan\"> |-layer_0_neurons: 30</span>"
      ],
      "text/plain": [
       "<IPython.core.display.HTML object>"
      ]
     },
     "metadata": {},
     "output_type": "display_data"
    },
    {
     "data": {
      "text/html": [
       "<span style=\"color:blue\"> |-layer_1_neurons: 150</span>"
      ],
      "text/plain": [
       "<IPython.core.display.HTML object>"
      ]
     },
     "metadata": {},
     "output_type": "display_data"
    },
    {
     "data": {
      "text/html": [
       "<span style=\"color:cyan\"> |-layer_2_neurons: 130</span>"
      ],
      "text/plain": [
       "<IPython.core.display.HTML object>"
      ]
     },
     "metadata": {},
     "output_type": "display_data"
    },
    {
     "data": {
      "text/html": [
       "<span style=\"color:blue\"> |-n_layers: 3</span>"
      ],
      "text/plain": [
       "<IPython.core.display.HTML object>"
      ]
     },
     "metadata": {},
     "output_type": "display_data"
    },
    {
     "data": {
      "text/html": [
       "<span style=\"color:cyan\"> |-n_neurons: 50</span>"
      ],
      "text/plain": [
       "<IPython.core.display.HTML object>"
      ]
     },
     "metadata": {},
     "output_type": "display_data"
    },
    {
     "data": {
      "text/html": [
       "<span style=\"color:#4527A0\"><h1 style=\"font-size:18px\">Trial summary</h1></span>"
      ],
      "text/plain": [
       "<IPython.core.display.HTML object>"
      ]
     },
     "metadata": {},
     "output_type": "display_data"
    },
    {
     "data": {
      "text/html": [
       "<span style=\"color:cyan\"> |-Trial ID: 7c80dc95865b2276ed84ed729a6b2584</span>"
      ],
      "text/plain": [
       "<IPython.core.display.HTML object>"
      ]
     },
     "metadata": {},
     "output_type": "display_data"
    },
    {
     "data": {
      "text/html": [
       "<span style=\"color:cyan\"> |-Score: 0.5354487895965576</span>"
      ],
      "text/plain": [
       "<IPython.core.display.HTML object>"
      ]
     },
     "metadata": {},
     "output_type": "display_data"
    },
    {
     "data": {
      "text/html": [
       "<span style=\"color:cyan\"> |-Best step: 0</span>"
      ],
      "text/plain": [
       "<IPython.core.display.HTML object>"
      ]
     },
     "metadata": {},
     "output_type": "display_data"
    },
    {
     "data": {
      "text/html": [
       "<span style=\"color:#7E57C2\"><h2 style=\"font-size:16px\">Hyperparameters:</h2></span>"
      ],
      "text/plain": [
       "<IPython.core.display.HTML object>"
      ]
     },
     "metadata": {},
     "output_type": "display_data"
    },
    {
     "data": {
      "text/html": [
       "<span style=\"color:cyan\"> |-layer_0_neurons: 130</span>"
      ],
      "text/plain": [
       "<IPython.core.display.HTML object>"
      ]
     },
     "metadata": {},
     "output_type": "display_data"
    },
    {
     "data": {
      "text/html": [
       "<span style=\"color:blue\"> |-n_layers: 1</span>"
      ],
      "text/plain": [
       "<IPython.core.display.HTML object>"
      ]
     },
     "metadata": {},
     "output_type": "display_data"
    },
    {
     "data": {
      "text/html": [
       "<span style=\"color:cyan\"> |-n_neurons: 150</span>"
      ],
      "text/plain": [
       "<IPython.core.display.HTML object>"
      ]
     },
     "metadata": {},
     "output_type": "display_data"
    },
    {
     "data": {
      "text/html": [
       "<span style=\"color:#4527A0\"><h1 style=\"font-size:18px\">Trial summary</h1></span>"
      ],
      "text/plain": [
       "<IPython.core.display.HTML object>"
      ]
     },
     "metadata": {},
     "output_type": "display_data"
    },
    {
     "data": {
      "text/html": [
       "<span style=\"color:cyan\"> |-Trial ID: eb8ef0b6eb016d813b16a76f5937b99e</span>"
      ],
      "text/plain": [
       "<IPython.core.display.HTML object>"
      ]
     },
     "metadata": {},
     "output_type": "display_data"
    },
    {
     "data": {
      "text/html": [
       "<span style=\"color:cyan\"> |-Score: 0.535305917263031</span>"
      ],
      "text/plain": [
       "<IPython.core.display.HTML object>"
      ]
     },
     "metadata": {},
     "output_type": "display_data"
    },
    {
     "data": {
      "text/html": [
       "<span style=\"color:cyan\"> |-Best step: 0</span>"
      ],
      "text/plain": [
       "<IPython.core.display.HTML object>"
      ]
     },
     "metadata": {},
     "output_type": "display_data"
    },
    {
     "data": {
      "text/html": [
       "<span style=\"color:#7E57C2\"><h2 style=\"font-size:16px\">Hyperparameters:</h2></span>"
      ],
      "text/plain": [
       "<IPython.core.display.HTML object>"
      ]
     },
     "metadata": {},
     "output_type": "display_data"
    },
    {
     "data": {
      "text/html": [
       "<span style=\"color:cyan\"> |-layer_0_neurons: 50</span>"
      ],
      "text/plain": [
       "<IPython.core.display.HTML object>"
      ]
     },
     "metadata": {},
     "output_type": "display_data"
    },
    {
     "data": {
      "text/html": [
       "<span style=\"color:blue\"> |-layer_1_neurons: 190</span>"
      ],
      "text/plain": [
       "<IPython.core.display.HTML object>"
      ]
     },
     "metadata": {},
     "output_type": "display_data"
    },
    {
     "data": {
      "text/html": [
       "<span style=\"color:cyan\"> |-layer_2_neurons: 150</span>"
      ],
      "text/plain": [
       "<IPython.core.display.HTML object>"
      ]
     },
     "metadata": {},
     "output_type": "display_data"
    },
    {
     "data": {
      "text/html": [
       "<span style=\"color:blue\"> |-n_layers: 3</span>"
      ],
      "text/plain": [
       "<IPython.core.display.HTML object>"
      ]
     },
     "metadata": {},
     "output_type": "display_data"
    },
    {
     "data": {
      "text/html": [
       "<span style=\"color:cyan\"> |-n_neurons: 130</span>"
      ],
      "text/plain": [
       "<IPython.core.display.HTML object>"
      ]
     },
     "metadata": {},
     "output_type": "display_data"
    },
    {
     "data": {
      "text/html": [
       "<span style=\"color:#4527A0\"><h1 style=\"font-size:18px\">Trial summary</h1></span>"
      ],
      "text/plain": [
       "<IPython.core.display.HTML object>"
      ]
     },
     "metadata": {},
     "output_type": "display_data"
    },
    {
     "data": {
      "text/html": [
       "<span style=\"color:cyan\"> |-Trial ID: c90c896d96041138b33382b827c3c20b</span>"
      ],
      "text/plain": [
       "<IPython.core.display.HTML object>"
      ]
     },
     "metadata": {},
     "output_type": "display_data"
    },
    {
     "data": {
      "text/html": [
       "<span style=\"color:cyan\"> |-Score: 0.5345911979675293</span>"
      ],
      "text/plain": [
       "<IPython.core.display.HTML object>"
      ]
     },
     "metadata": {},
     "output_type": "display_data"
    },
    {
     "data": {
      "text/html": [
       "<span style=\"color:cyan\"> |-Best step: 0</span>"
      ],
      "text/plain": [
       "<IPython.core.display.HTML object>"
      ]
     },
     "metadata": {},
     "output_type": "display_data"
    },
    {
     "data": {
      "text/html": [
       "<span style=\"color:#7E57C2\"><h2 style=\"font-size:16px\">Hyperparameters:</h2></span>"
      ],
      "text/plain": [
       "<IPython.core.display.HTML object>"
      ]
     },
     "metadata": {},
     "output_type": "display_data"
    },
    {
     "data": {
      "text/html": [
       "<span style=\"color:cyan\"> |-layer_0_neurons: 150</span>"
      ],
      "text/plain": [
       "<IPython.core.display.HTML object>"
      ]
     },
     "metadata": {},
     "output_type": "display_data"
    },
    {
     "data": {
      "text/html": [
       "<span style=\"color:blue\"> |-layer_1_neurons: 10</span>"
      ],
      "text/plain": [
       "<IPython.core.display.HTML object>"
      ]
     },
     "metadata": {},
     "output_type": "display_data"
    },
    {
     "data": {
      "text/html": [
       "<span style=\"color:cyan\"> |-n_layers: 2</span>"
      ],
      "text/plain": [
       "<IPython.core.display.HTML object>"
      ]
     },
     "metadata": {},
     "output_type": "display_data"
    },
    {
     "data": {
      "text/html": [
       "<span style=\"color:blue\"> |-n_neurons: 110</span>"
      ],
      "text/plain": [
       "<IPython.core.display.HTML object>"
      ]
     },
     "metadata": {},
     "output_type": "display_data"
    },
    {
     "data": {
      "text/html": [
       "<span style=\"color:#4527A0\"><h1 style=\"font-size:18px\">Trial summary</h1></span>"
      ],
      "text/plain": [
       "<IPython.core.display.HTML object>"
      ]
     },
     "metadata": {},
     "output_type": "display_data"
    },
    {
     "data": {
      "text/html": [
       "<span style=\"color:cyan\"> |-Trial ID: 71ff52bc15a382334c86d4655d502111</span>"
      ],
      "text/plain": [
       "<IPython.core.display.HTML object>"
      ]
     },
     "metadata": {},
     "output_type": "display_data"
    },
    {
     "data": {
      "text/html": [
       "<span style=\"color:cyan\"> |-Score: 0.5345911979675293</span>"
      ],
      "text/plain": [
       "<IPython.core.display.HTML object>"
      ]
     },
     "metadata": {},
     "output_type": "display_data"
    },
    {
     "data": {
      "text/html": [
       "<span style=\"color:cyan\"> |-Best step: 0</span>"
      ],
      "text/plain": [
       "<IPython.core.display.HTML object>"
      ]
     },
     "metadata": {},
     "output_type": "display_data"
    },
    {
     "data": {
      "text/html": [
       "<span style=\"color:#7E57C2\"><h2 style=\"font-size:16px\">Hyperparameters:</h2></span>"
      ],
      "text/plain": [
       "<IPython.core.display.HTML object>"
      ]
     },
     "metadata": {},
     "output_type": "display_data"
    },
    {
     "data": {
      "text/html": [
       "<span style=\"color:cyan\"> |-layer_0_neurons: 130</span>"
      ],
      "text/plain": [
       "<IPython.core.display.HTML object>"
      ]
     },
     "metadata": {},
     "output_type": "display_data"
    },
    {
     "data": {
      "text/html": [
       "<span style=\"color:blue\"> |-layer_1_neurons: 110</span>"
      ],
      "text/plain": [
       "<IPython.core.display.HTML object>"
      ]
     },
     "metadata": {},
     "output_type": "display_data"
    },
    {
     "data": {
      "text/html": [
       "<span style=\"color:cyan\"> |-layer_2_neurons: 90</span>"
      ],
      "text/plain": [
       "<IPython.core.display.HTML object>"
      ]
     },
     "metadata": {},
     "output_type": "display_data"
    },
    {
     "data": {
      "text/html": [
       "<span style=\"color:blue\"> |-n_layers: 3</span>"
      ],
      "text/plain": [
       "<IPython.core.display.HTML object>"
      ]
     },
     "metadata": {},
     "output_type": "display_data"
    },
    {
     "data": {
      "text/html": [
       "<span style=\"color:cyan\"> |-n_neurons: 190</span>"
      ],
      "text/plain": [
       "<IPython.core.display.HTML object>"
      ]
     },
     "metadata": {},
     "output_type": "display_data"
    },
    {
     "data": {
      "text/html": [
       "<span style=\"color:#4527A0\"><h1 style=\"font-size:18px\">Trial summary</h1></span>"
      ],
      "text/plain": [
       "<IPython.core.display.HTML object>"
      ]
     },
     "metadata": {},
     "output_type": "display_data"
    },
    {
     "data": {
      "text/html": [
       "<span style=\"color:cyan\"> |-Trial ID: 81bb6bbf5d13031582ce04655efa6e6a</span>"
      ],
      "text/plain": [
       "<IPython.core.display.HTML object>"
      ]
     },
     "metadata": {},
     "output_type": "display_data"
    },
    {
     "data": {
      "text/html": [
       "<span style=\"color:cyan\"> |-Score: 0.5345911979675293</span>"
      ],
      "text/plain": [
       "<IPython.core.display.HTML object>"
      ]
     },
     "metadata": {},
     "output_type": "display_data"
    },
    {
     "data": {
      "text/html": [
       "<span style=\"color:cyan\"> |-Best step: 0</span>"
      ],
      "text/plain": [
       "<IPython.core.display.HTML object>"
      ]
     },
     "metadata": {},
     "output_type": "display_data"
    },
    {
     "data": {
      "text/html": [
       "<span style=\"color:#7E57C2\"><h2 style=\"font-size:16px\">Hyperparameters:</h2></span>"
      ],
      "text/plain": [
       "<IPython.core.display.HTML object>"
      ]
     },
     "metadata": {},
     "output_type": "display_data"
    },
    {
     "data": {
      "text/html": [
       "<span style=\"color:cyan\"> |-layer_0_neurons: 50</span>"
      ],
      "text/plain": [
       "<IPython.core.display.HTML object>"
      ]
     },
     "metadata": {},
     "output_type": "display_data"
    },
    {
     "data": {
      "text/html": [
       "<span style=\"color:blue\"> |-layer_1_neurons: 50</span>"
      ],
      "text/plain": [
       "<IPython.core.display.HTML object>"
      ]
     },
     "metadata": {},
     "output_type": "display_data"
    },
    {
     "data": {
      "text/html": [
       "<span style=\"color:cyan\"> |-layer_2_neurons: 30</span>"
      ],
      "text/plain": [
       "<IPython.core.display.HTML object>"
      ]
     },
     "metadata": {},
     "output_type": "display_data"
    },
    {
     "data": {
      "text/html": [
       "<span style=\"color:blue\"> |-layer_3_neurons: 90</span>"
      ],
      "text/plain": [
       "<IPython.core.display.HTML object>"
      ]
     },
     "metadata": {},
     "output_type": "display_data"
    },
    {
     "data": {
      "text/html": [
       "<span style=\"color:cyan\"> |-n_layers: 3</span>"
      ],
      "text/plain": [
       "<IPython.core.display.HTML object>"
      ]
     },
     "metadata": {},
     "output_type": "display_data"
    },
    {
     "data": {
      "text/html": [
       "<span style=\"color:blue\"> |-n_neurons: 130</span>"
      ],
      "text/plain": [
       "<IPython.core.display.HTML object>"
      ]
     },
     "metadata": {},
     "output_type": "display_data"
    },
    {
     "data": {
      "text/html": [
       "<span style=\"color:#4527A0\"><h1 style=\"font-size:18px\">Trial summary</h1></span>"
      ],
      "text/plain": [
       "<IPython.core.display.HTML object>"
      ]
     },
     "metadata": {},
     "output_type": "display_data"
    },
    {
     "data": {
      "text/html": [
       "<span style=\"color:cyan\"> |-Trial ID: bbdc3e4cace0c93c632fc44ab9d75fe4</span>"
      ],
      "text/plain": [
       "<IPython.core.display.HTML object>"
      ]
     },
     "metadata": {},
     "output_type": "display_data"
    },
    {
     "data": {
      "text/html": [
       "<span style=\"color:cyan\"> |-Score: 0.5345911979675293</span>"
      ],
      "text/plain": [
       "<IPython.core.display.HTML object>"
      ]
     },
     "metadata": {},
     "output_type": "display_data"
    },
    {
     "data": {
      "text/html": [
       "<span style=\"color:cyan\"> |-Best step: 0</span>"
      ],
      "text/plain": [
       "<IPython.core.display.HTML object>"
      ]
     },
     "metadata": {},
     "output_type": "display_data"
    },
    {
     "data": {
      "text/html": [
       "<span style=\"color:#7E57C2\"><h2 style=\"font-size:16px\">Hyperparameters:</h2></span>"
      ],
      "text/plain": [
       "<IPython.core.display.HTML object>"
      ]
     },
     "metadata": {},
     "output_type": "display_data"
    },
    {
     "data": {
      "text/html": [
       "<span style=\"color:cyan\"> |-layer_0_neurons: 50</span>"
      ],
      "text/plain": [
       "<IPython.core.display.HTML object>"
      ]
     },
     "metadata": {},
     "output_type": "display_data"
    },
    {
     "data": {
      "text/html": [
       "<span style=\"color:blue\"> |-layer_1_neurons: 150</span>"
      ],
      "text/plain": [
       "<IPython.core.display.HTML object>"
      ]
     },
     "metadata": {},
     "output_type": "display_data"
    },
    {
     "data": {
      "text/html": [
       "<span style=\"color:cyan\"> |-layer_2_neurons: 70</span>"
      ],
      "text/plain": [
       "<IPython.core.display.HTML object>"
      ]
     },
     "metadata": {},
     "output_type": "display_data"
    },
    {
     "data": {
      "text/html": [
       "<span style=\"color:blue\"> |-layer_3_neurons: 170</span>"
      ],
      "text/plain": [
       "<IPython.core.display.HTML object>"
      ]
     },
     "metadata": {},
     "output_type": "display_data"
    },
    {
     "data": {
      "text/html": [
       "<span style=\"color:cyan\"> |-n_layers: 4</span>"
      ],
      "text/plain": [
       "<IPython.core.display.HTML object>"
      ]
     },
     "metadata": {},
     "output_type": "display_data"
    },
    {
     "data": {
      "text/html": [
       "<span style=\"color:blue\"> |-n_neurons: 70</span>"
      ],
      "text/plain": [
       "<IPython.core.display.HTML object>"
      ]
     },
     "metadata": {},
     "output_type": "display_data"
    },
    {
     "data": {
      "text/html": [
       "<span style=\"color:#4527A0\"><h1 style=\"font-size:18px\">Trial summary</h1></span>"
      ],
      "text/plain": [
       "<IPython.core.display.HTML object>"
      ]
     },
     "metadata": {},
     "output_type": "display_data"
    },
    {
     "data": {
      "text/html": [
       "<span style=\"color:cyan\"> |-Trial ID: ac2054070d740055c12a6166cd7695a0</span>"
      ],
      "text/plain": [
       "<IPython.core.display.HTML object>"
      ]
     },
     "metadata": {},
     "output_type": "display_data"
    },
    {
     "data": {
      "text/html": [
       "<span style=\"color:cyan\"> |-Score: 0.5343052744865417</span>"
      ],
      "text/plain": [
       "<IPython.core.display.HTML object>"
      ]
     },
     "metadata": {},
     "output_type": "display_data"
    },
    {
     "data": {
      "text/html": [
       "<span style=\"color:cyan\"> |-Best step: 0</span>"
      ],
      "text/plain": [
       "<IPython.core.display.HTML object>"
      ]
     },
     "metadata": {},
     "output_type": "display_data"
    },
    {
     "data": {
      "text/html": [
       "<span style=\"color:#7E57C2\"><h2 style=\"font-size:16px\">Hyperparameters:</h2></span>"
      ],
      "text/plain": [
       "<IPython.core.display.HTML object>"
      ]
     },
     "metadata": {},
     "output_type": "display_data"
    },
    {
     "data": {
      "text/html": [
       "<span style=\"color:cyan\"> |-layer_0_neurons: 130</span>"
      ],
      "text/plain": [
       "<IPython.core.display.HTML object>"
      ]
     },
     "metadata": {},
     "output_type": "display_data"
    },
    {
     "data": {
      "text/html": [
       "<span style=\"color:blue\"> |-layer_1_neurons: 30</span>"
      ],
      "text/plain": [
       "<IPython.core.display.HTML object>"
      ]
     },
     "metadata": {},
     "output_type": "display_data"
    },
    {
     "data": {
      "text/html": [
       "<span style=\"color:cyan\"> |-layer_2_neurons: 70</span>"
      ],
      "text/plain": [
       "<IPython.core.display.HTML object>"
      ]
     },
     "metadata": {},
     "output_type": "display_data"
    },
    {
     "data": {
      "text/html": [
       "<span style=\"color:blue\"> |-n_layers: 2</span>"
      ],
      "text/plain": [
       "<IPython.core.display.HTML object>"
      ]
     },
     "metadata": {},
     "output_type": "display_data"
    },
    {
     "data": {
      "text/html": [
       "<span style=\"color:cyan\"> |-n_neurons: 10</span>"
      ],
      "text/plain": [
       "<IPython.core.display.HTML object>"
      ]
     },
     "metadata": {},
     "output_type": "display_data"
    },
    {
     "data": {
      "text/html": [
       "<span style=\"color:#4527A0\"><h1 style=\"font-size:18px\">Trial summary</h1></span>"
      ],
      "text/plain": [
       "<IPython.core.display.HTML object>"
      ]
     },
     "metadata": {},
     "output_type": "display_data"
    },
    {
     "data": {
      "text/html": [
       "<span style=\"color:cyan\"> |-Trial ID: f39f33798fad64f78cd5dcbbb5260933</span>"
      ],
      "text/plain": [
       "<IPython.core.display.HTML object>"
      ]
     },
     "metadata": {},
     "output_type": "display_data"
    },
    {
     "data": {
      "text/html": [
       "<span style=\"color:cyan\"> |-Score: 0.5338764786720276</span>"
      ],
      "text/plain": [
       "<IPython.core.display.HTML object>"
      ]
     },
     "metadata": {},
     "output_type": "display_data"
    },
    {
     "data": {
      "text/html": [
       "<span style=\"color:cyan\"> |-Best step: 0</span>"
      ],
      "text/plain": [
       "<IPython.core.display.HTML object>"
      ]
     },
     "metadata": {},
     "output_type": "display_data"
    },
    {
     "data": {
      "text/html": [
       "<span style=\"color:#7E57C2\"><h2 style=\"font-size:16px\">Hyperparameters:</h2></span>"
      ],
      "text/plain": [
       "<IPython.core.display.HTML object>"
      ]
     },
     "metadata": {},
     "output_type": "display_data"
    },
    {
     "data": {
      "text/html": [
       "<span style=\"color:cyan\"> |-layer_0_neurons: 50</span>"
      ],
      "text/plain": [
       "<IPython.core.display.HTML object>"
      ]
     },
     "metadata": {},
     "output_type": "display_data"
    },
    {
     "data": {
      "text/html": [
       "<span style=\"color:blue\"> |-layer_1_neurons: 50</span>"
      ],
      "text/plain": [
       "<IPython.core.display.HTML object>"
      ]
     },
     "metadata": {},
     "output_type": "display_data"
    },
    {
     "data": {
      "text/html": [
       "<span style=\"color:cyan\"> |-layer_2_neurons: 170</span>"
      ],
      "text/plain": [
       "<IPython.core.display.HTML object>"
      ]
     },
     "metadata": {},
     "output_type": "display_data"
    },
    {
     "data": {
      "text/html": [
       "<span style=\"color:blue\"> |-n_layers: 2</span>"
      ],
      "text/plain": [
       "<IPython.core.display.HTML object>"
      ]
     },
     "metadata": {},
     "output_type": "display_data"
    },
    {
     "data": {
      "text/html": [
       "<span style=\"color:cyan\"> |-n_neurons: 190</span>"
      ],
      "text/plain": [
       "<IPython.core.display.HTML object>"
      ]
     },
     "metadata": {},
     "output_type": "display_data"
    },
    {
     "data": {
      "text/html": [
       "<span style=\"color:#4527A0\"><h1 style=\"font-size:18px\">Trial summary</h1></span>"
      ],
      "text/plain": [
       "<IPython.core.display.HTML object>"
      ]
     },
     "metadata": {},
     "output_type": "display_data"
    },
    {
     "data": {
      "text/html": [
       "<span style=\"color:cyan\"> |-Trial ID: 604b63f12e4dd4233fa3970db9876481</span>"
      ],
      "text/plain": [
       "<IPython.core.display.HTML object>"
      ]
     },
     "metadata": {},
     "output_type": "display_data"
    },
    {
     "data": {
      "text/html": [
       "<span style=\"color:cyan\"> |-Score: 0.533733606338501</span>"
      ],
      "text/plain": [
       "<IPython.core.display.HTML object>"
      ]
     },
     "metadata": {},
     "output_type": "display_data"
    },
    {
     "data": {
      "text/html": [
       "<span style=\"color:cyan\"> |-Best step: 0</span>"
      ],
      "text/plain": [
       "<IPython.core.display.HTML object>"
      ]
     },
     "metadata": {},
     "output_type": "display_data"
    },
    {
     "data": {
      "text/html": [
       "<span style=\"color:#7E57C2\"><h2 style=\"font-size:16px\">Hyperparameters:</h2></span>"
      ],
      "text/plain": [
       "<IPython.core.display.HTML object>"
      ]
     },
     "metadata": {},
     "output_type": "display_data"
    },
    {
     "data": {
      "text/html": [
       "<span style=\"color:cyan\"> |-layer_0_neurons: 30</span>"
      ],
      "text/plain": [
       "<IPython.core.display.HTML object>"
      ]
     },
     "metadata": {},
     "output_type": "display_data"
    },
    {
     "data": {
      "text/html": [
       "<span style=\"color:blue\"> |-layer_1_neurons: 190</span>"
      ],
      "text/plain": [
       "<IPython.core.display.HTML object>"
      ]
     },
     "metadata": {},
     "output_type": "display_data"
    },
    {
     "data": {
      "text/html": [
       "<span style=\"color:cyan\"> |-layer_2_neurons: 30</span>"
      ],
      "text/plain": [
       "<IPython.core.display.HTML object>"
      ]
     },
     "metadata": {},
     "output_type": "display_data"
    },
    {
     "data": {
      "text/html": [
       "<span style=\"color:blue\"> |-n_layers: 2</span>"
      ],
      "text/plain": [
       "<IPython.core.display.HTML object>"
      ]
     },
     "metadata": {},
     "output_type": "display_data"
    },
    {
     "data": {
      "text/html": [
       "<span style=\"color:cyan\"> |-n_neurons: 30</span>"
      ],
      "text/plain": [
       "<IPython.core.display.HTML object>"
      ]
     },
     "metadata": {},
     "output_type": "display_data"
    },
    {
     "name": "stdout",
     "output_type": "stream",
     "text": [
      "None\n",
      "The summary for the best model : \n",
      "Model: \"sequential\"\n",
      "_________________________________________________________________\n",
      "Layer (type)                 Output Shape              Param #   \n",
      "=================================================================\n",
      "dense (Dense)                (None, 50)                950       \n",
      "_________________________________________________________________\n",
      "dense_1 (Dense)              (None, 30)                1530      \n",
      "_________________________________________________________________\n",
      "dense_2 (Dense)              (None, 150)               4650      \n",
      "_________________________________________________________________\n",
      "dense_3 (Dense)              (None, 130)               19630     \n",
      "_________________________________________________________________\n",
      "dense_4 (Dense)              (None, 3)                 393       \n",
      "=================================================================\n",
      "Total params: 27,153\n",
      "Trainable params: 27,153\n",
      "Non-trainable params: 0\n",
      "_________________________________________________________________\n",
      "None\n"
     ]
    }
   ],
   "source": [
    "print(\"The best hyperparemeters found are : \")\n",
    "print(tuner.get_best_hyperparameters()[0].values)\n",
    "print(\"Now the results summary : \")\n",
    "print(tuner.results_summary())\n",
    "print(\"The summary for the best model : \")\n",
    "print(tuner.get_best_models()[0].summary())"
   ]
  },
  {
   "cell_type": "code",
   "execution_count": null,
   "metadata": {},
   "outputs": [],
   "source": []
  },
  {
   "cell_type": "markdown",
   "metadata": {},
   "source": [
    "## Visualize model"
   ]
  },
  {
   "cell_type": "code",
   "execution_count": 95,
   "metadata": {},
   "outputs": [
    {
     "name": "stdout",
     "output_type": "stream",
     "text": [
      "Failed to import pydot. You must install pydot and graphviz for `pydotprint` to work.\n"
     ]
    }
   ],
   "source": []
  },
  {
   "cell_type": "markdown",
   "metadata": {},
   "source": [
    "## Testing"
   ]
  },
  {
   "cell_type": "code",
   "execution_count": 94,
   "metadata": {},
   "outputs": [
    {
     "name": "stdout",
     "output_type": "stream",
     "text": [
      "2332/2332 [==============================] - 0s 180us/sample - loss: 0.9809 - acc: 0.5356\n",
      "0.9809185769504789 0.5355918\n"
     ]
    }
   ],
   "source": [
    "#Fitting\n",
    "test_X = test_x.values\n",
    "test_Y = test_y.values\n",
    "# integer encode\n",
    "label_encoder = LabelEncoder()\n",
    "integer_encoded = label_encoder.fit_transform(test_Y)\n",
    "# binary encode\n",
    "onehot_encoder = OneHotEncoder(sparse=False)\n",
    "integer_encoded = integer_encoded.reshape(len(integer_encoded), 1)\n",
    "test_Y_onehot_encoded = onehot_encoder.fit_transform(integer_encoded)\n",
    "\n",
    "\n",
    "val_cross, val_acc = model.evaluate(test_X, test_Y_onehot_encoded)\n",
    "print(val_cross, val_acc)"
   ]
  },
  {
   "cell_type": "markdown",
   "metadata": {},
   "source": [
    "# Function to optimize"
   ]
  },
  {
   "cell_type": "raw",
   "metadata": {},
   "source": [
    "Expected gain when you bet on a result\n",
    "E(G) = probability x (odd - 1) - (1 - probability) x 1\n",
    "E(G) = probability x odd - 1"
   ]
  },
  {
   "cell_type": "code",
   "execution_count": 40,
   "metadata": {},
   "outputs": [
    {
     "data": {
      "image/png": "[encoded data removed]",
      "text/plain": [
       "<Figure size 432x288 with 2 Axes>"
      ]
     },
     "metadata": {
      "needs_background": "light"
     },
     "output_type": "display_data"
    }
   ],
   "source": [
    "from numpy import arange\n",
    "from pylab import meshgrid,cm,imshow,contour,clabel,colorbar,axis,title,show\n",
    "\n",
    "# the function that I'm going to plot\n",
    "def z_func(x,y):\n",
    "    return (x*y - 1)\n",
    " \n",
    "prob = arange(0.0,1.0,0.01)\n",
    "odd = arange(1.0,5.0,0.05)\n",
    "X,Y = meshgrid(prob, odd) # grid of point\n",
    "Z = z_func(X, Y) # evaluation of the function on the grid\n",
    "\n",
    "im = imshow(Z,origin = 'lower') # drawing the function\n",
    "\n",
    "# adding the Contour lines with labels\n",
    "cset = contour(Z,[0.0, 0.5],linewidths=1,cmap=cm.Set2)\n",
    "clabel(cset,inline=True,fmt='%1.1f',fontsize=10)\n",
    "\n",
    "colorbar(im) # adding the colobar on the right\n",
    "\n",
    "show()"
   ]
  },
  {
   "cell_type": "markdown",
   "metadata": {},
   "source": [
    "# Performance analysis"
   ]
  },
  {
   "cell_type": "markdown",
   "metadata": {},
   "source": [
    "## Calculations of expected gain for each result"
   ]
  },
  {
   "cell_type": "code",
   "execution_count": 41,
   "metadata": {},
   "outputs": [
    {
     "data": {
      "text/html": [
       "<div>\n",
       "<style scoped>\n",
       "    .dataframe tbody tr th:only-of-type {\n",
       "        vertical-align: middle;\n",
       "    }\n",
       "\n",
       "    .dataframe tbody tr th {\n",
       "        vertical-align: top;\n",
       "    }\n",
       "\n",
       "    .dataframe thead th {\n",
       "        text-align: right;\n",
       "    }\n",
       "</style>\n",
       "<table border=\"1\" class=\"dataframe\">\n",
       "  <thead>\n",
       "    <tr style=\"text-align: right;\">\n",
       "      <th></th>\n",
       "      <th>FTR</th>\n",
       "      <th>IWA</th>\n",
       "      <th>IWD</th>\n",
       "      <th>IWH</th>\n",
       "      <th>P(A)</th>\n",
       "      <th>E(A)</th>\n",
       "      <th>P(D)</th>\n",
       "      <th>E(D)</th>\n",
       "      <th>P(H)</th>\n",
       "      <th>E(H)</th>\n",
       "    </tr>\n",
       "  </thead>\n",
       "  <tbody>\n",
       "    <tr>\n",
       "      <td>50</td>\n",
       "      <td>D</td>\n",
       "      <td>3.40</td>\n",
       "      <td>3.25</td>\n",
       "      <td>2.20</td>\n",
       "      <td>0.206847</td>\n",
       "      <td>-0.296721</td>\n",
       "      <td>0.326517</td>\n",
       "      <td>0.061182</td>\n",
       "      <td>0.466636</td>\n",
       "      <td>0.026599</td>\n",
       "    </tr>\n",
       "    <tr>\n",
       "      <td>51</td>\n",
       "      <td>H</td>\n",
       "      <td>5.30</td>\n",
       "      <td>3.80</td>\n",
       "      <td>1.65</td>\n",
       "      <td>0.098136</td>\n",
       "      <td>-0.479877</td>\n",
       "      <td>0.234909</td>\n",
       "      <td>-0.107347</td>\n",
       "      <td>0.666955</td>\n",
       "      <td>0.100475</td>\n",
       "    </tr>\n",
       "    <tr>\n",
       "      <td>52</td>\n",
       "      <td>A</td>\n",
       "      <td>2.00</td>\n",
       "      <td>3.40</td>\n",
       "      <td>3.80</td>\n",
       "      <td>0.156232</td>\n",
       "      <td>-0.687536</td>\n",
       "      <td>0.262154</td>\n",
       "      <td>-0.108677</td>\n",
       "      <td>0.581614</td>\n",
       "      <td>1.210133</td>\n",
       "    </tr>\n",
       "    <tr>\n",
       "      <td>53</td>\n",
       "      <td>H</td>\n",
       "      <td>18.00</td>\n",
       "      <td>7.50</td>\n",
       "      <td>1.15</td>\n",
       "      <td>0.278422</td>\n",
       "      <td>4.011590</td>\n",
       "      <td>0.286427</td>\n",
       "      <td>1.148205</td>\n",
       "      <td>0.435151</td>\n",
       "      <td>-0.499576</td>\n",
       "    </tr>\n",
       "    <tr>\n",
       "      <td>54</td>\n",
       "      <td>A</td>\n",
       "      <td>1.75</td>\n",
       "      <td>3.60</td>\n",
       "      <td>4.80</td>\n",
       "      <td>0.326677</td>\n",
       "      <td>-0.428315</td>\n",
       "      <td>0.282189</td>\n",
       "      <td>0.015880</td>\n",
       "      <td>0.391134</td>\n",
       "      <td>0.877443</td>\n",
       "    </tr>\n",
       "    <tr>\n",
       "      <td>...</td>\n",
       "      <td>...</td>\n",
       "      <td>...</td>\n",
       "      <td>...</td>\n",
       "      <td>...</td>\n",
       "      <td>...</td>\n",
       "      <td>...</td>\n",
       "      <td>...</td>\n",
       "      <td>...</td>\n",
       "      <td>...</td>\n",
       "      <td>...</td>\n",
       "    </tr>\n",
       "    <tr>\n",
       "      <td>199</td>\n",
       "      <td>A</td>\n",
       "      <td>2.90</td>\n",
       "      <td>3.40</td>\n",
       "      <td>2.40</td>\n",
       "      <td>0.185691</td>\n",
       "      <td>-0.461495</td>\n",
       "      <td>0.226549</td>\n",
       "      <td>-0.229732</td>\n",
       "      <td>0.587759</td>\n",
       "      <td>0.410622</td>\n",
       "    </tr>\n",
       "    <tr>\n",
       "      <td>200</td>\n",
       "      <td>D</td>\n",
       "      <td>4.75</td>\n",
       "      <td>4.30</td>\n",
       "      <td>1.65</td>\n",
       "      <td>0.069646</td>\n",
       "      <td>-0.669181</td>\n",
       "      <td>0.166684</td>\n",
       "      <td>-0.283260</td>\n",
       "      <td>0.763670</td>\n",
       "      <td>0.260056</td>\n",
       "    </tr>\n",
       "    <tr>\n",
       "      <td>202</td>\n",
       "      <td>A</td>\n",
       "      <td>1.80</td>\n",
       "      <td>3.95</td>\n",
       "      <td>4.15</td>\n",
       "      <td>0.309585</td>\n",
       "      <td>-0.442747</td>\n",
       "      <td>0.283367</td>\n",
       "      <td>0.119300</td>\n",
       "      <td>0.407048</td>\n",
       "      <td>0.689248</td>\n",
       "    </tr>\n",
       "    <tr>\n",
       "      <td>203</td>\n",
       "      <td>H</td>\n",
       "      <td>6.10</td>\n",
       "      <td>4.70</td>\n",
       "      <td>1.48</td>\n",
       "      <td>0.723435</td>\n",
       "      <td>3.412952</td>\n",
       "      <td>0.179851</td>\n",
       "      <td>-0.154698</td>\n",
       "      <td>0.096714</td>\n",
       "      <td>-0.856864</td>\n",
       "    </tr>\n",
       "    <tr>\n",
       "      <td>204</td>\n",
       "      <td>H</td>\n",
       "      <td>4.30</td>\n",
       "      <td>3.85</td>\n",
       "      <td>1.80</td>\n",
       "      <td>0.164330</td>\n",
       "      <td>-0.293382</td>\n",
       "      <td>0.262026</td>\n",
       "      <td>0.008802</td>\n",
       "      <td>0.573644</td>\n",
       "      <td>0.032559</td>\n",
       "    </tr>\n",
       "  </tbody>\n",
       "</table>\n",
       "<p>2332 rows × 10 columns</p>\n",
       "</div>"
      ],
      "text/plain": [
       "    FTR    IWA   IWD   IWH      P(A)      E(A)      P(D)      E(D)      P(H)  \\\n",
       "50    D   3.40  3.25  2.20  0.206847 -0.296721  0.326517  0.061182  0.466636   \n",
       "51    H   5.30  3.80  1.65  0.098136 -0.479877  0.234909 -0.107347  0.666955   \n",
       "52    A   2.00  3.40  3.80  0.156232 -0.687536  0.262154 -0.108677  0.581614   \n",
       "53    H  18.00  7.50  1.15  0.278422  4.011590  0.286427  1.148205  0.435151   \n",
       "54    A   1.75  3.60  4.80  0.326677 -0.428315  0.282189  0.015880  0.391134   \n",
       "..   ..    ...   ...   ...       ...       ...       ...       ...       ...   \n",
       "199   A   2.90  3.40  2.40  0.185691 -0.461495  0.226549 -0.229732  0.587759   \n",
       "200   D   4.75  4.30  1.65  0.069646 -0.669181  0.166684 -0.283260  0.763670   \n",
       "202   A   1.80  3.95  4.15  0.309585 -0.442747  0.283367  0.119300  0.407048   \n",
       "203   H   6.10  4.70  1.48  0.723435  3.412952  0.179851 -0.154698  0.096714   \n",
       "204   H   4.30  3.85  1.80  0.164330 -0.293382  0.262026  0.008802  0.573644   \n",
       "\n",
       "         E(H)  \n",
       "50   0.026599  \n",
       "51   0.100475  \n",
       "52   1.210133  \n",
       "53  -0.499576  \n",
       "54   0.877443  \n",
       "..        ...  \n",
       "199  0.410622  \n",
       "200  0.260056  \n",
       "202  0.689248  \n",
       "203 -0.856864  \n",
       "204  0.032559  \n",
       "\n",
       "[2332 rows x 10 columns]"
      ]
     },
     "execution_count": 41,
     "metadata": {},
     "output_type": "execute_result"
    }
   ],
   "source": [
    "performance_df = test_df[['FTR','IWA','IWD','IWH']]\n",
    "performance_df['P(A)']= pd.DataFrame(data = results['L1 logistic'][:,0], columns = ['P(A)'])\n",
    "performance_df['E(A)']= performance_df['P(A)'] * performance_df['IWA'] - 1.0\n",
    "performance_df['P(D)']= pd.DataFrame(data = results['L1 logistic'][:,1], columns = ['P(D)'])\n",
    "performance_df['E(D)']= performance_df['P(D)'] * performance_df['IWD'] - 1.0\n",
    "performance_df['P(H)']= pd.DataFrame(data = results['L1 logistic'][:,2], columns = ['P(H)'])\n",
    "performance_df['E(H)']= performance_df['P(H)'] * performance_df['IWH'] - 1.0\n",
    "performance_df"
   ]
  },
  {
   "cell_type": "markdown",
   "metadata": {},
   "source": [
    "## Selection of results to bet on and their actual performances"
   ]
  },
  {
   "cell_type": "code",
   "execution_count": 42,
   "metadata": {},
   "outputs": [],
   "source": [
    "#Floor and cap on expected gain to consider\n",
    "floor = 1.0\n",
    "cap = 4.0"
   ]
  },
  {
   "cell_type": "markdown",
   "metadata": {},
   "source": [
    "### Draws performance"
   ]
  },
  {
   "cell_type": "code",
   "execution_count": 58,
   "metadata": {},
   "outputs": [],
   "source": [
    "#Selection of the draws\n",
    "draw_floor = performance_df['E(D)'] > floor\n",
    "draw_cap = performance_df['E(D)'] < cap\n",
    "selected_draw = performance_df[draw_floor & draw_cap]\n",
    "\n",
    "#Computation of actual gains on draws\n",
    "selected_draw['Gain'] = 0.0\n",
    "is_Draw = selected_draw['FTR'] == 'D'\n",
    "not_Draw = selected_draw['FTR'] != 'D'\n",
    "selected_draw.loc[not_Draw, 'Gain'] = -1.0\n",
    "selected_draw.loc[is_Draw, 'Gain'] = selected_draw.loc[is_Draw,'IWD'] - 1.0"
   ]
  },
  {
   "cell_type": "markdown",
   "metadata": {},
   "source": [
    "### Aways performance"
   ]
  },
  {
   "cell_type": "code",
   "execution_count": 59,
   "metadata": {},
   "outputs": [],
   "source": [
    "#Selection of the aways\n",
    "away_floor = performance_df['E(A)'] > floor\n",
    "away_cap = performance_df['E(A)'] < cap\n",
    "selected_away = performance_df[away_floor & away_cap]\n",
    "\n",
    "#Computation of actual gains on aways\n",
    "selected_away['Gain'] = 0.0\n",
    "is_Away = selected_away['FTR'] == 'A'\n",
    "not_Away = selected_away['FTR'] != 'A'\n",
    "selected_away.loc[not_Away, 'Gain'] = -1.0\n",
    "selected_away.loc[is_Away, 'Gain'] = selected_away.loc[is_Away,'IWA'] - 1.0"
   ]
  },
  {
   "cell_type": "markdown",
   "metadata": {},
   "source": [
    "### Homes performance"
   ]
  },
  {
   "cell_type": "code",
   "execution_count": 60,
   "metadata": {},
   "outputs": [],
   "source": [
    "#Selection of the homes\n",
    "home_floor = performance_df['E(H)'] > floor\n",
    "home_cap = performance_df['E(H)'] < cap\n",
    "selected_home = performance_df[home_floor & home_cap]\n",
    "\n",
    "#Computation of actual gains on aways\n",
    "selected_home['Gain'] = 0.0\n",
    "is_Home = selected_home['FTR'] == 'H'\n",
    "not_Home = selected_home['FTR'] != 'H'\n",
    "selected_home.loc[not_Home, 'Gain'] = -1.0\n",
    "selected_home.loc[is_Home, 'Gain'] = selected_home.loc[is_Home,'IWH'] - 1.0"
   ]
  },
  {
   "cell_type": "code",
   "execution_count": 46,
   "metadata": {},
   "outputs": [
    {
     "data": {
      "text/plain": [
       "<matplotlib.axes._subplots.AxesSubplot at 0x15e927a10>"
      ]
     },
     "execution_count": 46,
     "metadata": {},
     "output_type": "execute_result"
    },
    {
     "data": {
      "image/png": "[encoded data removed]",
      "text/plain": [
       "<Figure size 1440x864 with 2 Axes>"
      ]
     },
     "metadata": {
      "needs_background": "light"
     },
     "output_type": "display_data"
    }
   ],
   "source": [
    "import matplotlib.pyplot as plt\n",
    "corr_mat = train_df.corr()\n",
    "fig, ax = plt.subplots(figsize=(20, 12)) \n",
    "sns.heatmap(corr_mat, vmax=1.0, square=True, ax=ax)"
   ]
  },
  {
   "cell_type": "raw",
   "metadata": {},
   "source": [
    "import tensorflow.compat.v1 as tf\n",
    "tf.disable_v2_behavior()\n",
    "\n",
    "def multilayer_perceptron(x, weights, biases, keep_prob):\n",
    "    layer_1 = tf.add(tf.matmul(x, weights['h1']), biases['b1'])\n",
    "    layer_1 = tf.nn.relu(layer_1)\n",
    "    layer_1 = tf.nn.dropout(layer_1, keep_prob)\n",
    "    out_layer = tf.matmul(layer_1, weights['out']) + biases['out']\n",
    "    return out_layer\n",
    "\n",
    "n_hidden_1 = 38\n",
    "n_input = train_x.shape[1]\n",
    "n_classes = 3\n",
    "\n",
    "weights = {\n",
    "    'h1': tf.Variable(tf.random.normal([n_input, n_hidden_1])),\n",
    "    'out': tf.Variable(tf.random.normal([n_hidden_1, n_classes]))\n",
    "}\n",
    "\n",
    "biases = {\n",
    "    'b1': tf.Variable(tf.random.normal([n_hidden_1])),\n",
    "    'out': tf.Variable(tf.random.normal([n_classes]))\n",
    "}\n",
    "\n",
    "keep_prob = tf.placeholder(\"float\")\n"
   ]
  },
  {
   "cell_type": "raw",
   "metadata": {},
   "source": [
    "training_epochs = 5\n",
    "display_step = 1000\n",
    "batch_size = 32\n",
    "\n",
    "x = tf.placeholder(\"float\", [None, n_input])\n",
    "y = tf.placeholder(\"string\", [None, n_classes])"
   ]
  },
  {
   "cell_type": "raw",
   "metadata": {},
   "source": [
    "predictions = multilayer_perceptron(x, weights, biases, keep_prob)\n",
    "cost = tf.reduce_mean(tf.nn.softmax_cross_entropy_with_logits(logits=predictions, labels=y))\n",
    "optimizer = tf.train.AdamOptimizer(learning_rate=0.0001).minimize(cost)"
   ]
  },
  {
   "cell_type": "raw",
   "metadata": {},
   "source": [
    "with tf.Session() as sess:\n",
    "    sess.run(tf.global_variables_initializer())\n",
    "    \n",
    "    for epoch in range(training_epochs):\n",
    "        avg_cost = 0.0\n",
    "        total_batch = int(len(train_x) / batch_size)\n",
    "        x_batches = np.array_split(train_x, total_batch)\n",
    "        y_batches = np.array_split(train_y, total_batch)\n",
    "        for i in range(total_batch):\n",
    "            batch_x, batch_y = x_batches[i], y_batches[i]\n",
    "            _, c = sess.run([optimizer, cost],feed_dict={x: batch_x, y: batch_y, keep_prob: 0.8})\n",
    "            avg_cost += c / total_batch\n",
    "    \n",
    "    print(\"Optimization Finished!\")\n",
    "    correct_prediction = tf.equal(tf.argmax(predictions, 1), tf.argmax(y, 1))\n",
    "            \n",
    "    accuracy = tf.reduce_mean(tf.cast(correct_prediction, \"float\"))\n",
    "    print(\"Accuracy:\", accuracy.eval({x: test_x, y: test_y, keep_prob: 1.0}))"
   ]
  },
  {
   "cell_type": "code",
   "execution_count": 54,
   "metadata": {},
   "outputs": [],
   "source": [
    "import tensorflow.compat.v1 as tf\n",
    "tf.disable_v2_behavior()\n",
    "\n",
    "n_classes = 3\n",
    "n_features = train_x.shape[1]\n",
    "\n",
    "model =tf.keras.models.Sequential()\n",
    "model.add(tf.keras.layers.Dense(10, activation =tf.nn.relu))\n",
    "\n",
    "#Output layer\n",
    "model.add(tf.keras.layers.Dense())"
   ]
  },
  {
   "cell_type": "code",
   "execution_count": 57,
   "metadata": {},
   "outputs": [
    {
     "data": {
      "text/plain": [
       "18"
      ]
     },
     "execution_count": 57,
     "metadata": {},
     "output_type": "execute_result"
    }
   ],
   "source": [
    "train_x.shape[1]"
   ]
  },
  {
   "cell_type": "code",
   "execution_count": null,
   "metadata": {},
   "outputs": [],
   "source": []
  }
 ],
 "metadata": {
  "kernelspec": {
   "display_name": "Python 3",
   "language": "python",
   "name": "python3"
  },
  "language_info": {
   "codemirror_mode": {
    "name": "ipython",
    "version": 3
   },
   "file_extension": ".py",
   "mimetype": "text/x-python",
   "name": "python",
   "nbconvert_exporter": "python",
   "pygments_lexer": "ipython3",
   "version": "3.7.4"
  }
 },
 "nbformat": 4,
 "nbformat_minor": 2
}
