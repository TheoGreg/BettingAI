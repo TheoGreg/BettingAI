{
 "cells": [
  {
   "cell_type": "markdown",
   "metadata": {},
   "source": [
    "# Imports"
   ]
  },
  {
   "cell_type": "code",
   "execution_count": 56,
   "metadata": {},
   "outputs": [],
   "source": [
    "import pandas as pd\n",
    "import seaborn as sns\n",
    "import sklearn as sk\n",
    "import datetime as dt\n",
    "import numpy as np\n",
    "\n",
    "# To ignore annoying warning\n",
    "import warnings\n",
    "def ignore_warn(*args, **kwargs):\n",
    "    pass\n",
    "warnings.warn = ignore_warn\n",
    "warnings.filterwarnings(\"ignore\", category=DeprecationWarning)"
   ]
  },
  {
   "cell_type": "markdown",
   "metadata": {},
   "source": [
    "# Data Processing"
   ]
  },
  {
   "cell_type": "markdown",
   "metadata": {},
   "source": [
    "## Selection of features"
   ]
  },
  {
   "cell_type": "code",
   "execution_count": 57,
   "metadata": {},
   "outputs": [],
   "source": [
    "#Selection of existing relevant features per game : events that happened during each game\n",
    "relevant_features = ['Date','HomeTeam','AwayTeam','IWH','IWD','IWA','FTR','FTHG','FTAG','HTHG','HTAG','HS','AS',\n",
    "                     'HST','AST','HF','AF','HY','AY','HR','AR','HC','AC']"
   ]
  },
  {
   "cell_type": "markdown",
   "metadata": {},
   "source": [
    "## Function for data processing of each season : creation of relevant features"
   ]
  },
  {
   "cell_type": "code",
   "execution_count": 97,
   "metadata": {},
   "outputs": [],
   "source": [
    "def create_stat_dico(season: str, league: str) -> pd.DataFrame:\n",
    "    \n",
    "    \"\"\"Compute statistics for a given season all the relevant statistics by going through each game\n",
    "    \n",
    "    Output a Dataframe of each game and each team statistics before the game\n",
    "    \n",
    "    Arguments : name of the season as a string, name of the league as a string\n",
    "    \"\"\"\n",
    "    \n",
    "    #stat_seasons is a 3-layer nested dico :\n",
    "    # stats_season ---> dico of all clubs\n",
    "    # club ---> dico of all week results\n",
    "    # week ---> all stats for that week\n",
    "    # stat ---> value for that specific game\n",
    "     \n",
    "    stats_season = {}\n",
    "    file_name = '/Users/theophanegregoir/Desktop/BettingAI/Football_Data/Entire_Data_' + league + '.xlsx'\n",
    "    xls_file = pd.ExcelFile(file_name)\n",
    "    table = xls_file.parse(season)[relevant_features].dropna(axis=0)\n",
    "    \n",
    "    ###Features that describe team before the game\n",
    "    table['week'] = 0\n",
    "    \n",
    "    ###For Home Team (HT)\n",
    "    table['HT_average_points'] = 0.0\n",
    "    table['HT_average_goal_scored_half_1'] = 0.0\n",
    "    table['HT_average_goal_conceeded_half_1'] = 0.0\n",
    "    table['HT_average_goal_scored_half_2'] = 0.0\n",
    "    table['HT_average_goal_conceeded_half_2'] = 0.0\n",
    "    table['HT_average_yellow'] = 0.0\n",
    "    table['HT_average_red'] = 0.0\n",
    "    table['HT_average_shots_per_goal'] = 0.0\n",
    "    table['HT_on_target_precision'] = 0.0\n",
    "    table['HT_average_shots_conceeded'] = 0.0\n",
    "    table['HT_average_fouls_committed'] = 0.0\n",
    "    table['HT_average_fouls_conceeded'] = 0.0\n",
    "    \n",
    "    ###For Away Team (AT)\n",
    "    table['AT_average_points'] = 0.0\n",
    "    table['AT_average_goal_scored_half_1'] = 0.0\n",
    "    table['AT_average_goal_conceeded_half_1'] = 0.0\n",
    "    table['AT_average_goal_scored_half_2'] = 0.0\n",
    "    table['AT_average_goal_conceeded_half_2'] = 0.0\n",
    "    table['AT_average_yellow'] = 0.0\n",
    "    table['AT_average_red'] = 0.0\n",
    "    table['AT_average_shots_per_goal'] = 0.0\n",
    "    table['AT_on_target_precision'] = 0.0\n",
    "    table['AT_average_shots_conceeded'] = 0.0\n",
    "    table['AT_average_fouls_committed'] = 0.0\n",
    "    table['AT_average_fouls_conceeded'] = 0.0\n",
    "    \n",
    "    #Number of weeks available\n",
    "    nb_weeks = int(len(table)/10)\n",
    "    \n",
    "    if season == '2019-2020':\n",
    "        nb_weeks = int(len(table)/10) - 1\n",
    "    \n",
    "    #Getting unique list of club names for this season\n",
    "    clubs = list(set(list(table['HomeTeam'])))\n",
    "\n",
    "    #Creation of the dictionary of stats for each club       \n",
    "    for c in clubs:\n",
    "        \n",
    "        #First layer of dict\n",
    "        stats_season[c] = {}\n",
    "        \n",
    "        #Selection of the games where the club is involved\n",
    "        isHome = table['HomeTeam'] == c\n",
    "        isAway = table['AwayTeam'] == c\n",
    "        selected = table.loc[isHome | isAway]\n",
    "        stats_season[c]['games_index'] = list(selected.index)\n",
    "        \n",
    "        \n",
    "        #Initialisation of week 0 for additive params\n",
    "        stats_season[c][0] = {}\n",
    "        stats_season[c][0]['league_points'] = 0.0\n",
    "        stats_season[c][0]['goals_scored'] = 0.0\n",
    "        stats_season[c][0]['goals_scored_half'] = 0.0\n",
    "        stats_season[c][0]['goals_conceeded'] = 0.0\n",
    "        stats_season[c][0]['goals_conceeded_half'] = 0.0\n",
    "        stats_season[c][0]['yellow'] = 0.0\n",
    "        stats_season[c][0]['red'] = 0.0\n",
    "        stats_season[c][0]['fouls_conceeded'] = 0.0\n",
    "        stats_season[c][0]['fouls_committed'] = 0.0\n",
    "        stats_season[c][0]['shots'] = 0.0\n",
    "        stats_season[c][0]['shots_on_target'] = 0.0\n",
    "        stats_season[c][0]['shots_conceeded'] = 0.0\n",
    "        \n",
    "        #Going through all the weeks of the season\n",
    "        for k in range(1,len(selected)):\n",
    "            \n",
    "            #Second layer of dict\n",
    "            stats_season[c][k] = {}\n",
    "            \n",
    "            #Third layer of dict\n",
    "            if selected['AwayTeam'][selected.index[k-1]] == c :\n",
    "                stats_season[c][k]['is_Home'] = False\n",
    "            else :\n",
    "                stats_season[c][k]['is_Home'] = True\n",
    "            \n",
    "            #Modifying the dataframe to add the statistics before game (based on previous weeks) use as features for ML\n",
    "            if stats_season[c][k]['is_Home']:\n",
    "                table.at[selected.index[k-1],'week'] = k\n",
    "                table.at[selected.index[k-1],'HT_average_points'] = stats_season[c][k-1]['league_points'] / max(k-1.0,1.0)\n",
    "                table.at[selected.index[k-1],'HT_average_goal_scored_half_2'] = (stats_season[c][k-1]['goals_scored'] - stats_season[c][k-1]['goals_scored_half'])/ max(k-1.0,1.0)\n",
    "                table.at[selected.index[k-1],'HT_average_goal_conceeded_half_2'] = (stats_season[c][k-1]['goals_conceeded'] - stats_season[c][k-1]['goals_conceeded_half'])/ max(k-1.0,1.0)\n",
    "                table.at[selected.index[k-1],'HT_average_goal_scored_half_1'] = stats_season[c][k-1]['goals_scored_half'] / max(k-1.0,1.0)\n",
    "                table.at[selected.index[k-1],'HT_average_goal_conceeded_half_1'] =  stats_season[c][k-1]['goals_conceeded_half'] / max(k-1.0,1.0)\n",
    "                table.at[selected.index[k-1],'HT_average_shots_per_goal'] = sum([stats_season[c][j]['shots'] for j in range(k)]) / max(1.0,sum([stats_season[c][i]['goals_scored'] for i in range(k)]))\n",
    "                table.at[selected.index[k-1],'HT_on_target_precision'] = sum([stats_season[c][j]['shots_on_target'] for j in range(k)]) / max(1.0,sum([stats_season[c][i]['shots'] for i in range(k)]))\n",
    "                table.at[selected.index[k-1],'HT_average_shots_conceeded']= stats_season[c][k-1]['shots_conceeded'] / max(k-1.0,1.0)\n",
    "                table.at[selected.index[k-1],'HT_average_yellow'] = stats_season[c][k-1]['yellow'] / max(k-1.0,1.0)\n",
    "                table.at[selected.index[k-1],'HT_average_red'] = stats_season[c][k-1]['red'] / max(k-1.0,1.0)\n",
    "                table.at[selected.index[k-1],'HT_average_fouls_committed'] = stats_season[c][k-1]['fouls_committed'] / max(k-1.0,1.0)\n",
    "                table.at[selected.index[k-1],'HT_average_fouls_conceeded'] = stats_season[c][k-1]['fouls_conceeded'] / max(k-1.0,1.0)\n",
    "            else :\n",
    "                table.at[selected.index[k-1],'AT_average_points'] = stats_season[c][k-1]['league_points'] / max(k-1.0,1.0)\n",
    "                table.at[selected.index[k-1],'AT_average_goal_scored_half_2'] = (stats_season[c][k-1]['goals_scored'] - stats_season[c][k-1]['goals_scored_half'])/ max(k-1.0,1.0)\n",
    "                table.at[selected.index[k-1],'AT_average_goal_conceeded_half_2'] = (stats_season[c][k-1]['goals_conceeded'] - stats_season[c][k-1]['goals_conceeded_half'])/ max(k-1.0,1.0)\n",
    "                table.at[selected.index[k-1],'AT_average_goal_scored_half_1'] = stats_season[c][k-1]['goals_scored_half'] / max(k-1.0,1.0)\n",
    "                table.at[selected.index[k-1],'AT_average_goal_conceeded_half_1'] =  stats_season[c][k-1]['goals_conceeded_half'] / max(k-1.0,1.0)\n",
    "                table.at[selected.index[k-1],'AT_average_shots_per_goal'] = sum([stats_season[c][j]['shots'] for j in range(k)]) / max(1.0,sum([stats_season[c][i]['goals_scored'] for i in range(k)]))\n",
    "                table.at[selected.index[k-1],'AT_on_target_precision'] = sum([stats_season[c][j]['shots_on_target'] for j in range(k)]) / max(1.0,sum([stats_season[c][i]['shots'] for i in range(k)]))\n",
    "                table.at[selected.index[k-1],'AT_average_shots_conceeded']= stats_season[c][k-1]['shots_conceeded'] / max(k-1.0,1.0)\n",
    "                table.at[selected.index[k-1],'AT_average_yellow'] = stats_season[c][k-1]['yellow'] / max(k-1.0,1.0)\n",
    "                table.at[selected.index[k-1],'AT_average_red'] = stats_season[c][k-1]['red'] / max(k-1.0,1.0)\n",
    "                table.at[selected.index[k-1],'AT_average_fouls_committed'] = stats_season[c][k-1]['fouls_committed'] / max(k-1.0,1.0)\n",
    "                table.at[selected.index[k-1],'AT_average_fouls_conceeded'] = stats_season[c][k-1]['fouls_conceeded'] / max(k-1.0,1.0)\n",
    "                \n",
    "            #Gathering the statistics of the game for the club for next games\n",
    "            #League points\n",
    "            if selected['FTR'][selected.index[k-1]] == \"D\" :\n",
    "                stats_season[c][k]['league_points'] = stats_season[c][k-1]['league_points'] + 1.0\n",
    "            elif selected['FTR'][selected.index[k-1]] == \"A\" and selected['AwayTeam'][selected.index[k-1]] == c:\n",
    "                stats_season[c][k]['league_points'] = stats_season[c][k-1]['league_points'] + 3.0\n",
    "            elif selected['FTR'][selected.index[k-1]] == \"H\" and selected['HomeTeam'][selected.index[k-1]] == c:\n",
    "                stats_season[c][k]['league_points'] = stats_season[c][k-1]['league_points'] + 3.0\n",
    "            else:\n",
    "                stats_season[c][k]['league_points'] = stats_season[c][k-1]['league_points']\n",
    "            \n",
    "            #Goals and shots\n",
    "            if stats_season[c][k]['is_Home']:\n",
    "                stats_season[c][k]['goals_scored'] = stats_season[c][k-1]['goals_scored'] + selected['FTHG'][selected.index[k-1]]\n",
    "                stats_season[c][k]['goals_scored_half'] = stats_season[c][k-1]['goals_scored_half'] + selected['HTHG'][selected.index[k-1]]\n",
    "                stats_season[c][k]['goals_conceeded'] = stats_season[c][k-1]['goals_conceeded'] + selected['FTAG'][selected.index[k-1]]\n",
    "                stats_season[c][k]['goals_conceeded_half'] = stats_season[c][k-1]['goals_conceeded_half'] + selected['HTAG'][selected.index[k-1]]\n",
    "                stats_season[c][k]['shots'] = stats_season[c][k-1]['shots'] + selected['HS'][selected.index[k-1]]\n",
    "                stats_season[c][k]['shots_on_target'] = stats_season[c][k-1]['shots_on_target'] + selected['HST'][selected.index[k-1]]\n",
    "                stats_season[c][k]['shots_conceeded'] = stats_season[c][k-1]['shots_conceeded'] + selected['AS'][selected.index[k-1]]\n",
    "            else :\n",
    "                stats_season[c][k]['goals_scored'] = stats_season[c][k-1]['goals_scored'] + selected['FTAG'][selected.index[k-1]]\n",
    "                stats_season[c][k]['goals_scored_half'] = stats_season[c][k-1]['goals_scored_half'] + selected['HTAG'][selected.index[k-1]]\n",
    "                stats_season[c][k]['goals_conceeded'] = stats_season[c][k-1]['goals_conceeded'] + selected['FTHG'][selected.index[k-1]]\n",
    "                stats_season[c][k]['goals_conceeded_half'] = stats_season[c][k-1]['goals_conceeded_half'] + selected['HTHG'][selected.index[k-1]]\n",
    "                stats_season[c][k]['shots'] = stats_season[c][k-1]['shots'] + selected['AS'][selected.index[k-1]]\n",
    "                stats_season[c][k]['shots_on_target'] = stats_season[c][k-1]['shots_on_target'] + selected['AST'][selected.index[k-1]]\n",
    "                stats_season[c][k]['shots_conceeded'] = stats_season[c][k-1]['shots_conceeded'] + selected['HS'][selected.index[k-1]]\n",
    "            \n",
    "            #Fouls and cards\n",
    "            if stats_season[c][k]['is_Home']:\n",
    "                stats_season[c][k]['yellow'] = stats_season[c][k-1]['yellow'] + selected['HY'][selected.index[k-1]]\n",
    "                stats_season[c][k]['red'] = stats_season[c][k-1]['red'] + selected['HR'][selected.index[k-1]]\n",
    "                stats_season[c][k]['fouls_conceeded'] = stats_season[c][k-1]['fouls_conceeded'] + selected['AF'][selected.index[k-1]]\n",
    "                stats_season[c][k]['fouls_committed'] = stats_season[c][k-1]['fouls_committed'] + selected['HF'][selected.index[k-1]]\n",
    "            else:\n",
    "                stats_season[c][k]['yellow'] = stats_season[c][k-1]['yellow'] + selected['AY'][selected.index[k-1]]\n",
    "                stats_season[c][k]['red'] = stats_season[c][k-1]['red'] + selected['AR'][selected.index[k-1]]\n",
    "                stats_season[c][k]['fouls_conceeded'] = stats_season[c][k-1]['fouls_conceeded'] + selected['HF'][selected.index[k-1]]\n",
    "                stats_season[c][k]['fouls_committed'] = stats_season[c][k-1]['fouls_committed'] + selected['AF'][selected.index[k-1]]\n",
    "  \n",
    "    return(table)"
   ]
  },
  {
   "cell_type": "markdown",
   "metadata": {},
   "source": [
    "## Processing selected data"
   ]
  },
  {
   "cell_type": "code",
   "execution_count": 108,
   "metadata": {},
   "outputs": [
    {
     "name": "stdout",
     "output_type": "stream",
     "text": [
      "Processing Ligue1 2007-2008\n",
      "Processing LaLiga 2007-2008\n",
      "Processing SerieA 2007-2008\n",
      "Processing Bundesliga 2007-2008\n",
      "Processing PL 2007-2008\n",
      "Processing Ligue1 2008-2009\n",
      "Processing LaLiga 2008-2009\n",
      "Processing SerieA 2008-2009\n",
      "Processing Bundesliga 2008-2009\n",
      "Processing PL 2008-2009\n",
      "Processing Ligue1 2009-2010\n",
      "Processing LaLiga 2009-2010\n",
      "Processing SerieA 2009-2010\n",
      "Processing Bundesliga 2009-2010\n",
      "Processing PL 2009-2010\n",
      "Processing Ligue1 2010-2011\n",
      "Processing LaLiga 2010-2011\n",
      "Processing SerieA 2010-2011\n",
      "Processing Bundesliga 2010-2011\n",
      "Processing PL 2010-2011\n",
      "Processing Ligue1 2011-2012\n",
      "Processing LaLiga 2011-2012\n",
      "Processing SerieA 2011-2012\n",
      "Processing Bundesliga 2011-2012\n",
      "Processing PL 2011-2012\n",
      "Processing Ligue1 2012-2013\n",
      "Processing LaLiga 2012-2013\n",
      "Processing SerieA 2012-2013\n",
      "Processing Bundesliga 2012-2013\n",
      "Processing PL 2012-2013\n",
      "Processing Ligue1 2013-2014\n",
      "Processing LaLiga 2013-2014\n",
      "Processing SerieA 2013-2014\n",
      "Processing Bundesliga 2013-2014\n",
      "Processing PL 2013-2014\n",
      "Processing Ligue1 2014-2015\n",
      "Processing LaLiga 2014-2015\n",
      "Processing SerieA 2014-2015\n",
      "Processing Bundesliga 2014-2015\n",
      "Processing PL 2014-2015\n",
      "Processing Ligue1 2015-2016\n",
      "Processing LaLiga 2015-2016\n",
      "Processing SerieA 2015-2016\n",
      "Processing Bundesliga 2015-2016\n",
      "Processing PL 2015-2016\n",
      "Processing Ligue1 2016-2017\n",
      "Processing LaLiga 2016-2017\n",
      "Processing SerieA 2016-2017\n",
      "Processing Bundesliga 2016-2017\n",
      "Processing PL 2016-2017\n",
      "Processing Ligue1 2017-2018\n",
      "Processing LaLiga 2017-2018\n",
      "Processing SerieA 2017-2018\n",
      "Processing Bundesliga 2017-2018\n",
      "Processing PL 2017-2018\n",
      "Processing Ligue1 2018-2019\n",
      "Processing LaLiga 2018-2019\n",
      "Processing SerieA 2018-2019\n",
      "Processing Bundesliga 2018-2019\n",
      "Processing PL 2018-2019\n",
      "Processing Ligue1 2019-2020\n",
      "Processing LaLiga 2019-2020\n",
      "Processing SerieA 2019-2020\n",
      "Processing Bundesliga 2019-2020\n",
      "Processing PL 2019-2020\n"
     ]
    }
   ],
   "source": [
    "#List of all features created after processing\n",
    "processed_features = ['week', 'HT_average_points', 'HT_average_goal_scored_half_1',\n",
    "           'HT_average_goal_conceeded_half_1', 'HT_average_goal_scored_half_2',\n",
    "           'HT_average_goal_conceeded_half_2', 'HT_average_yellow', 'HT_average_red',\n",
    "           'HT_average_shots_per_goal', 'HT_on_target_precision',\n",
    "           'HT_average_shots_conceeded', 'HT_average_fouls_committed',\n",
    "           'HT_average_fouls_conceeded', \n",
    "           'AT_average_points', 'AT_average_goal_scored_half_1',\n",
    "           'AT_average_goal_conceeded_half_1', 'AT_average_goal_scored_half_2',\n",
    "           'AT_average_goal_conceeded_half_2', 'AT_average_yellow', 'AT_average_red',\n",
    "           'AT_average_shots_per_goal', 'AT_on_target_precision',\n",
    "           'AT_average_shots_conceeded', 'AT_average_fouls_committed',\n",
    "           'AT_average_fouls_conceeded', 'FTR','IWH','IWD','IWA']\n",
    "\n",
    "#Leagues selected\n",
    "chosen_leagues = ['Ligue1','LaLiga','SerieA','Bundesliga','PL']\n",
    "\n",
    "#Seasons selected\n",
    "start_year = 2007\n",
    "end_year = 2020\n",
    "\n",
    "data_seasons = {}\n",
    "\n",
    "for i in range(start_year,end_year):\n",
    "    \n",
    "    season = str(i) + '-' + str(i + 1)\n",
    "    \n",
    "    data_seasons[season] = {}\n",
    "    \n",
    "    for league in chosen_leagues:\n",
    "        \n",
    "        print(\"Processing \" + league + ' ' + str(i) + '-' + str(i+1))\n",
    "\n",
    "        table = create_stat_dico(season, league)\n",
    "\n",
    "        full_table_add = table[processed_features]\n",
    " \n",
    "        data_seasons[season][league] = full_table_add\n"
   ]
  },
  {
   "cell_type": "markdown",
   "metadata": {},
   "source": [
    "## Visualize data final format"
   ]
  },
  {
   "cell_type": "code",
   "execution_count": 109,
   "metadata": {},
   "outputs": [
    {
     "data": {
      "text/html": [
       "<div>\n",
       "<style scoped>\n",
       "    .dataframe tbody tr th:only-of-type {\n",
       "        vertical-align: middle;\n",
       "    }\n",
       "\n",
       "    .dataframe tbody tr th {\n",
       "        vertical-align: top;\n",
       "    }\n",
       "\n",
       "    .dataframe thead th {\n",
       "        text-align: right;\n",
       "    }\n",
       "</style>\n",
       "<table border=\"1\" class=\"dataframe\">\n",
       "  <thead>\n",
       "    <tr style=\"text-align: right;\">\n",
       "      <th></th>\n",
       "      <th>week</th>\n",
       "      <th>HT_average_points</th>\n",
       "      <th>HT_average_goal_scored_half_1</th>\n",
       "      <th>HT_average_goal_conceeded_half_1</th>\n",
       "      <th>HT_average_goal_scored_half_2</th>\n",
       "      <th>HT_average_goal_conceeded_half_2</th>\n",
       "      <th>HT_average_yellow</th>\n",
       "      <th>HT_average_red</th>\n",
       "      <th>HT_average_shots_per_goal</th>\n",
       "      <th>HT_on_target_precision</th>\n",
       "      <th>...</th>\n",
       "      <th>AT_average_red</th>\n",
       "      <th>AT_average_shots_per_goal</th>\n",
       "      <th>AT_on_target_precision</th>\n",
       "      <th>AT_average_shots_conceeded</th>\n",
       "      <th>AT_average_fouls_committed</th>\n",
       "      <th>AT_average_fouls_conceeded</th>\n",
       "      <th>FTR</th>\n",
       "      <th>IWH</th>\n",
       "      <th>IWD</th>\n",
       "      <th>IWA</th>\n",
       "    </tr>\n",
       "  </thead>\n",
       "  <tbody>\n",
       "    <tr>\n",
       "      <td>0</td>\n",
       "      <td>1</td>\n",
       "      <td>0.0</td>\n",
       "      <td>0.0</td>\n",
       "      <td>0.0</td>\n",
       "      <td>0.0</td>\n",
       "      <td>0.0</td>\n",
       "      <td>0.0</td>\n",
       "      <td>0.0</td>\n",
       "      <td>0.0</td>\n",
       "      <td>0.0</td>\n",
       "      <td>...</td>\n",
       "      <td>0.0</td>\n",
       "      <td>0.0</td>\n",
       "      <td>0.0</td>\n",
       "      <td>0.0</td>\n",
       "      <td>0.0</td>\n",
       "      <td>0.0</td>\n",
       "      <td>H</td>\n",
       "      <td>1.15</td>\n",
       "      <td>8.00</td>\n",
       "      <td>18.00</td>\n",
       "    </tr>\n",
       "    <tr>\n",
       "      <td>1</td>\n",
       "      <td>1</td>\n",
       "      <td>0.0</td>\n",
       "      <td>0.0</td>\n",
       "      <td>0.0</td>\n",
       "      <td>0.0</td>\n",
       "      <td>0.0</td>\n",
       "      <td>0.0</td>\n",
       "      <td>0.0</td>\n",
       "      <td>0.0</td>\n",
       "      <td>0.0</td>\n",
       "      <td>...</td>\n",
       "      <td>0.0</td>\n",
       "      <td>0.0</td>\n",
       "      <td>0.0</td>\n",
       "      <td>0.0</td>\n",
       "      <td>0.0</td>\n",
       "      <td>0.0</td>\n",
       "      <td>A</td>\n",
       "      <td>11.00</td>\n",
       "      <td>6.10</td>\n",
       "      <td>1.25</td>\n",
       "    </tr>\n",
       "    <tr>\n",
       "      <td>2</td>\n",
       "      <td>1</td>\n",
       "      <td>0.0</td>\n",
       "      <td>0.0</td>\n",
       "      <td>0.0</td>\n",
       "      <td>0.0</td>\n",
       "      <td>0.0</td>\n",
       "      <td>0.0</td>\n",
       "      <td>0.0</td>\n",
       "      <td>0.0</td>\n",
       "      <td>0.0</td>\n",
       "      <td>...</td>\n",
       "      <td>0.0</td>\n",
       "      <td>0.0</td>\n",
       "      <td>0.0</td>\n",
       "      <td>0.0</td>\n",
       "      <td>0.0</td>\n",
       "      <td>0.0</td>\n",
       "      <td>D</td>\n",
       "      <td>1.97</td>\n",
       "      <td>3.55</td>\n",
       "      <td>3.80</td>\n",
       "    </tr>\n",
       "    <tr>\n",
       "      <td>3</td>\n",
       "      <td>1</td>\n",
       "      <td>0.0</td>\n",
       "      <td>0.0</td>\n",
       "      <td>0.0</td>\n",
       "      <td>0.0</td>\n",
       "      <td>0.0</td>\n",
       "      <td>0.0</td>\n",
       "      <td>0.0</td>\n",
       "      <td>0.0</td>\n",
       "      <td>0.0</td>\n",
       "      <td>...</td>\n",
       "      <td>0.0</td>\n",
       "      <td>0.0</td>\n",
       "      <td>0.0</td>\n",
       "      <td>0.0</td>\n",
       "      <td>0.0</td>\n",
       "      <td>0.0</td>\n",
       "      <td>H</td>\n",
       "      <td>2.65</td>\n",
       "      <td>3.20</td>\n",
       "      <td>2.75</td>\n",
       "    </tr>\n",
       "    <tr>\n",
       "      <td>4</td>\n",
       "      <td>1</td>\n",
       "      <td>0.0</td>\n",
       "      <td>0.0</td>\n",
       "      <td>0.0</td>\n",
       "      <td>0.0</td>\n",
       "      <td>0.0</td>\n",
       "      <td>0.0</td>\n",
       "      <td>0.0</td>\n",
       "      <td>0.0</td>\n",
       "      <td>0.0</td>\n",
       "      <td>...</td>\n",
       "      <td>0.0</td>\n",
       "      <td>0.0</td>\n",
       "      <td>0.0</td>\n",
       "      <td>0.0</td>\n",
       "      <td>0.0</td>\n",
       "      <td>0.0</td>\n",
       "      <td>D</td>\n",
       "      <td>3.10</td>\n",
       "      <td>3.20</td>\n",
       "      <td>2.40</td>\n",
       "    </tr>\n",
       "    <tr>\n",
       "      <td>...</td>\n",
       "      <td>...</td>\n",
       "      <td>...</td>\n",
       "      <td>...</td>\n",
       "      <td>...</td>\n",
       "      <td>...</td>\n",
       "      <td>...</td>\n",
       "      <td>...</td>\n",
       "      <td>...</td>\n",
       "      <td>...</td>\n",
       "      <td>...</td>\n",
       "      <td>...</td>\n",
       "      <td>...</td>\n",
       "      <td>...</td>\n",
       "      <td>...</td>\n",
       "      <td>...</td>\n",
       "      <td>...</td>\n",
       "      <td>...</td>\n",
       "      <td>...</td>\n",
       "      <td>...</td>\n",
       "      <td>...</td>\n",
       "      <td>...</td>\n",
       "    </tr>\n",
       "    <tr>\n",
       "      <td>255</td>\n",
       "      <td>0</td>\n",
       "      <td>0.0</td>\n",
       "      <td>0.0</td>\n",
       "      <td>0.0</td>\n",
       "      <td>0.0</td>\n",
       "      <td>0.0</td>\n",
       "      <td>0.0</td>\n",
       "      <td>0.0</td>\n",
       "      <td>0.0</td>\n",
       "      <td>0.0</td>\n",
       "      <td>...</td>\n",
       "      <td>0.0</td>\n",
       "      <td>0.0</td>\n",
       "      <td>0.0</td>\n",
       "      <td>0.0</td>\n",
       "      <td>0.0</td>\n",
       "      <td>0.0</td>\n",
       "      <td>A</td>\n",
       "      <td>9.60</td>\n",
       "      <td>5.50</td>\n",
       "      <td>1.30</td>\n",
       "    </tr>\n",
       "    <tr>\n",
       "      <td>256</td>\n",
       "      <td>0</td>\n",
       "      <td>0.0</td>\n",
       "      <td>0.0</td>\n",
       "      <td>0.0</td>\n",
       "      <td>0.0</td>\n",
       "      <td>0.0</td>\n",
       "      <td>0.0</td>\n",
       "      <td>0.0</td>\n",
       "      <td>0.0</td>\n",
       "      <td>0.0</td>\n",
       "      <td>...</td>\n",
       "      <td>0.0</td>\n",
       "      <td>0.0</td>\n",
       "      <td>0.0</td>\n",
       "      <td>0.0</td>\n",
       "      <td>0.0</td>\n",
       "      <td>0.0</td>\n",
       "      <td>A</td>\n",
       "      <td>3.95</td>\n",
       "      <td>3.80</td>\n",
       "      <td>1.87</td>\n",
       "    </tr>\n",
       "    <tr>\n",
       "      <td>257</td>\n",
       "      <td>0</td>\n",
       "      <td>0.0</td>\n",
       "      <td>0.0</td>\n",
       "      <td>0.0</td>\n",
       "      <td>0.0</td>\n",
       "      <td>0.0</td>\n",
       "      <td>0.0</td>\n",
       "      <td>0.0</td>\n",
       "      <td>0.0</td>\n",
       "      <td>0.0</td>\n",
       "      <td>...</td>\n",
       "      <td>0.0</td>\n",
       "      <td>0.0</td>\n",
       "      <td>0.0</td>\n",
       "      <td>0.0</td>\n",
       "      <td>0.0</td>\n",
       "      <td>0.0</td>\n",
       "      <td>H</td>\n",
       "      <td>1.45</td>\n",
       "      <td>4.50</td>\n",
       "      <td>7.00</td>\n",
       "    </tr>\n",
       "    <tr>\n",
       "      <td>258</td>\n",
       "      <td>0</td>\n",
       "      <td>0.0</td>\n",
       "      <td>0.0</td>\n",
       "      <td>0.0</td>\n",
       "      <td>0.0</td>\n",
       "      <td>0.0</td>\n",
       "      <td>0.0</td>\n",
       "      <td>0.0</td>\n",
       "      <td>0.0</td>\n",
       "      <td>0.0</td>\n",
       "      <td>...</td>\n",
       "      <td>0.0</td>\n",
       "      <td>0.0</td>\n",
       "      <td>0.0</td>\n",
       "      <td>0.0</td>\n",
       "      <td>0.0</td>\n",
       "      <td>0.0</td>\n",
       "      <td>A</td>\n",
       "      <td>1.85</td>\n",
       "      <td>3.60</td>\n",
       "      <td>4.30</td>\n",
       "    </tr>\n",
       "    <tr>\n",
       "      <td>259</td>\n",
       "      <td>0</td>\n",
       "      <td>0.0</td>\n",
       "      <td>0.0</td>\n",
       "      <td>0.0</td>\n",
       "      <td>0.0</td>\n",
       "      <td>0.0</td>\n",
       "      <td>0.0</td>\n",
       "      <td>0.0</td>\n",
       "      <td>0.0</td>\n",
       "      <td>0.0</td>\n",
       "      <td>...</td>\n",
       "      <td>0.0</td>\n",
       "      <td>0.0</td>\n",
       "      <td>0.0</td>\n",
       "      <td>0.0</td>\n",
       "      <td>0.0</td>\n",
       "      <td>0.0</td>\n",
       "      <td>H</td>\n",
       "      <td>1.13</td>\n",
       "      <td>9.10</td>\n",
       "      <td>17.00</td>\n",
       "    </tr>\n",
       "  </tbody>\n",
       "</table>\n",
       "<p>260 rows × 29 columns</p>\n",
       "</div>"
      ],
      "text/plain": [
       "     week  HT_average_points  HT_average_goal_scored_half_1  \\\n",
       "0       1                0.0                            0.0   \n",
       "1       1                0.0                            0.0   \n",
       "2       1                0.0                            0.0   \n",
       "3       1                0.0                            0.0   \n",
       "4       1                0.0                            0.0   \n",
       "..    ...                ...                            ...   \n",
       "255     0                0.0                            0.0   \n",
       "256     0                0.0                            0.0   \n",
       "257     0                0.0                            0.0   \n",
       "258     0                0.0                            0.0   \n",
       "259     0                0.0                            0.0   \n",
       "\n",
       "     HT_average_goal_conceeded_half_1  HT_average_goal_scored_half_2  \\\n",
       "0                                 0.0                            0.0   \n",
       "1                                 0.0                            0.0   \n",
       "2                                 0.0                            0.0   \n",
       "3                                 0.0                            0.0   \n",
       "4                                 0.0                            0.0   \n",
       "..                                ...                            ...   \n",
       "255                               0.0                            0.0   \n",
       "256                               0.0                            0.0   \n",
       "257                               0.0                            0.0   \n",
       "258                               0.0                            0.0   \n",
       "259                               0.0                            0.0   \n",
       "\n",
       "     HT_average_goal_conceeded_half_2  HT_average_yellow  HT_average_red  \\\n",
       "0                                 0.0                0.0             0.0   \n",
       "1                                 0.0                0.0             0.0   \n",
       "2                                 0.0                0.0             0.0   \n",
       "3                                 0.0                0.0             0.0   \n",
       "4                                 0.0                0.0             0.0   \n",
       "..                                ...                ...             ...   \n",
       "255                               0.0                0.0             0.0   \n",
       "256                               0.0                0.0             0.0   \n",
       "257                               0.0                0.0             0.0   \n",
       "258                               0.0                0.0             0.0   \n",
       "259                               0.0                0.0             0.0   \n",
       "\n",
       "     HT_average_shots_per_goal  HT_on_target_precision  ...  AT_average_red  \\\n",
       "0                          0.0                     0.0  ...             0.0   \n",
       "1                          0.0                     0.0  ...             0.0   \n",
       "2                          0.0                     0.0  ...             0.0   \n",
       "3                          0.0                     0.0  ...             0.0   \n",
       "4                          0.0                     0.0  ...             0.0   \n",
       "..                         ...                     ...  ...             ...   \n",
       "255                        0.0                     0.0  ...             0.0   \n",
       "256                        0.0                     0.0  ...             0.0   \n",
       "257                        0.0                     0.0  ...             0.0   \n",
       "258                        0.0                     0.0  ...             0.0   \n",
       "259                        0.0                     0.0  ...             0.0   \n",
       "\n",
       "     AT_average_shots_per_goal  AT_on_target_precision  \\\n",
       "0                          0.0                     0.0   \n",
       "1                          0.0                     0.0   \n",
       "2                          0.0                     0.0   \n",
       "3                          0.0                     0.0   \n",
       "4                          0.0                     0.0   \n",
       "..                         ...                     ...   \n",
       "255                        0.0                     0.0   \n",
       "256                        0.0                     0.0   \n",
       "257                        0.0                     0.0   \n",
       "258                        0.0                     0.0   \n",
       "259                        0.0                     0.0   \n",
       "\n",
       "     AT_average_shots_conceeded  AT_average_fouls_committed  \\\n",
       "0                           0.0                         0.0   \n",
       "1                           0.0                         0.0   \n",
       "2                           0.0                         0.0   \n",
       "3                           0.0                         0.0   \n",
       "4                           0.0                         0.0   \n",
       "..                          ...                         ...   \n",
       "255                         0.0                         0.0   \n",
       "256                         0.0                         0.0   \n",
       "257                         0.0                         0.0   \n",
       "258                         0.0                         0.0   \n",
       "259                         0.0                         0.0   \n",
       "\n",
       "     AT_average_fouls_conceeded  FTR    IWH   IWD    IWA  \n",
       "0                           0.0    H   1.15  8.00  18.00  \n",
       "1                           0.0    A  11.00  6.10   1.25  \n",
       "2                           0.0    D   1.97  3.55   3.80  \n",
       "3                           0.0    H   2.65  3.20   2.75  \n",
       "4                           0.0    D   3.10  3.20   2.40  \n",
       "..                          ...  ...    ...   ...    ...  \n",
       "255                         0.0    A   9.60  5.50   1.30  \n",
       "256                         0.0    A   3.95  3.80   1.87  \n",
       "257                         0.0    H   1.45  4.50   7.00  \n",
       "258                         0.0    A   1.85  3.60   4.30  \n",
       "259                         0.0    H   1.13  9.10  17.00  \n",
       "\n",
       "[260 rows x 29 columns]"
      ]
     },
     "execution_count": 109,
     "metadata": {},
     "output_type": "execute_result"
    }
   ],
   "source": [
    "#Visualize the format of dataframe\n",
    "full_table_add"
   ]
  },
  {
   "cell_type": "markdown",
   "metadata": {},
   "source": [
    "# Defining train and test datasets"
   ]
  },
  {
   "cell_type": "markdown",
   "metadata": {},
   "source": [
    "## Training dataset"
   ]
  },
  {
   "cell_type": "code",
   "execution_count": 132,
   "metadata": {},
   "outputs": [
    {
     "name": "stdout",
     "output_type": "stream",
     "text": [
      "The model will train on : ['Ligue1', 'LaLiga', 'SerieA', 'Bundesliga', 'PL']\n",
      "The model will train on 7917 matches from 2007-2008 to 2016-2017 !\n"
     ]
    }
   ],
   "source": [
    "#Selection of seasons used to train\n",
    "train_start_year = 2007\n",
    "train_end_year = 2017\n",
    "\n",
    "train_chosen_leagues = ['Ligue1','LaLiga','SerieA','Bundesliga','PL']\n",
    "\n",
    "train_df = pd.DataFrame(columns = processed_features)\n",
    "\n",
    "for i in range(train_start_year,train_end_year):\n",
    "    \n",
    "    season = str(i) + '-' + str(i + 1)\n",
    "    \n",
    "    for league in train_chosen_leagues:\n",
    "        \n",
    "        table = data_seasons[season][league]\n",
    "        \n",
    "        two_concat = [train_df, table]\n",
    "        \n",
    "        train_df = pd.concat(two_concat)\n",
    "       \n",
    "\n",
    "#Starting week of training\n",
    "start_week_train = 20\n",
    "valid = train_df['week'] > start_week_train\n",
    "train_df = train_df[valid]\n",
    "        \n",
    "print(\"The model will train on : \" + str(train_chosen_leagues))\n",
    "        \n",
    "print(\"The model will train on \" + str(len(train_df)) + \" matches from \" + str(train_start_year) + '-' + str(train_start_year+1) + \" to \" + str(train_end_year-1) + '-' + str(train_end_year) + \" !\")\n",
    "\n",
    "#Choice of the features\n",
    "features = ['HT_average_goal_scored_half_1',\n",
    "           'HT_average_goal_conceeded_half_1', 'HT_average_goal_scored_half_2',\n",
    "           'HT_average_goal_conceeded_half_2',\n",
    "           'HT_average_shots_per_goal', 'HT_on_target_precision',\n",
    "           'HT_average_shots_conceeded',\n",
    "           'AT_average_goal_scored_half_1',\n",
    "           'AT_average_goal_conceeded_half_1', 'AT_average_goal_scored_half_2',\n",
    "           'AT_average_goal_conceeded_half_2',\n",
    "           'AT_average_shots_per_goal', 'AT_on_target_precision',\n",
    "           'AT_average_shots_conceeded']\n",
    "\n",
    "n_features = len(features)\n",
    "\n",
    "train_x = train_df[features]\n",
    "\n",
    "train_y = train_df['FTR']\n"
   ]
  },
  {
   "cell_type": "markdown",
   "metadata": {},
   "source": [
    "## Testing dataset"
   ]
  },
  {
   "cell_type": "code",
   "execution_count": 133,
   "metadata": {},
   "outputs": [
    {
     "name": "stdout",
     "output_type": "stream",
     "text": [
      "The model will test on : ['Ligue1', 'LaLiga', 'SerieA', 'Bundesliga', 'PL']\n",
      "The model will test on 1833 matches from 2017-2018 to 2019-2020 !\n"
     ]
    }
   ],
   "source": [
    "#Selection of seasons used to test\n",
    "test_start_year = train_end_year\n",
    "test_end_year = 2020\n",
    "\n",
    "test_df = pd.DataFrame(columns = processed_features)\n",
    "\n",
    "test_chosen_leagues = ['Ligue1','LaLiga','SerieA','Bundesliga','PL']\n",
    "\n",
    "for i in range(test_start_year, test_end_year):\n",
    "    \n",
    "    season = str(i) + '-' + str(i + 1)\n",
    "    \n",
    "    for league in test_chosen_leagues:\n",
    "        \n",
    "        table = data_seasons[season][league]\n",
    "        \n",
    "        two_concat = [test_df, table]\n",
    "        \n",
    "        test_df = pd.concat(two_concat)\n",
    "\n",
    "#Starting week of training\n",
    "start_week_test = 20\n",
    "valid = test_df['week'] > start_week_test\n",
    "test_df = test_df[valid]\n",
    "\n",
    "#Choice of the features (we first delete the odds)\n",
    "test_x = test_df[features]\n",
    "\n",
    "#Labels for training\n",
    "test_y = test_df['FTR']\n",
    "\n",
    "\n",
    "print(\"The model will test on : \" + str(test_chosen_leagues))\n",
    "      \n",
    "print(\"The model will test on \" + str(len(test_df)) + \" matches from \" + str(test_start_year) + '-' + str(test_start_year+1) + \" to \" + str(test_end_year-1) + '-' + str(test_end_year) + \" !\")\n",
    "\n"
   ]
  },
  {
   "cell_type": "markdown",
   "metadata": {},
   "source": [
    "# Let's apply classical ML algorithms"
   ]
  },
  {
   "cell_type": "markdown",
   "metadata": {},
   "source": [
    "## Importing models"
   ]
  },
  {
   "cell_type": "code",
   "execution_count": 134,
   "metadata": {},
   "outputs": [],
   "source": [
    "#Dealing with format and metrics\n",
    "from sklearn.model_selection import GridSearchCV, train_test_split\n",
    "from sklearn.metrics import accuracy_score, confusion_matrix\n",
    "\n",
    "#Regression model\n",
    "from sklearn.linear_model import LogisticRegression\n",
    "from sklearn.gaussian_process import GaussianProcessClassifier\n",
    "from sklearn.gaussian_process.kernels import RBF\n",
    "\n",
    "#Classical classifiers\n",
    "from sklearn import svm\n",
    "from sklearn.tree import DecisionTreeClassifier\n",
    "\n",
    "#Ensemblist models\n",
    "from sklearn.ensemble import AdaBoostClassifier\n",
    "from sklearn.ensemble import RandomForestClassifier\n",
    "\n",
    "#Neural Networks\n",
    "from sklearn.neural_network import MLPClassifier"
   ]
  },
  {
   "cell_type": "markdown",
   "metadata": {},
   "source": [
    "## Training and testing : getting probabilities for test data"
   ]
  },
  {
   "cell_type": "markdown",
   "metadata": {},
   "source": [
    "### GridSearch on Random Forest"
   ]
  },
  {
   "cell_type": "code",
   "execution_count": 135,
   "metadata": {},
   "outputs": [
    {
     "name": "stdout",
     "output_type": "stream",
     "text": [
      "Training RF ...\n",
      "Fitting 3 folds for each of 12 candidates, totalling 36 fits\n",
      "[Parallel(n_jobs=1)]: Using backend SequentialBackend with 1 concurrent workers.\n",
      "[CV] max_depth=25, min_samples_split=2, n_estimators=1000 ............\n",
      "[CV]  max_depth=25, min_samples_split=2, n_estimators=1000, score=0.505, total=  12.0s\n",
      "[Parallel(n_jobs=1)]: Done   1 out of   1 | elapsed:   12.0s remaining:    0.0s\n",
      "[CV] max_depth=25, min_samples_split=2, n_estimators=1000 ............\n",
      "[CV]  max_depth=25, min_samples_split=2, n_estimators=1000, score=0.515, total=  11.6s\n",
      "[Parallel(n_jobs=1)]: Done   2 out of   2 | elapsed:   23.7s remaining:    0.0s\n",
      "[CV] max_depth=25, min_samples_split=2, n_estimators=1000 ............\n",
      "[CV]  max_depth=25, min_samples_split=2, n_estimators=1000, score=0.532, total=  11.9s\n",
      "[Parallel(n_jobs=1)]: Done   3 out of   3 | elapsed:   35.6s remaining:    0.0s\n",
      "[CV] max_depth=25, min_samples_split=2, n_estimators=2000 ............\n",
      "[CV]  max_depth=25, min_samples_split=2, n_estimators=2000, score=0.501, total=  23.7s\n",
      "[Parallel(n_jobs=1)]: Done   4 out of   4 | elapsed:   59.4s remaining:    0.0s\n",
      "[CV] max_depth=25, min_samples_split=2, n_estimators=2000 ............\n",
      "[CV]  max_depth=25, min_samples_split=2, n_estimators=2000, score=0.508, total=  23.0s\n",
      "[Parallel(n_jobs=1)]: Done   5 out of   5 | elapsed:  1.4min remaining:    0.0s\n",
      "[CV] max_depth=25, min_samples_split=2, n_estimators=2000 ............\n",
      "[CV]  max_depth=25, min_samples_split=2, n_estimators=2000, score=0.533, total=  23.4s\n",
      "[Parallel(n_jobs=1)]: Done   6 out of   6 | elapsed:  1.8min remaining:    0.0s\n",
      "[CV] max_depth=25, min_samples_split=5, n_estimators=1000 ............\n",
      "[CV]  max_depth=25, min_samples_split=5, n_estimators=1000, score=0.504, total=  11.6s\n",
      "[Parallel(n_jobs=1)]: Done   7 out of   7 | elapsed:  2.0min remaining:    0.0s\n",
      "[CV] max_depth=25, min_samples_split=5, n_estimators=1000 ............\n",
      "[CV]  max_depth=25, min_samples_split=5, n_estimators=1000, score=0.510, total=  11.2s\n",
      "[Parallel(n_jobs=1)]: Done   8 out of   8 | elapsed:  2.1min remaining:    0.0s\n",
      "[CV] max_depth=25, min_samples_split=5, n_estimators=1000 ............\n",
      "[CV]  max_depth=25, min_samples_split=5, n_estimators=1000, score=0.531, total=  11.4s\n",
      "[Parallel(n_jobs=1)]: Done   9 out of   9 | elapsed:  2.3min remaining:    0.0s\n",
      "[CV] max_depth=25, min_samples_split=5, n_estimators=2000 ............\n",
      "[CV]  max_depth=25, min_samples_split=5, n_estimators=2000, score=0.500, total=  23.0s\n",
      "[Parallel(n_jobs=1)]: Done  10 out of  10 | elapsed:  2.7min remaining:    0.0s\n",
      "[CV] max_depth=25, min_samples_split=5, n_estimators=2000 ............\n",
      "[CV]  max_depth=25, min_samples_split=5, n_estimators=2000, score=0.513, total=  23.0s\n",
      "[Parallel(n_jobs=1)]: Done  11 out of  11 | elapsed:  3.1min remaining:    0.0s\n",
      "[CV] max_depth=25, min_samples_split=5, n_estimators=2000 ............\n",
      "[CV]  max_depth=25, min_samples_split=5, n_estimators=2000, score=0.534, total=  23.0s\n",
      "[Parallel(n_jobs=1)]: Done  12 out of  12 | elapsed:  3.5min remaining:    0.0s\n",
      "[CV] max_depth=25, min_samples_split=10, n_estimators=1000 ...........\n",
      "[CV]  max_depth=25, min_samples_split=10, n_estimators=1000, score=0.501, total=  11.0s\n",
      "[Parallel(n_jobs=1)]: Done  13 out of  13 | elapsed:  3.7min remaining:    0.0s\n",
      "[CV] max_depth=25, min_samples_split=10, n_estimators=1000 ...........\n",
      "[CV]  max_depth=25, min_samples_split=10, n_estimators=1000, score=0.513, total=  10.7s\n",
      "[Parallel(n_jobs=1)]: Done  14 out of  14 | elapsed:  3.9min remaining:    0.0s\n",
      "[CV] max_depth=25, min_samples_split=10, n_estimators=1000 ...........\n",
      "[CV]  max_depth=25, min_samples_split=10, n_estimators=1000, score=0.531, total=  11.0s\n",
      "[Parallel(n_jobs=1)]: Done  15 out of  15 | elapsed:  4.0min remaining:    0.0s\n",
      "[CV] max_depth=25, min_samples_split=10, n_estimators=2000 ...........\n",
      "[CV]  max_depth=25, min_samples_split=10, n_estimators=2000, score=0.505, total=  22.0s\n",
      "[Parallel(n_jobs=1)]: Done  16 out of  16 | elapsed:  4.4min remaining:    0.0s\n",
      "[CV] max_depth=25, min_samples_split=10, n_estimators=2000 ...........\n",
      "[CV]  max_depth=25, min_samples_split=10, n_estimators=2000, score=0.512, total=  21.4s\n",
      "[Parallel(n_jobs=1)]: Done  17 out of  17 | elapsed:  4.8min remaining:    0.0s\n",
      "[CV] max_depth=25, min_samples_split=10, n_estimators=2000 ...........\n",
      "[CV]  max_depth=25, min_samples_split=10, n_estimators=2000, score=0.535, total=  21.9s\n",
      "[Parallel(n_jobs=1)]: Done  18 out of  18 | elapsed:  5.1min remaining:    0.0s\n",
      "[CV] max_depth=100, min_samples_split=2, n_estimators=1000 ...........\n",
      "[CV]  max_depth=100, min_samples_split=2, n_estimators=1000, score=0.506, total=  11.8s\n",
      "[Parallel(n_jobs=1)]: Done  19 out of  19 | elapsed:  5.3min remaining:    0.0s\n",
      "[CV] max_depth=100, min_samples_split=2, n_estimators=1000 ...........\n",
      "[CV]  max_depth=100, min_samples_split=2, n_estimators=1000, score=0.511, total=  11.9s\n",
      "[Parallel(n_jobs=1)]: Done  20 out of  20 | elapsed:  5.5min remaining:    0.0s\n",
      "[CV] max_depth=100, min_samples_split=2, n_estimators=1000 ...........\n",
      "[CV]  max_depth=100, min_samples_split=2, n_estimators=1000, score=0.534, total=  11.8s\n",
      "[Parallel(n_jobs=1)]: Done  21 out of  21 | elapsed:  5.7min remaining:    0.0s\n",
      "[CV] max_depth=100, min_samples_split=2, n_estimators=2000 ...........\n",
      "[CV]  max_depth=100, min_samples_split=2, n_estimators=2000, score=0.504, total=  23.7s\n",
      "[Parallel(n_jobs=1)]: Done  22 out of  22 | elapsed:  6.1min remaining:    0.0s\n",
      "[CV] max_depth=100, min_samples_split=2, n_estimators=2000 ...........\n",
      "[CV]  max_depth=100, min_samples_split=2, n_estimators=2000, score=0.508, total=  23.1s\n",
      "[Parallel(n_jobs=1)]: Done  23 out of  23 | elapsed:  6.5min remaining:    0.0s\n",
      "[CV] max_depth=100, min_samples_split=2, n_estimators=2000 ...........\n",
      "[CV]  max_depth=100, min_samples_split=2, n_estimators=2000, score=0.531, total=  23.6s\n",
      "[Parallel(n_jobs=1)]: Done  24 out of  24 | elapsed:  6.9min remaining:    0.0s\n",
      "[CV] max_depth=100, min_samples_split=5, n_estimators=1000 ...........\n",
      "[CV]  max_depth=100, min_samples_split=5, n_estimators=1000, score=0.509, total=  11.5s\n",
      "[Parallel(n_jobs=1)]: Done  25 out of  25 | elapsed:  7.1min remaining:    0.0s\n",
      "[CV] max_depth=100, min_samples_split=5, n_estimators=1000 ...........\n",
      "[CV]  max_depth=100, min_samples_split=5, n_estimators=1000, score=0.508, total=  11.2s\n",
      "[Parallel(n_jobs=1)]: Done  26 out of  26 | elapsed:  7.3min remaining:    0.0s\n",
      "[CV] max_depth=100, min_samples_split=5, n_estimators=1000 ...........\n",
      "[CV]  max_depth=100, min_samples_split=5, n_estimators=1000, score=0.530, total=  11.5s\n",
      "[Parallel(n_jobs=1)]: Done  27 out of  27 | elapsed:  7.5min remaining:    0.0s\n",
      "[CV] max_depth=100, min_samples_split=5, n_estimators=2000 ...........\n",
      "[CV]  max_depth=100, min_samples_split=5, n_estimators=2000, score=0.503, total=  23.3s\n",
      "[Parallel(n_jobs=1)]: Done  28 out of  28 | elapsed:  7.9min remaining:    0.0s\n",
      "[CV] max_depth=100, min_samples_split=5, n_estimators=2000 ...........\n",
      "[CV]  max_depth=100, min_samples_split=5, n_estimators=2000, score=0.506, total=  22.5s\n",
      "[Parallel(n_jobs=1)]: Done  29 out of  29 | elapsed:  8.2min remaining:    0.0s\n",
      "[CV] max_depth=100, min_samples_split=5, n_estimators=2000 ...........\n",
      "[CV]  max_depth=100, min_samples_split=5, n_estimators=2000, score=0.531, total=  22.9s\n",
      "[Parallel(n_jobs=1)]: Done  30 out of  30 | elapsed:  8.6min remaining:    0.0s\n",
      "[CV] max_depth=100, min_samples_split=10, n_estimators=1000 ..........\n",
      "[CV]  max_depth=100, min_samples_split=10, n_estimators=1000, score=0.502, total=  11.1s\n",
      "[Parallel(n_jobs=1)]: Done  31 out of  31 | elapsed:  8.8min remaining:    0.0s\n",
      "[CV] max_depth=100, min_samples_split=10, n_estimators=1000 ..........\n",
      "[CV]  max_depth=100, min_samples_split=10, n_estimators=1000, score=0.512, total=  10.8s\n",
      "[Parallel(n_jobs=1)]: Done  32 out of  32 | elapsed:  9.0min remaining:    0.0s\n",
      "[CV] max_depth=100, min_samples_split=10, n_estimators=1000 ..........\n",
      "[CV]  max_depth=100, min_samples_split=10, n_estimators=1000, score=0.534, total=  11.0s\n",
      "[Parallel(n_jobs=1)]: Done  33 out of  33 | elapsed:  9.2min remaining:    0.0s\n",
      "[CV] max_depth=100, min_samples_split=10, n_estimators=2000 ..........\n",
      "[CV]  max_depth=100, min_samples_split=10, n_estimators=2000, score=0.506, total=  22.0s\n",
      "[Parallel(n_jobs=1)]: Done  34 out of  34 | elapsed:  9.5min remaining:    0.0s\n",
      "[CV] max_depth=100, min_samples_split=10, n_estimators=2000 ..........\n",
      "[CV]  max_depth=100, min_samples_split=10, n_estimators=2000, score=0.512, total=  21.4s\n",
      "[Parallel(n_jobs=1)]: Done  35 out of  35 | elapsed:  9.9min remaining:    0.0s\n",
      "[CV] max_depth=100, min_samples_split=10, n_estimators=2000 ..........\n",
      "[CV]  max_depth=100, min_samples_split=10, n_estimators=2000, score=0.532, total=  21.8s\n",
      "[Parallel(n_jobs=1)]: Done  36 out of  36 | elapsed: 10.3min remaining:    0.0s\n",
      "[Parallel(n_jobs=1)]: Done  36 out of  36 | elapsed: 10.3min finished\n",
      "Accuracy (test) for RF: 52.0% \n"
     ]
    }
   ],
   "source": [
    "parameters = {'n_estimators':[1000,2000], 'max_depth':[25,100], 'min_samples_split':[2,5,10]}\n",
    "\n",
    "forest = RandomForestClassifier(criterion='gini', min_samples_leaf=1, \n",
    "                                min_weight_fraction_leaf=0.0, max_features='auto', \n",
    "                                max_leaf_nodes=None, min_impurity_decrease=0.0, \n",
    "                                min_impurity_split=None, bootstrap=True, oob_score=False, \n",
    "                                n_jobs=None, random_state=None)\n",
    "\n",
    "RFClassifier = GridSearchCV(forest, parameters,verbose=100)\n",
    "\n",
    "name = 'RF'\n",
    "\n",
    "print(\"Training \" + name + \" ...\")\n",
    "RFClassifier.fit(train_x, train_y)\n",
    "\n",
    "y_pred = RFClassifier.predict(test_x)\n",
    "accuracy = accuracy_score(test_y, y_pred)\n",
    "print(\"Accuracy (test) for %s: %0.1f%% \" % (name, accuracy * 100))\n",
    "    \n",
    "#Calculate probabilities:\n",
    "probas = RFClassifier.predict_proba(test_x)"
   ]
  },
  {
   "cell_type": "markdown",
   "metadata": {},
   "source": [
    "### Testing various models"
   ]
  },
  {
   "cell_type": "code",
   "execution_count": 107,
   "metadata": {},
   "outputs": [
    {
     "name": "stdout",
     "output_type": "stream",
     "text": [
      "Training L1 logistic...\n",
      "Accuracy (test) for L1 logistic: 55.0% \n",
      "Training L2 logistic (Multinomial)...\n",
      "Accuracy (test) for L2 logistic (Multinomial): 54.8% \n",
      "Training L2 logistic (OvR)...\n",
      "Accuracy (test) for L2 logistic (OvR): 54.9% \n",
      "Training Random Forest...\n",
      "Accuracy (test) for Random Forest: 67.3% \n"
     ]
    }
   ],
   "source": [
    "# Dealing with parameters\n",
    "C = 0.8\n",
    "\n",
    "# Create different classifiers.\n",
    "classifiers = {\n",
    "    'L1 logistic': LogisticRegression(C=C, penalty='l1',\n",
    "                                      solver='saga', tol=0.000001,\n",
    "                                      multi_class='multinomial',\n",
    "                                      max_iter=1000000),\n",
    "    'L2 logistic (Multinomial)': LogisticRegression(C=C, penalty='l2',\n",
    "                                                    solver='saga', tol=0.000001,\n",
    "                                                    multi_class='multinomial',\n",
    "                                                    max_iter=1000000),\n",
    "    'L2 logistic (OvR)': LogisticRegression(C=C, penalty='l2',\n",
    "                                            solver='saga',\n",
    "                                            multi_class='ovr',\n",
    "                                            max_iter=10000),\n",
    "    'Random Forest': RandomForestClassifier(n_estimators=1000, criterion='gini', max_depth=25, \n",
    "                                            min_samples_split=2, min_samples_leaf=1, \n",
    "                                            min_weight_fraction_leaf=0.0, max_features='auto', \n",
    "                                            max_leaf_nodes=None, min_impurity_decrease=0.0, \n",
    "                                            min_impurity_split=None, bootstrap=True, oob_score=False, \n",
    "                                            n_jobs=None, random_state=None)\n",
    "}\n",
    "\n",
    "n_classifiers = len(classifiers)\n",
    "\n",
    "results = {}\n",
    "\n",
    "for index, (name, classifier) in enumerate(classifiers.items()):\n",
    "    print(\"Training \" + name + \"...\")\n",
    "    classifier.fit(train_x, train_y)\n",
    "\n",
    "    y_pred = classifier.predict(test_x)\n",
    "    accuracy = accuracy_score(test_y, y_pred)\n",
    "    print(\"Accuracy (test) for %s: %0.1f%% \" % (name, accuracy * 100))\n",
    "    \n",
    "    #Calculate probabilities:\n",
    "    probas = classifier.predict_proba(test_x)\n",
    "    \n",
    "    #store them in a dict\n",
    "    results[name] = probas\n"
   ]
  },
  {
   "cell_type": "markdown",
   "metadata": {},
   "source": [
    "# Let's try with Neural Networks"
   ]
  },
  {
   "cell_type": "markdown",
   "metadata": {},
   "source": [
    "## Imports"
   ]
  },
  {
   "cell_type": "code",
   "execution_count": 118,
   "metadata": {},
   "outputs": [],
   "source": [
    "import tensorflow.compat.v1 as tf\n",
    "tf.disable_v2_behavior()\n",
    "from numpy import argmax\n",
    "from sklearn.preprocessing import LabelEncoder\n",
    "from sklearn.preprocessing import OneHotEncoder\n",
    "from sklearn import preprocessing\n",
    "\n",
    "#Keras tuners\n",
    "from kerastuner.tuners import RandomSearch\n",
    "from kerastuner.engine.hyperparameters import HyperParameters\n",
    "\n",
    "#Time\n",
    "import time"
   ]
  },
  {
   "cell_type": "markdown",
   "metadata": {},
   "source": [
    "## Parameters"
   ]
  },
  {
   "cell_type": "code",
   "execution_count": 119,
   "metadata": {},
   "outputs": [],
   "source": [
    "n_classes = 3\n",
    "n_features = train_x.shape[1]\n",
    "n_epochs = 10"
   ]
  },
  {
   "cell_type": "markdown",
   "metadata": {},
   "source": [
    "## Preprocessing"
   ]
  },
  {
   "cell_type": "code",
   "execution_count": 136,
   "metadata": {},
   "outputs": [],
   "source": [
    "test_X = test_x.values\n",
    "test_Y = test_y.values\n",
    "train_X = train_x.values\n",
    "train_Y = train_y.values\n",
    "\n",
    "#Features\n",
    "min_max_scaler = preprocessing.MinMaxScaler()\n",
    "train_X_scaled = min_max_scaler.fit_transform(train_X)\n",
    "test_X_scaled = min_max_scaler.transform(test_X)\n",
    "\n",
    "#Labels\n",
    "# integer encode\n",
    "label_encoder = LabelEncoder()\n",
    "train_Y_integer_encoded = label_encoder.fit_transform(train_Y)\n",
    "test_Y_integer_encoded = label_encoder.transform(test_Y)\n",
    "\n",
    "# binary encode\n",
    "onehot_encoder = OneHotEncoder(sparse=False)\n",
    "train_Y_integer_encoded = train_Y_integer_encoded.reshape(len(train_Y_integer_encoded), 1)\n",
    "train_Y_onehot_encoded = onehot_encoder.fit_transform(train_Y_integer_encoded)\n",
    "test_Y_integer_encoded = test_Y_integer_encoded.reshape(len(test_Y_integer_encoded), 1)\n",
    "test_Y_onehot_encoded = onehot_encoder.transform(test_Y_integer_encoded)\n"
   ]
  },
  {
   "cell_type": "markdown",
   "metadata": {},
   "source": [
    "## Searching for a relevant architecture model"
   ]
  },
  {
   "cell_type": "code",
   "execution_count": 124,
   "metadata": {},
   "outputs": [
    {
     "name": "stdout",
     "output_type": "stream",
     "text": [
      "Train on 7917 samples, validate on 1833 samples\n",
      "Epoch 1/10\n",
      "7917/7917 [==============================] - ETA: 1:51 - loss: 1.1589 - acc: 0.240 - ETA: 26s - loss: 1.1069 - acc: 0.304 - ETA: 16s - loss: 1.0891 - acc: 0.36 - ETA: 11s - loss: 1.0832 - acc: 0.42 - ETA: 7s - loss: 1.0926 - acc: 0.4296 - ETA: 5s - loss: 1.0859 - acc: 0.446 - ETA: 4s - loss: 1.0861 - acc: 0.449 - ETA: 3s - loss: 1.0769 - acc: 0.471 - ETA: 3s - loss: 1.0744 - acc: 0.475 - ETA: 2s - loss: 1.0756 - acc: 0.469 - ETA: 2s - loss: 1.0761 - acc: 0.467 - ETA: 2s - loss: 1.0733 - acc: 0.476 - ETA: 2s - loss: 1.0708 - acc: 0.480 - ETA: 2s - loss: 1.0699 - acc: 0.480 - ETA: 2s - loss: 1.0710 - acc: 0.480 - ETA: 1s - loss: 1.0709 - acc: 0.480 - ETA: 1s - loss: 1.0698 - acc: 0.481 - ETA: 1s - loss: 1.0657 - acc: 0.487 - ETA: 1s - loss: 1.0627 - acc: 0.489 - ETA: 1s - loss: 1.0637 - acc: 0.488 - ETA: 1s - loss: 1.0612 - acc: 0.489 - ETA: 1s - loss: 1.0616 - acc: 0.487 - ETA: 1s - loss: 1.0609 - acc: 0.487 - ETA: 0s - loss: 1.0587 - acc: 0.491 - ETA: 0s - loss: 1.0576 - acc: 0.491 - ETA: 0s - loss: 1.0561 - acc: 0.492 - ETA: 0s - loss: 1.0549 - acc: 0.492 - ETA: 0s - loss: 1.0541 - acc: 0.491 - ETA: 0s - loss: 1.0526 - acc: 0.493 - ETA: 0s - loss: 1.0500 - acc: 0.495 - ETA: 0s - loss: 1.0491 - acc: 0.495 - ETA: 0s - loss: 1.0481 - acc: 0.496 - ETA: 0s - loss: 1.0476 - acc: 0.497 - ETA: 0s - loss: 1.0463 - acc: 0.498 - ETA: 0s - loss: 1.0451 - acc: 0.499 - ETA: 0s - loss: 1.0454 - acc: 0.498 - ETA: 0s - loss: 1.0448 - acc: 0.498 - ETA: 0s - loss: 1.0442 - acc: 0.497 - 3s 351us/sample - loss: 1.0438 - acc: 0.4982 - val_loss: 1.0045 - val_acc: 0.5232\n",
      "Epoch 2/10\n",
      "7917/7917 [==============================] - ETA: 4s - loss: 1.1271 - acc: 0.320 - ETA: 2s - loss: 1.0500 - acc: 0.444 - ETA: 2s - loss: 1.0457 - acc: 0.451 - ETA: 2s - loss: 1.0338 - acc: 0.471 - ETA: 2s - loss: 1.0225 - acc: 0.492 - ETA: 1s - loss: 1.0094 - acc: 0.511 - ETA: 1s - loss: 1.0152 - acc: 0.507 - ETA: 1s - loss: 1.0200 - acc: 0.500 - ETA: 1s - loss: 1.0179 - acc: 0.499 - ETA: 1s - loss: 1.0126 - acc: 0.503 - ETA: 1s - loss: 1.0083 - acc: 0.506 - ETA: 1s - loss: 1.0085 - acc: 0.503 - ETA: 1s - loss: 1.0072 - acc: 0.507 - ETA: 1s - loss: 1.0064 - acc: 0.506 - ETA: 1s - loss: 1.0054 - acc: 0.509 - ETA: 1s - loss: 1.0045 - acc: 0.509 - ETA: 1s - loss: 1.0017 - acc: 0.512 - ETA: 1s - loss: 1.0030 - acc: 0.510 - ETA: 0s - loss: 1.0027 - acc: 0.510 - ETA: 1s - loss: 1.0012 - acc: 0.512 - ETA: 0s - loss: 1.0006 - acc: 0.513 - ETA: 0s - loss: 0.9989 - acc: 0.513 - ETA: 0s - loss: 1.0011 - acc: 0.511 - ETA: 0s - loss: 0.9998 - acc: 0.512 - ETA: 0s - loss: 0.9988 - acc: 0.514 - ETA: 0s - loss: 0.9980 - acc: 0.515 - ETA: 0s - loss: 0.9977 - acc: 0.516 - ETA: 0s - loss: 0.9989 - acc: 0.514 - ETA: 0s - loss: 0.9991 - acc: 0.514 - ETA: 0s - loss: 0.9989 - acc: 0.514 - ETA: 0s - loss: 0.9989 - acc: 0.513 - ETA: 0s - loss: 0.9990 - acc: 0.514 - ETA: 0s - loss: 0.9977 - acc: 0.515 - ETA: 0s - loss: 0.9972 - acc: 0.517 - ETA: 0s - loss: 0.9970 - acc: 0.517 - ETA: 0s - loss: 0.9963 - acc: 0.518 - ETA: 0s - loss: 0.9970 - acc: 0.518 - ETA: 0s - loss: 0.9964 - acc: 0.518 - ETA: 0s - loss: 0.9960 - acc: 0.519 - 2s 279us/sample - loss: 0.9972 - acc: 0.5180 - val_loss: 0.9822 - val_acc: 0.5297\n",
      "Epoch 3/10\n",
      "7917/7917 [==============================] - ETA: 4s - loss: 1.0333 - acc: 0.400 - ETA: 2s - loss: 1.0184 - acc: 0.475 - ETA: 2s - loss: 1.0197 - acc: 0.485 - ETA: 2s - loss: 1.0230 - acc: 0.483 - ETA: 2s - loss: 1.0187 - acc: 0.491 - ETA: 2s - loss: 1.0090 - acc: 0.503 - ETA: 1s - loss: 1.0072 - acc: 0.501 - ETA: 1s - loss: 1.0068 - acc: 0.504 - ETA: 1s - loss: 0.9961 - acc: 0.515 - ETA: 1s - loss: 0.9946 - acc: 0.515 - ETA: 1s - loss: 0.9968 - acc: 0.514 - ETA: 1s - loss: 0.9899 - acc: 0.521 - ETA: 1s - loss: 0.9894 - acc: 0.521 - ETA: 1s - loss: 0.9909 - acc: 0.520 - ETA: 1s - loss: 0.9904 - acc: 0.522 - ETA: 1s - loss: 0.9871 - acc: 0.526 - ETA: 1s - loss: 0.9871 - acc: 0.527 - ETA: 1s - loss: 0.9881 - acc: 0.526 - ETA: 1s - loss: 0.9885 - acc: 0.524 - ETA: 1s - loss: 0.9910 - acc: 0.522 - ETA: 1s - loss: 0.9924 - acc: 0.520 - ETA: 1s - loss: 0.9911 - acc: 0.520 - ETA: 1s - loss: 0.9908 - acc: 0.521 - ETA: 1s - loss: 0.9910 - acc: 0.521 - ETA: 1s - loss: 0.9927 - acc: 0.519 - ETA: 1s - loss: 0.9927 - acc: 0.519 - ETA: 1s - loss: 0.9915 - acc: 0.520 - ETA: 1s - loss: 0.9921 - acc: 0.520 - ETA: 0s - loss: 0.9914 - acc: 0.521 - ETA: 0s - loss: 0.9899 - acc: 0.521 - ETA: 0s - loss: 0.9909 - acc: 0.520 - ETA: 0s - loss: 0.9910 - acc: 0.520 - ETA: 0s - loss: 0.9893 - acc: 0.522 - ETA: 0s - loss: 0.9877 - acc: 0.524 - ETA: 0s - loss: 0.9880 - acc: 0.523 - ETA: 0s - loss: 0.9876 - acc: 0.523 - ETA: 0s - loss: 0.9903 - acc: 0.521 - ETA: 0s - loss: 0.9905 - acc: 0.521 - ETA: 0s - loss: 0.9903 - acc: 0.521 - ETA: 0s - loss: 0.9906 - acc: 0.521 - ETA: 0s - loss: 0.9899 - acc: 0.521 - ETA: 0s - loss: 0.9894 - acc: 0.521 - ETA: 0s - loss: 0.9892 - acc: 0.522 - ETA: 0s - loss: 0.9892 - acc: 0.522 - ETA: 0s - loss: 0.9892 - acc: 0.522 - ETA: 0s - loss: 0.9901 - acc: 0.522 - ETA: 0s - loss: 0.9902 - acc: 0.522 - ETA: 0s - loss: 0.9897 - acc: 0.522 - ETA: 0s - loss: 0.9905 - acc: 0.522 - ETA: 0s - loss: 0.9905 - acc: 0.521 - ETA: 0s - loss: 0.9911 - acc: 0.520 - 3s 358us/sample - loss: 0.9907 - acc: 0.5213 - val_loss: 0.9809 - val_acc: 0.5281\n",
      "Epoch 4/10\n",
      "7917/7917 [==============================] - ETA: 4s - loss: 0.8165 - acc: 0.720 - ETA: 2s - loss: 0.9423 - acc: 0.586 - ETA: 2s - loss: 0.9443 - acc: 0.566 - ETA: 2s - loss: 0.9701 - acc: 0.545 - ETA: 2s - loss: 0.9632 - acc: 0.543 - ETA: 2s - loss: 0.9614 - acc: 0.548 - ETA: 2s - loss: 0.9662 - acc: 0.545 - ETA: 2s - loss: 0.9677 - acc: 0.546 - ETA: 2s - loss: 0.9756 - acc: 0.536 - ETA: 2s - loss: 0.9751 - acc: 0.534 - ETA: 2s - loss: 0.9743 - acc: 0.539 - ETA: 2s - loss: 0.9815 - acc: 0.534 - ETA: 2s - loss: 0.9830 - acc: 0.535 - ETA: 2s - loss: 0.9850 - acc: 0.532 - ETA: 2s - loss: 0.9844 - acc: 0.531 - ETA: 1s - loss: 0.9815 - acc: 0.532 - ETA: 1s - loss: 0.9829 - acc: 0.531 - ETA: 1s - loss: 0.9836 - acc: 0.528 - ETA: 1s - loss: 0.9831 - acc: 0.529 - ETA: 1s - loss: 0.9821 - acc: 0.531 - ETA: 1s - loss: 0.9845 - acc: 0.526 - ETA: 1s - loss: 0.9857 - acc: 0.524 - ETA: 1s - loss: 0.9860 - acc: 0.523 - ETA: 1s - loss: 0.9875 - acc: 0.522 - ETA: 1s - loss: 0.9881 - acc: 0.521 - ETA: 1s - loss: 0.9895 - acc: 0.518 - ETA: 1s - loss: 0.9882 - acc: 0.521 - ETA: 1s - loss: 0.9895 - acc: 0.519 - ETA: 1s - loss: 0.9905 - acc: 0.518 - ETA: 0s - loss: 0.9902 - acc: 0.518 - ETA: 0s - loss: 0.9894 - acc: 0.518 - ETA: 0s - loss: 0.9896 - acc: 0.518 - ETA: 0s - loss: 0.9880 - acc: 0.518 - ETA: 0s - loss: 0.9876 - acc: 0.521 - ETA: 0s - loss: 0.9884 - acc: 0.520 - ETA: 0s - loss: 0.9895 - acc: 0.520 - ETA: 0s - loss: 0.9898 - acc: 0.520 - ETA: 0s - loss: 0.9895 - acc: 0.520 - ETA: 0s - loss: 0.9903 - acc: 0.519 - ETA: 0s - loss: 0.9893 - acc: 0.520 - ETA: 0s - loss: 0.9905 - acc: 0.519 - ETA: 0s - loss: 0.9904 - acc: 0.519 - ETA: 0s - loss: 0.9898 - acc: 0.520 - ETA: 0s - loss: 0.9890 - acc: 0.520 - ETA: 0s - loss: 0.9891 - acc: 0.521 - ETA: 0s - loss: 0.9880 - acc: 0.522 - ETA: 0s - loss: 0.9884 - acc: 0.522 - 3s 328us/sample - loss: 0.9882 - acc: 0.5224 - val_loss: 0.9815 - val_acc: 0.5265\n",
      "Epoch 5/10\n",
      "7917/7917 [==============================] - ETA: 5s - loss: 0.7825 - acc: 0.720 - ETA: 3s - loss: 0.9459 - acc: 0.554 - ETA: 2s - loss: 0.9541 - acc: 0.562 - ETA: 2s - loss: 0.9735 - acc: 0.540 - ETA: 2s - loss: 0.9795 - acc: 0.531 - ETA: 2s - loss: 0.9911 - acc: 0.528 - ETA: 2s - loss: 0.9937 - acc: 0.525 - ETA: 2s - loss: 0.9918 - acc: 0.531 - ETA: 2s - loss: 0.9912 - acc: 0.526 - ETA: 2s - loss: 0.9940 - acc: 0.524 - ETA: 2s - loss: 0.9935 - acc: 0.522 - ETA: 2s - loss: 0.9930 - acc: 0.519 - ETA: 2s - loss: 0.9917 - acc: 0.521 - ETA: 2s - loss: 0.9962 - acc: 0.519 - ETA: 2s - loss: 0.9954 - acc: 0.518 - ETA: 2s - loss: 0.9915 - acc: 0.519 - ETA: 2s - loss: 0.9904 - acc: 0.519 - ETA: 2s - loss: 0.9905 - acc: 0.517 - ETA: 2s - loss: 0.9898 - acc: 0.520 - ETA: 1s - loss: 0.9921 - acc: 0.516 - ETA: 1s - loss: 0.9886 - acc: 0.521 - ETA: 1s - loss: 0.9907 - acc: 0.520 - ETA: 1s - loss: 0.9895 - acc: 0.522 - ETA: 1s - loss: 0.9921 - acc: 0.517 - ETA: 1s - loss: 0.9922 - acc: 0.517 - ETA: 1s - loss: 0.9900 - acc: 0.520 - ETA: 1s - loss: 0.9900 - acc: 0.520 - ETA: 1s - loss: 0.9882 - acc: 0.521 - ETA: 1s - loss: 0.9892 - acc: 0.521 - ETA: 1s - loss: 0.9904 - acc: 0.518 - ETA: 1s - loss: 0.9929 - acc: 0.516 - ETA: 1s - loss: 0.9948 - acc: 0.515 - ETA: 1s - loss: 0.9939 - acc: 0.515 - ETA: 0s - loss: 0.9941 - acc: 0.515 - ETA: 0s - loss: 0.9927 - acc: 0.517 - ETA: 0s - loss: 0.9922 - acc: 0.517 - ETA: 0s - loss: 0.9920 - acc: 0.517 - ETA: 0s - loss: 0.9898 - acc: 0.517 - ETA: 0s - loss: 0.9902 - acc: 0.518 - ETA: 0s - loss: 0.9900 - acc: 0.518 - ETA: 0s - loss: 0.9881 - acc: 0.520 - ETA: 0s - loss: 0.9864 - acc: 0.521 - ETA: 0s - loss: 0.9862 - acc: 0.521 - ETA: 0s - loss: 0.9872 - acc: 0.522 - ETA: 0s - loss: 0.9860 - acc: 0.523 - ETA: 0s - loss: 0.9871 - acc: 0.523 - ETA: 0s - loss: 0.9878 - acc: 0.522 - ETA: 0s - loss: 0.9880 - acc: 0.521 - ETA: 0s - loss: 0.9874 - acc: 0.521 - 3s 358us/sample - loss: 0.9874 - acc: 0.5214 - val_loss: 0.9865 - val_acc: 0.5265\n",
      "Epoch 6/10\n",
      "7917/7917 [==============================] - ETA: 4s - loss: 1.0051 - acc: 0.480 - ETA: 2s - loss: 0.9191 - acc: 0.605 - ETA: 3s - loss: 0.9415 - acc: 0.583 - ETA: 2s - loss: 0.9318 - acc: 0.596 - ETA: 2s - loss: 0.9344 - acc: 0.591 - ETA: 2s - loss: 0.9698 - acc: 0.551 - ETA: 1s - loss: 0.9779 - acc: 0.541 - ETA: 2s - loss: 0.9774 - acc: 0.539 - ETA: 1s - loss: 0.9732 - acc: 0.542 - ETA: 1s - loss: 0.9762 - acc: 0.535 - ETA: 1s - loss: 0.9780 - acc: 0.533 - ETA: 1s - loss: 0.9753 - acc: 0.536 - ETA: 1s - loss: 0.9777 - acc: 0.533 - ETA: 1s - loss: 0.9785 - acc: 0.532 - ETA: 1s - loss: 0.9784 - acc: 0.533 - ETA: 1s - loss: 0.9800 - acc: 0.530 - ETA: 1s - loss: 0.9815 - acc: 0.529 - ETA: 1s - loss: 0.9811 - acc: 0.531 - ETA: 1s - loss: 0.9801 - acc: 0.532 - ETA: 1s - loss: 0.9796 - acc: 0.532 - ETA: 1s - loss: 0.9793 - acc: 0.534 - ETA: 1s - loss: 0.9793 - acc: 0.533 - ETA: 1s - loss: 0.9819 - acc: 0.533 - ETA: 1s - loss: 0.9808 - acc: 0.531 - ETA: 1s - loss: 0.9831 - acc: 0.529 - ETA: 1s - loss: 0.9846 - acc: 0.526 - ETA: 0s - loss: 0.9863 - acc: 0.524 - ETA: 0s - loss: 0.9857 - acc: 0.525 - ETA: 0s - loss: 0.9856 - acc: 0.525 - ETA: 0s - loss: 0.9850 - acc: 0.526 - ETA: 0s - loss: 0.9843 - acc: 0.527 - ETA: 0s - loss: 0.9854 - acc: 0.524 - ETA: 0s - loss: 0.9841 - acc: 0.524 - ETA: 0s - loss: 0.9846 - acc: 0.524 - ETA: 0s - loss: 0.9849 - acc: 0.523 - ETA: 0s - loss: 0.9842 - acc: 0.523 - ETA: 0s - loss: 0.9840 - acc: 0.524 - ETA: 0s - loss: 0.9849 - acc: 0.523 - ETA: 0s - loss: 0.9847 - acc: 0.523 - ETA: 0s - loss: 0.9861 - acc: 0.521 - ETA: 0s - loss: 0.9858 - acc: 0.521 - ETA: 0s - loss: 0.9860 - acc: 0.521 - ETA: 0s - loss: 0.9865 - acc: 0.521 - ETA: 0s - loss: 0.9875 - acc: 0.520 - 2s 311us/sample - loss: 0.9875 - acc: 0.5209 - val_loss: 0.9826 - val_acc: 0.5286\n",
      "Epoch 7/10\n",
      "7917/7917 [==============================] - ETA: 2s - loss: 1.1284 - acc: 0.560 - ETA: 2s - loss: 0.9893 - acc: 0.555 - ETA: 2s - loss: 0.9978 - acc: 0.560 - ETA: 2s - loss: 1.0044 - acc: 0.533 - ETA: 2s - loss: 0.9875 - acc: 0.542 - ETA: 2s - loss: 0.9911 - acc: 0.534 - ETA: 2s - loss: 0.9881 - acc: 0.532 - ETA: 1s - loss: 0.9907 - acc: 0.527 - ETA: 1s - loss: 0.9932 - acc: 0.518 - ETA: 1s - loss: 0.9849 - acc: 0.525 - ETA: 1s - loss: 0.9828 - acc: 0.524 - ETA: 1s - loss: 0.9850 - acc: 0.522 - ETA: 1s - loss: 0.9823 - acc: 0.522 - ETA: 1s - loss: 0.9831 - acc: 0.522 - ETA: 1s - loss: 0.9825 - acc: 0.521 - ETA: 0s - loss: 0.9847 - acc: 0.517 - ETA: 0s - loss: 0.9853 - acc: 0.516 - ETA: 0s - loss: 0.9848 - acc: 0.520 - ETA: 0s - loss: 0.9834 - acc: 0.522 - ETA: 0s - loss: 0.9865 - acc: 0.519 - ETA: 0s - loss: 0.9854 - acc: 0.519 - ETA: 0s - loss: 0.9854 - acc: 0.518 - ETA: 0s - loss: 0.9859 - acc: 0.519 - ETA: 0s - loss: 0.9847 - acc: 0.520 - ETA: 0s - loss: 0.9865 - acc: 0.519 - ETA: 0s - loss: 0.9848 - acc: 0.521 - ETA: 0s - loss: 0.9843 - acc: 0.522 - ETA: 0s - loss: 0.9855 - acc: 0.521 - ETA: 0s - loss: 0.9861 - acc: 0.521 - ETA: 0s - loss: 0.9880 - acc: 0.520 - ETA: 0s - loss: 0.9873 - acc: 0.519 - ETA: 0s - loss: 0.9862 - acc: 0.521 - ETA: 0s - loss: 0.9863 - acc: 0.521 - 2s 232us/sample - loss: 0.9860 - acc: 0.5215 - val_loss: 0.9829 - val_acc: 0.5292\n",
      "Epoch 8/10\n",
      "7917/7917 [==============================] - ETA: 2s - loss: 0.9833 - acc: 0.400 - ETA: 1s - loss: 1.0178 - acc: 0.483 - ETA: 1s - loss: 0.9998 - acc: 0.491 - ETA: 1s - loss: 0.9904 - acc: 0.507 - ETA: 1s - loss: 0.9923 - acc: 0.508 - ETA: 1s - loss: 0.9860 - acc: 0.515 - ETA: 1s - loss: 0.9851 - acc: 0.519 - ETA: 1s - loss: 0.9812 - acc: 0.519 - ETA: 1s - loss: 0.9781 - acc: 0.520 - ETA: 1s - loss: 0.9753 - acc: 0.523 - ETA: 0s - loss: 0.9754 - acc: 0.526 - ETA: 0s - loss: 0.9760 - acc: 0.527 - ETA: 0s - loss: 0.9796 - acc: 0.524 - ETA: 0s - loss: 0.9789 - acc: 0.526 - ETA: 0s - loss: 0.9828 - acc: 0.523 - ETA: 0s - loss: 0.9821 - acc: 0.523 - ETA: 0s - loss: 0.9797 - acc: 0.524 - ETA: 0s - loss: 0.9790 - acc: 0.526 - ETA: 0s - loss: 0.9789 - acc: 0.527 - ETA: 0s - loss: 0.9793 - acc: 0.527 - ETA: 0s - loss: 0.9800 - acc: 0.527 - ETA: 0s - loss: 0.9792 - acc: 0.528 - ETA: 0s - loss: 0.9793 - acc: 0.526 - ETA: 0s - loss: 0.9791 - acc: 0.526 - ETA: 0s - loss: 0.9809 - acc: 0.525 - ETA: 0s - loss: 0.9814 - acc: 0.525 - ETA: 0s - loss: 0.9812 - acc: 0.526 - ETA: 0s - loss: 0.9800 - acc: 0.526 - ETA: 0s - loss: 0.9797 - acc: 0.527 - ETA: 0s - loss: 0.9796 - acc: 0.528 - ETA: 0s - loss: 0.9800 - acc: 0.527 - ETA: 0s - loss: 0.9813 - acc: 0.525 - ETA: 0s - loss: 0.9820 - acc: 0.525 - ETA: 0s - loss: 0.9816 - acc: 0.526 - ETA: 0s - loss: 0.9834 - acc: 0.525 - 2s 251us/sample - loss: 0.9845 - acc: 0.5243 - val_loss: 0.9803 - val_acc: 0.5281\n",
      "Epoch 9/10\n"
     ]
    },
    {
     "name": "stdout",
     "output_type": "stream",
     "text": [
      "7917/7917 [==============================] - ETA: 3s - loss: 1.0637 - acc: 0.320 - ETA: 2s - loss: 0.9905 - acc: 0.512 - ETA: 2s - loss: 0.9667 - acc: 0.550 - ETA: 2s - loss: 0.9729 - acc: 0.532 - ETA: 1s - loss: 0.9594 - acc: 0.545 - ETA: 1s - loss: 0.9706 - acc: 0.535 - ETA: 1s - loss: 0.9693 - acc: 0.544 - ETA: 1s - loss: 0.9713 - acc: 0.543 - ETA: 1s - loss: 0.9683 - acc: 0.542 - ETA: 1s - loss: 0.9669 - acc: 0.541 - ETA: 1s - loss: 0.9647 - acc: 0.541 - ETA: 1s - loss: 0.9664 - acc: 0.539 - ETA: 1s - loss: 0.9643 - acc: 0.538 - ETA: 1s - loss: 0.9644 - acc: 0.539 - ETA: 1s - loss: 0.9636 - acc: 0.540 - ETA: 1s - loss: 0.9651 - acc: 0.539 - ETA: 1s - loss: 0.9653 - acc: 0.541 - ETA: 1s - loss: 0.9671 - acc: 0.541 - ETA: 1s - loss: 0.9688 - acc: 0.539 - ETA: 1s - loss: 0.9689 - acc: 0.538 - ETA: 1s - loss: 0.9704 - acc: 0.534 - ETA: 1s - loss: 0.9691 - acc: 0.536 - ETA: 1s - loss: 0.9698 - acc: 0.534 - ETA: 0s - loss: 0.9738 - acc: 0.532 - ETA: 0s - loss: 0.9758 - acc: 0.529 - ETA: 0s - loss: 0.9765 - acc: 0.528 - ETA: 0s - loss: 0.9758 - acc: 0.527 - ETA: 0s - loss: 0.9765 - acc: 0.527 - ETA: 0s - loss: 0.9755 - acc: 0.527 - ETA: 0s - loss: 0.9764 - acc: 0.527 - ETA: 0s - loss: 0.9765 - acc: 0.527 - ETA: 0s - loss: 0.9783 - acc: 0.525 - ETA: 0s - loss: 0.9778 - acc: 0.526 - ETA: 0s - loss: 0.9783 - acc: 0.525 - ETA: 0s - loss: 0.9801 - acc: 0.523 - ETA: 0s - loss: 0.9801 - acc: 0.524 - ETA: 0s - loss: 0.9807 - acc: 0.524 - ETA: 0s - loss: 0.9812 - acc: 0.523 - ETA: 0s - loss: 0.9812 - acc: 0.524 - ETA: 0s - loss: 0.9814 - acc: 0.523 - ETA: 0s - loss: 0.9825 - acc: 0.522 - ETA: 0s - loss: 0.9838 - acc: 0.522 - 2s 301us/sample - loss: 0.9842 - acc: 0.5214 - val_loss: 0.9826 - val_acc: 0.5319\n",
      "Epoch 10/10\n",
      "7917/7917 [==============================] - ETA: 4s - loss: 1.0211 - acc: 0.520 - ETA: 5s - loss: 1.0103 - acc: 0.460 - ETA: 2s - loss: 1.0314 - acc: 0.480 - ETA: 1s - loss: 1.0070 - acc: 0.497 - ETA: 1s - loss: 1.0034 - acc: 0.509 - ETA: 1s - loss: 1.0024 - acc: 0.510 - ETA: 1s - loss: 1.0045 - acc: 0.512 - ETA: 1s - loss: 1.0004 - acc: 0.514 - ETA: 1s - loss: 0.9991 - acc: 0.514 - ETA: 1s - loss: 0.9977 - acc: 0.518 - ETA: 1s - loss: 0.9901 - acc: 0.523 - ETA: 1s - loss: 0.9894 - acc: 0.522 - ETA: 1s - loss: 0.9897 - acc: 0.521 - ETA: 1s - loss: 0.9906 - acc: 0.520 - ETA: 1s - loss: 0.9927 - acc: 0.515 - ETA: 0s - loss: 0.9872 - acc: 0.522 - ETA: 0s - loss: 0.9864 - acc: 0.523 - ETA: 0s - loss: 0.9863 - acc: 0.523 - ETA: 0s - loss: 0.9851 - acc: 0.525 - ETA: 0s - loss: 0.9850 - acc: 0.524 - ETA: 0s - loss: 0.9858 - acc: 0.524 - ETA: 0s - loss: 0.9860 - acc: 0.523 - ETA: 0s - loss: 0.9861 - acc: 0.522 - ETA: 0s - loss: 0.9843 - acc: 0.524 - ETA: 0s - loss: 0.9843 - acc: 0.524 - ETA: 0s - loss: 0.9839 - acc: 0.524 - ETA: 0s - loss: 0.9839 - acc: 0.524 - ETA: 0s - loss: 0.9857 - acc: 0.523 - ETA: 0s - loss: 0.9847 - acc: 0.523 - ETA: 0s - loss: 0.9854 - acc: 0.523 - ETA: 0s - loss: 0.9849 - acc: 0.523 - ETA: 0s - loss: 0.9843 - acc: 0.524 - ETA: 0s - loss: 0.9850 - acc: 0.523 - ETA: 0s - loss: 0.9843 - acc: 0.524 - 2s 246us/sample - loss: 0.9844 - acc: 0.5246 - val_loss: 0.9874 - val_acc: 0.5199\n"
     ]
    },
    {
     "data": {
      "text/html": [
       "<span style=\"color:#4527A0\"><h1 style=\"font-size:18px\">Trial complete</h1></span>"
      ],
      "text/plain": [
       "<IPython.core.display.HTML object>"
      ]
     },
     "metadata": {},
     "output_type": "display_data"
    },
    {
     "data": {
      "text/html": [
       "<span style=\"color:#4527A0\"><h1 style=\"font-size:18px\">Trial summary</h1></span>"
      ],
      "text/plain": [
       "<IPython.core.display.HTML object>"
      ]
     },
     "metadata": {},
     "output_type": "display_data"
    },
    {
     "data": {
      "text/html": [
       "<span style=\"color:cyan\"> |-Trial ID: 4c43578d4a7f11c93561ea5651133fa0</span>"
      ],
      "text/plain": [
       "<IPython.core.display.HTML object>"
      ]
     },
     "metadata": {},
     "output_type": "display_data"
    },
    {
     "data": {
      "text/html": [
       "<span style=\"color:cyan\"> |-Score: 0.5319148898124695</span>"
      ],
      "text/plain": [
       "<IPython.core.display.HTML object>"
      ]
     },
     "metadata": {},
     "output_type": "display_data"
    },
    {
     "data": {
      "text/html": [
       "<span style=\"color:cyan\"> |-Best step: 0</span>"
      ],
      "text/plain": [
       "<IPython.core.display.HTML object>"
      ]
     },
     "metadata": {},
     "output_type": "display_data"
    },
    {
     "data": {
      "text/html": [
       "<span style=\"color:#7E57C2\"><h2 style=\"font-size:16px\">Hyperparameters:</h2></span>"
      ],
      "text/plain": [
       "<IPython.core.display.HTML object>"
      ]
     },
     "metadata": {},
     "output_type": "display_data"
    },
    {
     "data": {
      "text/html": [
       "<span style=\"color:cyan\"> |-layer_0_neurons: 150</span>"
      ],
      "text/plain": [
       "<IPython.core.display.HTML object>"
      ]
     },
     "metadata": {},
     "output_type": "display_data"
    },
    {
     "data": {
      "text/html": [
       "<span style=\"color:blue\"> |-layer_1_neurons: 10</span>"
      ],
      "text/plain": [
       "<IPython.core.display.HTML object>"
      ]
     },
     "metadata": {},
     "output_type": "display_data"
    },
    {
     "data": {
      "text/html": [
       "<span style=\"color:cyan\"> |-n_input_neurons: 90</span>"
      ],
      "text/plain": [
       "<IPython.core.display.HTML object>"
      ]
     },
     "metadata": {},
     "output_type": "display_data"
    },
    {
     "data": {
      "text/html": [
       "<span style=\"color:blue\"> |-n_layers: 2</span>"
      ],
      "text/plain": [
       "<IPython.core.display.HTML object>"
      ]
     },
     "metadata": {},
     "output_type": "display_data"
    },
    {
     "name": "stdout",
     "output_type": "stream",
     "text": [
      "Train on 7917 samples, validate on 1833 samples\n",
      "Epoch 1/10\n",
      "7917/7917 [==============================] - ETA: 1:40 - loss: 1.0376 - acc: 0.640 - ETA: 9s - loss: 1.0602 - acc: 0.4900  - ETA: 5s - loss: 1.0611 - acc: 0.476 - ETA: 4s - loss: 1.0569 - acc: 0.473 - ETA: 3s - loss: 1.0528 - acc: 0.474 - ETA: 3s - loss: 1.0487 - acc: 0.471 - ETA: 2s - loss: 1.0462 - acc: 0.470 - ETA: 2s - loss: 1.0389 - acc: 0.477 - ETA: 2s - loss: 1.0321 - acc: 0.484 - ETA: 2s - loss: 1.0217 - acc: 0.494 - ETA: 1s - loss: 1.0198 - acc: 0.500 - ETA: 1s - loss: 1.0167 - acc: 0.502 - ETA: 1s - loss: 1.0179 - acc: 0.498 - ETA: 1s - loss: 1.0152 - acc: 0.498 - ETA: 1s - loss: 1.0131 - acc: 0.499 - ETA: 1s - loss: 1.0130 - acc: 0.498 - ETA: 1s - loss: 1.0093 - acc: 0.502 - ETA: 1s - loss: 1.0106 - acc: 0.501 - ETA: 1s - loss: 1.0147 - acc: 0.496 - ETA: 0s - loss: 1.0125 - acc: 0.497 - ETA: 0s - loss: 1.0123 - acc: 0.498 - ETA: 0s - loss: 1.0092 - acc: 0.500 - ETA: 0s - loss: 1.0066 - acc: 0.503 - ETA: 0s - loss: 1.0046 - acc: 0.506 - ETA: 0s - loss: 1.0063 - acc: 0.504 - ETA: 0s - loss: 1.0056 - acc: 0.505 - ETA: 0s - loss: 1.0073 - acc: 0.505 - ETA: 0s - loss: 1.0066 - acc: 0.506 - ETA: 0s - loss: 1.0072 - acc: 0.505 - ETA: 0s - loss: 1.0064 - acc: 0.506 - ETA: 0s - loss: 1.0065 - acc: 0.506 - ETA: 0s - loss: 1.0065 - acc: 0.506 - ETA: 0s - loss: 1.0066 - acc: 0.506 - ETA: 0s - loss: 1.0064 - acc: 0.506 - ETA: 0s - loss: 1.0060 - acc: 0.507 - ETA: 0s - loss: 1.0074 - acc: 0.504 - ETA: 0s - loss: 1.0077 - acc: 0.504 - ETA: 0s - loss: 1.0080 - acc: 0.504 - ETA: 0s - loss: 1.0080 - acc: 0.504 - 3s 374us/sample - loss: 1.0081 - acc: 0.5044 - val_loss: 0.9945 - val_acc: 0.5188\n",
      "Epoch 2/10\n",
      "7917/7917 [==============================] - ETA: 3s - loss: 1.1142 - acc: 0.480 - ETA: 3s - loss: 1.0505 - acc: 0.413 - ETA: 2s - loss: 1.0058 - acc: 0.493 - ETA: 3s - loss: 1.0172 - acc: 0.472 - ETA: 2s - loss: 1.0133 - acc: 0.483 - ETA: 2s - loss: 1.0119 - acc: 0.484 - ETA: 2s - loss: 1.0175 - acc: 0.477 - ETA: 2s - loss: 1.0148 - acc: 0.482 - ETA: 2s - loss: 1.0083 - acc: 0.496 - ETA: 2s - loss: 1.0104 - acc: 0.494 - ETA: 2s - loss: 1.0092 - acc: 0.496 - ETA: 2s - loss: 1.0031 - acc: 0.502 - ETA: 2s - loss: 1.0012 - acc: 0.506 - ETA: 2s - loss: 1.0016 - acc: 0.507 - ETA: 1s - loss: 0.9998 - acc: 0.508 - ETA: 1s - loss: 0.9946 - acc: 0.513 - ETA: 1s - loss: 0.9959 - acc: 0.513 - ETA: 1s - loss: 0.9947 - acc: 0.513 - ETA: 1s - loss: 0.9953 - acc: 0.510 - ETA: 1s - loss: 0.9924 - acc: 0.513 - ETA: 1s - loss: 0.9949 - acc: 0.513 - ETA: 1s - loss: 0.9948 - acc: 0.512 - ETA: 1s - loss: 0.9951 - acc: 0.511 - ETA: 1s - loss: 0.9934 - acc: 0.513 - ETA: 1s - loss: 0.9928 - acc: 0.514 - ETA: 1s - loss: 0.9936 - acc: 0.514 - ETA: 1s - loss: 0.9951 - acc: 0.513 - ETA: 0s - loss: 0.9953 - acc: 0.513 - ETA: 0s - loss: 0.9945 - acc: 0.514 - ETA: 0s - loss: 0.9937 - acc: 0.515 - ETA: 0s - loss: 0.9918 - acc: 0.515 - ETA: 0s - loss: 0.9902 - acc: 0.516 - ETA: 0s - loss: 0.9893 - acc: 0.517 - ETA: 0s - loss: 0.9884 - acc: 0.518 - ETA: 0s - loss: 0.9895 - acc: 0.518 - ETA: 0s - loss: 0.9884 - acc: 0.518 - ETA: 0s - loss: 0.9884 - acc: 0.519 - ETA: 0s - loss: 0.9874 - acc: 0.520 - ETA: 0s - loss: 0.9856 - acc: 0.523 - ETA: 0s - loss: 0.9866 - acc: 0.521 - ETA: 0s - loss: 0.9883 - acc: 0.520 - ETA: 0s - loss: 0.9900 - acc: 0.519 - ETA: 0s - loss: 0.9904 - acc: 0.519 - ETA: 0s - loss: 0.9903 - acc: 0.519 - 2s 315us/sample - loss: 0.9907 - acc: 0.5196 - val_loss: 0.9868 - val_acc: 0.5199\n",
      "Epoch 3/10\n",
      "7917/7917 [==============================] - ETA: 9s - loss: 0.8615 - acc: 0.640 - ETA: 6s - loss: 0.9996 - acc: 0.540 - ETA: 4s - loss: 1.0128 - acc: 0.496 - ETA: 3s - loss: 1.0231 - acc: 0.484 - ETA: 2s - loss: 1.0113 - acc: 0.494 - ETA: 2s - loss: 1.0023 - acc: 0.511 - ETA: 2s - loss: 0.9911 - acc: 0.524 - ETA: 1s - loss: 0.9816 - acc: 0.531 - ETA: 1s - loss: 0.9826 - acc: 0.524 - ETA: 1s - loss: 0.9848 - acc: 0.519 - ETA: 1s - loss: 0.9872 - acc: 0.515 - ETA: 1s - loss: 0.9884 - acc: 0.519 - ETA: 1s - loss: 0.9881 - acc: 0.517 - ETA: 1s - loss: 0.9883 - acc: 0.514 - ETA: 1s - loss: 0.9936 - acc: 0.511 - ETA: 1s - loss: 0.9960 - acc: 0.507 - ETA: 1s - loss: 0.9968 - acc: 0.507 - ETA: 1s - loss: 0.9971 - acc: 0.506 - ETA: 1s - loss: 0.9964 - acc: 0.507 - ETA: 1s - loss: 0.9944 - acc: 0.509 - ETA: 1s - loss: 0.9947 - acc: 0.509 - ETA: 1s - loss: 0.9946 - acc: 0.511 - ETA: 1s - loss: 0.9961 - acc: 0.510 - ETA: 1s - loss: 0.9958 - acc: 0.510 - ETA: 1s - loss: 0.9976 - acc: 0.508 - ETA: 0s - loss: 0.9952 - acc: 0.511 - ETA: 0s - loss: 0.9955 - acc: 0.510 - ETA: 0s - loss: 0.9950 - acc: 0.512 - ETA: 0s - loss: 0.9943 - acc: 0.512 - ETA: 0s - loss: 0.9922 - acc: 0.514 - ETA: 0s - loss: 0.9905 - acc: 0.515 - ETA: 0s - loss: 0.9909 - acc: 0.514 - ETA: 0s - loss: 0.9906 - acc: 0.515 - ETA: 0s - loss: 0.9902 - acc: 0.516 - ETA: 0s - loss: 0.9896 - acc: 0.516 - ETA: 0s - loss: 0.9886 - acc: 0.517 - ETA: 0s - loss: 0.9881 - acc: 0.517 - ETA: 0s - loss: 0.9858 - acc: 0.519 - ETA: 0s - loss: 0.9859 - acc: 0.519 - ETA: 0s - loss: 0.9859 - acc: 0.520 - ETA: 0s - loss: 0.9870 - acc: 0.518 - ETA: 0s - loss: 0.9877 - acc: 0.517 - ETA: 0s - loss: 0.9874 - acc: 0.517 - ETA: 0s - loss: 0.9872 - acc: 0.518 - ETA: 0s - loss: 0.9870 - acc: 0.518 - 3s 333us/sample - loss: 0.9870 - acc: 0.5188 - val_loss: 0.9814 - val_acc: 0.5314\n",
      "Epoch 4/10\n",
      "7917/7917 [==============================] - ETA: 6s - loss: 0.9987 - acc: 0.520 - ETA: 5s - loss: 0.9726 - acc: 0.560 - ETA: 4s - loss: 1.0085 - acc: 0.524 - ETA: 3s - loss: 1.0002 - acc: 0.506 - ETA: 2s - loss: 0.9864 - acc: 0.511 - ETA: 2s - loss: 0.9872 - acc: 0.510 - ETA: 2s - loss: 0.9856 - acc: 0.509 - ETA: 1s - loss: 0.9831 - acc: 0.509 - ETA: 1s - loss: 0.9768 - acc: 0.516 - ETA: 1s - loss: 0.9800 - acc: 0.519 - ETA: 1s - loss: 0.9759 - acc: 0.524 - ETA: 1s - loss: 0.9750 - acc: 0.528 - ETA: 1s - loss: 0.9741 - acc: 0.531 - ETA: 1s - loss: 0.9785 - acc: 0.526 - ETA: 1s - loss: 0.9777 - acc: 0.525 - ETA: 1s - loss: 0.9785 - acc: 0.526 - ETA: 1s - loss: 0.9839 - acc: 0.519 - ETA: 1s - loss: 0.9820 - acc: 0.521 - ETA: 1s - loss: 0.9814 - acc: 0.522 - ETA: 1s - loss: 0.9774 - acc: 0.524 - ETA: 1s - loss: 0.9761 - acc: 0.527 - ETA: 1s - loss: 0.9769 - acc: 0.526 - ETA: 0s - loss: 0.9772 - acc: 0.526 - ETA: 0s - loss: 0.9784 - acc: 0.525 - ETA: 0s - loss: 0.9769 - acc: 0.526 - ETA: 0s - loss: 0.9779 - acc: 0.526 - ETA: 0s - loss: 0.9795 - acc: 0.524 - ETA: 0s - loss: 0.9784 - acc: 0.526 - ETA: 0s - loss: 0.9786 - acc: 0.524 - ETA: 0s - loss: 0.9782 - acc: 0.524 - ETA: 0s - loss: 0.9786 - acc: 0.523 - ETA: 0s - loss: 0.9780 - acc: 0.523 - ETA: 0s - loss: 0.9792 - acc: 0.523 - ETA: 0s - loss: 0.9796 - acc: 0.522 - ETA: 0s - loss: 0.9805 - acc: 0.521 - ETA: 0s - loss: 0.9814 - acc: 0.521 - ETA: 0s - loss: 0.9813 - acc: 0.520 - ETA: 0s - loss: 0.9812 - acc: 0.521 - ETA: 0s - loss: 0.9816 - acc: 0.520 - ETA: 0s - loss: 0.9830 - acc: 0.520 - ETA: 0s - loss: 0.9848 - acc: 0.519 - ETA: 0s - loss: 0.9847 - acc: 0.519 - ETA: 0s - loss: 0.9853 - acc: 0.519 - ETA: 0s - loss: 0.9865 - acc: 0.518 - ETA: 0s - loss: 0.9876 - acc: 0.518 - ETA: 0s - loss: 0.9872 - acc: 0.518 - ETA: 0s - loss: 0.9866 - acc: 0.519 - 3s 331us/sample - loss: 0.9870 - acc: 0.5183 - val_loss: 0.9806 - val_acc: 0.5248\n",
      "Epoch 5/10\n",
      "7917/7917 [==============================] - ETA: 5s - loss: 1.1318 - acc: 0.400 - ETA: 3s - loss: 1.0259 - acc: 0.493 - ETA: 3s - loss: 1.0160 - acc: 0.490 - ETA: 3s - loss: 1.0007 - acc: 0.502 - ETA: 4s - loss: 1.0070 - acc: 0.501 - ETA: 6s - loss: 1.0125 - acc: 0.495 - ETA: 6s - loss: 1.0156 - acc: 0.496 - ETA: 7s - loss: 1.0189 - acc: 0.493 - ETA: 8s - loss: 1.0144 - acc: 0.496 - ETA: 9s - loss: 1.0079 - acc: 0.498 - ETA: 8s - loss: 0.9978 - acc: 0.513 - ETA: 7s - loss: 0.9994 - acc: 0.510 - ETA: 7s - loss: 1.0029 - acc: 0.505 - ETA: 8s - loss: 1.0034 - acc: 0.503 - ETA: 7s - loss: 0.9977 - acc: 0.507 - ETA: 5s - loss: 0.9874 - acc: 0.513 - ETA: 4s - loss: 0.9923 - acc: 0.509 - ETA: 4s - loss: 0.9921 - acc: 0.512 - ETA: 3s - loss: 0.9919 - acc: 0.512 - ETA: 3s - loss: 0.9884 - acc: 0.515 - ETA: 2s - loss: 0.9905 - acc: 0.515 - ETA: 2s - loss: 0.9901 - acc: 0.515 - ETA: 2s - loss: 0.9963 - acc: 0.508 - ETA: 2s - loss: 0.9958 - acc: 0.509 - ETA: 1s - loss: 0.9967 - acc: 0.507 - ETA: 1s - loss: 0.9967 - acc: 0.508 - ETA: 1s - loss: 0.9963 - acc: 0.509 - ETA: 1s - loss: 0.9950 - acc: 0.509 - ETA: 1s - loss: 0.9934 - acc: 0.512 - ETA: 1s - loss: 0.9923 - acc: 0.514 - ETA: 0s - loss: 0.9945 - acc: 0.513 - ETA: 0s - loss: 0.9931 - acc: 0.513 - ETA: 0s - loss: 0.9919 - acc: 0.514 - ETA: 0s - loss: 0.9902 - acc: 0.516 - ETA: 0s - loss: 0.9907 - acc: 0.515 - ETA: 0s - loss: 0.9896 - acc: 0.517 - ETA: 0s - loss: 0.9888 - acc: 0.518 - ETA: 0s - loss: 0.9884 - acc: 0.518 - ETA: 0s - loss: 0.9873 - acc: 0.520 - ETA: 0s - loss: 0.9872 - acc: 0.519 - ETA: 0s - loss: 0.9877 - acc: 0.520 - 3s 321us/sample - loss: 0.9873 - acc: 0.5204 - val_loss: 0.9817 - val_acc: 0.5243\n",
      "Epoch 6/10\n",
      "7917/7917 [==============================] - ETA: 2s - loss: 0.9754 - acc: 0.600 - ETA: 1s - loss: 1.0005 - acc: 0.530 - ETA: 1s - loss: 1.0092 - acc: 0.520 - ETA: 1s - loss: 0.9942 - acc: 0.535 - ETA: 1s - loss: 0.9927 - acc: 0.534 - ETA: 1s - loss: 1.0012 - acc: 0.520 - ETA: 1s - loss: 0.9984 - acc: 0.521 - ETA: 1s - loss: 0.9946 - acc: 0.523 - ETA: 1s - loss: 0.9910 - acc: 0.525 - ETA: 1s - loss: 0.9904 - acc: 0.528 - ETA: 1s - loss: 0.9893 - acc: 0.527 - ETA: 1s - loss: 0.9874 - acc: 0.527 - ETA: 0s - loss: 0.9852 - acc: 0.527 - ETA: 0s - loss: 0.9839 - acc: 0.529 - ETA: 0s - loss: 0.9832 - acc: 0.529 - ETA: 0s - loss: 0.9833 - acc: 0.529 - ETA: 0s - loss: 0.9812 - acc: 0.532 - ETA: 0s - loss: 0.9843 - acc: 0.527 - ETA: 0s - loss: 0.9851 - acc: 0.527 - ETA: 0s - loss: 0.9871 - acc: 0.526 - ETA: 0s - loss: 0.9870 - acc: 0.526 - ETA: 0s - loss: 0.9880 - acc: 0.524 - ETA: 0s - loss: 0.9883 - acc: 0.522 - ETA: 0s - loss: 0.9872 - acc: 0.523 - ETA: 0s - loss: 0.9837 - acc: 0.527 - ETA: 0s - loss: 0.9847 - acc: 0.526 - ETA: 0s - loss: 0.9846 - acc: 0.527 - ETA: 0s - loss: 0.9860 - acc: 0.524 - ETA: 0s - loss: 0.9876 - acc: 0.522 - ETA: 0s - loss: 0.9869 - acc: 0.523 - ETA: 0s - loss: 0.9868 - acc: 0.522 - ETA: 0s - loss: 0.9866 - acc: 0.522 - ETA: 0s - loss: 0.9867 - acc: 0.523 - 2s 238us/sample - loss: 0.9863 - acc: 0.5236 - val_loss: 0.9858 - val_acc: 0.5292\n",
      "Epoch 7/10\n",
      "7917/7917 [==============================] - ETA: 2s - loss: 0.8581 - acc: 0.600 - ETA: 1s - loss: 0.9749 - acc: 0.552 - ETA: 1s - loss: 0.9903 - acc: 0.540 - ETA: 1s - loss: 0.9730 - acc: 0.545 - ETA: 1s - loss: 0.9790 - acc: 0.532 - ETA: 1s - loss: 0.9801 - acc: 0.529 - ETA: 1s - loss: 0.9738 - acc: 0.540 - ETA: 1s - loss: 0.9756 - acc: 0.542 - ETA: 1s - loss: 0.9781 - acc: 0.537 - ETA: 1s - loss: 0.9756 - acc: 0.537 - ETA: 1s - loss: 0.9773 - acc: 0.536 - ETA: 1s - loss: 0.9796 - acc: 0.533 - ETA: 0s - loss: 0.9757 - acc: 0.535 - ETA: 0s - loss: 0.9740 - acc: 0.537 - ETA: 0s - loss: 0.9754 - acc: 0.534 - ETA: 0s - loss: 0.9765 - acc: 0.532 - ETA: 0s - loss: 0.9804 - acc: 0.528 - ETA: 0s - loss: 0.9805 - acc: 0.527 - ETA: 0s - loss: 0.9776 - acc: 0.531 - ETA: 0s - loss: 0.9795 - acc: 0.530 - ETA: 0s - loss: 0.9794 - acc: 0.530 - ETA: 0s - loss: 0.9802 - acc: 0.529 - ETA: 0s - loss: 0.9811 - acc: 0.527 - ETA: 0s - loss: 0.9812 - acc: 0.527 - ETA: 0s - loss: 0.9809 - acc: 0.528 - ETA: 0s - loss: 0.9811 - acc: 0.528 - ETA: 0s - loss: 0.9824 - acc: 0.527 - ETA: 0s - loss: 0.9841 - acc: 0.525 - ETA: 0s - loss: 0.9853 - acc: 0.524 - ETA: 0s - loss: 0.9872 - acc: 0.522 - ETA: 0s - loss: 0.9859 - acc: 0.524 - 2s 223us/sample - loss: 0.9854 - acc: 0.5246 - val_loss: 0.9859 - val_acc: 0.5232\n",
      "Epoch 8/10\n",
      "7917/7917 [==============================] - ETA: 2s - loss: 0.8378 - acc: 0.600 - ETA: 1s - loss: 0.9709 - acc: 0.530 - ETA: 1s - loss: 0.9795 - acc: 0.521 - ETA: 1s - loss: 0.9884 - acc: 0.513 - ETA: 1s - loss: 0.9923 - acc: 0.508 - ETA: 1s - loss: 0.9852 - acc: 0.515 - ETA: 1s - loss: 0.9850 - acc: 0.517 - ETA: 1s - loss: 0.9826 - acc: 0.514 - ETA: 1s - loss: 0.9834 - acc: 0.512 - ETA: 1s - loss: 0.9845 - acc: 0.511 - ETA: 1s - loss: 0.9824 - acc: 0.516 - ETA: 1s - loss: 0.9889 - acc: 0.513 - ETA: 0s - loss: 0.9879 - acc: 0.515 - ETA: 0s - loss: 0.9828 - acc: 0.520 - ETA: 0s - loss: 0.9809 - acc: 0.521 - ETA: 0s - loss: 0.9814 - acc: 0.522 - ETA: 0s - loss: 0.9799 - acc: 0.523 - ETA: 0s - loss: 0.9835 - acc: 0.521 - ETA: 0s - loss: 0.9821 - acc: 0.523 - ETA: 0s - loss: 0.9831 - acc: 0.523 - ETA: 0s - loss: 0.9853 - acc: 0.520 - ETA: 0s - loss: 0.9841 - acc: 0.523 - ETA: 0s - loss: 0.9856 - acc: 0.524 - ETA: 0s - loss: 0.9875 - acc: 0.522 - ETA: 0s - loss: 0.9882 - acc: 0.522 - ETA: 0s - loss: 0.9888 - acc: 0.520 - ETA: 0s - loss: 0.9896 - acc: 0.519 - ETA: 0s - loss: 0.9896 - acc: 0.519 - ETA: 0s - loss: 0.9891 - acc: 0.519 - ETA: 0s - loss: 0.9885 - acc: 0.520 - 2s 222us/sample - loss: 0.9868 - acc: 0.5219 - val_loss: 0.9924 - val_acc: 0.5254\n",
      "Epoch 9/10\n",
      "7917/7917 [==============================] - ETA: 2s - loss: 1.2765 - acc: 0.320 - ETA: 1s - loss: 1.0110 - acc: 0.530 - ETA: 1s - loss: 0.9833 - acc: 0.537 - ETA: 1s - loss: 0.9620 - acc: 0.557 - ETA: 1s - loss: 0.9725 - acc: 0.546 - ETA: 1s - loss: 0.9733 - acc: 0.542 - ETA: 1s - loss: 0.9763 - acc: 0.538 - ETA: 1s - loss: 0.9772 - acc: 0.540 - ETA: 1s - loss: 0.9780 - acc: 0.538 - ETA: 1s - loss: 0.9736 - acc: 0.538 - ETA: 1s - loss: 0.9778 - acc: 0.535 - ETA: 0s - loss: 0.9774 - acc: 0.536 - ETA: 0s - loss: 0.9783 - acc: 0.535 - ETA: 0s - loss: 0.9770 - acc: 0.539 - ETA: 0s - loss: 0.9744 - acc: 0.540 - ETA: 0s - loss: 0.9748 - acc: 0.539 - ETA: 0s - loss: 0.9774 - acc: 0.537 - ETA: 0s - loss: 0.9795 - acc: 0.534 - ETA: 0s - loss: 0.9794 - acc: 0.534 - ETA: 0s - loss: 0.9801 - acc: 0.534 - ETA: 0s - loss: 0.9798 - acc: 0.533 - ETA: 0s - loss: 0.9803 - acc: 0.531 - ETA: 0s - loss: 0.9801 - acc: 0.530 - ETA: 0s - loss: 0.9819 - acc: 0.529 - ETA: 0s - loss: 0.9826 - acc: 0.528 - ETA: 0s - loss: 0.9828 - acc: 0.528 - ETA: 0s - loss: 0.9845 - acc: 0.526 - ETA: 0s - loss: 0.9858 - acc: 0.524 - ETA: 0s - loss: 0.9857 - acc: 0.523 - ETA: 0s - loss: 0.9846 - acc: 0.524 - 2s 218us/sample - loss: 0.9841 - acc: 0.5248 - val_loss: 0.9886 - val_acc: 0.5303\n",
      "Epoch 10/10\n",
      "7917/7917 [==============================] - ETA: 2s - loss: 1.1776 - acc: 0.480 - ETA: 1s - loss: 0.9626 - acc: 0.553 - ETA: 1s - loss: 0.9574 - acc: 0.563 - ETA: 1s - loss: 0.9726 - acc: 0.540 - ETA: 1s - loss: 0.9841 - acc: 0.519 - ETA: 1s - loss: 0.9850 - acc: 0.515 - ETA: 1s - loss: 0.9859 - acc: 0.515 - ETA: 1s - loss: 0.9871 - acc: 0.516 - ETA: 1s - loss: 0.9878 - acc: 0.514 - ETA: 1s - loss: 0.9859 - acc: 0.516 - ETA: 1s - loss: 0.9862 - acc: 0.518 - ETA: 1s - loss: 0.9902 - acc: 0.516 - ETA: 0s - loss: 0.9854 - acc: 0.522 - ETA: 0s - loss: 0.9791 - acc: 0.528 - ETA: 0s - loss: 0.9811 - acc: 0.526 - ETA: 0s - loss: 0.9817 - acc: 0.526 - ETA: 0s - loss: 0.9805 - acc: 0.525 - ETA: 0s - loss: 0.9825 - acc: 0.525 - ETA: 0s - loss: 0.9848 - acc: 0.523 - ETA: 0s - loss: 0.9845 - acc: 0.522 - ETA: 0s - loss: 0.9858 - acc: 0.519 - ETA: 0s - loss: 0.9850 - acc: 0.520 - ETA: 0s - loss: 0.9838 - acc: 0.522 - ETA: 0s - loss: 0.9843 - acc: 0.522 - ETA: 0s - loss: 0.9835 - acc: 0.523 - ETA: 0s - loss: 0.9834 - acc: 0.523 - ETA: 0s - loss: 0.9842 - acc: 0.522 - ETA: 0s - loss: 0.9850 - acc: 0.522 - ETA: 0s - loss: 0.9846 - acc: 0.523 - ETA: 0s - loss: 0.9845 - acc: 0.523 - ETA: 0s - loss: 0.9837 - acc: 0.523 - 2s 230us/sample - loss: 0.9836 - acc: 0.5231 - val_loss: 0.9832 - val_acc: 0.5297\n"
     ]
    },
    {
     "data": {
      "text/html": [
       "<span style=\"color:#4527A0\"><h1 style=\"font-size:18px\">Trial complete</h1></span>"
      ],
      "text/plain": [
       "<IPython.core.display.HTML object>"
      ]
     },
     "metadata": {},
     "output_type": "display_data"
    },
    {
     "data": {
      "text/html": [
       "<span style=\"color:#4527A0\"><h1 style=\"font-size:18px\">Trial summary</h1></span>"
      ],
      "text/plain": [
       "<IPython.core.display.HTML object>"
      ]
     },
     "metadata": {},
     "output_type": "display_data"
    },
    {
     "data": {
      "text/html": [
       "<span style=\"color:cyan\"> |-Trial ID: bb65b73b68832e5f8b4fee36f367f716</span>"
      ],
      "text/plain": [
       "<IPython.core.display.HTML object>"
      ]
     },
     "metadata": {},
     "output_type": "display_data"
    },
    {
     "data": {
      "text/html": [
       "<span style=\"color:cyan\"> |-Score: 0.5313693284988403</span>"
      ],
      "text/plain": [
       "<IPython.core.display.HTML object>"
      ]
     },
     "metadata": {},
     "output_type": "display_data"
    },
    {
     "data": {
      "text/html": [
       "<span style=\"color:cyan\"> |-Best step: 0</span>"
      ],
      "text/plain": [
       "<IPython.core.display.HTML object>"
      ]
     },
     "metadata": {},
     "output_type": "display_data"
    },
    {
     "data": {
      "text/html": [
       "<span style=\"color:#7E57C2\"><h2 style=\"font-size:16px\">Hyperparameters:</h2></span>"
      ],
      "text/plain": [
       "<IPython.core.display.HTML object>"
      ]
     },
     "metadata": {},
     "output_type": "display_data"
    },
    {
     "data": {
      "text/html": [
       "<span style=\"color:cyan\"> |-layer_0_neurons: 90</span>"
      ],
      "text/plain": [
       "<IPython.core.display.HTML object>"
      ]
     },
     "metadata": {},
     "output_type": "display_data"
    },
    {
     "data": {
      "text/html": [
       "<span style=\"color:blue\"> |-layer_1_neurons: 150</span>"
      ],
      "text/plain": [
       "<IPython.core.display.HTML object>"
      ]
     },
     "metadata": {},
     "output_type": "display_data"
    },
    {
     "data": {
      "text/html": [
       "<span style=\"color:cyan\"> |-n_input_neurons: 130</span>"
      ],
      "text/plain": [
       "<IPython.core.display.HTML object>"
      ]
     },
     "metadata": {},
     "output_type": "display_data"
    },
    {
     "data": {
      "text/html": [
       "<span style=\"color:blue\"> |-n_layers: 2</span>"
      ],
      "text/plain": [
       "<IPython.core.display.HTML object>"
      ]
     },
     "metadata": {},
     "output_type": "display_data"
    },
    {
     "name": "stdout",
     "output_type": "stream",
     "text": [
      "Train on 7917 samples, validate on 1833 samples\n",
      "Epoch 1/10\n",
      "7917/7917 [==============================] - ETA: 2:36 - loss: 1.0387 - acc: 0.600 - ETA: 11s - loss: 1.0834 - acc: 0.429 - ETA: 5s - loss: 1.0626 - acc: 0.4386 - ETA: 4s - loss: 1.0440 - acc: 0.459 - ETA: 3s - loss: 1.0421 - acc: 0.461 - ETA: 2s - loss: 1.0422 - acc: 0.460 - ETA: 2s - loss: 1.0329 - acc: 0.470 - ETA: 1s - loss: 1.0337 - acc: 0.471 - ETA: 1s - loss: 1.0268 - acc: 0.476 - ETA: 1s - loss: 1.0260 - acc: 0.479 - ETA: 1s - loss: 1.0212 - acc: 0.483 - ETA: 1s - loss: 1.0159 - acc: 0.492 - ETA: 1s - loss: 1.0131 - acc: 0.494 - ETA: 0s - loss: 1.0129 - acc: 0.496 - ETA: 0s - loss: 1.0115 - acc: 0.499 - ETA: 0s - loss: 1.0109 - acc: 0.501 - ETA: 0s - loss: 1.0126 - acc: 0.498 - ETA: 0s - loss: 1.0118 - acc: 0.500 - ETA: 0s - loss: 1.0098 - acc: 0.501 - ETA: 0s - loss: 1.0104 - acc: 0.500 - ETA: 0s - loss: 1.0091 - acc: 0.501 - ETA: 0s - loss: 1.0105 - acc: 0.501 - ETA: 0s - loss: 1.0090 - acc: 0.502 - ETA: 0s - loss: 1.0088 - acc: 0.502 - 2s 294us/sample - loss: 1.0090 - acc: 0.5023 - val_loss: 1.0119 - val_acc: 0.4937\n",
      "Epoch 2/10\n",
      "7917/7917 [==============================] - ETA: 1s - loss: 1.0394 - acc: 0.520 - ETA: 1s - loss: 1.0144 - acc: 0.480 - ETA: 1s - loss: 1.0077 - acc: 0.492 - ETA: 1s - loss: 1.0000 - acc: 0.503 - ETA: 1s - loss: 0.9896 - acc: 0.515 - ETA: 1s - loss: 0.9920 - acc: 0.518 - ETA: 1s - loss: 0.9936 - acc: 0.522 - ETA: 0s - loss: 0.9997 - acc: 0.511 - ETA: 0s - loss: 1.0031 - acc: 0.510 - ETA: 0s - loss: 1.0063 - acc: 0.503 - ETA: 0s - loss: 1.0025 - acc: 0.509 - ETA: 0s - loss: 1.0011 - acc: 0.511 - ETA: 0s - loss: 0.9986 - acc: 0.513 - ETA: 0s - loss: 0.9966 - acc: 0.515 - ETA: 0s - loss: 0.9980 - acc: 0.512 - ETA: 0s - loss: 0.9960 - acc: 0.514 - ETA: 0s - loss: 0.9943 - acc: 0.515 - ETA: 0s - loss: 0.9936 - acc: 0.516 - ETA: 0s - loss: 0.9915 - acc: 0.518 - ETA: 0s - loss: 0.9930 - acc: 0.517 - ETA: 0s - loss: 0.9934 - acc: 0.516 - ETA: 0s - loss: 0.9931 - acc: 0.517 - ETA: 0s - loss: 0.9957 - acc: 0.514 - ETA: 0s - loss: 0.9963 - acc: 0.514 - ETA: 0s - loss: 0.9955 - acc: 0.515 - ETA: 0s - loss: 0.9945 - acc: 0.517 - ETA: 0s - loss: 0.9946 - acc: 0.516 - 2s 197us/sample - loss: 0.9943 - acc: 0.5164 - val_loss: 0.9868 - val_acc: 0.5161\n",
      "Epoch 3/10\n",
      "7917/7917 [==============================] - ETA: 2s - loss: 0.9712 - acc: 0.480 - ETA: 2s - loss: 1.0358 - acc: 0.480 - ETA: 1s - loss: 1.0045 - acc: 0.510 - ETA: 1s - loss: 1.0011 - acc: 0.509 - ETA: 1s - loss: 0.9895 - acc: 0.524 - ETA: 1s - loss: 0.9935 - acc: 0.518 - ETA: 1s - loss: 0.9926 - acc: 0.519 - ETA: 1s - loss: 0.9890 - acc: 0.522 - ETA: 1s - loss: 0.9848 - acc: 0.524 - ETA: 0s - loss: 0.9849 - acc: 0.522 - ETA: 0s - loss: 0.9867 - acc: 0.517 - ETA: 0s - loss: 0.9884 - acc: 0.516 - ETA: 0s - loss: 0.9901 - acc: 0.514 - ETA: 0s - loss: 0.9896 - acc: 0.514 - ETA: 0s - loss: 0.9894 - acc: 0.515 - ETA: 0s - loss: 0.9896 - acc: 0.515 - ETA: 0s - loss: 0.9878 - acc: 0.516 - ETA: 0s - loss: 0.9891 - acc: 0.516 - ETA: 0s - loss: 0.9882 - acc: 0.517 - ETA: 0s - loss: 0.9886 - acc: 0.515 - ETA: 0s - loss: 0.9886 - acc: 0.516 - ETA: 0s - loss: 0.9871 - acc: 0.518 - ETA: 0s - loss: 0.9879 - acc: 0.519 - ETA: 0s - loss: 0.9885 - acc: 0.519 - ETA: 0s - loss: 0.9891 - acc: 0.518 - ETA: 0s - loss: 0.9895 - acc: 0.519 - ETA: 0s - loss: 0.9892 - acc: 0.519 - 2s 203us/sample - loss: 0.9900 - acc: 0.5199 - val_loss: 0.9849 - val_acc: 0.5243\n",
      "Epoch 4/10\n",
      "7917/7917 [==============================] - ETA: 1s - loss: 0.9273 - acc: 0.680 - ETA: 1s - loss: 0.9945 - acc: 0.532 - ETA: 1s - loss: 0.9921 - acc: 0.518 - ETA: 1s - loss: 0.9862 - acc: 0.524 - ETA: 1s - loss: 0.9924 - acc: 0.518 - ETA: 1s - loss: 0.9946 - acc: 0.520 - ETA: 1s - loss: 0.9930 - acc: 0.522 - ETA: 0s - loss: 0.9947 - acc: 0.516 - ETA: 0s - loss: 0.9906 - acc: 0.517 - ETA: 0s - loss: 0.9879 - acc: 0.518 - ETA: 0s - loss: 0.9932 - acc: 0.513 - ETA: 0s - loss: 0.9921 - acc: 0.511 - ETA: 0s - loss: 0.9943 - acc: 0.509 - ETA: 0s - loss: 0.9924 - acc: 0.511 - ETA: 0s - loss: 0.9947 - acc: 0.511 - ETA: 0s - loss: 0.9954 - acc: 0.509 - ETA: 0s - loss: 0.9945 - acc: 0.511 - ETA: 0s - loss: 0.9933 - acc: 0.511 - ETA: 0s - loss: 0.9961 - acc: 0.511 - ETA: 0s - loss: 0.9957 - acc: 0.513 - ETA: 0s - loss: 0.9976 - acc: 0.511 - ETA: 0s - loss: 0.9957 - acc: 0.514 - ETA: 0s - loss: 0.9958 - acc: 0.514 - ETA: 0s - loss: 0.9958 - acc: 0.514 - ETA: 0s - loss: 0.9935 - acc: 0.516 - ETA: 0s - loss: 0.9909 - acc: 0.519 - 2s 193us/sample - loss: 0.9897 - acc: 0.5200 - val_loss: 0.9863 - val_acc: 0.5199\n",
      "Epoch 5/10\n",
      "7917/7917 [==============================] - ETA: 5s - loss: 0.9362 - acc: 0.600 - ETA: 1s - loss: 0.9352 - acc: 0.565 - ETA: 1s - loss: 0.9554 - acc: 0.552 - ETA: 1s - loss: 0.9539 - acc: 0.549 - ETA: 1s - loss: 0.9672 - acc: 0.538 - ETA: 1s - loss: 0.9727 - acc: 0.536 - ETA: 1s - loss: 0.9759 - acc: 0.529 - ETA: 0s - loss: 0.9779 - acc: 0.528 - ETA: 0s - loss: 0.9767 - acc: 0.530 - ETA: 0s - loss: 0.9781 - acc: 0.527 - ETA: 0s - loss: 0.9840 - acc: 0.522 - ETA: 0s - loss: 0.9832 - acc: 0.522 - ETA: 0s - loss: 0.9832 - acc: 0.522 - ETA: 0s - loss: 0.9839 - acc: 0.521 - ETA: 0s - loss: 0.9852 - acc: 0.520 - ETA: 0s - loss: 0.9847 - acc: 0.521 - ETA: 0s - loss: 0.9847 - acc: 0.520 - ETA: 0s - loss: 0.9835 - acc: 0.521 - ETA: 0s - loss: 0.9838 - acc: 0.519 - ETA: 0s - loss: 0.9855 - acc: 0.518 - ETA: 0s - loss: 0.9863 - acc: 0.517 - ETA: 0s - loss: 0.9854 - acc: 0.519 - ETA: 0s - loss: 0.9866 - acc: 0.519 - ETA: 0s - loss: 0.9862 - acc: 0.519 - ETA: 0s - loss: 0.9875 - acc: 0.519 - 1s 187us/sample - loss: 0.9882 - acc: 0.5183 - val_loss: 0.9846 - val_acc: 0.5237\n",
      "Epoch 6/10\n",
      "7917/7917 [==============================] - ETA: 3s - loss: 0.9767 - acc: 0.640 - ETA: 1s - loss: 1.0210 - acc: 0.483 - ETA: 1s - loss: 1.0022 - acc: 0.508 - ETA: 1s - loss: 0.9844 - acc: 0.541 - ETA: 1s - loss: 0.9832 - acc: 0.539 - ETA: 1s - loss: 0.9832 - acc: 0.538 - ETA: 1s - loss: 0.9789 - acc: 0.536 - ETA: 0s - loss: 0.9720 - acc: 0.544 - ETA: 0s - loss: 0.9764 - acc: 0.538 - ETA: 0s - loss: 0.9798 - acc: 0.533 - ETA: 0s - loss: 0.9799 - acc: 0.531 - ETA: 0s - loss: 0.9805 - acc: 0.529 - ETA: 0s - loss: 0.9793 - acc: 0.528 - ETA: 0s - loss: 0.9815 - acc: 0.528 - ETA: 0s - loss: 0.9797 - acc: 0.527 - ETA: 0s - loss: 0.9815 - acc: 0.527 - ETA: 0s - loss: 0.9830 - acc: 0.526 - ETA: 0s - loss: 0.9831 - acc: 0.526 - ETA: 0s - loss: 0.9835 - acc: 0.525 - ETA: 0s - loss: 0.9834 - acc: 0.525 - ETA: 0s - loss: 0.9830 - acc: 0.525 - ETA: 0s - loss: 0.9840 - acc: 0.525 - ETA: 0s - loss: 0.9852 - acc: 0.522 - ETA: 0s - loss: 0.9856 - acc: 0.522 - ETA: 0s - loss: 0.9866 - acc: 0.522 - ETA: 0s - loss: 0.9859 - acc: 0.522 - 2s 190us/sample - loss: 0.9862 - acc: 0.5227 - val_loss: 0.9838 - val_acc: 0.5188\n",
      "Epoch 7/10\n",
      "7917/7917 [==============================] - ETA: 2s - loss: 0.9616 - acc: 0.600 - ETA: 2s - loss: 0.9569 - acc: 0.573 - ETA: 1s - loss: 0.9434 - acc: 0.560 - ETA: 1s - loss: 0.9518 - acc: 0.548 - ETA: 1s - loss: 0.9572 - acc: 0.543 - ETA: 1s - loss: 0.9608 - acc: 0.541 - ETA: 1s - loss: 0.9645 - acc: 0.538 - ETA: 1s - loss: 0.9623 - acc: 0.539 - ETA: 1s - loss: 0.9631 - acc: 0.538 - ETA: 1s - loss: 0.9722 - acc: 0.531 - ETA: 1s - loss: 0.9754 - acc: 0.526 - ETA: 1s - loss: 0.9794 - acc: 0.526 - ETA: 1s - loss: 0.9802 - acc: 0.526 - ETA: 0s - loss: 0.9826 - acc: 0.525 - ETA: 0s - loss: 0.9827 - acc: 0.527 - ETA: 0s - loss: 0.9832 - acc: 0.526 - ETA: 0s - loss: 0.9836 - acc: 0.528 - ETA: 0s - loss: 0.9823 - acc: 0.529 - ETA: 0s - loss: 0.9849 - acc: 0.526 - ETA: 0s - loss: 0.9855 - acc: 0.525 - ETA: 0s - loss: 0.9857 - acc: 0.525 - ETA: 0s - loss: 0.9834 - acc: 0.527 - ETA: 0s - loss: 0.9840 - acc: 0.526 - ETA: 0s - loss: 0.9840 - acc: 0.526 - ETA: 0s - loss: 0.9861 - acc: 0.523 - ETA: 0s - loss: 0.9873 - acc: 0.520 - ETA: 0s - loss: 0.9879 - acc: 0.521 - ETA: 0s - loss: 0.9863 - acc: 0.523 - 2s 206us/sample - loss: 0.9864 - acc: 0.5231 - val_loss: 0.9871 - val_acc: 0.5265\n",
      "Epoch 8/10\n",
      "7917/7917 [==============================] - ETA: 3s - loss: 1.1513 - acc: 0.440 - ETA: 1s - loss: 1.0373 - acc: 0.514 - ETA: 1s - loss: 1.0102 - acc: 0.511 - ETA: 1s - loss: 0.9843 - acc: 0.533 - ETA: 1s - loss: 0.9951 - acc: 0.523 - ETA: 1s - loss: 0.9892 - acc: 0.529 - ETA: 0s - loss: 0.9875 - acc: 0.528 - ETA: 0s - loss: 0.9812 - acc: 0.534 - ETA: 0s - loss: 0.9757 - acc: 0.535 - ETA: 0s - loss: 0.9785 - acc: 0.531 - ETA: 0s - loss: 0.9786 - acc: 0.530 - ETA: 0s - loss: 0.9843 - acc: 0.526 - ETA: 0s - loss: 0.9844 - acc: 0.527 - ETA: 0s - loss: 0.9847 - acc: 0.526 - ETA: 0s - loss: 0.9838 - acc: 0.527 - ETA: 0s - loss: 0.9814 - acc: 0.529 - ETA: 0s - loss: 0.9830 - acc: 0.527 - ETA: 0s - loss: 0.9850 - acc: 0.524 - ETA: 0s - loss: 0.9833 - acc: 0.526 - ETA: 0s - loss: 0.9831 - acc: 0.525 - ETA: 0s - loss: 0.9821 - acc: 0.525 - ETA: 0s - loss: 0.9838 - acc: 0.525 - ETA: 0s - loss: 0.9823 - acc: 0.527 - ETA: 0s - loss: 0.9840 - acc: 0.526 - ETA: 0s - loss: 0.9858 - acc: 0.524 - 1s 184us/sample - loss: 0.9860 - acc: 0.5243 - val_loss: 0.9934 - val_acc: 0.5128\n",
      "Epoch 9/10\n",
      "7917/7917 [==============================] - ETA: 1s - loss: 1.0189 - acc: 0.560 - ETA: 1s - loss: 0.9876 - acc: 0.500 - ETA: 1s - loss: 0.9793 - acc: 0.512 - ETA: 1s - loss: 0.9855 - acc: 0.503 - ETA: 1s - loss: 0.9829 - acc: 0.519 - ETA: 1s - loss: 0.9767 - acc: 0.526 - ETA: 1s - loss: 0.9771 - acc: 0.528 - ETA: 0s - loss: 0.9789 - acc: 0.521 - ETA: 0s - loss: 0.9784 - acc: 0.524 - ETA: 0s - loss: 0.9767 - acc: 0.525 - ETA: 0s - loss: 0.9784 - acc: 0.524 - ETA: 0s - loss: 0.9778 - acc: 0.524 - ETA: 0s - loss: 0.9795 - acc: 0.521 - ETA: 0s - loss: 0.9834 - acc: 0.519 - ETA: 0s - loss: 0.9826 - acc: 0.522 - ETA: 0s - loss: 0.9837 - acc: 0.523 - ETA: 0s - loss: 0.9878 - acc: 0.519 - ETA: 0s - loss: 0.9883 - acc: 0.518 - ETA: 0s - loss: 0.9850 - acc: 0.522 - ETA: 0s - loss: 0.9852 - acc: 0.522 - ETA: 0s - loss: 0.9849 - acc: 0.521 - ETA: 0s - loss: 0.9838 - acc: 0.522 - ETA: 0s - loss: 0.9853 - acc: 0.520 - ETA: 0s - loss: 0.9859 - acc: 0.519 - ETA: 0s - loss: 0.9851 - acc: 0.521 - ETA: 0s - loss: 0.9845 - acc: 0.521 - 1s 189us/sample - loss: 0.9848 - acc: 0.5217 - val_loss: 0.9840 - val_acc: 0.5265\n",
      "Epoch 10/10\n",
      "7917/7917 [==============================] - ETA: 2s - loss: 0.9551 - acc: 0.520 - ETA: 1s - loss: 1.0209 - acc: 0.498 - ETA: 1s - loss: 1.0028 - acc: 0.514 - ETA: 1s - loss: 0.9996 - acc: 0.510 - ETA: 1s - loss: 0.9936 - acc: 0.514 - ETA: 1s - loss: 0.9884 - acc: 0.521 - ETA: 0s - loss: 0.9863 - acc: 0.523 - ETA: 0s - loss: 0.9877 - acc: 0.524 - ETA: 0s - loss: 0.9884 - acc: 0.523 - ETA: 0s - loss: 0.9898 - acc: 0.521 - ETA: 0s - loss: 0.9878 - acc: 0.522 - ETA: 0s - loss: 0.9891 - acc: 0.521 - ETA: 0s - loss: 0.9899 - acc: 0.518 - ETA: 0s - loss: 0.9924 - acc: 0.514 - ETA: 0s - loss: 0.9907 - acc: 0.515 - ETA: 0s - loss: 0.9888 - acc: 0.516 - ETA: 0s - loss: 0.9874 - acc: 0.517 - ETA: 0s - loss: 0.9900 - acc: 0.515 - ETA: 0s - loss: 0.9879 - acc: 0.518 - ETA: 0s - loss: 0.9889 - acc: 0.518 - ETA: 0s - loss: 0.9877 - acc: 0.520 - ETA: 0s - loss: 0.9862 - acc: 0.520 - ETA: 0s - loss: 0.9861 - acc: 0.520 - ETA: 0s - loss: 0.9852 - acc: 0.522 - ETA: 0s - loss: 0.9843 - acc: 0.523 - ETA: 0s - loss: 0.9838 - acc: 0.523 - 1s 188us/sample - loss: 0.9837 - acc: 0.5238 - val_loss: 0.9827 - val_acc: 0.5265\n"
     ]
    },
    {
     "data": {
      "text/html": [
       "<span style=\"color:#4527A0\"><h1 style=\"font-size:18px\">Trial complete</h1></span>"
      ],
      "text/plain": [
       "<IPython.core.display.HTML object>"
      ]
     },
     "metadata": {},
     "output_type": "display_data"
    },
    {
     "data": {
      "text/html": [
       "<span style=\"color:#4527A0\"><h1 style=\"font-size:18px\">Trial summary</h1></span>"
      ],
      "text/plain": [
       "<IPython.core.display.HTML object>"
      ]
     },
     "metadata": {},
     "output_type": "display_data"
    },
    {
     "data": {
      "text/html": [
       "<span style=\"color:cyan\"> |-Trial ID: 2ec0fad56f1d648c54791b60ef744aea</span>"
      ],
      "text/plain": [
       "<IPython.core.display.HTML object>"
      ]
     },
     "metadata": {},
     "output_type": "display_data"
    },
    {
     "data": {
      "text/html": [
       "<span style=\"color:cyan\"> |-Score: 0.5264593362808228</span>"
      ],
      "text/plain": [
       "<IPython.core.display.HTML object>"
      ]
     },
     "metadata": {},
     "output_type": "display_data"
    },
    {
     "data": {
      "text/html": [
       "<span style=\"color:cyan\"> |-Best step: 0</span>"
      ],
      "text/plain": [
       "<IPython.core.display.HTML object>"
      ]
     },
     "metadata": {},
     "output_type": "display_data"
    },
    {
     "data": {
      "text/html": [
       "<span style=\"color:#7E57C2\"><h2 style=\"font-size:16px\">Hyperparameters:</h2></span>"
      ],
      "text/plain": [
       "<IPython.core.display.HTML object>"
      ]
     },
     "metadata": {},
     "output_type": "display_data"
    },
    {
     "data": {
      "text/html": [
       "<span style=\"color:cyan\"> |-layer_0_neurons: 70</span>"
      ],
      "text/plain": [
       "<IPython.core.display.HTML object>"
      ]
     },
     "metadata": {},
     "output_type": "display_data"
    },
    {
     "data": {
      "text/html": [
       "<span style=\"color:blue\"> |-layer_1_neurons: 70</span>"
      ],
      "text/plain": [
       "<IPython.core.display.HTML object>"
      ]
     },
     "metadata": {},
     "output_type": "display_data"
    },
    {
     "data": {
      "text/html": [
       "<span style=\"color:cyan\"> |-n_input_neurons: 90</span>"
      ],
      "text/plain": [
       "<IPython.core.display.HTML object>"
      ]
     },
     "metadata": {},
     "output_type": "display_data"
    },
    {
     "data": {
      "text/html": [
       "<span style=\"color:blue\"> |-n_layers: 2</span>"
      ],
      "text/plain": [
       "<IPython.core.display.HTML object>"
      ]
     },
     "metadata": {},
     "output_type": "display_data"
    },
    {
     "name": "stdout",
     "output_type": "stream",
     "text": [
      "Train on 7917 samples, validate on 1833 samples\n",
      "Epoch 1/10\n",
      "7917/7917 [==============================] - ETA: 2:18 - loss: 1.1016 - acc: 0.200 - ETA: 7s - loss: 1.0754 - acc: 0.4560  - ETA: 4s - loss: 1.0669 - acc: 0.460 - ETA: 3s - loss: 1.0612 - acc: 0.466 - ETA: 2s - loss: 1.0531 - acc: 0.471 - ETA: 1s - loss: 1.0516 - acc: 0.471 - ETA: 1s - loss: 1.0484 - acc: 0.471 - ETA: 1s - loss: 1.0428 - acc: 0.477 - ETA: 1s - loss: 1.0411 - acc: 0.477 - ETA: 0s - loss: 1.0367 - acc: 0.481 - ETA: 0s - loss: 1.0338 - acc: 0.482 - ETA: 0s - loss: 1.0308 - acc: 0.484 - ETA: 0s - loss: 1.0291 - acc: 0.486 - ETA: 0s - loss: 1.0249 - acc: 0.490 - ETA: 0s - loss: 1.0227 - acc: 0.493 - ETA: 0s - loss: 1.0221 - acc: 0.492 - ETA: 0s - loss: 1.0186 - acc: 0.496 - ETA: 0s - loss: 1.0193 - acc: 0.495 - ETA: 0s - loss: 1.0185 - acc: 0.495 - ETA: 0s - loss: 1.0174 - acc: 0.496 - 2s 236us/sample - loss: 1.0172 - acc: 0.4967 - val_loss: 0.9844 - val_acc: 0.5254\n",
      "Epoch 2/10\n",
      "7917/7917 [==============================] - ETA: 1s - loss: 1.0349 - acc: 0.520 - ETA: 0s - loss: 0.9556 - acc: 0.548 - ETA: 0s - loss: 0.9609 - acc: 0.549 - ETA: 0s - loss: 0.9779 - acc: 0.538 - ETA: 0s - loss: 0.9900 - acc: 0.530 - ETA: 0s - loss: 0.9956 - acc: 0.523 - ETA: 0s - loss: 0.9979 - acc: 0.519 - ETA: 0s - loss: 0.9951 - acc: 0.518 - ETA: 0s - loss: 0.9977 - acc: 0.513 - ETA: 0s - loss: 0.9987 - acc: 0.513 - ETA: 0s - loss: 0.9965 - acc: 0.514 - ETA: 0s - loss: 0.9967 - acc: 0.513 - ETA: 0s - loss: 0.9966 - acc: 0.514 - ETA: 0s - loss: 0.9955 - acc: 0.515 - ETA: 0s - loss: 0.9965 - acc: 0.513 - ETA: 0s - loss: 0.9948 - acc: 0.514 - ETA: 0s - loss: 0.9943 - acc: 0.513 - ETA: 0s - loss: 0.9955 - acc: 0.514 - ETA: 0s - loss: 0.9952 - acc: 0.515 - 1s 138us/sample - loss: 0.9944 - acc: 0.5155 - val_loss: 0.9814 - val_acc: 0.5243\n",
      "Epoch 3/10\n",
      "7917/7917 [==============================] - ETA: 1s - loss: 0.7346 - acc: 0.760 - ETA: 0s - loss: 0.9862 - acc: 0.532 - ETA: 0s - loss: 0.9989 - acc: 0.512 - ETA: 0s - loss: 1.0068 - acc: 0.507 - ETA: 1s - loss: 1.0089 - acc: 0.507 - ETA: 1s - loss: 1.0102 - acc: 0.507 - ETA: 1s - loss: 1.0125 - acc: 0.501 - ETA: 1s - loss: 1.0100 - acc: 0.505 - ETA: 1s - loss: 1.0069 - acc: 0.509 - ETA: 0s - loss: 1.0042 - acc: 0.509 - ETA: 0s - loss: 1.0023 - acc: 0.509 - ETA: 0s - loss: 1.0018 - acc: 0.509 - ETA: 0s - loss: 0.9993 - acc: 0.511 - ETA: 0s - loss: 0.9984 - acc: 0.512 - ETA: 0s - loss: 0.9958 - acc: 0.515 - ETA: 0s - loss: 0.9941 - acc: 0.516 - ETA: 0s - loss: 0.9936 - acc: 0.516 - ETA: 0s - loss: 0.9927 - acc: 0.516 - ETA: 0s - loss: 0.9917 - acc: 0.518 - ETA: 0s - loss: 0.9908 - acc: 0.518 - ETA: 0s - loss: 0.9912 - acc: 0.517 - ETA: 0s - loss: 0.9896 - acc: 0.520 - 1s 163us/sample - loss: 0.9905 - acc: 0.5196 - val_loss: 0.9816 - val_acc: 0.5237\n",
      "Epoch 4/10\n",
      "7917/7917 [==============================] - ETA: 1s - loss: 1.1389 - acc: 0.320 - ETA: 0s - loss: 0.9920 - acc: 0.504 - ETA: 0s - loss: 0.9878 - acc: 0.506 - ETA: 0s - loss: 0.9915 - acc: 0.510 - ETA: 0s - loss: 0.9961 - acc: 0.507 - ETA: 0s - loss: 0.9972 - acc: 0.504 - ETA: 0s - loss: 0.9929 - acc: 0.509 - ETA: 0s - loss: 0.9933 - acc: 0.508 - ETA: 0s - loss: 0.9953 - acc: 0.506 - ETA: 0s - loss: 0.9935 - acc: 0.507 - ETA: 0s - loss: 0.9948 - acc: 0.506 - ETA: 0s - loss: 0.9964 - acc: 0.502 - ETA: 0s - loss: 0.9951 - acc: 0.505 - ETA: 0s - loss: 0.9937 - acc: 0.507 - ETA: 0s - loss: 0.9921 - acc: 0.511 - ETA: 0s - loss: 0.9923 - acc: 0.512 - ETA: 0s - loss: 0.9922 - acc: 0.513 - ETA: 0s - loss: 0.9918 - acc: 0.513 - ETA: 0s - loss: 0.9911 - acc: 0.515 - 1s 140us/sample - loss: 0.9887 - acc: 0.5180 - val_loss: 0.9817 - val_acc: 0.5243\n",
      "Epoch 5/10\n",
      "7917/7917 [==============================] - ETA: 1s - loss: 1.0317 - acc: 0.480 - ETA: 0s - loss: 0.9781 - acc: 0.524 - ETA: 0s - loss: 0.9855 - acc: 0.510 - ETA: 0s - loss: 0.9927 - acc: 0.507 - ETA: 0s - loss: 0.9796 - acc: 0.525 - ETA: 0s - loss: 0.9839 - acc: 0.524 - ETA: 0s - loss: 0.9871 - acc: 0.523 - ETA: 0s - loss: 0.9854 - acc: 0.524 - ETA: 0s - loss: 0.9887 - acc: 0.523 - ETA: 0s - loss: 0.9883 - acc: 0.523 - ETA: 0s - loss: 0.9845 - acc: 0.525 - ETA: 0s - loss: 0.9856 - acc: 0.524 - ETA: 0s - loss: 0.9870 - acc: 0.524 - ETA: 0s - loss: 0.9862 - acc: 0.525 - ETA: 0s - loss: 0.9878 - acc: 0.523 - ETA: 0s - loss: 0.9894 - acc: 0.519 - ETA: 0s - loss: 0.9894 - acc: 0.518 - ETA: 0s - loss: 0.9889 - acc: 0.520 - ETA: 0s - loss: 0.9890 - acc: 0.520 - 1s 141us/sample - loss: 0.9888 - acc: 0.5205 - val_loss: 0.9805 - val_acc: 0.5254\n",
      "Epoch 6/10\n",
      "7917/7917 [==============================] - ETA: 1s - loss: 0.9254 - acc: 0.600 - ETA: 0s - loss: 0.9714 - acc: 0.540 - ETA: 0s - loss: 0.9834 - acc: 0.536 - ETA: 0s - loss: 0.9936 - acc: 0.524 - ETA: 0s - loss: 0.9942 - acc: 0.518 - ETA: 0s - loss: 0.9985 - acc: 0.513 - ETA: 0s - loss: 0.9944 - acc: 0.516 - ETA: 0s - loss: 0.9972 - acc: 0.512 - ETA: 0s - loss: 0.9958 - acc: 0.513 - ETA: 0s - loss: 0.9933 - acc: 0.515 - ETA: 0s - loss: 0.9902 - acc: 0.518 - ETA: 0s - loss: 0.9939 - acc: 0.516 - ETA: 0s - loss: 0.9940 - acc: 0.516 - ETA: 0s - loss: 0.9934 - acc: 0.516 - ETA: 0s - loss: 0.9941 - acc: 0.515 - ETA: 0s - loss: 0.9935 - acc: 0.516 - ETA: 0s - loss: 0.9934 - acc: 0.517 - ETA: 0s - loss: 0.9920 - acc: 0.518 - ETA: 0s - loss: 0.9919 - acc: 0.518 - ETA: 0s - loss: 0.9890 - acc: 0.520 - 1s 146us/sample - loss: 0.9888 - acc: 0.5199 - val_loss: 0.9803 - val_acc: 0.5259\n",
      "Epoch 7/10\n",
      "7917/7917 [==============================] - ETA: 1s - loss: 0.9911 - acc: 0.520 - ETA: 0s - loss: 0.9835 - acc: 0.534 - ETA: 1s - loss: 0.9745 - acc: 0.525 - ETA: 0s - loss: 0.9606 - acc: 0.545 - ETA: 0s - loss: 0.9674 - acc: 0.547 - ETA: 0s - loss: 0.9740 - acc: 0.535 - ETA: 0s - loss: 0.9718 - acc: 0.540 - ETA: 0s - loss: 0.9773 - acc: 0.533 - ETA: 0s - loss: 0.9826 - acc: 0.531 - ETA: 0s - loss: 0.9817 - acc: 0.530 - ETA: 0s - loss: 0.9849 - acc: 0.526 - ETA: 0s - loss: 0.9853 - acc: 0.526 - ETA: 0s - loss: 0.9829 - acc: 0.528 - ETA: 0s - loss: 0.9841 - acc: 0.526 - ETA: 0s - loss: 0.9856 - acc: 0.525 - ETA: 0s - loss: 0.9865 - acc: 0.523 - ETA: 0s - loss: 0.9889 - acc: 0.522 - ETA: 0s - loss: 0.9882 - acc: 0.522 - ETA: 0s - loss: 0.9874 - acc: 0.523 - ETA: 0s - loss: 0.9869 - acc: 0.524 - 1s 143us/sample - loss: 0.9870 - acc: 0.5242 - val_loss: 0.9784 - val_acc: 0.5248\n",
      "Epoch 8/10\n",
      "7917/7917 [==============================] - ETA: 1s - loss: 1.0000 - acc: 0.440 - ETA: 0s - loss: 0.9373 - acc: 0.560 - ETA: 0s - loss: 0.9806 - acc: 0.518 - ETA: 0s - loss: 0.9879 - acc: 0.514 - ETA: 0s - loss: 0.9929 - acc: 0.510 - ETA: 0s - loss: 0.9974 - acc: 0.506 - ETA: 0s - loss: 0.9950 - acc: 0.505 - ETA: 0s - loss: 0.9905 - acc: 0.513 - ETA: 0s - loss: 0.9899 - acc: 0.516 - ETA: 0s - loss: 0.9872 - acc: 0.521 - ETA: 0s - loss: 0.9889 - acc: 0.520 - ETA: 0s - loss: 0.9895 - acc: 0.520 - ETA: 0s - loss: 0.9864 - acc: 0.524 - ETA: 0s - loss: 0.9847 - acc: 0.525 - ETA: 0s - loss: 0.9851 - acc: 0.523 - ETA: 0s - loss: 0.9854 - acc: 0.522 - ETA: 0s - loss: 0.9850 - acc: 0.524 - ETA: 0s - loss: 0.9860 - acc: 0.523 - ETA: 0s - loss: 0.9864 - acc: 0.523 - ETA: 0s - loss: 0.9872 - acc: 0.521 - ETA: 0s - loss: 0.9876 - acc: 0.520 - 1s 148us/sample - loss: 0.9877 - acc: 0.5204 - val_loss: 0.9840 - val_acc: 0.5243\n",
      "Epoch 9/10\n",
      "7917/7917 [==============================] - ETA: 1s - loss: 1.0411 - acc: 0.520 - ETA: 0s - loss: 1.0005 - acc: 0.535 - ETA: 0s - loss: 0.9834 - acc: 0.529 - ETA: 0s - loss: 0.9828 - acc: 0.528 - ETA: 0s - loss: 0.9894 - acc: 0.518 - ETA: 0s - loss: 0.9910 - acc: 0.517 - ETA: 0s - loss: 0.9837 - acc: 0.520 - ETA: 0s - loss: 0.9870 - acc: 0.520 - ETA: 0s - loss: 0.9881 - acc: 0.519 - ETA: 0s - loss: 0.9843 - acc: 0.523 - ETA: 0s - loss: 0.9889 - acc: 0.520 - ETA: 0s - loss: 0.9910 - acc: 0.516 - ETA: 0s - loss: 0.9912 - acc: 0.517 - ETA: 0s - loss: 0.9909 - acc: 0.518 - ETA: 0s - loss: 0.9899 - acc: 0.520 - ETA: 0s - loss: 0.9888 - acc: 0.520 - ETA: 0s - loss: 0.9886 - acc: 0.519 - ETA: 0s - loss: 0.9897 - acc: 0.519 - ETA: 0s - loss: 0.9887 - acc: 0.518 - 1s 142us/sample - loss: 0.9873 - acc: 0.5207 - val_loss: 0.9833 - val_acc: 0.5292\n",
      "Epoch 10/10\n",
      "7917/7917 [==============================] - ETA: 1s - loss: 1.1316 - acc: 0.320 - ETA: 0s - loss: 0.9949 - acc: 0.504 - ETA: 0s - loss: 0.9846 - acc: 0.518 - ETA: 0s - loss: 0.9778 - acc: 0.520 - ETA: 0s - loss: 0.9880 - acc: 0.515 - ETA: 0s - loss: 0.9886 - acc: 0.518 - ETA: 0s - loss: 0.9903 - acc: 0.515 - ETA: 0s - loss: 0.9891 - acc: 0.517 - ETA: 0s - loss: 0.9870 - acc: 0.519 - ETA: 0s - loss: 0.9860 - acc: 0.521 - ETA: 0s - loss: 0.9840 - acc: 0.522 - ETA: 0s - loss: 0.9867 - acc: 0.519 - ETA: 0s - loss: 0.9902 - acc: 0.515 - ETA: 0s - loss: 0.9901 - acc: 0.516 - ETA: 0s - loss: 0.9893 - acc: 0.517 - ETA: 0s - loss: 0.9883 - acc: 0.516 - ETA: 0s - loss: 0.9874 - acc: 0.518 - ETA: 0s - loss: 0.9876 - acc: 0.518 - ETA: 0s - loss: 0.9864 - acc: 0.519 - ETA: 0s - loss: 0.9869 - acc: 0.520 - 1s 145us/sample - loss: 0.9871 - acc: 0.5199 - val_loss: 0.9812 - val_acc: 0.5281\n"
     ]
    },
    {
     "data": {
      "text/html": [
       "<span style=\"color:#4527A0\"><h1 style=\"font-size:18px\">Trial complete</h1></span>"
      ],
      "text/plain": [
       "<IPython.core.display.HTML object>"
      ]
     },
     "metadata": {},
     "output_type": "display_data"
    },
    {
     "data": {
      "text/html": [
       "<span style=\"color:#4527A0\"><h1 style=\"font-size:18px\">Trial summary</h1></span>"
      ],
      "text/plain": [
       "<IPython.core.display.HTML object>"
      ]
     },
     "metadata": {},
     "output_type": "display_data"
    },
    {
     "data": {
      "text/html": [
       "<span style=\"color:cyan\"> |-Trial ID: e27a8f9d56727ea1e31f1dff2c02f89d</span>"
      ],
      "text/plain": [
       "<IPython.core.display.HTML object>"
      ]
     },
     "metadata": {},
     "output_type": "display_data"
    },
    {
     "data": {
      "text/html": [
       "<span style=\"color:cyan\"> |-Score: 0.5291871428489685</span>"
      ],
      "text/plain": [
       "<IPython.core.display.HTML object>"
      ]
     },
     "metadata": {},
     "output_type": "display_data"
    },
    {
     "data": {
      "text/html": [
       "<span style=\"color:cyan\"> |-Best step: 0</span>"
      ],
      "text/plain": [
       "<IPython.core.display.HTML object>"
      ]
     },
     "metadata": {},
     "output_type": "display_data"
    },
    {
     "data": {
      "text/html": [
       "<span style=\"color:#7E57C2\"><h2 style=\"font-size:16px\">Hyperparameters:</h2></span>"
      ],
      "text/plain": [
       "<IPython.core.display.HTML object>"
      ]
     },
     "metadata": {},
     "output_type": "display_data"
    },
    {
     "data": {
      "text/html": [
       "<span style=\"color:cyan\"> |-layer_0_neurons: 10</span>"
      ],
      "text/plain": [
       "<IPython.core.display.HTML object>"
      ]
     },
     "metadata": {},
     "output_type": "display_data"
    },
    {
     "data": {
      "text/html": [
       "<span style=\"color:blue\"> |-layer_1_neurons: 130</span>"
      ],
      "text/plain": [
       "<IPython.core.display.HTML object>"
      ]
     },
     "metadata": {},
     "output_type": "display_data"
    },
    {
     "data": {
      "text/html": [
       "<span style=\"color:cyan\"> |-n_input_neurons: 130</span>"
      ],
      "text/plain": [
       "<IPython.core.display.HTML object>"
      ]
     },
     "metadata": {},
     "output_type": "display_data"
    },
    {
     "data": {
      "text/html": [
       "<span style=\"color:blue\"> |-n_layers: 2</span>"
      ],
      "text/plain": [
       "<IPython.core.display.HTML object>"
      ]
     },
     "metadata": {},
     "output_type": "display_data"
    },
    {
     "name": "stdout",
     "output_type": "stream",
     "text": [
      "Train on 7917 samples, validate on 1833 samples\n",
      "Epoch 1/10\n",
      "7917/7917 [==============================] - ETA: 1:55 - loss: 1.0864 - acc: 0.200 - ETA: 9s - loss: 1.0702 - acc: 0.4143  - ETA: 4s - loss: 1.0604 - acc: 0.437 - ETA: 3s - loss: 1.0462 - acc: 0.455 - ETA: 2s - loss: 1.0445 - acc: 0.457 - ETA: 2s - loss: 1.0329 - acc: 0.474 - ETA: 2s - loss: 1.0299 - acc: 0.482 - ETA: 1s - loss: 1.0231 - acc: 0.488 - ETA: 1s - loss: 1.0210 - acc: 0.488 - ETA: 1s - loss: 1.0186 - acc: 0.488 - ETA: 1s - loss: 1.0158 - acc: 0.493 - ETA: 1s - loss: 1.0138 - acc: 0.497 - ETA: 0s - loss: 1.0137 - acc: 0.498 - ETA: 0s - loss: 1.0096 - acc: 0.501 - ETA: 0s - loss: 1.0097 - acc: 0.501 - ETA: 0s - loss: 1.0087 - acc: 0.502 - ETA: 0s - loss: 1.0089 - acc: 0.504 - ETA: 0s - loss: 1.0075 - acc: 0.504 - ETA: 0s - loss: 1.0061 - acc: 0.505 - ETA: 0s - loss: 1.0067 - acc: 0.506 - ETA: 0s - loss: 1.0054 - acc: 0.507 - ETA: 0s - loss: 1.0058 - acc: 0.506 - ETA: 0s - loss: 1.0047 - acc: 0.507 - ETA: 0s - loss: 1.0050 - acc: 0.508 - 2s 274us/sample - loss: 1.0045 - acc: 0.5092 - val_loss: 0.9787 - val_acc: 0.5232\n",
      "Epoch 2/10\n",
      "7917/7917 [==============================] - ETA: 2s - loss: 0.8181 - acc: 0.680 - ETA: 1s - loss: 0.9981 - acc: 0.502 - ETA: 1s - loss: 0.9990 - acc: 0.510 - ETA: 1s - loss: 0.9814 - acc: 0.536 - ETA: 1s - loss: 0.9797 - acc: 0.530 - ETA: 0s - loss: 0.9813 - acc: 0.530 - ETA: 0s - loss: 0.9804 - acc: 0.527 - ETA: 0s - loss: 0.9795 - acc: 0.529 - ETA: 0s - loss: 0.9788 - acc: 0.531 - ETA: 0s - loss: 0.9835 - acc: 0.525 - ETA: 0s - loss: 0.9873 - acc: 0.518 - ETA: 0s - loss: 0.9895 - acc: 0.515 - ETA: 0s - loss: 0.9908 - acc: 0.516 - ETA: 0s - loss: 0.9912 - acc: 0.515 - ETA: 0s - loss: 0.9902 - acc: 0.517 - ETA: 0s - loss: 0.9926 - acc: 0.513 - ETA: 0s - loss: 0.9917 - acc: 0.516 - ETA: 0s - loss: 0.9889 - acc: 0.518 - ETA: 0s - loss: 0.9905 - acc: 0.518 - ETA: 0s - loss: 0.9904 - acc: 0.519 - ETA: 0s - loss: 0.9895 - acc: 0.521 - ETA: 0s - loss: 0.9895 - acc: 0.521 - ETA: 0s - loss: 0.9907 - acc: 0.519 - ETA: 0s - loss: 0.9911 - acc: 0.519 - 1s 182us/sample - loss: 0.9907 - acc: 0.5200 - val_loss: 0.9830 - val_acc: 0.5319\n",
      "Epoch 3/10\n",
      "7917/7917 [==============================] - ETA: 2s - loss: 0.9166 - acc: 0.560 - ETA: 1s - loss: 0.9946 - acc: 0.522 - ETA: 1s - loss: 0.9919 - acc: 0.513 - ETA: 1s - loss: 0.9831 - acc: 0.524 - ETA: 1s - loss: 0.9893 - acc: 0.516 - ETA: 1s - loss: 0.9918 - acc: 0.516 - ETA: 0s - loss: 0.9904 - acc: 0.521 - ETA: 0s - loss: 0.9909 - acc: 0.521 - ETA: 0s - loss: 0.9978 - acc: 0.513 - ETA: 0s - loss: 0.9956 - acc: 0.514 - ETA: 0s - loss: 0.9945 - acc: 0.516 - ETA: 0s - loss: 0.9948 - acc: 0.512 - ETA: 0s - loss: 0.9930 - acc: 0.513 - ETA: 0s - loss: 0.9943 - acc: 0.513 - ETA: 0s - loss: 0.9916 - acc: 0.516 - ETA: 0s - loss: 0.9889 - acc: 0.520 - ETA: 0s - loss: 0.9885 - acc: 0.521 - ETA: 0s - loss: 0.9903 - acc: 0.520 - ETA: 0s - loss: 0.9895 - acc: 0.520 - ETA: 0s - loss: 0.9914 - acc: 0.518 - ETA: 0s - loss: 0.9912 - acc: 0.520 - ETA: 0s - loss: 0.9927 - acc: 0.518 - ETA: 0s - loss: 0.9917 - acc: 0.518 - ETA: 0s - loss: 0.9895 - acc: 0.520 - ETA: 0s - loss: 0.9894 - acc: 0.520 - ETA: 0s - loss: 0.9902 - acc: 0.519 - 1s 188us/sample - loss: 0.9903 - acc: 0.5191 - val_loss: 0.9826 - val_acc: 0.5172\n",
      "Epoch 4/10\n",
      "7917/7917 [==============================] - ETA: 3s - loss: 0.9244 - acc: 0.640 - ETA: 1s - loss: 0.9588 - acc: 0.525 - ETA: 1s - loss: 0.9596 - acc: 0.528 - ETA: 1s - loss: 0.9752 - acc: 0.522 - ETA: 1s - loss: 0.9633 - acc: 0.536 - ETA: 1s - loss: 0.9686 - acc: 0.535 - ETA: 1s - loss: 0.9727 - acc: 0.536 - ETA: 0s - loss: 0.9734 - acc: 0.532 - ETA: 0s - loss: 0.9788 - acc: 0.530 - ETA: 0s - loss: 0.9827 - acc: 0.524 - ETA: 0s - loss: 0.9824 - acc: 0.523 - ETA: 0s - loss: 0.9811 - acc: 0.525 - ETA: 0s - loss: 0.9778 - acc: 0.530 - ETA: 0s - loss: 0.9763 - acc: 0.533 - ETA: 0s - loss: 0.9815 - acc: 0.528 - ETA: 0s - loss: 0.9832 - acc: 0.524 - ETA: 0s - loss: 0.9857 - acc: 0.523 - ETA: 0s - loss: 0.9846 - acc: 0.523 - ETA: 0s - loss: 0.9856 - acc: 0.523 - ETA: 0s - loss: 0.9848 - acc: 0.523 - ETA: 0s - loss: 0.9865 - acc: 0.521 - ETA: 0s - loss: 0.9873 - acc: 0.520 - ETA: 0s - loss: 0.9857 - acc: 0.522 - ETA: 0s - loss: 0.9854 - acc: 0.523 - ETA: 0s - loss: 0.9870 - acc: 0.522 - ETA: 0s - loss: 0.9883 - acc: 0.520 - 1s 188us/sample - loss: 0.9882 - acc: 0.5207 - val_loss: 0.9837 - val_acc: 0.5281\n",
      "Epoch 5/10\n",
      "7917/7917 [==============================] - ETA: 1s - loss: 1.0076 - acc: 0.480 - ETA: 1s - loss: 0.9979 - acc: 0.500 - ETA: 1s - loss: 0.9979 - acc: 0.505 - ETA: 1s - loss: 0.9909 - acc: 0.522 - ETA: 1s - loss: 0.9856 - acc: 0.527 - ETA: 1s - loss: 0.9867 - acc: 0.520 - ETA: 0s - loss: 0.9797 - acc: 0.522 - ETA: 0s - loss: 0.9784 - acc: 0.522 - ETA: 0s - loss: 0.9768 - acc: 0.525 - ETA: 0s - loss: 0.9852 - acc: 0.517 - ETA: 0s - loss: 0.9866 - acc: 0.516 - ETA: 0s - loss: 0.9847 - acc: 0.518 - ETA: 0s - loss: 0.9866 - acc: 0.517 - ETA: 0s - loss: 0.9852 - acc: 0.519 - ETA: 0s - loss: 0.9853 - acc: 0.519 - ETA: 0s - loss: 0.9851 - acc: 0.520 - ETA: 0s - loss: 0.9860 - acc: 0.520 - ETA: 0s - loss: 0.9869 - acc: 0.520 - ETA: 0s - loss: 0.9865 - acc: 0.520 - ETA: 0s - loss: 0.9855 - acc: 0.521 - ETA: 0s - loss: 0.9865 - acc: 0.520 - ETA: 0s - loss: 0.9884 - acc: 0.518 - ETA: 0s - loss: 0.9855 - acc: 0.521 - ETA: 0s - loss: 0.9845 - acc: 0.521 - ETA: 0s - loss: 0.9852 - acc: 0.521 - ETA: 0s - loss: 0.9860 - acc: 0.522 - 1s 186us/sample - loss: 0.9865 - acc: 0.5210 - val_loss: 0.9808 - val_acc: 0.5308\n",
      "Epoch 6/10\n",
      "7917/7917 [==============================] - ETA: 2s - loss: 1.0805 - acc: 0.440 - ETA: 1s - loss: 1.0569 - acc: 0.450 - ETA: 1s - loss: 1.0099 - acc: 0.508 - ETA: 1s - loss: 0.9978 - acc: 0.516 - ETA: 1s - loss: 0.9904 - acc: 0.529 - ETA: 1s - loss: 0.9902 - acc: 0.526 - ETA: 1s - loss: 0.9953 - acc: 0.517 - ETA: 1s - loss: 0.9965 - acc: 0.513 - ETA: 0s - loss: 0.9953 - acc: 0.514 - ETA: 0s - loss: 0.9881 - acc: 0.519 - ETA: 0s - loss: 0.9875 - acc: 0.520 - ETA: 0s - loss: 0.9861 - acc: 0.522 - ETA: 0s - loss: 0.9848 - acc: 0.526 - ETA: 0s - loss: 0.9815 - acc: 0.528 - ETA: 0s - loss: 0.9795 - acc: 0.529 - ETA: 0s - loss: 0.9797 - acc: 0.528 - ETA: 0s - loss: 0.9790 - acc: 0.530 - ETA: 0s - loss: 0.9800 - acc: 0.527 - ETA: 0s - loss: 0.9815 - acc: 0.526 - ETA: 0s - loss: 0.9824 - acc: 0.525 - ETA: 0s - loss: 0.9814 - acc: 0.526 - ETA: 0s - loss: 0.9827 - acc: 0.525 - ETA: 0s - loss: 0.9844 - acc: 0.522 - ETA: 0s - loss: 0.9848 - acc: 0.521 - ETA: 0s - loss: 0.9874 - acc: 0.518 - ETA: 0s - loss: 0.9859 - acc: 0.519 - ETA: 0s - loss: 0.9852 - acc: 0.520 - 2s 195us/sample - loss: 0.9849 - acc: 0.5210 - val_loss: 0.9799 - val_acc: 0.5281\n",
      "Epoch 7/10\n",
      "7917/7917 [==============================] - ETA: 2s - loss: 0.8304 - acc: 0.720 - ETA: 1s - loss: 0.9947 - acc: 0.501 - ETA: 1s - loss: 0.9852 - acc: 0.503 - ETA: 1s - loss: 1.0044 - acc: 0.494 - ETA: 1s - loss: 1.0005 - acc: 0.499 - ETA: 1s - loss: 1.0029 - acc: 0.499 - ETA: 0s - loss: 0.9999 - acc: 0.505 - ETA: 0s - loss: 0.9964 - acc: 0.509 - ETA: 0s - loss: 0.9919 - acc: 0.512 - ETA: 0s - loss: 0.9945 - acc: 0.511 - ETA: 0s - loss: 0.9909 - acc: 0.516 - ETA: 0s - loss: 0.9896 - acc: 0.518 - ETA: 0s - loss: 0.9912 - acc: 0.515 - ETA: 0s - loss: 0.9893 - acc: 0.517 - ETA: 0s - loss: 0.9890 - acc: 0.517 - ETA: 0s - loss: 0.9875 - acc: 0.518 - ETA: 0s - loss: 0.9866 - acc: 0.519 - ETA: 0s - loss: 0.9876 - acc: 0.520 - ETA: 0s - loss: 0.9876 - acc: 0.519 - ETA: 0s - loss: 0.9865 - acc: 0.520 - ETA: 0s - loss: 0.9858 - acc: 0.521 - ETA: 0s - loss: 0.9848 - acc: 0.523 - ETA: 0s - loss: 0.9856 - acc: 0.522 - ETA: 0s - loss: 0.9856 - acc: 0.522 - ETA: 0s - loss: 0.9844 - acc: 0.522 - ETA: 0s - loss: 0.9887 - acc: 0.519 - ETA: 0s - loss: 0.9881 - acc: 0.520 - ETA: 0s - loss: 0.9872 - acc: 0.520 - ETA: 0s - loss: 0.9875 - acc: 0.520 - ETA: 0s - loss: 0.9873 - acc: 0.520 - ETA: 0s - loss: 0.9855 - acc: 0.522 - 2s 228us/sample - loss: 0.9852 - acc: 0.5227 - val_loss: 0.9874 - val_acc: 0.5319\n",
      "Epoch 8/10\n",
      "7917/7917 [==============================] - ETA: 2s - loss: 1.0649 - acc: 0.480 - ETA: 2s - loss: 0.9612 - acc: 0.573 - ETA: 1s - loss: 1.0013 - acc: 0.518 - ETA: 1s - loss: 0.9926 - acc: 0.523 - ETA: 1s - loss: 0.9889 - acc: 0.521 - ETA: 1s - loss: 0.9853 - acc: 0.522 - ETA: 1s - loss: 0.9815 - acc: 0.523 - ETA: 1s - loss: 0.9807 - acc: 0.525 - ETA: 0s - loss: 0.9786 - acc: 0.528 - ETA: 0s - loss: 0.9779 - acc: 0.529 - ETA: 0s - loss: 0.9764 - acc: 0.525 - ETA: 0s - loss: 0.9787 - acc: 0.524 - ETA: 0s - loss: 0.9797 - acc: 0.521 - ETA: 0s - loss: 0.9808 - acc: 0.521 - ETA: 0s - loss: 0.9767 - acc: 0.525 - ETA: 0s - loss: 0.9785 - acc: 0.523 - ETA: 0s - loss: 0.9786 - acc: 0.524 - ETA: 0s - loss: 0.9792 - acc: 0.523 - ETA: 0s - loss: 0.9793 - acc: 0.524 - ETA: 0s - loss: 0.9821 - acc: 0.523 - ETA: 0s - loss: 0.9830 - acc: 0.522 - ETA: 0s - loss: 0.9838 - acc: 0.520 - ETA: 0s - loss: 0.9828 - acc: 0.522 - ETA: 0s - loss: 0.9824 - acc: 0.523 - ETA: 0s - loss: 0.9822 - acc: 0.523 - ETA: 0s - loss: 0.9820 - acc: 0.523 - ETA: 0s - loss: 0.9829 - acc: 0.523 - ETA: 0s - loss: 0.9831 - acc: 0.523 - ETA: 0s - loss: 0.9825 - acc: 0.523 - ETA: 0s - loss: 0.9817 - acc: 0.524 - ETA: 0s - loss: 0.9813 - acc: 0.524 - ETA: 0s - loss: 0.9822 - acc: 0.524 - ETA: 0s - loss: 0.9806 - acc: 0.526 - ETA: 0s - loss: 0.9818 - acc: 0.526 - ETA: 0s - loss: 0.9822 - acc: 0.525 - ETA: 0s - loss: 0.9836 - acc: 0.523 - ETA: 0s - loss: 0.9836 - acc: 0.523 - ETA: 0s - loss: 0.9832 - acc: 0.523 - ETA: 0s - loss: 0.9839 - acc: 0.522 - 2s 286us/sample - loss: 0.9846 - acc: 0.5222 - val_loss: 0.9798 - val_acc: 0.5270\n",
      "Epoch 9/10\n",
      "7917/7917 [==============================] - ETA: 2s - loss: 0.9746 - acc: 0.520 - ETA: 1s - loss: 0.9715 - acc: 0.520 - ETA: 1s - loss: 0.9658 - acc: 0.518 - ETA: 1s - loss: 0.9718 - acc: 0.517 - ETA: 1s - loss: 0.9680 - acc: 0.529 - ETA: 1s - loss: 0.9672 - acc: 0.535 - ETA: 1s - loss: 0.9683 - acc: 0.533 - ETA: 1s - loss: 0.9619 - acc: 0.539 - ETA: 0s - loss: 0.9727 - acc: 0.527 - ETA: 0s - loss: 0.9725 - acc: 0.532 - ETA: 0s - loss: 0.9772 - acc: 0.524 - ETA: 0s - loss: 0.9749 - acc: 0.527 - ETA: 0s - loss: 0.9745 - acc: 0.527 - ETA: 0s - loss: 0.9780 - acc: 0.525 - ETA: 0s - loss: 0.9824 - acc: 0.519 - ETA: 0s - loss: 0.9824 - acc: 0.518 - ETA: 0s - loss: 0.9834 - acc: 0.518 - ETA: 0s - loss: 0.9841 - acc: 0.518 - ETA: 0s - loss: 0.9851 - acc: 0.518 - ETA: 0s - loss: 0.9848 - acc: 0.520 - ETA: 0s - loss: 0.9844 - acc: 0.520 - ETA: 0s - loss: 0.9829 - acc: 0.521 - ETA: 0s - loss: 0.9846 - acc: 0.520 - ETA: 0s - loss: 0.9846 - acc: 0.520 - ETA: 0s - loss: 0.9836 - acc: 0.521 - ETA: 0s - loss: 0.9840 - acc: 0.521 - ETA: 0s - loss: 0.9845 - acc: 0.521 - ETA: 0s - loss: 0.9845 - acc: 0.521 - ETA: 0s - loss: 0.9845 - acc: 0.521 - ETA: 0s - loss: 0.9841 - acc: 0.521 - ETA: 0s - loss: 0.9838 - acc: 0.522 - 2s 227us/sample - loss: 0.9839 - acc: 0.5220 - val_loss: 0.9794 - val_acc: 0.5281\n",
      "Epoch 10/10\n",
      "7917/7917 [==============================] - ETA: 3s - loss: 0.9199 - acc: 0.680 - ETA: 1s - loss: 0.9658 - acc: 0.517 - ETA: 1s - loss: 0.9852 - acc: 0.515 - ETA: 1s - loss: 0.9769 - acc: 0.520 - ETA: 1s - loss: 0.9887 - acc: 0.512 - ETA: 1s - loss: 0.9936 - acc: 0.506 - ETA: 1s - loss: 0.9927 - acc: 0.511 - ETA: 1s - loss: 0.9860 - acc: 0.516 - ETA: 1s - loss: 0.9873 - acc: 0.512 - ETA: 1s - loss: 0.9882 - acc: 0.512 - ETA: 0s - loss: 0.9904 - acc: 0.512 - ETA: 0s - loss: 0.9898 - acc: 0.513 - ETA: 0s - loss: 0.9874 - acc: 0.519 - ETA: 0s - loss: 0.9905 - acc: 0.518 - ETA: 0s - loss: 0.9868 - acc: 0.523 - ETA: 0s - loss: 0.9862 - acc: 0.524 - ETA: 0s - loss: 0.9856 - acc: 0.523 - ETA: 0s - loss: 0.9861 - acc: 0.522 - ETA: 0s - loss: 0.9861 - acc: 0.522 - ETA: 0s - loss: 0.9875 - acc: 0.520 - ETA: 0s - loss: 0.9869 - acc: 0.522 - ETA: 0s - loss: 0.9877 - acc: 0.522 - ETA: 0s - loss: 0.9884 - acc: 0.522 - ETA: 0s - loss: 0.9862 - acc: 0.524 - ETA: 0s - loss: 0.9850 - acc: 0.524 - ETA: 0s - loss: 0.9836 - acc: 0.526 - ETA: 0s - loss: 0.9836 - acc: 0.526 - 2s 193us/sample - loss: 0.9836 - acc: 0.5261 - val_loss: 0.9845 - val_acc: 0.5259\n"
     ]
    },
    {
     "data": {
      "text/html": [
       "<span style=\"color:#4527A0\"><h1 style=\"font-size:18px\">Trial complete</h1></span>"
      ],
      "text/plain": [
       "<IPython.core.display.HTML object>"
      ]
     },
     "metadata": {},
     "output_type": "display_data"
    },
    {
     "data": {
      "text/html": [
       "<span style=\"color:#4527A0\"><h1 style=\"font-size:18px\">Trial summary</h1></span>"
      ],
      "text/plain": [
       "<IPython.core.display.HTML object>"
      ]
     },
     "metadata": {},
     "output_type": "display_data"
    },
    {
     "data": {
      "text/html": [
       "<span style=\"color:cyan\"> |-Trial ID: 12a0f4606373cfc09d01e0fed6939eac</span>"
      ],
      "text/plain": [
       "<IPython.core.display.HTML object>"
      ]
     },
     "metadata": {},
     "output_type": "display_data"
    },
    {
     "data": {
      "text/html": [
       "<span style=\"color:cyan\"> |-Score: 0.5319148898124695</span>"
      ],
      "text/plain": [
       "<IPython.core.display.HTML object>"
      ]
     },
     "metadata": {},
     "output_type": "display_data"
    },
    {
     "data": {
      "text/html": [
       "<span style=\"color:cyan\"> |-Best step: 0</span>"
      ],
      "text/plain": [
       "<IPython.core.display.HTML object>"
      ]
     },
     "metadata": {},
     "output_type": "display_data"
    },
    {
     "data": {
      "text/html": [
       "<span style=\"color:#7E57C2\"><h2 style=\"font-size:16px\">Hyperparameters:</h2></span>"
      ],
      "text/plain": [
       "<IPython.core.display.HTML object>"
      ]
     },
     "metadata": {},
     "output_type": "display_data"
    },
    {
     "data": {
      "text/html": [
       "<span style=\"color:cyan\"> |-layer_0_neurons: 110</span>"
      ],
      "text/plain": [
       "<IPython.core.display.HTML object>"
      ]
     },
     "metadata": {},
     "output_type": "display_data"
    },
    {
     "data": {
      "text/html": [
       "<span style=\"color:blue\"> |-layer_1_neurons: 30</span>"
      ],
      "text/plain": [
       "<IPython.core.display.HTML object>"
      ]
     },
     "metadata": {},
     "output_type": "display_data"
    },
    {
     "data": {
      "text/html": [
       "<span style=\"color:cyan\"> |-n_input_neurons: 170</span>"
      ],
      "text/plain": [
       "<IPython.core.display.HTML object>"
      ]
     },
     "metadata": {},
     "output_type": "display_data"
    },
    {
     "data": {
      "text/html": [
       "<span style=\"color:blue\"> |-n_layers: 1</span>"
      ],
      "text/plain": [
       "<IPython.core.display.HTML object>"
      ]
     },
     "metadata": {},
     "output_type": "display_data"
    },
    {
     "name": "stdout",
     "output_type": "stream",
     "text": [
      "Train on 7917 samples, validate on 1833 samples\n",
      "Epoch 1/10\n",
      "7917/7917 [==============================] - ETA: 3:16 - loss: 1.1229 - acc: 0.200 - ETA: 17s - loss: 1.0978 - acc: 0.333 - ETA: 9s - loss: 1.0908 - acc: 0.4417 - ETA: 6s - loss: 1.0827 - acc: 0.467 - ETA: 5s - loss: 1.0835 - acc: 0.477 - ETA: 4s - loss: 1.0810 - acc: 0.478 - ETA: 3s - loss: 1.0800 - acc: 0.475 - ETA: 3s - loss: 1.0783 - acc: 0.474 - ETA: 2s - loss: 1.0746 - acc: 0.474 - ETA: 2s - loss: 1.0746 - acc: 0.477 - ETA: 2s - loss: 1.0730 - acc: 0.480 - ETA: 1s - loss: 1.0709 - acc: 0.482 - ETA: 1s - loss: 1.0678 - acc: 0.487 - ETA: 1s - loss: 1.0654 - acc: 0.488 - ETA: 1s - loss: 1.0618 - acc: 0.491 - ETA: 1s - loss: 1.0618 - acc: 0.488 - ETA: 1s - loss: 1.0593 - acc: 0.490 - ETA: 1s - loss: 1.0568 - acc: 0.492 - ETA: 1s - loss: 1.0557 - acc: 0.492 - ETA: 0s - loss: 1.0526 - acc: 0.494 - ETA: 0s - loss: 1.0512 - acc: 0.493 - ETA: 0s - loss: 1.0508 - acc: 0.492 - ETA: 0s - loss: 1.0491 - acc: 0.493 - ETA: 0s - loss: 1.0500 - acc: 0.492 - ETA: 0s - loss: 1.0488 - acc: 0.492 - ETA: 0s - loss: 1.0465 - acc: 0.492 - ETA: 0s - loss: 1.0451 - acc: 0.492 - ETA: 0s - loss: 1.0433 - acc: 0.493 - ETA: 0s - loss: 1.0429 - acc: 0.492 - ETA: 0s - loss: 1.0417 - acc: 0.493 - ETA: 0s - loss: 1.0405 - acc: 0.494 - ETA: 0s - loss: 1.0396 - acc: 0.494 - 3s 378us/sample - loss: 1.0390 - acc: 0.4951 - val_loss: 0.9870 - val_acc: 0.5232\n",
      "Epoch 2/10\n",
      "7917/7917 [==============================] - ETA: 1s - loss: 0.9539 - acc: 0.560 - ETA: 1s - loss: 1.0060 - acc: 0.526 - ETA: 1s - loss: 1.0047 - acc: 0.521 - ETA: 1s - loss: 1.0116 - acc: 0.512 - ETA: 1s - loss: 1.0130 - acc: 0.512 - ETA: 1s - loss: 1.0097 - acc: 0.513 - ETA: 1s - loss: 1.0028 - acc: 0.520 - ETA: 1s - loss: 1.0096 - acc: 0.512 - ETA: 1s - loss: 1.0070 - acc: 0.517 - ETA: 1s - loss: 1.0093 - acc: 0.512 - ETA: 1s - loss: 1.0095 - acc: 0.509 - ETA: 1s - loss: 1.0084 - acc: 0.509 - ETA: 1s - loss: 1.0089 - acc: 0.508 - ETA: 1s - loss: 1.0064 - acc: 0.513 - ETA: 1s - loss: 1.0037 - acc: 0.515 - ETA: 0s - loss: 1.0055 - acc: 0.514 - ETA: 0s - loss: 1.0010 - acc: 0.519 - ETA: 0s - loss: 1.0010 - acc: 0.519 - ETA: 0s - loss: 1.0004 - acc: 0.519 - ETA: 0s - loss: 0.9985 - acc: 0.520 - ETA: 0s - loss: 0.9976 - acc: 0.520 - ETA: 0s - loss: 0.9974 - acc: 0.520 - ETA: 0s - loss: 0.9961 - acc: 0.520 - ETA: 0s - loss: 0.9964 - acc: 0.519 - ETA: 0s - loss: 0.9963 - acc: 0.519 - ETA: 0s - loss: 0.9965 - acc: 0.519 - ETA: 0s - loss: 0.9962 - acc: 0.518 - ETA: 0s - loss: 0.9961 - acc: 0.518 - ETA: 0s - loss: 0.9977 - acc: 0.517 - ETA: 0s - loss: 0.9965 - acc: 0.517 - ETA: 0s - loss: 0.9974 - acc: 0.517 - ETA: 0s - loss: 0.9969 - acc: 0.516 - 2s 235us/sample - loss: 0.9967 - acc: 0.5165 - val_loss: 0.9799 - val_acc: 0.5259\n",
      "Epoch 3/10\n",
      "7917/7917 [==============================] - ETA: 2s - loss: 0.9329 - acc: 0.560 - ETA: 2s - loss: 0.9421 - acc: 0.591 - ETA: 1s - loss: 0.9796 - acc: 0.538 - ETA: 1s - loss: 0.9685 - acc: 0.543 - ETA: 1s - loss: 0.9790 - acc: 0.529 - ETA: 1s - loss: 0.9832 - acc: 0.526 - ETA: 1s - loss: 0.9833 - acc: 0.523 - ETA: 1s - loss: 0.9740 - acc: 0.531 - ETA: 1s - loss: 0.9846 - acc: 0.521 - ETA: 1s - loss: 0.9830 - acc: 0.521 - ETA: 1s - loss: 0.9837 - acc: 0.522 - ETA: 1s - loss: 0.9877 - acc: 0.518 - ETA: 1s - loss: 0.9886 - acc: 0.516 - ETA: 1s - loss: 0.9871 - acc: 0.518 - ETA: 1s - loss: 0.9880 - acc: 0.519 - ETA: 0s - loss: 0.9919 - acc: 0.515 - ETA: 0s - loss: 0.9914 - acc: 0.515 - ETA: 0s - loss: 0.9913 - acc: 0.517 - ETA: 0s - loss: 0.9909 - acc: 0.516 - ETA: 0s - loss: 0.9914 - acc: 0.517 - ETA: 0s - loss: 0.9930 - acc: 0.515 - ETA: 0s - loss: 0.9925 - acc: 0.515 - ETA: 0s - loss: 0.9925 - acc: 0.515 - ETA: 0s - loss: 0.9937 - acc: 0.513 - ETA: 0s - loss: 0.9925 - acc: 0.515 - ETA: 0s - loss: 0.9925 - acc: 0.515 - ETA: 0s - loss: 0.9916 - acc: 0.515 - ETA: 0s - loss: 0.9910 - acc: 0.516 - ETA: 0s - loss: 0.9905 - acc: 0.516 - ETA: 0s - loss: 0.9908 - acc: 0.516 - ETA: 0s - loss: 0.9905 - acc: 0.516 - ETA: 0s - loss: 0.9916 - acc: 0.514 - ETA: 0s - loss: 0.9914 - acc: 0.514 - ETA: 0s - loss: 0.9907 - acc: 0.515 - 2s 245us/sample - loss: 0.9905 - acc: 0.5151 - val_loss: 0.9975 - val_acc: 0.5226\n",
      "Epoch 4/10\n",
      "7917/7917 [==============================] - ETA: 3s - loss: 1.1248 - acc: 0.320 - ETA: 1s - loss: 0.9270 - acc: 0.530 - ETA: 1s - loss: 0.9523 - acc: 0.541 - ETA: 1s - loss: 0.9556 - acc: 0.546 - ETA: 1s - loss: 0.9635 - acc: 0.545 - ETA: 1s - loss: 0.9703 - acc: 0.537 - ETA: 1s - loss: 0.9742 - acc: 0.530 - ETA: 1s - loss: 0.9781 - acc: 0.526 - ETA: 1s - loss: 0.9772 - acc: 0.524 - ETA: 1s - loss: 0.9758 - acc: 0.528 - ETA: 1s - loss: 0.9797 - acc: 0.525 - ETA: 1s - loss: 0.9807 - acc: 0.522 - ETA: 1s - loss: 0.9839 - acc: 0.518 - ETA: 1s - loss: 0.9891 - acc: 0.514 - ETA: 0s - loss: 0.9893 - acc: 0.514 - ETA: 0s - loss: 0.9866 - acc: 0.518 - ETA: 0s - loss: 0.9851 - acc: 0.520 - ETA: 0s - loss: 0.9862 - acc: 0.518 - ETA: 0s - loss: 0.9890 - acc: 0.514 - ETA: 0s - loss: 0.9878 - acc: 0.517 - ETA: 0s - loss: 0.9896 - acc: 0.515 - ETA: 0s - loss: 0.9880 - acc: 0.517 - ETA: 0s - loss: 0.9892 - acc: 0.516 - ETA: 0s - loss: 0.9888 - acc: 0.516 - ETA: 0s - loss: 0.9883 - acc: 0.518 - ETA: 0s - loss: 0.9882 - acc: 0.518 - ETA: 0s - loss: 0.9894 - acc: 0.517 - ETA: 0s - loss: 0.9896 - acc: 0.516 - ETA: 0s - loss: 0.9896 - acc: 0.516 - ETA: 0s - loss: 0.9903 - acc: 0.516 - ETA: 0s - loss: 0.9888 - acc: 0.518 - ETA: 0s - loss: 0.9892 - acc: 0.518 - ETA: 0s - loss: 0.9894 - acc: 0.518 - ETA: 0s - loss: 0.9897 - acc: 0.518 - ETA: 0s - loss: 0.9897 - acc: 0.517 - ETA: 0s - loss: 0.9890 - acc: 0.518 - ETA: 0s - loss: 0.9887 - acc: 0.518 - ETA: 0s - loss: 0.9893 - acc: 0.518 - ETA: 0s - loss: 0.9901 - acc: 0.517 - 2s 293us/sample - loss: 0.9903 - acc: 0.5171 - val_loss: 0.9831 - val_acc: 0.5276\n",
      "Epoch 5/10\n",
      "7917/7917 [==============================] - ETA: 3s - loss: 0.9234 - acc: 0.560 - ETA: 1s - loss: 0.9880 - acc: 0.516 - ETA: 1s - loss: 0.9677 - acc: 0.535 - ETA: 1s - loss: 0.9768 - acc: 0.527 - ETA: 1s - loss: 0.9740 - acc: 0.531 - ETA: 1s - loss: 0.9749 - acc: 0.524 - ETA: 1s - loss: 0.9862 - acc: 0.516 - ETA: 1s - loss: 0.9875 - acc: 0.514 - ETA: 1s - loss: 0.9875 - acc: 0.518 - ETA: 1s - loss: 0.9911 - acc: 0.517 - ETA: 1s - loss: 0.9936 - acc: 0.516 - ETA: 1s - loss: 0.9927 - acc: 0.516 - ETA: 1s - loss: 0.9941 - acc: 0.514 - ETA: 1s - loss: 0.9923 - acc: 0.518 - ETA: 1s - loss: 0.9921 - acc: 0.519 - ETA: 1s - loss: 0.9945 - acc: 0.516 - ETA: 1s - loss: 0.9954 - acc: 0.516 - ETA: 1s - loss: 0.9945 - acc: 0.518 - ETA: 1s - loss: 0.9946 - acc: 0.518 - ETA: 0s - loss: 0.9930 - acc: 0.519 - ETA: 0s - loss: 0.9922 - acc: 0.518 - ETA: 0s - loss: 0.9908 - acc: 0.520 - ETA: 0s - loss: 0.9899 - acc: 0.521 - ETA: 0s - loss: 0.9868 - acc: 0.524 - ETA: 0s - loss: 0.9843 - acc: 0.524 - ETA: 0s - loss: 0.9832 - acc: 0.524 - ETA: 0s - loss: 0.9842 - acc: 0.524 - ETA: 0s - loss: 0.9843 - acc: 0.524 - ETA: 0s - loss: 0.9846 - acc: 0.524 - ETA: 0s - loss: 0.9853 - acc: 0.522 - ETA: 0s - loss: 0.9852 - acc: 0.522 - ETA: 0s - loss: 0.9854 - acc: 0.521 - ETA: 0s - loss: 0.9873 - acc: 0.521 - ETA: 0s - loss: 0.9864 - acc: 0.522 - ETA: 0s - loss: 0.9866 - acc: 0.522 - ETA: 0s - loss: 0.9887 - acc: 0.520 - ETA: 0s - loss: 0.9877 - acc: 0.522 - ETA: 0s - loss: 0.9886 - acc: 0.520 - ETA: 0s - loss: 0.9885 - acc: 0.520 - 2s 283us/sample - loss: 0.9876 - acc: 0.5215 - val_loss: 0.9823 - val_acc: 0.5237\n",
      "Epoch 6/10\n",
      "7917/7917 [==============================] - ETA: 5s - loss: 0.9359 - acc: 0.600 - ETA: 1s - loss: 1.0304 - acc: 0.507 - ETA: 1s - loss: 0.9895 - acc: 0.523 - ETA: 1s - loss: 1.0015 - acc: 0.509 - ETA: 1s - loss: 0.9936 - acc: 0.519 - ETA: 1s - loss: 0.9933 - acc: 0.521 - ETA: 1s - loss: 0.9983 - acc: 0.515 - ETA: 1s - loss: 0.9951 - acc: 0.515 - ETA: 1s - loss: 0.9980 - acc: 0.511 - ETA: 1s - loss: 0.9932 - acc: 0.514 - ETA: 1s - loss: 0.9948 - acc: 0.513 - ETA: 0s - loss: 0.9930 - acc: 0.512 - ETA: 0s - loss: 0.9922 - acc: 0.514 - ETA: 0s - loss: 0.9893 - acc: 0.517 - ETA: 0s - loss: 0.9921 - acc: 0.516 - ETA: 0s - loss: 0.9920 - acc: 0.517 - ETA: 0s - loss: 0.9917 - acc: 0.518 - ETA: 0s - loss: 0.9916 - acc: 0.518 - ETA: 0s - loss: 0.9906 - acc: 0.519 - ETA: 0s - loss: 0.9916 - acc: 0.517 - ETA: 0s - loss: 0.9912 - acc: 0.517 - ETA: 0s - loss: 0.9911 - acc: 0.517 - ETA: 0s - loss: 0.9908 - acc: 0.516 - ETA: 0s - loss: 0.9925 - acc: 0.514 - ETA: 0s - loss: 0.9909 - acc: 0.516 - ETA: 0s - loss: 0.9906 - acc: 0.516 - ETA: 0s - loss: 0.9898 - acc: 0.517 - ETA: 0s - loss: 0.9899 - acc: 0.518 - ETA: 0s - loss: 0.9882 - acc: 0.520 - ETA: 0s - loss: 0.9893 - acc: 0.519 - ETA: 0s - loss: 0.9889 - acc: 0.519 - ETA: 0s - loss: 0.9879 - acc: 0.520 - 2s 236us/sample - loss: 0.9871 - acc: 0.5213 - val_loss: 0.9862 - val_acc: 0.5270\n",
      "Epoch 7/10\n",
      "7917/7917 [==============================] - ETA: 1s - loss: 0.9034 - acc: 0.600 - ETA: 1s - loss: 0.9187 - acc: 0.568 - ETA: 1s - loss: 0.9419 - acc: 0.552 - ETA: 1s - loss: 0.9689 - acc: 0.536 - ETA: 1s - loss: 0.9711 - acc: 0.538 - ETA: 1s - loss: 0.9642 - acc: 0.550 - ETA: 1s - loss: 0.9811 - acc: 0.526 - ETA: 1s - loss: 0.9831 - acc: 0.523 - ETA: 1s - loss: 0.9897 - acc: 0.515 - ETA: 1s - loss: 0.9892 - acc: 0.519 - ETA: 1s - loss: 0.9879 - acc: 0.518 - ETA: 1s - loss: 0.9858 - acc: 0.522 - ETA: 0s - loss: 0.9817 - acc: 0.523 - ETA: 0s - loss: 0.9887 - acc: 0.518 - ETA: 0s - loss: 0.9854 - acc: 0.521 - ETA: 0s - loss: 0.9852 - acc: 0.523 - ETA: 0s - loss: 0.9837 - acc: 0.523 - ETA: 0s - loss: 0.9828 - acc: 0.525 - ETA: 0s - loss: 0.9819 - acc: 0.525 - ETA: 0s - loss: 0.9842 - acc: 0.522 - ETA: 0s - loss: 0.9845 - acc: 0.521 - ETA: 0s - loss: 0.9849 - acc: 0.521 - ETA: 0s - loss: 0.9857 - acc: 0.522 - ETA: 0s - loss: 0.9880 - acc: 0.519 - ETA: 0s - loss: 0.9897 - acc: 0.518 - ETA: 0s - loss: 0.9905 - acc: 0.518 - ETA: 0s - loss: 0.9903 - acc: 0.518 - ETA: 0s - loss: 0.9901 - acc: 0.520 - ETA: 0s - loss: 0.9878 - acc: 0.522 - ETA: 0s - loss: 0.9879 - acc: 0.521 - ETA: 0s - loss: 0.9882 - acc: 0.520 - 2s 222us/sample - loss: 0.9877 - acc: 0.5209 - val_loss: 0.9824 - val_acc: 0.5237\n",
      "Epoch 8/10\n",
      "7917/7917 [==============================] - ETA: 3s - loss: 1.0631 - acc: 0.480 - ETA: 1s - loss: 1.0002 - acc: 0.505 - ETA: 1s - loss: 0.9884 - acc: 0.525 - ETA: 1s - loss: 0.9943 - acc: 0.518 - ETA: 1s - loss: 0.9976 - acc: 0.514 - ETA: 1s - loss: 0.9978 - acc: 0.514 - ETA: 1s - loss: 0.9868 - acc: 0.522 - ETA: 1s - loss: 0.9830 - acc: 0.523 - ETA: 1s - loss: 0.9835 - acc: 0.525 - ETA: 1s - loss: 0.9806 - acc: 0.528 - ETA: 0s - loss: 0.9802 - acc: 0.528 - ETA: 0s - loss: 0.9797 - acc: 0.529 - ETA: 0s - loss: 0.9796 - acc: 0.528 - ETA: 0s - loss: 0.9845 - acc: 0.523 - ETA: 0s - loss: 0.9845 - acc: 0.522 - ETA: 0s - loss: 0.9859 - acc: 0.518 - ETA: 0s - loss: 0.9864 - acc: 0.518 - ETA: 0s - loss: 0.9865 - acc: 0.519 - ETA: 0s - loss: 0.9880 - acc: 0.518 - ETA: 0s - loss: 0.9880 - acc: 0.518 - ETA: 0s - loss: 0.9871 - acc: 0.519 - ETA: 0s - loss: 0.9871 - acc: 0.520 - ETA: 0s - loss: 0.9876 - acc: 0.518 - ETA: 0s - loss: 0.9876 - acc: 0.518 - ETA: 0s - loss: 0.9874 - acc: 0.518 - ETA: 0s - loss: 0.9875 - acc: 0.519 - ETA: 0s - loss: 0.9867 - acc: 0.519 - ETA: 0s - loss: 0.9860 - acc: 0.519 - ETA: 0s - loss: 0.9848 - acc: 0.519 - ETA: 0s - loss: 0.9856 - acc: 0.519 - 2s 222us/sample - loss: 0.9866 - acc: 0.5193 - val_loss: 0.9797 - val_acc: 0.5281\n",
      "Epoch 9/10\n",
      "7917/7917 [==============================] - ETA: 2s - loss: 0.9673 - acc: 0.480 - ETA: 1s - loss: 0.9916 - acc: 0.513 - ETA: 1s - loss: 1.0076 - acc: 0.495 - ETA: 1s - loss: 1.0105 - acc: 0.482 - ETA: 1s - loss: 1.0031 - acc: 0.489 - ETA: 1s - loss: 0.9979 - acc: 0.499 - ETA: 1s - loss: 0.9977 - acc: 0.497 - ETA: 1s - loss: 0.9950 - acc: 0.506 - ETA: 1s - loss: 0.9905 - acc: 0.507 - ETA: 1s - loss: 0.9852 - acc: 0.512 - ETA: 1s - loss: 0.9874 - acc: 0.512 - ETA: 0s - loss: 0.9919 - acc: 0.508 - ETA: 0s - loss: 0.9877 - acc: 0.511 - ETA: 0s - loss: 0.9878 - acc: 0.513 - ETA: 0s - loss: 0.9856 - acc: 0.515 - ETA: 0s - loss: 0.9851 - acc: 0.516 - ETA: 0s - loss: 0.9860 - acc: 0.516 - ETA: 0s - loss: 0.9853 - acc: 0.517 - ETA: 0s - loss: 0.9862 - acc: 0.516 - ETA: 0s - loss: 0.9856 - acc: 0.517 - ETA: 0s - loss: 0.9846 - acc: 0.519 - ETA: 0s - loss: 0.9833 - acc: 0.521 - ETA: 0s - loss: 0.9857 - acc: 0.520 - ETA: 0s - loss: 0.9856 - acc: 0.519 - ETA: 0s - loss: 0.9871 - acc: 0.518 - ETA: 0s - loss: 0.9877 - acc: 0.518 - ETA: 0s - loss: 0.9879 - acc: 0.518 - ETA: 0s - loss: 0.9887 - acc: 0.518 - ETA: 0s - loss: 0.9891 - acc: 0.517 - ETA: 0s - loss: 0.9885 - acc: 0.517 - ETA: 0s - loss: 0.9877 - acc: 0.518 - 2s 224us/sample - loss: 0.9862 - acc: 0.5200 - val_loss: 0.9885 - val_acc: 0.5259\n",
      "Epoch 10/10\n",
      "7917/7917 [==============================] - ETA: 3s - loss: 1.0417 - acc: 0.520 - ETA: 1s - loss: 0.9560 - acc: 0.556 - ETA: 1s - loss: 0.9689 - acc: 0.547 - ETA: 1s - loss: 0.9912 - acc: 0.517 - ETA: 1s - loss: 0.9911 - acc: 0.521 - ETA: 1s - loss: 0.9830 - acc: 0.529 - ETA: 1s - loss: 0.9899 - acc: 0.520 - ETA: 1s - loss: 0.9860 - acc: 0.524 - ETA: 1s - loss: 0.9817 - acc: 0.528 - ETA: 1s - loss: 0.9761 - acc: 0.530 - ETA: 1s - loss: 0.9829 - acc: 0.525 - ETA: 1s - loss: 0.9828 - acc: 0.522 - ETA: 0s - loss: 0.9816 - acc: 0.523 - ETA: 0s - loss: 0.9837 - acc: 0.525 - ETA: 0s - loss: 0.9843 - acc: 0.524 - ETA: 0s - loss: 0.9868 - acc: 0.520 - ETA: 0s - loss: 0.9859 - acc: 0.522 - ETA: 0s - loss: 0.9846 - acc: 0.523 - ETA: 0s - loss: 0.9834 - acc: 0.524 - ETA: 0s - loss: 0.9840 - acc: 0.523 - ETA: 0s - loss: 0.9818 - acc: 0.524 - ETA: 0s - loss: 0.9841 - acc: 0.522 - ETA: 0s - loss: 0.9858 - acc: 0.521 - ETA: 0s - loss: 0.9863 - acc: 0.521 - ETA: 0s - loss: 0.9861 - acc: 0.519 - ETA: 0s - loss: 0.9856 - acc: 0.520 - ETA: 0s - loss: 0.9845 - acc: 0.521 - ETA: 0s - loss: 0.9844 - acc: 0.522 - ETA: 0s - loss: 0.9838 - acc: 0.523 - ETA: 0s - loss: 0.9849 - acc: 0.523 - 2s 219us/sample - loss: 0.9857 - acc: 0.5217 - val_loss: 0.9842 - val_acc: 0.5226\n"
     ]
    },
    {
     "data": {
      "text/html": [
       "<span style=\"color:#4527A0\"><h1 style=\"font-size:18px\">Trial complete</h1></span>"
      ],
      "text/plain": [
       "<IPython.core.display.HTML object>"
      ]
     },
     "metadata": {},
     "output_type": "display_data"
    },
    {
     "data": {
      "text/html": [
       "<span style=\"color:#4527A0\"><h1 style=\"font-size:18px\">Trial summary</h1></span>"
      ],
      "text/plain": [
       "<IPython.core.display.HTML object>"
      ]
     },
     "metadata": {},
     "output_type": "display_data"
    },
    {
     "data": {
      "text/html": [
       "<span style=\"color:cyan\"> |-Trial ID: ef67640cd533283a2bf8c68257f73847</span>"
      ],
      "text/plain": [
       "<IPython.core.display.HTML object>"
      ]
     },
     "metadata": {},
     "output_type": "display_data"
    },
    {
     "data": {
      "text/html": [
       "<span style=\"color:cyan\"> |-Score: 0.5280960202217102</span>"
      ],
      "text/plain": [
       "<IPython.core.display.HTML object>"
      ]
     },
     "metadata": {},
     "output_type": "display_data"
    },
    {
     "data": {
      "text/html": [
       "<span style=\"color:cyan\"> |-Best step: 0</span>"
      ],
      "text/plain": [
       "<IPython.core.display.HTML object>"
      ]
     },
     "metadata": {},
     "output_type": "display_data"
    },
    {
     "data": {
      "text/html": [
       "<span style=\"color:#7E57C2\"><h2 style=\"font-size:16px\">Hyperparameters:</h2></span>"
      ],
      "text/plain": [
       "<IPython.core.display.HTML object>"
      ]
     },
     "metadata": {},
     "output_type": "display_data"
    },
    {
     "data": {
      "text/html": [
       "<span style=\"color:cyan\"> |-layer_0_neurons: 110</span>"
      ],
      "text/plain": [
       "<IPython.core.display.HTML object>"
      ]
     },
     "metadata": {},
     "output_type": "display_data"
    },
    {
     "data": {
      "text/html": [
       "<span style=\"color:blue\"> |-layer_1_neurons: 150</span>"
      ],
      "text/plain": [
       "<IPython.core.display.HTML object>"
      ]
     },
     "metadata": {},
     "output_type": "display_data"
    },
    {
     "data": {
      "text/html": [
       "<span style=\"color:cyan\"> |-layer_2_neurons: 10</span>"
      ],
      "text/plain": [
       "<IPython.core.display.HTML object>"
      ]
     },
     "metadata": {},
     "output_type": "display_data"
    },
    {
     "data": {
      "text/html": [
       "<span style=\"color:blue\"> |-n_input_neurons: 150</span>"
      ],
      "text/plain": [
       "<IPython.core.display.HTML object>"
      ]
     },
     "metadata": {},
     "output_type": "display_data"
    },
    {
     "data": {
      "text/html": [
       "<span style=\"color:cyan\"> |-n_layers: 3</span>"
      ],
      "text/plain": [
       "<IPython.core.display.HTML object>"
      ]
     },
     "metadata": {},
     "output_type": "display_data"
    },
    {
     "name": "stdout",
     "output_type": "stream",
     "text": [
      "Train on 7917 samples, validate on 1833 samples\n",
      "Epoch 1/10\n",
      "7917/7917 [==============================] - ETA: 2:38 - loss: 1.0811 - acc: 0.520 - ETA: 15s - loss: 1.0920 - acc: 0.432 - ETA: 8s - loss: 1.0949 - acc: 0.4127 - ETA: 5s - loss: 1.0830 - acc: 0.426 - ETA: 4s - loss: 1.0694 - acc: 0.443 - ETA: 3s - loss: 1.0616 - acc: 0.451 - ETA: 3s - loss: 1.0511 - acc: 0.470 - ETA: 2s - loss: 1.0433 - acc: 0.477 - ETA: 3s - loss: 1.0435 - acc: 0.477 - ETA: 3s - loss: 1.0449 - acc: 0.475 - ETA: 3s - loss: 1.0440 - acc: 0.475 - ETA: 3s - loss: 1.0440 - acc: 0.477 - ETA: 3s - loss: 1.0396 - acc: 0.480 - ETA: 3s - loss: 1.0414 - acc: 0.478 - ETA: 2s - loss: 1.0351 - acc: 0.485 - ETA: 2s - loss: 1.0310 - acc: 0.486 - ETA: 2s - loss: 1.0268 - acc: 0.490 - ETA: 2s - loss: 1.0228 - acc: 0.494 - ETA: 2s - loss: 1.0195 - acc: 0.497 - ETA: 1s - loss: 1.0175 - acc: 0.498 - ETA: 1s - loss: 1.0162 - acc: 0.500 - ETA: 1s - loss: 1.0141 - acc: 0.502 - ETA: 1s - loss: 1.0144 - acc: 0.501 - ETA: 1s - loss: 1.0103 - acc: 0.504 - ETA: 1s - loss: 1.0118 - acc: 0.504 - ETA: 1s - loss: 1.0100 - acc: 0.506 - ETA: 1s - loss: 1.0124 - acc: 0.505 - ETA: 0s - loss: 1.0112 - acc: 0.506 - ETA: 0s - loss: 1.0106 - acc: 0.505 - ETA: 0s - loss: 1.0107 - acc: 0.504 - ETA: 0s - loss: 1.0084 - acc: 0.508 - ETA: 0s - loss: 1.0083 - acc: 0.508 - ETA: 0s - loss: 1.0080 - acc: 0.508 - ETA: 0s - loss: 1.0073 - acc: 0.509 - ETA: 0s - loss: 1.0075 - acc: 0.508 - ETA: 0s - loss: 1.0086 - acc: 0.507 - ETA: 0s - loss: 1.0090 - acc: 0.508 - ETA: 0s - loss: 1.0083 - acc: 0.508 - 3s 403us/sample - loss: 1.0076 - acc: 0.5095 - val_loss: 0.9847 - val_acc: 0.5221\n",
      "Epoch 2/10\n",
      "7917/7917 [==============================] - ETA: 2s - loss: 0.9627 - acc: 0.520 - ETA: 1s - loss: 0.9800 - acc: 0.553 - ETA: 1s - loss: 0.9978 - acc: 0.508 - ETA: 1s - loss: 0.9872 - acc: 0.526 - ETA: 1s - loss: 0.9973 - acc: 0.515 - ETA: 1s - loss: 0.9993 - acc: 0.510 - ETA: 1s - loss: 0.9906 - acc: 0.515 - ETA: 1s - loss: 0.9875 - acc: 0.514 - ETA: 1s - loss: 0.9923 - acc: 0.511 - ETA: 1s - loss: 0.9924 - acc: 0.513 - ETA: 1s - loss: 0.9966 - acc: 0.511 - ETA: 1s - loss: 0.9956 - acc: 0.511 - ETA: 1s - loss: 1.0004 - acc: 0.507 - ETA: 0s - loss: 1.0003 - acc: 0.507 - ETA: 0s - loss: 1.0014 - acc: 0.506 - ETA: 0s - loss: 0.9996 - acc: 0.507 - ETA: 0s - loss: 1.0004 - acc: 0.507 - ETA: 0s - loss: 0.9983 - acc: 0.508 - ETA: 0s - loss: 0.9961 - acc: 0.511 - ETA: 0s - loss: 0.9975 - acc: 0.510 - ETA: 0s - loss: 0.9964 - acc: 0.511 - ETA: 0s - loss: 0.9958 - acc: 0.514 - ETA: 0s - loss: 0.9939 - acc: 0.516 - ETA: 0s - loss: 0.9944 - acc: 0.515 - ETA: 0s - loss: 0.9939 - acc: 0.515 - ETA: 0s - loss: 0.9934 - acc: 0.516 - ETA: 0s - loss: 0.9936 - acc: 0.516 - ETA: 0s - loss: 0.9941 - acc: 0.515 - ETA: 0s - loss: 0.9937 - acc: 0.517 - ETA: 0s - loss: 0.9932 - acc: 0.518 - ETA: 0s - loss: 0.9928 - acc: 0.518 - ETA: 0s - loss: 0.9939 - acc: 0.517 - ETA: 0s - loss: 0.9932 - acc: 0.517 - ETA: 0s - loss: 0.9927 - acc: 0.517 - ETA: 0s - loss: 0.9927 - acc: 0.518 - 2s 262us/sample - loss: 0.9923 - acc: 0.5189 - val_loss: 0.9892 - val_acc: 0.5319\n",
      "Epoch 3/10\n",
      "7917/7917 [==============================] - ETA: 2s - loss: 1.0884 - acc: 0.600 - ETA: 2s - loss: 1.0319 - acc: 0.490 - ETA: 2s - loss: 1.0244 - acc: 0.497 - ETA: 2s - loss: 1.0067 - acc: 0.501 - ETA: 2s - loss: 1.0241 - acc: 0.484 - ETA: 1s - loss: 1.0217 - acc: 0.487 - ETA: 1s - loss: 1.0170 - acc: 0.491 - ETA: 1s - loss: 1.0123 - acc: 0.502 - ETA: 1s - loss: 1.0057 - acc: 0.510 - ETA: 1s - loss: 1.0072 - acc: 0.507 - ETA: 1s - loss: 1.0015 - acc: 0.515 - ETA: 1s - loss: 0.9995 - acc: 0.516 - ETA: 1s - loss: 0.9984 - acc: 0.516 - ETA: 1s - loss: 0.9929 - acc: 0.521 - ETA: 1s - loss: 1.0003 - acc: 0.513 - ETA: 1s - loss: 1.0003 - acc: 0.510 - ETA: 1s - loss: 1.0001 - acc: 0.509 - ETA: 1s - loss: 0.9990 - acc: 0.511 - ETA: 1s - loss: 1.0011 - acc: 0.509 - ETA: 1s - loss: 1.0002 - acc: 0.510 - ETA: 0s - loss: 0.9975 - acc: 0.512 - ETA: 0s - loss: 0.9932 - acc: 0.515 - ETA: 0s - loss: 0.9941 - acc: 0.515 - ETA: 0s - loss: 0.9927 - acc: 0.516 - ETA: 0s - loss: 0.9921 - acc: 0.516 - ETA: 0s - loss: 0.9932 - acc: 0.515 - ETA: 0s - loss: 0.9908 - acc: 0.517 - ETA: 0s - loss: 0.9914 - acc: 0.517 - ETA: 0s - loss: 0.9928 - acc: 0.514 - ETA: 0s - loss: 0.9926 - acc: 0.514 - ETA: 0s - loss: 0.9942 - acc: 0.512 - ETA: 0s - loss: 0.9935 - acc: 0.513 - ETA: 0s - loss: 0.9923 - acc: 0.515 - ETA: 0s - loss: 0.9921 - acc: 0.516 - ETA: 0s - loss: 0.9932 - acc: 0.514 - 2s 258us/sample - loss: 0.9919 - acc: 0.5159 - val_loss: 0.9835 - val_acc: 0.5254\n",
      "Epoch 4/10\n",
      "7917/7917 [==============================] - ETA: 1s - loss: 0.9529 - acc: 0.640 - ETA: 1s - loss: 1.0492 - acc: 0.458 - ETA: 1s - loss: 1.0353 - acc: 0.474 - ETA: 1s - loss: 1.0256 - acc: 0.473 - ETA: 1s - loss: 1.0135 - acc: 0.491 - ETA: 1s - loss: 1.0139 - acc: 0.490 - ETA: 1s - loss: 1.0076 - acc: 0.495 - ETA: 1s - loss: 1.0031 - acc: 0.495 - ETA: 1s - loss: 1.0004 - acc: 0.500 - ETA: 1s - loss: 0.9976 - acc: 0.502 - ETA: 1s - loss: 0.9938 - acc: 0.505 - ETA: 1s - loss: 0.9945 - acc: 0.505 - ETA: 1s - loss: 0.9948 - acc: 0.504 - ETA: 0s - loss: 0.9950 - acc: 0.505 - ETA: 0s - loss: 0.9943 - acc: 0.506 - ETA: 0s - loss: 0.9976 - acc: 0.504 - ETA: 0s - loss: 0.9988 - acc: 0.503 - ETA: 0s - loss: 0.9973 - acc: 0.505 - ETA: 0s - loss: 0.9974 - acc: 0.503 - ETA: 0s - loss: 0.9953 - acc: 0.505 - ETA: 0s - loss: 0.9935 - acc: 0.509 - ETA: 0s - loss: 0.9943 - acc: 0.508 - ETA: 0s - loss: 0.9934 - acc: 0.509 - ETA: 0s - loss: 0.9942 - acc: 0.509 - ETA: 0s - loss: 0.9940 - acc: 0.510 - ETA: 0s - loss: 0.9937 - acc: 0.509 - ETA: 0s - loss: 0.9925 - acc: 0.510 - ETA: 0s - loss: 0.9925 - acc: 0.510 - ETA: 0s - loss: 0.9907 - acc: 0.512 - ETA: 0s - loss: 0.9884 - acc: 0.514 - ETA: 0s - loss: 0.9877 - acc: 0.515 - ETA: 0s - loss: 0.9884 - acc: 0.515 - ETA: 0s - loss: 0.9889 - acc: 0.515 - 2s 241us/sample - loss: 0.9887 - acc: 0.5164 - val_loss: 0.9809 - val_acc: 0.5265\n",
      "Epoch 5/10\n",
      "7917/7917 [==============================] - ETA: 2s - loss: 1.0174 - acc: 0.480 - ETA: 1s - loss: 0.9874 - acc: 0.512 - ETA: 2s - loss: 0.9734 - acc: 0.524 - ETA: 2s - loss: 0.9744 - acc: 0.525 - ETA: 2s - loss: 0.9780 - acc: 0.523 - ETA: 2s - loss: 0.9782 - acc: 0.522 - ETA: 3s - loss: 0.9734 - acc: 0.525 - ETA: 3s - loss: 0.9748 - acc: 0.525 - ETA: 3s - loss: 0.9796 - acc: 0.525 - ETA: 3s - loss: 0.9834 - acc: 0.519 - ETA: 2s - loss: 0.9844 - acc: 0.520 - ETA: 2s - loss: 0.9914 - acc: 0.512 - ETA: 2s - loss: 0.9920 - acc: 0.511 - ETA: 2s - loss: 0.9940 - acc: 0.506 - ETA: 1s - loss: 0.9914 - acc: 0.512 - ETA: 1s - loss: 0.9932 - acc: 0.516 - ETA: 1s - loss: 0.9904 - acc: 0.517 - ETA: 1s - loss: 0.9900 - acc: 0.516 - ETA: 1s - loss: 0.9922 - acc: 0.513 - ETA: 1s - loss: 0.9948 - acc: 0.510 - ETA: 1s - loss: 0.9968 - acc: 0.507 - ETA: 1s - loss: 0.9955 - acc: 0.510 - ETA: 1s - loss: 0.9959 - acc: 0.510 - ETA: 1s - loss: 0.9965 - acc: 0.509 - ETA: 1s - loss: 0.9961 - acc: 0.509 - ETA: 1s - loss: 0.9975 - acc: 0.509 - ETA: 1s - loss: 0.9990 - acc: 0.508 - ETA: 1s - loss: 0.9986 - acc: 0.510 - ETA: 0s - loss: 0.9975 - acc: 0.512 - ETA: 0s - loss: 0.9965 - acc: 0.513 - ETA: 0s - loss: 0.9939 - acc: 0.514 - ETA: 0s - loss: 0.9942 - acc: 0.515 - ETA: 0s - loss: 0.9943 - acc: 0.515 - ETA: 0s - loss: 0.9929 - acc: 0.516 - ETA: 0s - loss: 0.9919 - acc: 0.517 - ETA: 0s - loss: 0.9905 - acc: 0.518 - ETA: 0s - loss: 0.9893 - acc: 0.519 - ETA: 0s - loss: 0.9896 - acc: 0.519 - ETA: 0s - loss: 0.9890 - acc: 0.518 - ETA: 0s - loss: 0.9896 - acc: 0.518 - 2s 290us/sample - loss: 0.9876 - acc: 0.5199 - val_loss: 0.9814 - val_acc: 0.5308\n",
      "Epoch 6/10\n",
      "7917/7917 [==============================] - ETA: 4s - loss: 0.9371 - acc: 0.600 - ETA: 1s - loss: 0.9712 - acc: 0.545 - ETA: 1s - loss: 0.9719 - acc: 0.542 - ETA: 1s - loss: 0.9768 - acc: 0.530 - ETA: 1s - loss: 0.9851 - acc: 0.516 - ETA: 1s - loss: 0.9909 - acc: 0.518 - ETA: 1s - loss: 0.9919 - acc: 0.520 - ETA: 1s - loss: 0.9857 - acc: 0.523 - ETA: 1s - loss: 0.9863 - acc: 0.523 - ETA: 1s - loss: 0.9831 - acc: 0.526 - ETA: 1s - loss: 0.9825 - acc: 0.525 - ETA: 1s - loss: 0.9794 - acc: 0.525 - ETA: 0s - loss: 0.9800 - acc: 0.523 - ETA: 0s - loss: 0.9822 - acc: 0.523 - ETA: 0s - loss: 0.9857 - acc: 0.520 - ETA: 0s - loss: 0.9883 - acc: 0.517 - ETA: 0s - loss: 0.9893 - acc: 0.515 - ETA: 0s - loss: 0.9885 - acc: 0.516 - ETA: 0s - loss: 0.9870 - acc: 0.518 - ETA: 0s - loss: 0.9858 - acc: 0.518 - ETA: 0s - loss: 0.9867 - acc: 0.518 - ETA: 0s - loss: 0.9880 - acc: 0.518 - ETA: 0s - loss: 0.9894 - acc: 0.517 - ETA: 0s - loss: 0.9894 - acc: 0.518 - ETA: 0s - loss: 0.9878 - acc: 0.519 - ETA: 0s - loss: 0.9896 - acc: 0.518 - ETA: 0s - loss: 0.9902 - acc: 0.518 - ETA: 0s - loss: 0.9891 - acc: 0.520 - ETA: 0s - loss: 0.9889 - acc: 0.518 - ETA: 0s - loss: 0.9898 - acc: 0.517 - ETA: 0s - loss: 0.9882 - acc: 0.518 - 2s 222us/sample - loss: 0.9878 - acc: 0.5186 - val_loss: 0.9878 - val_acc: 0.5248\n",
      "Epoch 7/10\n",
      "7917/7917 [==============================] - ETA: 5s - loss: 1.0578 - acc: 0.480 - ETA: 1s - loss: 0.9794 - acc: 0.520 - ETA: 1s - loss: 0.9662 - acc: 0.530 - ETA: 1s - loss: 0.9830 - acc: 0.521 - ETA: 1s - loss: 0.9853 - acc: 0.523 - ETA: 1s - loss: 0.9844 - acc: 0.525 - ETA: 1s - loss: 0.9895 - acc: 0.517 - ETA: 1s - loss: 0.9948 - acc: 0.509 - ETA: 1s - loss: 0.9988 - acc: 0.505 - ETA: 1s - loss: 1.0018 - acc: 0.502 - ETA: 1s - loss: 0.9965 - acc: 0.507 - ETA: 1s - loss: 0.9952 - acc: 0.507 - ETA: 1s - loss: 0.9961 - acc: 0.508 - ETA: 0s - loss: 0.9953 - acc: 0.509 - ETA: 0s - loss: 0.9930 - acc: 0.511 - ETA: 0s - loss: 0.9911 - acc: 0.513 - ETA: 0s - loss: 0.9892 - acc: 0.515 - ETA: 0s - loss: 0.9910 - acc: 0.514 - ETA: 0s - loss: 0.9895 - acc: 0.515 - ETA: 0s - loss: 0.9897 - acc: 0.514 - ETA: 0s - loss: 0.9895 - acc: 0.515 - ETA: 0s - loss: 0.9905 - acc: 0.515 - ETA: 0s - loss: 0.9900 - acc: 0.515 - ETA: 0s - loss: 0.9892 - acc: 0.517 - ETA: 0s - loss: 0.9899 - acc: 0.516 - ETA: 0s - loss: 0.9896 - acc: 0.517 - ETA: 0s - loss: 0.9892 - acc: 0.517 - ETA: 0s - loss: 0.9880 - acc: 0.519 - ETA: 0s - loss: 0.9892 - acc: 0.518 - ETA: 0s - loss: 0.9880 - acc: 0.520 - ETA: 0s - loss: 0.9882 - acc: 0.519 - ETA: 0s - loss: 0.9882 - acc: 0.518 - ETA: 0s - loss: 0.9874 - acc: 0.520 - ETA: 0s - loss: 0.9865 - acc: 0.521 - ETA: 0s - loss: 0.9857 - acc: 0.521 - ETA: 0s - loss: 0.9849 - acc: 0.521 - 2s 265us/sample - loss: 0.9856 - acc: 0.5215 - val_loss: 0.9906 - val_acc: 0.5265\n",
      "Epoch 8/10\n",
      "7917/7917 [==============================] - ETA: 2s - loss: 1.0255 - acc: 0.440 - ETA: 1s - loss: 1.0104 - acc: 0.516 - ETA: 1s - loss: 1.0203 - acc: 0.508 - ETA: 1s - loss: 1.0102 - acc: 0.510 - ETA: 1s - loss: 1.0085 - acc: 0.510 - ETA: 1s - loss: 1.0034 - acc: 0.511 - ETA: 1s - loss: 0.9981 - acc: 0.506 - ETA: 1s - loss: 0.9943 - acc: 0.506 - ETA: 1s - loss: 0.9932 - acc: 0.510 - ETA: 1s - loss: 0.9905 - acc: 0.510 - ETA: 1s - loss: 0.9936 - acc: 0.511 - ETA: 1s - loss: 0.9929 - acc: 0.510 - ETA: 1s - loss: 0.9902 - acc: 0.511 - ETA: 0s - loss: 0.9894 - acc: 0.513 - ETA: 0s - loss: 0.9886 - acc: 0.514 - ETA: 0s - loss: 0.9907 - acc: 0.514 - ETA: 0s - loss: 0.9904 - acc: 0.516 - ETA: 0s - loss: 0.9883 - acc: 0.519 - ETA: 0s - loss: 0.9853 - acc: 0.522 - ETA: 0s - loss: 0.9851 - acc: 0.521 - ETA: 0s - loss: 0.9843 - acc: 0.521 - ETA: 0s - loss: 0.9826 - acc: 0.522 - ETA: 0s - loss: 0.9828 - acc: 0.523 - ETA: 0s - loss: 0.9843 - acc: 0.521 - ETA: 0s - loss: 0.9849 - acc: 0.521 - ETA: 0s - loss: 0.9847 - acc: 0.522 - ETA: 0s - loss: 0.9857 - acc: 0.520 - ETA: 0s - loss: 0.9844 - acc: 0.522 - ETA: 0s - loss: 0.9867 - acc: 0.521 - ETA: 0s - loss: 0.9865 - acc: 0.521 - ETA: 0s - loss: 0.9866 - acc: 0.521 - ETA: 0s - loss: 0.9870 - acc: 0.521 - ETA: 0s - loss: 0.9869 - acc: 0.521 - ETA: 0s - loss: 0.9883 - acc: 0.520 - 2s 261us/sample - loss: 0.9866 - acc: 0.5229 - val_loss: 0.9855 - val_acc: 0.5254\n",
      "Epoch 9/10\n",
      "7917/7917 [==============================] - ETA: 2s - loss: 1.0223 - acc: 0.520 - ETA: 1s - loss: 0.9973 - acc: 0.516 - ETA: 1s - loss: 1.0135 - acc: 0.495 - ETA: 1s - loss: 1.0045 - acc: 0.505 - ETA: 1s - loss: 0.9996 - acc: 0.514 - ETA: 1s - loss: 1.0057 - acc: 0.501 - ETA: 1s - loss: 0.9979 - acc: 0.510 - ETA: 1s - loss: 0.9850 - acc: 0.518 - ETA: 1s - loss: 0.9839 - acc: 0.522 - ETA: 1s - loss: 0.9833 - acc: 0.522 - ETA: 1s - loss: 0.9858 - acc: 0.520 - ETA: 1s - loss: 0.9880 - acc: 0.519 - ETA: 0s - loss: 0.9883 - acc: 0.518 - ETA: 0s - loss: 0.9868 - acc: 0.517 - ETA: 0s - loss: 0.9858 - acc: 0.517 - ETA: 0s - loss: 0.9868 - acc: 0.517 - ETA: 0s - loss: 0.9882 - acc: 0.516 - ETA: 0s - loss: 0.9882 - acc: 0.514 - ETA: 0s - loss: 0.9895 - acc: 0.513 - ETA: 0s - loss: 0.9897 - acc: 0.512 - ETA: 0s - loss: 0.9912 - acc: 0.513 - ETA: 0s - loss: 0.9907 - acc: 0.514 - ETA: 0s - loss: 0.9896 - acc: 0.514 - ETA: 0s - loss: 0.9885 - acc: 0.514 - ETA: 0s - loss: 0.9897 - acc: 0.513 - ETA: 0s - loss: 0.9874 - acc: 0.516 - ETA: 0s - loss: 0.9866 - acc: 0.517 - ETA: 0s - loss: 0.9881 - acc: 0.516 - ETA: 0s - loss: 0.9886 - acc: 0.516 - ETA: 0s - loss: 0.9897 - acc: 0.517 - ETA: 0s - loss: 0.9892 - acc: 0.516 - ETA: 0s - loss: 0.9891 - acc: 0.516 - ETA: 0s - loss: 0.9868 - acc: 0.519 - ETA: 0s - loss: 0.9860 - acc: 0.520 - 2s 278us/sample - loss: 0.9859 - acc: 0.5205 - val_loss: 0.9980 - val_acc: 0.5286\n",
      "Epoch 10/10\n",
      "7917/7917 [==============================] - ETA: 2s - loss: 0.9912 - acc: 0.560 - ETA: 1s - loss: 1.0517 - acc: 0.504 - ETA: 1s - loss: 1.0087 - acc: 0.531 - ETA: 1s - loss: 1.0112 - acc: 0.518 - ETA: 1s - loss: 1.0064 - acc: 0.521 - ETA: 1s - loss: 1.0047 - acc: 0.515 - ETA: 1s - loss: 1.0095 - acc: 0.502 - ETA: 1s - loss: 1.0045 - acc: 0.504 - ETA: 1s - loss: 1.0004 - acc: 0.507 - ETA: 1s - loss: 0.9978 - acc: 0.507 - ETA: 1s - loss: 0.9938 - acc: 0.508 - ETA: 1s - loss: 0.9894 - acc: 0.510 - ETA: 1s - loss: 0.9917 - acc: 0.508 - ETA: 1s - loss: 0.9901 - acc: 0.510 - ETA: 1s - loss: 0.9893 - acc: 0.513 - ETA: 0s - loss: 0.9848 - acc: 0.516 - ETA: 0s - loss: 0.9873 - acc: 0.518 - ETA: 0s - loss: 0.9830 - acc: 0.521 - ETA: 0s - loss: 0.9816 - acc: 0.523 - ETA: 0s - loss: 0.9831 - acc: 0.524 - ETA: 0s - loss: 0.9825 - acc: 0.525 - ETA: 0s - loss: 0.9838 - acc: 0.523 - ETA: 0s - loss: 0.9837 - acc: 0.523 - ETA: 0s - loss: 0.9818 - acc: 0.525 - ETA: 0s - loss: 0.9827 - acc: 0.523 - ETA: 0s - loss: 0.9832 - acc: 0.523 - ETA: 0s - loss: 0.9864 - acc: 0.521 - ETA: 0s - loss: 0.9864 - acc: 0.521 - ETA: 0s - loss: 0.9873 - acc: 0.521 - ETA: 0s - loss: 0.9872 - acc: 0.520 - ETA: 0s - loss: 0.9873 - acc: 0.521 - ETA: 0s - loss: 0.9881 - acc: 0.520 - ETA: 0s - loss: 0.9882 - acc: 0.520 - 2s 238us/sample - loss: 0.9879 - acc: 0.5199 - val_loss: 0.9813 - val_acc: 0.5297\n"
     ]
    },
    {
     "data": {
      "text/html": [
       "<span style=\"color:#4527A0\"><h1 style=\"font-size:18px\">Trial complete</h1></span>"
      ],
      "text/plain": [
       "<IPython.core.display.HTML object>"
      ]
     },
     "metadata": {},
     "output_type": "display_data"
    },
    {
     "data": {
      "text/html": [
       "<span style=\"color:#4527A0\"><h1 style=\"font-size:18px\">Trial summary</h1></span>"
      ],
      "text/plain": [
       "<IPython.core.display.HTML object>"
      ]
     },
     "metadata": {},
     "output_type": "display_data"
    },
    {
     "data": {
      "text/html": [
       "<span style=\"color:cyan\"> |-Trial ID: c1f0572a4cfa09470cd768d310137ea4</span>"
      ],
      "text/plain": [
       "<IPython.core.display.HTML object>"
      ]
     },
     "metadata": {},
     "output_type": "display_data"
    },
    {
     "data": {
      "text/html": [
       "<span style=\"color:cyan\"> |-Score: 0.5319148898124695</span>"
      ],
      "text/plain": [
       "<IPython.core.display.HTML object>"
      ]
     },
     "metadata": {},
     "output_type": "display_data"
    },
    {
     "data": {
      "text/html": [
       "<span style=\"color:cyan\"> |-Best step: 0</span>"
      ],
      "text/plain": [
       "<IPython.core.display.HTML object>"
      ]
     },
     "metadata": {},
     "output_type": "display_data"
    },
    {
     "data": {
      "text/html": [
       "<span style=\"color:#7E57C2\"><h2 style=\"font-size:16px\">Hyperparameters:</h2></span>"
      ],
      "text/plain": [
       "<IPython.core.display.HTML object>"
      ]
     },
     "metadata": {},
     "output_type": "display_data"
    },
    {
     "data": {
      "text/html": [
       "<span style=\"color:cyan\"> |-layer_0_neurons: 130</span>"
      ],
      "text/plain": [
       "<IPython.core.display.HTML object>"
      ]
     },
     "metadata": {},
     "output_type": "display_data"
    },
    {
     "data": {
      "text/html": [
       "<span style=\"color:blue\"> |-layer_1_neurons: 170</span>"
      ],
      "text/plain": [
       "<IPython.core.display.HTML object>"
      ]
     },
     "metadata": {},
     "output_type": "display_data"
    },
    {
     "data": {
      "text/html": [
       "<span style=\"color:cyan\"> |-layer_2_neurons: 170</span>"
      ],
      "text/plain": [
       "<IPython.core.display.HTML object>"
      ]
     },
     "metadata": {},
     "output_type": "display_data"
    },
    {
     "data": {
      "text/html": [
       "<span style=\"color:blue\"> |-n_input_neurons: 170</span>"
      ],
      "text/plain": [
       "<IPython.core.display.HTML object>"
      ]
     },
     "metadata": {},
     "output_type": "display_data"
    },
    {
     "data": {
      "text/html": [
       "<span style=\"color:cyan\"> |-n_layers: 2</span>"
      ],
      "text/plain": [
       "<IPython.core.display.HTML object>"
      ]
     },
     "metadata": {},
     "output_type": "display_data"
    },
    {
     "name": "stdout",
     "output_type": "stream",
     "text": [
      "Train on 7917 samples, validate on 1833 samples\n",
      "Epoch 1/10\n",
      "7917/7917 [==============================] - ETA: 2:19 - loss: 1.0990 - acc: 0.320 - ETA: 9s - loss: 1.0650 - acc: 0.4575  - ETA: 5s - loss: 1.0557 - acc: 0.458 - ETA: 3s - loss: 1.0546 - acc: 0.473 - ETA: 2s - loss: 1.0447 - acc: 0.473 - ETA: 2s - loss: 1.0417 - acc: 0.474 - ETA: 2s - loss: 1.0356 - acc: 0.480 - ETA: 1s - loss: 1.0301 - acc: 0.488 - ETA: 1s - loss: 1.0269 - acc: 0.494 - ETA: 1s - loss: 1.0196 - acc: 0.501 - ETA: 1s - loss: 1.0172 - acc: 0.502 - ETA: 1s - loss: 1.0161 - acc: 0.502 - ETA: 0s - loss: 1.0162 - acc: 0.502 - ETA: 0s - loss: 1.0115 - acc: 0.507 - ETA: 0s - loss: 1.0107 - acc: 0.508 - ETA: 0s - loss: 1.0097 - acc: 0.509 - ETA: 0s - loss: 1.0041 - acc: 0.515 - ETA: 0s - loss: 1.0034 - acc: 0.515 - ETA: 0s - loss: 1.0051 - acc: 0.511 - ETA: 0s - loss: 1.0056 - acc: 0.510 - ETA: 0s - loss: 1.0060 - acc: 0.508 - ETA: 0s - loss: 1.0051 - acc: 0.508 - ETA: 0s - loss: 1.0043 - acc: 0.510 - 2s 273us/sample - loss: 1.0038 - acc: 0.5099 - val_loss: 0.9851 - val_acc: 0.5177\n",
      "Epoch 2/10\n",
      "7917/7917 [==============================] - ETA: 1s - loss: 1.1314 - acc: 0.320 - ETA: 1s - loss: 0.9889 - acc: 0.509 - ETA: 1s - loss: 0.9883 - acc: 0.528 - ETA: 1s - loss: 0.9886 - acc: 0.527 - ETA: 0s - loss: 0.9761 - acc: 0.534 - ETA: 0s - loss: 0.9835 - acc: 0.528 - ETA: 0s - loss: 0.9900 - acc: 0.524 - ETA: 0s - loss: 0.9878 - acc: 0.524 - ETA: 0s - loss: 0.9868 - acc: 0.524 - ETA: 0s - loss: 0.9846 - acc: 0.526 - ETA: 0s - loss: 0.9855 - acc: 0.526 - ETA: 0s - loss: 0.9854 - acc: 0.526 - ETA: 0s - loss: 0.9834 - acc: 0.530 - ETA: 0s - loss: 0.9857 - acc: 0.527 - ETA: 0s - loss: 0.9842 - acc: 0.528 - ETA: 0s - loss: 0.9874 - acc: 0.524 - ETA: 0s - loss: 0.9871 - acc: 0.524 - ETA: 0s - loss: 0.9859 - acc: 0.526 - ETA: 0s - loss: 0.9867 - acc: 0.525 - ETA: 0s - loss: 0.9857 - acc: 0.525 - ETA: 0s - loss: 0.9871 - acc: 0.523 - ETA: 0s - loss: 0.9890 - acc: 0.521 - ETA: 0s - loss: 0.9905 - acc: 0.518 - ETA: 0s - loss: 0.9917 - acc: 0.517 - 1s 185us/sample - loss: 0.9916 - acc: 0.5175 - val_loss: 0.9863 - val_acc: 0.5248\n",
      "Epoch 3/10\n",
      "7917/7917 [==============================] - ETA: 2s - loss: 0.9703 - acc: 0.600 - ETA: 1s - loss: 0.9827 - acc: 0.541 - ETA: 1s - loss: 1.0206 - acc: 0.491 - ETA: 0s - loss: 1.0003 - acc: 0.513 - ETA: 0s - loss: 0.9969 - acc: 0.516 - ETA: 0s - loss: 0.9974 - acc: 0.511 - ETA: 0s - loss: 0.9911 - acc: 0.515 - ETA: 0s - loss: 0.9932 - acc: 0.514 - ETA: 0s - loss: 0.9963 - acc: 0.509 - ETA: 0s - loss: 0.9913 - acc: 0.515 - ETA: 0s - loss: 0.9914 - acc: 0.516 - ETA: 0s - loss: 0.9922 - acc: 0.515 - ETA: 0s - loss: 0.9922 - acc: 0.515 - ETA: 0s - loss: 0.9927 - acc: 0.514 - ETA: 0s - loss: 0.9936 - acc: 0.513 - ETA: 0s - loss: 0.9927 - acc: 0.516 - ETA: 0s - loss: 0.9913 - acc: 0.516 - ETA: 0s - loss: 0.9901 - acc: 0.517 - ETA: 0s - loss: 0.9946 - acc: 0.512 - ETA: 0s - loss: 0.9949 - acc: 0.512 - ETA: 0s - loss: 0.9968 - acc: 0.511 - ETA: 0s - loss: 0.9979 - acc: 0.510 - ETA: 0s - loss: 0.9960 - acc: 0.512 - ETA: 0s - loss: 0.9958 - acc: 0.513 - ETA: 0s - loss: 0.9959 - acc: 0.513 - ETA: 0s - loss: 0.9941 - acc: 0.515 - ETA: 0s - loss: 0.9914 - acc: 0.517 - ETA: 0s - loss: 0.9891 - acc: 0.518 - ETA: 0s - loss: 0.9890 - acc: 0.518 - ETA: 0s - loss: 0.9897 - acc: 0.518 - ETA: 0s - loss: 0.9894 - acc: 0.518 - ETA: 0s - loss: 0.9898 - acc: 0.518 - ETA: 0s - loss: 0.9904 - acc: 0.518 - 2s 251us/sample - loss: 0.9898 - acc: 0.5190 - val_loss: 0.9826 - val_acc: 0.5205\n",
      "Epoch 4/10\n",
      "7917/7917 [==============================] - ETA: 1s - loss: 1.0409 - acc: 0.440 - ETA: 1s - loss: 1.0008 - acc: 0.497 - ETA: 1s - loss: 0.9868 - acc: 0.514 - ETA: 1s - loss: 0.9804 - acc: 0.525 - ETA: 1s - loss: 0.9820 - acc: 0.521 - ETA: 0s - loss: 0.9811 - acc: 0.521 - ETA: 0s - loss: 0.9805 - acc: 0.522 - ETA: 0s - loss: 0.9831 - acc: 0.521 - ETA: 0s - loss: 0.9860 - acc: 0.518 - ETA: 0s - loss: 0.9904 - acc: 0.516 - ETA: 0s - loss: 0.9871 - acc: 0.522 - ETA: 0s - loss: 0.9888 - acc: 0.520 - ETA: 0s - loss: 0.9906 - acc: 0.517 - ETA: 0s - loss: 0.9874 - acc: 0.520 - ETA: 0s - loss: 0.9856 - acc: 0.522 - ETA: 0s - loss: 0.9887 - acc: 0.519 - ETA: 0s - loss: 0.9887 - acc: 0.519 - ETA: 0s - loss: 0.9877 - acc: 0.520 - ETA: 0s - loss: 0.9881 - acc: 0.519 - ETA: 0s - loss: 0.9873 - acc: 0.521 - ETA: 0s - loss: 0.9867 - acc: 0.520 - ETA: 0s - loss: 0.9895 - acc: 0.518 - ETA: 0s - loss: 0.9889 - acc: 0.520 - ETA: 0s - loss: 0.9890 - acc: 0.520 - 1s 171us/sample - loss: 0.9883 - acc: 0.5209 - val_loss: 0.9792 - val_acc: 0.5237\n",
      "Epoch 5/10\n",
      "7917/7917 [==============================] - ETA: 1s - loss: 0.9335 - acc: 0.600 - ETA: 1s - loss: 0.9654 - acc: 0.532 - ETA: 1s - loss: 0.9903 - acc: 0.511 - ETA: 0s - loss: 1.0030 - acc: 0.500 - ETA: 0s - loss: 1.0013 - acc: 0.497 - ETA: 0s - loss: 0.9943 - acc: 0.507 - ETA: 0s - loss: 0.9906 - acc: 0.514 - ETA: 0s - loss: 0.9908 - acc: 0.517 - ETA: 0s - loss: 0.9928 - acc: 0.516 - ETA: 0s - loss: 0.9941 - acc: 0.512 - ETA: 0s - loss: 0.9969 - acc: 0.509 - ETA: 0s - loss: 0.9940 - acc: 0.512 - ETA: 0s - loss: 0.9934 - acc: 0.513 - ETA: 0s - loss: 0.9918 - acc: 0.514 - ETA: 0s - loss: 0.9920 - acc: 0.514 - ETA: 0s - loss: 0.9935 - acc: 0.512 - ETA: 0s - loss: 0.9918 - acc: 0.513 - ETA: 0s - loss: 0.9906 - acc: 0.513 - ETA: 0s - loss: 0.9911 - acc: 0.514 - ETA: 0s - loss: 0.9890 - acc: 0.516 - ETA: 0s - loss: 0.9875 - acc: 0.516 - ETA: 0s - loss: 0.9865 - acc: 0.518 - ETA: 0s - loss: 0.9847 - acc: 0.520 - ETA: 0s - loss: 0.9846 - acc: 0.522 - ETA: 0s - loss: 0.9864 - acc: 0.521 - 2s 203us/sample - loss: 0.9865 - acc: 0.5215 - val_loss: 0.9810 - val_acc: 0.5270\n",
      "Epoch 6/10\n",
      "7917/7917 [==============================] - ETA: 7s - loss: 1.1998 - acc: 0.480 - ETA: 4s - loss: 0.9902 - acc: 0.544 - ETA: 2s - loss: 0.9854 - acc: 0.540 - ETA: 1s - loss: 0.9962 - acc: 0.531 - ETA: 1s - loss: 0.9958 - acc: 0.518 - ETA: 1s - loss: 0.9925 - acc: 0.526 - ETA: 1s - loss: 0.9977 - acc: 0.518 - ETA: 1s - loss: 0.9937 - acc: 0.522 - ETA: 1s - loss: 0.9922 - acc: 0.523 - ETA: 2s - loss: 0.9899 - acc: 0.526 - ETA: 2s - loss: 0.9916 - acc: 0.524 - ETA: 2s - loss: 0.9879 - acc: 0.527 - ETA: 2s - loss: 0.9878 - acc: 0.525 - ETA: 2s - loss: 0.9835 - acc: 0.529 - ETA: 2s - loss: 0.9823 - acc: 0.531 - ETA: 1s - loss: 0.9801 - acc: 0.532 - ETA: 1s - loss: 0.9775 - acc: 0.534 - ETA: 1s - loss: 0.9823 - acc: 0.528 - ETA: 1s - loss: 0.9811 - acc: 0.529 - ETA: 1s - loss: 0.9803 - acc: 0.531 - ETA: 1s - loss: 0.9796 - acc: 0.533 - ETA: 1s - loss: 0.9822 - acc: 0.530 - ETA: 1s - loss: 0.9811 - acc: 0.529 - ETA: 1s - loss: 0.9812 - acc: 0.529 - ETA: 1s - loss: 0.9821 - acc: 0.528 - ETA: 1s - loss: 0.9826 - acc: 0.528 - ETA: 0s - loss: 0.9831 - acc: 0.528 - ETA: 0s - loss: 0.9812 - acc: 0.529 - ETA: 0s - loss: 0.9810 - acc: 0.528 - ETA: 0s - loss: 0.9809 - acc: 0.527 - ETA: 0s - loss: 0.9816 - acc: 0.527 - ETA: 0s - loss: 0.9814 - acc: 0.527 - ETA: 0s - loss: 0.9826 - acc: 0.525 - ETA: 0s - loss: 0.9831 - acc: 0.524 - ETA: 0s - loss: 0.9828 - acc: 0.525 - ETA: 0s - loss: 0.9829 - acc: 0.525 - ETA: 0s - loss: 0.9848 - acc: 0.522 - ETA: 0s - loss: 0.9855 - acc: 0.521 - 2s 279us/sample - loss: 0.9856 - acc: 0.5213 - val_loss: 0.9821 - val_acc: 0.5232\n",
      "Epoch 7/10\n",
      "7917/7917 [==============================] - ETA: 3s - loss: 0.9519 - acc: 0.640 - ETA: 1s - loss: 0.9961 - acc: 0.550 - ETA: 1s - loss: 0.9830 - acc: 0.556 - ETA: 1s - loss: 0.9848 - acc: 0.537 - ETA: 1s - loss: 0.9746 - acc: 0.542 - ETA: 1s - loss: 0.9778 - acc: 0.539 - ETA: 1s - loss: 0.9859 - acc: 0.524 - ETA: 1s - loss: 0.9870 - acc: 0.528 - ETA: 0s - loss: 0.9904 - acc: 0.524 - ETA: 0s - loss: 0.9858 - acc: 0.525 - ETA: 0s - loss: 0.9907 - acc: 0.524 - ETA: 0s - loss: 0.9882 - acc: 0.524 - ETA: 0s - loss: 0.9879 - acc: 0.523 - ETA: 0s - loss: 0.9870 - acc: 0.521 - ETA: 0s - loss: 0.9888 - acc: 0.519 - ETA: 0s - loss: 0.9876 - acc: 0.519 - ETA: 0s - loss: 0.9886 - acc: 0.518 - ETA: 0s - loss: 0.9884 - acc: 0.519 - ETA: 0s - loss: 0.9874 - acc: 0.521 - ETA: 0s - loss: 0.9875 - acc: 0.522 - ETA: 0s - loss: 0.9886 - acc: 0.519 - ETA: 0s - loss: 0.9878 - acc: 0.519 - ETA: 0s - loss: 0.9890 - acc: 0.517 - ETA: 0s - loss: 0.9882 - acc: 0.518 - ETA: 0s - loss: 0.9891 - acc: 0.518 - ETA: 0s - loss: 0.9864 - acc: 0.521 - 1s 187us/sample - loss: 0.9859 - acc: 0.5215 - val_loss: 0.9895 - val_acc: 0.5232\n",
      "Epoch 8/10\n",
      "7917/7917 [==============================] - ETA: 1s - loss: 0.8387 - acc: 0.640 - ETA: 1s - loss: 0.9504 - acc: 0.552 - ETA: 1s - loss: 0.9691 - acc: 0.537 - ETA: 1s - loss: 0.9725 - acc: 0.536 - ETA: 1s - loss: 0.9718 - acc: 0.532 - ETA: 0s - loss: 0.9747 - acc: 0.527 - ETA: 0s - loss: 0.9823 - acc: 0.520 - ETA: 0s - loss: 0.9831 - acc: 0.518 - ETA: 0s - loss: 0.9846 - acc: 0.522 - ETA: 0s - loss: 0.9847 - acc: 0.523 - ETA: 0s - loss: 0.9846 - acc: 0.524 - ETA: 0s - loss: 0.9876 - acc: 0.521 - ETA: 0s - loss: 0.9860 - acc: 0.523 - ETA: 0s - loss: 0.9848 - acc: 0.523 - ETA: 0s - loss: 0.9848 - acc: 0.525 - ETA: 0s - loss: 0.9853 - acc: 0.525 - ETA: 0s - loss: 0.9887 - acc: 0.521 - ETA: 0s - loss: 0.9859 - acc: 0.522 - ETA: 0s - loss: 0.9862 - acc: 0.523 - ETA: 0s - loss: 0.9858 - acc: 0.523 - ETA: 0s - loss: 0.9870 - acc: 0.521 - ETA: 0s - loss: 0.9852 - acc: 0.522 - ETA: 0s - loss: 0.9839 - acc: 0.524 - ETA: 0s - loss: 0.9842 - acc: 0.523 - ETA: 0s - loss: 0.9830 - acc: 0.523 - 1s 180us/sample - loss: 0.9840 - acc: 0.5225 - val_loss: 0.9960 - val_acc: 0.5052\n",
      "Epoch 9/10\n",
      "7917/7917 [==============================] - ETA: 1s - loss: 1.0165 - acc: 0.480 - ETA: 1s - loss: 0.9873 - acc: 0.515 - ETA: 1s - loss: 0.9767 - acc: 0.527 - ETA: 1s - loss: 0.9834 - acc: 0.523 - ETA: 1s - loss: 0.9866 - acc: 0.521 - ETA: 0s - loss: 0.9879 - acc: 0.520 - ETA: 0s - loss: 0.9859 - acc: 0.520 - ETA: 0s - loss: 0.9855 - acc: 0.520 - ETA: 0s - loss: 0.9873 - acc: 0.516 - ETA: 0s - loss: 0.9839 - acc: 0.520 - ETA: 0s - loss: 0.9871 - acc: 0.517 - ETA: 0s - loss: 0.9913 - acc: 0.510 - ETA: 0s - loss: 0.9906 - acc: 0.512 - ETA: 0s - loss: 0.9919 - acc: 0.511 - ETA: 0s - loss: 0.9910 - acc: 0.512 - ETA: 0s - loss: 0.9892 - acc: 0.514 - ETA: 0s - loss: 0.9896 - acc: 0.515 - ETA: 0s - loss: 0.9890 - acc: 0.516 - ETA: 0s - loss: 0.9881 - acc: 0.517 - ETA: 0s - loss: 0.9889 - acc: 0.516 - ETA: 0s - loss: 0.9880 - acc: 0.517 - ETA: 0s - loss: 0.9867 - acc: 0.518 - ETA: 0s - loss: 0.9890 - acc: 0.516 - ETA: 0s - loss: 0.9872 - acc: 0.518 - ETA: 0s - loss: 0.9856 - acc: 0.520 - 1s 181us/sample - loss: 0.9854 - acc: 0.5203 - val_loss: 0.9825 - val_acc: 0.5248\n",
      "Epoch 10/10\n",
      "7917/7917 [==============================] - ETA: 1s - loss: 0.9065 - acc: 0.600 - ETA: 1s - loss: 1.0054 - acc: 0.477 - ETA: 1s - loss: 0.9986 - acc: 0.506 - ETA: 0s - loss: 0.9943 - acc: 0.512 - ETA: 0s - loss: 1.0035 - acc: 0.503 - ETA: 0s - loss: 1.0026 - acc: 0.500 - ETA: 0s - loss: 0.9982 - acc: 0.503 - ETA: 0s - loss: 0.9962 - acc: 0.502 - ETA: 0s - loss: 0.9978 - acc: 0.501 - ETA: 0s - loss: 0.9933 - acc: 0.506 - ETA: 0s - loss: 0.9912 - acc: 0.506 - ETA: 0s - loss: 0.9891 - acc: 0.510 - ETA: 0s - loss: 0.9875 - acc: 0.511 - ETA: 0s - loss: 0.9847 - acc: 0.512 - ETA: 0s - loss: 0.9853 - acc: 0.513 - ETA: 0s - loss: 0.9855 - acc: 0.512 - ETA: 0s - loss: 0.9840 - acc: 0.515 - ETA: 0s - loss: 0.9861 - acc: 0.513 - ETA: 0s - loss: 0.9856 - acc: 0.515 - ETA: 0s - loss: 0.9850 - acc: 0.516 - ETA: 0s - loss: 0.9861 - acc: 0.515 - ETA: 0s - loss: 0.9867 - acc: 0.515 - ETA: 0s - loss: 0.9862 - acc: 0.517 - ETA: 0s - loss: 0.9860 - acc: 0.516 - ETA: 0s - loss: 0.9846 - acc: 0.517 - ETA: 0s - loss: 0.9833 - acc: 0.519 - 1s 189us/sample - loss: 0.9833 - acc: 0.5199 - val_loss: 0.9938 - val_acc: 0.5248\n"
     ]
    },
    {
     "data": {
      "text/html": [
       "<span style=\"color:#4527A0\"><h1 style=\"font-size:18px\">Trial complete</h1></span>"
      ],
      "text/plain": [
       "<IPython.core.display.HTML object>"
      ]
     },
     "metadata": {},
     "output_type": "display_data"
    },
    {
     "data": {
      "text/html": [
       "<span style=\"color:#4527A0\"><h1 style=\"font-size:18px\">Trial summary</h1></span>"
      ],
      "text/plain": [
       "<IPython.core.display.HTML object>"
      ]
     },
     "metadata": {},
     "output_type": "display_data"
    },
    {
     "data": {
      "text/html": [
       "<span style=\"color:cyan\"> |-Trial ID: 52f0cac4fa61874a915ba4c6800e811b</span>"
      ],
      "text/plain": [
       "<IPython.core.display.HTML object>"
      ]
     },
     "metadata": {},
     "output_type": "display_data"
    },
    {
     "data": {
      "text/html": [
       "<span style=\"color:cyan\"> |-Score: 0.5270048975944519</span>"
      ],
      "text/plain": [
       "<IPython.core.display.HTML object>"
      ]
     },
     "metadata": {},
     "output_type": "display_data"
    },
    {
     "data": {
      "text/html": [
       "<span style=\"color:cyan\"> |-Best step: 0</span>"
      ],
      "text/plain": [
       "<IPython.core.display.HTML object>"
      ]
     },
     "metadata": {},
     "output_type": "display_data"
    },
    {
     "data": {
      "text/html": [
       "<span style=\"color:#7E57C2\"><h2 style=\"font-size:16px\">Hyperparameters:</h2></span>"
      ],
      "text/plain": [
       "<IPython.core.display.HTML object>"
      ]
     },
     "metadata": {},
     "output_type": "display_data"
    },
    {
     "data": {
      "text/html": [
       "<span style=\"color:cyan\"> |-layer_0_neurons: 130</span>"
      ],
      "text/plain": [
       "<IPython.core.display.HTML object>"
      ]
     },
     "metadata": {},
     "output_type": "display_data"
    },
    {
     "data": {
      "text/html": [
       "<span style=\"color:blue\"> |-layer_1_neurons: 50</span>"
      ],
      "text/plain": [
       "<IPython.core.display.HTML object>"
      ]
     },
     "metadata": {},
     "output_type": "display_data"
    },
    {
     "data": {
      "text/html": [
       "<span style=\"color:cyan\"> |-layer_2_neurons: 30</span>"
      ],
      "text/plain": [
       "<IPython.core.display.HTML object>"
      ]
     },
     "metadata": {},
     "output_type": "display_data"
    },
    {
     "data": {
      "text/html": [
       "<span style=\"color:blue\"> |-n_input_neurons: 130</span>"
      ],
      "text/plain": [
       "<IPython.core.display.HTML object>"
      ]
     },
     "metadata": {},
     "output_type": "display_data"
    },
    {
     "data": {
      "text/html": [
       "<span style=\"color:cyan\"> |-n_layers: 1</span>"
      ],
      "text/plain": [
       "<IPython.core.display.HTML object>"
      ]
     },
     "metadata": {},
     "output_type": "display_data"
    },
    {
     "name": "stdout",
     "output_type": "stream",
     "text": [
      "Train on 7917 samples, validate on 1833 samples\n",
      "Epoch 1/10\n",
      "7917/7917 [==============================] - ETA: 2:47 - loss: 1.1072 - acc: 0.200 - ETA: 12s - loss: 1.0768 - acc: 0.431 - ETA: 7s - loss: 1.0669 - acc: 0.4354 - ETA: 5s - loss: 1.0584 - acc: 0.458 - ETA: 4s - loss: 1.0561 - acc: 0.461 - ETA: 4s - loss: 1.0511 - acc: 0.467 - ETA: 4s - loss: 1.0512 - acc: 0.464 - ETA: 4s - loss: 1.0494 - acc: 0.466 - ETA: 4s - loss: 1.0478 - acc: 0.469 - ETA: 3s - loss: 1.0448 - acc: 0.473 - ETA: 3s - loss: 1.0415 - acc: 0.474 - ETA: 2s - loss: 1.0358 - acc: 0.481 - ETA: 2s - loss: 1.0355 - acc: 0.476 - ETA: 2s - loss: 1.0323 - acc: 0.480 - ETA: 1s - loss: 1.0285 - acc: 0.484 - ETA: 1s - loss: 1.0234 - acc: 0.489 - ETA: 1s - loss: 1.0215 - acc: 0.491 - ETA: 1s - loss: 1.0221 - acc: 0.491 - ETA: 1s - loss: 1.0209 - acc: 0.491 - ETA: 1s - loss: 1.0213 - acc: 0.490 - ETA: 0s - loss: 1.0167 - acc: 0.495 - ETA: 0s - loss: 1.0169 - acc: 0.495 - ETA: 0s - loss: 1.0148 - acc: 0.498 - ETA: 0s - loss: 1.0123 - acc: 0.499 - ETA: 0s - loss: 1.0120 - acc: 0.499 - ETA: 0s - loss: 1.0123 - acc: 0.498 - ETA: 0s - loss: 1.0102 - acc: 0.501 - ETA: 0s - loss: 1.0090 - acc: 0.502 - ETA: 0s - loss: 1.0077 - acc: 0.502 - ETA: 0s - loss: 1.0075 - acc: 0.502 - 3s 344us/sample - loss: 1.0084 - acc: 0.5015 - val_loss: 0.9816 - val_acc: 0.5210\n",
      "Epoch 2/10\n",
      "7917/7917 [==============================] - ETA: 1s - loss: 0.9264 - acc: 0.560 - ETA: 1s - loss: 1.0040 - acc: 0.507 - ETA: 1s - loss: 0.9933 - acc: 0.520 - ETA: 1s - loss: 0.9844 - acc: 0.531 - ETA: 1s - loss: 0.9906 - acc: 0.527 - ETA: 1s - loss: 0.9848 - acc: 0.527 - ETA: 1s - loss: 0.9851 - acc: 0.529 - ETA: 1s - loss: 0.9892 - acc: 0.524 - ETA: 1s - loss: 0.9876 - acc: 0.521 - ETA: 0s - loss: 0.9901 - acc: 0.522 - ETA: 0s - loss: 0.9832 - acc: 0.527 - ETA: 0s - loss: 0.9865 - acc: 0.523 - ETA: 0s - loss: 0.9862 - acc: 0.523 - ETA: 0s - loss: 0.9879 - acc: 0.521 - ETA: 0s - loss: 0.9921 - acc: 0.516 - ETA: 0s - loss: 0.9915 - acc: 0.516 - ETA: 0s - loss: 0.9933 - acc: 0.516 - ETA: 0s - loss: 0.9931 - acc: 0.516 - ETA: 0s - loss: 0.9926 - acc: 0.516 - ETA: 0s - loss: 0.9921 - acc: 0.517 - ETA: 0s - loss: 0.9919 - acc: 0.518 - ETA: 0s - loss: 0.9924 - acc: 0.517 - ETA: 0s - loss: 0.9922 - acc: 0.518 - ETA: 0s - loss: 0.9926 - acc: 0.517 - ETA: 0s - loss: 0.9908 - acc: 0.517 - ETA: 0s - loss: 0.9899 - acc: 0.518 - ETA: 0s - loss: 0.9916 - acc: 0.517 - 2s 202us/sample - loss: 0.9920 - acc: 0.5170 - val_loss: 0.9828 - val_acc: 0.5303\n",
      "Epoch 3/10\n",
      "7917/7917 [==============================] - ETA: 2s - loss: 1.0119 - acc: 0.480 - ETA: 1s - loss: 0.9623 - acc: 0.554 - ETA: 1s - loss: 0.9679 - acc: 0.541 - ETA: 1s - loss: 0.9739 - acc: 0.532 - ETA: 1s - loss: 0.9823 - acc: 0.527 - ETA: 1s - loss: 0.9890 - acc: 0.518 - ETA: 1s - loss: 0.9947 - acc: 0.510 - ETA: 1s - loss: 0.9978 - acc: 0.500 - ETA: 0s - loss: 0.9959 - acc: 0.500 - ETA: 0s - loss: 0.9953 - acc: 0.503 - ETA: 0s - loss: 0.9904 - acc: 0.513 - ETA: 0s - loss: 0.9923 - acc: 0.512 - ETA: 0s - loss: 0.9900 - acc: 0.515 - ETA: 0s - loss: 0.9841 - acc: 0.519 - ETA: 0s - loss: 0.9842 - acc: 0.520 - ETA: 0s - loss: 0.9819 - acc: 0.521 - ETA: 0s - loss: 0.9812 - acc: 0.524 - ETA: 0s - loss: 0.9831 - acc: 0.522 - ETA: 0s - loss: 0.9832 - acc: 0.522 - ETA: 0s - loss: 0.9836 - acc: 0.522 - ETA: 0s - loss: 0.9828 - acc: 0.523 - ETA: 0s - loss: 0.9833 - acc: 0.523 - ETA: 0s - loss: 0.9835 - acc: 0.523 - ETA: 0s - loss: 0.9847 - acc: 0.522 - ETA: 0s - loss: 0.9858 - acc: 0.522 - ETA: 0s - loss: 0.9865 - acc: 0.521 - ETA: 0s - loss: 0.9871 - acc: 0.521 - ETA: 0s - loss: 0.9886 - acc: 0.519 - ETA: 0s - loss: 0.9888 - acc: 0.518 - ETA: 0s - loss: 0.9895 - acc: 0.517 - 2s 216us/sample - loss: 0.9891 - acc: 0.5179 - val_loss: 0.9839 - val_acc: 0.5297\n",
      "Epoch 4/10\n",
      "7917/7917 [==============================] - ETA: 2s - loss: 0.9878 - acc: 0.520 - ETA: 1s - loss: 0.9815 - acc: 0.553 - ETA: 1s - loss: 1.0082 - acc: 0.540 - ETA: 2s - loss: 1.0015 - acc: 0.536 - ETA: 1s - loss: 0.9982 - acc: 0.536 - ETA: 1s - loss: 0.9887 - acc: 0.537 - ETA: 1s - loss: 1.0012 - acc: 0.523 - ETA: 1s - loss: 0.9998 - acc: 0.527 - ETA: 1s - loss: 0.9902 - acc: 0.531 - ETA: 1s - loss: 0.9885 - acc: 0.531 - ETA: 1s - loss: 0.9863 - acc: 0.533 - ETA: 1s - loss: 0.9851 - acc: 0.534 - ETA: 1s - loss: 0.9875 - acc: 0.532 - ETA: 0s - loss: 0.9875 - acc: 0.529 - ETA: 0s - loss: 0.9894 - acc: 0.527 - ETA: 0s - loss: 0.9884 - acc: 0.527 - ETA: 0s - loss: 0.9913 - acc: 0.524 - ETA: 0s - loss: 0.9929 - acc: 0.521 - ETA: 0s - loss: 0.9928 - acc: 0.520 - ETA: 0s - loss: 0.9913 - acc: 0.521 - ETA: 0s - loss: 0.9913 - acc: 0.519 - ETA: 0s - loss: 0.9923 - acc: 0.519 - ETA: 0s - loss: 0.9911 - acc: 0.519 - ETA: 0s - loss: 0.9892 - acc: 0.521 - ETA: 0s - loss: 0.9897 - acc: 0.521 - ETA: 0s - loss: 0.9901 - acc: 0.521 - ETA: 0s - loss: 0.9922 - acc: 0.519 - ETA: 0s - loss: 0.9917 - acc: 0.519 - ETA: 0s - loss: 0.9894 - acc: 0.521 - 2s 212us/sample - loss: 0.9895 - acc: 0.5213 - val_loss: 0.9835 - val_acc: 0.5292\n",
      "Epoch 5/10\n",
      "7917/7917 [==============================] - ETA: 2s - loss: 1.0112 - acc: 0.560 - ETA: 1s - loss: 0.9650 - acc: 0.537 - ETA: 1s - loss: 0.9568 - acc: 0.565 - ETA: 1s - loss: 0.9641 - acc: 0.558 - ETA: 1s - loss: 0.9610 - acc: 0.555 - ETA: 1s - loss: 0.9677 - acc: 0.541 - ETA: 1s - loss: 0.9696 - acc: 0.540 - ETA: 1s - loss: 0.9717 - acc: 0.535 - ETA: 0s - loss: 0.9764 - acc: 0.533 - ETA: 0s - loss: 0.9815 - acc: 0.528 - ETA: 0s - loss: 0.9830 - acc: 0.525 - ETA: 0s - loss: 0.9826 - acc: 0.525 - ETA: 0s - loss: 0.9821 - acc: 0.526 - ETA: 0s - loss: 0.9828 - acc: 0.527 - ETA: 0s - loss: 0.9819 - acc: 0.528 - ETA: 0s - loss: 0.9826 - acc: 0.528 - ETA: 0s - loss: 0.9839 - acc: 0.525 - ETA: 0s - loss: 0.9844 - acc: 0.523 - ETA: 0s - loss: 0.9846 - acc: 0.523 - ETA: 0s - loss: 0.9850 - acc: 0.522 - ETA: 0s - loss: 0.9851 - acc: 0.522 - ETA: 0s - loss: 0.9853 - acc: 0.523 - ETA: 0s - loss: 0.9851 - acc: 0.524 - ETA: 0s - loss: 0.9857 - acc: 0.523 - ETA: 0s - loss: 0.9864 - acc: 0.522 - ETA: 0s - loss: 0.9877 - acc: 0.521 - ETA: 0s - loss: 0.9885 - acc: 0.519 - ETA: 0s - loss: 0.9889 - acc: 0.520 - ETA: 0s - loss: 0.9883 - acc: 0.521 - 2s 211us/sample - loss: 0.9874 - acc: 0.5215 - val_loss: 0.9831 - val_acc: 0.5270\n",
      "Epoch 6/10\n",
      "7917/7917 [==============================] - ETA: 2s - loss: 1.1016 - acc: 0.360 - ETA: 1s - loss: 1.0040 - acc: 0.501 - ETA: 1s - loss: 0.9850 - acc: 0.520 - ETA: 1s - loss: 0.9917 - acc: 0.522 - ETA: 1s - loss: 0.9895 - acc: 0.527 - ETA: 1s - loss: 0.9936 - acc: 0.519 - ETA: 1s - loss: 0.9957 - acc: 0.514 - ETA: 1s - loss: 0.9972 - acc: 0.511 - ETA: 0s - loss: 0.9954 - acc: 0.513 - ETA: 0s - loss: 0.9940 - acc: 0.514 - ETA: 0s - loss: 0.9929 - acc: 0.516 - ETA: 0s - loss: 0.9909 - acc: 0.517 - ETA: 0s - loss: 0.9935 - acc: 0.517 - ETA: 0s - loss: 0.9892 - acc: 0.521 - ETA: 0s - loss: 0.9897 - acc: 0.521 - ETA: 0s - loss: 0.9881 - acc: 0.523 - ETA: 0s - loss: 0.9906 - acc: 0.521 - ETA: 0s - loss: 0.9913 - acc: 0.520 - ETA: 0s - loss: 0.9887 - acc: 0.522 - ETA: 0s - loss: 0.9894 - acc: 0.522 - ETA: 0s - loss: 0.9886 - acc: 0.522 - ETA: 0s - loss: 0.9873 - acc: 0.523 - ETA: 0s - loss: 0.9866 - acc: 0.522 - ETA: 0s - loss: 0.9862 - acc: 0.523 - ETA: 0s - loss: 0.9861 - acc: 0.524 - ETA: 0s - loss: 0.9876 - acc: 0.523 - ETA: 0s - loss: 0.9888 - acc: 0.523 - ETA: 0s - loss: 0.9889 - acc: 0.522 - ETA: 0s - loss: 0.9874 - acc: 0.524 - 2s 212us/sample - loss: 0.9864 - acc: 0.5260 - val_loss: 0.9928 - val_acc: 0.5297\n",
      "Epoch 7/10\n",
      "7917/7917 [==============================] - ETA: 2s - loss: 0.9654 - acc: 0.520 - ETA: 1s - loss: 1.0243 - acc: 0.476 - ETA: 1s - loss: 1.0096 - acc: 0.487 - ETA: 1s - loss: 1.0023 - acc: 0.498 - ETA: 1s - loss: 0.9966 - acc: 0.508 - ETA: 1s - loss: 0.9896 - acc: 0.518 - ETA: 1s - loss: 0.9782 - acc: 0.523 - ETA: 1s - loss: 0.9757 - acc: 0.529 - ETA: 1s - loss: 0.9784 - acc: 0.527 - ETA: 0s - loss: 0.9833 - acc: 0.524 - ETA: 0s - loss: 0.9861 - acc: 0.522 - ETA: 0s - loss: 0.9863 - acc: 0.521 - ETA: 0s - loss: 0.9864 - acc: 0.521 - ETA: 0s - loss: 0.9854 - acc: 0.522 - ETA: 0s - loss: 0.9875 - acc: 0.519 - ETA: 0s - loss: 0.9868 - acc: 0.518 - ETA: 0s - loss: 0.9881 - acc: 0.517 - ETA: 0s - loss: 0.9876 - acc: 0.517 - ETA: 0s - loss: 0.9867 - acc: 0.517 - ETA: 0s - loss: 0.9867 - acc: 0.519 - ETA: 0s - loss: 0.9849 - acc: 0.520 - ETA: 0s - loss: 0.9835 - acc: 0.521 - ETA: 0s - loss: 0.9839 - acc: 0.520 - ETA: 0s - loss: 0.9855 - acc: 0.519 - ETA: 0s - loss: 0.9857 - acc: 0.519 - ETA: 0s - loss: 0.9853 - acc: 0.520 - ETA: 0s - loss: 0.9853 - acc: 0.520 - ETA: 0s - loss: 0.9859 - acc: 0.520 - ETA: 0s - loss: 0.9875 - acc: 0.518 - ETA: 0s - loss: 0.9856 - acc: 0.521 - ETA: 0s - loss: 0.9845 - acc: 0.522 - ETA: 0s - loss: 0.9845 - acc: 0.522 - ETA: 0s - loss: 0.9868 - acc: 0.521 - 2s 250us/sample - loss: 0.9871 - acc: 0.5218 - val_loss: 0.9827 - val_acc: 0.5232\n",
      "Epoch 8/10\n",
      "7917/7917 [==============================] - ETA: 3s - loss: 0.9570 - acc: 0.560 - ETA: 1s - loss: 0.9809 - acc: 0.523 - ETA: 1s - loss: 0.9722 - acc: 0.522 - ETA: 1s - loss: 0.9786 - acc: 0.515 - ETA: 1s - loss: 0.9926 - acc: 0.506 - ETA: 1s - loss: 0.9882 - acc: 0.514 - ETA: 1s - loss: 0.9924 - acc: 0.509 - ETA: 1s - loss: 0.9962 - acc: 0.505 - ETA: 1s - loss: 0.9956 - acc: 0.508 - ETA: 1s - loss: 0.9922 - acc: 0.515 - ETA: 1s - loss: 0.9908 - acc: 0.515 - ETA: 1s - loss: 0.9917 - acc: 0.513 - ETA: 0s - loss: 0.9930 - acc: 0.511 - ETA: 0s - loss: 0.9948 - acc: 0.511 - ETA: 0s - loss: 0.9971 - acc: 0.510 - ETA: 0s - loss: 0.9950 - acc: 0.511 - ETA: 0s - loss: 0.9939 - acc: 0.511 - ETA: 0s - loss: 0.9941 - acc: 0.512 - ETA: 0s - loss: 0.9919 - acc: 0.514 - ETA: 0s - loss: 0.9909 - acc: 0.515 - ETA: 0s - loss: 0.9910 - acc: 0.515 - ETA: 0s - loss: 0.9911 - acc: 0.517 - ETA: 0s - loss: 0.9905 - acc: 0.517 - ETA: 0s - loss: 0.9893 - acc: 0.518 - ETA: 0s - loss: 0.9892 - acc: 0.519 - ETA: 0s - loss: 0.9888 - acc: 0.520 - ETA: 0s - loss: 0.9874 - acc: 0.520 - ETA: 0s - loss: 0.9869 - acc: 0.521 - ETA: 0s - loss: 0.9872 - acc: 0.520 - ETA: 0s - loss: 0.9874 - acc: 0.520 - ETA: 0s - loss: 0.9862 - acc: 0.522 - ETA: 0s - loss: 0.9863 - acc: 0.522 - ETA: 0s - loss: 0.9864 - acc: 0.522 - ETA: 0s - loss: 0.9861 - acc: 0.522 - ETA: 0s - loss: 0.9864 - acc: 0.521 - 2s 269us/sample - loss: 0.9860 - acc: 0.5228 - val_loss: 0.9814 - val_acc: 0.5325\n",
      "Epoch 9/10\n",
      "7917/7917 [==============================] - ETA: 3s - loss: 0.9911 - acc: 0.600 - ETA: 1s - loss: 0.9725 - acc: 0.556 - ETA: 1s - loss: 0.9702 - acc: 0.549 - ETA: 1s - loss: 0.9810 - acc: 0.538 - ETA: 1s - loss: 0.9795 - acc: 0.531 - ETA: 1s - loss: 0.9906 - acc: 0.516 - ETA: 1s - loss: 0.9807 - acc: 0.525 - ETA: 1s - loss: 0.9841 - acc: 0.523 - ETA: 1s - loss: 0.9809 - acc: 0.525 - ETA: 1s - loss: 0.9832 - acc: 0.526 - ETA: 1s - loss: 0.9856 - acc: 0.524 - ETA: 1s - loss: 0.9853 - acc: 0.522 - ETA: 0s - loss: 0.9857 - acc: 0.520 - ETA: 0s - loss: 0.9827 - acc: 0.523 - ETA: 0s - loss: 0.9820 - acc: 0.524 - ETA: 0s - loss: 0.9831 - acc: 0.523 - ETA: 0s - loss: 0.9829 - acc: 0.523 - ETA: 0s - loss: 0.9834 - acc: 0.523 - ETA: 0s - loss: 0.9822 - acc: 0.523 - ETA: 0s - loss: 0.9840 - acc: 0.521 - ETA: 0s - loss: 0.9838 - acc: 0.520 - ETA: 0s - loss: 0.9848 - acc: 0.519 - ETA: 0s - loss: 0.9847 - acc: 0.520 - ETA: 0s - loss: 0.9852 - acc: 0.520 - ETA: 0s - loss: 0.9860 - acc: 0.520 - ETA: 0s - loss: 0.9840 - acc: 0.522 - ETA: 0s - loss: 0.9854 - acc: 0.520 - ETA: 0s - loss: 0.9874 - acc: 0.518 - ETA: 0s - loss: 0.9865 - acc: 0.519 - 2s 211us/sample - loss: 0.9872 - acc: 0.5188 - val_loss: 0.9865 - val_acc: 0.5314\n",
      "Epoch 10/10\n",
      "7917/7917 [==============================] - ETA: 2s - loss: 1.0109 - acc: 0.520 - ETA: 1s - loss: 1.0205 - acc: 0.482 - ETA: 1s - loss: 1.0085 - acc: 0.489 - ETA: 1s - loss: 0.9836 - acc: 0.517 - ETA: 1s - loss: 0.9857 - acc: 0.516 - ETA: 1s - loss: 0.9945 - acc: 0.511 - ETA: 1s - loss: 0.9936 - acc: 0.514 - ETA: 1s - loss: 0.9892 - acc: 0.520 - ETA: 0s - loss: 0.9869 - acc: 0.523 - ETA: 0s - loss: 0.9865 - acc: 0.523 - ETA: 0s - loss: 0.9882 - acc: 0.523 - ETA: 0s - loss: 0.9859 - acc: 0.525 - ETA: 0s - loss: 0.9868 - acc: 0.522 - ETA: 0s - loss: 0.9839 - acc: 0.524 - ETA: 0s - loss: 0.9841 - acc: 0.524 - ETA: 0s - loss: 0.9835 - acc: 0.526 - ETA: 0s - loss: 0.9827 - acc: 0.526 - ETA: 0s - loss: 0.9824 - acc: 0.528 - ETA: 0s - loss: 0.9815 - acc: 0.528 - ETA: 0s - loss: 0.9828 - acc: 0.526 - ETA: 0s - loss: 0.9848 - acc: 0.524 - ETA: 0s - loss: 0.9869 - acc: 0.521 - ETA: 0s - loss: 0.9859 - acc: 0.522 - ETA: 0s - loss: 0.9872 - acc: 0.522 - ETA: 0s - loss: 0.9868 - acc: 0.522 - ETA: 0s - loss: 0.9871 - acc: 0.522 - ETA: 0s - loss: 0.9865 - acc: 0.522 - ETA: 0s - loss: 0.9845 - acc: 0.524 - 2s 206us/sample - loss: 0.9848 - acc: 0.5247 - val_loss: 0.9881 - val_acc: 0.5270\n"
     ]
    },
    {
     "data": {
      "text/html": [
       "<span style=\"color:#4527A0\"><h1 style=\"font-size:18px\">Trial complete</h1></span>"
      ],
      "text/plain": [
       "<IPython.core.display.HTML object>"
      ]
     },
     "metadata": {},
     "output_type": "display_data"
    },
    {
     "data": {
      "text/html": [
       "<span style=\"color:#4527A0\"><h1 style=\"font-size:18px\">Trial summary</h1></span>"
      ],
      "text/plain": [
       "<IPython.core.display.HTML object>"
      ]
     },
     "metadata": {},
     "output_type": "display_data"
    },
    {
     "data": {
      "text/html": [
       "<span style=\"color:cyan\"> |-Trial ID: 410d110e71a4ab2b7b862fd31002f0d5</span>"
      ],
      "text/plain": [
       "<IPython.core.display.HTML object>"
      ]
     },
     "metadata": {},
     "output_type": "display_data"
    },
    {
     "data": {
      "text/html": [
       "<span style=\"color:cyan\"> |-Score: 0.5324604511260986</span>"
      ],
      "text/plain": [
       "<IPython.core.display.HTML object>"
      ]
     },
     "metadata": {},
     "output_type": "display_data"
    },
    {
     "data": {
      "text/html": [
       "<span style=\"color:cyan\"> |-Best step: 0</span>"
      ],
      "text/plain": [
       "<IPython.core.display.HTML object>"
      ]
     },
     "metadata": {},
     "output_type": "display_data"
    },
    {
     "data": {
      "text/html": [
       "<span style=\"color:#7E57C2\"><h2 style=\"font-size:16px\">Hyperparameters:</h2></span>"
      ],
      "text/plain": [
       "<IPython.core.display.HTML object>"
      ]
     },
     "metadata": {},
     "output_type": "display_data"
    },
    {
     "data": {
      "text/html": [
       "<span style=\"color:cyan\"> |-layer_0_neurons: 110</span>"
      ],
      "text/plain": [
       "<IPython.core.display.HTML object>"
      ]
     },
     "metadata": {},
     "output_type": "display_data"
    },
    {
     "data": {
      "text/html": [
       "<span style=\"color:blue\"> |-layer_1_neurons: 50</span>"
      ],
      "text/plain": [
       "<IPython.core.display.HTML object>"
      ]
     },
     "metadata": {},
     "output_type": "display_data"
    },
    {
     "data": {
      "text/html": [
       "<span style=\"color:cyan\"> |-layer_2_neurons: 110</span>"
      ],
      "text/plain": [
       "<IPython.core.display.HTML object>"
      ]
     },
     "metadata": {},
     "output_type": "display_data"
    },
    {
     "data": {
      "text/html": [
       "<span style=\"color:blue\"> |-n_input_neurons: 70</span>"
      ],
      "text/plain": [
       "<IPython.core.display.HTML object>"
      ]
     },
     "metadata": {},
     "output_type": "display_data"
    },
    {
     "data": {
      "text/html": [
       "<span style=\"color:cyan\"> |-n_layers: 3</span>"
      ],
      "text/plain": [
       "<IPython.core.display.HTML object>"
      ]
     },
     "metadata": {},
     "output_type": "display_data"
    },
    {
     "name": "stdout",
     "output_type": "stream",
     "text": [
      "Train on 7917 samples, validate on 1833 samples\n",
      "Epoch 1/10\n",
      "7917/7917 [==============================] - ETA: 2:13 - loss: 1.1045 - acc: 0.360 - ETA: 11s - loss: 1.0804 - acc: 0.443 - ETA: 5s - loss: 1.0546 - acc: 0.4696 - ETA: 3s - loss: 1.0542 - acc: 0.464 - ETA: 3s - loss: 1.0454 - acc: 0.467 - ETA: 3s - loss: 1.0463 - acc: 0.467 - ETA: 3s - loss: 1.0464 - acc: 0.469 - ETA: 2s - loss: 1.0373 - acc: 0.481 - ETA: 2s - loss: 1.0306 - acc: 0.484 - ETA: 1s - loss: 1.0265 - acc: 0.483 - ETA: 1s - loss: 1.0269 - acc: 0.483 - ETA: 1s - loss: 1.0256 - acc: 0.485 - ETA: 1s - loss: 1.0193 - acc: 0.492 - ETA: 1s - loss: 1.0197 - acc: 0.492 - ETA: 0s - loss: 1.0171 - acc: 0.494 - ETA: 0s - loss: 1.0129 - acc: 0.498 - ETA: 0s - loss: 1.0135 - acc: 0.499 - ETA: 0s - loss: 1.0113 - acc: 0.500 - ETA: 0s - loss: 1.0111 - acc: 0.500 - ETA: 0s - loss: 1.0130 - acc: 0.499 - ETA: 0s - loss: 1.0126 - acc: 0.501 - ETA: 0s - loss: 1.0107 - acc: 0.502 - ETA: 0s - loss: 1.0104 - acc: 0.503 - ETA: 0s - loss: 1.0092 - acc: 0.504 - 2s 281us/sample - loss: 1.0085 - acc: 0.5049 - val_loss: 0.9848 - val_acc: 0.5286\n",
      "Epoch 2/10\n",
      "7917/7917 [==============================] - ETA: 1s - loss: 0.9546 - acc: 0.560 - ETA: 1s - loss: 0.9996 - acc: 0.497 - ETA: 1s - loss: 0.9957 - acc: 0.509 - ETA: 0s - loss: 1.0059 - acc: 0.509 - ETA: 0s - loss: 1.0085 - acc: 0.506 - ETA: 0s - loss: 1.0033 - acc: 0.512 - ETA: 0s - loss: 1.0060 - acc: 0.513 - ETA: 0s - loss: 1.0029 - acc: 0.510 - ETA: 0s - loss: 0.9969 - acc: 0.518 - ETA: 0s - loss: 0.9936 - acc: 0.520 - ETA: 0s - loss: 0.9917 - acc: 0.523 - ETA: 0s - loss: 0.9922 - acc: 0.520 - ETA: 0s - loss: 0.9933 - acc: 0.516 - ETA: 0s - loss: 0.9924 - acc: 0.519 - ETA: 0s - loss: 0.9899 - acc: 0.522 - ETA: 0s - loss: 0.9916 - acc: 0.519 - ETA: 0s - loss: 0.9917 - acc: 0.519 - ETA: 0s - loss: 0.9915 - acc: 0.519 - ETA: 0s - loss: 0.9897 - acc: 0.521 - ETA: 0s - loss: 0.9890 - acc: 0.523 - ETA: 0s - loss: 0.9911 - acc: 0.519 - ETA: 0s - loss: 0.9898 - acc: 0.520 - ETA: 0s - loss: 0.9893 - acc: 0.520 - 1s 167us/sample - loss: 0.9902 - acc: 0.5195 - val_loss: 0.9905 - val_acc: 0.5057\n",
      "Epoch 3/10\n",
      "7917/7917 [==============================] - ETA: 2s - loss: 1.0031 - acc: 0.520 - ETA: 1s - loss: 0.9697 - acc: 0.512 - ETA: 1s - loss: 0.9790 - acc: 0.520 - ETA: 1s - loss: 0.9789 - acc: 0.524 - ETA: 0s - loss: 0.9850 - acc: 0.515 - ETA: 0s - loss: 0.9868 - acc: 0.512 - ETA: 0s - loss: 0.9932 - acc: 0.508 - ETA: 0s - loss: 0.9924 - acc: 0.510 - ETA: 0s - loss: 0.9919 - acc: 0.510 - ETA: 0s - loss: 0.9924 - acc: 0.512 - ETA: 0s - loss: 0.9910 - acc: 0.516 - ETA: 0s - loss: 0.9875 - acc: 0.521 - ETA: 0s - loss: 0.9900 - acc: 0.519 - ETA: 0s - loss: 0.9889 - acc: 0.520 - ETA: 0s - loss: 0.9909 - acc: 0.517 - ETA: 0s - loss: 0.9906 - acc: 0.519 - ETA: 0s - loss: 0.9920 - acc: 0.518 - ETA: 0s - loss: 0.9923 - acc: 0.519 - ETA: 0s - loss: 0.9912 - acc: 0.520 - ETA: 0s - loss: 0.9898 - acc: 0.520 - ETA: 0s - loss: 0.9896 - acc: 0.521 - ETA: 0s - loss: 0.9902 - acc: 0.518 - ETA: 0s - loss: 0.9903 - acc: 0.519 - 1s 165us/sample - loss: 0.9901 - acc: 0.5200 - val_loss: 0.9804 - val_acc: 0.5254\n",
      "Epoch 4/10\n",
      "7917/7917 [==============================] - ETA: 1s - loss: 1.0356 - acc: 0.440 - ETA: 1s - loss: 0.9902 - acc: 0.490 - ETA: 1s - loss: 0.9942 - acc: 0.488 - ETA: 0s - loss: 0.9822 - acc: 0.504 - ETA: 0s - loss: 0.9831 - acc: 0.508 - ETA: 0s - loss: 0.9851 - acc: 0.510 - ETA: 0s - loss: 0.9868 - acc: 0.509 - ETA: 0s - loss: 0.9926 - acc: 0.506 - ETA: 0s - loss: 0.9944 - acc: 0.505 - ETA: 0s - loss: 0.9933 - acc: 0.506 - ETA: 0s - loss: 0.9879 - acc: 0.512 - ETA: 0s - loss: 0.9880 - acc: 0.514 - ETA: 0s - loss: 0.9880 - acc: 0.516 - ETA: 0s - loss: 0.9876 - acc: 0.519 - ETA: 0s - loss: 0.9864 - acc: 0.520 - ETA: 0s - loss: 0.9866 - acc: 0.520 - ETA: 0s - loss: 0.9843 - acc: 0.522 - ETA: 0s - loss: 0.9854 - acc: 0.521 - ETA: 0s - loss: 0.9856 - acc: 0.520 - ETA: 0s - loss: 0.9865 - acc: 0.521 - ETA: 0s - loss: 0.9870 - acc: 0.521 - ETA: 0s - loss: 0.9871 - acc: 0.521 - 1s 162us/sample - loss: 0.9874 - acc: 0.5207 - val_loss: 0.9809 - val_acc: 0.5276\n",
      "Epoch 5/10\n",
      "7917/7917 [==============================] - ETA: 1s - loss: 0.9707 - acc: 0.520 - ETA: 1s - loss: 0.9547 - acc: 0.557 - ETA: 1s - loss: 0.9753 - acc: 0.544 - ETA: 0s - loss: 0.9642 - acc: 0.547 - ETA: 0s - loss: 0.9614 - acc: 0.554 - ETA: 0s - loss: 0.9707 - acc: 0.548 - ETA: 0s - loss: 0.9763 - acc: 0.541 - ETA: 0s - loss: 0.9805 - acc: 0.537 - ETA: 0s - loss: 0.9790 - acc: 0.534 - ETA: 0s - loss: 0.9799 - acc: 0.529 - ETA: 0s - loss: 0.9828 - acc: 0.528 - ETA: 0s - loss: 0.9811 - acc: 0.526 - ETA: 0s - loss: 0.9800 - acc: 0.527 - ETA: 0s - loss: 0.9772 - acc: 0.529 - ETA: 0s - loss: 0.9805 - acc: 0.526 - ETA: 0s - loss: 0.9817 - acc: 0.526 - ETA: 0s - loss: 0.9807 - acc: 0.527 - ETA: 0s - loss: 0.9837 - acc: 0.524 - ETA: 0s - loss: 0.9868 - acc: 0.522 - ETA: 0s - loss: 0.9873 - acc: 0.522 - ETA: 0s - loss: 0.9867 - acc: 0.523 - ETA: 0s - loss: 0.9871 - acc: 0.521 - ETA: 0s - loss: 0.9883 - acc: 0.520 - ETA: 0s - loss: 0.9882 - acc: 0.521 - 1s 170us/sample - loss: 0.9880 - acc: 0.5212 - val_loss: 0.9846 - val_acc: 0.5205\n",
      "Epoch 6/10\n",
      "7917/7917 [==============================] - ETA: 1s - loss: 1.0665 - acc: 0.400 - ETA: 1s - loss: 1.0034 - acc: 0.505 - ETA: 1s - loss: 1.0153 - acc: 0.488 - ETA: 0s - loss: 1.0041 - acc: 0.501 - ETA: 0s - loss: 0.9931 - acc: 0.512 - ETA: 0s - loss: 0.9921 - acc: 0.510 - ETA: 0s - loss: 1.0001 - acc: 0.501 - ETA: 0s - loss: 0.9993 - acc: 0.506 - ETA: 0s - loss: 0.9955 - acc: 0.511 - ETA: 0s - loss: 0.9965 - acc: 0.511 - ETA: 0s - loss: 0.9950 - acc: 0.513 - ETA: 0s - loss: 0.9979 - acc: 0.511 - ETA: 0s - loss: 0.9957 - acc: 0.513 - ETA: 0s - loss: 0.9939 - acc: 0.515 - ETA: 0s - loss: 0.9946 - acc: 0.515 - ETA: 0s - loss: 0.9961 - acc: 0.511 - ETA: 0s - loss: 0.9942 - acc: 0.513 - ETA: 0s - loss: 0.9936 - acc: 0.516 - ETA: 0s - loss: 0.9910 - acc: 0.518 - ETA: 0s - loss: 0.9907 - acc: 0.516 - ETA: 0s - loss: 0.9887 - acc: 0.519 - ETA: 0s - loss: 0.9882 - acc: 0.519 - ETA: 0s - loss: 0.9863 - acc: 0.521 - 1s 170us/sample - loss: 0.9861 - acc: 0.5209 - val_loss: 0.9826 - val_acc: 0.5308\n",
      "Epoch 7/10\n",
      "7917/7917 [==============================] - ETA: 1s - loss: 0.9778 - acc: 0.560 - ETA: 1s - loss: 0.9973 - acc: 0.520 - ETA: 1s - loss: 1.0101 - acc: 0.485 - ETA: 0s - loss: 1.0036 - acc: 0.492 - ETA: 0s - loss: 1.0004 - acc: 0.502 - ETA: 0s - loss: 0.9996 - acc: 0.509 - ETA: 0s - loss: 1.0002 - acc: 0.508 - ETA: 0s - loss: 0.9999 - acc: 0.505 - ETA: 0s - loss: 1.0015 - acc: 0.502 - ETA: 0s - loss: 1.0010 - acc: 0.504 - ETA: 0s - loss: 1.0012 - acc: 0.504 - ETA: 0s - loss: 1.0000 - acc: 0.509 - ETA: 0s - loss: 0.9965 - acc: 0.511 - ETA: 0s - loss: 0.9965 - acc: 0.511 - ETA: 0s - loss: 0.9956 - acc: 0.513 - ETA: 0s - loss: 0.9921 - acc: 0.515 - ETA: 0s - loss: 0.9913 - acc: 0.515 - ETA: 0s - loss: 0.9892 - acc: 0.517 - ETA: 0s - loss: 0.9890 - acc: 0.518 - ETA: 0s - loss: 0.9862 - acc: 0.521 - ETA: 0s - loss: 0.9862 - acc: 0.520 - ETA: 0s - loss: 0.9875 - acc: 0.519 - ETA: 0s - loss: 0.9872 - acc: 0.520 - 1s 166us/sample - loss: 0.9861 - acc: 0.5214 - val_loss: 0.9855 - val_acc: 0.5248\n",
      "Epoch 8/10\n",
      "7917/7917 [==============================] - ETA: 1s - loss: 0.8343 - acc: 0.680 - ETA: 1s - loss: 1.0170 - acc: 0.517 - ETA: 1s - loss: 0.9675 - acc: 0.555 - ETA: 1s - loss: 0.9663 - acc: 0.558 - ETA: 0s - loss: 0.9777 - acc: 0.539 - ETA: 0s - loss: 0.9742 - acc: 0.535 - ETA: 0s - loss: 0.9855 - acc: 0.524 - ETA: 0s - loss: 0.9869 - acc: 0.525 - ETA: 0s - loss: 0.9867 - acc: 0.526 - ETA: 0s - loss: 0.9852 - acc: 0.526 - ETA: 0s - loss: 0.9816 - acc: 0.527 - ETA: 0s - loss: 0.9796 - acc: 0.529 - ETA: 0s - loss: 0.9807 - acc: 0.528 - ETA: 0s - loss: 0.9856 - acc: 0.523 - ETA: 0s - loss: 0.9847 - acc: 0.523 - ETA: 0s - loss: 0.9857 - acc: 0.520 - ETA: 0s - loss: 0.9861 - acc: 0.520 - ETA: 0s - loss: 0.9876 - acc: 0.519 - ETA: 0s - loss: 0.9886 - acc: 0.518 - ETA: 0s - loss: 0.9880 - acc: 0.520 - ETA: 0s - loss: 0.9877 - acc: 0.520 - ETA: 0s - loss: 0.9880 - acc: 0.520 - ETA: 0s - loss: 0.9879 - acc: 0.520 - 1s 168us/sample - loss: 0.9868 - acc: 0.5209 - val_loss: 0.9796 - val_acc: 0.5237\n",
      "Epoch 9/10\n",
      "7917/7917 [==============================] - ETA: 1s - loss: 1.0423 - acc: 0.360 - ETA: 1s - loss: 0.9506 - acc: 0.557 - ETA: 1s - loss: 0.9475 - acc: 0.556 - ETA: 1s - loss: 0.9519 - acc: 0.555 - ETA: 2s - loss: 0.9520 - acc: 0.554 - ETA: 1s - loss: 0.9643 - acc: 0.536 - ETA: 1s - loss: 0.9625 - acc: 0.535 - ETA: 1s - loss: 0.9630 - acc: 0.536 - ETA: 1s - loss: 0.9597 - acc: 0.542 - ETA: 1s - loss: 0.9678 - acc: 0.537 - ETA: 1s - loss: 0.9746 - acc: 0.531 - ETA: 1s - loss: 0.9719 - acc: 0.533 - ETA: 1s - loss: 0.9729 - acc: 0.530 - ETA: 1s - loss: 0.9738 - acc: 0.529 - ETA: 1s - loss: 0.9723 - acc: 0.531 - ETA: 1s - loss: 0.9738 - acc: 0.531 - ETA: 1s - loss: 0.9735 - acc: 0.531 - ETA: 1s - loss: 0.9734 - acc: 0.530 - ETA: 1s - loss: 0.9724 - acc: 0.532 - ETA: 1s - loss: 0.9724 - acc: 0.532 - ETA: 1s - loss: 0.9747 - acc: 0.532 - ETA: 1s - loss: 0.9749 - acc: 0.531 - ETA: 1s - loss: 0.9758 - acc: 0.531 - ETA: 1s - loss: 0.9730 - acc: 0.534 - ETA: 1s - loss: 0.9731 - acc: 0.534 - ETA: 1s - loss: 0.9763 - acc: 0.530 - ETA: 1s - loss: 0.9770 - acc: 0.528 - ETA: 0s - loss: 0.9788 - acc: 0.527 - ETA: 0s - loss: 0.9799 - acc: 0.525 - ETA: 0s - loss: 0.9836 - acc: 0.521 - ETA: 0s - loss: 0.9835 - acc: 0.521 - ETA: 0s - loss: 0.9853 - acc: 0.521 - ETA: 0s - loss: 0.9855 - acc: 0.521 - ETA: 0s - loss: 0.9852 - acc: 0.522 - ETA: 0s - loss: 0.9836 - acc: 0.524 - ETA: 0s - loss: 0.9838 - acc: 0.524 - ETA: 0s - loss: 0.9845 - acc: 0.523 - ETA: 0s - loss: 0.9838 - acc: 0.524 - ETA: 0s - loss: 0.9842 - acc: 0.524 - ETA: 0s - loss: 0.9843 - acc: 0.525 - 2s 312us/sample - loss: 0.9844 - acc: 0.5252 - val_loss: 0.9791 - val_acc: 0.5292\n",
      "Epoch 10/10\n",
      "7917/7917 [==============================] - ETA: 2s - loss: 0.9525 - acc: 0.600 - ETA: 3s - loss: 1.0023 - acc: 0.520 - ETA: 3s - loss: 1.0138 - acc: 0.541 - ETA: 2s - loss: 0.9929 - acc: 0.526 - ETA: 1s - loss: 0.9990 - acc: 0.526 - ETA: 1s - loss: 0.9879 - acc: 0.530 - ETA: 1s - loss: 0.9888 - acc: 0.534 - ETA: 1s - loss: 0.9874 - acc: 0.528 - ETA: 1s - loss: 0.9841 - acc: 0.528 - ETA: 1s - loss: 0.9839 - acc: 0.525 - ETA: 0s - loss: 0.9844 - acc: 0.525 - ETA: 0s - loss: 0.9832 - acc: 0.523 - ETA: 0s - loss: 0.9875 - acc: 0.521 - ETA: 0s - loss: 0.9901 - acc: 0.519 - ETA: 0s - loss: 0.9906 - acc: 0.519 - ETA: 0s - loss: 0.9884 - acc: 0.518 - ETA: 0s - loss: 0.9877 - acc: 0.519 - ETA: 0s - loss: 0.9875 - acc: 0.519 - ETA: 0s - loss: 0.9839 - acc: 0.521 - ETA: 0s - loss: 0.9844 - acc: 0.521 - ETA: 0s - loss: 0.9842 - acc: 0.521 - ETA: 0s - loss: 0.9836 - acc: 0.522 - ETA: 0s - loss: 0.9834 - acc: 0.523 - ETA: 0s - loss: 0.9865 - acc: 0.520 - ETA: 0s - loss: 0.9860 - acc: 0.520 - 1s 186us/sample - loss: 0.9853 - acc: 0.5215 - val_loss: 0.9810 - val_acc: 0.5314\n"
     ]
    },
    {
     "data": {
      "text/html": [
       "<span style=\"color:#4527A0\"><h1 style=\"font-size:18px\">Trial complete</h1></span>"
      ],
      "text/plain": [
       "<IPython.core.display.HTML object>"
      ]
     },
     "metadata": {},
     "output_type": "display_data"
    },
    {
     "data": {
      "text/html": [
       "<span style=\"color:#4527A0\"><h1 style=\"font-size:18px\">Trial summary</h1></span>"
      ],
      "text/plain": [
       "<IPython.core.display.HTML object>"
      ]
     },
     "metadata": {},
     "output_type": "display_data"
    },
    {
     "data": {
      "text/html": [
       "<span style=\"color:cyan\"> |-Trial ID: fc7634f37b0a41f887f199d35f9e5971</span>"
      ],
      "text/plain": [
       "<IPython.core.display.HTML object>"
      ]
     },
     "metadata": {},
     "output_type": "display_data"
    },
    {
     "data": {
      "text/html": [
       "<span style=\"color:cyan\"> |-Score: 0.5313693284988403</span>"
      ],
      "text/plain": [
       "<IPython.core.display.HTML object>"
      ]
     },
     "metadata": {},
     "output_type": "display_data"
    },
    {
     "data": {
      "text/html": [
       "<span style=\"color:cyan\"> |-Best step: 0</span>"
      ],
      "text/plain": [
       "<IPython.core.display.HTML object>"
      ]
     },
     "metadata": {},
     "output_type": "display_data"
    },
    {
     "data": {
      "text/html": [
       "<span style=\"color:#7E57C2\"><h2 style=\"font-size:16px\">Hyperparameters:</h2></span>"
      ],
      "text/plain": [
       "<IPython.core.display.HTML object>"
      ]
     },
     "metadata": {},
     "output_type": "display_data"
    },
    {
     "data": {
      "text/html": [
       "<span style=\"color:cyan\"> |-layer_0_neurons: 50</span>"
      ],
      "text/plain": [
       "<IPython.core.display.HTML object>"
      ]
     },
     "metadata": {},
     "output_type": "display_data"
    },
    {
     "data": {
      "text/html": [
       "<span style=\"color:blue\"> |-layer_1_neurons: 70</span>"
      ],
      "text/plain": [
       "<IPython.core.display.HTML object>"
      ]
     },
     "metadata": {},
     "output_type": "display_data"
    },
    {
     "data": {
      "text/html": [
       "<span style=\"color:cyan\"> |-layer_2_neurons: 170</span>"
      ],
      "text/plain": [
       "<IPython.core.display.HTML object>"
      ]
     },
     "metadata": {},
     "output_type": "display_data"
    },
    {
     "data": {
      "text/html": [
       "<span style=\"color:blue\"> |-n_input_neurons: 110</span>"
      ],
      "text/plain": [
       "<IPython.core.display.HTML object>"
      ]
     },
     "metadata": {},
     "output_type": "display_data"
    },
    {
     "data": {
      "text/html": [
       "<span style=\"color:cyan\"> |-n_layers: 2</span>"
      ],
      "text/plain": [
       "<IPython.core.display.HTML object>"
      ]
     },
     "metadata": {},
     "output_type": "display_data"
    },
    {
     "name": "stdout",
     "output_type": "stream",
     "text": [
      "INFO:tensorflow:Oracle triggered exit\n"
     ]
    }
   ],
   "source": [
    "log_dir = f\"{int(time.time())}\"\n",
    "\n",
    "def build_model(hp):\n",
    "    model = tf.keras.models.Sequential()\n",
    "    \n",
    "    model.add(tf.keras.layers.Dense(hp.Int(\"n_input_neurons\",min_value = 10, max_value = 200, step = 20), input_dim=n_features, activation =tf.nn.relu))\n",
    "    \n",
    "    for i in range(hp.Int(\"n_layers\", 1, 3)):\n",
    "        model.add(tf.keras.layers.Dense(hp.Int(f\"layer_{i}_neurons\",min_value = 10, max_value = 200, step = 20), activation =tf.nn.relu))\n",
    "\n",
    "    #Output layer\n",
    "    model.add(tf.keras.layers.Dense(n_classes,activation =tf.nn.softmax))\n",
    "\n",
    "    #Compile\n",
    "    model.compile(optimizer = 'adam',\n",
    "                  loss = 'categorical_crossentropy',\n",
    "                  metrics = [\"accuracy\"])\n",
    "    return model\n",
    "\n",
    "tuner = RandomSearch(\n",
    "        build_model,\n",
    "        objective = \"val_acc\",\n",
    "        max_trials = 10,\n",
    "        executions_per_trial = 1,\n",
    "        directory = log_dir\n",
    "        )\n",
    "\n",
    "tuner.search(x = train_X_scaled,\n",
    "             y = train_Y_onehot_encoded,\n",
    "             epochs = 10,\n",
    "             batch_size = 25,\n",
    "             validation_data = (test_X_scaled, test_Y_onehot_encoded))"
   ]
  },
  {
   "cell_type": "code",
   "execution_count": 125,
   "metadata": {},
   "outputs": [
    {
     "name": "stdout",
     "output_type": "stream",
     "text": [
      "The best hyperparemeters found are : \n",
      "{'n_input_neurons': 70, 'n_layers': 3, 'layer_0_neurons': 110, 'layer_1_neurons': 50, 'layer_2_neurons': 110}\n",
      "Now the results summary : \n"
     ]
    },
    {
     "data": {
      "text/html": [
       "<span style=\"color:#4527A0\"><h1 style=\"font-size:18px\">Results summary</h1></span>"
      ],
      "text/plain": [
       "<IPython.core.display.HTML object>"
      ]
     },
     "metadata": {},
     "output_type": "display_data"
    },
    {
     "data": {
      "text/html": [
       "<span style=\"color:cyan\"> |-Results in 1587307749/untitled_project</span>"
      ],
      "text/plain": [
       "<IPython.core.display.HTML object>"
      ]
     },
     "metadata": {},
     "output_type": "display_data"
    },
    {
     "data": {
      "text/html": [
       "<span style=\"color:cyan\"> |-Showing 10 best trials</span>"
      ],
      "text/plain": [
       "<IPython.core.display.HTML object>"
      ]
     },
     "metadata": {},
     "output_type": "display_data"
    },
    {
     "data": {
      "text/html": [
       "<span style=\"color:cyan\"> |-Objective(name='val_acc', direction='max')</span>"
      ],
      "text/plain": [
       "<IPython.core.display.HTML object>"
      ]
     },
     "metadata": {},
     "output_type": "display_data"
    },
    {
     "data": {
      "text/html": [
       "<span style=\"color:#4527A0\"><h1 style=\"font-size:18px\">Trial summary</h1></span>"
      ],
      "text/plain": [
       "<IPython.core.display.HTML object>"
      ]
     },
     "metadata": {},
     "output_type": "display_data"
    },
    {
     "data": {
      "text/html": [
       "<span style=\"color:cyan\"> |-Trial ID: 410d110e71a4ab2b7b862fd31002f0d5</span>"
      ],
      "text/plain": [
       "<IPython.core.display.HTML object>"
      ]
     },
     "metadata": {},
     "output_type": "display_data"
    },
    {
     "data": {
      "text/html": [
       "<span style=\"color:cyan\"> |-Score: 0.5324604511260986</span>"
      ],
      "text/plain": [
       "<IPython.core.display.HTML object>"
      ]
     },
     "metadata": {},
     "output_type": "display_data"
    },
    {
     "data": {
      "text/html": [
       "<span style=\"color:cyan\"> |-Best step: 0</span>"
      ],
      "text/plain": [
       "<IPython.core.display.HTML object>"
      ]
     },
     "metadata": {},
     "output_type": "display_data"
    },
    {
     "data": {
      "text/html": [
       "<span style=\"color:#7E57C2\"><h2 style=\"font-size:16px\">Hyperparameters:</h2></span>"
      ],
      "text/plain": [
       "<IPython.core.display.HTML object>"
      ]
     },
     "metadata": {},
     "output_type": "display_data"
    },
    {
     "data": {
      "text/html": [
       "<span style=\"color:cyan\"> |-layer_0_neurons: 110</span>"
      ],
      "text/plain": [
       "<IPython.core.display.HTML object>"
      ]
     },
     "metadata": {},
     "output_type": "display_data"
    },
    {
     "data": {
      "text/html": [
       "<span style=\"color:blue\"> |-layer_1_neurons: 50</span>"
      ],
      "text/plain": [
       "<IPython.core.display.HTML object>"
      ]
     },
     "metadata": {},
     "output_type": "display_data"
    },
    {
     "data": {
      "text/html": [
       "<span style=\"color:cyan\"> |-layer_2_neurons: 110</span>"
      ],
      "text/plain": [
       "<IPython.core.display.HTML object>"
      ]
     },
     "metadata": {},
     "output_type": "display_data"
    },
    {
     "data": {
      "text/html": [
       "<span style=\"color:blue\"> |-n_input_neurons: 70</span>"
      ],
      "text/plain": [
       "<IPython.core.display.HTML object>"
      ]
     },
     "metadata": {},
     "output_type": "display_data"
    },
    {
     "data": {
      "text/html": [
       "<span style=\"color:cyan\"> |-n_layers: 3</span>"
      ],
      "text/plain": [
       "<IPython.core.display.HTML object>"
      ]
     },
     "metadata": {},
     "output_type": "display_data"
    },
    {
     "data": {
      "text/html": [
       "<span style=\"color:#4527A0\"><h1 style=\"font-size:18px\">Trial summary</h1></span>"
      ],
      "text/plain": [
       "<IPython.core.display.HTML object>"
      ]
     },
     "metadata": {},
     "output_type": "display_data"
    },
    {
     "data": {
      "text/html": [
       "<span style=\"color:cyan\"> |-Trial ID: 4c43578d4a7f11c93561ea5651133fa0</span>"
      ],
      "text/plain": [
       "<IPython.core.display.HTML object>"
      ]
     },
     "metadata": {},
     "output_type": "display_data"
    },
    {
     "data": {
      "text/html": [
       "<span style=\"color:cyan\"> |-Score: 0.5319148898124695</span>"
      ],
      "text/plain": [
       "<IPython.core.display.HTML object>"
      ]
     },
     "metadata": {},
     "output_type": "display_data"
    },
    {
     "data": {
      "text/html": [
       "<span style=\"color:cyan\"> |-Best step: 0</span>"
      ],
      "text/plain": [
       "<IPython.core.display.HTML object>"
      ]
     },
     "metadata": {},
     "output_type": "display_data"
    },
    {
     "data": {
      "text/html": [
       "<span style=\"color:#7E57C2\"><h2 style=\"font-size:16px\">Hyperparameters:</h2></span>"
      ],
      "text/plain": [
       "<IPython.core.display.HTML object>"
      ]
     },
     "metadata": {},
     "output_type": "display_data"
    },
    {
     "data": {
      "text/html": [
       "<span style=\"color:cyan\"> |-layer_0_neurons: 150</span>"
      ],
      "text/plain": [
       "<IPython.core.display.HTML object>"
      ]
     },
     "metadata": {},
     "output_type": "display_data"
    },
    {
     "data": {
      "text/html": [
       "<span style=\"color:blue\"> |-layer_1_neurons: 10</span>"
      ],
      "text/plain": [
       "<IPython.core.display.HTML object>"
      ]
     },
     "metadata": {},
     "output_type": "display_data"
    },
    {
     "data": {
      "text/html": [
       "<span style=\"color:cyan\"> |-n_input_neurons: 90</span>"
      ],
      "text/plain": [
       "<IPython.core.display.HTML object>"
      ]
     },
     "metadata": {},
     "output_type": "display_data"
    },
    {
     "data": {
      "text/html": [
       "<span style=\"color:blue\"> |-n_layers: 2</span>"
      ],
      "text/plain": [
       "<IPython.core.display.HTML object>"
      ]
     },
     "metadata": {},
     "output_type": "display_data"
    },
    {
     "data": {
      "text/html": [
       "<span style=\"color:#4527A0\"><h1 style=\"font-size:18px\">Trial summary</h1></span>"
      ],
      "text/plain": [
       "<IPython.core.display.HTML object>"
      ]
     },
     "metadata": {},
     "output_type": "display_data"
    },
    {
     "data": {
      "text/html": [
       "<span style=\"color:cyan\"> |-Trial ID: 12a0f4606373cfc09d01e0fed6939eac</span>"
      ],
      "text/plain": [
       "<IPython.core.display.HTML object>"
      ]
     },
     "metadata": {},
     "output_type": "display_data"
    },
    {
     "data": {
      "text/html": [
       "<span style=\"color:cyan\"> |-Score: 0.5319148898124695</span>"
      ],
      "text/plain": [
       "<IPython.core.display.HTML object>"
      ]
     },
     "metadata": {},
     "output_type": "display_data"
    },
    {
     "data": {
      "text/html": [
       "<span style=\"color:cyan\"> |-Best step: 0</span>"
      ],
      "text/plain": [
       "<IPython.core.display.HTML object>"
      ]
     },
     "metadata": {},
     "output_type": "display_data"
    },
    {
     "data": {
      "text/html": [
       "<span style=\"color:#7E57C2\"><h2 style=\"font-size:16px\">Hyperparameters:</h2></span>"
      ],
      "text/plain": [
       "<IPython.core.display.HTML object>"
      ]
     },
     "metadata": {},
     "output_type": "display_data"
    },
    {
     "data": {
      "text/html": [
       "<span style=\"color:cyan\"> |-layer_0_neurons: 110</span>"
      ],
      "text/plain": [
       "<IPython.core.display.HTML object>"
      ]
     },
     "metadata": {},
     "output_type": "display_data"
    },
    {
     "data": {
      "text/html": [
       "<span style=\"color:blue\"> |-layer_1_neurons: 30</span>"
      ],
      "text/plain": [
       "<IPython.core.display.HTML object>"
      ]
     },
     "metadata": {},
     "output_type": "display_data"
    },
    {
     "data": {
      "text/html": [
       "<span style=\"color:cyan\"> |-n_input_neurons: 170</span>"
      ],
      "text/plain": [
       "<IPython.core.display.HTML object>"
      ]
     },
     "metadata": {},
     "output_type": "display_data"
    },
    {
     "data": {
      "text/html": [
       "<span style=\"color:blue\"> |-n_layers: 1</span>"
      ],
      "text/plain": [
       "<IPython.core.display.HTML object>"
      ]
     },
     "metadata": {},
     "output_type": "display_data"
    },
    {
     "data": {
      "text/html": [
       "<span style=\"color:#4527A0\"><h1 style=\"font-size:18px\">Trial summary</h1></span>"
      ],
      "text/plain": [
       "<IPython.core.display.HTML object>"
      ]
     },
     "metadata": {},
     "output_type": "display_data"
    },
    {
     "data": {
      "text/html": [
       "<span style=\"color:cyan\"> |-Trial ID: c1f0572a4cfa09470cd768d310137ea4</span>"
      ],
      "text/plain": [
       "<IPython.core.display.HTML object>"
      ]
     },
     "metadata": {},
     "output_type": "display_data"
    },
    {
     "data": {
      "text/html": [
       "<span style=\"color:cyan\"> |-Score: 0.5319148898124695</span>"
      ],
      "text/plain": [
       "<IPython.core.display.HTML object>"
      ]
     },
     "metadata": {},
     "output_type": "display_data"
    },
    {
     "data": {
      "text/html": [
       "<span style=\"color:cyan\"> |-Best step: 0</span>"
      ],
      "text/plain": [
       "<IPython.core.display.HTML object>"
      ]
     },
     "metadata": {},
     "output_type": "display_data"
    },
    {
     "data": {
      "text/html": [
       "<span style=\"color:#7E57C2\"><h2 style=\"font-size:16px\">Hyperparameters:</h2></span>"
      ],
      "text/plain": [
       "<IPython.core.display.HTML object>"
      ]
     },
     "metadata": {},
     "output_type": "display_data"
    },
    {
     "data": {
      "text/html": [
       "<span style=\"color:cyan\"> |-layer_0_neurons: 130</span>"
      ],
      "text/plain": [
       "<IPython.core.display.HTML object>"
      ]
     },
     "metadata": {},
     "output_type": "display_data"
    },
    {
     "data": {
      "text/html": [
       "<span style=\"color:blue\"> |-layer_1_neurons: 170</span>"
      ],
      "text/plain": [
       "<IPython.core.display.HTML object>"
      ]
     },
     "metadata": {},
     "output_type": "display_data"
    },
    {
     "data": {
      "text/html": [
       "<span style=\"color:cyan\"> |-layer_2_neurons: 170</span>"
      ],
      "text/plain": [
       "<IPython.core.display.HTML object>"
      ]
     },
     "metadata": {},
     "output_type": "display_data"
    },
    {
     "data": {
      "text/html": [
       "<span style=\"color:blue\"> |-n_input_neurons: 170</span>"
      ],
      "text/plain": [
       "<IPython.core.display.HTML object>"
      ]
     },
     "metadata": {},
     "output_type": "display_data"
    },
    {
     "data": {
      "text/html": [
       "<span style=\"color:cyan\"> |-n_layers: 2</span>"
      ],
      "text/plain": [
       "<IPython.core.display.HTML object>"
      ]
     },
     "metadata": {},
     "output_type": "display_data"
    },
    {
     "data": {
      "text/html": [
       "<span style=\"color:#4527A0\"><h1 style=\"font-size:18px\">Trial summary</h1></span>"
      ],
      "text/plain": [
       "<IPython.core.display.HTML object>"
      ]
     },
     "metadata": {},
     "output_type": "display_data"
    },
    {
     "data": {
      "text/html": [
       "<span style=\"color:cyan\"> |-Trial ID: bb65b73b68832e5f8b4fee36f367f716</span>"
      ],
      "text/plain": [
       "<IPython.core.display.HTML object>"
      ]
     },
     "metadata": {},
     "output_type": "display_data"
    },
    {
     "data": {
      "text/html": [
       "<span style=\"color:cyan\"> |-Score: 0.5313693284988403</span>"
      ],
      "text/plain": [
       "<IPython.core.display.HTML object>"
      ]
     },
     "metadata": {},
     "output_type": "display_data"
    },
    {
     "data": {
      "text/html": [
       "<span style=\"color:cyan\"> |-Best step: 0</span>"
      ],
      "text/plain": [
       "<IPython.core.display.HTML object>"
      ]
     },
     "metadata": {},
     "output_type": "display_data"
    },
    {
     "data": {
      "text/html": [
       "<span style=\"color:#7E57C2\"><h2 style=\"font-size:16px\">Hyperparameters:</h2></span>"
      ],
      "text/plain": [
       "<IPython.core.display.HTML object>"
      ]
     },
     "metadata": {},
     "output_type": "display_data"
    },
    {
     "data": {
      "text/html": [
       "<span style=\"color:cyan\"> |-layer_0_neurons: 90</span>"
      ],
      "text/plain": [
       "<IPython.core.display.HTML object>"
      ]
     },
     "metadata": {},
     "output_type": "display_data"
    },
    {
     "data": {
      "text/html": [
       "<span style=\"color:blue\"> |-layer_1_neurons: 150</span>"
      ],
      "text/plain": [
       "<IPython.core.display.HTML object>"
      ]
     },
     "metadata": {},
     "output_type": "display_data"
    },
    {
     "data": {
      "text/html": [
       "<span style=\"color:cyan\"> |-n_input_neurons: 130</span>"
      ],
      "text/plain": [
       "<IPython.core.display.HTML object>"
      ]
     },
     "metadata": {},
     "output_type": "display_data"
    },
    {
     "data": {
      "text/html": [
       "<span style=\"color:blue\"> |-n_layers: 2</span>"
      ],
      "text/plain": [
       "<IPython.core.display.HTML object>"
      ]
     },
     "metadata": {},
     "output_type": "display_data"
    },
    {
     "data": {
      "text/html": [
       "<span style=\"color:#4527A0\"><h1 style=\"font-size:18px\">Trial summary</h1></span>"
      ],
      "text/plain": [
       "<IPython.core.display.HTML object>"
      ]
     },
     "metadata": {},
     "output_type": "display_data"
    },
    {
     "data": {
      "text/html": [
       "<span style=\"color:cyan\"> |-Trial ID: fc7634f37b0a41f887f199d35f9e5971</span>"
      ],
      "text/plain": [
       "<IPython.core.display.HTML object>"
      ]
     },
     "metadata": {},
     "output_type": "display_data"
    },
    {
     "data": {
      "text/html": [
       "<span style=\"color:cyan\"> |-Score: 0.5313693284988403</span>"
      ],
      "text/plain": [
       "<IPython.core.display.HTML object>"
      ]
     },
     "metadata": {},
     "output_type": "display_data"
    },
    {
     "data": {
      "text/html": [
       "<span style=\"color:cyan\"> |-Best step: 0</span>"
      ],
      "text/plain": [
       "<IPython.core.display.HTML object>"
      ]
     },
     "metadata": {},
     "output_type": "display_data"
    },
    {
     "data": {
      "text/html": [
       "<span style=\"color:#7E57C2\"><h2 style=\"font-size:16px\">Hyperparameters:</h2></span>"
      ],
      "text/plain": [
       "<IPython.core.display.HTML object>"
      ]
     },
     "metadata": {},
     "output_type": "display_data"
    },
    {
     "data": {
      "text/html": [
       "<span style=\"color:cyan\"> |-layer_0_neurons: 50</span>"
      ],
      "text/plain": [
       "<IPython.core.display.HTML object>"
      ]
     },
     "metadata": {},
     "output_type": "display_data"
    },
    {
     "data": {
      "text/html": [
       "<span style=\"color:blue\"> |-layer_1_neurons: 70</span>"
      ],
      "text/plain": [
       "<IPython.core.display.HTML object>"
      ]
     },
     "metadata": {},
     "output_type": "display_data"
    },
    {
     "data": {
      "text/html": [
       "<span style=\"color:cyan\"> |-layer_2_neurons: 170</span>"
      ],
      "text/plain": [
       "<IPython.core.display.HTML object>"
      ]
     },
     "metadata": {},
     "output_type": "display_data"
    },
    {
     "data": {
      "text/html": [
       "<span style=\"color:blue\"> |-n_input_neurons: 110</span>"
      ],
      "text/plain": [
       "<IPython.core.display.HTML object>"
      ]
     },
     "metadata": {},
     "output_type": "display_data"
    },
    {
     "data": {
      "text/html": [
       "<span style=\"color:cyan\"> |-n_layers: 2</span>"
      ],
      "text/plain": [
       "<IPython.core.display.HTML object>"
      ]
     },
     "metadata": {},
     "output_type": "display_data"
    },
    {
     "data": {
      "text/html": [
       "<span style=\"color:#4527A0\"><h1 style=\"font-size:18px\">Trial summary</h1></span>"
      ],
      "text/plain": [
       "<IPython.core.display.HTML object>"
      ]
     },
     "metadata": {},
     "output_type": "display_data"
    },
    {
     "data": {
      "text/html": [
       "<span style=\"color:cyan\"> |-Trial ID: e27a8f9d56727ea1e31f1dff2c02f89d</span>"
      ],
      "text/plain": [
       "<IPython.core.display.HTML object>"
      ]
     },
     "metadata": {},
     "output_type": "display_data"
    },
    {
     "data": {
      "text/html": [
       "<span style=\"color:cyan\"> |-Score: 0.5291871428489685</span>"
      ],
      "text/plain": [
       "<IPython.core.display.HTML object>"
      ]
     },
     "metadata": {},
     "output_type": "display_data"
    },
    {
     "data": {
      "text/html": [
       "<span style=\"color:cyan\"> |-Best step: 0</span>"
      ],
      "text/plain": [
       "<IPython.core.display.HTML object>"
      ]
     },
     "metadata": {},
     "output_type": "display_data"
    },
    {
     "data": {
      "text/html": [
       "<span style=\"color:#7E57C2\"><h2 style=\"font-size:16px\">Hyperparameters:</h2></span>"
      ],
      "text/plain": [
       "<IPython.core.display.HTML object>"
      ]
     },
     "metadata": {},
     "output_type": "display_data"
    },
    {
     "data": {
      "text/html": [
       "<span style=\"color:cyan\"> |-layer_0_neurons: 10</span>"
      ],
      "text/plain": [
       "<IPython.core.display.HTML object>"
      ]
     },
     "metadata": {},
     "output_type": "display_data"
    },
    {
     "data": {
      "text/html": [
       "<span style=\"color:blue\"> |-layer_1_neurons: 130</span>"
      ],
      "text/plain": [
       "<IPython.core.display.HTML object>"
      ]
     },
     "metadata": {},
     "output_type": "display_data"
    },
    {
     "data": {
      "text/html": [
       "<span style=\"color:cyan\"> |-n_input_neurons: 130</span>"
      ],
      "text/plain": [
       "<IPython.core.display.HTML object>"
      ]
     },
     "metadata": {},
     "output_type": "display_data"
    },
    {
     "data": {
      "text/html": [
       "<span style=\"color:blue\"> |-n_layers: 2</span>"
      ],
      "text/plain": [
       "<IPython.core.display.HTML object>"
      ]
     },
     "metadata": {},
     "output_type": "display_data"
    },
    {
     "data": {
      "text/html": [
       "<span style=\"color:#4527A0\"><h1 style=\"font-size:18px\">Trial summary</h1></span>"
      ],
      "text/plain": [
       "<IPython.core.display.HTML object>"
      ]
     },
     "metadata": {},
     "output_type": "display_data"
    },
    {
     "data": {
      "text/html": [
       "<span style=\"color:cyan\"> |-Trial ID: ef67640cd533283a2bf8c68257f73847</span>"
      ],
      "text/plain": [
       "<IPython.core.display.HTML object>"
      ]
     },
     "metadata": {},
     "output_type": "display_data"
    },
    {
     "data": {
      "text/html": [
       "<span style=\"color:cyan\"> |-Score: 0.5280960202217102</span>"
      ],
      "text/plain": [
       "<IPython.core.display.HTML object>"
      ]
     },
     "metadata": {},
     "output_type": "display_data"
    },
    {
     "data": {
      "text/html": [
       "<span style=\"color:cyan\"> |-Best step: 0</span>"
      ],
      "text/plain": [
       "<IPython.core.display.HTML object>"
      ]
     },
     "metadata": {},
     "output_type": "display_data"
    },
    {
     "data": {
      "text/html": [
       "<span style=\"color:#7E57C2\"><h2 style=\"font-size:16px\">Hyperparameters:</h2></span>"
      ],
      "text/plain": [
       "<IPython.core.display.HTML object>"
      ]
     },
     "metadata": {},
     "output_type": "display_data"
    },
    {
     "data": {
      "text/html": [
       "<span style=\"color:cyan\"> |-layer_0_neurons: 110</span>"
      ],
      "text/plain": [
       "<IPython.core.display.HTML object>"
      ]
     },
     "metadata": {},
     "output_type": "display_data"
    },
    {
     "data": {
      "text/html": [
       "<span style=\"color:blue\"> |-layer_1_neurons: 150</span>"
      ],
      "text/plain": [
       "<IPython.core.display.HTML object>"
      ]
     },
     "metadata": {},
     "output_type": "display_data"
    },
    {
     "data": {
      "text/html": [
       "<span style=\"color:cyan\"> |-layer_2_neurons: 10</span>"
      ],
      "text/plain": [
       "<IPython.core.display.HTML object>"
      ]
     },
     "metadata": {},
     "output_type": "display_data"
    },
    {
     "data": {
      "text/html": [
       "<span style=\"color:blue\"> |-n_input_neurons: 150</span>"
      ],
      "text/plain": [
       "<IPython.core.display.HTML object>"
      ]
     },
     "metadata": {},
     "output_type": "display_data"
    },
    {
     "data": {
      "text/html": [
       "<span style=\"color:cyan\"> |-n_layers: 3</span>"
      ],
      "text/plain": [
       "<IPython.core.display.HTML object>"
      ]
     },
     "metadata": {},
     "output_type": "display_data"
    },
    {
     "data": {
      "text/html": [
       "<span style=\"color:#4527A0\"><h1 style=\"font-size:18px\">Trial summary</h1></span>"
      ],
      "text/plain": [
       "<IPython.core.display.HTML object>"
      ]
     },
     "metadata": {},
     "output_type": "display_data"
    },
    {
     "data": {
      "text/html": [
       "<span style=\"color:cyan\"> |-Trial ID: 52f0cac4fa61874a915ba4c6800e811b</span>"
      ],
      "text/plain": [
       "<IPython.core.display.HTML object>"
      ]
     },
     "metadata": {},
     "output_type": "display_data"
    },
    {
     "data": {
      "text/html": [
       "<span style=\"color:cyan\"> |-Score: 0.5270048975944519</span>"
      ],
      "text/plain": [
       "<IPython.core.display.HTML object>"
      ]
     },
     "metadata": {},
     "output_type": "display_data"
    },
    {
     "data": {
      "text/html": [
       "<span style=\"color:cyan\"> |-Best step: 0</span>"
      ],
      "text/plain": [
       "<IPython.core.display.HTML object>"
      ]
     },
     "metadata": {},
     "output_type": "display_data"
    },
    {
     "data": {
      "text/html": [
       "<span style=\"color:#7E57C2\"><h2 style=\"font-size:16px\">Hyperparameters:</h2></span>"
      ],
      "text/plain": [
       "<IPython.core.display.HTML object>"
      ]
     },
     "metadata": {},
     "output_type": "display_data"
    },
    {
     "data": {
      "text/html": [
       "<span style=\"color:cyan\"> |-layer_0_neurons: 130</span>"
      ],
      "text/plain": [
       "<IPython.core.display.HTML object>"
      ]
     },
     "metadata": {},
     "output_type": "display_data"
    },
    {
     "data": {
      "text/html": [
       "<span style=\"color:blue\"> |-layer_1_neurons: 50</span>"
      ],
      "text/plain": [
       "<IPython.core.display.HTML object>"
      ]
     },
     "metadata": {},
     "output_type": "display_data"
    },
    {
     "data": {
      "text/html": [
       "<span style=\"color:cyan\"> |-layer_2_neurons: 30</span>"
      ],
      "text/plain": [
       "<IPython.core.display.HTML object>"
      ]
     },
     "metadata": {},
     "output_type": "display_data"
    },
    {
     "data": {
      "text/html": [
       "<span style=\"color:blue\"> |-n_input_neurons: 130</span>"
      ],
      "text/plain": [
       "<IPython.core.display.HTML object>"
      ]
     },
     "metadata": {},
     "output_type": "display_data"
    },
    {
     "data": {
      "text/html": [
       "<span style=\"color:cyan\"> |-n_layers: 1</span>"
      ],
      "text/plain": [
       "<IPython.core.display.HTML object>"
      ]
     },
     "metadata": {},
     "output_type": "display_data"
    },
    {
     "data": {
      "text/html": [
       "<span style=\"color:#4527A0\"><h1 style=\"font-size:18px\">Trial summary</h1></span>"
      ],
      "text/plain": [
       "<IPython.core.display.HTML object>"
      ]
     },
     "metadata": {},
     "output_type": "display_data"
    },
    {
     "data": {
      "text/html": [
       "<span style=\"color:cyan\"> |-Trial ID: 2ec0fad56f1d648c54791b60ef744aea</span>"
      ],
      "text/plain": [
       "<IPython.core.display.HTML object>"
      ]
     },
     "metadata": {},
     "output_type": "display_data"
    },
    {
     "data": {
      "text/html": [
       "<span style=\"color:cyan\"> |-Score: 0.5264593362808228</span>"
      ],
      "text/plain": [
       "<IPython.core.display.HTML object>"
      ]
     },
     "metadata": {},
     "output_type": "display_data"
    },
    {
     "data": {
      "text/html": [
       "<span style=\"color:cyan\"> |-Best step: 0</span>"
      ],
      "text/plain": [
       "<IPython.core.display.HTML object>"
      ]
     },
     "metadata": {},
     "output_type": "display_data"
    },
    {
     "data": {
      "text/html": [
       "<span style=\"color:#7E57C2\"><h2 style=\"font-size:16px\">Hyperparameters:</h2></span>"
      ],
      "text/plain": [
       "<IPython.core.display.HTML object>"
      ]
     },
     "metadata": {},
     "output_type": "display_data"
    },
    {
     "data": {
      "text/html": [
       "<span style=\"color:cyan\"> |-layer_0_neurons: 70</span>"
      ],
      "text/plain": [
       "<IPython.core.display.HTML object>"
      ]
     },
     "metadata": {},
     "output_type": "display_data"
    },
    {
     "data": {
      "text/html": [
       "<span style=\"color:blue\"> |-layer_1_neurons: 70</span>"
      ],
      "text/plain": [
       "<IPython.core.display.HTML object>"
      ]
     },
     "metadata": {},
     "output_type": "display_data"
    },
    {
     "data": {
      "text/html": [
       "<span style=\"color:cyan\"> |-n_input_neurons: 90</span>"
      ],
      "text/plain": [
       "<IPython.core.display.HTML object>"
      ]
     },
     "metadata": {},
     "output_type": "display_data"
    },
    {
     "data": {
      "text/html": [
       "<span style=\"color:blue\"> |-n_layers: 2</span>"
      ],
      "text/plain": [
       "<IPython.core.display.HTML object>"
      ]
     },
     "metadata": {},
     "output_type": "display_data"
    },
    {
     "name": "stdout",
     "output_type": "stream",
     "text": [
      "None\n",
      "The summary for the best model : \n",
      "Model: \"sequential\"\n",
      "_________________________________________________________________\n",
      "Layer (type)                 Output Shape              Param #   \n",
      "=================================================================\n",
      "dense (Dense)                (None, 70)                1050      \n",
      "_________________________________________________________________\n",
      "dense_1 (Dense)              (None, 110)               7810      \n",
      "_________________________________________________________________\n",
      "dense_2 (Dense)              (None, 50)                5550      \n",
      "_________________________________________________________________\n",
      "dense_3 (Dense)              (None, 110)               5610      \n",
      "_________________________________________________________________\n",
      "dense_4 (Dense)              (None, 3)                 333       \n",
      "=================================================================\n",
      "Total params: 20,353\n",
      "Trainable params: 20,353\n",
      "Non-trainable params: 0\n",
      "_________________________________________________________________\n",
      "None\n"
     ]
    }
   ],
   "source": [
    "print(\"The best hyperparemeters found are : \")\n",
    "print(tuner.get_best_hyperparameters()[0].values)\n",
    "print(\"Now the results summary : \")\n",
    "print(tuner.results_summary())\n",
    "print(\"The summary for the best model : \")\n",
    "print(tuner.get_best_models()[0].summary())"
   ]
  },
  {
   "cell_type": "markdown",
   "metadata": {},
   "source": [
    "## Choosing final model"
   ]
  },
  {
   "cell_type": "code",
   "execution_count": 137,
   "metadata": {},
   "outputs": [
    {
     "name": "stdout",
     "output_type": "stream",
     "text": [
      "Train on 7917 samples, validate on 1833 samples\n",
      "Epoch 1/100\n",
      "7917/7917 [==============================] - ETA: 5:31 - loss: 1.0852 - acc: 0.450 - ETA: 57s - loss: 1.0750 - acc: 0.466 - ETA: 36s - loss: 1.0871 - acc: 0.41 - ETA: 25s - loss: 1.0682 - acc: 0.45 - ETA: 16s - loss: 1.0695 - acc: 0.45 - ETA: 12s - loss: 1.0686 - acc: 0.46 - ETA: 11s - loss: 1.0678 - acc: 0.46 - ETA: 9s - loss: 1.0659 - acc: 0.4686 - ETA: 8s - loss: 1.0672 - acc: 0.467 - ETA: 7s - loss: 1.0653 - acc: 0.472 - ETA: 7s - loss: 1.0699 - acc: 0.460 - ETA: 6s - loss: 1.0705 - acc: 0.465 - ETA: 6s - loss: 1.0716 - acc: 0.465 - ETA: 5s - loss: 1.0725 - acc: 0.465 - ETA: 5s - loss: 1.0730 - acc: 0.463 - ETA: 5s - loss: 1.0746 - acc: 0.459 - ETA: 4s - loss: 1.0737 - acc: 0.459 - ETA: 4s - loss: 1.0734 - acc: 0.457 - ETA: 4s - loss: 1.0737 - acc: 0.456 - ETA: 4s - loss: 1.0745 - acc: 0.454 - ETA: 3s - loss: 1.0742 - acc: 0.455 - ETA: 3s - loss: 1.0745 - acc: 0.457 - ETA: 3s - loss: 1.0744 - acc: 0.457 - ETA: 3s - loss: 1.0740 - acc: 0.459 - ETA: 3s - loss: 1.0740 - acc: 0.457 - ETA: 3s - loss: 1.0749 - acc: 0.457 - ETA: 2s - loss: 1.0758 - acc: 0.455 - ETA: 2s - loss: 1.0758 - acc: 0.456 - ETA: 2s - loss: 1.0746 - acc: 0.459 - ETA: 2s - loss: 1.0754 - acc: 0.458 - ETA: 2s - loss: 1.0757 - acc: 0.457 - ETA: 2s - loss: 1.0754 - acc: 0.457 - ETA: 2s - loss: 1.0748 - acc: 0.459 - ETA: 2s - loss: 1.0753 - acc: 0.458 - ETA: 2s - loss: 1.0757 - acc: 0.457 - ETA: 1s - loss: 1.0758 - acc: 0.457 - ETA: 1s - loss: 1.0753 - acc: 0.458 - ETA: 1s - loss: 1.0753 - acc: 0.459 - ETA: 1s - loss: 1.0757 - acc: 0.457 - ETA: 1s - loss: 1.0759 - acc: 0.455 - ETA: 1s - loss: 1.0763 - acc: 0.454 - ETA: 1s - loss: 1.0764 - acc: 0.453 - ETA: 1s - loss: 1.0762 - acc: 0.453 - ETA: 1s - loss: 1.0760 - acc: 0.453 - ETA: 1s - loss: 1.0756 - acc: 0.454 - ETA: 1s - loss: 1.0754 - acc: 0.456 - ETA: 1s - loss: 1.0748 - acc: 0.457 - ETA: 1s - loss: 1.0754 - acc: 0.455 - ETA: 0s - loss: 1.0756 - acc: 0.455 - ETA: 0s - loss: 1.0751 - acc: 0.456 - ETA: 0s - loss: 1.0751 - acc: 0.455 - ETA: 0s - loss: 1.0751 - acc: 0.456 - ETA: 0s - loss: 1.0749 - acc: 0.456 - ETA: 0s - loss: 1.0753 - acc: 0.455 - ETA: 0s - loss: 1.0751 - acc: 0.456 - ETA: 0s - loss: 1.0752 - acc: 0.455 - ETA: 0s - loss: 1.0748 - acc: 0.456 - ETA: 0s - loss: 1.0748 - acc: 0.457 - ETA: 0s - loss: 1.0751 - acc: 0.456 - ETA: 0s - loss: 1.0748 - acc: 0.457 - ETA: 0s - loss: 1.0747 - acc: 0.458 - ETA: 0s - loss: 1.0745 - acc: 0.458 - ETA: 0s - loss: 1.0742 - acc: 0.460 - 5s 610us/sample - loss: 1.0744 - acc: 0.4593 - val_loss: 1.0747 - val_acc: 0.4588\n",
      "Epoch 2/100\n",
      "7917/7917 [==============================] - ETA: 4s - loss: 1.0565 - acc: 0.550 - ETA: 5s - loss: 1.0685 - acc: 0.470 - ETA: 6s - loss: 1.0533 - acc: 0.543 - ETA: 5s - loss: 1.0589 - acc: 0.520 - ETA: 5s - loss: 1.0600 - acc: 0.511 - ETA: 4s - loss: 1.0605 - acc: 0.506 - ETA: 4s - loss: 1.0623 - acc: 0.500 - ETA: 4s - loss: 1.0643 - acc: 0.498 - ETA: 4s - loss: 1.0606 - acc: 0.498 - ETA: 3s - loss: 1.0629 - acc: 0.495 - ETA: 4s - loss: 1.0629 - acc: 0.492 - ETA: 3s - loss: 1.0653 - acc: 0.487 - ETA: 3s - loss: 1.0663 - acc: 0.479 - ETA: 3s - loss: 1.0662 - acc: 0.477 - ETA: 3s - loss: 1.0696 - acc: 0.471 - ETA: 3s - loss: 1.0704 - acc: 0.468 - ETA: 3s - loss: 1.0693 - acc: 0.470 - ETA: 3s - loss: 1.0679 - acc: 0.475 - ETA: 3s - loss: 1.0684 - acc: 0.472 - ETA: 3s - loss: 1.0690 - acc: 0.471 - ETA: 3s - loss: 1.0722 - acc: 0.464 - ETA: 3s - loss: 1.0732 - acc: 0.460 - ETA: 3s - loss: 1.0731 - acc: 0.460 - ETA: 3s - loss: 1.0730 - acc: 0.461 - ETA: 3s - loss: 1.0748 - acc: 0.456 - ETA: 3s - loss: 1.0754 - acc: 0.455 - ETA: 3s - loss: 1.0759 - acc: 0.454 - ETA: 2s - loss: 1.0750 - acc: 0.455 - ETA: 2s - loss: 1.0751 - acc: 0.455 - ETA: 2s - loss: 1.0740 - acc: 0.457 - ETA: 2s - loss: 1.0734 - acc: 0.457 - ETA: 2s - loss: 1.0725 - acc: 0.459 - ETA: 2s - loss: 1.0724 - acc: 0.458 - ETA: 2s - loss: 1.0727 - acc: 0.457 - ETA: 2s - loss: 1.0724 - acc: 0.459 - ETA: 2s - loss: 1.0726 - acc: 0.458 - ETA: 2s - loss: 1.0733 - acc: 0.455 - ETA: 2s - loss: 1.0740 - acc: 0.455 - ETA: 2s - loss: 1.0741 - acc: 0.454 - ETA: 2s - loss: 1.0739 - acc: 0.455 - ETA: 2s - loss: 1.0742 - acc: 0.455 - ETA: 2s - loss: 1.0744 - acc: 0.453 - ETA: 2s - loss: 1.0740 - acc: 0.454 - ETA: 2s - loss: 1.0739 - acc: 0.455 - ETA: 1s - loss: 1.0742 - acc: 0.454 - ETA: 1s - loss: 1.0740 - acc: 0.453 - ETA: 1s - loss: 1.0735 - acc: 0.455 - ETA: 1s - loss: 1.0736 - acc: 0.455 - ETA: 1s - loss: 1.0734 - acc: 0.456 - ETA: 1s - loss: 1.0734 - acc: 0.456 - ETA: 1s - loss: 1.0731 - acc: 0.456 - ETA: 1s - loss: 1.0731 - acc: 0.456 - ETA: 1s - loss: 1.0731 - acc: 0.456 - ETA: 1s - loss: 1.0732 - acc: 0.456 - ETA: 1s - loss: 1.0731 - acc: 0.457 - ETA: 1s - loss: 1.0735 - acc: 0.454 - ETA: 1s - loss: 1.0733 - acc: 0.455 - ETA: 1s - loss: 1.0726 - acc: 0.456 - ETA: 1s - loss: 1.0718 - acc: 0.459 - ETA: 1s - loss: 1.0716 - acc: 0.459 - ETA: 1s - loss: 1.0715 - acc: 0.460 - ETA: 1s - loss: 1.0713 - acc: 0.461 - ETA: 1s - loss: 1.0718 - acc: 0.460 - ETA: 1s - loss: 1.0717 - acc: 0.460 - ETA: 0s - loss: 1.0718 - acc: 0.461 - ETA: 0s - loss: 1.0719 - acc: 0.460 - ETA: 0s - loss: 1.0716 - acc: 0.461 - ETA: 0s - loss: 1.0723 - acc: 0.459 - ETA: 0s - loss: 1.0724 - acc: 0.459 - ETA: 0s - loss: 1.0723 - acc: 0.460 - ETA: 0s - loss: 1.0721 - acc: 0.460 - ETA: 0s - loss: 1.0717 - acc: 0.460 - ETA: 0s - loss: 1.0725 - acc: 0.459 - ETA: 0s - loss: 1.0721 - acc: 0.460 - ETA: 0s - loss: 1.0721 - acc: 0.460 - ETA: 0s - loss: 1.0721 - acc: 0.460 - ETA: 0s - loss: 1.0724 - acc: 0.459 - ETA: 0s - loss: 1.0725 - acc: 0.459 - ETA: 0s - loss: 1.0725 - acc: 0.459 - ETA: 0s - loss: 1.0724 - acc: 0.459 - ETA: 0s - loss: 1.0724 - acc: 0.459 - ETA: 0s - loss: 1.0722 - acc: 0.459 - 5s 582us/sample - loss: 1.0723 - acc: 0.4590 - val_loss: 1.0732 - val_acc: 0.4588\n",
      "Epoch 3/100\n",
      "7917/7917 [==============================] - ETA: 8s - loss: 1.1267 - acc: 0.400 - ETA: 4s - loss: 1.0731 - acc: 0.475 - ETA: 5s - loss: 1.0609 - acc: 0.500 - ETA: 5s - loss: 1.0722 - acc: 0.473 - ETA: 6s - loss: 1.0679 - acc: 0.481 - ETA: 5s - loss: 1.0682 - acc: 0.488 - ETA: 4s - loss: 1.0629 - acc: 0.501 - ETA: 4s - loss: 1.0665 - acc: 0.491 - ETA: 4s - loss: 1.0691 - acc: 0.481 - ETA: 4s - loss: 1.0669 - acc: 0.487 - ETA: 4s - loss: 1.0670 - acc: 0.487 - ETA: 4s - loss: 1.0658 - acc: 0.489 - ETA: 4s - loss: 1.0634 - acc: 0.493 - ETA: 4s - loss: 1.0669 - acc: 0.486 - ETA: 4s - loss: 1.0681 - acc: 0.481 - ETA: 4s - loss: 1.0673 - acc: 0.482 - ETA: 4s - loss: 1.0668 - acc: 0.484 - ETA: 4s - loss: 1.0673 - acc: 0.481 - ETA: 4s - loss: 1.0666 - acc: 0.483 - ETA: 4s - loss: 1.0676 - acc: 0.480 - ETA: 4s - loss: 1.0672 - acc: 0.481 - ETA: 4s - loss: 1.0683 - acc: 0.477 - ETA: 4s - loss: 1.0679 - acc: 0.479 - ETA: 3s - loss: 1.0692 - acc: 0.476 - ETA: 3s - loss: 1.0709 - acc: 0.472 - ETA: 3s - loss: 1.0713 - acc: 0.472 - ETA: 3s - loss: 1.0709 - acc: 0.472 - ETA: 3s - loss: 1.0715 - acc: 0.469 - ETA: 3s - loss: 1.0716 - acc: 0.468 - ETA: 3s - loss: 1.0725 - acc: 0.467 - ETA: 3s - loss: 1.0715 - acc: 0.469 - ETA: 3s - loss: 1.0713 - acc: 0.470 - ETA: 3s - loss: 1.0705 - acc: 0.473 - ETA: 3s - loss: 1.0703 - acc: 0.473 - ETA: 3s - loss: 1.0708 - acc: 0.472 - ETA: 3s - loss: 1.0722 - acc: 0.470 - ETA: 3s - loss: 1.0718 - acc: 0.471 - ETA: 3s - loss: 1.0713 - acc: 0.471 - ETA: 3s - loss: 1.0708 - acc: 0.471 - ETA: 3s - loss: 1.0712 - acc: 0.470 - ETA: 3s - loss: 1.0717 - acc: 0.471 - ETA: 3s - loss: 1.0720 - acc: 0.470 - ETA: 3s - loss: 1.0719 - acc: 0.470 - ETA: 3s - loss: 1.0721 - acc: 0.469 - ETA: 3s - loss: 1.0727 - acc: 0.467 - ETA: 3s - loss: 1.0727 - acc: 0.468 - ETA: 3s - loss: 1.0727 - acc: 0.467 - ETA: 2s - loss: 1.0722 - acc: 0.468 - ETA: 2s - loss: 1.0729 - acc: 0.467 - ETA: 2s - loss: 1.0726 - acc: 0.466 - ETA: 2s - loss: 1.0729 - acc: 0.466 - ETA: 2s - loss: 1.0726 - acc: 0.466 - ETA: 2s - loss: 1.0723 - acc: 0.467 - ETA: 2s - loss: 1.0720 - acc: 0.467 - ETA: 2s - loss: 1.0717 - acc: 0.467 - ETA: 2s - loss: 1.0716 - acc: 0.467 - ETA: 2s - loss: 1.0719 - acc: 0.466 - ETA: 2s - loss: 1.0712 - acc: 0.467 - ETA: 2s - loss: 1.0711 - acc: 0.467 - ETA: 2s - loss: 1.0711 - acc: 0.467 - ETA: 2s - loss: 1.0707 - acc: 0.467 - ETA: 2s - loss: 1.0708 - acc: 0.467 - ETA: 2s - loss: 1.0701 - acc: 0.468 - ETA: 1s - loss: 1.0698 - acc: 0.469 - ETA: 1s - loss: 1.0701 - acc: 0.469 - ETA: 1s - loss: 1.0702 - acc: 0.468 - ETA: 1s - loss: 1.0709 - acc: 0.466 - ETA: 1s - loss: 1.0712 - acc: 0.465 - ETA: 1s - loss: 1.0710 - acc: 0.465 - ETA: 1s - loss: 1.0711 - acc: 0.465 - ETA: 1s - loss: 1.0705 - acc: 0.466 - ETA: 1s - loss: 1.0708 - acc: 0.466 - ETA: 1s - loss: 1.0708 - acc: 0.465 - ETA: 1s - loss: 1.0712 - acc: 0.464 - ETA: 1s - loss: 1.0714 - acc: 0.464 - ETA: 1s - loss: 1.0714 - acc: 0.464 - ETA: 1s - loss: 1.0712 - acc: 0.464 - ETA: 0s - loss: 1.0715 - acc: 0.463 - ETA: 0s - loss: 1.0715 - acc: 0.464 - ETA: 0s - loss: 1.0721 - acc: 0.463 - ETA: 0s - loss: 1.0724 - acc: 0.463 - ETA: 0s - loss: 1.0728 - acc: 0.462 - ETA: 0s - loss: 1.0730 - acc: 0.461 - ETA: 0s - loss: 1.0728 - acc: 0.461 - ETA: 0s - loss: 1.0729 - acc: 0.461 - ETA: 0s - loss: 1.0734 - acc: 0.460 - ETA: 0s - loss: 1.0733 - acc: 0.461 - ETA: 0s - loss: 1.0735 - acc: 0.460 - 5s 632us/sample - loss: 1.0735 - acc: 0.4601 - val_loss: 1.0718 - val_acc: 0.4588\n",
      "Epoch 4/100\n",
      "7917/7917 [==============================] - ETA: 6s - loss: 1.0283 - acc: 0.550 - ETA: 4s - loss: 1.0751 - acc: 0.491 - ETA: 4s - loss: 1.0657 - acc: 0.505 - ETA: 5s - loss: 1.0701 - acc: 0.473 - ETA: 4s - loss: 1.0698 - acc: 0.473 - ETA: 3s - loss: 1.0621 - acc: 0.492 - ETA: 3s - loss: 1.0655 - acc: 0.485 - ETA: 3s - loss: 1.0678 - acc: 0.476 - ETA: 3s - loss: 1.0682 - acc: 0.470 - ETA: 3s - loss: 1.0698 - acc: 0.468 - ETA: 3s - loss: 1.0690 - acc: 0.471 - ETA: 3s - loss: 1.0683 - acc: 0.479 - ETA: 3s - loss: 1.0708 - acc: 0.472 - ETA: 3s - loss: 1.0670 - acc: 0.478 - ETA: 3s - loss: 1.0654 - acc: 0.484 - ETA: 2s - loss: 1.0630 - acc: 0.488 - ETA: 2s - loss: 1.0625 - acc: 0.486 - ETA: 2s - loss: 1.0647 - acc: 0.479 - ETA: 2s - loss: 1.0638 - acc: 0.483 - ETA: 2s - loss: 1.0652 - acc: 0.480 - ETA: 2s - loss: 1.0643 - acc: 0.481 - ETA: 2s - loss: 1.0640 - acc: 0.482 - ETA: 2s - loss: 1.0653 - acc: 0.479 - ETA: 2s - loss: 1.0648 - acc: 0.480 - ETA: 2s - loss: 1.0659 - acc: 0.477 - ETA: 2s - loss: 1.0659 - acc: 0.478 - ETA: 2s - loss: 1.0649 - acc: 0.480 - ETA: 2s - loss: 1.0655 - acc: 0.476 - ETA: 2s - loss: 1.0652 - acc: 0.476 - ETA: 2s - loss: 1.0681 - acc: 0.470 - ETA: 2s - loss: 1.0679 - acc: 0.472 - ETA: 1s - loss: 1.0682 - acc: 0.470 - ETA: 1s - loss: 1.0683 - acc: 0.470 - ETA: 1s - loss: 1.0680 - acc: 0.471 - ETA: 1s - loss: 1.0685 - acc: 0.470 - ETA: 1s - loss: 1.0689 - acc: 0.470 - ETA: 1s - loss: 1.0691 - acc: 0.472 - ETA: 1s - loss: 1.0690 - acc: 0.473 - ETA: 1s - loss: 1.0694 - acc: 0.472 - ETA: 1s - loss: 1.0700 - acc: 0.470 - ETA: 1s - loss: 1.0700 - acc: 0.471 - ETA: 1s - loss: 1.0701 - acc: 0.470 - ETA: 1s - loss: 1.0708 - acc: 0.469 - ETA: 1s - loss: 1.0708 - acc: 0.468 - ETA: 1s - loss: 1.0702 - acc: 0.468 - ETA: 1s - loss: 1.0710 - acc: 0.466 - ETA: 1s - loss: 1.0713 - acc: 0.466 - ETA: 1s - loss: 1.0715 - acc: 0.465 - ETA: 0s - loss: 1.0714 - acc: 0.465 - ETA: 0s - loss: 1.0714 - acc: 0.464 - ETA: 0s - loss: 1.0713 - acc: 0.464 - ETA: 0s - loss: 1.0709 - acc: 0.466 - ETA: 0s - loss: 1.0714 - acc: 0.464 - ETA: 0s - loss: 1.0714 - acc: 0.464 - ETA: 0s - loss: 1.0720 - acc: 0.463 - ETA: 0s - loss: 1.0713 - acc: 0.464 - ETA: 0s - loss: 1.0713 - acc: 0.463 - ETA: 0s - loss: 1.0717 - acc: 0.463 - ETA: 0s - loss: 1.0717 - acc: 0.463 - ETA: 0s - loss: 1.0716 - acc: 0.464 - ETA: 0s - loss: 1.0714 - acc: 0.465 - ETA: 0s - loss: 1.0717 - acc: 0.464 - ETA: 0s - loss: 1.0713 - acc: 0.465 - ETA: 0s - loss: 1.0714 - acc: 0.465 - ETA: 0s - loss: 1.0714 - acc: 0.464 - 4s 465us/sample - loss: 1.0714 - acc: 0.4649 - val_loss: 1.0706 - val_acc: 0.4588\n",
      "Epoch 5/100\n",
      "7917/7917 [==============================] - ETA: 6s - loss: 1.0612 - acc: 0.500 - ETA: 4s - loss: 1.0566 - acc: 0.491 - ETA: 3s - loss: 1.0565 - acc: 0.484 - ETA: 3s - loss: 1.0688 - acc: 0.471 - ETA: 3s - loss: 1.0779 - acc: 0.438 - ETA: 3s - loss: 1.0815 - acc: 0.431 - ETA: 2s - loss: 1.0780 - acc: 0.438 - ETA: 2s - loss: 1.0795 - acc: 0.442 - ETA: 2s - loss: 1.0811 - acc: 0.443 - ETA: 2s - loss: 1.0782 - acc: 0.447 - ETA: 2s - loss: 1.0764 - acc: 0.452 - ETA: 2s - loss: 1.0757 - acc: 0.454 - ETA: 2s - loss: 1.0763 - acc: 0.453 - ETA: 2s - loss: 1.0763 - acc: 0.454 - ETA: 2s - loss: 1.0754 - acc: 0.457 - ETA: 2s - loss: 1.0769 - acc: 0.454 - ETA: 1s - loss: 1.0743 - acc: 0.459 - ETA: 1s - loss: 1.0760 - acc: 0.452 - ETA: 1s - loss: 1.0739 - acc: 0.456 - ETA: 1s - loss: 1.0745 - acc: 0.453 - ETA: 1s - loss: 1.0737 - acc: 0.455 - ETA: 1s - loss: 1.0735 - acc: 0.457 - ETA: 1s - loss: 1.0753 - acc: 0.454 - ETA: 1s - loss: 1.0753 - acc: 0.452 - ETA: 1s - loss: 1.0740 - acc: 0.454 - ETA: 1s - loss: 1.0733 - acc: 0.456 - ETA: 1s - loss: 1.0732 - acc: 0.455 - ETA: 1s - loss: 1.0727 - acc: 0.457 - ETA: 1s - loss: 1.0725 - acc: 0.457 - ETA: 1s - loss: 1.0726 - acc: 0.457 - ETA: 1s - loss: 1.0719 - acc: 0.460 - ETA: 1s - loss: 1.0717 - acc: 0.460 - ETA: 1s - loss: 1.0710 - acc: 0.461 - ETA: 1s - loss: 1.0714 - acc: 0.461 - ETA: 0s - loss: 1.0711 - acc: 0.461 - ETA: 0s - loss: 1.0720 - acc: 0.459 - ETA: 0s - loss: 1.0722 - acc: 0.458 - ETA: 0s - loss: 1.0716 - acc: 0.459 - ETA: 0s - loss: 1.0720 - acc: 0.459 - ETA: 0s - loss: 1.0721 - acc: 0.458 - ETA: 0s - loss: 1.0722 - acc: 0.458 - ETA: 0s - loss: 1.0719 - acc: 0.459 - ETA: 0s - loss: 1.0722 - acc: 0.458 - ETA: 0s - loss: 1.0719 - acc: 0.459 - ETA: 0s - loss: 1.0724 - acc: 0.457 - ETA: 0s - loss: 1.0721 - acc: 0.457 - ETA: 0s - loss: 1.0719 - acc: 0.458 - ETA: 0s - loss: 1.0718 - acc: 0.459 - ETA: 0s - loss: 1.0714 - acc: 0.460 - ETA: 0s - loss: 1.0713 - acc: 0.460 - ETA: 0s - loss: 1.0711 - acc: 0.461 - ETA: 0s - loss: 1.0710 - acc: 0.462 - ETA: 0s - loss: 1.0711 - acc: 0.463 - ETA: 0s - loss: 1.0709 - acc: 0.463 - 3s 385us/sample - loss: 1.0708 - acc: 0.4632 - val_loss: 1.0694 - val_acc: 0.4588\n"
     ]
    },
    {
     "name": "stdout",
     "output_type": "stream",
     "text": [
      "Epoch 6/100\n",
      "7917/7917 [==============================] - ETA: 6s - loss: 0.9713 - acc: 0.650 - ETA: 4s - loss: 1.0332 - acc: 0.558 - ETA: 3s - loss: 1.0358 - acc: 0.537 - ETA: 3s - loss: 1.0512 - acc: 0.515 - ETA: 3s - loss: 1.0586 - acc: 0.494 - ETA: 2s - loss: 1.0631 - acc: 0.485 - ETA: 2s - loss: 1.0649 - acc: 0.480 - ETA: 2s - loss: 1.0677 - acc: 0.476 - ETA: 2s - loss: 1.0675 - acc: 0.475 - ETA: 2s - loss: 1.0732 - acc: 0.462 - ETA: 2s - loss: 1.0720 - acc: 0.465 - ETA: 2s - loss: 1.0716 - acc: 0.465 - ETA: 2s - loss: 1.0725 - acc: 0.462 - ETA: 2s - loss: 1.0721 - acc: 0.461 - ETA: 2s - loss: 1.0694 - acc: 0.467 - ETA: 1s - loss: 1.0695 - acc: 0.466 - ETA: 1s - loss: 1.0688 - acc: 0.466 - ETA: 1s - loss: 1.0692 - acc: 0.466 - ETA: 1s - loss: 1.0694 - acc: 0.466 - ETA: 1s - loss: 1.0696 - acc: 0.465 - ETA: 1s - loss: 1.0697 - acc: 0.465 - ETA: 1s - loss: 1.0684 - acc: 0.468 - ETA: 1s - loss: 1.0693 - acc: 0.466 - ETA: 1s - loss: 1.0701 - acc: 0.464 - ETA: 1s - loss: 1.0704 - acc: 0.464 - ETA: 1s - loss: 1.0701 - acc: 0.465 - ETA: 1s - loss: 1.0708 - acc: 0.462 - ETA: 1s - loss: 1.0712 - acc: 0.461 - ETA: 1s - loss: 1.0709 - acc: 0.460 - ETA: 1s - loss: 1.0708 - acc: 0.462 - ETA: 1s - loss: 1.0704 - acc: 0.463 - ETA: 1s - loss: 1.0704 - acc: 0.464 - ETA: 1s - loss: 1.0701 - acc: 0.465 - ETA: 1s - loss: 1.0706 - acc: 0.463 - ETA: 0s - loss: 1.0707 - acc: 0.462 - ETA: 0s - loss: 1.0711 - acc: 0.460 - ETA: 0s - loss: 1.0707 - acc: 0.461 - ETA: 0s - loss: 1.0709 - acc: 0.461 - ETA: 0s - loss: 1.0711 - acc: 0.460 - ETA: 0s - loss: 1.0710 - acc: 0.461 - ETA: 0s - loss: 1.0711 - acc: 0.461 - ETA: 0s - loss: 1.0708 - acc: 0.462 - ETA: 0s - loss: 1.0710 - acc: 0.462 - ETA: 0s - loss: 1.0711 - acc: 0.462 - ETA: 0s - loss: 1.0714 - acc: 0.461 - ETA: 0s - loss: 1.0715 - acc: 0.461 - ETA: 0s - loss: 1.0715 - acc: 0.460 - ETA: 0s - loss: 1.0713 - acc: 0.461 - ETA: 0s - loss: 1.0712 - acc: 0.462 - ETA: 0s - loss: 1.0713 - acc: 0.462 - ETA: 0s - loss: 1.0709 - acc: 0.462 - ETA: 0s - loss: 1.0713 - acc: 0.463 - ETA: 0s - loss: 1.0709 - acc: 0.463 - ETA: 0s - loss: 1.0715 - acc: 0.462 - ETA: 0s - loss: 1.0713 - acc: 0.462 - ETA: 0s - loss: 1.0706 - acc: 0.464 - ETA: 0s - loss: 1.0709 - acc: 0.463 - ETA: 0s - loss: 1.0710 - acc: 0.463 - 3s 417us/sample - loss: 1.0711 - acc: 0.4632 - val_loss: 1.0685 - val_acc: 0.4588\n",
      "Epoch 7/100\n",
      "7917/7917 [==============================] - ETA: 5s - loss: 1.0330 - acc: 0.550 - ETA: 4s - loss: 1.0481 - acc: 0.525 - ETA: 4s - loss: 1.0553 - acc: 0.504 - ETA: 4s - loss: 1.0545 - acc: 0.500 - ETA: 3s - loss: 1.0590 - acc: 0.488 - ETA: 3s - loss: 1.0625 - acc: 0.478 - ETA: 3s - loss: 1.0602 - acc: 0.481 - ETA: 3s - loss: 1.0575 - acc: 0.488 - ETA: 3s - loss: 1.0568 - acc: 0.493 - ETA: 2s - loss: 1.0549 - acc: 0.498 - ETA: 2s - loss: 1.0552 - acc: 0.498 - ETA: 2s - loss: 1.0582 - acc: 0.490 - ETA: 2s - loss: 1.0564 - acc: 0.493 - ETA: 2s - loss: 1.0610 - acc: 0.482 - ETA: 2s - loss: 1.0633 - acc: 0.478 - ETA: 2s - loss: 1.0621 - acc: 0.482 - ETA: 2s - loss: 1.0618 - acc: 0.482 - ETA: 2s - loss: 1.0614 - acc: 0.483 - ETA: 2s - loss: 1.0613 - acc: 0.481 - ETA: 2s - loss: 1.0621 - acc: 0.478 - ETA: 2s - loss: 1.0614 - acc: 0.480 - ETA: 2s - loss: 1.0615 - acc: 0.480 - ETA: 2s - loss: 1.0621 - acc: 0.478 - ETA: 2s - loss: 1.0622 - acc: 0.478 - ETA: 2s - loss: 1.0648 - acc: 0.473 - ETA: 2s - loss: 1.0664 - acc: 0.469 - ETA: 2s - loss: 1.0669 - acc: 0.468 - ETA: 2s - loss: 1.0671 - acc: 0.466 - ETA: 1s - loss: 1.0675 - acc: 0.466 - ETA: 1s - loss: 1.0677 - acc: 0.465 - ETA: 1s - loss: 1.0673 - acc: 0.466 - ETA: 1s - loss: 1.0671 - acc: 0.467 - ETA: 1s - loss: 1.0671 - acc: 0.467 - ETA: 1s - loss: 1.0672 - acc: 0.468 - ETA: 1s - loss: 1.0672 - acc: 0.468 - ETA: 1s - loss: 1.0674 - acc: 0.467 - ETA: 1s - loss: 1.0684 - acc: 0.465 - ETA: 1s - loss: 1.0686 - acc: 0.464 - ETA: 1s - loss: 1.0688 - acc: 0.465 - ETA: 1s - loss: 1.0689 - acc: 0.464 - ETA: 1s - loss: 1.0692 - acc: 0.463 - ETA: 1s - loss: 1.0696 - acc: 0.463 - ETA: 0s - loss: 1.0698 - acc: 0.463 - ETA: 0s - loss: 1.0692 - acc: 0.465 - ETA: 0s - loss: 1.0691 - acc: 0.464 - ETA: 0s - loss: 1.0699 - acc: 0.463 - ETA: 0s - loss: 1.0699 - acc: 0.463 - ETA: 0s - loss: 1.0700 - acc: 0.463 - ETA: 0s - loss: 1.0712 - acc: 0.461 - ETA: 0s - loss: 1.0709 - acc: 0.461 - ETA: 0s - loss: 1.0712 - acc: 0.460 - ETA: 0s - loss: 1.0714 - acc: 0.461 - ETA: 0s - loss: 1.0709 - acc: 0.462 - ETA: 0s - loss: 1.0706 - acc: 0.462 - ETA: 0s - loss: 1.0701 - acc: 0.464 - ETA: 0s - loss: 1.0707 - acc: 0.462 - ETA: 0s - loss: 1.0704 - acc: 0.462 - ETA: 0s - loss: 1.0700 - acc: 0.464 - ETA: 0s - loss: 1.0698 - acc: 0.464 - 3s 411us/sample - loss: 1.0698 - acc: 0.4642 - val_loss: 1.0676 - val_acc: 0.4588\n",
      "Epoch 8/100\n",
      "7917/7917 [==============================] - ETA: 6s - loss: 1.0289 - acc: 0.550 - ETA: 4s - loss: 1.0263 - acc: 0.558 - ETA: 6s - loss: 1.0297 - acc: 0.542 - ETA: 8s - loss: 1.0375 - acc: 0.518 - ETA: 7s - loss: 1.0453 - acc: 0.500 - ETA: 6s - loss: 1.0514 - acc: 0.494 - ETA: 5s - loss: 1.0602 - acc: 0.464 - ETA: 4s - loss: 1.0566 - acc: 0.475 - ETA: 3s - loss: 1.0582 - acc: 0.473 - ETA: 3s - loss: 1.0622 - acc: 0.473 - ETA: 3s - loss: 1.0641 - acc: 0.471 - ETA: 3s - loss: 1.0595 - acc: 0.481 - ETA: 2s - loss: 1.0623 - acc: 0.479 - ETA: 2s - loss: 1.0668 - acc: 0.470 - ETA: 2s - loss: 1.0655 - acc: 0.473 - ETA: 2s - loss: 1.0662 - acc: 0.471 - ETA: 2s - loss: 1.0663 - acc: 0.471 - ETA: 2s - loss: 1.0652 - acc: 0.474 - ETA: 2s - loss: 1.0653 - acc: 0.472 - ETA: 2s - loss: 1.0641 - acc: 0.475 - ETA: 2s - loss: 1.0655 - acc: 0.472 - ETA: 2s - loss: 1.0656 - acc: 0.471 - ETA: 2s - loss: 1.0661 - acc: 0.469 - ETA: 2s - loss: 1.0662 - acc: 0.469 - ETA: 2s - loss: 1.0668 - acc: 0.468 - ETA: 1s - loss: 1.0670 - acc: 0.467 - ETA: 1s - loss: 1.0671 - acc: 0.467 - ETA: 1s - loss: 1.0683 - acc: 0.465 - ETA: 1s - loss: 1.0678 - acc: 0.466 - ETA: 1s - loss: 1.0672 - acc: 0.467 - ETA: 1s - loss: 1.0678 - acc: 0.465 - ETA: 1s - loss: 1.0688 - acc: 0.463 - ETA: 1s - loss: 1.0684 - acc: 0.463 - ETA: 1s - loss: 1.0695 - acc: 0.461 - ETA: 1s - loss: 1.0683 - acc: 0.464 - ETA: 1s - loss: 1.0679 - acc: 0.464 - ETA: 1s - loss: 1.0677 - acc: 0.465 - ETA: 1s - loss: 1.0679 - acc: 0.465 - ETA: 1s - loss: 1.0679 - acc: 0.465 - ETA: 1s - loss: 1.0679 - acc: 0.464 - ETA: 0s - loss: 1.0686 - acc: 0.463 - ETA: 0s - loss: 1.0693 - acc: 0.462 - ETA: 0s - loss: 1.0689 - acc: 0.463 - ETA: 0s - loss: 1.0686 - acc: 0.464 - ETA: 0s - loss: 1.0687 - acc: 0.463 - ETA: 0s - loss: 1.0689 - acc: 0.463 - ETA: 0s - loss: 1.0693 - acc: 0.463 - ETA: 0s - loss: 1.0687 - acc: 0.464 - ETA: 0s - loss: 1.0686 - acc: 0.464 - ETA: 0s - loss: 1.0688 - acc: 0.462 - ETA: 0s - loss: 1.0684 - acc: 0.462 - ETA: 0s - loss: 1.0680 - acc: 0.463 - ETA: 0s - loss: 1.0681 - acc: 0.463 - ETA: 0s - loss: 1.0681 - acc: 0.463 - ETA: 0s - loss: 1.0679 - acc: 0.463 - ETA: 0s - loss: 1.0684 - acc: 0.462 - ETA: 0s - loss: 1.0684 - acc: 0.462 - 3s 403us/sample - loss: 1.0680 - acc: 0.4636 - val_loss: 1.0668 - val_acc: 0.4588\n",
      "Epoch 9/100\n",
      "7917/7917 [==============================] - ETA: 5s - loss: 1.1017 - acc: 0.350 - ETA: 3s - loss: 1.0739 - acc: 0.450 - ETA: 3s - loss: 1.0749 - acc: 0.446 - ETA: 3s - loss: 1.0705 - acc: 0.459 - ETA: 2s - loss: 1.0703 - acc: 0.463 - ETA: 2s - loss: 1.0700 - acc: 0.460 - ETA: 2s - loss: 1.0674 - acc: 0.467 - ETA: 2s - loss: 1.0658 - acc: 0.470 - ETA: 2s - loss: 1.0639 - acc: 0.473 - ETA: 2s - loss: 1.0662 - acc: 0.470 - ETA: 2s - loss: 1.0647 - acc: 0.473 - ETA: 2s - loss: 1.0651 - acc: 0.472 - ETA: 2s - loss: 1.0667 - acc: 0.468 - ETA: 2s - loss: 1.0681 - acc: 0.464 - ETA: 2s - loss: 1.0688 - acc: 0.463 - ETA: 2s - loss: 1.0698 - acc: 0.462 - ETA: 2s - loss: 1.0708 - acc: 0.459 - ETA: 2s - loss: 1.0707 - acc: 0.461 - ETA: 2s - loss: 1.0707 - acc: 0.461 - ETA: 2s - loss: 1.0693 - acc: 0.465 - ETA: 1s - loss: 1.0696 - acc: 0.464 - ETA: 1s - loss: 1.0704 - acc: 0.463 - ETA: 1s - loss: 1.0697 - acc: 0.465 - ETA: 1s - loss: 1.0692 - acc: 0.465 - ETA: 1s - loss: 1.0696 - acc: 0.463 - ETA: 1s - loss: 1.0683 - acc: 0.466 - ETA: 1s - loss: 1.0693 - acc: 0.464 - ETA: 1s - loss: 1.0700 - acc: 0.463 - ETA: 1s - loss: 1.0697 - acc: 0.464 - ETA: 1s - loss: 1.0689 - acc: 0.466 - ETA: 1s - loss: 1.0694 - acc: 0.465 - ETA: 1s - loss: 1.0696 - acc: 0.464 - ETA: 1s - loss: 1.0695 - acc: 0.464 - ETA: 1s - loss: 1.0692 - acc: 0.465 - ETA: 1s - loss: 1.0696 - acc: 0.464 - ETA: 1s - loss: 1.0690 - acc: 0.464 - ETA: 0s - loss: 1.0693 - acc: 0.464 - ETA: 0s - loss: 1.0698 - acc: 0.463 - ETA: 0s - loss: 1.0697 - acc: 0.463 - ETA: 0s - loss: 1.0712 - acc: 0.460 - ETA: 0s - loss: 1.0712 - acc: 0.460 - ETA: 0s - loss: 1.0709 - acc: 0.461 - ETA: 0s - loss: 1.0703 - acc: 0.462 - ETA: 0s - loss: 1.0698 - acc: 0.463 - ETA: 0s - loss: 1.0697 - acc: 0.463 - ETA: 0s - loss: 1.0698 - acc: 0.463 - ETA: 0s - loss: 1.0697 - acc: 0.463 - ETA: 0s - loss: 1.0695 - acc: 0.463 - ETA: 0s - loss: 1.0692 - acc: 0.464 - ETA: 0s - loss: 1.0694 - acc: 0.463 - ETA: 0s - loss: 1.0696 - acc: 0.462 - ETA: 0s - loss: 1.0696 - acc: 0.463 - ETA: 0s - loss: 1.0699 - acc: 0.462 - ETA: 0s - loss: 1.0695 - acc: 0.463 - ETA: 0s - loss: 1.0697 - acc: 0.463 - ETA: 0s - loss: 1.0695 - acc: 0.463 - 3s 397us/sample - loss: 1.0695 - acc: 0.4636 - val_loss: 1.0660 - val_acc: 0.4588\n",
      "Epoch 10/100\n",
      "7917/7917 [==============================] - ETA: 4s - loss: 1.2141 - acc: 0.250 - ETA: 3s - loss: 1.1054 - acc: 0.375 - ETA: 2s - loss: 1.0765 - acc: 0.434 - ETA: 2s - loss: 1.0748 - acc: 0.443 - ETA: 2s - loss: 1.0784 - acc: 0.441 - ETA: 2s - loss: 1.0743 - acc: 0.444 - ETA: 2s - loss: 1.0744 - acc: 0.446 - ETA: 2s - loss: 1.0760 - acc: 0.448 - ETA: 2s - loss: 1.0707 - acc: 0.458 - ETA: 2s - loss: 1.0746 - acc: 0.450 - ETA: 2s - loss: 1.0741 - acc: 0.454 - ETA: 2s - loss: 1.0751 - acc: 0.452 - ETA: 2s - loss: 1.0775 - acc: 0.449 - ETA: 2s - loss: 1.0776 - acc: 0.449 - ETA: 2s - loss: 1.0761 - acc: 0.451 - ETA: 2s - loss: 1.0764 - acc: 0.450 - ETA: 2s - loss: 1.0767 - acc: 0.451 - ETA: 1s - loss: 1.0762 - acc: 0.450 - ETA: 1s - loss: 1.0766 - acc: 0.451 - ETA: 1s - loss: 1.0751 - acc: 0.454 - ETA: 1s - loss: 1.0738 - acc: 0.456 - ETA: 1s - loss: 1.0736 - acc: 0.456 - ETA: 1s - loss: 1.0738 - acc: 0.457 - ETA: 1s - loss: 1.0735 - acc: 0.458 - ETA: 1s - loss: 1.0727 - acc: 0.460 - ETA: 1s - loss: 1.0708 - acc: 0.464 - ETA: 1s - loss: 1.0723 - acc: 0.460 - ETA: 1s - loss: 1.0724 - acc: 0.458 - ETA: 1s - loss: 1.0720 - acc: 0.459 - ETA: 1s - loss: 1.0719 - acc: 0.458 - ETA: 1s - loss: 1.0711 - acc: 0.459 - ETA: 1s - loss: 1.0698 - acc: 0.462 - ETA: 1s - loss: 1.0692 - acc: 0.462 - ETA: 1s - loss: 1.0693 - acc: 0.462 - ETA: 1s - loss: 1.0703 - acc: 0.460 - ETA: 1s - loss: 1.0707 - acc: 0.459 - ETA: 0s - loss: 1.0709 - acc: 0.458 - ETA: 0s - loss: 1.0716 - acc: 0.458 - ETA: 0s - loss: 1.0713 - acc: 0.458 - ETA: 0s - loss: 1.0710 - acc: 0.459 - ETA: 0s - loss: 1.0712 - acc: 0.458 - ETA: 0s - loss: 1.0714 - acc: 0.458 - ETA: 0s - loss: 1.0703 - acc: 0.460 - ETA: 0s - loss: 1.0710 - acc: 0.459 - ETA: 0s - loss: 1.0706 - acc: 0.460 - ETA: 0s - loss: 1.0697 - acc: 0.461 - ETA: 0s - loss: 1.0701 - acc: 0.461 - ETA: 0s - loss: 1.0694 - acc: 0.463 - ETA: 0s - loss: 1.0701 - acc: 0.461 - ETA: 0s - loss: 1.0697 - acc: 0.462 - ETA: 0s - loss: 1.0697 - acc: 0.462 - ETA: 0s - loss: 1.0696 - acc: 0.463 - ETA: 0s - loss: 1.0692 - acc: 0.463 - ETA: 0s - loss: 1.0695 - acc: 0.463 - ETA: 0s - loss: 1.0693 - acc: 0.463 - ETA: 0s - loss: 1.0692 - acc: 0.463 - 3s 401us/sample - loss: 1.0694 - acc: 0.4637 - val_loss: 1.0654 - val_acc: 0.4588\n",
      "Epoch 11/100\n",
      "7917/7917 [==============================] - ETA: 4s - loss: 1.0188 - acc: 0.550 - ETA: 3s - loss: 1.0663 - acc: 0.456 - ETA: 2s - loss: 1.0826 - acc: 0.431 - ETA: 2s - loss: 1.0824 - acc: 0.432 - ETA: 2s - loss: 1.0861 - acc: 0.416 - ETA: 2s - loss: 1.0805 - acc: 0.428 - ETA: 2s - loss: 1.0817 - acc: 0.425 - ETA: 2s - loss: 1.0802 - acc: 0.432 - ETA: 2s - loss: 1.0780 - acc: 0.438 - ETA: 2s - loss: 1.0744 - acc: 0.444 - ETA: 2s - loss: 1.0717 - acc: 0.449 - ETA: 2s - loss: 1.0703 - acc: 0.452 - ETA: 2s - loss: 1.0729 - acc: 0.448 - ETA: 2s - loss: 1.0736 - acc: 0.446 - ETA: 2s - loss: 1.0719 - acc: 0.449 - ETA: 2s - loss: 1.0701 - acc: 0.453 - ETA: 1s - loss: 1.0716 - acc: 0.450 - ETA: 1s - loss: 1.0709 - acc: 0.451 - ETA: 1s - loss: 1.0711 - acc: 0.451 - ETA: 1s - loss: 1.0714 - acc: 0.451 - ETA: 1s - loss: 1.0723 - acc: 0.449 - ETA: 1s - loss: 1.0732 - acc: 0.448 - ETA: 1s - loss: 1.0721 - acc: 0.450 - ETA: 1s - loss: 1.0717 - acc: 0.452 - ETA: 1s - loss: 1.0712 - acc: 0.453 - ETA: 1s - loss: 1.0707 - acc: 0.453 - ETA: 1s - loss: 1.0705 - acc: 0.453 - ETA: 1s - loss: 1.0709 - acc: 0.452 - ETA: 1s - loss: 1.0710 - acc: 0.451 - ETA: 1s - loss: 1.0703 - acc: 0.453 - ETA: 1s - loss: 1.0699 - acc: 0.454 - ETA: 1s - loss: 1.0701 - acc: 0.454 - ETA: 1s - loss: 1.0713 - acc: 0.452 - ETA: 1s - loss: 1.0717 - acc: 0.451 - ETA: 1s - loss: 1.0718 - acc: 0.452 - ETA: 0s - loss: 1.0717 - acc: 0.453 - ETA: 0s - loss: 1.0702 - acc: 0.456 - ETA: 0s - loss: 1.0694 - acc: 0.457 - ETA: 0s - loss: 1.0686 - acc: 0.459 - ETA: 0s - loss: 1.0680 - acc: 0.460 - ETA: 0s - loss: 1.0681 - acc: 0.460 - ETA: 0s - loss: 1.0679 - acc: 0.460 - ETA: 0s - loss: 1.0684 - acc: 0.459 - ETA: 0s - loss: 1.0682 - acc: 0.460 - ETA: 0s - loss: 1.0686 - acc: 0.460 - ETA: 0s - loss: 1.0681 - acc: 0.461 - ETA: 0s - loss: 1.0682 - acc: 0.461 - ETA: 0s - loss: 1.0685 - acc: 0.461 - ETA: 0s - loss: 1.0688 - acc: 0.460 - ETA: 0s - loss: 1.0681 - acc: 0.461 - ETA: 0s - loss: 1.0686 - acc: 0.460 - ETA: 0s - loss: 1.0688 - acc: 0.460 - ETA: 0s - loss: 1.0684 - acc: 0.461 - ETA: 0s - loss: 1.0680 - acc: 0.461 - 3s 392us/sample - loss: 1.0673 - acc: 0.4632 - val_loss: 1.0648 - val_acc: 0.4588\n",
      "Epoch 12/100\n"
     ]
    },
    {
     "name": "stdout",
     "output_type": "stream",
     "text": [
      "7917/7917 [==============================] - ETA: 7s - loss: 1.1337 - acc: 0.300 - ETA: 4s - loss: 1.0680 - acc: 0.450 - ETA: 4s - loss: 1.0374 - acc: 0.516 - ETA: 3s - loss: 1.0476 - acc: 0.502 - ETA: 3s - loss: 1.0445 - acc: 0.509 - ETA: 2s - loss: 1.0506 - acc: 0.495 - ETA: 2s - loss: 1.0546 - acc: 0.489 - ETA: 2s - loss: 1.0582 - acc: 0.479 - ETA: 2s - loss: 1.0613 - acc: 0.473 - ETA: 2s - loss: 1.0638 - acc: 0.472 - ETA: 2s - loss: 1.0666 - acc: 0.466 - ETA: 2s - loss: 1.0686 - acc: 0.461 - ETA: 2s - loss: 1.0692 - acc: 0.459 - ETA: 2s - loss: 1.0681 - acc: 0.462 - ETA: 2s - loss: 1.0674 - acc: 0.463 - ETA: 2s - loss: 1.0661 - acc: 0.468 - ETA: 2s - loss: 1.0657 - acc: 0.470 - ETA: 1s - loss: 1.0652 - acc: 0.472 - ETA: 1s - loss: 1.0680 - acc: 0.467 - ETA: 1s - loss: 1.0670 - acc: 0.469 - ETA: 1s - loss: 1.0649 - acc: 0.472 - ETA: 1s - loss: 1.0658 - acc: 0.470 - ETA: 1s - loss: 1.0658 - acc: 0.471 - ETA: 1s - loss: 1.0653 - acc: 0.472 - ETA: 1s - loss: 1.0650 - acc: 0.472 - ETA: 1s - loss: 1.0661 - acc: 0.471 - ETA: 1s - loss: 1.0675 - acc: 0.469 - ETA: 1s - loss: 1.0666 - acc: 0.471 - ETA: 1s - loss: 1.0670 - acc: 0.470 - ETA: 1s - loss: 1.0675 - acc: 0.469 - ETA: 1s - loss: 1.0667 - acc: 0.471 - ETA: 1s - loss: 1.0673 - acc: 0.470 - ETA: 1s - loss: 1.0676 - acc: 0.468 - ETA: 1s - loss: 1.0680 - acc: 0.468 - ETA: 1s - loss: 1.0677 - acc: 0.469 - ETA: 0s - loss: 1.0681 - acc: 0.468 - ETA: 0s - loss: 1.0686 - acc: 0.467 - ETA: 0s - loss: 1.0688 - acc: 0.466 - ETA: 0s - loss: 1.0689 - acc: 0.465 - ETA: 0s - loss: 1.0693 - acc: 0.465 - ETA: 0s - loss: 1.0697 - acc: 0.464 - ETA: 0s - loss: 1.0700 - acc: 0.464 - ETA: 0s - loss: 1.0687 - acc: 0.466 - ETA: 0s - loss: 1.0696 - acc: 0.464 - ETA: 0s - loss: 1.0698 - acc: 0.464 - ETA: 0s - loss: 1.0698 - acc: 0.464 - ETA: 0s - loss: 1.0696 - acc: 0.463 - ETA: 0s - loss: 1.0697 - acc: 0.462 - ETA: 0s - loss: 1.0694 - acc: 0.463 - ETA: 0s - loss: 1.0691 - acc: 0.463 - ETA: 0s - loss: 1.0691 - acc: 0.463 - ETA: 0s - loss: 1.0692 - acc: 0.462 - ETA: 0s - loss: 1.0691 - acc: 0.463 - ETA: 0s - loss: 1.0689 - acc: 0.463 - 3s 384us/sample - loss: 1.0687 - acc: 0.4638 - val_loss: 1.0643 - val_acc: 0.4588\n",
      "Epoch 13/100\n",
      "7917/7917 [==============================] - ETA: 6s - loss: 1.0803 - acc: 0.500 - ETA: 3s - loss: 1.0709 - acc: 0.485 - ETA: 3s - loss: 1.0748 - acc: 0.453 - ETA: 3s - loss: 1.0859 - acc: 0.427 - ETA: 4s - loss: 1.0872 - acc: 0.426 - ETA: 5s - loss: 1.0870 - acc: 0.425 - ETA: 4s - loss: 1.0808 - acc: 0.438 - ETA: 4s - loss: 1.0807 - acc: 0.439 - ETA: 3s - loss: 1.0735 - acc: 0.450 - ETA: 3s - loss: 1.0706 - acc: 0.462 - ETA: 3s - loss: 1.0726 - acc: 0.454 - ETA: 3s - loss: 1.0700 - acc: 0.465 - ETA: 2s - loss: 1.0695 - acc: 0.466 - ETA: 2s - loss: 1.0682 - acc: 0.468 - ETA: 2s - loss: 1.0702 - acc: 0.465 - ETA: 2s - loss: 1.0690 - acc: 0.466 - ETA: 2s - loss: 1.0692 - acc: 0.464 - ETA: 2s - loss: 1.0696 - acc: 0.463 - ETA: 2s - loss: 1.0692 - acc: 0.463 - ETA: 2s - loss: 1.0703 - acc: 0.460 - ETA: 2s - loss: 1.0709 - acc: 0.459 - ETA: 2s - loss: 1.0693 - acc: 0.463 - ETA: 1s - loss: 1.0700 - acc: 0.461 - ETA: 1s - loss: 1.0707 - acc: 0.459 - ETA: 1s - loss: 1.0694 - acc: 0.462 - ETA: 1s - loss: 1.0688 - acc: 0.463 - ETA: 1s - loss: 1.0686 - acc: 0.463 - ETA: 1s - loss: 1.0695 - acc: 0.460 - ETA: 1s - loss: 1.0687 - acc: 0.461 - ETA: 1s - loss: 1.0677 - acc: 0.463 - ETA: 1s - loss: 1.0681 - acc: 0.462 - ETA: 1s - loss: 1.0683 - acc: 0.462 - ETA: 1s - loss: 1.0683 - acc: 0.462 - ETA: 1s - loss: 1.0690 - acc: 0.460 - ETA: 1s - loss: 1.0680 - acc: 0.461 - ETA: 1s - loss: 1.0682 - acc: 0.461 - ETA: 1s - loss: 1.0677 - acc: 0.461 - ETA: 1s - loss: 1.0672 - acc: 0.462 - ETA: 0s - loss: 1.0679 - acc: 0.460 - ETA: 0s - loss: 1.0682 - acc: 0.460 - ETA: 0s - loss: 1.0682 - acc: 0.460 - ETA: 0s - loss: 1.0683 - acc: 0.460 - ETA: 0s - loss: 1.0676 - acc: 0.462 - ETA: 0s - loss: 1.0667 - acc: 0.463 - ETA: 0s - loss: 1.0662 - acc: 0.464 - ETA: 0s - loss: 1.0656 - acc: 0.465 - ETA: 0s - loss: 1.0655 - acc: 0.465 - ETA: 0s - loss: 1.0657 - acc: 0.464 - ETA: 0s - loss: 1.0662 - acc: 0.463 - ETA: 0s - loss: 1.0663 - acc: 0.463 - ETA: 0s - loss: 1.0664 - acc: 0.464 - ETA: 0s - loss: 1.0659 - acc: 0.465 - ETA: 0s - loss: 1.0658 - acc: 0.465 - ETA: 0s - loss: 1.0655 - acc: 0.465 - ETA: 0s - loss: 1.0658 - acc: 0.464 - ETA: 0s - loss: 1.0660 - acc: 0.463 - ETA: 0s - loss: 1.0656 - acc: 0.464 - 3s 402us/sample - loss: 1.0654 - acc: 0.4652 - val_loss: 1.0637 - val_acc: 0.4588\n",
      "Epoch 14/100\n",
      "7917/7917 [==============================] - ETA: 4s - loss: 1.0014 - acc: 0.650 - ETA: 3s - loss: 1.0511 - acc: 0.487 - ETA: 2s - loss: 1.0736 - acc: 0.443 - ETA: 2s - loss: 1.0611 - acc: 0.467 - ETA: 2s - loss: 1.0627 - acc: 0.462 - ETA: 2s - loss: 1.0701 - acc: 0.448 - ETA: 2s - loss: 1.0693 - acc: 0.453 - ETA: 2s - loss: 1.0639 - acc: 0.464 - ETA: 2s - loss: 1.0667 - acc: 0.459 - ETA: 2s - loss: 1.0704 - acc: 0.452 - ETA: 2s - loss: 1.0696 - acc: 0.456 - ETA: 2s - loss: 1.0685 - acc: 0.458 - ETA: 2s - loss: 1.0667 - acc: 0.462 - ETA: 2s - loss: 1.0658 - acc: 0.463 - ETA: 2s - loss: 1.0696 - acc: 0.456 - ETA: 2s - loss: 1.0715 - acc: 0.453 - ETA: 1s - loss: 1.0715 - acc: 0.454 - ETA: 1s - loss: 1.0713 - acc: 0.453 - ETA: 1s - loss: 1.0706 - acc: 0.456 - ETA: 1s - loss: 1.0699 - acc: 0.457 - ETA: 1s - loss: 1.0711 - acc: 0.455 - ETA: 1s - loss: 1.0714 - acc: 0.455 - ETA: 1s - loss: 1.0712 - acc: 0.456 - ETA: 1s - loss: 1.0717 - acc: 0.455 - ETA: 1s - loss: 1.0712 - acc: 0.456 - ETA: 1s - loss: 1.0711 - acc: 0.456 - ETA: 1s - loss: 1.0703 - acc: 0.457 - ETA: 1s - loss: 1.0692 - acc: 0.460 - ETA: 1s - loss: 1.0699 - acc: 0.459 - ETA: 1s - loss: 1.0699 - acc: 0.458 - ETA: 1s - loss: 1.0690 - acc: 0.460 - ETA: 1s - loss: 1.0694 - acc: 0.459 - ETA: 1s - loss: 1.0695 - acc: 0.460 - ETA: 1s - loss: 1.0708 - acc: 0.457 - ETA: 0s - loss: 1.0711 - acc: 0.457 - ETA: 0s - loss: 1.0708 - acc: 0.458 - ETA: 0s - loss: 1.0709 - acc: 0.458 - ETA: 0s - loss: 1.0701 - acc: 0.459 - ETA: 0s - loss: 1.0690 - acc: 0.462 - ETA: 0s - loss: 1.0692 - acc: 0.461 - ETA: 0s - loss: 1.0696 - acc: 0.461 - ETA: 0s - loss: 1.0692 - acc: 0.461 - ETA: 0s - loss: 1.0694 - acc: 0.461 - ETA: 0s - loss: 1.0692 - acc: 0.462 - ETA: 0s - loss: 1.0686 - acc: 0.463 - ETA: 0s - loss: 1.0693 - acc: 0.462 - ETA: 0s - loss: 1.0696 - acc: 0.460 - ETA: 0s - loss: 1.0692 - acc: 0.461 - ETA: 0s - loss: 1.0683 - acc: 0.463 - ETA: 0s - loss: 1.0687 - acc: 0.461 - ETA: 0s - loss: 1.0684 - acc: 0.463 - ETA: 0s - loss: 1.0685 - acc: 0.463 - ETA: 0s - loss: 1.0682 - acc: 0.463 - 3s 374us/sample - loss: 1.0681 - acc: 0.4639 - val_loss: 1.0633 - val_acc: 0.4588\n",
      "Epoch 15/100\n",
      "7917/7917 [==============================] - ETA: 4s - loss: 1.0499 - acc: 0.500 - ETA: 3s - loss: 1.0566 - acc: 0.500 - ETA: 2s - loss: 1.0694 - acc: 0.462 - ETA: 2s - loss: 1.0625 - acc: 0.479 - ETA: 2s - loss: 1.0694 - acc: 0.467 - ETA: 2s - loss: 1.0736 - acc: 0.453 - ETA: 2s - loss: 1.0711 - acc: 0.457 - ETA: 2s - loss: 1.0761 - acc: 0.445 - ETA: 2s - loss: 1.0757 - acc: 0.446 - ETA: 2s - loss: 1.0728 - acc: 0.453 - ETA: 2s - loss: 1.0732 - acc: 0.451 - ETA: 2s - loss: 1.0730 - acc: 0.452 - ETA: 2s - loss: 1.0733 - acc: 0.451 - ETA: 2s - loss: 1.0722 - acc: 0.453 - ETA: 2s - loss: 1.0714 - acc: 0.455 - ETA: 2s - loss: 1.0707 - acc: 0.457 - ETA: 2s - loss: 1.0709 - acc: 0.455 - ETA: 2s - loss: 1.0695 - acc: 0.457 - ETA: 1s - loss: 1.0681 - acc: 0.460 - ETA: 1s - loss: 1.0683 - acc: 0.459 - ETA: 1s - loss: 1.0672 - acc: 0.462 - ETA: 1s - loss: 1.0671 - acc: 0.463 - ETA: 1s - loss: 1.0677 - acc: 0.461 - ETA: 1s - loss: 1.0682 - acc: 0.459 - ETA: 1s - loss: 1.0679 - acc: 0.458 - ETA: 1s - loss: 1.0684 - acc: 0.457 - ETA: 1s - loss: 1.0674 - acc: 0.459 - ETA: 1s - loss: 1.0665 - acc: 0.462 - ETA: 1s - loss: 1.0666 - acc: 0.462 - ETA: 1s - loss: 1.0665 - acc: 0.463 - ETA: 1s - loss: 1.0666 - acc: 0.463 - ETA: 1s - loss: 1.0669 - acc: 0.463 - ETA: 1s - loss: 1.0666 - acc: 0.464 - ETA: 1s - loss: 1.0663 - acc: 0.464 - ETA: 1s - loss: 1.0672 - acc: 0.462 - ETA: 0s - loss: 1.0664 - acc: 0.464 - ETA: 0s - loss: 1.0659 - acc: 0.465 - ETA: 0s - loss: 1.0655 - acc: 0.465 - ETA: 0s - loss: 1.0657 - acc: 0.465 - ETA: 0s - loss: 1.0658 - acc: 0.465 - ETA: 0s - loss: 1.0649 - acc: 0.467 - ETA: 0s - loss: 1.0653 - acc: 0.465 - ETA: 0s - loss: 1.0659 - acc: 0.464 - ETA: 0s - loss: 1.0659 - acc: 0.464 - ETA: 0s - loss: 1.0664 - acc: 0.463 - ETA: 0s - loss: 1.0662 - acc: 0.463 - ETA: 0s - loss: 1.0657 - acc: 0.465 - ETA: 0s - loss: 1.0663 - acc: 0.463 - ETA: 0s - loss: 1.0671 - acc: 0.462 - ETA: 0s - loss: 1.0674 - acc: 0.461 - ETA: 0s - loss: 1.0676 - acc: 0.461 - ETA: 0s - loss: 1.0675 - acc: 0.461 - ETA: 0s - loss: 1.0669 - acc: 0.462 - ETA: 0s - loss: 1.0659 - acc: 0.464 - 3s 379us/sample - loss: 1.0658 - acc: 0.4642 - val_loss: 1.0628 - val_acc: 0.4588\n",
      "Epoch 16/100\n",
      "7917/7917 [==============================] - ETA: 5s - loss: 0.9628 - acc: 0.650 - ETA: 3s - loss: 1.0299 - acc: 0.521 - ETA: 3s - loss: 1.0511 - acc: 0.488 - ETA: 3s - loss: 1.0558 - acc: 0.486 - ETA: 3s - loss: 1.0540 - acc: 0.485 - ETA: 2s - loss: 1.0599 - acc: 0.478 - ETA: 2s - loss: 1.0628 - acc: 0.476 - ETA: 2s - loss: 1.0632 - acc: 0.474 - ETA: 2s - loss: 1.0664 - acc: 0.465 - ETA: 2s - loss: 1.0653 - acc: 0.463 - ETA: 2s - loss: 1.0662 - acc: 0.460 - ETA: 2s - loss: 1.0655 - acc: 0.463 - ETA: 2s - loss: 1.0635 - acc: 0.468 - ETA: 2s - loss: 1.0633 - acc: 0.470 - ETA: 2s - loss: 1.0646 - acc: 0.467 - ETA: 2s - loss: 1.0614 - acc: 0.472 - ETA: 1s - loss: 1.0629 - acc: 0.470 - ETA: 1s - loss: 1.0646 - acc: 0.467 - ETA: 1s - loss: 1.0622 - acc: 0.471 - ETA: 1s - loss: 1.0617 - acc: 0.472 - ETA: 1s - loss: 1.0616 - acc: 0.472 - ETA: 1s - loss: 1.0617 - acc: 0.472 - ETA: 1s - loss: 1.0621 - acc: 0.472 - ETA: 1s - loss: 1.0622 - acc: 0.470 - ETA: 1s - loss: 1.0637 - acc: 0.467 - ETA: 1s - loss: 1.0652 - acc: 0.464 - ETA: 1s - loss: 1.0664 - acc: 0.462 - ETA: 1s - loss: 1.0656 - acc: 0.464 - ETA: 1s - loss: 1.0656 - acc: 0.464 - ETA: 1s - loss: 1.0654 - acc: 0.464 - ETA: 1s - loss: 1.0654 - acc: 0.464 - ETA: 1s - loss: 1.0649 - acc: 0.465 - ETA: 1s - loss: 1.0638 - acc: 0.467 - ETA: 1s - loss: 1.0629 - acc: 0.468 - ETA: 1s - loss: 1.0633 - acc: 0.468 - ETA: 1s - loss: 1.0642 - acc: 0.466 - ETA: 1s - loss: 1.0642 - acc: 0.466 - ETA: 0s - loss: 1.0640 - acc: 0.466 - ETA: 0s - loss: 1.0641 - acc: 0.466 - ETA: 0s - loss: 1.0643 - acc: 0.466 - ETA: 0s - loss: 1.0641 - acc: 0.466 - ETA: 0s - loss: 1.0646 - acc: 0.466 - ETA: 0s - loss: 1.0644 - acc: 0.466 - ETA: 0s - loss: 1.0641 - acc: 0.466 - ETA: 0s - loss: 1.0651 - acc: 0.464 - ETA: 0s - loss: 1.0658 - acc: 0.462 - ETA: 0s - loss: 1.0659 - acc: 0.461 - ETA: 0s - loss: 1.0670 - acc: 0.460 - ETA: 0s - loss: 1.0671 - acc: 0.460 - ETA: 0s - loss: 1.0667 - acc: 0.461 - ETA: 0s - loss: 1.0667 - acc: 0.462 - ETA: 0s - loss: 1.0663 - acc: 0.462 - ETA: 0s - loss: 1.0662 - acc: 0.462 - ETA: 0s - loss: 1.0654 - acc: 0.463 - ETA: 0s - loss: 1.0648 - acc: 0.464 - ETA: 0s - loss: 1.0651 - acc: 0.463 - ETA: 0s - loss: 1.0649 - acc: 0.464 - ETA: 0s - loss: 1.0652 - acc: 0.463 - 3s 406us/sample - loss: 1.0652 - acc: 0.4636 - val_loss: 1.0624 - val_acc: 0.4588\n",
      "Epoch 17/100\n",
      "7917/7917 [==============================] - ETA: 6s - loss: 1.1261 - acc: 0.350 - ETA: 4s - loss: 1.0744 - acc: 0.408 - ETA: 3s - loss: 1.0526 - acc: 0.473 - ETA: 3s - loss: 1.0658 - acc: 0.455 - ETA: 3s - loss: 1.0718 - acc: 0.451 - ETA: 2s - loss: 1.0713 - acc: 0.447 - ETA: 2s - loss: 1.0723 - acc: 0.446 - ETA: 2s - loss: 1.0693 - acc: 0.456 - ETA: 2s - loss: 1.0694 - acc: 0.453 - ETA: 2s - loss: 1.0696 - acc: 0.452 - ETA: 2s - loss: 1.0643 - acc: 0.463 - ETA: 2s - loss: 1.0650 - acc: 0.456 - ETA: 2s - loss: 1.0661 - acc: 0.454 - ETA: 2s - loss: 1.0649 - acc: 0.458 - ETA: 2s - loss: 1.0670 - acc: 0.454 - ETA: 2s - loss: 1.0671 - acc: 0.455 - ETA: 2s - loss: 1.0678 - acc: 0.454 - ETA: 1s - loss: 1.0670 - acc: 0.456 - ETA: 1s - loss: 1.0668 - acc: 0.456 - ETA: 1s - loss: 1.0652 - acc: 0.459 - ETA: 1s - loss: 1.0657 - acc: 0.458 - ETA: 1s - loss: 1.0646 - acc: 0.460 - ETA: 1s - loss: 1.0657 - acc: 0.459 - ETA: 1s - loss: 1.0663 - acc: 0.458 - ETA: 1s - loss: 1.0657 - acc: 0.460 - ETA: 1s - loss: 1.0654 - acc: 0.460 - ETA: 1s - loss: 1.0637 - acc: 0.463 - ETA: 1s - loss: 1.0637 - acc: 0.463 - ETA: 1s - loss: 1.0631 - acc: 0.464 - ETA: 1s - loss: 1.0633 - acc: 0.465 - ETA: 1s - loss: 1.0632 - acc: 0.466 - ETA: 1s - loss: 1.0625 - acc: 0.467 - ETA: 1s - loss: 1.0624 - acc: 0.468 - ETA: 1s - loss: 1.0620 - acc: 0.469 - ETA: 1s - loss: 1.0625 - acc: 0.470 - ETA: 1s - loss: 1.0640 - acc: 0.468 - ETA: 1s - loss: 1.0638 - acc: 0.468 - ETA: 1s - loss: 1.0645 - acc: 0.466 - ETA: 1s - loss: 1.0653 - acc: 0.465 - ETA: 0s - loss: 1.0653 - acc: 0.465 - ETA: 0s - loss: 1.0648 - acc: 0.466 - ETA: 0s - loss: 1.0648 - acc: 0.466 - ETA: 0s - loss: 1.0649 - acc: 0.466 - ETA: 0s - loss: 1.0652 - acc: 0.465 - ETA: 0s - loss: 1.0663 - acc: 0.463 - ETA: 0s - loss: 1.0658 - acc: 0.464 - ETA: 0s - loss: 1.0656 - acc: 0.464 - ETA: 0s - loss: 1.0661 - acc: 0.463 - ETA: 0s - loss: 1.0655 - acc: 0.465 - ETA: 0s - loss: 1.0651 - acc: 0.466 - ETA: 0s - loss: 1.0655 - acc: 0.465 - ETA: 0s - loss: 1.0654 - acc: 0.465 - ETA: 0s - loss: 1.0656 - acc: 0.465 - ETA: 0s - loss: 1.0659 - acc: 0.464 - ETA: 0s - loss: 1.0662 - acc: 0.463 - ETA: 0s - loss: 1.0659 - acc: 0.464 - ETA: 0s - loss: 1.0663 - acc: 0.464 - 3s 408us/sample - loss: 1.0665 - acc: 0.4638 - val_loss: 1.0620 - val_acc: 0.4588\n",
      "Epoch 18/100\n"
     ]
    },
    {
     "name": "stdout",
     "output_type": "stream",
     "text": [
      "7917/7917 [==============================] - ETA: 6s - loss: 1.0198 - acc: 0.550 - ETA: 3s - loss: 1.0784 - acc: 0.456 - ETA: 2s - loss: 1.0688 - acc: 0.453 - ETA: 2s - loss: 1.0681 - acc: 0.456 - ETA: 2s - loss: 1.0695 - acc: 0.456 - ETA: 2s - loss: 1.0680 - acc: 0.457 - ETA: 2s - loss: 1.0644 - acc: 0.469 - ETA: 2s - loss: 1.0616 - acc: 0.475 - ETA: 2s - loss: 1.0600 - acc: 0.479 - ETA: 2s - loss: 1.0602 - acc: 0.478 - ETA: 2s - loss: 1.0591 - acc: 0.479 - ETA: 2s - loss: 1.0614 - acc: 0.472 - ETA: 2s - loss: 1.0608 - acc: 0.473 - ETA: 2s - loss: 1.0620 - acc: 0.469 - ETA: 1s - loss: 1.0600 - acc: 0.473 - ETA: 1s - loss: 1.0615 - acc: 0.470 - ETA: 1s - loss: 1.0606 - acc: 0.473 - ETA: 1s - loss: 1.0598 - acc: 0.474 - ETA: 1s - loss: 1.0592 - acc: 0.474 - ETA: 1s - loss: 1.0587 - acc: 0.475 - ETA: 1s - loss: 1.0587 - acc: 0.475 - ETA: 1s - loss: 1.0598 - acc: 0.474 - ETA: 1s - loss: 1.0617 - acc: 0.470 - ETA: 1s - loss: 1.0611 - acc: 0.471 - ETA: 1s - loss: 1.0617 - acc: 0.471 - ETA: 1s - loss: 1.0625 - acc: 0.470 - ETA: 1s - loss: 1.0623 - acc: 0.470 - ETA: 1s - loss: 1.0621 - acc: 0.471 - ETA: 1s - loss: 1.0621 - acc: 0.471 - ETA: 1s - loss: 1.0628 - acc: 0.468 - ETA: 1s - loss: 1.0627 - acc: 0.468 - ETA: 1s - loss: 1.0635 - acc: 0.466 - ETA: 1s - loss: 1.0639 - acc: 0.465 - ETA: 1s - loss: 1.0635 - acc: 0.465 - ETA: 0s - loss: 1.0626 - acc: 0.467 - ETA: 0s - loss: 1.0628 - acc: 0.466 - ETA: 0s - loss: 1.0629 - acc: 0.466 - ETA: 0s - loss: 1.0631 - acc: 0.465 - ETA: 0s - loss: 1.0638 - acc: 0.464 - ETA: 0s - loss: 1.0639 - acc: 0.465 - ETA: 0s - loss: 1.0635 - acc: 0.466 - ETA: 0s - loss: 1.0653 - acc: 0.463 - ETA: 0s - loss: 1.0649 - acc: 0.463 - ETA: 0s - loss: 1.0650 - acc: 0.463 - ETA: 0s - loss: 1.0654 - acc: 0.462 - ETA: 0s - loss: 1.0650 - acc: 0.463 - ETA: 0s - loss: 1.0653 - acc: 0.463 - ETA: 0s - loss: 1.0646 - acc: 0.464 - ETA: 0s - loss: 1.0647 - acc: 0.464 - ETA: 0s - loss: 1.0644 - acc: 0.464 - ETA: 0s - loss: 1.0645 - acc: 0.464 - ETA: 0s - loss: 1.0646 - acc: 0.464 - 3s 370us/sample - loss: 1.0648 - acc: 0.4644 - val_loss: 1.0617 - val_acc: 0.4588\n",
      "Epoch 19/100\n",
      "7917/7917 [==============================] - ETA: 4s - loss: 1.1111 - acc: 0.400 - ETA: 2s - loss: 1.0673 - acc: 0.472 - ETA: 2s - loss: 1.0644 - acc: 0.476 - ETA: 2s - loss: 1.0706 - acc: 0.464 - ETA: 2s - loss: 1.0711 - acc: 0.463 - ETA: 2s - loss: 1.0664 - acc: 0.469 - ETA: 2s - loss: 1.0628 - acc: 0.471 - ETA: 2s - loss: 1.0635 - acc: 0.467 - ETA: 2s - loss: 1.0644 - acc: 0.463 - ETA: 2s - loss: 1.0636 - acc: 0.464 - ETA: 2s - loss: 1.0618 - acc: 0.469 - ETA: 2s - loss: 1.0627 - acc: 0.467 - ETA: 1s - loss: 1.0640 - acc: 0.464 - ETA: 1s - loss: 1.0649 - acc: 0.463 - ETA: 1s - loss: 1.0655 - acc: 0.463 - ETA: 1s - loss: 1.0645 - acc: 0.465 - ETA: 1s - loss: 1.0628 - acc: 0.467 - ETA: 1s - loss: 1.0629 - acc: 0.465 - ETA: 1s - loss: 1.0622 - acc: 0.466 - ETA: 1s - loss: 1.0628 - acc: 0.466 - ETA: 1s - loss: 1.0646 - acc: 0.462 - ETA: 1s - loss: 1.0645 - acc: 0.463 - ETA: 1s - loss: 1.0630 - acc: 0.465 - ETA: 1s - loss: 1.0633 - acc: 0.465 - ETA: 1s - loss: 1.0634 - acc: 0.464 - ETA: 1s - loss: 1.0641 - acc: 0.464 - ETA: 1s - loss: 1.0650 - acc: 0.462 - ETA: 1s - loss: 1.0650 - acc: 0.461 - ETA: 1s - loss: 1.0661 - acc: 0.459 - ETA: 1s - loss: 1.0672 - acc: 0.457 - ETA: 1s - loss: 1.0673 - acc: 0.457 - ETA: 1s - loss: 1.0672 - acc: 0.457 - ETA: 1s - loss: 1.0670 - acc: 0.457 - ETA: 1s - loss: 1.0664 - acc: 0.458 - ETA: 1s - loss: 1.0663 - acc: 0.459 - ETA: 1s - loss: 1.0657 - acc: 0.460 - ETA: 1s - loss: 1.0652 - acc: 0.462 - ETA: 1s - loss: 1.0654 - acc: 0.462 - ETA: 0s - loss: 1.0666 - acc: 0.460 - ETA: 0s - loss: 1.0659 - acc: 0.461 - ETA: 0s - loss: 1.0652 - acc: 0.463 - ETA: 0s - loss: 1.0649 - acc: 0.463 - ETA: 0s - loss: 1.0652 - acc: 0.464 - ETA: 0s - loss: 1.0649 - acc: 0.464 - ETA: 0s - loss: 1.0648 - acc: 0.464 - ETA: 0s - loss: 1.0650 - acc: 0.464 - ETA: 0s - loss: 1.0651 - acc: 0.463 - ETA: 0s - loss: 1.0648 - acc: 0.464 - ETA: 0s - loss: 1.0648 - acc: 0.464 - ETA: 0s - loss: 1.0655 - acc: 0.463 - ETA: 0s - loss: 1.0651 - acc: 0.463 - ETA: 0s - loss: 1.0652 - acc: 0.463 - ETA: 0s - loss: 1.0656 - acc: 0.463 - ETA: 0s - loss: 1.0651 - acc: 0.463 - ETA: 0s - loss: 1.0646 - acc: 0.464 - 3s 392us/sample - loss: 1.0646 - acc: 0.4644 - val_loss: 1.0613 - val_acc: 0.4588\n",
      "Epoch 20/100\n",
      "7917/7917 [==============================] - ETA: 5s - loss: 0.9682 - acc: 0.600 - ETA: 3s - loss: 1.0613 - acc: 0.481 - ETA: 2s - loss: 1.0615 - acc: 0.481 - ETA: 2s - loss: 1.0581 - acc: 0.481 - ETA: 2s - loss: 1.0541 - acc: 0.490 - ETA: 2s - loss: 1.0612 - acc: 0.473 - ETA: 2s - loss: 1.0666 - acc: 0.463 - ETA: 2s - loss: 1.0703 - acc: 0.454 - ETA: 2s - loss: 1.0689 - acc: 0.457 - ETA: 2s - loss: 1.0732 - acc: 0.445 - ETA: 2s - loss: 1.0737 - acc: 0.444 - ETA: 2s - loss: 1.0731 - acc: 0.446 - ETA: 2s - loss: 1.0733 - acc: 0.443 - ETA: 1s - loss: 1.0727 - acc: 0.446 - ETA: 1s - loss: 1.0739 - acc: 0.444 - ETA: 1s - loss: 1.0729 - acc: 0.447 - ETA: 1s - loss: 1.0742 - acc: 0.444 - ETA: 1s - loss: 1.0715 - acc: 0.450 - ETA: 1s - loss: 1.0715 - acc: 0.451 - ETA: 1s - loss: 1.0719 - acc: 0.452 - ETA: 1s - loss: 1.0714 - acc: 0.452 - ETA: 1s - loss: 1.0717 - acc: 0.453 - ETA: 1s - loss: 1.0709 - acc: 0.454 - ETA: 1s - loss: 1.0713 - acc: 0.452 - ETA: 1s - loss: 1.0702 - acc: 0.455 - ETA: 1s - loss: 1.0709 - acc: 0.454 - ETA: 1s - loss: 1.0701 - acc: 0.455 - ETA: 1s - loss: 1.0700 - acc: 0.455 - ETA: 1s - loss: 1.0701 - acc: 0.454 - ETA: 1s - loss: 1.0689 - acc: 0.457 - ETA: 1s - loss: 1.0686 - acc: 0.459 - ETA: 1s - loss: 1.0685 - acc: 0.458 - ETA: 1s - loss: 1.0688 - acc: 0.458 - ETA: 1s - loss: 1.0693 - acc: 0.457 - ETA: 1s - loss: 1.0691 - acc: 0.457 - ETA: 1s - loss: 1.0696 - acc: 0.457 - ETA: 1s - loss: 1.0697 - acc: 0.456 - ETA: 0s - loss: 1.0696 - acc: 0.457 - ETA: 0s - loss: 1.0692 - acc: 0.457 - ETA: 0s - loss: 1.0687 - acc: 0.457 - ETA: 0s - loss: 1.0679 - acc: 0.459 - ETA: 0s - loss: 1.0684 - acc: 0.458 - ETA: 0s - loss: 1.0682 - acc: 0.458 - ETA: 0s - loss: 1.0687 - acc: 0.457 - ETA: 0s - loss: 1.0682 - acc: 0.459 - ETA: 0s - loss: 1.0677 - acc: 0.460 - ETA: 0s - loss: 1.0680 - acc: 0.459 - ETA: 0s - loss: 1.0677 - acc: 0.460 - ETA: 0s - loss: 1.0680 - acc: 0.459 - ETA: 0s - loss: 1.0682 - acc: 0.459 - ETA: 0s - loss: 1.0680 - acc: 0.459 - ETA: 0s - loss: 1.0680 - acc: 0.459 - ETA: 0s - loss: 1.0682 - acc: 0.459 - ETA: 0s - loss: 1.0681 - acc: 0.459 - ETA: 0s - loss: 1.0682 - acc: 0.459 - ETA: 0s - loss: 1.0683 - acc: 0.458 - ETA: 0s - loss: 1.0682 - acc: 0.459 - ETA: 0s - loss: 1.0680 - acc: 0.459 - ETA: 0s - loss: 1.0678 - acc: 0.459 - ETA: 0s - loss: 1.0681 - acc: 0.459 - ETA: 0s - loss: 1.0680 - acc: 0.459 - ETA: 0s - loss: 1.0681 - acc: 0.458 - ETA: 0s - loss: 1.0683 - acc: 0.458 - ETA: 0s - loss: 1.0683 - acc: 0.458 - ETA: 0s - loss: 1.0682 - acc: 0.458 - ETA: 0s - loss: 1.0682 - acc: 0.458 - ETA: 0s - loss: 1.0681 - acc: 0.459 - ETA: 0s - loss: 1.0681 - acc: 0.459 - ETA: 0s - loss: 1.0679 - acc: 0.459 - ETA: 0s - loss: 1.0676 - acc: 0.459 - ETA: 0s - loss: 1.0675 - acc: 0.460 - ETA: 0s - loss: 1.0671 - acc: 0.461 - ETA: 0s - loss: 1.0670 - acc: 0.461 - ETA: 0s - loss: 1.0670 - acc: 0.461 - ETA: 0s - loss: 1.0668 - acc: 0.461 - ETA: 0s - loss: 1.0663 - acc: 0.463 - ETA: 0s - loss: 1.0663 - acc: 0.463 - ETA: 0s - loss: 1.0664 - acc: 0.463 - ETA: 0s - loss: 1.0664 - acc: 0.463 - 5s 679us/sample - loss: 1.0664 - acc: 0.4633 - val_loss: 1.0610 - val_acc: 0.4588\n",
      "Epoch 21/100\n",
      "7917/7917 [==============================] - ETA: 3s - loss: 1.0381 - acc: 0.550 - ETA: 3s - loss: 1.0749 - acc: 0.457 - ETA: 3s - loss: 1.0483 - acc: 0.500 - ETA: 4s - loss: 1.0571 - acc: 0.481 - ETA: 5s - loss: 1.0631 - acc: 0.467 - ETA: 6s - loss: 1.0675 - acc: 0.457 - ETA: 5s - loss: 1.0733 - acc: 0.450 - ETA: 6s - loss: 1.0707 - acc: 0.456 - ETA: 6s - loss: 1.0706 - acc: 0.457 - ETA: 5s - loss: 1.0642 - acc: 0.463 - ETA: 5s - loss: 1.0671 - acc: 0.459 - ETA: 5s - loss: 1.0686 - acc: 0.455 - ETA: 4s - loss: 1.0691 - acc: 0.454 - ETA: 4s - loss: 1.0665 - acc: 0.459 - ETA: 4s - loss: 1.0697 - acc: 0.451 - ETA: 4s - loss: 1.0687 - acc: 0.453 - ETA: 4s - loss: 1.0703 - acc: 0.450 - ETA: 4s - loss: 1.0713 - acc: 0.450 - ETA: 4s - loss: 1.0721 - acc: 0.448 - ETA: 4s - loss: 1.0718 - acc: 0.449 - ETA: 4s - loss: 1.0708 - acc: 0.451 - ETA: 4s - loss: 1.0705 - acc: 0.451 - ETA: 4s - loss: 1.0695 - acc: 0.452 - ETA: 4s - loss: 1.0698 - acc: 0.452 - ETA: 4s - loss: 1.0708 - acc: 0.450 - ETA: 4s - loss: 1.0711 - acc: 0.449 - ETA: 4s - loss: 1.0719 - acc: 0.447 - ETA: 4s - loss: 1.0692 - acc: 0.452 - ETA: 4s - loss: 1.0685 - acc: 0.454 - ETA: 4s - loss: 1.0680 - acc: 0.456 - ETA: 4s - loss: 1.0686 - acc: 0.455 - ETA: 4s - loss: 1.0685 - acc: 0.454 - ETA: 3s - loss: 1.0680 - acc: 0.455 - ETA: 3s - loss: 1.0678 - acc: 0.456 - ETA: 3s - loss: 1.0671 - acc: 0.456 - ETA: 3s - loss: 1.0680 - acc: 0.454 - ETA: 3s - loss: 1.0689 - acc: 0.453 - ETA: 3s - loss: 1.0688 - acc: 0.454 - ETA: 4s - loss: 1.0690 - acc: 0.453 - ETA: 4s - loss: 1.0687 - acc: 0.453 - ETA: 4s - loss: 1.0684 - acc: 0.454 - ETA: 4s - loss: 1.0682 - acc: 0.455 - ETA: 4s - loss: 1.0683 - acc: 0.454 - ETA: 4s - loss: 1.0679 - acc: 0.455 - ETA: 4s - loss: 1.0676 - acc: 0.454 - ETA: 4s - loss: 1.0684 - acc: 0.453 - ETA: 4s - loss: 1.0680 - acc: 0.453 - ETA: 4s - loss: 1.0687 - acc: 0.451 - ETA: 3s - loss: 1.0682 - acc: 0.453 - ETA: 3s - loss: 1.0678 - acc: 0.454 - ETA: 3s - loss: 1.0669 - acc: 0.457 - ETA: 3s - loss: 1.0666 - acc: 0.458 - ETA: 2s - loss: 1.0651 - acc: 0.461 - ETA: 2s - loss: 1.0655 - acc: 0.460 - ETA: 2s - loss: 1.0655 - acc: 0.460 - ETA: 2s - loss: 1.0645 - acc: 0.462 - ETA: 2s - loss: 1.0645 - acc: 0.462 - ETA: 2s - loss: 1.0639 - acc: 0.462 - ETA: 2s - loss: 1.0642 - acc: 0.462 - ETA: 2s - loss: 1.0637 - acc: 0.462 - ETA: 2s - loss: 1.0636 - acc: 0.463 - ETA: 1s - loss: 1.0637 - acc: 0.463 - ETA: 1s - loss: 1.0638 - acc: 0.463 - ETA: 1s - loss: 1.0645 - acc: 0.461 - ETA: 1s - loss: 1.0646 - acc: 0.461 - ETA: 1s - loss: 1.0643 - acc: 0.462 - ETA: 1s - loss: 1.0638 - acc: 0.462 - ETA: 1s - loss: 1.0642 - acc: 0.462 - ETA: 1s - loss: 1.0639 - acc: 0.463 - ETA: 1s - loss: 1.0637 - acc: 0.463 - ETA: 1s - loss: 1.0636 - acc: 0.463 - ETA: 0s - loss: 1.0634 - acc: 0.464 - ETA: 0s - loss: 1.0630 - acc: 0.464 - ETA: 0s - loss: 1.0638 - acc: 0.463 - ETA: 0s - loss: 1.0635 - acc: 0.463 - ETA: 0s - loss: 1.0639 - acc: 0.462 - ETA: 0s - loss: 1.0640 - acc: 0.462 - ETA: 0s - loss: 1.0642 - acc: 0.462 - ETA: 0s - loss: 1.0634 - acc: 0.463 - ETA: 0s - loss: 1.0628 - acc: 0.465 - 5s 631us/sample - loss: 1.0635 - acc: 0.4644 - val_loss: 1.0607 - val_acc: 0.4588\n",
      "Epoch 22/100\n"
     ]
    },
    {
     "name": "stdout",
     "output_type": "stream",
     "text": [
      "7917/7917 [==============================] - ETA: 8s - loss: 1.0971 - acc: 0.400 - ETA: 11s - loss: 1.0833 - acc: 0.43 - ETA: 8s - loss: 1.0771 - acc: 0.4500 - ETA: 7s - loss: 1.0846 - acc: 0.430 - ETA: 7s - loss: 1.0865 - acc: 0.434 - ETA: 5s - loss: 1.0720 - acc: 0.452 - ETA: 5s - loss: 1.0667 - acc: 0.457 - ETA: 5s - loss: 1.0704 - acc: 0.455 - ETA: 5s - loss: 1.0724 - acc: 0.453 - ETA: 6s - loss: 1.0728 - acc: 0.451 - ETA: 6s - loss: 1.0738 - acc: 0.450 - ETA: 6s - loss: 1.0712 - acc: 0.454 - ETA: 7s - loss: 1.0708 - acc: 0.455 - ETA: 8s - loss: 1.0732 - acc: 0.450 - ETA: 9s - loss: 1.0709 - acc: 0.455 - ETA: 9s - loss: 1.0732 - acc: 0.451 - ETA: 9s - loss: 1.0734 - acc: 0.450 - ETA: 10s - loss: 1.0728 - acc: 0.45 - ETA: 11s - loss: 1.0723 - acc: 0.45 - ETA: 11s - loss: 1.0740 - acc: 0.45 - ETA: 11s - loss: 1.0738 - acc: 0.44 - ETA: 12s - loss: 1.0739 - acc: 0.45 - ETA: 12s - loss: 1.0751 - acc: 0.44 - ETA: 12s - loss: 1.0750 - acc: 0.44 - ETA: 11s - loss: 1.0692 - acc: 0.45 - ETA: 11s - loss: 1.0687 - acc: 0.45 - ETA: 11s - loss: 1.0661 - acc: 0.46 - ETA: 11s - loss: 1.0668 - acc: 0.46 - ETA: 10s - loss: 1.0656 - acc: 0.46 - ETA: 9s - loss: 1.0636 - acc: 0.4690 - ETA: 9s - loss: 1.0650 - acc: 0.465 - ETA: 9s - loss: 1.0645 - acc: 0.467 - ETA: 9s - loss: 1.0636 - acc: 0.469 - ETA: 9s - loss: 1.0642 - acc: 0.469 - ETA: 8s - loss: 1.0627 - acc: 0.472 - ETA: 9s - loss: 1.0619 - acc: 0.474 - ETA: 9s - loss: 1.0617 - acc: 0.474 - ETA: 9s - loss: 1.0607 - acc: 0.477 - ETA: 9s - loss: 1.0605 - acc: 0.477 - ETA: 9s - loss: 1.0611 - acc: 0.476 - ETA: 9s - loss: 1.0608 - acc: 0.476 - ETA: 9s - loss: 1.0611 - acc: 0.475 - ETA: 9s - loss: 1.0606 - acc: 0.476 - ETA: 9s - loss: 1.0606 - acc: 0.477 - ETA: 9s - loss: 1.0609 - acc: 0.476 - ETA: 9s - loss: 1.0608 - acc: 0.476 - ETA: 9s - loss: 1.0611 - acc: 0.475 - ETA: 10s - loss: 1.0607 - acc: 0.47 - ETA: 10s - loss: 1.0606 - acc: 0.47 - ETA: 10s - loss: 1.0608 - acc: 0.47 - ETA: 10s - loss: 1.0612 - acc: 0.47 - ETA: 10s - loss: 1.0603 - acc: 0.47 - ETA: 10s - loss: 1.0608 - acc: 0.47 - ETA: 10s - loss: 1.0617 - acc: 0.47 - ETA: 10s - loss: 1.0622 - acc: 0.47 - ETA: 10s - loss: 1.0627 - acc: 0.47 - ETA: 10s - loss: 1.0621 - acc: 0.47 - ETA: 10s - loss: 1.0623 - acc: 0.47 - ETA: 11s - loss: 1.0613 - acc: 0.47 - ETA: 11s - loss: 1.0611 - acc: 0.47 - ETA: 10s - loss: 1.0600 - acc: 0.47 - ETA: 11s - loss: 1.0606 - acc: 0.47 - ETA: 10s - loss: 1.0598 - acc: 0.47 - ETA: 10s - loss: 1.0595 - acc: 0.47 - ETA: 10s - loss: 1.0594 - acc: 0.47 - ETA: 10s - loss: 1.0599 - acc: 0.47 - ETA: 10s - loss: 1.0596 - acc: 0.47 - ETA: 10s - loss: 1.0597 - acc: 0.47 - ETA: 10s - loss: 1.0592 - acc: 0.47 - ETA: 10s - loss: 1.0589 - acc: 0.47 - ETA: 10s - loss: 1.0584 - acc: 0.47 - ETA: 10s - loss: 1.0580 - acc: 0.47 - ETA: 10s - loss: 1.0579 - acc: 0.47 - ETA: 10s - loss: 1.0580 - acc: 0.47 - ETA: 10s - loss: 1.0582 - acc: 0.47 - ETA: 10s - loss: 1.0588 - acc: 0.47 - ETA: 10s - loss: 1.0587 - acc: 0.47 - ETA: 10s - loss: 1.0589 - acc: 0.47 - ETA: 10s - loss: 1.0584 - acc: 0.47 - ETA: 10s - loss: 1.0585 - acc: 0.47 - ETA: 10s - loss: 1.0590 - acc: 0.47 - ETA: 10s - loss: 1.0586 - acc: 0.47 - ETA: 10s - loss: 1.0585 - acc: 0.47 - ETA: 10s - loss: 1.0589 - acc: 0.47 - ETA: 10s - loss: 1.0591 - acc: 0.47 - ETA: 10s - loss: 1.0586 - acc: 0.47 - ETA: 10s - loss: 1.0582 - acc: 0.47 - ETA: 10s - loss: 1.0589 - acc: 0.47 - ETA: 10s - loss: 1.0589 - acc: 0.47 - ETA: 10s - loss: 1.0592 - acc: 0.47 - ETA: 10s - loss: 1.0590 - acc: 0.47 - ETA: 10s - loss: 1.0592 - acc: 0.47 - ETA: 10s - loss: 1.0589 - acc: 0.47 - ETA: 10s - loss: 1.0586 - acc: 0.47 - ETA: 10s - loss: 1.0585 - acc: 0.47 - ETA: 10s - loss: 1.0581 - acc: 0.47 - ETA: 10s - loss: 1.0582 - acc: 0.47 - ETA: 10s - loss: 1.0587 - acc: 0.47 - ETA: 10s - loss: 1.0585 - acc: 0.47 - ETA: 10s - loss: 1.0584 - acc: 0.47 - ETA: 10s - loss: 1.0586 - acc: 0.47 - ETA: 10s - loss: 1.0588 - acc: 0.47 - ETA: 10s - loss: 1.0589 - acc: 0.47 - ETA: 11s - loss: 1.0585 - acc: 0.47 - ETA: 11s - loss: 1.0577 - acc: 0.47 - ETA: 11s - loss: 1.0577 - acc: 0.47 - ETA: 11s - loss: 1.0576 - acc: 0.47 - ETA: 11s - loss: 1.0579 - acc: 0.47 - ETA: 11s - loss: 1.0576 - acc: 0.47 - ETA: 11s - loss: 1.0581 - acc: 0.47 - ETA: 11s - loss: 1.0575 - acc: 0.47 - ETA: 11s - loss: 1.0574 - acc: 0.47 - ETA: 10s - loss: 1.0581 - acc: 0.47 - ETA: 10s - loss: 1.0581 - acc: 0.47 - ETA: 10s - loss: 1.0579 - acc: 0.47 - ETA: 10s - loss: 1.0579 - acc: 0.47 - ETA: 10s - loss: 1.0581 - acc: 0.47 - ETA: 10s - loss: 1.0587 - acc: 0.47 - ETA: 10s - loss: 1.0593 - acc: 0.47 - ETA: 10s - loss: 1.0597 - acc: 0.47 - ETA: 10s - loss: 1.0594 - acc: 0.47 - ETA: 10s - loss: 1.0595 - acc: 0.47 - ETA: 10s - loss: 1.0595 - acc: 0.47 - ETA: 10s - loss: 1.0595 - acc: 0.47 - ETA: 10s - loss: 1.0597 - acc: 0.47 - ETA: 10s - loss: 1.0599 - acc: 0.47 - ETA: 10s - loss: 1.0599 - acc: 0.47 - ETA: 10s - loss: 1.0599 - acc: 0.47 - ETA: 10s - loss: 1.0597 - acc: 0.47 - ETA: 10s - loss: 1.0603 - acc: 0.47 - ETA: 9s - loss: 1.0600 - acc: 0.4747 - ETA: 9s - loss: 1.0596 - acc: 0.475 - ETA: 8s - loss: 1.0593 - acc: 0.476 - ETA: 8s - loss: 1.0595 - acc: 0.476 - ETA: 8s - loss: 1.0596 - acc: 0.475 - ETA: 8s - loss: 1.0601 - acc: 0.474 - ETA: 8s - loss: 1.0605 - acc: 0.473 - ETA: 7s - loss: 1.0610 - acc: 0.471 - ETA: 7s - loss: 1.0612 - acc: 0.471 - ETA: 7s - loss: 1.0614 - acc: 0.471 - ETA: 7s - loss: 1.0607 - acc: 0.472 - ETA: 7s - loss: 1.0613 - acc: 0.471 - ETA: 6s - loss: 1.0620 - acc: 0.470 - ETA: 6s - loss: 1.0620 - acc: 0.470 - ETA: 6s - loss: 1.0622 - acc: 0.469 - ETA: 6s - loss: 1.0632 - acc: 0.467 - ETA: 6s - loss: 1.0632 - acc: 0.467 - ETA: 5s - loss: 1.0630 - acc: 0.467 - ETA: 5s - loss: 1.0632 - acc: 0.467 - ETA: 5s - loss: 1.0631 - acc: 0.467 - ETA: 5s - loss: 1.0627 - acc: 0.468 - ETA: 5s - loss: 1.0626 - acc: 0.468 - ETA: 4s - loss: 1.0639 - acc: 0.465 - ETA: 4s - loss: 1.0634 - acc: 0.466 - ETA: 3s - loss: 1.0640 - acc: 0.465 - ETA: 3s - loss: 1.0641 - acc: 0.465 - ETA: 2s - loss: 1.0646 - acc: 0.464 - ETA: 2s - loss: 1.0640 - acc: 0.465 - ETA: 2s - loss: 1.0642 - acc: 0.464 - ETA: 1s - loss: 1.0642 - acc: 0.464 - ETA: 1s - loss: 1.0640 - acc: 0.465 - ETA: 1s - loss: 1.0638 - acc: 0.465 - ETA: 1s - loss: 1.0637 - acc: 0.465 - ETA: 1s - loss: 1.0636 - acc: 0.465 - ETA: 1s - loss: 1.0636 - acc: 0.465 - ETA: 1s - loss: 1.0640 - acc: 0.464 - ETA: 1s - loss: 1.0641 - acc: 0.464 - ETA: 1s - loss: 1.0642 - acc: 0.464 - ETA: 1s - loss: 1.0642 - acc: 0.464 - ETA: 1s - loss: 1.0641 - acc: 0.464 - ETA: 1s - loss: 1.0640 - acc: 0.464 - ETA: 0s - loss: 1.0639 - acc: 0.464 - ETA: 0s - loss: 1.0640 - acc: 0.464 - ETA: 0s - loss: 1.0639 - acc: 0.464 - ETA: 0s - loss: 1.0641 - acc: 0.464 - ETA: 0s - loss: 1.0642 - acc: 0.464 - ETA: 0s - loss: 1.0644 - acc: 0.463 - ETA: 0s - loss: 1.0643 - acc: 0.464 - ETA: 0s - loss: 1.0645 - acc: 0.463 - ETA: 0s - loss: 1.0645 - acc: 0.463 - ETA: 0s - loss: 1.0644 - acc: 0.463 - ETA: 0s - loss: 1.0641 - acc: 0.464 - ETA: 0s - loss: 1.0638 - acc: 0.464 - ETA: 0s - loss: 1.0634 - acc: 0.465 - ETA: 0s - loss: 1.0639 - acc: 0.464 - ETA: 0s - loss: 1.0640 - acc: 0.464 - 14s 2ms/sample - loss: 1.0637 - acc: 0.4644 - val_loss: 1.0604 - val_acc: 0.4588\n",
      "Epoch 23/100\n",
      "7917/7917 [==============================] - ETA: 11s - loss: 0.9782 - acc: 0.55 - ETA: 7s - loss: 1.0513 - acc: 0.4875 - ETA: 6s - loss: 1.0803 - acc: 0.437 - ETA: 5s - loss: 1.0512 - acc: 0.488 - ETA: 5s - loss: 1.0597 - acc: 0.476 - ETA: 4s - loss: 1.0588 - acc: 0.467 - ETA: 4s - loss: 1.0610 - acc: 0.461 - ETA: 4s - loss: 1.0635 - acc: 0.459 - ETA: 5s - loss: 1.0632 - acc: 0.459 - ETA: 5s - loss: 1.0599 - acc: 0.468 - ETA: 5s - loss: 1.0568 - acc: 0.474 - ETA: 5s - loss: 1.0570 - acc: 0.472 - ETA: 5s - loss: 1.0557 - acc: 0.474 - ETA: 5s - loss: 1.0579 - acc: 0.473 - ETA: 5s - loss: 1.0557 - acc: 0.477 - ETA: 4s - loss: 1.0544 - acc: 0.479 - ETA: 4s - loss: 1.0563 - acc: 0.475 - ETA: 4s - loss: 1.0581 - acc: 0.471 - ETA: 5s - loss: 1.0591 - acc: 0.468 - ETA: 5s - loss: 1.0604 - acc: 0.468 - ETA: 4s - loss: 1.0594 - acc: 0.470 - ETA: 4s - loss: 1.0613 - acc: 0.467 - ETA: 4s - loss: 1.0650 - acc: 0.461 - ETA: 4s - loss: 1.0654 - acc: 0.461 - ETA: 4s - loss: 1.0661 - acc: 0.459 - ETA: 4s - loss: 1.0661 - acc: 0.460 - ETA: 4s - loss: 1.0660 - acc: 0.459 - ETA: 4s - loss: 1.0665 - acc: 0.458 - ETA: 4s - loss: 1.0640 - acc: 0.463 - ETA: 4s - loss: 1.0644 - acc: 0.462 - ETA: 4s - loss: 1.0637 - acc: 0.463 - ETA: 4s - loss: 1.0627 - acc: 0.466 - ETA: 4s - loss: 1.0617 - acc: 0.468 - ETA: 3s - loss: 1.0614 - acc: 0.469 - ETA: 3s - loss: 1.0611 - acc: 0.468 - ETA: 4s - loss: 1.0613 - acc: 0.469 - ETA: 4s - loss: 1.0613 - acc: 0.468 - ETA: 4s - loss: 1.0614 - acc: 0.469 - ETA: 3s - loss: 1.0624 - acc: 0.466 - ETA: 3s - loss: 1.0630 - acc: 0.464 - ETA: 3s - loss: 1.0640 - acc: 0.464 - ETA: 3s - loss: 1.0647 - acc: 0.463 - ETA: 3s - loss: 1.0645 - acc: 0.463 - ETA: 3s - loss: 1.0640 - acc: 0.463 - ETA: 3s - loss: 1.0635 - acc: 0.464 - ETA: 3s - loss: 1.0635 - acc: 0.463 - ETA: 2s - loss: 1.0633 - acc: 0.464 - ETA: 2s - loss: 1.0632 - acc: 0.465 - ETA: 2s - loss: 1.0637 - acc: 0.465 - ETA: 2s - loss: 1.0644 - acc: 0.464 - ETA: 2s - loss: 1.0648 - acc: 0.463 - ETA: 2s - loss: 1.0643 - acc: 0.464 - ETA: 2s - loss: 1.0649 - acc: 0.463 - ETA: 2s - loss: 1.0647 - acc: 0.463 - ETA: 2s - loss: 1.0641 - acc: 0.465 - ETA: 2s - loss: 1.0642 - acc: 0.465 - ETA: 2s - loss: 1.0638 - acc: 0.466 - ETA: 2s - loss: 1.0637 - acc: 0.466 - ETA: 2s - loss: 1.0644 - acc: 0.465 - ETA: 2s - loss: 1.0636 - acc: 0.467 - ETA: 2s - loss: 1.0634 - acc: 0.468 - ETA: 2s - loss: 1.0637 - acc: 0.467 - ETA: 2s - loss: 1.0640 - acc: 0.467 - ETA: 2s - loss: 1.0642 - acc: 0.466 - ETA: 2s - loss: 1.0651 - acc: 0.465 - ETA: 2s - loss: 1.0654 - acc: 0.465 - ETA: 1s - loss: 1.0657 - acc: 0.464 - ETA: 1s - loss: 1.0661 - acc: 0.463 - ETA: 1s - loss: 1.0651 - acc: 0.465 - ETA: 1s - loss: 1.0651 - acc: 0.464 - ETA: 1s - loss: 1.0647 - acc: 0.465 - ETA: 1s - loss: 1.0651 - acc: 0.464 - ETA: 1s - loss: 1.0656 - acc: 0.464 - ETA: 1s - loss: 1.0659 - acc: 0.463 - ETA: 1s - loss: 1.0660 - acc: 0.463 - ETA: 1s - loss: 1.0661 - acc: 0.463 - ETA: 1s - loss: 1.0664 - acc: 0.463 - ETA: 1s - loss: 1.0669 - acc: 0.461 - ETA: 1s - loss: 1.0669 - acc: 0.461 - ETA: 1s - loss: 1.0665 - acc: 0.462 - ETA: 1s - loss: 1.0660 - acc: 0.463 - ETA: 1s - loss: 1.0658 - acc: 0.463 - ETA: 1s - loss: 1.0656 - acc: 0.463 - ETA: 1s - loss: 1.0659 - acc: 0.463 - ETA: 1s - loss: 1.0660 - acc: 0.462 - ETA: 1s - loss: 1.0656 - acc: 0.463 - ETA: 1s - loss: 1.0657 - acc: 0.463 - ETA: 1s - loss: 1.0649 - acc: 0.464 - ETA: 1s - loss: 1.0646 - acc: 0.465 - ETA: 0s - loss: 1.0643 - acc: 0.465 - ETA: 0s - loss: 1.0642 - acc: 0.465 - ETA: 0s - loss: 1.0639 - acc: 0.466 - ETA: 0s - loss: 1.0642 - acc: 0.465 - ETA: 0s - loss: 1.0645 - acc: 0.465 - ETA: 0s - loss: 1.0643 - acc: 0.465 - ETA: 0s - loss: 1.0640 - acc: 0.466 - ETA: 0s - loss: 1.0643 - acc: 0.465 - ETA: 0s - loss: 1.0644 - acc: 0.465 - ETA: 0s - loss: 1.0643 - acc: 0.465 - ETA: 0s - loss: 1.0638 - acc: 0.466 - ETA: 0s - loss: 1.0640 - acc: 0.465 - ETA: 0s - loss: 1.0643 - acc: 0.465 - ETA: 0s - loss: 1.0644 - acc: 0.465 - ETA: 0s - loss: 1.0644 - acc: 0.465 - ETA: 0s - loss: 1.0646 - acc: 0.464 - ETA: 0s - loss: 1.0646 - acc: 0.464 - ETA: 0s - loss: 1.0646 - acc: 0.464 - ETA: 0s - loss: 1.0645 - acc: 0.464 - ETA: 0s - loss: 1.0651 - acc: 0.463 - ETA: 0s - loss: 1.0652 - acc: 0.463 - ETA: 0s - loss: 1.0652 - acc: 0.463 - ETA: 0s - loss: 1.0652 - acc: 0.463 - ETA: 0s - loss: 1.0649 - acc: 0.463 - ETA: 0s - loss: 1.0646 - acc: 0.463 - ETA: 0s - loss: 1.0644 - acc: 0.463 - ETA: 0s - loss: 1.0645 - acc: 0.463 - ETA: 0s - loss: 1.0646 - acc: 0.463 - ETA: 0s - loss: 1.0647 - acc: 0.463 - ETA: 0s - loss: 1.0644 - acc: 0.463 - 8s 1ms/sample - loss: 1.0643 - acc: 0.4641 - val_loss: 1.0601 - val_acc: 0.4588\n",
      "Epoch 24/100\n"
     ]
    },
    {
     "name": "stdout",
     "output_type": "stream",
     "text": [
      "7917/7917 [==============================] - ETA: 13s - loss: 1.0009 - acc: 0.55 - ETA: 5s - loss: 1.0729 - acc: 0.4417 - ETA: 6s - loss: 1.0464 - acc: 0.488 - ETA: 5s - loss: 1.0580 - acc: 0.460 - ETA: 5s - loss: 1.0478 - acc: 0.478 - ETA: 5s - loss: 1.0552 - acc: 0.466 - ETA: 5s - loss: 1.0489 - acc: 0.486 - ETA: 5s - loss: 1.0500 - acc: 0.482 - ETA: 5s - loss: 1.0459 - acc: 0.494 - ETA: 6s - loss: 1.0476 - acc: 0.491 - ETA: 6s - loss: 1.0508 - acc: 0.483 - ETA: 6s - loss: 1.0532 - acc: 0.482 - ETA: 6s - loss: 1.0554 - acc: 0.478 - ETA: 6s - loss: 1.0585 - acc: 0.471 - ETA: 6s - loss: 1.0588 - acc: 0.469 - ETA: 6s - loss: 1.0638 - acc: 0.461 - ETA: 6s - loss: 1.0619 - acc: 0.464 - ETA: 6s - loss: 1.0650 - acc: 0.457 - ETA: 6s - loss: 1.0660 - acc: 0.456 - ETA: 6s - loss: 1.0661 - acc: 0.457 - ETA: 6s - loss: 1.0666 - acc: 0.456 - ETA: 5s - loss: 1.0682 - acc: 0.452 - ETA: 5s - loss: 1.0692 - acc: 0.448 - ETA: 5s - loss: 1.0662 - acc: 0.452 - ETA: 4s - loss: 1.0670 - acc: 0.452 - ETA: 4s - loss: 1.0673 - acc: 0.452 - ETA: 4s - loss: 1.0688 - acc: 0.449 - ETA: 5s - loss: 1.0687 - acc: 0.449 - ETA: 5s - loss: 1.0678 - acc: 0.451 - ETA: 5s - loss: 1.0671 - acc: 0.452 - ETA: 5s - loss: 1.0666 - acc: 0.453 - ETA: 5s - loss: 1.0661 - acc: 0.454 - ETA: 5s - loss: 1.0664 - acc: 0.453 - ETA: 5s - loss: 1.0675 - acc: 0.452 - ETA: 5s - loss: 1.0664 - acc: 0.453 - ETA: 5s - loss: 1.0657 - acc: 0.454 - ETA: 5s - loss: 1.0655 - acc: 0.454 - ETA: 6s - loss: 1.0660 - acc: 0.453 - ETA: 6s - loss: 1.0667 - acc: 0.452 - ETA: 6s - loss: 1.0666 - acc: 0.452 - ETA: 6s - loss: 1.0669 - acc: 0.452 - ETA: 6s - loss: 1.0663 - acc: 0.453 - ETA: 6s - loss: 1.0650 - acc: 0.455 - ETA: 6s - loss: 1.0655 - acc: 0.455 - ETA: 6s - loss: 1.0648 - acc: 0.457 - ETA: 7s - loss: 1.0641 - acc: 0.457 - ETA: 7s - loss: 1.0634 - acc: 0.459 - ETA: 7s - loss: 1.0638 - acc: 0.458 - ETA: 7s - loss: 1.0647 - acc: 0.458 - ETA: 6s - loss: 1.0630 - acc: 0.462 - ETA: 6s - loss: 1.0620 - acc: 0.463 - ETA: 6s - loss: 1.0619 - acc: 0.463 - ETA: 6s - loss: 1.0626 - acc: 0.462 - ETA: 6s - loss: 1.0625 - acc: 0.462 - ETA: 6s - loss: 1.0632 - acc: 0.461 - ETA: 6s - loss: 1.0634 - acc: 0.460 - ETA: 6s - loss: 1.0641 - acc: 0.459 - ETA: 6s - loss: 1.0632 - acc: 0.461 - ETA: 6s - loss: 1.0633 - acc: 0.461 - ETA: 5s - loss: 1.0635 - acc: 0.460 - ETA: 5s - loss: 1.0634 - acc: 0.461 - ETA: 5s - loss: 1.0632 - acc: 0.461 - ETA: 5s - loss: 1.0636 - acc: 0.460 - ETA: 5s - loss: 1.0629 - acc: 0.462 - ETA: 5s - loss: 1.0632 - acc: 0.461 - ETA: 5s - loss: 1.0629 - acc: 0.462 - ETA: 5s - loss: 1.0639 - acc: 0.460 - ETA: 5s - loss: 1.0639 - acc: 0.460 - ETA: 5s - loss: 1.0652 - acc: 0.458 - ETA: 5s - loss: 1.0653 - acc: 0.459 - ETA: 4s - loss: 1.0648 - acc: 0.459 - ETA: 4s - loss: 1.0647 - acc: 0.459 - ETA: 4s - loss: 1.0641 - acc: 0.461 - ETA: 4s - loss: 1.0645 - acc: 0.459 - ETA: 4s - loss: 1.0648 - acc: 0.459 - ETA: 4s - loss: 1.0651 - acc: 0.459 - ETA: 4s - loss: 1.0652 - acc: 0.459 - ETA: 4s - loss: 1.0649 - acc: 0.461 - ETA: 4s - loss: 1.0648 - acc: 0.460 - ETA: 3s - loss: 1.0647 - acc: 0.461 - ETA: 3s - loss: 1.0650 - acc: 0.460 - ETA: 3s - loss: 1.0647 - acc: 0.460 - ETA: 3s - loss: 1.0642 - acc: 0.461 - ETA: 3s - loss: 1.0644 - acc: 0.461 - ETA: 3s - loss: 1.0653 - acc: 0.460 - ETA: 2s - loss: 1.0657 - acc: 0.459 - ETA: 2s - loss: 1.0666 - acc: 0.458 - ETA: 2s - loss: 1.0657 - acc: 0.460 - ETA: 2s - loss: 1.0663 - acc: 0.459 - ETA: 2s - loss: 1.0663 - acc: 0.458 - ETA: 2s - loss: 1.0664 - acc: 0.459 - ETA: 2s - loss: 1.0658 - acc: 0.460 - ETA: 1s - loss: 1.0654 - acc: 0.461 - ETA: 1s - loss: 1.0655 - acc: 0.461 - ETA: 1s - loss: 1.0651 - acc: 0.461 - ETA: 1s - loss: 1.0657 - acc: 0.460 - ETA: 1s - loss: 1.0654 - acc: 0.460 - ETA: 1s - loss: 1.0662 - acc: 0.460 - ETA: 1s - loss: 1.0659 - acc: 0.460 - ETA: 0s - loss: 1.0658 - acc: 0.460 - ETA: 0s - loss: 1.0654 - acc: 0.461 - ETA: 0s - loss: 1.0645 - acc: 0.463 - ETA: 0s - loss: 1.0641 - acc: 0.463 - ETA: 0s - loss: 1.0638 - acc: 0.463 - ETA: 0s - loss: 1.0644 - acc: 0.462 - ETA: 0s - loss: 1.0642 - acc: 0.463 - ETA: 0s - loss: 1.0640 - acc: 0.463 - ETA: 0s - loss: 1.0641 - acc: 0.463 - ETA: 0s - loss: 1.0638 - acc: 0.464 - ETA: 0s - loss: 1.0640 - acc: 0.463 - 7s 913us/sample - loss: 1.0638 - acc: 0.4639 - val_loss: 1.0599 - val_acc: 0.4588\n",
      "Epoch 25/100\n",
      "7917/7917 [==============================] - ETA: 3s - loss: 1.0682 - acc: 0.500 - ETA: 3s - loss: 1.0740 - acc: 0.450 - ETA: 3s - loss: 1.0728 - acc: 0.443 - ETA: 3s - loss: 1.0624 - acc: 0.457 - ETA: 3s - loss: 1.0611 - acc: 0.455 - ETA: 3s - loss: 1.0612 - acc: 0.456 - ETA: 2s - loss: 1.0590 - acc: 0.465 - ETA: 2s - loss: 1.0608 - acc: 0.458 - ETA: 2s - loss: 1.0613 - acc: 0.459 - ETA: 2s - loss: 1.0566 - acc: 0.468 - ETA: 2s - loss: 1.0606 - acc: 0.463 - ETA: 2s - loss: 1.0604 - acc: 0.464 - ETA: 2s - loss: 1.0595 - acc: 0.466 - ETA: 2s - loss: 1.0575 - acc: 0.471 - ETA: 2s - loss: 1.0572 - acc: 0.471 - ETA: 2s - loss: 1.0556 - acc: 0.475 - ETA: 2s - loss: 1.0572 - acc: 0.473 - ETA: 2s - loss: 1.0564 - acc: 0.475 - ETA: 2s - loss: 1.0554 - acc: 0.476 - ETA: 2s - loss: 1.0560 - acc: 0.475 - ETA: 2s - loss: 1.0557 - acc: 0.476 - ETA: 2s - loss: 1.0565 - acc: 0.474 - ETA: 2s - loss: 1.0567 - acc: 0.473 - ETA: 2s - loss: 1.0567 - acc: 0.473 - ETA: 2s - loss: 1.0580 - acc: 0.471 - ETA: 2s - loss: 1.0572 - acc: 0.472 - ETA: 1s - loss: 1.0571 - acc: 0.473 - ETA: 1s - loss: 1.0570 - acc: 0.473 - ETA: 1s - loss: 1.0574 - acc: 0.472 - ETA: 1s - loss: 1.0578 - acc: 0.472 - ETA: 1s - loss: 1.0574 - acc: 0.472 - ETA: 1s - loss: 1.0581 - acc: 0.471 - ETA: 1s - loss: 1.0591 - acc: 0.469 - ETA: 1s - loss: 1.0585 - acc: 0.470 - ETA: 1s - loss: 1.0589 - acc: 0.470 - ETA: 1s - loss: 1.0595 - acc: 0.469 - ETA: 1s - loss: 1.0595 - acc: 0.470 - ETA: 1s - loss: 1.0591 - acc: 0.471 - ETA: 1s - loss: 1.0589 - acc: 0.471 - ETA: 1s - loss: 1.0586 - acc: 0.471 - ETA: 1s - loss: 1.0591 - acc: 0.471 - ETA: 1s - loss: 1.0584 - acc: 0.472 - ETA: 1s - loss: 1.0581 - acc: 0.472 - ETA: 1s - loss: 1.0579 - acc: 0.473 - ETA: 1s - loss: 1.0578 - acc: 0.473 - ETA: 1s - loss: 1.0573 - acc: 0.474 - ETA: 1s - loss: 1.0569 - acc: 0.475 - ETA: 1s - loss: 1.0574 - acc: 0.474 - ETA: 1s - loss: 1.0576 - acc: 0.474 - ETA: 1s - loss: 1.0575 - acc: 0.474 - ETA: 1s - loss: 1.0581 - acc: 0.473 - ETA: 1s - loss: 1.0588 - acc: 0.472 - ETA: 1s - loss: 1.0587 - acc: 0.472 - ETA: 1s - loss: 1.0592 - acc: 0.472 - ETA: 1s - loss: 1.0590 - acc: 0.472 - ETA: 1s - loss: 1.0586 - acc: 0.472 - ETA: 1s - loss: 1.0587 - acc: 0.472 - ETA: 1s - loss: 1.0587 - acc: 0.472 - ETA: 1s - loss: 1.0590 - acc: 0.472 - ETA: 1s - loss: 1.0596 - acc: 0.470 - ETA: 1s - loss: 1.0604 - acc: 0.468 - ETA: 1s - loss: 1.0609 - acc: 0.467 - ETA: 1s - loss: 1.0613 - acc: 0.467 - ETA: 1s - loss: 1.0619 - acc: 0.466 - ETA: 1s - loss: 1.0617 - acc: 0.466 - ETA: 1s - loss: 1.0617 - acc: 0.466 - ETA: 0s - loss: 1.0628 - acc: 0.465 - ETA: 0s - loss: 1.0623 - acc: 0.466 - ETA: 0s - loss: 1.0625 - acc: 0.466 - ETA: 0s - loss: 1.0628 - acc: 0.466 - ETA: 0s - loss: 1.0627 - acc: 0.466 - ETA: 0s - loss: 1.0625 - acc: 0.467 - ETA: 0s - loss: 1.0627 - acc: 0.467 - ETA: 0s - loss: 1.0628 - acc: 0.467 - ETA: 0s - loss: 1.0634 - acc: 0.465 - ETA: 0s - loss: 1.0632 - acc: 0.465 - ETA: 0s - loss: 1.0635 - acc: 0.465 - ETA: 0s - loss: 1.0635 - acc: 0.465 - ETA: 0s - loss: 1.0639 - acc: 0.464 - 5s 611us/sample - loss: 1.0639 - acc: 0.4643 - val_loss: 1.0596 - val_acc: 0.4588\n",
      "Epoch 26/100\n",
      "7917/7917 [==============================] - ETA: 3s - loss: 0.9728 - acc: 0.600 - ETA: 2s - loss: 1.0426 - acc: 0.512 - ETA: 3s - loss: 1.0644 - acc: 0.471 - ETA: 3s - loss: 1.0714 - acc: 0.455 - ETA: 3s - loss: 1.0694 - acc: 0.455 - ETA: 3s - loss: 1.0698 - acc: 0.451 - ETA: 2s - loss: 1.0635 - acc: 0.460 - ETA: 2s - loss: 1.0687 - acc: 0.450 - ETA: 2s - loss: 1.0670 - acc: 0.455 - ETA: 2s - loss: 1.0665 - acc: 0.456 - ETA: 2s - loss: 1.0672 - acc: 0.456 - ETA: 2s - loss: 1.0661 - acc: 0.459 - ETA: 2s - loss: 1.0642 - acc: 0.464 - ETA: 2s - loss: 1.0648 - acc: 0.464 - ETA: 2s - loss: 1.0628 - acc: 0.468 - ETA: 2s - loss: 1.0612 - acc: 0.470 - ETA: 2s - loss: 1.0628 - acc: 0.468 - ETA: 2s - loss: 1.0637 - acc: 0.467 - ETA: 2s - loss: 1.0633 - acc: 0.466 - ETA: 2s - loss: 1.0644 - acc: 0.465 - ETA: 2s - loss: 1.0641 - acc: 0.466 - ETA: 2s - loss: 1.0638 - acc: 0.467 - ETA: 2s - loss: 1.0647 - acc: 0.465 - ETA: 2s - loss: 1.0642 - acc: 0.467 - ETA: 2s - loss: 1.0642 - acc: 0.467 - ETA: 2s - loss: 1.0643 - acc: 0.467 - ETA: 2s - loss: 1.0633 - acc: 0.469 - ETA: 2s - loss: 1.0628 - acc: 0.470 - ETA: 2s - loss: 1.0618 - acc: 0.473 - ETA: 2s - loss: 1.0621 - acc: 0.472 - ETA: 2s - loss: 1.0636 - acc: 0.470 - ETA: 2s - loss: 1.0636 - acc: 0.470 - ETA: 2s - loss: 1.0638 - acc: 0.469 - ETA: 1s - loss: 1.0632 - acc: 0.470 - ETA: 1s - loss: 1.0624 - acc: 0.471 - ETA: 1s - loss: 1.0613 - acc: 0.472 - ETA: 1s - loss: 1.0613 - acc: 0.472 - ETA: 1s - loss: 1.0622 - acc: 0.470 - ETA: 1s - loss: 1.0625 - acc: 0.469 - ETA: 1s - loss: 1.0627 - acc: 0.469 - ETA: 1s - loss: 1.0618 - acc: 0.471 - ETA: 1s - loss: 1.0614 - acc: 0.471 - ETA: 1s - loss: 1.0622 - acc: 0.469 - ETA: 1s - loss: 1.0619 - acc: 0.469 - ETA: 1s - loss: 1.0617 - acc: 0.470 - ETA: 1s - loss: 1.0619 - acc: 0.469 - ETA: 1s - loss: 1.0622 - acc: 0.469 - ETA: 1s - loss: 1.0629 - acc: 0.467 - ETA: 1s - loss: 1.0638 - acc: 0.466 - ETA: 1s - loss: 1.0640 - acc: 0.465 - ETA: 0s - loss: 1.0642 - acc: 0.465 - ETA: 0s - loss: 1.0642 - acc: 0.465 - ETA: 0s - loss: 1.0649 - acc: 0.464 - ETA: 0s - loss: 1.0647 - acc: 0.464 - ETA: 0s - loss: 1.0648 - acc: 0.464 - ETA: 0s - loss: 1.0653 - acc: 0.464 - ETA: 0s - loss: 1.0655 - acc: 0.463 - ETA: 0s - loss: 1.0657 - acc: 0.464 - ETA: 0s - loss: 1.0660 - acc: 0.463 - ETA: 0s - loss: 1.0659 - acc: 0.463 - ETA: 0s - loss: 1.0657 - acc: 0.463 - ETA: 0s - loss: 1.0657 - acc: 0.463 - ETA: 0s - loss: 1.0664 - acc: 0.462 - ETA: 0s - loss: 1.0660 - acc: 0.462 - ETA: 0s - loss: 1.0652 - acc: 0.464 - ETA: 0s - loss: 1.0654 - acc: 0.464 - ETA: 0s - loss: 1.0661 - acc: 0.463 - ETA: 0s - loss: 1.0658 - acc: 0.464 - 4s 501us/sample - loss: 1.0658 - acc: 0.4644 - val_loss: 1.0594 - val_acc: 0.4588\n",
      "Epoch 27/100\n",
      "7917/7917 [==============================] - ETA: 4s - loss: 1.0702 - acc: 0.400 - ETA: 3s - loss: 1.0658 - acc: 0.471 - ETA: 3s - loss: 1.0769 - acc: 0.446 - ETA: 3s - loss: 1.0802 - acc: 0.436 - ETA: 3s - loss: 1.0768 - acc: 0.440 - ETA: 3s - loss: 1.0773 - acc: 0.437 - ETA: 3s - loss: 1.0724 - acc: 0.447 - ETA: 3s - loss: 1.0658 - acc: 0.455 - ETA: 2s - loss: 1.0700 - acc: 0.452 - ETA: 2s - loss: 1.0717 - acc: 0.449 - ETA: 2s - loss: 1.0738 - acc: 0.446 - ETA: 2s - loss: 1.0754 - acc: 0.443 - ETA: 2s - loss: 1.0732 - acc: 0.447 - ETA: 2s - loss: 1.0728 - acc: 0.450 - ETA: 2s - loss: 1.0695 - acc: 0.455 - ETA: 2s - loss: 1.0696 - acc: 0.454 - ETA: 2s - loss: 1.0678 - acc: 0.456 - ETA: 2s - loss: 1.0673 - acc: 0.458 - ETA: 2s - loss: 1.0661 - acc: 0.460 - ETA: 2s - loss: 1.0669 - acc: 0.458 - ETA: 2s - loss: 1.0662 - acc: 0.459 - ETA: 2s - loss: 1.0659 - acc: 0.459 - ETA: 2s - loss: 1.0657 - acc: 0.459 - ETA: 2s - loss: 1.0655 - acc: 0.459 - ETA: 2s - loss: 1.0655 - acc: 0.459 - ETA: 2s - loss: 1.0654 - acc: 0.459 - ETA: 2s - loss: 1.0663 - acc: 0.458 - ETA: 2s - loss: 1.0673 - acc: 0.455 - ETA: 2s - loss: 1.0669 - acc: 0.457 - ETA: 2s - loss: 1.0665 - acc: 0.457 - ETA: 2s - loss: 1.0670 - acc: 0.456 - ETA: 2s - loss: 1.0671 - acc: 0.456 - ETA: 2s - loss: 1.0669 - acc: 0.456 - ETA: 2s - loss: 1.0670 - acc: 0.456 - ETA: 2s - loss: 1.0683 - acc: 0.454 - ETA: 1s - loss: 1.0684 - acc: 0.453 - ETA: 1s - loss: 1.0675 - acc: 0.455 - ETA: 1s - loss: 1.0681 - acc: 0.454 - ETA: 1s - loss: 1.0679 - acc: 0.454 - ETA: 1s - loss: 1.0683 - acc: 0.454 - ETA: 1s - loss: 1.0688 - acc: 0.453 - ETA: 1s - loss: 1.0696 - acc: 0.451 - ETA: 1s - loss: 1.0699 - acc: 0.451 - ETA: 1s - loss: 1.0705 - acc: 0.450 - ETA: 1s - loss: 1.0693 - acc: 0.452 - ETA: 1s - loss: 1.0683 - acc: 0.454 - ETA: 1s - loss: 1.0679 - acc: 0.455 - ETA: 1s - loss: 1.0681 - acc: 0.455 - ETA: 1s - loss: 1.0674 - acc: 0.456 - ETA: 1s - loss: 1.0672 - acc: 0.456 - ETA: 1s - loss: 1.0669 - acc: 0.456 - ETA: 1s - loss: 1.0664 - acc: 0.457 - ETA: 0s - loss: 1.0665 - acc: 0.457 - ETA: 0s - loss: 1.0664 - acc: 0.457 - ETA: 0s - loss: 1.0661 - acc: 0.458 - ETA: 0s - loss: 1.0654 - acc: 0.459 - ETA: 0s - loss: 1.0654 - acc: 0.459 - ETA: 0s - loss: 1.0642 - acc: 0.461 - ETA: 0s - loss: 1.0633 - acc: 0.463 - ETA: 0s - loss: 1.0627 - acc: 0.464 - ETA: 0s - loss: 1.0624 - acc: 0.464 - ETA: 0s - loss: 1.0624 - acc: 0.464 - ETA: 0s - loss: 1.0624 - acc: 0.464 - ETA: 0s - loss: 1.0621 - acc: 0.465 - ETA: 0s - loss: 1.0622 - acc: 0.465 - ETA: 0s - loss: 1.0623 - acc: 0.464 - ETA: 0s - loss: 1.0621 - acc: 0.464 - ETA: 0s - loss: 1.0619 - acc: 0.464 - ETA: 0s - loss: 1.0620 - acc: 0.464 - ETA: 0s - loss: 1.0620 - acc: 0.464 - ETA: 0s - loss: 1.0623 - acc: 0.464 - 4s 526us/sample - loss: 1.0624 - acc: 0.4646 - val_loss: 1.0592 - val_acc: 0.4588\n",
      "Epoch 28/100\n",
      "7917/7917 [==============================] - ETA: 5s - loss: 1.0074 - acc: 0.550 - ETA: 3s - loss: 1.0767 - acc: 0.442 - ETA: 3s - loss: 1.0681 - acc: 0.471 - ETA: 3s - loss: 1.0661 - acc: 0.470 - ETA: 3s - loss: 1.0726 - acc: 0.448 - ETA: 3s - loss: 1.0745 - acc: 0.442 - ETA: 3s - loss: 1.0696 - acc: 0.448 - ETA: 2s - loss: 1.0674 - acc: 0.448 - ETA: 2s - loss: 1.0632 - acc: 0.460 - ETA: 2s - loss: 1.0666 - acc: 0.452 - ETA: 2s - loss: 1.0674 - acc: 0.451 - ETA: 2s - loss: 1.0637 - acc: 0.458 - ETA: 2s - loss: 1.0633 - acc: 0.459 - ETA: 2s - loss: 1.0653 - acc: 0.454 - ETA: 2s - loss: 1.0650 - acc: 0.455 - ETA: 2s - loss: 1.0637 - acc: 0.458 - ETA: 2s - loss: 1.0639 - acc: 0.459 - ETA: 2s - loss: 1.0635 - acc: 0.460 - ETA: 2s - loss: 1.0627 - acc: 0.463 - ETA: 2s - loss: 1.0639 - acc: 0.461 - ETA: 2s - loss: 1.0655 - acc: 0.459 - ETA: 2s - loss: 1.0652 - acc: 0.461 - ETA: 2s - loss: 1.0638 - acc: 0.465 - ETA: 2s - loss: 1.0635 - acc: 0.466 - ETA: 2s - loss: 1.0640 - acc: 0.465 - ETA: 2s - loss: 1.0643 - acc: 0.466 - ETA: 2s - loss: 1.0647 - acc: 0.466 - ETA: 2s - loss: 1.0654 - acc: 0.465 - ETA: 2s - loss: 1.0645 - acc: 0.466 - ETA: 2s - loss: 1.0633 - acc: 0.468 - ETA: 2s - loss: 1.0635 - acc: 0.467 - ETA: 2s - loss: 1.0621 - acc: 0.470 - ETA: 2s - loss: 1.0623 - acc: 0.470 - ETA: 2s - loss: 1.0627 - acc: 0.469 - ETA: 2s - loss: 1.0616 - acc: 0.470 - ETA: 2s - loss: 1.0610 - acc: 0.471 - ETA: 1s - loss: 1.0615 - acc: 0.469 - ETA: 1s - loss: 1.0616 - acc: 0.469 - ETA: 1s - loss: 1.0615 - acc: 0.469 - ETA: 1s - loss: 1.0625 - acc: 0.467 - ETA: 1s - loss: 1.0630 - acc: 0.466 - ETA: 1s - loss: 1.0628 - acc: 0.466 - ETA: 1s - loss: 1.0637 - acc: 0.464 - ETA: 1s - loss: 1.0635 - acc: 0.464 - ETA: 1s - loss: 1.0634 - acc: 0.465 - ETA: 1s - loss: 1.0650 - acc: 0.462 - ETA: 1s - loss: 1.0650 - acc: 0.462 - ETA: 1s - loss: 1.0646 - acc: 0.463 - ETA: 1s - loss: 1.0642 - acc: 0.464 - ETA: 1s - loss: 1.0643 - acc: 0.463 - ETA: 0s - loss: 1.0642 - acc: 0.463 - ETA: 0s - loss: 1.0647 - acc: 0.463 - ETA: 0s - loss: 1.0654 - acc: 0.461 - ETA: 0s - loss: 1.0655 - acc: 0.461 - ETA: 0s - loss: 1.0650 - acc: 0.462 - ETA: 0s - loss: 1.0645 - acc: 0.464 - ETA: 0s - loss: 1.0647 - acc: 0.464 - ETA: 0s - loss: 1.0641 - acc: 0.465 - ETA: 0s - loss: 1.0644 - acc: 0.464 - ETA: 0s - loss: 1.0641 - acc: 0.465 - ETA: 0s - loss: 1.0639 - acc: 0.465 - ETA: 0s - loss: 1.0639 - acc: 0.465 - ETA: 0s - loss: 1.0645 - acc: 0.463 - ETA: 0s - loss: 1.0648 - acc: 0.463 - ETA: 0s - loss: 1.0644 - acc: 0.463 - ETA: 0s - loss: 1.0645 - acc: 0.463 - 4s 500us/sample - loss: 1.0638 - acc: 0.4647 - val_loss: 1.0590 - val_acc: 0.4588\n"
     ]
    },
    {
     "name": "stdout",
     "output_type": "stream",
     "text": [
      "Epoch 29/100\n",
      "7917/7917 [==============================] - ETA: 4s - loss: 1.0990 - acc: 0.400 - ETA: 3s - loss: 1.0673 - acc: 0.481 - ETA: 3s - loss: 1.0566 - acc: 0.496 - ETA: 3s - loss: 1.0555 - acc: 0.486 - ETA: 3s - loss: 1.0543 - acc: 0.488 - ETA: 3s - loss: 1.0524 - acc: 0.489 - ETA: 3s - loss: 1.0500 - acc: 0.491 - ETA: 2s - loss: 1.0563 - acc: 0.480 - ETA: 2s - loss: 1.0593 - acc: 0.470 - ETA: 2s - loss: 1.0583 - acc: 0.470 - ETA: 2s - loss: 1.0594 - acc: 0.467 - ETA: 2s - loss: 1.0605 - acc: 0.466 - ETA: 2s - loss: 1.0611 - acc: 0.466 - ETA: 2s - loss: 1.0595 - acc: 0.471 - ETA: 2s - loss: 1.0574 - acc: 0.476 - ETA: 2s - loss: 1.0584 - acc: 0.471 - ETA: 2s - loss: 1.0609 - acc: 0.465 - ETA: 2s - loss: 1.0595 - acc: 0.468 - ETA: 2s - loss: 1.0608 - acc: 0.466 - ETA: 2s - loss: 1.0631 - acc: 0.462 - ETA: 2s - loss: 1.0627 - acc: 0.463 - ETA: 2s - loss: 1.0642 - acc: 0.461 - ETA: 2s - loss: 1.0650 - acc: 0.459 - ETA: 2s - loss: 1.0632 - acc: 0.463 - ETA: 2s - loss: 1.0624 - acc: 0.464 - ETA: 1s - loss: 1.0621 - acc: 0.464 - ETA: 1s - loss: 1.0615 - acc: 0.464 - ETA: 1s - loss: 1.0607 - acc: 0.465 - ETA: 1s - loss: 1.0599 - acc: 0.467 - ETA: 1s - loss: 1.0589 - acc: 0.469 - ETA: 1s - loss: 1.0600 - acc: 0.468 - ETA: 1s - loss: 1.0603 - acc: 0.468 - ETA: 1s - loss: 1.0611 - acc: 0.467 - ETA: 1s - loss: 1.0609 - acc: 0.467 - ETA: 1s - loss: 1.0608 - acc: 0.467 - ETA: 1s - loss: 1.0598 - acc: 0.469 - ETA: 1s - loss: 1.0598 - acc: 0.469 - ETA: 1s - loss: 1.0591 - acc: 0.471 - ETA: 1s - loss: 1.0591 - acc: 0.471 - ETA: 1s - loss: 1.0590 - acc: 0.471 - ETA: 1s - loss: 1.0593 - acc: 0.471 - ETA: 1s - loss: 1.0606 - acc: 0.469 - ETA: 1s - loss: 1.0605 - acc: 0.468 - ETA: 1s - loss: 1.0602 - acc: 0.469 - ETA: 1s - loss: 1.0605 - acc: 0.468 - ETA: 1s - loss: 1.0608 - acc: 0.468 - ETA: 1s - loss: 1.0602 - acc: 0.469 - ETA: 1s - loss: 1.0607 - acc: 0.468 - ETA: 1s - loss: 1.0613 - acc: 0.467 - ETA: 0s - loss: 1.0612 - acc: 0.467 - ETA: 0s - loss: 1.0610 - acc: 0.467 - ETA: 0s - loss: 1.0603 - acc: 0.468 - ETA: 0s - loss: 1.0603 - acc: 0.468 - ETA: 0s - loss: 1.0607 - acc: 0.467 - ETA: 0s - loss: 1.0610 - acc: 0.466 - ETA: 0s - loss: 1.0611 - acc: 0.466 - ETA: 0s - loss: 1.0612 - acc: 0.465 - ETA: 0s - loss: 1.0614 - acc: 0.465 - ETA: 0s - loss: 1.0618 - acc: 0.464 - ETA: 0s - loss: 1.0622 - acc: 0.463 - ETA: 0s - loss: 1.0628 - acc: 0.462 - ETA: 0s - loss: 1.0631 - acc: 0.462 - ETA: 0s - loss: 1.0628 - acc: 0.462 - ETA: 0s - loss: 1.0628 - acc: 0.463 - ETA: 0s - loss: 1.0623 - acc: 0.464 - ETA: 0s - loss: 1.0618 - acc: 0.465 - ETA: 0s - loss: 1.0621 - acc: 0.464 - 4s 493us/sample - loss: 1.0621 - acc: 0.4647 - val_loss: 1.0587 - val_acc: 0.4588\n",
      "Epoch 30/100\n",
      "7917/7917 [==============================] - ETA: 4s - loss: 1.0552 - acc: 0.400 - ETA: 4s - loss: 1.0979 - acc: 0.391 - ETA: 3s - loss: 1.0911 - acc: 0.408 - ETA: 3s - loss: 1.0736 - acc: 0.447 - ETA: 3s - loss: 1.0645 - acc: 0.464 - ETA: 3s - loss: 1.0614 - acc: 0.475 - ETA: 3s - loss: 1.0639 - acc: 0.469 - ETA: 3s - loss: 1.0685 - acc: 0.459 - ETA: 3s - loss: 1.0699 - acc: 0.456 - ETA: 3s - loss: 1.0739 - acc: 0.449 - ETA: 3s - loss: 1.0755 - acc: 0.444 - ETA: 2s - loss: 1.0758 - acc: 0.443 - ETA: 2s - loss: 1.0753 - acc: 0.445 - ETA: 2s - loss: 1.0734 - acc: 0.447 - ETA: 2s - loss: 1.0703 - acc: 0.451 - ETA: 2s - loss: 1.0684 - acc: 0.454 - ETA: 2s - loss: 1.0679 - acc: 0.455 - ETA: 2s - loss: 1.0660 - acc: 0.458 - ETA: 2s - loss: 1.0637 - acc: 0.462 - ETA: 2s - loss: 1.0639 - acc: 0.462 - ETA: 2s - loss: 1.0648 - acc: 0.461 - ETA: 2s - loss: 1.0640 - acc: 0.462 - ETA: 2s - loss: 1.0635 - acc: 0.464 - ETA: 2s - loss: 1.0649 - acc: 0.462 - ETA: 2s - loss: 1.0656 - acc: 0.460 - ETA: 2s - loss: 1.0654 - acc: 0.460 - ETA: 2s - loss: 1.0647 - acc: 0.462 - ETA: 2s - loss: 1.0634 - acc: 0.464 - ETA: 2s - loss: 1.0637 - acc: 0.464 - ETA: 2s - loss: 1.0638 - acc: 0.464 - ETA: 2s - loss: 1.0635 - acc: 0.466 - ETA: 2s - loss: 1.0632 - acc: 0.465 - ETA: 2s - loss: 1.0629 - acc: 0.466 - ETA: 2s - loss: 1.0626 - acc: 0.466 - ETA: 2s - loss: 1.0622 - acc: 0.466 - ETA: 1s - loss: 1.0621 - acc: 0.466 - ETA: 1s - loss: 1.0622 - acc: 0.466 - ETA: 1s - loss: 1.0613 - acc: 0.467 - ETA: 1s - loss: 1.0620 - acc: 0.466 - ETA: 1s - loss: 1.0623 - acc: 0.465 - ETA: 1s - loss: 1.0627 - acc: 0.464 - ETA: 1s - loss: 1.0626 - acc: 0.464 - ETA: 1s - loss: 1.0625 - acc: 0.464 - ETA: 1s - loss: 1.0617 - acc: 0.466 - ETA: 1s - loss: 1.0621 - acc: 0.464 - ETA: 1s - loss: 1.0619 - acc: 0.465 - ETA: 1s - loss: 1.0615 - acc: 0.467 - ETA: 1s - loss: 1.0622 - acc: 0.466 - ETA: 1s - loss: 1.0614 - acc: 0.466 - ETA: 1s - loss: 1.0619 - acc: 0.465 - ETA: 1s - loss: 1.0618 - acc: 0.466 - ETA: 1s - loss: 1.0623 - acc: 0.465 - ETA: 1s - loss: 1.0618 - acc: 0.466 - ETA: 1s - loss: 1.0624 - acc: 0.465 - ETA: 1s - loss: 1.0623 - acc: 0.465 - ETA: 1s - loss: 1.0623 - acc: 0.466 - ETA: 0s - loss: 1.0619 - acc: 0.467 - ETA: 0s - loss: 1.0615 - acc: 0.468 - ETA: 0s - loss: 1.0623 - acc: 0.467 - ETA: 0s - loss: 1.0626 - acc: 0.466 - ETA: 0s - loss: 1.0627 - acc: 0.466 - ETA: 0s - loss: 1.0625 - acc: 0.466 - ETA: 0s - loss: 1.0622 - acc: 0.466 - ETA: 0s - loss: 1.0616 - acc: 0.468 - ETA: 0s - loss: 1.0616 - acc: 0.468 - ETA: 0s - loss: 1.0615 - acc: 0.468 - ETA: 0s - loss: 1.0613 - acc: 0.468 - ETA: 0s - loss: 1.0610 - acc: 0.468 - ETA: 0s - loss: 1.0610 - acc: 0.468 - ETA: 0s - loss: 1.0607 - acc: 0.469 - ETA: 0s - loss: 1.0613 - acc: 0.468 - ETA: 0s - loss: 1.0620 - acc: 0.466 - ETA: 0s - loss: 1.0620 - acc: 0.466 - ETA: 0s - loss: 1.0627 - acc: 0.464 - 4s 546us/sample - loss: 1.0629 - acc: 0.4643 - val_loss: 1.0586 - val_acc: 0.4588\n",
      "Epoch 31/100\n",
      "7917/7917 [==============================] - ETA: 7s - loss: 1.0865 - acc: 0.400 - ETA: 3s - loss: 1.0839 - acc: 0.400 - ETA: 3s - loss: 1.0633 - acc: 0.457 - ETA: 3s - loss: 1.0581 - acc: 0.465 - ETA: 3s - loss: 1.0487 - acc: 0.483 - ETA: 2s - loss: 1.0497 - acc: 0.483 - ETA: 2s - loss: 1.0524 - acc: 0.483 - ETA: 2s - loss: 1.0544 - acc: 0.480 - ETA: 2s - loss: 1.0545 - acc: 0.475 - ETA: 2s - loss: 1.0559 - acc: 0.470 - ETA: 2s - loss: 1.0579 - acc: 0.466 - ETA: 2s - loss: 1.0565 - acc: 0.469 - ETA: 2s - loss: 1.0586 - acc: 0.467 - ETA: 2s - loss: 1.0585 - acc: 0.468 - ETA: 2s - loss: 1.0592 - acc: 0.465 - ETA: 2s - loss: 1.0604 - acc: 0.463 - ETA: 2s - loss: 1.0597 - acc: 0.464 - ETA: 2s - loss: 1.0587 - acc: 0.466 - ETA: 2s - loss: 1.0599 - acc: 0.465 - ETA: 2s - loss: 1.0604 - acc: 0.466 - ETA: 2s - loss: 1.0609 - acc: 0.465 - ETA: 2s - loss: 1.0631 - acc: 0.462 - ETA: 2s - loss: 1.0626 - acc: 0.463 - ETA: 2s - loss: 1.0643 - acc: 0.461 - ETA: 2s - loss: 1.0642 - acc: 0.461 - ETA: 2s - loss: 1.0620 - acc: 0.465 - ETA: 2s - loss: 1.0624 - acc: 0.466 - ETA: 2s - loss: 1.0614 - acc: 0.467 - ETA: 2s - loss: 1.0614 - acc: 0.467 - ETA: 2s - loss: 1.0622 - acc: 0.465 - ETA: 1s - loss: 1.0627 - acc: 0.465 - ETA: 1s - loss: 1.0629 - acc: 0.464 - ETA: 1s - loss: 1.0630 - acc: 0.464 - ETA: 1s - loss: 1.0616 - acc: 0.467 - ETA: 1s - loss: 1.0607 - acc: 0.469 - ETA: 1s - loss: 1.0611 - acc: 0.468 - ETA: 1s - loss: 1.0612 - acc: 0.468 - ETA: 1s - loss: 1.0611 - acc: 0.467 - ETA: 1s - loss: 1.0620 - acc: 0.466 - ETA: 1s - loss: 1.0628 - acc: 0.465 - ETA: 1s - loss: 1.0632 - acc: 0.463 - ETA: 1s - loss: 1.0635 - acc: 0.463 - ETA: 1s - loss: 1.0631 - acc: 0.464 - ETA: 1s - loss: 1.0641 - acc: 0.463 - ETA: 1s - loss: 1.0631 - acc: 0.465 - ETA: 1s - loss: 1.0623 - acc: 0.467 - ETA: 1s - loss: 1.0622 - acc: 0.467 - ETA: 1s - loss: 1.0621 - acc: 0.467 - ETA: 1s - loss: 1.0621 - acc: 0.467 - ETA: 1s - loss: 1.0613 - acc: 0.469 - ETA: 0s - loss: 1.0608 - acc: 0.469 - ETA: 0s - loss: 1.0609 - acc: 0.469 - ETA: 0s - loss: 1.0609 - acc: 0.468 - ETA: 0s - loss: 1.0604 - acc: 0.469 - ETA: 0s - loss: 1.0603 - acc: 0.469 - ETA: 0s - loss: 1.0608 - acc: 0.469 - ETA: 0s - loss: 1.0608 - acc: 0.469 - ETA: 0s - loss: 1.0603 - acc: 0.469 - ETA: 0s - loss: 1.0610 - acc: 0.468 - ETA: 0s - loss: 1.0609 - acc: 0.469 - ETA: 0s - loss: 1.0615 - acc: 0.467 - ETA: 0s - loss: 1.0618 - acc: 0.467 - ETA: 0s - loss: 1.0617 - acc: 0.467 - ETA: 0s - loss: 1.0618 - acc: 0.467 - ETA: 0s - loss: 1.0617 - acc: 0.467 - ETA: 0s - loss: 1.0620 - acc: 0.466 - ETA: 0s - loss: 1.0619 - acc: 0.466 - ETA: 0s - loss: 1.0629 - acc: 0.464 - 4s 527us/sample - loss: 1.0630 - acc: 0.4647 - val_loss: 1.0584 - val_acc: 0.4588\n",
      "Epoch 32/100\n",
      "7917/7917 [==============================] - ETA: 7s - loss: 1.0442 - acc: 0.450 - ETA: 4s - loss: 1.0632 - acc: 0.450 - ETA: 4s - loss: 1.0753 - acc: 0.455 - ETA: 4s - loss: 1.0602 - acc: 0.473 - ETA: 3s - loss: 1.0696 - acc: 0.452 - ETA: 3s - loss: 1.0661 - acc: 0.466 - ETA: 3s - loss: 1.0669 - acc: 0.463 - ETA: 3s - loss: 1.0689 - acc: 0.453 - ETA: 3s - loss: 1.0705 - acc: 0.451 - ETA: 3s - loss: 1.0664 - acc: 0.457 - ETA: 3s - loss: 1.0684 - acc: 0.454 - ETA: 3s - loss: 1.0720 - acc: 0.446 - ETA: 3s - loss: 1.0735 - acc: 0.442 - ETA: 3s - loss: 1.0719 - acc: 0.444 - ETA: 2s - loss: 1.0720 - acc: 0.445 - ETA: 2s - loss: 1.0653 - acc: 0.458 - ETA: 2s - loss: 1.0662 - acc: 0.455 - ETA: 2s - loss: 1.0653 - acc: 0.457 - ETA: 2s - loss: 1.0660 - acc: 0.456 - ETA: 2s - loss: 1.0657 - acc: 0.457 - ETA: 2s - loss: 1.0647 - acc: 0.459 - ETA: 2s - loss: 1.0655 - acc: 0.458 - ETA: 2s - loss: 1.0657 - acc: 0.458 - ETA: 2s - loss: 1.0640 - acc: 0.461 - ETA: 2s - loss: 1.0637 - acc: 0.462 - ETA: 2s - loss: 1.0651 - acc: 0.460 - ETA: 2s - loss: 1.0657 - acc: 0.459 - ETA: 2s - loss: 1.0647 - acc: 0.461 - ETA: 2s - loss: 1.0656 - acc: 0.458 - ETA: 2s - loss: 1.0658 - acc: 0.457 - ETA: 2s - loss: 1.0655 - acc: 0.458 - ETA: 1s - loss: 1.0650 - acc: 0.460 - ETA: 1s - loss: 1.0641 - acc: 0.461 - ETA: 1s - loss: 1.0645 - acc: 0.460 - ETA: 1s - loss: 1.0631 - acc: 0.461 - ETA: 1s - loss: 1.0640 - acc: 0.460 - ETA: 1s - loss: 1.0640 - acc: 0.460 - ETA: 1s - loss: 1.0644 - acc: 0.460 - ETA: 1s - loss: 1.0643 - acc: 0.460 - ETA: 1s - loss: 1.0632 - acc: 0.462 - ETA: 1s - loss: 1.0621 - acc: 0.464 - ETA: 1s - loss: 1.0621 - acc: 0.465 - ETA: 1s - loss: 1.0617 - acc: 0.466 - ETA: 1s - loss: 1.0614 - acc: 0.467 - ETA: 1s - loss: 1.0616 - acc: 0.466 - ETA: 1s - loss: 1.0615 - acc: 0.467 - ETA: 1s - loss: 1.0609 - acc: 0.467 - ETA: 1s - loss: 1.0609 - acc: 0.468 - ETA: 1s - loss: 1.0615 - acc: 0.466 - ETA: 0s - loss: 1.0615 - acc: 0.466 - ETA: 0s - loss: 1.0616 - acc: 0.466 - ETA: 0s - loss: 1.0621 - acc: 0.465 - ETA: 0s - loss: 1.0626 - acc: 0.464 - ETA: 0s - loss: 1.0622 - acc: 0.465 - ETA: 0s - loss: 1.0626 - acc: 0.464 - ETA: 0s - loss: 1.0626 - acc: 0.464 - ETA: 0s - loss: 1.0621 - acc: 0.465 - ETA: 0s - loss: 1.0620 - acc: 0.465 - ETA: 0s - loss: 1.0614 - acc: 0.466 - ETA: 0s - loss: 1.0616 - acc: 0.466 - ETA: 0s - loss: 1.0620 - acc: 0.465 - ETA: 0s - loss: 1.0620 - acc: 0.466 - ETA: 0s - loss: 1.0624 - acc: 0.465 - ETA: 0s - loss: 1.0628 - acc: 0.465 - ETA: 0s - loss: 1.0634 - acc: 0.463 - ETA: 0s - loss: 1.0631 - acc: 0.464 - ETA: 0s - loss: 1.0628 - acc: 0.464 - ETA: 0s - loss: 1.0628 - acc: 0.464 - 4s 499us/sample - loss: 1.0630 - acc: 0.4646 - val_loss: 1.0582 - val_acc: 0.4588\n",
      "Epoch 33/100\n",
      "7917/7917 [==============================] - ETA: 3s - loss: 1.0877 - acc: 0.450 - ETA: 3s - loss: 1.0913 - acc: 0.431 - ETA: 3s - loss: 1.0619 - acc: 0.467 - ETA: 2s - loss: 1.0514 - acc: 0.485 - ETA: 3s - loss: 1.0592 - acc: 0.472 - ETA: 2s - loss: 1.0605 - acc: 0.465 - ETA: 2s - loss: 1.0602 - acc: 0.466 - ETA: 2s - loss: 1.0651 - acc: 0.457 - ETA: 2s - loss: 1.0701 - acc: 0.447 - ETA: 2s - loss: 1.0663 - acc: 0.450 - ETA: 2s - loss: 1.0667 - acc: 0.450 - ETA: 2s - loss: 1.0656 - acc: 0.451 - ETA: 2s - loss: 1.0666 - acc: 0.448 - ETA: 2s - loss: 1.0644 - acc: 0.452 - ETA: 2s - loss: 1.0616 - acc: 0.457 - ETA: 2s - loss: 1.0627 - acc: 0.457 - ETA: 2s - loss: 1.0627 - acc: 0.456 - ETA: 2s - loss: 1.0611 - acc: 0.458 - ETA: 2s - loss: 1.0628 - acc: 0.456 - ETA: 2s - loss: 1.0620 - acc: 0.458 - ETA: 2s - loss: 1.0611 - acc: 0.459 - ETA: 2s - loss: 1.0599 - acc: 0.461 - ETA: 2s - loss: 1.0603 - acc: 0.462 - ETA: 2s - loss: 1.0592 - acc: 0.465 - ETA: 2s - loss: 1.0599 - acc: 0.463 - ETA: 2s - loss: 1.0609 - acc: 0.461 - ETA: 2s - loss: 1.0620 - acc: 0.458 - ETA: 2s - loss: 1.0632 - acc: 0.456 - ETA: 2s - loss: 1.0630 - acc: 0.457 - ETA: 2s - loss: 1.0625 - acc: 0.459 - ETA: 2s - loss: 1.0627 - acc: 0.459 - ETA: 1s - loss: 1.0622 - acc: 0.460 - ETA: 1s - loss: 1.0616 - acc: 0.461 - ETA: 1s - loss: 1.0620 - acc: 0.460 - ETA: 1s - loss: 1.0618 - acc: 0.461 - ETA: 1s - loss: 1.0618 - acc: 0.461 - ETA: 1s - loss: 1.0614 - acc: 0.462 - ETA: 1s - loss: 1.0606 - acc: 0.464 - ETA: 1s - loss: 1.0601 - acc: 0.466 - ETA: 1s - loss: 1.0600 - acc: 0.466 - ETA: 1s - loss: 1.0598 - acc: 0.467 - ETA: 1s - loss: 1.0605 - acc: 0.465 - ETA: 1s - loss: 1.0606 - acc: 0.465 - ETA: 1s - loss: 1.0609 - acc: 0.465 - ETA: 1s - loss: 1.0616 - acc: 0.464 - ETA: 1s - loss: 1.0617 - acc: 0.464 - ETA: 1s - loss: 1.0615 - acc: 0.463 - ETA: 1s - loss: 1.0612 - acc: 0.464 - ETA: 0s - loss: 1.0612 - acc: 0.464 - ETA: 0s - loss: 1.0618 - acc: 0.463 - ETA: 0s - loss: 1.0626 - acc: 0.462 - ETA: 0s - loss: 1.0624 - acc: 0.463 - ETA: 0s - loss: 1.0628 - acc: 0.462 - ETA: 0s - loss: 1.0636 - acc: 0.461 - ETA: 0s - loss: 1.0636 - acc: 0.461 - ETA: 0s - loss: 1.0631 - acc: 0.462 - ETA: 0s - loss: 1.0631 - acc: 0.462 - ETA: 0s - loss: 1.0631 - acc: 0.462 - ETA: 0s - loss: 1.0628 - acc: 0.463 - ETA: 0s - loss: 1.0625 - acc: 0.463 - ETA: 0s - loss: 1.0625 - acc: 0.463 - ETA: 0s - loss: 1.0621 - acc: 0.465 - ETA: 0s - loss: 1.0623 - acc: 0.464 - ETA: 0s - loss: 1.0622 - acc: 0.464 - ETA: 0s - loss: 1.0621 - acc: 0.464 - ETA: 0s - loss: 1.0625 - acc: 0.464 - ETA: 0s - loss: 1.0624 - acc: 0.464 - 4s 493us/sample - loss: 1.0622 - acc: 0.4649 - val_loss: 1.0580 - val_acc: 0.4588\n",
      "Epoch 34/100\n"
     ]
    },
    {
     "name": "stdout",
     "output_type": "stream",
     "text": [
      "7917/7917 [==============================] - ETA: 5s - loss: 1.1053 - acc: 0.400 - ETA: 3s - loss: 1.0836 - acc: 0.435 - ETA: 3s - loss: 1.0637 - acc: 0.469 - ETA: 3s - loss: 1.0676 - acc: 0.455 - ETA: 3s - loss: 1.0735 - acc: 0.450 - ETA: 3s - loss: 1.0714 - acc: 0.453 - ETA: 3s - loss: 1.0616 - acc: 0.471 - ETA: 3s - loss: 1.0658 - acc: 0.462 - ETA: 3s - loss: 1.0612 - acc: 0.471 - ETA: 3s - loss: 1.0587 - acc: 0.475 - ETA: 3s - loss: 1.0578 - acc: 0.476 - ETA: 3s - loss: 1.0598 - acc: 0.472 - ETA: 3s - loss: 1.0621 - acc: 0.465 - ETA: 3s - loss: 1.0638 - acc: 0.464 - ETA: 3s - loss: 1.0661 - acc: 0.460 - ETA: 3s - loss: 1.0681 - acc: 0.456 - ETA: 3s - loss: 1.0674 - acc: 0.456 - ETA: 2s - loss: 1.0661 - acc: 0.459 - ETA: 2s - loss: 1.0662 - acc: 0.459 - ETA: 2s - loss: 1.0678 - acc: 0.456 - ETA: 2s - loss: 1.0680 - acc: 0.455 - ETA: 2s - loss: 1.0668 - acc: 0.457 - ETA: 2s - loss: 1.0658 - acc: 0.459 - ETA: 2s - loss: 1.0661 - acc: 0.460 - ETA: 2s - loss: 1.0662 - acc: 0.459 - ETA: 2s - loss: 1.0657 - acc: 0.460 - ETA: 2s - loss: 1.0659 - acc: 0.459 - ETA: 2s - loss: 1.0660 - acc: 0.458 - ETA: 2s - loss: 1.0655 - acc: 0.459 - ETA: 2s - loss: 1.0640 - acc: 0.460 - ETA: 2s - loss: 1.0626 - acc: 0.462 - ETA: 2s - loss: 1.0629 - acc: 0.463 - ETA: 2s - loss: 1.0622 - acc: 0.464 - ETA: 2s - loss: 1.0624 - acc: 0.463 - ETA: 2s - loss: 1.0624 - acc: 0.463 - ETA: 2s - loss: 1.0625 - acc: 0.463 - ETA: 2s - loss: 1.0628 - acc: 0.463 - ETA: 2s - loss: 1.0634 - acc: 0.461 - ETA: 2s - loss: 1.0630 - acc: 0.461 - ETA: 1s - loss: 1.0629 - acc: 0.462 - ETA: 1s - loss: 1.0612 - acc: 0.465 - ETA: 1s - loss: 1.0609 - acc: 0.465 - ETA: 1s - loss: 1.0603 - acc: 0.465 - ETA: 1s - loss: 1.0604 - acc: 0.466 - ETA: 1s - loss: 1.0603 - acc: 0.467 - ETA: 1s - loss: 1.0602 - acc: 0.467 - ETA: 1s - loss: 1.0605 - acc: 0.466 - ETA: 1s - loss: 1.0601 - acc: 0.466 - ETA: 1s - loss: 1.0599 - acc: 0.467 - ETA: 1s - loss: 1.0598 - acc: 0.466 - ETA: 1s - loss: 1.0594 - acc: 0.467 - ETA: 1s - loss: 1.0602 - acc: 0.466 - ETA: 1s - loss: 1.0608 - acc: 0.465 - ETA: 1s - loss: 1.0611 - acc: 0.464 - ETA: 1s - loss: 1.0610 - acc: 0.464 - ETA: 1s - loss: 1.0608 - acc: 0.464 - ETA: 0s - loss: 1.0610 - acc: 0.464 - ETA: 0s - loss: 1.0603 - acc: 0.466 - ETA: 0s - loss: 1.0605 - acc: 0.465 - ETA: 0s - loss: 1.0607 - acc: 0.465 - ETA: 0s - loss: 1.0617 - acc: 0.463 - ETA: 0s - loss: 1.0618 - acc: 0.463 - ETA: 0s - loss: 1.0616 - acc: 0.463 - ETA: 0s - loss: 1.0612 - acc: 0.463 - ETA: 0s - loss: 1.0609 - acc: 0.463 - ETA: 0s - loss: 1.0607 - acc: 0.464 - ETA: 0s - loss: 1.0600 - acc: 0.465 - ETA: 0s - loss: 1.0599 - acc: 0.465 - ETA: 0s - loss: 1.0599 - acc: 0.465 - ETA: 0s - loss: 1.0605 - acc: 0.463 - ETA: 0s - loss: 1.0606 - acc: 0.463 - ETA: 0s - loss: 1.0604 - acc: 0.463 - ETA: 0s - loss: 1.0602 - acc: 0.464 - 4s 547us/sample - loss: 1.0602 - acc: 0.4644 - val_loss: 1.0578 - val_acc: 0.4588\n",
      "Epoch 35/100\n",
      "7917/7917 [==============================] - ETA: 3s - loss: 1.0380 - acc: 0.500 - ETA: 3s - loss: 1.0523 - acc: 0.475 - ETA: 5s - loss: 1.0401 - acc: 0.500 - ETA: 5s - loss: 1.0473 - acc: 0.479 - ETA: 5s - loss: 1.0537 - acc: 0.471 - ETA: 5s - loss: 1.0601 - acc: 0.457 - ETA: 5s - loss: 1.0607 - acc: 0.460 - ETA: 4s - loss: 1.0600 - acc: 0.463 - ETA: 4s - loss: 1.0641 - acc: 0.458 - ETA: 4s - loss: 1.0669 - acc: 0.457 - ETA: 4s - loss: 1.0702 - acc: 0.451 - ETA: 5s - loss: 1.0718 - acc: 0.447 - ETA: 4s - loss: 1.0747 - acc: 0.442 - ETA: 4s - loss: 1.0758 - acc: 0.440 - ETA: 4s - loss: 1.0739 - acc: 0.445 - ETA: 4s - loss: 1.0730 - acc: 0.449 - ETA: 3s - loss: 1.0755 - acc: 0.444 - ETA: 3s - loss: 1.0714 - acc: 0.449 - ETA: 3s - loss: 1.0725 - acc: 0.447 - ETA: 3s - loss: 1.0705 - acc: 0.451 - ETA: 3s - loss: 1.0721 - acc: 0.448 - ETA: 3s - loss: 1.0726 - acc: 0.449 - ETA: 3s - loss: 1.0736 - acc: 0.448 - ETA: 3s - loss: 1.0720 - acc: 0.450 - ETA: 3s - loss: 1.0691 - acc: 0.454 - ETA: 3s - loss: 1.0688 - acc: 0.454 - ETA: 3s - loss: 1.0678 - acc: 0.456 - ETA: 3s - loss: 1.0689 - acc: 0.454 - ETA: 2s - loss: 1.0675 - acc: 0.455 - ETA: 2s - loss: 1.0650 - acc: 0.459 - ETA: 2s - loss: 1.0665 - acc: 0.458 - ETA: 2s - loss: 1.0664 - acc: 0.457 - ETA: 2s - loss: 1.0656 - acc: 0.459 - ETA: 2s - loss: 1.0657 - acc: 0.459 - ETA: 2s - loss: 1.0641 - acc: 0.462 - ETA: 2s - loss: 1.0632 - acc: 0.464 - ETA: 2s - loss: 1.0637 - acc: 0.463 - ETA: 2s - loss: 1.0640 - acc: 0.463 - ETA: 2s - loss: 1.0633 - acc: 0.464 - ETA: 2s - loss: 1.0638 - acc: 0.464 - ETA: 2s - loss: 1.0640 - acc: 0.464 - ETA: 2s - loss: 1.0634 - acc: 0.465 - ETA: 2s - loss: 1.0630 - acc: 0.466 - ETA: 2s - loss: 1.0629 - acc: 0.467 - ETA: 1s - loss: 1.0631 - acc: 0.466 - ETA: 1s - loss: 1.0636 - acc: 0.466 - ETA: 1s - loss: 1.0633 - acc: 0.467 - ETA: 1s - loss: 1.0648 - acc: 0.464 - ETA: 1s - loss: 1.0648 - acc: 0.464 - ETA: 1s - loss: 1.0654 - acc: 0.462 - ETA: 1s - loss: 1.0655 - acc: 0.462 - ETA: 1s - loss: 1.0650 - acc: 0.463 - ETA: 1s - loss: 1.0634 - acc: 0.466 - ETA: 1s - loss: 1.0633 - acc: 0.466 - ETA: 1s - loss: 1.0629 - acc: 0.466 - ETA: 1s - loss: 1.0636 - acc: 0.465 - ETA: 1s - loss: 1.0640 - acc: 0.464 - ETA: 1s - loss: 1.0636 - acc: 0.465 - ETA: 1s - loss: 1.0642 - acc: 0.464 - ETA: 1s - loss: 1.0644 - acc: 0.464 - ETA: 0s - loss: 1.0650 - acc: 0.462 - ETA: 0s - loss: 1.0650 - acc: 0.462 - ETA: 0s - loss: 1.0654 - acc: 0.462 - ETA: 0s - loss: 1.0641 - acc: 0.463 - ETA: 0s - loss: 1.0631 - acc: 0.465 - ETA: 0s - loss: 1.0636 - acc: 0.464 - ETA: 0s - loss: 1.0638 - acc: 0.464 - ETA: 0s - loss: 1.0631 - acc: 0.465 - ETA: 0s - loss: 1.0631 - acc: 0.465 - ETA: 0s - loss: 1.0638 - acc: 0.464 - ETA: 0s - loss: 1.0638 - acc: 0.464 - ETA: 0s - loss: 1.0639 - acc: 0.464 - ETA: 0s - loss: 1.0638 - acc: 0.464 - ETA: 0s - loss: 1.0634 - acc: 0.464 - ETA: 0s - loss: 1.0636 - acc: 0.464 - ETA: 0s - loss: 1.0634 - acc: 0.464 - 4s 565us/sample - loss: 1.0634 - acc: 0.4643 - val_loss: 1.0577 - val_acc: 0.4588\n",
      "Epoch 36/100\n",
      "7917/7917 [==============================] - ETA: 4s - loss: 1.0300 - acc: 0.500 - ETA: 3s - loss: 1.0539 - acc: 0.478 - ETA: 3s - loss: 1.0488 - acc: 0.484 - ETA: 3s - loss: 1.0506 - acc: 0.480 - ETA: 3s - loss: 1.0592 - acc: 0.466 - ETA: 3s - loss: 1.0622 - acc: 0.459 - ETA: 3s - loss: 1.0650 - acc: 0.455 - ETA: 3s - loss: 1.0632 - acc: 0.457 - ETA: 3s - loss: 1.0643 - acc: 0.456 - ETA: 3s - loss: 1.0674 - acc: 0.450 - ETA: 3s - loss: 1.0643 - acc: 0.456 - ETA: 2s - loss: 1.0666 - acc: 0.453 - ETA: 2s - loss: 1.0690 - acc: 0.449 - ETA: 2s - loss: 1.0696 - acc: 0.447 - ETA: 2s - loss: 1.0711 - acc: 0.445 - ETA: 2s - loss: 1.0718 - acc: 0.446 - ETA: 2s - loss: 1.0728 - acc: 0.444 - ETA: 2s - loss: 1.0727 - acc: 0.445 - ETA: 2s - loss: 1.0700 - acc: 0.450 - ETA: 2s - loss: 1.0694 - acc: 0.452 - ETA: 2s - loss: 1.0658 - acc: 0.459 - ETA: 2s - loss: 1.0647 - acc: 0.461 - ETA: 2s - loss: 1.0658 - acc: 0.458 - ETA: 2s - loss: 1.0648 - acc: 0.458 - ETA: 2s - loss: 1.0634 - acc: 0.460 - ETA: 2s - loss: 1.0626 - acc: 0.461 - ETA: 2s - loss: 1.0633 - acc: 0.459 - ETA: 2s - loss: 1.0627 - acc: 0.460 - ETA: 2s - loss: 1.0627 - acc: 0.460 - ETA: 2s - loss: 1.0616 - acc: 0.461 - ETA: 2s - loss: 1.0620 - acc: 0.461 - ETA: 2s - loss: 1.0625 - acc: 0.460 - ETA: 1s - loss: 1.0616 - acc: 0.462 - ETA: 1s - loss: 1.0626 - acc: 0.459 - ETA: 1s - loss: 1.0626 - acc: 0.459 - ETA: 1s - loss: 1.0626 - acc: 0.459 - ETA: 1s - loss: 1.0639 - acc: 0.458 - ETA: 1s - loss: 1.0634 - acc: 0.459 - ETA: 1s - loss: 1.0628 - acc: 0.459 - ETA: 1s - loss: 1.0627 - acc: 0.459 - ETA: 1s - loss: 1.0626 - acc: 0.460 - ETA: 1s - loss: 1.0623 - acc: 0.461 - ETA: 1s - loss: 1.0619 - acc: 0.462 - ETA: 1s - loss: 1.0612 - acc: 0.463 - ETA: 1s - loss: 1.0618 - acc: 0.462 - ETA: 1s - loss: 1.0615 - acc: 0.463 - ETA: 1s - loss: 1.0616 - acc: 0.463 - ETA: 1s - loss: 1.0613 - acc: 0.463 - ETA: 1s - loss: 1.0613 - acc: 0.463 - ETA: 1s - loss: 1.0608 - acc: 0.464 - ETA: 1s - loss: 1.0607 - acc: 0.464 - ETA: 1s - loss: 1.0613 - acc: 0.463 - ETA: 1s - loss: 1.0603 - acc: 0.465 - ETA: 1s - loss: 1.0612 - acc: 0.464 - ETA: 0s - loss: 1.0601 - acc: 0.466 - ETA: 0s - loss: 1.0597 - acc: 0.467 - ETA: 0s - loss: 1.0601 - acc: 0.466 - ETA: 0s - loss: 1.0604 - acc: 0.465 - ETA: 0s - loss: 1.0601 - acc: 0.466 - ETA: 0s - loss: 1.0602 - acc: 0.466 - ETA: 0s - loss: 1.0604 - acc: 0.465 - ETA: 0s - loss: 1.0607 - acc: 0.465 - ETA: 0s - loss: 1.0602 - acc: 0.465 - ETA: 0s - loss: 1.0608 - acc: 0.464 - ETA: 0s - loss: 1.0608 - acc: 0.464 - ETA: 0s - loss: 1.0609 - acc: 0.464 - ETA: 0s - loss: 1.0604 - acc: 0.464 - ETA: 0s - loss: 1.0608 - acc: 0.464 - ETA: 0s - loss: 1.0609 - acc: 0.464 - ETA: 0s - loss: 1.0605 - acc: 0.464 - ETA: 0s - loss: 1.0603 - acc: 0.465 - 4s 524us/sample - loss: 1.0610 - acc: 0.4643 - val_loss: 1.0575 - val_acc: 0.4588\n",
      "Epoch 37/100\n",
      "7917/7917 [==============================] - ETA: 3s - loss: 1.0826 - acc: 0.450 - ETA: 3s - loss: 1.0547 - acc: 0.456 - ETA: 3s - loss: 1.0692 - acc: 0.439 - ETA: 3s - loss: 1.0814 - acc: 0.411 - ETA: 3s - loss: 1.0841 - acc: 0.417 - ETA: 3s - loss: 1.0768 - acc: 0.429 - ETA: 3s - loss: 1.0752 - acc: 0.433 - ETA: 3s - loss: 1.0721 - acc: 0.439 - ETA: 3s - loss: 1.0731 - acc: 0.438 - ETA: 2s - loss: 1.0740 - acc: 0.433 - ETA: 2s - loss: 1.0695 - acc: 0.440 - ETA: 2s - loss: 1.0619 - acc: 0.455 - ETA: 2s - loss: 1.0623 - acc: 0.455 - ETA: 2s - loss: 1.0636 - acc: 0.456 - ETA: 2s - loss: 1.0630 - acc: 0.459 - ETA: 2s - loss: 1.0632 - acc: 0.457 - ETA: 2s - loss: 1.0619 - acc: 0.460 - ETA: 2s - loss: 1.0646 - acc: 0.455 - ETA: 2s - loss: 1.0674 - acc: 0.452 - ETA: 2s - loss: 1.0654 - acc: 0.457 - ETA: 2s - loss: 1.0632 - acc: 0.459 - ETA: 2s - loss: 1.0616 - acc: 0.461 - ETA: 2s - loss: 1.0618 - acc: 0.461 - ETA: 2s - loss: 1.0618 - acc: 0.461 - ETA: 2s - loss: 1.0620 - acc: 0.460 - ETA: 2s - loss: 1.0619 - acc: 0.460 - ETA: 2s - loss: 1.0626 - acc: 0.459 - ETA: 2s - loss: 1.0628 - acc: 0.458 - ETA: 2s - loss: 1.0629 - acc: 0.459 - ETA: 1s - loss: 1.0631 - acc: 0.459 - ETA: 1s - loss: 1.0630 - acc: 0.459 - ETA: 1s - loss: 1.0630 - acc: 0.458 - ETA: 1s - loss: 1.0637 - acc: 0.457 - ETA: 1s - loss: 1.0626 - acc: 0.459 - ETA: 1s - loss: 1.0623 - acc: 0.460 - ETA: 1s - loss: 1.0625 - acc: 0.459 - ETA: 1s - loss: 1.0627 - acc: 0.459 - ETA: 1s - loss: 1.0631 - acc: 0.458 - ETA: 1s - loss: 1.0639 - acc: 0.457 - ETA: 1s - loss: 1.0640 - acc: 0.457 - ETA: 1s - loss: 1.0629 - acc: 0.459 - ETA: 1s - loss: 1.0621 - acc: 0.460 - ETA: 1s - loss: 1.0621 - acc: 0.460 - ETA: 1s - loss: 1.0613 - acc: 0.461 - ETA: 1s - loss: 1.0607 - acc: 0.463 - ETA: 1s - loss: 1.0608 - acc: 0.463 - ETA: 1s - loss: 1.0608 - acc: 0.463 - ETA: 1s - loss: 1.0611 - acc: 0.463 - ETA: 1s - loss: 1.0610 - acc: 0.464 - ETA: 1s - loss: 1.0610 - acc: 0.464 - ETA: 1s - loss: 1.0610 - acc: 0.463 - ETA: 1s - loss: 1.0613 - acc: 0.463 - ETA: 1s - loss: 1.0605 - acc: 0.464 - ETA: 0s - loss: 1.0609 - acc: 0.463 - ETA: 0s - loss: 1.0616 - acc: 0.462 - ETA: 0s - loss: 1.0613 - acc: 0.463 - ETA: 0s - loss: 1.0615 - acc: 0.462 - ETA: 0s - loss: 1.0618 - acc: 0.462 - ETA: 0s - loss: 1.0609 - acc: 0.464 - ETA: 0s - loss: 1.0611 - acc: 0.463 - ETA: 0s - loss: 1.0615 - acc: 0.462 - ETA: 0s - loss: 1.0613 - acc: 0.463 - ETA: 0s - loss: 1.0615 - acc: 0.462 - ETA: 0s - loss: 1.0613 - acc: 0.463 - ETA: 0s - loss: 1.0611 - acc: 0.463 - ETA: 0s - loss: 1.0610 - acc: 0.463 - ETA: 0s - loss: 1.0611 - acc: 0.463 - ETA: 0s - loss: 1.0609 - acc: 0.463 - ETA: 0s - loss: 1.0608 - acc: 0.464 - ETA: 0s - loss: 1.0606 - acc: 0.464 - ETA: 0s - loss: 1.0609 - acc: 0.464 - ETA: 0s - loss: 1.0612 - acc: 0.463 - ETA: 0s - loss: 1.0612 - acc: 0.463 - ETA: 0s - loss: 1.0611 - acc: 0.464 - ETA: 0s - loss: 1.0607 - acc: 0.465 - ETA: 0s - loss: 1.0607 - acc: 0.465 - ETA: 0s - loss: 1.0612 - acc: 0.464 - ETA: 0s - loss: 1.0614 - acc: 0.464 - ETA: 0s - loss: 1.0613 - acc: 0.464 - 5s 594us/sample - loss: 1.0614 - acc: 0.4642 - val_loss: 1.0573 - val_acc: 0.4588\n",
      "Epoch 38/100\n"
     ]
    },
    {
     "name": "stdout",
     "output_type": "stream",
     "text": [
      "7917/7917 [==============================] - ETA: 6s - loss: 1.0630 - acc: 0.500 - ETA: 3s - loss: 1.0540 - acc: 0.493 - ETA: 3s - loss: 1.0683 - acc: 0.467 - ETA: 3s - loss: 1.0602 - acc: 0.480 - ETA: 3s - loss: 1.0681 - acc: 0.457 - ETA: 3s - loss: 1.0639 - acc: 0.464 - ETA: 3s - loss: 1.0626 - acc: 0.466 - ETA: 3s - loss: 1.0593 - acc: 0.468 - ETA: 3s - loss: 1.0618 - acc: 0.466 - ETA: 3s - loss: 1.0643 - acc: 0.463 - ETA: 2s - loss: 1.0601 - acc: 0.471 - ETA: 2s - loss: 1.0574 - acc: 0.477 - ETA: 2s - loss: 1.0562 - acc: 0.479 - ETA: 2s - loss: 1.0566 - acc: 0.478 - ETA: 2s - loss: 1.0584 - acc: 0.474 - ETA: 2s - loss: 1.0603 - acc: 0.471 - ETA: 2s - loss: 1.0626 - acc: 0.468 - ETA: 2s - loss: 1.0625 - acc: 0.468 - ETA: 2s - loss: 1.0616 - acc: 0.469 - ETA: 2s - loss: 1.0597 - acc: 0.472 - ETA: 2s - loss: 1.0599 - acc: 0.471 - ETA: 2s - loss: 1.0598 - acc: 0.471 - ETA: 2s - loss: 1.0611 - acc: 0.470 - ETA: 2s - loss: 1.0608 - acc: 0.469 - ETA: 2s - loss: 1.0618 - acc: 0.467 - ETA: 2s - loss: 1.0624 - acc: 0.466 - ETA: 2s - loss: 1.0622 - acc: 0.466 - ETA: 2s - loss: 1.0622 - acc: 0.465 - ETA: 2s - loss: 1.0622 - acc: 0.465 - ETA: 2s - loss: 1.0634 - acc: 0.463 - ETA: 2s - loss: 1.0648 - acc: 0.460 - ETA: 2s - loss: 1.0645 - acc: 0.460 - ETA: 2s - loss: 1.0646 - acc: 0.461 - ETA: 2s - loss: 1.0660 - acc: 0.459 - ETA: 2s - loss: 1.0656 - acc: 0.460 - ETA: 2s - loss: 1.0645 - acc: 0.463 - ETA: 1s - loss: 1.0644 - acc: 0.463 - ETA: 1s - loss: 1.0645 - acc: 0.462 - ETA: 1s - loss: 1.0636 - acc: 0.462 - ETA: 1s - loss: 1.0634 - acc: 0.462 - ETA: 1s - loss: 1.0630 - acc: 0.463 - ETA: 1s - loss: 1.0625 - acc: 0.463 - ETA: 1s - loss: 1.0635 - acc: 0.461 - ETA: 1s - loss: 1.0630 - acc: 0.463 - ETA: 1s - loss: 1.0626 - acc: 0.463 - ETA: 1s - loss: 1.0619 - acc: 0.464 - ETA: 1s - loss: 1.0625 - acc: 0.463 - ETA: 1s - loss: 1.0624 - acc: 0.463 - ETA: 1s - loss: 1.0626 - acc: 0.463 - ETA: 1s - loss: 1.0620 - acc: 0.463 - ETA: 1s - loss: 1.0619 - acc: 0.463 - ETA: 1s - loss: 1.0611 - acc: 0.464 - ETA: 1s - loss: 1.0614 - acc: 0.464 - ETA: 1s - loss: 1.0616 - acc: 0.464 - ETA: 0s - loss: 1.0619 - acc: 0.463 - ETA: 0s - loss: 1.0626 - acc: 0.462 - ETA: 0s - loss: 1.0616 - acc: 0.464 - ETA: 0s - loss: 1.0614 - acc: 0.464 - ETA: 0s - loss: 1.0607 - acc: 0.465 - ETA: 0s - loss: 1.0607 - acc: 0.464 - ETA: 0s - loss: 1.0613 - acc: 0.463 - ETA: 0s - loss: 1.0616 - acc: 0.463 - ETA: 0s - loss: 1.0614 - acc: 0.463 - ETA: 0s - loss: 1.0609 - acc: 0.464 - ETA: 0s - loss: 1.0599 - acc: 0.466 - ETA: 0s - loss: 1.0597 - acc: 0.466 - ETA: 0s - loss: 1.0598 - acc: 0.467 - ETA: 0s - loss: 1.0600 - acc: 0.466 - ETA: 0s - loss: 1.0608 - acc: 0.465 - ETA: 0s - loss: 1.0613 - acc: 0.464 - ETA: 0s - loss: 1.0614 - acc: 0.464 - ETA: 0s - loss: 1.0614 - acc: 0.464 - ETA: 0s - loss: 1.0615 - acc: 0.464 - ETA: 0s - loss: 1.0616 - acc: 0.464 - 4s 559us/sample - loss: 1.0615 - acc: 0.4646 - val_loss: 1.0572 - val_acc: 0.4588\n",
      "Epoch 39/100\n",
      "7917/7917 [==============================] - ETA: 4s - loss: 1.0777 - acc: 0.450 - ETA: 3s - loss: 1.0854 - acc: 0.443 - ETA: 3s - loss: 1.0892 - acc: 0.426 - ETA: 3s - loss: 1.0812 - acc: 0.430 - ETA: 3s - loss: 1.0816 - acc: 0.428 - ETA: 3s - loss: 1.0727 - acc: 0.445 - ETA: 3s - loss: 1.0727 - acc: 0.447 - ETA: 3s - loss: 1.0700 - acc: 0.450 - ETA: 3s - loss: 1.0692 - acc: 0.452 - ETA: 3s - loss: 1.0722 - acc: 0.445 - ETA: 3s - loss: 1.0704 - acc: 0.447 - ETA: 2s - loss: 1.0734 - acc: 0.444 - ETA: 2s - loss: 1.0710 - acc: 0.449 - ETA: 3s - loss: 1.0691 - acc: 0.454 - ETA: 3s - loss: 1.0688 - acc: 0.454 - ETA: 3s - loss: 1.0662 - acc: 0.458 - ETA: 2s - loss: 1.0641 - acc: 0.461 - ETA: 2s - loss: 1.0653 - acc: 0.458 - ETA: 2s - loss: 1.0669 - acc: 0.455 - ETA: 2s - loss: 1.0663 - acc: 0.456 - ETA: 2s - loss: 1.0666 - acc: 0.456 - ETA: 2s - loss: 1.0674 - acc: 0.455 - ETA: 2s - loss: 1.0684 - acc: 0.454 - ETA: 2s - loss: 1.0678 - acc: 0.455 - ETA: 2s - loss: 1.0675 - acc: 0.455 - ETA: 2s - loss: 1.0678 - acc: 0.454 - ETA: 2s - loss: 1.0668 - acc: 0.457 - ETA: 2s - loss: 1.0674 - acc: 0.455 - ETA: 2s - loss: 1.0671 - acc: 0.456 - ETA: 2s - loss: 1.0657 - acc: 0.459 - ETA: 2s - loss: 1.0669 - acc: 0.456 - ETA: 2s - loss: 1.0668 - acc: 0.456 - ETA: 2s - loss: 1.0657 - acc: 0.458 - ETA: 2s - loss: 1.0669 - acc: 0.456 - ETA: 2s - loss: 1.0668 - acc: 0.456 - ETA: 2s - loss: 1.0666 - acc: 0.457 - ETA: 1s - loss: 1.0665 - acc: 0.456 - ETA: 1s - loss: 1.0652 - acc: 0.458 - ETA: 1s - loss: 1.0643 - acc: 0.459 - ETA: 1s - loss: 1.0636 - acc: 0.461 - ETA: 1s - loss: 1.0634 - acc: 0.461 - ETA: 1s - loss: 1.0627 - acc: 0.461 - ETA: 1s - loss: 1.0627 - acc: 0.462 - ETA: 1s - loss: 1.0632 - acc: 0.461 - ETA: 1s - loss: 1.0620 - acc: 0.463 - ETA: 1s - loss: 1.0631 - acc: 0.461 - ETA: 1s - loss: 1.0631 - acc: 0.462 - ETA: 1s - loss: 1.0626 - acc: 0.463 - ETA: 1s - loss: 1.0622 - acc: 0.463 - ETA: 1s - loss: 1.0615 - acc: 0.465 - ETA: 1s - loss: 1.0610 - acc: 0.466 - ETA: 1s - loss: 1.0621 - acc: 0.464 - ETA: 0s - loss: 1.0614 - acc: 0.465 - ETA: 0s - loss: 1.0616 - acc: 0.464 - ETA: 0s - loss: 1.0614 - acc: 0.464 - ETA: 0s - loss: 1.0616 - acc: 0.464 - ETA: 0s - loss: 1.0610 - acc: 0.465 - ETA: 0s - loss: 1.0616 - acc: 0.464 - ETA: 0s - loss: 1.0616 - acc: 0.464 - ETA: 0s - loss: 1.0621 - acc: 0.463 - ETA: 0s - loss: 1.0629 - acc: 0.462 - ETA: 0s - loss: 1.0627 - acc: 0.462 - ETA: 0s - loss: 1.0624 - acc: 0.463 - ETA: 0s - loss: 1.0622 - acc: 0.463 - ETA: 0s - loss: 1.0616 - acc: 0.464 - ETA: 0s - loss: 1.0617 - acc: 0.464 - ETA: 0s - loss: 1.0608 - acc: 0.465 - ETA: 0s - loss: 1.0608 - acc: 0.465 - ETA: 0s - loss: 1.0613 - acc: 0.465 - 4s 515us/sample - loss: 1.0618 - acc: 0.4639 - val_loss: 1.0570 - val_acc: 0.4588\n",
      "Epoch 40/100\n",
      "7917/7917 [==============================] - ETA: 3s - loss: 1.0375 - acc: 0.500 - ETA: 3s - loss: 1.0362 - acc: 0.507 - ETA: 3s - loss: 1.0303 - acc: 0.530 - ETA: 3s - loss: 1.0412 - acc: 0.510 - ETA: 3s - loss: 1.0432 - acc: 0.510 - ETA: 3s - loss: 1.0508 - acc: 0.495 - ETA: 3s - loss: 1.0499 - acc: 0.494 - ETA: 3s - loss: 1.0514 - acc: 0.486 - ETA: 3s - loss: 1.0567 - acc: 0.473 - ETA: 3s - loss: 1.0600 - acc: 0.469 - ETA: 3s - loss: 1.0639 - acc: 0.463 - ETA: 3s - loss: 1.0635 - acc: 0.462 - ETA: 2s - loss: 1.0619 - acc: 0.464 - ETA: 2s - loss: 1.0603 - acc: 0.466 - ETA: 3s - loss: 1.0594 - acc: 0.469 - ETA: 3s - loss: 1.0620 - acc: 0.464 - ETA: 3s - loss: 1.0594 - acc: 0.468 - ETA: 2s - loss: 1.0591 - acc: 0.468 - ETA: 2s - loss: 1.0613 - acc: 0.465 - ETA: 2s - loss: 1.0594 - acc: 0.468 - ETA: 2s - loss: 1.0612 - acc: 0.465 - ETA: 2s - loss: 1.0587 - acc: 0.468 - ETA: 2s - loss: 1.0599 - acc: 0.465 - ETA: 2s - loss: 1.0599 - acc: 0.465 - ETA: 2s - loss: 1.0574 - acc: 0.470 - ETA: 2s - loss: 1.0580 - acc: 0.469 - ETA: 2s - loss: 1.0578 - acc: 0.470 - ETA: 2s - loss: 1.0593 - acc: 0.468 - ETA: 2s - loss: 1.0598 - acc: 0.468 - ETA: 2s - loss: 1.0599 - acc: 0.467 - ETA: 2s - loss: 1.0605 - acc: 0.466 - ETA: 2s - loss: 1.0602 - acc: 0.467 - ETA: 2s - loss: 1.0600 - acc: 0.467 - ETA: 1s - loss: 1.0605 - acc: 0.466 - ETA: 1s - loss: 1.0604 - acc: 0.466 - ETA: 1s - loss: 1.0610 - acc: 0.465 - ETA: 1s - loss: 1.0620 - acc: 0.463 - ETA: 1s - loss: 1.0620 - acc: 0.463 - ETA: 1s - loss: 1.0619 - acc: 0.464 - ETA: 1s - loss: 1.0615 - acc: 0.464 - ETA: 1s - loss: 1.0616 - acc: 0.464 - ETA: 1s - loss: 1.0619 - acc: 0.463 - ETA: 1s - loss: 1.0626 - acc: 0.462 - ETA: 1s - loss: 1.0621 - acc: 0.463 - ETA: 1s - loss: 1.0619 - acc: 0.462 - ETA: 1s - loss: 1.0609 - acc: 0.464 - ETA: 1s - loss: 1.0605 - acc: 0.465 - ETA: 1s - loss: 1.0605 - acc: 0.465 - ETA: 0s - loss: 1.0605 - acc: 0.465 - ETA: 0s - loss: 1.0612 - acc: 0.464 - ETA: 0s - loss: 1.0615 - acc: 0.463 - ETA: 0s - loss: 1.0608 - acc: 0.464 - ETA: 0s - loss: 1.0613 - acc: 0.463 - ETA: 0s - loss: 1.0607 - acc: 0.464 - ETA: 0s - loss: 1.0605 - acc: 0.465 - ETA: 0s - loss: 1.0607 - acc: 0.465 - ETA: 0s - loss: 1.0606 - acc: 0.465 - ETA: 0s - loss: 1.0605 - acc: 0.465 - ETA: 0s - loss: 1.0608 - acc: 0.465 - ETA: 0s - loss: 1.0610 - acc: 0.464 - ETA: 0s - loss: 1.0613 - acc: 0.464 - ETA: 0s - loss: 1.0614 - acc: 0.463 - ETA: 0s - loss: 1.0613 - acc: 0.463 - ETA: 0s - loss: 1.0605 - acc: 0.464 - ETA: 0s - loss: 1.0606 - acc: 0.464 - ETA: 0s - loss: 1.0609 - acc: 0.464 - 4s 482us/sample - loss: 1.0607 - acc: 0.4648 - val_loss: 1.0569 - val_acc: 0.4588\n",
      "Epoch 41/100\n",
      "7917/7917 [==============================] - ETA: 4s - loss: 1.0488 - acc: 0.550 - ETA: 3s - loss: 1.0773 - acc: 0.442 - ETA: 3s - loss: 1.0741 - acc: 0.430 - ETA: 3s - loss: 1.0740 - acc: 0.431 - ETA: 3s - loss: 1.0708 - acc: 0.440 - ETA: 3s - loss: 1.0638 - acc: 0.454 - ETA: 3s - loss: 1.0648 - acc: 0.453 - ETA: 2s - loss: 1.0576 - acc: 0.466 - ETA: 2s - loss: 1.0576 - acc: 0.467 - ETA: 2s - loss: 1.0586 - acc: 0.464 - ETA: 2s - loss: 1.0571 - acc: 0.466 - ETA: 2s - loss: 1.0574 - acc: 0.465 - ETA: 3s - loss: 1.0569 - acc: 0.464 - ETA: 3s - loss: 1.0555 - acc: 0.467 - ETA: 3s - loss: 1.0535 - acc: 0.471 - ETA: 3s - loss: 1.0545 - acc: 0.471 - ETA: 3s - loss: 1.0538 - acc: 0.472 - ETA: 3s - loss: 1.0543 - acc: 0.472 - ETA: 3s - loss: 1.0558 - acc: 0.471 - ETA: 3s - loss: 1.0585 - acc: 0.465 - ETA: 3s - loss: 1.0589 - acc: 0.464 - ETA: 3s - loss: 1.0583 - acc: 0.467 - ETA: 3s - loss: 1.0587 - acc: 0.466 - ETA: 3s - loss: 1.0599 - acc: 0.464 - ETA: 3s - loss: 1.0623 - acc: 0.460 - ETA: 2s - loss: 1.0592 - acc: 0.466 - ETA: 2s - loss: 1.0577 - acc: 0.470 - ETA: 2s - loss: 1.0582 - acc: 0.470 - ETA: 2s - loss: 1.0592 - acc: 0.468 - ETA: 2s - loss: 1.0587 - acc: 0.468 - ETA: 2s - loss: 1.0578 - acc: 0.470 - ETA: 2s - loss: 1.0566 - acc: 0.472 - ETA: 2s - loss: 1.0580 - acc: 0.470 - ETA: 2s - loss: 1.0600 - acc: 0.466 - ETA: 2s - loss: 1.0603 - acc: 0.465 - ETA: 2s - loss: 1.0597 - acc: 0.465 - ETA: 2s - loss: 1.0602 - acc: 0.465 - ETA: 2s - loss: 1.0610 - acc: 0.464 - ETA: 2s - loss: 1.0612 - acc: 0.464 - ETA: 2s - loss: 1.0609 - acc: 0.463 - ETA: 1s - loss: 1.0605 - acc: 0.464 - ETA: 1s - loss: 1.0605 - acc: 0.464 - ETA: 1s - loss: 1.0604 - acc: 0.464 - ETA: 1s - loss: 1.0598 - acc: 0.465 - ETA: 1s - loss: 1.0604 - acc: 0.464 - ETA: 1s - loss: 1.0608 - acc: 0.462 - ETA: 1s - loss: 1.0609 - acc: 0.462 - ETA: 1s - loss: 1.0617 - acc: 0.461 - ETA: 1s - loss: 1.0605 - acc: 0.463 - ETA: 1s - loss: 1.0610 - acc: 0.462 - ETA: 1s - loss: 1.0621 - acc: 0.460 - ETA: 1s - loss: 1.0620 - acc: 0.460 - ETA: 1s - loss: 1.0616 - acc: 0.461 - ETA: 1s - loss: 1.0622 - acc: 0.460 - ETA: 1s - loss: 1.0615 - acc: 0.462 - ETA: 1s - loss: 1.0612 - acc: 0.462 - ETA: 0s - loss: 1.0617 - acc: 0.462 - ETA: 0s - loss: 1.0618 - acc: 0.461 - ETA: 0s - loss: 1.0625 - acc: 0.461 - ETA: 0s - loss: 1.0627 - acc: 0.460 - ETA: 0s - loss: 1.0621 - acc: 0.462 - ETA: 0s - loss: 1.0620 - acc: 0.462 - ETA: 0s - loss: 1.0618 - acc: 0.462 - ETA: 0s - loss: 1.0620 - acc: 0.462 - ETA: 0s - loss: 1.0621 - acc: 0.462 - ETA: 0s - loss: 1.0626 - acc: 0.461 - ETA: 0s - loss: 1.0621 - acc: 0.463 - ETA: 0s - loss: 1.0614 - acc: 0.464 - ETA: 0s - loss: 1.0613 - acc: 0.464 - ETA: 0s - loss: 1.0616 - acc: 0.463 - ETA: 0s - loss: 1.0615 - acc: 0.463 - ETA: 0s - loss: 1.0619 - acc: 0.462 - ETA: 0s - loss: 1.0615 - acc: 0.463 - 4s 534us/sample - loss: 1.0611 - acc: 0.4647 - val_loss: 1.0567 - val_acc: 0.4588\n",
      "Epoch 42/100\n"
     ]
    },
    {
     "name": "stdout",
     "output_type": "stream",
     "text": [
      "7917/7917 [==============================] - ETA: 3s - loss: 1.1113 - acc: 0.350 - ETA: 3s - loss: 1.0742 - acc: 0.425 - ETA: 3s - loss: 1.0655 - acc: 0.446 - ETA: 3s - loss: 1.0562 - acc: 0.460 - ETA: 3s - loss: 1.0594 - acc: 0.455 - ETA: 3s - loss: 1.0611 - acc: 0.456 - ETA: 3s - loss: 1.0609 - acc: 0.460 - ETA: 3s - loss: 1.0614 - acc: 0.465 - ETA: 3s - loss: 1.0709 - acc: 0.446 - ETA: 3s - loss: 1.0698 - acc: 0.447 - ETA: 2s - loss: 1.0648 - acc: 0.456 - ETA: 2s - loss: 1.0690 - acc: 0.447 - ETA: 2s - loss: 1.0712 - acc: 0.443 - ETA: 2s - loss: 1.0705 - acc: 0.445 - ETA: 2s - loss: 1.0694 - acc: 0.447 - ETA: 2s - loss: 1.0675 - acc: 0.451 - ETA: 2s - loss: 1.0669 - acc: 0.452 - ETA: 2s - loss: 1.0656 - acc: 0.454 - ETA: 2s - loss: 1.0652 - acc: 0.455 - ETA: 2s - loss: 1.0636 - acc: 0.459 - ETA: 2s - loss: 1.0633 - acc: 0.457 - ETA: 2s - loss: 1.0636 - acc: 0.458 - ETA: 2s - loss: 1.0632 - acc: 0.457 - ETA: 2s - loss: 1.0617 - acc: 0.461 - ETA: 2s - loss: 1.0626 - acc: 0.459 - ETA: 2s - loss: 1.0602 - acc: 0.463 - ETA: 2s - loss: 1.0600 - acc: 0.464 - ETA: 2s - loss: 1.0614 - acc: 0.461 - ETA: 2s - loss: 1.0600 - acc: 0.464 - ETA: 2s - loss: 1.0589 - acc: 0.465 - ETA: 2s - loss: 1.0593 - acc: 0.464 - ETA: 2s - loss: 1.0604 - acc: 0.462 - ETA: 2s - loss: 1.0609 - acc: 0.462 - ETA: 2s - loss: 1.0604 - acc: 0.463 - ETA: 2s - loss: 1.0603 - acc: 0.463 - ETA: 2s - loss: 1.0597 - acc: 0.464 - ETA: 2s - loss: 1.0578 - acc: 0.469 - ETA: 2s - loss: 1.0579 - acc: 0.470 - ETA: 2s - loss: 1.0590 - acc: 0.468 - ETA: 1s - loss: 1.0596 - acc: 0.467 - ETA: 1s - loss: 1.0573 - acc: 0.471 - ETA: 1s - loss: 1.0570 - acc: 0.471 - ETA: 1s - loss: 1.0560 - acc: 0.473 - ETA: 1s - loss: 1.0561 - acc: 0.472 - ETA: 1s - loss: 1.0561 - acc: 0.473 - ETA: 1s - loss: 1.0567 - acc: 0.472 - ETA: 1s - loss: 1.0569 - acc: 0.471 - ETA: 1s - loss: 1.0576 - acc: 0.470 - ETA: 1s - loss: 1.0574 - acc: 0.470 - ETA: 1s - loss: 1.0579 - acc: 0.469 - ETA: 1s - loss: 1.0581 - acc: 0.469 - ETA: 1s - loss: 1.0586 - acc: 0.468 - ETA: 1s - loss: 1.0588 - acc: 0.467 - ETA: 1s - loss: 1.0598 - acc: 0.465 - ETA: 1s - loss: 1.0594 - acc: 0.465 - ETA: 1s - loss: 1.0595 - acc: 0.465 - ETA: 1s - loss: 1.0607 - acc: 0.464 - ETA: 0s - loss: 1.0601 - acc: 0.464 - ETA: 0s - loss: 1.0601 - acc: 0.464 - ETA: 0s - loss: 1.0597 - acc: 0.465 - ETA: 0s - loss: 1.0600 - acc: 0.464 - ETA: 0s - loss: 1.0602 - acc: 0.463 - ETA: 0s - loss: 1.0603 - acc: 0.463 - ETA: 0s - loss: 1.0603 - acc: 0.463 - ETA: 0s - loss: 1.0602 - acc: 0.463 - ETA: 0s - loss: 1.0603 - acc: 0.463 - ETA: 0s - loss: 1.0601 - acc: 0.463 - ETA: 0s - loss: 1.0610 - acc: 0.462 - ETA: 0s - loss: 1.0612 - acc: 0.462 - ETA: 0s - loss: 1.0606 - acc: 0.463 - ETA: 0s - loss: 1.0610 - acc: 0.462 - ETA: 0s - loss: 1.0605 - acc: 0.463 - ETA: 0s - loss: 1.0604 - acc: 0.463 - ETA: 0s - loss: 1.0600 - acc: 0.464 - 4s 542us/sample - loss: 1.0600 - acc: 0.4646 - val_loss: 1.0566 - val_acc: 0.4588\n",
      "Epoch 43/100\n",
      "7917/7917 [==============================] - ETA: 7s - loss: 1.1073 - acc: 0.400 - ETA: 4s - loss: 1.1000 - acc: 0.400 - ETA: 3s - loss: 1.0769 - acc: 0.441 - ETA: 3s - loss: 1.0630 - acc: 0.463 - ETA: 3s - loss: 1.0706 - acc: 0.454 - ETA: 3s - loss: 1.0628 - acc: 0.464 - ETA: 3s - loss: 1.0636 - acc: 0.463 - ETA: 3s - loss: 1.0694 - acc: 0.448 - ETA: 3s - loss: 1.0722 - acc: 0.445 - ETA: 3s - loss: 1.0738 - acc: 0.438 - ETA: 2s - loss: 1.0716 - acc: 0.442 - ETA: 2s - loss: 1.0686 - acc: 0.448 - ETA: 3s - loss: 1.0681 - acc: 0.447 - ETA: 3s - loss: 1.0658 - acc: 0.452 - ETA: 3s - loss: 1.0628 - acc: 0.457 - ETA: 3s - loss: 1.0636 - acc: 0.456 - ETA: 3s - loss: 1.0641 - acc: 0.456 - ETA: 3s - loss: 1.0654 - acc: 0.454 - ETA: 3s - loss: 1.0650 - acc: 0.455 - ETA: 3s - loss: 1.0666 - acc: 0.453 - ETA: 3s - loss: 1.0678 - acc: 0.452 - ETA: 2s - loss: 1.0680 - acc: 0.452 - ETA: 2s - loss: 1.0670 - acc: 0.455 - ETA: 2s - loss: 1.0682 - acc: 0.454 - ETA: 2s - loss: 1.0695 - acc: 0.452 - ETA: 2s - loss: 1.0713 - acc: 0.448 - ETA: 2s - loss: 1.0716 - acc: 0.447 - ETA: 2s - loss: 1.0720 - acc: 0.446 - ETA: 2s - loss: 1.0724 - acc: 0.445 - ETA: 2s - loss: 1.0711 - acc: 0.448 - ETA: 2s - loss: 1.0713 - acc: 0.446 - ETA: 2s - loss: 1.0704 - acc: 0.447 - ETA: 2s - loss: 1.0696 - acc: 0.448 - ETA: 2s - loss: 1.0686 - acc: 0.451 - ETA: 2s - loss: 1.0679 - acc: 0.452 - ETA: 2s - loss: 1.0678 - acc: 0.452 - ETA: 2s - loss: 1.0683 - acc: 0.451 - ETA: 2s - loss: 1.0669 - acc: 0.454 - ETA: 2s - loss: 1.0648 - acc: 0.458 - ETA: 1s - loss: 1.0667 - acc: 0.454 - ETA: 1s - loss: 1.0665 - acc: 0.454 - ETA: 1s - loss: 1.0666 - acc: 0.454 - ETA: 1s - loss: 1.0667 - acc: 0.455 - ETA: 1s - loss: 1.0671 - acc: 0.453 - ETA: 1s - loss: 1.0655 - acc: 0.456 - ETA: 1s - loss: 1.0656 - acc: 0.456 - ETA: 1s - loss: 1.0651 - acc: 0.457 - ETA: 1s - loss: 1.0650 - acc: 0.456 - ETA: 1s - loss: 1.0641 - acc: 0.459 - ETA: 1s - loss: 1.0630 - acc: 0.460 - ETA: 1s - loss: 1.0631 - acc: 0.460 - ETA: 1s - loss: 1.0636 - acc: 0.459 - ETA: 1s - loss: 1.0641 - acc: 0.458 - ETA: 1s - loss: 1.0642 - acc: 0.458 - ETA: 0s - loss: 1.0634 - acc: 0.460 - ETA: 0s - loss: 1.0637 - acc: 0.460 - ETA: 0s - loss: 1.0628 - acc: 0.461 - ETA: 0s - loss: 1.0633 - acc: 0.459 - ETA: 0s - loss: 1.0630 - acc: 0.461 - ETA: 0s - loss: 1.0631 - acc: 0.460 - ETA: 0s - loss: 1.0633 - acc: 0.460 - ETA: 0s - loss: 1.0634 - acc: 0.459 - ETA: 0s - loss: 1.0634 - acc: 0.459 - ETA: 0s - loss: 1.0625 - acc: 0.461 - ETA: 0s - loss: 1.0625 - acc: 0.461 - ETA: 0s - loss: 1.0625 - acc: 0.461 - ETA: 0s - loss: 1.0620 - acc: 0.462 - ETA: 0s - loss: 1.0616 - acc: 0.462 - ETA: 0s - loss: 1.0613 - acc: 0.463 - ETA: 0s - loss: 1.0619 - acc: 0.462 - ETA: 0s - loss: 1.0612 - acc: 0.464 - ETA: 0s - loss: 1.0609 - acc: 0.464 - 4s 547us/sample - loss: 1.0611 - acc: 0.4646 - val_loss: 1.0564 - val_acc: 0.4588\n",
      "Epoch 44/100\n",
      "7917/7917 [==============================] - ETA: 3s - loss: 1.0869 - acc: 0.400 - ETA: 4s - loss: 1.0429 - acc: 0.490 - ETA: 4s - loss: 1.0518 - acc: 0.477 - ETA: 3s - loss: 1.0432 - acc: 0.494 - ETA: 3s - loss: 1.0454 - acc: 0.484 - ETA: 3s - loss: 1.0482 - acc: 0.481 - ETA: 3s - loss: 1.0550 - acc: 0.470 - ETA: 3s - loss: 1.0570 - acc: 0.466 - ETA: 3s - loss: 1.0598 - acc: 0.462 - ETA: 3s - loss: 1.0526 - acc: 0.473 - ETA: 3s - loss: 1.0552 - acc: 0.467 - ETA: 3s - loss: 1.0576 - acc: 0.465 - ETA: 3s - loss: 1.0598 - acc: 0.462 - ETA: 3s - loss: 1.0600 - acc: 0.462 - ETA: 3s - loss: 1.0608 - acc: 0.462 - ETA: 3s - loss: 1.0614 - acc: 0.459 - ETA: 3s - loss: 1.0613 - acc: 0.459 - ETA: 3s - loss: 1.0626 - acc: 0.458 - ETA: 2s - loss: 1.0649 - acc: 0.455 - ETA: 2s - loss: 1.0620 - acc: 0.459 - ETA: 2s - loss: 1.0638 - acc: 0.454 - ETA: 2s - loss: 1.0627 - acc: 0.456 - ETA: 2s - loss: 1.0637 - acc: 0.456 - ETA: 2s - loss: 1.0634 - acc: 0.456 - ETA: 2s - loss: 1.0645 - acc: 0.454 - ETA: 2s - loss: 1.0658 - acc: 0.451 - ETA: 2s - loss: 1.0660 - acc: 0.450 - ETA: 2s - loss: 1.0660 - acc: 0.449 - ETA: 2s - loss: 1.0659 - acc: 0.450 - ETA: 2s - loss: 1.0650 - acc: 0.452 - ETA: 2s - loss: 1.0645 - acc: 0.452 - ETA: 2s - loss: 1.0651 - acc: 0.452 - ETA: 1s - loss: 1.0641 - acc: 0.454 - ETA: 1s - loss: 1.0641 - acc: 0.454 - ETA: 1s - loss: 1.0633 - acc: 0.455 - ETA: 1s - loss: 1.0635 - acc: 0.455 - ETA: 1s - loss: 1.0628 - acc: 0.457 - ETA: 1s - loss: 1.0617 - acc: 0.459 - ETA: 1s - loss: 1.0624 - acc: 0.459 - ETA: 1s - loss: 1.0624 - acc: 0.459 - ETA: 1s - loss: 1.0624 - acc: 0.458 - ETA: 1s - loss: 1.0630 - acc: 0.457 - ETA: 1s - loss: 1.0625 - acc: 0.459 - ETA: 1s - loss: 1.0626 - acc: 0.458 - ETA: 1s - loss: 1.0619 - acc: 0.459 - ETA: 1s - loss: 1.0618 - acc: 0.459 - ETA: 1s - loss: 1.0623 - acc: 0.458 - ETA: 1s - loss: 1.0630 - acc: 0.457 - ETA: 1s - loss: 1.0628 - acc: 0.457 - ETA: 1s - loss: 1.0625 - acc: 0.458 - ETA: 0s - loss: 1.0627 - acc: 0.457 - ETA: 0s - loss: 1.0620 - acc: 0.459 - ETA: 0s - loss: 1.0626 - acc: 0.458 - ETA: 0s - loss: 1.0627 - acc: 0.458 - ETA: 0s - loss: 1.0621 - acc: 0.459 - ETA: 0s - loss: 1.0620 - acc: 0.459 - ETA: 0s - loss: 1.0617 - acc: 0.460 - ETA: 0s - loss: 1.0618 - acc: 0.459 - ETA: 0s - loss: 1.0614 - acc: 0.460 - ETA: 0s - loss: 1.0603 - acc: 0.462 - ETA: 0s - loss: 1.0599 - acc: 0.463 - ETA: 0s - loss: 1.0602 - acc: 0.462 - ETA: 0s - loss: 1.0599 - acc: 0.463 - ETA: 0s - loss: 1.0595 - acc: 0.464 - ETA: 0s - loss: 1.0598 - acc: 0.463 - ETA: 0s - loss: 1.0597 - acc: 0.464 - ETA: 0s - loss: 1.0595 - acc: 0.464 - ETA: 0s - loss: 1.0589 - acc: 0.465 - ETA: 0s - loss: 1.0586 - acc: 0.466 - ETA: 0s - loss: 1.0595 - acc: 0.464 - 4s 529us/sample - loss: 1.0595 - acc: 0.4644 - val_loss: 1.0562 - val_acc: 0.4588\n",
      "Epoch 45/100\n",
      "7917/7917 [==============================] - ETA: 7s - loss: 1.0276 - acc: 0.550 - ETA: 4s - loss: 1.0416 - acc: 0.507 - ETA: 5s - loss: 1.0483 - acc: 0.495 - ETA: 5s - loss: 1.0578 - acc: 0.471 - ETA: 4s - loss: 1.0774 - acc: 0.431 - ETA: 4s - loss: 1.0672 - acc: 0.448 - ETA: 3s - loss: 1.0653 - acc: 0.448 - ETA: 3s - loss: 1.0652 - acc: 0.451 - ETA: 3s - loss: 1.0648 - acc: 0.454 - ETA: 3s - loss: 1.0682 - acc: 0.447 - ETA: 3s - loss: 1.0664 - acc: 0.449 - ETA: 3s - loss: 1.0694 - acc: 0.445 - ETA: 3s - loss: 1.0720 - acc: 0.441 - ETA: 3s - loss: 1.0687 - acc: 0.445 - ETA: 3s - loss: 1.0655 - acc: 0.451 - ETA: 3s - loss: 1.0656 - acc: 0.450 - ETA: 2s - loss: 1.0653 - acc: 0.452 - ETA: 2s - loss: 1.0665 - acc: 0.448 - ETA: 2s - loss: 1.0666 - acc: 0.448 - ETA: 2s - loss: 1.0647 - acc: 0.450 - ETA: 2s - loss: 1.0656 - acc: 0.448 - ETA: 2s - loss: 1.0649 - acc: 0.450 - ETA: 2s - loss: 1.0627 - acc: 0.454 - ETA: 2s - loss: 1.0624 - acc: 0.455 - ETA: 2s - loss: 1.0601 - acc: 0.459 - ETA: 2s - loss: 1.0591 - acc: 0.462 - ETA: 2s - loss: 1.0584 - acc: 0.463 - ETA: 1s - loss: 1.0588 - acc: 0.462 - ETA: 1s - loss: 1.0603 - acc: 0.460 - ETA: 1s - loss: 1.0604 - acc: 0.460 - ETA: 1s - loss: 1.0613 - acc: 0.459 - ETA: 1s - loss: 1.0611 - acc: 0.459 - ETA: 1s - loss: 1.0619 - acc: 0.458 - ETA: 1s - loss: 1.0616 - acc: 0.459 - ETA: 1s - loss: 1.0603 - acc: 0.460 - ETA: 1s - loss: 1.0606 - acc: 0.460 - ETA: 1s - loss: 1.0602 - acc: 0.461 - ETA: 1s - loss: 1.0614 - acc: 0.458 - ETA: 1s - loss: 1.0617 - acc: 0.457 - ETA: 1s - loss: 1.0616 - acc: 0.457 - ETA: 1s - loss: 1.0608 - acc: 0.459 - ETA: 1s - loss: 1.0610 - acc: 0.459 - ETA: 1s - loss: 1.0606 - acc: 0.459 - ETA: 1s - loss: 1.0601 - acc: 0.460 - ETA: 0s - loss: 1.0594 - acc: 0.460 - ETA: 0s - loss: 1.0592 - acc: 0.461 - ETA: 0s - loss: 1.0597 - acc: 0.461 - ETA: 0s - loss: 1.0588 - acc: 0.462 - ETA: 0s - loss: 1.0581 - acc: 0.463 - ETA: 0s - loss: 1.0580 - acc: 0.463 - ETA: 0s - loss: 1.0577 - acc: 0.464 - ETA: 0s - loss: 1.0577 - acc: 0.464 - ETA: 0s - loss: 1.0573 - acc: 0.465 - ETA: 0s - loss: 1.0574 - acc: 0.465 - ETA: 0s - loss: 1.0569 - acc: 0.465 - ETA: 0s - loss: 1.0572 - acc: 0.465 - ETA: 0s - loss: 1.0571 - acc: 0.465 - ETA: 0s - loss: 1.0573 - acc: 0.465 - ETA: 0s - loss: 1.0583 - acc: 0.464 - ETA: 0s - loss: 1.0577 - acc: 0.465 - ETA: 0s - loss: 1.0578 - acc: 0.465 - ETA: 0s - loss: 1.0579 - acc: 0.464 - 4s 464us/sample - loss: 1.0580 - acc: 0.4646 - val_loss: 1.0561 - val_acc: 0.4588\n",
      "Epoch 46/100\n",
      "7917/7917 [==============================] - ETA: 4s - loss: 1.0247 - acc: 0.550 - ETA: 3s - loss: 1.0468 - acc: 0.475 - ETA: 3s - loss: 1.0797 - acc: 0.421 - ETA: 3s - loss: 1.0649 - acc: 0.444 - ETA: 4s - loss: 1.0617 - acc: 0.456 - ETA: 3s - loss: 1.0701 - acc: 0.440 - ETA: 3s - loss: 1.0618 - acc: 0.458 - ETA: 3s - loss: 1.0586 - acc: 0.467 - ETA: 3s - loss: 1.0598 - acc: 0.465 - ETA: 3s - loss: 1.0570 - acc: 0.468 - ETA: 3s - loss: 1.0572 - acc: 0.470 - ETA: 3s - loss: 1.0587 - acc: 0.468 - ETA: 3s - loss: 1.0583 - acc: 0.468 - ETA: 3s - loss: 1.0600 - acc: 0.467 - ETA: 2s - loss: 1.0602 - acc: 0.466 - ETA: 2s - loss: 1.0596 - acc: 0.468 - ETA: 3s - loss: 1.0598 - acc: 0.468 - ETA: 3s - loss: 1.0593 - acc: 0.468 - ETA: 3s - loss: 1.0600 - acc: 0.466 - ETA: 3s - loss: 1.0618 - acc: 0.463 - ETA: 3s - loss: 1.0622 - acc: 0.462 - ETA: 3s - loss: 1.0614 - acc: 0.463 - ETA: 3s - loss: 1.0611 - acc: 0.464 - ETA: 3s - loss: 1.0607 - acc: 0.465 - ETA: 3s - loss: 1.0591 - acc: 0.470 - ETA: 2s - loss: 1.0583 - acc: 0.470 - ETA: 2s - loss: 1.0589 - acc: 0.468 - ETA: 2s - loss: 1.0582 - acc: 0.468 - ETA: 2s - loss: 1.0573 - acc: 0.468 - ETA: 2s - loss: 1.0576 - acc: 0.469 - ETA: 2s - loss: 1.0599 - acc: 0.465 - ETA: 2s - loss: 1.0603 - acc: 0.464 - ETA: 2s - loss: 1.0613 - acc: 0.462 - ETA: 2s - loss: 1.0607 - acc: 0.463 - ETA: 2s - loss: 1.0606 - acc: 0.462 - ETA: 2s - loss: 1.0600 - acc: 0.464 - ETA: 1s - loss: 1.0603 - acc: 0.463 - ETA: 1s - loss: 1.0605 - acc: 0.463 - ETA: 1s - loss: 1.0602 - acc: 0.463 - ETA: 1s - loss: 1.0600 - acc: 0.463 - ETA: 1s - loss: 1.0602 - acc: 0.463 - ETA: 1s - loss: 1.0589 - acc: 0.465 - ETA: 1s - loss: 1.0592 - acc: 0.464 - ETA: 1s - loss: 1.0606 - acc: 0.462 - ETA: 1s - loss: 1.0605 - acc: 0.462 - ETA: 1s - loss: 1.0605 - acc: 0.462 - ETA: 1s - loss: 1.0611 - acc: 0.462 - ETA: 1s - loss: 1.0604 - acc: 0.463 - ETA: 1s - loss: 1.0613 - acc: 0.462 - ETA: 1s - loss: 1.0612 - acc: 0.462 - ETA: 0s - loss: 1.0609 - acc: 0.462 - ETA: 0s - loss: 1.0606 - acc: 0.462 - ETA: 0s - loss: 1.0607 - acc: 0.462 - ETA: 0s - loss: 1.0607 - acc: 0.462 - ETA: 0s - loss: 1.0602 - acc: 0.463 - ETA: 0s - loss: 1.0603 - acc: 0.462 - ETA: 0s - loss: 1.0605 - acc: 0.462 - ETA: 0s - loss: 1.0604 - acc: 0.462 - ETA: 0s - loss: 1.0605 - acc: 0.463 - ETA: 0s - loss: 1.0603 - acc: 0.463 - ETA: 0s - loss: 1.0605 - acc: 0.463 - ETA: 0s - loss: 1.0605 - acc: 0.463 - ETA: 0s - loss: 1.0604 - acc: 0.464 - ETA: 0s - loss: 1.0601 - acc: 0.464 - ETA: 0s - loss: 1.0605 - acc: 0.465 - ETA: 0s - loss: 1.0605 - acc: 0.465 - ETA: 0s - loss: 1.0604 - acc: 0.465 - ETA: 0s - loss: 1.0603 - acc: 0.465 - ETA: 0s - loss: 1.0603 - acc: 0.465 - ETA: 0s - loss: 1.0603 - acc: 0.465 - ETA: 0s - loss: 1.0605 - acc: 0.465 - 4s 545us/sample - loss: 1.0609 - acc: 0.4644 - val_loss: 1.0560 - val_acc: 0.4588\n",
      "Epoch 47/100\n"
     ]
    },
    {
     "name": "stdout",
     "output_type": "stream",
     "text": [
      "7917/7917 [==============================] - ETA: 6s - loss: 0.9656 - acc: 0.600 - ETA: 4s - loss: 1.0449 - acc: 0.485 - ETA: 3s - loss: 1.0496 - acc: 0.476 - ETA: 3s - loss: 1.0364 - acc: 0.500 - ETA: 3s - loss: 1.0359 - acc: 0.501 - ETA: 3s - loss: 1.0454 - acc: 0.484 - ETA: 3s - loss: 1.0440 - acc: 0.487 - ETA: 3s - loss: 1.0504 - acc: 0.475 - ETA: 3s - loss: 1.0492 - acc: 0.475 - ETA: 2s - loss: 1.0517 - acc: 0.473 - ETA: 2s - loss: 1.0502 - acc: 0.476 - ETA: 2s - loss: 1.0479 - acc: 0.479 - ETA: 2s - loss: 1.0481 - acc: 0.478 - ETA: 2s - loss: 1.0493 - acc: 0.478 - ETA: 2s - loss: 1.0513 - acc: 0.474 - ETA: 2s - loss: 1.0527 - acc: 0.471 - ETA: 2s - loss: 1.0530 - acc: 0.472 - ETA: 2s - loss: 1.0564 - acc: 0.466 - ETA: 2s - loss: 1.0558 - acc: 0.467 - ETA: 2s - loss: 1.0562 - acc: 0.467 - ETA: 2s - loss: 1.0557 - acc: 0.468 - ETA: 2s - loss: 1.0543 - acc: 0.470 - ETA: 2s - loss: 1.0540 - acc: 0.471 - ETA: 2s - loss: 1.0543 - acc: 0.471 - ETA: 2s - loss: 1.0552 - acc: 0.470 - ETA: 2s - loss: 1.0549 - acc: 0.469 - ETA: 2s - loss: 1.0546 - acc: 0.470 - ETA: 2s - loss: 1.0564 - acc: 0.467 - ETA: 2s - loss: 1.0555 - acc: 0.468 - ETA: 2s - loss: 1.0553 - acc: 0.469 - ETA: 2s - loss: 1.0545 - acc: 0.470 - ETA: 2s - loss: 1.0544 - acc: 0.471 - ETA: 2s - loss: 1.0548 - acc: 0.470 - ETA: 2s - loss: 1.0550 - acc: 0.470 - ETA: 2s - loss: 1.0569 - acc: 0.467 - ETA: 1s - loss: 1.0569 - acc: 0.467 - ETA: 1s - loss: 1.0571 - acc: 0.468 - ETA: 1s - loss: 1.0571 - acc: 0.468 - ETA: 1s - loss: 1.0572 - acc: 0.469 - ETA: 1s - loss: 1.0579 - acc: 0.468 - ETA: 1s - loss: 1.0590 - acc: 0.465 - ETA: 1s - loss: 1.0585 - acc: 0.466 - ETA: 1s - loss: 1.0584 - acc: 0.466 - ETA: 1s - loss: 1.0584 - acc: 0.466 - ETA: 1s - loss: 1.0589 - acc: 0.465 - ETA: 1s - loss: 1.0584 - acc: 0.467 - ETA: 1s - loss: 1.0585 - acc: 0.466 - ETA: 1s - loss: 1.0582 - acc: 0.467 - ETA: 1s - loss: 1.0580 - acc: 0.468 - ETA: 1s - loss: 1.0577 - acc: 0.468 - ETA: 0s - loss: 1.0581 - acc: 0.467 - ETA: 0s - loss: 1.0570 - acc: 0.469 - ETA: 0s - loss: 1.0568 - acc: 0.470 - ETA: 0s - loss: 1.0566 - acc: 0.470 - ETA: 0s - loss: 1.0564 - acc: 0.471 - ETA: 0s - loss: 1.0567 - acc: 0.470 - ETA: 0s - loss: 1.0576 - acc: 0.468 - ETA: 0s - loss: 1.0584 - acc: 0.466 - ETA: 0s - loss: 1.0584 - acc: 0.467 - ETA: 0s - loss: 1.0583 - acc: 0.467 - ETA: 0s - loss: 1.0591 - acc: 0.465 - ETA: 0s - loss: 1.0598 - acc: 0.464 - ETA: 0s - loss: 1.0602 - acc: 0.464 - ETA: 0s - loss: 1.0599 - acc: 0.464 - ETA: 0s - loss: 1.0602 - acc: 0.463 - ETA: 0s - loss: 1.0596 - acc: 0.464 - 4s 484us/sample - loss: 1.0596 - acc: 0.4643 - val_loss: 1.0558 - val_acc: 0.4588\n",
      "Epoch 48/100\n",
      "7917/7917 [==============================] - ETA: 4s - loss: 1.0906 - acc: 0.450 - ETA: 3s - loss: 1.0486 - acc: 0.481 - ETA: 3s - loss: 1.0578 - acc: 0.476 - ETA: 3s - loss: 1.0596 - acc: 0.476 - ETA: 2s - loss: 1.0508 - acc: 0.485 - ETA: 2s - loss: 1.0518 - acc: 0.480 - ETA: 2s - loss: 1.0516 - acc: 0.481 - ETA: 2s - loss: 1.0541 - acc: 0.479 - ETA: 2s - loss: 1.0536 - acc: 0.481 - ETA: 2s - loss: 1.0577 - acc: 0.472 - ETA: 2s - loss: 1.0577 - acc: 0.475 - ETA: 2s - loss: 1.0572 - acc: 0.476 - ETA: 2s - loss: 1.0556 - acc: 0.477 - ETA: 2s - loss: 1.0553 - acc: 0.478 - ETA: 2s - loss: 1.0560 - acc: 0.477 - ETA: 2s - loss: 1.0562 - acc: 0.477 - ETA: 2s - loss: 1.0598 - acc: 0.470 - ETA: 2s - loss: 1.0615 - acc: 0.467 - ETA: 2s - loss: 1.0625 - acc: 0.466 - ETA: 2s - loss: 1.0645 - acc: 0.464 - ETA: 2s - loss: 1.0649 - acc: 0.463 - ETA: 2s - loss: 1.0627 - acc: 0.467 - ETA: 2s - loss: 1.0652 - acc: 0.463 - ETA: 2s - loss: 1.0644 - acc: 0.465 - ETA: 2s - loss: 1.0644 - acc: 0.464 - ETA: 2s - loss: 1.0632 - acc: 0.466 - ETA: 2s - loss: 1.0631 - acc: 0.466 - ETA: 1s - loss: 1.0626 - acc: 0.468 - ETA: 1s - loss: 1.0619 - acc: 0.469 - ETA: 1s - loss: 1.0613 - acc: 0.470 - ETA: 1s - loss: 1.0619 - acc: 0.468 - ETA: 1s - loss: 1.0626 - acc: 0.467 - ETA: 1s - loss: 1.0623 - acc: 0.466 - ETA: 1s - loss: 1.0625 - acc: 0.466 - ETA: 1s - loss: 1.0624 - acc: 0.465 - ETA: 1s - loss: 1.0631 - acc: 0.464 - ETA: 1s - loss: 1.0644 - acc: 0.462 - ETA: 1s - loss: 1.0641 - acc: 0.462 - ETA: 1s - loss: 1.0638 - acc: 0.462 - ETA: 1s - loss: 1.0625 - acc: 0.465 - ETA: 1s - loss: 1.0612 - acc: 0.467 - ETA: 1s - loss: 1.0605 - acc: 0.468 - ETA: 1s - loss: 1.0604 - acc: 0.468 - ETA: 1s - loss: 1.0605 - acc: 0.468 - ETA: 1s - loss: 1.0604 - acc: 0.468 - ETA: 1s - loss: 1.0606 - acc: 0.466 - ETA: 1s - loss: 1.0599 - acc: 0.467 - ETA: 1s - loss: 1.0602 - acc: 0.466 - ETA: 0s - loss: 1.0593 - acc: 0.467 - ETA: 0s - loss: 1.0596 - acc: 0.467 - ETA: 0s - loss: 1.0588 - acc: 0.469 - ETA: 0s - loss: 1.0591 - acc: 0.468 - ETA: 0s - loss: 1.0583 - acc: 0.469 - ETA: 0s - loss: 1.0581 - acc: 0.470 - ETA: 0s - loss: 1.0594 - acc: 0.468 - ETA: 0s - loss: 1.0599 - acc: 0.467 - ETA: 0s - loss: 1.0603 - acc: 0.466 - ETA: 0s - loss: 1.0601 - acc: 0.466 - ETA: 0s - loss: 1.0606 - acc: 0.465 - ETA: 0s - loss: 1.0604 - acc: 0.465 - ETA: 0s - loss: 1.0605 - acc: 0.465 - ETA: 0s - loss: 1.0604 - acc: 0.465 - ETA: 0s - loss: 1.0609 - acc: 0.465 - ETA: 0s - loss: 1.0604 - acc: 0.465 - ETA: 0s - loss: 1.0609 - acc: 0.464 - ETA: 0s - loss: 1.0609 - acc: 0.465 - ETA: 0s - loss: 1.0611 - acc: 0.464 - 4s 495us/sample - loss: 1.0611 - acc: 0.4643 - val_loss: 1.0557 - val_acc: 0.4588\n",
      "Epoch 49/100\n",
      "7917/7917 [==============================] - ETA: 3s - loss: 1.1152 - acc: 0.350 - ETA: 5s - loss: 1.0803 - acc: 0.430 - ETA: 5s - loss: 1.0913 - acc: 0.411 - ETA: 5s - loss: 1.0960 - acc: 0.408 - ETA: 4s - loss: 1.0805 - acc: 0.429 - ETA: 4s - loss: 1.0729 - acc: 0.443 - ETA: 4s - loss: 1.0574 - acc: 0.470 - ETA: 3s - loss: 1.0547 - acc: 0.477 - ETA: 3s - loss: 1.0540 - acc: 0.478 - ETA: 3s - loss: 1.0489 - acc: 0.484 - ETA: 3s - loss: 1.0516 - acc: 0.479 - ETA: 3s - loss: 1.0527 - acc: 0.477 - ETA: 3s - loss: 1.0553 - acc: 0.474 - ETA: 3s - loss: 1.0543 - acc: 0.475 - ETA: 3s - loss: 1.0531 - acc: 0.477 - ETA: 3s - loss: 1.0562 - acc: 0.472 - ETA: 3s - loss: 1.0556 - acc: 0.473 - ETA: 2s - loss: 1.0540 - acc: 0.475 - ETA: 2s - loss: 1.0540 - acc: 0.476 - ETA: 2s - loss: 1.0537 - acc: 0.475 - ETA: 2s - loss: 1.0553 - acc: 0.471 - ETA: 2s - loss: 1.0534 - acc: 0.473 - ETA: 2s - loss: 1.0554 - acc: 0.470 - ETA: 2s - loss: 1.0561 - acc: 0.470 - ETA: 2s - loss: 1.0571 - acc: 0.468 - ETA: 2s - loss: 1.0563 - acc: 0.468 - ETA: 2s - loss: 1.0569 - acc: 0.467 - ETA: 2s - loss: 1.0554 - acc: 0.471 - ETA: 2s - loss: 1.0548 - acc: 0.472 - ETA: 2s - loss: 1.0540 - acc: 0.472 - ETA: 2s - loss: 1.0520 - acc: 0.477 - ETA: 2s - loss: 1.0513 - acc: 0.478 - ETA: 2s - loss: 1.0528 - acc: 0.475 - ETA: 2s - loss: 1.0543 - acc: 0.471 - ETA: 1s - loss: 1.0544 - acc: 0.472 - ETA: 1s - loss: 1.0559 - acc: 0.469 - ETA: 1s - loss: 1.0561 - acc: 0.468 - ETA: 1s - loss: 1.0578 - acc: 0.466 - ETA: 1s - loss: 1.0589 - acc: 0.464 - ETA: 1s - loss: 1.0584 - acc: 0.466 - ETA: 1s - loss: 1.0582 - acc: 0.466 - ETA: 1s - loss: 1.0573 - acc: 0.468 - ETA: 1s - loss: 1.0573 - acc: 0.469 - ETA: 1s - loss: 1.0573 - acc: 0.469 - ETA: 1s - loss: 1.0569 - acc: 0.469 - ETA: 1s - loss: 1.0574 - acc: 0.468 - ETA: 1s - loss: 1.0576 - acc: 0.468 - ETA: 1s - loss: 1.0573 - acc: 0.468 - ETA: 1s - loss: 1.0580 - acc: 0.466 - ETA: 1s - loss: 1.0582 - acc: 0.466 - ETA: 1s - loss: 1.0580 - acc: 0.466 - ETA: 1s - loss: 1.0590 - acc: 0.465 - ETA: 1s - loss: 1.0595 - acc: 0.464 - ETA: 1s - loss: 1.0592 - acc: 0.464 - ETA: 0s - loss: 1.0593 - acc: 0.464 - ETA: 0s - loss: 1.0585 - acc: 0.466 - ETA: 0s - loss: 1.0583 - acc: 0.466 - ETA: 0s - loss: 1.0579 - acc: 0.466 - ETA: 0s - loss: 1.0579 - acc: 0.466 - ETA: 0s - loss: 1.0585 - acc: 0.466 - ETA: 0s - loss: 1.0588 - acc: 0.465 - ETA: 0s - loss: 1.0597 - acc: 0.464 - ETA: 0s - loss: 1.0594 - acc: 0.465 - ETA: 0s - loss: 1.0590 - acc: 0.465 - ETA: 0s - loss: 1.0591 - acc: 0.464 - ETA: 0s - loss: 1.0588 - acc: 0.465 - ETA: 0s - loss: 1.0591 - acc: 0.464 - ETA: 0s - loss: 1.0586 - acc: 0.465 - ETA: 0s - loss: 1.0589 - acc: 0.464 - ETA: 0s - loss: 1.0587 - acc: 0.464 - ETA: 0s - loss: 1.0592 - acc: 0.464 - ETA: 0s - loss: 1.0589 - acc: 0.464 - ETA: 0s - loss: 1.0589 - acc: 0.464 - ETA: 0s - loss: 1.0590 - acc: 0.464 - 4s 546us/sample - loss: 1.0589 - acc: 0.4644 - val_loss: 1.0556 - val_acc: 0.4588\n"
     ]
    },
    {
     "name": "stdout",
     "output_type": "stream",
     "text": [
      "Epoch 50/100\n",
      "7917/7917 [==============================] - ETA: 4s - loss: 1.0040 - acc: 0.550 - ETA: 3s - loss: 1.0570 - acc: 0.464 - ETA: 3s - loss: 1.0652 - acc: 0.453 - ETA: 3s - loss: 1.0713 - acc: 0.438 - ETA: 2s - loss: 1.0637 - acc: 0.451 - ETA: 2s - loss: 1.0631 - acc: 0.451 - ETA: 2s - loss: 1.0649 - acc: 0.448 - ETA: 2s - loss: 1.0673 - acc: 0.441 - ETA: 2s - loss: 1.0632 - acc: 0.450 - ETA: 2s - loss: 1.0620 - acc: 0.451 - ETA: 2s - loss: 1.0614 - acc: 0.455 - ETA: 2s - loss: 1.0563 - acc: 0.466 - ETA: 2s - loss: 1.0602 - acc: 0.459 - ETA: 2s - loss: 1.0620 - acc: 0.456 - ETA: 2s - loss: 1.0612 - acc: 0.457 - ETA: 2s - loss: 1.0617 - acc: 0.455 - ETA: 2s - loss: 1.0608 - acc: 0.456 - ETA: 2s - loss: 1.0608 - acc: 0.457 - ETA: 2s - loss: 1.0612 - acc: 0.457 - ETA: 2s - loss: 1.0610 - acc: 0.457 - ETA: 2s - loss: 1.0617 - acc: 0.456 - ETA: 2s - loss: 1.0615 - acc: 0.458 - ETA: 2s - loss: 1.0623 - acc: 0.456 - ETA: 2s - loss: 1.0597 - acc: 0.461 - ETA: 2s - loss: 1.0594 - acc: 0.461 - ETA: 2s - loss: 1.0593 - acc: 0.461 - ETA: 2s - loss: 1.0590 - acc: 0.461 - ETA: 2s - loss: 1.0590 - acc: 0.461 - ETA: 1s - loss: 1.0597 - acc: 0.461 - ETA: 1s - loss: 1.0599 - acc: 0.461 - ETA: 1s - loss: 1.0618 - acc: 0.459 - ETA: 1s - loss: 1.0620 - acc: 0.459 - ETA: 1s - loss: 1.0608 - acc: 0.462 - ETA: 1s - loss: 1.0603 - acc: 0.463 - ETA: 1s - loss: 1.0586 - acc: 0.465 - ETA: 1s - loss: 1.0595 - acc: 0.464 - ETA: 1s - loss: 1.0599 - acc: 0.463 - ETA: 1s - loss: 1.0597 - acc: 0.464 - ETA: 1s - loss: 1.0599 - acc: 0.464 - ETA: 1s - loss: 1.0599 - acc: 0.464 - ETA: 1s - loss: 1.0599 - acc: 0.464 - ETA: 1s - loss: 1.0606 - acc: 0.463 - ETA: 1s - loss: 1.0602 - acc: 0.464 - ETA: 1s - loss: 1.0605 - acc: 0.464 - ETA: 1s - loss: 1.0601 - acc: 0.463 - ETA: 1s - loss: 1.0599 - acc: 0.464 - ETA: 1s - loss: 1.0598 - acc: 0.464 - ETA: 0s - loss: 1.0596 - acc: 0.464 - ETA: 0s - loss: 1.0592 - acc: 0.465 - ETA: 0s - loss: 1.0598 - acc: 0.464 - ETA: 0s - loss: 1.0611 - acc: 0.462 - ETA: 0s - loss: 1.0614 - acc: 0.461 - ETA: 0s - loss: 1.0610 - acc: 0.462 - ETA: 0s - loss: 1.0610 - acc: 0.462 - ETA: 0s - loss: 1.0619 - acc: 0.460 - ETA: 0s - loss: 1.0624 - acc: 0.459 - ETA: 0s - loss: 1.0624 - acc: 0.459 - ETA: 0s - loss: 1.0622 - acc: 0.460 - ETA: 0s - loss: 1.0619 - acc: 0.461 - ETA: 0s - loss: 1.0612 - acc: 0.462 - ETA: 0s - loss: 1.0603 - acc: 0.464 - ETA: 0s - loss: 1.0603 - acc: 0.464 - ETA: 0s - loss: 1.0605 - acc: 0.463 - ETA: 0s - loss: 1.0610 - acc: 0.463 - ETA: 0s - loss: 1.0603 - acc: 0.464 - 4s 490us/sample - loss: 1.0603 - acc: 0.4646 - val_loss: 1.0554 - val_acc: 0.4588\n",
      "Epoch 51/100\n",
      "7917/7917 [==============================] - ETA: 4s - loss: 0.9814 - acc: 0.650 - ETA: 3s - loss: 1.0657 - acc: 0.462 - ETA: 3s - loss: 1.0683 - acc: 0.453 - ETA: 3s - loss: 1.0689 - acc: 0.452 - ETA: 3s - loss: 1.0735 - acc: 0.444 - ETA: 3s - loss: 1.0721 - acc: 0.445 - ETA: 3s - loss: 1.0700 - acc: 0.450 - ETA: 3s - loss: 1.0657 - acc: 0.455 - ETA: 3s - loss: 1.0655 - acc: 0.456 - ETA: 3s - loss: 1.0699 - acc: 0.449 - ETA: 3s - loss: 1.0672 - acc: 0.454 - ETA: 2s - loss: 1.0670 - acc: 0.455 - ETA: 2s - loss: 1.0670 - acc: 0.454 - ETA: 3s - loss: 1.0667 - acc: 0.454 - ETA: 3s - loss: 1.0669 - acc: 0.455 - ETA: 3s - loss: 1.0643 - acc: 0.458 - ETA: 2s - loss: 1.0646 - acc: 0.457 - ETA: 2s - loss: 1.0643 - acc: 0.457 - ETA: 2s - loss: 1.0622 - acc: 0.461 - ETA: 2s - loss: 1.0590 - acc: 0.467 - ETA: 2s - loss: 1.0622 - acc: 0.461 - ETA: 2s - loss: 1.0614 - acc: 0.462 - ETA: 2s - loss: 1.0618 - acc: 0.461 - ETA: 2s - loss: 1.0609 - acc: 0.462 - ETA: 2s - loss: 1.0608 - acc: 0.462 - ETA: 2s - loss: 1.0615 - acc: 0.462 - ETA: 2s - loss: 1.0605 - acc: 0.463 - ETA: 2s - loss: 1.0584 - acc: 0.467 - ETA: 2s - loss: 1.0576 - acc: 0.469 - ETA: 2s - loss: 1.0568 - acc: 0.471 - ETA: 2s - loss: 1.0578 - acc: 0.470 - ETA: 2s - loss: 1.0577 - acc: 0.470 - ETA: 2s - loss: 1.0585 - acc: 0.469 - ETA: 1s - loss: 1.0580 - acc: 0.470 - ETA: 1s - loss: 1.0581 - acc: 0.470 - ETA: 1s - loss: 1.0598 - acc: 0.466 - ETA: 1s - loss: 1.0588 - acc: 0.467 - ETA: 1s - loss: 1.0593 - acc: 0.467 - ETA: 1s - loss: 1.0592 - acc: 0.466 - ETA: 1s - loss: 1.0594 - acc: 0.466 - ETA: 1s - loss: 1.0590 - acc: 0.467 - ETA: 1s - loss: 1.0591 - acc: 0.466 - ETA: 1s - loss: 1.0602 - acc: 0.465 - ETA: 1s - loss: 1.0602 - acc: 0.465 - ETA: 1s - loss: 1.0606 - acc: 0.464 - ETA: 1s - loss: 1.0608 - acc: 0.464 - ETA: 1s - loss: 1.0598 - acc: 0.466 - ETA: 1s - loss: 1.0599 - acc: 0.466 - ETA: 1s - loss: 1.0595 - acc: 0.466 - ETA: 0s - loss: 1.0597 - acc: 0.466 - ETA: 0s - loss: 1.0595 - acc: 0.466 - ETA: 0s - loss: 1.0606 - acc: 0.464 - ETA: 0s - loss: 1.0603 - acc: 0.465 - ETA: 0s - loss: 1.0603 - acc: 0.465 - ETA: 0s - loss: 1.0605 - acc: 0.464 - ETA: 0s - loss: 1.0600 - acc: 0.465 - ETA: 0s - loss: 1.0601 - acc: 0.465 - ETA: 0s - loss: 1.0602 - acc: 0.465 - ETA: 0s - loss: 1.0599 - acc: 0.465 - ETA: 0s - loss: 1.0593 - acc: 0.466 - ETA: 0s - loss: 1.0598 - acc: 0.465 - ETA: 0s - loss: 1.0597 - acc: 0.466 - ETA: 0s - loss: 1.0599 - acc: 0.466 - ETA: 0s - loss: 1.0605 - acc: 0.465 - ETA: 0s - loss: 1.0605 - acc: 0.464 - ETA: 0s - loss: 1.0605 - acc: 0.465 - ETA: 0s - loss: 1.0605 - acc: 0.464 - 4s 497us/sample - loss: 1.0607 - acc: 0.4644 - val_loss: 1.0553 - val_acc: 0.4588\n",
      "Epoch 52/100\n",
      "7917/7917 [==============================] - ETA: 4s - loss: 1.1022 - acc: 0.400 - ETA: 3s - loss: 1.0621 - acc: 0.456 - ETA: 2s - loss: 1.0663 - acc: 0.456 - ETA: 4s - loss: 1.0587 - acc: 0.468 - ETA: 4s - loss: 1.0508 - acc: 0.476 - ETA: 5s - loss: 1.0489 - acc: 0.478 - ETA: 4s - loss: 1.0481 - acc: 0.484 - ETA: 4s - loss: 1.0580 - acc: 0.467 - ETA: 4s - loss: 1.0553 - acc: 0.470 - ETA: 4s - loss: 1.0530 - acc: 0.472 - ETA: 3s - loss: 1.0488 - acc: 0.481 - ETA: 3s - loss: 1.0504 - acc: 0.477 - ETA: 3s - loss: 1.0471 - acc: 0.484 - ETA: 3s - loss: 1.0479 - acc: 0.482 - ETA: 3s - loss: 1.0438 - acc: 0.489 - ETA: 3s - loss: 1.0492 - acc: 0.482 - ETA: 3s - loss: 1.0479 - acc: 0.484 - ETA: 3s - loss: 1.0466 - acc: 0.487 - ETA: 3s - loss: 1.0478 - acc: 0.485 - ETA: 3s - loss: 1.0493 - acc: 0.482 - ETA: 3s - loss: 1.0519 - acc: 0.478 - ETA: 2s - loss: 1.0535 - acc: 0.476 - ETA: 2s - loss: 1.0529 - acc: 0.478 - ETA: 2s - loss: 1.0536 - acc: 0.478 - ETA: 2s - loss: 1.0530 - acc: 0.478 - ETA: 2s - loss: 1.0531 - acc: 0.478 - ETA: 2s - loss: 1.0544 - acc: 0.475 - ETA: 2s - loss: 1.0551 - acc: 0.474 - ETA: 2s - loss: 1.0554 - acc: 0.474 - ETA: 2s - loss: 1.0547 - acc: 0.475 - ETA: 2s - loss: 1.0553 - acc: 0.474 - ETA: 2s - loss: 1.0548 - acc: 0.474 - ETA: 2s - loss: 1.0546 - acc: 0.475 - ETA: 2s - loss: 1.0556 - acc: 0.473 - ETA: 2s - loss: 1.0560 - acc: 0.473 - ETA: 2s - loss: 1.0557 - acc: 0.474 - ETA: 2s - loss: 1.0558 - acc: 0.473 - ETA: 2s - loss: 1.0565 - acc: 0.472 - ETA: 2s - loss: 1.0564 - acc: 0.472 - ETA: 2s - loss: 1.0571 - acc: 0.470 - ETA: 2s - loss: 1.0558 - acc: 0.473 - ETA: 2s - loss: 1.0575 - acc: 0.470 - ETA: 2s - loss: 1.0589 - acc: 0.468 - ETA: 2s - loss: 1.0582 - acc: 0.469 - ETA: 1s - loss: 1.0582 - acc: 0.470 - ETA: 1s - loss: 1.0583 - acc: 0.469 - ETA: 1s - loss: 1.0593 - acc: 0.468 - ETA: 1s - loss: 1.0597 - acc: 0.468 - ETA: 1s - loss: 1.0597 - acc: 0.468 - ETA: 1s - loss: 1.0596 - acc: 0.468 - ETA: 1s - loss: 1.0608 - acc: 0.465 - ETA: 1s - loss: 1.0617 - acc: 0.464 - ETA: 1s - loss: 1.0613 - acc: 0.465 - ETA: 1s - loss: 1.0605 - acc: 0.467 - ETA: 1s - loss: 1.0599 - acc: 0.468 - ETA: 1s - loss: 1.0609 - acc: 0.466 - ETA: 1s - loss: 1.0620 - acc: 0.465 - ETA: 1s - loss: 1.0620 - acc: 0.464 - ETA: 0s - loss: 1.0624 - acc: 0.463 - ETA: 0s - loss: 1.0625 - acc: 0.463 - ETA: 0s - loss: 1.0622 - acc: 0.464 - ETA: 0s - loss: 1.0620 - acc: 0.465 - ETA: 0s - loss: 1.0625 - acc: 0.464 - ETA: 0s - loss: 1.0628 - acc: 0.463 - ETA: 0s - loss: 1.0633 - acc: 0.463 - ETA: 0s - loss: 1.0624 - acc: 0.464 - ETA: 0s - loss: 1.0625 - acc: 0.464 - ETA: 0s - loss: 1.0631 - acc: 0.462 - ETA: 0s - loss: 1.0630 - acc: 0.462 - ETA: 0s - loss: 1.0634 - acc: 0.462 - ETA: 0s - loss: 1.0626 - acc: 0.463 - ETA: 0s - loss: 1.0622 - acc: 0.464 - ETA: 0s - loss: 1.0620 - acc: 0.465 - 4s 547us/sample - loss: 1.0622 - acc: 0.4644 - val_loss: 1.0552 - val_acc: 0.4588\n"
     ]
    },
    {
     "name": "stdout",
     "output_type": "stream",
     "text": [
      "Epoch 53/100\n",
      "7917/7917 [==============================] - ETA: 5s - loss: 0.9557 - acc: 0.700 - ETA: 3s - loss: 1.0048 - acc: 0.550 - ETA: 3s - loss: 1.0317 - acc: 0.507 - ETA: 3s - loss: 1.0262 - acc: 0.520 - ETA: 3s - loss: 1.0205 - acc: 0.528 - ETA: 3s - loss: 1.0223 - acc: 0.528 - ETA: 3s - loss: 1.0285 - acc: 0.511 - ETA: 2s - loss: 1.0343 - acc: 0.506 - ETA: 2s - loss: 1.0401 - acc: 0.495 - ETA: 2s - loss: 1.0431 - acc: 0.490 - ETA: 2s - loss: 1.0398 - acc: 0.495 - ETA: 2s - loss: 1.0412 - acc: 0.491 - ETA: 2s - loss: 1.0450 - acc: 0.485 - ETA: 2s - loss: 1.0486 - acc: 0.479 - ETA: 2s - loss: 1.0498 - acc: 0.478 - ETA: 2s - loss: 1.0482 - acc: 0.481 - ETA: 2s - loss: 1.0484 - acc: 0.482 - ETA: 2s - loss: 1.0474 - acc: 0.484 - ETA: 2s - loss: 1.0477 - acc: 0.483 - ETA: 2s - loss: 1.0501 - acc: 0.478 - ETA: 2s - loss: 1.0511 - acc: 0.477 - ETA: 2s - loss: 1.0502 - acc: 0.478 - ETA: 2s - loss: 1.0501 - acc: 0.479 - ETA: 2s - loss: 1.0521 - acc: 0.475 - ETA: 2s - loss: 1.0529 - acc: 0.474 - ETA: 2s - loss: 1.0531 - acc: 0.472 - ETA: 2s - loss: 1.0535 - acc: 0.472 - ETA: 2s - loss: 1.0539 - acc: 0.471 - ETA: 2s - loss: 1.0538 - acc: 0.472 - ETA: 2s - loss: 1.0531 - acc: 0.473 - ETA: 1s - loss: 1.0537 - acc: 0.471 - ETA: 1s - loss: 1.0536 - acc: 0.472 - ETA: 1s - loss: 1.0535 - acc: 0.472 - ETA: 1s - loss: 1.0540 - acc: 0.471 - ETA: 1s - loss: 1.0555 - acc: 0.468 - ETA: 1s - loss: 1.0565 - acc: 0.467 - ETA: 1s - loss: 1.0562 - acc: 0.467 - ETA: 1s - loss: 1.0572 - acc: 0.465 - ETA: 1s - loss: 1.0572 - acc: 0.466 - ETA: 1s - loss: 1.0567 - acc: 0.467 - ETA: 1s - loss: 1.0562 - acc: 0.468 - ETA: 1s - loss: 1.0576 - acc: 0.466 - ETA: 1s - loss: 1.0577 - acc: 0.467 - ETA: 1s - loss: 1.0575 - acc: 0.467 - ETA: 1s - loss: 1.0589 - acc: 0.465 - ETA: 1s - loss: 1.0591 - acc: 0.465 - ETA: 1s - loss: 1.0591 - acc: 0.464 - ETA: 0s - loss: 1.0595 - acc: 0.464 - ETA: 0s - loss: 1.0596 - acc: 0.464 - ETA: 0s - loss: 1.0595 - acc: 0.464 - ETA: 0s - loss: 1.0592 - acc: 0.465 - ETA: 0s - loss: 1.0591 - acc: 0.465 - ETA: 0s - loss: 1.0595 - acc: 0.466 - ETA: 0s - loss: 1.0592 - acc: 0.466 - ETA: 0s - loss: 1.0592 - acc: 0.466 - ETA: 0s - loss: 1.0592 - acc: 0.466 - ETA: 0s - loss: 1.0592 - acc: 0.466 - ETA: 0s - loss: 1.0588 - acc: 0.466 - ETA: 0s - loss: 1.0587 - acc: 0.466 - ETA: 0s - loss: 1.0595 - acc: 0.465 - ETA: 0s - loss: 1.0595 - acc: 0.465 - ETA: 0s - loss: 1.0590 - acc: 0.466 - ETA: 0s - loss: 1.0592 - acc: 0.466 - ETA: 0s - loss: 1.0595 - acc: 0.465 - ETA: 0s - loss: 1.0600 - acc: 0.464 - ETA: 0s - loss: 1.0603 - acc: 0.464 - ETA: 0s - loss: 1.0601 - acc: 0.464 - 4s 503us/sample - loss: 1.0600 - acc: 0.4643 - val_loss: 1.0550 - val_acc: 0.4588\n",
      "Epoch 54/100\n",
      "7917/7917 [==============================] - ETA: 2s - loss: 0.9755 - acc: 0.600 - ETA: 2s - loss: 1.0592 - acc: 0.462 - ETA: 2s - loss: 1.0603 - acc: 0.463 - ETA: 2s - loss: 1.0609 - acc: 0.459 - ETA: 2s - loss: 1.0575 - acc: 0.467 - ETA: 2s - loss: 1.0524 - acc: 0.477 - ETA: 2s - loss: 1.0501 - acc: 0.481 - ETA: 2s - loss: 1.0551 - acc: 0.472 - ETA: 2s - loss: 1.0611 - acc: 0.463 - ETA: 2s - loss: 1.0605 - acc: 0.465 - ETA: 2s - loss: 1.0588 - acc: 0.467 - ETA: 2s - loss: 1.0592 - acc: 0.467 - ETA: 2s - loss: 1.0604 - acc: 0.464 - ETA: 2s - loss: 1.0570 - acc: 0.468 - ETA: 2s - loss: 1.0584 - acc: 0.464 - ETA: 2s - loss: 1.0592 - acc: 0.463 - ETA: 2s - loss: 1.0582 - acc: 0.464 - ETA: 2s - loss: 1.0570 - acc: 0.467 - ETA: 2s - loss: 1.0575 - acc: 0.464 - ETA: 2s - loss: 1.0576 - acc: 0.463 - ETA: 2s - loss: 1.0591 - acc: 0.462 - ETA: 2s - loss: 1.0590 - acc: 0.463 - ETA: 2s - loss: 1.0586 - acc: 0.463 - ETA: 2s - loss: 1.0580 - acc: 0.464 - ETA: 2s - loss: 1.0579 - acc: 0.465 - ETA: 2s - loss: 1.0571 - acc: 0.466 - ETA: 2s - loss: 1.0581 - acc: 0.464 - ETA: 2s - loss: 1.0581 - acc: 0.464 - ETA: 1s - loss: 1.0572 - acc: 0.465 - ETA: 1s - loss: 1.0578 - acc: 0.464 - ETA: 1s - loss: 1.0580 - acc: 0.464 - ETA: 1s - loss: 1.0576 - acc: 0.464 - ETA: 1s - loss: 1.0575 - acc: 0.464 - ETA: 1s - loss: 1.0578 - acc: 0.463 - ETA: 1s - loss: 1.0577 - acc: 0.463 - ETA: 1s - loss: 1.0583 - acc: 0.462 - ETA: 1s - loss: 1.0581 - acc: 0.462 - ETA: 1s - loss: 1.0595 - acc: 0.460 - ETA: 1s - loss: 1.0587 - acc: 0.461 - ETA: 1s - loss: 1.0592 - acc: 0.461 - ETA: 1s - loss: 1.0594 - acc: 0.460 - ETA: 1s - loss: 1.0596 - acc: 0.461 - ETA: 1s - loss: 1.0593 - acc: 0.461 - ETA: 1s - loss: 1.0599 - acc: 0.461 - ETA: 1s - loss: 1.0594 - acc: 0.462 - ETA: 1s - loss: 1.0595 - acc: 0.462 - ETA: 1s - loss: 1.0592 - acc: 0.462 - ETA: 1s - loss: 1.0601 - acc: 0.461 - ETA: 1s - loss: 1.0603 - acc: 0.460 - ETA: 0s - loss: 1.0609 - acc: 0.459 - ETA: 0s - loss: 1.0600 - acc: 0.461 - ETA: 0s - loss: 1.0608 - acc: 0.460 - ETA: 0s - loss: 1.0613 - acc: 0.459 - ETA: 0s - loss: 1.0611 - acc: 0.460 - ETA: 0s - loss: 1.0605 - acc: 0.462 - ETA: 0s - loss: 1.0604 - acc: 0.462 - ETA: 0s - loss: 1.0612 - acc: 0.461 - ETA: 0s - loss: 1.0610 - acc: 0.461 - ETA: 0s - loss: 1.0608 - acc: 0.462 - ETA: 0s - loss: 1.0607 - acc: 0.462 - ETA: 0s - loss: 1.0606 - acc: 0.462 - ETA: 0s - loss: 1.0608 - acc: 0.461 - ETA: 0s - loss: 1.0606 - acc: 0.462 - ETA: 0s - loss: 1.0604 - acc: 0.462 - ETA: 0s - loss: 1.0603 - acc: 0.462 - ETA: 0s - loss: 1.0590 - acc: 0.464 - ETA: 0s - loss: 1.0592 - acc: 0.464 - ETA: 0s - loss: 1.0591 - acc: 0.464 - 4s 501us/sample - loss: 1.0590 - acc: 0.4643 - val_loss: 1.0549 - val_acc: 0.4588\n",
      "Epoch 55/100\n",
      "7917/7917 [==============================] - ETA: 3s - loss: 1.0116 - acc: 0.550 - ETA: 2s - loss: 1.0165 - acc: 0.550 - ETA: 2s - loss: 1.0453 - acc: 0.500 - ETA: 2s - loss: 1.0539 - acc: 0.483 - ETA: 2s - loss: 1.0662 - acc: 0.462 - ETA: 2s - loss: 1.0563 - acc: 0.472 - ETA: 2s - loss: 1.0503 - acc: 0.484 - ETA: 2s - loss: 1.0542 - acc: 0.475 - ETA: 2s - loss: 1.0512 - acc: 0.480 - ETA: 2s - loss: 1.0533 - acc: 0.476 - ETA: 2s - loss: 1.0567 - acc: 0.471 - ETA: 2s - loss: 1.0555 - acc: 0.473 - ETA: 2s - loss: 1.0557 - acc: 0.473 - ETA: 2s - loss: 1.0574 - acc: 0.469 - ETA: 2s - loss: 1.0550 - acc: 0.472 - ETA: 2s - loss: 1.0527 - acc: 0.476 - ETA: 2s - loss: 1.0549 - acc: 0.474 - ETA: 2s - loss: 1.0537 - acc: 0.474 - ETA: 2s - loss: 1.0540 - acc: 0.474 - ETA: 2s - loss: 1.0538 - acc: 0.474 - ETA: 2s - loss: 1.0565 - acc: 0.469 - ETA: 2s - loss: 1.0562 - acc: 0.469 - ETA: 2s - loss: 1.0564 - acc: 0.470 - ETA: 2s - loss: 1.0574 - acc: 0.468 - ETA: 2s - loss: 1.0568 - acc: 0.469 - ETA: 1s - loss: 1.0562 - acc: 0.469 - ETA: 1s - loss: 1.0562 - acc: 0.470 - ETA: 1s - loss: 1.0582 - acc: 0.467 - ETA: 1s - loss: 1.0582 - acc: 0.467 - ETA: 1s - loss: 1.0580 - acc: 0.467 - ETA: 1s - loss: 1.0582 - acc: 0.466 - ETA: 1s - loss: 1.0582 - acc: 0.466 - ETA: 1s - loss: 1.0586 - acc: 0.465 - ETA: 1s - loss: 1.0578 - acc: 0.466 - ETA: 1s - loss: 1.0586 - acc: 0.464 - ETA: 1s - loss: 1.0598 - acc: 0.462 - ETA: 1s - loss: 1.0599 - acc: 0.461 - ETA: 1s - loss: 1.0601 - acc: 0.461 - ETA: 1s - loss: 1.0598 - acc: 0.461 - ETA: 1s - loss: 1.0606 - acc: 0.460 - ETA: 1s - loss: 1.0609 - acc: 0.459 - ETA: 1s - loss: 1.0600 - acc: 0.460 - ETA: 1s - loss: 1.0600 - acc: 0.461 - ETA: 1s - loss: 1.0594 - acc: 0.462 - ETA: 1s - loss: 1.0594 - acc: 0.462 - ETA: 0s - loss: 1.0590 - acc: 0.463 - ETA: 0s - loss: 1.0585 - acc: 0.464 - ETA: 0s - loss: 1.0590 - acc: 0.463 - ETA: 0s - loss: 1.0592 - acc: 0.463 - ETA: 0s - loss: 1.0601 - acc: 0.462 - ETA: 0s - loss: 1.0603 - acc: 0.461 - ETA: 0s - loss: 1.0601 - acc: 0.462 - ETA: 0s - loss: 1.0597 - acc: 0.462 - ETA: 0s - loss: 1.0596 - acc: 0.462 - ETA: 0s - loss: 1.0592 - acc: 0.463 - ETA: 0s - loss: 1.0598 - acc: 0.462 - ETA: 0s - loss: 1.0598 - acc: 0.461 - ETA: 0s - loss: 1.0599 - acc: 0.462 - ETA: 0s - loss: 1.0598 - acc: 0.462 - ETA: 0s - loss: 1.0597 - acc: 0.462 - ETA: 0s - loss: 1.0589 - acc: 0.463 - ETA: 0s - loss: 1.0585 - acc: 0.464 - ETA: 0s - loss: 1.0589 - acc: 0.463 - ETA: 0s - loss: 1.0591 - acc: 0.462 - ETA: 0s - loss: 1.0591 - acc: 0.463 - 4s 483us/sample - loss: 1.0586 - acc: 0.4642 - val_loss: 1.0548 - val_acc: 0.4588\n",
      "Epoch 56/100\n",
      "7917/7917 [==============================] - ETA: 7s - loss: 1.0964 - acc: 0.400 - ETA: 3s - loss: 1.0424 - acc: 0.487 - ETA: 3s - loss: 1.0513 - acc: 0.471 - ETA: 3s - loss: 1.0539 - acc: 0.473 - ETA: 3s - loss: 1.0503 - acc: 0.483 - ETA: 3s - loss: 1.0518 - acc: 0.481 - ETA: 3s - loss: 1.0528 - acc: 0.476 - ETA: 2s - loss: 1.0524 - acc: 0.473 - ETA: 2s - loss: 1.0549 - acc: 0.469 - ETA: 2s - loss: 1.0532 - acc: 0.474 - ETA: 2s - loss: 1.0552 - acc: 0.470 - ETA: 2s - loss: 1.0548 - acc: 0.469 - ETA: 2s - loss: 1.0587 - acc: 0.462 - ETA: 2s - loss: 1.0585 - acc: 0.462 - ETA: 2s - loss: 1.0600 - acc: 0.461 - ETA: 2s - loss: 1.0605 - acc: 0.460 - ETA: 2s - loss: 1.0577 - acc: 0.465 - ETA: 2s - loss: 1.0582 - acc: 0.463 - ETA: 2s - loss: 1.0599 - acc: 0.461 - ETA: 2s - loss: 1.0586 - acc: 0.464 - ETA: 2s - loss: 1.0603 - acc: 0.461 - ETA: 2s - loss: 1.0610 - acc: 0.461 - ETA: 2s - loss: 1.0585 - acc: 0.465 - ETA: 2s - loss: 1.0585 - acc: 0.466 - ETA: 2s - loss: 1.0599 - acc: 0.463 - ETA: 2s - loss: 1.0621 - acc: 0.460 - ETA: 2s - loss: 1.0615 - acc: 0.461 - ETA: 2s - loss: 1.0608 - acc: 0.462 - ETA: 2s - loss: 1.0615 - acc: 0.461 - ETA: 2s - loss: 1.0628 - acc: 0.458 - ETA: 2s - loss: 1.0622 - acc: 0.459 - ETA: 2s - loss: 1.0612 - acc: 0.462 - ETA: 2s - loss: 1.0604 - acc: 0.463 - ETA: 2s - loss: 1.0607 - acc: 0.462 - ETA: 1s - loss: 1.0601 - acc: 0.463 - ETA: 1s - loss: 1.0606 - acc: 0.462 - ETA: 1s - loss: 1.0598 - acc: 0.464 - ETA: 1s - loss: 1.0612 - acc: 0.462 - ETA: 1s - loss: 1.0604 - acc: 0.463 - ETA: 1s - loss: 1.0594 - acc: 0.464 - ETA: 1s - loss: 1.0598 - acc: 0.463 - ETA: 1s - loss: 1.0599 - acc: 0.462 - ETA: 1s - loss: 1.0591 - acc: 0.464 - ETA: 1s - loss: 1.0595 - acc: 0.463 - ETA: 1s - loss: 1.0593 - acc: 0.463 - ETA: 1s - loss: 1.0595 - acc: 0.462 - ETA: 1s - loss: 1.0597 - acc: 0.462 - ETA: 1s - loss: 1.0595 - acc: 0.462 - ETA: 1s - loss: 1.0590 - acc: 0.463 - ETA: 1s - loss: 1.0585 - acc: 0.464 - ETA: 1s - loss: 1.0583 - acc: 0.464 - ETA: 1s - loss: 1.0594 - acc: 0.462 - ETA: 0s - loss: 1.0595 - acc: 0.462 - ETA: 0s - loss: 1.0597 - acc: 0.462 - ETA: 0s - loss: 1.0595 - acc: 0.463 - ETA: 0s - loss: 1.0595 - acc: 0.462 - ETA: 0s - loss: 1.0599 - acc: 0.462 - ETA: 0s - loss: 1.0598 - acc: 0.462 - ETA: 0s - loss: 1.0595 - acc: 0.462 - ETA: 0s - loss: 1.0592 - acc: 0.463 - ETA: 0s - loss: 1.0596 - acc: 0.462 - ETA: 0s - loss: 1.0596 - acc: 0.463 - ETA: 0s - loss: 1.0595 - acc: 0.463 - ETA: 0s - loss: 1.0592 - acc: 0.464 - ETA: 0s - loss: 1.0598 - acc: 0.463 - ETA: 0s - loss: 1.0600 - acc: 0.463 - ETA: 0s - loss: 1.0600 - acc: 0.463 - ETA: 0s - loss: 1.0599 - acc: 0.463 - ETA: 0s - loss: 1.0593 - acc: 0.464 - ETA: 0s - loss: 1.0596 - acc: 0.464 - ETA: 0s - loss: 1.0593 - acc: 0.464 - ETA: 0s - loss: 1.0590 - acc: 0.464 - ETA: 0s - loss: 1.0593 - acc: 0.464 - 4s 539us/sample - loss: 1.0591 - acc: 0.4644 - val_loss: 1.0546 - val_acc: 0.4588\n",
      "Epoch 57/100\n",
      "7917/7917 [==============================] - ETA: 3s - loss: 1.0451 - acc: 0.450 - ETA: 3s - loss: 1.0481 - acc: 0.500 - ETA: 3s - loss: 1.0576 - acc: 0.476 - ETA: 3s - loss: 1.0676 - acc: 0.460 - ETA: 3s - loss: 1.0651 - acc: 0.460 - ETA: 2s - loss: 1.0567 - acc: 0.470 - ETA: 2s - loss: 1.0578 - acc: 0.464 - ETA: 2s - loss: 1.0566 - acc: 0.468 - ETA: 2s - loss: 1.0551 - acc: 0.474 - ETA: 2s - loss: 1.0593 - acc: 0.466 - ETA: 2s - loss: 1.0574 - acc: 0.472 - ETA: 2s - loss: 1.0589 - acc: 0.468 - ETA: 2s - loss: 1.0606 - acc: 0.465 - ETA: 2s - loss: 1.0603 - acc: 0.465 - ETA: 2s - loss: 1.0601 - acc: 0.464 - ETA: 2s - loss: 1.0600 - acc: 0.464 - ETA: 2s - loss: 1.0588 - acc: 0.466 - ETA: 2s - loss: 1.0586 - acc: 0.467 - ETA: 2s - loss: 1.0575 - acc: 0.470 - ETA: 2s - loss: 1.0592 - acc: 0.466 - ETA: 2s - loss: 1.0585 - acc: 0.468 - ETA: 2s - loss: 1.0596 - acc: 0.465 - ETA: 2s - loss: 1.0599 - acc: 0.465 - ETA: 2s - loss: 1.0603 - acc: 0.465 - ETA: 2s - loss: 1.0613 - acc: 0.463 - ETA: 2s - loss: 1.0614 - acc: 0.463 - ETA: 2s - loss: 1.0610 - acc: 0.464 - ETA: 2s - loss: 1.0609 - acc: 0.463 - ETA: 2s - loss: 1.0613 - acc: 0.463 - ETA: 2s - loss: 1.0599 - acc: 0.464 - ETA: 1s - loss: 1.0598 - acc: 0.464 - ETA: 1s - loss: 1.0596 - acc: 0.464 - ETA: 1s - loss: 1.0586 - acc: 0.467 - ETA: 1s - loss: 1.0589 - acc: 0.467 - ETA: 1s - loss: 1.0592 - acc: 0.466 - ETA: 1s - loss: 1.0590 - acc: 0.467 - ETA: 1s - loss: 1.0603 - acc: 0.465 - ETA: 1s - loss: 1.0603 - acc: 0.464 - ETA: 1s - loss: 1.0612 - acc: 0.463 - ETA: 1s - loss: 1.0615 - acc: 0.462 - ETA: 1s - loss: 1.0624 - acc: 0.461 - ETA: 1s - loss: 1.0618 - acc: 0.461 - ETA: 1s - loss: 1.0627 - acc: 0.460 - ETA: 1s - loss: 1.0623 - acc: 0.461 - ETA: 1s - loss: 1.0627 - acc: 0.460 - ETA: 1s - loss: 1.0631 - acc: 0.460 - ETA: 1s - loss: 1.0624 - acc: 0.461 - ETA: 1s - loss: 1.0619 - acc: 0.462 - ETA: 0s - loss: 1.0621 - acc: 0.461 - ETA: 0s - loss: 1.0622 - acc: 0.461 - ETA: 0s - loss: 1.0614 - acc: 0.462 - ETA: 0s - loss: 1.0619 - acc: 0.462 - ETA: 0s - loss: 1.0617 - acc: 0.462 - ETA: 0s - loss: 1.0622 - acc: 0.461 - ETA: 0s - loss: 1.0613 - acc: 0.463 - ETA: 0s - loss: 1.0617 - acc: 0.462 - ETA: 0s - loss: 1.0615 - acc: 0.462 - ETA: 0s - loss: 1.0616 - acc: 0.462 - ETA: 0s - loss: 1.0615 - acc: 0.462 - ETA: 0s - loss: 1.0618 - acc: 0.461 - ETA: 0s - loss: 1.0613 - acc: 0.462 - ETA: 0s - loss: 1.0608 - acc: 0.463 - ETA: 0s - loss: 1.0595 - acc: 0.466 - ETA: 0s - loss: 1.0599 - acc: 0.465 - ETA: 0s - loss: 1.0602 - acc: 0.465 - ETA: 0s - loss: 1.0603 - acc: 0.465 - 4s 494us/sample - loss: 1.0606 - acc: 0.4643 - val_loss: 1.0545 - val_acc: 0.4588\n",
      "Epoch 58/100\n",
      "7917/7917 [==============================] - ETA: 4s - loss: 1.0552 - acc: 0.500 - ETA: 4s - loss: 1.1012 - acc: 0.400 - ETA: 4s - loss: 1.0637 - acc: 0.454 - ETA: 4s - loss: 1.0518 - acc: 0.481 - ETA: 4s - loss: 1.0668 - acc: 0.454 - ETA: 3s - loss: 1.0657 - acc: 0.457 - ETA: 3s - loss: 1.0598 - acc: 0.466 - ETA: 3s - loss: 1.0577 - acc: 0.469 - ETA: 3s - loss: 1.0563 - acc: 0.475 - ETA: 3s - loss: 1.0589 - acc: 0.470 - ETA: 3s - loss: 1.0541 - acc: 0.480 - ETA: 3s - loss: 1.0551 - acc: 0.477 - ETA: 3s - loss: 1.0532 - acc: 0.480 - ETA: 3s - loss: 1.0545 - acc: 0.478 - ETA: 2s - loss: 1.0561 - acc: 0.475 - ETA: 2s - loss: 1.0563 - acc: 0.475 - ETA: 2s - loss: 1.0559 - acc: 0.476 - ETA: 2s - loss: 1.0566 - acc: 0.474 - ETA: 2s - loss: 1.0578 - acc: 0.471 - ETA: 2s - loss: 1.0580 - acc: 0.470 - ETA: 2s - loss: 1.0564 - acc: 0.472 - ETA: 2s - loss: 1.0571 - acc: 0.470 - ETA: 2s - loss: 1.0571 - acc: 0.470 - ETA: 2s - loss: 1.0547 - acc: 0.474 - ETA: 2s - loss: 1.0543 - acc: 0.474 - ETA: 2s - loss: 1.0536 - acc: 0.475 - ETA: 2s - loss: 1.0552 - acc: 0.473 - ETA: 2s - loss: 1.0561 - acc: 0.470 - ETA: 2s - loss: 1.0568 - acc: 0.469 - ETA: 2s - loss: 1.0569 - acc: 0.468 - ETA: 2s - loss: 1.0576 - acc: 0.467 - ETA: 1s - loss: 1.0583 - acc: 0.466 - ETA: 1s - loss: 1.0578 - acc: 0.467 - ETA: 1s - loss: 1.0585 - acc: 0.466 - ETA: 1s - loss: 1.0570 - acc: 0.469 - ETA: 1s - loss: 1.0567 - acc: 0.469 - ETA: 1s - loss: 1.0575 - acc: 0.468 - ETA: 1s - loss: 1.0577 - acc: 0.468 - ETA: 1s - loss: 1.0575 - acc: 0.468 - ETA: 1s - loss: 1.0583 - acc: 0.467 - ETA: 1s - loss: 1.0578 - acc: 0.468 - ETA: 1s - loss: 1.0590 - acc: 0.466 - ETA: 1s - loss: 1.0595 - acc: 0.464 - ETA: 1s - loss: 1.0593 - acc: 0.465 - ETA: 1s - loss: 1.0584 - acc: 0.466 - ETA: 1s - loss: 1.0589 - acc: 0.465 - ETA: 1s - loss: 1.0592 - acc: 0.465 - ETA: 1s - loss: 1.0595 - acc: 0.465 - ETA: 1s - loss: 1.0595 - acc: 0.465 - ETA: 0s - loss: 1.0592 - acc: 0.465 - ETA: 0s - loss: 1.0587 - acc: 0.466 - ETA: 0s - loss: 1.0580 - acc: 0.467 - ETA: 0s - loss: 1.0583 - acc: 0.467 - ETA: 0s - loss: 1.0581 - acc: 0.467 - ETA: 0s - loss: 1.0581 - acc: 0.468 - ETA: 0s - loss: 1.0583 - acc: 0.467 - ETA: 0s - loss: 1.0574 - acc: 0.468 - ETA: 0s - loss: 1.0580 - acc: 0.467 - ETA: 0s - loss: 1.0579 - acc: 0.468 - ETA: 0s - loss: 1.0589 - acc: 0.467 - ETA: 0s - loss: 1.0589 - acc: 0.467 - ETA: 0s - loss: 1.0595 - acc: 0.466 - ETA: 0s - loss: 1.0595 - acc: 0.465 - ETA: 0s - loss: 1.0596 - acc: 0.465 - ETA: 0s - loss: 1.0596 - acc: 0.466 - ETA: 0s - loss: 1.0598 - acc: 0.465 - ETA: 0s - loss: 1.0592 - acc: 0.466 - ETA: 0s - loss: 1.0599 - acc: 0.464 - 4s 503us/sample - loss: 1.0602 - acc: 0.4644 - val_loss: 1.0544 - val_acc: 0.4588\n"
     ]
    },
    {
     "name": "stdout",
     "output_type": "stream",
     "text": [
      "Epoch 59/100\n",
      "7917/7917 [==============================] - ETA: 3s - loss: 0.9907 - acc: 0.550 - ETA: 3s - loss: 1.0516 - acc: 0.457 - ETA: 3s - loss: 1.0572 - acc: 0.446 - ETA: 3s - loss: 1.0662 - acc: 0.433 - ETA: 3s - loss: 1.0565 - acc: 0.454 - ETA: 4s - loss: 1.0561 - acc: 0.450 - ETA: 4s - loss: 1.0578 - acc: 0.451 - ETA: 4s - loss: 1.0591 - acc: 0.448 - ETA: 4s - loss: 1.0554 - acc: 0.456 - ETA: 4s - loss: 1.0566 - acc: 0.455 - ETA: 4s - loss: 1.0562 - acc: 0.458 - ETA: 4s - loss: 1.0572 - acc: 0.461 - ETA: 4s - loss: 1.0569 - acc: 0.461 - ETA: 3s - loss: 1.0566 - acc: 0.463 - ETA: 3s - loss: 1.0575 - acc: 0.465 - ETA: 3s - loss: 1.0591 - acc: 0.462 - ETA: 3s - loss: 1.0603 - acc: 0.460 - ETA: 3s - loss: 1.0632 - acc: 0.455 - ETA: 3s - loss: 1.0628 - acc: 0.456 - ETA: 3s - loss: 1.0619 - acc: 0.458 - ETA: 3s - loss: 1.0603 - acc: 0.461 - ETA: 3s - loss: 1.0605 - acc: 0.460 - ETA: 2s - loss: 1.0590 - acc: 0.464 - ETA: 2s - loss: 1.0595 - acc: 0.463 - ETA: 2s - loss: 1.0598 - acc: 0.463 - ETA: 2s - loss: 1.0613 - acc: 0.460 - ETA: 2s - loss: 1.0613 - acc: 0.461 - ETA: 2s - loss: 1.0608 - acc: 0.462 - ETA: 2s - loss: 1.0604 - acc: 0.462 - ETA: 2s - loss: 1.0611 - acc: 0.461 - ETA: 2s - loss: 1.0609 - acc: 0.462 - ETA: 2s - loss: 1.0606 - acc: 0.464 - ETA: 2s - loss: 1.0606 - acc: 0.464 - ETA: 2s - loss: 1.0604 - acc: 0.465 - ETA: 1s - loss: 1.0614 - acc: 0.463 - ETA: 1s - loss: 1.0613 - acc: 0.463 - ETA: 1s - loss: 1.0609 - acc: 0.463 - ETA: 1s - loss: 1.0602 - acc: 0.465 - ETA: 1s - loss: 1.0611 - acc: 0.463 - ETA: 1s - loss: 1.0607 - acc: 0.463 - ETA: 1s - loss: 1.0602 - acc: 0.465 - ETA: 1s - loss: 1.0603 - acc: 0.465 - ETA: 1s - loss: 1.0606 - acc: 0.464 - ETA: 1s - loss: 1.0603 - acc: 0.464 - ETA: 1s - loss: 1.0606 - acc: 0.463 - ETA: 1s - loss: 1.0617 - acc: 0.461 - ETA: 1s - loss: 1.0617 - acc: 0.461 - ETA: 1s - loss: 1.0613 - acc: 0.461 - ETA: 1s - loss: 1.0619 - acc: 0.461 - ETA: 0s - loss: 1.0613 - acc: 0.462 - ETA: 0s - loss: 1.0617 - acc: 0.462 - ETA: 0s - loss: 1.0623 - acc: 0.461 - ETA: 0s - loss: 1.0620 - acc: 0.462 - ETA: 0s - loss: 1.0621 - acc: 0.461 - ETA: 0s - loss: 1.0618 - acc: 0.462 - ETA: 0s - loss: 1.0618 - acc: 0.462 - ETA: 0s - loss: 1.0614 - acc: 0.462 - ETA: 0s - loss: 1.0613 - acc: 0.463 - ETA: 0s - loss: 1.0609 - acc: 0.463 - ETA: 0s - loss: 1.0612 - acc: 0.463 - ETA: 0s - loss: 1.0605 - acc: 0.464 - ETA: 0s - loss: 1.0605 - acc: 0.464 - ETA: 0s - loss: 1.0608 - acc: 0.463 - ETA: 0s - loss: 1.0610 - acc: 0.463 - ETA: 0s - loss: 1.0604 - acc: 0.464 - ETA: 0s - loss: 1.0606 - acc: 0.464 - ETA: 0s - loss: 1.0606 - acc: 0.464 - ETA: 0s - loss: 1.0615 - acc: 0.462 - ETA: 0s - loss: 1.0609 - acc: 0.463 - ETA: 0s - loss: 1.0612 - acc: 0.462 - ETA: 0s - loss: 1.0610 - acc: 0.463 - 4s 534us/sample - loss: 1.0608 - acc: 0.4644 - val_loss: 1.0543 - val_acc: 0.4588\n",
      "Epoch 60/100\n",
      "7917/7917 [==============================] - ETA: 4s - loss: 1.0565 - acc: 0.500 - ETA: 8s - loss: 1.0110 - acc: 0.566 - ETA: 13s - loss: 1.0375 - acc: 0.51 - ETA: 10s - loss: 1.0608 - acc: 0.47 - ETA: 8s - loss: 1.0556 - acc: 0.4727 - ETA: 7s - loss: 1.0585 - acc: 0.460 - ETA: 7s - loss: 1.0478 - acc: 0.477 - ETA: 6s - loss: 1.0368 - acc: 0.502 - ETA: 6s - loss: 1.0355 - acc: 0.503 - ETA: 5s - loss: 1.0427 - acc: 0.491 - ETA: 4s - loss: 1.0446 - acc: 0.488 - ETA: 4s - loss: 1.0489 - acc: 0.481 - ETA: 4s - loss: 1.0481 - acc: 0.484 - ETA: 3s - loss: 1.0530 - acc: 0.475 - ETA: 3s - loss: 1.0571 - acc: 0.470 - ETA: 3s - loss: 1.0564 - acc: 0.472 - ETA: 3s - loss: 1.0586 - acc: 0.467 - ETA: 3s - loss: 1.0576 - acc: 0.468 - ETA: 3s - loss: 1.0560 - acc: 0.471 - ETA: 3s - loss: 1.0568 - acc: 0.471 - ETA: 2s - loss: 1.0592 - acc: 0.467 - ETA: 2s - loss: 1.0600 - acc: 0.465 - ETA: 2s - loss: 1.0599 - acc: 0.465 - ETA: 2s - loss: 1.0615 - acc: 0.462 - ETA: 2s - loss: 1.0598 - acc: 0.465 - ETA: 2s - loss: 1.0596 - acc: 0.465 - ETA: 2s - loss: 1.0619 - acc: 0.461 - ETA: 2s - loss: 1.0621 - acc: 0.462 - ETA: 2s - loss: 1.0628 - acc: 0.461 - ETA: 2s - loss: 1.0637 - acc: 0.458 - ETA: 2s - loss: 1.0648 - acc: 0.457 - ETA: 2s - loss: 1.0631 - acc: 0.459 - ETA: 2s - loss: 1.0620 - acc: 0.461 - ETA: 2s - loss: 1.0630 - acc: 0.460 - ETA: 2s - loss: 1.0624 - acc: 0.461 - ETA: 1s - loss: 1.0606 - acc: 0.464 - ETA: 1s - loss: 1.0605 - acc: 0.463 - ETA: 1s - loss: 1.0603 - acc: 0.464 - ETA: 1s - loss: 1.0610 - acc: 0.463 - ETA: 1s - loss: 1.0593 - acc: 0.466 - ETA: 1s - loss: 1.0598 - acc: 0.466 - ETA: 1s - loss: 1.0600 - acc: 0.466 - ETA: 1s - loss: 1.0597 - acc: 0.466 - ETA: 1s - loss: 1.0592 - acc: 0.467 - ETA: 1s - loss: 1.0593 - acc: 0.467 - ETA: 1s - loss: 1.0595 - acc: 0.466 - ETA: 1s - loss: 1.0603 - acc: 0.465 - ETA: 1s - loss: 1.0601 - acc: 0.466 - ETA: 1s - loss: 1.0595 - acc: 0.467 - ETA: 1s - loss: 1.0602 - acc: 0.465 - ETA: 0s - loss: 1.0602 - acc: 0.465 - ETA: 0s - loss: 1.0602 - acc: 0.465 - ETA: 0s - loss: 1.0609 - acc: 0.464 - ETA: 0s - loss: 1.0608 - acc: 0.464 - ETA: 0s - loss: 1.0610 - acc: 0.464 - ETA: 0s - loss: 1.0613 - acc: 0.464 - ETA: 0s - loss: 1.0617 - acc: 0.463 - ETA: 0s - loss: 1.0621 - acc: 0.462 - ETA: 0s - loss: 1.0613 - acc: 0.463 - ETA: 0s - loss: 1.0615 - acc: 0.462 - ETA: 0s - loss: 1.0616 - acc: 0.463 - ETA: 0s - loss: 1.0600 - acc: 0.465 - ETA: 0s - loss: 1.0600 - acc: 0.465 - ETA: 0s - loss: 1.0601 - acc: 0.465 - ETA: 0s - loss: 1.0601 - acc: 0.465 - ETA: 0s - loss: 1.0607 - acc: 0.464 - ETA: 0s - loss: 1.0605 - acc: 0.465 - 4s 492us/sample - loss: 1.0606 - acc: 0.4649 - val_loss: 1.0541 - val_acc: 0.4588\n",
      "Epoch 61/100\n",
      "7917/7917 [==============================] - ETA: 3s - loss: 1.0086 - acc: 0.550 - ETA: 3s - loss: 1.0616 - acc: 0.485 - ETA: 3s - loss: 1.0584 - acc: 0.478 - ETA: 3s - loss: 1.0543 - acc: 0.483 - ETA: 3s - loss: 1.0637 - acc: 0.467 - ETA: 3s - loss: 1.0679 - acc: 0.455 - ETA: 3s - loss: 1.0657 - acc: 0.457 - ETA: 3s - loss: 1.0648 - acc: 0.453 - ETA: 3s - loss: 1.0627 - acc: 0.457 - ETA: 3s - loss: 1.0636 - acc: 0.457 - ETA: 3s - loss: 1.0630 - acc: 0.454 - ETA: 2s - loss: 1.0615 - acc: 0.456 - ETA: 2s - loss: 1.0604 - acc: 0.456 - ETA: 2s - loss: 1.0636 - acc: 0.451 - ETA: 2s - loss: 1.0609 - acc: 0.456 - ETA: 2s - loss: 1.0591 - acc: 0.460 - ETA: 2s - loss: 1.0610 - acc: 0.457 - ETA: 2s - loss: 1.0601 - acc: 0.458 - ETA: 2s - loss: 1.0587 - acc: 0.460 - ETA: 2s - loss: 1.0569 - acc: 0.463 - ETA: 2s - loss: 1.0576 - acc: 0.462 - ETA: 2s - loss: 1.0557 - acc: 0.465 - ETA: 2s - loss: 1.0558 - acc: 0.465 - ETA: 2s - loss: 1.0558 - acc: 0.465 - ETA: 2s - loss: 1.0566 - acc: 0.464 - ETA: 2s - loss: 1.0564 - acc: 0.464 - ETA: 2s - loss: 1.0565 - acc: 0.464 - ETA: 2s - loss: 1.0561 - acc: 0.465 - ETA: 2s - loss: 1.0557 - acc: 0.465 - ETA: 2s - loss: 1.0574 - acc: 0.462 - ETA: 2s - loss: 1.0575 - acc: 0.462 - ETA: 2s - loss: 1.0581 - acc: 0.461 - ETA: 1s - loss: 1.0589 - acc: 0.460 - ETA: 1s - loss: 1.0577 - acc: 0.462 - ETA: 1s - loss: 1.0571 - acc: 0.464 - ETA: 1s - loss: 1.0580 - acc: 0.462 - ETA: 1s - loss: 1.0585 - acc: 0.462 - ETA: 1s - loss: 1.0584 - acc: 0.463 - ETA: 1s - loss: 1.0590 - acc: 0.461 - ETA: 1s - loss: 1.0588 - acc: 0.462 - ETA: 1s - loss: 1.0590 - acc: 0.462 - ETA: 1s - loss: 1.0589 - acc: 0.463 - ETA: 1s - loss: 1.0591 - acc: 0.463 - ETA: 1s - loss: 1.0588 - acc: 0.463 - ETA: 1s - loss: 1.0581 - acc: 0.464 - ETA: 1s - loss: 1.0576 - acc: 0.465 - ETA: 1s - loss: 1.0565 - acc: 0.467 - ETA: 1s - loss: 1.0566 - acc: 0.467 - ETA: 0s - loss: 1.0570 - acc: 0.466 - ETA: 0s - loss: 1.0569 - acc: 0.466 - ETA: 0s - loss: 1.0567 - acc: 0.467 - ETA: 0s - loss: 1.0565 - acc: 0.467 - ETA: 0s - loss: 1.0563 - acc: 0.467 - ETA: 0s - loss: 1.0564 - acc: 0.467 - ETA: 0s - loss: 1.0561 - acc: 0.468 - ETA: 0s - loss: 1.0565 - acc: 0.467 - ETA: 0s - loss: 1.0572 - acc: 0.465 - ETA: 0s - loss: 1.0568 - acc: 0.466 - ETA: 0s - loss: 1.0570 - acc: 0.465 - ETA: 0s - loss: 1.0565 - acc: 0.466 - ETA: 0s - loss: 1.0562 - acc: 0.466 - ETA: 0s - loss: 1.0562 - acc: 0.466 - ETA: 0s - loss: 1.0566 - acc: 0.465 - ETA: 0s - loss: 1.0566 - acc: 0.465 - ETA: 0s - loss: 1.0568 - acc: 0.465 - ETA: 0s - loss: 1.0574 - acc: 0.464 - 4s 488us/sample - loss: 1.0576 - acc: 0.4642 - val_loss: 1.0540 - val_acc: 0.4588\n",
      "Epoch 62/100\n",
      "7917/7917 [==============================] - ETA: 7s - loss: 1.0761 - acc: 0.450 - ETA: 3s - loss: 1.0569 - acc: 0.475 - ETA: 3s - loss: 1.0583 - acc: 0.464 - ETA: 3s - loss: 1.0488 - acc: 0.478 - ETA: 3s - loss: 1.0505 - acc: 0.478 - ETA: 2s - loss: 1.0451 - acc: 0.490 - ETA: 2s - loss: 1.0505 - acc: 0.484 - ETA: 2s - loss: 1.0500 - acc: 0.485 - ETA: 2s - loss: 1.0485 - acc: 0.486 - ETA: 2s - loss: 1.0484 - acc: 0.486 - ETA: 2s - loss: 1.0503 - acc: 0.482 - ETA: 2s - loss: 1.0513 - acc: 0.482 - ETA: 2s - loss: 1.0510 - acc: 0.480 - ETA: 2s - loss: 1.0538 - acc: 0.474 - ETA: 2s - loss: 1.0520 - acc: 0.477 - ETA: 2s - loss: 1.0546 - acc: 0.474 - ETA: 2s - loss: 1.0574 - acc: 0.470 - ETA: 2s - loss: 1.0579 - acc: 0.469 - ETA: 2s - loss: 1.0594 - acc: 0.466 - ETA: 2s - loss: 1.0575 - acc: 0.469 - ETA: 2s - loss: 1.0582 - acc: 0.466 - ETA: 2s - loss: 1.0569 - acc: 0.469 - ETA: 2s - loss: 1.0548 - acc: 0.473 - ETA: 1s - loss: 1.0540 - acc: 0.473 - ETA: 1s - loss: 1.0556 - acc: 0.471 - ETA: 1s - loss: 1.0568 - acc: 0.470 - ETA: 1s - loss: 1.0560 - acc: 0.472 - ETA: 1s - loss: 1.0556 - acc: 0.473 - ETA: 1s - loss: 1.0555 - acc: 0.473 - ETA: 1s - loss: 1.0569 - acc: 0.470 - ETA: 1s - loss: 1.0564 - acc: 0.471 - ETA: 1s - loss: 1.0560 - acc: 0.471 - ETA: 1s - loss: 1.0558 - acc: 0.472 - ETA: 1s - loss: 1.0558 - acc: 0.472 - ETA: 1s - loss: 1.0560 - acc: 0.472 - ETA: 1s - loss: 1.0572 - acc: 0.470 - ETA: 1s - loss: 1.0573 - acc: 0.469 - ETA: 1s - loss: 1.0574 - acc: 0.469 - ETA: 1s - loss: 1.0581 - acc: 0.468 - ETA: 1s - loss: 1.0588 - acc: 0.466 - ETA: 1s - loss: 1.0583 - acc: 0.466 - ETA: 1s - loss: 1.0572 - acc: 0.468 - ETA: 1s - loss: 1.0580 - acc: 0.467 - ETA: 1s - loss: 1.0581 - acc: 0.468 - ETA: 1s - loss: 1.0587 - acc: 0.467 - ETA: 1s - loss: 1.0580 - acc: 0.468 - ETA: 0s - loss: 1.0581 - acc: 0.468 - ETA: 0s - loss: 1.0586 - acc: 0.467 - ETA: 0s - loss: 1.0584 - acc: 0.468 - ETA: 0s - loss: 1.0585 - acc: 0.468 - ETA: 0s - loss: 1.0586 - acc: 0.468 - ETA: 0s - loss: 1.0589 - acc: 0.467 - ETA: 0s - loss: 1.0590 - acc: 0.467 - ETA: 0s - loss: 1.0587 - acc: 0.468 - ETA: 0s - loss: 1.0592 - acc: 0.467 - ETA: 0s - loss: 1.0594 - acc: 0.467 - ETA: 0s - loss: 1.0593 - acc: 0.467 - ETA: 0s - loss: 1.0596 - acc: 0.466 - ETA: 0s - loss: 1.0594 - acc: 0.466 - ETA: 0s - loss: 1.0600 - acc: 0.465 - ETA: 0s - loss: 1.0604 - acc: 0.464 - ETA: 0s - loss: 1.0608 - acc: 0.463 - ETA: 0s - loss: 1.0602 - acc: 0.464 - ETA: 0s - loss: 1.0602 - acc: 0.464 - 4s 477us/sample - loss: 1.0601 - acc: 0.4647 - val_loss: 1.0539 - val_acc: 0.4588\n",
      "Epoch 63/100\n",
      "7917/7917 [==============================] - ETA: 5s - loss: 1.0875 - acc: 0.400 - ETA: 3s - loss: 1.0587 - acc: 0.471 - ETA: 3s - loss: 1.0384 - acc: 0.500 - ETA: 3s - loss: 1.0388 - acc: 0.500 - ETA: 3s - loss: 1.0381 - acc: 0.500 - ETA: 3s - loss: 1.0366 - acc: 0.496 - ETA: 3s - loss: 1.0339 - acc: 0.502 - ETA: 3s - loss: 1.0402 - acc: 0.491 - ETA: 3s - loss: 1.0382 - acc: 0.496 - ETA: 3s - loss: 1.0400 - acc: 0.493 - ETA: 3s - loss: 1.0440 - acc: 0.486 - ETA: 3s - loss: 1.0447 - acc: 0.488 - ETA: 3s - loss: 1.0470 - acc: 0.483 - ETA: 3s - loss: 1.0472 - acc: 0.482 - ETA: 3s - loss: 1.0505 - acc: 0.480 - ETA: 3s - loss: 1.0491 - acc: 0.483 - ETA: 2s - loss: 1.0467 - acc: 0.487 - ETA: 2s - loss: 1.0477 - acc: 0.486 - ETA: 2s - loss: 1.0491 - acc: 0.483 - ETA: 2s - loss: 1.0481 - acc: 0.485 - ETA: 2s - loss: 1.0480 - acc: 0.484 - ETA: 2s - loss: 1.0488 - acc: 0.482 - ETA: 2s - loss: 1.0485 - acc: 0.484 - ETA: 2s - loss: 1.0497 - acc: 0.482 - ETA: 2s - loss: 1.0486 - acc: 0.484 - ETA: 2s - loss: 1.0495 - acc: 0.484 - ETA: 2s - loss: 1.0487 - acc: 0.485 - ETA: 2s - loss: 1.0500 - acc: 0.482 - ETA: 2s - loss: 1.0501 - acc: 0.482 - ETA: 2s - loss: 1.0511 - acc: 0.480 - ETA: 2s - loss: 1.0513 - acc: 0.480 - ETA: 2s - loss: 1.0533 - acc: 0.477 - ETA: 2s - loss: 1.0532 - acc: 0.476 - ETA: 2s - loss: 1.0529 - acc: 0.477 - ETA: 2s - loss: 1.0545 - acc: 0.473 - ETA: 2s - loss: 1.0561 - acc: 0.471 - ETA: 1s - loss: 1.0555 - acc: 0.471 - ETA: 1s - loss: 1.0554 - acc: 0.471 - ETA: 1s - loss: 1.0553 - acc: 0.471 - ETA: 1s - loss: 1.0553 - acc: 0.472 - ETA: 1s - loss: 1.0554 - acc: 0.473 - ETA: 1s - loss: 1.0555 - acc: 0.472 - ETA: 1s - loss: 1.0560 - acc: 0.470 - ETA: 1s - loss: 1.0561 - acc: 0.470 - ETA: 1s - loss: 1.0558 - acc: 0.471 - ETA: 1s - loss: 1.0566 - acc: 0.469 - ETA: 1s - loss: 1.0575 - acc: 0.467 - ETA: 1s - loss: 1.0576 - acc: 0.467 - ETA: 1s - loss: 1.0574 - acc: 0.467 - ETA: 1s - loss: 1.0577 - acc: 0.467 - ETA: 1s - loss: 1.0581 - acc: 0.466 - ETA: 1s - loss: 1.0585 - acc: 0.466 - ETA: 1s - loss: 1.0591 - acc: 0.466 - ETA: 1s - loss: 1.0597 - acc: 0.465 - ETA: 1s - loss: 1.0594 - acc: 0.465 - ETA: 1s - loss: 1.0593 - acc: 0.465 - ETA: 0s - loss: 1.0600 - acc: 0.465 - ETA: 0s - loss: 1.0597 - acc: 0.465 - ETA: 0s - loss: 1.0590 - acc: 0.466 - ETA: 0s - loss: 1.0584 - acc: 0.467 - ETA: 0s - loss: 1.0585 - acc: 0.467 - ETA: 0s - loss: 1.0590 - acc: 0.466 - ETA: 0s - loss: 1.0594 - acc: 0.465 - ETA: 0s - loss: 1.0596 - acc: 0.465 - ETA: 0s - loss: 1.0604 - acc: 0.464 - ETA: 0s - loss: 1.0606 - acc: 0.463 - ETA: 0s - loss: 1.0609 - acc: 0.462 - ETA: 0s - loss: 1.0607 - acc: 0.463 - ETA: 0s - loss: 1.0601 - acc: 0.464 - ETA: 0s - loss: 1.0604 - acc: 0.463 - ETA: 0s - loss: 1.0602 - acc: 0.464 - ETA: 0s - loss: 1.0602 - acc: 0.464 - 4s 534us/sample - loss: 1.0602 - acc: 0.4642 - val_loss: 1.0538 - val_acc: 0.4588\n",
      "Epoch 64/100\n"
     ]
    },
    {
     "name": "stdout",
     "output_type": "stream",
     "text": [
      "7917/7917 [==============================] - ETA: 4s - loss: 1.0268 - acc: 0.500 - ETA: 3s - loss: 1.0457 - acc: 0.450 - ETA: 3s - loss: 1.0611 - acc: 0.450 - ETA: 4s - loss: 1.0583 - acc: 0.455 - ETA: 5s - loss: 1.0497 - acc: 0.469 - ETA: 4s - loss: 1.0545 - acc: 0.466 - ETA: 5s - loss: 1.0550 - acc: 0.466 - ETA: 5s - loss: 1.0467 - acc: 0.482 - ETA: 5s - loss: 1.0441 - acc: 0.487 - ETA: 5s - loss: 1.0443 - acc: 0.486 - ETA: 5s - loss: 1.0478 - acc: 0.482 - ETA: 4s - loss: 1.0501 - acc: 0.477 - ETA: 4s - loss: 1.0550 - acc: 0.467 - ETA: 4s - loss: 1.0511 - acc: 0.475 - ETA: 4s - loss: 1.0528 - acc: 0.472 - ETA: 3s - loss: 1.0517 - acc: 0.475 - ETA: 3s - loss: 1.0513 - acc: 0.476 - ETA: 3s - loss: 1.0517 - acc: 0.476 - ETA: 3s - loss: 1.0522 - acc: 0.475 - ETA: 3s - loss: 1.0530 - acc: 0.473 - ETA: 3s - loss: 1.0534 - acc: 0.473 - ETA: 2s - loss: 1.0537 - acc: 0.473 - ETA: 2s - loss: 1.0513 - acc: 0.478 - ETA: 2s - loss: 1.0522 - acc: 0.475 - ETA: 2s - loss: 1.0506 - acc: 0.479 - ETA: 2s - loss: 1.0485 - acc: 0.483 - ETA: 2s - loss: 1.0485 - acc: 0.482 - ETA: 2s - loss: 1.0484 - acc: 0.482 - ETA: 2s - loss: 1.0512 - acc: 0.477 - ETA: 2s - loss: 1.0517 - acc: 0.477 - ETA: 2s - loss: 1.0508 - acc: 0.478 - ETA: 2s - loss: 1.0513 - acc: 0.478 - ETA: 2s - loss: 1.0527 - acc: 0.476 - ETA: 2s - loss: 1.0528 - acc: 0.476 - ETA: 1s - loss: 1.0520 - acc: 0.478 - ETA: 1s - loss: 1.0527 - acc: 0.476 - ETA: 1s - loss: 1.0527 - acc: 0.477 - ETA: 1s - loss: 1.0534 - acc: 0.475 - ETA: 1s - loss: 1.0542 - acc: 0.474 - ETA: 1s - loss: 1.0535 - acc: 0.475 - ETA: 1s - loss: 1.0534 - acc: 0.474 - ETA: 1s - loss: 1.0539 - acc: 0.474 - ETA: 1s - loss: 1.0541 - acc: 0.473 - ETA: 1s - loss: 1.0541 - acc: 0.473 - ETA: 1s - loss: 1.0547 - acc: 0.473 - ETA: 1s - loss: 1.0546 - acc: 0.473 - ETA: 1s - loss: 1.0545 - acc: 0.472 - ETA: 1s - loss: 1.0548 - acc: 0.472 - ETA: 1s - loss: 1.0557 - acc: 0.470 - ETA: 1s - loss: 1.0557 - acc: 0.470 - ETA: 1s - loss: 1.0559 - acc: 0.470 - ETA: 1s - loss: 1.0560 - acc: 0.470 - ETA: 1s - loss: 1.0566 - acc: 0.469 - ETA: 1s - loss: 1.0567 - acc: 0.468 - ETA: 1s - loss: 1.0571 - acc: 0.468 - ETA: 0s - loss: 1.0571 - acc: 0.468 - ETA: 0s - loss: 1.0572 - acc: 0.467 - ETA: 0s - loss: 1.0572 - acc: 0.467 - ETA: 0s - loss: 1.0569 - acc: 0.467 - ETA: 0s - loss: 1.0573 - acc: 0.467 - ETA: 0s - loss: 1.0573 - acc: 0.467 - ETA: 0s - loss: 1.0573 - acc: 0.467 - ETA: 0s - loss: 1.0577 - acc: 0.465 - ETA: 0s - loss: 1.0577 - acc: 0.465 - ETA: 0s - loss: 1.0576 - acc: 0.465 - ETA: 0s - loss: 1.0575 - acc: 0.465 - ETA: 0s - loss: 1.0580 - acc: 0.464 - ETA: 0s - loss: 1.0582 - acc: 0.464 - ETA: 0s - loss: 1.0580 - acc: 0.464 - ETA: 0s - loss: 1.0581 - acc: 0.464 - ETA: 0s - loss: 1.0582 - acc: 0.464 - ETA: 0s - loss: 1.0579 - acc: 0.464 - ETA: 0s - loss: 1.0578 - acc: 0.464 - ETA: 0s - loss: 1.0579 - acc: 0.464 - 4s 566us/sample - loss: 1.0579 - acc: 0.4646 - val_loss: 1.0536 - val_acc: 0.4588\n",
      "Epoch 65/100\n",
      "7917/7917 [==============================] - ETA: 4s - loss: 1.0268 - acc: 0.550 - ETA: 3s - loss: 1.0854 - acc: 0.425 - ETA: 3s - loss: 1.0661 - acc: 0.446 - ETA: 3s - loss: 1.0553 - acc: 0.460 - ETA: 4s - loss: 1.0635 - acc: 0.443 - ETA: 4s - loss: 1.0571 - acc: 0.460 - ETA: 3s - loss: 1.0699 - acc: 0.442 - ETA: 3s - loss: 1.0606 - acc: 0.456 - ETA: 3s - loss: 1.0676 - acc: 0.446 - ETA: 3s - loss: 1.0631 - acc: 0.456 - ETA: 3s - loss: 1.0635 - acc: 0.457 - ETA: 3s - loss: 1.0640 - acc: 0.452 - ETA: 3s - loss: 1.0644 - acc: 0.450 - ETA: 3s - loss: 1.0630 - acc: 0.454 - ETA: 3s - loss: 1.0633 - acc: 0.453 - ETA: 3s - loss: 1.0615 - acc: 0.456 - ETA: 2s - loss: 1.0626 - acc: 0.456 - ETA: 2s - loss: 1.0627 - acc: 0.458 - ETA: 2s - loss: 1.0602 - acc: 0.462 - ETA: 2s - loss: 1.0621 - acc: 0.458 - ETA: 2s - loss: 1.0625 - acc: 0.459 - ETA: 2s - loss: 1.0630 - acc: 0.458 - ETA: 2s - loss: 1.0624 - acc: 0.459 - ETA: 2s - loss: 1.0609 - acc: 0.461 - ETA: 2s - loss: 1.0622 - acc: 0.459 - ETA: 2s - loss: 1.0614 - acc: 0.461 - ETA: 2s - loss: 1.0610 - acc: 0.462 - ETA: 2s - loss: 1.0607 - acc: 0.463 - ETA: 2s - loss: 1.0602 - acc: 0.463 - ETA: 2s - loss: 1.0605 - acc: 0.463 - ETA: 2s - loss: 1.0609 - acc: 0.462 - ETA: 2s - loss: 1.0604 - acc: 0.462 - ETA: 2s - loss: 1.0602 - acc: 0.463 - ETA: 1s - loss: 1.0587 - acc: 0.465 - ETA: 1s - loss: 1.0591 - acc: 0.464 - ETA: 1s - loss: 1.0587 - acc: 0.465 - ETA: 1s - loss: 1.0578 - acc: 0.467 - ETA: 1s - loss: 1.0579 - acc: 0.466 - ETA: 1s - loss: 1.0579 - acc: 0.466 - ETA: 1s - loss: 1.0573 - acc: 0.467 - ETA: 1s - loss: 1.0580 - acc: 0.467 - ETA: 1s - loss: 1.0582 - acc: 0.466 - ETA: 1s - loss: 1.0586 - acc: 0.466 - ETA: 1s - loss: 1.0588 - acc: 0.466 - ETA: 1s - loss: 1.0594 - acc: 0.466 - ETA: 1s - loss: 1.0601 - acc: 0.464 - ETA: 1s - loss: 1.0601 - acc: 0.464 - ETA: 1s - loss: 1.0604 - acc: 0.464 - ETA: 1s - loss: 1.0612 - acc: 0.462 - ETA: 1s - loss: 1.0611 - acc: 0.462 - ETA: 1s - loss: 1.0610 - acc: 0.463 - ETA: 1s - loss: 1.0606 - acc: 0.463 - ETA: 1s - loss: 1.0607 - acc: 0.463 - ETA: 0s - loss: 1.0609 - acc: 0.463 - ETA: 0s - loss: 1.0604 - acc: 0.464 - ETA: 0s - loss: 1.0596 - acc: 0.465 - ETA: 0s - loss: 1.0589 - acc: 0.466 - ETA: 0s - loss: 1.0590 - acc: 0.466 - ETA: 0s - loss: 1.0601 - acc: 0.464 - ETA: 0s - loss: 1.0599 - acc: 0.464 - ETA: 0s - loss: 1.0597 - acc: 0.464 - ETA: 0s - loss: 1.0599 - acc: 0.464 - ETA: 0s - loss: 1.0596 - acc: 0.465 - ETA: 0s - loss: 1.0597 - acc: 0.464 - ETA: 0s - loss: 1.0601 - acc: 0.464 - ETA: 0s - loss: 1.0594 - acc: 0.465 - ETA: 0s - loss: 1.0589 - acc: 0.465 - ETA: 0s - loss: 1.0589 - acc: 0.465 - ETA: 0s - loss: 1.0597 - acc: 0.464 - ETA: 0s - loss: 1.0595 - acc: 0.464 - ETA: 0s - loss: 1.0600 - acc: 0.463 - 4s 532us/sample - loss: 1.0598 - acc: 0.4642 - val_loss: 1.0535 - val_acc: 0.4588\n",
      "Epoch 66/100\n",
      "7917/7917 [==============================] - ETA: 5s - loss: 1.0256 - acc: 0.600 - ETA: 3s - loss: 1.0392 - acc: 0.506 - ETA: 3s - loss: 1.0474 - acc: 0.478 - ETA: 3s - loss: 1.0447 - acc: 0.485 - ETA: 3s - loss: 1.0444 - acc: 0.486 - ETA: 3s - loss: 1.0451 - acc: 0.486 - ETA: 3s - loss: 1.0450 - acc: 0.487 - ETA: 2s - loss: 1.0524 - acc: 0.475 - ETA: 2s - loss: 1.0493 - acc: 0.478 - ETA: 2s - loss: 1.0512 - acc: 0.475 - ETA: 2s - loss: 1.0562 - acc: 0.465 - ETA: 2s - loss: 1.0582 - acc: 0.463 - ETA: 2s - loss: 1.0539 - acc: 0.471 - ETA: 2s - loss: 1.0549 - acc: 0.470 - ETA: 2s - loss: 1.0549 - acc: 0.470 - ETA: 2s - loss: 1.0541 - acc: 0.470 - ETA: 2s - loss: 1.0531 - acc: 0.472 - ETA: 2s - loss: 1.0546 - acc: 0.469 - ETA: 2s - loss: 1.0584 - acc: 0.462 - ETA: 2s - loss: 1.0589 - acc: 0.461 - ETA: 2s - loss: 1.0599 - acc: 0.460 - ETA: 2s - loss: 1.0592 - acc: 0.462 - ETA: 2s - loss: 1.0581 - acc: 0.464 - ETA: 2s - loss: 1.0591 - acc: 0.462 - ETA: 2s - loss: 1.0573 - acc: 0.465 - ETA: 1s - loss: 1.0565 - acc: 0.467 - ETA: 1s - loss: 1.0576 - acc: 0.466 - ETA: 1s - loss: 1.0578 - acc: 0.465 - ETA: 1s - loss: 1.0584 - acc: 0.464 - ETA: 1s - loss: 1.0573 - acc: 0.466 - ETA: 1s - loss: 1.0563 - acc: 0.467 - ETA: 1s - loss: 1.0567 - acc: 0.467 - ETA: 1s - loss: 1.0570 - acc: 0.467 - ETA: 1s - loss: 1.0572 - acc: 0.467 - ETA: 1s - loss: 1.0584 - acc: 0.465 - ETA: 1s - loss: 1.0578 - acc: 0.466 - ETA: 1s - loss: 1.0584 - acc: 0.465 - ETA: 1s - loss: 1.0593 - acc: 0.462 - ETA: 1s - loss: 1.0595 - acc: 0.462 - ETA: 1s - loss: 1.0600 - acc: 0.461 - ETA: 1s - loss: 1.0596 - acc: 0.462 - ETA: 1s - loss: 1.0596 - acc: 0.462 - ETA: 1s - loss: 1.0585 - acc: 0.464 - ETA: 1s - loss: 1.0577 - acc: 0.465 - ETA: 1s - loss: 1.0582 - acc: 0.464 - ETA: 1s - loss: 1.0575 - acc: 0.466 - ETA: 1s - loss: 1.0582 - acc: 0.464 - ETA: 0s - loss: 1.0594 - acc: 0.462 - ETA: 0s - loss: 1.0595 - acc: 0.461 - ETA: 0s - loss: 1.0588 - acc: 0.462 - ETA: 0s - loss: 1.0584 - acc: 0.463 - ETA: 0s - loss: 1.0580 - acc: 0.464 - ETA: 0s - loss: 1.0578 - acc: 0.464 - ETA: 0s - loss: 1.0585 - acc: 0.462 - ETA: 0s - loss: 1.0584 - acc: 0.463 - ETA: 0s - loss: 1.0582 - acc: 0.463 - ETA: 0s - loss: 1.0584 - acc: 0.463 - ETA: 0s - loss: 1.0586 - acc: 0.462 - ETA: 0s - loss: 1.0592 - acc: 0.462 - ETA: 0s - loss: 1.0589 - acc: 0.462 - ETA: 0s - loss: 1.0589 - acc: 0.462 - ETA: 0s - loss: 1.0586 - acc: 0.463 - ETA: 0s - loss: 1.0581 - acc: 0.464 - ETA: 0s - loss: 1.0584 - acc: 0.463 - ETA: 0s - loss: 1.0585 - acc: 0.463 - ETA: 0s - loss: 1.0585 - acc: 0.464 - ETA: 0s - loss: 1.0586 - acc: 0.463 - ETA: 0s - loss: 1.0582 - acc: 0.464 - ETA: 0s - loss: 1.0584 - acc: 0.464 - ETA: 0s - loss: 1.0587 - acc: 0.463 - ETA: 0s - loss: 1.0582 - acc: 0.464 - 4s 539us/sample - loss: 1.0583 - acc: 0.4646 - val_loss: 1.0534 - val_acc: 0.4588\n",
      "Epoch 67/100\n",
      "7917/7917 [==============================] - ETA: 4s - loss: 1.0856 - acc: 0.400 - ETA: 3s - loss: 1.0683 - acc: 0.456 - ETA: 3s - loss: 1.0670 - acc: 0.453 - ETA: 3s - loss: 1.0635 - acc: 0.464 - ETA: 3s - loss: 1.0607 - acc: 0.468 - ETA: 2s - loss: 1.0612 - acc: 0.467 - ETA: 2s - loss: 1.0582 - acc: 0.472 - ETA: 2s - loss: 1.0596 - acc: 0.468 - ETA: 3s - loss: 1.0575 - acc: 0.471 - ETA: 3s - loss: 1.0564 - acc: 0.472 - ETA: 3s - loss: 1.0562 - acc: 0.469 - ETA: 3s - loss: 1.0559 - acc: 0.469 - ETA: 3s - loss: 1.0579 - acc: 0.467 - ETA: 3s - loss: 1.0552 - acc: 0.473 - ETA: 3s - loss: 1.0578 - acc: 0.467 - ETA: 3s - loss: 1.0574 - acc: 0.468 - ETA: 3s - loss: 1.0567 - acc: 0.470 - ETA: 2s - loss: 1.0591 - acc: 0.466 - ETA: 2s - loss: 1.0585 - acc: 0.466 - ETA: 2s - loss: 1.0585 - acc: 0.465 - ETA: 2s - loss: 1.0577 - acc: 0.466 - ETA: 2s - loss: 1.0576 - acc: 0.467 - ETA: 2s - loss: 1.0601 - acc: 0.462 - ETA: 2s - loss: 1.0589 - acc: 0.465 - ETA: 2s - loss: 1.0561 - acc: 0.470 - ETA: 2s - loss: 1.0552 - acc: 0.472 - ETA: 2s - loss: 1.0558 - acc: 0.470 - ETA: 2s - loss: 1.0554 - acc: 0.470 - ETA: 2s - loss: 1.0558 - acc: 0.469 - ETA: 2s - loss: 1.0559 - acc: 0.469 - ETA: 2s - loss: 1.0557 - acc: 0.469 - ETA: 2s - loss: 1.0572 - acc: 0.466 - ETA: 1s - loss: 1.0567 - acc: 0.467 - ETA: 1s - loss: 1.0571 - acc: 0.466 - ETA: 1s - loss: 1.0582 - acc: 0.465 - ETA: 1s - loss: 1.0573 - acc: 0.467 - ETA: 1s - loss: 1.0573 - acc: 0.466 - ETA: 1s - loss: 1.0580 - acc: 0.465 - ETA: 1s - loss: 1.0580 - acc: 0.465 - ETA: 1s - loss: 1.0567 - acc: 0.467 - ETA: 1s - loss: 1.0569 - acc: 0.466 - ETA: 1s - loss: 1.0569 - acc: 0.467 - ETA: 1s - loss: 1.0569 - acc: 0.467 - ETA: 1s - loss: 1.0567 - acc: 0.467 - ETA: 1s - loss: 1.0562 - acc: 0.468 - ETA: 1s - loss: 1.0552 - acc: 0.470 - ETA: 1s - loss: 1.0562 - acc: 0.468 - ETA: 1s - loss: 1.0571 - acc: 0.467 - ETA: 1s - loss: 1.0570 - acc: 0.467 - ETA: 1s - loss: 1.0571 - acc: 0.467 - ETA: 1s - loss: 1.0568 - acc: 0.468 - ETA: 0s - loss: 1.0570 - acc: 0.467 - ETA: 0s - loss: 1.0568 - acc: 0.467 - ETA: 0s - loss: 1.0567 - acc: 0.467 - ETA: 0s - loss: 1.0569 - acc: 0.467 - ETA: 0s - loss: 1.0570 - acc: 0.467 - ETA: 0s - loss: 1.0568 - acc: 0.467 - ETA: 0s - loss: 1.0569 - acc: 0.467 - ETA: 0s - loss: 1.0566 - acc: 0.468 - ETA: 0s - loss: 1.0568 - acc: 0.468 - ETA: 0s - loss: 1.0571 - acc: 0.468 - ETA: 0s - loss: 1.0574 - acc: 0.467 - ETA: 0s - loss: 1.0567 - acc: 0.468 - ETA: 0s - loss: 1.0573 - acc: 0.467 - ETA: 0s - loss: 1.0577 - acc: 0.466 - ETA: 0s - loss: 1.0574 - acc: 0.467 - ETA: 0s - loss: 1.0580 - acc: 0.465 - ETA: 0s - loss: 1.0577 - acc: 0.465 - 4s 507us/sample - loss: 1.0584 - acc: 0.4648 - val_loss: 1.0533 - val_acc: 0.4588\n",
      "Epoch 68/100\n",
      "7917/7917 [==============================] - ETA: 4s - loss: 1.0645 - acc: 0.450 - ETA: 3s - loss: 1.0815 - acc: 0.450 - ETA: 4s - loss: 1.0671 - acc: 0.468 - ETA: 4s - loss: 1.0683 - acc: 0.457 - ETA: 5s - loss: 1.0802 - acc: 0.435 - ETA: 5s - loss: 1.0818 - acc: 0.426 - ETA: 5s - loss: 1.0804 - acc: 0.432 - ETA: 4s - loss: 1.0810 - acc: 0.424 - ETA: 4s - loss: 1.0827 - acc: 0.419 - ETA: 4s - loss: 1.0784 - acc: 0.427 - ETA: 3s - loss: 1.0726 - acc: 0.436 - ETA: 4s - loss: 1.0727 - acc: 0.436 - ETA: 4s - loss: 1.0742 - acc: 0.434 - ETA: 4s - loss: 1.0735 - acc: 0.436 - ETA: 4s - loss: 1.0710 - acc: 0.440 - ETA: 3s - loss: 1.0737 - acc: 0.434 - ETA: 3s - loss: 1.0717 - acc: 0.437 - ETA: 3s - loss: 1.0723 - acc: 0.437 - ETA: 3s - loss: 1.0734 - acc: 0.436 - ETA: 3s - loss: 1.0728 - acc: 0.438 - ETA: 3s - loss: 1.0702 - acc: 0.442 - ETA: 3s - loss: 1.0700 - acc: 0.442 - ETA: 2s - loss: 1.0658 - acc: 0.449 - ETA: 2s - loss: 1.0670 - acc: 0.447 - ETA: 2s - loss: 1.0652 - acc: 0.451 - ETA: 2s - loss: 1.0669 - acc: 0.448 - ETA: 2s - loss: 1.0682 - acc: 0.446 - ETA: 2s - loss: 1.0679 - acc: 0.445 - ETA: 2s - loss: 1.0679 - acc: 0.445 - ETA: 2s - loss: 1.0661 - acc: 0.449 - ETA: 2s - loss: 1.0657 - acc: 0.449 - ETA: 2s - loss: 1.0653 - acc: 0.450 - ETA: 2s - loss: 1.0637 - acc: 0.452 - ETA: 2s - loss: 1.0622 - acc: 0.456 - ETA: 2s - loss: 1.0620 - acc: 0.456 - ETA: 2s - loss: 1.0625 - acc: 0.456 - ETA: 1s - loss: 1.0635 - acc: 0.454 - ETA: 1s - loss: 1.0637 - acc: 0.453 - ETA: 1s - loss: 1.0631 - acc: 0.454 - ETA: 1s - loss: 1.0628 - acc: 0.454 - ETA: 1s - loss: 1.0620 - acc: 0.456 - ETA: 1s - loss: 1.0616 - acc: 0.456 - ETA: 1s - loss: 1.0607 - acc: 0.458 - ETA: 1s - loss: 1.0612 - acc: 0.457 - ETA: 1s - loss: 1.0604 - acc: 0.458 - ETA: 1s - loss: 1.0604 - acc: 0.459 - ETA: 1s - loss: 1.0608 - acc: 0.457 - ETA: 1s - loss: 1.0606 - acc: 0.458 - ETA: 1s - loss: 1.0599 - acc: 0.459 - ETA: 1s - loss: 1.0593 - acc: 0.459 - ETA: 1s - loss: 1.0603 - acc: 0.458 - ETA: 0s - loss: 1.0602 - acc: 0.458 - ETA: 0s - loss: 1.0589 - acc: 0.460 - ETA: 0s - loss: 1.0596 - acc: 0.460 - ETA: 0s - loss: 1.0601 - acc: 0.459 - ETA: 0s - loss: 1.0596 - acc: 0.460 - ETA: 0s - loss: 1.0592 - acc: 0.460 - ETA: 0s - loss: 1.0591 - acc: 0.460 - ETA: 0s - loss: 1.0585 - acc: 0.461 - ETA: 0s - loss: 1.0580 - acc: 0.462 - ETA: 0s - loss: 1.0577 - acc: 0.463 - ETA: 0s - loss: 1.0580 - acc: 0.463 - ETA: 0s - loss: 1.0585 - acc: 0.462 - ETA: 0s - loss: 1.0585 - acc: 0.462 - ETA: 0s - loss: 1.0584 - acc: 0.463 - ETA: 0s - loss: 1.0580 - acc: 0.463 - ETA: 0s - loss: 1.0577 - acc: 0.464 - ETA: 0s - loss: 1.0579 - acc: 0.464 - 4s 510us/sample - loss: 1.0575 - acc: 0.4644 - val_loss: 1.0531 - val_acc: 0.4588\n"
     ]
    },
    {
     "name": "stdout",
     "output_type": "stream",
     "text": [
      "Epoch 69/100\n",
      "7917/7917 [==============================] - ETA: 4s - loss: 1.0638 - acc: 0.500 - ETA: 3s - loss: 1.0378 - acc: 0.492 - ETA: 3s - loss: 1.0721 - acc: 0.442 - ETA: 3s - loss: 1.0733 - acc: 0.437 - ETA: 3s - loss: 1.0794 - acc: 0.424 - ETA: 2s - loss: 1.0795 - acc: 0.425 - ETA: 3s - loss: 1.0709 - acc: 0.442 - ETA: 2s - loss: 1.0700 - acc: 0.447 - ETA: 2s - loss: 1.0696 - acc: 0.448 - ETA: 3s - loss: 1.0698 - acc: 0.447 - ETA: 3s - loss: 1.0661 - acc: 0.455 - ETA: 3s - loss: 1.0650 - acc: 0.458 - ETA: 3s - loss: 1.0659 - acc: 0.457 - ETA: 3s - loss: 1.0622 - acc: 0.463 - ETA: 3s - loss: 1.0627 - acc: 0.463 - ETA: 3s - loss: 1.0647 - acc: 0.458 - ETA: 3s - loss: 1.0625 - acc: 0.460 - ETA: 2s - loss: 1.0641 - acc: 0.458 - ETA: 2s - loss: 1.0627 - acc: 0.460 - ETA: 2s - loss: 1.0613 - acc: 0.462 - ETA: 2s - loss: 1.0599 - acc: 0.466 - ETA: 2s - loss: 1.0590 - acc: 0.467 - ETA: 2s - loss: 1.0567 - acc: 0.471 - ETA: 2s - loss: 1.0566 - acc: 0.471 - ETA: 2s - loss: 1.0565 - acc: 0.470 - ETA: 2s - loss: 1.0573 - acc: 0.468 - ETA: 2s - loss: 1.0569 - acc: 0.469 - ETA: 2s - loss: 1.0571 - acc: 0.468 - ETA: 2s - loss: 1.0570 - acc: 0.468 - ETA: 2s - loss: 1.0574 - acc: 0.467 - ETA: 2s - loss: 1.0550 - acc: 0.471 - ETA: 1s - loss: 1.0561 - acc: 0.469 - ETA: 1s - loss: 1.0566 - acc: 0.468 - ETA: 1s - loss: 1.0556 - acc: 0.470 - ETA: 1s - loss: 1.0549 - acc: 0.472 - ETA: 1s - loss: 1.0551 - acc: 0.471 - ETA: 1s - loss: 1.0547 - acc: 0.471 - ETA: 1s - loss: 1.0549 - acc: 0.471 - ETA: 1s - loss: 1.0534 - acc: 0.474 - ETA: 1s - loss: 1.0540 - acc: 0.473 - ETA: 1s - loss: 1.0545 - acc: 0.472 - ETA: 1s - loss: 1.0541 - acc: 0.473 - ETA: 1s - loss: 1.0544 - acc: 0.472 - ETA: 1s - loss: 1.0541 - acc: 0.472 - ETA: 1s - loss: 1.0552 - acc: 0.470 - ETA: 1s - loss: 1.0556 - acc: 0.470 - ETA: 1s - loss: 1.0559 - acc: 0.469 - ETA: 1s - loss: 1.0552 - acc: 0.471 - ETA: 0s - loss: 1.0555 - acc: 0.470 - ETA: 0s - loss: 1.0554 - acc: 0.471 - ETA: 0s - loss: 1.0559 - acc: 0.470 - ETA: 0s - loss: 1.0559 - acc: 0.470 - ETA: 0s - loss: 1.0564 - acc: 0.470 - ETA: 0s - loss: 1.0583 - acc: 0.466 - ETA: 0s - loss: 1.0587 - acc: 0.465 - ETA: 0s - loss: 1.0585 - acc: 0.465 - ETA: 0s - loss: 1.0589 - acc: 0.464 - ETA: 0s - loss: 1.0591 - acc: 0.463 - ETA: 0s - loss: 1.0590 - acc: 0.464 - ETA: 0s - loss: 1.0586 - acc: 0.464 - ETA: 0s - loss: 1.0582 - acc: 0.464 - ETA: 0s - loss: 1.0580 - acc: 0.464 - ETA: 0s - loss: 1.0584 - acc: 0.463 - ETA: 0s - loss: 1.0586 - acc: 0.463 - ETA: 0s - loss: 1.0580 - acc: 0.464 - 4s 475us/sample - loss: 1.0578 - acc: 0.4646 - val_loss: 1.0530 - val_acc: 0.4588\n",
      "Epoch 70/100\n",
      "7917/7917 [==============================] - ETA: 4s - loss: 0.9944 - acc: 0.550 - ETA: 3s - loss: 1.0432 - acc: 0.485 - ETA: 3s - loss: 1.0262 - acc: 0.523 - ETA: 2s - loss: 1.0366 - acc: 0.506 - ETA: 3s - loss: 1.0422 - acc: 0.496 - ETA: 2s - loss: 1.0419 - acc: 0.494 - ETA: 2s - loss: 1.0499 - acc: 0.481 - ETA: 2s - loss: 1.0563 - acc: 0.467 - ETA: 2s - loss: 1.0562 - acc: 0.469 - ETA: 2s - loss: 1.0564 - acc: 0.470 - ETA: 2s - loss: 1.0572 - acc: 0.467 - ETA: 2s - loss: 1.0582 - acc: 0.466 - ETA: 2s - loss: 1.0550 - acc: 0.472 - ETA: 2s - loss: 1.0541 - acc: 0.474 - ETA: 2s - loss: 1.0535 - acc: 0.474 - ETA: 2s - loss: 1.0522 - acc: 0.475 - ETA: 2s - loss: 1.0521 - acc: 0.476 - ETA: 2s - loss: 1.0525 - acc: 0.474 - ETA: 2s - loss: 1.0534 - acc: 0.473 - ETA: 2s - loss: 1.0540 - acc: 0.473 - ETA: 2s - loss: 1.0570 - acc: 0.467 - ETA: 2s - loss: 1.0579 - acc: 0.465 - ETA: 2s - loss: 1.0568 - acc: 0.467 - ETA: 2s - loss: 1.0578 - acc: 0.465 - ETA: 1s - loss: 1.0586 - acc: 0.464 - ETA: 1s - loss: 1.0584 - acc: 0.464 - ETA: 1s - loss: 1.0570 - acc: 0.467 - ETA: 1s - loss: 1.0562 - acc: 0.469 - ETA: 1s - loss: 1.0565 - acc: 0.468 - ETA: 1s - loss: 1.0560 - acc: 0.469 - ETA: 1s - loss: 1.0552 - acc: 0.471 - ETA: 1s - loss: 1.0547 - acc: 0.471 - ETA: 1s - loss: 1.0537 - acc: 0.473 - ETA: 1s - loss: 1.0541 - acc: 0.471 - ETA: 1s - loss: 1.0547 - acc: 0.471 - ETA: 1s - loss: 1.0557 - acc: 0.469 - ETA: 1s - loss: 1.0564 - acc: 0.468 - ETA: 1s - loss: 1.0567 - acc: 0.467 - ETA: 1s - loss: 1.0569 - acc: 0.466 - ETA: 1s - loss: 1.0566 - acc: 0.466 - ETA: 1s - loss: 1.0570 - acc: 0.466 - ETA: 1s - loss: 1.0565 - acc: 0.466 - ETA: 1s - loss: 1.0569 - acc: 0.465 - ETA: 1s - loss: 1.0564 - acc: 0.466 - ETA: 1s - loss: 1.0571 - acc: 0.464 - ETA: 1s - loss: 1.0571 - acc: 0.464 - ETA: 0s - loss: 1.0576 - acc: 0.464 - ETA: 0s - loss: 1.0570 - acc: 0.465 - ETA: 0s - loss: 1.0581 - acc: 0.463 - ETA: 0s - loss: 1.0582 - acc: 0.463 - ETA: 0s - loss: 1.0589 - acc: 0.462 - ETA: 0s - loss: 1.0589 - acc: 0.462 - ETA: 0s - loss: 1.0590 - acc: 0.461 - ETA: 0s - loss: 1.0591 - acc: 0.461 - ETA: 0s - loss: 1.0589 - acc: 0.461 - ETA: 0s - loss: 1.0584 - acc: 0.462 - ETA: 0s - loss: 1.0587 - acc: 0.462 - ETA: 0s - loss: 1.0581 - acc: 0.463 - ETA: 0s - loss: 1.0575 - acc: 0.464 - ETA: 0s - loss: 1.0571 - acc: 0.464 - ETA: 0s - loss: 1.0570 - acc: 0.465 - ETA: 0s - loss: 1.0571 - acc: 0.464 - ETA: 0s - loss: 1.0574 - acc: 0.464 - ETA: 0s - loss: 1.0573 - acc: 0.464 - 4s 472us/sample - loss: 1.0572 - acc: 0.4646 - val_loss: 1.0529 - val_acc: 0.4588\n",
      "Epoch 71/100\n",
      "7917/7917 [==============================] - ETA: 3s - loss: 1.0562 - acc: 0.500 - ETA: 3s - loss: 1.0324 - acc: 0.506 - ETA: 3s - loss: 1.0308 - acc: 0.510 - ETA: 3s - loss: 1.0361 - acc: 0.500 - ETA: 2s - loss: 1.0482 - acc: 0.489 - ETA: 2s - loss: 1.0436 - acc: 0.501 - ETA: 2s - loss: 1.0375 - acc: 0.512 - ETA: 2s - loss: 1.0425 - acc: 0.504 - ETA: 2s - loss: 1.0440 - acc: 0.497 - ETA: 2s - loss: 1.0490 - acc: 0.489 - ETA: 2s - loss: 1.0507 - acc: 0.487 - ETA: 2s - loss: 1.0550 - acc: 0.481 - ETA: 2s - loss: 1.0558 - acc: 0.481 - ETA: 2s - loss: 1.0578 - acc: 0.476 - ETA: 2s - loss: 1.0575 - acc: 0.473 - ETA: 2s - loss: 1.0588 - acc: 0.470 - ETA: 2s - loss: 1.0575 - acc: 0.473 - ETA: 2s - loss: 1.0583 - acc: 0.471 - ETA: 2s - loss: 1.0599 - acc: 0.467 - ETA: 2s - loss: 1.0608 - acc: 0.466 - ETA: 2s - loss: 1.0633 - acc: 0.461 - ETA: 2s - loss: 1.0620 - acc: 0.463 - ETA: 2s - loss: 1.0645 - acc: 0.458 - ETA: 2s - loss: 1.0645 - acc: 0.459 - ETA: 2s - loss: 1.0634 - acc: 0.460 - ETA: 1s - loss: 1.0617 - acc: 0.462 - ETA: 1s - loss: 1.0616 - acc: 0.463 - ETA: 1s - loss: 1.0621 - acc: 0.461 - ETA: 1s - loss: 1.0604 - acc: 0.464 - ETA: 1s - loss: 1.0600 - acc: 0.464 - ETA: 1s - loss: 1.0600 - acc: 0.463 - ETA: 1s - loss: 1.0591 - acc: 0.465 - ETA: 1s - loss: 1.0599 - acc: 0.464 - ETA: 1s - loss: 1.0601 - acc: 0.464 - ETA: 1s - loss: 1.0609 - acc: 0.462 - ETA: 1s - loss: 1.0609 - acc: 0.463 - ETA: 1s - loss: 1.0603 - acc: 0.464 - ETA: 1s - loss: 1.0595 - acc: 0.464 - ETA: 1s - loss: 1.0595 - acc: 0.464 - ETA: 1s - loss: 1.0595 - acc: 0.464 - ETA: 1s - loss: 1.0591 - acc: 0.464 - ETA: 1s - loss: 1.0586 - acc: 0.465 - ETA: 1s - loss: 1.0577 - acc: 0.467 - ETA: 1s - loss: 1.0573 - acc: 0.467 - ETA: 1s - loss: 1.0571 - acc: 0.467 - ETA: 1s - loss: 1.0565 - acc: 0.467 - ETA: 1s - loss: 1.0567 - acc: 0.467 - ETA: 1s - loss: 1.0566 - acc: 0.467 - ETA: 0s - loss: 1.0565 - acc: 0.467 - ETA: 0s - loss: 1.0566 - acc: 0.467 - ETA: 0s - loss: 1.0571 - acc: 0.467 - ETA: 0s - loss: 1.0568 - acc: 0.467 - ETA: 0s - loss: 1.0573 - acc: 0.467 - ETA: 0s - loss: 1.0575 - acc: 0.466 - ETA: 0s - loss: 1.0575 - acc: 0.466 - ETA: 0s - loss: 1.0575 - acc: 0.466 - ETA: 0s - loss: 1.0573 - acc: 0.466 - ETA: 0s - loss: 1.0568 - acc: 0.467 - ETA: 0s - loss: 1.0571 - acc: 0.467 - ETA: 0s - loss: 1.0563 - acc: 0.468 - ETA: 0s - loss: 1.0554 - acc: 0.469 - ETA: 0s - loss: 1.0556 - acc: 0.469 - ETA: 0s - loss: 1.0561 - acc: 0.467 - ETA: 0s - loss: 1.0569 - acc: 0.466 - ETA: 0s - loss: 1.0568 - acc: 0.466 - ETA: 0s - loss: 1.0573 - acc: 0.466 - ETA: 0s - loss: 1.0567 - acc: 0.466 - ETA: 0s - loss: 1.0575 - acc: 0.465 - ETA: 0s - loss: 1.0576 - acc: 0.464 - 4s 501us/sample - loss: 1.0579 - acc: 0.4641 - val_loss: 1.0528 - val_acc: 0.4588\n",
      "Epoch 72/100\n",
      "7917/7917 [==============================] - ETA: 10s - loss: 0.9845 - acc: 0.55 - ETA: 7s - loss: 1.0559 - acc: 0.4625 - ETA: 4s - loss: 1.0397 - acc: 0.483 - ETA: 3s - loss: 1.0335 - acc: 0.507 - ETA: 3s - loss: 1.0483 - acc: 0.480 - ETA: 3s - loss: 1.0464 - acc: 0.485 - ETA: 3s - loss: 1.0465 - acc: 0.478 - ETA: 3s - loss: 1.0505 - acc: 0.475 - ETA: 3s - loss: 1.0508 - acc: 0.475 - ETA: 3s - loss: 1.0497 - acc: 0.476 - ETA: 2s - loss: 1.0513 - acc: 0.475 - ETA: 2s - loss: 1.0517 - acc: 0.474 - ETA: 2s - loss: 1.0533 - acc: 0.471 - ETA: 2s - loss: 1.0574 - acc: 0.464 - ETA: 2s - loss: 1.0579 - acc: 0.463 - ETA: 2s - loss: 1.0573 - acc: 0.462 - ETA: 2s - loss: 1.0593 - acc: 0.459 - ETA: 2s - loss: 1.0620 - acc: 0.455 - ETA: 2s - loss: 1.0617 - acc: 0.455 - ETA: 2s - loss: 1.0633 - acc: 0.454 - ETA: 2s - loss: 1.0645 - acc: 0.452 - ETA: 2s - loss: 1.0655 - acc: 0.449 - ETA: 2s - loss: 1.0639 - acc: 0.450 - ETA: 2s - loss: 1.0636 - acc: 0.451 - ETA: 2s - loss: 1.0637 - acc: 0.451 - ETA: 2s - loss: 1.0623 - acc: 0.454 - ETA: 2s - loss: 1.0602 - acc: 0.458 - ETA: 2s - loss: 1.0599 - acc: 0.458 - ETA: 2s - loss: 1.0596 - acc: 0.459 - ETA: 2s - loss: 1.0602 - acc: 0.458 - ETA: 1s - loss: 1.0599 - acc: 0.459 - ETA: 1s - loss: 1.0597 - acc: 0.460 - ETA: 1s - loss: 1.0585 - acc: 0.462 - ETA: 1s - loss: 1.0584 - acc: 0.462 - ETA: 1s - loss: 1.0580 - acc: 0.463 - ETA: 1s - loss: 1.0586 - acc: 0.462 - ETA: 1s - loss: 1.0603 - acc: 0.459 - ETA: 1s - loss: 1.0603 - acc: 0.458 - ETA: 1s - loss: 1.0601 - acc: 0.458 - ETA: 1s - loss: 1.0612 - acc: 0.457 - ETA: 1s - loss: 1.0619 - acc: 0.456 - ETA: 1s - loss: 1.0620 - acc: 0.456 - ETA: 1s - loss: 1.0621 - acc: 0.456 - ETA: 1s - loss: 1.0624 - acc: 0.456 - ETA: 1s - loss: 1.0627 - acc: 0.455 - ETA: 1s - loss: 1.0625 - acc: 0.456 - ETA: 1s - loss: 1.0626 - acc: 0.456 - ETA: 1s - loss: 1.0625 - acc: 0.456 - ETA: 1s - loss: 1.0626 - acc: 0.456 - ETA: 1s - loss: 1.0627 - acc: 0.456 - ETA: 1s - loss: 1.0630 - acc: 0.455 - ETA: 1s - loss: 1.0635 - acc: 0.455 - ETA: 1s - loss: 1.0626 - acc: 0.456 - ETA: 1s - loss: 1.0622 - acc: 0.457 - ETA: 1s - loss: 1.0618 - acc: 0.458 - ETA: 1s - loss: 1.0623 - acc: 0.457 - ETA: 1s - loss: 1.0624 - acc: 0.457 - ETA: 1s - loss: 1.0622 - acc: 0.457 - ETA: 1s - loss: 1.0623 - acc: 0.457 - ETA: 1s - loss: 1.0625 - acc: 0.456 - ETA: 1s - loss: 1.0620 - acc: 0.457 - ETA: 1s - loss: 1.0614 - acc: 0.458 - ETA: 1s - loss: 1.0617 - acc: 0.458 - ETA: 1s - loss: 1.0610 - acc: 0.459 - ETA: 1s - loss: 1.0605 - acc: 0.460 - ETA: 1s - loss: 1.0606 - acc: 0.460 - ETA: 1s - loss: 1.0607 - acc: 0.460 - ETA: 1s - loss: 1.0610 - acc: 0.459 - ETA: 1s - loss: 1.0609 - acc: 0.459 - ETA: 0s - loss: 1.0610 - acc: 0.459 - ETA: 0s - loss: 1.0612 - acc: 0.459 - ETA: 0s - loss: 1.0608 - acc: 0.460 - ETA: 0s - loss: 1.0613 - acc: 0.459 - ETA: 0s - loss: 1.0606 - acc: 0.460 - ETA: 0s - loss: 1.0608 - acc: 0.460 - ETA: 0s - loss: 1.0604 - acc: 0.460 - ETA: 0s - loss: 1.0596 - acc: 0.462 - ETA: 0s - loss: 1.0590 - acc: 0.463 - ETA: 0s - loss: 1.0588 - acc: 0.463 - ETA: 0s - loss: 1.0587 - acc: 0.463 - ETA: 0s - loss: 1.0585 - acc: 0.464 - ETA: 0s - loss: 1.0586 - acc: 0.463 - ETA: 0s - loss: 1.0590 - acc: 0.462 - ETA: 0s - loss: 1.0588 - acc: 0.462 - ETA: 0s - loss: 1.0589 - acc: 0.462 - ETA: 0s - loss: 1.0581 - acc: 0.463 - 5s 655us/sample - loss: 1.0579 - acc: 0.4642 - val_loss: 1.0526 - val_acc: 0.4588\n",
      "Epoch 73/100\n",
      "7917/7917 [==============================] - ETA: 5s - loss: 1.0591 - acc: 0.500 - ETA: 3s - loss: 1.0783 - acc: 0.435 - ETA: 3s - loss: 1.0793 - acc: 0.420 - ETA: 3s - loss: 1.0588 - acc: 0.463 - ETA: 3s - loss: 1.0647 - acc: 0.456 - ETA: 3s - loss: 1.0652 - acc: 0.453 - ETA: 3s - loss: 1.0602 - acc: 0.461 - ETA: 3s - loss: 1.0586 - acc: 0.464 - ETA: 3s - loss: 1.0620 - acc: 0.454 - ETA: 3s - loss: 1.0599 - acc: 0.460 - ETA: 3s - loss: 1.0611 - acc: 0.457 - ETA: 3s - loss: 1.0613 - acc: 0.457 - ETA: 3s - loss: 1.0604 - acc: 0.459 - ETA: 3s - loss: 1.0581 - acc: 0.462 - ETA: 2s - loss: 1.0579 - acc: 0.462 - ETA: 2s - loss: 1.0570 - acc: 0.464 - ETA: 2s - loss: 1.0552 - acc: 0.467 - ETA: 2s - loss: 1.0553 - acc: 0.468 - ETA: 2s - loss: 1.0532 - acc: 0.470 - ETA: 2s - loss: 1.0531 - acc: 0.471 - ETA: 2s - loss: 1.0506 - acc: 0.475 - ETA: 2s - loss: 1.0491 - acc: 0.479 - ETA: 2s - loss: 1.0518 - acc: 0.474 - ETA: 2s - loss: 1.0539 - acc: 0.471 - ETA: 2s - loss: 1.0537 - acc: 0.471 - ETA: 2s - loss: 1.0538 - acc: 0.471 - ETA: 2s - loss: 1.0558 - acc: 0.467 - ETA: 2s - loss: 1.0553 - acc: 0.468 - ETA: 2s - loss: 1.0546 - acc: 0.469 - ETA: 2s - loss: 1.0555 - acc: 0.467 - ETA: 2s - loss: 1.0554 - acc: 0.467 - ETA: 2s - loss: 1.0568 - acc: 0.465 - ETA: 2s - loss: 1.0564 - acc: 0.465 - ETA: 2s - loss: 1.0559 - acc: 0.465 - ETA: 2s - loss: 1.0572 - acc: 0.463 - ETA: 2s - loss: 1.0574 - acc: 0.463 - ETA: 1s - loss: 1.0570 - acc: 0.463 - ETA: 1s - loss: 1.0578 - acc: 0.462 - ETA: 1s - loss: 1.0581 - acc: 0.461 - ETA: 1s - loss: 1.0575 - acc: 0.462 - ETA: 1s - loss: 1.0580 - acc: 0.462 - ETA: 1s - loss: 1.0580 - acc: 0.462 - ETA: 1s - loss: 1.0576 - acc: 0.463 - ETA: 1s - loss: 1.0579 - acc: 0.463 - ETA: 1s - loss: 1.0576 - acc: 0.463 - ETA: 1s - loss: 1.0577 - acc: 0.463 - ETA: 1s - loss: 1.0581 - acc: 0.462 - ETA: 1s - loss: 1.0582 - acc: 0.462 - ETA: 1s - loss: 1.0583 - acc: 0.462 - ETA: 1s - loss: 1.0585 - acc: 0.462 - ETA: 1s - loss: 1.0586 - acc: 0.461 - ETA: 1s - loss: 1.0592 - acc: 0.461 - ETA: 1s - loss: 1.0592 - acc: 0.460 - ETA: 1s - loss: 1.0592 - acc: 0.460 - ETA: 1s - loss: 1.0587 - acc: 0.461 - ETA: 1s - loss: 1.0592 - acc: 0.461 - ETA: 1s - loss: 1.0593 - acc: 0.460 - ETA: 1s - loss: 1.0593 - acc: 0.460 - ETA: 1s - loss: 1.0587 - acc: 0.461 - ETA: 1s - loss: 1.0578 - acc: 0.463 - ETA: 1s - loss: 1.0586 - acc: 0.461 - ETA: 1s - loss: 1.0587 - acc: 0.461 - ETA: 1s - loss: 1.0586 - acc: 0.460 - ETA: 1s - loss: 1.0583 - acc: 0.461 - ETA: 1s - loss: 1.0588 - acc: 0.460 - ETA: 1s - loss: 1.0583 - acc: 0.461 - ETA: 0s - loss: 1.0585 - acc: 0.461 - ETA: 0s - loss: 1.0582 - acc: 0.462 - ETA: 0s - loss: 1.0576 - acc: 0.463 - ETA: 0s - loss: 1.0575 - acc: 0.463 - ETA: 0s - loss: 1.0578 - acc: 0.463 - ETA: 0s - loss: 1.0582 - acc: 0.462 - ETA: 0s - loss: 1.0583 - acc: 0.461 - ETA: 0s - loss: 1.0586 - acc: 0.461 - ETA: 0s - loss: 1.0586 - acc: 0.461 - ETA: 0s - loss: 1.0585 - acc: 0.461 - ETA: 0s - loss: 1.0590 - acc: 0.460 - ETA: 0s - loss: 1.0585 - acc: 0.462 - ETA: 0s - loss: 1.0590 - acc: 0.461 - ETA: 0s - loss: 1.0584 - acc: 0.462 - ETA: 0s - loss: 1.0585 - acc: 0.462 - ETA: 0s - loss: 1.0579 - acc: 0.463 - ETA: 0s - loss: 1.0575 - acc: 0.464 - 5s 689us/sample - loss: 1.0573 - acc: 0.4647 - val_loss: 1.0525 - val_acc: 0.4588\n",
      "Epoch 74/100\n"
     ]
    },
    {
     "name": "stdout",
     "output_type": "stream",
     "text": [
      "7917/7917 [==============================] - ETA: 3s - loss: 0.9414 - acc: 0.650 - ETA: 3s - loss: 1.0693 - acc: 0.450 - ETA: 3s - loss: 1.0611 - acc: 0.464 - ETA: 3s - loss: 1.0602 - acc: 0.462 - ETA: 3s - loss: 1.0652 - acc: 0.448 - ETA: 3s - loss: 1.0656 - acc: 0.446 - ETA: 3s - loss: 1.0624 - acc: 0.452 - ETA: 3s - loss: 1.0629 - acc: 0.451 - ETA: 3s - loss: 1.0613 - acc: 0.452 - ETA: 3s - loss: 1.0633 - acc: 0.447 - ETA: 3s - loss: 1.0608 - acc: 0.453 - ETA: 3s - loss: 1.0612 - acc: 0.455 - ETA: 3s - loss: 1.0619 - acc: 0.453 - ETA: 2s - loss: 1.0606 - acc: 0.456 - ETA: 2s - loss: 1.0602 - acc: 0.457 - ETA: 2s - loss: 1.0608 - acc: 0.456 - ETA: 2s - loss: 1.0604 - acc: 0.455 - ETA: 2s - loss: 1.0621 - acc: 0.451 - ETA: 2s - loss: 1.0636 - acc: 0.449 - ETA: 2s - loss: 1.0619 - acc: 0.452 - ETA: 2s - loss: 1.0614 - acc: 0.454 - ETA: 2s - loss: 1.0603 - acc: 0.453 - ETA: 2s - loss: 1.0580 - acc: 0.458 - ETA: 2s - loss: 1.0593 - acc: 0.456 - ETA: 2s - loss: 1.0583 - acc: 0.458 - ETA: 2s - loss: 1.0571 - acc: 0.461 - ETA: 2s - loss: 1.0573 - acc: 0.461 - ETA: 2s - loss: 1.0578 - acc: 0.461 - ETA: 2s - loss: 1.0582 - acc: 0.461 - ETA: 2s - loss: 1.0576 - acc: 0.462 - ETA: 2s - loss: 1.0582 - acc: 0.461 - ETA: 1s - loss: 1.0579 - acc: 0.463 - ETA: 1s - loss: 1.0578 - acc: 0.463 - ETA: 1s - loss: 1.0580 - acc: 0.463 - ETA: 2s - loss: 1.0578 - acc: 0.463 - ETA: 2s - loss: 1.0580 - acc: 0.462 - ETA: 2s - loss: 1.0581 - acc: 0.462 - ETA: 2s - loss: 1.0589 - acc: 0.461 - ETA: 2s - loss: 1.0592 - acc: 0.461 - ETA: 2s - loss: 1.0590 - acc: 0.461 - ETA: 1s - loss: 1.0596 - acc: 0.460 - ETA: 1s - loss: 1.0601 - acc: 0.459 - ETA: 1s - loss: 1.0598 - acc: 0.459 - ETA: 1s - loss: 1.0593 - acc: 0.460 - ETA: 1s - loss: 1.0592 - acc: 0.460 - ETA: 1s - loss: 1.0590 - acc: 0.461 - ETA: 1s - loss: 1.0589 - acc: 0.462 - ETA: 1s - loss: 1.0591 - acc: 0.462 - ETA: 1s - loss: 1.0594 - acc: 0.461 - ETA: 1s - loss: 1.0593 - acc: 0.461 - ETA: 1s - loss: 1.0592 - acc: 0.462 - ETA: 1s - loss: 1.0598 - acc: 0.462 - ETA: 1s - loss: 1.0603 - acc: 0.461 - ETA: 1s - loss: 1.0594 - acc: 0.462 - ETA: 1s - loss: 1.0591 - acc: 0.463 - ETA: 1s - loss: 1.0592 - acc: 0.463 - ETA: 1s - loss: 1.0595 - acc: 0.462 - ETA: 1s - loss: 1.0597 - acc: 0.462 - ETA: 1s - loss: 1.0595 - acc: 0.462 - ETA: 0s - loss: 1.0588 - acc: 0.464 - ETA: 0s - loss: 1.0584 - acc: 0.465 - ETA: 0s - loss: 1.0596 - acc: 0.463 - ETA: 0s - loss: 1.0594 - acc: 0.463 - ETA: 0s - loss: 1.0593 - acc: 0.463 - ETA: 0s - loss: 1.0591 - acc: 0.463 - ETA: 0s - loss: 1.0586 - acc: 0.464 - ETA: 0s - loss: 1.0591 - acc: 0.463 - ETA: 0s - loss: 1.0584 - acc: 0.464 - ETA: 0s - loss: 1.0585 - acc: 0.464 - ETA: 0s - loss: 1.0583 - acc: 0.464 - ETA: 0s - loss: 1.0584 - acc: 0.465 - ETA: 0s - loss: 1.0585 - acc: 0.464 - ETA: 0s - loss: 1.0585 - acc: 0.464 - ETA: 0s - loss: 1.0588 - acc: 0.464 - ETA: 0s - loss: 1.0585 - acc: 0.464 - 4s 545us/sample - loss: 1.0586 - acc: 0.4644 - val_loss: 1.0524 - val_acc: 0.4588\n",
      "Epoch 75/100\n",
      "7917/7917 [==============================] - ETA: 7s - loss: 1.0749 - acc: 0.450 - ETA: 3s - loss: 1.0784 - acc: 0.450 - ETA: 3s - loss: 1.0831 - acc: 0.430 - ETA: 3s - loss: 1.0719 - acc: 0.452 - ETA: 3s - loss: 1.0739 - acc: 0.442 - ETA: 3s - loss: 1.0677 - acc: 0.453 - ETA: 3s - loss: 1.0681 - acc: 0.452 - ETA: 3s - loss: 1.0663 - acc: 0.451 - ETA: 2s - loss: 1.0643 - acc: 0.451 - ETA: 2s - loss: 1.0617 - acc: 0.456 - ETA: 2s - loss: 1.0601 - acc: 0.460 - ETA: 2s - loss: 1.0597 - acc: 0.459 - ETA: 2s - loss: 1.0561 - acc: 0.464 - ETA: 2s - loss: 1.0578 - acc: 0.462 - ETA: 2s - loss: 1.0565 - acc: 0.466 - ETA: 2s - loss: 1.0556 - acc: 0.468 - ETA: 2s - loss: 1.0564 - acc: 0.466 - ETA: 2s - loss: 1.0584 - acc: 0.463 - ETA: 2s - loss: 1.0597 - acc: 0.461 - ETA: 2s - loss: 1.0604 - acc: 0.461 - ETA: 2s - loss: 1.0599 - acc: 0.462 - ETA: 2s - loss: 1.0593 - acc: 0.463 - ETA: 2s - loss: 1.0596 - acc: 0.463 - ETA: 2s - loss: 1.0583 - acc: 0.464 - ETA: 2s - loss: 1.0585 - acc: 0.464 - ETA: 1s - loss: 1.0577 - acc: 0.465 - ETA: 1s - loss: 1.0565 - acc: 0.467 - ETA: 1s - loss: 1.0565 - acc: 0.467 - ETA: 1s - loss: 1.0574 - acc: 0.466 - ETA: 1s - loss: 1.0603 - acc: 0.461 - ETA: 1s - loss: 1.0601 - acc: 0.462 - ETA: 1s - loss: 1.0593 - acc: 0.464 - ETA: 1s - loss: 1.0592 - acc: 0.464 - ETA: 1s - loss: 1.0581 - acc: 0.467 - ETA: 1s - loss: 1.0588 - acc: 0.465 - ETA: 1s - loss: 1.0588 - acc: 0.465 - ETA: 1s - loss: 1.0579 - acc: 0.467 - ETA: 1s - loss: 1.0577 - acc: 0.467 - ETA: 1s - loss: 1.0569 - acc: 0.468 - ETA: 1s - loss: 1.0567 - acc: 0.469 - ETA: 1s - loss: 1.0572 - acc: 0.469 - ETA: 1s - loss: 1.0572 - acc: 0.469 - ETA: 1s - loss: 1.0572 - acc: 0.468 - ETA: 1s - loss: 1.0577 - acc: 0.466 - ETA: 1s - loss: 1.0572 - acc: 0.467 - ETA: 1s - loss: 1.0568 - acc: 0.467 - ETA: 1s - loss: 1.0573 - acc: 0.466 - ETA: 1s - loss: 1.0569 - acc: 0.467 - ETA: 0s - loss: 1.0567 - acc: 0.467 - ETA: 0s - loss: 1.0564 - acc: 0.467 - ETA: 0s - loss: 1.0571 - acc: 0.466 - ETA: 0s - loss: 1.0570 - acc: 0.466 - ETA: 0s - loss: 1.0574 - acc: 0.465 - ETA: 0s - loss: 1.0574 - acc: 0.465 - ETA: 0s - loss: 1.0582 - acc: 0.464 - ETA: 0s - loss: 1.0581 - acc: 0.464 - ETA: 0s - loss: 1.0578 - acc: 0.465 - ETA: 0s - loss: 1.0571 - acc: 0.465 - ETA: 0s - loss: 1.0568 - acc: 0.466 - ETA: 0s - loss: 1.0565 - acc: 0.466 - ETA: 0s - loss: 1.0560 - acc: 0.467 - ETA: 0s - loss: 1.0567 - acc: 0.466 - ETA: 0s - loss: 1.0570 - acc: 0.465 - ETA: 0s - loss: 1.0569 - acc: 0.465 - ETA: 0s - loss: 1.0574 - acc: 0.464 - ETA: 0s - loss: 1.0574 - acc: 0.464 - 4s 488us/sample - loss: 1.0574 - acc: 0.4644 - val_loss: 1.0523 - val_acc: 0.4588\n",
      "Epoch 76/100\n",
      "7917/7917 [==============================] - ETA: 4s - loss: 0.9913 - acc: 0.600 - ETA: 3s - loss: 1.0102 - acc: 0.528 - ETA: 3s - loss: 1.0424 - acc: 0.473 - ETA: 3s - loss: 1.0528 - acc: 0.475 - ETA: 3s - loss: 1.0499 - acc: 0.480 - ETA: 3s - loss: 1.0490 - acc: 0.481 - ETA: 3s - loss: 1.0500 - acc: 0.475 - ETA: 3s - loss: 1.0515 - acc: 0.472 - ETA: 2s - loss: 1.0521 - acc: 0.476 - ETA: 2s - loss: 1.0518 - acc: 0.475 - ETA: 2s - loss: 1.0490 - acc: 0.476 - ETA: 2s - loss: 1.0515 - acc: 0.473 - ETA: 3s - loss: 1.0510 - acc: 0.474 - ETA: 3s - loss: 1.0511 - acc: 0.476 - ETA: 3s - loss: 1.0518 - acc: 0.475 - ETA: 3s - loss: 1.0493 - acc: 0.481 - ETA: 3s - loss: 1.0504 - acc: 0.478 - ETA: 3s - loss: 1.0490 - acc: 0.478 - ETA: 2s - loss: 1.0523 - acc: 0.473 - ETA: 2s - loss: 1.0511 - acc: 0.476 - ETA: 2s - loss: 1.0500 - acc: 0.478 - ETA: 2s - loss: 1.0494 - acc: 0.477 - ETA: 2s - loss: 1.0512 - acc: 0.473 - ETA: 2s - loss: 1.0526 - acc: 0.472 - ETA: 2s - loss: 1.0530 - acc: 0.471 - ETA: 2s - loss: 1.0527 - acc: 0.472 - ETA: 2s - loss: 1.0542 - acc: 0.469 - ETA: 2s - loss: 1.0543 - acc: 0.469 - ETA: 2s - loss: 1.0540 - acc: 0.469 - ETA: 2s - loss: 1.0535 - acc: 0.470 - ETA: 2s - loss: 1.0549 - acc: 0.468 - ETA: 2s - loss: 1.0554 - acc: 0.468 - ETA: 1s - loss: 1.0569 - acc: 0.465 - ETA: 1s - loss: 1.0569 - acc: 0.465 - ETA: 1s - loss: 1.0562 - acc: 0.467 - ETA: 1s - loss: 1.0563 - acc: 0.467 - ETA: 1s - loss: 1.0554 - acc: 0.469 - ETA: 1s - loss: 1.0554 - acc: 0.469 - ETA: 1s - loss: 1.0550 - acc: 0.469 - ETA: 1s - loss: 1.0553 - acc: 0.469 - ETA: 1s - loss: 1.0551 - acc: 0.469 - ETA: 1s - loss: 1.0554 - acc: 0.468 - ETA: 1s - loss: 1.0556 - acc: 0.468 - ETA: 1s - loss: 1.0563 - acc: 0.467 - ETA: 1s - loss: 1.0553 - acc: 0.469 - ETA: 1s - loss: 1.0553 - acc: 0.469 - ETA: 1s - loss: 1.0547 - acc: 0.470 - ETA: 1s - loss: 1.0560 - acc: 0.468 - ETA: 1s - loss: 1.0559 - acc: 0.467 - ETA: 1s - loss: 1.0561 - acc: 0.467 - ETA: 1s - loss: 1.0563 - acc: 0.467 - ETA: 1s - loss: 1.0561 - acc: 0.467 - ETA: 1s - loss: 1.0564 - acc: 0.466 - ETA: 1s - loss: 1.0555 - acc: 0.468 - ETA: 1s - loss: 1.0565 - acc: 0.466 - ETA: 1s - loss: 1.0568 - acc: 0.466 - ETA: 1s - loss: 1.0569 - acc: 0.465 - ETA: 1s - loss: 1.0576 - acc: 0.464 - ETA: 1s - loss: 1.0577 - acc: 0.464 - ETA: 1s - loss: 1.0578 - acc: 0.464 - ETA: 1s - loss: 1.0578 - acc: 0.464 - ETA: 1s - loss: 1.0590 - acc: 0.462 - ETA: 1s - loss: 1.0586 - acc: 0.463 - ETA: 1s - loss: 1.0577 - acc: 0.464 - ETA: 1s - loss: 1.0572 - acc: 0.465 - ETA: 0s - loss: 1.0575 - acc: 0.464 - ETA: 0s - loss: 1.0575 - acc: 0.464 - ETA: 0s - loss: 1.0573 - acc: 0.464 - ETA: 0s - loss: 1.0563 - acc: 0.465 - ETA: 0s - loss: 1.0561 - acc: 0.466 - ETA: 0s - loss: 1.0566 - acc: 0.465 - ETA: 0s - loss: 1.0566 - acc: 0.465 - ETA: 0s - loss: 1.0560 - acc: 0.466 - ETA: 0s - loss: 1.0558 - acc: 0.465 - ETA: 0s - loss: 1.0557 - acc: 0.465 - ETA: 0s - loss: 1.0558 - acc: 0.465 - ETA: 0s - loss: 1.0559 - acc: 0.465 - ETA: 0s - loss: 1.0562 - acc: 0.465 - ETA: 0s - loss: 1.0563 - acc: 0.465 - ETA: 0s - loss: 1.0561 - acc: 0.465 - ETA: 0s - loss: 1.0559 - acc: 0.465 - ETA: 0s - loss: 1.0566 - acc: 0.464 - 5s 683us/sample - loss: 1.0566 - acc: 0.4646 - val_loss: 1.0521 - val_acc: 0.4588\n",
      "Epoch 77/100\n",
      "7917/7917 [==============================] - ETA: 6s - loss: 1.0445 - acc: 0.500 - ETA: 4s - loss: 1.0694 - acc: 0.441 - ETA: 4s - loss: 1.0633 - acc: 0.454 - ETA: 4s - loss: 1.0638 - acc: 0.452 - ETA: 4s - loss: 1.0714 - acc: 0.443 - ETA: 4s - loss: 1.0669 - acc: 0.451 - ETA: 3s - loss: 1.0672 - acc: 0.451 - ETA: 3s - loss: 1.0633 - acc: 0.456 - ETA: 3s - loss: 1.0618 - acc: 0.460 - ETA: 3s - loss: 1.0621 - acc: 0.459 - ETA: 4s - loss: 1.0617 - acc: 0.461 - ETA: 4s - loss: 1.0624 - acc: 0.461 - ETA: 3s - loss: 1.0653 - acc: 0.456 - ETA: 3s - loss: 1.0588 - acc: 0.466 - ETA: 3s - loss: 1.0605 - acc: 0.463 - ETA: 3s - loss: 1.0566 - acc: 0.468 - ETA: 3s - loss: 1.0614 - acc: 0.461 - ETA: 3s - loss: 1.0592 - acc: 0.465 - ETA: 3s - loss: 1.0599 - acc: 0.462 - ETA: 3s - loss: 1.0582 - acc: 0.464 - ETA: 3s - loss: 1.0586 - acc: 0.464 - ETA: 3s - loss: 1.0564 - acc: 0.468 - ETA: 3s - loss: 1.0563 - acc: 0.468 - ETA: 3s - loss: 1.0572 - acc: 0.467 - ETA: 3s - loss: 1.0571 - acc: 0.466 - ETA: 3s - loss: 1.0576 - acc: 0.465 - ETA: 2s - loss: 1.0589 - acc: 0.462 - ETA: 2s - loss: 1.0594 - acc: 0.461 - ETA: 2s - loss: 1.0600 - acc: 0.459 - ETA: 2s - loss: 1.0600 - acc: 0.459 - ETA: 2s - loss: 1.0602 - acc: 0.459 - ETA: 2s - loss: 1.0604 - acc: 0.458 - ETA: 2s - loss: 1.0613 - acc: 0.457 - ETA: 2s - loss: 1.0606 - acc: 0.459 - ETA: 2s - loss: 1.0600 - acc: 0.461 - ETA: 2s - loss: 1.0602 - acc: 0.460 - ETA: 2s - loss: 1.0587 - acc: 0.462 - ETA: 2s - loss: 1.0590 - acc: 0.462 - ETA: 2s - loss: 1.0588 - acc: 0.462 - ETA: 2s - loss: 1.0592 - acc: 0.461 - ETA: 2s - loss: 1.0592 - acc: 0.461 - ETA: 2s - loss: 1.0590 - acc: 0.461 - ETA: 2s - loss: 1.0595 - acc: 0.461 - ETA: 2s - loss: 1.0593 - acc: 0.461 - ETA: 3s - loss: 1.0592 - acc: 0.461 - ETA: 3s - loss: 1.0584 - acc: 0.462 - ETA: 3s - loss: 1.0588 - acc: 0.462 - ETA: 3s - loss: 1.0591 - acc: 0.461 - ETA: 3s - loss: 1.0590 - acc: 0.461 - ETA: 2s - loss: 1.0587 - acc: 0.462 - ETA: 2s - loss: 1.0593 - acc: 0.461 - ETA: 2s - loss: 1.0597 - acc: 0.461 - ETA: 2s - loss: 1.0604 - acc: 0.461 - ETA: 2s - loss: 1.0598 - acc: 0.462 - ETA: 2s - loss: 1.0601 - acc: 0.462 - ETA: 2s - loss: 1.0606 - acc: 0.460 - ETA: 2s - loss: 1.0600 - acc: 0.462 - ETA: 2s - loss: 1.0592 - acc: 0.463 - ETA: 2s - loss: 1.0590 - acc: 0.463 - ETA: 2s - loss: 1.0588 - acc: 0.463 - ETA: 2s - loss: 1.0596 - acc: 0.462 - ETA: 2s - loss: 1.0602 - acc: 0.461 - ETA: 2s - loss: 1.0598 - acc: 0.461 - ETA: 2s - loss: 1.0595 - acc: 0.462 - ETA: 1s - loss: 1.0590 - acc: 0.463 - ETA: 1s - loss: 1.0592 - acc: 0.463 - ETA: 1s - loss: 1.0593 - acc: 0.462 - ETA: 1s - loss: 1.0598 - acc: 0.462 - ETA: 1s - loss: 1.0594 - acc: 0.463 - ETA: 1s - loss: 1.0593 - acc: 0.463 - ETA: 1s - loss: 1.0590 - acc: 0.464 - ETA: 1s - loss: 1.0584 - acc: 0.465 - ETA: 1s - loss: 1.0588 - acc: 0.464 - ETA: 1s - loss: 1.0579 - acc: 0.465 - ETA: 0s - loss: 1.0581 - acc: 0.464 - ETA: 0s - loss: 1.0580 - acc: 0.465 - ETA: 0s - loss: 1.0576 - acc: 0.465 - ETA: 0s - loss: 1.0580 - acc: 0.464 - ETA: 0s - loss: 1.0572 - acc: 0.466 - ETA: 0s - loss: 1.0566 - acc: 0.467 - ETA: 0s - loss: 1.0566 - acc: 0.466 - ETA: 0s - loss: 1.0572 - acc: 0.465 - ETA: 0s - loss: 1.0574 - acc: 0.465 - ETA: 0s - loss: 1.0575 - acc: 0.465 - ETA: 0s - loss: 1.0577 - acc: 0.465 - ETA: 0s - loss: 1.0576 - acc: 0.464 - ETA: 0s - loss: 1.0583 - acc: 0.463 - ETA: 0s - loss: 1.0578 - acc: 0.464 - ETA: 0s - loss: 1.0577 - acc: 0.464 - 5s 677us/sample - loss: 1.0576 - acc: 0.4646 - val_loss: 1.0520 - val_acc: 0.4588\n",
      "Epoch 78/100\n"
     ]
    },
    {
     "name": "stdout",
     "output_type": "stream",
     "text": [
      "7917/7917 [==============================] - ETA: 5s - loss: 1.0879 - acc: 0.350 - ETA: 8s - loss: 1.0664 - acc: 0.450 - ETA: 7s - loss: 1.0359 - acc: 0.483 - ETA: 5s - loss: 1.0490 - acc: 0.475 - ETA: 5s - loss: 1.0404 - acc: 0.492 - ETA: 4s - loss: 1.0395 - acc: 0.491 - ETA: 4s - loss: 1.0491 - acc: 0.475 - ETA: 5s - loss: 1.0498 - acc: 0.474 - ETA: 5s - loss: 1.0452 - acc: 0.483 - ETA: 6s - loss: 1.0444 - acc: 0.482 - ETA: 5s - loss: 1.0400 - acc: 0.491 - ETA: 5s - loss: 1.0446 - acc: 0.481 - ETA: 4s - loss: 1.0474 - acc: 0.477 - ETA: 5s - loss: 1.0461 - acc: 0.480 - ETA: 4s - loss: 1.0461 - acc: 0.479 - ETA: 4s - loss: 1.0435 - acc: 0.482 - ETA: 4s - loss: 1.0443 - acc: 0.480 - ETA: 4s - loss: 1.0469 - acc: 0.475 - ETA: 3s - loss: 1.0490 - acc: 0.471 - ETA: 3s - loss: 1.0484 - acc: 0.470 - ETA: 3s - loss: 1.0461 - acc: 0.475 - ETA: 3s - loss: 1.0474 - acc: 0.473 - ETA: 3s - loss: 1.0482 - acc: 0.472 - ETA: 3s - loss: 1.0474 - acc: 0.473 - ETA: 3s - loss: 1.0485 - acc: 0.471 - ETA: 3s - loss: 1.0480 - acc: 0.471 - ETA: 3s - loss: 1.0470 - acc: 0.472 - ETA: 3s - loss: 1.0524 - acc: 0.464 - ETA: 3s - loss: 1.0533 - acc: 0.461 - ETA: 3s - loss: 1.0535 - acc: 0.461 - ETA: 3s - loss: 1.0545 - acc: 0.460 - ETA: 3s - loss: 1.0527 - acc: 0.464 - ETA: 2s - loss: 1.0542 - acc: 0.461 - ETA: 2s - loss: 1.0537 - acc: 0.462 - ETA: 2s - loss: 1.0543 - acc: 0.461 - ETA: 2s - loss: 1.0535 - acc: 0.463 - ETA: 2s - loss: 1.0543 - acc: 0.462 - ETA: 2s - loss: 1.0536 - acc: 0.463 - ETA: 2s - loss: 1.0547 - acc: 0.462 - ETA: 2s - loss: 1.0544 - acc: 0.463 - ETA: 2s - loss: 1.0534 - acc: 0.465 - ETA: 2s - loss: 1.0539 - acc: 0.465 - ETA: 2s - loss: 1.0539 - acc: 0.465 - ETA: 2s - loss: 1.0535 - acc: 0.465 - ETA: 2s - loss: 1.0536 - acc: 0.465 - ETA: 2s - loss: 1.0544 - acc: 0.465 - ETA: 2s - loss: 1.0538 - acc: 0.466 - ETA: 2s - loss: 1.0538 - acc: 0.465 - ETA: 2s - loss: 1.0541 - acc: 0.465 - ETA: 2s - loss: 1.0546 - acc: 0.464 - ETA: 1s - loss: 1.0551 - acc: 0.464 - ETA: 1s - loss: 1.0550 - acc: 0.464 - ETA: 1s - loss: 1.0551 - acc: 0.464 - ETA: 1s - loss: 1.0548 - acc: 0.464 - ETA: 1s - loss: 1.0538 - acc: 0.465 - ETA: 1s - loss: 1.0545 - acc: 0.465 - ETA: 1s - loss: 1.0541 - acc: 0.465 - ETA: 1s - loss: 1.0546 - acc: 0.465 - ETA: 1s - loss: 1.0550 - acc: 0.464 - ETA: 1s - loss: 1.0548 - acc: 0.464 - ETA: 1s - loss: 1.0550 - acc: 0.464 - ETA: 1s - loss: 1.0546 - acc: 0.464 - ETA: 1s - loss: 1.0544 - acc: 0.465 - ETA: 1s - loss: 1.0552 - acc: 0.464 - ETA: 1s - loss: 1.0556 - acc: 0.463 - ETA: 0s - loss: 1.0551 - acc: 0.464 - ETA: 0s - loss: 1.0551 - acc: 0.464 - ETA: 0s - loss: 1.0546 - acc: 0.465 - ETA: 0s - loss: 1.0545 - acc: 0.465 - ETA: 0s - loss: 1.0539 - acc: 0.466 - ETA: 0s - loss: 1.0544 - acc: 0.465 - ETA: 0s - loss: 1.0545 - acc: 0.466 - ETA: 0s - loss: 1.0541 - acc: 0.466 - ETA: 0s - loss: 1.0544 - acc: 0.465 - ETA: 0s - loss: 1.0542 - acc: 0.466 - ETA: 0s - loss: 1.0541 - acc: 0.466 - ETA: 0s - loss: 1.0541 - acc: 0.466 - ETA: 0s - loss: 1.0546 - acc: 0.465 - ETA: 0s - loss: 1.0551 - acc: 0.465 - ETA: 0s - loss: 1.0552 - acc: 0.464 - ETA: 0s - loss: 1.0552 - acc: 0.464 - 5s 610us/sample - loss: 1.0552 - acc: 0.4643 - val_loss: 1.0519 - val_acc: 0.4588\n",
      "Epoch 79/100\n",
      "7917/7917 [==============================] - ETA: 6s - loss: 0.9634 - acc: 0.600 - ETA: 4s - loss: 1.0508 - acc: 0.466 - ETA: 4s - loss: 1.0427 - acc: 0.495 - ETA: 3s - loss: 1.0556 - acc: 0.467 - ETA: 3s - loss: 1.0527 - acc: 0.472 - ETA: 3s - loss: 1.0567 - acc: 0.466 - ETA: 3s - loss: 1.0534 - acc: 0.475 - ETA: 3s - loss: 1.0526 - acc: 0.477 - ETA: 3s - loss: 1.0524 - acc: 0.482 - ETA: 3s - loss: 1.0520 - acc: 0.483 - ETA: 3s - loss: 1.0535 - acc: 0.481 - ETA: 3s - loss: 1.0545 - acc: 0.478 - ETA: 3s - loss: 1.0528 - acc: 0.481 - ETA: 3s - loss: 1.0541 - acc: 0.479 - ETA: 3s - loss: 1.0538 - acc: 0.479 - ETA: 3s - loss: 1.0478 - acc: 0.490 - ETA: 3s - loss: 1.0465 - acc: 0.490 - ETA: 3s - loss: 1.0444 - acc: 0.495 - ETA: 4s - loss: 1.0443 - acc: 0.495 - ETA: 4s - loss: 1.0446 - acc: 0.494 - ETA: 4s - loss: 1.0445 - acc: 0.495 - ETA: 4s - loss: 1.0480 - acc: 0.488 - ETA: 4s - loss: 1.0483 - acc: 0.487 - ETA: 4s - loss: 1.0485 - acc: 0.486 - ETA: 4s - loss: 1.0462 - acc: 0.490 - ETA: 5s - loss: 1.0471 - acc: 0.488 - ETA: 5s - loss: 1.0493 - acc: 0.484 - ETA: 5s - loss: 1.0486 - acc: 0.485 - ETA: 5s - loss: 1.0494 - acc: 0.484 - ETA: 5s - loss: 1.0486 - acc: 0.484 - ETA: 5s - loss: 1.0493 - acc: 0.483 - ETA: 5s - loss: 1.0508 - acc: 0.480 - ETA: 5s - loss: 1.0492 - acc: 0.482 - ETA: 5s - loss: 1.0496 - acc: 0.482 - ETA: 5s - loss: 1.0500 - acc: 0.481 - ETA: 5s - loss: 1.0495 - acc: 0.481 - ETA: 5s - loss: 1.0514 - acc: 0.478 - ETA: 5s - loss: 1.0516 - acc: 0.478 - ETA: 5s - loss: 1.0510 - acc: 0.478 - ETA: 5s - loss: 1.0501 - acc: 0.480 - ETA: 5s - loss: 1.0513 - acc: 0.479 - ETA: 5s - loss: 1.0504 - acc: 0.479 - ETA: 5s - loss: 1.0496 - acc: 0.481 - ETA: 5s - loss: 1.0497 - acc: 0.480 - ETA: 5s - loss: 1.0504 - acc: 0.479 - ETA: 5s - loss: 1.0509 - acc: 0.478 - ETA: 5s - loss: 1.0507 - acc: 0.478 - ETA: 5s - loss: 1.0505 - acc: 0.479 - ETA: 5s - loss: 1.0495 - acc: 0.481 - ETA: 5s - loss: 1.0487 - acc: 0.482 - ETA: 5s - loss: 1.0490 - acc: 0.482 - ETA: 5s - loss: 1.0491 - acc: 0.482 - ETA: 5s - loss: 1.0493 - acc: 0.482 - ETA: 5s - loss: 1.0504 - acc: 0.481 - ETA: 5s - loss: 1.0521 - acc: 0.479 - ETA: 4s - loss: 1.0546 - acc: 0.475 - ETA: 4s - loss: 1.0542 - acc: 0.475 - ETA: 4s - loss: 1.0552 - acc: 0.472 - ETA: 4s - loss: 1.0549 - acc: 0.472 - ETA: 4s - loss: 1.0548 - acc: 0.473 - ETA: 4s - loss: 1.0540 - acc: 0.474 - ETA: 3s - loss: 1.0543 - acc: 0.473 - ETA: 3s - loss: 1.0537 - acc: 0.474 - ETA: 3s - loss: 1.0539 - acc: 0.474 - ETA: 3s - loss: 1.0525 - acc: 0.477 - ETA: 3s - loss: 1.0523 - acc: 0.477 - ETA: 3s - loss: 1.0520 - acc: 0.477 - ETA: 3s - loss: 1.0514 - acc: 0.479 - ETA: 3s - loss: 1.0516 - acc: 0.478 - ETA: 3s - loss: 1.0520 - acc: 0.477 - ETA: 3s - loss: 1.0512 - acc: 0.478 - ETA: 3s - loss: 1.0516 - acc: 0.477 - ETA: 3s - loss: 1.0508 - acc: 0.479 - ETA: 3s - loss: 1.0509 - acc: 0.479 - ETA: 3s - loss: 1.0509 - acc: 0.479 - ETA: 3s - loss: 1.0512 - acc: 0.479 - ETA: 3s - loss: 1.0516 - acc: 0.478 - ETA: 2s - loss: 1.0513 - acc: 0.478 - ETA: 2s - loss: 1.0514 - acc: 0.477 - ETA: 2s - loss: 1.0518 - acc: 0.477 - ETA: 2s - loss: 1.0529 - acc: 0.475 - ETA: 2s - loss: 1.0536 - acc: 0.474 - ETA: 2s - loss: 1.0536 - acc: 0.474 - ETA: 2s - loss: 1.0542 - acc: 0.473 - ETA: 2s - loss: 1.0536 - acc: 0.473 - ETA: 2s - loss: 1.0531 - acc: 0.474 - ETA: 2s - loss: 1.0544 - acc: 0.472 - ETA: 2s - loss: 1.0554 - acc: 0.471 - ETA: 1s - loss: 1.0551 - acc: 0.471 - ETA: 1s - loss: 1.0546 - acc: 0.472 - ETA: 1s - loss: 1.0547 - acc: 0.472 - ETA: 1s - loss: 1.0555 - acc: 0.470 - ETA: 1s - loss: 1.0559 - acc: 0.470 - ETA: 1s - loss: 1.0561 - acc: 0.469 - ETA: 1s - loss: 1.0562 - acc: 0.469 - ETA: 1s - loss: 1.0568 - acc: 0.468 - ETA: 1s - loss: 1.0567 - acc: 0.468 - ETA: 1s - loss: 1.0566 - acc: 0.469 - ETA: 1s - loss: 1.0564 - acc: 0.469 - ETA: 1s - loss: 1.0566 - acc: 0.469 - ETA: 1s - loss: 1.0567 - acc: 0.468 - ETA: 1s - loss: 1.0560 - acc: 0.469 - ETA: 1s - loss: 1.0557 - acc: 0.470 - ETA: 1s - loss: 1.0562 - acc: 0.469 - ETA: 1s - loss: 1.0560 - acc: 0.469 - ETA: 1s - loss: 1.0569 - acc: 0.468 - ETA: 1s - loss: 1.0574 - acc: 0.467 - ETA: 1s - loss: 1.0574 - acc: 0.467 - ETA: 1s - loss: 1.0574 - acc: 0.467 - ETA: 0s - loss: 1.0577 - acc: 0.466 - ETA: 0s - loss: 1.0575 - acc: 0.467 - ETA: 0s - loss: 1.0568 - acc: 0.468 - ETA: 0s - loss: 1.0573 - acc: 0.467 - ETA: 0s - loss: 1.0579 - acc: 0.466 - ETA: 0s - loss: 1.0577 - acc: 0.466 - ETA: 0s - loss: 1.0578 - acc: 0.465 - ETA: 0s - loss: 1.0583 - acc: 0.464 - ETA: 0s - loss: 1.0586 - acc: 0.464 - ETA: 0s - loss: 1.0585 - acc: 0.464 - 7s 923us/sample - loss: 1.0584 - acc: 0.4644 - val_loss: 1.0518 - val_acc: 0.4588\n",
      "Epoch 80/100\n",
      "7917/7917 [==============================] - ETA: 4s - loss: 1.1252 - acc: 0.350 - ETA: 6s - loss: 1.0416 - acc: 0.487 - ETA: 7s - loss: 1.0515 - acc: 0.457 - ETA: 6s - loss: 1.0341 - acc: 0.486 - ETA: 6s - loss: 1.0319 - acc: 0.490 - ETA: 7s - loss: 1.0346 - acc: 0.487 - ETA: 6s - loss: 1.0323 - acc: 0.495 - ETA: 5s - loss: 1.0384 - acc: 0.485 - ETA: 5s - loss: 1.0458 - acc: 0.476 - ETA: 4s - loss: 1.0438 - acc: 0.480 - ETA: 4s - loss: 1.0473 - acc: 0.474 - ETA: 4s - loss: 1.0454 - acc: 0.476 - ETA: 4s - loss: 1.0483 - acc: 0.473 - ETA: 4s - loss: 1.0504 - acc: 0.468 - ETA: 3s - loss: 1.0483 - acc: 0.473 - ETA: 3s - loss: 1.0484 - acc: 0.473 - ETA: 3s - loss: 1.0470 - acc: 0.478 - ETA: 3s - loss: 1.0479 - acc: 0.478 - ETA: 3s - loss: 1.0479 - acc: 0.478 - ETA: 3s - loss: 1.0507 - acc: 0.474 - ETA: 3s - loss: 1.0523 - acc: 0.472 - ETA: 3s - loss: 1.0513 - acc: 0.473 - ETA: 3s - loss: 1.0518 - acc: 0.473 - ETA: 3s - loss: 1.0522 - acc: 0.472 - ETA: 3s - loss: 1.0519 - acc: 0.473 - ETA: 2s - loss: 1.0517 - acc: 0.473 - ETA: 2s - loss: 1.0505 - acc: 0.475 - ETA: 2s - loss: 1.0504 - acc: 0.475 - ETA: 2s - loss: 1.0502 - acc: 0.476 - ETA: 2s - loss: 1.0510 - acc: 0.473 - ETA: 2s - loss: 1.0512 - acc: 0.472 - ETA: 2s - loss: 1.0525 - acc: 0.470 - ETA: 2s - loss: 1.0533 - acc: 0.469 - ETA: 2s - loss: 1.0532 - acc: 0.470 - ETA: 2s - loss: 1.0539 - acc: 0.469 - ETA: 2s - loss: 1.0528 - acc: 0.471 - ETA: 2s - loss: 1.0524 - acc: 0.472 - ETA: 2s - loss: 1.0528 - acc: 0.471 - ETA: 2s - loss: 1.0526 - acc: 0.471 - ETA: 2s - loss: 1.0529 - acc: 0.470 - ETA: 1s - loss: 1.0534 - acc: 0.471 - ETA: 1s - loss: 1.0536 - acc: 0.470 - ETA: 1s - loss: 1.0545 - acc: 0.468 - ETA: 1s - loss: 1.0548 - acc: 0.468 - ETA: 1s - loss: 1.0554 - acc: 0.466 - ETA: 1s - loss: 1.0559 - acc: 0.465 - ETA: 1s - loss: 1.0556 - acc: 0.466 - ETA: 1s - loss: 1.0558 - acc: 0.466 - ETA: 1s - loss: 1.0546 - acc: 0.468 - ETA: 1s - loss: 1.0547 - acc: 0.467 - ETA: 1s - loss: 1.0547 - acc: 0.468 - ETA: 1s - loss: 1.0545 - acc: 0.468 - ETA: 1s - loss: 1.0544 - acc: 0.468 - ETA: 1s - loss: 1.0540 - acc: 0.469 - ETA: 1s - loss: 1.0538 - acc: 0.469 - ETA: 1s - loss: 1.0534 - acc: 0.470 - ETA: 0s - loss: 1.0540 - acc: 0.469 - ETA: 0s - loss: 1.0538 - acc: 0.469 - ETA: 0s - loss: 1.0539 - acc: 0.468 - ETA: 0s - loss: 1.0541 - acc: 0.468 - ETA: 0s - loss: 1.0542 - acc: 0.468 - ETA: 0s - loss: 1.0550 - acc: 0.467 - ETA: 0s - loss: 1.0548 - acc: 0.467 - ETA: 0s - loss: 1.0558 - acc: 0.465 - ETA: 0s - loss: 1.0562 - acc: 0.465 - ETA: 0s - loss: 1.0564 - acc: 0.464 - ETA: 0s - loss: 1.0564 - acc: 0.464 - ETA: 0s - loss: 1.0560 - acc: 0.465 - ETA: 0s - loss: 1.0560 - acc: 0.464 - ETA: 0s - loss: 1.0560 - acc: 0.464 - ETA: 0s - loss: 1.0563 - acc: 0.464 - ETA: 0s - loss: 1.0564 - acc: 0.464 - ETA: 0s - loss: 1.0564 - acc: 0.464 - 4s 555us/sample - loss: 1.0562 - acc: 0.4643 - val_loss: 1.0517 - val_acc: 0.4588\n",
      "Epoch 81/100\n",
      "7917/7917 [==============================] - ETA: 4s - loss: 0.9493 - acc: 0.650 - ETA: 5s - loss: 1.0634 - acc: 0.460 - ETA: 6s - loss: 1.0574 - acc: 0.475 - ETA: 8s - loss: 1.0513 - acc: 0.481 - ETA: 10s - loss: 1.0475 - acc: 0.48 - ETA: 9s - loss: 1.0609 - acc: 0.4567 - ETA: 7s - loss: 1.0519 - acc: 0.470 - ETA: 7s - loss: 1.0517 - acc: 0.468 - ETA: 7s - loss: 1.0495 - acc: 0.470 - ETA: 6s - loss: 1.0518 - acc: 0.468 - ETA: 6s - loss: 1.0512 - acc: 0.473 - ETA: 5s - loss: 1.0516 - acc: 0.472 - ETA: 5s - loss: 1.0516 - acc: 0.470 - ETA: 5s - loss: 1.0503 - acc: 0.473 - ETA: 5s - loss: 1.0453 - acc: 0.484 - ETA: 4s - loss: 1.0467 - acc: 0.481 - ETA: 4s - loss: 1.0515 - acc: 0.473 - ETA: 4s - loss: 1.0535 - acc: 0.468 - ETA: 4s - loss: 1.0574 - acc: 0.463 - ETA: 4s - loss: 1.0574 - acc: 0.464 - ETA: 4s - loss: 1.0579 - acc: 0.462 - ETA: 3s - loss: 1.0576 - acc: 0.461 - ETA: 3s - loss: 1.0573 - acc: 0.463 - ETA: 3s - loss: 1.0563 - acc: 0.465 - ETA: 3s - loss: 1.0572 - acc: 0.463 - ETA: 3s - loss: 1.0571 - acc: 0.462 - ETA: 3s - loss: 1.0577 - acc: 0.460 - ETA: 3s - loss: 1.0583 - acc: 0.458 - ETA: 3s - loss: 1.0577 - acc: 0.458 - ETA: 3s - loss: 1.0571 - acc: 0.460 - ETA: 2s - loss: 1.0575 - acc: 0.458 - ETA: 2s - loss: 1.0578 - acc: 0.458 - ETA: 2s - loss: 1.0574 - acc: 0.460 - ETA: 2s - loss: 1.0580 - acc: 0.459 - ETA: 2s - loss: 1.0589 - acc: 0.458 - ETA: 2s - loss: 1.0595 - acc: 0.457 - ETA: 2s - loss: 1.0594 - acc: 0.457 - ETA: 2s - loss: 1.0591 - acc: 0.457 - ETA: 2s - loss: 1.0589 - acc: 0.458 - ETA: 2s - loss: 1.0596 - acc: 0.456 - ETA: 2s - loss: 1.0597 - acc: 0.457 - ETA: 2s - loss: 1.0597 - acc: 0.457 - ETA: 2s - loss: 1.0602 - acc: 0.457 - ETA: 1s - loss: 1.0606 - acc: 0.456 - ETA: 1s - loss: 1.0607 - acc: 0.456 - ETA: 1s - loss: 1.0605 - acc: 0.456 - ETA: 1s - loss: 1.0598 - acc: 0.457 - ETA: 1s - loss: 1.0599 - acc: 0.457 - ETA: 1s - loss: 1.0595 - acc: 0.457 - ETA: 1s - loss: 1.0599 - acc: 0.457 - ETA: 1s - loss: 1.0601 - acc: 0.457 - ETA: 1s - loss: 1.0588 - acc: 0.459 - ETA: 1s - loss: 1.0587 - acc: 0.460 - ETA: 1s - loss: 1.0577 - acc: 0.462 - ETA: 1s - loss: 1.0575 - acc: 0.462 - ETA: 1s - loss: 1.0572 - acc: 0.462 - ETA: 1s - loss: 1.0580 - acc: 0.461 - ETA: 1s - loss: 1.0580 - acc: 0.461 - ETA: 1s - loss: 1.0575 - acc: 0.461 - ETA: 0s - loss: 1.0572 - acc: 0.462 - ETA: 0s - loss: 1.0569 - acc: 0.463 - ETA: 0s - loss: 1.0565 - acc: 0.463 - ETA: 0s - loss: 1.0568 - acc: 0.462 - ETA: 0s - loss: 1.0563 - acc: 0.463 - ETA: 0s - loss: 1.0564 - acc: 0.463 - ETA: 0s - loss: 1.0559 - acc: 0.463 - ETA: 0s - loss: 1.0564 - acc: 0.463 - ETA: 0s - loss: 1.0560 - acc: 0.464 - ETA: 0s - loss: 1.0555 - acc: 0.464 - ETA: 0s - loss: 1.0550 - acc: 0.465 - ETA: 0s - loss: 1.0549 - acc: 0.466 - ETA: 0s - loss: 1.0550 - acc: 0.465 - ETA: 0s - loss: 1.0548 - acc: 0.466 - ETA: 0s - loss: 1.0556 - acc: 0.464 - ETA: 0s - loss: 1.0560 - acc: 0.464 - ETA: 0s - loss: 1.0555 - acc: 0.464 - 4s 562us/sample - loss: 1.0556 - acc: 0.4647 - val_loss: 1.0515 - val_acc: 0.4588\n",
      "Epoch 82/100\n"
     ]
    },
    {
     "name": "stdout",
     "output_type": "stream",
     "text": [
      "7917/7917 [==============================] - ETA: 4s - loss: 1.0193 - acc: 0.450 - ETA: 3s - loss: 1.0514 - acc: 0.464 - ETA: 3s - loss: 1.0715 - acc: 0.437 - ETA: 3s - loss: 1.0681 - acc: 0.438 - ETA: 3s - loss: 1.0673 - acc: 0.438 - ETA: 3s - loss: 1.0632 - acc: 0.446 - ETA: 3s - loss: 1.0654 - acc: 0.440 - ETA: 3s - loss: 1.0573 - acc: 0.459 - ETA: 4s - loss: 1.0550 - acc: 0.461 - ETA: 4s - loss: 1.0594 - acc: 0.455 - ETA: 3s - loss: 1.0606 - acc: 0.454 - ETA: 3s - loss: 1.0623 - acc: 0.452 - ETA: 3s - loss: 1.0611 - acc: 0.456 - ETA: 3s - loss: 1.0603 - acc: 0.457 - ETA: 3s - loss: 1.0610 - acc: 0.457 - ETA: 3s - loss: 1.0631 - acc: 0.455 - ETA: 3s - loss: 1.0619 - acc: 0.457 - ETA: 3s - loss: 1.0619 - acc: 0.458 - ETA: 3s - loss: 1.0640 - acc: 0.453 - ETA: 3s - loss: 1.0637 - acc: 0.452 - ETA: 3s - loss: 1.0624 - acc: 0.454 - ETA: 3s - loss: 1.0620 - acc: 0.454 - ETA: 3s - loss: 1.0622 - acc: 0.453 - ETA: 3s - loss: 1.0617 - acc: 0.453 - ETA: 3s - loss: 1.0609 - acc: 0.455 - ETA: 2s - loss: 1.0618 - acc: 0.454 - ETA: 3s - loss: 1.0619 - acc: 0.455 - ETA: 3s - loss: 1.0622 - acc: 0.454 - ETA: 3s - loss: 1.0618 - acc: 0.455 - ETA: 3s - loss: 1.0605 - acc: 0.457 - ETA: 2s - loss: 1.0596 - acc: 0.459 - ETA: 2s - loss: 1.0591 - acc: 0.459 - ETA: 2s - loss: 1.0589 - acc: 0.459 - ETA: 2s - loss: 1.0574 - acc: 0.462 - ETA: 2s - loss: 1.0550 - acc: 0.468 - ETA: 2s - loss: 1.0552 - acc: 0.468 - ETA: 2s - loss: 1.0551 - acc: 0.468 - ETA: 2s - loss: 1.0567 - acc: 0.466 - ETA: 2s - loss: 1.0561 - acc: 0.467 - ETA: 2s - loss: 1.0574 - acc: 0.466 - ETA: 2s - loss: 1.0587 - acc: 0.463 - ETA: 2s - loss: 1.0592 - acc: 0.462 - ETA: 2s - loss: 1.0588 - acc: 0.462 - ETA: 1s - loss: 1.0585 - acc: 0.463 - ETA: 1s - loss: 1.0583 - acc: 0.463 - ETA: 1s - loss: 1.0587 - acc: 0.462 - ETA: 1s - loss: 1.0582 - acc: 0.463 - ETA: 1s - loss: 1.0576 - acc: 0.464 - ETA: 1s - loss: 1.0571 - acc: 0.465 - ETA: 1s - loss: 1.0573 - acc: 0.465 - ETA: 1s - loss: 1.0570 - acc: 0.465 - ETA: 1s - loss: 1.0583 - acc: 0.463 - ETA: 1s - loss: 1.0577 - acc: 0.464 - ETA: 1s - loss: 1.0571 - acc: 0.464 - ETA: 1s - loss: 1.0564 - acc: 0.465 - ETA: 1s - loss: 1.0570 - acc: 0.464 - ETA: 1s - loss: 1.0565 - acc: 0.465 - ETA: 0s - loss: 1.0560 - acc: 0.465 - ETA: 0s - loss: 1.0563 - acc: 0.465 - ETA: 0s - loss: 1.0563 - acc: 0.464 - ETA: 0s - loss: 1.0564 - acc: 0.464 - ETA: 0s - loss: 1.0560 - acc: 0.465 - ETA: 0s - loss: 1.0562 - acc: 0.465 - ETA: 0s - loss: 1.0564 - acc: 0.465 - ETA: 0s - loss: 1.0560 - acc: 0.466 - ETA: 0s - loss: 1.0562 - acc: 0.465 - ETA: 0s - loss: 1.0570 - acc: 0.464 - ETA: 0s - loss: 1.0563 - acc: 0.465 - ETA: 0s - loss: 1.0558 - acc: 0.466 - ETA: 0s - loss: 1.0562 - acc: 0.466 - ETA: 0s - loss: 1.0562 - acc: 0.466 - ETA: 0s - loss: 1.0570 - acc: 0.464 - ETA: 0s - loss: 1.0570 - acc: 0.464 - ETA: 0s - loss: 1.0572 - acc: 0.464 - 4s 556us/sample - loss: 1.0574 - acc: 0.4647 - val_loss: 1.0514 - val_acc: 0.4588\n",
      "Epoch 83/100\n",
      "7917/7917 [==============================] - ETA: 3s - loss: 0.9604 - acc: 0.650 - ETA: 3s - loss: 1.0152 - acc: 0.528 - ETA: 3s - loss: 1.0430 - acc: 0.478 - ETA: 3s - loss: 1.0468 - acc: 0.473 - ETA: 3s - loss: 1.0464 - acc: 0.477 - ETA: 3s - loss: 1.0543 - acc: 0.465 - ETA: 3s - loss: 1.0608 - acc: 0.459 - ETA: 3s - loss: 1.0692 - acc: 0.444 - ETA: 3s - loss: 1.0648 - acc: 0.455 - ETA: 3s - loss: 1.0647 - acc: 0.457 - ETA: 3s - loss: 1.0629 - acc: 0.461 - ETA: 2s - loss: 1.0573 - acc: 0.470 - ETA: 2s - loss: 1.0546 - acc: 0.474 - ETA: 2s - loss: 1.0503 - acc: 0.480 - ETA: 2s - loss: 1.0523 - acc: 0.476 - ETA: 2s - loss: 1.0516 - acc: 0.475 - ETA: 2s - loss: 1.0545 - acc: 0.470 - ETA: 2s - loss: 1.0565 - acc: 0.467 - ETA: 2s - loss: 1.0570 - acc: 0.465 - ETA: 2s - loss: 1.0562 - acc: 0.466 - ETA: 2s - loss: 1.0567 - acc: 0.465 - ETA: 2s - loss: 1.0582 - acc: 0.464 - ETA: 2s - loss: 1.0573 - acc: 0.465 - ETA: 2s - loss: 1.0572 - acc: 0.466 - ETA: 2s - loss: 1.0574 - acc: 0.465 - ETA: 2s - loss: 1.0583 - acc: 0.464 - ETA: 2s - loss: 1.0586 - acc: 0.463 - ETA: 2s - loss: 1.0592 - acc: 0.462 - ETA: 2s - loss: 1.0573 - acc: 0.465 - ETA: 2s - loss: 1.0565 - acc: 0.466 - ETA: 2s - loss: 1.0570 - acc: 0.464 - ETA: 2s - loss: 1.0572 - acc: 0.463 - ETA: 2s - loss: 1.0571 - acc: 0.464 - ETA: 2s - loss: 1.0570 - acc: 0.463 - ETA: 2s - loss: 1.0578 - acc: 0.461 - ETA: 2s - loss: 1.0582 - acc: 0.461 - ETA: 2s - loss: 1.0587 - acc: 0.460 - ETA: 2s - loss: 1.0588 - acc: 0.460 - ETA: 2s - loss: 1.0581 - acc: 0.461 - ETA: 1s - loss: 1.0587 - acc: 0.460 - ETA: 1s - loss: 1.0591 - acc: 0.459 - ETA: 1s - loss: 1.0580 - acc: 0.461 - ETA: 1s - loss: 1.0582 - acc: 0.462 - ETA: 1s - loss: 1.0579 - acc: 0.462 - ETA: 1s - loss: 1.0582 - acc: 0.461 - ETA: 1s - loss: 1.0581 - acc: 0.461 - ETA: 1s - loss: 1.0583 - acc: 0.460 - ETA: 1s - loss: 1.0572 - acc: 0.462 - ETA: 1s - loss: 1.0569 - acc: 0.463 - ETA: 1s - loss: 1.0565 - acc: 0.464 - ETA: 1s - loss: 1.0561 - acc: 0.465 - ETA: 1s - loss: 1.0561 - acc: 0.464 - ETA: 1s - loss: 1.0563 - acc: 0.464 - ETA: 1s - loss: 1.0565 - acc: 0.463 - ETA: 1s - loss: 1.0565 - acc: 0.464 - ETA: 1s - loss: 1.0573 - acc: 0.462 - ETA: 0s - loss: 1.0577 - acc: 0.462 - ETA: 0s - loss: 1.0571 - acc: 0.462 - ETA: 0s - loss: 1.0573 - acc: 0.462 - ETA: 0s - loss: 1.0568 - acc: 0.462 - ETA: 0s - loss: 1.0568 - acc: 0.463 - ETA: 0s - loss: 1.0563 - acc: 0.464 - ETA: 0s - loss: 1.0563 - acc: 0.464 - ETA: 0s - loss: 1.0562 - acc: 0.464 - ETA: 0s - loss: 1.0563 - acc: 0.464 - ETA: 0s - loss: 1.0569 - acc: 0.463 - ETA: 0s - loss: 1.0568 - acc: 0.464 - ETA: 0s - loss: 1.0568 - acc: 0.464 - ETA: 0s - loss: 1.0567 - acc: 0.464 - ETA: 0s - loss: 1.0570 - acc: 0.463 - ETA: 0s - loss: 1.0568 - acc: 0.464 - ETA: 0s - loss: 1.0570 - acc: 0.463 - ETA: 0s - loss: 1.0568 - acc: 0.464 - ETA: 0s - loss: 1.0569 - acc: 0.464 - 4s 557us/sample - loss: 1.0567 - acc: 0.4644 - val_loss: 1.0513 - val_acc: 0.4588\n",
      "Epoch 84/100\n",
      "7917/7917 [==============================] - ETA: 6s - loss: 1.1472 - acc: 0.250 - ETA: 3s - loss: 1.0845 - acc: 0.421 - ETA: 3s - loss: 1.0576 - acc: 0.462 - ETA: 3s - loss: 1.0567 - acc: 0.452 - ETA: 3s - loss: 1.0557 - acc: 0.465 - ETA: 3s - loss: 1.0530 - acc: 0.470 - ETA: 3s - loss: 1.0565 - acc: 0.467 - ETA: 3s - loss: 1.0587 - acc: 0.464 - ETA: 3s - loss: 1.0639 - acc: 0.456 - ETA: 3s - loss: 1.0600 - acc: 0.465 - ETA: 3s - loss: 1.0629 - acc: 0.461 - ETA: 3s - loss: 1.0624 - acc: 0.460 - ETA: 3s - loss: 1.0623 - acc: 0.460 - ETA: 3s - loss: 1.0637 - acc: 0.458 - ETA: 3s - loss: 1.0627 - acc: 0.459 - ETA: 2s - loss: 1.0606 - acc: 0.463 - ETA: 2s - loss: 1.0601 - acc: 0.465 - ETA: 2s - loss: 1.0601 - acc: 0.464 - ETA: 2s - loss: 1.0597 - acc: 0.465 - ETA: 2s - loss: 1.0604 - acc: 0.463 - ETA: 2s - loss: 1.0598 - acc: 0.463 - ETA: 2s - loss: 1.0588 - acc: 0.465 - ETA: 2s - loss: 1.0589 - acc: 0.464 - ETA: 2s - loss: 1.0573 - acc: 0.467 - ETA: 2s - loss: 1.0583 - acc: 0.465 - ETA: 2s - loss: 1.0572 - acc: 0.468 - ETA: 2s - loss: 1.0559 - acc: 0.469 - ETA: 2s - loss: 1.0562 - acc: 0.468 - ETA: 2s - loss: 1.0564 - acc: 0.467 - ETA: 2s - loss: 1.0560 - acc: 0.468 - ETA: 2s - loss: 1.0561 - acc: 0.468 - ETA: 2s - loss: 1.0566 - acc: 0.467 - ETA: 2s - loss: 1.0576 - acc: 0.465 - ETA: 2s - loss: 1.0576 - acc: 0.465 - ETA: 2s - loss: 1.0582 - acc: 0.464 - ETA: 2s - loss: 1.0589 - acc: 0.463 - ETA: 2s - loss: 1.0585 - acc: 0.464 - ETA: 2s - loss: 1.0582 - acc: 0.464 - ETA: 2s - loss: 1.0591 - acc: 0.463 - ETA: 2s - loss: 1.0588 - acc: 0.464 - ETA: 2s - loss: 1.0590 - acc: 0.463 - ETA: 1s - loss: 1.0593 - acc: 0.462 - ETA: 1s - loss: 1.0605 - acc: 0.461 - ETA: 1s - loss: 1.0601 - acc: 0.461 - ETA: 1s - loss: 1.0594 - acc: 0.462 - ETA: 1s - loss: 1.0604 - acc: 0.461 - ETA: 1s - loss: 1.0607 - acc: 0.460 - ETA: 1s - loss: 1.0607 - acc: 0.460 - ETA: 1s - loss: 1.0603 - acc: 0.461 - ETA: 1s - loss: 1.0605 - acc: 0.460 - ETA: 1s - loss: 1.0612 - acc: 0.458 - ETA: 1s - loss: 1.0610 - acc: 0.459 - ETA: 1s - loss: 1.0596 - acc: 0.462 - ETA: 1s - loss: 1.0600 - acc: 0.461 - ETA: 1s - loss: 1.0604 - acc: 0.460 - ETA: 1s - loss: 1.0603 - acc: 0.460 - ETA: 1s - loss: 1.0600 - acc: 0.460 - ETA: 1s - loss: 1.0601 - acc: 0.460 - ETA: 1s - loss: 1.0600 - acc: 0.461 - ETA: 1s - loss: 1.0591 - acc: 0.462 - ETA: 1s - loss: 1.0593 - acc: 0.462 - ETA: 0s - loss: 1.0596 - acc: 0.461 - ETA: 0s - loss: 1.0597 - acc: 0.461 - ETA: 0s - loss: 1.0599 - acc: 0.461 - ETA: 0s - loss: 1.0594 - acc: 0.462 - ETA: 0s - loss: 1.0585 - acc: 0.463 - ETA: 0s - loss: 1.0586 - acc: 0.463 - ETA: 0s - loss: 1.0578 - acc: 0.464 - ETA: 0s - loss: 1.0574 - acc: 0.465 - ETA: 0s - loss: 1.0565 - acc: 0.466 - ETA: 0s - loss: 1.0567 - acc: 0.465 - ETA: 0s - loss: 1.0566 - acc: 0.465 - ETA: 0s - loss: 1.0565 - acc: 0.466 - ETA: 0s - loss: 1.0567 - acc: 0.465 - ETA: 0s - loss: 1.0570 - acc: 0.465 - ETA: 0s - loss: 1.0574 - acc: 0.464 - 4s 552us/sample - loss: 1.0575 - acc: 0.4643 - val_loss: 1.0512 - val_acc: 0.4588\n",
      "Epoch 85/100\n",
      "7917/7917 [==============================] - ETA: 7s - loss: 1.0250 - acc: 0.500 - ETA: 4s - loss: 1.0854 - acc: 0.428 - ETA: 3s - loss: 1.0588 - acc: 0.465 - ETA: 3s - loss: 1.0650 - acc: 0.457 - ETA: 3s - loss: 1.0588 - acc: 0.463 - ETA: 3s - loss: 1.0599 - acc: 0.464 - ETA: 3s - loss: 1.0595 - acc: 0.466 - ETA: 2s - loss: 1.0580 - acc: 0.470 - ETA: 2s - loss: 1.0544 - acc: 0.470 - ETA: 2s - loss: 1.0555 - acc: 0.469 - ETA: 2s - loss: 1.0548 - acc: 0.470 - ETA: 2s - loss: 1.0537 - acc: 0.473 - ETA: 2s - loss: 1.0486 - acc: 0.482 - ETA: 2s - loss: 1.0490 - acc: 0.480 - ETA: 2s - loss: 1.0487 - acc: 0.479 - ETA: 2s - loss: 1.0506 - acc: 0.476 - ETA: 2s - loss: 1.0514 - acc: 0.473 - ETA: 2s - loss: 1.0527 - acc: 0.470 - ETA: 2s - loss: 1.0507 - acc: 0.473 - ETA: 2s - loss: 1.0494 - acc: 0.476 - ETA: 2s - loss: 1.0512 - acc: 0.473 - ETA: 2s - loss: 1.0517 - acc: 0.472 - ETA: 2s - loss: 1.0507 - acc: 0.474 - ETA: 2s - loss: 1.0527 - acc: 0.469 - ETA: 2s - loss: 1.0527 - acc: 0.470 - ETA: 2s - loss: 1.0527 - acc: 0.470 - ETA: 2s - loss: 1.0517 - acc: 0.472 - ETA: 2s - loss: 1.0525 - acc: 0.471 - ETA: 1s - loss: 1.0531 - acc: 0.470 - ETA: 1s - loss: 1.0534 - acc: 0.469 - ETA: 1s - loss: 1.0538 - acc: 0.469 - ETA: 1s - loss: 1.0552 - acc: 0.466 - ETA: 1s - loss: 1.0562 - acc: 0.464 - ETA: 1s - loss: 1.0556 - acc: 0.466 - ETA: 1s - loss: 1.0555 - acc: 0.466 - ETA: 1s - loss: 1.0560 - acc: 0.465 - ETA: 1s - loss: 1.0569 - acc: 0.463 - ETA: 1s - loss: 1.0564 - acc: 0.463 - ETA: 1s - loss: 1.0559 - acc: 0.464 - ETA: 1s - loss: 1.0551 - acc: 0.466 - ETA: 1s - loss: 1.0558 - acc: 0.464 - ETA: 1s - loss: 1.0555 - acc: 0.466 - ETA: 1s - loss: 1.0557 - acc: 0.466 - ETA: 1s - loss: 1.0566 - acc: 0.465 - ETA: 1s - loss: 1.0572 - acc: 0.464 - ETA: 1s - loss: 1.0569 - acc: 0.463 - ETA: 1s - loss: 1.0577 - acc: 0.462 - ETA: 1s - loss: 1.0575 - acc: 0.462 - ETA: 1s - loss: 1.0589 - acc: 0.460 - ETA: 0s - loss: 1.0591 - acc: 0.460 - ETA: 0s - loss: 1.0595 - acc: 0.459 - ETA: 0s - loss: 1.0591 - acc: 0.460 - ETA: 0s - loss: 1.0593 - acc: 0.460 - ETA: 0s - loss: 1.0594 - acc: 0.459 - ETA: 0s - loss: 1.0592 - acc: 0.460 - ETA: 0s - loss: 1.0592 - acc: 0.460 - ETA: 0s - loss: 1.0588 - acc: 0.461 - ETA: 0s - loss: 1.0582 - acc: 0.463 - ETA: 0s - loss: 1.0577 - acc: 0.463 - ETA: 0s - loss: 1.0576 - acc: 0.464 - ETA: 0s - loss: 1.0573 - acc: 0.464 - ETA: 0s - loss: 1.0572 - acc: 0.464 - ETA: 0s - loss: 1.0576 - acc: 0.464 - ETA: 0s - loss: 1.0577 - acc: 0.464 - ETA: 0s - loss: 1.0583 - acc: 0.462 - ETA: 0s - loss: 1.0589 - acc: 0.461 - ETA: 0s - loss: 1.0581 - acc: 0.463 - ETA: 0s - loss: 1.0575 - acc: 0.464 - ETA: 0s - loss: 1.0573 - acc: 0.464 - 4s 516us/sample - loss: 1.0576 - acc: 0.4644 - val_loss: 1.0510 - val_acc: 0.4588\n",
      "Epoch 86/100\n"
     ]
    },
    {
     "name": "stdout",
     "output_type": "stream",
     "text": [
      "7917/7917 [==============================] - ETA: 6s - loss: 1.0009 - acc: 0.550 - ETA: 3s - loss: 1.0622 - acc: 0.462 - ETA: 3s - loss: 1.0521 - acc: 0.476 - ETA: 3s - loss: 1.0497 - acc: 0.482 - ETA: 3s - loss: 1.0386 - acc: 0.506 - ETA: 3s - loss: 1.0430 - acc: 0.493 - ETA: 3s - loss: 1.0442 - acc: 0.491 - ETA: 3s - loss: 1.0496 - acc: 0.481 - ETA: 3s - loss: 1.0506 - acc: 0.479 - ETA: 3s - loss: 1.0497 - acc: 0.480 - ETA: 3s - loss: 1.0469 - acc: 0.484 - ETA: 2s - loss: 1.0436 - acc: 0.488 - ETA: 2s - loss: 1.0421 - acc: 0.489 - ETA: 2s - loss: 1.0427 - acc: 0.486 - ETA: 2s - loss: 1.0454 - acc: 0.479 - ETA: 2s - loss: 1.0508 - acc: 0.471 - ETA: 2s - loss: 1.0507 - acc: 0.470 - ETA: 2s - loss: 1.0476 - acc: 0.474 - ETA: 2s - loss: 1.0482 - acc: 0.474 - ETA: 2s - loss: 1.0481 - acc: 0.474 - ETA: 2s - loss: 1.0473 - acc: 0.475 - ETA: 2s - loss: 1.0493 - acc: 0.473 - ETA: 2s - loss: 1.0503 - acc: 0.472 - ETA: 2s - loss: 1.0500 - acc: 0.472 - ETA: 2s - loss: 1.0502 - acc: 0.472 - ETA: 2s - loss: 1.0497 - acc: 0.474 - ETA: 2s - loss: 1.0502 - acc: 0.472 - ETA: 2s - loss: 1.0500 - acc: 0.473 - ETA: 2s - loss: 1.0496 - acc: 0.474 - ETA: 2s - loss: 1.0515 - acc: 0.471 - ETA: 1s - loss: 1.0530 - acc: 0.469 - ETA: 1s - loss: 1.0544 - acc: 0.467 - ETA: 1s - loss: 1.0545 - acc: 0.467 - ETA: 1s - loss: 1.0570 - acc: 0.464 - ETA: 1s - loss: 1.0566 - acc: 0.465 - ETA: 1s - loss: 1.0561 - acc: 0.466 - ETA: 1s - loss: 1.0561 - acc: 0.466 - ETA: 1s - loss: 1.0561 - acc: 0.466 - ETA: 1s - loss: 1.0559 - acc: 0.467 - ETA: 1s - loss: 1.0558 - acc: 0.466 - ETA: 1s - loss: 1.0551 - acc: 0.467 - ETA: 1s - loss: 1.0557 - acc: 0.467 - ETA: 1s - loss: 1.0555 - acc: 0.468 - ETA: 1s - loss: 1.0560 - acc: 0.467 - ETA: 1s - loss: 1.0558 - acc: 0.467 - ETA: 1s - loss: 1.0559 - acc: 0.466 - ETA: 1s - loss: 1.0557 - acc: 0.467 - ETA: 1s - loss: 1.0543 - acc: 0.469 - ETA: 1s - loss: 1.0535 - acc: 0.471 - ETA: 1s - loss: 1.0541 - acc: 0.470 - ETA: 1s - loss: 1.0534 - acc: 0.471 - ETA: 1s - loss: 1.0536 - acc: 0.471 - ETA: 1s - loss: 1.0537 - acc: 0.470 - ETA: 1s - loss: 1.0535 - acc: 0.471 - ETA: 1s - loss: 1.0528 - acc: 0.472 - ETA: 0s - loss: 1.0532 - acc: 0.471 - ETA: 0s - loss: 1.0533 - acc: 0.471 - ETA: 0s - loss: 1.0543 - acc: 0.469 - ETA: 0s - loss: 1.0541 - acc: 0.470 - ETA: 0s - loss: 1.0539 - acc: 0.470 - ETA: 0s - loss: 1.0532 - acc: 0.470 - ETA: 0s - loss: 1.0541 - acc: 0.469 - ETA: 0s - loss: 1.0543 - acc: 0.468 - ETA: 0s - loss: 1.0543 - acc: 0.469 - ETA: 0s - loss: 1.0546 - acc: 0.469 - ETA: 0s - loss: 1.0550 - acc: 0.468 - ETA: 0s - loss: 1.0558 - acc: 0.466 - ETA: 0s - loss: 1.0562 - acc: 0.465 - ETA: 0s - loss: 1.0557 - acc: 0.466 - ETA: 0s - loss: 1.0558 - acc: 0.466 - ETA: 0s - loss: 1.0558 - acc: 0.466 - ETA: 0s - loss: 1.0560 - acc: 0.466 - 4s 547us/sample - loss: 1.0567 - acc: 0.4647 - val_loss: 1.0509 - val_acc: 0.4588\n",
      "Epoch 87/100\n",
      "7917/7917 [==============================] - ETA: 5s - loss: 1.0983 - acc: 0.300 - ETA: 3s - loss: 1.0193 - acc: 0.487 - ETA: 3s - loss: 1.0538 - acc: 0.446 - ETA: 3s - loss: 1.0518 - acc: 0.452 - ETA: 3s - loss: 1.0471 - acc: 0.457 - ETA: 3s - loss: 1.0494 - acc: 0.453 - ETA: 3s - loss: 1.0566 - acc: 0.440 - ETA: 3s - loss: 1.0577 - acc: 0.443 - ETA: 3s - loss: 1.0603 - acc: 0.439 - ETA: 3s - loss: 1.0599 - acc: 0.440 - ETA: 3s - loss: 1.0556 - acc: 0.448 - ETA: 3s - loss: 1.0546 - acc: 0.450 - ETA: 2s - loss: 1.0549 - acc: 0.451 - ETA: 2s - loss: 1.0555 - acc: 0.450 - ETA: 2s - loss: 1.0559 - acc: 0.450 - ETA: 2s - loss: 1.0596 - acc: 0.447 - ETA: 2s - loss: 1.0597 - acc: 0.447 - ETA: 2s - loss: 1.0601 - acc: 0.447 - ETA: 2s - loss: 1.0609 - acc: 0.446 - ETA: 2s - loss: 1.0599 - acc: 0.448 - ETA: 2s - loss: 1.0599 - acc: 0.449 - ETA: 2s - loss: 1.0593 - acc: 0.450 - ETA: 2s - loss: 1.0591 - acc: 0.451 - ETA: 2s - loss: 1.0576 - acc: 0.454 - ETA: 2s - loss: 1.0569 - acc: 0.455 - ETA: 2s - loss: 1.0556 - acc: 0.457 - ETA: 2s - loss: 1.0571 - acc: 0.456 - ETA: 2s - loss: 1.0578 - acc: 0.456 - ETA: 2s - loss: 1.0571 - acc: 0.459 - ETA: 2s - loss: 1.0572 - acc: 0.458 - ETA: 1s - loss: 1.0568 - acc: 0.459 - ETA: 1s - loss: 1.0568 - acc: 0.459 - ETA: 1s - loss: 1.0571 - acc: 0.459 - ETA: 1s - loss: 1.0558 - acc: 0.462 - ETA: 1s - loss: 1.0555 - acc: 0.462 - ETA: 1s - loss: 1.0569 - acc: 0.460 - ETA: 1s - loss: 1.0566 - acc: 0.460 - ETA: 1s - loss: 1.0564 - acc: 0.461 - ETA: 1s - loss: 1.0568 - acc: 0.460 - ETA: 1s - loss: 1.0562 - acc: 0.461 - ETA: 1s - loss: 1.0567 - acc: 0.460 - ETA: 1s - loss: 1.0574 - acc: 0.459 - ETA: 1s - loss: 1.0574 - acc: 0.459 - ETA: 1s - loss: 1.0569 - acc: 0.460 - ETA: 1s - loss: 1.0569 - acc: 0.460 - ETA: 1s - loss: 1.0566 - acc: 0.461 - ETA: 1s - loss: 1.0574 - acc: 0.459 - ETA: 1s - loss: 1.0564 - acc: 0.461 - ETA: 1s - loss: 1.0568 - acc: 0.460 - ETA: 1s - loss: 1.0568 - acc: 0.460 - ETA: 1s - loss: 1.0566 - acc: 0.460 - ETA: 1s - loss: 1.0570 - acc: 0.459 - ETA: 1s - loss: 1.0570 - acc: 0.459 - ETA: 0s - loss: 1.0566 - acc: 0.460 - ETA: 0s - loss: 1.0569 - acc: 0.460 - ETA: 0s - loss: 1.0570 - acc: 0.460 - ETA: 0s - loss: 1.0573 - acc: 0.459 - ETA: 0s - loss: 1.0571 - acc: 0.460 - ETA: 0s - loss: 1.0562 - acc: 0.462 - ETA: 0s - loss: 1.0560 - acc: 0.462 - ETA: 0s - loss: 1.0557 - acc: 0.463 - ETA: 0s - loss: 1.0557 - acc: 0.463 - ETA: 0s - loss: 1.0563 - acc: 0.463 - ETA: 0s - loss: 1.0558 - acc: 0.463 - ETA: 0s - loss: 1.0562 - acc: 0.463 - ETA: 0s - loss: 1.0561 - acc: 0.463 - ETA: 0s - loss: 1.0562 - acc: 0.463 - ETA: 0s - loss: 1.0559 - acc: 0.463 - ETA: 0s - loss: 1.0554 - acc: 0.465 - ETA: 0s - loss: 1.0552 - acc: 0.465 - ETA: 0s - loss: 1.0550 - acc: 0.465 - ETA: 0s - loss: 1.0552 - acc: 0.465 - ETA: 0s - loss: 1.0553 - acc: 0.465 - ETA: 0s - loss: 1.0559 - acc: 0.464 - 4s 560us/sample - loss: 1.0558 - acc: 0.4646 - val_loss: 1.0508 - val_acc: 0.4588\n",
      "Epoch 88/100\n",
      "7917/7917 [==============================] - ETA: 3s - loss: 1.0545 - acc: 0.450 - ETA: 4s - loss: 1.0178 - acc: 0.533 - ETA: 5s - loss: 1.0279 - acc: 0.505 - ETA: 4s - loss: 1.0497 - acc: 0.482 - ETA: 4s - loss: 1.0491 - acc: 0.492 - ETA: 4s - loss: 1.0508 - acc: 0.484 - ETA: 3s - loss: 1.0488 - acc: 0.485 - ETA: 3s - loss: 1.0486 - acc: 0.480 - ETA: 3s - loss: 1.0451 - acc: 0.486 - ETA: 3s - loss: 1.0423 - acc: 0.491 - ETA: 3s - loss: 1.0469 - acc: 0.484 - ETA: 3s - loss: 1.0483 - acc: 0.483 - ETA: 3s - loss: 1.0487 - acc: 0.480 - ETA: 3s - loss: 1.0476 - acc: 0.481 - ETA: 3s - loss: 1.0501 - acc: 0.475 - ETA: 3s - loss: 1.0466 - acc: 0.481 - ETA: 3s - loss: 1.0458 - acc: 0.484 - ETA: 2s - loss: 1.0468 - acc: 0.482 - ETA: 2s - loss: 1.0470 - acc: 0.481 - ETA: 2s - loss: 1.0479 - acc: 0.480 - ETA: 2s - loss: 1.0497 - acc: 0.477 - ETA: 2s - loss: 1.0507 - acc: 0.477 - ETA: 2s - loss: 1.0513 - acc: 0.476 - ETA: 2s - loss: 1.0532 - acc: 0.472 - ETA: 2s - loss: 1.0540 - acc: 0.471 - ETA: 2s - loss: 1.0551 - acc: 0.470 - ETA: 2s - loss: 1.0524 - acc: 0.475 - ETA: 2s - loss: 1.0524 - acc: 0.476 - ETA: 2s - loss: 1.0538 - acc: 0.474 - ETA: 2s - loss: 1.0539 - acc: 0.475 - ETA: 2s - loss: 1.0532 - acc: 0.476 - ETA: 2s - loss: 1.0521 - acc: 0.477 - ETA: 2s - loss: 1.0519 - acc: 0.477 - ETA: 1s - loss: 1.0523 - acc: 0.477 - ETA: 1s - loss: 1.0541 - acc: 0.474 - ETA: 1s - loss: 1.0537 - acc: 0.474 - ETA: 1s - loss: 1.0539 - acc: 0.474 - ETA: 1s - loss: 1.0548 - acc: 0.472 - ETA: 1s - loss: 1.0549 - acc: 0.472 - ETA: 1s - loss: 1.0545 - acc: 0.472 - ETA: 1s - loss: 1.0544 - acc: 0.472 - ETA: 1s - loss: 1.0553 - acc: 0.471 - ETA: 1s - loss: 1.0555 - acc: 0.471 - ETA: 1s - loss: 1.0559 - acc: 0.470 - ETA: 1s - loss: 1.0553 - acc: 0.471 - ETA: 1s - loss: 1.0549 - acc: 0.471 - ETA: 1s - loss: 1.0546 - acc: 0.471 - ETA: 1s - loss: 1.0557 - acc: 0.469 - ETA: 1s - loss: 1.0546 - acc: 0.471 - ETA: 1s - loss: 1.0548 - acc: 0.470 - ETA: 1s - loss: 1.0556 - acc: 0.469 - ETA: 1s - loss: 1.0562 - acc: 0.467 - ETA: 0s - loss: 1.0570 - acc: 0.466 - ETA: 0s - loss: 1.0574 - acc: 0.465 - ETA: 0s - loss: 1.0573 - acc: 0.465 - ETA: 0s - loss: 1.0571 - acc: 0.465 - ETA: 0s - loss: 1.0572 - acc: 0.466 - ETA: 0s - loss: 1.0567 - acc: 0.467 - ETA: 0s - loss: 1.0567 - acc: 0.467 - ETA: 0s - loss: 1.0566 - acc: 0.467 - ETA: 0s - loss: 1.0570 - acc: 0.465 - ETA: 0s - loss: 1.0571 - acc: 0.465 - ETA: 0s - loss: 1.0577 - acc: 0.464 - ETA: 0s - loss: 1.0581 - acc: 0.463 - ETA: 0s - loss: 1.0579 - acc: 0.463 - ETA: 0s - loss: 1.0570 - acc: 0.464 - ETA: 0s - loss: 1.0565 - acc: 0.465 - ETA: 0s - loss: 1.0568 - acc: 0.464 - ETA: 0s - loss: 1.0570 - acc: 0.464 - ETA: 0s - loss: 1.0565 - acc: 0.465 - 4s 515us/sample - loss: 1.0566 - acc: 0.4644 - val_loss: 1.0507 - val_acc: 0.4588\n",
      "Epoch 89/100\n",
      "7917/7917 [==============================] - ETA: 5s - loss: 1.0402 - acc: 0.500 - ETA: 4s - loss: 1.0216 - acc: 0.525 - ETA: 5s - loss: 1.0333 - acc: 0.505 - ETA: 5s - loss: 1.0347 - acc: 0.500 - ETA: 5s - loss: 1.0423 - acc: 0.488 - ETA: 5s - loss: 1.0511 - acc: 0.470 - ETA: 5s - loss: 1.0508 - acc: 0.473 - ETA: 4s - loss: 1.0516 - acc: 0.472 - ETA: 4s - loss: 1.0517 - acc: 0.479 - ETA: 4s - loss: 1.0581 - acc: 0.468 - ETA: 4s - loss: 1.0527 - acc: 0.477 - ETA: 4s - loss: 1.0591 - acc: 0.466 - ETA: 4s - loss: 1.0577 - acc: 0.466 - ETA: 4s - loss: 1.0614 - acc: 0.460 - ETA: 3s - loss: 1.0626 - acc: 0.460 - ETA: 3s - loss: 1.0586 - acc: 0.465 - ETA: 3s - loss: 1.0623 - acc: 0.461 - ETA: 3s - loss: 1.0621 - acc: 0.462 - ETA: 3s - loss: 1.0598 - acc: 0.464 - ETA: 3s - loss: 1.0601 - acc: 0.464 - ETA: 3s - loss: 1.0602 - acc: 0.463 - ETA: 3s - loss: 1.0603 - acc: 0.463 - ETA: 3s - loss: 1.0608 - acc: 0.463 - ETA: 3s - loss: 1.0603 - acc: 0.462 - ETA: 3s - loss: 1.0602 - acc: 0.462 - ETA: 3s - loss: 1.0606 - acc: 0.460 - ETA: 3s - loss: 1.0603 - acc: 0.461 - ETA: 3s - loss: 1.0594 - acc: 0.462 - ETA: 3s - loss: 1.0601 - acc: 0.460 - ETA: 3s - loss: 1.0597 - acc: 0.460 - ETA: 3s - loss: 1.0581 - acc: 0.462 - ETA: 3s - loss: 1.0587 - acc: 0.461 - ETA: 3s - loss: 1.0589 - acc: 0.460 - ETA: 2s - loss: 1.0603 - acc: 0.457 - ETA: 2s - loss: 1.0586 - acc: 0.459 - ETA: 2s - loss: 1.0577 - acc: 0.458 - ETA: 2s - loss: 1.0577 - acc: 0.458 - ETA: 2s - loss: 1.0576 - acc: 0.457 - ETA: 2s - loss: 1.0573 - acc: 0.457 - ETA: 2s - loss: 1.0568 - acc: 0.458 - ETA: 2s - loss: 1.0567 - acc: 0.459 - ETA: 2s - loss: 1.0583 - acc: 0.457 - ETA: 2s - loss: 1.0594 - acc: 0.455 - ETA: 2s - loss: 1.0598 - acc: 0.454 - ETA: 2s - loss: 1.0606 - acc: 0.454 - ETA: 2s - loss: 1.0598 - acc: 0.455 - ETA: 2s - loss: 1.0602 - acc: 0.455 - ETA: 1s - loss: 1.0609 - acc: 0.454 - ETA: 1s - loss: 1.0594 - acc: 0.457 - ETA: 1s - loss: 1.0590 - acc: 0.458 - ETA: 1s - loss: 1.0594 - acc: 0.457 - ETA: 1s - loss: 1.0598 - acc: 0.457 - ETA: 1s - loss: 1.0600 - acc: 0.457 - ETA: 1s - loss: 1.0600 - acc: 0.458 - ETA: 1s - loss: 1.0602 - acc: 0.457 - ETA: 1s - loss: 1.0603 - acc: 0.457 - ETA: 1s - loss: 1.0592 - acc: 0.459 - ETA: 1s - loss: 1.0591 - acc: 0.459 - ETA: 1s - loss: 1.0586 - acc: 0.459 - ETA: 1s - loss: 1.0584 - acc: 0.460 - ETA: 1s - loss: 1.0585 - acc: 0.460 - ETA: 1s - loss: 1.0585 - acc: 0.460 - ETA: 0s - loss: 1.0582 - acc: 0.461 - ETA: 0s - loss: 1.0585 - acc: 0.460 - ETA: 0s - loss: 1.0586 - acc: 0.460 - ETA: 0s - loss: 1.0584 - acc: 0.461 - ETA: 0s - loss: 1.0583 - acc: 0.461 - ETA: 0s - loss: 1.0579 - acc: 0.462 - ETA: 0s - loss: 1.0571 - acc: 0.463 - ETA: 0s - loss: 1.0572 - acc: 0.462 - ETA: 0s - loss: 1.0576 - acc: 0.462 - ETA: 0s - loss: 1.0575 - acc: 0.461 - ETA: 0s - loss: 1.0575 - acc: 0.462 - ETA: 0s - loss: 1.0573 - acc: 0.462 - ETA: 0s - loss: 1.0569 - acc: 0.463 - ETA: 0s - loss: 1.0568 - acc: 0.463 - ETA: 0s - loss: 1.0570 - acc: 0.462 - ETA: 0s - loss: 1.0562 - acc: 0.463 - ETA: 0s - loss: 1.0563 - acc: 0.463 - ETA: 0s - loss: 1.0563 - acc: 0.463 - 5s 611us/sample - loss: 1.0560 - acc: 0.4644 - val_loss: 1.0505 - val_acc: 0.4588\n",
      "Epoch 90/100\n"
     ]
    },
    {
     "name": "stdout",
     "output_type": "stream",
     "text": [
      "7917/7917 [==============================] - ETA: 5s - loss: 1.0423 - acc: 0.500 - ETA: 3s - loss: 1.0215 - acc: 0.535 - ETA: 3s - loss: 1.0354 - acc: 0.500 - ETA: 3s - loss: 1.0512 - acc: 0.485 - ETA: 3s - loss: 1.0422 - acc: 0.504 - ETA: 3s - loss: 1.0495 - acc: 0.492 - ETA: 3s - loss: 1.0498 - acc: 0.486 - ETA: 3s - loss: 1.0471 - acc: 0.484 - ETA: 3s - loss: 1.0487 - acc: 0.481 - ETA: 3s - loss: 1.0493 - acc: 0.481 - ETA: 3s - loss: 1.0535 - acc: 0.471 - ETA: 3s - loss: 1.0522 - acc: 0.475 - ETA: 3s - loss: 1.0535 - acc: 0.473 - ETA: 3s - loss: 1.0567 - acc: 0.470 - ETA: 3s - loss: 1.0566 - acc: 0.472 - ETA: 3s - loss: 1.0561 - acc: 0.472 - ETA: 3s - loss: 1.0566 - acc: 0.470 - ETA: 3s - loss: 1.0589 - acc: 0.465 - ETA: 3s - loss: 1.0590 - acc: 0.464 - ETA: 3s - loss: 1.0619 - acc: 0.461 - ETA: 3s - loss: 1.0624 - acc: 0.460 - ETA: 3s - loss: 1.0619 - acc: 0.461 - ETA: 3s - loss: 1.0613 - acc: 0.461 - ETA: 3s - loss: 1.0590 - acc: 0.464 - ETA: 3s - loss: 1.0581 - acc: 0.465 - ETA: 3s - loss: 1.0579 - acc: 0.466 - ETA: 3s - loss: 1.0585 - acc: 0.465 - ETA: 2s - loss: 1.0590 - acc: 0.465 - ETA: 2s - loss: 1.0593 - acc: 0.464 - ETA: 2s - loss: 1.0588 - acc: 0.464 - ETA: 2s - loss: 1.0591 - acc: 0.464 - ETA: 2s - loss: 1.0598 - acc: 0.463 - ETA: 2s - loss: 1.0604 - acc: 0.462 - ETA: 2s - loss: 1.0606 - acc: 0.462 - ETA: 2s - loss: 1.0600 - acc: 0.463 - ETA: 2s - loss: 1.0599 - acc: 0.463 - ETA: 2s - loss: 1.0595 - acc: 0.463 - ETA: 2s - loss: 1.0585 - acc: 0.464 - ETA: 2s - loss: 1.0586 - acc: 0.464 - ETA: 2s - loss: 1.0578 - acc: 0.465 - ETA: 2s - loss: 1.0580 - acc: 0.465 - ETA: 2s - loss: 1.0577 - acc: 0.465 - ETA: 2s - loss: 1.0577 - acc: 0.465 - ETA: 1s - loss: 1.0587 - acc: 0.464 - ETA: 1s - loss: 1.0588 - acc: 0.463 - ETA: 1s - loss: 1.0587 - acc: 0.463 - ETA: 1s - loss: 1.0585 - acc: 0.464 - ETA: 1s - loss: 1.0587 - acc: 0.463 - ETA: 1s - loss: 1.0591 - acc: 0.463 - ETA: 1s - loss: 1.0585 - acc: 0.463 - ETA: 1s - loss: 1.0589 - acc: 0.462 - ETA: 1s - loss: 1.0583 - acc: 0.463 - ETA: 1s - loss: 1.0576 - acc: 0.464 - ETA: 1s - loss: 1.0568 - acc: 0.466 - ETA: 1s - loss: 1.0565 - acc: 0.466 - ETA: 1s - loss: 1.0563 - acc: 0.468 - ETA: 1s - loss: 1.0550 - acc: 0.471 - ETA: 1s - loss: 1.0549 - acc: 0.471 - ETA: 1s - loss: 1.0554 - acc: 0.470 - ETA: 1s - loss: 1.0547 - acc: 0.470 - ETA: 0s - loss: 1.0543 - acc: 0.471 - ETA: 0s - loss: 1.0545 - acc: 0.470 - ETA: 0s - loss: 1.0544 - acc: 0.470 - ETA: 0s - loss: 1.0554 - acc: 0.469 - ETA: 0s - loss: 1.0560 - acc: 0.468 - ETA: 0s - loss: 1.0563 - acc: 0.468 - ETA: 0s - loss: 1.0573 - acc: 0.465 - ETA: 0s - loss: 1.0569 - acc: 0.466 - ETA: 0s - loss: 1.0564 - acc: 0.467 - ETA: 0s - loss: 1.0564 - acc: 0.467 - ETA: 0s - loss: 1.0561 - acc: 0.467 - ETA: 0s - loss: 1.0568 - acc: 0.466 - ETA: 0s - loss: 1.0571 - acc: 0.465 - ETA: 0s - loss: 1.0572 - acc: 0.464 - ETA: 0s - loss: 1.0574 - acc: 0.464 - ETA: 0s - loss: 1.0572 - acc: 0.464 - 4s 556us/sample - loss: 1.0574 - acc: 0.4643 - val_loss: 1.0504 - val_acc: 0.4588\n",
      "Epoch 91/100\n",
      "7917/7917 [==============================] - ETA: 4s - loss: 1.1064 - acc: 0.400 - ETA: 3s - loss: 1.0453 - acc: 0.485 - ETA: 3s - loss: 1.0447 - acc: 0.476 - ETA: 3s - loss: 1.0400 - acc: 0.490 - ETA: 3s - loss: 1.0572 - acc: 0.465 - ETA: 3s - loss: 1.0658 - acc: 0.447 - ETA: 3s - loss: 1.0660 - acc: 0.448 - ETA: 3s - loss: 1.0654 - acc: 0.450 - ETA: 2s - loss: 1.0650 - acc: 0.450 - ETA: 3s - loss: 1.0637 - acc: 0.452 - ETA: 2s - loss: 1.0598 - acc: 0.459 - ETA: 2s - loss: 1.0604 - acc: 0.459 - ETA: 2s - loss: 1.0612 - acc: 0.458 - ETA: 2s - loss: 1.0646 - acc: 0.454 - ETA: 2s - loss: 1.0651 - acc: 0.451 - ETA: 2s - loss: 1.0655 - acc: 0.450 - ETA: 2s - loss: 1.0629 - acc: 0.453 - ETA: 2s - loss: 1.0616 - acc: 0.455 - ETA: 2s - loss: 1.0612 - acc: 0.455 - ETA: 2s - loss: 1.0614 - acc: 0.455 - ETA: 2s - loss: 1.0625 - acc: 0.453 - ETA: 2s - loss: 1.0614 - acc: 0.454 - ETA: 2s - loss: 1.0607 - acc: 0.456 - ETA: 2s - loss: 1.0604 - acc: 0.457 - ETA: 2s - loss: 1.0612 - acc: 0.455 - ETA: 2s - loss: 1.0627 - acc: 0.452 - ETA: 2s - loss: 1.0616 - acc: 0.454 - ETA: 1s - loss: 1.0623 - acc: 0.452 - ETA: 2s - loss: 1.0626 - acc: 0.452 - ETA: 1s - loss: 1.0625 - acc: 0.451 - ETA: 1s - loss: 1.0607 - acc: 0.453 - ETA: 1s - loss: 1.0601 - acc: 0.455 - ETA: 1s - loss: 1.0602 - acc: 0.455 - ETA: 1s - loss: 1.0603 - acc: 0.455 - ETA: 1s - loss: 1.0602 - acc: 0.455 - ETA: 1s - loss: 1.0602 - acc: 0.455 - ETA: 1s - loss: 1.0610 - acc: 0.454 - ETA: 1s - loss: 1.0609 - acc: 0.455 - ETA: 1s - loss: 1.0596 - acc: 0.457 - ETA: 1s - loss: 1.0600 - acc: 0.456 - ETA: 1s - loss: 1.0596 - acc: 0.457 - ETA: 1s - loss: 1.0588 - acc: 0.458 - ETA: 1s - loss: 1.0590 - acc: 0.458 - ETA: 1s - loss: 1.0586 - acc: 0.459 - ETA: 1s - loss: 1.0580 - acc: 0.461 - ETA: 1s - loss: 1.0576 - acc: 0.461 - ETA: 1s - loss: 1.0572 - acc: 0.463 - ETA: 1s - loss: 1.0565 - acc: 0.464 - ETA: 0s - loss: 1.0571 - acc: 0.463 - ETA: 0s - loss: 1.0575 - acc: 0.462 - ETA: 0s - loss: 1.0574 - acc: 0.462 - ETA: 0s - loss: 1.0578 - acc: 0.461 - ETA: 0s - loss: 1.0576 - acc: 0.461 - ETA: 0s - loss: 1.0569 - acc: 0.462 - ETA: 0s - loss: 1.0563 - acc: 0.463 - ETA: 0s - loss: 1.0560 - acc: 0.463 - ETA: 0s - loss: 1.0562 - acc: 0.462 - ETA: 0s - loss: 1.0562 - acc: 0.463 - ETA: 0s - loss: 1.0564 - acc: 0.462 - ETA: 0s - loss: 1.0558 - acc: 0.463 - ETA: 0s - loss: 1.0564 - acc: 0.462 - ETA: 0s - loss: 1.0570 - acc: 0.462 - ETA: 0s - loss: 1.0568 - acc: 0.462 - ETA: 0s - loss: 1.0568 - acc: 0.462 - ETA: 0s - loss: 1.0565 - acc: 0.463 - ETA: 0s - loss: 1.0556 - acc: 0.464 - 4s 488us/sample - loss: 1.0556 - acc: 0.4648 - val_loss: 1.0503 - val_acc: 0.4588\n",
      "Epoch 92/100\n",
      "7917/7917 [==============================] - ETA: 4s - loss: 1.1567 - acc: 0.350 - ETA: 4s - loss: 1.0907 - acc: 0.408 - ETA: 3s - loss: 1.0604 - acc: 0.453 - ETA: 3s - loss: 1.0552 - acc: 0.462 - ETA: 3s - loss: 1.0517 - acc: 0.470 - ETA: 3s - loss: 1.0524 - acc: 0.468 - ETA: 3s - loss: 1.0598 - acc: 0.455 - ETA: 3s - loss: 1.0602 - acc: 0.452 - ETA: 3s - loss: 1.0648 - acc: 0.443 - ETA: 3s - loss: 1.0601 - acc: 0.451 - ETA: 3s - loss: 1.0650 - acc: 0.444 - ETA: 3s - loss: 1.0576 - acc: 0.456 - ETA: 3s - loss: 1.0572 - acc: 0.458 - ETA: 3s - loss: 1.0599 - acc: 0.453 - ETA: 3s - loss: 1.0597 - acc: 0.454 - ETA: 2s - loss: 1.0582 - acc: 0.457 - ETA: 2s - loss: 1.0582 - acc: 0.456 - ETA: 2s - loss: 1.0566 - acc: 0.458 - ETA: 2s - loss: 1.0562 - acc: 0.459 - ETA: 2s - loss: 1.0556 - acc: 0.462 - ETA: 2s - loss: 1.0562 - acc: 0.460 - ETA: 2s - loss: 1.0558 - acc: 0.462 - ETA: 2s - loss: 1.0546 - acc: 0.463 - ETA: 2s - loss: 1.0551 - acc: 0.461 - ETA: 2s - loss: 1.0555 - acc: 0.460 - ETA: 2s - loss: 1.0556 - acc: 0.460 - ETA: 2s - loss: 1.0544 - acc: 0.462 - ETA: 2s - loss: 1.0560 - acc: 0.459 - ETA: 2s - loss: 1.0558 - acc: 0.459 - ETA: 2s - loss: 1.0556 - acc: 0.459 - ETA: 2s - loss: 1.0559 - acc: 0.458 - ETA: 2s - loss: 1.0567 - acc: 0.457 - ETA: 1s - loss: 1.0572 - acc: 0.456 - ETA: 1s - loss: 1.0570 - acc: 0.457 - ETA: 1s - loss: 1.0559 - acc: 0.459 - ETA: 1s - loss: 1.0560 - acc: 0.458 - ETA: 1s - loss: 1.0564 - acc: 0.459 - ETA: 1s - loss: 1.0559 - acc: 0.460 - ETA: 1s - loss: 1.0577 - acc: 0.456 - ETA: 1s - loss: 1.0578 - acc: 0.457 - ETA: 1s - loss: 1.0589 - acc: 0.456 - ETA: 1s - loss: 1.0584 - acc: 0.457 - ETA: 1s - loss: 1.0593 - acc: 0.455 - ETA: 1s - loss: 1.0582 - acc: 0.456 - ETA: 1s - loss: 1.0579 - acc: 0.457 - ETA: 1s - loss: 1.0572 - acc: 0.459 - ETA: 1s - loss: 1.0564 - acc: 0.460 - ETA: 1s - loss: 1.0551 - acc: 0.462 - ETA: 1s - loss: 1.0547 - acc: 0.462 - ETA: 1s - loss: 1.0548 - acc: 0.462 - ETA: 1s - loss: 1.0538 - acc: 0.464 - ETA: 0s - loss: 1.0532 - acc: 0.465 - ETA: 0s - loss: 1.0539 - acc: 0.464 - ETA: 0s - loss: 1.0545 - acc: 0.463 - ETA: 0s - loss: 1.0547 - acc: 0.463 - ETA: 0s - loss: 1.0547 - acc: 0.462 - ETA: 0s - loss: 1.0546 - acc: 0.462 - ETA: 0s - loss: 1.0555 - acc: 0.461 - ETA: 0s - loss: 1.0554 - acc: 0.462 - ETA: 0s - loss: 1.0557 - acc: 0.461 - ETA: 0s - loss: 1.0560 - acc: 0.461 - ETA: 0s - loss: 1.0559 - acc: 0.461 - ETA: 0s - loss: 1.0565 - acc: 0.460 - ETA: 0s - loss: 1.0565 - acc: 0.460 - ETA: 0s - loss: 1.0561 - acc: 0.461 - ETA: 0s - loss: 1.0558 - acc: 0.462 - ETA: 0s - loss: 1.0556 - acc: 0.462 - ETA: 0s - loss: 1.0553 - acc: 0.463 - ETA: 0s - loss: 1.0546 - acc: 0.464 - ETA: 0s - loss: 1.0548 - acc: 0.464 - 4s 511us/sample - loss: 1.0544 - acc: 0.4646 - val_loss: 1.0502 - val_acc: 0.4588\n",
      "Epoch 93/100\n",
      "7917/7917 [==============================] - ETA: 5s - loss: 1.0300 - acc: 0.450 - ETA: 3s - loss: 1.0691 - acc: 0.437 - ETA: 3s - loss: 1.0491 - acc: 0.480 - ETA: 3s - loss: 1.0522 - acc: 0.475 - ETA: 3s - loss: 1.0660 - acc: 0.450 - ETA: 3s - loss: 1.0573 - acc: 0.468 - ETA: 3s - loss: 1.0602 - acc: 0.459 - ETA: 2s - loss: 1.0629 - acc: 0.453 - ETA: 2s - loss: 1.0612 - acc: 0.456 - ETA: 2s - loss: 1.0597 - acc: 0.459 - ETA: 2s - loss: 1.0606 - acc: 0.457 - ETA: 2s - loss: 1.0611 - acc: 0.458 - ETA: 2s - loss: 1.0632 - acc: 0.456 - ETA: 2s - loss: 1.0628 - acc: 0.457 - ETA: 2s - loss: 1.0634 - acc: 0.457 - ETA: 2s - loss: 1.0635 - acc: 0.457 - ETA: 2s - loss: 1.0621 - acc: 0.458 - ETA: 2s - loss: 1.0618 - acc: 0.459 - ETA: 2s - loss: 1.0622 - acc: 0.458 - ETA: 2s - loss: 1.0634 - acc: 0.455 - ETA: 2s - loss: 1.0620 - acc: 0.457 - ETA: 2s - loss: 1.0617 - acc: 0.455 - ETA: 2s - loss: 1.0630 - acc: 0.452 - ETA: 2s - loss: 1.0634 - acc: 0.451 - ETA: 2s - loss: 1.0651 - acc: 0.448 - ETA: 2s - loss: 1.0618 - acc: 0.454 - ETA: 2s - loss: 1.0615 - acc: 0.454 - ETA: 2s - loss: 1.0622 - acc: 0.454 - ETA: 2s - loss: 1.0610 - acc: 0.456 - ETA: 2s - loss: 1.0607 - acc: 0.456 - ETA: 2s - loss: 1.0606 - acc: 0.456 - ETA: 2s - loss: 1.0602 - acc: 0.457 - ETA: 1s - loss: 1.0599 - acc: 0.457 - ETA: 1s - loss: 1.0598 - acc: 0.458 - ETA: 1s - loss: 1.0595 - acc: 0.459 - ETA: 2s - loss: 1.0592 - acc: 0.459 - ETA: 2s - loss: 1.0586 - acc: 0.461 - ETA: 2s - loss: 1.0583 - acc: 0.461 - ETA: 1s - loss: 1.0589 - acc: 0.461 - ETA: 2s - loss: 1.0582 - acc: 0.462 - ETA: 2s - loss: 1.0579 - acc: 0.462 - ETA: 2s - loss: 1.0580 - acc: 0.462 - ETA: 1s - loss: 1.0585 - acc: 0.461 - ETA: 1s - loss: 1.0580 - acc: 0.462 - ETA: 1s - loss: 1.0577 - acc: 0.463 - ETA: 1s - loss: 1.0572 - acc: 0.463 - ETA: 1s - loss: 1.0576 - acc: 0.463 - ETA: 1s - loss: 1.0575 - acc: 0.463 - ETA: 1s - loss: 1.0575 - acc: 0.463 - ETA: 1s - loss: 1.0574 - acc: 0.463 - ETA: 1s - loss: 1.0571 - acc: 0.463 - ETA: 1s - loss: 1.0573 - acc: 0.463 - ETA: 1s - loss: 1.0572 - acc: 0.463 - ETA: 1s - loss: 1.0581 - acc: 0.462 - ETA: 1s - loss: 1.0579 - acc: 0.462 - ETA: 1s - loss: 1.0583 - acc: 0.461 - ETA: 0s - loss: 1.0587 - acc: 0.461 - ETA: 0s - loss: 1.0585 - acc: 0.461 - ETA: 0s - loss: 1.0588 - acc: 0.461 - ETA: 0s - loss: 1.0586 - acc: 0.461 - ETA: 0s - loss: 1.0587 - acc: 0.461 - ETA: 0s - loss: 1.0579 - acc: 0.462 - ETA: 0s - loss: 1.0578 - acc: 0.462 - ETA: 0s - loss: 1.0571 - acc: 0.464 - ETA: 0s - loss: 1.0577 - acc: 0.462 - ETA: 0s - loss: 1.0570 - acc: 0.464 - ETA: 0s - loss: 1.0574 - acc: 0.463 - ETA: 0s - loss: 1.0573 - acc: 0.463 - ETA: 0s - loss: 1.0569 - acc: 0.464 - ETA: 0s - loss: 1.0569 - acc: 0.463 - ETA: 0s - loss: 1.0574 - acc: 0.463 - ETA: 0s - loss: 1.0570 - acc: 0.463 - 4s 530us/sample - loss: 1.0569 - acc: 0.4641 - val_loss: 1.0500 - val_acc: 0.4588\n",
      "Epoch 94/100\n"
     ]
    },
    {
     "name": "stdout",
     "output_type": "stream",
     "text": [
      "7917/7917 [==============================] - ETA: 4s - loss: 1.1306 - acc: 0.300 - ETA: 3s - loss: 1.0427 - acc: 0.471 - ETA: 4s - loss: 1.0547 - acc: 0.460 - ETA: 4s - loss: 1.0572 - acc: 0.457 - ETA: 5s - loss: 1.0531 - acc: 0.464 - ETA: 4s - loss: 1.0555 - acc: 0.467 - ETA: 4s - loss: 1.0656 - acc: 0.448 - ETA: 3s - loss: 1.0673 - acc: 0.443 - ETA: 3s - loss: 1.0602 - acc: 0.456 - ETA: 3s - loss: 1.0660 - acc: 0.451 - ETA: 3s - loss: 1.0610 - acc: 0.458 - ETA: 3s - loss: 1.0616 - acc: 0.457 - ETA: 3s - loss: 1.0587 - acc: 0.461 - ETA: 3s - loss: 1.0563 - acc: 0.464 - ETA: 3s - loss: 1.0573 - acc: 0.462 - ETA: 3s - loss: 1.0554 - acc: 0.465 - ETA: 2s - loss: 1.0565 - acc: 0.463 - ETA: 2s - loss: 1.0583 - acc: 0.461 - ETA: 2s - loss: 1.0602 - acc: 0.457 - ETA: 2s - loss: 1.0575 - acc: 0.461 - ETA: 2s - loss: 1.0555 - acc: 0.463 - ETA: 2s - loss: 1.0557 - acc: 0.462 - ETA: 2s - loss: 1.0569 - acc: 0.460 - ETA: 2s - loss: 1.0576 - acc: 0.459 - ETA: 2s - loss: 1.0559 - acc: 0.461 - ETA: 2s - loss: 1.0556 - acc: 0.461 - ETA: 2s - loss: 1.0557 - acc: 0.461 - ETA: 2s - loss: 1.0545 - acc: 0.464 - ETA: 2s - loss: 1.0539 - acc: 0.466 - ETA: 2s - loss: 1.0526 - acc: 0.468 - ETA: 2s - loss: 1.0529 - acc: 0.469 - ETA: 2s - loss: 1.0528 - acc: 0.470 - ETA: 2s - loss: 1.0538 - acc: 0.468 - ETA: 2s - loss: 1.0549 - acc: 0.467 - ETA: 2s - loss: 1.0561 - acc: 0.465 - ETA: 2s - loss: 1.0560 - acc: 0.465 - ETA: 1s - loss: 1.0555 - acc: 0.466 - ETA: 1s - loss: 1.0550 - acc: 0.466 - ETA: 1s - loss: 1.0559 - acc: 0.464 - ETA: 1s - loss: 1.0574 - acc: 0.463 - ETA: 1s - loss: 1.0566 - acc: 0.464 - ETA: 1s - loss: 1.0562 - acc: 0.464 - ETA: 1s - loss: 1.0570 - acc: 0.462 - ETA: 1s - loss: 1.0573 - acc: 0.462 - ETA: 1s - loss: 1.0586 - acc: 0.460 - ETA: 1s - loss: 1.0564 - acc: 0.464 - ETA: 1s - loss: 1.0570 - acc: 0.462 - ETA: 1s - loss: 1.0571 - acc: 0.462 - ETA: 1s - loss: 1.0565 - acc: 0.463 - ETA: 1s - loss: 1.0565 - acc: 0.463 - ETA: 1s - loss: 1.0562 - acc: 0.463 - ETA: 1s - loss: 1.0555 - acc: 0.464 - ETA: 1s - loss: 1.0556 - acc: 0.464 - ETA: 1s - loss: 1.0554 - acc: 0.464 - ETA: 1s - loss: 1.0551 - acc: 0.465 - ETA: 1s - loss: 1.0552 - acc: 0.464 - ETA: 1s - loss: 1.0557 - acc: 0.464 - ETA: 1s - loss: 1.0552 - acc: 0.464 - ETA: 0s - loss: 1.0555 - acc: 0.463 - ETA: 0s - loss: 1.0557 - acc: 0.463 - ETA: 0s - loss: 1.0560 - acc: 0.462 - ETA: 0s - loss: 1.0559 - acc: 0.462 - ETA: 0s - loss: 1.0551 - acc: 0.464 - ETA: 0s - loss: 1.0559 - acc: 0.462 - ETA: 0s - loss: 1.0563 - acc: 0.462 - ETA: 0s - loss: 1.0559 - acc: 0.462 - ETA: 0s - loss: 1.0561 - acc: 0.463 - ETA: 0s - loss: 1.0562 - acc: 0.462 - ETA: 0s - loss: 1.0556 - acc: 0.463 - ETA: 0s - loss: 1.0555 - acc: 0.463 - ETA: 0s - loss: 1.0552 - acc: 0.464 - ETA: 0s - loss: 1.0549 - acc: 0.464 - ETA: 0s - loss: 1.0548 - acc: 0.464 - ETA: 0s - loss: 1.0553 - acc: 0.464 - ETA: 0s - loss: 1.0552 - acc: 0.464 - 4s 555us/sample - loss: 1.0550 - acc: 0.4646 - val_loss: 1.0499 - val_acc: 0.4588\n",
      "Epoch 95/100\n",
      "7917/7917 [==============================] - ETA: 4s - loss: 0.9572 - acc: 0.700 - ETA: 3s - loss: 1.0282 - acc: 0.507 - ETA: 3s - loss: 1.0438 - acc: 0.488 - ETA: 3s - loss: 1.0407 - acc: 0.494 - ETA: 3s - loss: 1.0500 - acc: 0.476 - ETA: 3s - loss: 1.0571 - acc: 0.463 - ETA: 3s - loss: 1.0561 - acc: 0.464 - ETA: 3s - loss: 1.0514 - acc: 0.472 - ETA: 3s - loss: 1.0561 - acc: 0.463 - ETA: 3s - loss: 1.0503 - acc: 0.474 - ETA: 3s - loss: 1.0517 - acc: 0.471 - ETA: 3s - loss: 1.0559 - acc: 0.461 - ETA: 3s - loss: 1.0560 - acc: 0.460 - ETA: 3s - loss: 1.0558 - acc: 0.461 - ETA: 2s - loss: 1.0572 - acc: 0.459 - ETA: 2s - loss: 1.0572 - acc: 0.461 - ETA: 2s - loss: 1.0587 - acc: 0.460 - ETA: 2s - loss: 1.0592 - acc: 0.458 - ETA: 2s - loss: 1.0598 - acc: 0.458 - ETA: 2s - loss: 1.0588 - acc: 0.460 - ETA: 2s - loss: 1.0573 - acc: 0.461 - ETA: 2s - loss: 1.0574 - acc: 0.460 - ETA: 2s - loss: 1.0566 - acc: 0.462 - ETA: 2s - loss: 1.0561 - acc: 0.462 - ETA: 2s - loss: 1.0560 - acc: 0.461 - ETA: 2s - loss: 1.0568 - acc: 0.459 - ETA: 2s - loss: 1.0575 - acc: 0.459 - ETA: 2s - loss: 1.0584 - acc: 0.457 - ETA: 2s - loss: 1.0605 - acc: 0.454 - ETA: 2s - loss: 1.0601 - acc: 0.455 - ETA: 2s - loss: 1.0601 - acc: 0.455 - ETA: 2s - loss: 1.0595 - acc: 0.456 - ETA: 2s - loss: 1.0602 - acc: 0.454 - ETA: 2s - loss: 1.0606 - acc: 0.455 - ETA: 2s - loss: 1.0584 - acc: 0.458 - ETA: 1s - loss: 1.0589 - acc: 0.457 - ETA: 1s - loss: 1.0580 - acc: 0.458 - ETA: 1s - loss: 1.0570 - acc: 0.460 - ETA: 1s - loss: 1.0565 - acc: 0.461 - ETA: 1s - loss: 1.0580 - acc: 0.458 - ETA: 1s - loss: 1.0585 - acc: 0.458 - ETA: 1s - loss: 1.0577 - acc: 0.460 - ETA: 1s - loss: 1.0582 - acc: 0.459 - ETA: 1s - loss: 1.0582 - acc: 0.459 - ETA: 1s - loss: 1.0570 - acc: 0.461 - ETA: 1s - loss: 1.0580 - acc: 0.460 - ETA: 1s - loss: 1.0577 - acc: 0.460 - ETA: 1s - loss: 1.0575 - acc: 0.460 - ETA: 1s - loss: 1.0570 - acc: 0.461 - ETA: 1s - loss: 1.0563 - acc: 0.462 - ETA: 1s - loss: 1.0566 - acc: 0.461 - ETA: 1s - loss: 1.0564 - acc: 0.461 - ETA: 1s - loss: 1.0567 - acc: 0.461 - ETA: 1s - loss: 1.0565 - acc: 0.461 - ETA: 1s - loss: 1.0570 - acc: 0.461 - ETA: 1s - loss: 1.0564 - acc: 0.462 - ETA: 1s - loss: 1.0561 - acc: 0.462 - ETA: 1s - loss: 1.0556 - acc: 0.463 - ETA: 1s - loss: 1.0557 - acc: 0.463 - ETA: 1s - loss: 1.0573 - acc: 0.460 - ETA: 1s - loss: 1.0576 - acc: 0.460 - ETA: 1s - loss: 1.0583 - acc: 0.459 - ETA: 0s - loss: 1.0584 - acc: 0.459 - ETA: 0s - loss: 1.0583 - acc: 0.459 - ETA: 0s - loss: 1.0587 - acc: 0.459 - ETA: 0s - loss: 1.0583 - acc: 0.459 - ETA: 0s - loss: 1.0578 - acc: 0.460 - ETA: 0s - loss: 1.0579 - acc: 0.459 - ETA: 0s - loss: 1.0579 - acc: 0.459 - ETA: 0s - loss: 1.0581 - acc: 0.460 - ETA: 0s - loss: 1.0580 - acc: 0.460 - ETA: 0s - loss: 1.0579 - acc: 0.460 - ETA: 0s - loss: 1.0569 - acc: 0.462 - ETA: 0s - loss: 1.0563 - acc: 0.463 - ETA: 0s - loss: 1.0559 - acc: 0.463 - ETA: 0s - loss: 1.0561 - acc: 0.463 - ETA: 0s - loss: 1.0556 - acc: 0.464 - ETA: 0s - loss: 1.0559 - acc: 0.464 - 5s 578us/sample - loss: 1.0557 - acc: 0.4647 - val_loss: 1.0498 - val_acc: 0.4588\n",
      "Epoch 96/100\n",
      "7917/7917 [==============================] - ETA: 5s - loss: 1.0299 - acc: 0.500 - ETA: 3s - loss: 1.0596 - acc: 0.456 - ETA: 3s - loss: 1.0738 - acc: 0.426 - ETA: 3s - loss: 1.0686 - acc: 0.439 - ETA: 3s - loss: 1.0736 - acc: 0.435 - ETA: 3s - loss: 1.0723 - acc: 0.443 - ETA: 3s - loss: 1.0675 - acc: 0.447 - ETA: 3s - loss: 1.0601 - acc: 0.459 - ETA: 3s - loss: 1.0645 - acc: 0.451 - ETA: 3s - loss: 1.0640 - acc: 0.447 - ETA: 3s - loss: 1.0619 - acc: 0.452 - ETA: 3s - loss: 1.0639 - acc: 0.450 - ETA: 3s - loss: 1.0651 - acc: 0.446 - ETA: 2s - loss: 1.0642 - acc: 0.446 - ETA: 2s - loss: 1.0611 - acc: 0.452 - ETA: 2s - loss: 1.0608 - acc: 0.453 - ETA: 2s - loss: 1.0619 - acc: 0.452 - ETA: 2s - loss: 1.0607 - acc: 0.454 - ETA: 2s - loss: 1.0609 - acc: 0.453 - ETA: 2s - loss: 1.0611 - acc: 0.453 - ETA: 2s - loss: 1.0625 - acc: 0.452 - ETA: 2s - loss: 1.0633 - acc: 0.450 - ETA: 2s - loss: 1.0618 - acc: 0.452 - ETA: 2s - loss: 1.0621 - acc: 0.452 - ETA: 2s - loss: 1.0600 - acc: 0.455 - ETA: 2s - loss: 1.0586 - acc: 0.457 - ETA: 2s - loss: 1.0598 - acc: 0.456 - ETA: 2s - loss: 1.0584 - acc: 0.458 - ETA: 2s - loss: 1.0586 - acc: 0.458 - ETA: 2s - loss: 1.0584 - acc: 0.458 - ETA: 2s - loss: 1.0581 - acc: 0.459 - ETA: 2s - loss: 1.0580 - acc: 0.460 - ETA: 2s - loss: 1.0579 - acc: 0.460 - ETA: 1s - loss: 1.0575 - acc: 0.461 - ETA: 1s - loss: 1.0573 - acc: 0.461 - ETA: 1s - loss: 1.0565 - acc: 0.462 - ETA: 1s - loss: 1.0567 - acc: 0.462 - ETA: 1s - loss: 1.0565 - acc: 0.461 - ETA: 1s - loss: 1.0571 - acc: 0.460 - ETA: 1s - loss: 1.0572 - acc: 0.460 - ETA: 1s - loss: 1.0573 - acc: 0.460 - ETA: 1s - loss: 1.0574 - acc: 0.460 - ETA: 1s - loss: 1.0582 - acc: 0.458 - ETA: 1s - loss: 1.0582 - acc: 0.458 - ETA: 1s - loss: 1.0585 - acc: 0.458 - ETA: 1s - loss: 1.0589 - acc: 0.457 - ETA: 1s - loss: 1.0592 - acc: 0.456 - ETA: 1s - loss: 1.0599 - acc: 0.454 - ETA: 1s - loss: 1.0594 - acc: 0.455 - ETA: 1s - loss: 1.0589 - acc: 0.456 - ETA: 1s - loss: 1.0579 - acc: 0.458 - ETA: 0s - loss: 1.0580 - acc: 0.458 - ETA: 0s - loss: 1.0582 - acc: 0.458 - ETA: 0s - loss: 1.0582 - acc: 0.458 - ETA: 0s - loss: 1.0573 - acc: 0.460 - ETA: 0s - loss: 1.0568 - acc: 0.461 - ETA: 0s - loss: 1.0561 - acc: 0.462 - ETA: 0s - loss: 1.0561 - acc: 0.463 - ETA: 0s - loss: 1.0558 - acc: 0.463 - ETA: 0s - loss: 1.0559 - acc: 0.463 - ETA: 0s - loss: 1.0553 - acc: 0.464 - ETA: 0s - loss: 1.0554 - acc: 0.463 - ETA: 0s - loss: 1.0550 - acc: 0.464 - ETA: 0s - loss: 1.0552 - acc: 0.463 - ETA: 0s - loss: 1.0549 - acc: 0.464 - ETA: 0s - loss: 1.0544 - acc: 0.464 - ETA: 0s - loss: 1.0547 - acc: 0.464 - ETA: 0s - loss: 1.0549 - acc: 0.464 - ETA: 0s - loss: 1.0547 - acc: 0.464 - 4s 513us/sample - loss: 1.0545 - acc: 0.4647 - val_loss: 1.0497 - val_acc: 0.4588\n",
      "Epoch 97/100\n",
      "7917/7917 [==============================] - ETA: 4s - loss: 1.1175 - acc: 0.350 - ETA: 5s - loss: 1.0528 - acc: 0.480 - ETA: 4s - loss: 1.0431 - acc: 0.475 - ETA: 4s - loss: 1.0455 - acc: 0.466 - ETA: 4s - loss: 1.0457 - acc: 0.473 - ETA: 4s - loss: 1.0543 - acc: 0.460 - ETA: 4s - loss: 1.0544 - acc: 0.455 - ETA: 4s - loss: 1.0543 - acc: 0.454 - ETA: 4s - loss: 1.0556 - acc: 0.453 - ETA: 5s - loss: 1.0557 - acc: 0.452 - ETA: 5s - loss: 1.0583 - acc: 0.447 - ETA: 5s - loss: 1.0625 - acc: 0.440 - ETA: 4s - loss: 1.0542 - acc: 0.458 - ETA: 4s - loss: 1.0504 - acc: 0.465 - ETA: 4s - loss: 1.0539 - acc: 0.458 - ETA: 4s - loss: 1.0524 - acc: 0.462 - ETA: 4s - loss: 1.0552 - acc: 0.460 - ETA: 4s - loss: 1.0559 - acc: 0.458 - ETA: 3s - loss: 1.0542 - acc: 0.462 - ETA: 3s - loss: 1.0535 - acc: 0.466 - ETA: 3s - loss: 1.0549 - acc: 0.463 - ETA: 3s - loss: 1.0554 - acc: 0.462 - ETA: 3s - loss: 1.0549 - acc: 0.462 - ETA: 3s - loss: 1.0555 - acc: 0.461 - ETA: 3s - loss: 1.0555 - acc: 0.460 - ETA: 3s - loss: 1.0559 - acc: 0.460 - ETA: 3s - loss: 1.0559 - acc: 0.460 - ETA: 3s - loss: 1.0555 - acc: 0.461 - ETA: 3s - loss: 1.0555 - acc: 0.462 - ETA: 3s - loss: 1.0553 - acc: 0.463 - ETA: 3s - loss: 1.0540 - acc: 0.465 - ETA: 3s - loss: 1.0545 - acc: 0.464 - ETA: 2s - loss: 1.0555 - acc: 0.463 - ETA: 2s - loss: 1.0555 - acc: 0.463 - ETA: 2s - loss: 1.0577 - acc: 0.460 - ETA: 2s - loss: 1.0579 - acc: 0.460 - ETA: 2s - loss: 1.0566 - acc: 0.462 - ETA: 2s - loss: 1.0568 - acc: 0.460 - ETA: 2s - loss: 1.0584 - acc: 0.457 - ETA: 2s - loss: 1.0586 - acc: 0.458 - ETA: 2s - loss: 1.0584 - acc: 0.459 - ETA: 2s - loss: 1.0586 - acc: 0.458 - ETA: 2s - loss: 1.0585 - acc: 0.459 - ETA: 2s - loss: 1.0585 - acc: 0.458 - ETA: 2s - loss: 1.0577 - acc: 0.460 - ETA: 1s - loss: 1.0567 - acc: 0.461 - ETA: 1s - loss: 1.0567 - acc: 0.462 - ETA: 1s - loss: 1.0562 - acc: 0.462 - ETA: 1s - loss: 1.0557 - acc: 0.463 - ETA: 1s - loss: 1.0557 - acc: 0.463 - ETA: 1s - loss: 1.0564 - acc: 0.462 - ETA: 1s - loss: 1.0568 - acc: 0.461 - ETA: 1s - loss: 1.0560 - acc: 0.462 - ETA: 1s - loss: 1.0567 - acc: 0.461 - ETA: 1s - loss: 1.0566 - acc: 0.461 - ETA: 1s - loss: 1.0569 - acc: 0.461 - ETA: 1s - loss: 1.0563 - acc: 0.462 - ETA: 1s - loss: 1.0560 - acc: 0.463 - ETA: 1s - loss: 1.0557 - acc: 0.463 - ETA: 0s - loss: 1.0563 - acc: 0.462 - ETA: 0s - loss: 1.0563 - acc: 0.462 - ETA: 0s - loss: 1.0554 - acc: 0.464 - ETA: 0s - loss: 1.0562 - acc: 0.462 - ETA: 0s - loss: 1.0565 - acc: 0.463 - ETA: 0s - loss: 1.0560 - acc: 0.464 - ETA: 0s - loss: 1.0563 - acc: 0.464 - ETA: 0s - loss: 1.0566 - acc: 0.463 - ETA: 0s - loss: 1.0569 - acc: 0.463 - ETA: 0s - loss: 1.0565 - acc: 0.464 - ETA: 0s - loss: 1.0562 - acc: 0.465 - ETA: 0s - loss: 1.0571 - acc: 0.463 - ETA: 0s - loss: 1.0563 - acc: 0.465 - ETA: 0s - loss: 1.0565 - acc: 0.465 - ETA: 0s - loss: 1.0568 - acc: 0.465 - ETA: 0s - loss: 1.0569 - acc: 0.465 - ETA: 0s - loss: 1.0575 - acc: 0.464 - 5s 572us/sample - loss: 1.0577 - acc: 0.4643 - val_loss: 1.0495 - val_acc: 0.4588\n",
      "Epoch 98/100\n"
     ]
    },
    {
     "name": "stdout",
     "output_type": "stream",
     "text": [
      "7917/7917 [==============================] - ETA: 7s - loss: 0.9943 - acc: 0.550 - ETA: 3s - loss: 1.0650 - acc: 0.443 - ETA: 3s - loss: 1.0449 - acc: 0.480 - ETA: 3s - loss: 1.0394 - acc: 0.486 - ETA: 3s - loss: 1.0531 - acc: 0.472 - ETA: 3s - loss: 1.0522 - acc: 0.473 - ETA: 4s - loss: 1.0535 - acc: 0.471 - ETA: 4s - loss: 1.0584 - acc: 0.465 - ETA: 4s - loss: 1.0591 - acc: 0.463 - ETA: 4s - loss: 1.0590 - acc: 0.464 - ETA: 4s - loss: 1.0564 - acc: 0.468 - ETA: 4s - loss: 1.0609 - acc: 0.460 - ETA: 4s - loss: 1.0613 - acc: 0.460 - ETA: 4s - loss: 1.0602 - acc: 0.463 - ETA: 3s - loss: 1.0546 - acc: 0.475 - ETA: 3s - loss: 1.0556 - acc: 0.471 - ETA: 3s - loss: 1.0548 - acc: 0.471 - ETA: 3s - loss: 1.0536 - acc: 0.472 - ETA: 3s - loss: 1.0517 - acc: 0.475 - ETA: 3s - loss: 1.0519 - acc: 0.474 - ETA: 3s - loss: 1.0534 - acc: 0.471 - ETA: 3s - loss: 1.0523 - acc: 0.474 - ETA: 3s - loss: 1.0525 - acc: 0.474 - ETA: 3s - loss: 1.0501 - acc: 0.479 - ETA: 3s - loss: 1.0499 - acc: 0.479 - ETA: 3s - loss: 1.0483 - acc: 0.481 - ETA: 3s - loss: 1.0476 - acc: 0.481 - ETA: 2s - loss: 1.0452 - acc: 0.487 - ETA: 2s - loss: 1.0473 - acc: 0.482 - ETA: 2s - loss: 1.0490 - acc: 0.478 - ETA: 2s - loss: 1.0503 - acc: 0.475 - ETA: 2s - loss: 1.0510 - acc: 0.475 - ETA: 2s - loss: 1.0511 - acc: 0.475 - ETA: 2s - loss: 1.0518 - acc: 0.473 - ETA: 2s - loss: 1.0515 - acc: 0.474 - ETA: 2s - loss: 1.0509 - acc: 0.475 - ETA: 2s - loss: 1.0506 - acc: 0.475 - ETA: 2s - loss: 1.0489 - acc: 0.478 - ETA: 2s - loss: 1.0482 - acc: 0.479 - ETA: 2s - loss: 1.0482 - acc: 0.479 - ETA: 2s - loss: 1.0487 - acc: 0.478 - ETA: 2s - loss: 1.0486 - acc: 0.478 - ETA: 2s - loss: 1.0490 - acc: 0.477 - ETA: 1s - loss: 1.0491 - acc: 0.477 - ETA: 1s - loss: 1.0491 - acc: 0.476 - ETA: 1s - loss: 1.0497 - acc: 0.476 - ETA: 1s - loss: 1.0504 - acc: 0.474 - ETA: 1s - loss: 1.0507 - acc: 0.474 - ETA: 1s - loss: 1.0505 - acc: 0.474 - ETA: 1s - loss: 1.0502 - acc: 0.475 - ETA: 1s - loss: 1.0491 - acc: 0.476 - ETA: 1s - loss: 1.0504 - acc: 0.474 - ETA: 1s - loss: 1.0502 - acc: 0.474 - ETA: 1s - loss: 1.0507 - acc: 0.474 - ETA: 1s - loss: 1.0516 - acc: 0.472 - ETA: 1s - loss: 1.0517 - acc: 0.472 - ETA: 1s - loss: 1.0524 - acc: 0.471 - ETA: 1s - loss: 1.0524 - acc: 0.470 - ETA: 0s - loss: 1.0522 - acc: 0.470 - ETA: 0s - loss: 1.0520 - acc: 0.470 - ETA: 0s - loss: 1.0519 - acc: 0.471 - ETA: 0s - loss: 1.0518 - acc: 0.471 - ETA: 0s - loss: 1.0528 - acc: 0.469 - ETA: 0s - loss: 1.0528 - acc: 0.468 - ETA: 0s - loss: 1.0529 - acc: 0.468 - ETA: 0s - loss: 1.0530 - acc: 0.467 - ETA: 0s - loss: 1.0525 - acc: 0.468 - ETA: 0s - loss: 1.0528 - acc: 0.468 - ETA: 0s - loss: 1.0528 - acc: 0.467 - ETA: 0s - loss: 1.0527 - acc: 0.467 - ETA: 0s - loss: 1.0531 - acc: 0.467 - ETA: 0s - loss: 1.0534 - acc: 0.466 - ETA: 0s - loss: 1.0537 - acc: 0.466 - ETA: 0s - loss: 1.0541 - acc: 0.465 - ETA: 0s - loss: 1.0541 - acc: 0.465 - 4s 564us/sample - loss: 1.0546 - acc: 0.4646 - val_loss: 1.0494 - val_acc: 0.4588\n",
      "Epoch 99/100\n",
      "7917/7917 [==============================] - ETA: 5s - loss: 1.0226 - acc: 0.550 - ETA: 3s - loss: 1.0952 - acc: 0.407 - ETA: 3s - loss: 1.0765 - acc: 0.446 - ETA: 3s - loss: 1.0888 - acc: 0.421 - ETA: 3s - loss: 1.0790 - acc: 0.436 - ETA: 3s - loss: 1.0790 - acc: 0.430 - ETA: 3s - loss: 1.0775 - acc: 0.434 - ETA: 3s - loss: 1.0711 - acc: 0.445 - ETA: 3s - loss: 1.0625 - acc: 0.454 - ETA: 3s - loss: 1.0625 - acc: 0.452 - ETA: 3s - loss: 1.0651 - acc: 0.449 - ETA: 3s - loss: 1.0670 - acc: 0.446 - ETA: 3s - loss: 1.0661 - acc: 0.449 - ETA: 3s - loss: 1.0682 - acc: 0.445 - ETA: 3s - loss: 1.0692 - acc: 0.443 - ETA: 3s - loss: 1.0664 - acc: 0.447 - ETA: 3s - loss: 1.0646 - acc: 0.450 - ETA: 3s - loss: 1.0631 - acc: 0.452 - ETA: 3s - loss: 1.0674 - acc: 0.446 - ETA: 3s - loss: 1.0647 - acc: 0.448 - ETA: 3s - loss: 1.0635 - acc: 0.451 - ETA: 3s - loss: 1.0646 - acc: 0.449 - ETA: 3s - loss: 1.0675 - acc: 0.444 - ETA: 3s - loss: 1.0660 - acc: 0.447 - ETA: 3s - loss: 1.0665 - acc: 0.447 - ETA: 3s - loss: 1.0655 - acc: 0.451 - ETA: 2s - loss: 1.0642 - acc: 0.453 - ETA: 2s - loss: 1.0628 - acc: 0.455 - ETA: 2s - loss: 1.0636 - acc: 0.454 - ETA: 2s - loss: 1.0631 - acc: 0.456 - ETA: 2s - loss: 1.0618 - acc: 0.458 - ETA: 2s - loss: 1.0613 - acc: 0.457 - ETA: 2s - loss: 1.0599 - acc: 0.459 - ETA: 2s - loss: 1.0587 - acc: 0.461 - ETA: 2s - loss: 1.0581 - acc: 0.461 - ETA: 2s - loss: 1.0577 - acc: 0.462 - ETA: 2s - loss: 1.0574 - acc: 0.462 - ETA: 2s - loss: 1.0580 - acc: 0.461 - ETA: 2s - loss: 1.0587 - acc: 0.459 - ETA: 1s - loss: 1.0592 - acc: 0.459 - ETA: 1s - loss: 1.0597 - acc: 0.458 - ETA: 1s - loss: 1.0595 - acc: 0.458 - ETA: 1s - loss: 1.0592 - acc: 0.458 - ETA: 1s - loss: 1.0586 - acc: 0.459 - ETA: 1s - loss: 1.0596 - acc: 0.458 - ETA: 1s - loss: 1.0589 - acc: 0.459 - ETA: 1s - loss: 1.0587 - acc: 0.459 - ETA: 1s - loss: 1.0580 - acc: 0.459 - ETA: 1s - loss: 1.0580 - acc: 0.459 - ETA: 1s - loss: 1.0583 - acc: 0.460 - ETA: 1s - loss: 1.0586 - acc: 0.459 - ETA: 1s - loss: 1.0581 - acc: 0.460 - ETA: 1s - loss: 1.0589 - acc: 0.458 - ETA: 1s - loss: 1.0580 - acc: 0.460 - ETA: 1s - loss: 1.0590 - acc: 0.459 - ETA: 1s - loss: 1.0592 - acc: 0.459 - ETA: 0s - loss: 1.0586 - acc: 0.460 - ETA: 0s - loss: 1.0580 - acc: 0.461 - ETA: 0s - loss: 1.0576 - acc: 0.462 - ETA: 0s - loss: 1.0571 - acc: 0.463 - ETA: 0s - loss: 1.0576 - acc: 0.462 - ETA: 0s - loss: 1.0574 - acc: 0.463 - ETA: 0s - loss: 1.0571 - acc: 0.463 - ETA: 0s - loss: 1.0575 - acc: 0.462 - ETA: 0s - loss: 1.0575 - acc: 0.462 - ETA: 0s - loss: 1.0574 - acc: 0.462 - ETA: 0s - loss: 1.0571 - acc: 0.463 - ETA: 0s - loss: 1.0560 - acc: 0.464 - ETA: 0s - loss: 1.0566 - acc: 0.463 - ETA: 0s - loss: 1.0569 - acc: 0.463 - ETA: 0s - loss: 1.0561 - acc: 0.463 - ETA: 0s - loss: 1.0557 - acc: 0.464 - 4s 534us/sample - loss: 1.0554 - acc: 0.4649 - val_loss: 1.0493 - val_acc: 0.4588\n",
      "Epoch 100/100\n",
      "7917/7917 [==============================] - ETA: 8s - loss: 1.1662 - acc: 0.350 - ETA: 4s - loss: 1.0568 - acc: 0.464 - ETA: 4s - loss: 1.0549 - acc: 0.462 - ETA: 3s - loss: 1.0740 - acc: 0.436 - ETA: 3s - loss: 1.0703 - acc: 0.438 - ETA: 3s - loss: 1.0612 - acc: 0.448 - ETA: 3s - loss: 1.0598 - acc: 0.454 - ETA: 3s - loss: 1.0535 - acc: 0.460 - ETA: 3s - loss: 1.0516 - acc: 0.462 - ETA: 3s - loss: 1.0497 - acc: 0.466 - ETA: 3s - loss: 1.0500 - acc: 0.466 - ETA: 3s - loss: 1.0476 - acc: 0.470 - ETA: 3s - loss: 1.0438 - acc: 0.478 - ETA: 3s - loss: 1.0481 - acc: 0.471 - ETA: 3s - loss: 1.0493 - acc: 0.470 - ETA: 3s - loss: 1.0525 - acc: 0.466 - ETA: 2s - loss: 1.0554 - acc: 0.463 - ETA: 2s - loss: 1.0560 - acc: 0.462 - ETA: 2s - loss: 1.0564 - acc: 0.462 - ETA: 2s - loss: 1.0555 - acc: 0.463 - ETA: 2s - loss: 1.0556 - acc: 0.463 - ETA: 2s - loss: 1.0548 - acc: 0.466 - ETA: 2s - loss: 1.0563 - acc: 0.463 - ETA: 2s - loss: 1.0557 - acc: 0.464 - ETA: 2s - loss: 1.0545 - acc: 0.467 - ETA: 2s - loss: 1.0556 - acc: 0.464 - ETA: 2s - loss: 1.0554 - acc: 0.466 - ETA: 2s - loss: 1.0551 - acc: 0.467 - ETA: 2s - loss: 1.0548 - acc: 0.467 - ETA: 2s - loss: 1.0549 - acc: 0.466 - ETA: 2s - loss: 1.0567 - acc: 0.464 - ETA: 2s - loss: 1.0567 - acc: 0.463 - ETA: 2s - loss: 1.0567 - acc: 0.463 - ETA: 2s - loss: 1.0574 - acc: 0.462 - ETA: 2s - loss: 1.0571 - acc: 0.462 - ETA: 2s - loss: 1.0562 - acc: 0.464 - ETA: 2s - loss: 1.0559 - acc: 0.465 - ETA: 2s - loss: 1.0560 - acc: 0.464 - ETA: 2s - loss: 1.0548 - acc: 0.465 - ETA: 2s - loss: 1.0554 - acc: 0.464 - ETA: 2s - loss: 1.0552 - acc: 0.464 - ETA: 2s - loss: 1.0549 - acc: 0.465 - ETA: 2s - loss: 1.0553 - acc: 0.464 - ETA: 2s - loss: 1.0558 - acc: 0.463 - ETA: 2s - loss: 1.0560 - acc: 0.463 - ETA: 2s - loss: 1.0546 - acc: 0.465 - ETA: 1s - loss: 1.0540 - acc: 0.466 - ETA: 1s - loss: 1.0535 - acc: 0.466 - ETA: 1s - loss: 1.0534 - acc: 0.466 - ETA: 1s - loss: 1.0540 - acc: 0.465 - ETA: 1s - loss: 1.0544 - acc: 0.464 - ETA: 1s - loss: 1.0544 - acc: 0.464 - ETA: 1s - loss: 1.0552 - acc: 0.463 - ETA: 1s - loss: 1.0557 - acc: 0.462 - ETA: 1s - loss: 1.0557 - acc: 0.462 - ETA: 1s - loss: 1.0560 - acc: 0.461 - ETA: 1s - loss: 1.0560 - acc: 0.461 - ETA: 1s - loss: 1.0563 - acc: 0.460 - ETA: 1s - loss: 1.0552 - acc: 0.462 - ETA: 1s - loss: 1.0558 - acc: 0.462 - ETA: 1s - loss: 1.0558 - acc: 0.462 - ETA: 0s - loss: 1.0552 - acc: 0.463 - ETA: 0s - loss: 1.0549 - acc: 0.464 - ETA: 0s - loss: 1.0546 - acc: 0.464 - ETA: 0s - loss: 1.0542 - acc: 0.465 - ETA: 0s - loss: 1.0540 - acc: 0.466 - ETA: 0s - loss: 1.0542 - acc: 0.465 - ETA: 0s - loss: 1.0542 - acc: 0.466 - ETA: 0s - loss: 1.0537 - acc: 0.466 - ETA: 0s - loss: 1.0544 - acc: 0.465 - ETA: 0s - loss: 1.0556 - acc: 0.463 - ETA: 0s - loss: 1.0556 - acc: 0.463 - ETA: 0s - loss: 1.0550 - acc: 0.464 - ETA: 0s - loss: 1.0556 - acc: 0.463 - ETA: 0s - loss: 1.0553 - acc: 0.464 - ETA: 0s - loss: 1.0550 - acc: 0.464 - ETA: 0s - loss: 1.0548 - acc: 0.464 - ETA: 0s - loss: 1.0546 - acc: 0.465 - ETA: 0s - loss: 1.0549 - acc: 0.464 - 5s 586us/sample - loss: 1.0549 - acc: 0.4644 - val_loss: 1.0491 - val_acc: 0.4588\n",
      "\n",
      "# Evaluate on test data\n",
      "1833/1833 [==============================] - ETA: 0s - loss: 1.0705 - acc: 0.414 - ETA: 0s - loss: 1.0500 - acc: 0.454 - ETA: 0s - loss: 1.0524 - acc: 0.452 - ETA: 0s - loss: 1.0481 - acc: 0.459 - 0s 110us/sample - loss: 1.0491 - acc: 0.4588\n",
      "test loss, test acc: [1.0491401321303955, 0.4588107]\n",
      "\n",
      "# Generate predictions for 3 samples\n",
      "predictions shape: (3, 3)\n"
     ]
    }
   ],
   "source": [
    "final_model = tf.keras.models.Sequential()\n",
    "    \n",
    "final_model.add(tf.keras.layers.Dense(100, input_dim=n_features, activation = tf.nn.relu))\n",
    "final_model.add(tf.keras.layers.Dropout(0.2))\n",
    "\n",
    "for i in range(2):\n",
    "    final_model.add(tf.keras.layers.Dense(150, activation = tf.nn.relu))\n",
    "    final_model.add(tf.keras.layers.Dropout(0.2))\n",
    "\n",
    "final_model.add(tf.keras.layers.Dense(30, input_dim=n_features, activation = tf.nn.relu)) \n",
    "final_model.add(tf.keras.layers.Dropout(0.2))\n",
    "\n",
    "#Output layer\n",
    "final_model.add(tf.keras.layers.Dense(n_classes,activation = tf.nn.softmax))\n",
    "\n",
    "#Compile\n",
    "final_model.compile(optimizer = tf.keras.optimizers.SGD(lr=0.0001),\n",
    "              loss = 'categorical_crossentropy',\n",
    "              metrics = [\"accuracy\"])\n",
    "\n",
    "#Fit\n",
    "final_model.fit(train_X_scaled, train_Y_onehot_encoded,\n",
    "          batch_size=20,\n",
    "          epochs=100,\n",
    "          validation_data=(test_X_scaled, test_Y_onehot_encoded))\n",
    "\n",
    "# Evaluate the model on the test data using `evaluate`\n",
    "print('\\n# Evaluate on test data')\n",
    "results = final_model.evaluate(test_X_scaled, test_Y_onehot_encoded, batch_size=128)\n",
    "print('test loss, test acc:', results)\n",
    "\n",
    "# Generate predictions (probabilities -- the output of the last layer)\n",
    "# on new data using `predict`\n",
    "print('\\n# Generate predictions for 3 samples')\n",
    "predictions = final_model.predict(test_X_scaled[:3])\n",
    "print('predictions shape:', predictions.shape)\n"
   ]
  },
  {
   "cell_type": "markdown",
   "metadata": {},
   "source": [
    "# Function to optimize"
   ]
  },
  {
   "cell_type": "raw",
   "metadata": {},
   "source": [
    "Expected gain when you bet on a result\n",
    "E(G) = probability x (odd - 1) - (1 - probability) x 1\n",
    "E(G) = probability x odd - 1"
   ]
  },
  {
   "cell_type": "code",
   "execution_count": 34,
   "metadata": {},
   "outputs": [
    {
     "data": {
      "image/png": "[encoded data removed]",
      "text/plain": [
       "<Figure size 432x288 with 2 Axes>"
      ]
     },
     "metadata": {
      "needs_background": "light"
     },
     "output_type": "display_data"
    }
   ],
   "source": [
    "from numpy import arange\n",
    "from pylab import meshgrid,cm,imshow,contour,clabel,colorbar,axis,title,show\n",
    "\n",
    "# the function that I'm going to plot\n",
    "def z_func(x,y):\n",
    "    return (x*y - 1)\n",
    " \n",
    "prob = arange(0.0,1.0,0.01)\n",
    "odd = arange(1.0,5.0,0.05)\n",
    "X,Y = meshgrid(prob, odd) # grid of point\n",
    "Z = z_func(X, Y) # evaluation of the function on the grid\n",
    "\n",
    "im = imshow(Z,origin = 'lower') # drawing the function\n",
    "\n",
    "# adding the Contour lines with labels\n",
    "cset = contour(Z,[0.0, 0.5],linewidths=1,cmap=cm.Set2)\n",
    "clabel(cset,inline=True,fmt='%1.1f',fontsize=10)\n",
    "\n",
    "colorbar(im) # adding the colobar on the right\n",
    "\n",
    "show()"
   ]
  },
  {
   "cell_type": "markdown",
   "metadata": {},
   "source": [
    "# Performance analysis"
   ]
  },
  {
   "cell_type": "markdown",
   "metadata": {},
   "source": [
    "## Calculations of expected gain for each result"
   ]
  },
  {
   "cell_type": "code",
   "execution_count": 35,
   "metadata": {},
   "outputs": [
    {
     "data": {
      "text/html": [
       "<div>\n",
       "<style scoped>\n",
       "    .dataframe tbody tr th:only-of-type {\n",
       "        vertical-align: middle;\n",
       "    }\n",
       "\n",
       "    .dataframe tbody tr th {\n",
       "        vertical-align: top;\n",
       "    }\n",
       "\n",
       "    .dataframe thead th {\n",
       "        text-align: right;\n",
       "    }\n",
       "</style>\n",
       "<table border=\"1\" class=\"dataframe\">\n",
       "  <thead>\n",
       "    <tr style=\"text-align: right;\">\n",
       "      <th></th>\n",
       "      <th>FTR</th>\n",
       "      <th>IWA</th>\n",
       "      <th>IWD</th>\n",
       "      <th>IWH</th>\n",
       "      <th>P(A)</th>\n",
       "      <th>E(A)</th>\n",
       "      <th>P(D)</th>\n",
       "      <th>E(D)</th>\n",
       "      <th>P(H)</th>\n",
       "      <th>E(H)</th>\n",
       "    </tr>\n",
       "  </thead>\n",
       "  <tbody>\n",
       "    <tr>\n",
       "      <td>150</td>\n",
       "      <td>H</td>\n",
       "      <td>3.05</td>\n",
       "      <td>3.20</td>\n",
       "      <td>2.40</td>\n",
       "      <td>0.102017</td>\n",
       "      <td>-0.688847</td>\n",
       "      <td>0.124834</td>\n",
       "      <td>-0.600530</td>\n",
       "      <td>0.773148</td>\n",
       "      <td>0.855556</td>\n",
       "    </tr>\n",
       "    <tr>\n",
       "      <td>151</td>\n",
       "      <td>D</td>\n",
       "      <td>3.60</td>\n",
       "      <td>3.30</td>\n",
       "      <td>2.10</td>\n",
       "      <td>0.695016</td>\n",
       "      <td>1.502056</td>\n",
       "      <td>0.135198</td>\n",
       "      <td>-0.553848</td>\n",
       "      <td>0.169787</td>\n",
       "      <td>-0.643448</td>\n",
       "    </tr>\n",
       "    <tr>\n",
       "      <td>152</td>\n",
       "      <td>H</td>\n",
       "      <td>2.80</td>\n",
       "      <td>3.20</td>\n",
       "      <td>2.60</td>\n",
       "      <td>0.032013</td>\n",
       "      <td>-0.910365</td>\n",
       "      <td>0.061107</td>\n",
       "      <td>-0.804459</td>\n",
       "      <td>0.906881</td>\n",
       "      <td>1.357891</td>\n",
       "    </tr>\n",
       "    <tr>\n",
       "      <td>153</td>\n",
       "      <td>A</td>\n",
       "      <td>2.60</td>\n",
       "      <td>3.30</td>\n",
       "      <td>2.70</td>\n",
       "      <td>0.708174</td>\n",
       "      <td>0.841254</td>\n",
       "      <td>0.120654</td>\n",
       "      <td>-0.601843</td>\n",
       "      <td>0.171172</td>\n",
       "      <td>-0.537836</td>\n",
       "    </tr>\n",
       "    <tr>\n",
       "      <td>154</td>\n",
       "      <td>H</td>\n",
       "      <td>2.85</td>\n",
       "      <td>3.10</td>\n",
       "      <td>2.60</td>\n",
       "      <td>0.744800</td>\n",
       "      <td>1.122680</td>\n",
       "      <td>0.089703</td>\n",
       "      <td>-0.721922</td>\n",
       "      <td>0.165497</td>\n",
       "      <td>-0.569707</td>\n",
       "    </tr>\n",
       "    <tr>\n",
       "      <td>...</td>\n",
       "      <td>...</td>\n",
       "      <td>...</td>\n",
       "      <td>...</td>\n",
       "      <td>...</td>\n",
       "      <td>...</td>\n",
       "      <td>...</td>\n",
       "      <td>...</td>\n",
       "      <td>...</td>\n",
       "      <td>...</td>\n",
       "      <td>...</td>\n",
       "    </tr>\n",
       "    <tr>\n",
       "      <td>199</td>\n",
       "      <td>A</td>\n",
       "      <td>2.90</td>\n",
       "      <td>3.40</td>\n",
       "      <td>2.40</td>\n",
       "      <td>0.090730</td>\n",
       "      <td>-0.736882</td>\n",
       "      <td>0.153352</td>\n",
       "      <td>-0.478604</td>\n",
       "      <td>0.755918</td>\n",
       "      <td>0.814203</td>\n",
       "    </tr>\n",
       "    <tr>\n",
       "      <td>200</td>\n",
       "      <td>D</td>\n",
       "      <td>4.75</td>\n",
       "      <td>4.30</td>\n",
       "      <td>1.65</td>\n",
       "      <td>0.878980</td>\n",
       "      <td>3.175155</td>\n",
       "      <td>0.069020</td>\n",
       "      <td>-0.703214</td>\n",
       "      <td>0.052000</td>\n",
       "      <td>-0.914200</td>\n",
       "    </tr>\n",
       "    <tr>\n",
       "      <td>202</td>\n",
       "      <td>A</td>\n",
       "      <td>1.80</td>\n",
       "      <td>3.95</td>\n",
       "      <td>4.15</td>\n",
       "      <td>0.922846</td>\n",
       "      <td>0.661123</td>\n",
       "      <td>0.064077</td>\n",
       "      <td>-0.746896</td>\n",
       "      <td>0.013077</td>\n",
       "      <td>-0.945731</td>\n",
       "    </tr>\n",
       "    <tr>\n",
       "      <td>203</td>\n",
       "      <td>H</td>\n",
       "      <td>6.10</td>\n",
       "      <td>4.70</td>\n",
       "      <td>1.48</td>\n",
       "      <td>0.033013</td>\n",
       "      <td>-0.798624</td>\n",
       "      <td>0.041107</td>\n",
       "      <td>-0.806799</td>\n",
       "      <td>0.925881</td>\n",
       "      <td>0.370304</td>\n",
       "    </tr>\n",
       "    <tr>\n",
       "      <td>204</td>\n",
       "      <td>H</td>\n",
       "      <td>4.30</td>\n",
       "      <td>3.85</td>\n",
       "      <td>1.80</td>\n",
       "      <td>0.249756</td>\n",
       "      <td>0.073952</td>\n",
       "      <td>0.080335</td>\n",
       "      <td>-0.690709</td>\n",
       "      <td>0.669908</td>\n",
       "      <td>0.205835</td>\n",
       "    </tr>\n",
       "  </tbody>\n",
       "</table>\n",
       "<p>1463 rows × 10 columns</p>\n",
       "</div>"
      ],
      "text/plain": [
       "    FTR   IWA   IWD   IWH      P(A)      E(A)      P(D)      E(D)      P(H)  \\\n",
       "150   H  3.05  3.20  2.40  0.102017 -0.688847  0.124834 -0.600530  0.773148   \n",
       "151   D  3.60  3.30  2.10  0.695016  1.502056  0.135198 -0.553848  0.169787   \n",
       "152   H  2.80  3.20  2.60  0.032013 -0.910365  0.061107 -0.804459  0.906881   \n",
       "153   A  2.60  3.30  2.70  0.708174  0.841254  0.120654 -0.601843  0.171172   \n",
       "154   H  2.85  3.10  2.60  0.744800  1.122680  0.089703 -0.721922  0.165497   \n",
       "..   ..   ...   ...   ...       ...       ...       ...       ...       ...   \n",
       "199   A  2.90  3.40  2.40  0.090730 -0.736882  0.153352 -0.478604  0.755918   \n",
       "200   D  4.75  4.30  1.65  0.878980  3.175155  0.069020 -0.703214  0.052000   \n",
       "202   A  1.80  3.95  4.15  0.922846  0.661123  0.064077 -0.746896  0.013077   \n",
       "203   H  6.10  4.70  1.48  0.033013 -0.798624  0.041107 -0.806799  0.925881   \n",
       "204   H  4.30  3.85  1.80  0.249756  0.073952  0.080335 -0.690709  0.669908   \n",
       "\n",
       "         E(H)  \n",
       "150  0.855556  \n",
       "151 -0.643448  \n",
       "152  1.357891  \n",
       "153 -0.537836  \n",
       "154 -0.569707  \n",
       "..        ...  \n",
       "199  0.814203  \n",
       "200 -0.914200  \n",
       "202 -0.945731  \n",
       "203  0.370304  \n",
       "204  0.205835  \n",
       "\n",
       "[1463 rows x 10 columns]"
      ]
     },
     "execution_count": 35,
     "metadata": {},
     "output_type": "execute_result"
    }
   ],
   "source": [
    "performance_df = test_df[['FTR','IWA','IWD','IWH']]\n",
    "performance_df['P(A)']= pd.DataFrame(data = results['Random Forest'][:,0], columns = ['P(A)'])\n",
    "performance_df['E(A)']= performance_df['P(A)'] * performance_df['IWA'] - 1.0\n",
    "performance_df['P(D)']= pd.DataFrame(data = results['Random Forest'][:,1], columns = ['P(D)'])\n",
    "performance_df['E(D)']= performance_df['P(D)'] * performance_df['IWD'] - 1.0\n",
    "performance_df['P(H)']= pd.DataFrame(data = results['Random Forest'][:,2], columns = ['P(H)'])\n",
    "performance_df['E(H)']= performance_df['P(H)'] * performance_df['IWH'] - 1.0\n",
    "performance_df"
   ]
  },
  {
   "cell_type": "markdown",
   "metadata": {},
   "source": [
    "## Selection of results to bet on and their actual performances"
   ]
  },
  {
   "cell_type": "code",
   "execution_count": 51,
   "metadata": {},
   "outputs": [],
   "source": [
    "#Floor and cap on expected gain to consider\n",
    "floor = 1.0\n",
    "cap = 15.0"
   ]
  },
  {
   "cell_type": "markdown",
   "metadata": {},
   "source": [
    "### Draws performance"
   ]
  },
  {
   "cell_type": "code",
   "execution_count": 52,
   "metadata": {},
   "outputs": [
    {
     "data": {
      "text/plain": [
       "-44.7"
      ]
     },
     "execution_count": 52,
     "metadata": {},
     "output_type": "execute_result"
    }
   ],
   "source": [
    "#Selection of the draws\n",
    "draw_floor = performance_df['E(D)'] > floor\n",
    "draw_cap = performance_df['E(D)'] < cap\n",
    "selected_draw = performance_df[draw_floor & draw_cap]\n",
    "\n",
    "#Computation of actual gains on draws\n",
    "selected_draw['Gain'] = 0.0\n",
    "is_Draw = selected_draw['FTR'] == 'D'\n",
    "not_Draw = selected_draw['FTR'] != 'D'\n",
    "selected_draw.loc[not_Draw, 'Gain'] = -1.0\n",
    "selected_draw.loc[is_Draw, 'Gain'] = selected_draw.loc[is_Draw,'IWD'] - 1.0\n",
    "selected_draw['Gain'].sum()"
   ]
  },
  {
   "cell_type": "markdown",
   "metadata": {},
   "source": [
    "### Aways performance"
   ]
  },
  {
   "cell_type": "code",
   "execution_count": 53,
   "metadata": {},
   "outputs": [
    {
     "data": {
      "text/plain": [
       "-15.20000000000001"
      ]
     },
     "execution_count": 53,
     "metadata": {},
     "output_type": "execute_result"
    }
   ],
   "source": [
    "#Selection of the aways\n",
    "away_floor = performance_df['E(A)'] > floor\n",
    "away_cap = performance_df['E(A)'] < cap\n",
    "selected_away = performance_df[away_floor & away_cap]\n",
    "\n",
    "#Computation of actual gains on aways\n",
    "selected_away['Gain'] = 0.0\n",
    "is_Away = selected_away['FTR'] == 'A'\n",
    "not_Away = selected_away['FTR'] != 'A'\n",
    "selected_away.loc[not_Away, 'Gain'] = -1.0\n",
    "selected_away.loc[is_Away, 'Gain'] = selected_away.loc[is_Away,'IWA'] - 1.0\n",
    "selected_away['Gain'].sum()"
   ]
  },
  {
   "cell_type": "markdown",
   "metadata": {},
   "source": [
    "### Homes performance"
   ]
  },
  {
   "cell_type": "code",
   "execution_count": 54,
   "metadata": {},
   "outputs": [
    {
     "data": {
      "text/plain": [
       "10.25"
      ]
     },
     "execution_count": 54,
     "metadata": {},
     "output_type": "execute_result"
    }
   ],
   "source": [
    "#Selection of the homes\n",
    "home_floor = performance_df['E(H)'] > floor\n",
    "home_cap = performance_df['E(H)'] < cap\n",
    "selected_home = performance_df[home_floor & home_cap]\n",
    "\n",
    "#Computation of actual gains on aways\n",
    "selected_home['Gain'] = 0.0\n",
    "is_Home = selected_home['FTR'] == 'H'\n",
    "not_Home = selected_home['FTR'] != 'H'\n",
    "selected_home.loc[not_Home, 'Gain'] = -1.0\n",
    "selected_home.loc[is_Home, 'Gain'] = selected_home.loc[is_Home,'IWH'] - 1.0\n",
    "selected_home['Gain'].sum()"
   ]
  },
  {
   "cell_type": "code",
   "execution_count": 55,
   "metadata": {},
   "outputs": [
    {
     "data": {
      "text/plain": [
       "<matplotlib.axes._subplots.AxesSubplot at 0x157eb7910>"
      ]
     },
     "execution_count": 55,
     "metadata": {},
     "output_type": "execute_result"
    },
    {
     "data": {
      "image/png": "[encoded data removed]",
      "text/plain": [
       "<Figure size 1440x864 with 2 Axes>"
      ]
     },
     "metadata": {
      "needs_background": "light"
     },
     "output_type": "display_data"
    }
   ],
   "source": [
    "import matplotlib.pyplot as plt\n",
    "corr_mat = train_df.corr()\n",
    "fig, ax = plt.subplots(figsize=(20, 12)) \n",
    "sns.heatmap(corr_mat, vmax=1.0, square=True, ax=ax)"
   ]
  },
  {
   "cell_type": "code",
   "execution_count": null,
   "metadata": {},
   "outputs": [],
   "source": []
  }
 ],
 "metadata": {
  "kernelspec": {
   "display_name": "Python 3",
   "language": "python",
   "name": "python3"
  },
  "language_info": {
   "codemirror_mode": {
    "name": "ipython",
    "version": 3
   },
   "file_extension": ".py",
   "mimetype": "text/x-python",
   "name": "python",
   "nbconvert_exporter": "python",
   "pygments_lexer": "ipython3",
   "version": "3.7.4"
  }
 },
 "nbformat": 4,
 "nbformat_minor": 2
}
